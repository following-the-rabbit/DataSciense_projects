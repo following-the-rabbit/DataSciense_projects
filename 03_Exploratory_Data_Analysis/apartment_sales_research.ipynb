{
 "cells": [
  {
   "cell_type": "markdown",
   "metadata": {
    "toc": true
   },
   "source": [
    "<h1>Содержание<span class=\"tocSkip\"></span></h1>\n",
    "<div class=\"toc\"><ul class=\"toc-item\"><li><span><a href=\"#Изучение-данных\" data-toc-modified-id=\"Изучение-данных-1\"><span class=\"toc-item-num\">1&nbsp;&nbsp;</span>Изучение данных</a></span></li><li><span><a href=\"#Предобработка-данных\" data-toc-modified-id=\"Предобработка-данных-2\"><span class=\"toc-item-num\">2&nbsp;&nbsp;</span>Предобработка данных</a></span><ul class=\"toc-item\"><li><span><a href=\"#Обработка-пропусков\" data-toc-modified-id=\"Обработка-пропусков-2.1\"><span class=\"toc-item-num\">2.1&nbsp;&nbsp;</span>Обработка пропусков</a></span></li><li><span><a href=\"#Добавление-новых-столбцов.\" data-toc-modified-id=\"Добавление-новых-столбцов.-2.2\"><span class=\"toc-item-num\">2.2&nbsp;&nbsp;</span>Добавление новых столбцов.</a></span></li><li><span><a href=\"#Замена-типов-данных.\" data-toc-modified-id=\"Замена-типов-данных.-2.3\"><span class=\"toc-item-num\">2.3&nbsp;&nbsp;</span>Замена типов данных.</a></span></li></ul></li><li><span><a href=\"#Исследовательский-анализ-данных\" data-toc-modified-id=\"Исследовательский-анализ-данных-3\"><span class=\"toc-item-num\">3&nbsp;&nbsp;</span>Исследовательский анализ данных</a></span><ul class=\"toc-item\"><li><span><a href=\"#Первичный-анализ\" data-toc-modified-id=\"Первичный-анализ-3.1\"><span class=\"toc-item-num\">3.1&nbsp;&nbsp;</span>Первичный анализ</a></span></li><li><span><a href=\"#Время-продажи-квартиры.\" data-toc-modified-id=\"Время-продажи-квартиры.-3.2\"><span class=\"toc-item-num\">3.2&nbsp;&nbsp;</span>Время продажи квартиры.</a></span></li><li><span><a href=\"#Редкие-и-выбивающиеся-значения.\" data-toc-modified-id=\"Редкие-и-выбивающиеся-значения.-3.3\"><span class=\"toc-item-num\">3.3&nbsp;&nbsp;</span>Редкие и выбивающиеся значения.</a></span></li><li><span><a href=\"#Стоимость-квартиры-в-СПб.\" data-toc-modified-id=\"Стоимость-квартиры-в-СПб.-3.4\"><span class=\"toc-item-num\">3.4&nbsp;&nbsp;</span>Стоимость квартиры в СПб.</a></span><ul class=\"toc-item\"><li><span><a href=\"#Факторы,-влияющие-на-стоимость-квартиры--в-СПб.\" data-toc-modified-id=\"Факторы,-влияющие-на-стоимость-квартиры--в-СПб.-3.4.1\"><span class=\"toc-item-num\">3.4.1&nbsp;&nbsp;</span>Факторы, влияющие на стоимость квартиры  в СПб.</a></span></li><li><span><a href=\"#Вывод\" data-toc-modified-id=\"Вывод-3.4.2\"><span class=\"toc-item-num\">3.4.2&nbsp;&nbsp;</span>Вывод</a></span></li></ul></li><li><span><a href=\"#Топ---10-населённых-пунктов-с-наибольшим-числом-объявлений.\" data-toc-modified-id=\"Топ---10-населённых-пунктов-с-наибольшим-числом-объявлений.-3.5\"><span class=\"toc-item-num\">3.5&nbsp;&nbsp;</span>Топ - 10 населённых пунктов с наибольшим числом объявлений.</a></span></li><li><span><a href=\"#Зависимость-стоимости-квадратного-метро-от-удаленности-от-центра:\" data-toc-modified-id=\"Зависимость-стоимости-квадратного-метро-от-удаленности-от-центра:-3.6\"><span class=\"toc-item-num\">3.6&nbsp;&nbsp;</span>Зависимость стоимости квадратного метро от удаленности от центра:</a></span></li><li><span><a href=\"#Недвижимость-в-центре-СПб.\" data-toc-modified-id=\"Недвижимость-в-центре-СПб.-3.7\"><span class=\"toc-item-num\">3.7&nbsp;&nbsp;</span>Недвижимость в центре СПб.</a></span><ul class=\"toc-item\"><li><span><a href=\"#Факторы,-влияющие-на-стоимость-квартиры-в-центре-СПБ-(число-комнат,-этаж,-удалённость-от-центра,-дата-размещения-объявления).\" data-toc-modified-id=\"Факторы,-влияющие-на-стоимость-квартиры-в-центре-СПБ-(число-комнат,-этаж,-удалённость-от-центра,-дата-размещения-объявления).-3.7.1\"><span class=\"toc-item-num\">3.7.1&nbsp;&nbsp;</span>Факторы, влияющие на стоимость квартиры в центре СПБ (число комнат, этаж, удалённость от центра, дата размещения объявления).</a></span></li><li><span><a href=\"#Вывод\" data-toc-modified-id=\"Вывод-3.7.2\"><span class=\"toc-item-num\">3.7.2&nbsp;&nbsp;</span>Вывод</a></span></li></ul></li></ul></li><li><span><a href=\"#Общий-вывод\" data-toc-modified-id=\"Общий-вывод-4\"><span class=\"toc-item-num\">4&nbsp;&nbsp;</span>Общий вывод</a></span></li><li><span><a href=\"#Чек-лист-готовности-проекта\" data-toc-modified-id=\"Чек-лист-готовности-проекта-5\"><span class=\"toc-item-num\">5&nbsp;&nbsp;</span>Чек-лист готовности проекта</a></span></li></ul></div>"
   ]
  },
  {
   "cell_type": "markdown",
   "metadata": {},
   "source": [
    "# Тема: Исследовательский анализ данных\n",
    "# Проект: Исследование объявлений о продаже квартир\n",
    "# Описание проекта\n",
    "\n",
    "В распоряжении данные сервиса Яндекc Недвижимость — архив объявлений о продаже квартир в Санкт-Петербурге и соседних населённых пунктах за несколько лет. Нужно научиться определять рыночную стоимость объектов недвижимости. Задача — установить параметры. Это позволит построить автоматизированную систему: она отследит аномалии и мошенническую деятельность. \n",
    "\n",
    "По каждой квартире на продажу доступны два вида данных. Первые вписаны пользователем, вторые получены автоматически на основе картографических данных. Например, расстояние до центра, аэропорта, ближайшего парка и водоёма. "
   ]
  },
  {
   "cell_type": "markdown",
   "metadata": {},
   "source": [
    "## Изучение данных"
   ]
  },
  {
   "cell_type": "markdown",
   "metadata": {},
   "source": [
    "Импортируем необходимые библиотеки."
   ]
  },
  {
   "cell_type": "code",
   "execution_count": 1,
   "metadata": {},
   "outputs": [],
   "source": [
    "import numpy as np\n",
    "import pandas as pd\n",
    "import matplotlib.pyplot as plt \n",
    "import seaborn as sns"
   ]
  },
  {
   "cell_type": "markdown",
   "metadata": {},
   "source": [
    "Прочтем файл `data.csv` и сохраним его в переменной `df`:"
   ]
  },
  {
   "cell_type": "code",
   "execution_count": 2,
   "metadata": {},
   "outputs": [],
   "source": [
    "try:    \n",
    "    df = pd.read_csv('D:/notebook/project_3/real_estate_data.csv', sep='\\t')   \n",
    "except:\n",
    "    df = pd.read_csv('/datasets/real_estate_data.csv', sep='\\t')"
   ]
  },
  {
   "cell_type": "markdown",
   "metadata": {},
   "source": [
    "Выведем на экран первые пять строк таблицы:"
   ]
  },
  {
   "cell_type": "code",
   "execution_count": 3,
   "metadata": {},
   "outputs": [
    {
     "data": {
      "text/html": [
       "<div>\n",
       "<style scoped>\n",
       "    .dataframe tbody tr th:only-of-type {\n",
       "        vertical-align: middle;\n",
       "    }\n",
       "\n",
       "    .dataframe tbody tr th {\n",
       "        vertical-align: top;\n",
       "    }\n",
       "\n",
       "    .dataframe thead th {\n",
       "        text-align: right;\n",
       "    }\n",
       "</style>\n",
       "<table border=\"1\" class=\"dataframe\">\n",
       "  <thead>\n",
       "    <tr style=\"text-align: right;\">\n",
       "      <th></th>\n",
       "      <th>total_images</th>\n",
       "      <th>last_price</th>\n",
       "      <th>total_area</th>\n",
       "      <th>first_day_exposition</th>\n",
       "      <th>rooms</th>\n",
       "      <th>ceiling_height</th>\n",
       "      <th>floors_total</th>\n",
       "      <th>living_area</th>\n",
       "      <th>floor</th>\n",
       "      <th>is_apartment</th>\n",
       "      <th>...</th>\n",
       "      <th>kitchen_area</th>\n",
       "      <th>balcony</th>\n",
       "      <th>locality_name</th>\n",
       "      <th>airports_nearest</th>\n",
       "      <th>cityCenters_nearest</th>\n",
       "      <th>parks_around3000</th>\n",
       "      <th>parks_nearest</th>\n",
       "      <th>ponds_around3000</th>\n",
       "      <th>ponds_nearest</th>\n",
       "      <th>days_exposition</th>\n",
       "    </tr>\n",
       "  </thead>\n",
       "  <tbody>\n",
       "    <tr>\n",
       "      <th>0</th>\n",
       "      <td>20</td>\n",
       "      <td>13000000.0</td>\n",
       "      <td>108.0</td>\n",
       "      <td>2019-03-07T00:00:00</td>\n",
       "      <td>3</td>\n",
       "      <td>2.70</td>\n",
       "      <td>16.0</td>\n",
       "      <td>51.0</td>\n",
       "      <td>8</td>\n",
       "      <td>NaN</td>\n",
       "      <td>...</td>\n",
       "      <td>25.0</td>\n",
       "      <td>NaN</td>\n",
       "      <td>Санкт-Петербург</td>\n",
       "      <td>18863.0</td>\n",
       "      <td>16028.0</td>\n",
       "      <td>1.0</td>\n",
       "      <td>482.0</td>\n",
       "      <td>2.0</td>\n",
       "      <td>755.0</td>\n",
       "      <td>NaN</td>\n",
       "    </tr>\n",
       "    <tr>\n",
       "      <th>1</th>\n",
       "      <td>7</td>\n",
       "      <td>3350000.0</td>\n",
       "      <td>40.4</td>\n",
       "      <td>2018-12-04T00:00:00</td>\n",
       "      <td>1</td>\n",
       "      <td>NaN</td>\n",
       "      <td>11.0</td>\n",
       "      <td>18.6</td>\n",
       "      <td>1</td>\n",
       "      <td>NaN</td>\n",
       "      <td>...</td>\n",
       "      <td>11.0</td>\n",
       "      <td>2.0</td>\n",
       "      <td>посёлок Шушары</td>\n",
       "      <td>12817.0</td>\n",
       "      <td>18603.0</td>\n",
       "      <td>0.0</td>\n",
       "      <td>NaN</td>\n",
       "      <td>0.0</td>\n",
       "      <td>NaN</td>\n",
       "      <td>81.0</td>\n",
       "    </tr>\n",
       "    <tr>\n",
       "      <th>2</th>\n",
       "      <td>10</td>\n",
       "      <td>5196000.0</td>\n",
       "      <td>56.0</td>\n",
       "      <td>2015-08-20T00:00:00</td>\n",
       "      <td>2</td>\n",
       "      <td>NaN</td>\n",
       "      <td>5.0</td>\n",
       "      <td>34.3</td>\n",
       "      <td>4</td>\n",
       "      <td>NaN</td>\n",
       "      <td>...</td>\n",
       "      <td>8.3</td>\n",
       "      <td>0.0</td>\n",
       "      <td>Санкт-Петербург</td>\n",
       "      <td>21741.0</td>\n",
       "      <td>13933.0</td>\n",
       "      <td>1.0</td>\n",
       "      <td>90.0</td>\n",
       "      <td>2.0</td>\n",
       "      <td>574.0</td>\n",
       "      <td>558.0</td>\n",
       "    </tr>\n",
       "    <tr>\n",
       "      <th>3</th>\n",
       "      <td>0</td>\n",
       "      <td>64900000.0</td>\n",
       "      <td>159.0</td>\n",
       "      <td>2015-07-24T00:00:00</td>\n",
       "      <td>3</td>\n",
       "      <td>NaN</td>\n",
       "      <td>14.0</td>\n",
       "      <td>NaN</td>\n",
       "      <td>9</td>\n",
       "      <td>NaN</td>\n",
       "      <td>...</td>\n",
       "      <td>NaN</td>\n",
       "      <td>0.0</td>\n",
       "      <td>Санкт-Петербург</td>\n",
       "      <td>28098.0</td>\n",
       "      <td>6800.0</td>\n",
       "      <td>2.0</td>\n",
       "      <td>84.0</td>\n",
       "      <td>3.0</td>\n",
       "      <td>234.0</td>\n",
       "      <td>424.0</td>\n",
       "    </tr>\n",
       "    <tr>\n",
       "      <th>4</th>\n",
       "      <td>2</td>\n",
       "      <td>10000000.0</td>\n",
       "      <td>100.0</td>\n",
       "      <td>2018-06-19T00:00:00</td>\n",
       "      <td>2</td>\n",
       "      <td>3.03</td>\n",
       "      <td>14.0</td>\n",
       "      <td>32.0</td>\n",
       "      <td>13</td>\n",
       "      <td>NaN</td>\n",
       "      <td>...</td>\n",
       "      <td>41.0</td>\n",
       "      <td>NaN</td>\n",
       "      <td>Санкт-Петербург</td>\n",
       "      <td>31856.0</td>\n",
       "      <td>8098.0</td>\n",
       "      <td>2.0</td>\n",
       "      <td>112.0</td>\n",
       "      <td>1.0</td>\n",
       "      <td>48.0</td>\n",
       "      <td>121.0</td>\n",
       "    </tr>\n",
       "  </tbody>\n",
       "</table>\n",
       "<p>5 rows × 22 columns</p>\n",
       "</div>"
      ],
      "text/plain": [
       "   total_images  last_price  total_area first_day_exposition  rooms  \\\n",
       "0            20  13000000.0       108.0  2019-03-07T00:00:00      3   \n",
       "1             7   3350000.0        40.4  2018-12-04T00:00:00      1   \n",
       "2            10   5196000.0        56.0  2015-08-20T00:00:00      2   \n",
       "3             0  64900000.0       159.0  2015-07-24T00:00:00      3   \n",
       "4             2  10000000.0       100.0  2018-06-19T00:00:00      2   \n",
       "\n",
       "   ceiling_height  floors_total  living_area  floor is_apartment  ...  \\\n",
       "0            2.70          16.0         51.0      8          NaN  ...   \n",
       "1             NaN          11.0         18.6      1          NaN  ...   \n",
       "2             NaN           5.0         34.3      4          NaN  ...   \n",
       "3             NaN          14.0          NaN      9          NaN  ...   \n",
       "4            3.03          14.0         32.0     13          NaN  ...   \n",
       "\n",
       "   kitchen_area  balcony    locality_name  airports_nearest  \\\n",
       "0          25.0      NaN  Санкт-Петербург           18863.0   \n",
       "1          11.0      2.0   посёлок Шушары           12817.0   \n",
       "2           8.3      0.0  Санкт-Петербург           21741.0   \n",
       "3           NaN      0.0  Санкт-Петербург           28098.0   \n",
       "4          41.0      NaN  Санкт-Петербург           31856.0   \n",
       "\n",
       "  cityCenters_nearest  parks_around3000  parks_nearest  ponds_around3000  \\\n",
       "0             16028.0               1.0          482.0               2.0   \n",
       "1             18603.0               0.0            NaN               0.0   \n",
       "2             13933.0               1.0           90.0               2.0   \n",
       "3              6800.0               2.0           84.0               3.0   \n",
       "4              8098.0               2.0          112.0               1.0   \n",
       "\n",
       "   ponds_nearest  days_exposition  \n",
       "0          755.0              NaN  \n",
       "1            NaN             81.0  \n",
       "2          574.0            558.0  \n",
       "3          234.0            424.0  \n",
       "4           48.0            121.0  \n",
       "\n",
       "[5 rows x 22 columns]"
      ]
     },
     "execution_count": 3,
     "metadata": {},
     "output_type": "execute_result"
    }
   ],
   "source": [
    "df.head()"
   ]
  },
  {
   "cell_type": "markdown",
   "metadata": {},
   "source": [
    "Согласно документации к данным:\n",
    "* `total_images` — число фотографий квартиры в объявлении\n",
    "* `last_price` — цена на момент снятия с публикации\n",
    "* `total_area` — площадь квартиры в квадратных метрах (м²)\n",
    "* `first_day_exposition` — дата публикации\n",
    "* `rooms` — число комнат\n",
    "* `ceiling_height` — высота потолков (м)\n",
    "* `floors_total` — всего этажей в доме\n",
    "* `living_area` — жилая площадь в квадратных метрах (м²)\n",
    "* `floor` — этаж\n",
    "* `is_apartment` — апартаменты (булев тип)\n",
    "* `studio` — квартира-студия (булев тип)\n",
    "* `open_plan` — свободная планировка (булев тип)\n",
    "* `kitchen_area` — площадь кухни в квадратных метрах (м²)\n",
    "* `balcony` — число балконов\n",
    "* `locality_name` — название населённого пункта\n",
    "* `airports_nearest` — расстояние до ближайшего аэропорта в метрах (м)\n",
    "* `cityCenters_nearest` — расстояние до центра города (м)\n",
    "* `parks_around3000` — число парков в радиусе 3 км\n",
    "* `parks_nearest` — расстояние до ближайшего парка (м)\n",
    "* `ponds_around3000` — число водоёмов в радиусе 3 км\n",
    "* `ponds_nearest` — расстояние до ближайшего водоёма (м)\n",
    "* `days_exposition` — сколько дней было размещено объявление (от публикации до снятия)"
   ]
  },
  {
   "cell_type": "markdown",
   "metadata": {},
   "source": [
    "Получим общую информацию о таблице:"
   ]
  },
  {
   "cell_type": "code",
   "execution_count": 4,
   "metadata": {},
   "outputs": [
    {
     "name": "stdout",
     "output_type": "stream",
     "text": [
      "<class 'pandas.core.frame.DataFrame'>\n",
      "RangeIndex: 23699 entries, 0 to 23698\n",
      "Data columns (total 22 columns):\n",
      " #   Column                Non-Null Count  Dtype  \n",
      "---  ------                --------------  -----  \n",
      " 0   total_images          23699 non-null  int64  \n",
      " 1   last_price            23699 non-null  float64\n",
      " 2   total_area            23699 non-null  float64\n",
      " 3   first_day_exposition  23699 non-null  object \n",
      " 4   rooms                 23699 non-null  int64  \n",
      " 5   ceiling_height        14504 non-null  float64\n",
      " 6   floors_total          23613 non-null  float64\n",
      " 7   living_area           21796 non-null  float64\n",
      " 8   floor                 23699 non-null  int64  \n",
      " 9   is_apartment          2775 non-null   object \n",
      " 10  studio                23699 non-null  bool   \n",
      " 11  open_plan             23699 non-null  bool   \n",
      " 12  kitchen_area          21421 non-null  float64\n",
      " 13  balcony               12180 non-null  float64\n",
      " 14  locality_name         23650 non-null  object \n",
      " 15  airports_nearest      18157 non-null  float64\n",
      " 16  cityCenters_nearest   18180 non-null  float64\n",
      " 17  parks_around3000      18181 non-null  float64\n",
      " 18  parks_nearest         8079 non-null   float64\n",
      " 19  ponds_around3000      18181 non-null  float64\n",
      " 20  ponds_nearest         9110 non-null   float64\n",
      " 21  days_exposition       20518 non-null  float64\n",
      "dtypes: bool(2), float64(14), int64(3), object(3)\n",
      "memory usage: 3.7+ MB\n"
     ]
    }
   ],
   "source": [
    "df.info()"
   ]
  },
  {
   "cell_type": "markdown",
   "metadata": {},
   "source": [
    "Посмотрим основные статистические характеристики данных по каждому числовому признаку."
   ]
  },
  {
   "cell_type": "code",
   "execution_count": 5,
   "metadata": {},
   "outputs": [
    {
     "data": {
      "text/html": [
       "<div>\n",
       "<style scoped>\n",
       "    .dataframe tbody tr th:only-of-type {\n",
       "        vertical-align: middle;\n",
       "    }\n",
       "\n",
       "    .dataframe tbody tr th {\n",
       "        vertical-align: top;\n",
       "    }\n",
       "\n",
       "    .dataframe thead th {\n",
       "        text-align: right;\n",
       "    }\n",
       "</style>\n",
       "<table border=\"1\" class=\"dataframe\">\n",
       "  <thead>\n",
       "    <tr style=\"text-align: right;\">\n",
       "      <th></th>\n",
       "      <th>total_images</th>\n",
       "      <th>last_price</th>\n",
       "      <th>total_area</th>\n",
       "      <th>rooms</th>\n",
       "      <th>ceiling_height</th>\n",
       "      <th>floors_total</th>\n",
       "      <th>living_area</th>\n",
       "      <th>floor</th>\n",
       "      <th>kitchen_area</th>\n",
       "      <th>balcony</th>\n",
       "      <th>airports_nearest</th>\n",
       "      <th>cityCenters_nearest</th>\n",
       "      <th>parks_around3000</th>\n",
       "      <th>parks_nearest</th>\n",
       "      <th>ponds_around3000</th>\n",
       "      <th>ponds_nearest</th>\n",
       "      <th>days_exposition</th>\n",
       "    </tr>\n",
       "  </thead>\n",
       "  <tbody>\n",
       "    <tr>\n",
       "      <th>count</th>\n",
       "      <td>23699.000000</td>\n",
       "      <td>2.369900e+04</td>\n",
       "      <td>23699.000000</td>\n",
       "      <td>23699.000000</td>\n",
       "      <td>14504.000000</td>\n",
       "      <td>23613.000000</td>\n",
       "      <td>21796.000000</td>\n",
       "      <td>23699.000000</td>\n",
       "      <td>21421.000000</td>\n",
       "      <td>12180.000000</td>\n",
       "      <td>18157.000000</td>\n",
       "      <td>18180.000000</td>\n",
       "      <td>18181.000000</td>\n",
       "      <td>8079.000000</td>\n",
       "      <td>18181.000000</td>\n",
       "      <td>9110.000000</td>\n",
       "      <td>20518.000000</td>\n",
       "    </tr>\n",
       "    <tr>\n",
       "      <th>mean</th>\n",
       "      <td>9.858475</td>\n",
       "      <td>6.541549e+06</td>\n",
       "      <td>60.348651</td>\n",
       "      <td>2.070636</td>\n",
       "      <td>2.771499</td>\n",
       "      <td>10.673824</td>\n",
       "      <td>34.457852</td>\n",
       "      <td>5.892358</td>\n",
       "      <td>10.569807</td>\n",
       "      <td>1.150082</td>\n",
       "      <td>28793.672193</td>\n",
       "      <td>14191.277833</td>\n",
       "      <td>0.611408</td>\n",
       "      <td>490.804555</td>\n",
       "      <td>0.770255</td>\n",
       "      <td>517.980900</td>\n",
       "      <td>180.888634</td>\n",
       "    </tr>\n",
       "    <tr>\n",
       "      <th>std</th>\n",
       "      <td>5.682529</td>\n",
       "      <td>1.088701e+07</td>\n",
       "      <td>35.654083</td>\n",
       "      <td>1.078405</td>\n",
       "      <td>1.261056</td>\n",
       "      <td>6.597173</td>\n",
       "      <td>22.030445</td>\n",
       "      <td>4.885249</td>\n",
       "      <td>5.905438</td>\n",
       "      <td>1.071300</td>\n",
       "      <td>12630.880622</td>\n",
       "      <td>8608.386210</td>\n",
       "      <td>0.802074</td>\n",
       "      <td>342.317995</td>\n",
       "      <td>0.938346</td>\n",
       "      <td>277.720643</td>\n",
       "      <td>219.727988</td>\n",
       "    </tr>\n",
       "    <tr>\n",
       "      <th>min</th>\n",
       "      <td>0.000000</td>\n",
       "      <td>1.219000e+04</td>\n",
       "      <td>12.000000</td>\n",
       "      <td>0.000000</td>\n",
       "      <td>1.000000</td>\n",
       "      <td>1.000000</td>\n",
       "      <td>2.000000</td>\n",
       "      <td>1.000000</td>\n",
       "      <td>1.300000</td>\n",
       "      <td>0.000000</td>\n",
       "      <td>0.000000</td>\n",
       "      <td>181.000000</td>\n",
       "      <td>0.000000</td>\n",
       "      <td>1.000000</td>\n",
       "      <td>0.000000</td>\n",
       "      <td>13.000000</td>\n",
       "      <td>1.000000</td>\n",
       "    </tr>\n",
       "    <tr>\n",
       "      <th>25%</th>\n",
       "      <td>6.000000</td>\n",
       "      <td>3.400000e+06</td>\n",
       "      <td>40.000000</td>\n",
       "      <td>1.000000</td>\n",
       "      <td>2.520000</td>\n",
       "      <td>5.000000</td>\n",
       "      <td>18.600000</td>\n",
       "      <td>2.000000</td>\n",
       "      <td>7.000000</td>\n",
       "      <td>0.000000</td>\n",
       "      <td>18585.000000</td>\n",
       "      <td>9238.000000</td>\n",
       "      <td>0.000000</td>\n",
       "      <td>288.000000</td>\n",
       "      <td>0.000000</td>\n",
       "      <td>294.000000</td>\n",
       "      <td>45.000000</td>\n",
       "    </tr>\n",
       "    <tr>\n",
       "      <th>50%</th>\n",
       "      <td>9.000000</td>\n",
       "      <td>4.650000e+06</td>\n",
       "      <td>52.000000</td>\n",
       "      <td>2.000000</td>\n",
       "      <td>2.650000</td>\n",
       "      <td>9.000000</td>\n",
       "      <td>30.000000</td>\n",
       "      <td>4.000000</td>\n",
       "      <td>9.100000</td>\n",
       "      <td>1.000000</td>\n",
       "      <td>26726.000000</td>\n",
       "      <td>13098.500000</td>\n",
       "      <td>0.000000</td>\n",
       "      <td>455.000000</td>\n",
       "      <td>1.000000</td>\n",
       "      <td>502.000000</td>\n",
       "      <td>95.000000</td>\n",
       "    </tr>\n",
       "    <tr>\n",
       "      <th>75%</th>\n",
       "      <td>14.000000</td>\n",
       "      <td>6.800000e+06</td>\n",
       "      <td>69.900000</td>\n",
       "      <td>3.000000</td>\n",
       "      <td>2.800000</td>\n",
       "      <td>16.000000</td>\n",
       "      <td>42.300000</td>\n",
       "      <td>8.000000</td>\n",
       "      <td>12.000000</td>\n",
       "      <td>2.000000</td>\n",
       "      <td>37273.000000</td>\n",
       "      <td>16293.000000</td>\n",
       "      <td>1.000000</td>\n",
       "      <td>612.000000</td>\n",
       "      <td>1.000000</td>\n",
       "      <td>729.000000</td>\n",
       "      <td>232.000000</td>\n",
       "    </tr>\n",
       "    <tr>\n",
       "      <th>max</th>\n",
       "      <td>50.000000</td>\n",
       "      <td>7.630000e+08</td>\n",
       "      <td>900.000000</td>\n",
       "      <td>19.000000</td>\n",
       "      <td>100.000000</td>\n",
       "      <td>60.000000</td>\n",
       "      <td>409.700000</td>\n",
       "      <td>33.000000</td>\n",
       "      <td>112.000000</td>\n",
       "      <td>5.000000</td>\n",
       "      <td>84869.000000</td>\n",
       "      <td>65968.000000</td>\n",
       "      <td>3.000000</td>\n",
       "      <td>3190.000000</td>\n",
       "      <td>3.000000</td>\n",
       "      <td>1344.000000</td>\n",
       "      <td>1580.000000</td>\n",
       "    </tr>\n",
       "  </tbody>\n",
       "</table>\n",
       "</div>"
      ],
      "text/plain": [
       "       total_images    last_price    total_area         rooms  ceiling_height  \\\n",
       "count  23699.000000  2.369900e+04  23699.000000  23699.000000    14504.000000   \n",
       "mean       9.858475  6.541549e+06     60.348651      2.070636        2.771499   \n",
       "std        5.682529  1.088701e+07     35.654083      1.078405        1.261056   \n",
       "min        0.000000  1.219000e+04     12.000000      0.000000        1.000000   \n",
       "25%        6.000000  3.400000e+06     40.000000      1.000000        2.520000   \n",
       "50%        9.000000  4.650000e+06     52.000000      2.000000        2.650000   \n",
       "75%       14.000000  6.800000e+06     69.900000      3.000000        2.800000   \n",
       "max       50.000000  7.630000e+08    900.000000     19.000000      100.000000   \n",
       "\n",
       "       floors_total   living_area         floor  kitchen_area       balcony  \\\n",
       "count  23613.000000  21796.000000  23699.000000  21421.000000  12180.000000   \n",
       "mean      10.673824     34.457852      5.892358     10.569807      1.150082   \n",
       "std        6.597173     22.030445      4.885249      5.905438      1.071300   \n",
       "min        1.000000      2.000000      1.000000      1.300000      0.000000   \n",
       "25%        5.000000     18.600000      2.000000      7.000000      0.000000   \n",
       "50%        9.000000     30.000000      4.000000      9.100000      1.000000   \n",
       "75%       16.000000     42.300000      8.000000     12.000000      2.000000   \n",
       "max       60.000000    409.700000     33.000000    112.000000      5.000000   \n",
       "\n",
       "       airports_nearest  cityCenters_nearest  parks_around3000  parks_nearest  \\\n",
       "count      18157.000000         18180.000000      18181.000000    8079.000000   \n",
       "mean       28793.672193         14191.277833          0.611408     490.804555   \n",
       "std        12630.880622          8608.386210          0.802074     342.317995   \n",
       "min            0.000000           181.000000          0.000000       1.000000   \n",
       "25%        18585.000000          9238.000000          0.000000     288.000000   \n",
       "50%        26726.000000         13098.500000          0.000000     455.000000   \n",
       "75%        37273.000000         16293.000000          1.000000     612.000000   \n",
       "max        84869.000000         65968.000000          3.000000    3190.000000   \n",
       "\n",
       "       ponds_around3000  ponds_nearest  days_exposition  \n",
       "count      18181.000000    9110.000000     20518.000000  \n",
       "mean           0.770255     517.980900       180.888634  \n",
       "std            0.938346     277.720643       219.727988  \n",
       "min            0.000000      13.000000         1.000000  \n",
       "25%            0.000000     294.000000        45.000000  \n",
       "50%            1.000000     502.000000        95.000000  \n",
       "75%            1.000000     729.000000       232.000000  \n",
       "max            3.000000    1344.000000      1580.000000  "
      ]
     },
     "execution_count": 5,
     "metadata": {},
     "output_type": "execute_result"
    }
   ],
   "source": [
    "df.describe()"
   ]
  },
  {
   "cell_type": "markdown",
   "metadata": {},
   "source": [
    "**Вывод**\n",
    "Итак, в таблице 23699 строк 22 столбца, четыре типа данных: `int64`, `float64`, `object`, `bool`. Количество значений в столбцах различается. Значит, в данных есть пропущенные значения."
   ]
  },
  {
   "cell_type": "markdown",
   "metadata": {},
   "source": [
    "## Предобработка данных\n",
    "### Обработка пропусков"
   ]
  },
  {
   "cell_type": "markdown",
   "metadata": {},
   "source": [
    "Посмотрим доли пропущенных значений."
   ]
  },
  {
   "cell_type": "code",
   "execution_count": 6,
   "metadata": {},
   "outputs": [
    {
     "data": {
      "text/plain": [
       "total_images            0.000000\n",
       "last_price              0.000000\n",
       "total_area              0.000000\n",
       "first_day_exposition    0.000000\n",
       "rooms                   0.000000\n",
       "ceiling_height          0.387991\n",
       "floors_total            0.003629\n",
       "living_area             0.080299\n",
       "floor                   0.000000\n",
       "is_apartment            0.882906\n",
       "studio                  0.000000\n",
       "open_plan               0.000000\n",
       "kitchen_area            0.096122\n",
       "balcony                 0.486054\n",
       "locality_name           0.002068\n",
       "airports_nearest        0.233850\n",
       "cityCenters_nearest     0.232879\n",
       "parks_around3000        0.232837\n",
       "parks_nearest           0.659100\n",
       "ponds_around3000        0.232837\n",
       "ponds_nearest           0.615596\n",
       "days_exposition         0.134225\n",
       "dtype: float64"
      ]
     },
     "execution_count": 6,
     "metadata": {},
     "output_type": "execute_result"
    }
   ],
   "source": [
    "df.isna().mean()"
   ]
  },
  {
   "cell_type": "markdown",
   "metadata": {},
   "source": [
    "Обработаем столбец `balcony`. Посмотрим сколько каких значений содержится в данном столбце."
   ]
  },
  {
   "cell_type": "code",
   "execution_count": 7,
   "metadata": {},
   "outputs": [
    {
     "data": {
      "text/plain": [
       "1.0    4195\n",
       "0.0    3758\n",
       "2.0    3659\n",
       "5.0     304\n",
       "4.0     183\n",
       "3.0      81\n",
       "Name: balcony, dtype: int64"
      ]
     },
     "execution_count": 7,
     "metadata": {},
     "output_type": "execute_result"
    }
   ],
   "source": [
    "df['balcony'].value_counts()"
   ]
  },
  {
   "cell_type": "markdown",
   "metadata": {},
   "source": [
    "Избавимся от пропусков."
   ]
  },
  {
   "cell_type": "code",
   "execution_count": 8,
   "metadata": {},
   "outputs": [],
   "source": [
    "df['balcony'] = df['balcony'].fillna(0)"
   ]
  },
  {
   "cell_type": "code",
   "execution_count": 9,
   "metadata": {},
   "outputs": [
    {
     "data": {
      "text/plain": [
       "0.0    15277\n",
       "1.0     4195\n",
       "2.0     3659\n",
       "5.0      304\n",
       "4.0      183\n",
       "3.0       81\n",
       "Name: balcony, dtype: int64"
      ]
     },
     "execution_count": 9,
     "metadata": {},
     "output_type": "execute_result"
    }
   ],
   "source": [
    "df['balcony'].value_counts()"
   ]
  },
  {
   "cell_type": "markdown",
   "metadata": {},
   "source": [
    "Вместо пропусков нули."
   ]
  },
  {
   "cell_type": "markdown",
   "metadata": {},
   "source": [
    "Обработаем столбец `ceiling_height`."
   ]
  },
  {
   "cell_type": "code",
   "execution_count": 10,
   "metadata": {},
   "outputs": [
    {
     "data": {
      "text/plain": [
       "2.50    3515\n",
       "2.60    1646\n",
       "2.70    1574\n",
       "3.00    1112\n",
       "2.80     993\n",
       "        ... \n",
       "5.00       1\n",
       "2.20       1\n",
       "2.34       1\n",
       "3.93       1\n",
       "3.59       1\n",
       "Name: ceiling_height, Length: 183, dtype: int64"
      ]
     },
     "execution_count": 10,
     "metadata": {},
     "output_type": "execute_result"
    }
   ],
   "source": [
    "df['ceiling_height'].value_counts()"
   ]
  },
  {
   "cell_type": "code",
   "execution_count": 11,
   "metadata": {},
   "outputs": [
    {
     "data": {
      "text/plain": [
       "count    14504.000000\n",
       "mean         2.771499\n",
       "std          1.261056\n",
       "min          1.000000\n",
       "25%          2.520000\n",
       "50%          2.650000\n",
       "75%          2.800000\n",
       "max        100.000000\n",
       "Name: ceiling_height, dtype: float64"
      ]
     },
     "execution_count": 11,
     "metadata": {},
     "output_type": "execute_result"
    }
   ],
   "source": [
    "df['ceiling_height'].describe()"
   ]
  },
  {
   "cell_type": "markdown",
   "metadata": {},
   "source": [
    "Для замены взять медиану корректно: 2 м. 65 см. вполне адекватная высота потолков. Смущает максимальное значение, дома могут быть разные, допустим максимальную высоту потолков 5 метров и посмотрим долю значений более 5 метров."
   ]
  },
  {
   "cell_type": "code",
   "execution_count": 12,
   "metadata": {},
   "outputs": [
    {
     "data": {
      "text/plain": [
       "0.0015190514367694839"
      ]
     },
     "execution_count": 12,
     "metadata": {},
     "output_type": "execute_result"
    }
   ],
   "source": [
    "(df['ceiling_height'] > 5).mean()"
   ]
  },
  {
   "cell_type": "markdown",
   "metadata": {},
   "source": [
    "Доля мала. меняем пропущенные значения на медиану."
   ]
  },
  {
   "cell_type": "code",
   "execution_count": 13,
   "metadata": {},
   "outputs": [],
   "source": [
    "df['ceiling_height'] = df['ceiling_height'].fillna(df['ceiling_height'].median())"
   ]
  },
  {
   "cell_type": "code",
   "execution_count": 14,
   "metadata": {},
   "outputs": [
    {
     "data": {
      "text/plain": [
       "2.65    9871\n",
       "2.50    3515\n",
       "2.60    1646\n",
       "2.70    1574\n",
       "3.00    1112\n",
       "        ... \n",
       "5.00       1\n",
       "2.20       1\n",
       "4.15       1\n",
       "3.93       1\n",
       "3.59       1\n",
       "Name: ceiling_height, Length: 183, dtype: int64"
      ]
     },
     "execution_count": 14,
     "metadata": {},
     "output_type": "execute_result"
    }
   ],
   "source": [
    "df['ceiling_height'].value_counts()"
   ]
  },
  {
   "cell_type": "markdown",
   "metadata": {},
   "source": [
    "Пропусков нет, теперь там медиана."
   ]
  },
  {
   "cell_type": "markdown",
   "metadata": {},
   "source": [
    "Рассмотрим столбец `kitchen_area`."
   ]
  },
  {
   "cell_type": "code",
   "execution_count": 15,
   "metadata": {
    "scrolled": true
   },
   "outputs": [
    {
     "data": {
      "text/plain": [
       "0.09612219924891345"
      ]
     },
     "execution_count": 15,
     "metadata": {},
     "output_type": "execute_result"
    }
   ],
   "source": [
    "df['kitchen_area'].isna().mean() # доля пропусков."
   ]
  },
  {
   "cell_type": "markdown",
   "metadata": {},
   "source": [
    "Для площади кухни можно ввести коэффициент от общей площади и в местах пропусков умножать общую площадь на коэффициент. Для расчета коэффициента будем использовать медианы."
   ]
  },
  {
   "cell_type": "code",
   "execution_count": 16,
   "metadata": {},
   "outputs": [
    {
     "data": {
      "text/plain": [
       "0.175"
      ]
     },
     "metadata": {},
     "output_type": "display_data"
    }
   ],
   "source": [
    "kitchen_area_coeff = df['kitchen_area'].median() / df['total_area'].median()\n",
    "display(kitchen_area_coeff) # значение коэффициента."
   ]
  },
  {
   "cell_type": "code",
   "execution_count": 17,
   "metadata": {},
   "outputs": [
    {
     "data": {
      "text/plain": [
       "0.0"
      ]
     },
     "execution_count": 17,
     "metadata": {},
     "output_type": "execute_result"
    }
   ],
   "source": [
    "df['kitchen_area'].fillna(df['total_area'] * kitchen_area_coeff, inplace=True)\n",
    "df['kitchen_area'].isna().mean() # доля пропусков."
   ]
  },
  {
   "cell_type": "markdown",
   "metadata": {},
   "source": [
    "Пропуски заполнены.\n",
    "\n",
    "Произведем обработку столбца `living_area` подобно столбцу `kitchen_area`."
   ]
  },
  {
   "cell_type": "code",
   "execution_count": 18,
   "metadata": {},
   "outputs": [
    {
     "data": {
      "text/plain": [
       "0.08029874678256467"
      ]
     },
     "execution_count": 18,
     "metadata": {},
     "output_type": "execute_result"
    }
   ],
   "source": [
    "df['living_area'].isna().mean()"
   ]
  },
  {
   "cell_type": "code",
   "execution_count": 19,
   "metadata": {},
   "outputs": [
    {
     "data": {
      "text/plain": [
       "0.5769230769230769"
      ]
     },
     "metadata": {},
     "output_type": "display_data"
    },
    {
     "data": {
      "text/plain": [
       "0.0"
      ]
     },
     "execution_count": 19,
     "metadata": {},
     "output_type": "execute_result"
    }
   ],
   "source": [
    "living_area_coeff = df['living_area'].median() /  df['total_area'].median()\n",
    "display(living_area_coeff)\n",
    "df['living_area'].fillna(df['total_area'] * living_area_coeff, inplace=True)\n",
    "df['living_area'].isna().mean()"
   ]
  },
  {
   "cell_type": "markdown",
   "metadata": {},
   "source": [
    "Пропуски заполнены."
   ]
  },
  {
   "cell_type": "markdown",
   "metadata": {},
   "source": [
    "Рассмотрим столбец `floors_total`."
   ]
  },
  {
   "cell_type": "code",
   "execution_count": 20,
   "metadata": {},
   "outputs": [
    {
     "data": {
      "text/plain": [
       "86"
      ]
     },
     "execution_count": 20,
     "metadata": {},
     "output_type": "execute_result"
    }
   ],
   "source": [
    "df['floors_total'].isna().sum()"
   ]
  },
  {
   "cell_type": "markdown",
   "metadata": {},
   "source": [
    "Количество пропусков незначительное, удалим данные строки."
   ]
  },
  {
   "cell_type": "code",
   "execution_count": 21,
   "metadata": {},
   "outputs": [],
   "source": [
    "df.dropna(subset=['floors_total'], inplace=True)\n",
    "df.reset_index(drop=True, inplace=True)  "
   ]
  },
  {
   "cell_type": "markdown",
   "metadata": {},
   "source": [
    "Рассмотрим `is_apartment`."
   ]
  },
  {
   "cell_type": "code",
   "execution_count": 22,
   "metadata": {},
   "outputs": [
    {
     "data": {
      "text/plain": [
       "array([nan, False, True], dtype=object)"
      ]
     },
     "execution_count": 22,
     "metadata": {},
     "output_type": "execute_result"
    }
   ],
   "source": [
    "df['is_apartment'].unique()"
   ]
  },
  {
   "cell_type": "markdown",
   "metadata": {},
   "source": [
    "Всё логично, либо апартаменты, либо нет, те, что точно апартаменты, там значение True, где False - обычная квартира, т.к. установить в пропусках тип недвижимости не представляется возможным, заменим пропуски на значение False, будем об этом помнить и в дальнейшем использовать в исследовании  только объекты со значением True. Доля пропусков более 88 %."
   ]
  },
  {
   "cell_type": "code",
   "execution_count": 23,
   "metadata": {},
   "outputs": [],
   "source": [
    "df['is_apartment'].fillna(False, inplace=True)"
   ]
  },
  {
   "cell_type": "code",
   "execution_count": 24,
   "metadata": {
    "scrolled": true
   },
   "outputs": [
    {
     "data": {
      "text/plain": [
       "array([False,  True])"
      ]
     },
     "execution_count": 24,
     "metadata": {},
     "output_type": "execute_result"
    }
   ],
   "source": [
    "df['is_apartment'].unique()"
   ]
  },
  {
   "cell_type": "markdown",
   "metadata": {},
   "source": [
    "Пропуски устранены."
   ]
  },
  {
   "cell_type": "markdown",
   "metadata": {},
   "source": [
    "Рассмотрим столбец `locality_name`.\n",
    "\n",
    "Доля пропусков невелика 0.2 % поэтому заменим пропуски на `неизвестно`, чтобы не терять данные."
   ]
  },
  {
   "cell_type": "code",
   "execution_count": 25,
   "metadata": {},
   "outputs": [],
   "source": [
    "df['locality_name'].fillna('неизвестно', inplace=True)"
   ]
  },
  {
   "cell_type": "code",
   "execution_count": 26,
   "metadata": {},
   "outputs": [
    {
     "data": {
      "text/plain": [
       "0.0"
      ]
     },
     "execution_count": 26,
     "metadata": {},
     "output_type": "execute_result"
    }
   ],
   "source": [
    "df['locality_name'].isna().mean()"
   ]
  },
  {
   "cell_type": "markdown",
   "metadata": {},
   "source": [
    "Пропуски устранены.\n",
    "посмотрим значения данного столбца."
   ]
  },
  {
   "cell_type": "code",
   "execution_count": 27,
   "metadata": {},
   "outputs": [
    {
     "data": {
      "text/plain": [
       "array(['Санкт-Петербург', 'посёлок Шушары', 'городской посёлок Янино-1',\n",
       "       'посёлок Парголово', 'посёлок Мурино', 'Ломоносов', 'Сертолово',\n",
       "       'Петергоф', 'Пушкин', 'деревня Кудрово', 'Коммунар', 'Колпино',\n",
       "       'поселок городского типа Красный Бор', 'Гатчина', 'поселок Мурино',\n",
       "       'деревня Фёдоровское', 'Выборг', 'Кронштадт', 'Кировск',\n",
       "       'деревня Новое Девяткино', 'посёлок Металлострой',\n",
       "       'посёлок городского типа Лебяжье',\n",
       "       'посёлок городского типа Сиверский', 'поселок Молодцово',\n",
       "       'поселок городского типа Кузьмоловский',\n",
       "       'садовое товарищество Новая Ропша', 'Павловск',\n",
       "       'деревня Пикколово', 'Всеволожск', 'Волхов', 'Кингисепп',\n",
       "       'Приозерск', 'Сестрорецк', 'деревня Куттузи', 'посёлок Аннино',\n",
       "       'поселок городского типа Ефимовский', 'посёлок Плодовое',\n",
       "       'деревня Заклинье', 'поселок Торковичи', 'поселок Первомайское',\n",
       "       'Красное Село', 'посёлок Понтонный', 'Сясьстрой', 'деревня Старая',\n",
       "       'деревня Лесколово', 'посёлок Новый Свет', 'Сланцы',\n",
       "       'село Путилово', 'Ивангород', 'Мурино', 'Шлиссельбург',\n",
       "       'Никольское', 'Зеленогорск', 'Сосновый Бор', 'поселок Новый Свет',\n",
       "       'деревня Оржицы', 'деревня Кальтино', 'Кудрово',\n",
       "       'поселок Романовка', 'посёлок Бугры', 'поселок Бугры',\n",
       "       'поселок городского типа Рощино', 'Кириши', 'Луга', 'Волосово',\n",
       "       'Отрадное', 'село Павлово', 'поселок Оредеж', 'село Копорье',\n",
       "       'посёлок городского типа Красный Бор', 'посёлок Молодёжное',\n",
       "       'Тихвин', 'посёлок Победа', 'деревня Нурма',\n",
       "       'поселок городского типа Синявино', 'Тосно',\n",
       "       'посёлок городского типа Кузьмоловский', 'посёлок Стрельна',\n",
       "       'Бокситогорск', 'посёлок Александровская', 'деревня Лопухинка',\n",
       "       'Пикалёво', 'поселок Терволово',\n",
       "       'поселок городского типа Советский', 'Подпорожье',\n",
       "       'посёлок Петровское', 'посёлок городского типа Токсово',\n",
       "       'поселок Сельцо', 'посёлок городского типа Вырица',\n",
       "       'деревня Кипень', 'деревня Келози', 'деревня Вартемяги',\n",
       "       'посёлок Тельмана', 'поселок Севастьяново',\n",
       "       'городской поселок Большая Ижора', 'неизвестно',\n",
       "       'городской посёлок Павлово', 'деревня Агалатово',\n",
       "       'посёлок Новогорелово', 'городской посёлок Лесогорский',\n",
       "       'деревня Лаголово', 'поселок Цвелодубово',\n",
       "       'поселок городского типа Рахья', 'поселок городского типа Вырица',\n",
       "       'деревня Белогорка', 'поселок Заводской',\n",
       "       'городской посёлок Новоселье', 'деревня Большие Колпаны',\n",
       "       'деревня Горбунки', 'деревня Батово', 'деревня Заневка',\n",
       "       'деревня Иссад', 'Приморск', 'городской посёлок Фёдоровское',\n",
       "       'деревня Мистолово', 'Новая Ладога', 'поселок Зимитицы',\n",
       "       'поселок Барышево', 'деревня Разметелево',\n",
       "       'поселок городского типа имени Свердлова', 'деревня Пеники',\n",
       "       'поселок Рябово', 'деревня Пудомяги', 'поселок станции Корнево',\n",
       "       'деревня Низино', 'деревня Бегуницы', 'посёлок Поляны',\n",
       "       'городской посёлок Мга', 'поселок Елизаветино',\n",
       "       'посёлок городского типа Кузнечное', 'деревня Колтуши',\n",
       "       'поселок Запорожское', 'посёлок городского типа Рощино',\n",
       "       'деревня Гостилицы', 'деревня Малое Карлино',\n",
       "       'посёлок Мичуринское', 'посёлок городского типа имени Морозова',\n",
       "       'посёлок Песочный', 'посёлок Сосново', 'деревня Аро',\n",
       "       'поселок Ильичёво', 'посёлок городского типа Тайцы',\n",
       "       'деревня Малое Верево', 'деревня Извара', 'поселок станции Вещево',\n",
       "       'село Паша', 'деревня Калитино',\n",
       "       'посёлок городского типа Ульяновка', 'деревня Чудской Бор',\n",
       "       'поселок городского типа Дубровка', 'деревня Мины',\n",
       "       'поселок Войсковицы', 'посёлок городского типа имени Свердлова',\n",
       "       'деревня Коркино', 'посёлок Ропша',\n",
       "       'поселок городского типа Приладожский', 'посёлок Щеглово',\n",
       "       'посёлок Гаврилово', 'Лодейное Поле', 'деревня Рабитицы',\n",
       "       'поселок городского типа Никольский', 'деревня Кузьмолово',\n",
       "       'деревня Малые Колпаны', 'поселок Тельмана',\n",
       "       'посёлок Петро-Славянка', 'городской посёлок Назия',\n",
       "       'посёлок Репино', 'посёлок Ильичёво', 'поселок Углово',\n",
       "       'поселок Старая Малукса', 'садовое товарищество Рахья',\n",
       "       'поселок Аннино', 'поселок Победа', 'деревня Меньково',\n",
       "       'деревня Старые Бегуницы', 'посёлок Сапёрный', 'поселок Семрино',\n",
       "       'поселок Гаврилово', 'поселок Глажево', 'поселок Кобринское',\n",
       "       'деревня Гарболово', 'деревня Юкки',\n",
       "       'поселок станции Приветнинское', 'деревня Мануйлово',\n",
       "       'деревня Пчева', 'поселок Поляны', 'поселок Цвылёво',\n",
       "       'поселок Мельниково', 'посёлок Пудость', 'посёлок Усть-Луга',\n",
       "       'Светогорск', 'Любань', 'поселок Селезнёво',\n",
       "       'поселок городского типа Рябово', 'Каменногорск', 'деревня Кривко',\n",
       "       'поселок Глебычево', 'деревня Парицы', 'поселок Жилпосёлок',\n",
       "       'посёлок городского типа Мга', 'городской поселок Янино-1',\n",
       "       'посёлок Войскорово', 'село Никольское', 'посёлок Терволово',\n",
       "       'поселок Стеклянный', 'посёлок городского типа Важины',\n",
       "       'посёлок Мыза-Ивановка', 'село Русско-Высоцкое',\n",
       "       'поселок городского типа Лебяжье',\n",
       "       'поселок городского типа Форносово', 'село Старая Ладога',\n",
       "       'поселок Житково', 'городской посёлок Виллози', 'деревня Лампово',\n",
       "       'деревня Шпаньково', 'деревня Лаврики', 'посёлок Сумино',\n",
       "       'посёлок Возрождение', 'деревня Старосиверская',\n",
       "       'посёлок Кикерино', 'поселок Возрождение',\n",
       "       'деревня Старое Хинколово', 'посёлок Пригородный',\n",
       "       'посёлок Торфяное', 'городской посёлок Будогощь',\n",
       "       'поселок Суходолье', 'поселок Красная Долина', 'деревня Хапо-Ое',\n",
       "       'поселок городского типа Дружная Горка', 'поселок Лисий Нос',\n",
       "       'деревня Яльгелево', 'посёлок Стеклянный', 'село Рождествено',\n",
       "       'деревня Старополье', 'посёлок Левашово', 'деревня Сяськелево',\n",
       "       'деревня Камышовка',\n",
       "       'садоводческое некоммерческое товарищество Лесная Поляна',\n",
       "       'деревня Хязельки', 'поселок Жилгородок',\n",
       "       'посёлок городского типа Павлово', 'деревня Ялгино',\n",
       "       'поселок Новый Учхоз', 'городской посёлок Рощино',\n",
       "       'поселок Гончарово', 'поселок Почап', 'посёлок Сапёрное',\n",
       "       'посёлок Платформа 69-й километр', 'поселок Каложицы',\n",
       "       'деревня Фалилеево', 'деревня Пельгора',\n",
       "       'поселок городского типа Лесогорский', 'деревня Торошковичи',\n",
       "       'посёлок Белоостров', 'посёлок Алексеевка', 'поселок Серебрянский',\n",
       "       'поселок Лукаши', 'поселок Петровское', 'деревня Щеглово',\n",
       "       'поселок Мичуринское', 'деревня Тарасово', 'поселок Кингисеппский',\n",
       "       'посёлок при железнодорожной станции Вещево', 'поселок Ушаки',\n",
       "       'деревня Котлы', 'деревня Сижно', 'деревня Торосово',\n",
       "       'посёлок Форт Красная Горка', 'деревня Новолисино',\n",
       "       'посёлок станции Громово', 'деревня Глинка', 'посёлок Мельниково',\n",
       "       'поселок городского типа Назия', 'деревня Старая Пустошь',\n",
       "       'поселок Коммунары', 'поселок Починок',\n",
       "       'посёлок городского типа Вознесенье', 'деревня Разбегаево',\n",
       "       'посёлок городского типа Рябово', 'поселок Гладкое',\n",
       "       'посёлок при железнодорожной станции Приветнинское',\n",
       "       'поселок Тёсово-4', 'посёлок Жилгородок', 'деревня Бор',\n",
       "       'посёлок Коробицыно', 'деревня Большая Вруда', 'деревня Курковицы',\n",
       "       'посёлок Лисий Нос', 'городской посёлок Советский',\n",
       "       'посёлок Кобралово', 'деревня Суоранда', 'поселок Кобралово',\n",
       "       'поселок городского типа Кондратьево',\n",
       "       'коттеджный поселок Счастье', 'поселок Любань', 'деревня Реброво',\n",
       "       'деревня Зимитицы', 'деревня Тойворово', 'поселок Семиозерье',\n",
       "       'поселок Лесное', 'поселок Совхозный', 'поселок Усть-Луга',\n",
       "       'посёлок Ленинское', 'посёлок Суйда',\n",
       "       'посёлок городского типа Форносово', 'деревня Нижние Осельки',\n",
       "       'посёлок станции Свирь', 'поселок Перово', 'Высоцк',\n",
       "       'поселок Гарболово', 'село Шум', 'поселок Котельский',\n",
       "       'поселок станции Лужайка', 'деревня Большая Пустомержа',\n",
       "       'поселок Красносельское', 'деревня Вахнова Кара', 'деревня Пижма',\n",
       "       'коттеджный поселок Кивеннапа Север', 'поселок Коробицыно',\n",
       "       'поселок Ромашки', 'посёлок Перово', 'деревня Каськово',\n",
       "       'деревня Куровицы', 'посёлок Плоское', 'поселок Сумино',\n",
       "       'поселок городского типа Большая Ижора', 'поселок Кирпичное',\n",
       "       'деревня Ям-Тесово', 'деревня Раздолье', 'деревня Терпилицы',\n",
       "       'поселок городского типа Токсово', 'посёлок Шугозеро',\n",
       "       'деревня Ваганово', 'поселок Пушное', 'садовое товарищество Садко',\n",
       "       'посёлок Усть-Ижора', 'деревня Выскатка',\n",
       "       'городской посёлок Свирьстрой', 'поселок Громово',\n",
       "       'деревня Кисельня', 'посёлок Старая Малукса',\n",
       "       'деревня Трубников Бор', 'поселок Калитино',\n",
       "       'посёлок Высокоключевой', 'садовое товарищество Приладожский',\n",
       "       'посёлок Пансионат Зелёный Бор', 'деревня Ненимяки',\n",
       "       'поселок Пансионат Зелёный Бор', 'деревня Снегирёвка',\n",
       "       'деревня Рапполово', 'деревня Пустынка', 'поселок Рабитицы',\n",
       "       'деревня Большой Сабск', 'деревня Русско', 'деревня Лупполово',\n",
       "       'деревня Большое Рейзино', 'деревня Малая Романовка',\n",
       "       'поселок Дружноселье', 'поселок Пчевжа', 'поселок Володарское',\n",
       "       'деревня Нижняя', 'коттеджный посёлок Лесное', 'деревня Тихковицы',\n",
       "       'деревня Борисова Грива', 'посёлок Дзержинского'], dtype=object)"
      ]
     },
     "execution_count": 27,
     "metadata": {},
     "output_type": "execute_result"
    }
   ],
   "source": [
    "df['locality_name'].unique()"
   ]
  },
  {
   "cell_type": "markdown",
   "metadata": {},
   "source": [
    "В столбце значительная часть неявных дубликатов, для дальнейшей простоты исследования оставим только имена собственные населенных пунктов."
   ]
  },
  {
   "cell_type": "code",
   "execution_count": 28,
   "metadata": {},
   "outputs": [],
   "source": [
    "def replace_name(locality): # функция по замене подстроки в названии населенного пункта\n",
    "    bad_list = [            # список заменяемых значений\n",
    "    'городской поселок ',\n",
    "    'городской посёлок ',\n",
    "    'коттеджный поселок ',\n",
    "    'коттеджный посёлок ',\n",
    "    'поселок городского типа ',\n",
    "    'посёлок городского типа ',\n",
    "    'поселок станции ',\n",
    "    'посёлок при железнодорожной станции ',\n",
    "    'посёлок станции ',\n",
    "    'садоводческое некоммерческое товарищество ',\n",
    "    'деревня ',\n",
    "    'поселок ',\n",
    "    'посёлок ',\n",
    "    'село ',\n",
    "    'садовое товарищество '\n",
    "    ]\n",
    "    for i in bad_list:                      # цикл проходящий по всем значениям списка bad_list\n",
    "        if i in locality:                   # если значение из списка входит в аргумент функции replace_name,\n",
    "            return locality.replace(i, '')  # функция возвращает аргумент с заменой значения из списка на ''\n",
    "    return locality                         # если в аргумент функцию не входит значение из списка, функция возвращает аргумент без изменений \n",
    "df['locality_name'] = df['locality_name'].apply(replace_name) # применяем функцию к каждому значению столбца и перезаписываем значение."
   ]
  },
  {
   "cell_type": "code",
   "execution_count": 29,
   "metadata": {
    "scrolled": true
   },
   "outputs": [
    {
     "data": {
      "text/plain": [
       "array(['Санкт-Петербург', 'Шушары', 'Янино-1', 'Парголово', 'Мурино',\n",
       "       'Ломоносов', 'Сертолово', 'Петергоф', 'Пушкин', 'Кудрово',\n",
       "       'Коммунар', 'Колпино', 'Красный Бор', 'Гатчина', 'Фёдоровское',\n",
       "       'Выборг', 'Кронштадт', 'Кировск', 'Новое Девяткино',\n",
       "       'Металлострой', 'Лебяжье', 'Сиверский', 'Молодцово',\n",
       "       'Кузьмоловский', 'Новая Ропша', 'Павловск', 'Пикколово',\n",
       "       'Всеволожск', 'Волхов', 'Кингисепп', 'Приозерск', 'Сестрорецк',\n",
       "       'Куттузи', 'Аннино', 'Ефимовский', 'Плодовое', 'Заклинье',\n",
       "       'Торковичи', 'Первомайское', 'Красное Село', 'Понтонный',\n",
       "       'Сясьстрой', 'Старая', 'Лесколово', 'Новый Свет', 'Сланцы',\n",
       "       'Путилово', 'Ивангород', 'Шлиссельбург', 'Никольское',\n",
       "       'Зеленогорск', 'Сосновый Бор', 'Оржицы', 'Кальтино', 'Романовка',\n",
       "       'Бугры', 'Рощино', 'Кириши', 'Луга', 'Волосово', 'Отрадное',\n",
       "       'Павлово', 'Оредеж', 'Копорье', 'Молодёжное', 'Тихвин', 'Победа',\n",
       "       'Нурма', 'Синявино', 'Тосно', 'Стрельна', 'Бокситогорск',\n",
       "       'Александровская', 'Лопухинка', 'Пикалёво', 'Терволово',\n",
       "       'Советский', 'Подпорожье', 'Петровское', 'Токсово', 'Сельцо',\n",
       "       'Вырица', 'Кипень', 'Келози', 'Вартемяги', 'Тельмана',\n",
       "       'Севастьяново', 'Большая Ижора', 'неизвестно', 'Агалатово',\n",
       "       'Новогорелово', 'Лесогорский', 'Лаголово', 'Цвелодубово', 'Рахья',\n",
       "       'Белогорка', 'Заводской', 'Новоселье', 'Большие Колпаны',\n",
       "       'Горбунки', 'Батово', 'Заневка', 'Иссад', 'Приморск', 'Мистолово',\n",
       "       'Новая Ладога', 'Зимитицы', 'Барышево', 'Разметелево',\n",
       "       'имени Свердлова', 'Пеники', 'Рябово', 'Пудомяги', 'Корнево',\n",
       "       'Низино', 'Бегуницы', 'Поляны', 'Мга', 'Елизаветино', 'Кузнечное',\n",
       "       'Колтуши', 'Запорожское', 'Гостилицы', 'Малое Карлино',\n",
       "       'Мичуринское', 'имени Морозова', 'Песочный', 'Сосново', 'Аро',\n",
       "       'Ильичёво', 'Тайцы', 'Малое Верево', 'Извара', 'Вещево', 'Паша',\n",
       "       'Калитино', 'Ульяновка', 'Чудской Бор', 'Дубровка', 'Мины',\n",
       "       'Войсковицы', 'Коркино', 'Ропша', 'Приладожский', 'Щеглово',\n",
       "       'Гаврилово', 'Лодейное Поле', 'Рабитицы', 'Никольский',\n",
       "       'Кузьмолово', 'Малые Колпаны', 'Петро-Славянка', 'Назия', 'Репино',\n",
       "       'Углово', 'Старая Малукса', 'Меньково', 'Старые Бегуницы',\n",
       "       'Сапёрный', 'Семрино', 'Глажево', 'Кобринское', 'Гарболово',\n",
       "       'Юкки', 'Приветнинское', 'Мануйлово', 'Пчева', 'Цвылёво',\n",
       "       'Мельниково', 'Пудость', 'Усть-Луга', 'Светогорск', 'Любань',\n",
       "       'Селезнёво', 'Каменногорск', 'Кривко', 'Глебычево', 'Парицы',\n",
       "       'Жилпосёлок', 'Войскорово', 'Стеклянный', 'Важины',\n",
       "       'Мыза-Ивановка', 'Русско-Высоцкое', 'Форносово', 'Старая Ладога',\n",
       "       'Житково', 'Виллози', 'Лампово', 'Шпаньково', 'Лаврики', 'Сумино',\n",
       "       'Возрождение', 'Старосиверская', 'Кикерино', 'Старое Хинколово',\n",
       "       'Пригородный', 'Торфяное', 'Будогощь', 'Суходолье',\n",
       "       'Красная Долина', 'Хапо-Ое', 'Дружная Горка', 'Лисий Нос',\n",
       "       'Яльгелево', 'Рождествено', 'Старополье', 'Левашово', 'Сяськелево',\n",
       "       'Камышовка', 'Лесная Поляна', 'Хязельки', 'Жилгородок', 'Ялгино',\n",
       "       'Новый Учхоз', 'Гончарово', 'Почап', 'Сапёрное',\n",
       "       'Платформа 69-й километр', 'Каложицы', 'Фалилеево', 'Пельгора',\n",
       "       'Торошковичи', 'Белоостров', 'Алексеевка', 'Серебрянский',\n",
       "       'Лукаши', 'Тарасово', 'Кингисеппский', 'Ушаки', 'Котлы', 'Сижно',\n",
       "       'Торосово', 'Форт Красная Горка', 'Новолисино', 'Громово',\n",
       "       'Глинка', 'Старая Пустошь', 'Коммунары', 'Починок', 'Вознесенье',\n",
       "       'Разбегаево', 'Гладкое', 'Тёсово-4', 'Бор', 'Коробицыно',\n",
       "       'Большая Вруда', 'Курковицы', 'Кобралово', 'Суоранда',\n",
       "       'Кондратьево', 'Счастье', 'Реброво', 'Тойворово', 'Семиозерье',\n",
       "       'Лесное', 'Совхозный', 'Ленинское', 'Суйда', 'Нижние Осельки',\n",
       "       'Свирь', 'Перово', 'Высоцк', 'Шум', 'Котельский', 'Лужайка',\n",
       "       'Большая Пустомержа', 'Красносельское', 'Вахнова Кара', 'Пижма',\n",
       "       'Кивеннапа Север', 'Ромашки', 'Каськово', 'Куровицы', 'Плоское',\n",
       "       'Кирпичное', 'Ям-Тесово', 'Раздолье', 'Терпилицы', 'Шугозеро',\n",
       "       'Ваганово', 'Пушное', 'Садко', 'Усть-Ижора', 'Выскатка',\n",
       "       'Свирьстрой', 'Кисельня', 'Трубников Бор', 'Высокоключевой',\n",
       "       'Пансионат Зелёный Бор', 'Ненимяки', 'Снегирёвка', 'Рапполово',\n",
       "       'Пустынка', 'Большой Сабск', 'Русско', 'Лупполово',\n",
       "       'Большое Рейзино', 'Малая Романовка', 'Дружноселье', 'Пчевжа',\n",
       "       'Володарское', 'Нижняя', 'Тихковицы', 'Борисова Грива',\n",
       "       'Дзержинского'], dtype=object)"
      ]
     },
     "execution_count": 29,
     "metadata": {},
     "output_type": "execute_result"
    }
   ],
   "source": [
    "df['locality_name'].unique()"
   ]
  },
  {
   "cell_type": "markdown",
   "metadata": {},
   "source": [
    "Неявные дубликаты устранены."
   ]
  },
  {
   "cell_type": "markdown",
   "metadata": {},
   "source": [
    "Рассмотрим столбцы. \n",
    "\n",
    "* `airports_nearest` — расстояние до ближайшего аэропорта в метрах (м)\n",
    "* `cityCenters_nearest` — расстояние до центра города (м)\n",
    "* `parks_around3000` — число парков в радиусе 3 км\n",
    "* `parks_nearest` — расстояние до ближайшего парка (м)\n",
    "* `ponds_around3000` — число водоёмов в радиусе 3 км\n",
    "* `ponds_nearest` — расстояние до ближайшего водоёма (м)\n",
    "\n",
    "Пропуски в данных столбцах скорее всего технического характера, т.к. получены автоматически на основе картографических данных, самостоятельно корректно заменить их не представляется возможным, доля пропусков в этих столбцах значительна от 23% до 65% поэтому удалять строки с пропусками в этих столбцах из датасета нельзя. Пока оставим столбцы без изменения. Если в дальнейшем эти пропуски будут мешать в расчетах, то заменим их на значение `неизвестно`."
   ]
  },
  {
   "cell_type": "markdown",
   "metadata": {},
   "source": [
    "Заменим `float` на `datetime` в столбце `first_day_exposition`."
   ]
  },
  {
   "cell_type": "code",
   "execution_count": 30,
   "metadata": {},
   "outputs": [],
   "source": [
    "df['first_day_exposition'] = pd.to_datetime(df['first_day_exposition'], format='%Y.%m.%dT%H:%M:%S')"
   ]
  },
  {
   "cell_type": "markdown",
   "metadata": {},
   "source": [
    "Рассмотрим столбец `days_exposition`."
   ]
  },
  {
   "cell_type": "markdown",
   "metadata": {},
   "source": [
    "Предположим, что самая поздняя дата в столбце `first_day_exposition` это дата выгрузки датафрейма, тогда пропуски в столбце `days_exposition` можно заполнить как разницу поздней даты и дата размещения объявления."
   ]
  },
  {
   "cell_type": "code",
   "execution_count": 31,
   "metadata": {},
   "outputs": [
    {
     "data": {
      "text/plain": [
       "Timestamp('2019-05-03 00:00:00')"
      ]
     },
     "execution_count": 31,
     "metadata": {},
     "output_type": "execute_result"
    }
   ],
   "source": [
    "from datetime import datetime     # имортируем метод\n",
    "df['first_day_exposition'].max()  # выведем самую позднюю дату"
   ]
  },
  {
   "cell_type": "code",
   "execution_count": 32,
   "metadata": {},
   "outputs": [],
   "source": [
    "day_export = datetime(2019,5,3)  # создадим переменную с самой поздней датой\n",
    "df['days_exposition'] = df['days_exposition'].fillna((day_export- df['first_day_exposition']).dt.days) # заменим пропуски разницей дней."
   ]
  },
  {
   "cell_type": "markdown",
   "metadata": {},
   "source": [
    "Посмотрим, что у нас получилось после удаления пропусков, там, где это необходимо."
   ]
  },
  {
   "cell_type": "code",
   "execution_count": 33,
   "metadata": {
    "scrolled": false
   },
   "outputs": [
    {
     "data": {
      "text/plain": [
       "total_images            0.000000\n",
       "last_price              0.000000\n",
       "total_area              0.000000\n",
       "first_day_exposition    0.000000\n",
       "rooms                   0.000000\n",
       "ceiling_height          0.000000\n",
       "floors_total            0.000000\n",
       "living_area             0.000000\n",
       "floor                   0.000000\n",
       "is_apartment            0.000000\n",
       "studio                  0.000000\n",
       "open_plan               0.000000\n",
       "kitchen_area            0.000000\n",
       "balcony                 0.000000\n",
       "locality_name           0.000000\n",
       "airports_nearest        0.234278\n",
       "cityCenters_nearest     0.233304\n",
       "parks_around3000        0.233261\n",
       "parks_nearest           0.659298\n",
       "ponds_around3000        0.233261\n",
       "ponds_nearest           0.616271\n",
       "days_exposition         0.000000\n",
       "dtype: float64"
      ]
     },
     "metadata": {},
     "output_type": "display_data"
    }
   ],
   "source": [
    "display(df.isna().mean())"
   ]
  },
  {
   "cell_type": "code",
   "execution_count": 34,
   "metadata": {
    "scrolled": true
   },
   "outputs": [
    {
     "data": {
      "text/html": [
       "<div>\n",
       "<style scoped>\n",
       "    .dataframe tbody tr th:only-of-type {\n",
       "        vertical-align: middle;\n",
       "    }\n",
       "\n",
       "    .dataframe tbody tr th {\n",
       "        vertical-align: top;\n",
       "    }\n",
       "\n",
       "    .dataframe thead th {\n",
       "        text-align: right;\n",
       "    }\n",
       "</style>\n",
       "<table border=\"1\" class=\"dataframe\">\n",
       "  <thead>\n",
       "    <tr style=\"text-align: right;\">\n",
       "      <th></th>\n",
       "      <th>total_images</th>\n",
       "      <th>last_price</th>\n",
       "      <th>total_area</th>\n",
       "      <th>rooms</th>\n",
       "      <th>ceiling_height</th>\n",
       "      <th>floors_total</th>\n",
       "      <th>living_area</th>\n",
       "      <th>floor</th>\n",
       "      <th>kitchen_area</th>\n",
       "      <th>balcony</th>\n",
       "      <th>airports_nearest</th>\n",
       "      <th>cityCenters_nearest</th>\n",
       "      <th>parks_around3000</th>\n",
       "      <th>parks_nearest</th>\n",
       "      <th>ponds_around3000</th>\n",
       "      <th>ponds_nearest</th>\n",
       "      <th>days_exposition</th>\n",
       "    </tr>\n",
       "  </thead>\n",
       "  <tbody>\n",
       "    <tr>\n",
       "      <th>count</th>\n",
       "      <td>23613.000000</td>\n",
       "      <td>2.361300e+04</td>\n",
       "      <td>23613.000000</td>\n",
       "      <td>23613.000000</td>\n",
       "      <td>23613.000000</td>\n",
       "      <td>23613.000000</td>\n",
       "      <td>23613.000000</td>\n",
       "      <td>23613.000000</td>\n",
       "      <td>23613.000000</td>\n",
       "      <td>23613.000000</td>\n",
       "      <td>18081.000000</td>\n",
       "      <td>18104.000000</td>\n",
       "      <td>18105.000000</td>\n",
       "      <td>8045.000000</td>\n",
       "      <td>18105.000000</td>\n",
       "      <td>9061.000000</td>\n",
       "      <td>23613.000000</td>\n",
       "    </tr>\n",
       "    <tr>\n",
       "      <th>mean</th>\n",
       "      <td>9.874518</td>\n",
       "      <td>6.540555e+06</td>\n",
       "      <td>60.340678</td>\n",
       "      <td>2.071147</td>\n",
       "      <td>2.724581</td>\n",
       "      <td>10.673824</td>\n",
       "      <td>34.631561</td>\n",
       "      <td>5.877313</td>\n",
       "      <td>10.502668</td>\n",
       "      <td>0.593063</td>\n",
       "      <td>28788.008185</td>\n",
       "      <td>14185.084015</td>\n",
       "      <td>0.611433</td>\n",
       "      <td>490.554630</td>\n",
       "      <td>0.770119</td>\n",
       "      <td>518.209469</td>\n",
       "      <td>185.874010</td>\n",
       "    </tr>\n",
       "    <tr>\n",
       "      <th>std</th>\n",
       "      <td>5.681541</td>\n",
       "      <td>1.090172e+07</td>\n",
       "      <td>35.648988</td>\n",
       "      <td>1.078380</td>\n",
       "      <td>0.990085</td>\n",
       "      <td>6.597173</td>\n",
       "      <td>22.394364</td>\n",
       "      <td>4.873539</td>\n",
       "      <td>6.040009</td>\n",
       "      <td>0.960307</td>\n",
       "      <td>12626.209956</td>\n",
       "      <td>8614.132292</td>\n",
       "      <td>0.802168</td>\n",
       "      <td>341.336698</td>\n",
       "      <td>0.939075</td>\n",
       "      <td>277.887489</td>\n",
       "      <td>233.420361</td>\n",
       "    </tr>\n",
       "    <tr>\n",
       "      <th>min</th>\n",
       "      <td>0.000000</td>\n",
       "      <td>1.219000e+04</td>\n",
       "      <td>12.000000</td>\n",
       "      <td>0.000000</td>\n",
       "      <td>1.000000</td>\n",
       "      <td>1.000000</td>\n",
       "      <td>2.000000</td>\n",
       "      <td>1.000000</td>\n",
       "      <td>1.300000</td>\n",
       "      <td>0.000000</td>\n",
       "      <td>0.000000</td>\n",
       "      <td>181.000000</td>\n",
       "      <td>0.000000</td>\n",
       "      <td>1.000000</td>\n",
       "      <td>0.000000</td>\n",
       "      <td>13.000000</td>\n",
       "      <td>0.000000</td>\n",
       "    </tr>\n",
       "    <tr>\n",
       "      <th>25%</th>\n",
       "      <td>6.000000</td>\n",
       "      <td>3.400000e+06</td>\n",
       "      <td>40.000000</td>\n",
       "      <td>1.000000</td>\n",
       "      <td>2.600000</td>\n",
       "      <td>5.000000</td>\n",
       "      <td>19.000000</td>\n",
       "      <td>2.000000</td>\n",
       "      <td>7.000000</td>\n",
       "      <td>0.000000</td>\n",
       "      <td>18575.000000</td>\n",
       "      <td>9233.750000</td>\n",
       "      <td>0.000000</td>\n",
       "      <td>288.000000</td>\n",
       "      <td>0.000000</td>\n",
       "      <td>294.000000</td>\n",
       "      <td>43.000000</td>\n",
       "    </tr>\n",
       "    <tr>\n",
       "      <th>50%</th>\n",
       "      <td>9.000000</td>\n",
       "      <td>4.650000e+06</td>\n",
       "      <td>52.000000</td>\n",
       "      <td>2.000000</td>\n",
       "      <td>2.650000</td>\n",
       "      <td>9.000000</td>\n",
       "      <td>30.000000</td>\n",
       "      <td>4.000000</td>\n",
       "      <td>9.000000</td>\n",
       "      <td>0.000000</td>\n",
       "      <td>26726.000000</td>\n",
       "      <td>13093.000000</td>\n",
       "      <td>0.000000</td>\n",
       "      <td>455.000000</td>\n",
       "      <td>1.000000</td>\n",
       "      <td>503.000000</td>\n",
       "      <td>94.000000</td>\n",
       "    </tr>\n",
       "    <tr>\n",
       "      <th>75%</th>\n",
       "      <td>14.000000</td>\n",
       "      <td>6.799000e+06</td>\n",
       "      <td>69.800000</td>\n",
       "      <td>3.000000</td>\n",
       "      <td>2.700000</td>\n",
       "      <td>16.000000</td>\n",
       "      <td>42.173077</td>\n",
       "      <td>8.000000</td>\n",
       "      <td>12.000000</td>\n",
       "      <td>1.000000</td>\n",
       "      <td>37242.000000</td>\n",
       "      <td>16287.000000</td>\n",
       "      <td>1.000000</td>\n",
       "      <td>612.000000</td>\n",
       "      <td>1.000000</td>\n",
       "      <td>730.000000</td>\n",
       "      <td>237.000000</td>\n",
       "    </tr>\n",
       "    <tr>\n",
       "      <th>max</th>\n",
       "      <td>50.000000</td>\n",
       "      <td>7.630000e+08</td>\n",
       "      <td>900.000000</td>\n",
       "      <td>19.000000</td>\n",
       "      <td>100.000000</td>\n",
       "      <td>60.000000</td>\n",
       "      <td>409.700000</td>\n",
       "      <td>33.000000</td>\n",
       "      <td>112.000000</td>\n",
       "      <td>5.000000</td>\n",
       "      <td>84869.000000</td>\n",
       "      <td>65968.000000</td>\n",
       "      <td>3.000000</td>\n",
       "      <td>3190.000000</td>\n",
       "      <td>3.000000</td>\n",
       "      <td>1344.000000</td>\n",
       "      <td>1618.000000</td>\n",
       "    </tr>\n",
       "  </tbody>\n",
       "</table>\n",
       "</div>"
      ],
      "text/plain": [
       "       total_images    last_price    total_area         rooms  ceiling_height  \\\n",
       "count  23613.000000  2.361300e+04  23613.000000  23613.000000    23613.000000   \n",
       "mean       9.874518  6.540555e+06     60.340678      2.071147        2.724581   \n",
       "std        5.681541  1.090172e+07     35.648988      1.078380        0.990085   \n",
       "min        0.000000  1.219000e+04     12.000000      0.000000        1.000000   \n",
       "25%        6.000000  3.400000e+06     40.000000      1.000000        2.600000   \n",
       "50%        9.000000  4.650000e+06     52.000000      2.000000        2.650000   \n",
       "75%       14.000000  6.799000e+06     69.800000      3.000000        2.700000   \n",
       "max       50.000000  7.630000e+08    900.000000     19.000000      100.000000   \n",
       "\n",
       "       floors_total   living_area         floor  kitchen_area       balcony  \\\n",
       "count  23613.000000  23613.000000  23613.000000  23613.000000  23613.000000   \n",
       "mean      10.673824     34.631561      5.877313     10.502668      0.593063   \n",
       "std        6.597173     22.394364      4.873539      6.040009      0.960307   \n",
       "min        1.000000      2.000000      1.000000      1.300000      0.000000   \n",
       "25%        5.000000     19.000000      2.000000      7.000000      0.000000   \n",
       "50%        9.000000     30.000000      4.000000      9.000000      0.000000   \n",
       "75%       16.000000     42.173077      8.000000     12.000000      1.000000   \n",
       "max       60.000000    409.700000     33.000000    112.000000      5.000000   \n",
       "\n",
       "       airports_nearest  cityCenters_nearest  parks_around3000  parks_nearest  \\\n",
       "count      18081.000000         18104.000000      18105.000000    8045.000000   \n",
       "mean       28788.008185         14185.084015          0.611433     490.554630   \n",
       "std        12626.209956          8614.132292          0.802168     341.336698   \n",
       "min            0.000000           181.000000          0.000000       1.000000   \n",
       "25%        18575.000000          9233.750000          0.000000     288.000000   \n",
       "50%        26726.000000         13093.000000          0.000000     455.000000   \n",
       "75%        37242.000000         16287.000000          1.000000     612.000000   \n",
       "max        84869.000000         65968.000000          3.000000    3190.000000   \n",
       "\n",
       "       ponds_around3000  ponds_nearest  days_exposition  \n",
       "count      18105.000000    9061.000000     23613.000000  \n",
       "mean           0.770119     518.209469       185.874010  \n",
       "std            0.939075     277.887489       233.420361  \n",
       "min            0.000000      13.000000         0.000000  \n",
       "25%            0.000000     294.000000        43.000000  \n",
       "50%            1.000000     503.000000        94.000000  \n",
       "75%            1.000000     730.000000       237.000000  \n",
       "max            3.000000    1344.000000      1618.000000  "
      ]
     },
     "execution_count": 34,
     "metadata": {},
     "output_type": "execute_result"
    }
   ],
   "source": [
    "df.describe()"
   ]
  },
  {
   "cell_type": "markdown",
   "metadata": {},
   "source": [
    "**Вывод**\n",
    "Там, где было возможно, пропуски заменены, типы данных изменены. "
   ]
  },
  {
   "cell_type": "markdown",
   "metadata": {},
   "source": [
    "### Добавление новых столбцов."
   ]
  },
  {
   "cell_type": "markdown",
   "metadata": {},
   "source": [
    "Добавим столбец и расчет стоимости квадратного метра."
   ]
  },
  {
   "cell_type": "code",
   "execution_count": 35,
   "metadata": {},
   "outputs": [],
   "source": [
    "df['price_square_meter'] = (df['last_price'] / df['total_area']* 100).round()/100"
   ]
  },
  {
   "cell_type": "markdown",
   "metadata": {},
   "source": [
    "Добавим столбец день недели размещения объявления."
   ]
  },
  {
   "cell_type": "code",
   "execution_count": 36,
   "metadata": {},
   "outputs": [],
   "source": [
    "df['weekday'] = df['first_day_exposition'].dt.weekday"
   ]
  },
  {
   "cell_type": "markdown",
   "metadata": {},
   "source": [
    "Добавим столбец месяц размещения объявления."
   ]
  },
  {
   "cell_type": "code",
   "execution_count": 37,
   "metadata": {},
   "outputs": [],
   "source": [
    "df['month'] = df['first_day_exposition'].dt.month"
   ]
  },
  {
   "cell_type": "markdown",
   "metadata": {},
   "source": [
    "Добавим столбец год размещения объявления."
   ]
  },
  {
   "cell_type": "code",
   "execution_count": 38,
   "metadata": {},
   "outputs": [],
   "source": [
    "df['year'] = df['first_day_exposition'].dt.year"
   ]
  },
  {
   "cell_type": "markdown",
   "metadata": {},
   "source": [
    "Добавим столбец с категорией этажа."
   ]
  },
  {
   "cell_type": "code",
   "execution_count": 39,
   "metadata": {},
   "outputs": [],
   "source": [
    "def floor_type (floor):                           \n",
    "    if floor['floor'] == 1:                       # если в строке значение в столбце этаж равно 1\n",
    "        return 'первый'                           # то функция возвращает \"первый\"\n",
    "    if floor ['floor'] == floor ['floors_total']: # если в строке значение столбца этаж равно значению столбца этажности\n",
    "        return 'последний'                        # то функция возвращает \"последний\"\n",
    "    return 'другой'                               # во всех других случаях функция возвращает \"другой\"\n",
    "df['floor_category'] = df.apply(floor_type, 1)    # добавляем новый столбец равный применению функции floor_type "
   ]
  },
  {
   "cell_type": "markdown",
   "metadata": {},
   "source": [
    "Добавим столбец соотношение жилой и общей площади."
   ]
  },
  {
   "cell_type": "code",
   "execution_count": 40,
   "metadata": {},
   "outputs": [],
   "source": [
    "df['living_area_coeff'] = (df['living_area'] / df['total_area']* 100).round()/100"
   ]
  },
  {
   "cell_type": "markdown",
   "metadata": {},
   "source": [
    "Добавим столбец соотношение площади кухни к общей площади."
   ]
  },
  {
   "cell_type": "code",
   "execution_count": 41,
   "metadata": {},
   "outputs": [],
   "source": [
    "df['kitchen_area_coeff'] = (df['kitchen_area'] / df['total_area']* 100).round()/100"
   ]
  },
  {
   "cell_type": "code",
   "execution_count": 42,
   "metadata": {
    "scrolled": true
   },
   "outputs": [
    {
     "data": {
      "text/html": [
       "<div>\n",
       "<style scoped>\n",
       "    .dataframe tbody tr th:only-of-type {\n",
       "        vertical-align: middle;\n",
       "    }\n",
       "\n",
       "    .dataframe tbody tr th {\n",
       "        vertical-align: top;\n",
       "    }\n",
       "\n",
       "    .dataframe thead th {\n",
       "        text-align: right;\n",
       "    }\n",
       "</style>\n",
       "<table border=\"1\" class=\"dataframe\">\n",
       "  <thead>\n",
       "    <tr style=\"text-align: right;\">\n",
       "      <th></th>\n",
       "      <th>total_images</th>\n",
       "      <th>last_price</th>\n",
       "      <th>total_area</th>\n",
       "      <th>first_day_exposition</th>\n",
       "      <th>rooms</th>\n",
       "      <th>ceiling_height</th>\n",
       "      <th>floors_total</th>\n",
       "      <th>living_area</th>\n",
       "      <th>floor</th>\n",
       "      <th>is_apartment</th>\n",
       "      <th>...</th>\n",
       "      <th>ponds_around3000</th>\n",
       "      <th>ponds_nearest</th>\n",
       "      <th>days_exposition</th>\n",
       "      <th>price_square_meter</th>\n",
       "      <th>weekday</th>\n",
       "      <th>month</th>\n",
       "      <th>year</th>\n",
       "      <th>floor_category</th>\n",
       "      <th>living_area_coeff</th>\n",
       "      <th>kitchen_area_coeff</th>\n",
       "    </tr>\n",
       "  </thead>\n",
       "  <tbody>\n",
       "    <tr>\n",
       "      <th>0</th>\n",
       "      <td>20</td>\n",
       "      <td>13000000.0</td>\n",
       "      <td>108.0</td>\n",
       "      <td>2019-03-07</td>\n",
       "      <td>3</td>\n",
       "      <td>2.70</td>\n",
       "      <td>16.0</td>\n",
       "      <td>51.000000</td>\n",
       "      <td>8</td>\n",
       "      <td>False</td>\n",
       "      <td>...</td>\n",
       "      <td>2.0</td>\n",
       "      <td>755.0</td>\n",
       "      <td>57.0</td>\n",
       "      <td>120370.37</td>\n",
       "      <td>3</td>\n",
       "      <td>3</td>\n",
       "      <td>2019</td>\n",
       "      <td>другой</td>\n",
       "      <td>0.47</td>\n",
       "      <td>0.23</td>\n",
       "    </tr>\n",
       "    <tr>\n",
       "      <th>1</th>\n",
       "      <td>7</td>\n",
       "      <td>3350000.0</td>\n",
       "      <td>40.4</td>\n",
       "      <td>2018-12-04</td>\n",
       "      <td>1</td>\n",
       "      <td>2.65</td>\n",
       "      <td>11.0</td>\n",
       "      <td>18.600000</td>\n",
       "      <td>1</td>\n",
       "      <td>False</td>\n",
       "      <td>...</td>\n",
       "      <td>0.0</td>\n",
       "      <td>NaN</td>\n",
       "      <td>81.0</td>\n",
       "      <td>82920.79</td>\n",
       "      <td>1</td>\n",
       "      <td>12</td>\n",
       "      <td>2018</td>\n",
       "      <td>первый</td>\n",
       "      <td>0.46</td>\n",
       "      <td>0.27</td>\n",
       "    </tr>\n",
       "    <tr>\n",
       "      <th>2</th>\n",
       "      <td>10</td>\n",
       "      <td>5196000.0</td>\n",
       "      <td>56.0</td>\n",
       "      <td>2015-08-20</td>\n",
       "      <td>2</td>\n",
       "      <td>2.65</td>\n",
       "      <td>5.0</td>\n",
       "      <td>34.300000</td>\n",
       "      <td>4</td>\n",
       "      <td>False</td>\n",
       "      <td>...</td>\n",
       "      <td>2.0</td>\n",
       "      <td>574.0</td>\n",
       "      <td>558.0</td>\n",
       "      <td>92785.71</td>\n",
       "      <td>3</td>\n",
       "      <td>8</td>\n",
       "      <td>2015</td>\n",
       "      <td>другой</td>\n",
       "      <td>0.61</td>\n",
       "      <td>0.15</td>\n",
       "    </tr>\n",
       "    <tr>\n",
       "      <th>3</th>\n",
       "      <td>0</td>\n",
       "      <td>64900000.0</td>\n",
       "      <td>159.0</td>\n",
       "      <td>2015-07-24</td>\n",
       "      <td>3</td>\n",
       "      <td>2.65</td>\n",
       "      <td>14.0</td>\n",
       "      <td>91.730769</td>\n",
       "      <td>9</td>\n",
       "      <td>False</td>\n",
       "      <td>...</td>\n",
       "      <td>3.0</td>\n",
       "      <td>234.0</td>\n",
       "      <td>424.0</td>\n",
       "      <td>408176.10</td>\n",
       "      <td>4</td>\n",
       "      <td>7</td>\n",
       "      <td>2015</td>\n",
       "      <td>другой</td>\n",
       "      <td>0.58</td>\n",
       "      <td>0.18</td>\n",
       "    </tr>\n",
       "    <tr>\n",
       "      <th>4</th>\n",
       "      <td>2</td>\n",
       "      <td>10000000.0</td>\n",
       "      <td>100.0</td>\n",
       "      <td>2018-06-19</td>\n",
       "      <td>2</td>\n",
       "      <td>3.03</td>\n",
       "      <td>14.0</td>\n",
       "      <td>32.000000</td>\n",
       "      <td>13</td>\n",
       "      <td>False</td>\n",
       "      <td>...</td>\n",
       "      <td>1.0</td>\n",
       "      <td>48.0</td>\n",
       "      <td>121.0</td>\n",
       "      <td>100000.00</td>\n",
       "      <td>1</td>\n",
       "      <td>6</td>\n",
       "      <td>2018</td>\n",
       "      <td>другой</td>\n",
       "      <td>0.32</td>\n",
       "      <td>0.41</td>\n",
       "    </tr>\n",
       "  </tbody>\n",
       "</table>\n",
       "<p>5 rows × 29 columns</p>\n",
       "</div>"
      ],
      "text/plain": [
       "   total_images  last_price  total_area first_day_exposition  rooms  \\\n",
       "0            20  13000000.0       108.0           2019-03-07      3   \n",
       "1             7   3350000.0        40.4           2018-12-04      1   \n",
       "2            10   5196000.0        56.0           2015-08-20      2   \n",
       "3             0  64900000.0       159.0           2015-07-24      3   \n",
       "4             2  10000000.0       100.0           2018-06-19      2   \n",
       "\n",
       "   ceiling_height  floors_total  living_area  floor  is_apartment  ...  \\\n",
       "0            2.70          16.0    51.000000      8         False  ...   \n",
       "1            2.65          11.0    18.600000      1         False  ...   \n",
       "2            2.65           5.0    34.300000      4         False  ...   \n",
       "3            2.65          14.0    91.730769      9         False  ...   \n",
       "4            3.03          14.0    32.000000     13         False  ...   \n",
       "\n",
       "   ponds_around3000  ponds_nearest  days_exposition  price_square_meter  \\\n",
       "0               2.0          755.0             57.0           120370.37   \n",
       "1               0.0            NaN             81.0            82920.79   \n",
       "2               2.0          574.0            558.0            92785.71   \n",
       "3               3.0          234.0            424.0           408176.10   \n",
       "4               1.0           48.0            121.0           100000.00   \n",
       "\n",
       "  weekday  month  year  floor_category  living_area_coeff  kitchen_area_coeff  \n",
       "0       3      3  2019          другой               0.47                0.23  \n",
       "1       1     12  2018          первый               0.46                0.27  \n",
       "2       3      8  2015          другой               0.61                0.15  \n",
       "3       4      7  2015          другой               0.58                0.18  \n",
       "4       1      6  2018          другой               0.32                0.41  \n",
       "\n",
       "[5 rows x 29 columns]"
      ]
     },
     "execution_count": 42,
     "metadata": {},
     "output_type": "execute_result"
    }
   ],
   "source": [
    "df.head(5)"
   ]
  },
  {
   "cell_type": "markdown",
   "metadata": {},
   "source": [
    "### Замена типов данных."
   ]
  },
  {
   "cell_type": "code",
   "execution_count": 43,
   "metadata": {
    "scrolled": false
   },
   "outputs": [
    {
     "name": "stdout",
     "output_type": "stream",
     "text": [
      "<class 'pandas.core.frame.DataFrame'>\n",
      "RangeIndex: 23613 entries, 0 to 23612\n",
      "Data columns (total 29 columns):\n",
      " #   Column                Non-Null Count  Dtype         \n",
      "---  ------                --------------  -----         \n",
      " 0   total_images          23613 non-null  int64         \n",
      " 1   last_price            23613 non-null  float64       \n",
      " 2   total_area            23613 non-null  float64       \n",
      " 3   first_day_exposition  23613 non-null  datetime64[ns]\n",
      " 4   rooms                 23613 non-null  int64         \n",
      " 5   ceiling_height        23613 non-null  float64       \n",
      " 6   floors_total          23613 non-null  float64       \n",
      " 7   living_area           23613 non-null  float64       \n",
      " 8   floor                 23613 non-null  int64         \n",
      " 9   is_apartment          23613 non-null  bool          \n",
      " 10  studio                23613 non-null  bool          \n",
      " 11  open_plan             23613 non-null  bool          \n",
      " 12  kitchen_area          23613 non-null  float64       \n",
      " 13  balcony               23613 non-null  float64       \n",
      " 14  locality_name         23613 non-null  object        \n",
      " 15  airports_nearest      18081 non-null  float64       \n",
      " 16  cityCenters_nearest   18104 non-null  float64       \n",
      " 17  parks_around3000      18105 non-null  float64       \n",
      " 18  parks_nearest         8045 non-null   float64       \n",
      " 19  ponds_around3000      18105 non-null  float64       \n",
      " 20  ponds_nearest         9061 non-null   float64       \n",
      " 21  days_exposition       23613 non-null  float64       \n",
      " 22  price_square_meter    23613 non-null  float64       \n",
      " 23  weekday               23613 non-null  int64         \n",
      " 24  month                 23613 non-null  int64         \n",
      " 25  year                  23613 non-null  int64         \n",
      " 26  floor_category        23613 non-null  object        \n",
      " 27  living_area_coeff     23613 non-null  float64       \n",
      " 28  kitchen_area_coeff    23613 non-null  float64       \n",
      "dtypes: bool(3), datetime64[ns](1), float64(17), int64(6), object(2)\n",
      "memory usage: 4.8+ MB\n"
     ]
    }
   ],
   "source": [
    "df.info()"
   ]
  },
  {
   "cell_type": "markdown",
   "metadata": {},
   "source": [
    "Проверим, есть ли цифровые значения в значениях столбца, после запятой."
   ]
  },
  {
   "cell_type": "code",
   "execution_count": 44,
   "metadata": {
    "scrolled": true
   },
   "outputs": [
    {
     "data": {
      "text/plain": [
       "True"
      ]
     },
     "execution_count": 44,
     "metadata": {},
     "output_type": "execute_result"
    }
   ],
   "source": [
    "np.all(df['last_price'].apply(lambda x: x % 1) == 0)"
   ]
  },
  {
   "cell_type": "code",
   "execution_count": 45,
   "metadata": {},
   "outputs": [
    {
     "data": {
      "text/plain": [
       "True"
      ]
     },
     "execution_count": 45,
     "metadata": {},
     "output_type": "execute_result"
    }
   ],
   "source": [
    "np.all(df['balcony'].apply(lambda x: x % 1) == 0) "
   ]
  },
  {
   "cell_type": "code",
   "execution_count": 46,
   "metadata": {},
   "outputs": [
    {
     "data": {
      "text/plain": [
       "True"
      ]
     },
     "execution_count": 46,
     "metadata": {},
     "output_type": "execute_result"
    }
   ],
   "source": [
    "np.all(df['floors_total'].apply(lambda x: x % 1) == 0) "
   ]
  },
  {
   "cell_type": "markdown",
   "metadata": {},
   "source": [
    "Цифровых значений после запятой нет, можем смело менять `float` на `int`.\n",
    "\n",
    "Заменим на оптимальные типы данных."
   ]
  },
  {
   "cell_type": "code",
   "execution_count": 47,
   "metadata": {},
   "outputs": [],
   "source": [
    "for column in ['total_images', 'last_price', 'rooms','floors_total', 'floor', 'balcony', 'days_exposition','weekday', 'month', 'year']:\n",
    "     df[column] = pd.to_numeric(df[column], downcast='integer')"
   ]
  },
  {
   "cell_type": "code",
   "execution_count": 48,
   "metadata": {},
   "outputs": [],
   "source": [
    "for column in ['total_area', 'ceiling_height', 'living_area', 'kitchen_area', 'airports_nearest', 'cityCenters_nearest',\n",
    "               'parks_around3000', 'parks_nearest', 'ponds_around3000', 'ponds_nearest','price_square_meter', 'living_area_coeff', 'kitchen_area_coeff']:\n",
    "     df[column] = pd.to_numeric(df[column], downcast='float')"
   ]
  },
  {
   "cell_type": "markdown",
   "metadata": {},
   "source": [
    "Посмотрим, что у нас получилось."
   ]
  },
  {
   "cell_type": "code",
   "execution_count": 49,
   "metadata": {
    "scrolled": false
   },
   "outputs": [
    {
     "name": "stdout",
     "output_type": "stream",
     "text": [
      "<class 'pandas.core.frame.DataFrame'>\n",
      "RangeIndex: 23613 entries, 0 to 23612\n",
      "Data columns (total 29 columns):\n",
      " #   Column                Non-Null Count  Dtype         \n",
      "---  ------                --------------  -----         \n",
      " 0   total_images          23613 non-null  int8          \n",
      " 1   last_price            23613 non-null  int32         \n",
      " 2   total_area            23613 non-null  float32       \n",
      " 3   first_day_exposition  23613 non-null  datetime64[ns]\n",
      " 4   rooms                 23613 non-null  int8          \n",
      " 5   ceiling_height        23613 non-null  float32       \n",
      " 6   floors_total          23613 non-null  int8          \n",
      " 7   living_area           23613 non-null  float32       \n",
      " 8   floor                 23613 non-null  int8          \n",
      " 9   is_apartment          23613 non-null  bool          \n",
      " 10  studio                23613 non-null  bool          \n",
      " 11  open_plan             23613 non-null  bool          \n",
      " 12  kitchen_area          23613 non-null  float32       \n",
      " 13  balcony               23613 non-null  int8          \n",
      " 14  locality_name         23613 non-null  object        \n",
      " 15  airports_nearest      18081 non-null  float32       \n",
      " 16  cityCenters_nearest   18104 non-null  float32       \n",
      " 17  parks_around3000      18105 non-null  float32       \n",
      " 18  parks_nearest         8045 non-null   float32       \n",
      " 19  ponds_around3000      18105 non-null  float32       \n",
      " 20  ponds_nearest         9061 non-null   float32       \n",
      " 21  days_exposition       23613 non-null  int16         \n",
      " 22  price_square_meter    23613 non-null  float32       \n",
      " 23  weekday               23613 non-null  int8          \n",
      " 24  month                 23613 non-null  int8          \n",
      " 25  year                  23613 non-null  int16         \n",
      " 26  floor_category        23613 non-null  object        \n",
      " 27  living_area_coeff     23613 non-null  float32       \n",
      " 28  kitchen_area_coeff    23613 non-null  float32       \n",
      "dtypes: bool(3), datetime64[ns](1), float32(13), int16(2), int32(1), int8(7), object(2)\n",
      "memory usage: 2.1+ MB\n"
     ]
    }
   ],
   "source": [
    "df.info()"
   ]
  },
  {
   "cell_type": "markdown",
   "metadata": {},
   "source": [
    "## Исследовательский анализ данных\n",
    "### Первичный анализ "
   ]
  },
  {
   "cell_type": "markdown",
   "metadata": {},
   "source": [
    "Изучим общую площадь."
   ]
  },
  {
   "cell_type": "code",
   "execution_count": 50,
   "metadata": {
    "scrolled": false
   },
   "outputs": [
    {
     "data": {
      "text/plain": [
       "count    23613.000000\n",
       "mean        60.340813\n",
       "std         35.649048\n",
       "min         12.000000\n",
       "25%         40.000000\n",
       "50%         52.000000\n",
       "75%         69.800003\n",
       "max        900.000000\n",
       "Name: total_area, dtype: float64"
      ]
     },
     "execution_count": 50,
     "metadata": {},
     "output_type": "execute_result"
    }
   ],
   "source": [
    "df.total_area.describe()"
   ]
  },
  {
   "cell_type": "markdown",
   "metadata": {},
   "source": [
    "Построим диаграмму размаха."
   ]
  },
  {
   "cell_type": "code",
   "execution_count": 51,
   "metadata": {
    "scrolled": true
   },
   "outputs": [
    {
     "data": {
      "text/plain": [
       "(1.0, 1000.0)"
      ]
     },
     "execution_count": 51,
     "metadata": {},
     "output_type": "execute_result"
    },
    {
     "data": {
      "image/png": "[encoded data removed]",
      "text/plain": [
       "<Figure size 432x288 with 1 Axes>"
      ]
     },
     "metadata": {
      "needs_background": "light"
     },
     "output_type": "display_data"
    }
   ],
   "source": [
    "df.boxplot(column='total_area') \n",
    "plt.ylim(1,1000)"
   ]
  },
  {
   "cell_type": "markdown",
   "metadata": {},
   "source": [
    "Построим гистограмму."
   ]
  },
  {
   "cell_type": "code",
   "execution_count": 52,
   "metadata": {
    "scrolled": true
   },
   "outputs": [
    {
     "data": {
      "text/plain": [
       "<AxesSubplot:ylabel='Frequency'>"
      ]
     },
     "execution_count": 52,
     "metadata": {},
     "output_type": "execute_result"
    },
    {
     "data": {
      "image/png": "[encoded data removed]",
      "text/plain": [
       "<Figure size 1080x288 with 1 Axes>"
      ]
     },
     "metadata": {
      "needs_background": "light"
     },
     "output_type": "display_data"
    }
   ],
   "source": [
    "df.plot(y = 'total_area', kind = 'hist', bins = 100, grid=True, figsize = (15,4), range = (0,250), rwidth=0.6)"
   ]
  },
  {
   "cell_type": "markdown",
   "metadata": {},
   "source": [
    "Изучим стоимость квартир."
   ]
  },
  {
   "cell_type": "code",
   "execution_count": 53,
   "metadata": {
    "scrolled": false
   },
   "outputs": [
    {
     "data": {
      "text/plain": [
       "count    2.361300e+04\n",
       "mean     6.540555e+06\n",
       "std      1.090172e+07\n",
       "min      1.219000e+04\n",
       "25%      3.400000e+06\n",
       "50%      4.650000e+06\n",
       "75%      6.799000e+06\n",
       "max      7.630000e+08\n",
       "Name: last_price, dtype: float64"
      ]
     },
     "execution_count": 53,
     "metadata": {},
     "output_type": "execute_result"
    }
   ],
   "source": [
    "df.last_price.describe()"
   ]
  },
  {
   "cell_type": "markdown",
   "metadata": {},
   "source": [
    "Построим диаграмму размаха."
   ]
  },
  {
   "cell_type": "code",
   "execution_count": 54,
   "metadata": {
    "scrolled": false
   },
   "outputs": [
    {
     "data": {
      "text/plain": [
       "(0.0, 800000000.0)"
      ]
     },
     "execution_count": 54,
     "metadata": {},
     "output_type": "execute_result"
    },
    {
     "data": {
      "image/png": "[encoded data removed]",
      "text/plain": [
       "<Figure size 432x288 with 1 Axes>"
      ]
     },
     "metadata": {
      "needs_background": "light"
     },
     "output_type": "display_data"
    }
   ],
   "source": [
    "df.boxplot(column='last_price')\n",
    "plt.ylim(0,800000000)"
   ]
  },
  {
   "cell_type": "markdown",
   "metadata": {},
   "source": [
    "Построим гистограмму."
   ]
  },
  {
   "cell_type": "code",
   "execution_count": 55,
   "metadata": {
    "scrolled": false
   },
   "outputs": [
    {
     "data": {
      "text/plain": [
       "<AxesSubplot:ylabel='Frequency'>"
      ]
     },
     "execution_count": 55,
     "metadata": {},
     "output_type": "execute_result"
    },
    {
     "data": {
      "image/png": "[encoded data removed]",
      "text/plain": [
       "<Figure size 1080x288 with 1 Axes>"
      ]
     },
     "metadata": {
      "needs_background": "light"
     },
     "output_type": "display_data"
    }
   ],
   "source": [
    "df.plot(y = 'last_price', kind = 'hist', bins = 100, grid=True, figsize = (15,4), range = (0, 28000000), rwidth=0.6)"
   ]
  },
  {
   "cell_type": "markdown",
   "metadata": {},
   "source": [
    "Изучим количество комнат в квартирах."
   ]
  },
  {
   "cell_type": "code",
   "execution_count": 56,
   "metadata": {},
   "outputs": [
    {
     "data": {
      "text/plain": [
       "count    23613.000000\n",
       "mean         2.071147\n",
       "std          1.078380\n",
       "min          0.000000\n",
       "25%          1.000000\n",
       "50%          2.000000\n",
       "75%          3.000000\n",
       "max         19.000000\n",
       "Name: rooms, dtype: float64"
      ]
     },
     "execution_count": 56,
     "metadata": {},
     "output_type": "execute_result"
    }
   ],
   "source": [
    "df.rooms.describe()"
   ]
  },
  {
   "cell_type": "markdown",
   "metadata": {},
   "source": [
    "Построим диаграмму размаха."
   ]
  },
  {
   "cell_type": "code",
   "execution_count": 57,
   "metadata": {
    "scrolled": false
   },
   "outputs": [
    {
     "data": {
      "text/plain": [
       "(0.0, 20.0)"
      ]
     },
     "execution_count": 57,
     "metadata": {},
     "output_type": "execute_result"
    },
    {
     "data": {
      "image/png": "[encoded data removed]",
      "text/plain": [
       "<Figure size 432x288 with 1 Axes>"
      ]
     },
     "metadata": {
      "needs_background": "light"
     },
     "output_type": "display_data"
    }
   ],
   "source": [
    "df.boxplot(column='rooms') \n",
    "plt.ylim(0,20)"
   ]
  },
  {
   "cell_type": "markdown",
   "metadata": {},
   "source": [
    "Построим гистограмму."
   ]
  },
  {
   "cell_type": "code",
   "execution_count": 58,
   "metadata": {
    "scrolled": false
   },
   "outputs": [
    {
     "data": {
      "text/plain": [
       "<AxesSubplot:ylabel='Frequency'>"
      ]
     },
     "execution_count": 58,
     "metadata": {},
     "output_type": "execute_result"
    },
    {
     "data": {
      "image/png": "[encoded data removed]",
      "text/plain": [
       "<Figure size 1080x288 with 1 Axes>"
      ]
     },
     "metadata": {
      "needs_background": "light"
     },
     "output_type": "display_data"
    }
   ],
   "source": [
    "df.plot(y = 'rooms', kind = 'hist', bins = 6, grid=True, figsize = (15,4), range = (0, 6), rwidth=0.9)"
   ]
  },
  {
   "cell_type": "markdown",
   "metadata": {},
   "source": [
    "Изучим высоту потолков в квартирах."
   ]
  },
  {
   "cell_type": "code",
   "execution_count": 59,
   "metadata": {},
   "outputs": [
    {
     "data": {
      "text/plain": [
       "count    23613.000000\n",
       "mean         2.724366\n",
       "std          0.990114\n",
       "min          1.000000\n",
       "25%          2.600000\n",
       "50%          2.650000\n",
       "75%          2.700000\n",
       "max        100.000000\n",
       "Name: ceiling_height, dtype: float64"
      ]
     },
     "execution_count": 59,
     "metadata": {},
     "output_type": "execute_result"
    }
   ],
   "source": [
    "df.ceiling_height.describe()"
   ]
  },
  {
   "cell_type": "markdown",
   "metadata": {},
   "source": [
    "Построим диаграмму размаха."
   ]
  },
  {
   "cell_type": "code",
   "execution_count": 60,
   "metadata": {},
   "outputs": [
    {
     "data": {
      "text/plain": [
       "(2.3, 6.5)"
      ]
     },
     "execution_count": 60,
     "metadata": {},
     "output_type": "execute_result"
    },
    {
     "data": {
      "image/png": "[encoded data removed]",
      "text/plain": [
       "<Figure size 432x288 with 1 Axes>"
      ]
     },
     "metadata": {
      "needs_background": "light"
     },
     "output_type": "display_data"
    }
   ],
   "source": [
    "df.boxplot(column='ceiling_height') \n",
    "plt.ylim(2.3,6.5)"
   ]
  },
  {
   "cell_type": "markdown",
   "metadata": {},
   "source": [
    "Построим гистограмму."
   ]
  },
  {
   "cell_type": "code",
   "execution_count": 61,
   "metadata": {
    "scrolled": true
   },
   "outputs": [
    {
     "data": {
      "text/plain": [
       "<AxesSubplot:ylabel='Frequency'>"
      ]
     },
     "execution_count": 61,
     "metadata": {},
     "output_type": "execute_result"
    },
    {
     "data": {
      "image/png": "[encoded data removed]",
      "text/plain": [
       "<Figure size 1080x288 with 1 Axes>"
      ]
     },
     "metadata": {
      "needs_background": "light"
     },
     "output_type": "display_data"
    }
   ],
   "source": [
    "df.plot(y = 'ceiling_height', kind = 'hist', bins = 16, range = (2.4, 4), grid=True, figsize = (15,4), rwidth=0.9)"
   ]
  },
  {
   "cell_type": "markdown",
   "metadata": {},
   "source": [
    "**Вывод**\n",
    "* **Распределение квартир по площадям**: Большая часть квартир имеет метраж от 30 до 60 кв.м., больше всего квартир с площадью 45 кв.м.\n",
    "* **Распределение цен**: Значительный разброс цен от  1 до 14 млн. Большая часть квартир продается в промежутке между 2,5 и 6 млн.\n",
    "* **Распределение по количеству комнат**: Больше всего однокомнатных и двухкомнатных квартир их примерно поровну, далее идут трехкомнатные квартиры. Зависимость обратно пропорциональная: чем больше комнат в квартире, тем меньше таких квартир.\n",
    "* **Распределение по высоте потолков**: Высота потолков в квартирах в основном находится в пределах 2,5-3,2 м. Ввиду того, что мы заменили высоту потолков медианой, равной 2,65 м., таких значений больше всего."
   ]
  },
  {
   "cell_type": "markdown",
   "metadata": {},
   "source": [
    "### Время продажи квартиры."
   ]
  },
  {
   "cell_type": "code",
   "execution_count": 62,
   "metadata": {
    "scrolled": true
   },
   "outputs": [
    {
     "data": {
      "text/plain": [
       "count    23613.000000\n",
       "mean       185.874010\n",
       "std        233.420361\n",
       "min          0.000000\n",
       "25%         43.000000\n",
       "50%         94.000000\n",
       "75%        237.000000\n",
       "max       1618.000000\n",
       "Name: days_exposition, dtype: float64"
      ]
     },
     "execution_count": 62,
     "metadata": {},
     "output_type": "execute_result"
    }
   ],
   "source": [
    "df.days_exposition.describe()"
   ]
  },
  {
   "cell_type": "code",
   "execution_count": 63,
   "metadata": {
    "scrolled": false
   },
   "outputs": [
    {
     "data": {
      "text/plain": [
       "(0.0, 1700.0)"
      ]
     },
     "execution_count": 63,
     "metadata": {},
     "output_type": "execute_result"
    },
    {
     "data": {
      "image/png": "[encoded data removed]",
      "text/plain": [
       "<Figure size 432x288 with 1 Axes>"
      ]
     },
     "metadata": {
      "needs_background": "light"
     },
     "output_type": "display_data"
    }
   ],
   "source": [
    "df.boxplot(column='days_exposition') # посмотрим на диаграму размаха \n",
    "plt.ylim(0,1700)"
   ]
  },
  {
   "cell_type": "markdown",
   "metadata": {},
   "source": [
    "Построим несколько гистограмм на разное количество дней продажи квартир."
   ]
  },
  {
   "cell_type": "code",
   "execution_count": 64,
   "metadata": {
    "scrolled": false
   },
   "outputs": [
    {
     "data": {
      "text/plain": [
       "count    23613.00\n",
       "mean       185.87\n",
       "std        233.42\n",
       "min          0.00\n",
       "25%         43.00\n",
       "50%         94.00\n",
       "75%        237.00\n",
       "max       1618.00\n",
       "Name: days_exposition, dtype: float64"
      ]
     },
     "execution_count": 64,
     "metadata": {},
     "output_type": "execute_result"
    },
    {
     "data": {
      "image/png": "[encoded data removed]",
      "text/plain": [
       "<Figure size 1080x216 with 1 Axes>"
      ]
     },
     "metadata": {
      "needs_background": "light"
     },
     "output_type": "display_data"
    },
    {
     "data": {
      "image/png": "[encoded data removed]",
      "text/plain": [
       "<Figure size 1080x216 with 1 Axes>"
      ]
     },
     "metadata": {
      "needs_background": "light"
     },
     "output_type": "display_data"
    },
    {
     "data": {
      "image/png": "[encoded data removed]",
      "text/plain": [
       "<Figure size 1080x216 with 1 Axes>"
      ]
     },
     "metadata": {
      "needs_background": "light"
     },
     "output_type": "display_data"
    }
   ],
   "source": [
    "df.plot(y = 'days_exposition', kind = 'hist', bins = 40, range = (0, 1600), grid=True, figsize = (15,3), rwidth=0.9)\n",
    "df.plot(y = 'days_exposition', kind = 'hist', bins = 50, range = (0, 550), grid=True, figsize = (15,3), rwidth=0.9)\n",
    "df.plot(y = 'days_exposition', kind = 'hist', bins = 50, range = (0, 100), grid=True, figsize = (15,3), rwidth=0.9)\n",
    "df['days_exposition'].describe().round(2)"
   ]
  },
  {
   "cell_type": "markdown",
   "metadata": {},
   "source": [
    "На графике от 0 до 100 дней отчетливо видны два пика, узнаем конкретное значение дней этих пиков."
   ]
  },
  {
   "cell_type": "code",
   "execution_count": 65,
   "metadata": {
    "scrolled": false
   },
   "outputs": [
    {
     "data": {
      "text/plain": [
       "45    908\n",
       "60    559\n",
       "7     269\n",
       "30    230\n",
       "4     212\n",
       "Name: days_exposition, dtype: int64"
      ]
     },
     "execution_count": 65,
     "metadata": {},
     "output_type": "execute_result"
    }
   ],
   "source": [
    "df['days_exposition'].value_counts().head()"
   ]
  },
  {
   "cell_type": "markdown",
   "metadata": {},
   "source": [
    "Значения какие-то слишком \"кругленькие\", скорее всего это срок жизни каких-то категорий объявлений, ведь ничего не предвещает таких всплесков, рядом с обоими пиками и справа и слева значения колеблются в районе 200 сделок в день, пик в 45 дней почти х4, пик в 60 дней почти х3. Данные пики стоит удалить, конечно мы потеряем порядка 400 реальных сделок (200 и 200), но зато в дальнейших расчетах не будет участвовать примерно 1060 ложных строк ((908-200)+(559-200)).                       "
   ]
  },
  {
   "cell_type": "code",
   "execution_count": 66,
   "metadata": {},
   "outputs": [
    {
     "data": {
      "text/plain": [
       "23613"
      ]
     },
     "execution_count": 66,
     "metadata": {},
     "output_type": "execute_result"
    }
   ],
   "source": [
    "len_before = len(df) # данная переменная понадобится нам далее для расчета процента чистых данных.\n",
    "len_before"
   ]
  },
  {
   "cell_type": "code",
   "execution_count": 67,
   "metadata": {},
   "outputs": [],
   "source": [
    "df.query('days_exposition != 45 and days_exposition != 60', inplace=True) # воспользуемся срезом, чтобы удалить значения 45 и 60\n",
    "df.reset_index(drop=True, inplace=True)                                   # переназначаем номера индексов"
   ]
  },
  {
   "cell_type": "code",
   "execution_count": 68,
   "metadata": {
    "scrolled": false
   },
   "outputs": [
    {
     "data": {
      "text/plain": [
       "<AxesSubplot:ylabel='Frequency'>"
      ]
     },
     "execution_count": 68,
     "metadata": {},
     "output_type": "execute_result"
    },
    {
     "data": {
      "image/png": "[encoded data removed]",
      "text/plain": [
       "<Figure size 1080x216 with 1 Axes>"
      ]
     },
     "metadata": {
      "needs_background": "light"
     },
     "output_type": "display_data"
    },
    {
     "data": {
      "image/png": "[encoded data removed]",
      "text/plain": [
       "<Figure size 1080x216 with 1 Axes>"
      ]
     },
     "metadata": {
      "needs_background": "light"
     },
     "output_type": "display_data"
    }
   ],
   "source": [
    "df.plot(y = 'days_exposition', kind = 'hist', bins = 50, range = (0, 550), grid=True, figsize = (15,3), rwidth=0.9)\n",
    "df.plot(y = 'days_exposition', kind = 'hist', bins = 50, range = (0, 100), grid=True, figsize = (15,3), rwidth=0.9)"
   ]
  },
  {
   "cell_type": "markdown",
   "metadata": {},
   "source": [
    "Графики стали выглядеть значительно плавнее."
   ]
  },
  {
   "cell_type": "markdown",
   "metadata": {},
   "source": [
    "**Вывод**\n",
    "\n",
    "Среднее время продажи - полгода, 186 дней. Медианное - квартал, 94 дней.\n",
    "\n",
    "Обычно продажа квартиры занимает 3 месяца, продажу до месяца можно считать быстрой, продажу более 17 месяцев, можно считать необычно долгой."
   ]
  },
  {
   "cell_type": "markdown",
   "metadata": {},
   "source": [
    "### Редкие и выбивающиеся значения.\n",
    "\n",
    "Для удаления выбросов используем комбинированный подход:\n",
    " * левой границей возьмем разницу первого квартиля и полуторного межквартильного размаха Q1-1,5*IQR\n",
    " * правой границей возьмем квантиль 0,99\n",
    " \n",
    "Такое решение принято вследствие того, что например в столбце высоты потолков квантиль 0,01 равняется 2.5 м., а при расчете левой границы методом квартилей 2,45 м. Из-за разницы 5 см. было бы удалено 3360 строк вместо 52, подобное наблюдается и с другими столбцами. Правая граница наоборот сохраняет больше строк датафрейма при ограничении квантилем 0,99, чем методом квартилей."
   ]
  },
  {
   "cell_type": "code",
   "execution_count": 69,
   "metadata": {},
   "outputs": [
    {
     "data": {
      "text/plain": [
       "2.5"
      ]
     },
     "execution_count": 69,
     "metadata": {},
     "output_type": "execute_result"
    }
   ],
   "source": [
    "np.quantile(df['ceiling_height'], 0.01)"
   ]
  },
  {
   "cell_type": "code",
   "execution_count": 70,
   "metadata": {},
   "outputs": [
    {
     "data": {
      "text/plain": [
       "52"
      ]
     },
     "execution_count": 70,
     "metadata": {},
     "output_type": "execute_result"
    }
   ],
   "source": [
    "df[df['ceiling_height'] <= 2.45]['ceiling_height'].count()"
   ]
  },
  {
   "cell_type": "code",
   "execution_count": 71,
   "metadata": {},
   "outputs": [
    {
     "data": {
      "text/plain": [
       "3360"
      ]
     },
     "execution_count": 71,
     "metadata": {},
     "output_type": "execute_result"
    }
   ],
   "source": [
    "df[df['ceiling_height'] <= 2.5]['ceiling_height'].count()"
   ]
  },
  {
   "cell_type": "markdown",
   "metadata": {},
   "source": [
    "Создадим функцию удаления строк за границами выбросов по столбцу датафрейма."
   ]
  },
  {
   "cell_type": "code",
   "execution_count": 72,
   "metadata": {},
   "outputs": [],
   "source": [
    "def removal(column, df):                            \n",
    "    q1=np.quantile(df[column],0.25)              # первый квартиль\n",
    "    q3=np.quantile(df[column],0.75)              # третий квартиль\n",
    "    iqr = q3-q1                                  # межквартильный размах\n",
    "    left = (q1-1.5*iqr).round(2)                 # левая граница выбросов\n",
    "    #right = (q3+1.5*iqr).round(2)                \n",
    "    right = (np.quantile(df[column],0.99)).round(2) # правая граница выбросов\n",
    "    \n",
    "    \n",
    "    if left < df[column].min(): left = df[column].min()  \n",
    "    # Если левая граница выбросов меньше минимального значения, то левая граница принимается равной минимальному значению      \n",
    "    if right > df[column].max(): right = df[column].max() \n",
    "    # Если правая граница выбросов больше баксимального значения, то правая граница принимается равной максимального значению\n",
    "    \n",
    "    for i in range(len(df)):                                            # для каждой строки i датафрейма\n",
    "        if (df.loc[i][column] <= left) or (df.loc[i][column] >= right): # если значение в столбце строки датафрейма, \n",
    "                                             # меньше левой границы выбросов или больше правой границы выбросов,\n",
    "            df.drop(i, axis=0, inplace=True) # то удаляем эту строку\n",
    "    df.reset_index(drop=True, inplace=True)  # переназначаем номера индексов\n",
    "    return [left, right]                     # выводим значения границ"
   ]
  },
  {
   "cell_type": "code",
   "execution_count": 73,
   "metadata": {},
   "outputs": [
    {
     "data": {
      "text/plain": [
       "[12.0, 201.0]"
      ]
     },
     "execution_count": 73,
     "metadata": {},
     "output_type": "execute_result"
    }
   ],
   "source": [
    "removal('total_area', df)"
   ]
  },
  {
   "cell_type": "code",
   "execution_count": 74,
   "metadata": {},
   "outputs": [
    {
     "data": {
      "text/plain": [
       "[12190, 28111245.0]"
      ]
     },
     "execution_count": 74,
     "metadata": {},
     "output_type": "execute_result"
    }
   ],
   "source": [
    "removal('last_price', df)"
   ]
  },
  {
   "cell_type": "code",
   "execution_count": 75,
   "metadata": {},
   "outputs": [
    {
     "data": {
      "text/plain": [
       "[2.45, 3.55]"
      ]
     },
     "execution_count": 75,
     "metadata": {},
     "output_type": "execute_result"
    }
   ],
   "source": [
    "removal('ceiling_height', df)"
   ]
  },
  {
   "cell_type": "code",
   "execution_count": 76,
   "metadata": {},
   "outputs": [
    {
     "data": {
      "text/plain": [
       "[0, 5.0]"
      ]
     },
     "execution_count": 76,
     "metadata": {},
     "output_type": "execute_result"
    }
   ],
   "source": [
    "removal('rooms', df)"
   ]
  },
  {
   "cell_type": "code",
   "execution_count": 77,
   "metadata": {},
   "outputs": [
    {
     "data": {
      "text/plain": [
       "[0, 1131.0]"
      ]
     },
     "execution_count": 77,
     "metadata": {},
     "output_type": "execute_result"
    }
   ],
   "source": [
    "removal('days_exposition', df)"
   ]
  },
  {
   "cell_type": "code",
   "execution_count": 78,
   "metadata": {
    "scrolled": false
   },
   "outputs": [
    {
     "data": {
      "text/html": [
       "<div>\n",
       "<style scoped>\n",
       "    .dataframe tbody tr th:only-of-type {\n",
       "        vertical-align: middle;\n",
       "    }\n",
       "\n",
       "    .dataframe tbody tr th {\n",
       "        vertical-align: top;\n",
       "    }\n",
       "\n",
       "    .dataframe thead th {\n",
       "        text-align: right;\n",
       "    }\n",
       "</style>\n",
       "<table border=\"1\" class=\"dataframe\">\n",
       "  <thead>\n",
       "    <tr style=\"text-align: right;\">\n",
       "      <th></th>\n",
       "      <th>total_images</th>\n",
       "      <th>last_price</th>\n",
       "      <th>total_area</th>\n",
       "      <th>first_day_exposition</th>\n",
       "      <th>rooms</th>\n",
       "      <th>ceiling_height</th>\n",
       "      <th>floors_total</th>\n",
       "      <th>living_area</th>\n",
       "      <th>floor</th>\n",
       "      <th>is_apartment</th>\n",
       "      <th>...</th>\n",
       "      <th>ponds_around3000</th>\n",
       "      <th>ponds_nearest</th>\n",
       "      <th>days_exposition</th>\n",
       "      <th>price_square_meter</th>\n",
       "      <th>weekday</th>\n",
       "      <th>month</th>\n",
       "      <th>year</th>\n",
       "      <th>floor_category</th>\n",
       "      <th>living_area_coeff</th>\n",
       "      <th>kitchen_area_coeff</th>\n",
       "    </tr>\n",
       "  </thead>\n",
       "  <tbody>\n",
       "    <tr>\n",
       "      <th>0</th>\n",
       "      <td>20</td>\n",
       "      <td>13000000</td>\n",
       "      <td>108.000000</td>\n",
       "      <td>2019-03-07</td>\n",
       "      <td>3</td>\n",
       "      <td>2.70</td>\n",
       "      <td>16</td>\n",
       "      <td>51.000000</td>\n",
       "      <td>8</td>\n",
       "      <td>False</td>\n",
       "      <td>...</td>\n",
       "      <td>2.0</td>\n",
       "      <td>755.0</td>\n",
       "      <td>57</td>\n",
       "      <td>120370.367188</td>\n",
       "      <td>3</td>\n",
       "      <td>3</td>\n",
       "      <td>2019</td>\n",
       "      <td>другой</td>\n",
       "      <td>0.47</td>\n",
       "      <td>0.23</td>\n",
       "    </tr>\n",
       "    <tr>\n",
       "      <th>1</th>\n",
       "      <td>7</td>\n",
       "      <td>3350000</td>\n",
       "      <td>40.400002</td>\n",
       "      <td>2018-12-04</td>\n",
       "      <td>1</td>\n",
       "      <td>2.65</td>\n",
       "      <td>11</td>\n",
       "      <td>18.600000</td>\n",
       "      <td>1</td>\n",
       "      <td>False</td>\n",
       "      <td>...</td>\n",
       "      <td>0.0</td>\n",
       "      <td>NaN</td>\n",
       "      <td>81</td>\n",
       "      <td>82920.789062</td>\n",
       "      <td>1</td>\n",
       "      <td>12</td>\n",
       "      <td>2018</td>\n",
       "      <td>первый</td>\n",
       "      <td>0.46</td>\n",
       "      <td>0.27</td>\n",
       "    </tr>\n",
       "    <tr>\n",
       "      <th>2</th>\n",
       "      <td>10</td>\n",
       "      <td>5196000</td>\n",
       "      <td>56.000000</td>\n",
       "      <td>2015-08-20</td>\n",
       "      <td>2</td>\n",
       "      <td>2.65</td>\n",
       "      <td>5</td>\n",
       "      <td>34.299999</td>\n",
       "      <td>4</td>\n",
       "      <td>False</td>\n",
       "      <td>...</td>\n",
       "      <td>2.0</td>\n",
       "      <td>574.0</td>\n",
       "      <td>558</td>\n",
       "      <td>92785.710938</td>\n",
       "      <td>3</td>\n",
       "      <td>8</td>\n",
       "      <td>2015</td>\n",
       "      <td>другой</td>\n",
       "      <td>0.61</td>\n",
       "      <td>0.15</td>\n",
       "    </tr>\n",
       "    <tr>\n",
       "      <th>3</th>\n",
       "      <td>2</td>\n",
       "      <td>10000000</td>\n",
       "      <td>100.000000</td>\n",
       "      <td>2018-06-19</td>\n",
       "      <td>2</td>\n",
       "      <td>3.03</td>\n",
       "      <td>14</td>\n",
       "      <td>32.000000</td>\n",
       "      <td>13</td>\n",
       "      <td>False</td>\n",
       "      <td>...</td>\n",
       "      <td>1.0</td>\n",
       "      <td>48.0</td>\n",
       "      <td>121</td>\n",
       "      <td>100000.000000</td>\n",
       "      <td>1</td>\n",
       "      <td>6</td>\n",
       "      <td>2018</td>\n",
       "      <td>другой</td>\n",
       "      <td>0.32</td>\n",
       "      <td>0.41</td>\n",
       "    </tr>\n",
       "    <tr>\n",
       "      <th>4</th>\n",
       "      <td>10</td>\n",
       "      <td>2890000</td>\n",
       "      <td>30.400000</td>\n",
       "      <td>2018-09-10</td>\n",
       "      <td>1</td>\n",
       "      <td>2.65</td>\n",
       "      <td>12</td>\n",
       "      <td>14.400000</td>\n",
       "      <td>5</td>\n",
       "      <td>False</td>\n",
       "      <td>...</td>\n",
       "      <td>NaN</td>\n",
       "      <td>NaN</td>\n",
       "      <td>55</td>\n",
       "      <td>95065.789062</td>\n",
       "      <td>0</td>\n",
       "      <td>9</td>\n",
       "      <td>2018</td>\n",
       "      <td>другой</td>\n",
       "      <td>0.47</td>\n",
       "      <td>0.30</td>\n",
       "    </tr>\n",
       "    <tr>\n",
       "      <th>...</th>\n",
       "      <td>...</td>\n",
       "      <td>...</td>\n",
       "      <td>...</td>\n",
       "      <td>...</td>\n",
       "      <td>...</td>\n",
       "      <td>...</td>\n",
       "      <td>...</td>\n",
       "      <td>...</td>\n",
       "      <td>...</td>\n",
       "      <td>...</td>\n",
       "      <td>...</td>\n",
       "      <td>...</td>\n",
       "      <td>...</td>\n",
       "      <td>...</td>\n",
       "      <td>...</td>\n",
       "      <td>...</td>\n",
       "      <td>...</td>\n",
       "      <td>...</td>\n",
       "      <td>...</td>\n",
       "      <td>...</td>\n",
       "      <td>...</td>\n",
       "    </tr>\n",
       "    <tr>\n",
       "      <th>20743</th>\n",
       "      <td>2</td>\n",
       "      <td>1350000</td>\n",
       "      <td>30.000000</td>\n",
       "      <td>2017-07-07</td>\n",
       "      <td>1</td>\n",
       "      <td>2.65</td>\n",
       "      <td>5</td>\n",
       "      <td>17.500000</td>\n",
       "      <td>4</td>\n",
       "      <td>False</td>\n",
       "      <td>...</td>\n",
       "      <td>NaN</td>\n",
       "      <td>NaN</td>\n",
       "      <td>413</td>\n",
       "      <td>45000.000000</td>\n",
       "      <td>4</td>\n",
       "      <td>7</td>\n",
       "      <td>2017</td>\n",
       "      <td>другой</td>\n",
       "      <td>0.58</td>\n",
       "      <td>0.20</td>\n",
       "    </tr>\n",
       "    <tr>\n",
       "      <th>20744</th>\n",
       "      <td>9</td>\n",
       "      <td>4600000</td>\n",
       "      <td>62.400002</td>\n",
       "      <td>2016-08-05</td>\n",
       "      <td>3</td>\n",
       "      <td>2.60</td>\n",
       "      <td>9</td>\n",
       "      <td>40.000000</td>\n",
       "      <td>8</td>\n",
       "      <td>False</td>\n",
       "      <td>...</td>\n",
       "      <td>1.0</td>\n",
       "      <td>675.0</td>\n",
       "      <td>239</td>\n",
       "      <td>73717.953125</td>\n",
       "      <td>4</td>\n",
       "      <td>8</td>\n",
       "      <td>2016</td>\n",
       "      <td>другой</td>\n",
       "      <td>0.64</td>\n",
       "      <td>0.13</td>\n",
       "    </tr>\n",
       "    <tr>\n",
       "      <th>20745</th>\n",
       "      <td>18</td>\n",
       "      <td>2500000</td>\n",
       "      <td>56.700001</td>\n",
       "      <td>2018-02-11</td>\n",
       "      <td>2</td>\n",
       "      <td>2.65</td>\n",
       "      <td>3</td>\n",
       "      <td>29.700001</td>\n",
       "      <td>1</td>\n",
       "      <td>False</td>\n",
       "      <td>...</td>\n",
       "      <td>NaN</td>\n",
       "      <td>NaN</td>\n",
       "      <td>446</td>\n",
       "      <td>44091.710938</td>\n",
       "      <td>6</td>\n",
       "      <td>2</td>\n",
       "      <td>2018</td>\n",
       "      <td>первый</td>\n",
       "      <td>0.52</td>\n",
       "      <td>0.18</td>\n",
       "    </tr>\n",
       "    <tr>\n",
       "      <th>20746</th>\n",
       "      <td>13</td>\n",
       "      <td>11475000</td>\n",
       "      <td>76.750000</td>\n",
       "      <td>2017-03-28</td>\n",
       "      <td>2</td>\n",
       "      <td>3.00</td>\n",
       "      <td>17</td>\n",
       "      <td>44.278847</td>\n",
       "      <td>12</td>\n",
       "      <td>False</td>\n",
       "      <td>...</td>\n",
       "      <td>3.0</td>\n",
       "      <td>196.0</td>\n",
       "      <td>602</td>\n",
       "      <td>149511.406250</td>\n",
       "      <td>1</td>\n",
       "      <td>3</td>\n",
       "      <td>2017</td>\n",
       "      <td>другой</td>\n",
       "      <td>0.58</td>\n",
       "      <td>0.30</td>\n",
       "    </tr>\n",
       "    <tr>\n",
       "      <th>20747</th>\n",
       "      <td>4</td>\n",
       "      <td>1350000</td>\n",
       "      <td>32.299999</td>\n",
       "      <td>2017-07-21</td>\n",
       "      <td>1</td>\n",
       "      <td>2.50</td>\n",
       "      <td>5</td>\n",
       "      <td>12.300000</td>\n",
       "      <td>1</td>\n",
       "      <td>False</td>\n",
       "      <td>...</td>\n",
       "      <td>NaN</td>\n",
       "      <td>NaN</td>\n",
       "      <td>651</td>\n",
       "      <td>41795.671875</td>\n",
       "      <td>4</td>\n",
       "      <td>7</td>\n",
       "      <td>2017</td>\n",
       "      <td>первый</td>\n",
       "      <td>0.38</td>\n",
       "      <td>0.28</td>\n",
       "    </tr>\n",
       "  </tbody>\n",
       "</table>\n",
       "<p>20748 rows × 29 columns</p>\n",
       "</div>"
      ],
      "text/plain": [
       "       total_images  last_price  total_area first_day_exposition  rooms  \\\n",
       "0                20    13000000  108.000000           2019-03-07      3   \n",
       "1                 7     3350000   40.400002           2018-12-04      1   \n",
       "2                10     5196000   56.000000           2015-08-20      2   \n",
       "3                 2    10000000  100.000000           2018-06-19      2   \n",
       "4                10     2890000   30.400000           2018-09-10      1   \n",
       "...             ...         ...         ...                  ...    ...   \n",
       "20743             2     1350000   30.000000           2017-07-07      1   \n",
       "20744             9     4600000   62.400002           2016-08-05      3   \n",
       "20745            18     2500000   56.700001           2018-02-11      2   \n",
       "20746            13    11475000   76.750000           2017-03-28      2   \n",
       "20747             4     1350000   32.299999           2017-07-21      1   \n",
       "\n",
       "       ceiling_height  floors_total  living_area  floor  is_apartment  ...  \\\n",
       "0                2.70            16    51.000000      8         False  ...   \n",
       "1                2.65            11    18.600000      1         False  ...   \n",
       "2                2.65             5    34.299999      4         False  ...   \n",
       "3                3.03            14    32.000000     13         False  ...   \n",
       "4                2.65            12    14.400000      5         False  ...   \n",
       "...               ...           ...          ...    ...           ...  ...   \n",
       "20743            2.65             5    17.500000      4         False  ...   \n",
       "20744            2.60             9    40.000000      8         False  ...   \n",
       "20745            2.65             3    29.700001      1         False  ...   \n",
       "20746            3.00            17    44.278847     12         False  ...   \n",
       "20747            2.50             5    12.300000      1         False  ...   \n",
       "\n",
       "       ponds_around3000  ponds_nearest  days_exposition  price_square_meter  \\\n",
       "0                   2.0          755.0               57       120370.367188   \n",
       "1                   0.0            NaN               81        82920.789062   \n",
       "2                   2.0          574.0              558        92785.710938   \n",
       "3                   1.0           48.0              121       100000.000000   \n",
       "4                   NaN            NaN               55        95065.789062   \n",
       "...                 ...            ...              ...                 ...   \n",
       "20743               NaN            NaN              413        45000.000000   \n",
       "20744               1.0          675.0              239        73717.953125   \n",
       "20745               NaN            NaN              446        44091.710938   \n",
       "20746               3.0          196.0              602       149511.406250   \n",
       "20747               NaN            NaN              651        41795.671875   \n",
       "\n",
       "      weekday  month  year  floor_category  living_area_coeff  \\\n",
       "0           3      3  2019          другой               0.47   \n",
       "1           1     12  2018          первый               0.46   \n",
       "2           3      8  2015          другой               0.61   \n",
       "3           1      6  2018          другой               0.32   \n",
       "4           0      9  2018          другой               0.47   \n",
       "...       ...    ...   ...             ...                ...   \n",
       "20743       4      7  2017          другой               0.58   \n",
       "20744       4      8  2016          другой               0.64   \n",
       "20745       6      2  2018          первый               0.52   \n",
       "20746       1      3  2017          другой               0.58   \n",
       "20747       4      7  2017          первый               0.38   \n",
       "\n",
       "       kitchen_area_coeff  \n",
       "0                    0.23  \n",
       "1                    0.27  \n",
       "2                    0.15  \n",
       "3                    0.41  \n",
       "4                    0.30  \n",
       "...                   ...  \n",
       "20743                0.20  \n",
       "20744                0.13  \n",
       "20745                0.18  \n",
       "20746                0.30  \n",
       "20747                0.28  \n",
       "\n",
       "[20748 rows x 29 columns]"
      ]
     },
     "execution_count": 78,
     "metadata": {},
     "output_type": "execute_result"
    }
   ],
   "source": [
    "df"
   ]
  },
  {
   "cell_type": "code",
   "execution_count": 79,
   "metadata": {
    "scrolled": true
   },
   "outputs": [
    {
     "data": {
      "text/plain": [
       "'Доля чистых значений составила: 87.9%'"
      ]
     },
     "execution_count": 79,
     "metadata": {},
     "output_type": "execute_result"
    }
   ],
   "source": [
    "'Доля чистых значений составила: {:.1%}'. format(len(df) / len_before)"
   ]
  },
  {
   "cell_type": "markdown",
   "metadata": {},
   "source": [
    "Редкие и выбивающиеся значения убраны."
   ]
  },
  {
   "cell_type": "markdown",
   "metadata": {},
   "source": [
    "### Стоимость квартиры в СПб.\n",
    "Изучим, зависит ли цена от площади, числа комнат, этажа, удалённости от центра. Также изучим зависимость от даты размещения: дня недели, месяца и года»."
   ]
  },
  {
   "cell_type": "code",
   "execution_count": 80,
   "metadata": {
    "scrolled": false
   },
   "outputs": [
    {
     "data": {
      "text/html": [
       "<div>\n",
       "<style scoped>\n",
       "    .dataframe tbody tr th:only-of-type {\n",
       "        vertical-align: middle;\n",
       "    }\n",
       "\n",
       "    .dataframe tbody tr th {\n",
       "        vertical-align: top;\n",
       "    }\n",
       "\n",
       "    .dataframe thead th {\n",
       "        text-align: right;\n",
       "    }\n",
       "</style>\n",
       "<table border=\"1\" class=\"dataframe\">\n",
       "  <thead>\n",
       "    <tr style=\"text-align: right;\">\n",
       "      <th></th>\n",
       "      <th>last_price</th>\n",
       "      <th>total_area</th>\n",
       "      <th>rooms</th>\n",
       "      <th>cityCenters_nearest</th>\n",
       "    </tr>\n",
       "  </thead>\n",
       "  <tbody>\n",
       "    <tr>\n",
       "      <th>last_price</th>\n",
       "      <td>1.000000</td>\n",
       "      <td>0.774444</td>\n",
       "      <td>0.456603</td>\n",
       "      <td>-0.335556</td>\n",
       "    </tr>\n",
       "    <tr>\n",
       "      <th>total_area</th>\n",
       "      <td>0.774444</td>\n",
       "      <td>1.000000</td>\n",
       "      <td>0.765393</td>\n",
       "      <td>-0.194241</td>\n",
       "    </tr>\n",
       "    <tr>\n",
       "      <th>rooms</th>\n",
       "      <td>0.456603</td>\n",
       "      <td>0.765393</td>\n",
       "      <td>1.000000</td>\n",
       "      <td>-0.124692</td>\n",
       "    </tr>\n",
       "    <tr>\n",
       "      <th>cityCenters_nearest</th>\n",
       "      <td>-0.335556</td>\n",
       "      <td>-0.194241</td>\n",
       "      <td>-0.124692</td>\n",
       "      <td>1.000000</td>\n",
       "    </tr>\n",
       "  </tbody>\n",
       "</table>\n",
       "</div>"
      ],
      "text/plain": [
       "                     last_price  total_area     rooms  cityCenters_nearest\n",
       "last_price             1.000000    0.774444  0.456603            -0.335556\n",
       "total_area             0.774444    1.000000  0.765393            -0.194241\n",
       "rooms                  0.456603    0.765393  1.000000            -0.124692\n",
       "cityCenters_nearest   -0.335556   -0.194241 -0.124692             1.000000"
      ]
     },
     "metadata": {},
     "output_type": "display_data"
    },
    {
     "data": {
      "text/plain": [
       "array([[<AxesSubplot:xlabel='last_price', ylabel='last_price'>,\n",
       "        <AxesSubplot:xlabel='total_area', ylabel='last_price'>,\n",
       "        <AxesSubplot:xlabel='rooms', ylabel='last_price'>,\n",
       "        <AxesSubplot:xlabel='cityCenters_nearest', ylabel='last_price'>],\n",
       "       [<AxesSubplot:xlabel='last_price', ylabel='total_area'>,\n",
       "        <AxesSubplot:xlabel='total_area', ylabel='total_area'>,\n",
       "        <AxesSubplot:xlabel='rooms', ylabel='total_area'>,\n",
       "        <AxesSubplot:xlabel='cityCenters_nearest', ylabel='total_area'>],\n",
       "       [<AxesSubplot:xlabel='last_price', ylabel='rooms'>,\n",
       "        <AxesSubplot:xlabel='total_area', ylabel='rooms'>,\n",
       "        <AxesSubplot:xlabel='rooms', ylabel='rooms'>,\n",
       "        <AxesSubplot:xlabel='cityCenters_nearest', ylabel='rooms'>],\n",
       "       [<AxesSubplot:xlabel='last_price', ylabel='cityCenters_nearest'>,\n",
       "        <AxesSubplot:xlabel='total_area', ylabel='cityCenters_nearest'>,\n",
       "        <AxesSubplot:xlabel='rooms', ylabel='cityCenters_nearest'>,\n",
       "        <AxesSubplot:xlabel='cityCenters_nearest', ylabel='cityCenters_nearest'>]],\n",
       "      dtype=object)"
      ]
     },
     "execution_count": 80,
     "metadata": {},
     "output_type": "execute_result"
    },
    {
     "data": {
      "image/png": "[encoded data removed]",
      "text/plain": [
       "<Figure size 720x720 with 16 Axes>"
      ]
     },
     "metadata": {
      "needs_background": "light"
     },
     "output_type": "display_data"
    }
   ],
   "source": [
    "display(df[['last_price', 'total_area','rooms','cityCenters_nearest']].corr()) # Посмотри корреляцию столбцов.\n",
    "pd.plotting.scatter_matrix(df[['last_price', 'total_area','rooms','cityCenters_nearest']],figsize=(10,10)) # Построим графики"
   ]
  },
  {
   "cell_type": "markdown",
   "metadata": {},
   "source": [
    "**Вывод**\n",
    "\n",
    "* Цена квартиры сильно коррелирует с площадью квартиры (коэф. корр. 0,774), чем больше, тем больше.\n",
    "* Цена квартиры зависит и от количества комнат (коэф. корр. 0,457), чем больше, тем больше, но в меньшей степени чем от площади.\n",
    "* Цена зависит и от удаленности (коэф. корр.-0.336), чем дальше от центра тем дешевле."
   ]
  },
  {
   "cell_type": "markdown",
   "metadata": {},
   "source": [
    "#### Факторы, влияющие на стоимость квартиры  в СПб.\n",
    "Изучим зависимость цены от того, на каком этаже расположена квартира: первом, последнем или другом. Также изучим зависимость от даты размещения: дня недели, месяца и года.\n",
    "\n",
    "Построим диаграммы размаха для столбцов от цены."
   ]
  },
  {
   "cell_type": "code",
   "execution_count": 82,
   "metadata": {
    "scrolled": false
   },
   "outputs": [
    {
     "data": {
      "image/png": "[encoded data removed]",
      "text/plain": [
       "<Figure size 360x360 with 1 Axes>"
      ]
     },
     "metadata": {
      "needs_background": "light"
     },
     "output_type": "display_data"
    },
    {
     "data": {
      "image/png": "[encoded data removed]",
      "text/plain": [
       "<Figure size 360x360 with 1 Axes>"
      ]
     },
     "metadata": {
      "needs_background": "light"
     },
     "output_type": "display_data"
    },
    {
     "data": {
      "image/png": "[encoded data removed]",
      "text/plain": [
       "<Figure size 360x360 with 1 Axes>"
      ]
     },
     "metadata": {
      "needs_background": "light"
     },
     "output_type": "display_data"
    },
    {
     "data": {
      "image/png": "[encoded data removed]",
      "text/plain": [
       "<Figure size 360x360 with 1 Axes>"
      ]
     },
     "metadata": {
      "needs_background": "light"
     },
     "output_type": "display_data"
    }
   ],
   "source": [
    "for column in ['floor_category', 'weekday', 'month', 'year']:                  \n",
    "    sns.catplot(x=column, y=\"last_price\", kind=\"box\", data=df, palette='husl') "
   ]
  },
  {
   "cell_type": "markdown",
   "metadata": {},
   "source": [
    "#### Вывод\n",
    "\n",
    "* Цена квартиры зависит от этажа, на 1 этаже самые дешевые квартиры, дороже квартиры на последнем этаже, еще дороже квартиры на всех остальных этажах.\n",
    "* Зависимости цены квартиры от дня размещения практически нет, чуть дороже выставлялись квартиры в среду, чуть дешевле в воскресенье.\n",
    "* Зависимость цены квартиры от месяца размещения также незначительна, чуть дороже выставлялись квартиры в апреле, чуть дешевле в июне, скорее всего обусловлено началом отпусков и окончанием учебного года.\n",
    "* Зависимость цены квартиры от года имеется, значительно дороже выставлялись квартиры в 2014 году, скорее всего это обусловлено сильной коррекцией рубля, что привело к резкому удорожанию недвижимости и желанию людей как можно скорее пристроить свои дешевеющие рубли.  Хоть рубль продолжил дешеветь, стоимость квартир стала снижаться, т.к. упал спрос, из-за высоких продаж 2014 года. Дешевле квартиры стоили в 2017 году."
   ]
  },
  {
   "cell_type": "markdown",
   "metadata": {},
   "source": [
    "### Топ - 10 населённых пунктов с наибольшим числом объявлений. \n",
    "Посчитаем среднюю цену квадратного метра в этих населённых пунктах. Выделим населённые пункты с самой высокой и низкой стоимостью жилья."
   ]
  },
  {
   "cell_type": "code",
   "execution_count": 83,
   "metadata": {},
   "outputs": [],
   "source": [
    "ten_city = df['locality_name'].value_counts().index.tolist()[:10]\n",
    "# Создадим список c 10 населёнными пунктами с самым высоким кол-вом сделок"
   ]
  },
  {
   "cell_type": "code",
   "execution_count": 84,
   "metadata": {},
   "outputs": [],
   "source": [
    "median_price = [df[df['locality_name'] == i]['last_price'].median()/1000 for i in ten_city]\n",
    "# Создадим список с медианными стоимостями квартир для каждого населённого пункта i из списка ten_city"
   ]
  },
  {
   "cell_type": "code",
   "execution_count": 85,
   "metadata": {},
   "outputs": [],
   "source": [
    "median_square_meter = [df[df['locality_name'] == i]['price_square_meter'].median()/1000 for i in ten_city]\n",
    "# Создадим список с медианными стоимостями кв.м. для каждого населённого пункта i из списка ten_city"
   ]
  },
  {
   "cell_type": "code",
   "execution_count": 86,
   "metadata": {
    "scrolled": false
   },
   "outputs": [
    {
     "data": {
      "text/html": [
       "<div>\n",
       "<style scoped>\n",
       "    .dataframe tbody tr th:only-of-type {\n",
       "        vertical-align: middle;\n",
       "    }\n",
       "\n",
       "    .dataframe tbody tr th {\n",
       "        vertical-align: top;\n",
       "    }\n",
       "\n",
       "    .dataframe thead th {\n",
       "        text-align: right;\n",
       "    }\n",
       "</style>\n",
       "<table border=\"1\" class=\"dataframe\">\n",
       "  <thead>\n",
       "    <tr style=\"text-align: right;\">\n",
       "      <th></th>\n",
       "      <th>Населённый пункт</th>\n",
       "      <th>Средняя стоимость квартиры, тыс. руб.</th>\n",
       "      <th>Средняя стоимость за кв.м., тыс. руб.</th>\n",
       "    </tr>\n",
       "  </thead>\n",
       "  <tbody>\n",
       "    <tr>\n",
       "      <th>0</th>\n",
       "      <td>Санкт-Петербург</td>\n",
       "      <td>5400.0</td>\n",
       "      <td>104.166672</td>\n",
       "    </tr>\n",
       "    <tr>\n",
       "      <th>5</th>\n",
       "      <td>Пушкин</td>\n",
       "      <td>5150.0</td>\n",
       "      <td>99.706742</td>\n",
       "    </tr>\n",
       "    <tr>\n",
       "      <th>7</th>\n",
       "      <td>Парголово</td>\n",
       "      <td>4140.0</td>\n",
       "      <td>92.307688</td>\n",
       "    </tr>\n",
       "    <tr>\n",
       "      <th>3</th>\n",
       "      <td>Шушары</td>\n",
       "      <td>3990.0</td>\n",
       "      <td>76.829273</td>\n",
       "    </tr>\n",
       "    <tr>\n",
       "      <th>2</th>\n",
       "      <td>Кудрово</td>\n",
       "      <td>3917.5</td>\n",
       "      <td>94.738391</td>\n",
       "    </tr>\n",
       "    <tr>\n",
       "      <th>6</th>\n",
       "      <td>Колпино</td>\n",
       "      <td>3560.0</td>\n",
       "      <td>75.000000</td>\n",
       "    </tr>\n",
       "    <tr>\n",
       "      <th>4</th>\n",
       "      <td>Всеволожск</td>\n",
       "      <td>3500.0</td>\n",
       "      <td>65.454551</td>\n",
       "    </tr>\n",
       "    <tr>\n",
       "      <th>1</th>\n",
       "      <td>Мурино</td>\n",
       "      <td>3450.0</td>\n",
       "      <td>84.507039</td>\n",
       "    </tr>\n",
       "    <tr>\n",
       "      <th>8</th>\n",
       "      <td>Гатчина</td>\n",
       "      <td>3050.0</td>\n",
       "      <td>67.796609</td>\n",
       "    </tr>\n",
       "    <tr>\n",
       "      <th>9</th>\n",
       "      <td>Выборг</td>\n",
       "      <td>2800.0</td>\n",
       "      <td>58.357383</td>\n",
       "    </tr>\n",
       "  </tbody>\n",
       "</table>\n",
       "</div>"
      ],
      "text/plain": [
       "  Населённый пункт  Средняя стоимость квартиры, тыс. руб.  \\\n",
       "0  Санкт-Петербург                                 5400.0   \n",
       "5           Пушкин                                 5150.0   \n",
       "7        Парголово                                 4140.0   \n",
       "3           Шушары                                 3990.0   \n",
       "2          Кудрово                                 3917.5   \n",
       "6          Колпино                                 3560.0   \n",
       "4       Всеволожск                                 3500.0   \n",
       "1           Мурино                                 3450.0   \n",
       "8          Гатчина                                 3050.0   \n",
       "9           Выборг                                 2800.0   \n",
       "\n",
       "   Средняя стоимость за кв.м., тыс. руб.  \n",
       "0                             104.166672  \n",
       "5                              99.706742  \n",
       "7                              92.307688  \n",
       "3                              76.829273  \n",
       "2                              94.738391  \n",
       "6                              75.000000  \n",
       "4                              65.454551  \n",
       "1                              84.507039  \n",
       "8                              67.796609  \n",
       "9                              58.357383  "
      ]
     },
     "execution_count": 86,
     "metadata": {},
     "output_type": "execute_result"
    }
   ],
   "source": [
    "best_citys = pd.DataFrame(                                                 # Создадим датафрейм из вышеуказанных списков\n",
    "    {'Населённый пункт': ten_city,\n",
    "     'Средняя стоимость квартиры, тыс. руб.': median_price,\n",
    "     'Средняя стоимость за кв.м., тыс. руб.': median_square_meter,}\n",
    ").sort_values(by='Средняя стоимость квартиры, тыс. руб.', ascending=False) # Отсортируем датафрейм по стоимости квартир\n",
    "best_citys"
   ]
  },
  {
   "cell_type": "markdown",
   "metadata": {},
   "source": [
    "**Вывод**\n",
    "\n",
    "Самая высокая стоимость квартир в Санкт-Петербурге, самая низкая в Выборге."
   ]
  },
  {
   "cell_type": "markdown",
   "metadata": {},
   "source": [
    "### Зависимость стоимости квадратного метро от удаленности от центра:\n",
    "Выделим квартиры в Санкт-Петербурге. Выясним, какая область входит в центр. Создадим столбец с расстоянием до центра в километрах, округлим до целых значений. После этого посчитаем среднюю цену для каждого километра. Построим график, который покажет, как цена зависит от удалённости от центра. Определим границу, где график сильно меняется, — это и будет центральная зона."
   ]
  },
  {
   "cell_type": "code",
   "execution_count": 87,
   "metadata": {
    "scrolled": false
   },
   "outputs": [
    {
     "data": {
      "text/html": [
       "<div>\n",
       "<style scoped>\n",
       "    .dataframe tbody tr th:only-of-type {\n",
       "        vertical-align: middle;\n",
       "    }\n",
       "\n",
       "    .dataframe tbody tr th {\n",
       "        vertical-align: top;\n",
       "    }\n",
       "\n",
       "    .dataframe thead th {\n",
       "        text-align: right;\n",
       "    }\n",
       "</style>\n",
       "<table border=\"1\" class=\"dataframe\">\n",
       "  <thead>\n",
       "    <tr style=\"text-align: right;\">\n",
       "      <th></th>\n",
       "      <th>last_price</th>\n",
       "      <th>price_square_meter</th>\n",
       "    </tr>\n",
       "    <tr>\n",
       "      <th>cityCenters_nearest_km</th>\n",
       "      <th></th>\n",
       "      <th></th>\n",
       "    </tr>\n",
       "  </thead>\n",
       "  <tbody>\n",
       "    <tr>\n",
       "      <th>0.0</th>\n",
       "      <td>7200000</td>\n",
       "      <td>108163.273438</td>\n",
       "    </tr>\n",
       "    <tr>\n",
       "      <th>1.0</th>\n",
       "      <td>9500000</td>\n",
       "      <td>123529.406250</td>\n",
       "    </tr>\n",
       "    <tr>\n",
       "      <th>2.0</th>\n",
       "      <td>9000000</td>\n",
       "      <td>120711.937500</td>\n",
       "    </tr>\n",
       "    <tr>\n",
       "      <th>3.0</th>\n",
       "      <td>7900000</td>\n",
       "      <td>108139.531250</td>\n",
       "    </tr>\n",
       "    <tr>\n",
       "      <th>4.0</th>\n",
       "      <td>8325000</td>\n",
       "      <td>118389.976562</td>\n",
       "    </tr>\n",
       "    <tr>\n",
       "      <th>5.0</th>\n",
       "      <td>8500000</td>\n",
       "      <td>127844.437500</td>\n",
       "    </tr>\n",
       "    <tr>\n",
       "      <th>6.0</th>\n",
       "      <td>7990000</td>\n",
       "      <td>125234.578125</td>\n",
       "    </tr>\n",
       "    <tr>\n",
       "      <th>7.0</th>\n",
       "      <td>6999000</td>\n",
       "      <td>120833.328125</td>\n",
       "    </tr>\n",
       "    <tr>\n",
       "      <th>8.0</th>\n",
       "      <td>7400000</td>\n",
       "      <td>122157.625000</td>\n",
       "    </tr>\n",
       "    <tr>\n",
       "      <th>9.0</th>\n",
       "      <td>5294500</td>\n",
       "      <td>105555.562500</td>\n",
       "    </tr>\n",
       "  </tbody>\n",
       "</table>\n",
       "</div>"
      ],
      "text/plain": [
       "                        last_price  price_square_meter\n",
       "cityCenters_nearest_km                                \n",
       "0.0                        7200000       108163.273438\n",
       "1.0                        9500000       123529.406250\n",
       "2.0                        9000000       120711.937500\n",
       "3.0                        7900000       108139.531250\n",
       "4.0                        8325000       118389.976562\n",
       "5.0                        8500000       127844.437500\n",
       "6.0                        7990000       125234.578125\n",
       "7.0                        6999000       120833.328125\n",
       "8.0                        7400000       122157.625000\n",
       "9.0                        5294500       105555.562500"
      ]
     },
     "execution_count": 87,
     "metadata": {},
     "output_type": "execute_result"
    }
   ],
   "source": [
    "df['cityCenters_nearest_km'] = round(df['cityCenters_nearest'] / 1000, 0)\n",
    "spb_df = df.query('locality_name == \"Санкт-Петербург\"')\n",
    "spb_price_distance = spb_df.pivot_table(index='cityCenters_nearest_km', values=['price_square_meter', 'last_price'], aggfunc='median')\n",
    "spb_price_distance.head(10)"
   ]
  },
  {
   "cell_type": "code",
   "execution_count": 88,
   "metadata": {
    "scrolled": false
   },
   "outputs": [
    {
     "data": {
      "text/plain": [
       "<AxesSubplot:xlabel='cityCenters_nearest_km'>"
      ]
     },
     "execution_count": 88,
     "metadata": {},
     "output_type": "execute_result"
    },
    {
     "data": {
      "image/png": "[encoded data removed]",
      "text/plain": [
       "<Figure size 1080x360 with 1 Axes>"
      ]
     },
     "metadata": {
      "needs_background": "light"
     },
     "output_type": "display_data"
    }
   ],
   "source": [
    "spb_price_distance.plot(y = 'last_price',kind = 'bar',figsize = (15,5))"
   ]
  },
  {
   "cell_type": "markdown",
   "metadata": {},
   "source": [
    "**Вывод**\n",
    "\n",
    "Определенно стоимость квартиры зависит от удаленности от центра, что отчетливо видно на графике.\n",
    "Начиная с 9 км. резкое снижение цены квартиры, всё что до, будем считать центром."
   ]
  },
  {
   "cell_type": "markdown",
   "metadata": {},
   "source": [
    "### Недвижимость в центре СПб. \n",
    "Изучим следующие параметры: площадь, цена, число комнат, высота потолков. Также выделим факторы, которые влияют на стоимость квартиры (число комнат, этаж, удалённость от центра, дата размещения объявления). "
   ]
  },
  {
   "cell_type": "code",
   "execution_count": 89,
   "metadata": {
    "scrolled": true
   },
   "outputs": [],
   "source": [
    "spb_center = spb_df.query('cityCenters_nearest_km < 9') # Это центр."
   ]
  },
  {
   "cell_type": "markdown",
   "metadata": {},
   "source": [
    "Создадим функцию для построения графиков."
   ]
  },
  {
   "cell_type": "code",
   "execution_count": 90,
   "metadata": {},
   "outputs": [],
   "source": [
    "def df_plot(frame,list_of_columns):\n",
    "    for column in list_of_columns:\n",
    "        frame[column].hist(bins = 50,figsize = (15,3))\n",
    "        plt.title(column)\n",
    "        plt.show()\n",
    "        print()"
   ]
  },
  {
   "cell_type": "code",
   "execution_count": 91,
   "metadata": {},
   "outputs": [],
   "source": [
    "list_columns = ['total_area','last_price','rooms','ceiling_height','first_day_exposition','days_exposition']"
   ]
  },
  {
   "cell_type": "code",
   "execution_count": 92,
   "metadata": {
    "scrolled": false
   },
   "outputs": [
    {
     "data": {
      "image/png": "[encoded data removed]",
      "text/plain": [
       "<Figure size 1080x216 with 1 Axes>"
      ]
     },
     "metadata": {
      "needs_background": "light"
     },
     "output_type": "display_data"
    },
    {
     "name": "stdout",
     "output_type": "stream",
     "text": [
      "\n"
     ]
    },
    {
     "data": {
      "image/png": "[encoded data removed]",
      "text/plain": [
       "<Figure size 1080x216 with 1 Axes>"
      ]
     },
     "metadata": {
      "needs_background": "light"
     },
     "output_type": "display_data"
    },
    {
     "name": "stdout",
     "output_type": "stream",
     "text": [
      "\n"
     ]
    },
    {
     "data": {
      "image/png": "[encoded data removed]",
      "text/plain": [
       "<Figure size 1080x216 with 1 Axes>"
      ]
     },
     "metadata": {
      "needs_background": "light"
     },
     "output_type": "display_data"
    },
    {
     "name": "stdout",
     "output_type": "stream",
     "text": [
      "\n"
     ]
    },
    {
     "data": {
      "image/png": "[encoded data removed]",
      "text/plain": [
       "<Figure size 1080x216 with 1 Axes>"
      ]
     },
     "metadata": {
      "needs_background": "light"
     },
     "output_type": "display_data"
    },
    {
     "name": "stdout",
     "output_type": "stream",
     "text": [
      "\n"
     ]
    },
    {
     "data": {
      "image/png": "[encoded data removed]",
      "text/plain": [
       "<Figure size 1080x216 with 1 Axes>"
      ]
     },
     "metadata": {
      "needs_background": "light"
     },
     "output_type": "display_data"
    },
    {
     "name": "stdout",
     "output_type": "stream",
     "text": [
      "\n"
     ]
    },
    {
     "data": {
      "image/png": "[encoded data removed]",
      "text/plain": [
       "<Figure size 1080x216 with 1 Axes>"
      ]
     },
     "metadata": {
      "needs_background": "light"
     },
     "output_type": "display_data"
    },
    {
     "name": "stdout",
     "output_type": "stream",
     "text": [
      "\n"
     ]
    }
   ],
   "source": [
    "df_plot(spb_center, list_columns)"
   ]
  },
  {
   "cell_type": "code",
   "execution_count": 93,
   "metadata": {
    "scrolled": false
   },
   "outputs": [
    {
     "data": {
      "text/plain": [
       "count    3153.000000\n",
       "mean      222.113225\n",
       "std       235.469963\n",
       "min         1.000000\n",
       "25%        52.000000\n",
       "50%       134.000000\n",
       "75%       314.000000\n",
       "max      1128.000000\n",
       "Name: days_exposition, dtype: float64"
      ]
     },
     "execution_count": 93,
     "metadata": {},
     "output_type": "execute_result"
    },
    {
     "data": {
      "image/png": "[encoded data removed]",
      "text/plain": [
       "<Figure size 432x288 with 1 Axes>"
      ]
     },
     "metadata": {
      "needs_background": "light"
     },
     "output_type": "display_data"
    }
   ],
   "source": [
    "spb_center.boxplot(column='days_exposition') # посмотрим на диаграмму размаха\n",
    "plt.ylim(0,1700)\n",
    "spb_center['days_exposition'].describe()"
   ]
  },
  {
   "cell_type": "markdown",
   "metadata": {},
   "source": [
    "**Вывод**\n",
    "\n",
    "* **Распределение квартир по площадям  в центре**: Большая часть квартир имеет метраж от 40 до 75 кв.м. (от 30 до 60 кв.м. по СПб), больше всего квартир с площадью 60 кв.м. (по СПб 45 кв.м.).\n",
    "* **Распределение цен в центре**: Значительный разброс цен от 4 до 25  млн.руб.  (от 1 до 14 млн.руб. по СПб). Большая часть квартир продается в промежутке между 4 и 15 млн.руб. (между 2,5 и 6 млн.руб. по СПб).\n",
    "* **Распределение по количеству комнат в центре**: Больше всего двухкомнатных и трехкомнатных квартир их примерно поровну, далее идут однокомнатные квартиры и меньше всего четырехкомнатных. \n",
    "Распределение по количеству комнат по СПб: Больше всего однокомнатных и двухкомнатных квартир их примерно поровну, далее идут трехкомнатные квартиры. \n",
    "* **Распределение по высоте потолков в центре**: Высота потолков в квартирах в основном находится в пределах 2,5-3,5 м. Ввиду того, что мы заменили высоту потолков медианой, равной 2,65 м., таких значений больше всего, сразу за ними идут 3 м., далее 3,2. Общая тенденция: в центре потолки выше, чем по всему городу.\n",
    "* **Распределение по времени публикации в центре**: Большая часть объявлений размещена в 2017 и 2018 году.\n",
    "* **Срок продажи квартиры в центре**:  Среднее время продажи - 222 день (186 по СПб). Медианное 134 дня (94 по СПб)."
   ]
  },
  {
   "cell_type": "markdown",
   "metadata": {},
   "source": [
    "#### Факторы, влияющие на стоимость квартиры в центре СПБ (число комнат, этаж, удалённость от центра, дата размещения объявления)."
   ]
  },
  {
   "cell_type": "code",
   "execution_count": 94,
   "metadata": {
    "scrolled": false
   },
   "outputs": [
    {
     "data": {
      "image/png": "[encoded data removed]",
      "text/plain": [
       "<Figure size 360x360 with 1 Axes>"
      ]
     },
     "metadata": {
      "needs_background": "light"
     },
     "output_type": "display_data"
    },
    {
     "data": {
      "image/png": "[encoded data removed]",
      "text/plain": [
       "<Figure size 360x360 with 1 Axes>"
      ]
     },
     "metadata": {
      "needs_background": "light"
     },
     "output_type": "display_data"
    },
    {
     "data": {
      "image/png": "[encoded data removed]",
      "text/plain": [
       "<Figure size 360x360 with 1 Axes>"
      ]
     },
     "metadata": {
      "needs_background": "light"
     },
     "output_type": "display_data"
    },
    {
     "data": {
      "image/png": "[encoded data removed]",
      "text/plain": [
       "<Figure size 360x360 with 1 Axes>"
      ]
     },
     "metadata": {
      "needs_background": "light"
     },
     "output_type": "display_data"
    },
    {
     "data": {
      "image/png": "[encoded data removed]",
      "text/plain": [
       "<Figure size 360x360 with 1 Axes>"
      ]
     },
     "metadata": {
      "needs_background": "light"
     },
     "output_type": "display_data"
    },
    {
     "data": {
      "image/png": "[encoded data removed]",
      "text/plain": [
       "<Figure size 360x360 with 1 Axes>"
      ]
     },
     "metadata": {
      "needs_background": "light"
     },
     "output_type": "display_data"
    }
   ],
   "source": [
    "for column in ['rooms','floor_category',  'weekday', 'month', 'year','cityCenters_nearest_km',]:\n",
    "    sns.catplot(x=column, y=\"last_price\", kind=\"box\", data=spb_center, palette='husl')"
   ]
  },
  {
   "cell_type": "markdown",
   "metadata": {},
   "source": [
    "#### Вывод\n",
    "* Число комнат по-прежнему влияют на стоимость квартиры, чем больше комнат, тем выше цена.\n",
    "* По этажам распределение не изменилось: на 1 этаже самые дешевые квартиры, выше по возрастанию цены расположились квартиры на последнем этаже, еще выше квартиры на всех остальных этажах.\n",
    "* Зависимости цены квартиры от дня размещения изменилась, дороже всего выставлялись квартиры в понедельник, дешевле всего в субботу.\n",
    "* Зависимость цены квартиры от месяца размещения изменилась незначительно, теперь дороже выставлялись квартиры в ноябре, дешевле в декабре.\n",
    "* Зависимости цены квартиры от года размещения сильно не изменилась, 2014 самый \"дорогой\", а вот самый дешевый 2015 против 2017(по СПб)\n",
    "* Зависимость стоимости от удаленности от центра осталась прежней, только график находится в диапазоне до 9 км."
   ]
  },
  {
   "cell_type": "markdown",
   "metadata": {},
   "source": [
    "## Общий вывод\n",
    "\n",
    "Проведена большая работа по данному датасету.\n",
    "Были определены аномалии и заменена большая часть пропусков.\n",
    "Пропуски были заполнены максимально возможными способами, чтобы каждое значение могло влиять на гипотезы.\n",
    "\n",
    "Стоимость квартир больше всего зависит от общей площади и удаления от центра (центр города ограничен окружностью радиусом 8 км) из чего формируется стоимость квадратного метра, также на стоимость влияет количество комнат, чем больше, тем выше стоимость. Незначительно на цену квадратного метра влияют день, месяц, год размещения.\n",
    "\n",
    "Чаще встречаются 1-комнатные и 2-комнатные квартиры, в центре 2-комнатные и 3-комнатные. Обычно продажа квартиры занимает 2-3 месяца, продажу до месяца можно считать быстрой, продажу более 17 месяцев, можно считать необычно долгой. Квартиры в центре продаются дольше, чем квартиры по СПб и области. В 2016-2017 годах стоимость квартир в среднем по рынку была ниже, что нельзя сказать о центре СПб. Стоимость квартир на первом и последнем этажах ниже, чем остальные и в СПб с областью и в центре города.\n",
    "\n",
    "Даты продаж позволят определить, в какой момент лучше продвигать рекламную компанию по продаже домов. В какие месяцы или дни недели. Особенности центра и СПб с областью отличаются.\n",
    "\n",
    "В целом квартиры в центре оправдано дороже, у них выше потолки и близость к историческим объектам и жилье в этой локации считается престижным."
   ]
  },
  {
   "cell_type": "markdown",
   "metadata": {},
   "source": [
    "## Чек-лист готовности проекта\n",
    "\n",
    "Поставьте 'x' в выполненных пунктах. Далее нажмите Shift+Enter."
   ]
  },
  {
   "cell_type": "markdown",
   "metadata": {},
   "source": [
    "- [x]  открыт файл\n",
    "- [x]  файлы изучены (выведены первые строки, метод `info()`)\n",
    "- [x]  определены пропущенные значения\n",
    "- [x]  заполнены пропущенные значения\n",
    "- [x]  есть пояснение, какие пропущенные значения обнаружены\n",
    "- [x]  изменены типы данных\n",
    "- [x]  есть пояснение, в каких столбцах изменены типы и почему\n",
    "- [x]  посчитано и добавлено в таблицу: цена квадратного метра\n",
    "- [x]  посчитано и добавлено в таблицу: день недели, месяц и год публикации объявления\n",
    "- [x]  посчитано и добавлено в таблицу: этаж квартиры; варианты — первый, последний, другой\n",
    "- [x]  посчитано и добавлено в таблицу: соотношение жилой и общей площади, а также отношение площади кухни к общей\n",
    "- [x]  изучены следующие параметры: площадь, цена, число комнат, высота потолков\n",
    "- [x]  построены гистограммы для каждого параметра\n",
    "- [x]  выполнено задание: «Изучите время продажи квартиры. Постройте гистограмму. Посчитайте среднее и медиану. Опишите, сколько обычно занимает продажа. Когда можно считать, что продажи прошли очень быстро, а когда необычно долго?»\n",
    "- [x]  выполнено задание: «Уберите редкие и выбивающиеся значения. Опишите, какие особенности обнаружили».\n",
    "- [x]  выполнено задание: «Какие факторы больше всего влияют на стоимость квартиры? Изучите, зависит ли цена от квадратного метра, числа комнат, этажа (первого или последнего), удалённости от центра. Также изучите зависимость от даты размещения: дня недели, месяца и года». \n",
    "- [x]  выполнено задание: «Выберите 10 населённых пунктов с наибольшим числом объявлений. Посчитайте среднюю цену квадратного метра в этих населённых пунктах. Выделите населённые пункты с самой высокой и низкой стоимостью жилья. Эти данные можно найти по имени в столбце `locality_name`».\n",
    "- [x]  выполнено задание: «Изучите предложения квартир: для каждой квартиры есть информация о расстоянии до центра. Выделите квартиры в Санкт-Петербурге (`locality_name`). Ваша задача — выяснить, какая область входит в центр. Создайте столбец с расстоянием до центра в километрах: округлите до целых значений. После этого посчитайте среднюю цену для каждого километра. Постройте график: он должен показывать, как цена зависит от удалённости от центра. Определите границу, где график сильно меняется — это и будет центральная зона».\n",
    "- [x]  выполнено задание: «Выделите сегмент квартир в центре. Проанализируйте эту территорию и изучите следующие параметры: площадь, цена, число комнат, высота потолков. Также выделите факторы, которые влияют на стоимость квартиры (число комнат, этаж, удалённость от центра, дата размещения объявления). Сделайте выводы. Отличаются ли они от общих выводов по всей базе?»\n",
    "- [x]  в каждом этапе есть выводы\n",
    "- [x]  есть общий вывод"
   ]
  }
 ],
 "metadata": {
  "ExecuteTimeLog": [
   {
    "duration": 1350,
    "start_time": "2022-04-12T17:08:31.618Z"
   },
   {
    "duration": 2,
    "start_time": "2022-04-12T17:08:32.971Z"
   },
   {
    "duration": 81,
    "start_time": "2022-04-12T17:08:32.975Z"
   },
   {
    "duration": 34,
    "start_time": "2022-04-12T17:08:33.058Z"
   },
   {
    "duration": 15,
    "start_time": "2022-04-12T17:08:33.093Z"
   },
   {
    "duration": 85,
    "start_time": "2022-04-12T17:08:33.110Z"
   },
   {
    "duration": 9,
    "start_time": "2022-04-12T17:08:33.197Z"
   },
   {
    "duration": 6,
    "start_time": "2022-04-12T17:08:33.207Z"
   },
   {
    "duration": 3,
    "start_time": "2022-04-12T17:08:33.215Z"
   },
   {
    "duration": 28,
    "start_time": "2022-04-12T17:08:33.221Z"
   },
   {
    "duration": 6,
    "start_time": "2022-04-12T17:08:33.250Z"
   },
   {
    "duration": 10,
    "start_time": "2022-04-12T17:08:33.258Z"
   },
   {
    "duration": 6,
    "start_time": "2022-04-12T17:08:33.269Z"
   },
   {
    "duration": 5,
    "start_time": "2022-04-12T17:08:33.276Z"
   },
   {
    "duration": 7,
    "start_time": "2022-04-12T17:08:33.282Z"
   },
   {
    "duration": 5,
    "start_time": "2022-04-12T17:08:33.291Z"
   },
   {
    "duration": 52,
    "start_time": "2022-04-12T17:08:33.297Z"
   },
   {
    "duration": 6,
    "start_time": "2022-04-12T17:08:33.350Z"
   },
   {
    "duration": 5,
    "start_time": "2022-04-12T17:08:33.358Z"
   },
   {
    "duration": 7,
    "start_time": "2022-04-12T17:08:33.365Z"
   },
   {
    "duration": 4,
    "start_time": "2022-04-12T17:08:33.374Z"
   },
   {
    "duration": 6,
    "start_time": "2022-04-12T17:08:33.380Z"
   },
   {
    "duration": 6,
    "start_time": "2022-04-12T17:08:33.388Z"
   },
   {
    "duration": 5,
    "start_time": "2022-04-12T17:08:33.396Z"
   },
   {
    "duration": 45,
    "start_time": "2022-04-12T17:08:33.403Z"
   },
   {
    "duration": 6,
    "start_time": "2022-04-12T17:08:33.449Z"
   },
   {
    "duration": 12,
    "start_time": "2022-04-12T17:08:33.456Z"
   },
   {
    "duration": 20,
    "start_time": "2022-04-12T17:08:33.472Z"
   },
   {
    "duration": 15,
    "start_time": "2022-04-12T17:08:33.493Z"
   },
   {
    "duration": 8,
    "start_time": "2022-04-12T17:08:33.510Z"
   },
   {
    "duration": 30,
    "start_time": "2022-04-12T17:08:33.519Z"
   },
   {
    "duration": 7,
    "start_time": "2022-04-12T17:08:33.550Z"
   },
   {
    "duration": 10,
    "start_time": "2022-04-12T17:08:33.559Z"
   },
   {
    "duration": 77,
    "start_time": "2022-04-12T17:08:33.570Z"
   },
   {
    "duration": 13,
    "start_time": "2022-04-12T17:08:33.649Z"
   },
   {
    "duration": 12,
    "start_time": "2022-04-12T17:08:33.664Z"
   },
   {
    "duration": 9,
    "start_time": "2022-04-12T17:08:33.678Z"
   },
   {
    "duration": 10,
    "start_time": "2022-04-12T17:08:33.689Z"
   },
   {
    "duration": 5,
    "start_time": "2022-04-12T17:08:33.701Z"
   },
   {
    "duration": 126,
    "start_time": "2022-04-12T17:08:33.708Z"
   },
   {
    "duration": 0,
    "start_time": "2022-04-12T17:08:33.836Z"
   },
   {
    "duration": 0,
    "start_time": "2022-04-12T17:08:33.838Z"
   },
   {
    "duration": 0,
    "start_time": "2022-04-12T17:08:33.839Z"
   },
   {
    "duration": 0,
    "start_time": "2022-04-12T17:08:33.847Z"
   },
   {
    "duration": 0,
    "start_time": "2022-04-12T17:08:33.848Z"
   },
   {
    "duration": 0,
    "start_time": "2022-04-12T17:08:33.849Z"
   },
   {
    "duration": 0,
    "start_time": "2022-04-12T17:08:33.850Z"
   },
   {
    "duration": 0,
    "start_time": "2022-04-12T17:08:33.852Z"
   },
   {
    "duration": 0,
    "start_time": "2022-04-12T17:08:33.853Z"
   },
   {
    "duration": 0,
    "start_time": "2022-04-12T17:08:33.854Z"
   },
   {
    "duration": 0,
    "start_time": "2022-04-12T17:08:33.856Z"
   },
   {
    "duration": 0,
    "start_time": "2022-04-12T17:08:33.856Z"
   },
   {
    "duration": 0,
    "start_time": "2022-04-12T17:08:33.858Z"
   },
   {
    "duration": 0,
    "start_time": "2022-04-12T17:08:33.859Z"
   },
   {
    "duration": 0,
    "start_time": "2022-04-12T17:08:33.860Z"
   },
   {
    "duration": 0,
    "start_time": "2022-04-12T17:08:33.861Z"
   },
   {
    "duration": 0,
    "start_time": "2022-04-12T17:08:33.862Z"
   },
   {
    "duration": 0,
    "start_time": "2022-04-12T17:08:33.863Z"
   },
   {
    "duration": 0,
    "start_time": "2022-04-12T17:08:33.864Z"
   },
   {
    "duration": 0,
    "start_time": "2022-04-12T17:08:33.865Z"
   },
   {
    "duration": 0,
    "start_time": "2022-04-12T17:08:33.866Z"
   },
   {
    "duration": 0,
    "start_time": "2022-04-12T17:08:33.868Z"
   },
   {
    "duration": 0,
    "start_time": "2022-04-12T17:08:33.869Z"
   },
   {
    "duration": 0,
    "start_time": "2022-04-12T17:08:33.870Z"
   },
   {
    "duration": 0,
    "start_time": "2022-04-12T17:08:33.871Z"
   },
   {
    "duration": 0,
    "start_time": "2022-04-12T17:08:33.872Z"
   },
   {
    "duration": 0,
    "start_time": "2022-04-12T17:08:33.873Z"
   },
   {
    "duration": 0,
    "start_time": "2022-04-12T17:08:33.874Z"
   },
   {
    "duration": 0,
    "start_time": "2022-04-12T17:08:33.875Z"
   },
   {
    "duration": 0,
    "start_time": "2022-04-12T17:08:33.876Z"
   },
   {
    "duration": 0,
    "start_time": "2022-04-12T17:08:33.877Z"
   },
   {
    "duration": 0,
    "start_time": "2022-04-12T17:08:33.878Z"
   },
   {
    "duration": 0,
    "start_time": "2022-04-12T17:08:33.879Z"
   },
   {
    "duration": 0,
    "start_time": "2022-04-12T17:08:33.880Z"
   },
   {
    "duration": 0,
    "start_time": "2022-04-12T17:08:33.883Z"
   },
   {
    "duration": 0,
    "start_time": "2022-04-12T17:08:33.884Z"
   },
   {
    "duration": 0,
    "start_time": "2022-04-12T17:08:33.885Z"
   },
   {
    "duration": 0,
    "start_time": "2022-04-12T17:08:33.886Z"
   },
   {
    "duration": 0,
    "start_time": "2022-04-12T17:08:33.948Z"
   },
   {
    "duration": 0,
    "start_time": "2022-04-12T17:08:33.949Z"
   },
   {
    "duration": 0,
    "start_time": "2022-04-12T17:08:33.950Z"
   },
   {
    "duration": 0,
    "start_time": "2022-04-12T17:08:33.951Z"
   },
   {
    "duration": 0,
    "start_time": "2022-04-12T17:08:33.953Z"
   },
   {
    "duration": 0,
    "start_time": "2022-04-12T17:08:33.954Z"
   },
   {
    "duration": 0,
    "start_time": "2022-04-12T17:08:33.955Z"
   },
   {
    "duration": 0,
    "start_time": "2022-04-12T17:08:33.956Z"
   },
   {
    "duration": 0,
    "start_time": "2022-04-12T17:08:33.956Z"
   },
   {
    "duration": 0,
    "start_time": "2022-04-12T17:08:33.958Z"
   },
   {
    "duration": 0,
    "start_time": "2022-04-12T17:08:33.959Z"
   },
   {
    "duration": 1137,
    "start_time": "2022-04-12T19:26:42.391Z"
   },
   {
    "duration": 2,
    "start_time": "2022-04-12T19:26:43.530Z"
   },
   {
    "duration": 80,
    "start_time": "2022-04-12T19:26:43.534Z"
   },
   {
    "duration": 45,
    "start_time": "2022-04-12T19:26:43.616Z"
   },
   {
    "duration": 14,
    "start_time": "2022-04-12T19:26:43.663Z"
   },
   {
    "duration": 81,
    "start_time": "2022-04-12T19:26:43.678Z"
   },
   {
    "duration": 9,
    "start_time": "2022-04-12T19:26:43.761Z"
   },
   {
    "duration": 6,
    "start_time": "2022-04-12T19:26:43.771Z"
   },
   {
    "duration": 3,
    "start_time": "2022-04-12T19:26:43.779Z"
   },
   {
    "duration": 7,
    "start_time": "2022-04-12T19:26:43.784Z"
   },
   {
    "duration": 7,
    "start_time": "2022-04-12T19:26:43.793Z"
   },
   {
    "duration": 49,
    "start_time": "2022-04-12T19:26:43.801Z"
   },
   {
    "duration": 6,
    "start_time": "2022-04-12T19:26:43.852Z"
   },
   {
    "duration": 5,
    "start_time": "2022-04-12T19:26:43.859Z"
   },
   {
    "duration": 10,
    "start_time": "2022-04-12T19:26:43.865Z"
   },
   {
    "duration": 10,
    "start_time": "2022-04-12T19:26:43.877Z"
   },
   {
    "duration": 6,
    "start_time": "2022-04-12T19:26:43.889Z"
   },
   {
    "duration": 7,
    "start_time": "2022-04-12T19:26:43.896Z"
   },
   {
    "duration": 7,
    "start_time": "2022-04-12T19:26:43.905Z"
   },
   {
    "duration": 37,
    "start_time": "2022-04-12T19:26:43.914Z"
   },
   {
    "duration": 33,
    "start_time": "2022-04-12T19:26:43.952Z"
   },
   {
    "duration": 5,
    "start_time": "2022-04-12T19:26:43.986Z"
   },
   {
    "duration": 8,
    "start_time": "2022-04-12T19:26:43.992Z"
   },
   {
    "duration": 9,
    "start_time": "2022-04-12T19:26:44.002Z"
   },
   {
    "duration": 35,
    "start_time": "2022-04-12T19:26:44.013Z"
   },
   {
    "duration": 7,
    "start_time": "2022-04-12T19:26:44.050Z"
   },
   {
    "duration": 8,
    "start_time": "2022-04-12T19:26:44.059Z"
   },
   {
    "duration": 7,
    "start_time": "2022-04-12T19:26:44.072Z"
   },
   {
    "duration": 23,
    "start_time": "2022-04-12T19:26:44.081Z"
   },
   {
    "duration": 7,
    "start_time": "2022-04-12T19:26:44.106Z"
   },
   {
    "duration": 9,
    "start_time": "2022-04-12T19:26:44.148Z"
   },
   {
    "duration": 11,
    "start_time": "2022-04-12T19:26:44.159Z"
   },
   {
    "duration": 8,
    "start_time": "2022-04-12T19:26:44.172Z"
   },
   {
    "duration": 9,
    "start_time": "2022-04-12T19:26:44.182Z"
   },
   {
    "duration": 89,
    "start_time": "2022-04-12T19:26:44.193Z"
   },
   {
    "duration": 14,
    "start_time": "2022-04-12T19:26:44.284Z"
   },
   {
    "duration": 14,
    "start_time": "2022-04-12T19:26:44.300Z"
   },
   {
    "duration": 5,
    "start_time": "2022-04-12T19:26:44.315Z"
   },
   {
    "duration": 39,
    "start_time": "2022-04-12T19:26:44.322Z"
   },
   {
    "duration": 11,
    "start_time": "2022-04-12T19:26:44.362Z"
   },
   {
    "duration": 4,
    "start_time": "2022-04-12T19:26:44.375Z"
   },
   {
    "duration": 16,
    "start_time": "2022-04-12T19:26:44.380Z"
   },
   {
    "duration": 21,
    "start_time": "2022-04-12T19:26:44.398Z"
   },
   {
    "duration": 29,
    "start_time": "2022-04-12T19:26:44.421Z"
   },
   {
    "duration": 8,
    "start_time": "2022-04-12T19:26:44.451Z"
   },
   {
    "duration": 7,
    "start_time": "2022-04-12T19:26:44.460Z"
   },
   {
    "duration": 9,
    "start_time": "2022-04-12T19:26:44.469Z"
   },
   {
    "duration": 308,
    "start_time": "2022-04-12T19:26:44.480Z"
   },
   {
    "duration": 4,
    "start_time": "2022-04-12T19:26:44.790Z"
   },
   {
    "duration": 9,
    "start_time": "2022-04-12T19:26:44.796Z"
   },
   {
    "duration": 23,
    "start_time": "2022-04-12T19:26:44.807Z"
   },
   {
    "duration": 431,
    "start_time": "2022-04-12T19:26:44.832Z"
   },
   {
    "duration": 154,
    "start_time": "2022-04-12T19:26:45.265Z"
   },
   {
    "duration": 404,
    "start_time": "2022-04-12T19:26:45.421Z"
   },
   {
    "duration": 247,
    "start_time": "2022-04-12T19:26:45.827Z"
   },
   {
    "duration": 229,
    "start_time": "2022-04-12T19:26:46.076Z"
   },
   {
    "duration": 170,
    "start_time": "2022-04-12T19:26:46.307Z"
   },
   {
    "duration": 254,
    "start_time": "2022-04-12T19:26:46.478Z"
   },
   {
    "duration": 116,
    "start_time": "2022-04-12T19:26:46.734Z"
   },
   {
    "duration": 122,
    "start_time": "2022-04-12T19:26:46.852Z"
   },
   {
    "duration": 546,
    "start_time": "2022-04-12T19:26:46.975Z"
   },
   {
    "duration": 5,
    "start_time": "2022-04-12T19:26:47.523Z"
   },
   {
    "duration": 19,
    "start_time": "2022-04-12T19:26:47.529Z"
   },
   {
    "duration": 14,
    "start_time": "2022-04-12T19:26:47.550Z"
   },
   {
    "duration": 529,
    "start_time": "2022-04-12T19:26:47.566Z"
   },
   {
    "duration": 6,
    "start_time": "2022-04-12T19:26:48.097Z"
   },
   {
    "duration": 8,
    "start_time": "2022-04-12T19:26:48.105Z"
   },
   {
    "duration": 8,
    "start_time": "2022-04-12T19:26:48.115Z"
   },
   {
    "duration": 119,
    "start_time": "2022-04-12T19:26:48.147Z"
   },
   {
    "duration": 8951,
    "start_time": "2022-04-12T19:26:48.268Z"
   },
   {
    "duration": 6168,
    "start_time": "2022-04-12T19:26:57.220Z"
   },
   {
    "duration": 5982,
    "start_time": "2022-04-12T19:27:03.390Z"
   },
   {
    "duration": 7577,
    "start_time": "2022-04-12T19:27:09.374Z"
   },
   {
    "duration": 5916,
    "start_time": "2022-04-12T19:27:16.953Z"
   },
   {
    "duration": 32,
    "start_time": "2022-04-12T19:27:22.871Z"
   },
   {
    "duration": 3,
    "start_time": "2022-04-12T19:27:22.905Z"
   },
   {
    "duration": 1666,
    "start_time": "2022-04-12T19:27:22.910Z"
   },
   {
    "duration": 1617,
    "start_time": "2022-04-12T19:27:24.578Z"
   },
   {
    "duration": 6,
    "start_time": "2022-04-12T19:27:26.200Z"
   },
   {
    "duration": 26,
    "start_time": "2022-04-12T19:27:26.207Z"
   },
   {
    "duration": 33,
    "start_time": "2022-04-12T19:27:26.235Z"
   },
   {
    "duration": 10,
    "start_time": "2022-04-12T19:27:26.273Z"
   },
   {
    "duration": 24,
    "start_time": "2022-04-12T19:27:26.285Z"
   },
   {
    "duration": 268,
    "start_time": "2022-04-12T19:27:26.311Z"
   },
   {
    "duration": 7,
    "start_time": "2022-04-12T19:27:26.581Z"
   },
   {
    "duration": 6,
    "start_time": "2022-04-12T19:27:26.590Z"
   },
   {
    "duration": 6,
    "start_time": "2022-04-12T19:27:26.598Z"
   },
   {
    "duration": 1012,
    "start_time": "2022-04-12T19:27:26.606Z"
   },
   {
    "duration": 111,
    "start_time": "2022-04-12T19:27:27.620Z"
   },
   {
    "duration": 1999,
    "start_time": "2022-04-12T19:27:27.733Z"
   },
   {
    "duration": 1143,
    "start_time": "2022-04-12T19:37:29.398Z"
   },
   {
    "duration": 4,
    "start_time": "2022-04-12T19:37:30.543Z"
   },
   {
    "duration": 86,
    "start_time": "2022-04-12T19:37:30.549Z"
   },
   {
    "duration": 35,
    "start_time": "2022-04-12T19:37:30.638Z"
   },
   {
    "duration": 15,
    "start_time": "2022-04-12T19:37:30.674Z"
   },
   {
    "duration": 83,
    "start_time": "2022-04-12T19:37:30.691Z"
   },
   {
    "duration": 10,
    "start_time": "2022-04-12T19:37:30.775Z"
   },
   {
    "duration": 8,
    "start_time": "2022-04-12T19:37:30.786Z"
   },
   {
    "duration": 6,
    "start_time": "2022-04-12T19:37:30.796Z"
   },
   {
    "duration": 7,
    "start_time": "2022-04-12T19:37:30.804Z"
   },
   {
    "duration": 35,
    "start_time": "2022-04-12T19:37:30.813Z"
   },
   {
    "duration": 8,
    "start_time": "2022-04-12T19:37:30.850Z"
   },
   {
    "duration": 13,
    "start_time": "2022-04-12T19:37:30.860Z"
   },
   {
    "duration": 12,
    "start_time": "2022-04-12T19:37:30.875Z"
   },
   {
    "duration": 15,
    "start_time": "2022-04-12T19:37:30.889Z"
   },
   {
    "duration": 6,
    "start_time": "2022-04-12T19:37:30.905Z"
   },
   {
    "duration": 8,
    "start_time": "2022-04-12T19:37:30.913Z"
   },
   {
    "duration": 8,
    "start_time": "2022-04-12T19:37:30.923Z"
   },
   {
    "duration": 5,
    "start_time": "2022-04-12T19:37:30.948Z"
   },
   {
    "duration": 17,
    "start_time": "2022-04-12T19:37:30.955Z"
   },
   {
    "duration": 34,
    "start_time": "2022-04-12T19:37:30.973Z"
   },
   {
    "duration": 5,
    "start_time": "2022-04-12T19:37:31.009Z"
   },
   {
    "duration": 34,
    "start_time": "2022-04-12T19:37:31.015Z"
   },
   {
    "duration": 13,
    "start_time": "2022-04-12T19:37:31.051Z"
   },
   {
    "duration": 8,
    "start_time": "2022-04-12T19:37:31.066Z"
   },
   {
    "duration": 5,
    "start_time": "2022-04-12T19:37:31.076Z"
   },
   {
    "duration": 8,
    "start_time": "2022-04-12T19:37:31.082Z"
   },
   {
    "duration": 6,
    "start_time": "2022-04-12T19:37:31.095Z"
   },
   {
    "duration": 46,
    "start_time": "2022-04-12T19:37:31.103Z"
   },
   {
    "duration": 6,
    "start_time": "2022-04-12T19:37:31.151Z"
   },
   {
    "duration": 12,
    "start_time": "2022-04-12T19:37:31.159Z"
   },
   {
    "duration": 8,
    "start_time": "2022-04-12T19:37:31.173Z"
   },
   {
    "duration": 8,
    "start_time": "2022-04-12T19:37:31.183Z"
   },
   {
    "duration": 11,
    "start_time": "2022-04-12T19:37:31.193Z"
   },
   {
    "duration": 89,
    "start_time": "2022-04-12T19:37:31.206Z"
   },
   {
    "duration": 12,
    "start_time": "2022-04-12T19:37:31.297Z"
   },
   {
    "duration": 16,
    "start_time": "2022-04-12T19:37:31.312Z"
   },
   {
    "duration": 19,
    "start_time": "2022-04-12T19:37:31.330Z"
   },
   {
    "duration": 15,
    "start_time": "2022-04-12T19:37:31.351Z"
   },
   {
    "duration": 12,
    "start_time": "2022-04-12T19:37:31.368Z"
   },
   {
    "duration": 6,
    "start_time": "2022-04-12T19:37:31.382Z"
   },
   {
    "duration": 16,
    "start_time": "2022-04-12T19:37:31.390Z"
   },
   {
    "duration": 41,
    "start_time": "2022-04-12T19:37:31.408Z"
   },
   {
    "duration": 5,
    "start_time": "2022-04-12T19:37:31.451Z"
   },
   {
    "duration": 13,
    "start_time": "2022-04-12T19:37:31.458Z"
   },
   {
    "duration": 9,
    "start_time": "2022-04-12T19:37:31.472Z"
   },
   {
    "duration": 7,
    "start_time": "2022-04-12T19:37:31.483Z"
   },
   {
    "duration": 334,
    "start_time": "2022-04-12T19:37:31.491Z"
   },
   {
    "duration": 4,
    "start_time": "2022-04-12T19:37:31.827Z"
   },
   {
    "duration": 14,
    "start_time": "2022-04-12T19:37:31.833Z"
   },
   {
    "duration": 27,
    "start_time": "2022-04-12T19:37:31.849Z"
   },
   {
    "duration": 291,
    "start_time": "2022-04-12T19:37:31.878Z"
   },
   {
    "duration": 119,
    "start_time": "2022-04-12T19:37:32.171Z"
   },
   {
    "duration": 274,
    "start_time": "2022-04-12T19:37:32.291Z"
   },
   {
    "duration": 194,
    "start_time": "2022-04-12T19:37:32.567Z"
   },
   {
    "duration": 167,
    "start_time": "2022-04-12T19:37:32.763Z"
   },
   {
    "duration": 121,
    "start_time": "2022-04-12T19:37:32.931Z"
   },
   {
    "duration": 179,
    "start_time": "2022-04-12T19:37:33.053Z"
   },
   {
    "duration": 123,
    "start_time": "2022-04-12T19:37:33.235Z"
   },
   {
    "duration": 124,
    "start_time": "2022-04-12T19:37:33.360Z"
   },
   {
    "duration": 561,
    "start_time": "2022-04-12T19:37:33.486Z"
   },
   {
    "duration": 5,
    "start_time": "2022-04-12T19:37:34.049Z"
   },
   {
    "duration": 3,
    "start_time": "2022-04-12T19:37:34.056Z"
   },
   {
    "duration": 15,
    "start_time": "2022-04-12T19:37:34.061Z"
   },
   {
    "duration": 401,
    "start_time": "2022-04-12T19:37:34.077Z"
   },
   {
    "duration": 5,
    "start_time": "2022-04-12T19:37:34.479Z"
   },
   {
    "duration": 6,
    "start_time": "2022-04-12T19:37:34.486Z"
   },
   {
    "duration": 7,
    "start_time": "2022-04-12T19:37:34.494Z"
   },
   {
    "duration": 121,
    "start_time": "2022-04-12T19:37:34.502Z"
   },
   {
    "duration": 6161,
    "start_time": "2022-04-12T19:37:34.624Z"
   },
   {
    "duration": 6431,
    "start_time": "2022-04-12T19:37:40.787Z"
   },
   {
    "duration": 5981,
    "start_time": "2022-04-12T19:37:47.220Z"
   },
   {
    "duration": 6854,
    "start_time": "2022-04-12T19:37:53.203Z"
   },
   {
    "duration": 6180,
    "start_time": "2022-04-12T19:38:00.059Z"
   },
   {
    "duration": 35,
    "start_time": "2022-04-12T19:38:06.241Z"
   },
   {
    "duration": 4,
    "start_time": "2022-04-12T19:38:06.277Z"
   },
   {
    "duration": 1686,
    "start_time": "2022-04-12T19:38:06.282Z"
   },
   {
    "duration": 1650,
    "start_time": "2022-04-12T19:38:07.970Z"
   },
   {
    "duration": 5,
    "start_time": "2022-04-12T19:38:09.622Z"
   },
   {
    "duration": 43,
    "start_time": "2022-04-12T19:38:09.629Z"
   },
   {
    "duration": 26,
    "start_time": "2022-04-12T19:38:09.673Z"
   },
   {
    "duration": 10,
    "start_time": "2022-04-12T19:38:09.704Z"
   },
   {
    "duration": 48,
    "start_time": "2022-04-12T19:38:09.716Z"
   },
   {
    "duration": 386,
    "start_time": "2022-04-12T19:38:09.766Z"
   },
   {
    "duration": 10,
    "start_time": "2022-04-12T19:38:10.155Z"
   },
   {
    "duration": 4,
    "start_time": "2022-04-12T19:38:10.167Z"
   },
   {
    "duration": 5,
    "start_time": "2022-04-12T19:38:10.173Z"
   },
   {
    "duration": 1024,
    "start_time": "2022-04-12T19:38:10.180Z"
   },
   {
    "duration": 112,
    "start_time": "2022-04-12T19:38:11.206Z"
   },
   {
    "duration": 2203,
    "start_time": "2022-04-12T19:38:11.319Z"
   }
  ],
  "kernelspec": {
   "display_name": "Python 3 (ipykernel)",
   "language": "python",
   "name": "python3"
  },
  "language_info": {
   "codemirror_mode": {
    "name": "ipython",
    "version": 3
   },
   "file_extension": ".py",
   "mimetype": "text/x-python",
   "name": "python",
   "nbconvert_exporter": "python",
   "pygments_lexer": "ipython3",
   "version": "3.9.7"
  },
  "toc": {
   "base_numbering": 1,
   "nav_menu": {},
   "number_sections": true,
   "sideBar": true,
   "skip_h1_title": true,
   "title_cell": "Содержание",
   "title_sidebar": "Contents",
   "toc_cell": true,
   "toc_position": {
    "height": "calc(100% - 180px)",
    "left": "10px",
    "top": "150px",
    "width": "421.812px"
   },
   "toc_section_display": true,
   "toc_window_display": false
  }
 },
 "nbformat": 4,
 "nbformat_minor": 4
}
