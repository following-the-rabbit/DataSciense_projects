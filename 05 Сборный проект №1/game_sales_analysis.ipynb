{
 "cells": [
  {
   "cell_type": "markdown",
   "id": "245b815d",
   "metadata": {
    "toc": true
   },
   "source": [
    "<h1>Содержание<span class=\"tocSkip\"></span></h1>\n",
    "<div class=\"toc\"><ul class=\"toc-item\"><li><span><a href=\"#Изучение-данных\" data-toc-modified-id=\"Изучение-данных-1\"><span class=\"toc-item-num\">1&nbsp;&nbsp;</span>Изучение данных</a></span><ul class=\"toc-item\"><li><span><a href=\"#Вывод\" data-toc-modified-id=\"Вывод-1.1\"><span class=\"toc-item-num\">1.1&nbsp;&nbsp;</span>Вывод</a></span></li></ul></li><li><span><a href=\"#Предобработка-данных\" data-toc-modified-id=\"Предобработка-данных-2\"><span class=\"toc-item-num\">2&nbsp;&nbsp;</span>Предобработка данных</a></span><ul class=\"toc-item\"><li><span><a href=\"#Приведение-к-нижнему-регистру\" data-toc-modified-id=\"Приведение-к-нижнему-регистру-2.1\"><span class=\"toc-item-num\">2.1&nbsp;&nbsp;</span>Приведение к нижнему регистру</a></span></li><li><span><a href=\"#Обработка-пропущенных-значений.\" data-toc-modified-id=\"Обработка-пропущенных-значений.-2.2\"><span class=\"toc-item-num\">2.2&nbsp;&nbsp;</span>Обработка пропущенных значений.</a></span></li><li><span><a href=\"#Добавление-столбца-суммарных-продаж-во-всех-регионах.\" data-toc-modified-id=\"Добавление-столбца-суммарных-продаж-во-всех-регионах.-2.3\"><span class=\"toc-item-num\">2.3&nbsp;&nbsp;</span>Добавление столбца суммарных продаж во всех регионах.</a></span></li><li><span><a href=\"#Преобразование-типов-данных\" data-toc-modified-id=\"Преобразование-типов-данных-2.4\"><span class=\"toc-item-num\">2.4&nbsp;&nbsp;</span>Преобразование типов данных</a></span></li><li><span><a href=\"#Вывод\" data-toc-modified-id=\"Вывод-2.5\"><span class=\"toc-item-num\">2.5&nbsp;&nbsp;</span>Вывод</a></span></li></ul></li><li><span><a href=\"#Исследовательский-анализ-данных\" data-toc-modified-id=\"Исследовательский-анализ-данных-3\"><span class=\"toc-item-num\">3&nbsp;&nbsp;</span>Исследовательский анализ данных</a></span><ul class=\"toc-item\"><li><span><a href=\"#Количество-выпущенных-игр-по-годам\" data-toc-modified-id=\"Количество-выпущенных-игр-по-годам-3.1\"><span class=\"toc-item-num\">3.1&nbsp;&nbsp;</span>Количество выпущенных игр по годам</a></span></li><li><span><a href=\"#Изменения-продаж-по-платформам-по-годам.\" data-toc-modified-id=\"Изменения-продаж-по-платформам-по-годам.-3.2\"><span class=\"toc-item-num\">3.2&nbsp;&nbsp;</span>Изменения продаж по платформам по годам.</a></span></li><li><span><a href=\"#Выделение-актуального-периода.\" data-toc-modified-id=\"Выделение-актуального-периода.-3.3\"><span class=\"toc-item-num\">3.3&nbsp;&nbsp;</span>Выделение актуального периода.</a></span></li><li><span><a href=\"#Выбор-потенциально-прибыльных-платформ.\" data-toc-modified-id=\"Выбор-потенциально-прибыльных-платформ.-3.4\"><span class=\"toc-item-num\">3.4&nbsp;&nbsp;</span>Выбор потенциально прибыльных платформ.</a></span></li><li><span><a href=\"#&quot;Ящик-с-усами&quot;-по-глобальным-продажам-игр-в-разбивке-по-платформам.\" data-toc-modified-id=\"&quot;Ящик-с-усами&quot;-по-глобальным-продажам-игр-в-разбивке-по-платформам.-3.5\"><span class=\"toc-item-num\">3.5&nbsp;&nbsp;</span>\"Ящик с усами\" по глобальным продажам игр в разбивке по платформам.</a></span></li><li><span><a href=\"#Влияние-отзывов-пользователей-и-критиков-на-продажи-по-платформе-PS4\" data-toc-modified-id=\"Влияние-отзывов-пользователей-и-критиков-на-продажи-по-платформе-PS4-3.6\"><span class=\"toc-item-num\">3.6&nbsp;&nbsp;</span>Влияние отзывов пользователей и критиков на продажи по платформе PS4</a></span></li><li><span><a href=\"#Влияние-отзывов-пользователей-и-критиков-на-продажи-других-платформ.\" data-toc-modified-id=\"Влияние-отзывов-пользователей-и-критиков-на-продажи-других-платформ.-3.7\"><span class=\"toc-item-num\">3.7&nbsp;&nbsp;</span>Влияние отзывов пользователей и критиков на продажи других платформ.</a></span></li><li><span><a href=\"#Влияние-жанра-игры-на-продажи\" data-toc-modified-id=\"Влияние-жанра-игры-на-продажи-3.8\"><span class=\"toc-item-num\">3.8&nbsp;&nbsp;</span>Влияние жанра игры на продажи</a></span></li><li><span><a href=\"#Вывод\" data-toc-modified-id=\"Вывод-3.9\"><span class=\"toc-item-num\">3.9&nbsp;&nbsp;</span>Вывод</a></span></li></ul></li><li><span><a href=\"#Портрет-пользователя-каждого-региона-(NA,-EU,-JP)\" data-toc-modified-id=\"Портрет-пользователя-каждого-региона-(NA,-EU,-JP)-4\"><span class=\"toc-item-num\">4&nbsp;&nbsp;</span>Портрет пользователя каждого региона (NA, EU, JP)</a></span><ul class=\"toc-item\"><li><span><a href=\"#Самые-популярные-платформы-(топ-5)\" data-toc-modified-id=\"Самые-популярные-платформы-(топ-5)-4.1\"><span class=\"toc-item-num\">4.1&nbsp;&nbsp;</span>Самые популярные платформы (топ-5)</a></span></li><li><span><a href=\"#Самые-популярные-жанры-(топ-5).\" data-toc-modified-id=\"Самые-популярные-жанры-(топ-5).-4.2\"><span class=\"toc-item-num\">4.2&nbsp;&nbsp;</span>Самые популярные жанры (топ-5).</a></span></li><li><span><a href=\"#Влияние-рейтинг-ESRB-на-продажи-в-отдельном-регионе.\" data-toc-modified-id=\"Влияние-рейтинг-ESRB-на-продажи-в-отдельном-регионе.-4.3\"><span class=\"toc-item-num\">4.3&nbsp;&nbsp;</span>Влияние рейтинг ESRB на продажи в отдельном регионе.</a></span></li><li><span><a href=\"#Выводы\" data-toc-modified-id=\"Выводы-4.4\"><span class=\"toc-item-num\">4.4&nbsp;&nbsp;</span>Выводы</a></span></li></ul></li><li><span><a href=\"#Проверка-гипотез\" data-toc-modified-id=\"Проверка-гипотез-5\"><span class=\"toc-item-num\">5&nbsp;&nbsp;</span>Проверка гипотез</a></span><ul class=\"toc-item\"><li><span><a href=\"#Гипотеза-1.-Средние-пользовательские-рейтинги-платформ-Xbox-One-и-PC-одинаковые\" data-toc-modified-id=\"Гипотеза-1.-Средние-пользовательские-рейтинги-платформ-Xbox-One-и-PC-одинаковые-5.1\"><span class=\"toc-item-num\">5.1&nbsp;&nbsp;</span>Гипотеза 1. Средние пользовательские рейтинги платформ Xbox One и PC одинаковые</a></span><ul class=\"toc-item\"><li><span><a href=\"#Вывод\" data-toc-modified-id=\"Вывод-5.1.1\"><span class=\"toc-item-num\">5.1.1&nbsp;&nbsp;</span>Вывод</a></span></li></ul></li><li><span><a href=\"#Гипотеза-2.-Средние-пользовательские-рейтинги-жанров-Action--и-Sports--разные\" data-toc-modified-id=\"Гипотеза-2.-Средние-пользовательские-рейтинги-жанров-Action--и-Sports--разные-5.2\"><span class=\"toc-item-num\">5.2&nbsp;&nbsp;</span>Гипотеза 2. Средние пользовательские рейтинги жанров Action  и Sports  разные</a></span><ul class=\"toc-item\"><li><span><a href=\"#Вывод\" data-toc-modified-id=\"Вывод-5.2.1\"><span class=\"toc-item-num\">5.2.1&nbsp;&nbsp;</span>Вывод</a></span></li></ul></li></ul></li><li><span><a href=\"#Общий-вывод\" data-toc-modified-id=\"Общий-вывод-6\"><span class=\"toc-item-num\">6&nbsp;&nbsp;</span>Общий вывод</a></span></li></ul></div>"
   ]
  },
  {
   "cell_type": "markdown",
   "id": "1d1e0625",
   "metadata": {},
   "source": [
    "# Сборный проект - 1. Анализ видеоигр.\n",
    "# Описание проекта\n",
    "\n",
    "Заказчик интернет-магазине «Стримчик», который продаёт по всему миру компьютерные игры. Из открытых источников доступны исторические данные о продажах игр, оценки пользователей и экспертов, жанры и платформы (например, Xbox или PlayStation). Нужно выявить определяющие успешность игры закономерности. Это позволит сделать ставку на потенциально популярный продукт и спланировать рекламные кампании.\n",
    "\n",
    "В распоряжении данные до 2016 года. По условию сейчас декабрь 2016 г., и планируется кампанию на 2017-й. Нужно отработать принцип работы с данными. Неважно, прогнозируется ли продажи на 2017 год по данным 2016-го или же на 2027-й — по данным 2026 года.\n",
    "\n",
    "В наборе данных попадается аббревиатура ESRB (Entertainment Software Rating Board) — это ассоциация, определяющая возрастной рейтинг компьютерных игр. ESRB оценивает игровой контент и присваивает ему подходящую возрастную категорию, например, «Для взрослых», «Для детей младшего возраста» или «Для подростков».\n",
    "\n",
    "# План работы над проектом:\n",
    "* Изучите общую информации о данных, выявите проблемы, требующих обработки данных.\n",
    "* Проведите предобработку данных.\n",
    "* Проведите исследовательский анализ данных:\n",
    "  * Посмотрите, сколько игр выпускалось в разные годы. Важны ли данные за все периоды?\n",
    "  * Посмотрите, как менялись продажи по платформам. Выберите платформы с наибольшими суммарными продажами и постройте распределение по годам. За какой характерный срок появляются новые и исчезают старые платформы?\n",
    "  * Возьмите данные за соответствующий актуальный период. Актуальный период определите самостоятельно в результате исследования предыдущих вопросов. Основной фактор — эти данные помогут построить прогноз на 2017 год.\n",
    "  * Не учитывайте в работе данные за предыдущие годы.\n",
    "  * Какие платформы лидируют по продажам, растут или падают? Выберите несколько потенциально прибыльных платформ.\n",
    "  * Постройте график «ящик с усами» по глобальным продажам игр в разбивке по платформам. Опишите результат.\n",
    "  * Посмотрите, как влияют на продажи внутри одной популярной платформы отзывы пользователей и критиков. Постройте диаграмму рассеяния и посчитайте корреляцию между отзывами и продажами. Сформулируйте выводы.\n",
    "  * Соотнесите выводы с продажами игр на других платформах.\n",
    "  * Посмотрите на общее распределение игр по жанрам. Что можно сказать о самых прибыльных жанрах? Выделяются ли жанры с высокими и низкими продажами?\n",
    "* Определите для пользователя каждого региона (NA, EU, JP):\n",
    "  * Самые популярные платформы (топ-5). Опишите различия в долях продаж.\n",
    "  * Самые популярные жанры (топ-5). Поясните разницу.\n",
    "  * Влияет ли рейтинг ESRB на продажи в отдельном регионе?\n",
    "* Проверьте гипотезы:\n",
    "  * Средние пользовательские рейтинги платформ Xbox One и PC одинаковые.\n",
    "  * Средние пользовательские рейтинги жанров Action (англ. «действие», экшен-игры) и Sports (англ. «спортивные соревнования») разные.\n",
    "* Сформулируйте выводы по каждому шагу и общий вывод."
   ]
  },
  {
   "cell_type": "markdown",
   "id": "caf75888",
   "metadata": {},
   "source": [
    "## Изучение данных\n",
    "\n",
    "Импортируем нужные библиотеки и функции"
   ]
  },
  {
   "cell_type": "code",
   "execution_count": 1,
   "id": "b7a25fc0",
   "metadata": {},
   "outputs": [],
   "source": [
    "import pandas as pd\n",
    "import numpy as np\n",
    "import matplotlib.pyplot as plt\n",
    "import seaborn as sns\n",
    "import scipy.stats as st"
   ]
  },
  {
   "cell_type": "markdown",
   "id": "74a64061",
   "metadata": {},
   "source": [
    "Загрузим датасет `.csv` и сохраним его в переменной df."
   ]
  },
  {
   "cell_type": "code",
   "execution_count": 2,
   "id": "c4df7459",
   "metadata": {
    "scrolled": false
   },
   "outputs": [
    {
     "data": {
      "text/html": [
       "<div>\n",
       "<style scoped>\n",
       "    .dataframe tbody tr th:only-of-type {\n",
       "        vertical-align: middle;\n",
       "    }\n",
       "\n",
       "    .dataframe tbody tr th {\n",
       "        vertical-align: top;\n",
       "    }\n",
       "\n",
       "    .dataframe thead th {\n",
       "        text-align: right;\n",
       "    }\n",
       "</style>\n",
       "<table border=\"1\" class=\"dataframe\">\n",
       "  <thead>\n",
       "    <tr style=\"text-align: right;\">\n",
       "      <th></th>\n",
       "      <th>Name</th>\n",
       "      <th>Platform</th>\n",
       "      <th>Year_of_Release</th>\n",
       "      <th>Genre</th>\n",
       "      <th>NA_sales</th>\n",
       "      <th>EU_sales</th>\n",
       "      <th>JP_sales</th>\n",
       "      <th>Other_sales</th>\n",
       "      <th>Critic_Score</th>\n",
       "      <th>User_Score</th>\n",
       "      <th>Rating</th>\n",
       "    </tr>\n",
       "  </thead>\n",
       "  <tbody>\n",
       "    <tr>\n",
       "      <th>0</th>\n",
       "      <td>Wii Sports</td>\n",
       "      <td>Wii</td>\n",
       "      <td>2006.0</td>\n",
       "      <td>Sports</td>\n",
       "      <td>41.36</td>\n",
       "      <td>28.96</td>\n",
       "      <td>3.77</td>\n",
       "      <td>8.45</td>\n",
       "      <td>76.0</td>\n",
       "      <td>8</td>\n",
       "      <td>E</td>\n",
       "    </tr>\n",
       "    <tr>\n",
       "      <th>1</th>\n",
       "      <td>Super Mario Bros.</td>\n",
       "      <td>NES</td>\n",
       "      <td>1985.0</td>\n",
       "      <td>Platform</td>\n",
       "      <td>29.08</td>\n",
       "      <td>3.58</td>\n",
       "      <td>6.81</td>\n",
       "      <td>0.77</td>\n",
       "      <td>NaN</td>\n",
       "      <td>NaN</td>\n",
       "      <td>NaN</td>\n",
       "    </tr>\n",
       "    <tr>\n",
       "      <th>2</th>\n",
       "      <td>Mario Kart Wii</td>\n",
       "      <td>Wii</td>\n",
       "      <td>2008.0</td>\n",
       "      <td>Racing</td>\n",
       "      <td>15.68</td>\n",
       "      <td>12.76</td>\n",
       "      <td>3.79</td>\n",
       "      <td>3.29</td>\n",
       "      <td>82.0</td>\n",
       "      <td>8.3</td>\n",
       "      <td>E</td>\n",
       "    </tr>\n",
       "    <tr>\n",
       "      <th>3</th>\n",
       "      <td>Wii Sports Resort</td>\n",
       "      <td>Wii</td>\n",
       "      <td>2009.0</td>\n",
       "      <td>Sports</td>\n",
       "      <td>15.61</td>\n",
       "      <td>10.93</td>\n",
       "      <td>3.28</td>\n",
       "      <td>2.95</td>\n",
       "      <td>80.0</td>\n",
       "      <td>8</td>\n",
       "      <td>E</td>\n",
       "    </tr>\n",
       "    <tr>\n",
       "      <th>4</th>\n",
       "      <td>Pokemon Red/Pokemon Blue</td>\n",
       "      <td>GB</td>\n",
       "      <td>1996.0</td>\n",
       "      <td>Role-Playing</td>\n",
       "      <td>11.27</td>\n",
       "      <td>8.89</td>\n",
       "      <td>10.22</td>\n",
       "      <td>1.00</td>\n",
       "      <td>NaN</td>\n",
       "      <td>NaN</td>\n",
       "      <td>NaN</td>\n",
       "    </tr>\n",
       "  </tbody>\n",
       "</table>\n",
       "</div>"
      ],
      "text/plain": [
       "                       Name Platform  Year_of_Release         Genre  NA_sales  \\\n",
       "0                Wii Sports      Wii           2006.0        Sports     41.36   \n",
       "1         Super Mario Bros.      NES           1985.0      Platform     29.08   \n",
       "2            Mario Kart Wii      Wii           2008.0        Racing     15.68   \n",
       "3         Wii Sports Resort      Wii           2009.0        Sports     15.61   \n",
       "4  Pokemon Red/Pokemon Blue       GB           1996.0  Role-Playing     11.27   \n",
       "\n",
       "   EU_sales  JP_sales  Other_sales  Critic_Score User_Score Rating  \n",
       "0     28.96      3.77         8.45          76.0          8      E  \n",
       "1      3.58      6.81         0.77           NaN        NaN    NaN  \n",
       "2     12.76      3.79         3.29          82.0        8.3      E  \n",
       "3     10.93      3.28         2.95          80.0          8      E  \n",
       "4      8.89     10.22         1.00           NaN        NaN    NaN  "
      ]
     },
     "execution_count": 2,
     "metadata": {},
     "output_type": "execute_result"
    }
   ],
   "source": [
    "try:    \n",
    "    df = pd.read_csv('D:/notebook/sectional_project_1/games.csv')   \n",
    "except:\n",
    "    df = pd.read_csv('/datasets/games.csv')\n",
    "df.head()"
   ]
  },
  {
   "cell_type": "markdown",
   "id": "ae26cc79",
   "metadata": {},
   "source": [
    "**Описание данных**\n",
    "\n",
    "* `Name` — название игры\n",
    "* `Platform` — платформа\n",
    "* `Year_of_Release` — год выпуска\n",
    "* `Genre` — жанр игры\n",
    "* `NA_sales` — продажи в Северной Америке (миллионы проданных копий)\n",
    "* `EU_sales` — продажи в Европе (миллионы проданных копий)\n",
    "* `JP_sales` — продажи в Японии (миллионы проданных копий)\n",
    "* `Other_sales` — продажи в других странах (миллионы проданных копий)\n",
    "* `Critic_Score` — оценка критиков (максимум 100)\n",
    "* `User_Score` — оценка пользователей (максимум 10)\n",
    "* `Rating` — рейтинг от организации ESRB (англ. Entertainment Software Rating Board). Эта ассоциация определяет рейтинг компьютерных игр и присваивает им подходящую возрастную категорию."
   ]
  },
  {
   "cell_type": "code",
   "execution_count": 3,
   "id": "5a1760ef",
   "metadata": {},
   "outputs": [
    {
     "name": "stdout",
     "output_type": "stream",
     "text": [
      "<class 'pandas.core.frame.DataFrame'>\n",
      "RangeIndex: 16715 entries, 0 to 16714\n",
      "Data columns (total 11 columns):\n",
      " #   Column           Non-Null Count  Dtype  \n",
      "---  ------           --------------  -----  \n",
      " 0   Name             16713 non-null  object \n",
      " 1   Platform         16715 non-null  object \n",
      " 2   Year_of_Release  16446 non-null  float64\n",
      " 3   Genre            16713 non-null  object \n",
      " 4   NA_sales         16715 non-null  float64\n",
      " 5   EU_sales         16715 non-null  float64\n",
      " 6   JP_sales         16715 non-null  float64\n",
      " 7   Other_sales      16715 non-null  float64\n",
      " 8   Critic_Score     8137 non-null   float64\n",
      " 9   User_Score       10014 non-null  object \n",
      " 10  Rating           9949 non-null   object \n",
      "dtypes: float64(6), object(5)\n",
      "memory usage: 1.4+ MB\n"
     ]
    }
   ],
   "source": [
    "df.info()"
   ]
  },
  {
   "cell_type": "code",
   "execution_count": 4,
   "id": "932c78fe",
   "metadata": {},
   "outputs": [
    {
     "data": {
      "text/plain": [
       "0"
      ]
     },
     "execution_count": 4,
     "metadata": {},
     "output_type": "execute_result"
    }
   ],
   "source": [
    "df.duplicated().sum() # вычислим количество грубых дубликатов"
   ]
  },
  {
   "cell_type": "markdown",
   "id": "e7d6adc8",
   "metadata": {},
   "source": [
    "### Вывод\n",
    "* В датасете 16715 строк и 11 столбцов.\n",
    "* В данных отсутствуют грубые дубликаты\n",
    "* В некоторых столбцах имеются пропуски.\n",
    "* Встречаются два типа данных:  float64, object.\n",
    "* Необходимы преобразования типа данных в некоторых столбцах.\n"
   ]
  },
  {
   "cell_type": "markdown",
   "id": "a11b228a",
   "metadata": {},
   "source": [
    "## Предобработка данных"
   ]
  },
  {
   "cell_type": "markdown",
   "id": "65004bb2",
   "metadata": {},
   "source": [
    "### Приведение к нижнему регистру"
   ]
  },
  {
   "cell_type": "code",
   "execution_count": 5,
   "id": "056783bf",
   "metadata": {},
   "outputs": [
    {
     "data": {
      "text/plain": [
       "Index(['Name', 'Platform', 'Year_of_Release', 'Genre', 'NA_sales', 'EU_sales',\n",
       "       'JP_sales', 'Other_sales', 'Critic_Score', 'User_Score', 'Rating'],\n",
       "      dtype='object')"
      ]
     },
     "execution_count": 5,
     "metadata": {},
     "output_type": "execute_result"
    }
   ],
   "source": [
    "df.columns # посмотрим название столбцов датасета"
   ]
  },
  {
   "cell_type": "code",
   "execution_count": 6,
   "id": "16e759c4",
   "metadata": {},
   "outputs": [],
   "source": [
    "df.columns = df.columns.str.lower() # избавимся от прописных букв в названиях столбцов"
   ]
  },
  {
   "cell_type": "code",
   "execution_count": 7,
   "id": "eb22629a",
   "metadata": {},
   "outputs": [
    {
     "data": {
      "text/plain": [
       "0"
      ]
     },
     "execution_count": 7,
     "metadata": {},
     "output_type": "execute_result"
    }
   ],
   "source": [
    "df.duplicated().sum() # снова проверим количество грубых дубликатов"
   ]
  },
  {
   "cell_type": "markdown",
   "id": "62fd5a1c",
   "metadata": {},
   "source": [
    "### Обработка пропущенных значений."
   ]
  },
  {
   "cell_type": "code",
   "execution_count": 8,
   "id": "c417ad08",
   "metadata": {
    "scrolled": false
   },
   "outputs": [
    {
     "data": {
      "text/plain": [
       "name               0.000120\n",
       "platform           0.000000\n",
       "year_of_release    0.016093\n",
       "genre              0.000120\n",
       "na_sales           0.000000\n",
       "eu_sales           0.000000\n",
       "jp_sales           0.000000\n",
       "other_sales        0.000000\n",
       "critic_score       0.513192\n",
       "user_score         0.400897\n",
       "rating             0.404786\n",
       "dtype: float64"
      ]
     },
     "execution_count": 8,
     "metadata": {},
     "output_type": "execute_result"
    }
   ],
   "source": [
    "df.isna().mean() # посмотрим доли пропущенных значений "
   ]
  },
  {
   "cell_type": "markdown",
   "id": "75b9c7c4",
   "metadata": {},
   "source": [
    "В столбцах `name`, `year_of_release` и `genre` незначительное количество пропусков, удалим их."
   ]
  },
  {
   "cell_type": "code",
   "execution_count": 9,
   "id": "11432d1d",
   "metadata": {},
   "outputs": [],
   "source": [
    "df.dropna(subset=['name', 'year_of_release', 'genre'], inplace=True)\n",
    "df.reset_index(drop=True, inplace=True) # переназначаем номера индексов"
   ]
  },
  {
   "cell_type": "markdown",
   "id": "d52f814a",
   "metadata": {},
   "source": [
    "Изучим столбец `user_score`."
   ]
  },
  {
   "cell_type": "code",
   "execution_count": 10,
   "id": "b52219b3",
   "metadata": {
    "scrolled": false
   },
   "outputs": [
    {
     "data": {
      "text/plain": [
       "array(['8', nan, '8.3', '8.5', '6.6', '8.4', '8.6', '7.7', '6.3', '7.4',\n",
       "       '8.2', '9', '7.9', '8.1', '8.7', '7.1', '3.4', '5.3', '4.8', '3.2',\n",
       "       '8.9', '6.4', '7.8', '7.5', '2.6', '7.2', '9.2', '7', '7.3', '4.3',\n",
       "       '7.6', '5.7', '5', '9.1', '6.5', 'tbd', '8.8', '6.9', '9.4', '6.8',\n",
       "       '6.1', '6.7', '5.4', '4', '4.9', '4.5', '9.3', '6.2', '4.2', '6',\n",
       "       '3.7', '4.1', '5.8', '5.6', '5.5', '4.4', '4.6', '5.9', '3.9',\n",
       "       '3.1', '2.9', '5.2', '3.3', '4.7', '5.1', '3.5', '2.5', '1.9', '3',\n",
       "       '2.7', '2.2', '2', '9.5', '2.1', '3.6', '2.8', '1.8', '3.8', '0',\n",
       "       '1.6', '9.6', '2.4', '1.7', '1.1', '0.3', '1.5', '0.7', '1.2',\n",
       "       '2.3', '0.5', '1.3', '0.2', '0.6', '1.4', '0.9', '1', '9.7'],\n",
       "      dtype=object)"
      ]
     },
     "execution_count": 10,
     "metadata": {},
     "output_type": "execute_result"
    }
   ],
   "source": [
    "df['user_score'].unique() # посмотрим уникальные значения оценок"
   ]
  },
  {
   "cell_type": "markdown",
   "id": "23b30be8",
   "metadata": {},
   "source": [
    "Среди значений выделяются 'tbd'. Посмотрим долю таких значений."
   ]
  },
  {
   "cell_type": "code",
   "execution_count": 11,
   "id": "ef71e686",
   "metadata": {},
   "outputs": [
    {
     "data": {
      "text/plain": [
       "0.14449039163220628"
      ]
     },
     "execution_count": 11,
     "metadata": {},
     "output_type": "execute_result"
    }
   ],
   "source": [
    "len(df[df['user_score'] == 'tbd'])/len(df)"
   ]
  },
  {
   "cell_type": "markdown",
   "id": "0b0f1a47",
   "metadata": {},
   "source": [
    "Доля внушительная, удалять нельзя.\n",
    "\n",
    "TBD - To Be Determined - будет определено. В отношении столбца `user_score`, значения `tbd` означает, что на момент формирования датасета, оценка пользователей не определена, такие значения следует заменить на NaN."
   ]
  },
  {
   "cell_type": "code",
   "execution_count": 12,
   "id": "5abc4049",
   "metadata": {},
   "outputs": [],
   "source": [
    "df.loc[df['user_score'] =='tbd','user_score'] = np.nan"
   ]
  },
  {
   "cell_type": "markdown",
   "id": "bd72a145",
   "metadata": {},
   "source": [
    "Причина пропусков в данном столбце не известна, оставим пропуски как есть, для дальнейшей возможности корректного подсчета средних и медианных оценок."
   ]
  },
  {
   "cell_type": "markdown",
   "id": "6a455b34",
   "metadata": {},
   "source": [
    "Изучим столбец `critic_score`."
   ]
  },
  {
   "cell_type": "code",
   "execution_count": 13,
   "id": "bc6ceba2",
   "metadata": {
    "scrolled": false
   },
   "outputs": [
    {
     "data": {
      "text/plain": [
       "array([76., nan, 82., 80., 89., 58., 87., 91., 61., 97., 95., 77., 88.,\n",
       "       83., 94., 93., 85., 86., 98., 96., 90., 84., 73., 74., 78., 92.,\n",
       "       71., 72., 68., 62., 49., 67., 81., 66., 56., 79., 70., 59., 64.,\n",
       "       75., 60., 63., 69., 50., 25., 42., 44., 55., 48., 57., 29., 47.,\n",
       "       65., 54., 20., 53., 37., 38., 33., 52., 30., 32., 43., 45., 51.,\n",
       "       40., 46., 39., 34., 41., 36., 31., 27., 35., 26., 19., 28., 23.,\n",
       "       24., 21., 17., 13.])"
      ]
     },
     "execution_count": 13,
     "metadata": {},
     "output_type": "execute_result"
    }
   ],
   "source": [
    "df['critic_score'].unique() # посмотрим уникальные значения оценок"
   ]
  },
  {
   "cell_type": "markdown",
   "id": "fe2a075d",
   "metadata": {},
   "source": [
    "Причина пропусков в данном столбце не известна, оставим пропуски как есть, для дальнейшей возможности корректного подсчета средних и медианных оценок."
   ]
  },
  {
   "cell_type": "markdown",
   "id": "4850b9e5",
   "metadata": {},
   "source": [
    "Изучим столбец `rating`."
   ]
  },
  {
   "cell_type": "code",
   "execution_count": 14,
   "id": "6266ed62",
   "metadata": {
    "scrolled": true
   },
   "outputs": [
    {
     "data": {
      "text/plain": [
       "E       3921\n",
       "T       2905\n",
       "M       1536\n",
       "E10+    1393\n",
       "EC         8\n",
       "K-A        3\n",
       "AO         1\n",
       "RP         1\n",
       "Name: rating, dtype: int64"
      ]
     },
     "execution_count": 14,
     "metadata": {},
     "output_type": "execute_result"
    }
   ],
   "source": [
    "df['rating'].value_counts()"
   ]
  },
  {
   "cell_type": "markdown",
   "id": "40b3e7ad",
   "metadata": {},
   "source": [
    "Возрастные категории согласно ESRB:\n",
    "\n",
    "* E - everyone (контент для всех)\n",
    "* E10+ - everyone 10+ (от 10 лет и выше)\n",
    "* T - teen (от 13 лет и выше)\n",
    "* M - mature (от 17 лет и выше)\n",
    "* AO - adults only (от 18 лет и выше) \n",
    "* EC - early childhood (для детей от 3 лет. заменён рейтингом \"E\" ввиду малого использования)\n",
    "* K-A - kids to adults (старое обозначение рейтинга \"E\") \n",
    "* RP - rating pending (рейтинг ожидается)\n",
    "\n",
    "Заменим пропуски на `RP` (рейтинг ожидается). Категории `EC` и `K-A` заменим на `E`."
   ]
  },
  {
   "cell_type": "code",
   "execution_count": 15,
   "id": "f948bdef",
   "metadata": {},
   "outputs": [
    {
     "data": {
      "text/plain": [
       "RP      6677\n",
       "E       3932\n",
       "T       2905\n",
       "M       1536\n",
       "E10+    1393\n",
       "AO         1\n",
       "Name: rating, dtype: int64"
      ]
     },
     "execution_count": 15,
     "metadata": {},
     "output_type": "execute_result"
    }
   ],
   "source": [
    "df['rating'] = df['rating'].fillna('RP') \n",
    "df.loc[(df['rating'] == 'EC') | (df['rating'] == 'K-A'), 'rating'] = 'E'\n",
    "df['rating'].value_counts()"
   ]
  },
  {
   "cell_type": "code",
   "execution_count": 16,
   "id": "bfb009ba",
   "metadata": {
    "scrolled": false
   },
   "outputs": [
    {
     "data": {
      "text/plain": [
       "name               0.000000\n",
       "platform           0.000000\n",
       "year_of_release    0.000000\n",
       "genre              0.000000\n",
       "na_sales           0.000000\n",
       "eu_sales           0.000000\n",
       "jp_sales           0.000000\n",
       "other_sales        0.000000\n",
       "critic_score       0.514534\n",
       "user_score         0.546157\n",
       "rating             0.000000\n",
       "dtype: float64"
      ]
     },
     "execution_count": 16,
     "metadata": {},
     "output_type": "execute_result"
    }
   ],
   "source": [
    "df.isna().mean()"
   ]
  },
  {
   "cell_type": "markdown",
   "id": "a9e2e0d1",
   "metadata": {},
   "source": [
    "Пропуски обработаны."
   ]
  },
  {
   "cell_type": "markdown",
   "id": "97794470",
   "metadata": {},
   "source": [
    "### Добавление столбца суммарных продаж во всех регионах."
   ]
  },
  {
   "cell_type": "code",
   "execution_count": 17,
   "id": "ed3b7418",
   "metadata": {},
   "outputs": [],
   "source": [
    "df['sales_total'] = df.eval('na_sales + eu_sales + jp_sales + other_sales')"
   ]
  },
  {
   "cell_type": "code",
   "execution_count": 18,
   "id": "4c11df5e",
   "metadata": {
    "scrolled": true
   },
   "outputs": [
    {
     "data": {
      "text/html": [
       "<div>\n",
       "<style scoped>\n",
       "    .dataframe tbody tr th:only-of-type {\n",
       "        vertical-align: middle;\n",
       "    }\n",
       "\n",
       "    .dataframe tbody tr th {\n",
       "        vertical-align: top;\n",
       "    }\n",
       "\n",
       "    .dataframe thead th {\n",
       "        text-align: right;\n",
       "    }\n",
       "</style>\n",
       "<table border=\"1\" class=\"dataframe\">\n",
       "  <thead>\n",
       "    <tr style=\"text-align: right;\">\n",
       "      <th></th>\n",
       "      <th>name</th>\n",
       "      <th>platform</th>\n",
       "      <th>year_of_release</th>\n",
       "      <th>genre</th>\n",
       "      <th>na_sales</th>\n",
       "      <th>eu_sales</th>\n",
       "      <th>jp_sales</th>\n",
       "      <th>other_sales</th>\n",
       "      <th>critic_score</th>\n",
       "      <th>user_score</th>\n",
       "      <th>rating</th>\n",
       "      <th>sales_total</th>\n",
       "    </tr>\n",
       "  </thead>\n",
       "  <tbody>\n",
       "    <tr>\n",
       "      <th>0</th>\n",
       "      <td>Wii Sports</td>\n",
       "      <td>Wii</td>\n",
       "      <td>2006.0</td>\n",
       "      <td>Sports</td>\n",
       "      <td>41.36</td>\n",
       "      <td>28.96</td>\n",
       "      <td>3.77</td>\n",
       "      <td>8.45</td>\n",
       "      <td>76.0</td>\n",
       "      <td>8</td>\n",
       "      <td>E</td>\n",
       "      <td>82.54</td>\n",
       "    </tr>\n",
       "    <tr>\n",
       "      <th>1</th>\n",
       "      <td>Super Mario Bros.</td>\n",
       "      <td>NES</td>\n",
       "      <td>1985.0</td>\n",
       "      <td>Platform</td>\n",
       "      <td>29.08</td>\n",
       "      <td>3.58</td>\n",
       "      <td>6.81</td>\n",
       "      <td>0.77</td>\n",
       "      <td>NaN</td>\n",
       "      <td>NaN</td>\n",
       "      <td>RP</td>\n",
       "      <td>40.24</td>\n",
       "    </tr>\n",
       "    <tr>\n",
       "      <th>2</th>\n",
       "      <td>Mario Kart Wii</td>\n",
       "      <td>Wii</td>\n",
       "      <td>2008.0</td>\n",
       "      <td>Racing</td>\n",
       "      <td>15.68</td>\n",
       "      <td>12.76</td>\n",
       "      <td>3.79</td>\n",
       "      <td>3.29</td>\n",
       "      <td>82.0</td>\n",
       "      <td>8.3</td>\n",
       "      <td>E</td>\n",
       "      <td>35.52</td>\n",
       "    </tr>\n",
       "    <tr>\n",
       "      <th>3</th>\n",
       "      <td>Wii Sports Resort</td>\n",
       "      <td>Wii</td>\n",
       "      <td>2009.0</td>\n",
       "      <td>Sports</td>\n",
       "      <td>15.61</td>\n",
       "      <td>10.93</td>\n",
       "      <td>3.28</td>\n",
       "      <td>2.95</td>\n",
       "      <td>80.0</td>\n",
       "      <td>8</td>\n",
       "      <td>E</td>\n",
       "      <td>32.77</td>\n",
       "    </tr>\n",
       "    <tr>\n",
       "      <th>4</th>\n",
       "      <td>Pokemon Red/Pokemon Blue</td>\n",
       "      <td>GB</td>\n",
       "      <td>1996.0</td>\n",
       "      <td>Role-Playing</td>\n",
       "      <td>11.27</td>\n",
       "      <td>8.89</td>\n",
       "      <td>10.22</td>\n",
       "      <td>1.00</td>\n",
       "      <td>NaN</td>\n",
       "      <td>NaN</td>\n",
       "      <td>RP</td>\n",
       "      <td>31.38</td>\n",
       "    </tr>\n",
       "    <tr>\n",
       "      <th>...</th>\n",
       "      <td>...</td>\n",
       "      <td>...</td>\n",
       "      <td>...</td>\n",
       "      <td>...</td>\n",
       "      <td>...</td>\n",
       "      <td>...</td>\n",
       "      <td>...</td>\n",
       "      <td>...</td>\n",
       "      <td>...</td>\n",
       "      <td>...</td>\n",
       "      <td>...</td>\n",
       "      <td>...</td>\n",
       "    </tr>\n",
       "    <tr>\n",
       "      <th>16439</th>\n",
       "      <td>Samurai Warriors: Sanada Maru</td>\n",
       "      <td>PS3</td>\n",
       "      <td>2016.0</td>\n",
       "      <td>Action</td>\n",
       "      <td>0.00</td>\n",
       "      <td>0.00</td>\n",
       "      <td>0.01</td>\n",
       "      <td>0.00</td>\n",
       "      <td>NaN</td>\n",
       "      <td>NaN</td>\n",
       "      <td>RP</td>\n",
       "      <td>0.01</td>\n",
       "    </tr>\n",
       "    <tr>\n",
       "      <th>16440</th>\n",
       "      <td>LMA Manager 2007</td>\n",
       "      <td>X360</td>\n",
       "      <td>2006.0</td>\n",
       "      <td>Sports</td>\n",
       "      <td>0.00</td>\n",
       "      <td>0.01</td>\n",
       "      <td>0.00</td>\n",
       "      <td>0.00</td>\n",
       "      <td>NaN</td>\n",
       "      <td>NaN</td>\n",
       "      <td>RP</td>\n",
       "      <td>0.01</td>\n",
       "    </tr>\n",
       "    <tr>\n",
       "      <th>16441</th>\n",
       "      <td>Haitaka no Psychedelica</td>\n",
       "      <td>PSV</td>\n",
       "      <td>2016.0</td>\n",
       "      <td>Adventure</td>\n",
       "      <td>0.00</td>\n",
       "      <td>0.00</td>\n",
       "      <td>0.01</td>\n",
       "      <td>0.00</td>\n",
       "      <td>NaN</td>\n",
       "      <td>NaN</td>\n",
       "      <td>RP</td>\n",
       "      <td>0.01</td>\n",
       "    </tr>\n",
       "    <tr>\n",
       "      <th>16442</th>\n",
       "      <td>Spirits &amp; Spells</td>\n",
       "      <td>GBA</td>\n",
       "      <td>2003.0</td>\n",
       "      <td>Platform</td>\n",
       "      <td>0.01</td>\n",
       "      <td>0.00</td>\n",
       "      <td>0.00</td>\n",
       "      <td>0.00</td>\n",
       "      <td>NaN</td>\n",
       "      <td>NaN</td>\n",
       "      <td>RP</td>\n",
       "      <td>0.01</td>\n",
       "    </tr>\n",
       "    <tr>\n",
       "      <th>16443</th>\n",
       "      <td>Winning Post 8 2016</td>\n",
       "      <td>PSV</td>\n",
       "      <td>2016.0</td>\n",
       "      <td>Simulation</td>\n",
       "      <td>0.00</td>\n",
       "      <td>0.00</td>\n",
       "      <td>0.01</td>\n",
       "      <td>0.00</td>\n",
       "      <td>NaN</td>\n",
       "      <td>NaN</td>\n",
       "      <td>RP</td>\n",
       "      <td>0.01</td>\n",
       "    </tr>\n",
       "  </tbody>\n",
       "</table>\n",
       "<p>16444 rows × 12 columns</p>\n",
       "</div>"
      ],
      "text/plain": [
       "                                name platform  year_of_release         genre  \\\n",
       "0                         Wii Sports      Wii           2006.0        Sports   \n",
       "1                  Super Mario Bros.      NES           1985.0      Platform   \n",
       "2                     Mario Kart Wii      Wii           2008.0        Racing   \n",
       "3                  Wii Sports Resort      Wii           2009.0        Sports   \n",
       "4           Pokemon Red/Pokemon Blue       GB           1996.0  Role-Playing   \n",
       "...                              ...      ...              ...           ...   \n",
       "16439  Samurai Warriors: Sanada Maru      PS3           2016.0        Action   \n",
       "16440               LMA Manager 2007     X360           2006.0        Sports   \n",
       "16441        Haitaka no Psychedelica      PSV           2016.0     Adventure   \n",
       "16442               Spirits & Spells      GBA           2003.0      Platform   \n",
       "16443            Winning Post 8 2016      PSV           2016.0    Simulation   \n",
       "\n",
       "       na_sales  eu_sales  jp_sales  other_sales  critic_score user_score  \\\n",
       "0         41.36     28.96      3.77         8.45          76.0          8   \n",
       "1         29.08      3.58      6.81         0.77           NaN        NaN   \n",
       "2         15.68     12.76      3.79         3.29          82.0        8.3   \n",
       "3         15.61     10.93      3.28         2.95          80.0          8   \n",
       "4         11.27      8.89     10.22         1.00           NaN        NaN   \n",
       "...         ...       ...       ...          ...           ...        ...   \n",
       "16439      0.00      0.00      0.01         0.00           NaN        NaN   \n",
       "16440      0.00      0.01      0.00         0.00           NaN        NaN   \n",
       "16441      0.00      0.00      0.01         0.00           NaN        NaN   \n",
       "16442      0.01      0.00      0.00         0.00           NaN        NaN   \n",
       "16443      0.00      0.00      0.01         0.00           NaN        NaN   \n",
       "\n",
       "      rating  sales_total  \n",
       "0          E        82.54  \n",
       "1         RP        40.24  \n",
       "2          E        35.52  \n",
       "3          E        32.77  \n",
       "4         RP        31.38  \n",
       "...      ...          ...  \n",
       "16439     RP         0.01  \n",
       "16440     RP         0.01  \n",
       "16441     RP         0.01  \n",
       "16442     RP         0.01  \n",
       "16443     RP         0.01  \n",
       "\n",
       "[16444 rows x 12 columns]"
      ]
     },
     "execution_count": 18,
     "metadata": {},
     "output_type": "execute_result"
    }
   ],
   "source": [
    "df"
   ]
  },
  {
   "cell_type": "markdown",
   "id": "010f0ca0",
   "metadata": {},
   "source": [
    "### Преобразование типов данных"
   ]
  },
  {
   "cell_type": "code",
   "execution_count": 19,
   "id": "c680475d",
   "metadata": {},
   "outputs": [
    {
     "name": "stdout",
     "output_type": "stream",
     "text": [
      "<class 'pandas.core.frame.DataFrame'>\n",
      "RangeIndex: 16444 entries, 0 to 16443\n",
      "Data columns (total 12 columns):\n",
      " #   Column           Non-Null Count  Dtype  \n",
      "---  ------           --------------  -----  \n",
      " 0   name             16444 non-null  object \n",
      " 1   platform         16444 non-null  object \n",
      " 2   year_of_release  16444 non-null  float64\n",
      " 3   genre            16444 non-null  object \n",
      " 4   na_sales         16444 non-null  float64\n",
      " 5   eu_sales         16444 non-null  float64\n",
      " 6   jp_sales         16444 non-null  float64\n",
      " 7   other_sales      16444 non-null  float64\n",
      " 8   critic_score     7983 non-null   float64\n",
      " 9   user_score       7463 non-null   object \n",
      " 10  rating           16444 non-null  object \n",
      " 11  sales_total      16444 non-null  float64\n",
      "dtypes: float64(7), object(5)\n",
      "memory usage: 1.5+ MB\n"
     ]
    }
   ],
   "source": [
    "df.info()"
   ]
  },
  {
   "cell_type": "markdown",
   "id": "4f21fb10",
   "metadata": {},
   "source": [
    "Заменим тип данных на оптимальные."
   ]
  },
  {
   "cell_type": "code",
   "execution_count": 20,
   "id": "2ddcbd5e",
   "metadata": {},
   "outputs": [],
   "source": [
    "for column in ['na_sales', 'eu_sales', 'jp_sales', 'other_sales', 'critic_score',\n",
    "               'user_score','sales_total']:\n",
    "     df[column] = pd.to_numeric(df[column], downcast='float')"
   ]
  },
  {
   "cell_type": "code",
   "execution_count": 21,
   "id": "19e97cf6",
   "metadata": {
    "scrolled": true
   },
   "outputs": [],
   "source": [
    "df['year_of_release'] = pd.to_numeric(df['year_of_release'], downcast='integer')"
   ]
  },
  {
   "cell_type": "code",
   "execution_count": 22,
   "id": "519e0f93",
   "metadata": {
    "scrolled": true
   },
   "outputs": [
    {
     "name": "stdout",
     "output_type": "stream",
     "text": [
      "<class 'pandas.core.frame.DataFrame'>\n",
      "RangeIndex: 16444 entries, 0 to 16443\n",
      "Data columns (total 12 columns):\n",
      " #   Column           Non-Null Count  Dtype  \n",
      "---  ------           --------------  -----  \n",
      " 0   name             16444 non-null  object \n",
      " 1   platform         16444 non-null  object \n",
      " 2   year_of_release  16444 non-null  int16  \n",
      " 3   genre            16444 non-null  object \n",
      " 4   na_sales         16444 non-null  float32\n",
      " 5   eu_sales         16444 non-null  float32\n",
      " 6   jp_sales         16444 non-null  float32\n",
      " 7   other_sales      16444 non-null  float32\n",
      " 8   critic_score     7983 non-null   float32\n",
      " 9   user_score       7463 non-null   float32\n",
      " 10  rating           16444 non-null  object \n",
      " 11  sales_total      16444 non-null  float32\n",
      "dtypes: float32(7), int16(1), object(4)\n",
      "memory usage: 995.8+ KB\n"
     ]
    }
   ],
   "source": [
    "df.info()"
   ]
  },
  {
   "cell_type": "markdown",
   "id": "c502a840",
   "metadata": {},
   "source": [
    "Типы данных преобразованы."
   ]
  },
  {
   "cell_type": "markdown",
   "id": "16c9144d",
   "metadata": {},
   "source": [
    "### Вывод\n",
    "\n",
    "На этапе предобработки выполнено:\n",
    "* название столбцов датасета приведены к нижнему регистру.\n",
    "* удалены строки с пропущенными значениями в столбцах `name`, `year_of_release` и `genre`.\n",
    "* в столбце `user_score` значения `tbd` заменtys на NaN.\n",
    "* пропуски в столбцах `user_score` и `critic_score` оставлены без изменений.\n",
    "* оптимизированы возрастные категории согласно ESRB, путем объединения равно значимых групп.\n",
    "* заменены типы данных на оптимальные.\n",
    "\n",
    "Данные довольно чистые, понадобилась незначительная предобработка данных. Можно приступать к анализу.\n"
   ]
  },
  {
   "cell_type": "markdown",
   "id": "706d0cad",
   "metadata": {},
   "source": [
    "## Исследовательский анализ данных\n",
    "### Количество выпущенных игр по годам\n",
    "**Посмотрите, сколько игр выпускалось в разные годы.**\n",
    "\n",
    "Создадим сводную таблицу по году релиза, считающую количество игр за каждый год и построим по ней гистограмму."
   ]
  },
  {
   "cell_type": "code",
   "execution_count": 23,
   "id": "55fdcf3d",
   "metadata": {},
   "outputs": [
    {
     "data": {
      "text/plain": [
       "<AxesSubplot:xlabel='year_of_release'>"
      ]
     },
     "execution_count": 23,
     "metadata": {},
     "output_type": "execute_result"
    },
    {
     "data": {
      "image/png": "[encoded data removed]",
      "text/plain": [
       "<Figure size 1152x360 with 1 Axes>"
      ]
     },
     "metadata": {
      "needs_background": "light"
     },
     "output_type": "display_data"
    }
   ],
   "source": [
    "years_count = df.pivot_table(index='year_of_release', values='name', aggfunc='count')\n",
    "years_count.columns = ['count']\n",
    "years_count.plot(y = 'count',kind = 'bar',figsize = (16,5))"
   ]
  },
  {
   "cell_type": "markdown",
   "id": "ae9bcc68",
   "metadata": {},
   "source": [
    "**Важны ли данные за все периоды?**\n",
    "\n",
    "Датасет содержит данные об играх с 1980 года. Как видно из графика период до 1994 года мало интересен для исследования. с 1995 по 2008 наблюдался рост количества выпускаемых игр. Больше всего игр было выпущено в период с 2005 по 2011 год. В 2008 и 2009 годах выпущено максимальное количество игр. Для дальнейшего анализа рассмотрим данные с 1995 года.\n",
    "\n",
    "### Изменения продаж по платформам по годам. \n",
    "\n",
    "**Посмотрите, как менялись продажи по платформам. Выберите платформы с наибольшими суммарными продажами и постройте распределение по годам. За какой характерный срок появляются новые и исчезают старые платформы?**\n",
    "\n",
    "\n",
    "Выясним, какие платформы имеют наибольшие суммарные продажи во всем мире. Сгруппируем данные после 1995 года по платформам и выведем топ 20 по продажам."
   ]
  },
  {
   "cell_type": "code",
   "execution_count": 24,
   "id": "f9987f98",
   "metadata": {},
   "outputs": [],
   "source": [
    "# найдём суммарные продажи по каждой платформе за всё время\n",
    "top_platforms = df.groupby('platform')['sales_total'].agg('sum').sort_values(ascending=False)"
   ]
  },
  {
   "cell_type": "code",
   "execution_count": 25,
   "id": "49dccfb3",
   "metadata": {
    "scrolled": false
   },
   "outputs": [
    {
     "data": {
      "text/plain": [
       "platform\n",
       "PS2     1233.560059\n",
       "X360     961.239990\n",
       "PS3      931.340027\n",
       "Wii      891.179993\n",
       "DS       802.779968\n",
       "PS       727.580017\n",
       "PS4      314.140015\n",
       "GBA      312.880005\n",
       "PSP      289.529999\n",
       "3DS      257.809998\n",
       "PC       255.759995\n",
       "GB       254.429993\n",
       "XB       251.569992\n",
       "NES      251.050003\n",
       "N64      218.009995\n",
       "SNES     200.040009\n",
       "GC       196.729996\n",
       "XOne     159.319992\n",
       "2600      86.480003\n",
       "WiiU      82.190002\n",
       "PSV       53.810001\n",
       "SAT       33.590000\n",
       "GEN       28.350000\n",
       "DC        15.950000\n",
       "SCD        1.860000\n",
       "NG         1.440000\n",
       "WS         1.420000\n",
       "TG16       0.160000\n",
       "3DO        0.100000\n",
       "GG         0.040000\n",
       "PCFX       0.030000\n",
       "Name: sales_total, dtype: float32"
      ]
     },
     "execution_count": 25,
     "metadata": {},
     "output_type": "execute_result"
    }
   ],
   "source": [
    "top_platforms"
   ]
  },
  {
   "cell_type": "code",
   "execution_count": 26,
   "id": "85a673c9",
   "metadata": {},
   "outputs": [],
   "source": [
    "# вынесем индекс платформы в отдельную колонку, оставим 20 платформ с максимальными продажами\n",
    "top_platforms = top_platforms.reset_index().head(20)['platform']"
   ]
  },
  {
   "cell_type": "markdown",
   "id": "c9fe7269",
   "metadata": {},
   "source": [
    "Создадим функцию построения графиков продаж по годам для платформ на базе lineplot()"
   ]
  },
  {
   "cell_type": "code",
   "execution_count": 27,
   "id": "b47261df",
   "metadata": {
    "scrolled": false
   },
   "outputs": [
    {
     "data": {
      "image/png": "[encoded data removed]",
      "text/plain": [
       "<Figure size 1152x576 with 1 Axes>"
      ]
     },
     "metadata": {
      "needs_background": "light"
     },
     "output_type": "display_data"
    }
   ],
   "source": [
    "def lines_graph(frame, year, name):\n",
    "    plt.figure(figsize=(16,8))\n",
    "    plt.title(name, fontsize=18)\n",
    "    sns.lineplot(x='year_of_release', y='sales_total', hue='platform', markers=True, data=(\n",
    "        frame.query('year_of_release >= @year')                   # срез по заданному году\n",
    "        .groupby(['platform','year_of_release'])['sales_total']   # группировка по платформам и годам\n",
    "        .agg('sum')                                               # сумма продаж по платформам и годам\n",
    "        .reset_index()                                            # переназначение номеров индексов\n",
    "        )\n",
    "        )\n",
    "                 \n",
    "lines_graph(df.query('platform in @top_platforms'), 1995, 'Распределение продаж игр для популярных платформ по годам')"
   ]
  },
  {
   "cell_type": "markdown",
   "id": "6f621b2c",
   "metadata": {},
   "source": [
    "**За какой характерный срок появляются новые и исчезают старые платформы?**\n",
    "\n",
    "По графику видно:\n",
    "*\tсрок жизни игровых платформ колеблется от 5 до 10 лет, за исключением игр для PC, у новых игр для PC с каждым годом увеличиваются системные требования, для возможности играть в новые игры, компьютеры приходиться периодически апгрейдить, в этом есть некоторая схожесть со сменой поколений у приставок.\n",
    "*\tпредыдущее поколение умирает приблизительно через 4-5 лет после выпуска нового поколения."
   ]
  },
  {
   "cell_type": "markdown",
   "id": "9ea8873d",
   "metadata": {},
   "source": [
    "### Выделение актуального периода.\n",
    "**Возьмите данные за соответствующий актуальный период. Актуальный период определите самостоятельно в результате исследования предыдущих вопросов. Основной фактор — эти данные помогут построить прогноз на 2017 год.**\n",
    "\n",
    "Посмотрим на какие платформы выпускались игры в 2016 году."
   ]
  },
  {
   "cell_type": "code",
   "execution_count": 28,
   "id": "e3ed73c7",
   "metadata": {
    "scrolled": true
   },
   "outputs": [
    {
     "name": "stdout",
     "output_type": "stream",
     "text": [
      "['PS4' '3DS' 'XOne' 'WiiU' 'PS3' 'PC' 'X360' 'PSV' 'Wii']\n"
     ]
    }
   ],
   "source": [
    "platforms_2016 = (df.loc[df['year_of_release'] == 2016, 'platform'].unique())\n",
    "print(platforms_2016)"
   ]
  },
  {
   "cell_type": "markdown",
   "id": "e0756464",
   "metadata": {},
   "source": [
    "Создадим датасет по срезу платформ 2016-го года и построим по нему график."
   ]
  },
  {
   "cell_type": "code",
   "execution_count": 29,
   "id": "17d05296",
   "metadata": {
    "scrolled": false
   },
   "outputs": [
    {
     "data": {
      "text/html": [
       "<div>\n",
       "<style scoped>\n",
       "    .dataframe tbody tr th:only-of-type {\n",
       "        vertical-align: middle;\n",
       "    }\n",
       "\n",
       "    .dataframe tbody tr th {\n",
       "        vertical-align: top;\n",
       "    }\n",
       "\n",
       "    .dataframe thead th {\n",
       "        text-align: right;\n",
       "    }\n",
       "</style>\n",
       "<table border=\"1\" class=\"dataframe\">\n",
       "  <thead>\n",
       "    <tr style=\"text-align: right;\">\n",
       "      <th></th>\n",
       "      <th>name</th>\n",
       "      <th>platform</th>\n",
       "      <th>year_of_release</th>\n",
       "      <th>genre</th>\n",
       "      <th>na_sales</th>\n",
       "      <th>eu_sales</th>\n",
       "      <th>jp_sales</th>\n",
       "      <th>other_sales</th>\n",
       "      <th>critic_score</th>\n",
       "      <th>user_score</th>\n",
       "      <th>rating</th>\n",
       "      <th>sales_total</th>\n",
       "    </tr>\n",
       "  </thead>\n",
       "  <tbody>\n",
       "    <tr>\n",
       "      <th>0</th>\n",
       "      <td>Wii Sports</td>\n",
       "      <td>Wii</td>\n",
       "      <td>2006</td>\n",
       "      <td>Sports</td>\n",
       "      <td>41.360001</td>\n",
       "      <td>28.959999</td>\n",
       "      <td>3.77</td>\n",
       "      <td>8.45</td>\n",
       "      <td>76.0</td>\n",
       "      <td>8.0</td>\n",
       "      <td>E</td>\n",
       "      <td>82.540001</td>\n",
       "    </tr>\n",
       "    <tr>\n",
       "      <th>2</th>\n",
       "      <td>Mario Kart Wii</td>\n",
       "      <td>Wii</td>\n",
       "      <td>2008</td>\n",
       "      <td>Racing</td>\n",
       "      <td>15.680000</td>\n",
       "      <td>12.760000</td>\n",
       "      <td>3.79</td>\n",
       "      <td>3.29</td>\n",
       "      <td>82.0</td>\n",
       "      <td>8.3</td>\n",
       "      <td>E</td>\n",
       "      <td>35.520000</td>\n",
       "    </tr>\n",
       "    <tr>\n",
       "      <th>3</th>\n",
       "      <td>Wii Sports Resort</td>\n",
       "      <td>Wii</td>\n",
       "      <td>2009</td>\n",
       "      <td>Sports</td>\n",
       "      <td>15.610000</td>\n",
       "      <td>10.930000</td>\n",
       "      <td>3.28</td>\n",
       "      <td>2.95</td>\n",
       "      <td>80.0</td>\n",
       "      <td>8.0</td>\n",
       "      <td>E</td>\n",
       "      <td>32.770000</td>\n",
       "    </tr>\n",
       "    <tr>\n",
       "      <th>7</th>\n",
       "      <td>Wii Play</td>\n",
       "      <td>Wii</td>\n",
       "      <td>2006</td>\n",
       "      <td>Misc</td>\n",
       "      <td>13.960000</td>\n",
       "      <td>9.180000</td>\n",
       "      <td>2.93</td>\n",
       "      <td>2.84</td>\n",
       "      <td>58.0</td>\n",
       "      <td>6.6</td>\n",
       "      <td>E</td>\n",
       "      <td>28.910000</td>\n",
       "    </tr>\n",
       "    <tr>\n",
       "      <th>8</th>\n",
       "      <td>New Super Mario Bros. Wii</td>\n",
       "      <td>Wii</td>\n",
       "      <td>2009</td>\n",
       "      <td>Platform</td>\n",
       "      <td>14.440000</td>\n",
       "      <td>6.940000</td>\n",
       "      <td>4.70</td>\n",
       "      <td>2.24</td>\n",
       "      <td>87.0</td>\n",
       "      <td>8.4</td>\n",
       "      <td>E</td>\n",
       "      <td>28.320000</td>\n",
       "    </tr>\n",
       "    <tr>\n",
       "      <th>...</th>\n",
       "      <td>...</td>\n",
       "      <td>...</td>\n",
       "      <td>...</td>\n",
       "      <td>...</td>\n",
       "      <td>...</td>\n",
       "      <td>...</td>\n",
       "      <td>...</td>\n",
       "      <td>...</td>\n",
       "      <td>...</td>\n",
       "      <td>...</td>\n",
       "      <td>...</td>\n",
       "      <td>...</td>\n",
       "    </tr>\n",
       "    <tr>\n",
       "      <th>16436</th>\n",
       "      <td>Aiyoku no Eustia</td>\n",
       "      <td>PSV</td>\n",
       "      <td>2014</td>\n",
       "      <td>Misc</td>\n",
       "      <td>0.000000</td>\n",
       "      <td>0.000000</td>\n",
       "      <td>0.01</td>\n",
       "      <td>0.00</td>\n",
       "      <td>NaN</td>\n",
       "      <td>NaN</td>\n",
       "      <td>RP</td>\n",
       "      <td>0.010000</td>\n",
       "    </tr>\n",
       "    <tr>\n",
       "      <th>16439</th>\n",
       "      <td>Samurai Warriors: Sanada Maru</td>\n",
       "      <td>PS3</td>\n",
       "      <td>2016</td>\n",
       "      <td>Action</td>\n",
       "      <td>0.000000</td>\n",
       "      <td>0.000000</td>\n",
       "      <td>0.01</td>\n",
       "      <td>0.00</td>\n",
       "      <td>NaN</td>\n",
       "      <td>NaN</td>\n",
       "      <td>RP</td>\n",
       "      <td>0.010000</td>\n",
       "    </tr>\n",
       "    <tr>\n",
       "      <th>16440</th>\n",
       "      <td>LMA Manager 2007</td>\n",
       "      <td>X360</td>\n",
       "      <td>2006</td>\n",
       "      <td>Sports</td>\n",
       "      <td>0.000000</td>\n",
       "      <td>0.010000</td>\n",
       "      <td>0.00</td>\n",
       "      <td>0.00</td>\n",
       "      <td>NaN</td>\n",
       "      <td>NaN</td>\n",
       "      <td>RP</td>\n",
       "      <td>0.010000</td>\n",
       "    </tr>\n",
       "    <tr>\n",
       "      <th>16441</th>\n",
       "      <td>Haitaka no Psychedelica</td>\n",
       "      <td>PSV</td>\n",
       "      <td>2016</td>\n",
       "      <td>Adventure</td>\n",
       "      <td>0.000000</td>\n",
       "      <td>0.000000</td>\n",
       "      <td>0.01</td>\n",
       "      <td>0.00</td>\n",
       "      <td>NaN</td>\n",
       "      <td>NaN</td>\n",
       "      <td>RP</td>\n",
       "      <td>0.010000</td>\n",
       "    </tr>\n",
       "    <tr>\n",
       "      <th>16443</th>\n",
       "      <td>Winning Post 8 2016</td>\n",
       "      <td>PSV</td>\n",
       "      <td>2016</td>\n",
       "      <td>Simulation</td>\n",
       "      <td>0.000000</td>\n",
       "      <td>0.000000</td>\n",
       "      <td>0.01</td>\n",
       "      <td>0.00</td>\n",
       "      <td>NaN</td>\n",
       "      <td>NaN</td>\n",
       "      <td>RP</td>\n",
       "      <td>0.010000</td>\n",
       "    </tr>\n",
       "  </tbody>\n",
       "</table>\n",
       "<p>6508 rows × 12 columns</p>\n",
       "</div>"
      ],
      "text/plain": [
       "                                name platform  year_of_release       genre  \\\n",
       "0                         Wii Sports      Wii             2006      Sports   \n",
       "2                     Mario Kart Wii      Wii             2008      Racing   \n",
       "3                  Wii Sports Resort      Wii             2009      Sports   \n",
       "7                           Wii Play      Wii             2006        Misc   \n",
       "8          New Super Mario Bros. Wii      Wii             2009    Platform   \n",
       "...                              ...      ...              ...         ...   \n",
       "16436               Aiyoku no Eustia      PSV             2014        Misc   \n",
       "16439  Samurai Warriors: Sanada Maru      PS3             2016      Action   \n",
       "16440               LMA Manager 2007     X360             2006      Sports   \n",
       "16441        Haitaka no Psychedelica      PSV             2016   Adventure   \n",
       "16443            Winning Post 8 2016      PSV             2016  Simulation   \n",
       "\n",
       "        na_sales   eu_sales  jp_sales  other_sales  critic_score  user_score  \\\n",
       "0      41.360001  28.959999      3.77         8.45          76.0         8.0   \n",
       "2      15.680000  12.760000      3.79         3.29          82.0         8.3   \n",
       "3      15.610000  10.930000      3.28         2.95          80.0         8.0   \n",
       "7      13.960000   9.180000      2.93         2.84          58.0         6.6   \n",
       "8      14.440000   6.940000      4.70         2.24          87.0         8.4   \n",
       "...          ...        ...       ...          ...           ...         ...   \n",
       "16436   0.000000   0.000000      0.01         0.00           NaN         NaN   \n",
       "16439   0.000000   0.000000      0.01         0.00           NaN         NaN   \n",
       "16440   0.000000   0.010000      0.00         0.00           NaN         NaN   \n",
       "16441   0.000000   0.000000      0.01         0.00           NaN         NaN   \n",
       "16443   0.000000   0.000000      0.01         0.00           NaN         NaN   \n",
       "\n",
       "      rating  sales_total  \n",
       "0          E    82.540001  \n",
       "2          E    35.520000  \n",
       "3          E    32.770000  \n",
       "7          E    28.910000  \n",
       "8          E    28.320000  \n",
       "...      ...          ...  \n",
       "16436     RP     0.010000  \n",
       "16439     RP     0.010000  \n",
       "16440     RP     0.010000  \n",
       "16441     RP     0.010000  \n",
       "16443     RP     0.010000  \n",
       "\n",
       "[6508 rows x 12 columns]"
      ]
     },
     "metadata": {},
     "output_type": "display_data"
    }
   ],
   "source": [
    "df_2016 = df.query('platform in @platforms_2016')\n",
    "display(df_2016)"
   ]
  },
  {
   "cell_type": "code",
   "execution_count": 30,
   "id": "1251c65c",
   "metadata": {},
   "outputs": [
    {
     "data": {
      "image/png": "[encoded data removed]",
      "text/plain": [
       "<Figure size 1152x576 with 1 Axes>"
      ]
     },
     "metadata": {
      "needs_background": "light"
     },
     "output_type": "display_data"
    }
   ],
   "source": [
    "# построим график\n",
    "lines_graph(df_2016.query('platform in @platforms_2016'), 2005, \n",
    "            'Распределение продаж игр по годам для платформ, актуальных в 2016 году')"
   ]
  },
  {
   "cell_type": "markdown",
   "id": "d0ffd4fb",
   "metadata": {},
   "source": [
    "По графику видно:\n",
    "* актуальным периодом выделим промежуток между 2013 и 2016 годами, когда популярности Wii, X360 и PS3 идут по нисходящей, а для PS4, XOne, WiiU в данном периоде наблюдался рост, пик и спад популярности.\n",
    "* жизненный цикл платформ сокращается, это хорошо заметно при сравнении поколений Xbox, Playstation и Wii, чем позже старт продаж нового поколения, тем меньше ее жизненный цикл, в сравнении с предыдущим поколением.\n",
    "* Бессмертной остается платформа PC."
   ]
  },
  {
   "cell_type": "markdown",
   "id": "2d60aa27",
   "metadata": {},
   "source": [
    "### Выбор потенциально прибыльных платформ.\n",
    "**Какие платформы лидируют по продажам, растут или падают? Выберите несколько потенциально прибыльных платформ.**"
   ]
  },
  {
   "cell_type": "markdown",
   "id": "720b4244",
   "metadata": {},
   "source": [
    "\n",
    "* PS4 и XOne лидеры продаж в выбранном актуальном периоде с 2013 по 2016 год, которые показывают рост продаж с 2013 по 2015 гг. и спад с 2015 года.\n",
    "* Пик продаж игр для 3DS пришелся на 2013 год релиза платформы, и далее продажи плавно падали до 2016 года.\n",
    "* Игры для PC продаются с 1980-х годов, пик продаж игр для PC пришелся на 2011 год, потом наблюдался равномерный спад до 2013 года, продажи остались на прежнем уровне до 2014 года, далее продолжился равномерный спад до 2016 года.\n",
    "* Продажи игр для WiiU незначительно росли с 2012 до 2013 гг., остались на прежнем уровне до 2014 года, далее наблюдался спад до 2016 года.\n",
    "* По данным видно, что практически все платформы находятся в стадии снижения показателя по продажам.\n",
    "\n",
    "\n",
    "Потенциально прибыльными платформами выбираем PS4, XOne, 3DS, PC, WiiU.\n"
   ]
  },
  {
   "cell_type": "code",
   "execution_count": 31,
   "id": "4b1d1c16",
   "metadata": {},
   "outputs": [],
   "source": [
    "perspective_platforms = ['PS4', '3DS', 'XOne', 'WiiU', 'PC'] # создадим список перспективыных платформ."
   ]
  },
  {
   "cell_type": "code",
   "execution_count": 32,
   "id": "782a8cae",
   "metadata": {},
   "outputs": [],
   "source": [
    "# создадим датасет по срезу перспективных платформ и году релиза\n",
    "df_actual = df_2016.query('platform in @perspective_platforms and year_of_release >= 2013')"
   ]
  },
  {
   "cell_type": "code",
   "execution_count": 33,
   "id": "f76ca0fb",
   "metadata": {
    "scrolled": false
   },
   "outputs": [
    {
     "data": {
      "text/html": [
       "<div>\n",
       "<style scoped>\n",
       "    .dataframe tbody tr th:only-of-type {\n",
       "        vertical-align: middle;\n",
       "    }\n",
       "\n",
       "    .dataframe tbody tr th {\n",
       "        vertical-align: top;\n",
       "    }\n",
       "\n",
       "    .dataframe thead th {\n",
       "        text-align: right;\n",
       "    }\n",
       "</style>\n",
       "<table border=\"1\" class=\"dataframe\">\n",
       "  <thead>\n",
       "    <tr style=\"text-align: right;\">\n",
       "      <th></th>\n",
       "      <th>name</th>\n",
       "      <th>platform</th>\n",
       "      <th>year_of_release</th>\n",
       "      <th>genre</th>\n",
       "      <th>na_sales</th>\n",
       "      <th>eu_sales</th>\n",
       "      <th>jp_sales</th>\n",
       "      <th>other_sales</th>\n",
       "      <th>critic_score</th>\n",
       "      <th>user_score</th>\n",
       "      <th>rating</th>\n",
       "      <th>sales_total</th>\n",
       "    </tr>\n",
       "  </thead>\n",
       "  <tbody>\n",
       "    <tr>\n",
       "      <th>31</th>\n",
       "      <td>Call of Duty: Black Ops 3</td>\n",
       "      <td>PS4</td>\n",
       "      <td>2015</td>\n",
       "      <td>Shooter</td>\n",
       "      <td>6.03</td>\n",
       "      <td>5.86</td>\n",
       "      <td>0.36</td>\n",
       "      <td>2.38</td>\n",
       "      <td>NaN</td>\n",
       "      <td>NaN</td>\n",
       "      <td>RP</td>\n",
       "      <td>14.63</td>\n",
       "    </tr>\n",
       "    <tr>\n",
       "      <th>33</th>\n",
       "      <td>Pokemon X/Pokemon Y</td>\n",
       "      <td>3DS</td>\n",
       "      <td>2013</td>\n",
       "      <td>Role-Playing</td>\n",
       "      <td>5.28</td>\n",
       "      <td>4.19</td>\n",
       "      <td>4.35</td>\n",
       "      <td>0.78</td>\n",
       "      <td>NaN</td>\n",
       "      <td>NaN</td>\n",
       "      <td>RP</td>\n",
       "      <td>14.60</td>\n",
       "    </tr>\n",
       "    <tr>\n",
       "      <th>42</th>\n",
       "      <td>Grand Theft Auto V</td>\n",
       "      <td>PS4</td>\n",
       "      <td>2014</td>\n",
       "      <td>Action</td>\n",
       "      <td>3.96</td>\n",
       "      <td>6.31</td>\n",
       "      <td>0.38</td>\n",
       "      <td>1.97</td>\n",
       "      <td>97.0</td>\n",
       "      <td>8.3</td>\n",
       "      <td>M</td>\n",
       "      <td>12.62</td>\n",
       "    </tr>\n",
       "    <tr>\n",
       "      <th>47</th>\n",
       "      <td>Pokemon Omega Ruby/Pokemon Alpha Sapphire</td>\n",
       "      <td>3DS</td>\n",
       "      <td>2014</td>\n",
       "      <td>Role-Playing</td>\n",
       "      <td>4.35</td>\n",
       "      <td>3.49</td>\n",
       "      <td>3.10</td>\n",
       "      <td>0.74</td>\n",
       "      <td>NaN</td>\n",
       "      <td>NaN</td>\n",
       "      <td>RP</td>\n",
       "      <td>11.68</td>\n",
       "    </tr>\n",
       "    <tr>\n",
       "      <th>77</th>\n",
       "      <td>FIFA 16</td>\n",
       "      <td>PS4</td>\n",
       "      <td>2015</td>\n",
       "      <td>Sports</td>\n",
       "      <td>1.12</td>\n",
       "      <td>6.12</td>\n",
       "      <td>0.06</td>\n",
       "      <td>1.28</td>\n",
       "      <td>82.0</td>\n",
       "      <td>4.3</td>\n",
       "      <td>E</td>\n",
       "      <td>8.58</td>\n",
       "    </tr>\n",
       "    <tr>\n",
       "      <th>...</th>\n",
       "      <td>...</td>\n",
       "      <td>...</td>\n",
       "      <td>...</td>\n",
       "      <td>...</td>\n",
       "      <td>...</td>\n",
       "      <td>...</td>\n",
       "      <td>...</td>\n",
       "      <td>...</td>\n",
       "      <td>...</td>\n",
       "      <td>...</td>\n",
       "      <td>...</td>\n",
       "      <td>...</td>\n",
       "    </tr>\n",
       "    <tr>\n",
       "      <th>16389</th>\n",
       "      <td>Prison Architect</td>\n",
       "      <td>XOne</td>\n",
       "      <td>2016</td>\n",
       "      <td>Action</td>\n",
       "      <td>0.01</td>\n",
       "      <td>0.00</td>\n",
       "      <td>0.00</td>\n",
       "      <td>0.00</td>\n",
       "      <td>74.0</td>\n",
       "      <td>6.7</td>\n",
       "      <td>RP</td>\n",
       "      <td>0.01</td>\n",
       "    </tr>\n",
       "    <tr>\n",
       "      <th>16397</th>\n",
       "      <td>Fujiko F. Fujio Characters: Great Assembly! Sl...</td>\n",
       "      <td>3DS</td>\n",
       "      <td>2014</td>\n",
       "      <td>Action</td>\n",
       "      <td>0.00</td>\n",
       "      <td>0.00</td>\n",
       "      <td>0.01</td>\n",
       "      <td>0.00</td>\n",
       "      <td>NaN</td>\n",
       "      <td>NaN</td>\n",
       "      <td>RP</td>\n",
       "      <td>0.01</td>\n",
       "    </tr>\n",
       "    <tr>\n",
       "      <th>16401</th>\n",
       "      <td>Metal Gear Solid V: The Definitive Experience</td>\n",
       "      <td>XOne</td>\n",
       "      <td>2016</td>\n",
       "      <td>Action</td>\n",
       "      <td>0.01</td>\n",
       "      <td>0.00</td>\n",
       "      <td>0.00</td>\n",
       "      <td>0.00</td>\n",
       "      <td>NaN</td>\n",
       "      <td>NaN</td>\n",
       "      <td>M</td>\n",
       "      <td>0.01</td>\n",
       "    </tr>\n",
       "    <tr>\n",
       "      <th>16406</th>\n",
       "      <td>Aikatsu Stars! My Special Appeal</td>\n",
       "      <td>3DS</td>\n",
       "      <td>2016</td>\n",
       "      <td>Action</td>\n",
       "      <td>0.00</td>\n",
       "      <td>0.00</td>\n",
       "      <td>0.01</td>\n",
       "      <td>0.00</td>\n",
       "      <td>NaN</td>\n",
       "      <td>NaN</td>\n",
       "      <td>RP</td>\n",
       "      <td>0.01</td>\n",
       "    </tr>\n",
       "    <tr>\n",
       "      <th>16421</th>\n",
       "      <td>Metal Gear Solid V: Ground Zeroes</td>\n",
       "      <td>PC</td>\n",
       "      <td>2014</td>\n",
       "      <td>Action</td>\n",
       "      <td>0.00</td>\n",
       "      <td>0.01</td>\n",
       "      <td>0.00</td>\n",
       "      <td>0.00</td>\n",
       "      <td>80.0</td>\n",
       "      <td>7.6</td>\n",
       "      <td>M</td>\n",
       "      <td>0.01</td>\n",
       "    </tr>\n",
       "  </tbody>\n",
       "</table>\n",
       "<p>1246 rows × 12 columns</p>\n",
       "</div>"
      ],
      "text/plain": [
       "                                                    name platform  \\\n",
       "31                             Call of Duty: Black Ops 3      PS4   \n",
       "33                                   Pokemon X/Pokemon Y      3DS   \n",
       "42                                    Grand Theft Auto V      PS4   \n",
       "47             Pokemon Omega Ruby/Pokemon Alpha Sapphire      3DS   \n",
       "77                                               FIFA 16      PS4   \n",
       "...                                                  ...      ...   \n",
       "16389                                   Prison Architect     XOne   \n",
       "16397  Fujiko F. Fujio Characters: Great Assembly! Sl...      3DS   \n",
       "16401      Metal Gear Solid V: The Definitive Experience     XOne   \n",
       "16406                   Aikatsu Stars! My Special Appeal      3DS   \n",
       "16421                  Metal Gear Solid V: Ground Zeroes       PC   \n",
       "\n",
       "       year_of_release         genre  na_sales  eu_sales  jp_sales  \\\n",
       "31                2015       Shooter      6.03      5.86      0.36   \n",
       "33                2013  Role-Playing      5.28      4.19      4.35   \n",
       "42                2014        Action      3.96      6.31      0.38   \n",
       "47                2014  Role-Playing      4.35      3.49      3.10   \n",
       "77                2015        Sports      1.12      6.12      0.06   \n",
       "...                ...           ...       ...       ...       ...   \n",
       "16389             2016        Action      0.01      0.00      0.00   \n",
       "16397             2014        Action      0.00      0.00      0.01   \n",
       "16401             2016        Action      0.01      0.00      0.00   \n",
       "16406             2016        Action      0.00      0.00      0.01   \n",
       "16421             2014        Action      0.00      0.01      0.00   \n",
       "\n",
       "       other_sales  critic_score  user_score rating  sales_total  \n",
       "31            2.38           NaN         NaN     RP        14.63  \n",
       "33            0.78           NaN         NaN     RP        14.60  \n",
       "42            1.97          97.0         8.3      M        12.62  \n",
       "47            0.74           NaN         NaN     RP        11.68  \n",
       "77            1.28          82.0         4.3      E         8.58  \n",
       "...            ...           ...         ...    ...          ...  \n",
       "16389         0.00          74.0         6.7     RP         0.01  \n",
       "16397         0.00           NaN         NaN     RP         0.01  \n",
       "16401         0.00           NaN         NaN      M         0.01  \n",
       "16406         0.00           NaN         NaN     RP         0.01  \n",
       "16421         0.00          80.0         7.6      M         0.01  \n",
       "\n",
       "[1246 rows x 12 columns]"
      ]
     },
     "execution_count": 33,
     "metadata": {},
     "output_type": "execute_result"
    }
   ],
   "source": [
    "df_actual"
   ]
  },
  {
   "cell_type": "markdown",
   "id": "6d40314a",
   "metadata": {},
   "source": [
    "### \"Ящик с усами\" по глобальным продажам игр в разбивке по платформам.\n",
    "\n",
    "Построим диаграммы размаха глобальных продаж игр за период 2013-2016 гг. для актуальных в 2016 году платформ."
   ]
  },
  {
   "cell_type": "code",
   "execution_count": 34,
   "id": "e837bcd5",
   "metadata": {},
   "outputs": [],
   "source": [
    "# создадим датасет со срезом с 2013 года для платформ, актуальных в 2016 году.\n",
    "df_2013_2016 = df_2016.query('year_of_release >= 2013')"
   ]
  },
  {
   "cell_type": "code",
   "execution_count": 35,
   "id": "afc2b98a",
   "metadata": {},
   "outputs": [
    {
     "data": {
      "text/html": [
       "<div>\n",
       "<style scoped>\n",
       "    .dataframe tbody tr th:only-of-type {\n",
       "        vertical-align: middle;\n",
       "    }\n",
       "\n",
       "    .dataframe tbody tr th {\n",
       "        vertical-align: top;\n",
       "    }\n",
       "\n",
       "    .dataframe thead th {\n",
       "        text-align: right;\n",
       "    }\n",
       "</style>\n",
       "<table border=\"1\" class=\"dataframe\">\n",
       "  <thead>\n",
       "    <tr style=\"text-align: right;\">\n",
       "      <th></th>\n",
       "      <th>name</th>\n",
       "      <th>platform</th>\n",
       "      <th>year_of_release</th>\n",
       "      <th>genre</th>\n",
       "      <th>na_sales</th>\n",
       "      <th>eu_sales</th>\n",
       "      <th>jp_sales</th>\n",
       "      <th>other_sales</th>\n",
       "      <th>critic_score</th>\n",
       "      <th>user_score</th>\n",
       "      <th>rating</th>\n",
       "      <th>sales_total</th>\n",
       "    </tr>\n",
       "  </thead>\n",
       "  <tbody>\n",
       "    <tr>\n",
       "      <th>16</th>\n",
       "      <td>Grand Theft Auto V</td>\n",
       "      <td>PS3</td>\n",
       "      <td>2013</td>\n",
       "      <td>Action</td>\n",
       "      <td>7.02</td>\n",
       "      <td>9.09</td>\n",
       "      <td>0.98</td>\n",
       "      <td>3.96</td>\n",
       "      <td>97.0</td>\n",
       "      <td>8.2</td>\n",
       "      <td>M</td>\n",
       "      <td>21.049999</td>\n",
       "    </tr>\n",
       "    <tr>\n",
       "      <th>23</th>\n",
       "      <td>Grand Theft Auto V</td>\n",
       "      <td>X360</td>\n",
       "      <td>2013</td>\n",
       "      <td>Action</td>\n",
       "      <td>9.66</td>\n",
       "      <td>5.14</td>\n",
       "      <td>0.06</td>\n",
       "      <td>1.41</td>\n",
       "      <td>97.0</td>\n",
       "      <td>8.1</td>\n",
       "      <td>M</td>\n",
       "      <td>16.270000</td>\n",
       "    </tr>\n",
       "    <tr>\n",
       "      <th>31</th>\n",
       "      <td>Call of Duty: Black Ops 3</td>\n",
       "      <td>PS4</td>\n",
       "      <td>2015</td>\n",
       "      <td>Shooter</td>\n",
       "      <td>6.03</td>\n",
       "      <td>5.86</td>\n",
       "      <td>0.36</td>\n",
       "      <td>2.38</td>\n",
       "      <td>NaN</td>\n",
       "      <td>NaN</td>\n",
       "      <td>RP</td>\n",
       "      <td>14.630000</td>\n",
       "    </tr>\n",
       "    <tr>\n",
       "      <th>33</th>\n",
       "      <td>Pokemon X/Pokemon Y</td>\n",
       "      <td>3DS</td>\n",
       "      <td>2013</td>\n",
       "      <td>Role-Playing</td>\n",
       "      <td>5.28</td>\n",
       "      <td>4.19</td>\n",
       "      <td>4.35</td>\n",
       "      <td>0.78</td>\n",
       "      <td>NaN</td>\n",
       "      <td>NaN</td>\n",
       "      <td>RP</td>\n",
       "      <td>14.600000</td>\n",
       "    </tr>\n",
       "    <tr>\n",
       "      <th>42</th>\n",
       "      <td>Grand Theft Auto V</td>\n",
       "      <td>PS4</td>\n",
       "      <td>2014</td>\n",
       "      <td>Action</td>\n",
       "      <td>3.96</td>\n",
       "      <td>6.31</td>\n",
       "      <td>0.38</td>\n",
       "      <td>1.97</td>\n",
       "      <td>97.0</td>\n",
       "      <td>8.3</td>\n",
       "      <td>M</td>\n",
       "      <td>12.620000</td>\n",
       "    </tr>\n",
       "    <tr>\n",
       "      <th>...</th>\n",
       "      <td>...</td>\n",
       "      <td>...</td>\n",
       "      <td>...</td>\n",
       "      <td>...</td>\n",
       "      <td>...</td>\n",
       "      <td>...</td>\n",
       "      <td>...</td>\n",
       "      <td>...</td>\n",
       "      <td>...</td>\n",
       "      <td>...</td>\n",
       "      <td>...</td>\n",
       "      <td>...</td>\n",
       "    </tr>\n",
       "    <tr>\n",
       "      <th>16432</th>\n",
       "      <td>Strawberry Nauts</td>\n",
       "      <td>PSV</td>\n",
       "      <td>2016</td>\n",
       "      <td>Adventure</td>\n",
       "      <td>0.00</td>\n",
       "      <td>0.00</td>\n",
       "      <td>0.01</td>\n",
       "      <td>0.00</td>\n",
       "      <td>NaN</td>\n",
       "      <td>NaN</td>\n",
       "      <td>RP</td>\n",
       "      <td>0.010000</td>\n",
       "    </tr>\n",
       "    <tr>\n",
       "      <th>16436</th>\n",
       "      <td>Aiyoku no Eustia</td>\n",
       "      <td>PSV</td>\n",
       "      <td>2014</td>\n",
       "      <td>Misc</td>\n",
       "      <td>0.00</td>\n",
       "      <td>0.00</td>\n",
       "      <td>0.01</td>\n",
       "      <td>0.00</td>\n",
       "      <td>NaN</td>\n",
       "      <td>NaN</td>\n",
       "      <td>RP</td>\n",
       "      <td>0.010000</td>\n",
       "    </tr>\n",
       "    <tr>\n",
       "      <th>16439</th>\n",
       "      <td>Samurai Warriors: Sanada Maru</td>\n",
       "      <td>PS3</td>\n",
       "      <td>2016</td>\n",
       "      <td>Action</td>\n",
       "      <td>0.00</td>\n",
       "      <td>0.00</td>\n",
       "      <td>0.01</td>\n",
       "      <td>0.00</td>\n",
       "      <td>NaN</td>\n",
       "      <td>NaN</td>\n",
       "      <td>RP</td>\n",
       "      <td>0.010000</td>\n",
       "    </tr>\n",
       "    <tr>\n",
       "      <th>16441</th>\n",
       "      <td>Haitaka no Psychedelica</td>\n",
       "      <td>PSV</td>\n",
       "      <td>2016</td>\n",
       "      <td>Adventure</td>\n",
       "      <td>0.00</td>\n",
       "      <td>0.00</td>\n",
       "      <td>0.01</td>\n",
       "      <td>0.00</td>\n",
       "      <td>NaN</td>\n",
       "      <td>NaN</td>\n",
       "      <td>RP</td>\n",
       "      <td>0.010000</td>\n",
       "    </tr>\n",
       "    <tr>\n",
       "      <th>16443</th>\n",
       "      <td>Winning Post 8 2016</td>\n",
       "      <td>PSV</td>\n",
       "      <td>2016</td>\n",
       "      <td>Simulation</td>\n",
       "      <td>0.00</td>\n",
       "      <td>0.00</td>\n",
       "      <td>0.01</td>\n",
       "      <td>0.00</td>\n",
       "      <td>NaN</td>\n",
       "      <td>NaN</td>\n",
       "      <td>RP</td>\n",
       "      <td>0.010000</td>\n",
       "    </tr>\n",
       "  </tbody>\n",
       "</table>\n",
       "<p>2158 rows × 12 columns</p>\n",
       "</div>"
      ],
      "text/plain": [
       "                                name platform  year_of_release         genre  \\\n",
       "16                Grand Theft Auto V      PS3             2013        Action   \n",
       "23                Grand Theft Auto V     X360             2013        Action   \n",
       "31         Call of Duty: Black Ops 3      PS4             2015       Shooter   \n",
       "33               Pokemon X/Pokemon Y      3DS             2013  Role-Playing   \n",
       "42                Grand Theft Auto V      PS4             2014        Action   \n",
       "...                              ...      ...              ...           ...   \n",
       "16432               Strawberry Nauts      PSV             2016     Adventure   \n",
       "16436               Aiyoku no Eustia      PSV             2014          Misc   \n",
       "16439  Samurai Warriors: Sanada Maru      PS3             2016        Action   \n",
       "16441        Haitaka no Psychedelica      PSV             2016     Adventure   \n",
       "16443            Winning Post 8 2016      PSV             2016    Simulation   \n",
       "\n",
       "       na_sales  eu_sales  jp_sales  other_sales  critic_score  user_score  \\\n",
       "16         7.02      9.09      0.98         3.96          97.0         8.2   \n",
       "23         9.66      5.14      0.06         1.41          97.0         8.1   \n",
       "31         6.03      5.86      0.36         2.38           NaN         NaN   \n",
       "33         5.28      4.19      4.35         0.78           NaN         NaN   \n",
       "42         3.96      6.31      0.38         1.97          97.0         8.3   \n",
       "...         ...       ...       ...          ...           ...         ...   \n",
       "16432      0.00      0.00      0.01         0.00           NaN         NaN   \n",
       "16436      0.00      0.00      0.01         0.00           NaN         NaN   \n",
       "16439      0.00      0.00      0.01         0.00           NaN         NaN   \n",
       "16441      0.00      0.00      0.01         0.00           NaN         NaN   \n",
       "16443      0.00      0.00      0.01         0.00           NaN         NaN   \n",
       "\n",
       "      rating  sales_total  \n",
       "16         M    21.049999  \n",
       "23         M    16.270000  \n",
       "31        RP    14.630000  \n",
       "33        RP    14.600000  \n",
       "42         M    12.620000  \n",
       "...      ...          ...  \n",
       "16432     RP     0.010000  \n",
       "16436     RP     0.010000  \n",
       "16439     RP     0.010000  \n",
       "16441     RP     0.010000  \n",
       "16443     RP     0.010000  \n",
       "\n",
       "[2158 rows x 12 columns]"
      ]
     },
     "execution_count": 35,
     "metadata": {},
     "output_type": "execute_result"
    }
   ],
   "source": [
    "df_2013_2016"
   ]
  },
  {
   "cell_type": "code",
   "execution_count": 36,
   "id": "d82dbf44",
   "metadata": {
    "scrolled": false
   },
   "outputs": [
    {
     "data": {
      "text/plain": [
       "[None]"
      ]
     },
     "execution_count": 36,
     "metadata": {},
     "output_type": "execute_result"
    },
    {
     "data": {
      "image/png": "[encoded data removed]",
      "text/plain": [
       "<Figure size 1152x576 with 1 Axes>"
      ]
     },
     "metadata": {
      "needs_background": "light"
     },
     "output_type": "display_data"
    }
   ],
   "source": [
    "fig, ax = plt.subplots(figsize =(16,8))\n",
    "sns.boxplot(x = 'platform', y = 'sales_total', data = df_2013_2016, ax=ax)\n",
    "plt.title('Распределение глобальных продаж по платформам', fontsize=20)\n",
    "plt.xlabel('Платформа')\n",
    "plt.ylabel('Глобальные продажи (млн.)')\n",
    "ax.set(yscale=\"log\")"
   ]
  },
  {
   "cell_type": "code",
   "execution_count": 37,
   "id": "c0722882",
   "metadata": {
    "scrolled": false
   },
   "outputs": [
    {
     "data": {
      "text/html": [
       "<div>\n",
       "<style scoped>\n",
       "    .dataframe tbody tr th:only-of-type {\n",
       "        vertical-align: middle;\n",
       "    }\n",
       "\n",
       "    .dataframe tbody tr th {\n",
       "        vertical-align: top;\n",
       "    }\n",
       "\n",
       "    .dataframe thead th {\n",
       "        text-align: right;\n",
       "    }\n",
       "</style>\n",
       "<table border=\"1\" class=\"dataframe\">\n",
       "  <thead>\n",
       "    <tr style=\"text-align: right;\">\n",
       "      <th>platform</th>\n",
       "      <th>3DS</th>\n",
       "      <th>PC</th>\n",
       "      <th>PS3</th>\n",
       "      <th>PS4</th>\n",
       "      <th>PSV</th>\n",
       "      <th>Wii</th>\n",
       "      <th>WiiU</th>\n",
       "      <th>X360</th>\n",
       "      <th>XOne</th>\n",
       "    </tr>\n",
       "  </thead>\n",
       "  <tbody>\n",
       "    <tr>\n",
       "      <th>count</th>\n",
       "      <td>303.000000</td>\n",
       "      <td>189.000000</td>\n",
       "      <td>345.000000</td>\n",
       "      <td>392.000000</td>\n",
       "      <td>358.000000</td>\n",
       "      <td>23.000000</td>\n",
       "      <td>115.000000</td>\n",
       "      <td>186.000000</td>\n",
       "      <td>247.000000</td>\n",
       "    </tr>\n",
       "    <tr>\n",
       "      <th>mean</th>\n",
       "      <td>0.472772</td>\n",
       "      <td>0.208624</td>\n",
       "      <td>0.525884</td>\n",
       "      <td>0.801377</td>\n",
       "      <td>0.092151</td>\n",
       "      <td>0.593913</td>\n",
       "      <td>0.562000</td>\n",
       "      <td>0.735484</td>\n",
       "      <td>0.645020</td>\n",
       "    </tr>\n",
       "    <tr>\n",
       "      <th>std</th>\n",
       "      <td>1.381347</td>\n",
       "      <td>0.352304</td>\n",
       "      <td>1.451939</td>\n",
       "      <td>1.609457</td>\n",
       "      <td>0.153816</td>\n",
       "      <td>0.915432</td>\n",
       "      <td>1.038778</td>\n",
       "      <td>1.663275</td>\n",
       "      <td>1.036139</td>\n",
       "    </tr>\n",
       "    <tr>\n",
       "      <th>min</th>\n",
       "      <td>0.010000</td>\n",
       "      <td>0.010000</td>\n",
       "      <td>0.010000</td>\n",
       "      <td>0.010000</td>\n",
       "      <td>0.010000</td>\n",
       "      <td>0.010000</td>\n",
       "      <td>0.010000</td>\n",
       "      <td>0.010000</td>\n",
       "      <td>0.010000</td>\n",
       "    </tr>\n",
       "    <tr>\n",
       "      <th>25%</th>\n",
       "      <td>0.040000</td>\n",
       "      <td>0.030000</td>\n",
       "      <td>0.040000</td>\n",
       "      <td>0.060000</td>\n",
       "      <td>0.020000</td>\n",
       "      <td>0.045000</td>\n",
       "      <td>0.060000</td>\n",
       "      <td>0.080000</td>\n",
       "      <td>0.060000</td>\n",
       "    </tr>\n",
       "    <tr>\n",
       "      <th>50%</th>\n",
       "      <td>0.090000</td>\n",
       "      <td>0.080000</td>\n",
       "      <td>0.150000</td>\n",
       "      <td>0.200000</td>\n",
       "      <td>0.040000</td>\n",
       "      <td>0.180000</td>\n",
       "      <td>0.200000</td>\n",
       "      <td>0.265000</td>\n",
       "      <td>0.220000</td>\n",
       "    </tr>\n",
       "    <tr>\n",
       "      <th>75%</th>\n",
       "      <td>0.280000</td>\n",
       "      <td>0.230000</td>\n",
       "      <td>0.510000</td>\n",
       "      <td>0.730000</td>\n",
       "      <td>0.110000</td>\n",
       "      <td>0.755000</td>\n",
       "      <td>0.595000</td>\n",
       "      <td>0.795000</td>\n",
       "      <td>0.685000</td>\n",
       "    </tr>\n",
       "    <tr>\n",
       "      <th>max</th>\n",
       "      <td>14.600000</td>\n",
       "      <td>3.050000</td>\n",
       "      <td>21.049999</td>\n",
       "      <td>14.630000</td>\n",
       "      <td>1.960000</td>\n",
       "      <td>3.580000</td>\n",
       "      <td>7.090000</td>\n",
       "      <td>16.270000</td>\n",
       "      <td>7.390000</td>\n",
       "    </tr>\n",
       "  </tbody>\n",
       "</table>\n",
       "</div>"
      ],
      "text/plain": [
       "platform         3DS          PC         PS3         PS4         PSV  \\\n",
       "count     303.000000  189.000000  345.000000  392.000000  358.000000   \n",
       "mean        0.472772    0.208624    0.525884    0.801377    0.092151   \n",
       "std         1.381347    0.352304    1.451939    1.609457    0.153816   \n",
       "min         0.010000    0.010000    0.010000    0.010000    0.010000   \n",
       "25%         0.040000    0.030000    0.040000    0.060000    0.020000   \n",
       "50%         0.090000    0.080000    0.150000    0.200000    0.040000   \n",
       "75%         0.280000    0.230000    0.510000    0.730000    0.110000   \n",
       "max        14.600000    3.050000   21.049999   14.630000    1.960000   \n",
       "\n",
       "platform        Wii        WiiU        X360        XOne  \n",
       "count     23.000000  115.000000  186.000000  247.000000  \n",
       "mean       0.593913    0.562000    0.735484    0.645020  \n",
       "std        0.915432    1.038778    1.663275    1.036139  \n",
       "min        0.010000    0.010000    0.010000    0.010000  \n",
       "25%        0.045000    0.060000    0.080000    0.060000  \n",
       "50%        0.180000    0.200000    0.265000    0.220000  \n",
       "75%        0.755000    0.595000    0.795000    0.685000  \n",
       "max        3.580000    7.090000   16.270000    7.390000  "
      ]
     },
     "execution_count": 37,
     "metadata": {},
     "output_type": "execute_result"
    }
   ],
   "source": [
    "df_2013_2016.pivot_table(values='sales_total', index=['name'],columns='platform').describe()"
   ]
  },
  {
   "cell_type": "markdown",
   "id": "b1271ac7",
   "metadata": {},
   "source": [
    "В диаграммах и сводной таблице данные за период 2013-2016 гг. для актуальных в 2016 году платформ:\n",
    "* Присутствует значительная доля выбросов, но они не являются ошибками, это бестселлеры и просто удачные релизы игр, например игра Grand Theft Auto V успешна на всех платформах PS3 21.05 млн. копий, X360 16.27 млн. копий, PS4 12.62 млн. копий.\n",
    "* По количеству выпущенных игр лидирует семейство Plastation платформы PS4 392 игры, PSV 358 игр, PS3 345 игр, далее 3DS с 303 играми, XOne 247 игр, PS 189 игр, X360 186 игр, WiiU 115 игр, Wii 23 игры.\n",
    "* По всем платформа распределения глобальных продаж скошены вправо.\n",
    "* На удивление по медианным значениям лидирует семейство Xbox X360 0.265 млн. копий и XOne 0.22 млн. копий, за ними PS4 и WiiU  с 0.20 млн. копий, за ними Wii 0,18 млн., PS3 0.15, 3DS 0,09 млн., и PC 0.08 млн., PSV 0.04."
   ]
  },
  {
   "cell_type": "code",
   "execution_count": 38,
   "id": "5d8b804d",
   "metadata": {
    "scrolled": false
   },
   "outputs": [
    {
     "data": {
      "text/html": [
       "<div>\n",
       "<style scoped>\n",
       "    .dataframe tbody tr th:only-of-type {\n",
       "        vertical-align: middle;\n",
       "    }\n",
       "\n",
       "    .dataframe tbody tr th {\n",
       "        vertical-align: top;\n",
       "    }\n",
       "\n",
       "    .dataframe thead th {\n",
       "        text-align: right;\n",
       "    }\n",
       "</style>\n",
       "<table border=\"1\" class=\"dataframe\">\n",
       "  <thead>\n",
       "    <tr style=\"text-align: right;\">\n",
       "      <th></th>\n",
       "      <th>name</th>\n",
       "      <th>platform</th>\n",
       "      <th>year_of_release</th>\n",
       "      <th>genre</th>\n",
       "      <th>na_sales</th>\n",
       "      <th>eu_sales</th>\n",
       "      <th>jp_sales</th>\n",
       "      <th>other_sales</th>\n",
       "      <th>critic_score</th>\n",
       "      <th>user_score</th>\n",
       "      <th>rating</th>\n",
       "      <th>sales_total</th>\n",
       "    </tr>\n",
       "  </thead>\n",
       "  <tbody>\n",
       "    <tr>\n",
       "      <th>16</th>\n",
       "      <td>Grand Theft Auto V</td>\n",
       "      <td>PS3</td>\n",
       "      <td>2013</td>\n",
       "      <td>Action</td>\n",
       "      <td>7.02</td>\n",
       "      <td>9.09</td>\n",
       "      <td>0.98</td>\n",
       "      <td>3.96</td>\n",
       "      <td>97.0</td>\n",
       "      <td>8.2</td>\n",
       "      <td>M</td>\n",
       "      <td>21.049999</td>\n",
       "    </tr>\n",
       "    <tr>\n",
       "      <th>23</th>\n",
       "      <td>Grand Theft Auto V</td>\n",
       "      <td>X360</td>\n",
       "      <td>2013</td>\n",
       "      <td>Action</td>\n",
       "      <td>9.66</td>\n",
       "      <td>5.14</td>\n",
       "      <td>0.06</td>\n",
       "      <td>1.41</td>\n",
       "      <td>97.0</td>\n",
       "      <td>8.1</td>\n",
       "      <td>M</td>\n",
       "      <td>16.270000</td>\n",
       "    </tr>\n",
       "    <tr>\n",
       "      <th>31</th>\n",
       "      <td>Call of Duty: Black Ops 3</td>\n",
       "      <td>PS4</td>\n",
       "      <td>2015</td>\n",
       "      <td>Shooter</td>\n",
       "      <td>6.03</td>\n",
       "      <td>5.86</td>\n",
       "      <td>0.36</td>\n",
       "      <td>2.38</td>\n",
       "      <td>NaN</td>\n",
       "      <td>NaN</td>\n",
       "      <td>RP</td>\n",
       "      <td>14.630000</td>\n",
       "    </tr>\n",
       "    <tr>\n",
       "      <th>33</th>\n",
       "      <td>Pokemon X/Pokemon Y</td>\n",
       "      <td>3DS</td>\n",
       "      <td>2013</td>\n",
       "      <td>Role-Playing</td>\n",
       "      <td>5.28</td>\n",
       "      <td>4.19</td>\n",
       "      <td>4.35</td>\n",
       "      <td>0.78</td>\n",
       "      <td>NaN</td>\n",
       "      <td>NaN</td>\n",
       "      <td>RP</td>\n",
       "      <td>14.600000</td>\n",
       "    </tr>\n",
       "    <tr>\n",
       "      <th>42</th>\n",
       "      <td>Grand Theft Auto V</td>\n",
       "      <td>PS4</td>\n",
       "      <td>2014</td>\n",
       "      <td>Action</td>\n",
       "      <td>3.96</td>\n",
       "      <td>6.31</td>\n",
       "      <td>0.38</td>\n",
       "      <td>1.97</td>\n",
       "      <td>97.0</td>\n",
       "      <td>8.3</td>\n",
       "      <td>M</td>\n",
       "      <td>12.620000</td>\n",
       "    </tr>\n",
       "    <tr>\n",
       "      <th>47</th>\n",
       "      <td>Pokemon Omega Ruby/Pokemon Alpha Sapphire</td>\n",
       "      <td>3DS</td>\n",
       "      <td>2014</td>\n",
       "      <td>Role-Playing</td>\n",
       "      <td>4.35</td>\n",
       "      <td>3.49</td>\n",
       "      <td>3.10</td>\n",
       "      <td>0.74</td>\n",
       "      <td>NaN</td>\n",
       "      <td>NaN</td>\n",
       "      <td>RP</td>\n",
       "      <td>11.680000</td>\n",
       "    </tr>\n",
       "    <tr>\n",
       "      <th>60</th>\n",
       "      <td>Call of Duty: Ghosts</td>\n",
       "      <td>X360</td>\n",
       "      <td>2013</td>\n",
       "      <td>Shooter</td>\n",
       "      <td>6.73</td>\n",
       "      <td>2.56</td>\n",
       "      <td>0.04</td>\n",
       "      <td>0.91</td>\n",
       "      <td>73.0</td>\n",
       "      <td>2.6</td>\n",
       "      <td>M</td>\n",
       "      <td>10.240000</td>\n",
       "    </tr>\n",
       "  </tbody>\n",
       "</table>\n",
       "</div>"
      ],
      "text/plain": [
       "                                         name platform  year_of_release  \\\n",
       "16                         Grand Theft Auto V      PS3             2013   \n",
       "23                         Grand Theft Auto V     X360             2013   \n",
       "31                  Call of Duty: Black Ops 3      PS4             2015   \n",
       "33                        Pokemon X/Pokemon Y      3DS             2013   \n",
       "42                         Grand Theft Auto V      PS4             2014   \n",
       "47  Pokemon Omega Ruby/Pokemon Alpha Sapphire      3DS             2014   \n",
       "60                       Call of Duty: Ghosts     X360             2013   \n",
       "\n",
       "           genre  na_sales  eu_sales  jp_sales  other_sales  critic_score  \\\n",
       "16        Action      7.02      9.09      0.98         3.96          97.0   \n",
       "23        Action      9.66      5.14      0.06         1.41          97.0   \n",
       "31       Shooter      6.03      5.86      0.36         2.38           NaN   \n",
       "33  Role-Playing      5.28      4.19      4.35         0.78           NaN   \n",
       "42        Action      3.96      6.31      0.38         1.97          97.0   \n",
       "47  Role-Playing      4.35      3.49      3.10         0.74           NaN   \n",
       "60       Shooter      6.73      2.56      0.04         0.91          73.0   \n",
       "\n",
       "    user_score rating  sales_total  \n",
       "16         8.2      M    21.049999  \n",
       "23         8.1      M    16.270000  \n",
       "31         NaN     RP    14.630000  \n",
       "33         NaN     RP    14.600000  \n",
       "42         8.3      M    12.620000  \n",
       "47         NaN     RP    11.680000  \n",
       "60         2.6      M    10.240000  "
      ]
     },
     "execution_count": 38,
     "metadata": {},
     "output_type": "execute_result"
    }
   ],
   "source": [
    "df_2013_2016[df_2013_2016['sales_total'] > 10] # Примеры бестселлеров"
   ]
  },
  {
   "cell_type": "markdown",
   "id": "a19da741",
   "metadata": {},
   "source": [
    "### Влияние отзывов пользователей и критиков на продажи по платформе PS4\n",
    "\n",
    "**Посмотрите, как влияют на продажи внутри одной популярной платформы отзывы пользователей и критиков. Постройте диаграмму рассеяния и посчитайте корреляцию между отзывами и продажами. Сформулируйте выводы.**"
   ]
  },
  {
   "cell_type": "code",
   "execution_count": 39,
   "id": "7a6a88a8",
   "metadata": {
    "scrolled": false
   },
   "outputs": [
    {
     "data": {
      "text/html": [
       "<div>\n",
       "<style scoped>\n",
       "    .dataframe tbody tr th:only-of-type {\n",
       "        vertical-align: middle;\n",
       "    }\n",
       "\n",
       "    .dataframe tbody tr th {\n",
       "        vertical-align: top;\n",
       "    }\n",
       "\n",
       "    .dataframe thead th {\n",
       "        text-align: right;\n",
       "    }\n",
       "</style>\n",
       "<table border=\"1\" class=\"dataframe\">\n",
       "  <thead>\n",
       "    <tr style=\"text-align: right;\">\n",
       "      <th></th>\n",
       "      <th>platform</th>\n",
       "      <th>critic_score</th>\n",
       "      <th>user_score</th>\n",
       "      <th>sales_total</th>\n",
       "    </tr>\n",
       "  </thead>\n",
       "  <tbody>\n",
       "    <tr>\n",
       "      <th>31</th>\n",
       "      <td>PS4</td>\n",
       "      <td>NaN</td>\n",
       "      <td>NaN</td>\n",
       "      <td>14.63</td>\n",
       "    </tr>\n",
       "    <tr>\n",
       "      <th>42</th>\n",
       "      <td>PS4</td>\n",
       "      <td>97.0</td>\n",
       "      <td>8.3</td>\n",
       "      <td>12.62</td>\n",
       "    </tr>\n",
       "    <tr>\n",
       "      <th>77</th>\n",
       "      <td>PS4</td>\n",
       "      <td>82.0</td>\n",
       "      <td>4.3</td>\n",
       "      <td>8.58</td>\n",
       "    </tr>\n",
       "    <tr>\n",
       "      <th>87</th>\n",
       "      <td>PS4</td>\n",
       "      <td>NaN</td>\n",
       "      <td>NaN</td>\n",
       "      <td>7.98</td>\n",
       "    </tr>\n",
       "    <tr>\n",
       "      <th>92</th>\n",
       "      <td>PS4</td>\n",
       "      <td>83.0</td>\n",
       "      <td>5.7</td>\n",
       "      <td>7.66</td>\n",
       "    </tr>\n",
       "    <tr>\n",
       "      <th>...</th>\n",
       "      <td>...</td>\n",
       "      <td>...</td>\n",
       "      <td>...</td>\n",
       "      <td>...</td>\n",
       "    </tr>\n",
       "    <tr>\n",
       "      <th>16230</th>\n",
       "      <td>PS4</td>\n",
       "      <td>69.0</td>\n",
       "      <td>7.5</td>\n",
       "      <td>0.01</td>\n",
       "    </tr>\n",
       "    <tr>\n",
       "      <th>16233</th>\n",
       "      <td>PS4</td>\n",
       "      <td>NaN</td>\n",
       "      <td>NaN</td>\n",
       "      <td>0.01</td>\n",
       "    </tr>\n",
       "    <tr>\n",
       "      <th>16255</th>\n",
       "      <td>PS4</td>\n",
       "      <td>61.0</td>\n",
       "      <td>7.9</td>\n",
       "      <td>0.01</td>\n",
       "    </tr>\n",
       "    <tr>\n",
       "      <th>16259</th>\n",
       "      <td>PS4</td>\n",
       "      <td>51.0</td>\n",
       "      <td>5.5</td>\n",
       "      <td>0.01</td>\n",
       "    </tr>\n",
       "    <tr>\n",
       "      <th>16314</th>\n",
       "      <td>PS4</td>\n",
       "      <td>NaN</td>\n",
       "      <td>NaN</td>\n",
       "      <td>0.01</td>\n",
       "    </tr>\n",
       "  </tbody>\n",
       "</table>\n",
       "<p>392 rows × 4 columns</p>\n",
       "</div>"
      ],
      "text/plain": [
       "      platform  critic_score  user_score  sales_total\n",
       "31         PS4           NaN         NaN        14.63\n",
       "42         PS4          97.0         8.3        12.62\n",
       "77         PS4          82.0         4.3         8.58\n",
       "87         PS4           NaN         NaN         7.98\n",
       "92         PS4          83.0         5.7         7.66\n",
       "...        ...           ...         ...          ...\n",
       "16230      PS4          69.0         7.5         0.01\n",
       "16233      PS4           NaN         NaN         0.01\n",
       "16255      PS4          61.0         7.9         0.01\n",
       "16259      PS4          51.0         5.5         0.01\n",
       "16314      PS4           NaN         NaN         0.01\n",
       "\n",
       "[392 rows x 4 columns]"
      ]
     },
     "execution_count": 39,
     "metadata": {},
     "output_type": "execute_result"
    }
   ],
   "source": [
    "score_ps4 = df_actual.query('platform == \"PS4\"')                                 # выделим датасет с играми для PS4\n",
    "score_ps4 = score_ps4[['platform', 'critic_score', 'user_score', 'sales_total']] # оставим только интересующие нас столбцы\n",
    "score_ps4"
   ]
  },
  {
   "cell_type": "markdown",
   "id": "d177cf99",
   "metadata": {},
   "source": [
    "Построим диаграммы рассеяния."
   ]
  },
  {
   "cell_type": "code",
   "execution_count": 40,
   "id": "adaff62b",
   "metadata": {
    "scrolled": false
   },
   "outputs": [
    {
     "data": {
      "text/plain": [
       "<matplotlib.collections.PathCollection at 0x24e7cf06c10>"
      ]
     },
     "execution_count": 40,
     "metadata": {},
     "output_type": "execute_result"
    },
    {
     "data": {
      "image/png": "[encoded data removed]",
      "text/plain": [
       "<Figure size 1152x576 with 2 Axes>"
      ]
     },
     "metadata": {
      "needs_background": "light"
     },
     "output_type": "display_data"
    }
   ],
   "source": [
    "fig_scatter, (scatter_ax,scatter_ax2) = plt.subplots(2,1, figsize = (16,8))\n",
    "scatter_ax.scatter(y= 'sales_total', x = 'critic_score',data = score_ps4) # зависимость продаж от оценок критиков\n",
    "scatter_ax2.scatter(y= 'sales_total', x = 'user_score',data =score_ps4)   # зависимость продаж от оценок пользователей"
   ]
  },
  {
   "cell_type": "markdown",
   "id": "39f41e9f",
   "metadata": {},
   "source": [
    "Построим таблицу корреляция по столбцам суммарных продаж, оценок критиков и оценок пользователей."
   ]
  },
  {
   "cell_type": "code",
   "execution_count": 41,
   "id": "f2b09d09",
   "metadata": {},
   "outputs": [
    {
     "data": {
      "text/plain": [
       "Text(0.5, 1.0, 'Влияние отзывов пользователей и критиков на продажи')"
      ]
     },
     "execution_count": 41,
     "metadata": {},
     "output_type": "execute_result"
    },
    {
     "data": {
      "image/png": "[encoded data removed]",
      "text/plain": [
       "<Figure size 432x288 with 2 Axes>"
      ]
     },
     "metadata": {
      "needs_background": "light"
     },
     "output_type": "display_data"
    }
   ],
   "source": [
    "sns.heatmap(score_ps4[['sales_total', 'critic_score', 'user_score',]].corr(), annot=True)\n",
    "plt.title('Влияние отзывов пользователей и критиков на продажи')"
   ]
  },
  {
   "cell_type": "markdown",
   "id": "31aa81b4",
   "metadata": {},
   "source": [
    "**Вывод** \n",
    "\n",
    "* по диаграмме рассеяния продаж от оценок критиков можно заметить, что пока рейтинг меньше 80 - зависимость выглядит линейной, зато после 80, большему рейтингу начинают соответствовать большие продажи, такой всплеск может быть результатом накрутки отзывов и \"сотрудничества\" критиков с производителями игр.\n",
    "* по диаграмме рассеяния продаж от оценок пользователей явных зависимостей не наблюдается.\n",
    "* между продажами игр на PS4 и отзывами критиков есть слабая положительная корреляция (коэф.корр. 0.41)\n",
    "* между продажами игр на PS4 и отзывами пользователей очень слабая отрицательная корреляции (коэф.корр. -0.032)"
   ]
  },
  {
   "cell_type": "markdown",
   "id": "bcb522d4",
   "metadata": {},
   "source": [
    "###  Влияние отзывов пользователей и критиков на продажи других платформ.\n",
    "**Соотнесите выводы с продажами игр на других платформах.**"
   ]
  },
  {
   "cell_type": "code",
   "execution_count": 43,
   "id": "4e48fc86",
   "metadata": {
    "scrolled": true
   },
   "outputs": [
    {
     "data": {
      "text/html": [
       "<div>\n",
       "<style scoped>\n",
       "    .dataframe tbody tr th:only-of-type {\n",
       "        vertical-align: middle;\n",
       "    }\n",
       "\n",
       "    .dataframe tbody tr th {\n",
       "        vertical-align: top;\n",
       "    }\n",
       "\n",
       "    .dataframe thead th {\n",
       "        text-align: right;\n",
       "    }\n",
       "</style>\n",
       "<table border=\"1\" class=\"dataframe\">\n",
       "  <thead>\n",
       "    <tr style=\"text-align: right;\">\n",
       "      <th></th>\n",
       "      <th>platform</th>\n",
       "      <th>level_1</th>\n",
       "      <th>critic_score</th>\n",
       "      <th>user_score</th>\n",
       "    </tr>\n",
       "  </thead>\n",
       "  <tbody>\n",
       "    <tr>\n",
       "      <th>0</th>\n",
       "      <td>3DS</td>\n",
       "      <td>sales_total</td>\n",
       "      <td>0.357057</td>\n",
       "      <td>0.241504</td>\n",
       "    </tr>\n",
       "    <tr>\n",
       "      <th>3</th>\n",
       "      <td>PC</td>\n",
       "      <td>sales_total</td>\n",
       "      <td>0.196030</td>\n",
       "      <td>-0.093842</td>\n",
       "    </tr>\n",
       "    <tr>\n",
       "      <th>6</th>\n",
       "      <td>PS4</td>\n",
       "      <td>sales_total</td>\n",
       "      <td>0.406568</td>\n",
       "      <td>-0.031957</td>\n",
       "    </tr>\n",
       "    <tr>\n",
       "      <th>9</th>\n",
       "      <td>WiiU</td>\n",
       "      <td>sales_total</td>\n",
       "      <td>0.376415</td>\n",
       "      <td>0.419330</td>\n",
       "    </tr>\n",
       "    <tr>\n",
       "      <th>12</th>\n",
       "      <td>XOne</td>\n",
       "      <td>sales_total</td>\n",
       "      <td>0.416998</td>\n",
       "      <td>-0.068925</td>\n",
       "    </tr>\n",
       "  </tbody>\n",
       "</table>\n",
       "</div>"
      ],
      "text/plain": [
       "   platform      level_1  critic_score  user_score\n",
       "0       3DS  sales_total      0.357057    0.241504\n",
       "3        PC  sales_total      0.196030   -0.093842\n",
       "6       PS4  sales_total      0.406568   -0.031957\n",
       "9      WiiU  sales_total      0.376415    0.419330\n",
       "12     XOne  sales_total      0.416998   -0.068925"
      ]
     },
     "execution_count": 43,
     "metadata": {},
     "output_type": "execute_result"
    }
   ],
   "source": [
    "(df_actual.groupby(['platform'])[['sales_total','critic_score','user_score']]\n",
    " .agg('corr')\n",
    " .reset_index()\n",
    " .query('level_1 == \"sales_total\"')\n",
    " .iloc[:,[0,1,3,4]]\n",
    ")"
   ]
  },
  {
   "cell_type": "markdown",
   "id": "3fa035d8",
   "metadata": {},
   "source": [
    "**Вывод**\n",
    "\n",
    "* Заметна корреляция между глобальными продажами и оценками критиков. У PS4 коэф. кор. 0.41, у остальных платформ от 0.2 до 0.42 .\n",
    "* Между глобальными продажами и оценками пользователей корреляция не наблюдается по платформам PC, XOne и PS4. По платформе 3DS незначительная корреляция 0.24, а по платформе WiiU самая высокая 0.42.\n",
    "* У платформы WiiU корреляция между глобальных продажами и оценками пользователей выше, чем корреляция с оценками критиков.\n",
    "* Для пользователей платформы WiiU очень важны оценки пользователей, почти как и оценки критиков.\n",
    "* Для остальных платформе важнее оценки критиков."
   ]
  },
  {
   "cell_type": "markdown",
   "id": "ca0e823a",
   "metadata": {},
   "source": [
    "### Влияние жанра игры на продажи\n",
    "\n",
    "**Посмотрите на общее распределение игр по жанрам. Что можно сказать о самых прибыльных жанрах? Выделяются ли жанры с высокими и низкими продажами?**"
   ]
  },
  {
   "cell_type": "code",
   "execution_count": 44,
   "id": "e83c897e",
   "metadata": {},
   "outputs": [
    {
     "data": {
      "text/plain": [
       "genre\n",
       "Action          443\n",
       "Role-Playing    150\n",
       "Shooter         120\n",
       "Sports          110\n",
       "Misc             93\n",
       "Adventure        83\n",
       "Racing           57\n",
       "Platform         49\n",
       "Simulation       47\n",
       "Strategy         42\n",
       "Fighting         38\n",
       "Puzzle           14\n",
       "Name: sales_total, dtype: int64"
      ]
     },
     "execution_count": 44,
     "metadata": {},
     "output_type": "execute_result"
    }
   ],
   "source": [
    "# отсортируем жанры по количесту игр\n",
    "genres_count = df_actual.groupby('genre')['sales_total'].agg('count').sort_values(ascending=False)\n",
    "genres_count"
   ]
  },
  {
   "cell_type": "code",
   "execution_count": 45,
   "id": "c62d1224",
   "metadata": {},
   "outputs": [],
   "source": [
    "# отсортируем жанры игр по убыванию суммарных продаж\n",
    "top_genres = (df_actual\n",
    "             .groupby('genre', as_index=False)\n",
    "             .agg({'sales_total':'sum'})\n",
    "             .sort_values('sales_total', ascending=False)\n",
    "             )"
   ]
  },
  {
   "cell_type": "code",
   "execution_count": 46,
   "id": "0757b27e",
   "metadata": {
    "scrolled": false
   },
   "outputs": [
    {
     "data": {
      "text/html": [
       "<div>\n",
       "<style scoped>\n",
       "    .dataframe tbody tr th:only-of-type {\n",
       "        vertical-align: middle;\n",
       "    }\n",
       "\n",
       "    .dataframe tbody tr th {\n",
       "        vertical-align: top;\n",
       "    }\n",
       "\n",
       "    .dataframe thead th {\n",
       "        text-align: right;\n",
       "    }\n",
       "</style>\n",
       "<table border=\"1\" class=\"dataframe\">\n",
       "  <thead>\n",
       "    <tr style=\"text-align: right;\">\n",
       "      <th></th>\n",
       "      <th>genre</th>\n",
       "      <th>sales_total</th>\n",
       "    </tr>\n",
       "  </thead>\n",
       "  <tbody>\n",
       "    <tr>\n",
       "      <th>0</th>\n",
       "      <td>Action</td>\n",
       "      <td>189.460007</td>\n",
       "    </tr>\n",
       "    <tr>\n",
       "      <th>8</th>\n",
       "      <td>Shooter</td>\n",
       "      <td>164.270004</td>\n",
       "    </tr>\n",
       "    <tr>\n",
       "      <th>7</th>\n",
       "      <td>Role-Playing</td>\n",
       "      <td>113.709999</td>\n",
       "    </tr>\n",
       "    <tr>\n",
       "      <th>10</th>\n",
       "      <td>Sports</td>\n",
       "      <td>88.589996</td>\n",
       "    </tr>\n",
       "    <tr>\n",
       "      <th>4</th>\n",
       "      <td>Platform</td>\n",
       "      <td>33.750000</td>\n",
       "    </tr>\n",
       "    <tr>\n",
       "      <th>3</th>\n",
       "      <td>Misc</td>\n",
       "      <td>30.809999</td>\n",
       "    </tr>\n",
       "    <tr>\n",
       "      <th>6</th>\n",
       "      <td>Racing</td>\n",
       "      <td>30.260000</td>\n",
       "    </tr>\n",
       "    <tr>\n",
       "      <th>2</th>\n",
       "      <td>Fighting</td>\n",
       "      <td>25.500000</td>\n",
       "    </tr>\n",
       "    <tr>\n",
       "      <th>9</th>\n",
       "      <td>Simulation</td>\n",
       "      <td>19.760000</td>\n",
       "    </tr>\n",
       "    <tr>\n",
       "      <th>1</th>\n",
       "      <td>Adventure</td>\n",
       "      <td>13.030000</td>\n",
       "    </tr>\n",
       "    <tr>\n",
       "      <th>11</th>\n",
       "      <td>Strategy</td>\n",
       "      <td>8.559999</td>\n",
       "    </tr>\n",
       "    <tr>\n",
       "      <th>5</th>\n",
       "      <td>Puzzle</td>\n",
       "      <td>3.070000</td>\n",
       "    </tr>\n",
       "  </tbody>\n",
       "</table>\n",
       "</div>"
      ],
      "text/plain": [
       "           genre  sales_total\n",
       "0         Action   189.460007\n",
       "8        Shooter   164.270004\n",
       "7   Role-Playing   113.709999\n",
       "10        Sports    88.589996\n",
       "4       Platform    33.750000\n",
       "3           Misc    30.809999\n",
       "6         Racing    30.260000\n",
       "2       Fighting    25.500000\n",
       "9     Simulation    19.760000\n",
       "1      Adventure    13.030000\n",
       "11      Strategy     8.559999\n",
       "5         Puzzle     3.070000"
      ]
     },
     "execution_count": 46,
     "metadata": {},
     "output_type": "execute_result"
    }
   ],
   "source": [
    "top_genres"
   ]
  },
  {
   "cell_type": "markdown",
   "id": "29258b3e",
   "metadata": {},
   "source": [
    "Построим гистограмму распределения глобальных продаж по жанрам игр."
   ]
  },
  {
   "cell_type": "code",
   "execution_count": 47,
   "id": "9fe011b5",
   "metadata": {
    "scrolled": false
   },
   "outputs": [
    {
     "data": {
      "text/plain": [
       "Text(0, 0.5, 'Глобальные продажи (млн.)')"
      ]
     },
     "execution_count": 47,
     "metadata": {},
     "output_type": "execute_result"
    },
    {
     "data": {
      "image/png": "[encoded data removed]",
      "text/plain": [
       "<Figure size 1152x576 with 1 Axes>"
      ]
     },
     "metadata": {
      "needs_background": "light"
     },
     "output_type": "display_data"
    }
   ],
   "source": [
    "fig, ax = plt.subplots(figsize=(16,8))\n",
    "sns.barplot(ax=ax, x = 'genre', y = \"sales_total\", data = top_genres)\n",
    "plt.title('Распределение глобальных продаж по жанрам игр', fontsize=20)\n",
    "plt.xlabel('Жанр')\n",
    "plt.ylabel('Глобальные продажи (млн.)')"
   ]
  },
  {
   "cell_type": "code",
   "execution_count": 48,
   "id": "810f16b0",
   "metadata": {
    "scrolled": true
   },
   "outputs": [
    {
     "data": {
      "text/plain": [
       "genre\n",
       "Shooter         0.495\n",
       "Sports          0.275\n",
       "Platform        0.260\n",
       "Role-Playing    0.190\n",
       "Fighting        0.155\n",
       "Misc            0.120\n",
       "Racing          0.120\n",
       "Action          0.110\n",
       "Simulation      0.100\n",
       "Puzzle          0.085\n",
       "Strategy        0.080\n",
       "Adventure       0.060\n",
       "Name: sales_total, dtype: float32"
      ]
     },
     "execution_count": 48,
     "metadata": {},
     "output_type": "execute_result"
    }
   ],
   "source": [
    "# отсортируем жанры игр по убыванию медианы глобальных продаж\n",
    "genres_median_sorted = df_actual.groupby('genre')['sales_total'].agg('median').sort_values(ascending=False)\n",
    "genres_median_sorted"
   ]
  },
  {
   "cell_type": "code",
   "execution_count": 49,
   "id": "11c3b9c3",
   "metadata": {},
   "outputs": [],
   "source": [
    "# применим функцию index для дальнейшего порядка построения усатых ящиков по медианным продажам платформ.\n",
    "genres_median_sorted = genres_median_sorted.index "
   ]
  },
  {
   "cell_type": "code",
   "execution_count": 50,
   "id": "14bede2a",
   "metadata": {},
   "outputs": [
    {
     "data": {
      "text/plain": [
       "Index(['Shooter', 'Sports', 'Platform', 'Role-Playing', 'Fighting', 'Misc',\n",
       "       'Racing', 'Action', 'Simulation', 'Puzzle', 'Strategy', 'Adventure'],\n",
       "      dtype='object', name='genre')"
      ]
     },
     "execution_count": 50,
     "metadata": {},
     "output_type": "execute_result"
    }
   ],
   "source": [
    "genres_median_sorted"
   ]
  },
  {
   "cell_type": "code",
   "execution_count": 51,
   "id": "2811fbea",
   "metadata": {
    "scrolled": false
   },
   "outputs": [
    {
     "data": {
      "text/plain": [
       "Text(0, 0.5, 'Глобальные продажи (млн.)')"
      ]
     },
     "execution_count": 51,
     "metadata": {},
     "output_type": "execute_result"
    },
    {
     "data": {
      "image/png": "[encoded data removed]",
      "text/plain": [
       "<Figure size 1152x576 with 1 Axes>"
      ]
     },
     "metadata": {
      "needs_background": "light"
     },
     "output_type": "display_data"
    }
   ],
   "source": [
    "fig, ax = plt.subplots(figsize =(16,8))\n",
    "sns.boxplot(x = 'genre', y = 'sales_total', data = df_actual, ax=ax, order = genres_median_sorted)\n",
    "plt.title('Распределение глобальных медианных продаж по жанрам игр', fontsize=20)\n",
    "ax.set(yscale=\"log\")\n",
    "plt.xlabel('Платформа')\n",
    "plt.ylabel('Глобальные продажи (млн.)')"
   ]
  },
  {
   "cell_type": "markdown",
   "id": "9d30a819",
   "metadata": {},
   "source": [
    "**Вывод**\n",
    "\n",
    "* По абсолютным показателям продаж лидирует жанр Action 189.46 млн. копий, далее следует Shooter 164.27 млн.копий, далее Role-Playing 113.71 млн. копий, далее Sports 88.59 млн.копий, далее Platform 33.75 млн. копий. \n",
    "\n",
    "* По медианным показателям продаж лидирует жанр Shooter медианное значение 0.495 млн. копий, далее Sports медианное значение 0.275 млн. копий, далее Platform медианное значение 0.260 млн. копий, далее Role-Playing медианное значение 0.190 млн. копий, далее Fighting медианное значение 0.155 млн. копий. Именно на эти жанры стоит обратить внимание при продвижении игровых платформ. \n",
    "\n",
    "* Можно заметить, что жанр Action самый продаваемый, что обусловлено популярностью самого жанра, но при этом жанр Shooter лидирует по медианным продажам в сравнении с остальными жанрами. Медианные (средние) значения для анализа важнее, т.к. суммарные продажи в жанре можно разложить на множители, средние показатели продажи игр умноженные на количество игр. То есть за высокими продажами какого-то жанра могут скрываться множество мелких игры, с низкими продажами. А за низкими суммарными продажами в жанре может скрываться небольшое количество игр, но каждая из которых имеет высокие доходы. А мы продаем игры, а не жанры. Поэтому игры жанра Action менее интересены, чем топ-5 жанров по медианным показателям.\n",
    "\n",
    "* Наименее продаваемыми являются жанры Pazzle, Adventure, Strategy (медианное значение 0.06-0.085 млн копий по всем платформам). Интеллектуальные игры не пользуются большой популярностью."
   ]
  },
  {
   "cell_type": "markdown",
   "id": "448cb4ea",
   "metadata": {},
   "source": [
    "### Вывод \n",
    "\n",
    "Проанализированы глобальные продажи по игровым платформам. Выделены перспективные платформы, это PS4, XOne, 3DS, PC, WiiU.\n",
    "Выделен актуальный период для исследования игр с 2013 по 2016 гг.\n",
    "Рассмотрены глобальные продажи игр для игровых платформ за актуальный период.\n",
    "Лидером по суммарным продажам за актуальный период является PS4. Однако медианные значения для XOne выше, чем у PS4 и WiiU. \n",
    "Наименьшее медианное значение из перспективных платформ у PC. Но PC самая стабильная из всех рассматриваемых игровых платформ. с плавным ростом продаж до 2011 года и плавным спадом до 2016 года, а начало кривой продаж аж в 1985 году.\n",
    "Рассмотрено влияние отзывов пользователей и критиков на продажи по платформе 'PC'. Рассчитаны коэффициенты корреляции между продажами и оценками для всех платформ.\n",
    "Между глобальными продажами и оценками критиков наблюдается некоторая корреляция (0.31 - 0.41) по всем игровым платформам.\n",
    "Между глобальными продажами и оценками пользователей корреляция не наблюдается по платформам PS4, XOne и PC.\n",
    "Рассмотрено влияние жанров игр на продажи.\n",
    "Самым продаваемым жанром является Action, а по медианному значению продаж Shooter. Для выпуска игр предпочтительнее являются жанры топ-5 по медианным показателям продаж: Shooter, Sports, Platform, Role-Playing и Fighting.\n",
    "Наименее продаваемыми являются жанры Pazzle, Adventure, Strategy.\n",
    "По всем жанрам также много выбросов. В каждом жанре есть бестселлеры.\n",
    "\n",
    "Для продвижения игр в 2017 году следует ориентироваться на:\n",
    "* платформы PS4, XOne, 3DS, PC, WiiU\n",
    "* жанры Shooter, Sports, Platform, Role-Playing и Fighting\n",
    "* при создание игр сотрудничать с ведущими критиками"
   ]
  },
  {
   "cell_type": "markdown",
   "id": "7d3ac315",
   "metadata": {},
   "source": [
    "## Портрет пользователя каждого региона (NA, EU, JP)\n",
    "### Самые популярные платформы (топ-5)\n",
    "**Опишите различия в долях продаж.**\n",
    "\n",
    "Создадим функцию для построения диаграмм долей долей."
   ]
  },
  {
   "cell_type": "code",
   "execution_count": 52,
   "id": "c7a6cc58",
   "metadata": {},
   "outputs": [],
   "source": [
    "def pie(frame):\n",
    "    #передаем названия платформ/жанров/рейтинга в переменную labels, которую будем использовать как аргумент функции plt.pie\n",
    "    labels=frame.index\n",
    "    fig1, ax1 = plt.subplots()\n",
    "    ax1.pie(x=frame['ratio'], labels=labels, autopct='%1.1f%%', shadow=True, normalize=False)\n",
    "    ax1.axis('equal')\n",
    "    plt.title('Доли продаж')\n",
    "    plt.show()"
   ]
  },
  {
   "cell_type": "code",
   "execution_count": 53,
   "id": "a3d5ea61",
   "metadata": {},
   "outputs": [
    {
     "data": {
      "text/html": [
       "<div>\n",
       "<style scoped>\n",
       "    .dataframe tbody tr th:only-of-type {\n",
       "        vertical-align: middle;\n",
       "    }\n",
       "\n",
       "    .dataframe tbody tr th {\n",
       "        vertical-align: top;\n",
       "    }\n",
       "\n",
       "    .dataframe thead th {\n",
       "        text-align: right;\n",
       "    }\n",
       "</style>\n",
       "<table border=\"1\" class=\"dataframe\">\n",
       "  <thead>\n",
       "    <tr style=\"text-align: right;\">\n",
       "      <th></th>\n",
       "      <th>na_sales</th>\n",
       "      <th>ratio</th>\n",
       "    </tr>\n",
       "    <tr>\n",
       "      <th>platform</th>\n",
       "      <th></th>\n",
       "      <th></th>\n",
       "    </tr>\n",
       "  </thead>\n",
       "  <tbody>\n",
       "    <tr>\n",
       "      <th>PS4</th>\n",
       "      <td>108.739998</td>\n",
       "      <td>0.248753</td>\n",
       "    </tr>\n",
       "    <tr>\n",
       "      <th>XOne</th>\n",
       "      <td>93.120003</td>\n",
       "      <td>0.213021</td>\n",
       "    </tr>\n",
       "    <tr>\n",
       "      <th>X360</th>\n",
       "      <td>81.659996</td>\n",
       "      <td>0.186805</td>\n",
       "    </tr>\n",
       "    <tr>\n",
       "      <th>PS3</th>\n",
       "      <td>63.500000</td>\n",
       "      <td>0.145262</td>\n",
       "    </tr>\n",
       "    <tr>\n",
       "      <th>3DS</th>\n",
       "      <td>38.200001</td>\n",
       "      <td>0.087386</td>\n",
       "    </tr>\n",
       "    <tr>\n",
       "      <th>WiiU</th>\n",
       "      <td>29.209999</td>\n",
       "      <td>0.066821</td>\n",
       "    </tr>\n",
       "    <tr>\n",
       "      <th>PC</th>\n",
       "      <td>11.110000</td>\n",
       "      <td>0.025415</td>\n",
       "    </tr>\n",
       "    <tr>\n",
       "      <th>Wii</th>\n",
       "      <td>6.560000</td>\n",
       "      <td>0.015007</td>\n",
       "    </tr>\n",
       "    <tr>\n",
       "      <th>PSV</th>\n",
       "      <td>5.040000</td>\n",
       "      <td>0.011529</td>\n",
       "    </tr>\n",
       "  </tbody>\n",
       "</table>\n",
       "</div>"
      ],
      "text/plain": [
       "            na_sales     ratio\n",
       "platform                      \n",
       "PS4       108.739998  0.248753\n",
       "XOne       93.120003  0.213021\n",
       "X360       81.659996  0.186805\n",
       "PS3        63.500000  0.145262\n",
       "3DS        38.200001  0.087386\n",
       "WiiU       29.209999  0.066821\n",
       "PC         11.110000  0.025415\n",
       "Wii         6.560000  0.015007\n",
       "PSV         5.040000  0.011529"
      ]
     },
     "execution_count": 53,
     "metadata": {},
     "output_type": "execute_result"
    }
   ],
   "source": [
    "na_platforms = (df_2013_2016.pivot_table                                            #группируем данные\n",
    "                (index='platform', values='na_sales', aggfunc='sum')                \n",
    "                .sort_values(by='na_sales', ascending=False)                        #сортируем данные\n",
    "               )             \n",
    "na_platforms['ratio'] = na_platforms['na_sales'] / na_platforms['na_sales'].sum()   #вычисляем отношение\n",
    "na_platforms"
   ]
  },
  {
   "cell_type": "code",
   "execution_count": 54,
   "id": "ebcb75a7",
   "metadata": {},
   "outputs": [
    {
     "data": {
      "image/png": "[encoded data removed]",
      "text/plain": [
       "<Figure size 432x288 with 1 Axes>"
      ]
     },
     "metadata": {},
     "output_type": "display_data"
    }
   ],
   "source": [
    "pie(na_platforms.head())"
   ]
  },
  {
   "cell_type": "markdown",
   "id": "2ad91550",
   "metadata": {},
   "source": [
    "В США PS4 самая популярная платформа, совсем немного отстает XOne, в прошлых поколениях наоборот лидирует X360 и PS3 значительно отстает, замыкает топ-5 платформа 3DS."
   ]
  },
  {
   "cell_type": "code",
   "execution_count": 55,
   "id": "a997233e",
   "metadata": {},
   "outputs": [
    {
     "data": {
      "text/html": [
       "<div>\n",
       "<style scoped>\n",
       "    .dataframe tbody tr th:only-of-type {\n",
       "        vertical-align: middle;\n",
       "    }\n",
       "\n",
       "    .dataframe tbody tr th {\n",
       "        vertical-align: top;\n",
       "    }\n",
       "\n",
       "    .dataframe thead th {\n",
       "        text-align: right;\n",
       "    }\n",
       "</style>\n",
       "<table border=\"1\" class=\"dataframe\">\n",
       "  <thead>\n",
       "    <tr style=\"text-align: right;\">\n",
       "      <th></th>\n",
       "      <th>eu_sales</th>\n",
       "      <th>ratio</th>\n",
       "    </tr>\n",
       "    <tr>\n",
       "      <th>platform</th>\n",
       "      <th></th>\n",
       "      <th></th>\n",
       "    </tr>\n",
       "  </thead>\n",
       "  <tbody>\n",
       "    <tr>\n",
       "      <th>PS4</th>\n",
       "      <td>141.089996</td>\n",
       "      <td>0.360650</td>\n",
       "    </tr>\n",
       "    <tr>\n",
       "      <th>PS3</th>\n",
       "      <td>67.809998</td>\n",
       "      <td>0.173334</td>\n",
       "    </tr>\n",
       "    <tr>\n",
       "      <th>XOne</th>\n",
       "      <td>51.590000</td>\n",
       "      <td>0.131873</td>\n",
       "    </tr>\n",
       "    <tr>\n",
       "      <th>X360</th>\n",
       "      <td>42.520000</td>\n",
       "      <td>0.108688</td>\n",
       "    </tr>\n",
       "    <tr>\n",
       "      <th>3DS</th>\n",
       "      <td>30.959999</td>\n",
       "      <td>0.079139</td>\n",
       "    </tr>\n",
       "    <tr>\n",
       "      <th>PC</th>\n",
       "      <td>25.360001</td>\n",
       "      <td>0.064825</td>\n",
       "    </tr>\n",
       "    <tr>\n",
       "      <th>WiiU</th>\n",
       "      <td>19.850000</td>\n",
       "      <td>0.050740</td>\n",
       "    </tr>\n",
       "    <tr>\n",
       "      <th>PSV</th>\n",
       "      <td>6.100000</td>\n",
       "      <td>0.015593</td>\n",
       "    </tr>\n",
       "    <tr>\n",
       "      <th>Wii</th>\n",
       "      <td>5.930000</td>\n",
       "      <td>0.015158</td>\n",
       "    </tr>\n",
       "  </tbody>\n",
       "</table>\n",
       "</div>"
      ],
      "text/plain": [
       "            eu_sales     ratio\n",
       "platform                      \n",
       "PS4       141.089996  0.360650\n",
       "PS3        67.809998  0.173334\n",
       "XOne       51.590000  0.131873\n",
       "X360       42.520000  0.108688\n",
       "3DS        30.959999  0.079139\n",
       "PC         25.360001  0.064825\n",
       "WiiU       19.850000  0.050740\n",
       "PSV         6.100000  0.015593\n",
       "Wii         5.930000  0.015158"
      ]
     },
     "execution_count": 55,
     "metadata": {},
     "output_type": "execute_result"
    }
   ],
   "source": [
    "eu_platforms = (df_2013_2016.pivot_table\n",
    "                (index='platform', values='eu_sales', aggfunc='sum')\n",
    "                .sort_values(by='eu_sales', ascending=False)\n",
    "               )\n",
    "eu_platforms['ratio'] = eu_platforms['eu_sales'] / eu_platforms['eu_sales'].sum()\n",
    "eu_platforms"
   ]
  },
  {
   "cell_type": "code",
   "execution_count": 56,
   "id": "20ca2e4b",
   "metadata": {},
   "outputs": [
    {
     "data": {
      "image/png": "[encoded data removed]",
      "text/plain": [
       "<Figure size 432x288 with 1 Axes>"
      ]
     },
     "metadata": {},
     "output_type": "display_data"
    }
   ],
   "source": [
    "pie(eu_platforms.head())"
   ]
  },
  {
   "cell_type": "markdown",
   "id": "afe98d4d",
   "metadata": {},
   "source": [
    "В Европе доминирует Playstation: PS4 самая популярная платформа (больше трети рынка) PS3 на втором месте, и только на третьем месте актуальная XOne, за ней X360, замыкает топ-5 платформа 3DS."
   ]
  },
  {
   "cell_type": "code",
   "execution_count": 57,
   "id": "ababbfee",
   "metadata": {},
   "outputs": [
    {
     "data": {
      "text/html": [
       "<div>\n",
       "<style scoped>\n",
       "    .dataframe tbody tr th:only-of-type {\n",
       "        vertical-align: middle;\n",
       "    }\n",
       "\n",
       "    .dataframe tbody tr th {\n",
       "        vertical-align: top;\n",
       "    }\n",
       "\n",
       "    .dataframe thead th {\n",
       "        text-align: right;\n",
       "    }\n",
       "</style>\n",
       "<table border=\"1\" class=\"dataframe\">\n",
       "  <thead>\n",
       "    <tr style=\"text-align: right;\">\n",
       "      <th></th>\n",
       "      <th>jp_sales</th>\n",
       "      <th>ratio</th>\n",
       "    </tr>\n",
       "    <tr>\n",
       "      <th>platform</th>\n",
       "      <th></th>\n",
       "      <th></th>\n",
       "    </tr>\n",
       "  </thead>\n",
       "  <tbody>\n",
       "    <tr>\n",
       "      <th>3DS</th>\n",
       "      <td>67.809998</td>\n",
       "      <td>0.493200</td>\n",
       "    </tr>\n",
       "    <tr>\n",
       "      <th>PS3</th>\n",
       "      <td>23.350000</td>\n",
       "      <td>0.169831</td>\n",
       "    </tr>\n",
       "    <tr>\n",
       "      <th>PSV</th>\n",
       "      <td>18.590000</td>\n",
       "      <td>0.135210</td>\n",
       "    </tr>\n",
       "    <tr>\n",
       "      <th>PS4</th>\n",
       "      <td>15.960000</td>\n",
       "      <td>0.116081</td>\n",
       "    </tr>\n",
       "    <tr>\n",
       "      <th>WiiU</th>\n",
       "      <td>10.880000</td>\n",
       "      <td>0.079133</td>\n",
       "    </tr>\n",
       "    <tr>\n",
       "      <th>X360</th>\n",
       "      <td>0.510000</td>\n",
       "      <td>0.003709</td>\n",
       "    </tr>\n",
       "    <tr>\n",
       "      <th>XOne</th>\n",
       "      <td>0.340000</td>\n",
       "      <td>0.002473</td>\n",
       "    </tr>\n",
       "    <tr>\n",
       "      <th>Wii</th>\n",
       "      <td>0.050000</td>\n",
       "      <td>0.000364</td>\n",
       "    </tr>\n",
       "    <tr>\n",
       "      <th>PC</th>\n",
       "      <td>0.000000</td>\n",
       "      <td>0.000000</td>\n",
       "    </tr>\n",
       "  </tbody>\n",
       "</table>\n",
       "</div>"
      ],
      "text/plain": [
       "           jp_sales     ratio\n",
       "platform                     \n",
       "3DS       67.809998  0.493200\n",
       "PS3       23.350000  0.169831\n",
       "PSV       18.590000  0.135210\n",
       "PS4       15.960000  0.116081\n",
       "WiiU      10.880000  0.079133\n",
       "X360       0.510000  0.003709\n",
       "XOne       0.340000  0.002473\n",
       "Wii        0.050000  0.000364\n",
       "PC         0.000000  0.000000"
      ]
     },
     "execution_count": 57,
     "metadata": {},
     "output_type": "execute_result"
    }
   ],
   "source": [
    "jp_platforms = (df_2013_2016.pivot_table\n",
    "                (index='platform', values='jp_sales', aggfunc='sum') \n",
    "                .sort_values(by='jp_sales', ascending=False)\n",
    "                )                    \n",
    "jp_platforms['ratio'] = jp_platforms['jp_sales'] / jp_platforms['jp_sales'].sum()          \n",
    "jp_platforms"
   ]
  },
  {
   "cell_type": "code",
   "execution_count": 58,
   "id": "72e04798",
   "metadata": {},
   "outputs": [
    {
     "data": {
      "image/png": "[encoded data removed]",
      "text/plain": [
       "<Figure size 432x288 with 1 Axes>"
      ]
     },
     "metadata": {},
     "output_type": "display_data"
    }
   ],
   "source": [
    "pie(jp_platforms.head())"
   ]
  },
  {
   "cell_type": "markdown",
   "id": "a5938b74",
   "metadata": {},
   "source": [
    "В Японии доминирует Nintendo 3DS 50% рынка, PS3 на втором месте, далее PSV, далее PS4, далее WiiU. В Японии более популярные портативные платформы.\n",
    "\n",
    "Популярность XOne и X360 в Америке обусловлена доминированием Американской компании Microsoft. В Японии рынок разделен между двумя Японскими компаниями Nintendo 57,2 % c двумя продуктами 3DS и WiiU и PlayStation 42,1% с тремя продуктами PS3, PSV, PS4, где не нашлось места американцам. Европейский рынок пользуется благами двух монстров индустрии, так как нет крупных европейских компаний по разработке платформ, у PlayStation большая чать рынка 53,4%, у Xbox только 24,1.\n",
    "### Самые популярные жанры (топ-5). "
   ]
  },
  {
   "cell_type": "code",
   "execution_count": 59,
   "id": "94837295",
   "metadata": {},
   "outputs": [
    {
     "data": {
      "text/html": [
       "<div>\n",
       "<style scoped>\n",
       "    .dataframe tbody tr th:only-of-type {\n",
       "        vertical-align: middle;\n",
       "    }\n",
       "\n",
       "    .dataframe tbody tr th {\n",
       "        vertical-align: top;\n",
       "    }\n",
       "\n",
       "    .dataframe thead th {\n",
       "        text-align: right;\n",
       "    }\n",
       "</style>\n",
       "<table border=\"1\" class=\"dataframe\">\n",
       "  <thead>\n",
       "    <tr style=\"text-align: right;\">\n",
       "      <th></th>\n",
       "      <th>na_sales</th>\n",
       "      <th>ratio</th>\n",
       "    </tr>\n",
       "    <tr>\n",
       "      <th>genre</th>\n",
       "      <th></th>\n",
       "      <th></th>\n",
       "    </tr>\n",
       "  </thead>\n",
       "  <tbody>\n",
       "    <tr>\n",
       "      <th>Action</th>\n",
       "      <td>125.830002</td>\n",
       "      <td>0.287848</td>\n",
       "    </tr>\n",
       "    <tr>\n",
       "      <th>Shooter</th>\n",
       "      <td>109.739998</td>\n",
       "      <td>0.251041</td>\n",
       "    </tr>\n",
       "    <tr>\n",
       "      <th>Sports</th>\n",
       "      <td>65.269997</td>\n",
       "      <td>0.149311</td>\n",
       "    </tr>\n",
       "    <tr>\n",
       "      <th>Role-Playing</th>\n",
       "      <td>46.400002</td>\n",
       "      <td>0.106144</td>\n",
       "    </tr>\n",
       "    <tr>\n",
       "      <th>Misc</th>\n",
       "      <td>27.459999</td>\n",
       "      <td>0.062817</td>\n",
       "    </tr>\n",
       "    <tr>\n",
       "      <th>Platform</th>\n",
       "      <td>17.930000</td>\n",
       "      <td>0.041017</td>\n",
       "    </tr>\n",
       "    <tr>\n",
       "      <th>Fighting</th>\n",
       "      <td>15.550000</td>\n",
       "      <td>0.035572</td>\n",
       "    </tr>\n",
       "    <tr>\n",
       "      <th>Racing</th>\n",
       "      <td>12.960000</td>\n",
       "      <td>0.029647</td>\n",
       "    </tr>\n",
       "    <tr>\n",
       "      <th>Adventure</th>\n",
       "      <td>7.140000</td>\n",
       "      <td>0.016333</td>\n",
       "    </tr>\n",
       "    <tr>\n",
       "      <th>Simulation</th>\n",
       "      <td>4.750000</td>\n",
       "      <td>0.010866</td>\n",
       "    </tr>\n",
       "    <tr>\n",
       "      <th>Strategy</th>\n",
       "      <td>3.280000</td>\n",
       "      <td>0.007503</td>\n",
       "    </tr>\n",
       "    <tr>\n",
       "      <th>Puzzle</th>\n",
       "      <td>0.830000</td>\n",
       "      <td>0.001899</td>\n",
       "    </tr>\n",
       "  </tbody>\n",
       "</table>\n",
       "</div>"
      ],
      "text/plain": [
       "                na_sales     ratio\n",
       "genre                             \n",
       "Action        125.830002  0.287848\n",
       "Shooter       109.739998  0.251041\n",
       "Sports         65.269997  0.149311\n",
       "Role-Playing   46.400002  0.106144\n",
       "Misc           27.459999  0.062817\n",
       "Platform       17.930000  0.041017\n",
       "Fighting       15.550000  0.035572\n",
       "Racing         12.960000  0.029647\n",
       "Adventure       7.140000  0.016333\n",
       "Simulation      4.750000  0.010866\n",
       "Strategy        3.280000  0.007503\n",
       "Puzzle          0.830000  0.001899"
      ]
     },
     "execution_count": 59,
     "metadata": {},
     "output_type": "execute_result"
    }
   ],
   "source": [
    "na_genres = df_2013_2016.pivot_table(index='genre', values='na_sales', aggfunc='sum')\n",
    "na_genres = na_genres.sort_values(by='na_sales', ascending=False)\n",
    "na_genres['ratio'] = na_genres['na_sales'] / na_genres['na_sales'].sum()\n",
    "na_genres"
   ]
  },
  {
   "cell_type": "code",
   "execution_count": 60,
   "id": "22c0dc2e",
   "metadata": {},
   "outputs": [
    {
     "data": {
      "image/png": "[encoded data removed]",
      "text/plain": [
       "<Figure size 432x288 with 1 Axes>"
      ]
     },
     "metadata": {},
     "output_type": "display_data"
    }
   ],
   "source": [
    "pie(na_genres.head())  "
   ]
  },
  {
   "cell_type": "markdown",
   "id": "22661414",
   "metadata": {},
   "source": [
    "В США самый популярный жанр Action, далее Shooter, далее Sports, далее Role-Playing, далее Misc."
   ]
  },
  {
   "cell_type": "code",
   "execution_count": 61,
   "id": "76c30402",
   "metadata": {},
   "outputs": [
    {
     "data": {
      "text/html": [
       "<div>\n",
       "<style scoped>\n",
       "    .dataframe tbody tr th:only-of-type {\n",
       "        vertical-align: middle;\n",
       "    }\n",
       "\n",
       "    .dataframe tbody tr th {\n",
       "        vertical-align: top;\n",
       "    }\n",
       "\n",
       "    .dataframe thead th {\n",
       "        text-align: right;\n",
       "    }\n",
       "</style>\n",
       "<table border=\"1\" class=\"dataframe\">\n",
       "  <thead>\n",
       "    <tr style=\"text-align: right;\">\n",
       "      <th></th>\n",
       "      <th>eu_sales</th>\n",
       "      <th>ratio</th>\n",
       "    </tr>\n",
       "    <tr>\n",
       "      <th>genre</th>\n",
       "      <th></th>\n",
       "      <th></th>\n",
       "    </tr>\n",
       "  </thead>\n",
       "  <tbody>\n",
       "    <tr>\n",
       "      <th>Action</th>\n",
       "      <td>117.870003</td>\n",
       "      <td>0.301296</td>\n",
       "    </tr>\n",
       "    <tr>\n",
       "      <th>Shooter</th>\n",
       "      <td>87.860001</td>\n",
       "      <td>0.224585</td>\n",
       "    </tr>\n",
       "    <tr>\n",
       "      <th>Sports</th>\n",
       "      <td>60.340000</td>\n",
       "      <td>0.154239</td>\n",
       "    </tr>\n",
       "    <tr>\n",
       "      <th>Role-Playing</th>\n",
       "      <td>36.970001</td>\n",
       "      <td>0.094502</td>\n",
       "    </tr>\n",
       "    <tr>\n",
       "      <th>Racing</th>\n",
       "      <td>20.190001</td>\n",
       "      <td>0.051609</td>\n",
       "    </tr>\n",
       "    <tr>\n",
       "      <th>Misc</th>\n",
       "      <td>20.000000</td>\n",
       "      <td>0.051123</td>\n",
       "    </tr>\n",
       "    <tr>\n",
       "      <th>Platform</th>\n",
       "      <td>15.150000</td>\n",
       "      <td>0.038726</td>\n",
       "    </tr>\n",
       "    <tr>\n",
       "      <th>Simulation</th>\n",
       "      <td>10.840000</td>\n",
       "      <td>0.027709</td>\n",
       "    </tr>\n",
       "    <tr>\n",
       "      <th>Fighting</th>\n",
       "      <td>8.550000</td>\n",
       "      <td>0.021855</td>\n",
       "    </tr>\n",
       "    <tr>\n",
       "      <th>Adventure</th>\n",
       "      <td>8.220000</td>\n",
       "      <td>0.021012</td>\n",
       "    </tr>\n",
       "    <tr>\n",
       "      <th>Strategy</th>\n",
       "      <td>4.220000</td>\n",
       "      <td>0.010787</td>\n",
       "    </tr>\n",
       "    <tr>\n",
       "      <th>Puzzle</th>\n",
       "      <td>1.000000</td>\n",
       "      <td>0.002556</td>\n",
       "    </tr>\n",
       "  </tbody>\n",
       "</table>\n",
       "</div>"
      ],
      "text/plain": [
       "                eu_sales     ratio\n",
       "genre                             \n",
       "Action        117.870003  0.301296\n",
       "Shooter        87.860001  0.224585\n",
       "Sports         60.340000  0.154239\n",
       "Role-Playing   36.970001  0.094502\n",
       "Racing         20.190001  0.051609\n",
       "Misc           20.000000  0.051123\n",
       "Platform       15.150000  0.038726\n",
       "Simulation     10.840000  0.027709\n",
       "Fighting        8.550000  0.021855\n",
       "Adventure       8.220000  0.021012\n",
       "Strategy        4.220000  0.010787\n",
       "Puzzle          1.000000  0.002556"
      ]
     },
     "execution_count": 61,
     "metadata": {},
     "output_type": "execute_result"
    }
   ],
   "source": [
    "eu_genres = df_2013_2016.pivot_table(index='genre', values='eu_sales', aggfunc='sum')\n",
    "eu_genres = eu_genres.sort_values(by='eu_sales', ascending=False)\n",
    "eu_genres['ratio'] = eu_genres['eu_sales'] / eu_genres['eu_sales'].sum()\n",
    "eu_genres"
   ]
  },
  {
   "cell_type": "code",
   "execution_count": 62,
   "id": "89dbff63",
   "metadata": {},
   "outputs": [
    {
     "data": {
      "image/png": "[encoded data removed]",
      "text/plain": [
       "<Figure size 432x288 with 1 Axes>"
      ]
     },
     "metadata": {},
     "output_type": "display_data"
    }
   ],
   "source": [
    "pie(eu_genres.head())"
   ]
  },
  {
   "cell_type": "markdown",
   "id": "6f71e491",
   "metadata": {},
   "source": [
    "В Европе самый популярный жанр Action, далее Shooter, далее Sports, далее Role-Playing, далее Racing."
   ]
  },
  {
   "cell_type": "code",
   "execution_count": 63,
   "id": "6e0cb0fd",
   "metadata": {},
   "outputs": [
    {
     "data": {
      "text/html": [
       "<div>\n",
       "<style scoped>\n",
       "    .dataframe tbody tr th:only-of-type {\n",
       "        vertical-align: middle;\n",
       "    }\n",
       "\n",
       "    .dataframe tbody tr th {\n",
       "        vertical-align: top;\n",
       "    }\n",
       "\n",
       "    .dataframe thead th {\n",
       "        text-align: right;\n",
       "    }\n",
       "</style>\n",
       "<table border=\"1\" class=\"dataframe\">\n",
       "  <thead>\n",
       "    <tr style=\"text-align: right;\">\n",
       "      <th></th>\n",
       "      <th>jp_sales</th>\n",
       "      <th>ratio</th>\n",
       "    </tr>\n",
       "    <tr>\n",
       "      <th>genre</th>\n",
       "      <th></th>\n",
       "      <th></th>\n",
       "    </tr>\n",
       "  </thead>\n",
       "  <tbody>\n",
       "    <tr>\n",
       "      <th>Role-Playing</th>\n",
       "      <td>50.009998</td>\n",
       "      <td>0.363736</td>\n",
       "    </tr>\n",
       "    <tr>\n",
       "      <th>Action</th>\n",
       "      <td>39.650002</td>\n",
       "      <td>0.288385</td>\n",
       "    </tr>\n",
       "    <tr>\n",
       "      <th>Misc</th>\n",
       "      <td>9.030000</td>\n",
       "      <td>0.065678</td>\n",
       "    </tr>\n",
       "    <tr>\n",
       "      <th>Fighting</th>\n",
       "      <td>7.630000</td>\n",
       "      <td>0.055495</td>\n",
       "    </tr>\n",
       "    <tr>\n",
       "      <th>Shooter</th>\n",
       "      <td>6.610000</td>\n",
       "      <td>0.048076</td>\n",
       "    </tr>\n",
       "    <tr>\n",
       "      <th>Adventure</th>\n",
       "      <td>5.110000</td>\n",
       "      <td>0.037166</td>\n",
       "    </tr>\n",
       "    <tr>\n",
       "      <th>Sports</th>\n",
       "      <td>4.910000</td>\n",
       "      <td>0.035712</td>\n",
       "    </tr>\n",
       "    <tr>\n",
       "      <th>Platform</th>\n",
       "      <td>4.790000</td>\n",
       "      <td>0.034839</td>\n",
       "    </tr>\n",
       "    <tr>\n",
       "      <th>Simulation</th>\n",
       "      <td>4.520000</td>\n",
       "      <td>0.032875</td>\n",
       "    </tr>\n",
       "    <tr>\n",
       "      <th>Racing</th>\n",
       "      <td>2.300000</td>\n",
       "      <td>0.016728</td>\n",
       "    </tr>\n",
       "    <tr>\n",
       "      <th>Strategy</th>\n",
       "      <td>1.750000</td>\n",
       "      <td>0.012728</td>\n",
       "    </tr>\n",
       "    <tr>\n",
       "      <th>Puzzle</th>\n",
       "      <td>1.180000</td>\n",
       "      <td>0.008582</td>\n",
       "    </tr>\n",
       "  </tbody>\n",
       "</table>\n",
       "</div>"
      ],
      "text/plain": [
       "               jp_sales     ratio\n",
       "genre                            \n",
       "Role-Playing  50.009998  0.363736\n",
       "Action        39.650002  0.288385\n",
       "Misc           9.030000  0.065678\n",
       "Fighting       7.630000  0.055495\n",
       "Shooter        6.610000  0.048076\n",
       "Adventure      5.110000  0.037166\n",
       "Sports         4.910000  0.035712\n",
       "Platform       4.790000  0.034839\n",
       "Simulation     4.520000  0.032875\n",
       "Racing         2.300000  0.016728\n",
       "Strategy       1.750000  0.012728\n",
       "Puzzle         1.180000  0.008582"
      ]
     },
     "execution_count": 63,
     "metadata": {},
     "output_type": "execute_result"
    }
   ],
   "source": [
    "jp_genres = df_2013_2016.pivot_table(index='genre', values='jp_sales', aggfunc='sum')\n",
    "jp_genres = jp_genres.sort_values(by='jp_sales', ascending=False)\n",
    "jp_genres['ratio'] = jp_genres['jp_sales'] / jp_genres['jp_sales'].sum()\n",
    "jp_genres"
   ]
  },
  {
   "cell_type": "code",
   "execution_count": 64,
   "id": "0ab6556b",
   "metadata": {},
   "outputs": [
    {
     "data": {
      "image/png": "[encoded data removed]",
      "text/plain": [
       "<Figure size 432x288 with 1 Axes>"
      ]
     },
     "metadata": {},
     "output_type": "display_data"
    }
   ],
   "source": [
    "pie(jp_genres.head())"
   ]
  },
  {
   "cell_type": "markdown",
   "id": "88a21bd6",
   "metadata": {},
   "source": [
    "В Японии самый популярный жанр Role-Playing, далее Action, далее Misk, далее Fighting, далее Shooter.\n",
    "\n",
    "**Вывод**\n",
    "\n",
    "* В США и Европе вкусы схожи, почти одинаковое распределение популярных жанров по долям, отличается только 5е место, в США это Misk 6,3%, а в Европе это Racing 5,2%.\n",
    "* В Японии совершенно другое распределение по жанрам, самый популярный жанр Role-Playing 36,4% на вторм месте Action 28,8%, замыкающая тройка представлена примерно в равных долях.\n",
    "\n",
    "### Влияние рейтинг ESRB на продажи в отдельном регионе.\n",
    "\n",
    "Возрастные категории согласно ESRB:\n",
    "\n",
    "* E - everyone (контент для всех)\n",
    "* E10+ - everyone 10+ (от 10 лет и выше)\n",
    "* T - teen (от 13 лет и выше)\n",
    "* M - mature (от 17 лет и выше)\n",
    "* RP - rating pending (рейтинг ожидается)"
   ]
  },
  {
   "cell_type": "code",
   "execution_count": 65,
   "id": "c8830053",
   "metadata": {},
   "outputs": [
    {
     "data": {
      "text/html": [
       "<div>\n",
       "<style scoped>\n",
       "    .dataframe tbody tr th:only-of-type {\n",
       "        vertical-align: middle;\n",
       "    }\n",
       "\n",
       "    .dataframe tbody tr th {\n",
       "        vertical-align: top;\n",
       "    }\n",
       "\n",
       "    .dataframe thead th {\n",
       "        text-align: right;\n",
       "    }\n",
       "</style>\n",
       "<table border=\"1\" class=\"dataframe\">\n",
       "  <thead>\n",
       "    <tr style=\"text-align: right;\">\n",
       "      <th></th>\n",
       "      <th>na_sales</th>\n",
       "      <th>ratio</th>\n",
       "    </tr>\n",
       "    <tr>\n",
       "      <th>rating</th>\n",
       "      <th></th>\n",
       "      <th></th>\n",
       "    </tr>\n",
       "  </thead>\n",
       "  <tbody>\n",
       "    <tr>\n",
       "      <th>M</th>\n",
       "      <td>165.210007</td>\n",
       "      <td>0.377934</td>\n",
       "    </tr>\n",
       "    <tr>\n",
       "      <th>RP</th>\n",
       "      <td>89.180000</td>\n",
       "      <td>0.204008</td>\n",
       "    </tr>\n",
       "    <tr>\n",
       "      <th>E</th>\n",
       "      <td>78.940002</td>\n",
       "      <td>0.180583</td>\n",
       "    </tr>\n",
       "    <tr>\n",
       "      <th>E10+</th>\n",
       "      <td>54.020000</td>\n",
       "      <td>0.123576</td>\n",
       "    </tr>\n",
       "    <tr>\n",
       "      <th>T</th>\n",
       "      <td>49.790001</td>\n",
       "      <td>0.113899</td>\n",
       "    </tr>\n",
       "  </tbody>\n",
       "</table>\n",
       "</div>"
      ],
      "text/plain": [
       "          na_sales     ratio\n",
       "rating                      \n",
       "M       165.210007  0.377934\n",
       "RP       89.180000  0.204008\n",
       "E        78.940002  0.180583\n",
       "E10+     54.020000  0.123576\n",
       "T        49.790001  0.113899"
      ]
     },
     "execution_count": 65,
     "metadata": {},
     "output_type": "execute_result"
    }
   ],
   "source": [
    "na_esrb = df_2013_2016.pivot_table(index='rating', values='na_sales', aggfunc='sum')\n",
    "na_esrb = na_esrb.sort_values(by='na_sales', ascending=False)\n",
    "na_esrb['ratio'] = na_esrb['na_sales'] / na_esrb['na_sales'].sum()\n",
    "na_esrb"
   ]
  },
  {
   "cell_type": "code",
   "execution_count": 66,
   "id": "d684fab7",
   "metadata": {},
   "outputs": [
    {
     "data": {
      "image/png": "[encoded data removed]",
      "text/plain": [
       "<Figure size 432x288 with 1 Axes>"
      ]
     },
     "metadata": {},
     "output_type": "display_data"
    }
   ],
   "source": [
    "pie(na_esrb)"
   ]
  },
  {
   "cell_type": "code",
   "execution_count": 67,
   "id": "c5aa0031",
   "metadata": {},
   "outputs": [
    {
     "data": {
      "text/html": [
       "<div>\n",
       "<style scoped>\n",
       "    .dataframe tbody tr th:only-of-type {\n",
       "        vertical-align: middle;\n",
       "    }\n",
       "\n",
       "    .dataframe tbody tr th {\n",
       "        vertical-align: top;\n",
       "    }\n",
       "\n",
       "    .dataframe thead th {\n",
       "        text-align: right;\n",
       "    }\n",
       "</style>\n",
       "<table border=\"1\" class=\"dataframe\">\n",
       "  <thead>\n",
       "    <tr style=\"text-align: right;\">\n",
       "      <th></th>\n",
       "      <th>eu_sales</th>\n",
       "      <th>ratio</th>\n",
       "    </tr>\n",
       "    <tr>\n",
       "      <th>rating</th>\n",
       "      <th></th>\n",
       "      <th></th>\n",
       "    </tr>\n",
       "  </thead>\n",
       "  <tbody>\n",
       "    <tr>\n",
       "      <th>M</th>\n",
       "      <td>145.320007</td>\n",
       "      <td>0.371463</td>\n",
       "    </tr>\n",
       "    <tr>\n",
       "      <th>E</th>\n",
       "      <td>82.800003</td>\n",
       "      <td>0.211651</td>\n",
       "    </tr>\n",
       "    <tr>\n",
       "      <th>RP</th>\n",
       "      <td>78.610001</td>\n",
       "      <td>0.200941</td>\n",
       "    </tr>\n",
       "    <tr>\n",
       "      <th>E10+</th>\n",
       "      <td>42.529999</td>\n",
       "      <td>0.108714</td>\n",
       "    </tr>\n",
       "    <tr>\n",
       "      <th>T</th>\n",
       "      <td>41.950001</td>\n",
       "      <td>0.107231</td>\n",
       "    </tr>\n",
       "  </tbody>\n",
       "</table>\n",
       "</div>"
      ],
      "text/plain": [
       "          eu_sales     ratio\n",
       "rating                      \n",
       "M       145.320007  0.371463\n",
       "E        82.800003  0.211651\n",
       "RP       78.610001  0.200941\n",
       "E10+     42.529999  0.108714\n",
       "T        41.950001  0.107231"
      ]
     },
     "execution_count": 67,
     "metadata": {},
     "output_type": "execute_result"
    }
   ],
   "source": [
    "eu_esrb = df_2013_2016.pivot_table(index='rating', values='eu_sales', aggfunc='sum')\n",
    "eu_esrb = eu_esrb.sort_values(by='eu_sales', ascending=False)\n",
    "eu_esrb['ratio'] = eu_esrb['eu_sales'] / eu_esrb['eu_sales'].sum()\n",
    "eu_esrb"
   ]
  },
  {
   "cell_type": "code",
   "execution_count": 68,
   "id": "90f61320",
   "metadata": {},
   "outputs": [
    {
     "data": {
      "image/png": "[encoded data removed]",
      "text/plain": [
       "<Figure size 432x288 with 1 Axes>"
      ]
     },
     "metadata": {},
     "output_type": "display_data"
    }
   ],
   "source": [
    "pie(eu_esrb)"
   ]
  },
  {
   "cell_type": "code",
   "execution_count": 69,
   "id": "3edcc9a2",
   "metadata": {},
   "outputs": [
    {
     "data": {
      "text/html": [
       "<div>\n",
       "<style scoped>\n",
       "    .dataframe tbody tr th:only-of-type {\n",
       "        vertical-align: middle;\n",
       "    }\n",
       "\n",
       "    .dataframe tbody tr th {\n",
       "        vertical-align: top;\n",
       "    }\n",
       "\n",
       "    .dataframe thead th {\n",
       "        text-align: right;\n",
       "    }\n",
       "</style>\n",
       "<table border=\"1\" class=\"dataframe\">\n",
       "  <thead>\n",
       "    <tr style=\"text-align: right;\">\n",
       "      <th></th>\n",
       "      <th>jp_sales</th>\n",
       "      <th>ratio</th>\n",
       "    </tr>\n",
       "    <tr>\n",
       "      <th>rating</th>\n",
       "      <th></th>\n",
       "      <th></th>\n",
       "    </tr>\n",
       "  </thead>\n",
       "  <tbody>\n",
       "    <tr>\n",
       "      <th>RP</th>\n",
       "      <td>82.050003</td>\n",
       "      <td>0.5968</td>\n",
       "    </tr>\n",
       "    <tr>\n",
       "      <th>T</th>\n",
       "      <td>20.440001</td>\n",
       "      <td>0.1487</td>\n",
       "    </tr>\n",
       "    <tr>\n",
       "      <th>E</th>\n",
       "      <td>15.000000</td>\n",
       "      <td>0.1091</td>\n",
       "    </tr>\n",
       "    <tr>\n",
       "      <th>M</th>\n",
       "      <td>14.110000</td>\n",
       "      <td>0.1026</td>\n",
       "    </tr>\n",
       "    <tr>\n",
       "      <th>E10+</th>\n",
       "      <td>5.890000</td>\n",
       "      <td>0.0428</td>\n",
       "    </tr>\n",
       "  </tbody>\n",
       "</table>\n",
       "</div>"
      ],
      "text/plain": [
       "         jp_sales   ratio\n",
       "rating                   \n",
       "RP      82.050003  0.5968\n",
       "T       20.440001  0.1487\n",
       "E       15.000000  0.1091\n",
       "M       14.110000  0.1026\n",
       "E10+     5.890000  0.0428"
      ]
     },
     "execution_count": 69,
     "metadata": {},
     "output_type": "execute_result"
    }
   ],
   "source": [
    "jp_esrb = df_2013_2016.pivot_table(index='rating', values='jp_sales', aggfunc='sum')\n",
    "jp_esrb = jp_esrb.sort_values(by='jp_sales', ascending=False)\n",
    "jp_esrb['ratio'] = round(jp_esrb['jp_sales'] / jp_esrb['jp_sales'].sum(), 4)\n",
    "jp_esrb"
   ]
  },
  {
   "cell_type": "code",
   "execution_count": 70,
   "id": "2ae7a514",
   "metadata": {},
   "outputs": [
    {
     "data": {
      "image/png": "[encoded data removed]",
      "text/plain": [
       "<Figure size 432x288 with 1 Axes>"
      ]
     },
     "metadata": {},
     "output_type": "display_data"
    }
   ],
   "source": [
    "pie(jp_esrb)"
   ]
  },
  {
   "cell_type": "markdown",
   "id": "fd34b2d5",
   "metadata": {},
   "source": [
    "Снова наблюдается отличие Японского региона от Европейского региона и Северной Америки.\n",
    "\n",
    "* В Северной Америке и Европе игры с рейтингом M (старше 17 лет) имеют больше всего продаж, порядка 37% от всего рынка. После по популярности идут игры с рейтингом E (контент для всех) порядка 18-21% рынка. E10+ и T расположились в конце списка и имеют порядка 10-12% от всего рынка. Остальную долю 20-21% имеют игры без рейтинга RP (рейтинг ожидается).\n",
    "* В Японии игры с рейтингом T (от 13 лет и выше) наиболее популярны, их продажи составляют около 15% от всего рынка. Остальные платформы расположились близко друг к другу: E - 10,9%, M - 10,3% и E10+ - 4,3%. Однако 59% всех игр имеют рейтинг RP (рейтинг ожидается).\n",
    "* При ориентации на рынки США и Европы, в первую очередь нужно обратить внимание на игры с рейтингом M, а при ориентации на Японию - на игры с рейтингом T.\n",
    "\n",
    "### Выводы \n",
    "\n",
    "**Портреты каждого региона:**\n",
    "\n",
    "\n",
    "* США:\n",
    "\n",
    "Самые популярные игровые платформы в США (топ-5): PS4, XOne, X360, PS3, 3DS. \n",
    "Самые популярные жанры в США (топ - 5 по убыванию): Action, Shooter, Sports, Role-Playing, Misc.\n",
    "Самый предпочитаемый рейтинг в США по убыванию: игры от 17 лет, игры для всех, игры от 10 лет, игры от 13 лет.\n",
    "\n",
    "* Европа:\n",
    "\n",
    "Самые популярные игровые платформы Европе (топ-5): PS4, PS3, XOne, X360, 3DS.\n",
    "Самые популярные жанры в Европе (топ - 5 по убыванию): Action, Shooter, Sports, Role-Playing, Racing.\n",
    "Самый предпочитаемый рейтинг в Европе по убыванию: игры от 17 лет, игры для всех, игры от 10 лет, от 13 лет.\n",
    "\n",
    "* Япония:\n",
    "\n",
    "Самые популярные игровые платформы в Японии - японские платформы (топ-5): 3DS, PS3, PSV, PS4, WiiU.\n",
    "Самые популярные жанры в Японии (топ - 5 по убыванию): Role-Playing, Action, Misc, Fighting, Shooter.\n",
    "Самый предпочитаемый рейтинг в Японии по убыванию: игры от 13 лет, игры для всех, игры от 17 лет, игры от 10 лет.\n",
    "\n",
    "## Проверка гипотез\n",
    "### Гипотеза 1. Средние пользовательские рейтинги платформ Xbox One и PC одинаковые\n",
    "\n",
    "Предварительно избавимся от пропусков в датасете."
   ]
  },
  {
   "cell_type": "code",
   "execution_count": 71,
   "id": "c894d110",
   "metadata": {},
   "outputs": [],
   "source": [
    "df_2013_2016_clean = df_2013_2016.dropna()"
   ]
  },
  {
   "cell_type": "markdown",
   "id": "cea01d6d",
   "metadata": {},
   "source": [
    "Сформулируем нулевую и альтернативную гипотезы:\n",
    "\n",
    "* H0  — средние пользовательские рейтинги платформ Xbox One и PC одинаковые.\n",
    "* H1  — средние пользовательские рейтинги платформ Xbox One и PC различаются.\n",
    "\n",
    "Зададим уровень значимости α=5%"
   ]
  },
  {
   "cell_type": "code",
   "execution_count": 72,
   "id": "8b91da86",
   "metadata": {},
   "outputs": [
    {
     "name": "stdout",
     "output_type": "stream",
     "text": [
      "Дисперсия оценок XOne: 1.796398639678955\n",
      "Дисперсия оценок PC: 2.932443380355835\n"
     ]
    }
   ],
   "source": [
    "alpha = .05\n",
    "\n",
    "xone = df_2013_2016_clean.query('platform == \"XOne\"')['user_score'] # выделим совокупность оценок пользователей XOne\n",
    "pc = df_2013_2016_clean.query('platform == \"PC\"')['user_score']     # выделим совокупность оценок пользователей PC\n",
    "\n",
    "print('Дисперсия оценок XOne:', xone.var(ddof=1)) # выведем дисперсию для распределений оценок XOne\n",
    "print('Дисперсия оценок PC:', pc.var(ddof=1))     # выведем дисперсию для распределений оценок PC"
   ]
  },
  {
   "cell_type": "markdown",
   "id": "fa277b2d",
   "metadata": {},
   "source": [
    "Используем метод `ttest_ind` для проверки гипотезы о равенстве среднего двух независимых совокупностей по взятым из них выборкам. Т.к. дисперсии для выборок сильно отличаются, учтем это, добавив аргумент equal_var=False."
   ]
  },
  {
   "cell_type": "code",
   "execution_count": 73,
   "id": "eb353c68",
   "metadata": {
    "scrolled": true
   },
   "outputs": [
    {
     "name": "stdout",
     "output_type": "stream",
     "text": [
      "p-значение: 0.1788251680968554\n",
      "Не получилось отвергнуть нулевую гипотезу\n"
     ]
    }
   ],
   "source": [
    "results = st.ttest_ind(\n",
    "    xone, \n",
    "    pc, \n",
    "    equal_var=False)\n",
    "\n",
    "print('p-значение:', results.pvalue)\n",
    "\n",
    "if (results.pvalue < alpha):\n",
    "    print(\"Отвергаем нулевую гипотезу\")\n",
    "else:\n",
    "    print(\"Не получилось отвергнуть нулевую гипотезу\")"
   ]
  },
  {
   "cell_type": "markdown",
   "id": "445a2734",
   "metadata": {},
   "source": [
    "#### Вывод\n",
    "p-value равен 0.178 и больше alpha, в связи с чем нет оснований отвергать нулевую гипотезу. \n",
    "\n",
    "Полученные данные не противоречат гипотезе H0: \"Средние пользовательские рейтинги платформ Xbox One и PC одинаковые\".\n",
    "\n",
    "### Гипотеза 2. Средние пользовательские рейтинги жанров Action  и Sports  разные\n",
    "\n",
    "Сформулируем нулевую и альтернативную гипотезы:\n",
    "\n",
    "* H0  — средние пользовательские рейтинги жанров Action и Sports одинаковые.\n",
    "\n",
    "* H1  — средние пользовательские рейтинги жанров Action и Sports разные.\n",
    "\n",
    "Зададим уровень значимости α=5%"
   ]
  },
  {
   "cell_type": "code",
   "execution_count": 74,
   "id": "cb0dbd57",
   "metadata": {},
   "outputs": [
    {
     "name": "stdout",
     "output_type": "stream",
     "text": [
      "Дисперсия оценок жанра Action: 1.646213173866272\n",
      "Дисперсия оценок жанра Sports: 2.1316397190093994\n"
     ]
    }
   ],
   "source": [
    "alpha=.05 \n",
    "\n",
    "action = df_2013_2016_clean.query('(genre == \"Action\")')['user_score']\n",
    "sports = df_2013_2016_clean.query('(genre == \"Sports\")')['user_score']\n",
    "\n",
    "print('Дисперсия оценок жанра Action:', action.var(ddof=1)) # выведем дисперсию для распределений оценок XOne\n",
    "print('Дисперсия оценок жанра Sports:', sports.var(ddof=1)) # выведем дисперсию для распределений оценок PC"
   ]
  },
  {
   "cell_type": "markdown",
   "id": "5feb32bb",
   "metadata": {},
   "source": [
    "Используем метод `ttest_ind`"
   ]
  },
  {
   "cell_type": "code",
   "execution_count": 75,
   "id": "4b09ced2",
   "metadata": {},
   "outputs": [
    {
     "name": "stdout",
     "output_type": "stream",
     "text": [
      "p-значение: 1.0497443343960709e-13\n",
      "Отвергаем нулевую гипотезу\n"
     ]
    }
   ],
   "source": [
    "results = st.ttest_ind(\n",
    "    action,\n",
    "    sports,\n",
    "    equal_var=False) \n",
    "\n",
    "print('p-значение:', results.pvalue)\n",
    "\n",
    "if (results.pvalue < alpha):\n",
    "    print(\"Отвергаем нулевую гипотезу\")\n",
    "else:\n",
    "    print(\"Не получилось отвергнуть нулевую гипотезу\")"
   ]
  },
  {
   "cell_type": "markdown",
   "id": "e405f9b4",
   "metadata": {},
   "source": [
    "#### Вывод\n",
    "p-value гораздо меньше alpha, в связи с чем признаём нулевую гипотезу H0 мало вероятной. Полученные данные позволяют отвергнуть нулевую гипотезу в пользу альтернативной H1: \"средние пользовательские рейтинги жанров Action и Sports разные\"."
   ]
  },
  {
   "cell_type": "markdown",
   "id": "3a85c54b",
   "metadata": {},
   "source": [
    "## Общий вывод"
   ]
  },
  {
   "cell_type": "markdown",
   "id": "d993500b",
   "metadata": {},
   "source": [
    "* Объём рынка по продажам игр упал в 2012 году и держится на данном уровне.\n",
    "* Портативные приставки теряют свою популярность.\n",
    "* Больше всего люди покупают игры на консоли семейства Xbox или Playstation.\n",
    "* Популярность игр на PC невысокая.\n",
    "* В среднем поколение платформ живёт около 5-10 лет.\n",
    "* Пик продаж происходит на 4-5 год поколения.\n",
    "* Оценки пользователей никак не влияют на покупку игр, но вот мнение критиков имеет небольшой вес.\n",
    "* Людям неинтересны интеллектуальные игры, большинство людей предпочитает или экшн, или шутер.\n",
    "\n",
    "**Портреты каждого региона:**\n",
    "\n",
    "* США:\n",
    "\n",
    "Самые популярные игровые платформы в США (топ-5): PS4, XOne, X360, PS3, 3DS. \n",
    "Самые популярные жанры в США (топ - 5 по убыванию): Action, Shooter, Sports, Role-Playing, Misc.\n",
    "Самый предпочитаемый рейтинг в США по убыванию: игры от 17 лет, игры для всех, игры от 10 лет, игры от 13 лет.\n",
    "\n",
    "* Европа:\n",
    "\n",
    "Самые популярные игровые платформы Европе (топ-5): PS4, PS3, XOne, X360, 3DS.\n",
    "Самые популярные жанры в Европе (топ - 5 по убыванию): Action, Shooter, Sports, Role-Playing, Racing.\n",
    "Самый предпочитаемый рейтинг в Европе по убыванию: игры от 17 лет, игры для всех, игры от 10 лет, от 13 лет.\n",
    "\n",
    "* Япония:\n",
    "\n",
    "Самые популярные игровые платформы в Японии - японские платформы (топ-5): 3DS, PS3, PSV, PS4, WiiU.\n",
    "Самые популярные жанры в Японии (топ - 5 по убыванию): Role-Playing, Action, Misc, Fighting, Shooter.\n",
    "Самый предпочитаемый рейтинг в Японии по убыванию: игры от 13 лет, игры для всех, игры от 17 лет, игры от 10 лет.\n",
    "\n",
    "\n",
    "Проверены гипотезы:\n",
    "1. Полученные данные не противоречат гипотезе H0: \"Средние пользовательские рейтинги платформ Xbox One и PC одинаковые\".\n",
    "Изначальная гипотеза оказалась верна.\n",
    "2. Полученные данные позволяют отвергнуть нулевую гипотезу в пользу альтернативной H1: \"средние пользовательские рейтинги жанров Action и Sports разные\".\n",
    "\n",
    "**Для продвижения игр в 2017 году следует ориентироваться на:**\n",
    "* платформы PS4, XOne, 3DS, PC, WiiU\n",
    "* жанры Action, Shooter, Sports, Platform, Role-Playing\n",
    "* при создание игр сотрудничать с ведущими критиками\n",
    "\n",
    "\n",
    "\n"
   ]
  }
 ],
 "metadata": {
  "ExecuteTimeLog": [
   {
    "duration": 1236,
    "start_time": "2022-05-26T07:56:55.145Z"
   },
   {
    "duration": 113,
    "start_time": "2022-05-26T07:56:56.383Z"
   },
   {
    "duration": 13,
    "start_time": "2022-05-26T07:56:56.498Z"
   },
   {
    "duration": 15,
    "start_time": "2022-05-26T07:56:56.513Z"
   },
   {
    "duration": 13,
    "start_time": "2022-05-26T07:56:56.530Z"
   },
   {
    "duration": 7,
    "start_time": "2022-05-26T07:56:56.544Z"
   },
   {
    "duration": 16,
    "start_time": "2022-05-26T07:56:56.553Z"
   },
   {
    "duration": 8,
    "start_time": "2022-05-26T07:56:56.573Z"
   },
   {
    "duration": 10,
    "start_time": "2022-05-26T07:56:57.067Z"
   },
   {
    "duration": 5,
    "start_time": "2022-05-26T07:56:57.079Z"
   },
   {
    "duration": 9,
    "start_time": "2022-05-26T07:56:57.085Z"
   },
   {
    "duration": 6,
    "start_time": "2022-05-26T07:56:57.095Z"
   },
   {
    "duration": 8,
    "start_time": "2022-05-26T07:56:57.102Z"
   },
   {
    "duration": 7,
    "start_time": "2022-05-26T07:56:57.111Z"
   },
   {
    "duration": 24,
    "start_time": "2022-05-26T07:56:57.119Z"
   },
   {
    "duration": 13,
    "start_time": "2022-05-26T07:56:57.145Z"
   },
   {
    "duration": 12,
    "start_time": "2022-05-26T07:56:57.160Z"
   },
   {
    "duration": 6,
    "start_time": "2022-05-26T07:56:57.174Z"
   },
   {
    "duration": 5,
    "start_time": "2022-05-26T07:56:57.182Z"
   },
   {
    "duration": 19,
    "start_time": "2022-05-26T07:56:57.188Z"
   },
   {
    "duration": 20,
    "start_time": "2022-05-26T07:56:57.209Z"
   },
   {
    "duration": 29,
    "start_time": "2022-05-26T07:56:57.233Z"
   },
   {
    "duration": 490,
    "start_time": "2022-05-26T07:56:57.264Z"
   },
   {
    "duration": 5,
    "start_time": "2022-05-26T07:56:57.756Z"
   },
   {
    "duration": 6,
    "start_time": "2022-05-26T07:56:57.763Z"
   },
   {
    "duration": 7,
    "start_time": "2022-05-26T07:56:57.771Z"
   },
   {
    "duration": 11,
    "start_time": "2022-05-26T07:56:57.779Z"
   },
   {
    "duration": 615,
    "start_time": "2022-05-26T07:56:57.792Z"
   },
   {
    "duration": 4,
    "start_time": "2022-05-26T07:56:58.409Z"
   },
   {
    "duration": 33,
    "start_time": "2022-05-26T07:56:58.415Z"
   },
   {
    "duration": 417,
    "start_time": "2022-05-26T07:56:58.450Z"
   },
   {
    "duration": 56,
    "start_time": "2022-05-26T07:56:58.869Z"
   },
   {
    "duration": 22,
    "start_time": "2022-05-26T07:56:58.927Z"
   },
   {
    "duration": 76,
    "start_time": "2022-05-26T07:56:58.951Z"
   },
   {
    "duration": 13,
    "start_time": "2022-05-26T07:56:59.035Z"
   },
   {
    "duration": 26,
    "start_time": "2022-05-26T07:56:59.049Z"
   },
   {
    "duration": 1407,
    "start_time": "2022-05-26T07:56:59.124Z"
   },
   {
    "duration": 95,
    "start_time": "2022-05-26T07:57:00.534Z"
   },
   {
    "duration": 18,
    "start_time": "2022-05-26T07:57:00.631Z"
   },
   {
    "duration": 80,
    "start_time": "2022-05-26T07:57:00.651Z"
   },
   {
    "duration": 284,
    "start_time": "2022-05-26T07:57:00.733Z"
   },
   {
    "duration": 316,
    "start_time": "2022-05-26T07:57:01.019Z"
   },
   {
    "duration": 29,
    "start_time": "2022-05-26T07:57:01.338Z"
   },
   {
    "duration": 413,
    "start_time": "2022-05-26T07:57:01.369Z"
   },
   {
    "duration": 343,
    "start_time": "2022-05-26T07:57:01.784Z"
   },
   {
    "duration": 10,
    "start_time": "2022-05-26T07:57:02.129Z"
   },
   {
    "duration": 23,
    "start_time": "2022-05-26T07:57:02.142Z"
   },
   {
    "duration": 241,
    "start_time": "2022-05-26T07:57:02.167Z"
   },
   {
    "duration": 13,
    "start_time": "2022-05-26T07:57:02.410Z"
   },
   {
    "duration": 4,
    "start_time": "2022-05-26T07:57:02.425Z"
   },
   {
    "duration": 22,
    "start_time": "2022-05-26T07:57:02.431Z"
   },
   {
    "duration": 628,
    "start_time": "2022-05-26T07:57:02.455Z"
   },
   {
    "duration": 3,
    "start_time": "2022-05-26T07:57:03.085Z"
   },
   {
    "duration": 18,
    "start_time": "2022-05-26T07:57:03.090Z"
   },
   {
    "duration": 131,
    "start_time": "2022-05-26T07:57:03.110Z"
   },
   {
    "duration": 15,
    "start_time": "2022-05-26T07:57:03.243Z"
   },
   {
    "duration": 133,
    "start_time": "2022-05-26T07:57:03.260Z"
   },
   {
    "duration": 16,
    "start_time": "2022-05-26T07:57:03.395Z"
   },
   {
    "duration": 147,
    "start_time": "2022-05-26T07:57:03.424Z"
   },
   {
    "duration": 19,
    "start_time": "2022-05-26T07:57:03.573Z"
   },
   {
    "duration": 153,
    "start_time": "2022-05-26T07:57:03.595Z"
   },
   {
    "duration": 15,
    "start_time": "2022-05-26T07:57:03.750Z"
   },
   {
    "duration": 129,
    "start_time": "2022-05-26T07:57:03.767Z"
   },
   {
    "duration": 15,
    "start_time": "2022-05-26T07:57:03.897Z"
   },
   {
    "duration": 248,
    "start_time": "2022-05-26T07:57:03.914Z"
   },
   {
    "duration": 17,
    "start_time": "2022-05-26T07:57:04.164Z"
   },
   {
    "duration": 137,
    "start_time": "2022-05-26T07:57:04.182Z"
   },
   {
    "duration": 23,
    "start_time": "2022-05-26T07:57:04.323Z"
   },
   {
    "duration": 124,
    "start_time": "2022-05-26T07:57:04.347Z"
   },
   {
    "duration": 15,
    "start_time": "2022-05-26T07:57:04.472Z"
   },
   {
    "duration": 157,
    "start_time": "2022-05-26T07:57:04.489Z"
   },
   {
    "duration": 8,
    "start_time": "2022-05-26T07:57:04.648Z"
   },
   {
    "duration": 12,
    "start_time": "2022-05-26T07:57:04.658Z"
   },
   {
    "duration": 6,
    "start_time": "2022-05-26T07:57:04.671Z"
   },
   {
    "duration": 9,
    "start_time": "2022-05-26T07:57:04.679Z"
   },
   {
    "duration": 34,
    "start_time": "2022-05-26T07:57:04.689Z"
   },
   {
    "duration": 10,
    "start_time": "2022-05-26T07:57:21.476Z"
   },
   {
    "duration": 243,
    "start_time": "2022-05-26T08:10:42.717Z"
   },
   {
    "duration": 245,
    "start_time": "2022-05-26T08:14:10.752Z"
   },
   {
    "duration": 34,
    "start_time": "2022-05-26T08:17:55.804Z"
   },
   {
    "duration": 36,
    "start_time": "2022-05-26T08:27:20.168Z"
   },
   {
    "duration": 1310,
    "start_time": "2022-05-26T08:42:22.459Z"
   },
   {
    "duration": 81,
    "start_time": "2022-05-26T08:42:23.771Z"
   },
   {
    "duration": 15,
    "start_time": "2022-05-26T08:42:23.854Z"
   },
   {
    "duration": 15,
    "start_time": "2022-05-26T08:42:23.871Z"
   },
   {
    "duration": 5,
    "start_time": "2022-05-26T08:42:23.888Z"
   },
   {
    "duration": 9,
    "start_time": "2022-05-26T08:42:23.895Z"
   },
   {
    "duration": 49,
    "start_time": "2022-05-26T08:42:23.906Z"
   },
   {
    "duration": 12,
    "start_time": "2022-05-26T08:42:23.958Z"
   },
   {
    "duration": 14,
    "start_time": "2022-05-26T08:42:23.972Z"
   },
   {
    "duration": 7,
    "start_time": "2022-05-26T08:42:23.989Z"
   },
   {
    "duration": 26,
    "start_time": "2022-05-26T08:42:23.998Z"
   },
   {
    "duration": 8,
    "start_time": "2022-05-26T08:42:24.025Z"
   },
   {
    "duration": 30,
    "start_time": "2022-05-26T08:42:24.035Z"
   },
   {
    "duration": 12,
    "start_time": "2022-05-26T08:42:24.066Z"
   },
   {
    "duration": 16,
    "start_time": "2022-05-26T08:42:24.079Z"
   },
   {
    "duration": 15,
    "start_time": "2022-05-26T08:42:24.096Z"
   },
   {
    "duration": 14,
    "start_time": "2022-05-26T08:42:24.112Z"
   },
   {
    "duration": 26,
    "start_time": "2022-05-26T08:42:24.128Z"
   },
   {
    "duration": 8,
    "start_time": "2022-05-26T08:42:24.156Z"
   },
   {
    "duration": 17,
    "start_time": "2022-05-26T08:42:24.165Z"
   },
   {
    "duration": 5,
    "start_time": "2022-05-26T08:42:24.184Z"
   },
   {
    "duration": 21,
    "start_time": "2022-05-26T08:42:24.191Z"
   },
   {
    "duration": 488,
    "start_time": "2022-05-26T08:42:24.222Z"
   },
   {
    "duration": 5,
    "start_time": "2022-05-26T08:42:24.712Z"
   },
   {
    "duration": 9,
    "start_time": "2022-05-26T08:42:24.727Z"
   },
   {
    "duration": 27,
    "start_time": "2022-05-26T08:42:24.738Z"
   },
   {
    "duration": 24,
    "start_time": "2022-05-26T08:42:24.766Z"
   },
   {
    "duration": 612,
    "start_time": "2022-05-26T08:42:24.795Z"
   },
   {
    "duration": 5,
    "start_time": "2022-05-26T08:42:25.409Z"
   },
   {
    "duration": 55,
    "start_time": "2022-05-26T08:42:25.415Z"
   },
   {
    "duration": 391,
    "start_time": "2022-05-26T08:42:25.472Z"
   },
   {
    "duration": 3,
    "start_time": "2022-05-26T08:42:25.865Z"
   },
   {
    "duration": 17,
    "start_time": "2022-05-26T08:42:25.869Z"
   },
   {
    "duration": 38,
    "start_time": "2022-05-26T08:42:25.888Z"
   },
   {
    "duration": 8,
    "start_time": "2022-05-26T08:42:25.929Z"
   },
   {
    "duration": 47,
    "start_time": "2022-05-26T08:42:25.942Z"
   },
   {
    "duration": 688,
    "start_time": "2022-05-26T08:42:25.990Z"
   },
   {
    "duration": 44,
    "start_time": "2022-05-26T08:42:26.680Z"
   },
   {
    "duration": 22,
    "start_time": "2022-05-26T08:42:26.726Z"
   },
   {
    "duration": 41,
    "start_time": "2022-05-26T08:42:26.751Z"
   },
   {
    "duration": 337,
    "start_time": "2022-05-26T08:42:26.794Z"
   },
   {
    "duration": 327,
    "start_time": "2022-05-26T08:42:27.133Z"
   },
   {
    "duration": 31,
    "start_time": "2022-05-26T08:42:27.461Z"
   },
   {
    "duration": 461,
    "start_time": "2022-05-26T08:42:27.493Z"
   },
   {
    "duration": 311,
    "start_time": "2022-05-26T08:42:27.956Z"
   },
   {
    "duration": 9,
    "start_time": "2022-05-26T08:42:28.268Z"
   },
   {
    "duration": 18,
    "start_time": "2022-05-26T08:42:28.279Z"
   },
   {
    "duration": 306,
    "start_time": "2022-05-26T08:42:28.299Z"
   },
   {
    "duration": 9,
    "start_time": "2022-05-26T08:42:28.608Z"
   },
   {
    "duration": 26,
    "start_time": "2022-05-26T08:42:28.620Z"
   },
   {
    "duration": 17,
    "start_time": "2022-05-26T08:42:28.649Z"
   },
   {
    "duration": 646,
    "start_time": "2022-05-26T08:42:28.668Z"
   },
   {
    "duration": 12,
    "start_time": "2022-05-26T08:42:29.315Z"
   },
   {
    "duration": 54,
    "start_time": "2022-05-26T08:42:29.329Z"
   },
   {
    "duration": 129,
    "start_time": "2022-05-26T08:42:29.385Z"
   },
   {
    "duration": 23,
    "start_time": "2022-05-26T08:42:29.516Z"
   },
   {
    "duration": 151,
    "start_time": "2022-05-26T08:42:29.540Z"
   },
   {
    "duration": 16,
    "start_time": "2022-05-26T08:42:29.692Z"
   },
   {
    "duration": 157,
    "start_time": "2022-05-26T08:42:29.709Z"
   },
   {
    "duration": 23,
    "start_time": "2022-05-26T08:42:29.868Z"
   },
   {
    "duration": 194,
    "start_time": "2022-05-26T08:42:29.892Z"
   },
   {
    "duration": 15,
    "start_time": "2022-05-26T08:42:30.088Z"
   },
   {
    "duration": 151,
    "start_time": "2022-05-26T08:42:30.105Z"
   },
   {
    "duration": 19,
    "start_time": "2022-05-26T08:42:30.258Z"
   },
   {
    "duration": 287,
    "start_time": "2022-05-26T08:42:30.278Z"
   },
   {
    "duration": 18,
    "start_time": "2022-05-26T08:42:30.567Z"
   },
   {
    "duration": 140,
    "start_time": "2022-05-26T08:42:30.586Z"
   },
   {
    "duration": 29,
    "start_time": "2022-05-26T08:42:30.728Z"
   },
   {
    "duration": 157,
    "start_time": "2022-05-26T08:42:30.763Z"
   },
   {
    "duration": 35,
    "start_time": "2022-05-26T08:42:30.922Z"
   },
   {
    "duration": 148,
    "start_time": "2022-05-26T08:42:30.959Z"
   },
   {
    "duration": 17,
    "start_time": "2022-05-26T08:42:31.110Z"
   },
   {
    "duration": 47,
    "start_time": "2022-05-26T08:42:31.129Z"
   },
   {
    "duration": 10,
    "start_time": "2022-05-26T08:42:31.178Z"
   },
   {
    "duration": 13,
    "start_time": "2022-05-26T08:42:31.190Z"
   },
   {
    "duration": 15,
    "start_time": "2022-05-26T08:42:31.205Z"
   },
   {
    "duration": 1924,
    "start_time": "2022-05-29T13:25:30.418Z"
   },
   {
    "duration": 135,
    "start_time": "2022-05-29T13:25:32.343Z"
   },
   {
    "duration": 18,
    "start_time": "2022-05-29T13:25:32.480Z"
   },
   {
    "duration": 19,
    "start_time": "2022-05-29T13:25:32.503Z"
   },
   {
    "duration": 14,
    "start_time": "2022-05-29T13:25:32.523Z"
   },
   {
    "duration": 17,
    "start_time": "2022-05-29T13:25:32.539Z"
   },
   {
    "duration": 41,
    "start_time": "2022-05-29T13:25:32.558Z"
   },
   {
    "duration": 11,
    "start_time": "2022-05-29T13:25:32.601Z"
   },
   {
    "duration": 12,
    "start_time": "2022-05-29T13:25:32.614Z"
   },
   {
    "duration": 17,
    "start_time": "2022-05-29T13:25:32.629Z"
   },
   {
    "duration": 7,
    "start_time": "2022-05-29T13:25:32.648Z"
   },
   {
    "duration": 16,
    "start_time": "2022-05-29T13:25:32.657Z"
   },
   {
    "duration": 23,
    "start_time": "2022-05-29T13:25:32.676Z"
   },
   {
    "duration": 18,
    "start_time": "2022-05-29T13:25:32.702Z"
   },
   {
    "duration": 8,
    "start_time": "2022-05-29T13:25:32.722Z"
   },
   {
    "duration": 15,
    "start_time": "2022-05-29T13:25:32.731Z"
   },
   {
    "duration": 15,
    "start_time": "2022-05-29T13:25:32.748Z"
   },
   {
    "duration": 20,
    "start_time": "2022-05-29T13:25:32.765Z"
   },
   {
    "duration": 10,
    "start_time": "2022-05-29T13:25:32.787Z"
   },
   {
    "duration": 16,
    "start_time": "2022-05-29T13:25:32.799Z"
   },
   {
    "duration": 13,
    "start_time": "2022-05-29T13:25:32.817Z"
   },
   {
    "duration": 20,
    "start_time": "2022-05-29T13:25:32.832Z"
   },
   {
    "duration": 42,
    "start_time": "2022-05-29T13:25:32.854Z"
   },
   {
    "duration": 454,
    "start_time": "2022-05-29T13:25:32.898Z"
   },
   {
    "duration": 5,
    "start_time": "2022-05-29T13:25:33.354Z"
   },
   {
    "duration": 30,
    "start_time": "2022-05-29T13:25:33.362Z"
   },
   {
    "duration": 13,
    "start_time": "2022-05-29T13:25:33.394Z"
   },
   {
    "duration": 574,
    "start_time": "2022-05-29T13:25:33.414Z"
   },
   {
    "duration": 7,
    "start_time": "2022-05-29T13:25:33.990Z"
   },
   {
    "duration": 29,
    "start_time": "2022-05-29T13:25:33.999Z"
   },
   {
    "duration": 371,
    "start_time": "2022-05-29T13:25:34.030Z"
   },
   {
    "duration": 3,
    "start_time": "2022-05-29T13:25:34.402Z"
   },
   {
    "duration": 12,
    "start_time": "2022-05-29T13:25:34.407Z"
   },
   {
    "duration": 26,
    "start_time": "2022-05-29T13:25:34.420Z"
   },
   {
    "duration": 6,
    "start_time": "2022-05-29T13:25:34.452Z"
   },
   {
    "duration": 30,
    "start_time": "2022-05-29T13:25:34.460Z"
   },
   {
    "duration": 603,
    "start_time": "2022-05-29T13:25:34.492Z"
   },
   {
    "duration": 43,
    "start_time": "2022-05-29T13:25:35.097Z"
   },
   {
    "duration": 33,
    "start_time": "2022-05-29T13:25:35.142Z"
   },
   {
    "duration": 46,
    "start_time": "2022-05-29T13:25:35.177Z"
   },
   {
    "duration": 443,
    "start_time": "2022-05-29T13:25:35.225Z"
   },
   {
    "duration": 360,
    "start_time": "2022-05-29T13:25:35.670Z"
   },
   {
    "duration": 450,
    "start_time": "2022-05-29T13:25:36.031Z"
   },
   {
    "duration": 42,
    "start_time": "2022-05-29T13:25:36.483Z"
   },
   {
    "duration": 295,
    "start_time": "2022-05-29T13:25:36.526Z"
   },
   {
    "duration": 332,
    "start_time": "2022-05-29T13:25:36.823Z"
   },
   {
    "duration": 23,
    "start_time": "2022-05-29T13:25:37.157Z"
   },
   {
    "duration": 7,
    "start_time": "2022-05-29T13:25:37.181Z"
   },
   {
    "duration": 12,
    "start_time": "2022-05-29T13:25:37.190Z"
   },
   {
    "duration": 268,
    "start_time": "2022-05-29T13:25:37.203Z"
   },
   {
    "duration": 9,
    "start_time": "2022-05-29T13:25:37.473Z"
   },
   {
    "duration": 8,
    "start_time": "2022-05-29T13:25:37.484Z"
   },
   {
    "duration": 4,
    "start_time": "2022-05-29T13:25:37.493Z"
   },
   {
    "duration": 6,
    "start_time": "2022-05-29T13:25:37.499Z"
   },
   {
    "duration": 565,
    "start_time": "2022-05-29T13:25:37.507Z"
   },
   {
    "duration": 4,
    "start_time": "2022-05-29T13:25:38.075Z"
   },
   {
    "duration": 22,
    "start_time": "2022-05-29T13:25:38.081Z"
   },
   {
    "duration": 132,
    "start_time": "2022-05-29T13:25:38.104Z"
   },
   {
    "duration": 28,
    "start_time": "2022-05-29T13:25:38.237Z"
   },
   {
    "duration": 123,
    "start_time": "2022-05-29T13:25:38.271Z"
   },
   {
    "duration": 17,
    "start_time": "2022-05-29T13:25:38.396Z"
   },
   {
    "duration": 155,
    "start_time": "2022-05-29T13:25:38.415Z"
   },
   {
    "duration": 22,
    "start_time": "2022-05-29T13:25:38.572Z"
   },
   {
    "duration": 168,
    "start_time": "2022-05-29T13:25:38.596Z"
   },
   {
    "duration": 22,
    "start_time": "2022-05-29T13:25:38.766Z"
   },
   {
    "duration": 256,
    "start_time": "2022-05-29T13:25:38.789Z"
   },
   {
    "duration": 21,
    "start_time": "2022-05-29T13:25:39.047Z"
   },
   {
    "duration": 138,
    "start_time": "2022-05-29T13:25:39.071Z"
   },
   {
    "duration": 15,
    "start_time": "2022-05-29T13:25:39.210Z"
   },
   {
    "duration": 129,
    "start_time": "2022-05-29T13:25:39.227Z"
   },
   {
    "duration": 20,
    "start_time": "2022-05-29T13:25:39.358Z"
   },
   {
    "duration": 173,
    "start_time": "2022-05-29T13:25:39.381Z"
   },
   {
    "duration": 21,
    "start_time": "2022-05-29T13:25:39.557Z"
   },
   {
    "duration": 155,
    "start_time": "2022-05-29T13:25:39.580Z"
   },
   {
    "duration": 20,
    "start_time": "2022-05-29T13:25:39.737Z"
   },
   {
    "duration": 19,
    "start_time": "2022-05-29T13:25:39.759Z"
   },
   {
    "duration": 10,
    "start_time": "2022-05-29T13:25:39.783Z"
   },
   {
    "duration": 17,
    "start_time": "2022-05-29T13:25:39.795Z"
   },
   {
    "duration": 6,
    "start_time": "2022-05-29T13:25:39.815Z"
   }
  ],
  "kernelspec": {
   "display_name": "Python 3 (ipykernel)",
   "language": "python",
   "name": "python3"
  },
  "language_info": {
   "codemirror_mode": {
    "name": "ipython",
    "version": 3
   },
   "file_extension": ".py",
   "mimetype": "text/x-python",
   "name": "python",
   "nbconvert_exporter": "python",
   "pygments_lexer": "ipython3",
   "version": "3.9.7"
  },
  "toc": {
   "base_numbering": 1,
   "nav_menu": {},
   "number_sections": true,
   "sideBar": true,
   "skip_h1_title": true,
   "title_cell": "Содержание",
   "title_sidebar": "Contents",
   "toc_cell": true,
   "toc_position": {
    "height": "calc(100% - 180px)",
    "left": "10px",
    "top": "150px",
    "width": "303.792px"
   },
   "toc_section_display": true,
   "toc_window_display": true
  }
 },
 "nbformat": 4,
 "nbformat_minor": 5
}
