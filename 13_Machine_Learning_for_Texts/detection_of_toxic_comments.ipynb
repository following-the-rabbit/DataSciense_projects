{
 "cells": [
  {
   "cell_type": "markdown",
   "metadata": {
    "toc": true
   },
   "source": [
    "<h1>Содержание<span class=\"tocSkip\"></span></h1>\n",
    "<div class=\"toc\"><ul class=\"toc-item\"><li><span><a href=\"#Подготовка\" data-toc-modified-id=\"Подготовка-1\"><span class=\"toc-item-num\">1&nbsp;&nbsp;</span>Подготовка</a></span><ul class=\"toc-item\"><li><span><a href=\"#Изучение-данных\" data-toc-modified-id=\"Изучение-данных-1.1\"><span class=\"toc-item-num\">1.1&nbsp;&nbsp;</span>Изучение данных</a></span></li></ul></li><li><span><a href=\"#Обучение\" data-toc-modified-id=\"Обучение-2\"><span class=\"toc-item-num\">2&nbsp;&nbsp;</span>Обучение</a></span><ul class=\"toc-item\"><li><span><a href=\"#Logistic-Regression\" data-toc-modified-id=\"Logistic-Regression-2.1\"><span class=\"toc-item-num\">2.1&nbsp;&nbsp;</span>Logistic Regression</a></span></li><li><span><a href=\"#NB-SVM\" data-toc-modified-id=\"NB-SVM-2.2\"><span class=\"toc-item-num\">2.2&nbsp;&nbsp;</span>NB-SVM</a></span></li><li><span><a href=\"#LinearSVC\" data-toc-modified-id=\"LinearSVC-2.3\"><span class=\"toc-item-num\">2.3&nbsp;&nbsp;</span>LinearSVC</a></span></li></ul></li><li><span><a href=\"#Выводы\" data-toc-modified-id=\"Выводы-3\"><span class=\"toc-item-num\">3&nbsp;&nbsp;</span>Выводы</a></span></li><li><span><a href=\"#Чек-лист-проверки\" data-toc-modified-id=\"Чек-лист-проверки-4\"><span class=\"toc-item-num\">4&nbsp;&nbsp;</span>Чек-лист проверки</a></span></li></ul></div>"
   ]
  },
  {
   "cell_type": "markdown",
   "metadata": {},
   "source": [
    "# Машинное обучение для текстов\n",
    "# Проект \"Поиск токсичных комментариев\"\n",
    "# Описание проекта"
   ]
  },
  {
   "cell_type": "markdown",
   "metadata": {},
   "source": [
    "Интернет-магазин «Викишоп» запускает новый сервис. Теперь пользователи могут редактировать и дополнять описания товаров, как в вики-сообществах. То есть клиенты предлагают свои правки и комментируют изменения других. Магазину нужен инструмент, который будет искать токсичные комментарии и отправлять их на модерацию. \n",
    "\n",
    "**Цели проекта**: \n",
    " - Обучить модель классифицировать комментарии на позитивные и негативные. В распоряжении набор данных с разметкой о токсичности правок.\n",
    " - Построить модель со значением метрики качества *F1* не меньше 0.75. \n",
    "\n",
    "**Инструкция по выполнению проекта**\n",
    "\n",
    "1. Загрузить и подготовьте данные.\n",
    "2. Обучить разные модели. \n",
    "3. Сформулировать выводы."
   ]
  },
  {
   "cell_type": "markdown",
   "metadata": {},
   "source": [
    "## Подготовка\n",
    "### Изучение данных\n",
    "Импортируем необходимые инструменты."
   ]
  },
  {
   "cell_type": "code",
   "execution_count": 1,
   "metadata": {},
   "outputs": [
    {
     "name": "stderr",
     "output_type": "stream",
     "text": [
      "[nltk_data] Downloading package wordnet to\n",
      "[nltk_data]     C:\\Users\\Mitman\\AppData\\Roaming\\nltk_data...\n",
      "[nltk_data]   Package wordnet is already up-to-date!\n",
      "[nltk_data] Downloading package stopwords to\n",
      "[nltk_data]     C:\\Users\\Mitman\\AppData\\Roaming\\nltk_data...\n",
      "[nltk_data]   Package stopwords is already up-to-date!\n"
     ]
    }
   ],
   "source": [
    "import pandas as pd\n",
    "import numpy as np\n",
    "import nltk\n",
    "from nltk.corpus import stopwords as nltk_stopwords\n",
    "from nltk.stem import WordNetLemmatizer\n",
    "nltk.download('wordnet')\n",
    "nltk.download('stopwords')\n",
    "import re\n",
    "from sklearn.model_selection import train_test_split, GridSearchCV\n",
    "from sklearn.feature_extraction.text import TfidfVectorizer\n",
    "from sklearn.metrics import f1_score, accuracy_score\n",
    "from sklearn.linear_model import LogisticRegression\n",
    "from sklearn.svm import LinearSVC"
   ]
  },
  {
   "cell_type": "markdown",
   "metadata": {},
   "source": [
    "Загрузим данные."
   ]
  },
  {
   "cell_type": "code",
   "execution_count": 2,
   "metadata": {},
   "outputs": [],
   "source": [
    "try:    \n",
    "    df = pd.read_csv('D:/notebook/project_13/toxic_comments.csv') \n",
    "except:     \n",
    "    df = pd.read_csv('/datasets/toxic_comments.csv')"
   ]
  },
  {
   "cell_type": "markdown",
   "metadata": {},
   "source": [
    "# Описание данных"
   ]
  },
  {
   "cell_type": "code",
   "execution_count": 3,
   "metadata": {
    "scrolled": false
   },
   "outputs": [
    {
     "data": {
      "text/html": [
       "<div>\n",
       "<style scoped>\n",
       "    .dataframe tbody tr th:only-of-type {\n",
       "        vertical-align: middle;\n",
       "    }\n",
       "\n",
       "    .dataframe tbody tr th {\n",
       "        vertical-align: top;\n",
       "    }\n",
       "\n",
       "    .dataframe thead th {\n",
       "        text-align: right;\n",
       "    }\n",
       "</style>\n",
       "<table border=\"1\" class=\"dataframe\">\n",
       "  <thead>\n",
       "    <tr style=\"text-align: right;\">\n",
       "      <th></th>\n",
       "      <th>Unnamed: 0</th>\n",
       "      <th>text</th>\n",
       "      <th>toxic</th>\n",
       "    </tr>\n",
       "  </thead>\n",
       "  <tbody>\n",
       "    <tr>\n",
       "      <th>0</th>\n",
       "      <td>0</td>\n",
       "      <td>Explanation\\nWhy the edits made under my usern...</td>\n",
       "      <td>0</td>\n",
       "    </tr>\n",
       "    <tr>\n",
       "      <th>1</th>\n",
       "      <td>1</td>\n",
       "      <td>D'aww! He matches this background colour I'm s...</td>\n",
       "      <td>0</td>\n",
       "    </tr>\n",
       "    <tr>\n",
       "      <th>2</th>\n",
       "      <td>2</td>\n",
       "      <td>Hey man, I'm really not trying to edit war. It...</td>\n",
       "      <td>0</td>\n",
       "    </tr>\n",
       "    <tr>\n",
       "      <th>3</th>\n",
       "      <td>3</td>\n",
       "      <td>\"\\nMore\\nI can't make any real suggestions on ...</td>\n",
       "      <td>0</td>\n",
       "    </tr>\n",
       "    <tr>\n",
       "      <th>4</th>\n",
       "      <td>4</td>\n",
       "      <td>You, sir, are my hero. Any chance you remember...</td>\n",
       "      <td>0</td>\n",
       "    </tr>\n",
       "  </tbody>\n",
       "</table>\n",
       "</div>"
      ],
      "text/plain": [
       "   Unnamed: 0                                               text  toxic\n",
       "0           0  Explanation\\nWhy the edits made under my usern...      0\n",
       "1           1  D'aww! He matches this background colour I'm s...      0\n",
       "2           2  Hey man, I'm really not trying to edit war. It...      0\n",
       "3           3  \"\\nMore\\nI can't make any real suggestions on ...      0\n",
       "4           4  You, sir, are my hero. Any chance you remember...      0"
      ]
     },
     "execution_count": 3,
     "metadata": {},
     "output_type": "execute_result"
    }
   ],
   "source": [
    "df.head()"
   ]
  },
  {
   "cell_type": "code",
   "execution_count": 4,
   "metadata": {},
   "outputs": [],
   "source": [
    "df = df.loc[:, ~df.columns.str.contains('^Unnamed')] # удалим безымянный столбец "
   ]
  },
  {
   "cell_type": "code",
   "execution_count": 5,
   "metadata": {},
   "outputs": [
    {
     "data": {
      "text/html": [
       "<div>\n",
       "<style scoped>\n",
       "    .dataframe tbody tr th:only-of-type {\n",
       "        vertical-align: middle;\n",
       "    }\n",
       "\n",
       "    .dataframe tbody tr th {\n",
       "        vertical-align: top;\n",
       "    }\n",
       "\n",
       "    .dataframe thead th {\n",
       "        text-align: right;\n",
       "    }\n",
       "</style>\n",
       "<table border=\"1\" class=\"dataframe\">\n",
       "  <thead>\n",
       "    <tr style=\"text-align: right;\">\n",
       "      <th></th>\n",
       "      <th>text</th>\n",
       "      <th>toxic</th>\n",
       "    </tr>\n",
       "  </thead>\n",
       "  <tbody>\n",
       "    <tr>\n",
       "      <th>0</th>\n",
       "      <td>Explanation\\nWhy the edits made under my usern...</td>\n",
       "      <td>0</td>\n",
       "    </tr>\n",
       "    <tr>\n",
       "      <th>1</th>\n",
       "      <td>D'aww! He matches this background colour I'm s...</td>\n",
       "      <td>0</td>\n",
       "    </tr>\n",
       "    <tr>\n",
       "      <th>2</th>\n",
       "      <td>Hey man, I'm really not trying to edit war. It...</td>\n",
       "      <td>0</td>\n",
       "    </tr>\n",
       "    <tr>\n",
       "      <th>3</th>\n",
       "      <td>\"\\nMore\\nI can't make any real suggestions on ...</td>\n",
       "      <td>0</td>\n",
       "    </tr>\n",
       "    <tr>\n",
       "      <th>4</th>\n",
       "      <td>You, sir, are my hero. Any chance you remember...</td>\n",
       "      <td>0</td>\n",
       "    </tr>\n",
       "  </tbody>\n",
       "</table>\n",
       "</div>"
      ],
      "text/plain": [
       "                                                text  toxic\n",
       "0  Explanation\\nWhy the edits made under my usern...      0\n",
       "1  D'aww! He matches this background colour I'm s...      0\n",
       "2  Hey man, I'm really not trying to edit war. It...      0\n",
       "3  \"\\nMore\\nI can't make any real suggestions on ...      0\n",
       "4  You, sir, are my hero. Any chance you remember...      0"
      ]
     },
     "execution_count": 5,
     "metadata": {},
     "output_type": "execute_result"
    }
   ],
   "source": [
    "df.head()"
   ]
  },
  {
   "cell_type": "markdown",
   "metadata": {},
   "source": [
    "Проверим информацию о датафрейме."
   ]
  },
  {
   "cell_type": "code",
   "execution_count": 6,
   "metadata": {
    "scrolled": true
   },
   "outputs": [
    {
     "name": "stdout",
     "output_type": "stream",
     "text": [
      "<class 'pandas.core.frame.DataFrame'>\n",
      "RangeIndex: 159292 entries, 0 to 159291\n",
      "Data columns (total 2 columns):\n",
      " #   Column  Non-Null Count   Dtype \n",
      "---  ------  --------------   ----- \n",
      " 0   text    159292 non-null  object\n",
      " 1   toxic   159292 non-null  int64 \n",
      "dtypes: int64(1), object(1)\n",
      "memory usage: 2.4+ MB\n"
     ]
    }
   ],
   "source": [
    "df.info()"
   ]
  },
  {
   "cell_type": "markdown",
   "metadata": {},
   "source": [
    "В датафреме содержится `159292` строка и `2` столбца:\n",
    " - Столбец `text` - текст комментария, тип данных object\n",
    " - Столбец `toxic` - токсичность комментария (целевой признак), тип данных `int64`\n",
    " \n",
    "Преобразуем типы данных в столбце `'toxic'` для экономии места."
   ]
  },
  {
   "cell_type": "code",
   "execution_count": 7,
   "metadata": {
    "scrolled": true
   },
   "outputs": [
    {
     "name": "stdout",
     "output_type": "stream",
     "text": [
      "<class 'pandas.core.frame.DataFrame'>\n",
      "RangeIndex: 159292 entries, 0 to 159291\n",
      "Data columns (total 2 columns):\n",
      " #   Column  Non-Null Count   Dtype \n",
      "---  ------  --------------   ----- \n",
      " 0   text    159292 non-null  object\n",
      " 1   toxic   159292 non-null  int8  \n",
      "dtypes: int8(1), object(1)\n",
      "memory usage: 1.4+ MB\n"
     ]
    }
   ],
   "source": [
    "df.toxic = pd.to_numeric(df.toxic, downcast='integer')\n",
    "df.info()"
   ]
  },
  {
   "cell_type": "code",
   "execution_count": 8,
   "metadata": {},
   "outputs": [
    {
     "data": {
      "text/plain": [
       "0    143106\n",
       "1     16186\n",
       "Name: toxic, dtype: int64"
      ]
     },
     "execution_count": 8,
     "metadata": {},
     "output_type": "execute_result"
    }
   ],
   "source": [
    "df['toxic'].value_counts()"
   ]
  },
  {
   "cell_type": "markdown",
   "metadata": {},
   "source": [
    "Посмотрим долю токсичных к общему количеству комментариев."
   ]
  },
  {
   "cell_type": "code",
   "execution_count": 9,
   "metadata": {},
   "outputs": [
    {
     "data": {
      "text/plain": [
       "0.1"
      ]
     },
     "execution_count": 9,
     "metadata": {},
     "output_type": "execute_result"
    }
   ],
   "source": [
    "round(sum(df['toxic']) / len(df), 2)"
   ]
  },
  {
   "cell_type": "markdown",
   "metadata": {},
   "source": [
    "Подготовим данные для векторизации.\n",
    "- Проведём лемматизацию слов с помощью WordNetLemmatizer() из библиотеки `nltk`\n",
    "- Удалим пунктуацию и лишние пробелы\n",
    "- Удалим стоп-слова (пока загрузим список, удалять будем в процессе tf-idf векторизации)"
   ]
  },
  {
   "cell_type": "code",
   "execution_count": 10,
   "metadata": {},
   "outputs": [],
   "source": [
    "lemmatizer = WordNetLemmatizer()\n",
    "def lemmatize(text):\n",
    "    word_list = nltk.word_tokenize(text)\n",
    "    lemmatized_output = ' '.join([lemmatizer.lemmatize(w) for w in word_list])\n",
    "    return lemmatized_output"
   ]
  },
  {
   "cell_type": "code",
   "execution_count": 11,
   "metadata": {},
   "outputs": [],
   "source": [
    "def clear_text(text):\n",
    "    text = re.sub(r'[^a-zA-Z ]', ' ', text)\n",
    "    return \" \".join(text.split())"
   ]
  },
  {
   "cell_type": "code",
   "execution_count": 12,
   "metadata": {},
   "outputs": [],
   "source": [
    "corpus = df['text']"
   ]
  },
  {
   "cell_type": "code",
   "execution_count": 14,
   "metadata": {},
   "outputs": [
    {
     "name": "stdout",
     "output_type": "stream",
     "text": [
      "Wall time: 1min 10s\n"
     ]
    }
   ],
   "source": [
    "%%time\n",
    "corpus_lemm = [lemmatize(clear_text(corpus[i])) for i in range(len(corpus))]"
   ]
  },
  {
   "cell_type": "code",
   "execution_count": 16,
   "metadata": {},
   "outputs": [],
   "source": [
    "stopwords = set(nltk_stopwords.words('english'))"
   ]
  },
  {
   "cell_type": "markdown",
   "metadata": {},
   "source": [
    "Разобьем выборки на обучающую и тестовую."
   ]
  },
  {
   "cell_type": "code",
   "execution_count": 17,
   "metadata": {},
   "outputs": [],
   "source": [
    "X_train, X_test, y_train, y_test = train_test_split(corpus_lemm, df['toxic'], test_size=0.2, random_state=42)"
   ]
  },
  {
   "cell_type": "markdown",
   "metadata": {},
   "source": [
    "Посмотрим на размеры выборок."
   ]
  },
  {
   "cell_type": "code",
   "execution_count": 18,
   "metadata": {
    "scrolled": true
   },
   "outputs": [
    {
     "name": "stdout",
     "output_type": "stream",
     "text": [
      "Размер обучающего корпуса: 127433\n",
      "Размер тестового корпуса: 31859\n"
     ]
    }
   ],
   "source": [
    "print(f\"Размер обучающего корпуса: {len(X_train)}\")\n",
    "print(f\"Размер тестового корпуса: {len(X_test)}\")"
   ]
  },
  {
   "cell_type": "markdown",
   "metadata": {},
   "source": [
    "Выполним векторизацию корпусов с помощью TfidfVectorizer и удалим стоп-слова."
   ]
  },
  {
   "cell_type": "code",
   "execution_count": 19,
   "metadata": {},
   "outputs": [],
   "source": [
    "tf_idf_vec = TfidfVectorizer(ngram_range=(1,1), stop_words=stopwords,min_df=3, max_df=0.9,\n",
    "                             use_idf=1, smooth_idf=1, sublinear_tf=1 )"
   ]
  },
  {
   "cell_type": "markdown",
   "metadata": {},
   "source": [
    "Обучим модель без использования n-gramm"
   ]
  },
  {
   "cell_type": "code",
   "execution_count": 20,
   "metadata": {},
   "outputs": [],
   "source": [
    "X_train_vec = tf_idf_vec.fit_transform(X_train)"
   ]
  },
  {
   "cell_type": "code",
   "execution_count": 21,
   "metadata": {},
   "outputs": [],
   "source": [
    "X_test_vec = tf_idf_vec.transform(X_test)"
   ]
  },
  {
   "cell_type": "code",
   "execution_count": 22,
   "metadata": {},
   "outputs": [
    {
     "name": "stdout",
     "output_type": "stream",
     "text": [
      "Размер обучающего блока: (127433, 41662)\n",
      "Размер тестового блока: (31859, 41662)\n"
     ]
    }
   ],
   "source": [
    "print(f\"Размер обучающего блока: {X_train_vec.shape}\")\n",
    "print(f\"Размер тестового блока: {X_test_vec.shape}\")"
   ]
  },
  {
   "cell_type": "markdown",
   "metadata": {},
   "source": [
    "## Обучение\n",
    "\n",
    "Для константной модели найдём метрику accuracy. Предскажем все твиты нетоксичными ('toxic'=0)"
   ]
  },
  {
   "cell_type": "code",
   "execution_count": 23,
   "metadata": {
    "scrolled": true
   },
   "outputs": [
    {
     "name": "stdout",
     "output_type": "stream",
     "text": [
      "Accuracy константной модели 0.900\n"
     ]
    }
   ],
   "source": [
    "base_predicts = pd.Series(data=np.zeros((len(y_test))), index=y_test.index, dtype='int16')\n",
    "base_accuacy = accuracy_score(y_test, base_predicts)\n",
    "print(f\"Accuracy константной модели {base_accuacy:.3f}\")"
   ]
  },
  {
   "cell_type": "markdown",
   "metadata": {},
   "source": [
    "### Logistic Regression\n",
    "\n",
    "- Обучим модель логистической регрессии. \n",
    "- Обучение, подбор гиперпараметров, кросс-валидацию проведём с помощью `GridSearchCV`\n",
    "- Подбирать будем гиперпараметр регуляризации `С`"
   ]
  },
  {
   "cell_type": "code",
   "execution_count": 24,
   "metadata": {},
   "outputs": [
    {
     "name": "stdout",
     "output_type": "stream",
     "text": [
      "Fitting 5 folds for each of 11 candidates, totalling 55 fits\n",
      "Wall time: 1min 6s\n"
     ]
    },
    {
     "data": {
      "text/html": [
       "<style>#sk-container-id-1 {color: black;background-color: white;}#sk-container-id-1 pre{padding: 0;}#sk-container-id-1 div.sk-toggleable {background-color: white;}#sk-container-id-1 label.sk-toggleable__label {cursor: pointer;display: block;width: 100%;margin-bottom: 0;padding: 0.3em;box-sizing: border-box;text-align: center;}#sk-container-id-1 label.sk-toggleable__label-arrow:before {content: \"▸\";float: left;margin-right: 0.25em;color: #696969;}#sk-container-id-1 label.sk-toggleable__label-arrow:hover:before {color: black;}#sk-container-id-1 div.sk-estimator:hover label.sk-toggleable__label-arrow:before {color: black;}#sk-container-id-1 div.sk-toggleable__content {max-height: 0;max-width: 0;overflow: hidden;text-align: left;background-color: #f0f8ff;}#sk-container-id-1 div.sk-toggleable__content pre {margin: 0.2em;color: black;border-radius: 0.25em;background-color: #f0f8ff;}#sk-container-id-1 input.sk-toggleable__control:checked~div.sk-toggleable__content {max-height: 200px;max-width: 100%;overflow: auto;}#sk-container-id-1 input.sk-toggleable__control:checked~label.sk-toggleable__label-arrow:before {content: \"▾\";}#sk-container-id-1 div.sk-estimator input.sk-toggleable__control:checked~label.sk-toggleable__label {background-color: #d4ebff;}#sk-container-id-1 div.sk-label input.sk-toggleable__control:checked~label.sk-toggleable__label {background-color: #d4ebff;}#sk-container-id-1 input.sk-hidden--visually {border: 0;clip: rect(1px 1px 1px 1px);clip: rect(1px, 1px, 1px, 1px);height: 1px;margin: -1px;overflow: hidden;padding: 0;position: absolute;width: 1px;}#sk-container-id-1 div.sk-estimator {font-family: monospace;background-color: #f0f8ff;border: 1px dotted black;border-radius: 0.25em;box-sizing: border-box;margin-bottom: 0.5em;}#sk-container-id-1 div.sk-estimator:hover {background-color: #d4ebff;}#sk-container-id-1 div.sk-parallel-item::after {content: \"\";width: 100%;border-bottom: 1px solid gray;flex-grow: 1;}#sk-container-id-1 div.sk-label:hover label.sk-toggleable__label {background-color: #d4ebff;}#sk-container-id-1 div.sk-serial::before {content: \"\";position: absolute;border-left: 1px solid gray;box-sizing: border-box;top: 0;bottom: 0;left: 50%;z-index: 0;}#sk-container-id-1 div.sk-serial {display: flex;flex-direction: column;align-items: center;background-color: white;padding-right: 0.2em;padding-left: 0.2em;position: relative;}#sk-container-id-1 div.sk-item {position: relative;z-index: 1;}#sk-container-id-1 div.sk-parallel {display: flex;align-items: stretch;justify-content: center;background-color: white;position: relative;}#sk-container-id-1 div.sk-item::before, #sk-container-id-1 div.sk-parallel-item::before {content: \"\";position: absolute;border-left: 1px solid gray;box-sizing: border-box;top: 0;bottom: 0;left: 50%;z-index: -1;}#sk-container-id-1 div.sk-parallel-item {display: flex;flex-direction: column;z-index: 1;position: relative;background-color: white;}#sk-container-id-1 div.sk-parallel-item:first-child::after {align-self: flex-end;width: 50%;}#sk-container-id-1 div.sk-parallel-item:last-child::after {align-self: flex-start;width: 50%;}#sk-container-id-1 div.sk-parallel-item:only-child::after {width: 0;}#sk-container-id-1 div.sk-dashed-wrapped {border: 1px dashed gray;margin: 0 0.4em 0.5em 0.4em;box-sizing: border-box;padding-bottom: 0.4em;background-color: white;}#sk-container-id-1 div.sk-label label {font-family: monospace;font-weight: bold;display: inline-block;line-height: 1.2em;}#sk-container-id-1 div.sk-label-container {text-align: center;}#sk-container-id-1 div.sk-container {/* jupyter's `normalize.less` sets `[hidden] { display: none; }` but bootstrap.min.css set `[hidden] { display: none !important; }` so we also need the `!important` here to be able to override the default hidden behavior on the sphinx rendered scikit-learn.org. See: https://github.com/scikit-learn/scikit-learn/issues/21755 */display: inline-block !important;position: relative;}#sk-container-id-1 div.sk-text-repr-fallback {display: none;}</style><div id=\"sk-container-id-1\" class=\"sk-top-container\"><div class=\"sk-text-repr-fallback\"><pre>GridSearchCV(cv=5, estimator=LogisticRegression(), n_jobs=-1,\n",
       "             param_grid={&#x27;C&#x27;: array([10., 11., 12., 13., 14., 15., 16., 17., 18., 19., 20.]),\n",
       "                         &#x27;max_iter&#x27;: [1000]},\n",
       "             scoring=&#x27;f1&#x27;, verbose=2)</pre><b>In a Jupyter environment, please rerun this cell to show the HTML representation or trust the notebook. <br />On GitHub, the HTML representation is unable to render, please try loading this page with nbviewer.org.</b></div><div class=\"sk-container\" hidden><div class=\"sk-item sk-dashed-wrapped\"><div class=\"sk-label-container\"><div class=\"sk-label sk-toggleable\"><input class=\"sk-toggleable__control sk-hidden--visually\" id=\"sk-estimator-id-1\" type=\"checkbox\" ><label for=\"sk-estimator-id-1\" class=\"sk-toggleable__label sk-toggleable__label-arrow\">GridSearchCV</label><div class=\"sk-toggleable__content\"><pre>GridSearchCV(cv=5, estimator=LogisticRegression(), n_jobs=-1,\n",
       "             param_grid={&#x27;C&#x27;: array([10., 11., 12., 13., 14., 15., 16., 17., 18., 19., 20.]),\n",
       "                         &#x27;max_iter&#x27;: [1000]},\n",
       "             scoring=&#x27;f1&#x27;, verbose=2)</pre></div></div></div><div class=\"sk-parallel\"><div class=\"sk-parallel-item\"><div class=\"sk-item\"><div class=\"sk-label-container\"><div class=\"sk-label sk-toggleable\"><input class=\"sk-toggleable__control sk-hidden--visually\" id=\"sk-estimator-id-2\" type=\"checkbox\" ><label for=\"sk-estimator-id-2\" class=\"sk-toggleable__label sk-toggleable__label-arrow\">estimator: LogisticRegression</label><div class=\"sk-toggleable__content\"><pre>LogisticRegression()</pre></div></div></div><div class=\"sk-serial\"><div class=\"sk-item\"><div class=\"sk-estimator sk-toggleable\"><input class=\"sk-toggleable__control sk-hidden--visually\" id=\"sk-estimator-id-3\" type=\"checkbox\" ><label for=\"sk-estimator-id-3\" class=\"sk-toggleable__label sk-toggleable__label-arrow\">LogisticRegression</label><div class=\"sk-toggleable__content\"><pre>LogisticRegression()</pre></div></div></div></div></div></div></div></div></div></div>"
      ],
      "text/plain": [
       "GridSearchCV(cv=5, estimator=LogisticRegression(), n_jobs=-1,\n",
       "             param_grid={'C': array([10., 11., 12., 13., 14., 15., 16., 17., 18., 19., 20.]),\n",
       "                         'max_iter': [1000]},\n",
       "             scoring='f1', verbose=2)"
      ]
     },
     "execution_count": 24,
     "metadata": {},
     "output_type": "execute_result"
    }
   ],
   "source": [
    "%%time\n",
    "\n",
    "parameters = {'C': np.linspace(10, 20, num = 11, endpoint = True),\n",
    "             'max_iter': [1000]}\n",
    "lrm = LogisticRegression()\n",
    "clf = GridSearchCV(lrm, parameters,\n",
    "                  cv=5,\n",
    "                  scoring='f1',\n",
    "                  n_jobs=-1,\n",
    "                  verbose=2)\n",
    "clf.fit(X_train_vec, y_train)"
   ]
  },
  {
   "cell_type": "code",
   "execution_count": 25,
   "metadata": {},
   "outputs": [
    {
     "name": "stdout",
     "output_type": "stream",
     "text": [
      "Наилучший показатель f1 на кросс-валидации : 0.773\n",
      "Параметр регуляризации для лучшей модели: {'C': 12.0, 'max_iter': 1000}\n"
     ]
    }
   ],
   "source": [
    "print(f\"Наилучший показатель f1 на кросс-валидации : {clf.best_score_:.3f}\")\n",
    "print(f\"Параметр регуляризации для лучшей модели: {clf.best_params_}\")"
   ]
  },
  {
   "cell_type": "code",
   "execution_count": 26,
   "metadata": {},
   "outputs": [],
   "source": [
    "lrm = LogisticRegression(C=12, max_iter=1000)\n",
    "lrm.fit(X_train_vec, y_train)\n",
    "predict = lrm.predict(X_test_vec)\n",
    "f1_lr = f1_score(y_test, predict)"
   ]
  },
  {
   "cell_type": "code",
   "execution_count": 27,
   "metadata": {},
   "outputs": [
    {
     "name": "stdout",
     "output_type": "stream",
     "text": [
      "Показатель f1 на тестовой выборке: 0.775\n"
     ]
    }
   ],
   "source": [
    "print(f\"Показатель f1 на тестовой выборке: {f1_lr:.3f}\")"
   ]
  },
  {
   "cell_type": "markdown",
   "metadata": {},
   "source": [
    "Проверим модель на адекватность. Рассчитаем метрику accuracy и сравним её с константной моделью"
   ]
  },
  {
   "cell_type": "code",
   "execution_count": 28,
   "metadata": {},
   "outputs": [
    {
     "name": "stdout",
     "output_type": "stream",
     "text": [
      "Accuracy на логистической регрессии 0.960, больше, чем на константной модели\n"
     ]
    }
   ],
   "source": [
    "accuracy_lr = accuracy_score(y_test, predict)\n",
    "print(f\"Accuracy на логистической регрессии {accuracy_lr:.3f}, больше, чем на константной модели\")"
   ]
  },
  {
   "cell_type": "markdown",
   "metadata": {},
   "source": [
    "Показатель f1 на тестовой выборке удовлетворяет условию задачи."
   ]
  },
  {
   "cell_type": "markdown",
   "metadata": {},
   "source": [
    "### NB-SVM\n",
    "\n",
    "Попробуем модель `NBSVM` (Naive Bayes - Support Vector Machine). В данной задаче будем испльзовать модель `LinearRegression` с алгоритмом оптимизации `solver='liblinear', dual=True`. В таком случае эти модели ведут себя похожим образом."
   ]
  },
  {
   "cell_type": "code",
   "execution_count": 29,
   "metadata": {},
   "outputs": [],
   "source": [
    "def prob(x, y_i, y):\n",
    "    p = x[y==y_i].sum(axis=0)\n",
    "    return (p+1) / ((y==y_i).sum()+1)"
   ]
  },
  {
   "cell_type": "code",
   "execution_count": 30,
   "metadata": {},
   "outputs": [],
   "source": [
    "r = np.log(prob(X_train_vec, 1, y_train.values) / prob(X_train_vec, 0, y_train.values))\n",
    "X_train_nb = X_train_vec.multiply(r)\n",
    "X_test_nb = X_test_vec.multiply(r)"
   ]
  },
  {
   "cell_type": "code",
   "execution_count": 31,
   "metadata": {},
   "outputs": [],
   "source": [
    "parameters = {'C': np.linspace(1, 11, num = 11, endpoint = True)}\n",
    "nblrm = LogisticRegression(solver='liblinear', \n",
    "                           dual=True, \n",
    "                           max_iter = 1000)\n",
    "clf_nb = GridSearchCV(nblrm, parameters,\n",
    "                  cv=5,\n",
    "                  scoring='f1',\n",
    "                  n_jobs=-1,\n",
    "                  verbose=2)"
   ]
  },
  {
   "cell_type": "code",
   "execution_count": 32,
   "metadata": {
    "scrolled": true
   },
   "outputs": [
    {
     "name": "stdout",
     "output_type": "stream",
     "text": [
      "Fitting 5 folds for each of 11 candidates, totalling 55 fits\n"
     ]
    },
    {
     "data": {
      "text/html": [
       "<style>#sk-container-id-2 {color: black;background-color: white;}#sk-container-id-2 pre{padding: 0;}#sk-container-id-2 div.sk-toggleable {background-color: white;}#sk-container-id-2 label.sk-toggleable__label {cursor: pointer;display: block;width: 100%;margin-bottom: 0;padding: 0.3em;box-sizing: border-box;text-align: center;}#sk-container-id-2 label.sk-toggleable__label-arrow:before {content: \"▸\";float: left;margin-right: 0.25em;color: #696969;}#sk-container-id-2 label.sk-toggleable__label-arrow:hover:before {color: black;}#sk-container-id-2 div.sk-estimator:hover label.sk-toggleable__label-arrow:before {color: black;}#sk-container-id-2 div.sk-toggleable__content {max-height: 0;max-width: 0;overflow: hidden;text-align: left;background-color: #f0f8ff;}#sk-container-id-2 div.sk-toggleable__content pre {margin: 0.2em;color: black;border-radius: 0.25em;background-color: #f0f8ff;}#sk-container-id-2 input.sk-toggleable__control:checked~div.sk-toggleable__content {max-height: 200px;max-width: 100%;overflow: auto;}#sk-container-id-2 input.sk-toggleable__control:checked~label.sk-toggleable__label-arrow:before {content: \"▾\";}#sk-container-id-2 div.sk-estimator input.sk-toggleable__control:checked~label.sk-toggleable__label {background-color: #d4ebff;}#sk-container-id-2 div.sk-label input.sk-toggleable__control:checked~label.sk-toggleable__label {background-color: #d4ebff;}#sk-container-id-2 input.sk-hidden--visually {border: 0;clip: rect(1px 1px 1px 1px);clip: rect(1px, 1px, 1px, 1px);height: 1px;margin: -1px;overflow: hidden;padding: 0;position: absolute;width: 1px;}#sk-container-id-2 div.sk-estimator {font-family: monospace;background-color: #f0f8ff;border: 1px dotted black;border-radius: 0.25em;box-sizing: border-box;margin-bottom: 0.5em;}#sk-container-id-2 div.sk-estimator:hover {background-color: #d4ebff;}#sk-container-id-2 div.sk-parallel-item::after {content: \"\";width: 100%;border-bottom: 1px solid gray;flex-grow: 1;}#sk-container-id-2 div.sk-label:hover label.sk-toggleable__label {background-color: #d4ebff;}#sk-container-id-2 div.sk-serial::before {content: \"\";position: absolute;border-left: 1px solid gray;box-sizing: border-box;top: 0;bottom: 0;left: 50%;z-index: 0;}#sk-container-id-2 div.sk-serial {display: flex;flex-direction: column;align-items: center;background-color: white;padding-right: 0.2em;padding-left: 0.2em;position: relative;}#sk-container-id-2 div.sk-item {position: relative;z-index: 1;}#sk-container-id-2 div.sk-parallel {display: flex;align-items: stretch;justify-content: center;background-color: white;position: relative;}#sk-container-id-2 div.sk-item::before, #sk-container-id-2 div.sk-parallel-item::before {content: \"\";position: absolute;border-left: 1px solid gray;box-sizing: border-box;top: 0;bottom: 0;left: 50%;z-index: -1;}#sk-container-id-2 div.sk-parallel-item {display: flex;flex-direction: column;z-index: 1;position: relative;background-color: white;}#sk-container-id-2 div.sk-parallel-item:first-child::after {align-self: flex-end;width: 50%;}#sk-container-id-2 div.sk-parallel-item:last-child::after {align-self: flex-start;width: 50%;}#sk-container-id-2 div.sk-parallel-item:only-child::after {width: 0;}#sk-container-id-2 div.sk-dashed-wrapped {border: 1px dashed gray;margin: 0 0.4em 0.5em 0.4em;box-sizing: border-box;padding-bottom: 0.4em;background-color: white;}#sk-container-id-2 div.sk-label label {font-family: monospace;font-weight: bold;display: inline-block;line-height: 1.2em;}#sk-container-id-2 div.sk-label-container {text-align: center;}#sk-container-id-2 div.sk-container {/* jupyter's `normalize.less` sets `[hidden] { display: none; }` but bootstrap.min.css set `[hidden] { display: none !important; }` so we also need the `!important` here to be able to override the default hidden behavior on the sphinx rendered scikit-learn.org. See: https://github.com/scikit-learn/scikit-learn/issues/21755 */display: inline-block !important;position: relative;}#sk-container-id-2 div.sk-text-repr-fallback {display: none;}</style><div id=\"sk-container-id-2\" class=\"sk-top-container\"><div class=\"sk-text-repr-fallback\"><pre>GridSearchCV(cv=5,\n",
       "             estimator=LogisticRegression(dual=True, max_iter=1000,\n",
       "                                          solver=&#x27;liblinear&#x27;),\n",
       "             n_jobs=-1,\n",
       "             param_grid={&#x27;C&#x27;: array([ 1.,  2.,  3.,  4.,  5.,  6.,  7.,  8.,  9., 10., 11.])},\n",
       "             scoring=&#x27;f1&#x27;, verbose=2)</pre><b>In a Jupyter environment, please rerun this cell to show the HTML representation or trust the notebook. <br />On GitHub, the HTML representation is unable to render, please try loading this page with nbviewer.org.</b></div><div class=\"sk-container\" hidden><div class=\"sk-item sk-dashed-wrapped\"><div class=\"sk-label-container\"><div class=\"sk-label sk-toggleable\"><input class=\"sk-toggleable__control sk-hidden--visually\" id=\"sk-estimator-id-4\" type=\"checkbox\" ><label for=\"sk-estimator-id-4\" class=\"sk-toggleable__label sk-toggleable__label-arrow\">GridSearchCV</label><div class=\"sk-toggleable__content\"><pre>GridSearchCV(cv=5,\n",
       "             estimator=LogisticRegression(dual=True, max_iter=1000,\n",
       "                                          solver=&#x27;liblinear&#x27;),\n",
       "             n_jobs=-1,\n",
       "             param_grid={&#x27;C&#x27;: array([ 1.,  2.,  3.,  4.,  5.,  6.,  7.,  8.,  9., 10., 11.])},\n",
       "             scoring=&#x27;f1&#x27;, verbose=2)</pre></div></div></div><div class=\"sk-parallel\"><div class=\"sk-parallel-item\"><div class=\"sk-item\"><div class=\"sk-label-container\"><div class=\"sk-label sk-toggleable\"><input class=\"sk-toggleable__control sk-hidden--visually\" id=\"sk-estimator-id-5\" type=\"checkbox\" ><label for=\"sk-estimator-id-5\" class=\"sk-toggleable__label sk-toggleable__label-arrow\">estimator: LogisticRegression</label><div class=\"sk-toggleable__content\"><pre>LogisticRegression(dual=True, max_iter=1000, solver=&#x27;liblinear&#x27;)</pre></div></div></div><div class=\"sk-serial\"><div class=\"sk-item\"><div class=\"sk-estimator sk-toggleable\"><input class=\"sk-toggleable__control sk-hidden--visually\" id=\"sk-estimator-id-6\" type=\"checkbox\" ><label for=\"sk-estimator-id-6\" class=\"sk-toggleable__label sk-toggleable__label-arrow\">LogisticRegression</label><div class=\"sk-toggleable__content\"><pre>LogisticRegression(dual=True, max_iter=1000, solver=&#x27;liblinear&#x27;)</pre></div></div></div></div></div></div></div></div></div></div>"
      ],
      "text/plain": [
       "GridSearchCV(cv=5,\n",
       "             estimator=LogisticRegression(dual=True, max_iter=1000,\n",
       "                                          solver='liblinear'),\n",
       "             n_jobs=-1,\n",
       "             param_grid={'C': array([ 1.,  2.,  3.,  4.,  5.,  6.,  7.,  8.,  9., 10., 11.])},\n",
       "             scoring='f1', verbose=2)"
      ]
     },
     "execution_count": 32,
     "metadata": {},
     "output_type": "execute_result"
    }
   ],
   "source": [
    "clf_nb.fit(X_train_nb, y_train)"
   ]
  },
  {
   "cell_type": "code",
   "execution_count": 33,
   "metadata": {},
   "outputs": [
    {
     "name": "stdout",
     "output_type": "stream",
     "text": [
      "Наилучший показатель f1 на кросс-валидации : 0.791\n",
      "Параметр регуляризации для лучшей модели: {'C': 3.0}\n"
     ]
    }
   ],
   "source": [
    "print(f\"Наилучший показатель f1 на кросс-валидации : {clf_nb.best_score_:.3f}\")\n",
    "print(f\"Параметр регуляризации для лучшей модели: {clf_nb.best_params_}\")"
   ]
  },
  {
   "cell_type": "code",
   "execution_count": 34,
   "metadata": {},
   "outputs": [],
   "source": [
    "nblrm = LogisticRegression(C=3,\n",
    "                           solver='liblinear', \n",
    "                           dual=True,\n",
    "                           max_iter=1000)\n",
    "nblrm.fit(X_train_nb, y_train)\n",
    "predict = nblrm.predict(X_test_nb)\n",
    "f1_nblr = f1_score(y_test, predict)"
   ]
  },
  {
   "cell_type": "code",
   "execution_count": 35,
   "metadata": {},
   "outputs": [
    {
     "name": "stdout",
     "output_type": "stream",
     "text": [
      "Показатель f1 на тестовой выборке: 0.788\n"
     ]
    }
   ],
   "source": [
    "print(f\"Показатель f1 на тестовой выборке: {f1_nblr:.3f}\")"
   ]
  },
  {
   "cell_type": "markdown",
   "metadata": {},
   "source": [
    "- Данная модель мало отличается от изначальной Логистической регрессии (f1 вырос на 1,7%)\n",
    "- Для сравнения попробуем обучить модель `LinearSVC`. Linear Support Vector Classification"
   ]
  },
  {
   "cell_type": "markdown",
   "metadata": {},
   "source": [
    "### LinearSVC"
   ]
  },
  {
   "cell_type": "code",
   "execution_count": 36,
   "metadata": {},
   "outputs": [],
   "source": [
    "parameters = {'C': np.linspace(1, 31, num = 7, endpoint = True)}\n",
    "lsvcm = LinearSVC(max_iter = 1000)\n",
    "clf_lsvc = GridSearchCV(nblrm, parameters,\n",
    "                  cv=5,\n",
    "                  scoring='f1',\n",
    "                  n_jobs=-1,\n",
    "                  verbose=2)"
   ]
  },
  {
   "cell_type": "code",
   "execution_count": 37,
   "metadata": {},
   "outputs": [
    {
     "name": "stdout",
     "output_type": "stream",
     "text": [
      "Fitting 5 folds for each of 7 candidates, totalling 35 fits\n"
     ]
    },
    {
     "data": {
      "text/html": [
       "<style>#sk-container-id-3 {color: black;background-color: white;}#sk-container-id-3 pre{padding: 0;}#sk-container-id-3 div.sk-toggleable {background-color: white;}#sk-container-id-3 label.sk-toggleable__label {cursor: pointer;display: block;width: 100%;margin-bottom: 0;padding: 0.3em;box-sizing: border-box;text-align: center;}#sk-container-id-3 label.sk-toggleable__label-arrow:before {content: \"▸\";float: left;margin-right: 0.25em;color: #696969;}#sk-container-id-3 label.sk-toggleable__label-arrow:hover:before {color: black;}#sk-container-id-3 div.sk-estimator:hover label.sk-toggleable__label-arrow:before {color: black;}#sk-container-id-3 div.sk-toggleable__content {max-height: 0;max-width: 0;overflow: hidden;text-align: left;background-color: #f0f8ff;}#sk-container-id-3 div.sk-toggleable__content pre {margin: 0.2em;color: black;border-radius: 0.25em;background-color: #f0f8ff;}#sk-container-id-3 input.sk-toggleable__control:checked~div.sk-toggleable__content {max-height: 200px;max-width: 100%;overflow: auto;}#sk-container-id-3 input.sk-toggleable__control:checked~label.sk-toggleable__label-arrow:before {content: \"▾\";}#sk-container-id-3 div.sk-estimator input.sk-toggleable__control:checked~label.sk-toggleable__label {background-color: #d4ebff;}#sk-container-id-3 div.sk-label input.sk-toggleable__control:checked~label.sk-toggleable__label {background-color: #d4ebff;}#sk-container-id-3 input.sk-hidden--visually {border: 0;clip: rect(1px 1px 1px 1px);clip: rect(1px, 1px, 1px, 1px);height: 1px;margin: -1px;overflow: hidden;padding: 0;position: absolute;width: 1px;}#sk-container-id-3 div.sk-estimator {font-family: monospace;background-color: #f0f8ff;border: 1px dotted black;border-radius: 0.25em;box-sizing: border-box;margin-bottom: 0.5em;}#sk-container-id-3 div.sk-estimator:hover {background-color: #d4ebff;}#sk-container-id-3 div.sk-parallel-item::after {content: \"\";width: 100%;border-bottom: 1px solid gray;flex-grow: 1;}#sk-container-id-3 div.sk-label:hover label.sk-toggleable__label {background-color: #d4ebff;}#sk-container-id-3 div.sk-serial::before {content: \"\";position: absolute;border-left: 1px solid gray;box-sizing: border-box;top: 0;bottom: 0;left: 50%;z-index: 0;}#sk-container-id-3 div.sk-serial {display: flex;flex-direction: column;align-items: center;background-color: white;padding-right: 0.2em;padding-left: 0.2em;position: relative;}#sk-container-id-3 div.sk-item {position: relative;z-index: 1;}#sk-container-id-3 div.sk-parallel {display: flex;align-items: stretch;justify-content: center;background-color: white;position: relative;}#sk-container-id-3 div.sk-item::before, #sk-container-id-3 div.sk-parallel-item::before {content: \"\";position: absolute;border-left: 1px solid gray;box-sizing: border-box;top: 0;bottom: 0;left: 50%;z-index: -1;}#sk-container-id-3 div.sk-parallel-item {display: flex;flex-direction: column;z-index: 1;position: relative;background-color: white;}#sk-container-id-3 div.sk-parallel-item:first-child::after {align-self: flex-end;width: 50%;}#sk-container-id-3 div.sk-parallel-item:last-child::after {align-self: flex-start;width: 50%;}#sk-container-id-3 div.sk-parallel-item:only-child::after {width: 0;}#sk-container-id-3 div.sk-dashed-wrapped {border: 1px dashed gray;margin: 0 0.4em 0.5em 0.4em;box-sizing: border-box;padding-bottom: 0.4em;background-color: white;}#sk-container-id-3 div.sk-label label {font-family: monospace;font-weight: bold;display: inline-block;line-height: 1.2em;}#sk-container-id-3 div.sk-label-container {text-align: center;}#sk-container-id-3 div.sk-container {/* jupyter's `normalize.less` sets `[hidden] { display: none; }` but bootstrap.min.css set `[hidden] { display: none !important; }` so we also need the `!important` here to be able to override the default hidden behavior on the sphinx rendered scikit-learn.org. See: https://github.com/scikit-learn/scikit-learn/issues/21755 */display: inline-block !important;position: relative;}#sk-container-id-3 div.sk-text-repr-fallback {display: none;}</style><div id=\"sk-container-id-3\" class=\"sk-top-container\"><div class=\"sk-text-repr-fallback\"><pre>GridSearchCV(cv=5,\n",
       "             estimator=LogisticRegression(C=3, dual=True, max_iter=1000,\n",
       "                                          solver=&#x27;liblinear&#x27;),\n",
       "             n_jobs=-1,\n",
       "             param_grid={&#x27;C&#x27;: array([ 1.,  6., 11., 16., 21., 26., 31.])},\n",
       "             scoring=&#x27;f1&#x27;, verbose=2)</pre><b>In a Jupyter environment, please rerun this cell to show the HTML representation or trust the notebook. <br />On GitHub, the HTML representation is unable to render, please try loading this page with nbviewer.org.</b></div><div class=\"sk-container\" hidden><div class=\"sk-item sk-dashed-wrapped\"><div class=\"sk-label-container\"><div class=\"sk-label sk-toggleable\"><input class=\"sk-toggleable__control sk-hidden--visually\" id=\"sk-estimator-id-7\" type=\"checkbox\" ><label for=\"sk-estimator-id-7\" class=\"sk-toggleable__label sk-toggleable__label-arrow\">GridSearchCV</label><div class=\"sk-toggleable__content\"><pre>GridSearchCV(cv=5,\n",
       "             estimator=LogisticRegression(C=3, dual=True, max_iter=1000,\n",
       "                                          solver=&#x27;liblinear&#x27;),\n",
       "             n_jobs=-1,\n",
       "             param_grid={&#x27;C&#x27;: array([ 1.,  6., 11., 16., 21., 26., 31.])},\n",
       "             scoring=&#x27;f1&#x27;, verbose=2)</pre></div></div></div><div class=\"sk-parallel\"><div class=\"sk-parallel-item\"><div class=\"sk-item\"><div class=\"sk-label-container\"><div class=\"sk-label sk-toggleable\"><input class=\"sk-toggleable__control sk-hidden--visually\" id=\"sk-estimator-id-8\" type=\"checkbox\" ><label for=\"sk-estimator-id-8\" class=\"sk-toggleable__label sk-toggleable__label-arrow\">estimator: LogisticRegression</label><div class=\"sk-toggleable__content\"><pre>LogisticRegression(C=3, dual=True, max_iter=1000, solver=&#x27;liblinear&#x27;)</pre></div></div></div><div class=\"sk-serial\"><div class=\"sk-item\"><div class=\"sk-estimator sk-toggleable\"><input class=\"sk-toggleable__control sk-hidden--visually\" id=\"sk-estimator-id-9\" type=\"checkbox\" ><label for=\"sk-estimator-id-9\" class=\"sk-toggleable__label sk-toggleable__label-arrow\">LogisticRegression</label><div class=\"sk-toggleable__content\"><pre>LogisticRegression(C=3, dual=True, max_iter=1000, solver=&#x27;liblinear&#x27;)</pre></div></div></div></div></div></div></div></div></div></div>"
      ],
      "text/plain": [
       "GridSearchCV(cv=5,\n",
       "             estimator=LogisticRegression(C=3, dual=True, max_iter=1000,\n",
       "                                          solver='liblinear'),\n",
       "             n_jobs=-1,\n",
       "             param_grid={'C': array([ 1.,  6., 11., 16., 21., 26., 31.])},\n",
       "             scoring='f1', verbose=2)"
      ]
     },
     "execution_count": 37,
     "metadata": {},
     "output_type": "execute_result"
    }
   ],
   "source": [
    "clf_lsvc.fit(X_train_vec, y_train)"
   ]
  },
  {
   "cell_type": "code",
   "execution_count": 38,
   "metadata": {},
   "outputs": [
    {
     "name": "stdout",
     "output_type": "stream",
     "text": [
      "Наилучший показатель f1 на кросс-валидации : 0.773\n",
      "Параметр регуляризации для лучшей модели: {'C': 16.0}\n"
     ]
    }
   ],
   "source": [
    "print(f\"Наилучший показатель f1 на кросс-валидации : {clf_lsvc.best_score_:.3f}\")\n",
    "print(f\"Параметр регуляризации для лучшей модели: {clf_lsvc.best_params_}\")"
   ]
  },
  {
   "cell_type": "code",
   "execution_count": 39,
   "metadata": {},
   "outputs": [],
   "source": [
    "lsvcm = LogisticRegression(C=16,\n",
    "                           max_iter=1000)\n",
    "lsvcm.fit(X_train_vec, y_train)\n",
    "predict = lsvcm.predict(X_test_vec)\n",
    "f1_lsvc = f1_score(y_test, predict)"
   ]
  },
  {
   "cell_type": "code",
   "execution_count": 40,
   "metadata": {},
   "outputs": [
    {
     "name": "stdout",
     "output_type": "stream",
     "text": [
      "Показатель f1 на тестовой выборке: 0.775\n"
     ]
    }
   ],
   "source": [
    "print(f\"Показатель f1 на тестовой выборке: {f1_lsvc:.3f}\")"
   ]
  },
  {
   "cell_type": "markdown",
   "metadata": {},
   "source": [
    "## Выводы"
   ]
  },
  {
   "cell_type": "markdown",
   "metadata": {},
   "source": [
    "- Данные о токсичности твитов успешно загружены и обработаны:\n",
    "    - Лемматизация проведена с помощью `WordNetLemmatizer` библиотеки `nltk`\n",
    "    - Знаки пунктуации, а также лишние пробелы удалены\n",
    "    - Стоп слова удалены (список взят из библиотеки `nltk`)\n",
    "    - Корпус векторизован с помощью `TfidfVectorizer`\n",
    "- На получившихся данных обучены модели, значение f1:\n",
    "  - LogisticRegression  0.775     \n",
    "  - NB-SVM              0.788     \n",
    "  - LinearSVC           0.775     \n",
    "  \n",
    "- Качество моделей практически одинаково. Разница не более 1%. Максимальный показатель f1 получен для **NB-SVM: 0.788**\n",
    "- Кросс-валидация моделей и подбор гиперпараметров проводились с помощью GridSearchCV.\n",
    "- Проверка на адекватность была проведена для модели LogisticRegression."
   ]
  },
  {
   "cell_type": "markdown",
   "metadata": {},
   "source": [
    "## Чек-лист проверки"
   ]
  },
  {
   "cell_type": "markdown",
   "metadata": {},
   "source": [
    "- [x]  Jupyter Notebook открыт\n",
    "- [x]  Весь код выполняется без ошибок\n",
    "- [x]  Ячейки с кодом расположены в порядке исполнения\n",
    "- [x]  Данные загружены и подготовлены\n",
    "- [x]  Модели обучены\n",
    "- [x]  Значение метрики *F1* не меньше 0.75\n",
    "- [x]  Выводы написаны"
   ]
  }
 ],
 "metadata": {
  "ExecuteTimeLog": [
   {
    "duration": 366,
    "start_time": "2022-08-21T16:03:21.860Z"
   },
   {
    "duration": 105,
    "start_time": "2022-08-21T16:04:30.490Z"
   },
   {
    "duration": 366,
    "start_time": "2022-08-21T16:05:15.516Z"
   },
   {
    "duration": 3161,
    "start_time": "2022-08-21T16:05:15.884Z"
   },
   {
    "duration": 42,
    "start_time": "2022-08-21T16:14:37.512Z"
   },
   {
    "duration": 33,
    "start_time": "2022-08-21T16:24:17.905Z"
   },
   {
    "duration": 6,
    "start_time": "2022-08-21T16:26:46.955Z"
   },
   {
    "duration": 6,
    "start_time": "2022-08-21T16:27:13.069Z"
   },
   {
    "duration": 73,
    "start_time": "2022-08-21T16:29:27.628Z"
   },
   {
    "duration": 3,
    "start_time": "2022-08-21T16:29:40.921Z"
   },
   {
    "duration": 12,
    "start_time": "2022-08-21T16:29:49.134Z"
   },
   {
    "duration": 12,
    "start_time": "2022-08-21T16:30:57.959Z"
   },
   {
    "duration": 7,
    "start_time": "2022-08-21T16:31:28.523Z"
   },
   {
    "duration": 4,
    "start_time": "2022-08-21T16:31:44.084Z"
   },
   {
    "duration": 11,
    "start_time": "2022-08-21T16:32:14.085Z"
   },
   {
    "duration": 360,
    "start_time": "2022-08-21T16:32:47.225Z"
   },
   {
    "duration": 727,
    "start_time": "2022-08-21T16:32:47.586Z"
   },
   {
    "duration": 27,
    "start_time": "2022-08-21T16:32:48.314Z"
   },
   {
    "duration": 32,
    "start_time": "2022-08-21T16:32:48.343Z"
   },
   {
    "duration": 5,
    "start_time": "2022-08-21T16:32:48.376Z"
   },
   {
    "duration": 11,
    "start_time": "2022-08-21T16:32:48.383Z"
   },
   {
    "duration": 12,
    "start_time": "2022-08-21T16:33:11.426Z"
   },
   {
    "duration": 13,
    "start_time": "2022-08-21T16:33:22.207Z"
   },
   {
    "duration": 13,
    "start_time": "2022-08-21T16:33:33.600Z"
   },
   {
    "duration": 12,
    "start_time": "2022-08-21T16:33:42.974Z"
   },
   {
    "duration": 11,
    "start_time": "2022-08-21T16:33:55.350Z"
   },
   {
    "duration": 12,
    "start_time": "2022-08-21T16:34:01.784Z"
   },
   {
    "duration": 58,
    "start_time": "2022-08-21T16:34:48.933Z"
   },
   {
    "duration": 1235,
    "start_time": "2022-08-21T16:35:30.426Z"
   },
   {
    "duration": 779,
    "start_time": "2022-08-21T16:35:31.663Z"
   },
   {
    "duration": 28,
    "start_time": "2022-08-21T16:35:32.444Z"
   },
   {
    "duration": 47,
    "start_time": "2022-08-21T16:35:32.474Z"
   },
   {
    "duration": 6,
    "start_time": "2022-08-21T16:35:32.524Z"
   },
   {
    "duration": 14,
    "start_time": "2022-08-21T16:35:32.531Z"
   },
   {
    "duration": 4,
    "start_time": "2022-08-21T16:35:32.547Z"
   },
   {
    "duration": 2,
    "start_time": "2022-08-21T16:36:14.248Z"
   },
   {
    "duration": 1717,
    "start_time": "2022-08-21T16:36:25.995Z"
   },
   {
    "duration": 108,
    "start_time": "2022-08-21T16:36:46.826Z"
   },
   {
    "duration": 2251,
    "start_time": "2022-08-21T16:37:33.371Z"
   },
   {
    "duration": 760,
    "start_time": "2022-08-21T16:37:35.624Z"
   },
   {
    "duration": 28,
    "start_time": "2022-08-21T16:37:36.386Z"
   },
   {
    "duration": 33,
    "start_time": "2022-08-21T16:37:36.416Z"
   },
   {
    "duration": 7,
    "start_time": "2022-08-21T16:37:36.451Z"
   },
   {
    "duration": 15,
    "start_time": "2022-08-21T16:37:36.460Z"
   },
   {
    "duration": 32,
    "start_time": "2022-08-21T16:37:36.478Z"
   },
   {
    "duration": 11,
    "start_time": "2022-08-21T16:37:36.512Z"
   },
   {
    "duration": 1739,
    "start_time": "2022-08-21T16:37:36.524Z"
   },
   {
    "duration": 77003,
    "start_time": "2022-08-21T16:37:38.264Z"
   },
   {
    "duration": 3,
    "start_time": "2022-08-21T16:39:09.477Z"
   },
   {
    "duration": 113,
    "start_time": "2022-08-21T16:40:52.279Z"
   },
   {
    "duration": 1424,
    "start_time": "2022-08-21T16:41:59.721Z"
   },
   {
    "duration": 773,
    "start_time": "2022-08-21T16:42:01.148Z"
   },
   {
    "duration": 29,
    "start_time": "2022-08-21T16:42:01.922Z"
   },
   {
    "duration": 36,
    "start_time": "2022-08-21T16:42:01.953Z"
   },
   {
    "duration": 16,
    "start_time": "2022-08-21T16:42:01.990Z"
   },
   {
    "duration": 18,
    "start_time": "2022-08-21T16:42:02.008Z"
   },
   {
    "duration": 9,
    "start_time": "2022-08-21T16:42:02.027Z"
   },
   {
    "duration": 6,
    "start_time": "2022-08-21T16:42:02.038Z"
   },
   {
    "duration": 1729,
    "start_time": "2022-08-21T16:42:02.046Z"
   },
   {
    "duration": 79408,
    "start_time": "2022-08-21T16:42:03.777Z"
   },
   {
    "duration": 3,
    "start_time": "2022-08-21T16:43:23.187Z"
   },
   {
    "duration": 64,
    "start_time": "2022-08-21T16:43:23.192Z"
   },
   {
    "duration": 3,
    "start_time": "2022-08-21T16:44:01.349Z"
   },
   {
    "duration": 100,
    "start_time": "2022-08-21T16:44:44.665Z"
   },
   {
    "duration": 11,
    "start_time": "2022-08-21T16:45:29.633Z"
   },
   {
    "duration": 5,
    "start_time": "2022-08-21T16:45:49.527Z"
   },
   {
    "duration": 3,
    "start_time": "2022-08-21T16:46:45.699Z"
   },
   {
    "duration": 3,
    "start_time": "2022-08-21T16:48:23.205Z"
   },
   {
    "duration": 69,
    "start_time": "2022-08-21T16:48:42.293Z"
   },
   {
    "duration": 10,
    "start_time": "2022-08-21T16:49:29.737Z"
   },
   {
    "duration": 1522,
    "start_time": "2022-08-21T16:50:07.008Z"
   },
   {
    "duration": 753,
    "start_time": "2022-08-21T16:50:08.532Z"
   },
   {
    "duration": 35,
    "start_time": "2022-08-21T16:50:09.286Z"
   },
   {
    "duration": 33,
    "start_time": "2022-08-21T16:50:09.323Z"
   },
   {
    "duration": 7,
    "start_time": "2022-08-21T16:50:09.358Z"
   },
   {
    "duration": 40,
    "start_time": "2022-08-21T16:50:09.366Z"
   },
   {
    "duration": 4,
    "start_time": "2022-08-21T16:50:09.408Z"
   },
   {
    "duration": 10,
    "start_time": "2022-08-21T16:50:09.415Z"
   },
   {
    "duration": 1820,
    "start_time": "2022-08-21T16:50:09.426Z"
   },
   {
    "duration": 75594,
    "start_time": "2022-08-21T16:50:11.248Z"
   },
   {
    "duration": 4,
    "start_time": "2022-08-21T16:51:26.843Z"
   },
   {
    "duration": 58,
    "start_time": "2022-08-21T16:51:26.848Z"
   },
   {
    "duration": 3,
    "start_time": "2022-08-21T16:51:26.908Z"
   },
   {
    "duration": 5,
    "start_time": "2022-08-21T16:51:26.913Z"
   },
   {
    "duration": 4881,
    "start_time": "2022-08-21T16:52:15.837Z"
   },
   {
    "duration": 1066,
    "start_time": "2022-08-21T16:52:26.262Z"
   },
   {
    "duration": 4,
    "start_time": "2022-08-21T16:52:38.831Z"
   },
   {
    "duration": 3,
    "start_time": "2022-08-21T16:56:23.101Z"
   },
   {
    "duration": 4,
    "start_time": "2022-08-21T16:56:57.225Z"
   },
   {
    "duration": 3,
    "start_time": "2022-08-21T16:58:02.633Z"
   },
   {
    "duration": 99,
    "start_time": "2022-08-21T16:58:43.100Z"
   },
   {
    "duration": 1405,
    "start_time": "2022-08-21T16:59:10.671Z"
   },
   {
    "duration": 717,
    "start_time": "2022-08-21T16:59:12.078Z"
   },
   {
    "duration": 26,
    "start_time": "2022-08-21T16:59:12.797Z"
   },
   {
    "duration": 31,
    "start_time": "2022-08-21T16:59:12.824Z"
   },
   {
    "duration": 6,
    "start_time": "2022-08-21T16:59:12.857Z"
   },
   {
    "duration": 13,
    "start_time": "2022-08-21T16:59:12.864Z"
   },
   {
    "duration": 4,
    "start_time": "2022-08-21T16:59:12.878Z"
   },
   {
    "duration": 3,
    "start_time": "2022-08-21T16:59:12.906Z"
   },
   {
    "duration": 1680,
    "start_time": "2022-08-21T16:59:12.910Z"
   },
   {
    "duration": 72617,
    "start_time": "2022-08-21T16:59:14.592Z"
   },
   {
    "duration": 3,
    "start_time": "2022-08-21T17:00:27.211Z"
   },
   {
    "duration": 49,
    "start_time": "2022-08-21T17:00:27.215Z"
   },
   {
    "duration": 3,
    "start_time": "2022-08-21T17:00:27.266Z"
   },
   {
    "duration": 4,
    "start_time": "2022-08-21T17:00:27.271Z"
   },
   {
    "duration": 4909,
    "start_time": "2022-08-21T17:00:27.276Z"
   },
   {
    "duration": 1247,
    "start_time": "2022-08-21T17:00:32.187Z"
   },
   {
    "duration": 3,
    "start_time": "2022-08-21T17:00:33.436Z"
   },
   {
    "duration": 8,
    "start_time": "2022-08-21T17:00:33.440Z"
   },
   {
    "duration": 1440,
    "start_time": "2022-08-21T17:02:52.059Z"
   },
   {
    "duration": 763,
    "start_time": "2022-08-21T17:02:53.501Z"
   },
   {
    "duration": 31,
    "start_time": "2022-08-21T17:02:54.266Z"
   },
   {
    "duration": 34,
    "start_time": "2022-08-21T17:02:54.306Z"
   },
   {
    "duration": 6,
    "start_time": "2022-08-21T17:02:54.342Z"
   },
   {
    "duration": 11,
    "start_time": "2022-08-21T17:02:54.350Z"
   },
   {
    "duration": 4,
    "start_time": "2022-08-21T17:02:54.363Z"
   },
   {
    "duration": 5,
    "start_time": "2022-08-21T17:02:54.368Z"
   },
   {
    "duration": 1725,
    "start_time": "2022-08-21T17:02:54.374Z"
   },
   {
    "duration": 72413,
    "start_time": "2022-08-21T17:02:56.101Z"
   },
   {
    "duration": 4,
    "start_time": "2022-08-21T17:04:08.516Z"
   },
   {
    "duration": 50,
    "start_time": "2022-08-21T17:04:08.521Z"
   },
   {
    "duration": 4,
    "start_time": "2022-08-21T17:04:08.573Z"
   },
   {
    "duration": 26,
    "start_time": "2022-08-21T17:04:08.580Z"
   },
   {
    "duration": 4609,
    "start_time": "2022-08-21T17:04:08.607Z"
   },
   {
    "duration": 1112,
    "start_time": "2022-08-21T17:04:13.218Z"
   },
   {
    "duration": 2,
    "start_time": "2022-08-21T17:04:14.332Z"
   },
   {
    "duration": 9,
    "start_time": "2022-08-21T17:04:14.336Z"
   },
   {
    "duration": 361932,
    "start_time": "2022-08-21T17:07:51.011Z"
   },
   {
    "duration": 1034,
    "start_time": "2022-08-21T17:14:14.660Z"
   },
   {
    "duration": 0,
    "start_time": "2022-08-21T17:14:15.697Z"
   },
   {
    "duration": 0,
    "start_time": "2022-08-21T17:14:15.698Z"
   },
   {
    "duration": 0,
    "start_time": "2022-08-21T17:14:15.699Z"
   },
   {
    "duration": 0,
    "start_time": "2022-08-21T17:14:15.700Z"
   },
   {
    "duration": 1,
    "start_time": "2022-08-21T17:14:15.701Z"
   },
   {
    "duration": 0,
    "start_time": "2022-08-21T17:14:15.703Z"
   },
   {
    "duration": 0,
    "start_time": "2022-08-21T17:14:15.704Z"
   },
   {
    "duration": 0,
    "start_time": "2022-08-21T17:14:15.705Z"
   },
   {
    "duration": 0,
    "start_time": "2022-08-21T17:14:15.707Z"
   },
   {
    "duration": 0,
    "start_time": "2022-08-21T17:14:15.708Z"
   },
   {
    "duration": 0,
    "start_time": "2022-08-21T17:14:15.710Z"
   },
   {
    "duration": 0,
    "start_time": "2022-08-21T17:14:15.711Z"
   },
   {
    "duration": 0,
    "start_time": "2022-08-21T17:14:15.712Z"
   },
   {
    "duration": 0,
    "start_time": "2022-08-21T17:14:15.714Z"
   },
   {
    "duration": 0,
    "start_time": "2022-08-21T17:14:15.715Z"
   },
   {
    "duration": 0,
    "start_time": "2022-08-21T17:14:15.717Z"
   },
   {
    "duration": 0,
    "start_time": "2022-08-21T17:14:15.718Z"
   },
   {
    "duration": 0,
    "start_time": "2022-08-21T17:14:15.719Z"
   },
   {
    "duration": 1454,
    "start_time": "2022-08-21T17:22:51.240Z"
   },
   {
    "duration": 758,
    "start_time": "2022-08-21T17:22:52.696Z"
   },
   {
    "duration": 28,
    "start_time": "2022-08-21T17:22:53.455Z"
   },
   {
    "duration": 44,
    "start_time": "2022-08-21T17:22:53.485Z"
   },
   {
    "duration": 5,
    "start_time": "2022-08-21T17:22:53.531Z"
   },
   {
    "duration": 11,
    "start_time": "2022-08-21T17:22:53.538Z"
   },
   {
    "duration": 4,
    "start_time": "2022-08-21T17:22:53.550Z"
   },
   {
    "duration": 6,
    "start_time": "2022-08-21T17:22:53.555Z"
   },
   {
    "duration": 1790,
    "start_time": "2022-08-21T17:22:53.562Z"
   },
   {
    "duration": 78189,
    "start_time": "2022-08-21T17:22:55.353Z"
   },
   {
    "duration": 3,
    "start_time": "2022-08-21T17:24:13.543Z"
   },
   {
    "duration": 60,
    "start_time": "2022-08-21T17:24:13.548Z"
   },
   {
    "duration": 5,
    "start_time": "2022-08-21T17:24:13.610Z"
   },
   {
    "duration": 12,
    "start_time": "2022-08-21T17:24:13.618Z"
   },
   {
    "duration": 5052,
    "start_time": "2022-08-21T17:24:13.631Z"
   },
   {
    "duration": 1209,
    "start_time": "2022-08-21T17:24:18.685Z"
   },
   {
    "duration": 3,
    "start_time": "2022-08-21T17:24:19.896Z"
   },
   {
    "duration": 12,
    "start_time": "2022-08-21T17:24:19.909Z"
   },
   {
    "duration": 3890791,
    "start_time": "2022-08-21T17:24:19.923Z"
   },
   {
    "duration": 4,
    "start_time": "2022-08-21T18:29:10.716Z"
   },
   {
    "duration": 77008,
    "start_time": "2022-08-21T18:29:10.722Z"
   },
   {
    "duration": 3,
    "start_time": "2022-08-21T18:30:27.732Z"
   },
   {
    "duration": 18,
    "start_time": "2022-08-21T18:30:27.805Z"
   },
   {
    "duration": 5,
    "start_time": "2022-08-21T18:30:27.824Z"
   },
   {
    "duration": 118,
    "start_time": "2022-08-21T18:30:27.830Z"
   },
   {
    "duration": 3,
    "start_time": "2022-08-21T18:30:27.950Z"
   },
   {
    "duration": 321843,
    "start_time": "2022-08-21T18:30:27.954Z"
   },
   {
    "duration": 3,
    "start_time": "2022-08-21T18:35:49.798Z"
   },
   {
    "duration": 4008,
    "start_time": "2022-08-21T18:35:49.803Z"
   },
   {
    "duration": 4,
    "start_time": "2022-08-21T18:35:53.813Z"
   },
   {
    "duration": 10,
    "start_time": "2022-08-21T18:35:53.819Z"
   },
   {
    "duration": 130857,
    "start_time": "2022-08-21T18:35:53.831Z"
   },
   {
    "duration": 3,
    "start_time": "2022-08-21T18:38:04.690Z"
   },
   {
    "duration": 74228,
    "start_time": "2022-08-21T18:38:04.694Z"
   },
   {
    "duration": 82,
    "start_time": "2022-08-21T18:39:18.924Z"
   },
   {
    "duration": 1476,
    "start_time": "2022-08-21T18:56:27.299Z"
   },
   {
    "duration": 754,
    "start_time": "2022-08-21T18:56:28.777Z"
   },
   {
    "duration": 26,
    "start_time": "2022-08-21T18:56:29.532Z"
   },
   {
    "duration": 32,
    "start_time": "2022-08-21T18:56:29.559Z"
   },
   {
    "duration": 9,
    "start_time": "2022-08-21T18:56:29.605Z"
   },
   {
    "duration": 20,
    "start_time": "2022-08-21T18:56:29.615Z"
   },
   {
    "duration": 4,
    "start_time": "2022-08-21T18:56:29.636Z"
   },
   {
    "duration": 7,
    "start_time": "2022-08-21T18:56:29.641Z"
   },
   {
    "duration": 1792,
    "start_time": "2022-08-21T18:56:29.649Z"
   },
   {
    "duration": 75109,
    "start_time": "2022-08-21T18:56:31.443Z"
   },
   {
    "duration": 5,
    "start_time": "2022-08-21T18:57:46.553Z"
   },
   {
    "duration": 68,
    "start_time": "2022-08-21T18:57:46.559Z"
   },
   {
    "duration": 3,
    "start_time": "2022-08-21T18:57:46.629Z"
   },
   {
    "duration": 4,
    "start_time": "2022-08-21T18:57:46.646Z"
   },
   {
    "duration": 4589,
    "start_time": "2022-08-21T18:57:46.652Z"
   },
   {
    "duration": 1066,
    "start_time": "2022-08-21T18:57:51.243Z"
   },
   {
    "duration": 2,
    "start_time": "2022-08-21T18:57:52.311Z"
   },
   {
    "duration": 8,
    "start_time": "2022-08-21T18:57:52.315Z"
   },
   {
    "duration": 11,
    "start_time": "2022-08-21T19:12:09.078Z"
   },
   {
    "duration": 0,
    "start_time": "2022-08-21T19:12:09.090Z"
   },
   {
    "duration": 0,
    "start_time": "2022-08-21T19:12:09.091Z"
   },
   {
    "duration": 0,
    "start_time": "2022-08-21T19:12:09.093Z"
   },
   {
    "duration": 0,
    "start_time": "2022-08-21T19:12:09.093Z"
   },
   {
    "duration": 0,
    "start_time": "2022-08-21T19:12:09.094Z"
   },
   {
    "duration": 0,
    "start_time": "2022-08-21T19:12:09.095Z"
   },
   {
    "duration": 0,
    "start_time": "2022-08-21T19:12:09.096Z"
   },
   {
    "duration": 0,
    "start_time": "2022-08-21T19:12:09.097Z"
   },
   {
    "duration": 0,
    "start_time": "2022-08-21T19:12:09.097Z"
   },
   {
    "duration": 0,
    "start_time": "2022-08-21T19:12:09.098Z"
   },
   {
    "duration": 0,
    "start_time": "2022-08-21T19:12:09.099Z"
   },
   {
    "duration": 0,
    "start_time": "2022-08-21T19:12:09.100Z"
   },
   {
    "duration": 0,
    "start_time": "2022-08-21T19:12:09.101Z"
   },
   {
    "duration": 0,
    "start_time": "2022-08-21T19:12:09.102Z"
   },
   {
    "duration": 0,
    "start_time": "2022-08-21T19:12:09.103Z"
   },
   {
    "duration": 0,
    "start_time": "2022-08-21T19:12:09.104Z"
   },
   {
    "duration": 1480,
    "start_time": "2022-08-21T19:12:12.319Z"
   },
   {
    "duration": 771,
    "start_time": "2022-08-21T19:12:13.801Z"
   },
   {
    "duration": 32,
    "start_time": "2022-08-21T19:12:14.574Z"
   },
   {
    "duration": 35,
    "start_time": "2022-08-21T19:12:14.607Z"
   },
   {
    "duration": 6,
    "start_time": "2022-08-21T19:12:14.644Z"
   },
   {
    "duration": 12,
    "start_time": "2022-08-21T19:12:14.651Z"
   },
   {
    "duration": 4,
    "start_time": "2022-08-21T19:12:14.664Z"
   },
   {
    "duration": 5,
    "start_time": "2022-08-21T19:12:14.669Z"
   },
   {
    "duration": 1865,
    "start_time": "2022-08-21T19:12:14.675Z"
   },
   {
    "duration": 82055,
    "start_time": "2022-08-21T19:12:16.542Z"
   },
   {
    "duration": 15,
    "start_time": "2022-08-21T19:13:38.598Z"
   },
   {
    "duration": 67,
    "start_time": "2022-08-21T19:13:38.619Z"
   },
   {
    "duration": 3,
    "start_time": "2022-08-21T19:13:38.688Z"
   },
   {
    "duration": 12,
    "start_time": "2022-08-21T19:13:38.694Z"
   },
   {
    "duration": 5692,
    "start_time": "2022-08-21T19:13:38.708Z"
   },
   {
    "duration": 1301,
    "start_time": "2022-08-21T19:13:44.402Z"
   },
   {
    "duration": 4,
    "start_time": "2022-08-21T19:13:45.705Z"
   },
   {
    "duration": 33,
    "start_time": "2022-08-21T19:13:45.710Z"
   },
   {
    "duration": 440697,
    "start_time": "2022-08-21T19:13:45.745Z"
   },
   {
    "duration": 9,
    "start_time": "2022-08-21T19:21:06.444Z"
   },
   {
    "duration": 0,
    "start_time": "2022-08-21T19:21:06.455Z"
   },
   {
    "duration": 0,
    "start_time": "2022-08-21T19:21:06.456Z"
   },
   {
    "duration": 0,
    "start_time": "2022-08-21T19:21:06.457Z"
   },
   {
    "duration": 0,
    "start_time": "2022-08-21T19:21:06.458Z"
   },
   {
    "duration": 0,
    "start_time": "2022-08-21T19:21:06.459Z"
   },
   {
    "duration": 0,
    "start_time": "2022-08-21T19:21:06.460Z"
   },
   {
    "duration": 0,
    "start_time": "2022-08-21T19:21:06.461Z"
   },
   {
    "duration": 0,
    "start_time": "2022-08-21T19:21:06.461Z"
   },
   {
    "duration": 0,
    "start_time": "2022-08-21T19:21:06.463Z"
   },
   {
    "duration": 0,
    "start_time": "2022-08-21T19:21:06.464Z"
   },
   {
    "duration": 0,
    "start_time": "2022-08-21T19:21:06.466Z"
   },
   {
    "duration": 0,
    "start_time": "2022-08-21T19:21:06.467Z"
   },
   {
    "duration": 0,
    "start_time": "2022-08-21T19:21:06.469Z"
   },
   {
    "duration": 0,
    "start_time": "2022-08-21T19:21:06.470Z"
   },
   {
    "duration": 0,
    "start_time": "2022-08-21T19:21:06.471Z"
   },
   {
    "duration": 70,
    "start_time": "2022-08-21T19:22:42.487Z"
   },
   {
    "duration": 1526,
    "start_time": "2022-08-21T19:27:28.260Z"
   },
   {
    "duration": 838,
    "start_time": "2022-08-21T19:27:29.789Z"
   },
   {
    "duration": 31,
    "start_time": "2022-08-21T19:27:30.629Z"
   },
   {
    "duration": 57,
    "start_time": "2022-08-21T19:27:30.662Z"
   },
   {
    "duration": 7,
    "start_time": "2022-08-21T19:27:30.721Z"
   },
   {
    "duration": 23,
    "start_time": "2022-08-21T19:27:30.729Z"
   },
   {
    "duration": 8,
    "start_time": "2022-08-21T19:27:30.753Z"
   },
   {
    "duration": 6,
    "start_time": "2022-08-21T19:27:30.763Z"
   },
   {
    "duration": 1797,
    "start_time": "2022-08-21T19:27:30.770Z"
   },
   {
    "duration": 78769,
    "start_time": "2022-08-21T19:27:32.570Z"
   },
   {
    "duration": 4,
    "start_time": "2022-08-21T19:28:51.340Z"
   },
   {
    "duration": 62,
    "start_time": "2022-08-21T19:28:51.345Z"
   },
   {
    "duration": 17,
    "start_time": "2022-08-21T19:28:51.408Z"
   },
   {
    "duration": 6,
    "start_time": "2022-08-21T19:28:51.429Z"
   },
   {
    "duration": 5305,
    "start_time": "2022-08-21T19:28:51.437Z"
   },
   {
    "duration": 1222,
    "start_time": "2022-08-21T19:28:56.743Z"
   },
   {
    "duration": 4,
    "start_time": "2022-08-21T19:28:57.967Z"
   },
   {
    "duration": 7,
    "start_time": "2022-08-21T19:28:57.972Z"
   },
   {
    "duration": 2,
    "start_time": "2022-08-21T19:28:57.981Z"
   },
   {
    "duration": 123,
    "start_time": "2022-08-21T19:28:58.005Z"
   },
   {
    "duration": 0,
    "start_time": "2022-08-21T19:28:58.129Z"
   },
   {
    "duration": 1,
    "start_time": "2022-08-21T19:28:58.130Z"
   },
   {
    "duration": 0,
    "start_time": "2022-08-21T19:28:58.132Z"
   },
   {
    "duration": 0,
    "start_time": "2022-08-21T19:28:58.133Z"
   },
   {
    "duration": 0,
    "start_time": "2022-08-21T19:28:58.134Z"
   },
   {
    "duration": 0,
    "start_time": "2022-08-21T19:28:58.136Z"
   },
   {
    "duration": 0,
    "start_time": "2022-08-21T19:28:58.137Z"
   },
   {
    "duration": 1,
    "start_time": "2022-08-21T19:28:58.137Z"
   },
   {
    "duration": 0,
    "start_time": "2022-08-21T19:28:58.138Z"
   },
   {
    "duration": 1,
    "start_time": "2022-08-21T19:28:58.139Z"
   },
   {
    "duration": 0,
    "start_time": "2022-08-21T19:28:58.141Z"
   },
   {
    "duration": 0,
    "start_time": "2022-08-21T19:28:58.142Z"
   },
   {
    "duration": 0,
    "start_time": "2022-08-21T19:28:58.143Z"
   },
   {
    "duration": 0,
    "start_time": "2022-08-21T19:28:58.144Z"
   },
   {
    "duration": 0,
    "start_time": "2022-08-21T19:28:58.146Z"
   },
   {
    "duration": 3,
    "start_time": "2022-08-21T19:30:37.764Z"
   },
   {
    "duration": 102107,
    "start_time": "2022-08-21T19:30:38.609Z"
   },
   {
    "duration": 5,
    "start_time": "2022-08-21T19:32:20.718Z"
   },
   {
    "duration": 12,
    "start_time": "2022-08-21T19:32:20.729Z"
   },
   {
    "duration": 3,
    "start_time": "2022-08-21T19:32:20.743Z"
   },
   {
    "duration": 111,
    "start_time": "2022-08-21T19:32:20.816Z"
   },
   {
    "duration": 4,
    "start_time": "2022-08-21T19:32:20.929Z"
   },
   {
    "duration": 330521,
    "start_time": "2022-08-21T19:32:20.934Z"
   },
   {
    "duration": 4,
    "start_time": "2022-08-21T19:37:51.457Z"
   },
   {
    "duration": 4010,
    "start_time": "2022-08-21T19:37:51.463Z"
   },
   {
    "duration": 3,
    "start_time": "2022-08-21T19:37:55.476Z"
   },
   {
    "duration": 7,
    "start_time": "2022-08-21T19:37:55.480Z"
   },
   {
    "duration": 132824,
    "start_time": "2022-08-21T19:37:55.488Z"
   },
   {
    "duration": 5,
    "start_time": "2022-08-21T19:40:08.317Z"
   },
   {
    "duration": 97099,
    "start_time": "2022-08-21T19:40:08.323Z"
   },
   {
    "duration": 82,
    "start_time": "2022-08-21T19:41:45.424Z"
   }
  ],
  "kernelspec": {
   "display_name": "Python 3 (ipykernel)",
   "language": "python",
   "name": "python3"
  },
  "language_info": {
   "codemirror_mode": {
    "name": "ipython",
    "version": 3
   },
   "file_extension": ".py",
   "mimetype": "text/x-python",
   "name": "python",
   "nbconvert_exporter": "python",
   "pygments_lexer": "ipython3",
   "version": "3.9.7"
  },
  "toc": {
   "base_numbering": 1,
   "nav_menu": {},
   "number_sections": true,
   "sideBar": true,
   "skip_h1_title": true,
   "title_cell": "Содержание",
   "title_sidebar": "Contents",
   "toc_cell": true,
   "toc_position": {
    "height": "calc(100% - 180px)",
    "left": "10px",
    "top": "150px",
    "width": "302.388px"
   },
   "toc_section_display": true,
   "toc_window_display": true
  }
 },
 "nbformat": 4,
 "nbformat_minor": 2
}
