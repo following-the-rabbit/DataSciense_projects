{
 "cells": [
  {
   "cell_type": "markdown",
   "metadata": {
    "toc": true
   },
   "source": [
    "<h1>Содержание<span class=\"tocSkip\"></span></h1>\n",
    "<div class=\"toc\"><ul class=\"toc-item\"><li><span><a href=\"#Подготовка-данных\" data-toc-modified-id=\"Подготовка-данных-1\"><span class=\"toc-item-num\">1&nbsp;&nbsp;</span>Подготовка данных</a></span><ul class=\"toc-item\"><li><span><a href=\"#Изучение-данных\" data-toc-modified-id=\"Изучение-данных-1.1\"><span class=\"toc-item-num\">1.1&nbsp;&nbsp;</span>Изучение данных</a></span></li><li><span><a href=\"#Вывод-по-изучению-данных\" data-toc-modified-id=\"Вывод-по-изучению-данных-1.2\"><span class=\"toc-item-num\">1.2&nbsp;&nbsp;</span>Вывод по изучению данных</a></span></li><li><span><a href=\"#Предобработка-данных\" data-toc-modified-id=\"Предобработка-данных-1.3\"><span class=\"toc-item-num\">1.3&nbsp;&nbsp;</span>Предобработка данных</a></span></li><li><span><a href=\"#Вывод-по-этапу-предобработки-данных:\" data-toc-modified-id=\"Вывод-по-этапу-предобработки-данных:-1.4\"><span class=\"toc-item-num\">1.4&nbsp;&nbsp;</span>Вывод по этапу предобработки данных:</a></span></li></ul></li><li><span><a href=\"#Исследование-задачи\" data-toc-modified-id=\"Исследование-задачи-2\"><span class=\"toc-item-num\">2&nbsp;&nbsp;</span>Исследование задачи</a></span><ul class=\"toc-item\"><li><span><a href=\"#Решающее-дерево\" data-toc-modified-id=\"Решающее-дерево-2.1\"><span class=\"toc-item-num\">2.1&nbsp;&nbsp;</span>Решающее дерево</a></span></li><li><span><a href=\"#Случайный-лес\" data-toc-modified-id=\"Случайный-лес-2.2\"><span class=\"toc-item-num\">2.2&nbsp;&nbsp;</span>Случайный лес</a></span></li><li><span><a href=\"#Логистическая-регрессия\" data-toc-modified-id=\"Логистическая-регрессия-2.3\"><span class=\"toc-item-num\">2.3&nbsp;&nbsp;</span>Логистическая регрессия</a></span></li><li><span><a href=\"#Выводы\" data-toc-modified-id=\"Выводы-2.4\"><span class=\"toc-item-num\">2.4&nbsp;&nbsp;</span>Выводы</a></span></li></ul></li><li><span><a href=\"#Борьба-с-дисбалансом\" data-toc-modified-id=\"Борьба-с-дисбалансом-3\"><span class=\"toc-item-num\">3&nbsp;&nbsp;</span>Борьба с дисбалансом</a></span><ul class=\"toc-item\"><li><span><a href=\"#Взвешивание-классов\" data-toc-modified-id=\"Взвешивание-классов-3.1\"><span class=\"toc-item-num\">3.1&nbsp;&nbsp;</span>Взвешивание классов</a></span></li><li><span><a href=\"#Upsampling-и-downsampling\" data-toc-modified-id=\"Upsampling-и-downsampling-3.2\"><span class=\"toc-item-num\">3.2&nbsp;&nbsp;</span>Upsampling и downsampling</a></span><ul class=\"toc-item\"><li><span><a href=\"#Выводы\" data-toc-modified-id=\"Выводы-3.2.1\"><span class=\"toc-item-num\">3.2.1&nbsp;&nbsp;</span>Выводы</a></span></li></ul></li></ul></li><li><span><a href=\"#Тестирование-модели\" data-toc-modified-id=\"Тестирование-модели-4\"><span class=\"toc-item-num\">4&nbsp;&nbsp;</span>Тестирование модели</a></span><ul class=\"toc-item\"><li><span><a href=\"#Выводы\" data-toc-modified-id=\"Выводы-4.1\"><span class=\"toc-item-num\">4.1&nbsp;&nbsp;</span>Выводы</a></span></li></ul></li><li><span><a href=\"#Общий-вывод\" data-toc-modified-id=\"Общий-вывод-5\"><span class=\"toc-item-num\">5&nbsp;&nbsp;</span>Общий вывод</a></span></li><li><span><a href=\"#Чек-лист-готовности-проекта\" data-toc-modified-id=\"Чек-лист-готовности-проекта-6\"><span class=\"toc-item-num\">6&nbsp;&nbsp;</span>Чек-лист готовности проекта</a></span></li></ul></div>"
   ]
  },
  {
   "cell_type": "markdown",
   "metadata": {},
   "source": [
    "# Обучение с учителем\n",
    "# Проект: Отток клиентов банка\n",
    "# Описание проекта\n",
    "\n",
    "Из «Бета-Банка» стали уходить клиенты. Каждый месяц. Немного, но заметно. Банковские маркетологи посчитали: сохранять текущих клиентов дешевле, чем привлекать новых.\n",
    "\n",
    "Нужно спрогнозировать, уйдёт клиент из банка в ближайшее время или нет. Вам предоставлены исторические данные о поведении клиентов и расторжении договоров с банком. \n",
    "\n",
    "Нужно построить несколько моделей и выбрать одну с предельно большим значением `F1-меры`. Чтобы сдать проект успешно, нужно довести метрику до 0.59 и проверить `F1-меру` лучшей модели на тестовой выборке.\n",
    "\n",
    "Дополнительно рекомендовано измерять *AUC-ROC* и сравнивать её значение с *F1*-мерой.\n",
    "\n",
    "Источник данных: [https://www.kaggle.com/barelydedicated/bank-customer-churn-modeling](https://www.kaggle.com/barelydedicated/bank-customer-churn-modeling)"
   ]
  },
  {
   "cell_type": "code",
   "execution_count": 1,
   "metadata": {},
   "outputs": [],
   "source": [
    "import pandas as pd\n",
    "import numpy as np\n",
    "\n",
    "from sklearn.model_selection import train_test_split\n",
    "from sklearn.tree import DecisionTreeClassifier\n",
    "from sklearn.linear_model import LogisticRegression\n",
    "from sklearn.ensemble import RandomForestClassifier\n",
    "from sklearn.metrics import f1_score, roc_auc_score\n",
    "from sklearn.utils import shuffle\n",
    "from sklearn.preprocessing import RobustScaler"
   ]
  },
  {
   "cell_type": "markdown",
   "metadata": {},
   "source": [
    "## Подготовка данных\n",
    "### Изучение данных"
   ]
  },
  {
   "cell_type": "markdown",
   "metadata": {},
   "source": [
    "Прочтем файл `Churn.csv` и сохраните его в переменной `df`:"
   ]
  },
  {
   "cell_type": "code",
   "execution_count": 2,
   "metadata": {},
   "outputs": [
    {
     "data": {
      "text/html": [
       "<div>\n",
       "<style scoped>\n",
       "    .dataframe tbody tr th:only-of-type {\n",
       "        vertical-align: middle;\n",
       "    }\n",
       "\n",
       "    .dataframe tbody tr th {\n",
       "        vertical-align: top;\n",
       "    }\n",
       "\n",
       "    .dataframe thead th {\n",
       "        text-align: right;\n",
       "    }\n",
       "</style>\n",
       "<table border=\"1\" class=\"dataframe\">\n",
       "  <thead>\n",
       "    <tr style=\"text-align: right;\">\n",
       "      <th></th>\n",
       "      <th>RowNumber</th>\n",
       "      <th>CustomerId</th>\n",
       "      <th>Surname</th>\n",
       "      <th>CreditScore</th>\n",
       "      <th>Geography</th>\n",
       "      <th>Gender</th>\n",
       "      <th>Age</th>\n",
       "      <th>Tenure</th>\n",
       "      <th>Balance</th>\n",
       "      <th>NumOfProducts</th>\n",
       "      <th>HasCrCard</th>\n",
       "      <th>IsActiveMember</th>\n",
       "      <th>EstimatedSalary</th>\n",
       "      <th>Exited</th>\n",
       "    </tr>\n",
       "  </thead>\n",
       "  <tbody>\n",
       "    <tr>\n",
       "      <th>0</th>\n",
       "      <td>1</td>\n",
       "      <td>15634602</td>\n",
       "      <td>Hargrave</td>\n",
       "      <td>619</td>\n",
       "      <td>France</td>\n",
       "      <td>Female</td>\n",
       "      <td>42</td>\n",
       "      <td>2.0</td>\n",
       "      <td>0.00</td>\n",
       "      <td>1</td>\n",
       "      <td>1</td>\n",
       "      <td>1</td>\n",
       "      <td>101348.88</td>\n",
       "      <td>1</td>\n",
       "    </tr>\n",
       "    <tr>\n",
       "      <th>1</th>\n",
       "      <td>2</td>\n",
       "      <td>15647311</td>\n",
       "      <td>Hill</td>\n",
       "      <td>608</td>\n",
       "      <td>Spain</td>\n",
       "      <td>Female</td>\n",
       "      <td>41</td>\n",
       "      <td>1.0</td>\n",
       "      <td>83807.86</td>\n",
       "      <td>1</td>\n",
       "      <td>0</td>\n",
       "      <td>1</td>\n",
       "      <td>112542.58</td>\n",
       "      <td>0</td>\n",
       "    </tr>\n",
       "    <tr>\n",
       "      <th>2</th>\n",
       "      <td>3</td>\n",
       "      <td>15619304</td>\n",
       "      <td>Onio</td>\n",
       "      <td>502</td>\n",
       "      <td>France</td>\n",
       "      <td>Female</td>\n",
       "      <td>42</td>\n",
       "      <td>8.0</td>\n",
       "      <td>159660.80</td>\n",
       "      <td>3</td>\n",
       "      <td>1</td>\n",
       "      <td>0</td>\n",
       "      <td>113931.57</td>\n",
       "      <td>1</td>\n",
       "    </tr>\n",
       "    <tr>\n",
       "      <th>3</th>\n",
       "      <td>4</td>\n",
       "      <td>15701354</td>\n",
       "      <td>Boni</td>\n",
       "      <td>699</td>\n",
       "      <td>France</td>\n",
       "      <td>Female</td>\n",
       "      <td>39</td>\n",
       "      <td>1.0</td>\n",
       "      <td>0.00</td>\n",
       "      <td>2</td>\n",
       "      <td>0</td>\n",
       "      <td>0</td>\n",
       "      <td>93826.63</td>\n",
       "      <td>0</td>\n",
       "    </tr>\n",
       "    <tr>\n",
       "      <th>4</th>\n",
       "      <td>5</td>\n",
       "      <td>15737888</td>\n",
       "      <td>Mitchell</td>\n",
       "      <td>850</td>\n",
       "      <td>Spain</td>\n",
       "      <td>Female</td>\n",
       "      <td>43</td>\n",
       "      <td>2.0</td>\n",
       "      <td>125510.82</td>\n",
       "      <td>1</td>\n",
       "      <td>1</td>\n",
       "      <td>1</td>\n",
       "      <td>79084.10</td>\n",
       "      <td>0</td>\n",
       "    </tr>\n",
       "  </tbody>\n",
       "</table>\n",
       "</div>"
      ],
      "text/plain": [
       "   RowNumber  CustomerId   Surname  CreditScore Geography  Gender  Age  \\\n",
       "0          1    15634602  Hargrave          619    France  Female   42   \n",
       "1          2    15647311      Hill          608     Spain  Female   41   \n",
       "2          3    15619304      Onio          502    France  Female   42   \n",
       "3          4    15701354      Boni          699    France  Female   39   \n",
       "4          5    15737888  Mitchell          850     Spain  Female   43   \n",
       "\n",
       "   Tenure    Balance  NumOfProducts  HasCrCard  IsActiveMember  \\\n",
       "0     2.0       0.00              1          1               1   \n",
       "1     1.0   83807.86              1          0               1   \n",
       "2     8.0  159660.80              3          1               0   \n",
       "3     1.0       0.00              2          0               0   \n",
       "4     2.0  125510.82              1          1               1   \n",
       "\n",
       "   EstimatedSalary  Exited  \n",
       "0        101348.88       1  \n",
       "1        112542.58       0  \n",
       "2        113931.57       1  \n",
       "3         93826.63       0  \n",
       "4         79084.10       0  "
      ]
     },
     "execution_count": 2,
     "metadata": {},
     "output_type": "execute_result"
    }
   ],
   "source": [
    "try:    \n",
    "    df = pd.read_csv('D:/notebook/project_7/Churn.csv')   \n",
    "except:\n",
    "    df = pd.read_csv('/datasets/Churn.csv')\n",
    "df.head()"
   ]
  },
  {
   "cell_type": "markdown",
   "metadata": {},
   "source": [
    "Описание данных\n",
    "\n",
    "Признаки\n",
    "\n",
    "* `RowNumber` — индекс строки в данных\n",
    "* `CustomerId` — уникальный идентификатор клиента\n",
    "* `Surname` — фамилия\n",
    "* `CreditScore` — кредитный рейтинг\n",
    "* `Geography` — страна проживания\n",
    "* `Gender` — пол\n",
    "* `Age` — возраст\n",
    "* `Tenure` — сколько лет человек является клиентом банка\n",
    "* `Balance` — баланс на счёте\n",
    "* `NumOfProducts` — количество продуктов банка, используемых клиентом\n",
    "* `HasCrCard` — наличие кредитной карты (1 - есть, 0 - нет)\n",
    "* `IsActiveMember` — активность клиента (1 - активный, 0 - нет)\n",
    "* `EstimatedSalary` — предполагаемая зарплата\n",
    "\n",
    "Целевой признак\n",
    "\n",
    "* `Exited` — факт ухода клиента"
   ]
  },
  {
   "cell_type": "markdown",
   "metadata": {},
   "source": [
    "Получим общую информацию о таблице:"
   ]
  },
  {
   "cell_type": "code",
   "execution_count": 3,
   "metadata": {
    "scrolled": false
   },
   "outputs": [
    {
     "name": "stdout",
     "output_type": "stream",
     "text": [
      "<class 'pandas.core.frame.DataFrame'>\n",
      "RangeIndex: 10000 entries, 0 to 9999\n",
      "Data columns (total 14 columns):\n",
      " #   Column           Non-Null Count  Dtype  \n",
      "---  ------           --------------  -----  \n",
      " 0   RowNumber        10000 non-null  int64  \n",
      " 1   CustomerId       10000 non-null  int64  \n",
      " 2   Surname          10000 non-null  object \n",
      " 3   CreditScore      10000 non-null  int64  \n",
      " 4   Geography        10000 non-null  object \n",
      " 5   Gender           10000 non-null  object \n",
      " 6   Age              10000 non-null  int64  \n",
      " 7   Tenure           9091 non-null   float64\n",
      " 8   Balance          10000 non-null  float64\n",
      " 9   NumOfProducts    10000 non-null  int64  \n",
      " 10  HasCrCard        10000 non-null  int64  \n",
      " 11  IsActiveMember   10000 non-null  int64  \n",
      " 12  EstimatedSalary  10000 non-null  float64\n",
      " 13  Exited           10000 non-null  int64  \n",
      "dtypes: float64(3), int64(8), object(3)\n",
      "memory usage: 1.1+ MB\n"
     ]
    }
   ],
   "source": [
    "df.info()"
   ]
  },
  {
   "cell_type": "code",
   "execution_count": 4,
   "metadata": {
    "scrolled": false
   },
   "outputs": [
    {
     "data": {
      "text/plain": [
       "909"
      ]
     },
     "execution_count": 4,
     "metadata": {},
     "output_type": "execute_result"
    }
   ],
   "source": [
    "df['Tenure'].isnull().sum()"
   ]
  },
  {
   "cell_type": "markdown",
   "metadata": {},
   "source": [
    "В датафрейме содержатся данные разных типов: float64, int64 и object. В столбце Tenure присутствуют 909 пропущенных значений.\n",
    "\n",
    "Проверим наличие грубых дубликатов в датафрейме."
   ]
  },
  {
   "cell_type": "code",
   "execution_count": 5,
   "metadata": {
    "scrolled": true
   },
   "outputs": [
    {
     "data": {
      "text/plain": [
       "0"
      ]
     },
     "execution_count": 5,
     "metadata": {},
     "output_type": "execute_result"
    }
   ],
   "source": [
    "df.duplicated().sum()"
   ]
  },
  {
   "cell_type": "markdown",
   "metadata": {},
   "source": [
    "Посмотрим на уникальные данные всех столбцов."
   ]
  },
  {
   "cell_type": "code",
   "execution_count": 6,
   "metadata": {},
   "outputs": [
    {
     "name": "stdout",
     "output_type": "stream",
     "text": [
      "Уникальные значения столбца RowNumber\n",
      "[    1     2     3 ...  9998  9999 10000]\n",
      "Уникальные значения столбца CustomerId\n",
      "[15634602 15647311 15619304 ... 15584532 15682355 15628319]\n",
      "Уникальные значения столбца Surname\n",
      "['Hargrave' 'Hill' 'Onio' ... 'Kashiwagi' 'Aldridge' 'Burbidge']\n",
      "Уникальные значения столбца CreditScore\n",
      "[619 608 502 699 850 645 822 376 501 684 528 497 476 549 635 616 653 587\n",
      " 726 732 636 510 669 846 577 756 571 574 411 591 533 553 520 722 475 490\n",
      " 804 582 472 465 556 834 660 776 829 637 550 698 585 788 655 601 656 725\n",
      " 511 614 742 687 555 603 751 581 735 661 675 738 813 657 604 519 664 678\n",
      " 757 416 665 777 543 506 493 652 750 729 646 647 808 524 769 730 515 773\n",
      " 814 710 413 623 670 622 785 605 479 685 538 562 721 628 668 828 674 625\n",
      " 432 770 758 795 686 789 589 461 584 579 663 682 793 691 485 650 754 535\n",
      " 716 539 706 586 631 717 800 683 704 615 667 484 480 578 512 606 597 778\n",
      " 514 525 715 580 807 521 759 516 711 618 643 671 689 620 676 572 695 592\n",
      " 567 694 547 594 673 610 767 763 712 703 662 659 523 772 545 634 739 771\n",
      " 681 544 696 766 727 693 557 531 498 651 791 733 811 707 714 782 775 799\n",
      " 602 744 588 747 583 627 731 629 438 642 806 474 559 429 680 749 734 644\n",
      " 626 649 805 718 840 630 654 762 568 613 522 737 648 443 640 540 460 593\n",
      " 801 611 802 745 483 690 492 709 705 560 752 701 537 487 596 702 486 724\n",
      " 548 464 790 534 748 494 590 468 509 818 816 536 753 774 621 569 658 798\n",
      " 641 542 692 639 765 570 638 599 632 779 527 564 833 504 842 508 417 598\n",
      " 741 607 761 848 546 439 755 760 526 713 700 666 566 495 688 612 477 427\n",
      " 839 819 720 459 503 624 529 563 482 796 445 746 786 554 672 787 499 844\n",
      " 450 815 838 803 736 633 600 679 517 792 743 488 421 841 708 507 505 456\n",
      " 435 561 518 565 728 784 552 609 764 697 723 551 444 719 496 541 830 812\n",
      " 677 420 595 617 809 500 826 434 513 478 797 363 399 463 780 452 575 837\n",
      " 794 824 428 823 781 849 489 431 457 768 831 359 820 573 576 558 817 449\n",
      " 440 415 821 530 350 446 425 740 481 783 358 845 451 458 469 423 404 836\n",
      " 473 835 466 491 351 827 843 365 532 414 453 471 401 810 832 470 447 422\n",
      " 825 430 436 426 408 847 418 437 410 454 407 455 462 386 405 383 395 467\n",
      " 433 442 424 448 441 367 412 382 373 419]\n",
      "Уникальные значения столбца Geography\n",
      "['France' 'Spain' 'Germany']\n",
      "Уникальные значения столбца Gender\n",
      "['Female' 'Male']\n",
      "Уникальные значения столбца Age\n",
      "[42 41 39 43 44 50 29 27 31 24 34 25 35 45 58 32 38 46 36 33 40 51 61 49\n",
      " 37 19 66 56 26 21 55 75 22 30 28 65 48 52 57 73 47 54 72 20 67 79 62 53\n",
      " 80 59 68 23 60 70 63 64 18 82 69 74 71 76 77 88 85 84 78 81 92 83]\n",
      "Уникальные значения столбца Tenure\n",
      "[ 2.  1.  8.  7.  4.  6.  3. 10.  5.  9.  0. nan]\n",
      "Уникальные значения столбца Balance\n",
      "[     0.    83807.86 159660.8  ...  57369.61  75075.31 130142.79]\n",
      "Уникальные значения столбца NumOfProducts\n",
      "[1 3 2 4]\n",
      "Уникальные значения столбца HasCrCard\n",
      "[1 0]\n",
      "Уникальные значения столбца IsActiveMember\n",
      "[1 0]\n",
      "Уникальные значения столбца EstimatedSalary\n",
      "[101348.88 112542.58 113931.57 ...  42085.58  92888.52  38190.78]\n",
      "Уникальные значения столбца Exited\n",
      "[1 0]\n"
     ]
    }
   ],
   "source": [
    "def check_columns(data_frame):\n",
    "    for column in data_frame.columns:\n",
    "        print('Уникальные значения столбца', column)\n",
    "        print(data_frame[column].unique())\n",
    "        \n",
    "check_columns(df)"
   ]
  },
  {
   "cell_type": "markdown",
   "metadata": {},
   "source": [
    "Изучим данные, содержащиеся в столбце целевого признака `Exited`:"
   ]
  },
  {
   "cell_type": "code",
   "execution_count": 7,
   "metadata": {
    "scrolled": true
   },
   "outputs": [
    {
     "data": {
      "text/plain": [
       "0    0.7963\n",
       "1    0.2037\n",
       "Name: Exited, dtype: float64"
      ]
     },
     "execution_count": 7,
     "metadata": {},
     "output_type": "execute_result"
    }
   ],
   "source": [
    "df.Exited.value_counts(normalize=True)"
   ]
  },
  {
   "cell_type": "markdown",
   "metadata": {},
   "source": [
    "Имеется дисбаланс классов 4:1\n",
    "* Пользуются услугами банка - 0.7963\n",
    "* Не пользуются услугами банка - 0.2037"
   ]
  },
  {
   "cell_type": "markdown",
   "metadata": {},
   "source": [
    "Остальные признаки делятся на две группы: \n",
    "\n",
    "* Категориальные: `Gender, Geography, HasCrCard и IsActiveMember`\n",
    "* Количественные: `CreditScore, Age, Tenure, NumOfProducts, Balance и EstimatedSalary`"
   ]
  },
  {
   "cell_type": "markdown",
   "metadata": {},
   "source": [
    "Посмотрим распределение значений в категориальных признаках."
   ]
  },
  {
   "cell_type": "code",
   "execution_count": 8,
   "metadata": {},
   "outputs": [
    {
     "name": "stdout",
     "output_type": "stream",
     "text": [
      "Количество значений в столбце Gender\n",
      "Male      5457\n",
      "Female    4543\n",
      "Name: Gender, dtype: int64\n",
      "Количество значений в столбце Geography\n",
      "France     5014\n",
      "Germany    2509\n",
      "Spain      2477\n",
      "Name: Geography, dtype: int64\n",
      "Количество значений в столбце HasCrCard\n",
      "1    7055\n",
      "0    2945\n",
      "Name: HasCrCard, dtype: int64\n",
      "Количество значений в столбце IsActiveMember\n",
      "1    5151\n",
      "0    4849\n",
      "Name: IsActiveMember, dtype: int64\n"
     ]
    }
   ],
   "source": [
    "categorical_list = ['Gender', 'Geography', 'HasCrCard', 'IsActiveMember']\n",
    "def check_columns(df):\n",
    "    for column in categorical_list:\n",
    "        print('Количество значений в столбце', column)\n",
    "        print(df[column].value_counts())\n",
    "        \n",
    "check_columns(df)"
   ]
  },
  {
   "cell_type": "markdown",
   "metadata": {},
   "source": [
    "Посмотрим статистические характеристики количественных признаков."
   ]
  },
  {
   "cell_type": "code",
   "execution_count": 9,
   "metadata": {},
   "outputs": [
    {
     "data": {
      "text/html": [
       "<div>\n",
       "<style scoped>\n",
       "    .dataframe tbody tr th:only-of-type {\n",
       "        vertical-align: middle;\n",
       "    }\n",
       "\n",
       "    .dataframe tbody tr th {\n",
       "        vertical-align: top;\n",
       "    }\n",
       "\n",
       "    .dataframe thead th {\n",
       "        text-align: right;\n",
       "    }\n",
       "</style>\n",
       "<table border=\"1\" class=\"dataframe\">\n",
       "  <thead>\n",
       "    <tr style=\"text-align: right;\">\n",
       "      <th></th>\n",
       "      <th>CreditScore</th>\n",
       "      <th>Age</th>\n",
       "      <th>Tenure</th>\n",
       "      <th>Balance</th>\n",
       "      <th>NumOfProducts</th>\n",
       "      <th>EstimatedSalary</th>\n",
       "    </tr>\n",
       "  </thead>\n",
       "  <tbody>\n",
       "    <tr>\n",
       "      <th>count</th>\n",
       "      <td>10000.000000</td>\n",
       "      <td>10000.000000</td>\n",
       "      <td>9091.000000</td>\n",
       "      <td>10000.000000</td>\n",
       "      <td>10000.000000</td>\n",
       "      <td>10000.000000</td>\n",
       "    </tr>\n",
       "    <tr>\n",
       "      <th>mean</th>\n",
       "      <td>650.528800</td>\n",
       "      <td>38.921800</td>\n",
       "      <td>4.997690</td>\n",
       "      <td>76485.889288</td>\n",
       "      <td>1.530200</td>\n",
       "      <td>100090.239881</td>\n",
       "    </tr>\n",
       "    <tr>\n",
       "      <th>std</th>\n",
       "      <td>96.653299</td>\n",
       "      <td>10.487806</td>\n",
       "      <td>2.894723</td>\n",
       "      <td>62397.405202</td>\n",
       "      <td>0.581654</td>\n",
       "      <td>57510.492818</td>\n",
       "    </tr>\n",
       "    <tr>\n",
       "      <th>min</th>\n",
       "      <td>350.000000</td>\n",
       "      <td>18.000000</td>\n",
       "      <td>0.000000</td>\n",
       "      <td>0.000000</td>\n",
       "      <td>1.000000</td>\n",
       "      <td>11.580000</td>\n",
       "    </tr>\n",
       "    <tr>\n",
       "      <th>25%</th>\n",
       "      <td>584.000000</td>\n",
       "      <td>32.000000</td>\n",
       "      <td>2.000000</td>\n",
       "      <td>0.000000</td>\n",
       "      <td>1.000000</td>\n",
       "      <td>51002.110000</td>\n",
       "    </tr>\n",
       "    <tr>\n",
       "      <th>50%</th>\n",
       "      <td>652.000000</td>\n",
       "      <td>37.000000</td>\n",
       "      <td>5.000000</td>\n",
       "      <td>97198.540000</td>\n",
       "      <td>1.000000</td>\n",
       "      <td>100193.915000</td>\n",
       "    </tr>\n",
       "    <tr>\n",
       "      <th>75%</th>\n",
       "      <td>718.000000</td>\n",
       "      <td>44.000000</td>\n",
       "      <td>7.000000</td>\n",
       "      <td>127644.240000</td>\n",
       "      <td>2.000000</td>\n",
       "      <td>149388.247500</td>\n",
       "    </tr>\n",
       "    <tr>\n",
       "      <th>max</th>\n",
       "      <td>850.000000</td>\n",
       "      <td>92.000000</td>\n",
       "      <td>10.000000</td>\n",
       "      <td>250898.090000</td>\n",
       "      <td>4.000000</td>\n",
       "      <td>199992.480000</td>\n",
       "    </tr>\n",
       "  </tbody>\n",
       "</table>\n",
       "</div>"
      ],
      "text/plain": [
       "        CreditScore           Age       Tenure        Balance  NumOfProducts  \\\n",
       "count  10000.000000  10000.000000  9091.000000   10000.000000   10000.000000   \n",
       "mean     650.528800     38.921800     4.997690   76485.889288       1.530200   \n",
       "std       96.653299     10.487806     2.894723   62397.405202       0.581654   \n",
       "min      350.000000     18.000000     0.000000       0.000000       1.000000   \n",
       "25%      584.000000     32.000000     2.000000       0.000000       1.000000   \n",
       "50%      652.000000     37.000000     5.000000   97198.540000       1.000000   \n",
       "75%      718.000000     44.000000     7.000000  127644.240000       2.000000   \n",
       "max      850.000000     92.000000    10.000000  250898.090000       4.000000   \n",
       "\n",
       "       EstimatedSalary  \n",
       "count     10000.000000  \n",
       "mean     100090.239881  \n",
       "std       57510.492818  \n",
       "min          11.580000  \n",
       "25%       51002.110000  \n",
       "50%      100193.915000  \n",
       "75%      149388.247500  \n",
       "max      199992.480000  "
      ]
     },
     "execution_count": 9,
     "metadata": {},
     "output_type": "execute_result"
    }
   ],
   "source": [
    "df[['CreditScore', 'Age', 'Tenure', 'Balance', 'NumOfProducts', 'EstimatedSalary']].describe()"
   ]
  },
  {
   "cell_type": "markdown",
   "metadata": {},
   "source": [
    "### Вывод по изучению данных\n",
    "\n",
    "1. В датафрейме 10000 строк 14 столбцов, где каждая строка это - клиент, каждый столбец - признак. 3 типа данных: float, int и object. Грубые дубликаты отсутствуют.\n",
    "\n",
    "2. В столбце `Tenure` есть пропущенные данные (около 10% пропусков). Данные могли отсутствовать изначально или быть утеряны из-за сбоев в системе при выгрузке базы. \n",
    "\n",
    "3. Изучены уникальные значения во всех столбцах.\n",
    "\n",
    "4. Целевым признаком является столбец `Exited`. В выборке представлены клиенты, где 79.6% - остались с банком, а 20.4% ушли от банка, что говорит нам о том, имеется дисбаланс в данных.\n",
    "\n",
    "5. Признаками содержащими лишнюю информацию для машинного обучения являются: `Surname, RowNumber и CustomerId`.\n",
    "\n",
    "6. Остальные признаки делятся на две группы: количественные и категориальные.\n",
    "- Категориальные: `Gender, Geography, HasCrCard и IsActiveMember`\n",
    "- Количественные: `CreditScore, Age, Tenure, NumOfProducts, Balance и EstimatedSalary`\n",
    "\n",
    "7. Изучено распределение значений в категориальных  признаках.\n",
    "\n",
    "8. Изучены статистические характеристики количественных признаков."
   ]
  },
  {
   "cell_type": "markdown",
   "metadata": {},
   "source": [
    "### Предобработка данных"
   ]
  },
  {
   "cell_type": "markdown",
   "metadata": {},
   "source": [
    "Признаки `RowNumber, CustomerId и Surname` не несут в себе информации, необходимой для дальнейшей классификации, удалим их."
   ]
  },
  {
   "cell_type": "code",
   "execution_count": 10,
   "metadata": {},
   "outputs": [],
   "source": [
    "df = df.drop(['RowNumber', 'CustomerId', 'Surname'], axis=1)"
   ]
  },
  {
   "cell_type": "markdown",
   "metadata": {},
   "source": [
    "Заменим пропущенные значения в столбце tenure на ноль, сами данные столбца для обучения нам не понадобятся, а вот терять почти 10% строк не будем."
   ]
  },
  {
   "cell_type": "code",
   "execution_count": 11,
   "metadata": {},
   "outputs": [],
   "source": [
    "df['Tenure'] = df['Tenure'].fillna(0)"
   ]
  },
  {
   "cell_type": "code",
   "execution_count": 12,
   "metadata": {
    "scrolled": true
   },
   "outputs": [
    {
     "name": "stdout",
     "output_type": "stream",
     "text": [
      "<class 'pandas.core.frame.DataFrame'>\n",
      "RangeIndex: 10000 entries, 0 to 9999\n",
      "Data columns (total 11 columns):\n",
      " #   Column           Non-Null Count  Dtype  \n",
      "---  ------           --------------  -----  \n",
      " 0   CreditScore      10000 non-null  int64  \n",
      " 1   Geography        10000 non-null  object \n",
      " 2   Gender           10000 non-null  object \n",
      " 3   Age              10000 non-null  int64  \n",
      " 4   Tenure           10000 non-null  float64\n",
      " 5   Balance          10000 non-null  float64\n",
      " 6   NumOfProducts    10000 non-null  int64  \n",
      " 7   HasCrCard        10000 non-null  int64  \n",
      " 8   IsActiveMember   10000 non-null  int64  \n",
      " 9   EstimatedSalary  10000 non-null  float64\n",
      " 10  Exited           10000 non-null  int64  \n",
      "dtypes: float64(3), int64(6), object(2)\n",
      "memory usage: 859.5+ KB\n"
     ]
    }
   ],
   "source": [
    "df.info()"
   ]
  },
  {
   "cell_type": "markdown",
   "metadata": {},
   "source": [
    "Изменим тип данных на `object` в категориальных признаках, в столбцах 'HasCrCard', 'IsActiveMember'."
   ]
  },
  {
   "cell_type": "code",
   "execution_count": 13,
   "metadata": {},
   "outputs": [],
   "source": [
    "for column in ['HasCrCard', 'IsActiveMember']:\n",
    "    df[column] = df[column].astype('object')"
   ]
  },
  {
   "cell_type": "markdown",
   "metadata": {},
   "source": [
    "Преобразуем категориальные признаки в численные техникой прямого кодирования One-Hot Encoding, используя функцию `pd.get_dummies()`, с аргументом `drop_first=True`, который удалит первоначальный столбец из датафрейма. Это необходимо для удаления связанной информации, которая может привести нас в \"дамми-ловушку\"."
   ]
  },
  {
   "cell_type": "code",
   "execution_count": 14,
   "metadata": {},
   "outputs": [],
   "source": [
    "df = pd.get_dummies(df, drop_first=True)"
   ]
  },
  {
   "cell_type": "markdown",
   "metadata": {},
   "source": [
    "Преобразуем типы данных в столбцах `'CreditScore', 'Age', 'Tenure', 'NumOfProducts', 'EstimatedSalary'` в `float` для экономии места."
   ]
  },
  {
   "cell_type": "code",
   "execution_count": 15,
   "metadata": {},
   "outputs": [],
   "source": [
    "for column in ['CreditScore', 'Age', 'Tenure', 'NumOfProducts', 'EstimatedSalary']:\n",
    "     df[column] = pd.to_numeric(df[column], downcast='float')"
   ]
  },
  {
   "cell_type": "markdown",
   "metadata": {},
   "source": [
    "Преобразуем типы данных в столбце `'Exited'` в `int` для экономии места."
   ]
  },
  {
   "cell_type": "code",
   "execution_count": 16,
   "metadata": {},
   "outputs": [],
   "source": [
    "df['Exited'] = pd.to_numeric(df['Exited'], downcast='integer')"
   ]
  },
  {
   "cell_type": "code",
   "execution_count": 17,
   "metadata": {
    "scrolled": false
   },
   "outputs": [
    {
     "name": "stdout",
     "output_type": "stream",
     "text": [
      "<class 'pandas.core.frame.DataFrame'>\n",
      "RangeIndex: 10000 entries, 0 to 9999\n",
      "Data columns (total 12 columns):\n",
      " #   Column             Non-Null Count  Dtype  \n",
      "---  ------             --------------  -----  \n",
      " 0   CreditScore        10000 non-null  float32\n",
      " 1   Age                10000 non-null  float32\n",
      " 2   Tenure             10000 non-null  float32\n",
      " 3   Balance            10000 non-null  float64\n",
      " 4   NumOfProducts      10000 non-null  float32\n",
      " 5   EstimatedSalary    10000 non-null  float32\n",
      " 6   Exited             10000 non-null  int8   \n",
      " 7   Geography_Germany  10000 non-null  uint8  \n",
      " 8   Geography_Spain    10000 non-null  uint8  \n",
      " 9   Gender_Male        10000 non-null  uint8  \n",
      " 10  HasCrCard_1        10000 non-null  uint8  \n",
      " 11  IsActiveMember_1   10000 non-null  uint8  \n",
      "dtypes: float32(5), float64(1), int8(1), uint8(5)\n",
      "memory usage: 332.2 KB\n"
     ]
    }
   ],
   "source": [
    "df.info()"
   ]
  },
  {
   "cell_type": "markdown",
   "metadata": {},
   "source": [
    "Взглянем на преображенный датафрейм."
   ]
  },
  {
   "cell_type": "code",
   "execution_count": 18,
   "metadata": {
    "scrolled": true
   },
   "outputs": [
    {
     "data": {
      "text/html": [
       "<div>\n",
       "<style scoped>\n",
       "    .dataframe tbody tr th:only-of-type {\n",
       "        vertical-align: middle;\n",
       "    }\n",
       "\n",
       "    .dataframe tbody tr th {\n",
       "        vertical-align: top;\n",
       "    }\n",
       "\n",
       "    .dataframe thead th {\n",
       "        text-align: right;\n",
       "    }\n",
       "</style>\n",
       "<table border=\"1\" class=\"dataframe\">\n",
       "  <thead>\n",
       "    <tr style=\"text-align: right;\">\n",
       "      <th></th>\n",
       "      <th>CreditScore</th>\n",
       "      <th>Age</th>\n",
       "      <th>Tenure</th>\n",
       "      <th>Balance</th>\n",
       "      <th>NumOfProducts</th>\n",
       "      <th>EstimatedSalary</th>\n",
       "      <th>Exited</th>\n",
       "      <th>Geography_Germany</th>\n",
       "      <th>Geography_Spain</th>\n",
       "      <th>Gender_Male</th>\n",
       "      <th>HasCrCard_1</th>\n",
       "      <th>IsActiveMember_1</th>\n",
       "    </tr>\n",
       "  </thead>\n",
       "  <tbody>\n",
       "    <tr>\n",
       "      <th>0</th>\n",
       "      <td>619.0</td>\n",
       "      <td>42.0</td>\n",
       "      <td>2.0</td>\n",
       "      <td>0.00</td>\n",
       "      <td>1.0</td>\n",
       "      <td>101348.882812</td>\n",
       "      <td>1</td>\n",
       "      <td>0</td>\n",
       "      <td>0</td>\n",
       "      <td>0</td>\n",
       "      <td>1</td>\n",
       "      <td>1</td>\n",
       "    </tr>\n",
       "    <tr>\n",
       "      <th>1</th>\n",
       "      <td>608.0</td>\n",
       "      <td>41.0</td>\n",
       "      <td>1.0</td>\n",
       "      <td>83807.86</td>\n",
       "      <td>1.0</td>\n",
       "      <td>112542.578125</td>\n",
       "      <td>0</td>\n",
       "      <td>0</td>\n",
       "      <td>1</td>\n",
       "      <td>0</td>\n",
       "      <td>0</td>\n",
       "      <td>1</td>\n",
       "    </tr>\n",
       "    <tr>\n",
       "      <th>2</th>\n",
       "      <td>502.0</td>\n",
       "      <td>42.0</td>\n",
       "      <td>8.0</td>\n",
       "      <td>159660.80</td>\n",
       "      <td>3.0</td>\n",
       "      <td>113931.570312</td>\n",
       "      <td>1</td>\n",
       "      <td>0</td>\n",
       "      <td>0</td>\n",
       "      <td>0</td>\n",
       "      <td>1</td>\n",
       "      <td>0</td>\n",
       "    </tr>\n",
       "    <tr>\n",
       "      <th>3</th>\n",
       "      <td>699.0</td>\n",
       "      <td>39.0</td>\n",
       "      <td>1.0</td>\n",
       "      <td>0.00</td>\n",
       "      <td>2.0</td>\n",
       "      <td>93826.632812</td>\n",
       "      <td>0</td>\n",
       "      <td>0</td>\n",
       "      <td>0</td>\n",
       "      <td>0</td>\n",
       "      <td>0</td>\n",
       "      <td>0</td>\n",
       "    </tr>\n",
       "    <tr>\n",
       "      <th>4</th>\n",
       "      <td>850.0</td>\n",
       "      <td>43.0</td>\n",
       "      <td>2.0</td>\n",
       "      <td>125510.82</td>\n",
       "      <td>1.0</td>\n",
       "      <td>79084.101562</td>\n",
       "      <td>0</td>\n",
       "      <td>0</td>\n",
       "      <td>1</td>\n",
       "      <td>0</td>\n",
       "      <td>1</td>\n",
       "      <td>1</td>\n",
       "    </tr>\n",
       "    <tr>\n",
       "      <th>5</th>\n",
       "      <td>645.0</td>\n",
       "      <td>44.0</td>\n",
       "      <td>8.0</td>\n",
       "      <td>113755.78</td>\n",
       "      <td>2.0</td>\n",
       "      <td>149756.703125</td>\n",
       "      <td>1</td>\n",
       "      <td>0</td>\n",
       "      <td>1</td>\n",
       "      <td>1</td>\n",
       "      <td>1</td>\n",
       "      <td>0</td>\n",
       "    </tr>\n",
       "    <tr>\n",
       "      <th>6</th>\n",
       "      <td>822.0</td>\n",
       "      <td>50.0</td>\n",
       "      <td>7.0</td>\n",
       "      <td>0.00</td>\n",
       "      <td>2.0</td>\n",
       "      <td>10062.799805</td>\n",
       "      <td>0</td>\n",
       "      <td>0</td>\n",
       "      <td>0</td>\n",
       "      <td>1</td>\n",
       "      <td>1</td>\n",
       "      <td>1</td>\n",
       "    </tr>\n",
       "    <tr>\n",
       "      <th>7</th>\n",
       "      <td>376.0</td>\n",
       "      <td>29.0</td>\n",
       "      <td>4.0</td>\n",
       "      <td>115046.74</td>\n",
       "      <td>4.0</td>\n",
       "      <td>119346.882812</td>\n",
       "      <td>1</td>\n",
       "      <td>1</td>\n",
       "      <td>0</td>\n",
       "      <td>0</td>\n",
       "      <td>1</td>\n",
       "      <td>0</td>\n",
       "    </tr>\n",
       "    <tr>\n",
       "      <th>8</th>\n",
       "      <td>501.0</td>\n",
       "      <td>44.0</td>\n",
       "      <td>4.0</td>\n",
       "      <td>142051.07</td>\n",
       "      <td>2.0</td>\n",
       "      <td>74940.500000</td>\n",
       "      <td>0</td>\n",
       "      <td>0</td>\n",
       "      <td>0</td>\n",
       "      <td>1</td>\n",
       "      <td>0</td>\n",
       "      <td>1</td>\n",
       "    </tr>\n",
       "    <tr>\n",
       "      <th>9</th>\n",
       "      <td>684.0</td>\n",
       "      <td>27.0</td>\n",
       "      <td>2.0</td>\n",
       "      <td>134603.88</td>\n",
       "      <td>1.0</td>\n",
       "      <td>71725.726562</td>\n",
       "      <td>0</td>\n",
       "      <td>0</td>\n",
       "      <td>0</td>\n",
       "      <td>1</td>\n",
       "      <td>1</td>\n",
       "      <td>1</td>\n",
       "    </tr>\n",
       "  </tbody>\n",
       "</table>\n",
       "</div>"
      ],
      "text/plain": [
       "   CreditScore   Age  Tenure    Balance  NumOfProducts  EstimatedSalary  \\\n",
       "0        619.0  42.0     2.0       0.00            1.0    101348.882812   \n",
       "1        608.0  41.0     1.0   83807.86            1.0    112542.578125   \n",
       "2        502.0  42.0     8.0  159660.80            3.0    113931.570312   \n",
       "3        699.0  39.0     1.0       0.00            2.0     93826.632812   \n",
       "4        850.0  43.0     2.0  125510.82            1.0     79084.101562   \n",
       "5        645.0  44.0     8.0  113755.78            2.0    149756.703125   \n",
       "6        822.0  50.0     7.0       0.00            2.0     10062.799805   \n",
       "7        376.0  29.0     4.0  115046.74            4.0    119346.882812   \n",
       "8        501.0  44.0     4.0  142051.07            2.0     74940.500000   \n",
       "9        684.0  27.0     2.0  134603.88            1.0     71725.726562   \n",
       "\n",
       "   Exited  Geography_Germany  Geography_Spain  Gender_Male  HasCrCard_1  \\\n",
       "0       1                  0                0            0            1   \n",
       "1       0                  0                1            0            0   \n",
       "2       1                  0                0            0            1   \n",
       "3       0                  0                0            0            0   \n",
       "4       0                  0                1            0            1   \n",
       "5       1                  0                1            1            1   \n",
       "6       0                  0                0            1            1   \n",
       "7       1                  1                0            0            1   \n",
       "8       0                  0                0            1            0   \n",
       "9       0                  0                0            1            1   \n",
       "\n",
       "   IsActiveMember_1  \n",
       "0                 1  \n",
       "1                 1  \n",
       "2                 0  \n",
       "3                 0  \n",
       "4                 1  \n",
       "5                 0  \n",
       "6                 1  \n",
       "7                 0  \n",
       "8                 1  \n",
       "9                 1  "
      ]
     },
     "execution_count": 18,
     "metadata": {},
     "output_type": "execute_result"
    }
   ],
   "source": [
    "df.head(10)"
   ]
  },
  {
   "cell_type": "markdown",
   "metadata": {},
   "source": [
    "### Вывод по этапу предобработки данных:\n",
    "На этапе предобработки данных мы выполнили первичную подготовку данных для дальнейшего анализа и машинного обучения:\n",
    "\n",
    "* Удалили признаки `RowNumber, CustomerId, Surname` из датафрейма.\n",
    "* Исправили пропущенные значения в столбце `'Tenure'`, заменив их на 0, чтобы не терять порядка 10 % строк датафрейма.\n",
    "* Изменили тип данных в столбцах для экономии места. \n",
    "* Создали  новые столбцы для категориальных признаков, преобразовав их в численные, воспользовавшись техникой прямого кодирования `One-Hot Encoding`."
   ]
  },
  {
   "cell_type": "markdown",
   "metadata": {},
   "source": [
    "## Исследование задачи"
   ]
  },
  {
   "cell_type": "markdown",
   "metadata": {},
   "source": [
    "Для начала разделим данные на признаки и целевой признак"
   ]
  },
  {
   "cell_type": "code",
   "execution_count": 19,
   "metadata": {},
   "outputs": [],
   "source": [
    "features = df.drop('Exited', axis=1)\n",
    "target = df['Exited']"
   ]
  },
  {
   "cell_type": "markdown",
   "metadata": {},
   "source": [
    "Разделим данные на обучающую, валидационную и тестовую выборки в пропорции 3:1:1 соответственно (60% на обучающую и по 20% данных на валидационную и тестовую выборки)."
   ]
  },
  {
   "cell_type": "code",
   "execution_count": 20,
   "metadata": {},
   "outputs": [],
   "source": [
    "# разделение проведём с помощью функции train_test_split библиотеки sklearn\n",
    "X, X_test, y, y_test = train_test_split(features, target, test_size=0.2, random_state=12345)\n",
    "X_train, X_valid, y_train, y_valid = train_test_split(X, y, test_size=0.25, random_state=12345)"
   ]
  },
  {
   "cell_type": "code",
   "execution_count": 21,
   "metadata": {
    "scrolled": true
   },
   "outputs": [],
   "source": [
    "numeric = ['CreditScore', 'Age', 'Tenure', 'Balance', 'NumOfProducts', 'EstimatedSalary']\n",
    "\n",
    "rs = RobustScaler()\n",
    "\n",
    "\n",
    "rs.fit(X[numeric])\n",
    "rs.fit(X_train[numeric])\n",
    "\n",
    "X[numeric] = rs.transform(X[numeric])\n",
    "X_test[numeric] = rs.transform(X_test[numeric])\n",
    "\n",
    "X_train[numeric] = rs.transform(X_train[numeric])\n",
    "X_valid[numeric] = rs.transform(X_valid[numeric])\n"
   ]
  },
  {
   "cell_type": "code",
   "execution_count": 22,
   "metadata": {},
   "outputs": [
    {
     "data": {
      "text/html": [
       "<div>\n",
       "<style scoped>\n",
       "    .dataframe tbody tr th:only-of-type {\n",
       "        vertical-align: middle;\n",
       "    }\n",
       "\n",
       "    .dataframe tbody tr th {\n",
       "        vertical-align: top;\n",
       "    }\n",
       "\n",
       "    .dataframe thead th {\n",
       "        text-align: right;\n",
       "    }\n",
       "</style>\n",
       "<table border=\"1\" class=\"dataframe\">\n",
       "  <thead>\n",
       "    <tr style=\"text-align: right;\">\n",
       "      <th></th>\n",
       "      <th>CreditScore</th>\n",
       "      <th>Age</th>\n",
       "      <th>Tenure</th>\n",
       "      <th>Balance</th>\n",
       "      <th>NumOfProducts</th>\n",
       "      <th>EstimatedSalary</th>\n",
       "      <th>Geography_Germany</th>\n",
       "      <th>Geography_Spain</th>\n",
       "      <th>Gender_Male</th>\n",
       "      <th>HasCrCard_1</th>\n",
       "      <th>IsActiveMember_1</th>\n",
       "    </tr>\n",
       "  </thead>\n",
       "  <tbody>\n",
       "    <tr>\n",
       "      <th>454</th>\n",
       "      <td>0.783582</td>\n",
       "      <td>0.166667</td>\n",
       "      <td>0.4</td>\n",
       "      <td>0.236977</td>\n",
       "      <td>0.0</td>\n",
       "      <td>-0.441284</td>\n",
       "      <td>0</td>\n",
       "      <td>0</td>\n",
       "      <td>0</td>\n",
       "      <td>0</td>\n",
       "      <td>1</td>\n",
       "    </tr>\n",
       "    <tr>\n",
       "      <th>8307</th>\n",
       "      <td>-0.261194</td>\n",
       "      <td>-0.583333</td>\n",
       "      <td>-0.2</td>\n",
       "      <td>0.287704</td>\n",
       "      <td>0.0</td>\n",
       "      <td>-0.698118</td>\n",
       "      <td>0</td>\n",
       "      <td>0</td>\n",
       "      <td>1</td>\n",
       "      <td>1</td>\n",
       "      <td>1</td>\n",
       "    </tr>\n",
       "    <tr>\n",
       "      <th>4811</th>\n",
       "      <td>-0.582090</td>\n",
       "      <td>-0.916667</td>\n",
       "      <td>0.6</td>\n",
       "      <td>-0.759006</td>\n",
       "      <td>1.0</td>\n",
       "      <td>0.129429</td>\n",
       "      <td>0</td>\n",
       "      <td>1</td>\n",
       "      <td>0</td>\n",
       "      <td>1</td>\n",
       "      <td>0</td>\n",
       "    </tr>\n",
       "    <tr>\n",
       "      <th>1132</th>\n",
       "      <td>-0.186567</td>\n",
       "      <td>0.000000</td>\n",
       "      <td>-0.8</td>\n",
       "      <td>-0.759006</td>\n",
       "      <td>1.0</td>\n",
       "      <td>0.733506</td>\n",
       "      <td>0</td>\n",
       "      <td>0</td>\n",
       "      <td>1</td>\n",
       "      <td>1</td>\n",
       "      <td>1</td>\n",
       "    </tr>\n",
       "    <tr>\n",
       "      <th>9640</th>\n",
       "      <td>0.723881</td>\n",
       "      <td>-0.166667</td>\n",
       "      <td>-0.2</td>\n",
       "      <td>-0.759006</td>\n",
       "      <td>0.0</td>\n",
       "      <td>0.935673</td>\n",
       "      <td>0</td>\n",
       "      <td>0</td>\n",
       "      <td>0</td>\n",
       "      <td>1</td>\n",
       "      <td>0</td>\n",
       "    </tr>\n",
       "  </tbody>\n",
       "</table>\n",
       "</div>"
      ],
      "text/plain": [
       "      CreditScore       Age  Tenure   Balance  NumOfProducts  EstimatedSalary  \\\n",
       "454      0.783582  0.166667     0.4  0.236977            0.0        -0.441284   \n",
       "8307    -0.261194 -0.583333    -0.2  0.287704            0.0        -0.698118   \n",
       "4811    -0.582090 -0.916667     0.6 -0.759006            1.0         0.129429   \n",
       "1132    -0.186567  0.000000    -0.8 -0.759006            1.0         0.733506   \n",
       "9640     0.723881 -0.166667    -0.2 -0.759006            0.0         0.935673   \n",
       "\n",
       "      Geography_Germany  Geography_Spain  Gender_Male  HasCrCard_1  \\\n",
       "454                   0                0            0            0   \n",
       "8307                  0                0            1            1   \n",
       "4811                  0                1            0            1   \n",
       "1132                  0                0            1            1   \n",
       "9640                  0                0            0            1   \n",
       "\n",
       "      IsActiveMember_1  \n",
       "454                  1  \n",
       "8307                 1  \n",
       "4811                 0  \n",
       "1132                 1  \n",
       "9640                 0  "
      ]
     },
     "execution_count": 22,
     "metadata": {},
     "output_type": "execute_result"
    }
   ],
   "source": [
    "X.head()"
   ]
  },
  {
   "cell_type": "code",
   "execution_count": 23,
   "metadata": {},
   "outputs": [
    {
     "name": "stdout",
     "output_type": "stream",
     "text": [
      "Размеры наборов данных:\n",
      "X:        (8000, 11)\n",
      "X_train:  (6000, 11)\n",
      "X_valid:  (2000, 11)\n",
      "X_test:   (2000, 11)\n",
      "y:        (8000,)\n",
      "y_train:  (6000,)\n",
      "y_valid:  (2000,)\n",
      "y_test:   (2000,)\n"
     ]
    }
   ],
   "source": [
    "# выведем размеры получившихся выборок\n",
    "print('Размеры наборов данных:')\n",
    "print('X:       ', X.shape)\n",
    "print('X_train: ', X_train.shape)\n",
    "print('X_valid: ', X_valid.shape)\n",
    "print('X_test:  ', X_test.shape)\n",
    "print('y:       ', y.shape)\n",
    "print('y_train: ', y_train.shape)\n",
    "print('y_valid: ', y_valid.shape)\n",
    "print('y_test:  ', y_test.shape)"
   ]
  },
  {
   "cell_type": "markdown",
   "metadata": {},
   "source": [
    "Попробуем обучить различные классификационные модели без учёта дисбаланса классов."
   ]
  },
  {
   "cell_type": "markdown",
   "metadata": {},
   "source": [
    "### Решающее дерево\n",
    "\n",
    "* Инициируем модель решающего дерева DecisionTreeClassifier\n",
    "* Выделим гиперпараметры для настройки модели:\n",
    "    * max_depth - максимальная глубина древа\n",
    "    * min_samples_split - минимальное количество объектов в узле\n",
    "    * min_samples_leaf - минимальное количество объектов в листе\n",
    "    * criterion (\"gini\" или \"entropy\") - функция измерения качества разделения\n",
    "* Критерием проверки качества модели будет f1 и roc_auc."
   ]
  },
  {
   "cell_type": "code",
   "execution_count": 24,
   "metadata": {},
   "outputs": [],
   "source": [
    "def decision_tree(X_train, X_valid, y_train, y_valid, cw=None):\n",
    "    \"\"\"\n",
    "    input: X_train, X_valid, y_train, y_valid - обучающие и валидационные выборки признаков и целевого признака\n",
    "            cw - параметр class_weight для модели решающего дерева\n",
    "    output: None\n",
    "    description: функция обучает модель решающего дерева DecisionTreeClassifier с различными сочетаниями гиперпараметров;\n",
    "                 метрики качества модели: f1 и roc_auc;\n",
    "                 функция выводит наилучшие значения метрик и значения гиперпараметров наилучшей модели.\n",
    "    \"\"\"\n",
    "    # в параметрах best_params_f1 и best_f1 будем хранить наилучшие параметры для модели и наивысшую f1 метрику соответственно\n",
    "    best_params_f1 = []\n",
    "    best_f1 = 0\n",
    "    # аналогично для roc_auc метрики.\n",
    "    best_params_roc_auc = []\n",
    "    best_roc_auc = 0.5\n",
    "    # проходим в циклах по всем выбранным гиперпараметрам\n",
    "    for max_depth in range(2,14):\n",
    "        for min_samples_split in range(2,8):\n",
    "            for min_samples_leaf in range(1,10):\n",
    "                for criterion in ['gini', 'entropy']:\n",
    "                    # инициация модели с текущими гиперпараметрами\n",
    "                    model_dt_clf = DecisionTreeClassifier(random_state=12345,\n",
    "                                                          max_depth=max_depth,\n",
    "                                                          min_samples_split=min_samples_split,\n",
    "                                                          min_samples_leaf=min_samples_leaf,\n",
    "                                                          criterion=criterion,\n",
    "                                                          class_weight=cw)\n",
    "                    # обучение модели на тренировочной выборке\n",
    "                    model_dt_clf.fit(X_train, y_train)\n",
    "                    # поиск предсказаний модели на валидационной выборке\n",
    "                    predictions = model_dt_clf.predict(X_valid)\n",
    "                    # вычисление f1 модели методом f1_score\n",
    "                    f1 = f1_score(y_valid, predictions)\n",
    "                    # если текущее значение метрики f1 выше предыдущего лучшего значения, \n",
    "                    # сохраняем параметры модели и текущую метрику f1\n",
    "                    if f1 > best_f1:\n",
    "                        best_params_f1 = [max_depth, min_samples_split, min_samples_leaf, criterion]\n",
    "                        best_f1 = f1\n",
    "                    # аналогично для метрики roc_auc\n",
    "                    probabilities_valid = model_dt_clf.predict_proba(X_valid)\n",
    "                    probabilities_one_valid = probabilities_valid[:, 1]\n",
    "                    roc_auc = roc_auc_score(y_valid, probabilities_one_valid)\n",
    "                    \n",
    "                    if roc_auc > best_roc_auc:\n",
    "                        best_params_roc_auc = [max_depth, min_samples_split, min_samples_leaf, criterion]\n",
    "                        best_roc_auc = roc_auc                                          \n",
    "                       \n",
    "    \n",
    "    # вывод наилучшей метрики f1 и параметров модели.\n",
    "    print('''Наилучшая метрика f1: {}\n",
    "    Параметры модели:\n",
    "       max_depth = {}\n",
    "       min_samples_split = {}\n",
    "       min_samples_leaf = {}\n",
    "       criterion = {} \\n'''.format(round(best_f1, 3),\n",
    "                                 best_params_f1[0],\n",
    "                                 best_params_f1[1],\n",
    "                                 best_params_f1[2],\n",
    "                                 best_params_f1[3]\n",
    "                                ))\n",
    "    \n",
    "    # вывод наилучшей метрики roc_auc и параметров модели.\n",
    "    print('''Наилучшая метрика roc_auc: {}\n",
    "    Параметры модели:\n",
    "       max_depth = {}\n",
    "       min_samples_split = {}\n",
    "       min_samples_leaf = {}\n",
    "       criterion = {} '''.format(round(best_roc_auc, 3),\n",
    "                                 best_params_roc_auc[0],\n",
    "                                 best_params_roc_auc[1],\n",
    "                                 best_params_roc_auc[2],\n",
    "                                 best_params_roc_auc[3]\n",
    "                                ))"
   ]
  },
  {
   "cell_type": "code",
   "execution_count": 25,
   "metadata": {
    "scrolled": true
   },
   "outputs": [
    {
     "name": "stdout",
     "output_type": "stream",
     "text": [
      "Наилучшая метрика f1: 0.567\n",
      "    Параметры модели:\n",
      "       max_depth = 7\n",
      "       min_samples_split = 2\n",
      "       min_samples_leaf = 8\n",
      "       criterion = gini \n",
      "\n",
      "Наилучшая метрика roc_auc: 0.835\n",
      "    Параметры модели:\n",
      "       max_depth = 6\n",
      "       min_samples_split = 2\n",
      "       min_samples_leaf = 5\n",
      "       criterion = entropy \n",
      "Wall time: 25.5 s\n"
     ]
    }
   ],
   "source": [
    "%%time\n",
    "decision_tree(X_train, X_valid, y_train, y_valid)"
   ]
  },
  {
   "cell_type": "markdown",
   "metadata": {},
   "source": [
    "* Наилучшая метрика f1 для решающего дерева 0.567 (недостаточно по техническому заданию: f1>0.59).\n",
    "* Наилучший результат по метрикам f1 и roc_auc достигается при разной настройке гиперпараметров.\n",
    "* Попробуем улучшить результат на других моделях."
   ]
  },
  {
   "cell_type": "markdown",
   "metadata": {},
   "source": [
    "### Случайный лес\n",
    "\n",
    "* Инициируем модель случайного леса RandomForestClassifier\n",
    "* Выделим гиперпараметры для настройки модели:\n",
    "    * n_estimators - количество деревьев\n",
    "    * max_depth - максимальная глубина древа\n",
    "    * min_samples_split - минимальное количество объектов в узле\n",
    "    * min_samples_leaf - минимальное количество объектов в листе\n",
    "* Критерием проверки качества модели будет f1 и roc_auc."
   ]
  },
  {
   "cell_type": "code",
   "execution_count": 26,
   "metadata": {},
   "outputs": [],
   "source": [
    "def random_forest(X_train, X_valid, y_train, y_valid, cw=None):\n",
    "    \"\"\"\n",
    "    input: X_train, X_valid, y_train, y_valid - обучающие и валидационные выборки признаков и целевого признака\n",
    "            cw - параметр class_weight для модели случайного леса\n",
    "    output: None\n",
    "    description: функция обучает модель решающего дерева RandomForestClassifier с различными сочетаниями гиперпараметров;\n",
    "                 метрики качества модели: f1 и roc_auc;\n",
    "                 функция выводит наилучшие значения метрик и значения гиперпараметров наилучшей модели.\n",
    "    \"\"\"\n",
    "    # в параметрах best_params_f1 и best_f1 будем хранить наилучшие параметры для модели и наивысшую f1 метрику соответственно\n",
    "    best_params_f1 = []\n",
    "    best_f1 = 0\n",
    "    # аналогично для roc_auc метрики.\n",
    "    best_params_roc_auc = []\n",
    "    best_roc_auc = 0.5\n",
    "    # проходим в циклах по всем выбранным гиперпараметрам\n",
    "    for n_estimators in range(30,40):\n",
    "        for max_depth in range(10,17,2):\n",
    "            for min_samples_split in range(2,5):\n",
    "                for min_samples_leaf in range(1,4):\n",
    "                    # инициация модели с текущими гиперпараметрами\n",
    "                    model_rf_clf = RandomForestClassifier(random_state=12345,\n",
    "                                                          n_estimators=n_estimators,\n",
    "                                                          max_depth=max_depth,\n",
    "                                                          min_samples_split=min_samples_split,\n",
    "                                                          min_samples_leaf=min_samples_leaf)\n",
    "                    # обучение модели на тренировочной выборке\n",
    "                    model_rf_clf.fit(X_train, y_train)\n",
    "                    # поиск предсказаний модели на валидационной выборке\n",
    "                    predictions = model_rf_clf.predict(X_valid)\n",
    "\n",
    "                    # вычисление f1 модели методом f1_score\n",
    "                    f1 = f1_score(y_valid, predictions)\n",
    "                    # если текущее значение метрики f1 выше предыдущего лучшего значения, \n",
    "                    # сохраняем параметры модели и текущую метрику f1\n",
    "                    if f1 > best_f1:\n",
    "                        best_params_f1 = [n_estimators, max_depth, min_samples_split, min_samples_leaf]\n",
    "                        best_f1 = f1\n",
    "                    # аналогично для метрики roc_auc\n",
    "                    probabilities_valid = model_rf_clf.predict_proba(X_valid)\n",
    "                    probabilities_one_valid = probabilities_valid[:, 1]\n",
    "                    roc_auc = roc_auc_score(y_valid, probabilities_one_valid)\n",
    "                    \n",
    "                    if roc_auc > best_roc_auc:\n",
    "                        best_params_roc_auc = [n_estimators, max_depth, min_samples_split, min_samples_leaf]\n",
    "                        best_roc_auc = roc_auc\n",
    "\n",
    "    # вывод наилучшей метрики f1 и параметров модели.\n",
    "    print('''Наилучшая метрика f1: {}\n",
    "    Параметры модели:\n",
    "       n_estimators = {}\n",
    "       max_depth = {}\n",
    "       min_samples_split = {}\n",
    "       min_samples_leaf = {} \\n'''.format(round(best_f1, 3),\n",
    "                                 best_params_f1[0],\n",
    "                                 best_params_f1[1],\n",
    "                                 best_params_f1[2],\n",
    "                                 best_params_f1[3]\n",
    "                                ))\n",
    "\n",
    "    # вывод наилучшей метрики roc_auc и параметров модели.\n",
    "    print('''Наилучшая метрика roc_auc: {}\n",
    "    Параметры модели:\n",
    "       n_estimators = {}\n",
    "       max_depth = {}\n",
    "       min_samples_split = {}\n",
    "       min_samples_leaf = {} '''.format(round(best_roc_auc, 3),\n",
    "                                 best_params_roc_auc[0],\n",
    "                                 best_params_roc_auc[1],\n",
    "                                 best_params_roc_auc[2],\n",
    "                                 best_params_roc_auc[3]\n",
    "                                ))"
   ]
  },
  {
   "cell_type": "code",
   "execution_count": 27,
   "metadata": {
    "scrolled": true
   },
   "outputs": [
    {
     "name": "stdout",
     "output_type": "stream",
     "text": [
      "Наилучшая метрика f1: 0.585\n",
      "    Параметры модели:\n",
      "       n_estimators = 31\n",
      "       max_depth = 16\n",
      "       min_samples_split = 2\n",
      "       min_samples_leaf = 1 \n",
      "\n",
      "Наилучшая метрика roc_auc: 0.853\n",
      "    Параметры модели:\n",
      "       n_estimators = 39\n",
      "       max_depth = 10\n",
      "       min_samples_split = 2\n",
      "       min_samples_leaf = 1 \n",
      "Wall time: 1min 10s\n"
     ]
    }
   ],
   "source": [
    "%%time\n",
    "random_forest(X_train, X_valid, y_train, y_valid)"
   ]
  },
  {
   "cell_type": "markdown",
   "metadata": {},
   "source": [
    "Наилучшая метрика f1 для случайного леса 0.586 (не удовлетворяет техническое задание: f1>0.59).\n",
    "Наилучший результат по метрикам f1 и roc_auc достигается при разной настройке гиперпараметров.\n",
    "Попробуем улучшить результат на других моделях."
   ]
  },
  {
   "cell_type": "markdown",
   "metadata": {},
   "source": [
    "### Логистическая регрессия\n",
    "* Инициируем модель логистической регрессии LogisticRegression\n",
    "* Критерием проверки качества модели будет f1 и roc_auc."
   ]
  },
  {
   "cell_type": "code",
   "execution_count": 28,
   "metadata": {
    "scrolled": true
   },
   "outputs": [
    {
     "name": "stdout",
     "output_type": "stream",
     "text": [
      "Наилучшая метрика f1: 0.306\n",
      "Наилучшая метрика roc_auc: 0.771\n",
      "Wall time: 14.5 ms\n"
     ]
    }
   ],
   "source": [
    "%%time\n",
    "\n",
    "model_lr_clf =  LogisticRegression(random_state=12345, solver='liblinear')\n",
    "model_lr_clf.fit(X_train, y_train)\n",
    "predictions = model_lr_clf.predict(X_valid)\n",
    "f1 = f1_score(y_valid, predictions)\n",
    "\n",
    "probabilities_valid = model_lr_clf.predict_proba(X_valid)\n",
    "probabilities_one_valid = probabilities_valid[:, 1]\n",
    "roc_auc = roc_auc_score(y_valid, probabilities_one_valid)\n",
    "\n",
    "print('Наилучшая метрика f1:', round(f1, 3))\n",
    "print ('Наилучшая метрика roc_auc:', round(roc_auc,3))"
   ]
  },
  {
   "cell_type": "markdown",
   "metadata": {},
   "source": [
    "* Наилучшая метрика f1 для логистической регрессии 0.306 (хуже, чем на остальных моделях).\n",
    "* Наилучшая метрика roc_auc 0.771 (хуже, чем на остальных моделях).\n",
    "\n",
    "Попробуем улучшить результат, разобравшись с дисбалансом классов."
   ]
  },
  {
   "cell_type": "markdown",
   "metadata": {},
   "source": [
    "### Выводы\n",
    "* Исходные данные разделены на обучающую, валидационную и тестовую выборки в соотношении 3:1:1 соответственно\n",
    "* Обучены модели \"Решающее Дерево\", \"Случайный лес\", \"Логистическая Регрессия\" без учёта дисбаланса классов. Максимальное значение метрики f1 = 0.586 получено при обучении модели случайного леса. Качество модели не удовлетворяет условию технического задания.\n",
    "* Качество моделей также оценено по метрике roc_auc. Максимальное значение метрики roc_auc = 0.853 достигнуто при обучении модели случайного леса.\n",
    "* Метрики f1 и roc_auc достигли максимальных значений при одинаковых настройках гиперпараметров."
   ]
  },
  {
   "cell_type": "markdown",
   "metadata": {},
   "source": [
    "## Борьба с дисбалансом"
   ]
  },
  {
   "cell_type": "markdown",
   "metadata": {},
   "source": [
    "* Соотношение значений целевого признака 4:1 (для классов 0 и 1 соответственно)\n",
    "* Для борьбы с дисбалансом классов попробуем:\n",
    "    * взвешивание классов (class_weight='balanced')\n",
    "    * увеличение выборки положительного класса (копирование объектов)\n",
    "    * уменьшение выборки отрицательного класса (sampling)\n",
    "    * перемешивание объектов методом shuffle"
   ]
  },
  {
   "cell_type": "markdown",
   "metadata": {},
   "source": [
    "### Взвешивание классов"
   ]
  },
  {
   "cell_type": "code",
   "execution_count": 29,
   "metadata": {
    "scrolled": false
   },
   "outputs": [
    {
     "name": "stdout",
     "output_type": "stream",
     "text": [
      "Наилучшая метрика f1: 0.571\n",
      "    Параметры модели:\n",
      "       max_depth = 7\n",
      "       min_samples_split = 2\n",
      "       min_samples_leaf = 3\n",
      "       criterion = entropy \n",
      "\n",
      "Наилучшая метрика roc_auc: 0.844\n",
      "    Параметры модели:\n",
      "       max_depth = 6\n",
      "       min_samples_split = 2\n",
      "       min_samples_leaf = 9\n",
      "       criterion = entropy \n",
      "Wall time: 26.5 s\n"
     ]
    }
   ],
   "source": [
    "%%time\n",
    "decision_tree(X_train, X_valid, y_train, y_valid, cw='balanced')"
   ]
  },
  {
   "cell_type": "code",
   "execution_count": 30,
   "metadata": {
    "scrolled": true
   },
   "outputs": [
    {
     "name": "stdout",
     "output_type": "stream",
     "text": [
      "Наилучшая метрика f1: 0.585\n",
      "    Параметры модели:\n",
      "       n_estimators = 31\n",
      "       max_depth = 16\n",
      "       min_samples_split = 2\n",
      "       min_samples_leaf = 1 \n",
      "\n",
      "Наилучшая метрика roc_auc: 0.853\n",
      "    Параметры модели:\n",
      "       n_estimators = 39\n",
      "       max_depth = 10\n",
      "       min_samples_split = 2\n",
      "       min_samples_leaf = 1 \n",
      "Wall time: 1min 11s\n"
     ]
    }
   ],
   "source": [
    "%%time\n",
    "random_forest(X_train, X_valid, y_train, y_valid, cw='balanced')"
   ]
  },
  {
   "cell_type": "markdown",
   "metadata": {},
   "source": [
    "* Взвешивание классов не дало прироста в метрике f1.\n",
    "* Применим upsampling и downsampling. "
   ]
  },
  {
   "cell_type": "markdown",
   "metadata": {},
   "source": [
    "### Upsampling и downsampling\n",
    "\n",
    "Напишем функции для увеличения и уменьшения выборок."
   ]
  },
  {
   "cell_type": "code",
   "execution_count": 31,
   "metadata": {},
   "outputs": [],
   "source": [
    "def upsample(features, target, repeat):\n",
    "    \"\"\"\n",
    "    input:        features - признаки \n",
    "                  target - целевой признак\n",
    "                  repeat (int) - множитель для повторения признаков\n",
    "    output:       features_upsampled - увеличенная выборка признаков\n",
    "                  target_upsampled - увеличенная выборка целевого признака\n",
    "    description:  функция разделяет признаки по классам целевого признака (0, 1),\n",
    "                  повторяет признаки целевого положительного класса repeat раз,\n",
    "                  объединяет объекты с разными целевыми признаками методом concat,\n",
    "                  перемешивает объекты методом shuffle\n",
    "    \"\"\"\n",
    "    features_zeros = features[target == 0]\n",
    "    features_ones = features[target == 1]\n",
    "    target_zeros = target[target == 0]\n",
    "    target_ones = target[target == 1]\n",
    "    \n",
    "    features_upsampled = pd.concat([features_zeros] + [features_ones] * repeat)\n",
    "    target_upsampled = pd.concat([target_zeros] + [target_ones] * repeat)\n",
    "    \n",
    "    features_upsampled, target_upsampled = shuffle(\n",
    "        features_upsampled, target_upsampled, random_state=12345)\n",
    "    return features_upsampled, target_upsampled"
   ]
  },
  {
   "cell_type": "code",
   "execution_count": 32,
   "metadata": {},
   "outputs": [],
   "source": [
    "def downsample(features, target, fraction):\n",
    "    \"\"\"\n",
    "    input:        features - признаки \n",
    "                  target - целево признак\n",
    "                  fraction (float) - доля объектов для семплирования\n",
    "    output:       features_downsampled - уменьшенная выборка признаков\n",
    "                  target_downsampled - уменьшенная выборка целевого признака\n",
    "    description:  функция разделяет признаки по классам целевого признака (0, 1), \n",
    "                  сэмплирует признаки целевого класса 0 (с коэффициентом fraction),\n",
    "                  объединяет объекты с разными целевыми признаками методом concat,\n",
    "                  перемешивает объекты методом shuffle\n",
    "    \"\"\"\n",
    "    features_zeros = features[target == 0]\n",
    "    features_ones = features[target == 1]\n",
    "    target_zeros = target[target == 0]\n",
    "    target_ones = target[target == 1]\n",
    "    \n",
    "    features_downsampled = pd.concat(\n",
    "        [features_zeros.sample(frac=fraction, random_state=12345)] + [features_ones])\n",
    "    target_downsampled = pd.concat(\n",
    "        [target_zeros.sample(frac=fraction, random_state=12345)] + [target_ones])\n",
    "    \n",
    "    features_downsampled, target_downsampled = shuffle(\n",
    "        features_downsampled, target_downsampled, random_state=12345)\n",
    "    return features_downsampled, target_downsampled"
   ]
  },
  {
   "cell_type": "markdown",
   "metadata": {},
   "source": [
    "Для обучающей выборки увеличим количество объектов класса 1 в 2 раза, уменьшим количество объектов класса 0 в 1.5 раза."
   ]
  },
  {
   "cell_type": "code",
   "execution_count": 33,
   "metadata": {},
   "outputs": [],
   "source": [
    "X_train_upsampled, y_train_upsampled = upsample(X_train, y_train, 2)\n",
    "X_train_balanced, y_train_balanced = downsample(X_train_upsampled, y_train_upsampled, 0.75)"
   ]
  },
  {
   "cell_type": "markdown",
   "metadata": {},
   "source": [
    "Обучим модели случайного леса и решающего дерева на сбалансированных обучающих выборках."
   ]
  },
  {
   "cell_type": "code",
   "execution_count": 34,
   "metadata": {},
   "outputs": [
    {
     "name": "stdout",
     "output_type": "stream",
     "text": [
      "Наилучшая метрика f1: 0.617\n",
      "    Параметры модели:\n",
      "       n_estimators = 30\n",
      "       max_depth = 12\n",
      "       min_samples_split = 2\n",
      "       min_samples_leaf = 3 \n",
      "\n",
      "Наилучшая метрика roc_auc: 0.854\n",
      "    Параметры модели:\n",
      "       n_estimators = 39\n",
      "       max_depth = 10\n",
      "       min_samples_split = 2\n",
      "       min_samples_leaf = 3 \n",
      "Wall time: 1min 10s\n"
     ]
    }
   ],
   "source": [
    "%%time\n",
    "random_forest(X_train_balanced, X_valid, y_train_balanced, y_valid)"
   ]
  },
  {
   "cell_type": "code",
   "execution_count": 35,
   "metadata": {},
   "outputs": [
    {
     "name": "stdout",
     "output_type": "stream",
     "text": [
      "Наилучшая метрика f1: 0.593\n",
      "    Параметры модели:\n",
      "       max_depth = 8\n",
      "       min_samples_split = 2\n",
      "       min_samples_leaf = 7\n",
      "       criterion = entropy \n",
      "\n",
      "Наилучшая метрика roc_auc: 0.839\n",
      "    Параметры модели:\n",
      "       max_depth = 6\n",
      "       min_samples_split = 2\n",
      "       min_samples_leaf = 8\n",
      "       criterion = entropy \n",
      "Wall time: 24.5 s\n"
     ]
    }
   ],
   "source": [
    "%%time\n",
    "decision_tree(X_train_balanced, X_valid, y_train_balanced, y_valid)"
   ]
  },
  {
   "cell_type": "markdown",
   "metadata": {},
   "source": [
    "* Метрика f1 для модели \"Случайный лес\" достигла значения 0.616 на сбалансированной выборке, что удовлетворяет техническое задание (>0.59).\n",
    "* Для модели \"Решающее дерево\" метрика f1 достигла значения 0.593 на сбалансированной выборке, что удовлетворяет техническое задание (>0.59), за меньшее время обучения.\n",
    "* Наилучшие значения метрик f1 и roc_auc достигнуты моделью случайного леса при разных значениях гиперпараметров. Для решающего дерева оптимальные значения гиперпараметров также одинаковые."
   ]
  },
  {
   "cell_type": "markdown",
   "metadata": {},
   "source": [
    "#### Выводы\n",
    "* Взвешивание классов с помощью параметра class_weight не дало увеличения метрики f1.\n",
    "* Upsampling положительного класса и downsampling отрицательного класса дали прирост точности моделей.\n",
    "* Необходимое качество на валидационной выборке получили модели:\n",
    "    * Случайный лес:\n",
    "        * f1 = 0.616\n",
    "        * roc_auc = 0.854\n",
    "        * repeat = 2 - повторение объектов класса 1\n",
    "        * fraction = 0.75 - коэффициент семплирования объектов класса 0\n",
    "    * Решающее дерево:\n",
    "        * f1 = 0.593\n",
    "        * roc_auc = 0.839\n",
    "        * repeat = 2\n",
    "        * fraction = 0.75"
   ]
  },
  {
   "cell_type": "markdown",
   "metadata": {},
   "source": [
    "## Тестирование модели\n",
    "\n",
    "* Проведём обучение полученных моделей на всех доступных данных (обучающие + валидационные), предварительно сбалансировав классы с найденными ранее коэффициентами repeat и fraction.\n",
    "* Вычислим метрики f1 и roc_auc на тестовой выборке.\n",
    "\n",
    "Модель \"Случайный лес\""
   ]
  },
  {
   "cell_type": "code",
   "execution_count": 36,
   "metadata": {},
   "outputs": [
    {
     "name": "stdout",
     "output_type": "stream",
     "text": [
      " f1 = 0.65, \n",
      " roc_auc = 0.86\n",
      "Wall time: 218 ms\n"
     ]
    }
   ],
   "source": [
    "%%time\n",
    "X_upsampled, y_upsampled = upsample(X, y, 2)\n",
    "X_balanced, y_balanced = downsample(X_upsampled, y_upsampled, 0.75)\n",
    "model_rfc_final = RandomForestClassifier(random_state=12345,\n",
    "                                         n_estimators=30,\n",
    "                                         max_depth=12,\n",
    "                                         min_samples_split=2,\n",
    "                                         min_samples_leaf=3)\n",
    "model_rfc_final.fit(X_balanced, y_balanced)\n",
    "predictions = model_rfc_final.predict(X_test)\n",
    "f1 = f1_score(y_test, predictions)\n",
    "\n",
    "probabilities_valid = model_rfc_final.predict_proba(X_test)\n",
    "probabilities_one_valid = probabilities_valid[:, 1]\n",
    "roc_auc = roc_auc_score(y_test, probabilities_one_valid)\n",
    "\n",
    "print(' f1 = {}, \\n roc_auc = {}'.format(round(f1,3), round(roc_auc,2)))"
   ]
  },
  {
   "cell_type": "markdown",
   "metadata": {},
   "source": [
    "### Выводы\n",
    "Значение метрики f1 на модели случайный лес:\n",
    "   * f1 = 0.65 \n",
    "   * roc_auc = 0.86 "
   ]
  },
  {
   "cell_type": "markdown",
   "metadata": {},
   "source": [
    "## Общий вывод\n",
    "\n",
    "* Произведена предобработка данных.\n",
    "    * В столбце `Tenure` обнаружены пропущенные данные (около 10% пропусков).\n",
    "    * Целевым признаком является столбец `Exited`. В выборке представлены клиенты, где 79.6% - остались с банком, а 20.4% ушли от банка, что говорит о том, что данные довольно несбалансированные 4:1.\n",
    "    * Признаки делятся на две группы: количественные и категориальные.\n",
    "        * Категориальные: `Gender, Geography, HasCrCard и IsActiveMember`\n",
    "        * Количественные: `CreditScore, Age, Tenure, NumOfProducts, Balance и EstimatedSalary`\n",
    "    * Удалены признаки `RowNumber, CustomerId, Surname` из датафрейма.\n",
    "    * Исправили пропущенные значения в столбце `'Tenure'`, заменены на 0, чтобы не терять порядка 10 % строк датафрейма.\n",
    "    * Изменен тип данных в столбцах для экономии места.\n",
    "    * Категориальные признаки преобразованы методом `One-Hot Encoder`.\n",
    "* Проведён анализ моделей без учёта дисбаланса классов.\n",
    "    * Исходные данные разделены на обучающую, валидационную и тестовую выборки в соотношении `3:1:1` соответственно.\n",
    "    * Обучены модели \"Решающее Дерево\", \"Случайный лес\", \"Логистическая Регрессия\" без учёта дисбаланса классов. Максимальное значение метрики `f1 = 0.586` получено при обучении модели случайного леса.\n",
    "    * Качество моделей также оценено по метрике `roc_auc`. Максимальное значение метрики `roc_auc = 0.853` достигнуто при обучении модели случайного леса.\n",
    "    * Метрики `f1` и roc_auc достигли максимальных значений при разных настройках гиперпараметров.\n",
    "* Проведён анализ дисбаланса классов.\n",
    "    * Взвешивание классов с помощью параметра `class_weight` не дало увеличения метрики `f1`.\n",
    "    * `Upsampling` положительного класса и `downsampling` отрицательного класса дали прирост точности моделей.\n",
    "    * Значение `f1` на валидационной выборке:\n",
    "        * Случайный лес:\n",
    "            * `f1 = 0.616`\n",
    "            * `roc_auc = 0.854`\n",
    "        * Решающее дерево:\n",
    "            * `f1 = 0.593`\n",
    "            * `roc_auc = 0.839`\n",
    "* Выполнена проверка `F1-мера` и `AUC-ROC` на тестовой выборке для модели случайны лес:    \n",
    "  * `f1 = 0.65`\n",
    "  * `roc_auc = 0.86`      "
   ]
  },
  {
   "cell_type": "markdown",
   "metadata": {},
   "source": [
    "## Чек-лист готовности проекта"
   ]
  },
  {
   "cell_type": "markdown",
   "metadata": {},
   "source": [
    "Поставьте 'x' в выполненных пунктах. Далее нажмите Shift+Enter."
   ]
  },
  {
   "cell_type": "markdown",
   "metadata": {},
   "source": [
    "- [x]  Jupyter Notebook открыт\n",
    "- [x]  Весь код выполняется без ошибок\n",
    "- [x]  Ячейки с кодом расположены в порядке исполнения\n",
    "- [x]  Выполнен шаг 1: данные подготовлены\n",
    "- [x]  Выполнен шаг 2: задача исследована\n",
    "    - [x]  Исследован баланс классов\n",
    "    - [x]  Изучены модели без учёта дисбаланса\n",
    "    - [x]  Написаны выводы по результатам исследования\n",
    "- [x]  Выполнен шаг 3: учтён дисбаланс\n",
    "    - [x]  Применено несколько способов борьбы с дисбалансом\n",
    "    - [x]  Написаны выводы по результатам исследования\n",
    "- [x]  Выполнен шаг 4: проведено тестирование\n",
    "- [x]  Удалось достичь *F1*-меры не менее 0.59\n",
    "- [x]  Исследована метрика *AUC-ROC*"
   ]
  }
 ],
 "metadata": {
  "ExecuteTimeLog": [
   {
    "duration": 1206,
    "start_time": "2022-06-26T03:17:01.026Z"
   },
   {
    "duration": 4,
    "start_time": "2022-06-26T03:17:19.498Z"
   },
   {
    "duration": 171,
    "start_time": "2022-06-26T03:17:20.775Z"
   },
   {
    "duration": 11,
    "start_time": "2022-06-26T03:17:24.071Z"
   },
   {
    "duration": 4,
    "start_time": "2022-06-26T03:17:27.311Z"
   },
   {
    "duration": 11,
    "start_time": "2022-06-26T03:17:28.112Z"
   },
   {
    "duration": 7,
    "start_time": "2022-06-26T03:17:45.026Z"
   },
   {
    "duration": 10,
    "start_time": "2022-06-26T03:18:13.135Z"
   },
   {
    "duration": 25,
    "start_time": "2022-06-26T03:18:18.996Z"
   },
   {
    "duration": 5,
    "start_time": "2022-06-26T03:19:43.390Z"
   },
   {
    "duration": 4,
    "start_time": "2022-06-26T03:20:00.053Z"
   },
   {
    "duration": 10,
    "start_time": "2022-06-26T03:20:27.787Z"
   },
   {
    "duration": 7,
    "start_time": "2022-06-26T03:20:46.004Z"
   },
   {
    "duration": 4,
    "start_time": "2022-06-26T03:21:09.563Z"
   },
   {
    "duration": 4,
    "start_time": "2022-06-26T03:21:10.021Z"
   },
   {
    "duration": 3,
    "start_time": "2022-06-26T03:21:11.675Z"
   },
   {
    "duration": 11,
    "start_time": "2022-06-26T03:21:12.236Z"
   },
   {
    "duration": 5,
    "start_time": "2022-06-26T03:22:15.998Z"
   },
   {
    "duration": 8,
    "start_time": "2022-06-26T03:22:46.272Z"
   },
   {
    "duration": 5,
    "start_time": "2022-06-26T03:22:46.739Z"
   },
   {
    "duration": 6,
    "start_time": "2022-06-26T03:23:03.475Z"
   },
   {
    "duration": 8,
    "start_time": "2022-06-26T03:25:10.098Z"
   },
   {
    "duration": 10290,
    "start_time": "2022-06-26T03:25:10.426Z"
   },
   {
    "duration": 8,
    "start_time": "2022-06-26T03:27:06.366Z"
   },
   {
    "duration": 74330,
    "start_time": "2022-06-26T03:27:09.443Z"
   },
   {
    "duration": 49,
    "start_time": "2022-06-26T03:33:50.980Z"
   }
  ],
  "kernelspec": {
   "display_name": "Python 3 (ipykernel)",
   "language": "python",
   "name": "python3"
  },
  "language_info": {
   "codemirror_mode": {
    "name": "ipython",
    "version": 3
   },
   "file_extension": ".py",
   "mimetype": "text/x-python",
   "name": "python",
   "nbconvert_exporter": "python",
   "pygments_lexer": "ipython3",
   "version": "3.9.7"
  },
  "toc": {
   "base_numbering": 1,
   "nav_menu": {},
   "number_sections": true,
   "sideBar": true,
   "skip_h1_title": true,
   "title_cell": "Содержание",
   "title_sidebar": "Contents",
   "toc_cell": true,
   "toc_position": {
    "height": "calc(100% - 180px)",
    "left": "10px",
    "top": "150px",
    "width": "303.825px"
   },
   "toc_section_display": true,
   "toc_window_display": true
  }
 },
 "nbformat": 4,
 "nbformat_minor": 2
}
