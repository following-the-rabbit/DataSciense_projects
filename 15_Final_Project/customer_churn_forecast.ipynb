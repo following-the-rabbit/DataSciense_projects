{
 "cells": [
  {
   "cell_type": "markdown",
   "id": "41d69330",
   "metadata": {
    "toc": true
   },
   "source": [
    "<h1>Содержание<span class=\"tocSkip\"></span></h1>\n",
    "<div class=\"toc\"><ul class=\"toc-item\"><li><span><a href=\"#Описание-проекта\" data-toc-modified-id=\"Описание-проекта-1\"><span class=\"toc-item-num\">1&nbsp;&nbsp;</span>Описание проекта</a></span><ul class=\"toc-item\"><li><span><a href=\"#Описание-Услуг\" data-toc-modified-id=\"Описание-Услуг-1.1\"><span class=\"toc-item-num\">1.1&nbsp;&nbsp;</span>Описание Услуг</a></span></li><li><span><a href=\"#Описание-данных\" data-toc-modified-id=\"Описание-данных-1.2\"><span class=\"toc-item-num\">1.2&nbsp;&nbsp;</span>Описание данных</a></span></li><li><span><a href=\"#План-проекта\" data-toc-modified-id=\"План-проекта-1.3\"><span class=\"toc-item-num\">1.3&nbsp;&nbsp;</span>План проекта</a></span></li></ul></li><li><span><a href=\"#Исследовательский-анализ-данных\" data-toc-modified-id=\"Исследовательский-анализ-данных-2\"><span class=\"toc-item-num\">2&nbsp;&nbsp;</span>Исследовательский анализ данных</a></span><ul class=\"toc-item\"><li><span><a href=\"#Загрузка-данных\" data-toc-modified-id=\"Загрузка-данных-2.1\"><span class=\"toc-item-num\">2.1&nbsp;&nbsp;</span>Загрузка данных</a></span></li><li><span><a href=\"#Предобработка-данных\" data-toc-modified-id=\"Предобработка-данных-2.2\"><span class=\"toc-item-num\">2.2&nbsp;&nbsp;</span>Предобработка данных</a></span><ul class=\"toc-item\"><li><span><a href=\"#Изучение-и-предобработка-таблиц:\" data-toc-modified-id=\"Изучение-и-предобработка-таблиц:-2.2.1\"><span class=\"toc-item-num\">2.2.1&nbsp;&nbsp;</span>Изучение и предобработка таблиц:</a></span><ul class=\"toc-item\"><li><span><a href=\"#contract\" data-toc-modified-id=\"contract-2.2.1.1\"><span class=\"toc-item-num\">2.2.1.1&nbsp;&nbsp;</span>contract</a></span></li><li><span><a href=\"#personal\" data-toc-modified-id=\"personal-2.2.1.2\"><span class=\"toc-item-num\">2.2.1.2&nbsp;&nbsp;</span>personal</a></span></li><li><span><a href=\"#internet\" data-toc-modified-id=\"internet-2.2.1.3\"><span class=\"toc-item-num\">2.2.1.3&nbsp;&nbsp;</span>internet</a></span></li><li><span><a href=\"#phone\" data-toc-modified-id=\"phone-2.2.1.4\"><span class=\"toc-item-num\">2.2.1.4&nbsp;&nbsp;</span>phone</a></span></li></ul></li><li><span><a href=\"#Объединение-таблиц\" data-toc-modified-id=\"Объединение-таблиц-2.2.2\"><span class=\"toc-item-num\">2.2.2&nbsp;&nbsp;</span>Объединение таблиц</a></span></li><li><span><a href=\"#Анализ-данных\" data-toc-modified-id=\"Анализ-данных-2.2.3\"><span class=\"toc-item-num\">2.2.3&nbsp;&nbsp;</span>Анализ данных</a></span></li><li><span><a href=\"#Матрица-корреляции\" data-toc-modified-id=\"Матрица-корреляции-2.2.4\"><span class=\"toc-item-num\">2.2.4&nbsp;&nbsp;</span>Матрица корреляции</a></span></li><li><span><a href=\"#Отбор-признаков\" data-toc-modified-id=\"Отбор-признаков-2.2.5\"><span class=\"toc-item-num\">2.2.5&nbsp;&nbsp;</span>Отбор признаков</a></span></li><li><span><a href=\"#Выводы\" data-toc-modified-id=\"Выводы-2.2.6\"><span class=\"toc-item-num\">2.2.6&nbsp;&nbsp;</span>Выводы</a></span></li></ul></li></ul></li><li><span><a href=\"#Подготовка-данных-к-обучению-моделей\" data-toc-modified-id=\"Подготовка-данных-к-обучению-моделей-3\"><span class=\"toc-item-num\">3&nbsp;&nbsp;</span>Подготовка данных к обучению моделей</a></span><ul class=\"toc-item\"><li><span><a href=\"#Баланс-классов\" data-toc-modified-id=\"Баланс-классов-3.1\"><span class=\"toc-item-num\">3.1&nbsp;&nbsp;</span>Баланс классов</a></span></li><li><span><a href=\"#Разделение-на-выборки\" data-toc-modified-id=\"Разделение-на-выборки-3.2\"><span class=\"toc-item-num\">3.2&nbsp;&nbsp;</span>Разделение на выборки</a></span></li><li><span><a href=\"#One-Hot-Encoding-Кодирование-признаков\" data-toc-modified-id=\"One-Hot-Encoding-Кодирование-признаков-3.3\"><span class=\"toc-item-num\">3.3&nbsp;&nbsp;</span>One-Hot Encoding Кодирование признаков</a></span></li></ul></li><li><span><a href=\"#Обучение-моделей\" data-toc-modified-id=\"Обучение-моделей-4\"><span class=\"toc-item-num\">4&nbsp;&nbsp;</span>Обучение моделей</a></span><ul class=\"toc-item\"><li><span><a href=\"#Base-line-модель\" data-toc-modified-id=\"Base-line-модель-4.1\"><span class=\"toc-item-num\">4.1&nbsp;&nbsp;</span>Base-line модель</a></span></li><li><span><a href=\"#Логистическая-регрессия\" data-toc-modified-id=\"Логистическая-регрессия-4.2\"><span class=\"toc-item-num\">4.2&nbsp;&nbsp;</span>Логистическая регрессия</a></span><ul class=\"toc-item\"><li><span><a href=\"#Масштабирование-признаков\" data-toc-modified-id=\"Масштабирование-признаков-4.2.1\"><span class=\"toc-item-num\">4.2.1&nbsp;&nbsp;</span>Масштабирование признаков</a></span></li></ul></li><li><span><a href=\"#Модель-RandomForest\" data-toc-modified-id=\"Модель-RandomForest-4.3\"><span class=\"toc-item-num\">4.3&nbsp;&nbsp;</span>Модель RandomForest</a></span></li><li><span><a href=\"#CatBoost-Model\" data-toc-modified-id=\"CatBoost-Model-4.4\"><span class=\"toc-item-num\">4.4&nbsp;&nbsp;</span>CatBoost Model</a></span></li></ul></li><li><span><a href=\"#CatBoost-Model-на-тестовой-выборке\" data-toc-modified-id=\"CatBoost-Model-на-тестовой-выборке-5\"><span class=\"toc-item-num\">5&nbsp;&nbsp;</span>CatBoost Model на тестовой выборке</a></span><ul class=\"toc-item\"><li><span><a href=\"#График-ROC-кривой\" data-toc-modified-id=\"График-ROC-кривой-5.1\"><span class=\"toc-item-num\">5.1&nbsp;&nbsp;</span>График ROC-кривой</a></span></li></ul></li><li><span><a href=\"#Общий-вывод\" data-toc-modified-id=\"Общий-вывод-6\"><span class=\"toc-item-num\">6&nbsp;&nbsp;</span>Общий вывод</a></span></li><li><span><a href=\"#Отчёт-по-финальному-проекту.\" data-toc-modified-id=\"Отчёт-по-финальному-проекту.-7\"><span class=\"toc-item-num\">7&nbsp;&nbsp;</span>Отчёт по финальному проекту.</a></span></li></ul></div>"
   ]
  },
  {
   "cell_type": "markdown",
   "id": "67e5c933",
   "metadata": {},
   "source": [
    "# Прогнозирование оттока клиентов"
   ]
  },
  {
   "cell_type": "markdown",
   "id": "00d9ffbc",
   "metadata": {},
   "source": [
    "## Описание проекта\n",
    "\n",
    "Оператор связи «Ниединогоразрыва.ком» хочет научиться прогнозировать отток клиентов. Если выяснится, что пользователь планирует уйти, ему будут предложены промокоды и специальные условия. Команда оператора собрала персональные данные о некоторых клиентах, информацию об их тарифах и договорах.\n",
    "\n",
    "Для выборки клиентов доступны персональные данные, информация о тарифах и договорах.  \n",
    "Информация о договорах актуальна на **1 февраля 2020**.    \n",
    "- Основная метрика для проверки качества модели: `roc_auc`  \n",
    "- Дополнительная метрика: `accuracy` "
   ]
  },
  {
   "cell_type": "markdown",
   "id": "303f5daa",
   "metadata": {},
   "source": [
    "### Описание Услуг\n",
    "1) Стационарная телефонная связь. Возможно подключение телефонного аппарата к нескольким линиям одновременно.  \n",
    "2) Интернет. Подключение может быть двух типов: через телефонную линию DSL или оптоволоконный кабель Fiber optic.  \n",
    "\n",
    "**Дополнительные услуги:**  \n",
    "- Интернет-безопасность: антивирус (*DeviceProtection*) и блокировка небезопасных сайтов (*OnlineSecurity*);\n",
    "- Выделенная линия технической поддержки (*TechSupport*);\n",
    "- Облачное хранилище файлов для резервного копирования данных (*OnlineBackup*);\n",
    "- Стриминговое телевидение (*StreamingTV*) и каталог фильмов (*StreamingMovies*)."
   ]
  },
  {
   "cell_type": "markdown",
   "id": "a58ad3fa",
   "metadata": {},
   "source": [
    "### Описание данных\n",
    "Данные состоят из файлов, полученных из разных источников:\n",
    "- `contract.csv` — информация о договоре;\n",
    "- `personal.csv` — персональные данные клиента;\n",
    "- `internet.csv` — информация об интернет-услугах;\n",
    "- `phone.csv` — информация об услугах телефонии."
   ]
  },
  {
   "cell_type": "markdown",
   "id": "61c7e66b",
   "metadata": {},
   "source": [
    "### План проекта\n",
    "\n",
    "* Подготовить данные для анализа\n",
    "    * Загрузим данные\n",
    "    * Для всех полей преобразуем данные в удобный для обработки формат (строки в числовые категории, datetime и др.)\n",
    "    * В столбцах с бинарными значениями заменим значения на 1/0 \n",
    "    * При наличии, обработаем пропуски\n",
    "    * Выделим целевой признак\n",
    "    * Объединим таблицы в один датафрейм\n",
    "    \n",
    "* Провести анализ данных\n",
    "    * Посмотрим на распределение целевого признака, на тех, кто ушёл и тех, кто остался клиентом компании.\n",
    "    * Посмотрим на распределение интересующих признаков в зависимости от целевого признака, к некоторым построим графики\n",
    "    \n",
    "* Выбор и обучение моделей\n",
    "    * Разделим данные на обучающую и тестовую выборки\n",
    "    * Выполним One-Hot Encoding Кодирование признаков\n",
    "    * Base-line модель\n",
    "    * Логистическая регрессия\n",
    "        * Выполним масштабирование данных на копиях обучающей и тестовой выборок\n",
    "        * Применим кросс-валидацию\n",
    "        * Выведем метрики roc_auc и accuracy\n",
    "    * Random Forest\n",
    "        * Подберём гиперпараметры с кросс-валидацией с помощью GridSearchCV\n",
    "        * Выведем метрики roc_auc и accuracy\n",
    "    * Градиентный бустинг (CatBoost)\n",
    "        * Подберём гиперпараметры с кросс-валидацией с помощью GridSearchCV\n",
    "        * Выведем метрики roc_auc и accuracy\n",
    "    * Сравним метрики roc_auc и accuracy и выберем лучшую модель\n",
    "    * Выведем финальные метрики roc_auc и accuracy лучшей модели на тестовой выборке\n",
    "* Общий вывод\n",
    "   \n",
    "* Отчет о проекте\n",
    "    * чек-лист плана\n",
    "    * Выделение ключевых шагов в решении задачи\n",
    "    * описание модели машинного обучения (с подобранными гиперпараметрами)\n",
    "    * какие признаки использовались при обучении\n",
    "    * как происходила предобработка данных \n",
    "    * Итоговая модель и какое у неё качество"
   ]
  },
  {
   "cell_type": "markdown",
   "id": "a57e88e4",
   "metadata": {},
   "source": [
    "## Исследовательский анализ данных\n",
    "\n",
    "### Загрузка данных\n",
    "\n",
    "Подключаем библиотеки:\n",
    "- `pandas` - для работы с таблицами  \n",
    "- `seaborn` - для визуализации данных\n",
    "- `sklearn` - инструменты машинного обучения (модели регрессии, метрики для исследования качества моделей, разделение данных, предобработка данных)"
   ]
  },
  {
   "cell_type": "code",
   "execution_count": 1,
   "id": "f538c2cb",
   "metadata": {},
   "outputs": [],
   "source": [
    "import pandas as pd\n",
    "import numpy as np\n",
    "import matplotlib.pyplot as plt\n",
    "import seaborn as sns\n",
    "\n",
    "from sklearn.model_selection import train_test_split, cross_val_score, GridSearchCV\n",
    "from sklearn.preprocessing import RobustScaler, OneHotEncoder\n",
    "from sklearn.linear_model import LogisticRegression\n",
    "from sklearn.ensemble import RandomForestClassifier\n",
    "from catboost import CatBoostClassifier\n",
    "from sklearn.metrics import roc_auc_score, accuracy_score, roc_curve"
   ]
  },
  {
   "cell_type": "code",
   "execution_count": 2,
   "id": "6290c99b",
   "metadata": {},
   "outputs": [],
   "source": [
    "try:    \n",
    "    contract = pd.read_csv('D:/notebook/final_project/final_provider/final_provider/contract.csv', index_col='customerID')                 \n",
    "    internet = pd.read_csv('D:/notebook/final_project/final_provider/final_provider/internet.csv', index_col='customerID')\n",
    "    personal = pd.read_csv('D:/notebook/final_project/final_provider/final_provider/personal.csv', index_col='customerID')\n",
    "    phone = pd.read_csv('D:/notebook/final_project/final_provider/final_provider/phone.csv', index_col='customerID')\n",
    "except: \n",
    "    contract = pd.read_csv('/datasets/final_provider/contract.csv', index_col='customerID')\n",
    "    internet = pd.read_csv('/datasets/final_provider/internet.csv', index_col='customerID')\n",
    "    personal = pd.read_csv('/datasets/final_provider/personal.csv', index_col='customerID')\n",
    "    phone = pd.read_csv('/datasets/final_provider/phone.csv', index_col='customerID')"
   ]
  },
  {
   "cell_type": "markdown",
   "id": "78f4ece6",
   "metadata": {},
   "source": [
    "###  Предобработка данных\n",
    "\n",
    "- Для всех полей преобразуем данные в удобный для обработки формат (строки в числовые категории, datetime и др.)\n",
    "- При наличии, обработаем пропуски\n",
    "\n",
    "#### Изучение и предобработка таблиц:\n",
    "##### contract"
   ]
  },
  {
   "cell_type": "code",
   "execution_count": 3,
   "id": "4cb2e9eb",
   "metadata": {
    "scrolled": true
   },
   "outputs": [
    {
     "name": "stdout",
     "output_type": "stream",
     "text": [
      "<class 'pandas.core.frame.DataFrame'>\n",
      "Index: 7043 entries, 7590-VHVEG to 3186-AJIEK\n",
      "Data columns (total 7 columns):\n",
      " #   Column            Non-Null Count  Dtype  \n",
      "---  ------            --------------  -----  \n",
      " 0   BeginDate         7043 non-null   object \n",
      " 1   EndDate           7043 non-null   object \n",
      " 2   Type              7043 non-null   object \n",
      " 3   PaperlessBilling  7043 non-null   object \n",
      " 4   PaymentMethod     7043 non-null   object \n",
      " 5   MonthlyCharges    7043 non-null   float64\n",
      " 6   TotalCharges      7043 non-null   object \n",
      "dtypes: float64(1), object(6)\n",
      "memory usage: 440.2+ KB\n"
     ]
    }
   ],
   "source": [
    "contract.info()"
   ]
  },
  {
   "cell_type": "markdown",
   "id": "62f64e65",
   "metadata": {},
   "source": [
    "В `contract.csv` представлена информация о договоре, а именно:\n",
    "\n",
    "* `BeginDate` - дата заключения договора\n",
    "* `EndDate` - дата расторжения договора\n",
    "* `Type` - тип оплаты за услуги (ежемесячный платёж или раз в год, раз в два года)\n",
    "* `PaperlessBilling` - безналичный расчет\n",
    "* `PaymentMethod` - способы оплаты за услуги\n",
    "* `MonthlyCharges` - ежемесячные платежи независимо от типа оплаты\n",
    "* `TotalCharges` - общая сумма затрат клиента"
   ]
  },
  {
   "cell_type": "code",
   "execution_count": 4,
   "id": "2864c866",
   "metadata": {},
   "outputs": [
    {
     "data": {
      "text/html": [
       "<div>\n",
       "<style scoped>\n",
       "    .dataframe tbody tr th:only-of-type {\n",
       "        vertical-align: middle;\n",
       "    }\n",
       "\n",
       "    .dataframe tbody tr th {\n",
       "        vertical-align: top;\n",
       "    }\n",
       "\n",
       "    .dataframe thead th {\n",
       "        text-align: right;\n",
       "    }\n",
       "</style>\n",
       "<table border=\"1\" class=\"dataframe\">\n",
       "  <thead>\n",
       "    <tr style=\"text-align: right;\">\n",
       "      <th></th>\n",
       "      <th>BeginDate</th>\n",
       "      <th>EndDate</th>\n",
       "      <th>Type</th>\n",
       "      <th>PaperlessBilling</th>\n",
       "      <th>PaymentMethod</th>\n",
       "      <th>MonthlyCharges</th>\n",
       "      <th>TotalCharges</th>\n",
       "    </tr>\n",
       "    <tr>\n",
       "      <th>customerID</th>\n",
       "      <th></th>\n",
       "      <th></th>\n",
       "      <th></th>\n",
       "      <th></th>\n",
       "      <th></th>\n",
       "      <th></th>\n",
       "      <th></th>\n",
       "    </tr>\n",
       "  </thead>\n",
       "  <tbody>\n",
       "    <tr>\n",
       "      <th>7590-VHVEG</th>\n",
       "      <td>2020-01-01</td>\n",
       "      <td>No</td>\n",
       "      <td>Month-to-month</td>\n",
       "      <td>Yes</td>\n",
       "      <td>Electronic check</td>\n",
       "      <td>29.85</td>\n",
       "      <td>29.85</td>\n",
       "    </tr>\n",
       "    <tr>\n",
       "      <th>5575-GNVDE</th>\n",
       "      <td>2017-04-01</td>\n",
       "      <td>No</td>\n",
       "      <td>One year</td>\n",
       "      <td>No</td>\n",
       "      <td>Mailed check</td>\n",
       "      <td>56.95</td>\n",
       "      <td>1889.5</td>\n",
       "    </tr>\n",
       "    <tr>\n",
       "      <th>3668-QPYBK</th>\n",
       "      <td>2019-10-01</td>\n",
       "      <td>2019-12-01 00:00:00</td>\n",
       "      <td>Month-to-month</td>\n",
       "      <td>Yes</td>\n",
       "      <td>Mailed check</td>\n",
       "      <td>53.85</td>\n",
       "      <td>108.15</td>\n",
       "    </tr>\n",
       "    <tr>\n",
       "      <th>7795-CFOCW</th>\n",
       "      <td>2016-05-01</td>\n",
       "      <td>No</td>\n",
       "      <td>One year</td>\n",
       "      <td>No</td>\n",
       "      <td>Bank transfer (automatic)</td>\n",
       "      <td>42.30</td>\n",
       "      <td>1840.75</td>\n",
       "    </tr>\n",
       "    <tr>\n",
       "      <th>9237-HQITU</th>\n",
       "      <td>2019-09-01</td>\n",
       "      <td>2019-11-01 00:00:00</td>\n",
       "      <td>Month-to-month</td>\n",
       "      <td>Yes</td>\n",
       "      <td>Electronic check</td>\n",
       "      <td>70.70</td>\n",
       "      <td>151.65</td>\n",
       "    </tr>\n",
       "  </tbody>\n",
       "</table>\n",
       "</div>"
      ],
      "text/plain": [
       "             BeginDate              EndDate            Type PaperlessBilling  \\\n",
       "customerID                                                                     \n",
       "7590-VHVEG  2020-01-01                   No  Month-to-month              Yes   \n",
       "5575-GNVDE  2017-04-01                   No        One year               No   \n",
       "3668-QPYBK  2019-10-01  2019-12-01 00:00:00  Month-to-month              Yes   \n",
       "7795-CFOCW  2016-05-01                   No        One year               No   \n",
       "9237-HQITU  2019-09-01  2019-11-01 00:00:00  Month-to-month              Yes   \n",
       "\n",
       "                        PaymentMethod  MonthlyCharges TotalCharges  \n",
       "customerID                                                          \n",
       "7590-VHVEG           Electronic check           29.85        29.85  \n",
       "5575-GNVDE               Mailed check           56.95       1889.5  \n",
       "3668-QPYBK               Mailed check           53.85       108.15  \n",
       "7795-CFOCW  Bank transfer (automatic)           42.30      1840.75  \n",
       "9237-HQITU           Electronic check           70.70       151.65  "
      ]
     },
     "execution_count": 4,
     "metadata": {},
     "output_type": "execute_result"
    }
   ],
   "source": [
    "contract.head()"
   ]
  },
  {
   "cell_type": "code",
   "execution_count": 5,
   "id": "b327d5bc",
   "metadata": {},
   "outputs": [
    {
     "data": {
      "text/plain": [
       "0"
      ]
     },
     "execution_count": 5,
     "metadata": {},
     "output_type": "execute_result"
    }
   ],
   "source": [
    "contract.index.duplicated().sum()"
   ]
  },
  {
   "cell_type": "markdown",
   "id": "c08474a2",
   "metadata": {},
   "source": [
    "Заменим тип в столбцах `BeginDate` и `EndDate` на datetime64."
   ]
  },
  {
   "cell_type": "code",
   "execution_count": 6,
   "id": "d9a5f130",
   "metadata": {},
   "outputs": [],
   "source": [
    "contract['BeginDate'] = contract['BeginDate'].astype('datetime64')"
   ]
  },
  {
   "cell_type": "code",
   "execution_count": 7,
   "id": "f5c67905",
   "metadata": {},
   "outputs": [],
   "source": [
    "UPLOAD_DATE = '2020-02-01'\n",
    "contract.loc[contract['EndDate'] == 'No', 'EndDate'] = UPLOAD_DATE\n",
    "contract['EndDate'] = contract['EndDate'].astype('datetime64')"
   ]
  },
  {
   "cell_type": "markdown",
   "id": "b171e419",
   "metadata": {},
   "source": [
    "Приведем столбец `MonthlyCharges` к типу данных `float`."
   ]
  },
  {
   "cell_type": "code",
   "execution_count": 8,
   "id": "449c825b",
   "metadata": {},
   "outputs": [],
   "source": [
    "contract['MonthlyCharges'] = pd.to_numeric(contract['MonthlyCharges'], downcast='float')"
   ]
  },
  {
   "cell_type": "markdown",
   "id": "265ea68b",
   "metadata": {},
   "source": [
    "Командой ниже обнаружили, что для перевода значений столбца `'TotalCharges'` в формат float препятствует значение ' '."
   ]
  },
  {
   "cell_type": "code",
   "execution_count": 9,
   "id": "cb34cc31",
   "metadata": {},
   "outputs": [],
   "source": [
    "#contract['TotalCharges'] = pd.to_numeric(contract['TotalCharges'], downcast='float')"
   ]
  },
  {
   "cell_type": "markdown",
   "id": "6b7f78e9",
   "metadata": {},
   "source": [
    "Посмотрим на данные таких пользователей."
   ]
  },
  {
   "cell_type": "code",
   "execution_count": 10,
   "id": "1a874891",
   "metadata": {
    "scrolled": false
   },
   "outputs": [
    {
     "data": {
      "text/html": [
       "<div>\n",
       "<style scoped>\n",
       "    .dataframe tbody tr th:only-of-type {\n",
       "        vertical-align: middle;\n",
       "    }\n",
       "\n",
       "    .dataframe tbody tr th {\n",
       "        vertical-align: top;\n",
       "    }\n",
       "\n",
       "    .dataframe thead th {\n",
       "        text-align: right;\n",
       "    }\n",
       "</style>\n",
       "<table border=\"1\" class=\"dataframe\">\n",
       "  <thead>\n",
       "    <tr style=\"text-align: right;\">\n",
       "      <th></th>\n",
       "      <th>BeginDate</th>\n",
       "      <th>EndDate</th>\n",
       "      <th>Type</th>\n",
       "      <th>PaperlessBilling</th>\n",
       "      <th>PaymentMethod</th>\n",
       "      <th>MonthlyCharges</th>\n",
       "      <th>TotalCharges</th>\n",
       "    </tr>\n",
       "    <tr>\n",
       "      <th>customerID</th>\n",
       "      <th></th>\n",
       "      <th></th>\n",
       "      <th></th>\n",
       "      <th></th>\n",
       "      <th></th>\n",
       "      <th></th>\n",
       "      <th></th>\n",
       "    </tr>\n",
       "  </thead>\n",
       "  <tbody>\n",
       "    <tr>\n",
       "      <th>4472-LVYGI</th>\n",
       "      <td>2020-02-01</td>\n",
       "      <td>2020-02-01</td>\n",
       "      <td>Two year</td>\n",
       "      <td>Yes</td>\n",
       "      <td>Bank transfer (automatic)</td>\n",
       "      <td>52.549999</td>\n",
       "      <td></td>\n",
       "    </tr>\n",
       "    <tr>\n",
       "      <th>3115-CZMZD</th>\n",
       "      <td>2020-02-01</td>\n",
       "      <td>2020-02-01</td>\n",
       "      <td>Two year</td>\n",
       "      <td>No</td>\n",
       "      <td>Mailed check</td>\n",
       "      <td>20.250000</td>\n",
       "      <td></td>\n",
       "    </tr>\n",
       "    <tr>\n",
       "      <th>5709-LVOEQ</th>\n",
       "      <td>2020-02-01</td>\n",
       "      <td>2020-02-01</td>\n",
       "      <td>Two year</td>\n",
       "      <td>No</td>\n",
       "      <td>Mailed check</td>\n",
       "      <td>80.849998</td>\n",
       "      <td></td>\n",
       "    </tr>\n",
       "    <tr>\n",
       "      <th>4367-NUYAO</th>\n",
       "      <td>2020-02-01</td>\n",
       "      <td>2020-02-01</td>\n",
       "      <td>Two year</td>\n",
       "      <td>No</td>\n",
       "      <td>Mailed check</td>\n",
       "      <td>25.750000</td>\n",
       "      <td></td>\n",
       "    </tr>\n",
       "    <tr>\n",
       "      <th>1371-DWPAZ</th>\n",
       "      <td>2020-02-01</td>\n",
       "      <td>2020-02-01</td>\n",
       "      <td>Two year</td>\n",
       "      <td>No</td>\n",
       "      <td>Credit card (automatic)</td>\n",
       "      <td>56.049999</td>\n",
       "      <td></td>\n",
       "    </tr>\n",
       "    <tr>\n",
       "      <th>7644-OMVMY</th>\n",
       "      <td>2020-02-01</td>\n",
       "      <td>2020-02-01</td>\n",
       "      <td>Two year</td>\n",
       "      <td>No</td>\n",
       "      <td>Mailed check</td>\n",
       "      <td>19.850000</td>\n",
       "      <td></td>\n",
       "    </tr>\n",
       "    <tr>\n",
       "      <th>3213-VVOLG</th>\n",
       "      <td>2020-02-01</td>\n",
       "      <td>2020-02-01</td>\n",
       "      <td>Two year</td>\n",
       "      <td>No</td>\n",
       "      <td>Mailed check</td>\n",
       "      <td>25.350000</td>\n",
       "      <td></td>\n",
       "    </tr>\n",
       "    <tr>\n",
       "      <th>2520-SGTTA</th>\n",
       "      <td>2020-02-01</td>\n",
       "      <td>2020-02-01</td>\n",
       "      <td>Two year</td>\n",
       "      <td>No</td>\n",
       "      <td>Mailed check</td>\n",
       "      <td>20.000000</td>\n",
       "      <td></td>\n",
       "    </tr>\n",
       "    <tr>\n",
       "      <th>2923-ARZLG</th>\n",
       "      <td>2020-02-01</td>\n",
       "      <td>2020-02-01</td>\n",
       "      <td>One year</td>\n",
       "      <td>Yes</td>\n",
       "      <td>Mailed check</td>\n",
       "      <td>19.700001</td>\n",
       "      <td></td>\n",
       "    </tr>\n",
       "    <tr>\n",
       "      <th>4075-WKNIU</th>\n",
       "      <td>2020-02-01</td>\n",
       "      <td>2020-02-01</td>\n",
       "      <td>Two year</td>\n",
       "      <td>No</td>\n",
       "      <td>Mailed check</td>\n",
       "      <td>73.349998</td>\n",
       "      <td></td>\n",
       "    </tr>\n",
       "    <tr>\n",
       "      <th>2775-SEFEE</th>\n",
       "      <td>2020-02-01</td>\n",
       "      <td>2020-02-01</td>\n",
       "      <td>Two year</td>\n",
       "      <td>Yes</td>\n",
       "      <td>Bank transfer (automatic)</td>\n",
       "      <td>61.900002</td>\n",
       "      <td></td>\n",
       "    </tr>\n",
       "  </tbody>\n",
       "</table>\n",
       "</div>"
      ],
      "text/plain": [
       "            BeginDate    EndDate      Type PaperlessBilling  \\\n",
       "customerID                                                    \n",
       "4472-LVYGI 2020-02-01 2020-02-01  Two year              Yes   \n",
       "3115-CZMZD 2020-02-01 2020-02-01  Two year               No   \n",
       "5709-LVOEQ 2020-02-01 2020-02-01  Two year               No   \n",
       "4367-NUYAO 2020-02-01 2020-02-01  Two year               No   \n",
       "1371-DWPAZ 2020-02-01 2020-02-01  Two year               No   \n",
       "7644-OMVMY 2020-02-01 2020-02-01  Two year               No   \n",
       "3213-VVOLG 2020-02-01 2020-02-01  Two year               No   \n",
       "2520-SGTTA 2020-02-01 2020-02-01  Two year               No   \n",
       "2923-ARZLG 2020-02-01 2020-02-01  One year              Yes   \n",
       "4075-WKNIU 2020-02-01 2020-02-01  Two year               No   \n",
       "2775-SEFEE 2020-02-01 2020-02-01  Two year              Yes   \n",
       "\n",
       "                        PaymentMethod  MonthlyCharges TotalCharges  \n",
       "customerID                                                          \n",
       "4472-LVYGI  Bank transfer (automatic)       52.549999               \n",
       "3115-CZMZD               Mailed check       20.250000               \n",
       "5709-LVOEQ               Mailed check       80.849998               \n",
       "4367-NUYAO               Mailed check       25.750000               \n",
       "1371-DWPAZ    Credit card (automatic)       56.049999               \n",
       "7644-OMVMY               Mailed check       19.850000               \n",
       "3213-VVOLG               Mailed check       25.350000               \n",
       "2520-SGTTA               Mailed check       20.000000               \n",
       "2923-ARZLG               Mailed check       19.700001               \n",
       "4075-WKNIU               Mailed check       73.349998               \n",
       "2775-SEFEE  Bank transfer (automatic)       61.900002               "
      ]
     },
     "execution_count": 10,
     "metadata": {},
     "output_type": "execute_result"
    }
   ],
   "source": [
    "contract.loc[contract['TotalCharges'] == ' ']"
   ]
  },
  {
   "cell_type": "code",
   "execution_count": 11,
   "id": "7cc07c2b",
   "metadata": {},
   "outputs": [
    {
     "data": {
      "text/plain": [
       "11"
      ]
     },
     "execution_count": 11,
     "metadata": {},
     "output_type": "execute_result"
    }
   ],
   "source": [
    "len(contract.loc[contract['TotalCharges'] == ' '])"
   ]
  },
  {
   "cell_type": "code",
   "execution_count": 12,
   "id": "b5129b01",
   "metadata": {
    "scrolled": true
   },
   "outputs": [
    {
     "data": {
      "text/plain": [
       "0.16"
      ]
     },
     "execution_count": 12,
     "metadata": {},
     "output_type": "execute_result"
    }
   ],
   "source": [
    "round(len(contract.loc[contract['TotalCharges'] == ' '])/len(contract) * 100, 2)"
   ]
  },
  {
   "cell_type": "markdown",
   "id": "f56873fd",
   "metadata": {},
   "source": [
    "Если посмотреть на дату, то можно увидеть, что дата заключения договора 1 февраля 2020 года. Как раз та дата, когда у нас была выгрузка данных. Следовательно, данных ещё о платеже нет, либо не успели загрузить в базу данных. Доля таких пользователей 0,16 %, заполним пропуски ежемесячными значениями платежей, т.к. клиент скорее всего оплатил услуги за месяц вперед."
   ]
  },
  {
   "cell_type": "code",
   "execution_count": 13,
   "id": "e7177e46",
   "metadata": {},
   "outputs": [],
   "source": [
    "x = contract.loc[contract['TotalCharges'] == ' '].index"
   ]
  },
  {
   "cell_type": "code",
   "execution_count": 14,
   "id": "ec25aa05",
   "metadata": {
    "scrolled": true
   },
   "outputs": [],
   "source": [
    "contract.loc[(contract['TotalCharges'] == ' '), 'TotalCharges'] = contract['MonthlyCharges']"
   ]
  },
  {
   "cell_type": "code",
   "execution_count": 15,
   "id": "d9e07650",
   "metadata": {},
   "outputs": [
    {
     "data": {
      "text/html": [
       "<div>\n",
       "<style scoped>\n",
       "    .dataframe tbody tr th:only-of-type {\n",
       "        vertical-align: middle;\n",
       "    }\n",
       "\n",
       "    .dataframe tbody tr th {\n",
       "        vertical-align: top;\n",
       "    }\n",
       "\n",
       "    .dataframe thead th {\n",
       "        text-align: right;\n",
       "    }\n",
       "</style>\n",
       "<table border=\"1\" class=\"dataframe\">\n",
       "  <thead>\n",
       "    <tr style=\"text-align: right;\">\n",
       "      <th></th>\n",
       "      <th>BeginDate</th>\n",
       "      <th>EndDate</th>\n",
       "      <th>Type</th>\n",
       "      <th>PaperlessBilling</th>\n",
       "      <th>PaymentMethod</th>\n",
       "      <th>MonthlyCharges</th>\n",
       "      <th>TotalCharges</th>\n",
       "    </tr>\n",
       "    <tr>\n",
       "      <th>customerID</th>\n",
       "      <th></th>\n",
       "      <th></th>\n",
       "      <th></th>\n",
       "      <th></th>\n",
       "      <th></th>\n",
       "      <th></th>\n",
       "      <th></th>\n",
       "    </tr>\n",
       "  </thead>\n",
       "  <tbody>\n",
       "    <tr>\n",
       "      <th>4472-LVYGI</th>\n",
       "      <td>2020-02-01</td>\n",
       "      <td>2020-02-01</td>\n",
       "      <td>Two year</td>\n",
       "      <td>Yes</td>\n",
       "      <td>Bank transfer (automatic)</td>\n",
       "      <td>52.549999</td>\n",
       "      <td>52.549999</td>\n",
       "    </tr>\n",
       "    <tr>\n",
       "      <th>3115-CZMZD</th>\n",
       "      <td>2020-02-01</td>\n",
       "      <td>2020-02-01</td>\n",
       "      <td>Two year</td>\n",
       "      <td>No</td>\n",
       "      <td>Mailed check</td>\n",
       "      <td>20.250000</td>\n",
       "      <td>20.25</td>\n",
       "    </tr>\n",
       "    <tr>\n",
       "      <th>5709-LVOEQ</th>\n",
       "      <td>2020-02-01</td>\n",
       "      <td>2020-02-01</td>\n",
       "      <td>Two year</td>\n",
       "      <td>No</td>\n",
       "      <td>Mailed check</td>\n",
       "      <td>80.849998</td>\n",
       "      <td>80.849998</td>\n",
       "    </tr>\n",
       "    <tr>\n",
       "      <th>4367-NUYAO</th>\n",
       "      <td>2020-02-01</td>\n",
       "      <td>2020-02-01</td>\n",
       "      <td>Two year</td>\n",
       "      <td>No</td>\n",
       "      <td>Mailed check</td>\n",
       "      <td>25.750000</td>\n",
       "      <td>25.75</td>\n",
       "    </tr>\n",
       "    <tr>\n",
       "      <th>1371-DWPAZ</th>\n",
       "      <td>2020-02-01</td>\n",
       "      <td>2020-02-01</td>\n",
       "      <td>Two year</td>\n",
       "      <td>No</td>\n",
       "      <td>Credit card (automatic)</td>\n",
       "      <td>56.049999</td>\n",
       "      <td>56.049999</td>\n",
       "    </tr>\n",
       "    <tr>\n",
       "      <th>7644-OMVMY</th>\n",
       "      <td>2020-02-01</td>\n",
       "      <td>2020-02-01</td>\n",
       "      <td>Two year</td>\n",
       "      <td>No</td>\n",
       "      <td>Mailed check</td>\n",
       "      <td>19.850000</td>\n",
       "      <td>19.85</td>\n",
       "    </tr>\n",
       "    <tr>\n",
       "      <th>3213-VVOLG</th>\n",
       "      <td>2020-02-01</td>\n",
       "      <td>2020-02-01</td>\n",
       "      <td>Two year</td>\n",
       "      <td>No</td>\n",
       "      <td>Mailed check</td>\n",
       "      <td>25.350000</td>\n",
       "      <td>25.35</td>\n",
       "    </tr>\n",
       "    <tr>\n",
       "      <th>2520-SGTTA</th>\n",
       "      <td>2020-02-01</td>\n",
       "      <td>2020-02-01</td>\n",
       "      <td>Two year</td>\n",
       "      <td>No</td>\n",
       "      <td>Mailed check</td>\n",
       "      <td>20.000000</td>\n",
       "      <td>20.0</td>\n",
       "    </tr>\n",
       "    <tr>\n",
       "      <th>2923-ARZLG</th>\n",
       "      <td>2020-02-01</td>\n",
       "      <td>2020-02-01</td>\n",
       "      <td>One year</td>\n",
       "      <td>Yes</td>\n",
       "      <td>Mailed check</td>\n",
       "      <td>19.700001</td>\n",
       "      <td>19.700001</td>\n",
       "    </tr>\n",
       "    <tr>\n",
       "      <th>4075-WKNIU</th>\n",
       "      <td>2020-02-01</td>\n",
       "      <td>2020-02-01</td>\n",
       "      <td>Two year</td>\n",
       "      <td>No</td>\n",
       "      <td>Mailed check</td>\n",
       "      <td>73.349998</td>\n",
       "      <td>73.349998</td>\n",
       "    </tr>\n",
       "    <tr>\n",
       "      <th>2775-SEFEE</th>\n",
       "      <td>2020-02-01</td>\n",
       "      <td>2020-02-01</td>\n",
       "      <td>Two year</td>\n",
       "      <td>Yes</td>\n",
       "      <td>Bank transfer (automatic)</td>\n",
       "      <td>61.900002</td>\n",
       "      <td>61.900002</td>\n",
       "    </tr>\n",
       "  </tbody>\n",
       "</table>\n",
       "</div>"
      ],
      "text/plain": [
       "            BeginDate    EndDate      Type PaperlessBilling  \\\n",
       "customerID                                                    \n",
       "4472-LVYGI 2020-02-01 2020-02-01  Two year              Yes   \n",
       "3115-CZMZD 2020-02-01 2020-02-01  Two year               No   \n",
       "5709-LVOEQ 2020-02-01 2020-02-01  Two year               No   \n",
       "4367-NUYAO 2020-02-01 2020-02-01  Two year               No   \n",
       "1371-DWPAZ 2020-02-01 2020-02-01  Two year               No   \n",
       "7644-OMVMY 2020-02-01 2020-02-01  Two year               No   \n",
       "3213-VVOLG 2020-02-01 2020-02-01  Two year               No   \n",
       "2520-SGTTA 2020-02-01 2020-02-01  Two year               No   \n",
       "2923-ARZLG 2020-02-01 2020-02-01  One year              Yes   \n",
       "4075-WKNIU 2020-02-01 2020-02-01  Two year               No   \n",
       "2775-SEFEE 2020-02-01 2020-02-01  Two year              Yes   \n",
       "\n",
       "                        PaymentMethod  MonthlyCharges TotalCharges  \n",
       "customerID                                                          \n",
       "4472-LVYGI  Bank transfer (automatic)       52.549999    52.549999  \n",
       "3115-CZMZD               Mailed check       20.250000        20.25  \n",
       "5709-LVOEQ               Mailed check       80.849998    80.849998  \n",
       "4367-NUYAO               Mailed check       25.750000        25.75  \n",
       "1371-DWPAZ    Credit card (automatic)       56.049999    56.049999  \n",
       "7644-OMVMY               Mailed check       19.850000        19.85  \n",
       "3213-VVOLG               Mailed check       25.350000        25.35  \n",
       "2520-SGTTA               Mailed check       20.000000         20.0  \n",
       "2923-ARZLG               Mailed check       19.700001    19.700001  \n",
       "4075-WKNIU               Mailed check       73.349998    73.349998  \n",
       "2775-SEFEE  Bank transfer (automatic)       61.900002    61.900002  "
      ]
     },
     "execution_count": 15,
     "metadata": {},
     "output_type": "execute_result"
    }
   ],
   "source": [
    "contract.loc[x]"
   ]
  },
  {
   "cell_type": "code",
   "execution_count": 16,
   "id": "4d11c7f0",
   "metadata": {},
   "outputs": [],
   "source": [
    "contract['TotalCharges'] = pd.to_numeric(contract['TotalCharges'], downcast='float')"
   ]
  },
  {
   "cell_type": "code",
   "execution_count": 17,
   "id": "a8d20dc5",
   "metadata": {
    "scrolled": true
   },
   "outputs": [
    {
     "data": {
      "text/plain": [
       "Month-to-month    3875\n",
       "Two year          1695\n",
       "One year          1473\n",
       "Name: Type, dtype: int64"
      ]
     },
     "execution_count": 17,
     "metadata": {},
     "output_type": "execute_result"
    }
   ],
   "source": [
    "contract['Type'].value_counts()"
   ]
  },
  {
   "cell_type": "markdown",
   "id": "14f169ba",
   "metadata": {},
   "source": [
    "Больше всего пользователей с ежемесячным типом оплаты."
   ]
  },
  {
   "cell_type": "code",
   "execution_count": 18,
   "id": "35b6da40",
   "metadata": {},
   "outputs": [
    {
     "data": {
      "text/plain": [
       "Electronic check             2365\n",
       "Mailed check                 1612\n",
       "Bank transfer (automatic)    1544\n",
       "Credit card (automatic)      1522\n",
       "Name: PaymentMethod, dtype: int64"
      ]
     },
     "execution_count": 18,
     "metadata": {},
     "output_type": "execute_result"
    }
   ],
   "source": [
    "contract['PaymentMethod'].value_counts()"
   ]
  },
  {
   "cell_type": "markdown",
   "id": "c5ef59cb",
   "metadata": {},
   "source": [
    "Больше всего пользователей с электронным способом оплаты.\n",
    "\n",
    "Заменим значения Yes/No в столбце безналичного расчет, на 1/0."
   ]
  },
  {
   "cell_type": "code",
   "execution_count": 19,
   "id": "ea8edbd7",
   "metadata": {},
   "outputs": [],
   "source": [
    "contract['PaperlessBilling'] = (contract['PaperlessBilling'] == 'Yes').astype('int8')"
   ]
  },
  {
   "cell_type": "markdown",
   "id": "2318a943",
   "metadata": {},
   "source": [
    "Добавим столбец с количеством дней от даты выгрузки (1 февраля 2020 года) до даты начала контракта, удалим столбец с датой начала контракта."
   ]
  },
  {
   "cell_type": "code",
   "execution_count": 20,
   "id": "d033ff57",
   "metadata": {},
   "outputs": [],
   "source": [
    "contract['begin_days'] = (pd.Timestamp(UPLOAD_DATE) - contract['BeginDate']) // np.timedelta64(1, 'D')\n",
    "contract.drop('BeginDate', axis=1, inplace=True)"
   ]
  },
  {
   "cell_type": "markdown",
   "id": "713fb0a4",
   "metadata": {},
   "source": [
    "Добавим столбец с количеством дней от даты выгрузки до даты окончания контракта, удалим столбец с датой окончания контракта."
   ]
  },
  {
   "cell_type": "code",
   "execution_count": 21,
   "id": "34d85fbf",
   "metadata": {},
   "outputs": [],
   "source": [
    "contract['end_days'] = (pd.Timestamp(UPLOAD_DATE) - contract['EndDate']) // np.timedelta64(1, 'D')\n",
    "contract.drop('EndDate', axis=1, inplace=True)"
   ]
  },
  {
   "cell_type": "markdown",
   "id": "70d3d969",
   "metadata": {},
   "source": [
    "**Выделим целевой признак**, если количество дней от даты выгрузки (1 февраля 2020 года) до даты прекращения контракта `>0`, значит клиент ушел от компании, что равняется `1`, в противоположном случае `0`."
   ]
  },
  {
   "cell_type": "code",
   "execution_count": 22,
   "id": "b5bbde6e",
   "metadata": {},
   "outputs": [],
   "source": [
    "contract['churn'] = (contract['end_days'] > 0).astype('int8')"
   ]
  },
  {
   "cell_type": "code",
   "execution_count": 23,
   "id": "8669f16b",
   "metadata": {},
   "outputs": [
    {
     "data": {
      "text/plain": [
       "0    5174\n",
       "1    1869\n",
       "Name: churn, dtype: int64"
      ]
     },
     "execution_count": 23,
     "metadata": {},
     "output_type": "execute_result"
    }
   ],
   "source": [
    "contract['churn'].value_counts()"
   ]
  },
  {
   "cell_type": "markdown",
   "id": "069cffdc",
   "metadata": {},
   "source": [
    "Ушло почти 2/7 клиентов."
   ]
  },
  {
   "cell_type": "code",
   "execution_count": 24,
   "id": "a4a51e8c",
   "metadata": {
    "scrolled": true
   },
   "outputs": [
    {
     "data": {
      "text/html": [
       "<div>\n",
       "<style scoped>\n",
       "    .dataframe tbody tr th:only-of-type {\n",
       "        vertical-align: middle;\n",
       "    }\n",
       "\n",
       "    .dataframe tbody tr th {\n",
       "        vertical-align: top;\n",
       "    }\n",
       "\n",
       "    .dataframe thead th {\n",
       "        text-align: right;\n",
       "    }\n",
       "</style>\n",
       "<table border=\"1\" class=\"dataframe\">\n",
       "  <thead>\n",
       "    <tr style=\"text-align: right;\">\n",
       "      <th></th>\n",
       "      <th>Type</th>\n",
       "      <th>PaperlessBilling</th>\n",
       "      <th>PaymentMethod</th>\n",
       "      <th>MonthlyCharges</th>\n",
       "      <th>TotalCharges</th>\n",
       "      <th>begin_days</th>\n",
       "      <th>end_days</th>\n",
       "      <th>churn</th>\n",
       "    </tr>\n",
       "    <tr>\n",
       "      <th>customerID</th>\n",
       "      <th></th>\n",
       "      <th></th>\n",
       "      <th></th>\n",
       "      <th></th>\n",
       "      <th></th>\n",
       "      <th></th>\n",
       "      <th></th>\n",
       "      <th></th>\n",
       "    </tr>\n",
       "  </thead>\n",
       "  <tbody>\n",
       "    <tr>\n",
       "      <th>7590-VHVEG</th>\n",
       "      <td>Month-to-month</td>\n",
       "      <td>1</td>\n",
       "      <td>Electronic check</td>\n",
       "      <td>29.850000</td>\n",
       "      <td>29.850000</td>\n",
       "      <td>31</td>\n",
       "      <td>0</td>\n",
       "      <td>0</td>\n",
       "    </tr>\n",
       "    <tr>\n",
       "      <th>5575-GNVDE</th>\n",
       "      <td>One year</td>\n",
       "      <td>0</td>\n",
       "      <td>Mailed check</td>\n",
       "      <td>56.950001</td>\n",
       "      <td>1889.500000</td>\n",
       "      <td>1036</td>\n",
       "      <td>0</td>\n",
       "      <td>0</td>\n",
       "    </tr>\n",
       "    <tr>\n",
       "      <th>3668-QPYBK</th>\n",
       "      <td>Month-to-month</td>\n",
       "      <td>1</td>\n",
       "      <td>Mailed check</td>\n",
       "      <td>53.849998</td>\n",
       "      <td>108.150002</td>\n",
       "      <td>123</td>\n",
       "      <td>62</td>\n",
       "      <td>1</td>\n",
       "    </tr>\n",
       "    <tr>\n",
       "      <th>7795-CFOCW</th>\n",
       "      <td>One year</td>\n",
       "      <td>0</td>\n",
       "      <td>Bank transfer (automatic)</td>\n",
       "      <td>42.299999</td>\n",
       "      <td>1840.750000</td>\n",
       "      <td>1371</td>\n",
       "      <td>0</td>\n",
       "      <td>0</td>\n",
       "    </tr>\n",
       "    <tr>\n",
       "      <th>9237-HQITU</th>\n",
       "      <td>Month-to-month</td>\n",
       "      <td>1</td>\n",
       "      <td>Electronic check</td>\n",
       "      <td>70.699997</td>\n",
       "      <td>151.649994</td>\n",
       "      <td>153</td>\n",
       "      <td>92</td>\n",
       "      <td>1</td>\n",
       "    </tr>\n",
       "  </tbody>\n",
       "</table>\n",
       "</div>"
      ],
      "text/plain": [
       "                      Type  PaperlessBilling              PaymentMethod  \\\n",
       "customerID                                                                \n",
       "7590-VHVEG  Month-to-month                 1           Electronic check   \n",
       "5575-GNVDE        One year                 0               Mailed check   \n",
       "3668-QPYBK  Month-to-month                 1               Mailed check   \n",
       "7795-CFOCW        One year                 0  Bank transfer (automatic)   \n",
       "9237-HQITU  Month-to-month                 1           Electronic check   \n",
       "\n",
       "            MonthlyCharges  TotalCharges  begin_days  end_days  churn  \n",
       "customerID                                                             \n",
       "7590-VHVEG       29.850000     29.850000          31         0      0  \n",
       "5575-GNVDE       56.950001   1889.500000        1036         0      0  \n",
       "3668-QPYBK       53.849998    108.150002         123        62      1  \n",
       "7795-CFOCW       42.299999   1840.750000        1371         0      0  \n",
       "9237-HQITU       70.699997    151.649994         153        92      1  "
      ]
     },
     "execution_count": 24,
     "metadata": {},
     "output_type": "execute_result"
    }
   ],
   "source": [
    "contract.head()"
   ]
  },
  {
   "cell_type": "markdown",
   "id": "5ab21c1a",
   "metadata": {},
   "source": [
    "Посмотрим статистические параметры количественных признаков."
   ]
  },
  {
   "cell_type": "code",
   "execution_count": 25,
   "id": "2593136a",
   "metadata": {},
   "outputs": [
    {
     "data": {
      "text/html": [
       "<div>\n",
       "<style scoped>\n",
       "    .dataframe tbody tr th:only-of-type {\n",
       "        vertical-align: middle;\n",
       "    }\n",
       "\n",
       "    .dataframe tbody tr th {\n",
       "        vertical-align: top;\n",
       "    }\n",
       "\n",
       "    .dataframe thead th {\n",
       "        text-align: right;\n",
       "    }\n",
       "</style>\n",
       "<table border=\"1\" class=\"dataframe\">\n",
       "  <thead>\n",
       "    <tr style=\"text-align: right;\">\n",
       "      <th></th>\n",
       "      <th>MonthlyCharges</th>\n",
       "      <th>TotalCharges</th>\n",
       "      <th>begin_days</th>\n",
       "      <th>end_days</th>\n",
       "    </tr>\n",
       "  </thead>\n",
       "  <tbody>\n",
       "    <tr>\n",
       "      <th>count</th>\n",
       "      <td>7043.000000</td>\n",
       "      <td>7043.000000</td>\n",
       "      <td>7043.000000</td>\n",
       "      <td>7043.000000</td>\n",
       "    </tr>\n",
       "    <tr>\n",
       "      <th>mean</th>\n",
       "      <td>64.761826</td>\n",
       "      <td>2279.797363</td>\n",
       "      <td>1006.457050</td>\n",
       "      <td>20.460883</td>\n",
       "    </tr>\n",
       "    <tr>\n",
       "      <th>std</th>\n",
       "      <td>30.089973</td>\n",
       "      <td>2266.731934</td>\n",
       "      <td>736.596428</td>\n",
       "      <td>38.279807</td>\n",
       "    </tr>\n",
       "    <tr>\n",
       "      <th>min</th>\n",
       "      <td>18.250000</td>\n",
       "      <td>18.799999</td>\n",
       "      <td>0.000000</td>\n",
       "      <td>0.000000</td>\n",
       "    </tr>\n",
       "    <tr>\n",
       "      <th>25%</th>\n",
       "      <td>35.500000</td>\n",
       "      <td>398.549988</td>\n",
       "      <td>306.000000</td>\n",
       "      <td>0.000000</td>\n",
       "    </tr>\n",
       "    <tr>\n",
       "      <th>50%</th>\n",
       "      <td>70.349998</td>\n",
       "      <td>1394.550049</td>\n",
       "      <td>883.000000</td>\n",
       "      <td>0.000000</td>\n",
       "    </tr>\n",
       "    <tr>\n",
       "      <th>75%</th>\n",
       "      <td>89.849998</td>\n",
       "      <td>3786.599976</td>\n",
       "      <td>1706.000000</td>\n",
       "      <td>31.000000</td>\n",
       "    </tr>\n",
       "    <tr>\n",
       "      <th>max</th>\n",
       "      <td>118.750000</td>\n",
       "      <td>8684.799805</td>\n",
       "      <td>2314.000000</td>\n",
       "      <td>123.000000</td>\n",
       "    </tr>\n",
       "  </tbody>\n",
       "</table>\n",
       "</div>"
      ],
      "text/plain": [
       "       MonthlyCharges  TotalCharges   begin_days     end_days\n",
       "count     7043.000000   7043.000000  7043.000000  7043.000000\n",
       "mean        64.761826   2279.797363  1006.457050    20.460883\n",
       "std         30.089973   2266.731934   736.596428    38.279807\n",
       "min         18.250000     18.799999     0.000000     0.000000\n",
       "25%         35.500000    398.549988   306.000000     0.000000\n",
       "50%         70.349998   1394.550049   883.000000     0.000000\n",
       "75%         89.849998   3786.599976  1706.000000    31.000000\n",
       "max        118.750000   8684.799805  2314.000000   123.000000"
      ]
     },
     "execution_count": 25,
     "metadata": {},
     "output_type": "execute_result"
    }
   ],
   "source": [
    "contract[['MonthlyCharges','TotalCharges','begin_days','end_days']].describe()"
   ]
  },
  {
   "cell_type": "markdown",
   "id": "c8f84f6c",
   "metadata": {},
   "source": [
    "##### personal"
   ]
  },
  {
   "cell_type": "code",
   "execution_count": 26,
   "id": "b5f8cf50",
   "metadata": {
    "scrolled": true
   },
   "outputs": [
    {
     "name": "stdout",
     "output_type": "stream",
     "text": [
      "<class 'pandas.core.frame.DataFrame'>\n",
      "Index: 7043 entries, 7590-VHVEG to 3186-AJIEK\n",
      "Data columns (total 4 columns):\n",
      " #   Column         Non-Null Count  Dtype \n",
      "---  ------         --------------  ----- \n",
      " 0   gender         7043 non-null   object\n",
      " 1   SeniorCitizen  7043 non-null   int64 \n",
      " 2   Partner        7043 non-null   object\n",
      " 3   Dependents     7043 non-null   object\n",
      "dtypes: int64(1), object(3)\n",
      "memory usage: 275.1+ KB\n"
     ]
    }
   ],
   "source": [
    "personal.info()"
   ]
  },
  {
   "cell_type": "markdown",
   "id": "dd72178d",
   "metadata": {},
   "source": [
    "В `personal.csv` представлена информация о самих клиентах, а именно:\n",
    "\n",
    "* `gender` - пол клиента\n",
    "* `SeniorCitizen` - является ли клиент пенсионером\n",
    "* `Partner` - наличие супруга(и)\n",
    "* `Dependents` - наличие иждивенцев"
   ]
  },
  {
   "cell_type": "code",
   "execution_count": 27,
   "id": "663fdc8f",
   "metadata": {},
   "outputs": [
    {
     "data": {
      "text/html": [
       "<div>\n",
       "<style scoped>\n",
       "    .dataframe tbody tr th:only-of-type {\n",
       "        vertical-align: middle;\n",
       "    }\n",
       "\n",
       "    .dataframe tbody tr th {\n",
       "        vertical-align: top;\n",
       "    }\n",
       "\n",
       "    .dataframe thead th {\n",
       "        text-align: right;\n",
       "    }\n",
       "</style>\n",
       "<table border=\"1\" class=\"dataframe\">\n",
       "  <thead>\n",
       "    <tr style=\"text-align: right;\">\n",
       "      <th></th>\n",
       "      <th>gender</th>\n",
       "      <th>SeniorCitizen</th>\n",
       "      <th>Partner</th>\n",
       "      <th>Dependents</th>\n",
       "    </tr>\n",
       "    <tr>\n",
       "      <th>customerID</th>\n",
       "      <th></th>\n",
       "      <th></th>\n",
       "      <th></th>\n",
       "      <th></th>\n",
       "    </tr>\n",
       "  </thead>\n",
       "  <tbody>\n",
       "    <tr>\n",
       "      <th>7590-VHVEG</th>\n",
       "      <td>Female</td>\n",
       "      <td>0</td>\n",
       "      <td>Yes</td>\n",
       "      <td>No</td>\n",
       "    </tr>\n",
       "    <tr>\n",
       "      <th>5575-GNVDE</th>\n",
       "      <td>Male</td>\n",
       "      <td>0</td>\n",
       "      <td>No</td>\n",
       "      <td>No</td>\n",
       "    </tr>\n",
       "    <tr>\n",
       "      <th>3668-QPYBK</th>\n",
       "      <td>Male</td>\n",
       "      <td>0</td>\n",
       "      <td>No</td>\n",
       "      <td>No</td>\n",
       "    </tr>\n",
       "    <tr>\n",
       "      <th>7795-CFOCW</th>\n",
       "      <td>Male</td>\n",
       "      <td>0</td>\n",
       "      <td>No</td>\n",
       "      <td>No</td>\n",
       "    </tr>\n",
       "    <tr>\n",
       "      <th>9237-HQITU</th>\n",
       "      <td>Female</td>\n",
       "      <td>0</td>\n",
       "      <td>No</td>\n",
       "      <td>No</td>\n",
       "    </tr>\n",
       "  </tbody>\n",
       "</table>\n",
       "</div>"
      ],
      "text/plain": [
       "            gender  SeniorCitizen Partner Dependents\n",
       "customerID                                          \n",
       "7590-VHVEG  Female              0     Yes         No\n",
       "5575-GNVDE    Male              0      No         No\n",
       "3668-QPYBK    Male              0      No         No\n",
       "7795-CFOCW    Male              0      No         No\n",
       "9237-HQITU  Female              0      No         No"
      ]
     },
     "execution_count": 27,
     "metadata": {},
     "output_type": "execute_result"
    }
   ],
   "source": [
    "personal.head()"
   ]
  },
  {
   "cell_type": "code",
   "execution_count": 28,
   "id": "bfd5b814",
   "metadata": {},
   "outputs": [
    {
     "data": {
      "text/plain": [
       "0"
      ]
     },
     "execution_count": 28,
     "metadata": {},
     "output_type": "execute_result"
    }
   ],
   "source": [
    "personal.index.duplicated().sum()"
   ]
  },
  {
   "cell_type": "code",
   "execution_count": 29,
   "id": "d6f4e6b7",
   "metadata": {},
   "outputs": [
    {
     "data": {
      "text/html": [
       "<div>\n",
       "<style scoped>\n",
       "    .dataframe tbody tr th:only-of-type {\n",
       "        vertical-align: middle;\n",
       "    }\n",
       "\n",
       "    .dataframe tbody tr th {\n",
       "        vertical-align: top;\n",
       "    }\n",
       "\n",
       "    .dataframe thead th {\n",
       "        text-align: right;\n",
       "    }\n",
       "</style>\n",
       "<table border=\"1\" class=\"dataframe\">\n",
       "  <thead>\n",
       "    <tr style=\"text-align: right;\">\n",
       "      <th></th>\n",
       "      <th>gender</th>\n",
       "      <th>Partner</th>\n",
       "      <th>Dependents</th>\n",
       "    </tr>\n",
       "  </thead>\n",
       "  <tbody>\n",
       "    <tr>\n",
       "      <th>count</th>\n",
       "      <td>7043</td>\n",
       "      <td>7043</td>\n",
       "      <td>7043</td>\n",
       "    </tr>\n",
       "    <tr>\n",
       "      <th>unique</th>\n",
       "      <td>2</td>\n",
       "      <td>2</td>\n",
       "      <td>2</td>\n",
       "    </tr>\n",
       "    <tr>\n",
       "      <th>top</th>\n",
       "      <td>Male</td>\n",
       "      <td>No</td>\n",
       "      <td>No</td>\n",
       "    </tr>\n",
       "    <tr>\n",
       "      <th>freq</th>\n",
       "      <td>3555</td>\n",
       "      <td>3641</td>\n",
       "      <td>4933</td>\n",
       "    </tr>\n",
       "  </tbody>\n",
       "</table>\n",
       "</div>"
      ],
      "text/plain": [
       "       gender Partner Dependents\n",
       "count    7043    7043       7043\n",
       "unique      2       2          2\n",
       "top      Male      No         No\n",
       "freq     3555    3641       4933"
      ]
     },
     "execution_count": 29,
     "metadata": {},
     "output_type": "execute_result"
    }
   ],
   "source": [
    "personal[['gender', 'Partner', 'Dependents']].describe()"
   ]
  },
  {
   "cell_type": "markdown",
   "id": "6b55640e",
   "metadata": {},
   "source": [
    "По количеству мужчин и женщин среди клиентов наблюдается паритет. Людей без пары немного больше, но тоже можно считать, что паритет. Людей с иждивенцами примерно 2/7."
   ]
  },
  {
   "cell_type": "code",
   "execution_count": 30,
   "id": "f290dcd0",
   "metadata": {},
   "outputs": [
    {
     "data": {
      "text/plain": [
       "0    5901\n",
       "1    1142\n",
       "Name: SeniorCitizen, dtype: int64"
      ]
     },
     "execution_count": 30,
     "metadata": {},
     "output_type": "execute_result"
    }
   ],
   "source": [
    "personal.SeniorCitizen.value_counts()"
   ]
  },
  {
   "cell_type": "markdown",
   "id": "83b40d43",
   "metadata": {},
   "source": [
    "Пенсионеров примерно 1/7."
   ]
  },
  {
   "cell_type": "markdown",
   "id": "4683351f",
   "metadata": {},
   "source": [
    "Заменим значения на 1/0 в столбцах: гендер, наличие партнера, наличие иждивенцев."
   ]
  },
  {
   "cell_type": "code",
   "execution_count": 31,
   "id": "dd8b490a",
   "metadata": {},
   "outputs": [],
   "source": [
    "personal['gender'] = (personal['gender'] == 'Male').astype('int8')\n",
    "personal['Partner'] = (personal['Partner'] == 'Yes').astype('int8')\n",
    "personal['Dependents'] = (personal['Dependents'] == 'Yes').astype('int8')"
   ]
  },
  {
   "cell_type": "code",
   "execution_count": 32,
   "id": "a164cba7",
   "metadata": {
    "scrolled": true
   },
   "outputs": [
    {
     "data": {
      "text/html": [
       "<div>\n",
       "<style scoped>\n",
       "    .dataframe tbody tr th:only-of-type {\n",
       "        vertical-align: middle;\n",
       "    }\n",
       "\n",
       "    .dataframe tbody tr th {\n",
       "        vertical-align: top;\n",
       "    }\n",
       "\n",
       "    .dataframe thead th {\n",
       "        text-align: right;\n",
       "    }\n",
       "</style>\n",
       "<table border=\"1\" class=\"dataframe\">\n",
       "  <thead>\n",
       "    <tr style=\"text-align: right;\">\n",
       "      <th></th>\n",
       "      <th>gender</th>\n",
       "      <th>SeniorCitizen</th>\n",
       "      <th>Partner</th>\n",
       "      <th>Dependents</th>\n",
       "    </tr>\n",
       "    <tr>\n",
       "      <th>customerID</th>\n",
       "      <th></th>\n",
       "      <th></th>\n",
       "      <th></th>\n",
       "      <th></th>\n",
       "    </tr>\n",
       "  </thead>\n",
       "  <tbody>\n",
       "    <tr>\n",
       "      <th>7590-VHVEG</th>\n",
       "      <td>0</td>\n",
       "      <td>0</td>\n",
       "      <td>1</td>\n",
       "      <td>0</td>\n",
       "    </tr>\n",
       "    <tr>\n",
       "      <th>5575-GNVDE</th>\n",
       "      <td>1</td>\n",
       "      <td>0</td>\n",
       "      <td>0</td>\n",
       "      <td>0</td>\n",
       "    </tr>\n",
       "    <tr>\n",
       "      <th>3668-QPYBK</th>\n",
       "      <td>1</td>\n",
       "      <td>0</td>\n",
       "      <td>0</td>\n",
       "      <td>0</td>\n",
       "    </tr>\n",
       "    <tr>\n",
       "      <th>7795-CFOCW</th>\n",
       "      <td>1</td>\n",
       "      <td>0</td>\n",
       "      <td>0</td>\n",
       "      <td>0</td>\n",
       "    </tr>\n",
       "    <tr>\n",
       "      <th>9237-HQITU</th>\n",
       "      <td>0</td>\n",
       "      <td>0</td>\n",
       "      <td>0</td>\n",
       "      <td>0</td>\n",
       "    </tr>\n",
       "  </tbody>\n",
       "</table>\n",
       "</div>"
      ],
      "text/plain": [
       "            gender  SeniorCitizen  Partner  Dependents\n",
       "customerID                                            \n",
       "7590-VHVEG       0              0        1           0\n",
       "5575-GNVDE       1              0        0           0\n",
       "3668-QPYBK       1              0        0           0\n",
       "7795-CFOCW       1              0        0           0\n",
       "9237-HQITU       0              0        0           0"
      ]
     },
     "execution_count": 32,
     "metadata": {},
     "output_type": "execute_result"
    }
   ],
   "source": [
    "personal.head()"
   ]
  },
  {
   "cell_type": "markdown",
   "id": "609257f3",
   "metadata": {},
   "source": [
    "##### internet"
   ]
  },
  {
   "cell_type": "code",
   "execution_count": 33,
   "id": "f06659e3",
   "metadata": {
    "scrolled": true
   },
   "outputs": [
    {
     "name": "stdout",
     "output_type": "stream",
     "text": [
      "<class 'pandas.core.frame.DataFrame'>\n",
      "Index: 5517 entries, 7590-VHVEG to 3186-AJIEK\n",
      "Data columns (total 7 columns):\n",
      " #   Column            Non-Null Count  Dtype \n",
      "---  ------            --------------  ----- \n",
      " 0   InternetService   5517 non-null   object\n",
      " 1   OnlineSecurity    5517 non-null   object\n",
      " 2   OnlineBackup      5517 non-null   object\n",
      " 3   DeviceProtection  5517 non-null   object\n",
      " 4   TechSupport       5517 non-null   object\n",
      " 5   StreamingTV       5517 non-null   object\n",
      " 6   StreamingMovies   5517 non-null   object\n",
      "dtypes: object(7)\n",
      "memory usage: 344.8+ KB\n"
     ]
    }
   ],
   "source": [
    "internet.info()"
   ]
  },
  {
   "cell_type": "markdown",
   "id": "5fc6511c",
   "metadata": {},
   "source": [
    "В `internet.csv` представлена информация об интернет-услугах, а именно:\n",
    "\n",
    "* `InternetService` - варианты подключения интернет-соединения\n",
    "* `OnlineSecurity` - услуга блокировки небезопасных сайтов \n",
    "* `OnlineBackup` - услуга хранения резервной копии системы\n",
    "* `DeviceProtection` - наличие услуги антивируса\n",
    "* `TechSupport` - услуга выделенной линии технической поддержки\n",
    "* `StreamingTV` - услуга стримингового телевидения\n",
    "* `StreamingMovies` - услуга каталога фильмов "
   ]
  },
  {
   "cell_type": "code",
   "execution_count": 34,
   "id": "6f9017a8",
   "metadata": {},
   "outputs": [
    {
     "data": {
      "text/html": [
       "<div>\n",
       "<style scoped>\n",
       "    .dataframe tbody tr th:only-of-type {\n",
       "        vertical-align: middle;\n",
       "    }\n",
       "\n",
       "    .dataframe tbody tr th {\n",
       "        vertical-align: top;\n",
       "    }\n",
       "\n",
       "    .dataframe thead th {\n",
       "        text-align: right;\n",
       "    }\n",
       "</style>\n",
       "<table border=\"1\" class=\"dataframe\">\n",
       "  <thead>\n",
       "    <tr style=\"text-align: right;\">\n",
       "      <th></th>\n",
       "      <th>InternetService</th>\n",
       "      <th>OnlineSecurity</th>\n",
       "      <th>OnlineBackup</th>\n",
       "      <th>DeviceProtection</th>\n",
       "      <th>TechSupport</th>\n",
       "      <th>StreamingTV</th>\n",
       "      <th>StreamingMovies</th>\n",
       "    </tr>\n",
       "    <tr>\n",
       "      <th>customerID</th>\n",
       "      <th></th>\n",
       "      <th></th>\n",
       "      <th></th>\n",
       "      <th></th>\n",
       "      <th></th>\n",
       "      <th></th>\n",
       "      <th></th>\n",
       "    </tr>\n",
       "  </thead>\n",
       "  <tbody>\n",
       "    <tr>\n",
       "      <th>7590-VHVEG</th>\n",
       "      <td>DSL</td>\n",
       "      <td>No</td>\n",
       "      <td>Yes</td>\n",
       "      <td>No</td>\n",
       "      <td>No</td>\n",
       "      <td>No</td>\n",
       "      <td>No</td>\n",
       "    </tr>\n",
       "    <tr>\n",
       "      <th>5575-GNVDE</th>\n",
       "      <td>DSL</td>\n",
       "      <td>Yes</td>\n",
       "      <td>No</td>\n",
       "      <td>Yes</td>\n",
       "      <td>No</td>\n",
       "      <td>No</td>\n",
       "      <td>No</td>\n",
       "    </tr>\n",
       "    <tr>\n",
       "      <th>3668-QPYBK</th>\n",
       "      <td>DSL</td>\n",
       "      <td>Yes</td>\n",
       "      <td>Yes</td>\n",
       "      <td>No</td>\n",
       "      <td>No</td>\n",
       "      <td>No</td>\n",
       "      <td>No</td>\n",
       "    </tr>\n",
       "    <tr>\n",
       "      <th>7795-CFOCW</th>\n",
       "      <td>DSL</td>\n",
       "      <td>Yes</td>\n",
       "      <td>No</td>\n",
       "      <td>Yes</td>\n",
       "      <td>Yes</td>\n",
       "      <td>No</td>\n",
       "      <td>No</td>\n",
       "    </tr>\n",
       "    <tr>\n",
       "      <th>9237-HQITU</th>\n",
       "      <td>Fiber optic</td>\n",
       "      <td>No</td>\n",
       "      <td>No</td>\n",
       "      <td>No</td>\n",
       "      <td>No</td>\n",
       "      <td>No</td>\n",
       "      <td>No</td>\n",
       "    </tr>\n",
       "  </tbody>\n",
       "</table>\n",
       "</div>"
      ],
      "text/plain": [
       "           InternetService OnlineSecurity OnlineBackup DeviceProtection  \\\n",
       "customerID                                                                \n",
       "7590-VHVEG             DSL             No          Yes               No   \n",
       "5575-GNVDE             DSL            Yes           No              Yes   \n",
       "3668-QPYBK             DSL            Yes          Yes               No   \n",
       "7795-CFOCW             DSL            Yes           No              Yes   \n",
       "9237-HQITU     Fiber optic             No           No               No   \n",
       "\n",
       "           TechSupport StreamingTV StreamingMovies  \n",
       "customerID                                          \n",
       "7590-VHVEG          No          No              No  \n",
       "5575-GNVDE          No          No              No  \n",
       "3668-QPYBK          No          No              No  \n",
       "7795-CFOCW         Yes          No              No  \n",
       "9237-HQITU          No          No              No  "
      ]
     },
     "execution_count": 34,
     "metadata": {},
     "output_type": "execute_result"
    }
   ],
   "source": [
    "internet.head()"
   ]
  },
  {
   "cell_type": "code",
   "execution_count": 35,
   "id": "54bd25f4",
   "metadata": {},
   "outputs": [
    {
     "data": {
      "text/html": [
       "<div>\n",
       "<style scoped>\n",
       "    .dataframe tbody tr th:only-of-type {\n",
       "        vertical-align: middle;\n",
       "    }\n",
       "\n",
       "    .dataframe tbody tr th {\n",
       "        vertical-align: top;\n",
       "    }\n",
       "\n",
       "    .dataframe thead th {\n",
       "        text-align: right;\n",
       "    }\n",
       "</style>\n",
       "<table border=\"1\" class=\"dataframe\">\n",
       "  <thead>\n",
       "    <tr style=\"text-align: right;\">\n",
       "      <th></th>\n",
       "      <th>InternetService</th>\n",
       "      <th>OnlineSecurity</th>\n",
       "      <th>OnlineBackup</th>\n",
       "      <th>DeviceProtection</th>\n",
       "      <th>TechSupport</th>\n",
       "      <th>StreamingTV</th>\n",
       "      <th>StreamingMovies</th>\n",
       "    </tr>\n",
       "  </thead>\n",
       "  <tbody>\n",
       "    <tr>\n",
       "      <th>count</th>\n",
       "      <td>5517</td>\n",
       "      <td>5517</td>\n",
       "      <td>5517</td>\n",
       "      <td>5517</td>\n",
       "      <td>5517</td>\n",
       "      <td>5517</td>\n",
       "      <td>5517</td>\n",
       "    </tr>\n",
       "    <tr>\n",
       "      <th>unique</th>\n",
       "      <td>2</td>\n",
       "      <td>2</td>\n",
       "      <td>2</td>\n",
       "      <td>2</td>\n",
       "      <td>2</td>\n",
       "      <td>2</td>\n",
       "      <td>2</td>\n",
       "    </tr>\n",
       "    <tr>\n",
       "      <th>top</th>\n",
       "      <td>Fiber optic</td>\n",
       "      <td>No</td>\n",
       "      <td>No</td>\n",
       "      <td>No</td>\n",
       "      <td>No</td>\n",
       "      <td>No</td>\n",
       "      <td>No</td>\n",
       "    </tr>\n",
       "    <tr>\n",
       "      <th>freq</th>\n",
       "      <td>3096</td>\n",
       "      <td>3498</td>\n",
       "      <td>3088</td>\n",
       "      <td>3095</td>\n",
       "      <td>3473</td>\n",
       "      <td>2810</td>\n",
       "      <td>2785</td>\n",
       "    </tr>\n",
       "  </tbody>\n",
       "</table>\n",
       "</div>"
      ],
      "text/plain": [
       "       InternetService OnlineSecurity OnlineBackup DeviceProtection  \\\n",
       "count             5517           5517         5517             5517   \n",
       "unique               2              2            2                2   \n",
       "top        Fiber optic             No           No               No   \n",
       "freq              3096           3498         3088             3095   \n",
       "\n",
       "       TechSupport StreamingTV StreamingMovies  \n",
       "count         5517        5517            5517  \n",
       "unique           2           2               2  \n",
       "top             No          No              No  \n",
       "freq          3473        2810            2785  "
      ]
     },
     "execution_count": 35,
     "metadata": {},
     "output_type": "execute_result"
    }
   ],
   "source": [
    "internet.describe()"
   ]
  },
  {
   "cell_type": "markdown",
   "id": "74f7a263",
   "metadata": {},
   "source": [
    "Чуть больше половины пользователей подключены по оптоволокну. К каждой из позиций интернет-опций, подключены меньше половины пользователей, кто использует интернет."
   ]
  },
  {
   "cell_type": "code",
   "execution_count": 36,
   "id": "93637741",
   "metadata": {},
   "outputs": [
    {
     "data": {
      "text/plain": [
       "0"
      ]
     },
     "execution_count": 36,
     "metadata": {},
     "output_type": "execute_result"
    }
   ],
   "source": [
    "internet.index.duplicated().sum()"
   ]
  },
  {
   "cell_type": "markdown",
   "id": "a3f3825f",
   "metadata": {},
   "source": [
    "Заменим столбец `InternetService` со значениями `Fiber_optic/DSL` на столбец `fiber_optic` со значениями 1/0."
   ]
  },
  {
   "cell_type": "code",
   "execution_count": 37,
   "id": "3b4310aa",
   "metadata": {},
   "outputs": [],
   "source": [
    "internet['fiber_optic'] = (internet['InternetService'] == 'Fiber optic').astype('int8')\n",
    "internet.drop('InternetService', axis=1, inplace=True)"
   ]
  },
  {
   "cell_type": "markdown",
   "id": "03cf530e",
   "metadata": {},
   "source": [
    "Заменим значения на 1/0 в столбцах интернет-опций."
   ]
  },
  {
   "cell_type": "code",
   "execution_count": 38,
   "id": "6176c320",
   "metadata": {},
   "outputs": [],
   "source": [
    "for col in ['OnlineSecurity', 'OnlineBackup', 'DeviceProtection', 'TechSupport', 'StreamingTV', 'StreamingMovies']:\n",
    "    internet[col] = (internet[col] == 'Yes').astype('int8')"
   ]
  },
  {
   "cell_type": "code",
   "execution_count": 39,
   "id": "bf23db1e",
   "metadata": {
    "scrolled": true
   },
   "outputs": [
    {
     "data": {
      "text/html": [
       "<div>\n",
       "<style scoped>\n",
       "    .dataframe tbody tr th:only-of-type {\n",
       "        vertical-align: middle;\n",
       "    }\n",
       "\n",
       "    .dataframe tbody tr th {\n",
       "        vertical-align: top;\n",
       "    }\n",
       "\n",
       "    .dataframe thead th {\n",
       "        text-align: right;\n",
       "    }\n",
       "</style>\n",
       "<table border=\"1\" class=\"dataframe\">\n",
       "  <thead>\n",
       "    <tr style=\"text-align: right;\">\n",
       "      <th></th>\n",
       "      <th>OnlineSecurity</th>\n",
       "      <th>OnlineBackup</th>\n",
       "      <th>DeviceProtection</th>\n",
       "      <th>TechSupport</th>\n",
       "      <th>StreamingTV</th>\n",
       "      <th>StreamingMovies</th>\n",
       "      <th>fiber_optic</th>\n",
       "    </tr>\n",
       "    <tr>\n",
       "      <th>customerID</th>\n",
       "      <th></th>\n",
       "      <th></th>\n",
       "      <th></th>\n",
       "      <th></th>\n",
       "      <th></th>\n",
       "      <th></th>\n",
       "      <th></th>\n",
       "    </tr>\n",
       "  </thead>\n",
       "  <tbody>\n",
       "    <tr>\n",
       "      <th>7590-VHVEG</th>\n",
       "      <td>0</td>\n",
       "      <td>1</td>\n",
       "      <td>0</td>\n",
       "      <td>0</td>\n",
       "      <td>0</td>\n",
       "      <td>0</td>\n",
       "      <td>0</td>\n",
       "    </tr>\n",
       "    <tr>\n",
       "      <th>5575-GNVDE</th>\n",
       "      <td>1</td>\n",
       "      <td>0</td>\n",
       "      <td>1</td>\n",
       "      <td>0</td>\n",
       "      <td>0</td>\n",
       "      <td>0</td>\n",
       "      <td>0</td>\n",
       "    </tr>\n",
       "    <tr>\n",
       "      <th>3668-QPYBK</th>\n",
       "      <td>1</td>\n",
       "      <td>1</td>\n",
       "      <td>0</td>\n",
       "      <td>0</td>\n",
       "      <td>0</td>\n",
       "      <td>0</td>\n",
       "      <td>0</td>\n",
       "    </tr>\n",
       "    <tr>\n",
       "      <th>7795-CFOCW</th>\n",
       "      <td>1</td>\n",
       "      <td>0</td>\n",
       "      <td>1</td>\n",
       "      <td>1</td>\n",
       "      <td>0</td>\n",
       "      <td>0</td>\n",
       "      <td>0</td>\n",
       "    </tr>\n",
       "    <tr>\n",
       "      <th>9237-HQITU</th>\n",
       "      <td>0</td>\n",
       "      <td>0</td>\n",
       "      <td>0</td>\n",
       "      <td>0</td>\n",
       "      <td>0</td>\n",
       "      <td>0</td>\n",
       "      <td>1</td>\n",
       "    </tr>\n",
       "  </tbody>\n",
       "</table>\n",
       "</div>"
      ],
      "text/plain": [
       "            OnlineSecurity  OnlineBackup  DeviceProtection  TechSupport  \\\n",
       "customerID                                                                \n",
       "7590-VHVEG               0             1                 0            0   \n",
       "5575-GNVDE               1             0                 1            0   \n",
       "3668-QPYBK               1             1                 0            0   \n",
       "7795-CFOCW               1             0                 1            1   \n",
       "9237-HQITU               0             0                 0            0   \n",
       "\n",
       "            StreamingTV  StreamingMovies  fiber_optic  \n",
       "customerID                                             \n",
       "7590-VHVEG            0                0            0  \n",
       "5575-GNVDE            0                0            0  \n",
       "3668-QPYBK            0                0            0  \n",
       "7795-CFOCW            0                0            0  \n",
       "9237-HQITU            0                0            1  "
      ]
     },
     "execution_count": 39,
     "metadata": {},
     "output_type": "execute_result"
    }
   ],
   "source": [
    "internet.head()"
   ]
  },
  {
   "cell_type": "code",
   "execution_count": 40,
   "id": "c2a310cb",
   "metadata": {},
   "outputs": [
    {
     "data": {
      "text/plain": [
       "Index(['OnlineSecurity', 'OnlineBackup', 'DeviceProtection', 'TechSupport',\n",
       "       'StreamingTV', 'StreamingMovies', 'fiber_optic'],\n",
       "      dtype='object')"
      ]
     },
     "execution_count": 40,
     "metadata": {},
     "output_type": "execute_result"
    }
   ],
   "source": [
    "internet.columns "
   ]
  },
  {
   "cell_type": "markdown",
   "id": "2bd6c117",
   "metadata": {},
   "source": [
    "Для анализа добавим дополнительный признак, говорящий о том, пользовался/пользуется клиент услугами интернета."
   ]
  },
  {
   "cell_type": "code",
   "execution_count": 41,
   "id": "2b0bc9eb",
   "metadata": {},
   "outputs": [],
   "source": [
    "internet['Internet'] = 1"
   ]
  },
  {
   "cell_type": "code",
   "execution_count": 42,
   "id": "3da5f3fc",
   "metadata": {},
   "outputs": [
    {
     "name": "stdout",
     "output_type": "stream",
     "text": [
      "<class 'pandas.core.frame.DataFrame'>\n",
      "Index: 5517 entries, 7590-VHVEG to 3186-AJIEK\n",
      "Data columns (total 8 columns):\n",
      " #   Column            Non-Null Count  Dtype\n",
      "---  ------            --------------  -----\n",
      " 0   OnlineSecurity    5517 non-null   int8 \n",
      " 1   OnlineBackup      5517 non-null   int8 \n",
      " 2   DeviceProtection  5517 non-null   int8 \n",
      " 3   TechSupport       5517 non-null   int8 \n",
      " 4   StreamingTV       5517 non-null   int8 \n",
      " 5   StreamingMovies   5517 non-null   int8 \n",
      " 6   fiber_optic       5517 non-null   int8 \n",
      " 7   Internet          5517 non-null   int64\n",
      "dtypes: int64(1), int8(7)\n",
      "memory usage: 253.0+ KB\n"
     ]
    }
   ],
   "source": [
    "internet.info()"
   ]
  },
  {
   "cell_type": "markdown",
   "id": "55d43ecd",
   "metadata": {},
   "source": [
    "##### phone"
   ]
  },
  {
   "cell_type": "code",
   "execution_count": 43,
   "id": "fb942a45",
   "metadata": {
    "scrolled": true
   },
   "outputs": [
    {
     "name": "stdout",
     "output_type": "stream",
     "text": [
      "<class 'pandas.core.frame.DataFrame'>\n",
      "Index: 6361 entries, 5575-GNVDE to 3186-AJIEK\n",
      "Data columns (total 1 columns):\n",
      " #   Column         Non-Null Count  Dtype \n",
      "---  ------         --------------  ----- \n",
      " 0   MultipleLines  6361 non-null   object\n",
      "dtypes: object(1)\n",
      "memory usage: 99.4+ KB\n"
     ]
    }
   ],
   "source": [
    "phone.info()"
   ]
  },
  {
   "cell_type": "markdown",
   "id": "98c35699",
   "metadata": {},
   "source": [
    "В `phone.csv` представлена информация об услугах телефонии, а именно:\n",
    "\n",
    "* `MultipleLines` - Мультиканальная линия, наличие возможности ведения параллельных линий во время звонка"
   ]
  },
  {
   "cell_type": "code",
   "execution_count": 44,
   "id": "254beda5",
   "metadata": {},
   "outputs": [
    {
     "data": {
      "text/html": [
       "<div>\n",
       "<style scoped>\n",
       "    .dataframe tbody tr th:only-of-type {\n",
       "        vertical-align: middle;\n",
       "    }\n",
       "\n",
       "    .dataframe tbody tr th {\n",
       "        vertical-align: top;\n",
       "    }\n",
       "\n",
       "    .dataframe thead th {\n",
       "        text-align: right;\n",
       "    }\n",
       "</style>\n",
       "<table border=\"1\" class=\"dataframe\">\n",
       "  <thead>\n",
       "    <tr style=\"text-align: right;\">\n",
       "      <th></th>\n",
       "      <th>MultipleLines</th>\n",
       "    </tr>\n",
       "    <tr>\n",
       "      <th>customerID</th>\n",
       "      <th></th>\n",
       "    </tr>\n",
       "  </thead>\n",
       "  <tbody>\n",
       "    <tr>\n",
       "      <th>5575-GNVDE</th>\n",
       "      <td>No</td>\n",
       "    </tr>\n",
       "    <tr>\n",
       "      <th>3668-QPYBK</th>\n",
       "      <td>No</td>\n",
       "    </tr>\n",
       "    <tr>\n",
       "      <th>9237-HQITU</th>\n",
       "      <td>No</td>\n",
       "    </tr>\n",
       "    <tr>\n",
       "      <th>9305-CDSKC</th>\n",
       "      <td>Yes</td>\n",
       "    </tr>\n",
       "    <tr>\n",
       "      <th>1452-KIOVK</th>\n",
       "      <td>Yes</td>\n",
       "    </tr>\n",
       "  </tbody>\n",
       "</table>\n",
       "</div>"
      ],
      "text/plain": [
       "           MultipleLines\n",
       "customerID              \n",
       "5575-GNVDE            No\n",
       "3668-QPYBK            No\n",
       "9237-HQITU            No\n",
       "9305-CDSKC           Yes\n",
       "1452-KIOVK           Yes"
      ]
     },
     "execution_count": 44,
     "metadata": {},
     "output_type": "execute_result"
    }
   ],
   "source": [
    "phone.head()"
   ]
  },
  {
   "cell_type": "code",
   "execution_count": 45,
   "id": "6e2ef803",
   "metadata": {},
   "outputs": [
    {
     "data": {
      "text/plain": [
       "0"
      ]
     },
     "execution_count": 45,
     "metadata": {},
     "output_type": "execute_result"
    }
   ],
   "source": [
    "phone.index.duplicated().sum()"
   ]
  },
  {
   "cell_type": "code",
   "execution_count": 46,
   "id": "9a54f76e",
   "metadata": {},
   "outputs": [
    {
     "data": {
      "text/html": [
       "<div>\n",
       "<style scoped>\n",
       "    .dataframe tbody tr th:only-of-type {\n",
       "        vertical-align: middle;\n",
       "    }\n",
       "\n",
       "    .dataframe tbody tr th {\n",
       "        vertical-align: top;\n",
       "    }\n",
       "\n",
       "    .dataframe thead th {\n",
       "        text-align: right;\n",
       "    }\n",
       "</style>\n",
       "<table border=\"1\" class=\"dataframe\">\n",
       "  <thead>\n",
       "    <tr style=\"text-align: right;\">\n",
       "      <th></th>\n",
       "      <th>MultipleLines</th>\n",
       "    </tr>\n",
       "  </thead>\n",
       "  <tbody>\n",
       "    <tr>\n",
       "      <th>count</th>\n",
       "      <td>6361</td>\n",
       "    </tr>\n",
       "    <tr>\n",
       "      <th>unique</th>\n",
       "      <td>2</td>\n",
       "    </tr>\n",
       "    <tr>\n",
       "      <th>top</th>\n",
       "      <td>No</td>\n",
       "    </tr>\n",
       "    <tr>\n",
       "      <th>freq</th>\n",
       "      <td>3390</td>\n",
       "    </tr>\n",
       "  </tbody>\n",
       "</table>\n",
       "</div>"
      ],
      "text/plain": [
       "       MultipleLines\n",
       "count           6361\n",
       "unique             2\n",
       "top               No\n",
       "freq            3390"
      ]
     },
     "execution_count": 46,
     "metadata": {},
     "output_type": "execute_result"
    }
   ],
   "source": [
    "phone.describe()"
   ]
  },
  {
   "cell_type": "markdown",
   "id": "dea56a4c",
   "metadata": {},
   "source": [
    "У примерно 47 % клиентов подключена услуга ведения параллельных линий во время звонка.\n",
    "\n",
    "Заменим значения на 1/0 в столбце наличия возможности ведения параллельных линий."
   ]
  },
  {
   "cell_type": "code",
   "execution_count": 47,
   "id": "a890f048",
   "metadata": {},
   "outputs": [],
   "source": [
    "phone['MultipleLines'] = (phone['MultipleLines'] == 'Yes').astype('int8')"
   ]
  },
  {
   "cell_type": "markdown",
   "id": "1f98ac5e",
   "metadata": {},
   "source": [
    "Для анализа добавим дополнительный признак, говорящий о том, пользовался/пользуется клиент услугами телефонии."
   ]
  },
  {
   "cell_type": "code",
   "execution_count": 48,
   "id": "8ac3821c",
   "metadata": {},
   "outputs": [],
   "source": [
    "phone['Phone'] = 1"
   ]
  },
  {
   "cell_type": "code",
   "execution_count": 49,
   "id": "21c80844",
   "metadata": {},
   "outputs": [
    {
     "data": {
      "text/html": [
       "<div>\n",
       "<style scoped>\n",
       "    .dataframe tbody tr th:only-of-type {\n",
       "        vertical-align: middle;\n",
       "    }\n",
       "\n",
       "    .dataframe tbody tr th {\n",
       "        vertical-align: top;\n",
       "    }\n",
       "\n",
       "    .dataframe thead th {\n",
       "        text-align: right;\n",
       "    }\n",
       "</style>\n",
       "<table border=\"1\" class=\"dataframe\">\n",
       "  <thead>\n",
       "    <tr style=\"text-align: right;\">\n",
       "      <th></th>\n",
       "      <th>MultipleLines</th>\n",
       "      <th>Phone</th>\n",
       "    </tr>\n",
       "    <tr>\n",
       "      <th>customerID</th>\n",
       "      <th></th>\n",
       "      <th></th>\n",
       "    </tr>\n",
       "  </thead>\n",
       "  <tbody>\n",
       "    <tr>\n",
       "      <th>5575-GNVDE</th>\n",
       "      <td>0</td>\n",
       "      <td>1</td>\n",
       "    </tr>\n",
       "    <tr>\n",
       "      <th>3668-QPYBK</th>\n",
       "      <td>0</td>\n",
       "      <td>1</td>\n",
       "    </tr>\n",
       "    <tr>\n",
       "      <th>9237-HQITU</th>\n",
       "      <td>0</td>\n",
       "      <td>1</td>\n",
       "    </tr>\n",
       "    <tr>\n",
       "      <th>9305-CDSKC</th>\n",
       "      <td>1</td>\n",
       "      <td>1</td>\n",
       "    </tr>\n",
       "    <tr>\n",
       "      <th>1452-KIOVK</th>\n",
       "      <td>1</td>\n",
       "      <td>1</td>\n",
       "    </tr>\n",
       "  </tbody>\n",
       "</table>\n",
       "</div>"
      ],
      "text/plain": [
       "            MultipleLines  Phone\n",
       "customerID                      \n",
       "5575-GNVDE              0      1\n",
       "3668-QPYBK              0      1\n",
       "9237-HQITU              0      1\n",
       "9305-CDSKC              1      1\n",
       "1452-KIOVK              1      1"
      ]
     },
     "execution_count": 49,
     "metadata": {},
     "output_type": "execute_result"
    }
   ],
   "source": [
    "phone.head()"
   ]
  },
  {
   "cell_type": "markdown",
   "id": "5832275e",
   "metadata": {},
   "source": [
    "#### Объединение таблиц"
   ]
  },
  {
   "cell_type": "code",
   "execution_count": 50,
   "id": "85800558",
   "metadata": {},
   "outputs": [],
   "source": [
    "df = contract.join(personal, how='left').join(internet, how='left').join(phone, how='left')"
   ]
  },
  {
   "cell_type": "code",
   "execution_count": 51,
   "id": "e2a8d80b",
   "metadata": {},
   "outputs": [
    {
     "name": "stdout",
     "output_type": "stream",
     "text": [
      "<class 'pandas.core.frame.DataFrame'>\n",
      "Index: 7043 entries, 7590-VHVEG to 3186-AJIEK\n",
      "Data columns (total 22 columns):\n",
      " #   Column            Non-Null Count  Dtype  \n",
      "---  ------            --------------  -----  \n",
      " 0   Type              7043 non-null   object \n",
      " 1   PaperlessBilling  7043 non-null   int8   \n",
      " 2   PaymentMethod     7043 non-null   object \n",
      " 3   MonthlyCharges    7043 non-null   float32\n",
      " 4   TotalCharges      7043 non-null   float32\n",
      " 5   begin_days        7043 non-null   int64  \n",
      " 6   end_days          7043 non-null   int64  \n",
      " 7   churn             7043 non-null   int8   \n",
      " 8   gender            7043 non-null   int8   \n",
      " 9   SeniorCitizen     7043 non-null   int64  \n",
      " 10  Partner           7043 non-null   int8   \n",
      " 11  Dependents        7043 non-null   int8   \n",
      " 12  OnlineSecurity    5517 non-null   float64\n",
      " 13  OnlineBackup      5517 non-null   float64\n",
      " 14  DeviceProtection  5517 non-null   float64\n",
      " 15  TechSupport       5517 non-null   float64\n",
      " 16  StreamingTV       5517 non-null   float64\n",
      " 17  StreamingMovies   5517 non-null   float64\n",
      " 18  fiber_optic       5517 non-null   float64\n",
      " 19  Internet          5517 non-null   float64\n",
      " 20  MultipleLines     6361 non-null   float64\n",
      " 21  Phone             6361 non-null   float64\n",
      "dtypes: float32(2), float64(10), int64(3), int8(5), object(2)\n",
      "memory usage: 1.2+ MB\n"
     ]
    }
   ],
   "source": [
    "df.info()"
   ]
  },
  {
   "cell_type": "markdown",
   "id": "9b04b615",
   "metadata": {},
   "source": [
    "Проверим наличие пропусков."
   ]
  },
  {
   "cell_type": "code",
   "execution_count": 52,
   "id": "ba65dbe9",
   "metadata": {},
   "outputs": [
    {
     "data": {
      "text/plain": [
       "Type                0.000000\n",
       "PaperlessBilling    0.000000\n",
       "PaymentMethod       0.000000\n",
       "MonthlyCharges      0.000000\n",
       "TotalCharges        0.000000\n",
       "begin_days          0.000000\n",
       "end_days            0.000000\n",
       "churn               0.000000\n",
       "gender              0.000000\n",
       "SeniorCitizen       0.000000\n",
       "Partner             0.000000\n",
       "Dependents          0.000000\n",
       "OnlineSecurity      0.216669\n",
       "OnlineBackup        0.216669\n",
       "DeviceProtection    0.216669\n",
       "TechSupport         0.216669\n",
       "StreamingTV         0.216669\n",
       "StreamingMovies     0.216669\n",
       "fiber_optic         0.216669\n",
       "Internet            0.216669\n",
       "MultipleLines       0.096834\n",
       "Phone               0.096834\n",
       "dtype: float64"
      ]
     },
     "execution_count": 52,
     "metadata": {},
     "output_type": "execute_result"
    }
   ],
   "source": [
    "df.isna().mean()"
   ]
  },
  {
   "cell_type": "markdown",
   "id": "161b9525",
   "metadata": {},
   "source": [
    "Пропуски образовались в результате слияния таблиц, по причине того, что таблицы contract и personal имеют по 7043 строки, а таблицы internet и phone меньше строк. Заменим пустые значения признаков на `-1`. Будем считать, что клиент не пользуется данными услугами."
   ]
  },
  {
   "cell_type": "code",
   "execution_count": 53,
   "id": "728c285d",
   "metadata": {},
   "outputs": [],
   "source": [
    "df = df.fillna(-1)"
   ]
  },
  {
   "cell_type": "code",
   "execution_count": 54,
   "id": "3e635639",
   "metadata": {},
   "outputs": [
    {
     "data": {
      "text/plain": [
       "Type                0.0\n",
       "PaperlessBilling    0.0\n",
       "PaymentMethod       0.0\n",
       "MonthlyCharges      0.0\n",
       "TotalCharges        0.0\n",
       "begin_days          0.0\n",
       "end_days            0.0\n",
       "churn               0.0\n",
       "gender              0.0\n",
       "SeniorCitizen       0.0\n",
       "Partner             0.0\n",
       "Dependents          0.0\n",
       "OnlineSecurity      0.0\n",
       "OnlineBackup        0.0\n",
       "DeviceProtection    0.0\n",
       "TechSupport         0.0\n",
       "StreamingTV         0.0\n",
       "StreamingMovies     0.0\n",
       "fiber_optic         0.0\n",
       "Internet            0.0\n",
       "MultipleLines       0.0\n",
       "Phone               0.0\n",
       "dtype: float64"
      ]
     },
     "execution_count": 54,
     "metadata": {},
     "output_type": "execute_result"
    }
   ],
   "source": [
    "df.isna().mean()"
   ]
  },
  {
   "cell_type": "markdown",
   "id": "f10ea1d5",
   "metadata": {},
   "source": [
    "Посмотрим на получившийся датафрейм."
   ]
  },
  {
   "cell_type": "code",
   "execution_count": 55,
   "id": "a9794c53",
   "metadata": {},
   "outputs": [
    {
     "data": {
      "text/html": [
       "<div>\n",
       "<style scoped>\n",
       "    .dataframe tbody tr th:only-of-type {\n",
       "        vertical-align: middle;\n",
       "    }\n",
       "\n",
       "    .dataframe tbody tr th {\n",
       "        vertical-align: top;\n",
       "    }\n",
       "\n",
       "    .dataframe thead th {\n",
       "        text-align: right;\n",
       "    }\n",
       "</style>\n",
       "<table border=\"1\" class=\"dataframe\">\n",
       "  <thead>\n",
       "    <tr style=\"text-align: right;\">\n",
       "      <th></th>\n",
       "      <th>Type</th>\n",
       "      <th>PaperlessBilling</th>\n",
       "      <th>PaymentMethod</th>\n",
       "      <th>MonthlyCharges</th>\n",
       "      <th>TotalCharges</th>\n",
       "      <th>begin_days</th>\n",
       "      <th>end_days</th>\n",
       "      <th>churn</th>\n",
       "      <th>gender</th>\n",
       "      <th>SeniorCitizen</th>\n",
       "      <th>...</th>\n",
       "      <th>OnlineSecurity</th>\n",
       "      <th>OnlineBackup</th>\n",
       "      <th>DeviceProtection</th>\n",
       "      <th>TechSupport</th>\n",
       "      <th>StreamingTV</th>\n",
       "      <th>StreamingMovies</th>\n",
       "      <th>fiber_optic</th>\n",
       "      <th>Internet</th>\n",
       "      <th>MultipleLines</th>\n",
       "      <th>Phone</th>\n",
       "    </tr>\n",
       "    <tr>\n",
       "      <th>customerID</th>\n",
       "      <th></th>\n",
       "      <th></th>\n",
       "      <th></th>\n",
       "      <th></th>\n",
       "      <th></th>\n",
       "      <th></th>\n",
       "      <th></th>\n",
       "      <th></th>\n",
       "      <th></th>\n",
       "      <th></th>\n",
       "      <th></th>\n",
       "      <th></th>\n",
       "      <th></th>\n",
       "      <th></th>\n",
       "      <th></th>\n",
       "      <th></th>\n",
       "      <th></th>\n",
       "      <th></th>\n",
       "      <th></th>\n",
       "      <th></th>\n",
       "      <th></th>\n",
       "    </tr>\n",
       "  </thead>\n",
       "  <tbody>\n",
       "    <tr>\n",
       "      <th>7590-VHVEG</th>\n",
       "      <td>Month-to-month</td>\n",
       "      <td>1</td>\n",
       "      <td>Electronic check</td>\n",
       "      <td>29.850000</td>\n",
       "      <td>29.850000</td>\n",
       "      <td>31</td>\n",
       "      <td>0</td>\n",
       "      <td>0</td>\n",
       "      <td>0</td>\n",
       "      <td>0</td>\n",
       "      <td>...</td>\n",
       "      <td>0.0</td>\n",
       "      <td>1.0</td>\n",
       "      <td>0.0</td>\n",
       "      <td>0.0</td>\n",
       "      <td>0.0</td>\n",
       "      <td>0.0</td>\n",
       "      <td>0.0</td>\n",
       "      <td>1.0</td>\n",
       "      <td>-1.0</td>\n",
       "      <td>-1.0</td>\n",
       "    </tr>\n",
       "    <tr>\n",
       "      <th>5575-GNVDE</th>\n",
       "      <td>One year</td>\n",
       "      <td>0</td>\n",
       "      <td>Mailed check</td>\n",
       "      <td>56.950001</td>\n",
       "      <td>1889.500000</td>\n",
       "      <td>1036</td>\n",
       "      <td>0</td>\n",
       "      <td>0</td>\n",
       "      <td>1</td>\n",
       "      <td>0</td>\n",
       "      <td>...</td>\n",
       "      <td>1.0</td>\n",
       "      <td>0.0</td>\n",
       "      <td>1.0</td>\n",
       "      <td>0.0</td>\n",
       "      <td>0.0</td>\n",
       "      <td>0.0</td>\n",
       "      <td>0.0</td>\n",
       "      <td>1.0</td>\n",
       "      <td>0.0</td>\n",
       "      <td>1.0</td>\n",
       "    </tr>\n",
       "    <tr>\n",
       "      <th>3668-QPYBK</th>\n",
       "      <td>Month-to-month</td>\n",
       "      <td>1</td>\n",
       "      <td>Mailed check</td>\n",
       "      <td>53.849998</td>\n",
       "      <td>108.150002</td>\n",
       "      <td>123</td>\n",
       "      <td>62</td>\n",
       "      <td>1</td>\n",
       "      <td>1</td>\n",
       "      <td>0</td>\n",
       "      <td>...</td>\n",
       "      <td>1.0</td>\n",
       "      <td>1.0</td>\n",
       "      <td>0.0</td>\n",
       "      <td>0.0</td>\n",
       "      <td>0.0</td>\n",
       "      <td>0.0</td>\n",
       "      <td>0.0</td>\n",
       "      <td>1.0</td>\n",
       "      <td>0.0</td>\n",
       "      <td>1.0</td>\n",
       "    </tr>\n",
       "    <tr>\n",
       "      <th>7795-CFOCW</th>\n",
       "      <td>One year</td>\n",
       "      <td>0</td>\n",
       "      <td>Bank transfer (automatic)</td>\n",
       "      <td>42.299999</td>\n",
       "      <td>1840.750000</td>\n",
       "      <td>1371</td>\n",
       "      <td>0</td>\n",
       "      <td>0</td>\n",
       "      <td>1</td>\n",
       "      <td>0</td>\n",
       "      <td>...</td>\n",
       "      <td>1.0</td>\n",
       "      <td>0.0</td>\n",
       "      <td>1.0</td>\n",
       "      <td>1.0</td>\n",
       "      <td>0.0</td>\n",
       "      <td>0.0</td>\n",
       "      <td>0.0</td>\n",
       "      <td>1.0</td>\n",
       "      <td>-1.0</td>\n",
       "      <td>-1.0</td>\n",
       "    </tr>\n",
       "    <tr>\n",
       "      <th>9237-HQITU</th>\n",
       "      <td>Month-to-month</td>\n",
       "      <td>1</td>\n",
       "      <td>Electronic check</td>\n",
       "      <td>70.699997</td>\n",
       "      <td>151.649994</td>\n",
       "      <td>153</td>\n",
       "      <td>92</td>\n",
       "      <td>1</td>\n",
       "      <td>0</td>\n",
       "      <td>0</td>\n",
       "      <td>...</td>\n",
       "      <td>0.0</td>\n",
       "      <td>0.0</td>\n",
       "      <td>0.0</td>\n",
       "      <td>0.0</td>\n",
       "      <td>0.0</td>\n",
       "      <td>0.0</td>\n",
       "      <td>1.0</td>\n",
       "      <td>1.0</td>\n",
       "      <td>0.0</td>\n",
       "      <td>1.0</td>\n",
       "    </tr>\n",
       "    <tr>\n",
       "      <th>...</th>\n",
       "      <td>...</td>\n",
       "      <td>...</td>\n",
       "      <td>...</td>\n",
       "      <td>...</td>\n",
       "      <td>...</td>\n",
       "      <td>...</td>\n",
       "      <td>...</td>\n",
       "      <td>...</td>\n",
       "      <td>...</td>\n",
       "      <td>...</td>\n",
       "      <td>...</td>\n",
       "      <td>...</td>\n",
       "      <td>...</td>\n",
       "      <td>...</td>\n",
       "      <td>...</td>\n",
       "      <td>...</td>\n",
       "      <td>...</td>\n",
       "      <td>...</td>\n",
       "      <td>...</td>\n",
       "      <td>...</td>\n",
       "      <td>...</td>\n",
       "    </tr>\n",
       "    <tr>\n",
       "      <th>6840-RESVB</th>\n",
       "      <td>One year</td>\n",
       "      <td>1</td>\n",
       "      <td>Mailed check</td>\n",
       "      <td>84.800003</td>\n",
       "      <td>1990.500000</td>\n",
       "      <td>730</td>\n",
       "      <td>0</td>\n",
       "      <td>0</td>\n",
       "      <td>1</td>\n",
       "      <td>0</td>\n",
       "      <td>...</td>\n",
       "      <td>1.0</td>\n",
       "      <td>0.0</td>\n",
       "      <td>1.0</td>\n",
       "      <td>1.0</td>\n",
       "      <td>1.0</td>\n",
       "      <td>1.0</td>\n",
       "      <td>0.0</td>\n",
       "      <td>1.0</td>\n",
       "      <td>1.0</td>\n",
       "      <td>1.0</td>\n",
       "    </tr>\n",
       "    <tr>\n",
       "      <th>2234-XADUH</th>\n",
       "      <td>One year</td>\n",
       "      <td>1</td>\n",
       "      <td>Credit card (automatic)</td>\n",
       "      <td>103.199997</td>\n",
       "      <td>7362.899902</td>\n",
       "      <td>2191</td>\n",
       "      <td>0</td>\n",
       "      <td>0</td>\n",
       "      <td>0</td>\n",
       "      <td>0</td>\n",
       "      <td>...</td>\n",
       "      <td>0.0</td>\n",
       "      <td>1.0</td>\n",
       "      <td>1.0</td>\n",
       "      <td>0.0</td>\n",
       "      <td>1.0</td>\n",
       "      <td>1.0</td>\n",
       "      <td>1.0</td>\n",
       "      <td>1.0</td>\n",
       "      <td>1.0</td>\n",
       "      <td>1.0</td>\n",
       "    </tr>\n",
       "    <tr>\n",
       "      <th>4801-JZAZL</th>\n",
       "      <td>Month-to-month</td>\n",
       "      <td>1</td>\n",
       "      <td>Electronic check</td>\n",
       "      <td>29.600000</td>\n",
       "      <td>346.450012</td>\n",
       "      <td>337</td>\n",
       "      <td>0</td>\n",
       "      <td>0</td>\n",
       "      <td>0</td>\n",
       "      <td>0</td>\n",
       "      <td>...</td>\n",
       "      <td>1.0</td>\n",
       "      <td>0.0</td>\n",
       "      <td>0.0</td>\n",
       "      <td>0.0</td>\n",
       "      <td>0.0</td>\n",
       "      <td>0.0</td>\n",
       "      <td>0.0</td>\n",
       "      <td>1.0</td>\n",
       "      <td>-1.0</td>\n",
       "      <td>-1.0</td>\n",
       "    </tr>\n",
       "    <tr>\n",
       "      <th>8361-LTMKD</th>\n",
       "      <td>Month-to-month</td>\n",
       "      <td>1</td>\n",
       "      <td>Mailed check</td>\n",
       "      <td>74.400002</td>\n",
       "      <td>306.600006</td>\n",
       "      <td>215</td>\n",
       "      <td>92</td>\n",
       "      <td>1</td>\n",
       "      <td>1</td>\n",
       "      <td>1</td>\n",
       "      <td>...</td>\n",
       "      <td>0.0</td>\n",
       "      <td>0.0</td>\n",
       "      <td>0.0</td>\n",
       "      <td>0.0</td>\n",
       "      <td>0.0</td>\n",
       "      <td>0.0</td>\n",
       "      <td>1.0</td>\n",
       "      <td>1.0</td>\n",
       "      <td>1.0</td>\n",
       "      <td>1.0</td>\n",
       "    </tr>\n",
       "    <tr>\n",
       "      <th>3186-AJIEK</th>\n",
       "      <td>Two year</td>\n",
       "      <td>1</td>\n",
       "      <td>Bank transfer (automatic)</td>\n",
       "      <td>105.650002</td>\n",
       "      <td>6844.500000</td>\n",
       "      <td>2010</td>\n",
       "      <td>0</td>\n",
       "      <td>0</td>\n",
       "      <td>1</td>\n",
       "      <td>0</td>\n",
       "      <td>...</td>\n",
       "      <td>1.0</td>\n",
       "      <td>0.0</td>\n",
       "      <td>1.0</td>\n",
       "      <td>1.0</td>\n",
       "      <td>1.0</td>\n",
       "      <td>1.0</td>\n",
       "      <td>1.0</td>\n",
       "      <td>1.0</td>\n",
       "      <td>0.0</td>\n",
       "      <td>1.0</td>\n",
       "    </tr>\n",
       "  </tbody>\n",
       "</table>\n",
       "<p>7043 rows × 22 columns</p>\n",
       "</div>"
      ],
      "text/plain": [
       "                      Type  PaperlessBilling              PaymentMethod  \\\n",
       "customerID                                                                \n",
       "7590-VHVEG  Month-to-month                 1           Electronic check   \n",
       "5575-GNVDE        One year                 0               Mailed check   \n",
       "3668-QPYBK  Month-to-month                 1               Mailed check   \n",
       "7795-CFOCW        One year                 0  Bank transfer (automatic)   \n",
       "9237-HQITU  Month-to-month                 1           Electronic check   \n",
       "...                    ...               ...                        ...   \n",
       "6840-RESVB        One year                 1               Mailed check   \n",
       "2234-XADUH        One year                 1    Credit card (automatic)   \n",
       "4801-JZAZL  Month-to-month                 1           Electronic check   \n",
       "8361-LTMKD  Month-to-month                 1               Mailed check   \n",
       "3186-AJIEK        Two year                 1  Bank transfer (automatic)   \n",
       "\n",
       "            MonthlyCharges  TotalCharges  begin_days  end_days  churn  gender  \\\n",
       "customerID                                                                      \n",
       "7590-VHVEG       29.850000     29.850000          31         0      0       0   \n",
       "5575-GNVDE       56.950001   1889.500000        1036         0      0       1   \n",
       "3668-QPYBK       53.849998    108.150002         123        62      1       1   \n",
       "7795-CFOCW       42.299999   1840.750000        1371         0      0       1   \n",
       "9237-HQITU       70.699997    151.649994         153        92      1       0   \n",
       "...                    ...           ...         ...       ...    ...     ...   \n",
       "6840-RESVB       84.800003   1990.500000         730         0      0       1   \n",
       "2234-XADUH      103.199997   7362.899902        2191         0      0       0   \n",
       "4801-JZAZL       29.600000    346.450012         337         0      0       0   \n",
       "8361-LTMKD       74.400002    306.600006         215        92      1       1   \n",
       "3186-AJIEK      105.650002   6844.500000        2010         0      0       1   \n",
       "\n",
       "            SeniorCitizen  ...  OnlineSecurity  OnlineBackup  \\\n",
       "customerID                 ...                                 \n",
       "7590-VHVEG              0  ...             0.0           1.0   \n",
       "5575-GNVDE              0  ...             1.0           0.0   \n",
       "3668-QPYBK              0  ...             1.0           1.0   \n",
       "7795-CFOCW              0  ...             1.0           0.0   \n",
       "9237-HQITU              0  ...             0.0           0.0   \n",
       "...                   ...  ...             ...           ...   \n",
       "6840-RESVB              0  ...             1.0           0.0   \n",
       "2234-XADUH              0  ...             0.0           1.0   \n",
       "4801-JZAZL              0  ...             1.0           0.0   \n",
       "8361-LTMKD              1  ...             0.0           0.0   \n",
       "3186-AJIEK              0  ...             1.0           0.0   \n",
       "\n",
       "            DeviceProtection  TechSupport  StreamingTV  StreamingMovies  \\\n",
       "customerID                                                                \n",
       "7590-VHVEG               0.0          0.0          0.0              0.0   \n",
       "5575-GNVDE               1.0          0.0          0.0              0.0   \n",
       "3668-QPYBK               0.0          0.0          0.0              0.0   \n",
       "7795-CFOCW               1.0          1.0          0.0              0.0   \n",
       "9237-HQITU               0.0          0.0          0.0              0.0   \n",
       "...                      ...          ...          ...              ...   \n",
       "6840-RESVB               1.0          1.0          1.0              1.0   \n",
       "2234-XADUH               1.0          0.0          1.0              1.0   \n",
       "4801-JZAZL               0.0          0.0          0.0              0.0   \n",
       "8361-LTMKD               0.0          0.0          0.0              0.0   \n",
       "3186-AJIEK               1.0          1.0          1.0              1.0   \n",
       "\n",
       "            fiber_optic  Internet  MultipleLines  Phone  \n",
       "customerID                                               \n",
       "7590-VHVEG          0.0       1.0           -1.0   -1.0  \n",
       "5575-GNVDE          0.0       1.0            0.0    1.0  \n",
       "3668-QPYBK          0.0       1.0            0.0    1.0  \n",
       "7795-CFOCW          0.0       1.0           -1.0   -1.0  \n",
       "9237-HQITU          1.0       1.0            0.0    1.0  \n",
       "...                 ...       ...            ...    ...  \n",
       "6840-RESVB          0.0       1.0            1.0    1.0  \n",
       "2234-XADUH          1.0       1.0            1.0    1.0  \n",
       "4801-JZAZL          0.0       1.0           -1.0   -1.0  \n",
       "8361-LTMKD          1.0       1.0            1.0    1.0  \n",
       "3186-AJIEK          1.0       1.0            0.0    1.0  \n",
       "\n",
       "[7043 rows x 22 columns]"
      ]
     },
     "execution_count": 55,
     "metadata": {},
     "output_type": "execute_result"
    }
   ],
   "source": [
    "df"
   ]
  },
  {
   "cell_type": "markdown",
   "id": "cf6d8f50",
   "metadata": {},
   "source": [
    "Облегчим датафрейм."
   ]
  },
  {
   "cell_type": "code",
   "execution_count": 56,
   "id": "d2f0a426",
   "metadata": {},
   "outputs": [],
   "source": [
    "for columnn in ['SeniorCitizen'] + list(internet.columns) + list(phone.columns):\n",
    "    df[columnn] = pd.to_numeric(df[columnn], downcast='integer')"
   ]
  },
  {
   "cell_type": "code",
   "execution_count": 57,
   "id": "eee3e479",
   "metadata": {},
   "outputs": [
    {
     "name": "stdout",
     "output_type": "stream",
     "text": [
      "<class 'pandas.core.frame.DataFrame'>\n",
      "Index: 7043 entries, 7590-VHVEG to 3186-AJIEK\n",
      "Data columns (total 22 columns):\n",
      " #   Column            Non-Null Count  Dtype  \n",
      "---  ------            --------------  -----  \n",
      " 0   Type              7043 non-null   object \n",
      " 1   PaperlessBilling  7043 non-null   int8   \n",
      " 2   PaymentMethod     7043 non-null   object \n",
      " 3   MonthlyCharges    7043 non-null   float32\n",
      " 4   TotalCharges      7043 non-null   float32\n",
      " 5   begin_days        7043 non-null   int64  \n",
      " 6   end_days          7043 non-null   int64  \n",
      " 7   churn             7043 non-null   int8   \n",
      " 8   gender            7043 non-null   int8   \n",
      " 9   SeniorCitizen     7043 non-null   int8   \n",
      " 10  Partner           7043 non-null   int8   \n",
      " 11  Dependents        7043 non-null   int8   \n",
      " 12  OnlineSecurity    7043 non-null   int8   \n",
      " 13  OnlineBackup      7043 non-null   int8   \n",
      " 14  DeviceProtection  7043 non-null   int8   \n",
      " 15  TechSupport       7043 non-null   int8   \n",
      " 16  StreamingTV       7043 non-null   int8   \n",
      " 17  StreamingMovies   7043 non-null   int8   \n",
      " 18  fiber_optic       7043 non-null   int8   \n",
      " 19  Internet          7043 non-null   int8   \n",
      " 20  MultipleLines     7043 non-null   int8   \n",
      " 21  Phone             7043 non-null   int8   \n",
      "dtypes: float32(2), int64(2), int8(16), object(2)\n",
      "memory usage: 698.2+ KB\n"
     ]
    }
   ],
   "source": [
    "df.info()"
   ]
  },
  {
   "cell_type": "markdown",
   "id": "dd9d91aa",
   "metadata": {},
   "source": [
    "#### Анализ данных"
   ]
  },
  {
   "cell_type": "code",
   "execution_count": 58,
   "id": "e17fc36e",
   "metadata": {},
   "outputs": [
    {
     "data": {
      "text/html": [
       "<div>\n",
       "<style scoped>\n",
       "    .dataframe tbody tr th:only-of-type {\n",
       "        vertical-align: middle;\n",
       "    }\n",
       "\n",
       "    .dataframe tbody tr th {\n",
       "        vertical-align: top;\n",
       "    }\n",
       "\n",
       "    .dataframe thead th {\n",
       "        text-align: right;\n",
       "    }\n",
       "</style>\n",
       "<table border=\"1\" class=\"dataframe\">\n",
       "  <thead>\n",
       "    <tr style=\"text-align: right;\">\n",
       "      <th></th>\n",
       "      <th>PaperlessBilling</th>\n",
       "      <th>MonthlyCharges</th>\n",
       "      <th>TotalCharges</th>\n",
       "      <th>begin_days</th>\n",
       "      <th>end_days</th>\n",
       "      <th>churn</th>\n",
       "      <th>gender</th>\n",
       "      <th>SeniorCitizen</th>\n",
       "      <th>Partner</th>\n",
       "      <th>Dependents</th>\n",
       "      <th>OnlineSecurity</th>\n",
       "      <th>OnlineBackup</th>\n",
       "      <th>DeviceProtection</th>\n",
       "      <th>TechSupport</th>\n",
       "      <th>StreamingTV</th>\n",
       "      <th>StreamingMovies</th>\n",
       "      <th>fiber_optic</th>\n",
       "      <th>Internet</th>\n",
       "      <th>MultipleLines</th>\n",
       "      <th>Phone</th>\n",
       "    </tr>\n",
       "  </thead>\n",
       "  <tbody>\n",
       "    <tr>\n",
       "      <th>count</th>\n",
       "      <td>7043.000000</td>\n",
       "      <td>7043.000000</td>\n",
       "      <td>7043.000000</td>\n",
       "      <td>7043.000000</td>\n",
       "      <td>7043.000000</td>\n",
       "      <td>7043.000000</td>\n",
       "      <td>7043.000000</td>\n",
       "      <td>7043.000000</td>\n",
       "      <td>7043.000000</td>\n",
       "      <td>7043.000000</td>\n",
       "      <td>7043.000000</td>\n",
       "      <td>7043.000000</td>\n",
       "      <td>7043.000000</td>\n",
       "      <td>7043.000000</td>\n",
       "      <td>7043.000000</td>\n",
       "      <td>7043.000000</td>\n",
       "      <td>7043.000000</td>\n",
       "      <td>7043.000000</td>\n",
       "      <td>7043.000000</td>\n",
       "      <td>7043.000000</td>\n",
       "    </tr>\n",
       "    <tr>\n",
       "      <th>mean</th>\n",
       "      <td>0.592219</td>\n",
       "      <td>64.761826</td>\n",
       "      <td>2279.797363</td>\n",
       "      <td>1006.457050</td>\n",
       "      <td>20.460883</td>\n",
       "      <td>0.265370</td>\n",
       "      <td>0.504756</td>\n",
       "      <td>0.162147</td>\n",
       "      <td>0.483033</td>\n",
       "      <td>0.299588</td>\n",
       "      <td>0.069999</td>\n",
       "      <td>0.128212</td>\n",
       "      <td>0.127219</td>\n",
       "      <td>0.073548</td>\n",
       "      <td>0.167684</td>\n",
       "      <td>0.171234</td>\n",
       "      <td>0.222916</td>\n",
       "      <td>0.566662</td>\n",
       "      <td>0.325004</td>\n",
       "      <td>0.806333</td>\n",
       "    </tr>\n",
       "    <tr>\n",
       "      <th>std</th>\n",
       "      <td>0.491457</td>\n",
       "      <td>30.089973</td>\n",
       "      <td>2266.731934</td>\n",
       "      <td>736.596428</td>\n",
       "      <td>38.279807</td>\n",
       "      <td>0.441561</td>\n",
       "      <td>0.500013</td>\n",
       "      <td>0.368612</td>\n",
       "      <td>0.499748</td>\n",
       "      <td>0.458110</td>\n",
       "      <td>0.706051</td>\n",
       "      <td>0.738369</td>\n",
       "      <td>0.737868</td>\n",
       "      <td>0.708201</td>\n",
       "      <td>0.756958</td>\n",
       "      <td>0.758507</td>\n",
       "      <td>0.778877</td>\n",
       "      <td>0.824009</td>\n",
       "      <td>0.642730</td>\n",
       "      <td>0.591504</td>\n",
       "    </tr>\n",
       "    <tr>\n",
       "      <th>min</th>\n",
       "      <td>0.000000</td>\n",
       "      <td>18.250000</td>\n",
       "      <td>18.799999</td>\n",
       "      <td>0.000000</td>\n",
       "      <td>0.000000</td>\n",
       "      <td>0.000000</td>\n",
       "      <td>0.000000</td>\n",
       "      <td>0.000000</td>\n",
       "      <td>0.000000</td>\n",
       "      <td>0.000000</td>\n",
       "      <td>-1.000000</td>\n",
       "      <td>-1.000000</td>\n",
       "      <td>-1.000000</td>\n",
       "      <td>-1.000000</td>\n",
       "      <td>-1.000000</td>\n",
       "      <td>-1.000000</td>\n",
       "      <td>-1.000000</td>\n",
       "      <td>-1.000000</td>\n",
       "      <td>-1.000000</td>\n",
       "      <td>-1.000000</td>\n",
       "    </tr>\n",
       "    <tr>\n",
       "      <th>25%</th>\n",
       "      <td>0.000000</td>\n",
       "      <td>35.500000</td>\n",
       "      <td>398.549988</td>\n",
       "      <td>306.000000</td>\n",
       "      <td>0.000000</td>\n",
       "      <td>0.000000</td>\n",
       "      <td>0.000000</td>\n",
       "      <td>0.000000</td>\n",
       "      <td>0.000000</td>\n",
       "      <td>0.000000</td>\n",
       "      <td>0.000000</td>\n",
       "      <td>0.000000</td>\n",
       "      <td>0.000000</td>\n",
       "      <td>0.000000</td>\n",
       "      <td>0.000000</td>\n",
       "      <td>0.000000</td>\n",
       "      <td>0.000000</td>\n",
       "      <td>1.000000</td>\n",
       "      <td>0.000000</td>\n",
       "      <td>1.000000</td>\n",
       "    </tr>\n",
       "    <tr>\n",
       "      <th>50%</th>\n",
       "      <td>1.000000</td>\n",
       "      <td>70.349998</td>\n",
       "      <td>1394.550049</td>\n",
       "      <td>883.000000</td>\n",
       "      <td>0.000000</td>\n",
       "      <td>0.000000</td>\n",
       "      <td>1.000000</td>\n",
       "      <td>0.000000</td>\n",
       "      <td>0.000000</td>\n",
       "      <td>0.000000</td>\n",
       "      <td>0.000000</td>\n",
       "      <td>0.000000</td>\n",
       "      <td>0.000000</td>\n",
       "      <td>0.000000</td>\n",
       "      <td>0.000000</td>\n",
       "      <td>0.000000</td>\n",
       "      <td>0.000000</td>\n",
       "      <td>1.000000</td>\n",
       "      <td>0.000000</td>\n",
       "      <td>1.000000</td>\n",
       "    </tr>\n",
       "    <tr>\n",
       "      <th>75%</th>\n",
       "      <td>1.000000</td>\n",
       "      <td>89.849998</td>\n",
       "      <td>3786.599976</td>\n",
       "      <td>1706.000000</td>\n",
       "      <td>31.000000</td>\n",
       "      <td>1.000000</td>\n",
       "      <td>1.000000</td>\n",
       "      <td>0.000000</td>\n",
       "      <td>1.000000</td>\n",
       "      <td>1.000000</td>\n",
       "      <td>1.000000</td>\n",
       "      <td>1.000000</td>\n",
       "      <td>1.000000</td>\n",
       "      <td>1.000000</td>\n",
       "      <td>1.000000</td>\n",
       "      <td>1.000000</td>\n",
       "      <td>1.000000</td>\n",
       "      <td>1.000000</td>\n",
       "      <td>1.000000</td>\n",
       "      <td>1.000000</td>\n",
       "    </tr>\n",
       "    <tr>\n",
       "      <th>max</th>\n",
       "      <td>1.000000</td>\n",
       "      <td>118.750000</td>\n",
       "      <td>8684.799805</td>\n",
       "      <td>2314.000000</td>\n",
       "      <td>123.000000</td>\n",
       "      <td>1.000000</td>\n",
       "      <td>1.000000</td>\n",
       "      <td>1.000000</td>\n",
       "      <td>1.000000</td>\n",
       "      <td>1.000000</td>\n",
       "      <td>1.000000</td>\n",
       "      <td>1.000000</td>\n",
       "      <td>1.000000</td>\n",
       "      <td>1.000000</td>\n",
       "      <td>1.000000</td>\n",
       "      <td>1.000000</td>\n",
       "      <td>1.000000</td>\n",
       "      <td>1.000000</td>\n",
       "      <td>1.000000</td>\n",
       "      <td>1.000000</td>\n",
       "    </tr>\n",
       "  </tbody>\n",
       "</table>\n",
       "</div>"
      ],
      "text/plain": [
       "       PaperlessBilling  MonthlyCharges  TotalCharges   begin_days  \\\n",
       "count       7043.000000     7043.000000   7043.000000  7043.000000   \n",
       "mean           0.592219       64.761826   2279.797363  1006.457050   \n",
       "std            0.491457       30.089973   2266.731934   736.596428   \n",
       "min            0.000000       18.250000     18.799999     0.000000   \n",
       "25%            0.000000       35.500000    398.549988   306.000000   \n",
       "50%            1.000000       70.349998   1394.550049   883.000000   \n",
       "75%            1.000000       89.849998   3786.599976  1706.000000   \n",
       "max            1.000000      118.750000   8684.799805  2314.000000   \n",
       "\n",
       "          end_days        churn       gender  SeniorCitizen      Partner  \\\n",
       "count  7043.000000  7043.000000  7043.000000    7043.000000  7043.000000   \n",
       "mean     20.460883     0.265370     0.504756       0.162147     0.483033   \n",
       "std      38.279807     0.441561     0.500013       0.368612     0.499748   \n",
       "min       0.000000     0.000000     0.000000       0.000000     0.000000   \n",
       "25%       0.000000     0.000000     0.000000       0.000000     0.000000   \n",
       "50%       0.000000     0.000000     1.000000       0.000000     0.000000   \n",
       "75%      31.000000     1.000000     1.000000       0.000000     1.000000   \n",
       "max     123.000000     1.000000     1.000000       1.000000     1.000000   \n",
       "\n",
       "        Dependents  OnlineSecurity  OnlineBackup  DeviceProtection  \\\n",
       "count  7043.000000     7043.000000   7043.000000       7043.000000   \n",
       "mean      0.299588        0.069999      0.128212          0.127219   \n",
       "std       0.458110        0.706051      0.738369          0.737868   \n",
       "min       0.000000       -1.000000     -1.000000         -1.000000   \n",
       "25%       0.000000        0.000000      0.000000          0.000000   \n",
       "50%       0.000000        0.000000      0.000000          0.000000   \n",
       "75%       1.000000        1.000000      1.000000          1.000000   \n",
       "max       1.000000        1.000000      1.000000          1.000000   \n",
       "\n",
       "       TechSupport  StreamingTV  StreamingMovies  fiber_optic     Internet  \\\n",
       "count  7043.000000  7043.000000      7043.000000  7043.000000  7043.000000   \n",
       "mean      0.073548     0.167684         0.171234     0.222916     0.566662   \n",
       "std       0.708201     0.756958         0.758507     0.778877     0.824009   \n",
       "min      -1.000000    -1.000000        -1.000000    -1.000000    -1.000000   \n",
       "25%       0.000000     0.000000         0.000000     0.000000     1.000000   \n",
       "50%       0.000000     0.000000         0.000000     0.000000     1.000000   \n",
       "75%       1.000000     1.000000         1.000000     1.000000     1.000000   \n",
       "max       1.000000     1.000000         1.000000     1.000000     1.000000   \n",
       "\n",
       "       MultipleLines        Phone  \n",
       "count    7043.000000  7043.000000  \n",
       "mean        0.325004     0.806333  \n",
       "std         0.642730     0.591504  \n",
       "min        -1.000000    -1.000000  \n",
       "25%         0.000000     1.000000  \n",
       "50%         0.000000     1.000000  \n",
       "75%         1.000000     1.000000  \n",
       "max         1.000000     1.000000  "
      ]
     },
     "execution_count": 58,
     "metadata": {},
     "output_type": "execute_result"
    }
   ],
   "source": [
    "df.describe()"
   ]
  },
  {
   "cell_type": "code",
   "execution_count": 59,
   "id": "a13a50fc",
   "metadata": {},
   "outputs": [
    {
     "data": {
      "text/plain": [
       "<AxesSubplot:xlabel='churn', ylabel='MonthlyCharges'>"
      ]
     },
     "execution_count": 59,
     "metadata": {},
     "output_type": "execute_result"
    },
    {
     "data": {
      "image/png": "[encoded data removed]",
      "text/plain": [
       "<Figure size 432x288 with 1 Axes>"
      ]
     },
     "metadata": {
      "needs_background": "light"
     },
     "output_type": "display_data"
    }
   ],
   "source": [
    "sns.violinplot(x='churn', y='MonthlyCharges', data=df)"
   ]
  },
  {
   "cell_type": "markdown",
   "id": "13816e7b",
   "metadata": {},
   "source": [
    "Ушедшие клиенты платили в месяц больше, чем оставшиеся.\n",
    "Можно отметить, в отток попали более платежеспособные клиенты, которые возможно пользовались большим набором услуг."
   ]
  },
  {
   "cell_type": "code",
   "execution_count": 60,
   "id": "e8ad676a",
   "metadata": {},
   "outputs": [
    {
     "data": {
      "text/plain": [
       "<AxesSubplot:xlabel='churn', ylabel='TotalCharges'>"
      ]
     },
     "execution_count": 60,
     "metadata": {},
     "output_type": "execute_result"
    },
    {
     "data": {
      "image/png": "[encoded data removed]",
      "text/plain": [
       "<Figure size 432x288 with 1 Axes>"
      ]
     },
     "metadata": {
      "needs_background": "light"
     },
     "output_type": "display_data"
    }
   ],
   "source": [
    "sns.violinplot(x='churn', y='TotalCharges', data=df)"
   ]
  },
  {
   "cell_type": "markdown",
   "id": "bed4a43c",
   "metadata": {},
   "source": [
    "Общие траты на услуги выше у оставшихся клиентов."
   ]
  },
  {
   "cell_type": "code",
   "execution_count": 61,
   "id": "89ef83f9",
   "metadata": {},
   "outputs": [
    {
     "data": {
      "text/plain": [
       "<AxesSubplot:xlabel='PaymentMethod', ylabel='count'>"
      ]
     },
     "execution_count": 61,
     "metadata": {},
     "output_type": "execute_result"
    },
    {
     "data": {
      "image/png": "[encoded data removed]",
      "text/plain": [
       "<Figure size 432x288 with 1 Axes>"
      ]
     },
     "metadata": {
      "needs_background": "light"
     },
     "output_type": "display_data"
    }
   ],
   "source": [
    "sns.countplot(x='PaymentMethod', hue='churn', data=df)"
   ]
  },
  {
   "cell_type": "markdown",
   "id": "ebfae9c1",
   "metadata": {},
   "source": [
    "Многие ушедшие клиенты расплачивались методом 'Electronic check'."
   ]
  },
  {
   "cell_type": "code",
   "execution_count": 62,
   "id": "cdbdfc05",
   "metadata": {},
   "outputs": [
    {
     "data": {
      "text/plain": [
       "<AxesSubplot:xlabel='Type', ylabel='count'>"
      ]
     },
     "execution_count": 62,
     "metadata": {},
     "output_type": "execute_result"
    },
    {
     "data": {
      "image/png": "[encoded data removed]",
      "text/plain": [
       "<Figure size 432x288 with 1 Axes>"
      ]
     },
     "metadata": {
      "needs_background": "light"
     },
     "output_type": "display_data"
    }
   ],
   "source": [
    "sns.countplot(x='Type', hue='churn', data=df)"
   ]
  },
  {
   "cell_type": "markdown",
   "id": "9496abe3",
   "metadata": {},
   "source": [
    "Большая часть ушедших клиентов пользовались ежемесячным типом оплаты."
   ]
  },
  {
   "cell_type": "code",
   "execution_count": 63,
   "id": "09b34e02",
   "metadata": {},
   "outputs": [
    {
     "data": {
      "text/plain": [
       "<AxesSubplot:xlabel='churn', ylabel='begin_days'>"
      ]
     },
     "execution_count": 63,
     "metadata": {},
     "output_type": "execute_result"
    },
    {
     "data": {
      "image/png": "[encoded data removed]",
      "text/plain": [
       "<Figure size 432x288 with 1 Axes>"
      ]
     },
     "metadata": {
      "needs_background": "light"
     },
     "output_type": "display_data"
    }
   ],
   "source": [
    "sns.violinplot(x='churn', y='begin_days', data=df)"
   ]
  },
  {
   "cell_type": "markdown",
   "id": "3f5c7988",
   "metadata": {},
   "source": [
    "Основная часть ушедших клиентов начала пользоваться услугами в последний год."
   ]
  },
  {
   "cell_type": "code",
   "execution_count": 64,
   "id": "4c624588",
   "metadata": {
    "scrolled": false
   },
   "outputs": [
    {
     "data": {
      "text/plain": [
       "<AxesSubplot:xlabel='fiber_optic', ylabel='count'>"
      ]
     },
     "execution_count": 64,
     "metadata": {},
     "output_type": "execute_result"
    },
    {
     "data": {
      "image/png": "[encoded data removed]",
      "text/plain": [
       "<Figure size 432x288 with 1 Axes>"
      ]
     },
     "metadata": {
      "needs_background": "light"
     },
     "output_type": "display_data"
    }
   ],
   "source": [
    "sns.countplot(x='fiber_optic', hue='churn', data=df)"
   ]
  },
  {
   "cell_type": "markdown",
   "id": "f213ac5b",
   "metadata": {},
   "source": [
    "* Многие ушедшие клиенты были подключены по оптоволокну. \n",
    "* Среди клиентов, не пользовавшихся услугами интернета (fiber_optic = -1), отток сравнительно небольшой"
   ]
  },
  {
   "cell_type": "code",
   "execution_count": 65,
   "id": "1ce52d4e",
   "metadata": {
    "scrolled": false
   },
   "outputs": [
    {
     "data": {
      "text/plain": [
       "<AxesSubplot:xlabel='StreamingTV', ylabel='count'>"
      ]
     },
     "execution_count": 65,
     "metadata": {},
     "output_type": "execute_result"
    },
    {
     "data": {
      "image/png": "[encoded data removed]",
      "text/plain": [
       "<Figure size 432x288 with 1 Axes>"
      ]
     },
     "metadata": {
      "needs_background": "light"
     },
     "output_type": "display_data"
    }
   ],
   "source": [
    "sns.countplot(x='StreamingTV', hue='churn', data=df)"
   ]
  },
  {
   "cell_type": "markdown",
   "id": "c9819d1c",
   "metadata": {},
   "source": [
    "* Основная часть ушедших клиентов не пользовалась услугой стримингово TV, но у значительной части услуга была подключина. \n",
    "* Среди клиентов, не пользовавшихся услугами стримингово TV, отток сравнительно небольшой"
   ]
  },
  {
   "cell_type": "code",
   "execution_count": 66,
   "id": "4df030f4",
   "metadata": {
    "scrolled": true
   },
   "outputs": [
    {
     "data": {
      "text/plain": [
       "<AxesSubplot:xlabel='StreamingMovies', ylabel='count'>"
      ]
     },
     "execution_count": 66,
     "metadata": {},
     "output_type": "execute_result"
    },
    {
     "data": {
      "image/png": "[encoded data removed]",
      "text/plain": [
       "<Figure size 432x288 with 1 Axes>"
      ]
     },
     "metadata": {
      "needs_background": "light"
     },
     "output_type": "display_data"
    }
   ],
   "source": [
    "sns.countplot(x='StreamingMovies', hue='churn', data=df)"
   ]
  },
  {
   "cell_type": "markdown",
   "id": "13f8bb57",
   "metadata": {},
   "source": [
    "Просмотр стриминговых фильмов повторяет распределение стриммнгово TV, скорее всего обе услуги входят в один пакет."
   ]
  },
  {
   "cell_type": "code",
   "execution_count": 67,
   "id": "54bff458",
   "metadata": {
    "scrolled": false
   },
   "outputs": [
    {
     "data": {
      "text/plain": [
       "<AxesSubplot:xlabel='MultipleLines', ylabel='count'>"
      ]
     },
     "execution_count": 67,
     "metadata": {},
     "output_type": "execute_result"
    },
    {
     "data": {
      "image/png": "[encoded data removed]",
      "text/plain": [
       "<Figure size 432x288 with 1 Axes>"
      ]
     },
     "metadata": {
      "needs_background": "light"
     },
     "output_type": "display_data"
    }
   ],
   "source": [
    "sns.countplot(x='MultipleLines', hue='churn', data=df)"
   ]
  },
  {
   "cell_type": "markdown",
   "id": "4d0ca9eb",
   "metadata": {},
   "source": [
    "Основная часть ушедших клиентов не пользовалась услугой мультиканальной линии, но у значительной части услуга была подключина."
   ]
  },
  {
   "cell_type": "code",
   "execution_count": 68,
   "id": "5976a45b",
   "metadata": {
    "scrolled": false
   },
   "outputs": [
    {
     "data": {
      "text/plain": [
       "<AxesSubplot:xlabel='gender', ylabel='count'>"
      ]
     },
     "execution_count": 68,
     "metadata": {},
     "output_type": "execute_result"
    },
    {
     "data": {
      "image/png": "[encoded data removed]",
      "text/plain": [
       "<Figure size 432x288 with 1 Axes>"
      ]
     },
     "metadata": {
      "needs_background": "light"
     },
     "output_type": "display_data"
    }
   ],
   "source": [
    "sns.countplot(x='gender', hue='churn', data=df)"
   ]
  },
  {
   "cell_type": "markdown",
   "id": "ce34e3e7",
   "metadata": {},
   "source": [
    "Гендер никак не повлиял на распредление ушедших клиентов."
   ]
  },
  {
   "cell_type": "code",
   "execution_count": 69,
   "id": "1f945bd7",
   "metadata": {
    "scrolled": true
   },
   "outputs": [
    {
     "data": {
      "image/png": "[encoded data removed]",
      "text/plain": [
       "<Figure size 432x288 with 1 Axes>"
      ]
     },
     "metadata": {
      "needs_background": "light"
     },
     "output_type": "display_data"
    }
   ],
   "source": [
    "plt.hist([df[df.churn == 0].MonthlyCharges, df[df.churn == 1].MonthlyCharges], label=['Оставшиеся', 'Ушедшие'], density=True);\n",
    "plt.legend();\n",
    "plt.title('Ежемесечные платежи');\n",
    "plt.show();"
   ]
  },
  {
   "cell_type": "markdown",
   "id": "38ac8a38",
   "metadata": {},
   "source": [
    "На графике видно, в отток попали более платежеспособные клиенты, у которых ежемесячный платеж от 70 до 100. С одной стороны платежеспособные клиенты могли быть более лояльными, т.к. больше тратили на дополнительные услуги. Но видимо их не устроило качество или стоимость. \n",
    "\n",
    "Также интересно распределение пользователей у которых платеж меньше 30. \n",
    "\n",
    "Проверим какими наборами услуг они пользовались."
   ]
  },
  {
   "cell_type": "code",
   "execution_count": 70,
   "id": "bf0caa29",
   "metadata": {},
   "outputs": [
    {
     "data": {
      "image/png": "[encoded data removed]",
      "text/plain": [
       "<Figure size 432x288 with 1 Axes>"
      ]
     },
     "metadata": {
      "needs_background": "light"
     },
     "output_type": "display_data"
    }
   ],
   "source": [
    "plt.hist([df[df.Internet == 1].Internet, df[df.Phone == 1].Phone], label=['Internet', 'Phone']);\n",
    "plt.legend();\n",
    "plt.title('Пользователи Интернета и Телефона');\n",
    "plt.show();"
   ]
  },
  {
   "cell_type": "markdown",
   "id": "1bfb0d22",
   "metadata": {},
   "source": [
    "Компания в первую очередь выступает, телефонным оператором, а уже потом интернет-провайдером."
   ]
  },
  {
   "cell_type": "markdown",
   "id": "b57e1b96",
   "metadata": {},
   "source": [
    "Выделим клиентов, которые платят меньше 30."
   ]
  },
  {
   "cell_type": "code",
   "execution_count": 71,
   "id": "9513e8a8",
   "metadata": {},
   "outputs": [],
   "source": [
    "low_charges = df.query('MonthlyCharges < 30')"
   ]
  },
  {
   "cell_type": "code",
   "execution_count": 72,
   "id": "cc4777f0",
   "metadata": {},
   "outputs": [
    {
     "data": {
      "text/html": [
       "<div>\n",
       "<style scoped>\n",
       "    .dataframe tbody tr th:only-of-type {\n",
       "        vertical-align: middle;\n",
       "    }\n",
       "\n",
       "    .dataframe tbody tr th {\n",
       "        vertical-align: top;\n",
       "    }\n",
       "\n",
       "    .dataframe thead th {\n",
       "        text-align: right;\n",
       "    }\n",
       "</style>\n",
       "<table border=\"1\" class=\"dataframe\">\n",
       "  <thead>\n",
       "    <tr style=\"text-align: right;\">\n",
       "      <th></th>\n",
       "      <th>Type</th>\n",
       "      <th>PaperlessBilling</th>\n",
       "      <th>PaymentMethod</th>\n",
       "      <th>MonthlyCharges</th>\n",
       "      <th>TotalCharges</th>\n",
       "      <th>begin_days</th>\n",
       "      <th>end_days</th>\n",
       "      <th>churn</th>\n",
       "      <th>gender</th>\n",
       "      <th>SeniorCitizen</th>\n",
       "      <th>...</th>\n",
       "      <th>OnlineSecurity</th>\n",
       "      <th>OnlineBackup</th>\n",
       "      <th>DeviceProtection</th>\n",
       "      <th>TechSupport</th>\n",
       "      <th>StreamingTV</th>\n",
       "      <th>StreamingMovies</th>\n",
       "      <th>fiber_optic</th>\n",
       "      <th>Internet</th>\n",
       "      <th>MultipleLines</th>\n",
       "      <th>Phone</th>\n",
       "    </tr>\n",
       "    <tr>\n",
       "      <th>customerID</th>\n",
       "      <th></th>\n",
       "      <th></th>\n",
       "      <th></th>\n",
       "      <th></th>\n",
       "      <th></th>\n",
       "      <th></th>\n",
       "      <th></th>\n",
       "      <th></th>\n",
       "      <th></th>\n",
       "      <th></th>\n",
       "      <th></th>\n",
       "      <th></th>\n",
       "      <th></th>\n",
       "      <th></th>\n",
       "      <th></th>\n",
       "      <th></th>\n",
       "      <th></th>\n",
       "      <th></th>\n",
       "      <th></th>\n",
       "      <th></th>\n",
       "      <th></th>\n",
       "    </tr>\n",
       "  </thead>\n",
       "  <tbody>\n",
       "    <tr>\n",
       "      <th>7590-VHVEG</th>\n",
       "      <td>Month-to-month</td>\n",
       "      <td>1</td>\n",
       "      <td>Electronic check</td>\n",
       "      <td>29.850000</td>\n",
       "      <td>29.850000</td>\n",
       "      <td>31</td>\n",
       "      <td>0</td>\n",
       "      <td>0</td>\n",
       "      <td>0</td>\n",
       "      <td>0</td>\n",
       "      <td>...</td>\n",
       "      <td>0</td>\n",
       "      <td>1</td>\n",
       "      <td>0</td>\n",
       "      <td>0</td>\n",
       "      <td>0</td>\n",
       "      <td>0</td>\n",
       "      <td>0</td>\n",
       "      <td>1</td>\n",
       "      <td>-1</td>\n",
       "      <td>-1</td>\n",
       "    </tr>\n",
       "    <tr>\n",
       "      <th>6713-OKOMC</th>\n",
       "      <td>Month-to-month</td>\n",
       "      <td>0</td>\n",
       "      <td>Mailed check</td>\n",
       "      <td>29.750000</td>\n",
       "      <td>301.899994</td>\n",
       "      <td>306</td>\n",
       "      <td>0</td>\n",
       "      <td>0</td>\n",
       "      <td>0</td>\n",
       "      <td>0</td>\n",
       "      <td>...</td>\n",
       "      <td>1</td>\n",
       "      <td>0</td>\n",
       "      <td>0</td>\n",
       "      <td>0</td>\n",
       "      <td>0</td>\n",
       "      <td>0</td>\n",
       "      <td>0</td>\n",
       "      <td>1</td>\n",
       "      <td>-1</td>\n",
       "      <td>-1</td>\n",
       "    </tr>\n",
       "    <tr>\n",
       "      <th>7469-LKBCI</th>\n",
       "      <td>Two year</td>\n",
       "      <td>0</td>\n",
       "      <td>Credit card (automatic)</td>\n",
       "      <td>18.950001</td>\n",
       "      <td>326.799988</td>\n",
       "      <td>488</td>\n",
       "      <td>0</td>\n",
       "      <td>0</td>\n",
       "      <td>1</td>\n",
       "      <td>0</td>\n",
       "      <td>...</td>\n",
       "      <td>-1</td>\n",
       "      <td>-1</td>\n",
       "      <td>-1</td>\n",
       "      <td>-1</td>\n",
       "      <td>-1</td>\n",
       "      <td>-1</td>\n",
       "      <td>-1</td>\n",
       "      <td>-1</td>\n",
       "      <td>0</td>\n",
       "      <td>1</td>\n",
       "    </tr>\n",
       "    <tr>\n",
       "      <th>8191-XWSZG</th>\n",
       "      <td>One year</td>\n",
       "      <td>0</td>\n",
       "      <td>Mailed check</td>\n",
       "      <td>20.650000</td>\n",
       "      <td>1022.950012</td>\n",
       "      <td>1584</td>\n",
       "      <td>0</td>\n",
       "      <td>0</td>\n",
       "      <td>0</td>\n",
       "      <td>0</td>\n",
       "      <td>...</td>\n",
       "      <td>-1</td>\n",
       "      <td>-1</td>\n",
       "      <td>-1</td>\n",
       "      <td>-1</td>\n",
       "      <td>-1</td>\n",
       "      <td>-1</td>\n",
       "      <td>-1</td>\n",
       "      <td>-1</td>\n",
       "      <td>0</td>\n",
       "      <td>1</td>\n",
       "    </tr>\n",
       "    <tr>\n",
       "      <th>1680-VDCWW</th>\n",
       "      <td>One year</td>\n",
       "      <td>0</td>\n",
       "      <td>Bank transfer (automatic)</td>\n",
       "      <td>19.799999</td>\n",
       "      <td>202.250000</td>\n",
       "      <td>365</td>\n",
       "      <td>0</td>\n",
       "      <td>0</td>\n",
       "      <td>1</td>\n",
       "      <td>0</td>\n",
       "      <td>...</td>\n",
       "      <td>-1</td>\n",
       "      <td>-1</td>\n",
       "      <td>-1</td>\n",
       "      <td>-1</td>\n",
       "      <td>-1</td>\n",
       "      <td>-1</td>\n",
       "      <td>-1</td>\n",
       "      <td>-1</td>\n",
       "      <td>0</td>\n",
       "      <td>1</td>\n",
       "    </tr>\n",
       "  </tbody>\n",
       "</table>\n",
       "<p>5 rows × 22 columns</p>\n",
       "</div>"
      ],
      "text/plain": [
       "                      Type  PaperlessBilling              PaymentMethod  \\\n",
       "customerID                                                                \n",
       "7590-VHVEG  Month-to-month                 1           Electronic check   \n",
       "6713-OKOMC  Month-to-month                 0               Mailed check   \n",
       "7469-LKBCI        Two year                 0    Credit card (automatic)   \n",
       "8191-XWSZG        One year                 0               Mailed check   \n",
       "1680-VDCWW        One year                 0  Bank transfer (automatic)   \n",
       "\n",
       "            MonthlyCharges  TotalCharges  begin_days  end_days  churn  gender  \\\n",
       "customerID                                                                      \n",
       "7590-VHVEG       29.850000     29.850000          31         0      0       0   \n",
       "6713-OKOMC       29.750000    301.899994         306         0      0       0   \n",
       "7469-LKBCI       18.950001    326.799988         488         0      0       1   \n",
       "8191-XWSZG       20.650000   1022.950012        1584         0      0       0   \n",
       "1680-VDCWW       19.799999    202.250000         365         0      0       1   \n",
       "\n",
       "            SeniorCitizen  ...  OnlineSecurity  OnlineBackup  \\\n",
       "customerID                 ...                                 \n",
       "7590-VHVEG              0  ...               0             1   \n",
       "6713-OKOMC              0  ...               1             0   \n",
       "7469-LKBCI              0  ...              -1            -1   \n",
       "8191-XWSZG              0  ...              -1            -1   \n",
       "1680-VDCWW              0  ...              -1            -1   \n",
       "\n",
       "            DeviceProtection  TechSupport  StreamingTV  StreamingMovies  \\\n",
       "customerID                                                                \n",
       "7590-VHVEG                 0            0            0                0   \n",
       "6713-OKOMC                 0            0            0                0   \n",
       "7469-LKBCI                -1           -1           -1               -1   \n",
       "8191-XWSZG                -1           -1           -1               -1   \n",
       "1680-VDCWW                -1           -1           -1               -1   \n",
       "\n",
       "            fiber_optic  Internet  MultipleLines  Phone  \n",
       "customerID                                               \n",
       "7590-VHVEG            0         1             -1     -1  \n",
       "6713-OKOMC            0         1             -1     -1  \n",
       "7469-LKBCI           -1        -1              0      1  \n",
       "8191-XWSZG           -1        -1              0      1  \n",
       "1680-VDCWW           -1        -1              0      1  \n",
       "\n",
       "[5 rows x 22 columns]"
      ]
     },
     "execution_count": 72,
     "metadata": {},
     "output_type": "execute_result"
    }
   ],
   "source": [
    "low_charges.head()"
   ]
  },
  {
   "cell_type": "code",
   "execution_count": 73,
   "id": "48d4a28e",
   "metadata": {},
   "outputs": [
    {
     "data": {
      "image/png": "[encoded data removed]",
      "text/plain": [
       "<Figure size 432x288 with 1 Axes>"
      ]
     },
     "metadata": {
      "needs_background": "light"
     },
     "output_type": "display_data"
    }
   ],
   "source": [
    "plt.hist([low_charges[low_charges.Internet == 1].Internet, low_charges[low_charges.Phone == 1].Phone], label=['Internet', 'Phone']);\n",
    "plt.legend();\n",
    "plt.title('Пользователи Интернета и Телефона');\n",
    "plt.show();"
   ]
  },
  {
   "cell_type": "markdown",
   "id": "2f383048",
   "metadata": {},
   "source": [
    "В сегменте с ежемесячной оплатой ниже 30 преобладают клиенты, пользующиеся только телефонией."
   ]
  },
  {
   "cell_type": "markdown",
   "id": "df8fb9fe",
   "metadata": {},
   "source": [
    "Добавим новый признак показывающий, чем пользуется клиент: только телефония, только интернет, обе услуги."
   ]
  },
  {
   "cell_type": "code",
   "execution_count": 74,
   "id": "b58d7f66",
   "metadata": {},
   "outputs": [],
   "source": [
    "df.loc[df['Phone'] == 1, 'type_service'] = 'onlyPhone'\n",
    "df.loc[df['Internet'] == 1, 'type_service'] = 'onlyInternet'\n",
    "df.loc[((df['Phone'] == 1) & (df['Internet'] == 1)), 'type_service'] = 'Both'"
   ]
  },
  {
   "cell_type": "code",
   "execution_count": 75,
   "id": "46de4670",
   "metadata": {
    "scrolled": true
   },
   "outputs": [
    {
     "data": {
      "text/plain": [
       "<AxesSubplot:xlabel='type_service', ylabel='count'>"
      ]
     },
     "execution_count": 75,
     "metadata": {},
     "output_type": "execute_result"
    },
    {
     "data": {
      "image/png": "[encoded data removed]",
      "text/plain": [
       "<Figure size 432x288 with 1 Axes>"
      ]
     },
     "metadata": {
      "needs_background": "light"
     },
     "output_type": "display_data"
    }
   ],
   "source": [
    "sns.countplot(x='type_service', hue='churn', data=df)"
   ]
  },
  {
   "cell_type": "markdown",
   "id": "df05039e",
   "metadata": {},
   "source": [
    "На графике хорошо видно, что ушледшие клиенты чаще пользовались услугами и телефонии, и интернета. Основная часть оставшихся клинтов, также пользуется обеими услугами. "
   ]
  },
  {
   "cell_type": "markdown",
   "id": "22cf5bbd",
   "metadata": {},
   "source": [
    "#### Матрица корреляции\n",
    "\n",
    "Построим матрицу корреляции для количественных признаков"
   ]
  },
  {
   "cell_type": "code",
   "execution_count": 76,
   "id": "8b1fd827",
   "metadata": {
    "scrolled": false
   },
   "outputs": [
    {
     "data": {
      "image/png": "[encoded data removed]",
      "text/plain": [
       "<Figure size 576x576 with 2 Axes>"
      ]
     },
     "metadata": {
      "needs_background": "light"
     },
     "output_type": "display_data"
    }
   ],
   "source": [
    "cor_columns = ['MonthlyCharges', 'TotalCharges', 'begin_days']\n",
    "correlation = df[cor_columns].corr()\n",
    "plt.figure(figsize=(8, 8))\n",
    "sns.heatmap(correlation, vmax=1, square=True,annot=True,cmap='RdBu')\n",
    "\n",
    "plt.title('Correlation between different fearures')\n",
    "plt.show()"
   ]
  },
  {
   "cell_type": "markdown",
   "id": "68560511",
   "metadata": {},
   "source": [
    "#### Отбор признаков\n",
    "\n",
    "Добавим признак 'valid_period' - количество дней пользования сервисами."
   ]
  },
  {
   "cell_type": "code",
   "execution_count": 77,
   "id": "a2e42505",
   "metadata": {},
   "outputs": [],
   "source": [
    "df['valid_period'] = df['begin_days'] - df['end_days']\n",
    "df['valid_period'] = pd.to_numeric(df['valid_period'], downcast='integer')"
   ]
  },
  {
   "cell_type": "markdown",
   "id": "c6036d4b",
   "metadata": {},
   "source": [
    "Поскольку проект не по временныем рядам, то факторы, связанные с датой и временем нужно удалить. Иначе метрика сильно вырастет и модель переобучится, а на реальных данных результаты будут неправильные."
   ]
  },
  {
   "cell_type": "code",
   "execution_count": 78,
   "id": "ef418537",
   "metadata": {},
   "outputs": [],
   "source": [
    "df.drop(['begin_days', 'end_days', 'gender', 'Internet', 'Phone','type_service'], axis=1, inplace=True)"
   ]
  },
  {
   "cell_type": "code",
   "execution_count": 79,
   "id": "efeaec31",
   "metadata": {},
   "outputs": [
    {
     "data": {
      "text/html": [
       "<div>\n",
       "<style scoped>\n",
       "    .dataframe tbody tr th:only-of-type {\n",
       "        vertical-align: middle;\n",
       "    }\n",
       "\n",
       "    .dataframe tbody tr th {\n",
       "        vertical-align: top;\n",
       "    }\n",
       "\n",
       "    .dataframe thead th {\n",
       "        text-align: right;\n",
       "    }\n",
       "</style>\n",
       "<table border=\"1\" class=\"dataframe\">\n",
       "  <thead>\n",
       "    <tr style=\"text-align: right;\">\n",
       "      <th></th>\n",
       "      <th>Type</th>\n",
       "      <th>PaperlessBilling</th>\n",
       "      <th>PaymentMethod</th>\n",
       "      <th>MonthlyCharges</th>\n",
       "      <th>TotalCharges</th>\n",
       "      <th>churn</th>\n",
       "      <th>SeniorCitizen</th>\n",
       "      <th>Partner</th>\n",
       "      <th>Dependents</th>\n",
       "      <th>OnlineSecurity</th>\n",
       "      <th>OnlineBackup</th>\n",
       "      <th>DeviceProtection</th>\n",
       "      <th>TechSupport</th>\n",
       "      <th>StreamingTV</th>\n",
       "      <th>StreamingMovies</th>\n",
       "      <th>fiber_optic</th>\n",
       "      <th>MultipleLines</th>\n",
       "      <th>valid_period</th>\n",
       "    </tr>\n",
       "    <tr>\n",
       "      <th>customerID</th>\n",
       "      <th></th>\n",
       "      <th></th>\n",
       "      <th></th>\n",
       "      <th></th>\n",
       "      <th></th>\n",
       "      <th></th>\n",
       "      <th></th>\n",
       "      <th></th>\n",
       "      <th></th>\n",
       "      <th></th>\n",
       "      <th></th>\n",
       "      <th></th>\n",
       "      <th></th>\n",
       "      <th></th>\n",
       "      <th></th>\n",
       "      <th></th>\n",
       "      <th></th>\n",
       "      <th></th>\n",
       "    </tr>\n",
       "  </thead>\n",
       "  <tbody>\n",
       "    <tr>\n",
       "      <th>7590-VHVEG</th>\n",
       "      <td>Month-to-month</td>\n",
       "      <td>1</td>\n",
       "      <td>Electronic check</td>\n",
       "      <td>29.850000</td>\n",
       "      <td>29.850000</td>\n",
       "      <td>0</td>\n",
       "      <td>0</td>\n",
       "      <td>1</td>\n",
       "      <td>0</td>\n",
       "      <td>0</td>\n",
       "      <td>1</td>\n",
       "      <td>0</td>\n",
       "      <td>0</td>\n",
       "      <td>0</td>\n",
       "      <td>0</td>\n",
       "      <td>0</td>\n",
       "      <td>-1</td>\n",
       "      <td>31</td>\n",
       "    </tr>\n",
       "    <tr>\n",
       "      <th>5575-GNVDE</th>\n",
       "      <td>One year</td>\n",
       "      <td>0</td>\n",
       "      <td>Mailed check</td>\n",
       "      <td>56.950001</td>\n",
       "      <td>1889.500000</td>\n",
       "      <td>0</td>\n",
       "      <td>0</td>\n",
       "      <td>0</td>\n",
       "      <td>0</td>\n",
       "      <td>1</td>\n",
       "      <td>0</td>\n",
       "      <td>1</td>\n",
       "      <td>0</td>\n",
       "      <td>0</td>\n",
       "      <td>0</td>\n",
       "      <td>0</td>\n",
       "      <td>0</td>\n",
       "      <td>1036</td>\n",
       "    </tr>\n",
       "    <tr>\n",
       "      <th>3668-QPYBK</th>\n",
       "      <td>Month-to-month</td>\n",
       "      <td>1</td>\n",
       "      <td>Mailed check</td>\n",
       "      <td>53.849998</td>\n",
       "      <td>108.150002</td>\n",
       "      <td>1</td>\n",
       "      <td>0</td>\n",
       "      <td>0</td>\n",
       "      <td>0</td>\n",
       "      <td>1</td>\n",
       "      <td>1</td>\n",
       "      <td>0</td>\n",
       "      <td>0</td>\n",
       "      <td>0</td>\n",
       "      <td>0</td>\n",
       "      <td>0</td>\n",
       "      <td>0</td>\n",
       "      <td>61</td>\n",
       "    </tr>\n",
       "    <tr>\n",
       "      <th>7795-CFOCW</th>\n",
       "      <td>One year</td>\n",
       "      <td>0</td>\n",
       "      <td>Bank transfer (automatic)</td>\n",
       "      <td>42.299999</td>\n",
       "      <td>1840.750000</td>\n",
       "      <td>0</td>\n",
       "      <td>0</td>\n",
       "      <td>0</td>\n",
       "      <td>0</td>\n",
       "      <td>1</td>\n",
       "      <td>0</td>\n",
       "      <td>1</td>\n",
       "      <td>1</td>\n",
       "      <td>0</td>\n",
       "      <td>0</td>\n",
       "      <td>0</td>\n",
       "      <td>-1</td>\n",
       "      <td>1371</td>\n",
       "    </tr>\n",
       "    <tr>\n",
       "      <th>9237-HQITU</th>\n",
       "      <td>Month-to-month</td>\n",
       "      <td>1</td>\n",
       "      <td>Electronic check</td>\n",
       "      <td>70.699997</td>\n",
       "      <td>151.649994</td>\n",
       "      <td>1</td>\n",
       "      <td>0</td>\n",
       "      <td>0</td>\n",
       "      <td>0</td>\n",
       "      <td>0</td>\n",
       "      <td>0</td>\n",
       "      <td>0</td>\n",
       "      <td>0</td>\n",
       "      <td>0</td>\n",
       "      <td>0</td>\n",
       "      <td>1</td>\n",
       "      <td>0</td>\n",
       "      <td>61</td>\n",
       "    </tr>\n",
       "  </tbody>\n",
       "</table>\n",
       "</div>"
      ],
      "text/plain": [
       "                      Type  PaperlessBilling              PaymentMethod  \\\n",
       "customerID                                                                \n",
       "7590-VHVEG  Month-to-month                 1           Electronic check   \n",
       "5575-GNVDE        One year                 0               Mailed check   \n",
       "3668-QPYBK  Month-to-month                 1               Mailed check   \n",
       "7795-CFOCW        One year                 0  Bank transfer (automatic)   \n",
       "9237-HQITU  Month-to-month                 1           Electronic check   \n",
       "\n",
       "            MonthlyCharges  TotalCharges  churn  SeniorCitizen  Partner  \\\n",
       "customerID                                                                \n",
       "7590-VHVEG       29.850000     29.850000      0              0        1   \n",
       "5575-GNVDE       56.950001   1889.500000      0              0        0   \n",
       "3668-QPYBK       53.849998    108.150002      1              0        0   \n",
       "7795-CFOCW       42.299999   1840.750000      0              0        0   \n",
       "9237-HQITU       70.699997    151.649994      1              0        0   \n",
       "\n",
       "            Dependents  OnlineSecurity  OnlineBackup  DeviceProtection  \\\n",
       "customerID                                                               \n",
       "7590-VHVEG           0               0             1                 0   \n",
       "5575-GNVDE           0               1             0                 1   \n",
       "3668-QPYBK           0               1             1                 0   \n",
       "7795-CFOCW           0               1             0                 1   \n",
       "9237-HQITU           0               0             0                 0   \n",
       "\n",
       "            TechSupport  StreamingTV  StreamingMovies  fiber_optic  \\\n",
       "customerID                                                           \n",
       "7590-VHVEG            0            0                0            0   \n",
       "5575-GNVDE            0            0                0            0   \n",
       "3668-QPYBK            0            0                0            0   \n",
       "7795-CFOCW            1            0                0            0   \n",
       "9237-HQITU            0            0                0            1   \n",
       "\n",
       "            MultipleLines  valid_period  \n",
       "customerID                               \n",
       "7590-VHVEG             -1            31  \n",
       "5575-GNVDE              0          1036  \n",
       "3668-QPYBK              0            61  \n",
       "7795-CFOCW             -1          1371  \n",
       "9237-HQITU              0            61  "
      ]
     },
     "execution_count": 79,
     "metadata": {},
     "output_type": "execute_result"
    }
   ],
   "source": [
    "df.head()"
   ]
  },
  {
   "cell_type": "markdown",
   "id": "c6b78c66",
   "metadata": {},
   "source": [
    "Обозначим количественные и категориальные признаки."
   ]
  },
  {
   "cell_type": "code",
   "execution_count": 80,
   "id": "ff7c5d04",
   "metadata": {},
   "outputs": [],
   "source": [
    "num_columns = ['MonthlyCharges', 'TotalCharges', 'valid_period']\n",
    "cat_columns = [col for col in list(df.columns) if col not in num_columns and col != 'churn']"
   ]
  },
  {
   "cell_type": "markdown",
   "id": "b5b524f8",
   "metadata": {},
   "source": [
    "#### Выводы"
   ]
  },
  {
   "cell_type": "markdown",
   "id": "aba9a463",
   "metadata": {},
   "source": [
    "* Данные успешно загружены и обработаны. Строковые типы преобразованы к числовым категориям.\n",
    "* Проведён анализ признаков.\n",
    "    * ушедшие клиенты платили в месяц больше, чем оставшиеся\n",
    "    * пропорциональная доля ушедших клиентов, плативших за месяц в диапазоне 70-100 у.е., значительно выше доли оставшихся.\n",
    "    * у пользователей, плативших за месяц до 30 у.е., в основном подключена только услуга телефонии, подключение интернета значительно повышает ежемесячные расходы.\n",
    "    * среди клиентов, не пользовавшихся услугами интернета, отток сравнительно небольшой\n",
    "    * ушедшие клиенты чаще оплачивали услуги раз в месяц, а не раз в год или два\n",
    "    * ушедшие клиенты в основном расплачивались методом 'Electronic check'\n",
    "    * ушедшие клиенты чаще были подключены по оптоволокну\n",
    "    * ушедшие клиенты многие пользовались доп. услугами стриминга TV и фильмов\n",
    "    * ушедшие клиенты многие пользовались доп. услугами мультиканальной линии\n",
    "    * значительно большая часть ушедшие клиентов пользовалась и телефонией, и интернетом\n",
    "* Резюмируя, можно сказать, что основное удорожание происходит при подключении интернета, и доп. услуг, которые открываются при подключении интернета, также услуга телефонии мультиканальной линии. В значительной мере на стоимость оплаты влияет тип оплаты, ежемесячный самый невыгодный (оптом дешевле). Самый невыгодный сценарий для клиента, это ежемесячная оплата, пользование и телефонией и интернетом и большое количество подключенных дополнительный функций. \n",
    "* Построена матрица корреляции и отобраны наиболее релевантные для модели признаки."
   ]
  },
  {
   "cell_type": "markdown",
   "id": "acf37eb2",
   "metadata": {},
   "source": [
    "## Подготовка данных к обучению моделей\n",
    "### Баланс классов"
   ]
  },
  {
   "cell_type": "code",
   "execution_count": 81,
   "id": "c1f685dc",
   "metadata": {},
   "outputs": [
    {
     "data": {
      "text/plain": [
       "0    5174\n",
       "1    1869\n",
       "Name: churn, dtype: int64"
      ]
     },
     "execution_count": 81,
     "metadata": {},
     "output_type": "execute_result"
    }
   ],
   "source": [
    "df['churn'].value_counts()"
   ]
  },
  {
   "cell_type": "markdown",
   "id": "40a960be",
   "metadata": {},
   "source": [
    "Отношение ушедших клиентов к оставшимся в выборке примерно 3:1. Нет необходимости искусственно изменять это соотношение с помощью upsampling, но при разделении данных на train-validation-test надо учесть это соотношение."
   ]
  },
  {
   "cell_type": "markdown",
   "id": "7a57fa5c",
   "metadata": {},
   "source": [
    "### Разделение на выборки\n",
    "\n",
    "Выделим признаки и целевой признак. "
   ]
  },
  {
   "cell_type": "code",
   "execution_count": 82,
   "id": "4a29354f",
   "metadata": {},
   "outputs": [],
   "source": [
    "X = df.drop('churn', axis=1)\n",
    "y = df['churn']"
   ]
  },
  {
   "cell_type": "markdown",
   "id": "bd3d6723",
   "metadata": {},
   "source": [
    "Разделим данные на обучающую и тестовую выборки в соотношении 3:1. При разделении учтем баланс классов целевого признака."
   ]
  },
  {
   "cell_type": "code",
   "execution_count": 83,
   "id": "21f8ffc0",
   "metadata": {},
   "outputs": [],
   "source": [
    "X_train, X_test, y_train, y_test = train_test_split(X, y, test_size=0.25, random_state=171022, stratify=y)"
   ]
  },
  {
   "cell_type": "code",
   "execution_count": 84,
   "id": "9a994daf",
   "metadata": {
    "scrolled": true
   },
   "outputs": [
    {
     "name": "stdout",
     "output_type": "stream",
     "text": [
      " Размер выборки X       : (7043, 17)\n",
      " Размер выборки y       : (7043,)\n",
      " Размер выборки X_train : (5282, 17)\n",
      " Размер выборки y_train : (5282,)\n",
      " Размер выборки X_test  : (1761, 17)\n",
      " Размер выборки y_test  : (1761,)\n"
     ]
    }
   ],
   "source": [
    "print(f\" Размер выборки X       : {X.shape}\")\n",
    "print(f\" Размер выборки y       : {y.shape}\")\n",
    "print(f\" Размер выборки X_train : {X_train.shape}\")\n",
    "print(f\" Размер выборки y_train : {y_train.shape}\")\n",
    "print(f\" Размер выборки X_test  : {X_test.shape}\")\n",
    "print(f\" Размер выборки y_test  : {y_test.shape}\")"
   ]
  },
  {
   "cell_type": "markdown",
   "id": "82de9345",
   "metadata": {},
   "source": [
    "### One-Hot Encoding Кодирование признаков"
   ]
  },
  {
   "cell_type": "code",
   "execution_count": 85,
   "id": "ce9f070f",
   "metadata": {
    "scrolled": true
   },
   "outputs": [
    {
     "name": "stderr",
     "output_type": "stream",
     "text": [
      "D:\\anaconda3\\lib\\site-packages\\sklearn\\utils\\deprecation.py:87: FutureWarning: Function get_feature_names is deprecated; get_feature_names is deprecated in 1.0 and will be removed in 1.2. Please use get_feature_names_out instead.\n",
      "  warnings.warn(msg, category=FutureWarning)\n"
     ]
    }
   ],
   "source": [
    "ohe_enc = OneHotEncoder(drop = 'first')\n",
    "ohe_enc.fit(X_train[cat_columns])\n",
    "new_columns = ohe_enc.get_feature_names(cat_columns)"
   ]
  },
  {
   "cell_type": "code",
   "execution_count": 86,
   "id": "22b7aca3",
   "metadata": {},
   "outputs": [],
   "source": [
    "X_train_ohe = pd.DataFrame(ohe_enc.transform(X_train[cat_columns]).toarray(), columns = new_columns)\n",
    "X_test_ohe = pd.DataFrame(ohe_enc.transform(X_test[cat_columns]).toarray(), columns = new_columns)"
   ]
  },
  {
   "cell_type": "code",
   "execution_count": 89,
   "id": "9084b8f1",
   "metadata": {},
   "outputs": [],
   "source": [
    "X_train_reset_index = X_train.reset_index()\n",
    "X_test_reset_index = X_test.reset_index()"
   ]
  },
  {
   "cell_type": "code",
   "execution_count": 90,
   "id": "8fe77049",
   "metadata": {},
   "outputs": [],
   "source": [
    "X_train_merged = pd.concat([X_train_reset_index.customerID, X_train_reset_index[num_columns], X_train_ohe], axis=1)\n",
    "X_test_merged = pd.concat([X_test_reset_index.customerID, X_test_reset_index[num_columns], X_test_ohe], axis=1)"
   ]
  },
  {
   "cell_type": "code",
   "execution_count": 91,
   "id": "44d34499",
   "metadata": {},
   "outputs": [],
   "source": [
    "X_train_merged = X_train_merged.set_index('customerID')\n",
    "X_test_merged = X_test_merged.set_index('customerID')"
   ]
  },
  {
   "cell_type": "code",
   "execution_count": 92,
   "id": "d3843ccc",
   "metadata": {
    "scrolled": true
   },
   "outputs": [
    {
     "data": {
      "text/html": [
       "<div>\n",
       "<style scoped>\n",
       "    .dataframe tbody tr th:only-of-type {\n",
       "        vertical-align: middle;\n",
       "    }\n",
       "\n",
       "    .dataframe tbody tr th {\n",
       "        vertical-align: top;\n",
       "    }\n",
       "\n",
       "    .dataframe thead th {\n",
       "        text-align: right;\n",
       "    }\n",
       "</style>\n",
       "<table border=\"1\" class=\"dataframe\">\n",
       "  <thead>\n",
       "    <tr style=\"text-align: right;\">\n",
       "      <th></th>\n",
       "      <th>MonthlyCharges</th>\n",
       "      <th>TotalCharges</th>\n",
       "      <th>valid_period</th>\n",
       "      <th>Type_One year</th>\n",
       "      <th>Type_Two year</th>\n",
       "      <th>PaperlessBilling_1</th>\n",
       "      <th>PaymentMethod_Credit card (automatic)</th>\n",
       "      <th>PaymentMethod_Electronic check</th>\n",
       "      <th>PaymentMethod_Mailed check</th>\n",
       "      <th>SeniorCitizen_1</th>\n",
       "      <th>...</th>\n",
       "      <th>TechSupport_0</th>\n",
       "      <th>TechSupport_1</th>\n",
       "      <th>StreamingTV_0</th>\n",
       "      <th>StreamingTV_1</th>\n",
       "      <th>StreamingMovies_0</th>\n",
       "      <th>StreamingMovies_1</th>\n",
       "      <th>fiber_optic_0</th>\n",
       "      <th>fiber_optic_1</th>\n",
       "      <th>MultipleLines_0</th>\n",
       "      <th>MultipleLines_1</th>\n",
       "    </tr>\n",
       "    <tr>\n",
       "      <th>customerID</th>\n",
       "      <th></th>\n",
       "      <th></th>\n",
       "      <th></th>\n",
       "      <th></th>\n",
       "      <th></th>\n",
       "      <th></th>\n",
       "      <th></th>\n",
       "      <th></th>\n",
       "      <th></th>\n",
       "      <th></th>\n",
       "      <th></th>\n",
       "      <th></th>\n",
       "      <th></th>\n",
       "      <th></th>\n",
       "      <th></th>\n",
       "      <th></th>\n",
       "      <th></th>\n",
       "      <th></th>\n",
       "      <th></th>\n",
       "      <th></th>\n",
       "      <th></th>\n",
       "    </tr>\n",
       "  </thead>\n",
       "  <tbody>\n",
       "    <tr>\n",
       "      <th>6619-RPLQZ</th>\n",
       "      <td>20.850000</td>\n",
       "      <td>892.150024</td>\n",
       "      <td>1371</td>\n",
       "      <td>0.0</td>\n",
       "      <td>1.0</td>\n",
       "      <td>0.0</td>\n",
       "      <td>0.0</td>\n",
       "      <td>0.0</td>\n",
       "      <td>1.0</td>\n",
       "      <td>0.0</td>\n",
       "      <td>...</td>\n",
       "      <td>0.0</td>\n",
       "      <td>0.0</td>\n",
       "      <td>0.0</td>\n",
       "      <td>0.0</td>\n",
       "      <td>0.0</td>\n",
       "      <td>0.0</td>\n",
       "      <td>0.0</td>\n",
       "      <td>0.0</td>\n",
       "      <td>1.0</td>\n",
       "      <td>0.0</td>\n",
       "    </tr>\n",
       "    <tr>\n",
       "      <th>7876-DNYAP</th>\n",
       "      <td>19.799999</td>\n",
       "      <td>1436.949951</td>\n",
       "      <td>2102</td>\n",
       "      <td>0.0</td>\n",
       "      <td>1.0</td>\n",
       "      <td>0.0</td>\n",
       "      <td>1.0</td>\n",
       "      <td>0.0</td>\n",
       "      <td>0.0</td>\n",
       "      <td>0.0</td>\n",
       "      <td>...</td>\n",
       "      <td>0.0</td>\n",
       "      <td>0.0</td>\n",
       "      <td>0.0</td>\n",
       "      <td>0.0</td>\n",
       "      <td>0.0</td>\n",
       "      <td>0.0</td>\n",
       "      <td>0.0</td>\n",
       "      <td>0.0</td>\n",
       "      <td>1.0</td>\n",
       "      <td>0.0</td>\n",
       "    </tr>\n",
       "    <tr>\n",
       "      <th>3956-CJUST</th>\n",
       "      <td>75.400002</td>\n",
       "      <td>1643.550049</td>\n",
       "      <td>702</td>\n",
       "      <td>0.0</td>\n",
       "      <td>0.0</td>\n",
       "      <td>1.0</td>\n",
       "      <td>0.0</td>\n",
       "      <td>0.0</td>\n",
       "      <td>0.0</td>\n",
       "      <td>1.0</td>\n",
       "      <td>...</td>\n",
       "      <td>1.0</td>\n",
       "      <td>0.0</td>\n",
       "      <td>1.0</td>\n",
       "      <td>0.0</td>\n",
       "      <td>1.0</td>\n",
       "      <td>0.0</td>\n",
       "      <td>0.0</td>\n",
       "      <td>1.0</td>\n",
       "      <td>1.0</td>\n",
       "      <td>0.0</td>\n",
       "    </tr>\n",
       "    <tr>\n",
       "      <th>6476-EPYZR</th>\n",
       "      <td>20.500000</td>\n",
       "      <td>255.500000</td>\n",
       "      <td>365</td>\n",
       "      <td>0.0</td>\n",
       "      <td>0.0</td>\n",
       "      <td>0.0</td>\n",
       "      <td>0.0</td>\n",
       "      <td>0.0</td>\n",
       "      <td>1.0</td>\n",
       "      <td>0.0</td>\n",
       "      <td>...</td>\n",
       "      <td>0.0</td>\n",
       "      <td>0.0</td>\n",
       "      <td>0.0</td>\n",
       "      <td>0.0</td>\n",
       "      <td>0.0</td>\n",
       "      <td>0.0</td>\n",
       "      <td>0.0</td>\n",
       "      <td>0.0</td>\n",
       "      <td>1.0</td>\n",
       "      <td>0.0</td>\n",
       "    </tr>\n",
       "    <tr>\n",
       "      <th>2474-BRUCM</th>\n",
       "      <td>101.849998</td>\n",
       "      <td>4086.300049</td>\n",
       "      <td>1217</td>\n",
       "      <td>0.0</td>\n",
       "      <td>0.0</td>\n",
       "      <td>0.0</td>\n",
       "      <td>0.0</td>\n",
       "      <td>1.0</td>\n",
       "      <td>0.0</td>\n",
       "      <td>1.0</td>\n",
       "      <td>...</td>\n",
       "      <td>1.0</td>\n",
       "      <td>0.0</td>\n",
       "      <td>0.0</td>\n",
       "      <td>1.0</td>\n",
       "      <td>0.0</td>\n",
       "      <td>1.0</td>\n",
       "      <td>0.0</td>\n",
       "      <td>1.0</td>\n",
       "      <td>0.0</td>\n",
       "      <td>1.0</td>\n",
       "    </tr>\n",
       "  </tbody>\n",
       "</table>\n",
       "<p>5 rows × 28 columns</p>\n",
       "</div>"
      ],
      "text/plain": [
       "            MonthlyCharges  TotalCharges  valid_period  Type_One year  \\\n",
       "customerID                                                              \n",
       "6619-RPLQZ       20.850000    892.150024          1371            0.0   \n",
       "7876-DNYAP       19.799999   1436.949951          2102            0.0   \n",
       "3956-CJUST       75.400002   1643.550049           702            0.0   \n",
       "6476-EPYZR       20.500000    255.500000           365            0.0   \n",
       "2474-BRUCM      101.849998   4086.300049          1217            0.0   \n",
       "\n",
       "            Type_Two year  PaperlessBilling_1  \\\n",
       "customerID                                      \n",
       "6619-RPLQZ            1.0                 0.0   \n",
       "7876-DNYAP            1.0                 0.0   \n",
       "3956-CJUST            0.0                 1.0   \n",
       "6476-EPYZR            0.0                 0.0   \n",
       "2474-BRUCM            0.0                 0.0   \n",
       "\n",
       "            PaymentMethod_Credit card (automatic)  \\\n",
       "customerID                                          \n",
       "6619-RPLQZ                                    0.0   \n",
       "7876-DNYAP                                    1.0   \n",
       "3956-CJUST                                    0.0   \n",
       "6476-EPYZR                                    0.0   \n",
       "2474-BRUCM                                    0.0   \n",
       "\n",
       "            PaymentMethod_Electronic check  PaymentMethod_Mailed check  \\\n",
       "customerID                                                               \n",
       "6619-RPLQZ                             0.0                         1.0   \n",
       "7876-DNYAP                             0.0                         0.0   \n",
       "3956-CJUST                             0.0                         0.0   \n",
       "6476-EPYZR                             0.0                         1.0   \n",
       "2474-BRUCM                             1.0                         0.0   \n",
       "\n",
       "            SeniorCitizen_1  ...  TechSupport_0  TechSupport_1  StreamingTV_0  \\\n",
       "customerID                   ...                                                \n",
       "6619-RPLQZ              0.0  ...            0.0            0.0            0.0   \n",
       "7876-DNYAP              0.0  ...            0.0            0.0            0.0   \n",
       "3956-CJUST              1.0  ...            1.0            0.0            1.0   \n",
       "6476-EPYZR              0.0  ...            0.0            0.0            0.0   \n",
       "2474-BRUCM              1.0  ...            1.0            0.0            0.0   \n",
       "\n",
       "            StreamingTV_1  StreamingMovies_0  StreamingMovies_1  \\\n",
       "customerID                                                        \n",
       "6619-RPLQZ            0.0                0.0                0.0   \n",
       "7876-DNYAP            0.0                0.0                0.0   \n",
       "3956-CJUST            0.0                1.0                0.0   \n",
       "6476-EPYZR            0.0                0.0                0.0   \n",
       "2474-BRUCM            1.0                0.0                1.0   \n",
       "\n",
       "            fiber_optic_0  fiber_optic_1  MultipleLines_0  MultipleLines_1  \n",
       "customerID                                                                  \n",
       "6619-RPLQZ            0.0            0.0              1.0              0.0  \n",
       "7876-DNYAP            0.0            0.0              1.0              0.0  \n",
       "3956-CJUST            0.0            1.0              1.0              0.0  \n",
       "6476-EPYZR            0.0            0.0              1.0              0.0  \n",
       "2474-BRUCM            0.0            1.0              0.0              1.0  \n",
       "\n",
       "[5 rows x 28 columns]"
      ]
     },
     "execution_count": 92,
     "metadata": {},
     "output_type": "execute_result"
    }
   ],
   "source": [
    "X_train_merged.head()"
   ]
  },
  {
   "cell_type": "code",
   "execution_count": 93,
   "id": "f6a564dc",
   "metadata": {},
   "outputs": [
    {
     "data": {
      "text/html": [
       "<div>\n",
       "<style scoped>\n",
       "    .dataframe tbody tr th:only-of-type {\n",
       "        vertical-align: middle;\n",
       "    }\n",
       "\n",
       "    .dataframe tbody tr th {\n",
       "        vertical-align: top;\n",
       "    }\n",
       "\n",
       "    .dataframe thead th {\n",
       "        text-align: right;\n",
       "    }\n",
       "</style>\n",
       "<table border=\"1\" class=\"dataframe\">\n",
       "  <thead>\n",
       "    <tr style=\"text-align: right;\">\n",
       "      <th></th>\n",
       "      <th>MonthlyCharges</th>\n",
       "      <th>TotalCharges</th>\n",
       "      <th>valid_period</th>\n",
       "      <th>Type_One year</th>\n",
       "      <th>Type_Two year</th>\n",
       "      <th>PaperlessBilling_1</th>\n",
       "      <th>PaymentMethod_Credit card (automatic)</th>\n",
       "      <th>PaymentMethod_Electronic check</th>\n",
       "      <th>PaymentMethod_Mailed check</th>\n",
       "      <th>SeniorCitizen_1</th>\n",
       "      <th>...</th>\n",
       "      <th>TechSupport_0</th>\n",
       "      <th>TechSupport_1</th>\n",
       "      <th>StreamingTV_0</th>\n",
       "      <th>StreamingTV_1</th>\n",
       "      <th>StreamingMovies_0</th>\n",
       "      <th>StreamingMovies_1</th>\n",
       "      <th>fiber_optic_0</th>\n",
       "      <th>fiber_optic_1</th>\n",
       "      <th>MultipleLines_0</th>\n",
       "      <th>MultipleLines_1</th>\n",
       "    </tr>\n",
       "    <tr>\n",
       "      <th>customerID</th>\n",
       "      <th></th>\n",
       "      <th></th>\n",
       "      <th></th>\n",
       "      <th></th>\n",
       "      <th></th>\n",
       "      <th></th>\n",
       "      <th></th>\n",
       "      <th></th>\n",
       "      <th></th>\n",
       "      <th></th>\n",
       "      <th></th>\n",
       "      <th></th>\n",
       "      <th></th>\n",
       "      <th></th>\n",
       "      <th></th>\n",
       "      <th></th>\n",
       "      <th></th>\n",
       "      <th></th>\n",
       "      <th></th>\n",
       "      <th></th>\n",
       "      <th></th>\n",
       "    </tr>\n",
       "  </thead>\n",
       "  <tbody>\n",
       "    <tr>\n",
       "      <th>6729-FZWSY</th>\n",
       "      <td>19.450001</td>\n",
       "      <td>1195.949951</td>\n",
       "      <td>2041</td>\n",
       "      <td>1.0</td>\n",
       "      <td>0.0</td>\n",
       "      <td>1.0</td>\n",
       "      <td>0.0</td>\n",
       "      <td>0.0</td>\n",
       "      <td>1.0</td>\n",
       "      <td>0.0</td>\n",
       "      <td>...</td>\n",
       "      <td>0.0</td>\n",
       "      <td>0.0</td>\n",
       "      <td>0.0</td>\n",
       "      <td>0.0</td>\n",
       "      <td>0.0</td>\n",
       "      <td>0.0</td>\n",
       "      <td>0.0</td>\n",
       "      <td>0.0</td>\n",
       "      <td>1.0</td>\n",
       "      <td>0.0</td>\n",
       "    </tr>\n",
       "    <tr>\n",
       "      <th>5136-KCKGI</th>\n",
       "      <td>103.699997</td>\n",
       "      <td>3467.000000</td>\n",
       "      <td>1003</td>\n",
       "      <td>1.0</td>\n",
       "      <td>0.0</td>\n",
       "      <td>1.0</td>\n",
       "      <td>0.0</td>\n",
       "      <td>0.0</td>\n",
       "      <td>1.0</td>\n",
       "      <td>0.0</td>\n",
       "      <td>...</td>\n",
       "      <td>1.0</td>\n",
       "      <td>0.0</td>\n",
       "      <td>0.0</td>\n",
       "      <td>1.0</td>\n",
       "      <td>0.0</td>\n",
       "      <td>1.0</td>\n",
       "      <td>0.0</td>\n",
       "      <td>1.0</td>\n",
       "      <td>0.0</td>\n",
       "      <td>1.0</td>\n",
       "    </tr>\n",
       "    <tr>\n",
       "      <th>6581-NQCBA</th>\n",
       "      <td>49.950001</td>\n",
       "      <td>810.200012</td>\n",
       "      <td>488</td>\n",
       "      <td>0.0</td>\n",
       "      <td>0.0</td>\n",
       "      <td>1.0</td>\n",
       "      <td>0.0</td>\n",
       "      <td>1.0</td>\n",
       "      <td>0.0</td>\n",
       "      <td>0.0</td>\n",
       "      <td>...</td>\n",
       "      <td>0.0</td>\n",
       "      <td>1.0</td>\n",
       "      <td>0.0</td>\n",
       "      <td>1.0</td>\n",
       "      <td>0.0</td>\n",
       "      <td>1.0</td>\n",
       "      <td>1.0</td>\n",
       "      <td>0.0</td>\n",
       "      <td>0.0</td>\n",
       "      <td>0.0</td>\n",
       "    </tr>\n",
       "    <tr>\n",
       "      <th>7471-WNSUF</th>\n",
       "      <td>24.150000</td>\n",
       "      <td>1505.900024</td>\n",
       "      <td>1826</td>\n",
       "      <td>1.0</td>\n",
       "      <td>0.0</td>\n",
       "      <td>0.0</td>\n",
       "      <td>0.0</td>\n",
       "      <td>0.0</td>\n",
       "      <td>0.0</td>\n",
       "      <td>0.0</td>\n",
       "      <td>...</td>\n",
       "      <td>0.0</td>\n",
       "      <td>0.0</td>\n",
       "      <td>0.0</td>\n",
       "      <td>0.0</td>\n",
       "      <td>0.0</td>\n",
       "      <td>0.0</td>\n",
       "      <td>0.0</td>\n",
       "      <td>0.0</td>\n",
       "      <td>0.0</td>\n",
       "      <td>1.0</td>\n",
       "    </tr>\n",
       "    <tr>\n",
       "      <th>7771-CFQRQ</th>\n",
       "      <td>63.799999</td>\n",
       "      <td>3007.250000</td>\n",
       "      <td>1432</td>\n",
       "      <td>0.0</td>\n",
       "      <td>1.0</td>\n",
       "      <td>0.0</td>\n",
       "      <td>0.0</td>\n",
       "      <td>0.0</td>\n",
       "      <td>0.0</td>\n",
       "      <td>0.0</td>\n",
       "      <td>...</td>\n",
       "      <td>0.0</td>\n",
       "      <td>1.0</td>\n",
       "      <td>1.0</td>\n",
       "      <td>0.0</td>\n",
       "      <td>0.0</td>\n",
       "      <td>1.0</td>\n",
       "      <td>1.0</td>\n",
       "      <td>0.0</td>\n",
       "      <td>1.0</td>\n",
       "      <td>0.0</td>\n",
       "    </tr>\n",
       "  </tbody>\n",
       "</table>\n",
       "<p>5 rows × 28 columns</p>\n",
       "</div>"
      ],
      "text/plain": [
       "            MonthlyCharges  TotalCharges  valid_period  Type_One year  \\\n",
       "customerID                                                              \n",
       "6729-FZWSY       19.450001   1195.949951          2041            1.0   \n",
       "5136-KCKGI      103.699997   3467.000000          1003            1.0   \n",
       "6581-NQCBA       49.950001    810.200012           488            0.0   \n",
       "7471-WNSUF       24.150000   1505.900024          1826            1.0   \n",
       "7771-CFQRQ       63.799999   3007.250000          1432            0.0   \n",
       "\n",
       "            Type_Two year  PaperlessBilling_1  \\\n",
       "customerID                                      \n",
       "6729-FZWSY            0.0                 1.0   \n",
       "5136-KCKGI            0.0                 1.0   \n",
       "6581-NQCBA            0.0                 1.0   \n",
       "7471-WNSUF            0.0                 0.0   \n",
       "7771-CFQRQ            1.0                 0.0   \n",
       "\n",
       "            PaymentMethod_Credit card (automatic)  \\\n",
       "customerID                                          \n",
       "6729-FZWSY                                    0.0   \n",
       "5136-KCKGI                                    0.0   \n",
       "6581-NQCBA                                    0.0   \n",
       "7471-WNSUF                                    0.0   \n",
       "7771-CFQRQ                                    0.0   \n",
       "\n",
       "            PaymentMethod_Electronic check  PaymentMethod_Mailed check  \\\n",
       "customerID                                                               \n",
       "6729-FZWSY                             0.0                         1.0   \n",
       "5136-KCKGI                             0.0                         1.0   \n",
       "6581-NQCBA                             1.0                         0.0   \n",
       "7471-WNSUF                             0.0                         0.0   \n",
       "7771-CFQRQ                             0.0                         0.0   \n",
       "\n",
       "            SeniorCitizen_1  ...  TechSupport_0  TechSupport_1  StreamingTV_0  \\\n",
       "customerID                   ...                                                \n",
       "6729-FZWSY              0.0  ...            0.0            0.0            0.0   \n",
       "5136-KCKGI              0.0  ...            1.0            0.0            0.0   \n",
       "6581-NQCBA              0.0  ...            0.0            1.0            0.0   \n",
       "7471-WNSUF              0.0  ...            0.0            0.0            0.0   \n",
       "7771-CFQRQ              0.0  ...            0.0            1.0            1.0   \n",
       "\n",
       "            StreamingTV_1  StreamingMovies_0  StreamingMovies_1  \\\n",
       "customerID                                                        \n",
       "6729-FZWSY            0.0                0.0                0.0   \n",
       "5136-KCKGI            1.0                0.0                1.0   \n",
       "6581-NQCBA            1.0                0.0                1.0   \n",
       "7471-WNSUF            0.0                0.0                0.0   \n",
       "7771-CFQRQ            0.0                0.0                1.0   \n",
       "\n",
       "            fiber_optic_0  fiber_optic_1  MultipleLines_0  MultipleLines_1  \n",
       "customerID                                                                  \n",
       "6729-FZWSY            0.0            0.0              1.0              0.0  \n",
       "5136-KCKGI            0.0            1.0              0.0              1.0  \n",
       "6581-NQCBA            1.0            0.0              0.0              0.0  \n",
       "7471-WNSUF            0.0            0.0              0.0              1.0  \n",
       "7771-CFQRQ            1.0            0.0              1.0              0.0  \n",
       "\n",
       "[5 rows x 28 columns]"
      ]
     },
     "execution_count": 93,
     "metadata": {},
     "output_type": "execute_result"
    }
   ],
   "source": [
    "X_test_merged.head()"
   ]
  },
  {
   "cell_type": "markdown",
   "id": "0c666efb",
   "metadata": {},
   "source": [
    "## Обучение моделей\n",
    "### Base-line модель \n",
    "\n",
    "В качестве base-line моделей используем константную модель (все объекты класса 0, соответствующего оставшимся клиентам).  "
   ]
  },
  {
   "cell_type": "code",
   "execution_count": 94,
   "id": "e4b8de65",
   "metadata": {},
   "outputs": [
    {
     "name": "stdout",
     "output_type": "stream",
     "text": [
      "roc_auc для константной модели: 0.500\n",
      "accuracy для константной модели: 0.735\n"
     ]
    }
   ],
   "source": [
    "pred_bl = [0] * y.shape[0]\n",
    "roc_auc_bl = roc_auc_score(y.values, pred_bl)\n",
    "print(f\"roc_auc для константной модели: {roc_auc_bl:.3f}\")\n",
    "accuracy_bl = accuracy_score(y.values, pred_bl)\n",
    "print(f\"accuracy для константной модели: {accuracy_bl:.3f}\")"
   ]
  },
  {
   "cell_type": "markdown",
   "id": "3b25907a",
   "metadata": {},
   "source": [
    "### Логистическая регрессия\n",
    "#### Масштабирование признаков\n",
    "\n",
    "Создадим копии выборок для масштабирования."
   ]
  },
  {
   "cell_type": "code",
   "execution_count": 95,
   "id": "38adc9f2",
   "metadata": {},
   "outputs": [],
   "source": [
    "X_train_s = X_train_merged\n",
    "X_test_s = X_test_merged"
   ]
  },
  {
   "cell_type": "markdown",
   "id": "7b160867",
   "metadata": {},
   "source": [
    "Отмасштабируем количественные признаки."
   ]
  },
  {
   "cell_type": "code",
   "execution_count": 96,
   "id": "54fc350b",
   "metadata": {},
   "outputs": [],
   "source": [
    "scaler = RobustScaler()\n",
    "scaler.fit(X_train_s[num_columns])\n",
    "\n",
    "X_train_s[num_columns] = scaler.transform(X_train_s[num_columns])\n",
    "X_test_s[num_columns] = scaler.transform(X_test_s[num_columns])"
   ]
  },
  {
   "cell_type": "code",
   "execution_count": 97,
   "id": "8c4189f3",
   "metadata": {},
   "outputs": [
    {
     "data": {
      "text/html": [
       "<div>\n",
       "<style scoped>\n",
       "    .dataframe tbody tr th:only-of-type {\n",
       "        vertical-align: middle;\n",
       "    }\n",
       "\n",
       "    .dataframe tbody tr th {\n",
       "        vertical-align: top;\n",
       "    }\n",
       "\n",
       "    .dataframe thead th {\n",
       "        text-align: right;\n",
       "    }\n",
       "</style>\n",
       "<table border=\"1\" class=\"dataframe\">\n",
       "  <thead>\n",
       "    <tr style=\"text-align: right;\">\n",
       "      <th></th>\n",
       "      <th>MonthlyCharges</th>\n",
       "      <th>TotalCharges</th>\n",
       "      <th>valid_period</th>\n",
       "      <th>Type_One year</th>\n",
       "      <th>Type_Two year</th>\n",
       "      <th>PaperlessBilling_1</th>\n",
       "      <th>PaymentMethod_Credit card (automatic)</th>\n",
       "      <th>PaymentMethod_Electronic check</th>\n",
       "      <th>PaymentMethod_Mailed check</th>\n",
       "      <th>SeniorCitizen_1</th>\n",
       "      <th>...</th>\n",
       "      <th>TechSupport_0</th>\n",
       "      <th>TechSupport_1</th>\n",
       "      <th>StreamingTV_0</th>\n",
       "      <th>StreamingTV_1</th>\n",
       "      <th>StreamingMovies_0</th>\n",
       "      <th>StreamingMovies_1</th>\n",
       "      <th>fiber_optic_0</th>\n",
       "      <th>fiber_optic_1</th>\n",
       "      <th>MultipleLines_0</th>\n",
       "      <th>MultipleLines_1</th>\n",
       "    </tr>\n",
       "    <tr>\n",
       "      <th>customerID</th>\n",
       "      <th></th>\n",
       "      <th></th>\n",
       "      <th></th>\n",
       "      <th></th>\n",
       "      <th></th>\n",
       "      <th></th>\n",
       "      <th></th>\n",
       "      <th></th>\n",
       "      <th></th>\n",
       "      <th></th>\n",
       "      <th></th>\n",
       "      <th></th>\n",
       "      <th></th>\n",
       "      <th></th>\n",
       "      <th></th>\n",
       "      <th></th>\n",
       "      <th></th>\n",
       "      <th></th>\n",
       "      <th></th>\n",
       "      <th></th>\n",
       "      <th></th>\n",
       "    </tr>\n",
       "  </thead>\n",
       "  <tbody>\n",
       "    <tr>\n",
       "      <th>6619-RPLQZ</th>\n",
       "      <td>-0.902283</td>\n",
       "      <td>-0.145180</td>\n",
       "      <td>0.341020</td>\n",
       "      <td>0.0</td>\n",
       "      <td>1.0</td>\n",
       "      <td>0.0</td>\n",
       "      <td>0.0</td>\n",
       "      <td>0.0</td>\n",
       "      <td>1.0</td>\n",
       "      <td>0.0</td>\n",
       "      <td>...</td>\n",
       "      <td>0.0</td>\n",
       "      <td>0.0</td>\n",
       "      <td>0.0</td>\n",
       "      <td>0.0</td>\n",
       "      <td>0.0</td>\n",
       "      <td>0.0</td>\n",
       "      <td>0.0</td>\n",
       "      <td>0.0</td>\n",
       "      <td>1.0</td>\n",
       "      <td>0.0</td>\n",
       "    </tr>\n",
       "    <tr>\n",
       "      <th>7876-DNYAP</th>\n",
       "      <td>-0.921461</td>\n",
       "      <td>0.013293</td>\n",
       "      <td>0.851852</td>\n",
       "      <td>0.0</td>\n",
       "      <td>1.0</td>\n",
       "      <td>0.0</td>\n",
       "      <td>1.0</td>\n",
       "      <td>0.0</td>\n",
       "      <td>0.0</td>\n",
       "      <td>0.0</td>\n",
       "      <td>...</td>\n",
       "      <td>0.0</td>\n",
       "      <td>0.0</td>\n",
       "      <td>0.0</td>\n",
       "      <td>0.0</td>\n",
       "      <td>0.0</td>\n",
       "      <td>0.0</td>\n",
       "      <td>0.0</td>\n",
       "      <td>0.0</td>\n",
       "      <td>1.0</td>\n",
       "      <td>0.0</td>\n",
       "    </tr>\n",
       "    <tr>\n",
       "      <th>3956-CJUST</th>\n",
       "      <td>0.094064</td>\n",
       "      <td>0.073390</td>\n",
       "      <td>-0.126485</td>\n",
       "      <td>0.0</td>\n",
       "      <td>0.0</td>\n",
       "      <td>1.0</td>\n",
       "      <td>0.0</td>\n",
       "      <td>0.0</td>\n",
       "      <td>0.0</td>\n",
       "      <td>1.0</td>\n",
       "      <td>...</td>\n",
       "      <td>1.0</td>\n",
       "      <td>0.0</td>\n",
       "      <td>1.0</td>\n",
       "      <td>0.0</td>\n",
       "      <td>1.0</td>\n",
       "      <td>0.0</td>\n",
       "      <td>0.0</td>\n",
       "      <td>1.0</td>\n",
       "      <td>1.0</td>\n",
       "      <td>0.0</td>\n",
       "    </tr>\n",
       "    <tr>\n",
       "      <th>6476-EPYZR</th>\n",
       "      <td>-0.908676</td>\n",
       "      <td>-0.330370</td>\n",
       "      <td>-0.361985</td>\n",
       "      <td>0.0</td>\n",
       "      <td>0.0</td>\n",
       "      <td>0.0</td>\n",
       "      <td>0.0</td>\n",
       "      <td>0.0</td>\n",
       "      <td>1.0</td>\n",
       "      <td>0.0</td>\n",
       "      <td>...</td>\n",
       "      <td>0.0</td>\n",
       "      <td>0.0</td>\n",
       "      <td>0.0</td>\n",
       "      <td>0.0</td>\n",
       "      <td>0.0</td>\n",
       "      <td>0.0</td>\n",
       "      <td>0.0</td>\n",
       "      <td>0.0</td>\n",
       "      <td>1.0</td>\n",
       "      <td>0.0</td>\n",
       "    </tr>\n",
       "    <tr>\n",
       "      <th>2474-BRUCM</th>\n",
       "      <td>0.577169</td>\n",
       "      <td>0.783943</td>\n",
       "      <td>0.233403</td>\n",
       "      <td>0.0</td>\n",
       "      <td>0.0</td>\n",
       "      <td>0.0</td>\n",
       "      <td>0.0</td>\n",
       "      <td>1.0</td>\n",
       "      <td>0.0</td>\n",
       "      <td>1.0</td>\n",
       "      <td>...</td>\n",
       "      <td>1.0</td>\n",
       "      <td>0.0</td>\n",
       "      <td>0.0</td>\n",
       "      <td>1.0</td>\n",
       "      <td>0.0</td>\n",
       "      <td>1.0</td>\n",
       "      <td>0.0</td>\n",
       "      <td>1.0</td>\n",
       "      <td>0.0</td>\n",
       "      <td>1.0</td>\n",
       "    </tr>\n",
       "  </tbody>\n",
       "</table>\n",
       "<p>5 rows × 28 columns</p>\n",
       "</div>"
      ],
      "text/plain": [
       "            MonthlyCharges  TotalCharges  valid_period  Type_One year  \\\n",
       "customerID                                                              \n",
       "6619-RPLQZ       -0.902283     -0.145180      0.341020            0.0   \n",
       "7876-DNYAP       -0.921461      0.013293      0.851852            0.0   \n",
       "3956-CJUST        0.094064      0.073390     -0.126485            0.0   \n",
       "6476-EPYZR       -0.908676     -0.330370     -0.361985            0.0   \n",
       "2474-BRUCM        0.577169      0.783943      0.233403            0.0   \n",
       "\n",
       "            Type_Two year  PaperlessBilling_1  \\\n",
       "customerID                                      \n",
       "6619-RPLQZ            1.0                 0.0   \n",
       "7876-DNYAP            1.0                 0.0   \n",
       "3956-CJUST            0.0                 1.0   \n",
       "6476-EPYZR            0.0                 0.0   \n",
       "2474-BRUCM            0.0                 0.0   \n",
       "\n",
       "            PaymentMethod_Credit card (automatic)  \\\n",
       "customerID                                          \n",
       "6619-RPLQZ                                    0.0   \n",
       "7876-DNYAP                                    1.0   \n",
       "3956-CJUST                                    0.0   \n",
       "6476-EPYZR                                    0.0   \n",
       "2474-BRUCM                                    0.0   \n",
       "\n",
       "            PaymentMethod_Electronic check  PaymentMethod_Mailed check  \\\n",
       "customerID                                                               \n",
       "6619-RPLQZ                             0.0                         1.0   \n",
       "7876-DNYAP                             0.0                         0.0   \n",
       "3956-CJUST                             0.0                         0.0   \n",
       "6476-EPYZR                             0.0                         1.0   \n",
       "2474-BRUCM                             1.0                         0.0   \n",
       "\n",
       "            SeniorCitizen_1  ...  TechSupport_0  TechSupport_1  StreamingTV_0  \\\n",
       "customerID                   ...                                                \n",
       "6619-RPLQZ              0.0  ...            0.0            0.0            0.0   \n",
       "7876-DNYAP              0.0  ...            0.0            0.0            0.0   \n",
       "3956-CJUST              1.0  ...            1.0            0.0            1.0   \n",
       "6476-EPYZR              0.0  ...            0.0            0.0            0.0   \n",
       "2474-BRUCM              1.0  ...            1.0            0.0            0.0   \n",
       "\n",
       "            StreamingTV_1  StreamingMovies_0  StreamingMovies_1  \\\n",
       "customerID                                                        \n",
       "6619-RPLQZ            0.0                0.0                0.0   \n",
       "7876-DNYAP            0.0                0.0                0.0   \n",
       "3956-CJUST            0.0                1.0                0.0   \n",
       "6476-EPYZR            0.0                0.0                0.0   \n",
       "2474-BRUCM            1.0                0.0                1.0   \n",
       "\n",
       "            fiber_optic_0  fiber_optic_1  MultipleLines_0  MultipleLines_1  \n",
       "customerID                                                                  \n",
       "6619-RPLQZ            0.0            0.0              1.0              0.0  \n",
       "7876-DNYAP            0.0            0.0              1.0              0.0  \n",
       "3956-CJUST            0.0            1.0              1.0              0.0  \n",
       "6476-EPYZR            0.0            0.0              1.0              0.0  \n",
       "2474-BRUCM            0.0            1.0              0.0              1.0  \n",
       "\n",
       "[5 rows x 28 columns]"
      ]
     },
     "execution_count": 97,
     "metadata": {},
     "output_type": "execute_result"
    }
   ],
   "source": [
    "X_train_s.head()"
   ]
  },
  {
   "cell_type": "code",
   "execution_count": 98,
   "id": "ac58ebb7",
   "metadata": {
    "scrolled": true
   },
   "outputs": [
    {
     "name": "stdout",
     "output_type": "stream",
     "text": [
      "roc_auc для модели Логистической Регрессии на кросс-валидации: 0.843\n",
      "accuracy для модели Логистической Регрессии на кросс-валидации: 0.805\n"
     ]
    }
   ],
   "source": [
    "model_lr = LogisticRegression(C=0.5, random_state=171022)\n",
    "roc_auc_lr_v = cross_val_score(model_lr, X_train_s, y_train, cv=5, scoring='roc_auc').mean()\n",
    "print(f\"roc_auc для модели Логистической Регрессии на кросс-валидации: {roc_auc_lr_v:.3f}\")\n",
    "accuracy_lr = cross_val_score(model_lr, X_train_s, y_train, cv=5, scoring='accuracy').mean()\n",
    "print(f\"accuracy для модели Логистической Регрессии на кросс-валидации: {accuracy_lr:.3f}\")"
   ]
  },
  {
   "cell_type": "markdown",
   "id": "a6796ae8",
   "metadata": {},
   "source": [
    "### Модель RandomForest\n",
    "\n",
    "Параметры для модели Random Forest подберём с помощью GridSearchCV"
   ]
  },
  {
   "cell_type": "code",
   "execution_count": 99,
   "id": "7d555595",
   "metadata": {},
   "outputs": [],
   "source": [
    "param_grid = {'n_estimators': [300],\n",
    "              'max_depth': [5, 7, 9],\n",
    "              'max_features': [3, 5, 7],\n",
    "              'min_samples_split': [2, 4, 6],\n",
    "              'min_samples_leaf': [2, 4, 6],\n",
    "             }\n",
    "\n",
    "model_rf = RandomForestClassifier(random_state=171022)\n",
    "grid_search_rf = GridSearchCV(estimator = model_rf,\n",
    "                           param_grid = param_grid,\n",
    "                           cv = 3,\n",
    "                           n_jobs = -1,\n",
    "                           verbose = 2,\n",
    "                           scoring = 'roc_auc',\n",
    "                             )"
   ]
  },
  {
   "cell_type": "code",
   "execution_count": 100,
   "id": "7ea45a3b",
   "metadata": {
    "scrolled": true
   },
   "outputs": [
    {
     "name": "stdout",
     "output_type": "stream",
     "text": [
      "Fitting 3 folds for each of 81 candidates, totalling 243 fits\n",
      "Wall time: 28.5 s\n"
     ]
    },
    {
     "data": {
      "text/html": [
       "<style>#sk-container-id-1 {color: black;background-color: white;}#sk-container-id-1 pre{padding: 0;}#sk-container-id-1 div.sk-toggleable {background-color: white;}#sk-container-id-1 label.sk-toggleable__label {cursor: pointer;display: block;width: 100%;margin-bottom: 0;padding: 0.3em;box-sizing: border-box;text-align: center;}#sk-container-id-1 label.sk-toggleable__label-arrow:before {content: \"▸\";float: left;margin-right: 0.25em;color: #696969;}#sk-container-id-1 label.sk-toggleable__label-arrow:hover:before {color: black;}#sk-container-id-1 div.sk-estimator:hover label.sk-toggleable__label-arrow:before {color: black;}#sk-container-id-1 div.sk-toggleable__content {max-height: 0;max-width: 0;overflow: hidden;text-align: left;background-color: #f0f8ff;}#sk-container-id-1 div.sk-toggleable__content pre {margin: 0.2em;color: black;border-radius: 0.25em;background-color: #f0f8ff;}#sk-container-id-1 input.sk-toggleable__control:checked~div.sk-toggleable__content {max-height: 200px;max-width: 100%;overflow: auto;}#sk-container-id-1 input.sk-toggleable__control:checked~label.sk-toggleable__label-arrow:before {content: \"▾\";}#sk-container-id-1 div.sk-estimator input.sk-toggleable__control:checked~label.sk-toggleable__label {background-color: #d4ebff;}#sk-container-id-1 div.sk-label input.sk-toggleable__control:checked~label.sk-toggleable__label {background-color: #d4ebff;}#sk-container-id-1 input.sk-hidden--visually {border: 0;clip: rect(1px 1px 1px 1px);clip: rect(1px, 1px, 1px, 1px);height: 1px;margin: -1px;overflow: hidden;padding: 0;position: absolute;width: 1px;}#sk-container-id-1 div.sk-estimator {font-family: monospace;background-color: #f0f8ff;border: 1px dotted black;border-radius: 0.25em;box-sizing: border-box;margin-bottom: 0.5em;}#sk-container-id-1 div.sk-estimator:hover {background-color: #d4ebff;}#sk-container-id-1 div.sk-parallel-item::after {content: \"\";width: 100%;border-bottom: 1px solid gray;flex-grow: 1;}#sk-container-id-1 div.sk-label:hover label.sk-toggleable__label {background-color: #d4ebff;}#sk-container-id-1 div.sk-serial::before {content: \"\";position: absolute;border-left: 1px solid gray;box-sizing: border-box;top: 0;bottom: 0;left: 50%;z-index: 0;}#sk-container-id-1 div.sk-serial {display: flex;flex-direction: column;align-items: center;background-color: white;padding-right: 0.2em;padding-left: 0.2em;position: relative;}#sk-container-id-1 div.sk-item {position: relative;z-index: 1;}#sk-container-id-1 div.sk-parallel {display: flex;align-items: stretch;justify-content: center;background-color: white;position: relative;}#sk-container-id-1 div.sk-item::before, #sk-container-id-1 div.sk-parallel-item::before {content: \"\";position: absolute;border-left: 1px solid gray;box-sizing: border-box;top: 0;bottom: 0;left: 50%;z-index: -1;}#sk-container-id-1 div.sk-parallel-item {display: flex;flex-direction: column;z-index: 1;position: relative;background-color: white;}#sk-container-id-1 div.sk-parallel-item:first-child::after {align-self: flex-end;width: 50%;}#sk-container-id-1 div.sk-parallel-item:last-child::after {align-self: flex-start;width: 50%;}#sk-container-id-1 div.sk-parallel-item:only-child::after {width: 0;}#sk-container-id-1 div.sk-dashed-wrapped {border: 1px dashed gray;margin: 0 0.4em 0.5em 0.4em;box-sizing: border-box;padding-bottom: 0.4em;background-color: white;}#sk-container-id-1 div.sk-label label {font-family: monospace;font-weight: bold;display: inline-block;line-height: 1.2em;}#sk-container-id-1 div.sk-label-container {text-align: center;}#sk-container-id-1 div.sk-container {/* jupyter's `normalize.less` sets `[hidden] { display: none; }` but bootstrap.min.css set `[hidden] { display: none !important; }` so we also need the `!important` here to be able to override the default hidden behavior on the sphinx rendered scikit-learn.org. See: https://github.com/scikit-learn/scikit-learn/issues/21755 */display: inline-block !important;position: relative;}#sk-container-id-1 div.sk-text-repr-fallback {display: none;}</style><div id=\"sk-container-id-1\" class=\"sk-top-container\"><div class=\"sk-text-repr-fallback\"><pre>GridSearchCV(cv=3, estimator=RandomForestClassifier(random_state=171022),\n",
       "             n_jobs=-1,\n",
       "             param_grid={&#x27;max_depth&#x27;: [5, 7, 9], &#x27;max_features&#x27;: [3, 5, 7],\n",
       "                         &#x27;min_samples_leaf&#x27;: [2, 4, 6],\n",
       "                         &#x27;min_samples_split&#x27;: [2, 4, 6],\n",
       "                         &#x27;n_estimators&#x27;: [300]},\n",
       "             scoring=&#x27;roc_auc&#x27;, verbose=2)</pre><b>In a Jupyter environment, please rerun this cell to show the HTML representation or trust the notebook. <br />On GitHub, the HTML representation is unable to render, please try loading this page with nbviewer.org.</b></div><div class=\"sk-container\" hidden><div class=\"sk-item sk-dashed-wrapped\"><div class=\"sk-label-container\"><div class=\"sk-label sk-toggleable\"><input class=\"sk-toggleable__control sk-hidden--visually\" id=\"sk-estimator-id-1\" type=\"checkbox\" ><label for=\"sk-estimator-id-1\" class=\"sk-toggleable__label sk-toggleable__label-arrow\">GridSearchCV</label><div class=\"sk-toggleable__content\"><pre>GridSearchCV(cv=3, estimator=RandomForestClassifier(random_state=171022),\n",
       "             n_jobs=-1,\n",
       "             param_grid={&#x27;max_depth&#x27;: [5, 7, 9], &#x27;max_features&#x27;: [3, 5, 7],\n",
       "                         &#x27;min_samples_leaf&#x27;: [2, 4, 6],\n",
       "                         &#x27;min_samples_split&#x27;: [2, 4, 6],\n",
       "                         &#x27;n_estimators&#x27;: [300]},\n",
       "             scoring=&#x27;roc_auc&#x27;, verbose=2)</pre></div></div></div><div class=\"sk-parallel\"><div class=\"sk-parallel-item\"><div class=\"sk-item\"><div class=\"sk-label-container\"><div class=\"sk-label sk-toggleable\"><input class=\"sk-toggleable__control sk-hidden--visually\" id=\"sk-estimator-id-2\" type=\"checkbox\" ><label for=\"sk-estimator-id-2\" class=\"sk-toggleable__label sk-toggleable__label-arrow\">estimator: RandomForestClassifier</label><div class=\"sk-toggleable__content\"><pre>RandomForestClassifier(random_state=171022)</pre></div></div></div><div class=\"sk-serial\"><div class=\"sk-item\"><div class=\"sk-estimator sk-toggleable\"><input class=\"sk-toggleable__control sk-hidden--visually\" id=\"sk-estimator-id-3\" type=\"checkbox\" ><label for=\"sk-estimator-id-3\" class=\"sk-toggleable__label sk-toggleable__label-arrow\">RandomForestClassifier</label><div class=\"sk-toggleable__content\"><pre>RandomForestClassifier(random_state=171022)</pre></div></div></div></div></div></div></div></div></div></div>"
      ],
      "text/plain": [
       "GridSearchCV(cv=3, estimator=RandomForestClassifier(random_state=171022),\n",
       "             n_jobs=-1,\n",
       "             param_grid={'max_depth': [5, 7, 9], 'max_features': [3, 5, 7],\n",
       "                         'min_samples_leaf': [2, 4, 6],\n",
       "                         'min_samples_split': [2, 4, 6],\n",
       "                         'n_estimators': [300]},\n",
       "             scoring='roc_auc', verbose=2)"
      ]
     },
     "execution_count": 100,
     "metadata": {},
     "output_type": "execute_result"
    }
   ],
   "source": [
    "%%time\n",
    "grid_search_rf.fit(X_train_merged, y_train)"
   ]
  },
  {
   "cell_type": "code",
   "execution_count": 101,
   "id": "5791d185",
   "metadata": {},
   "outputs": [
    {
     "name": "stdout",
     "output_type": "stream",
     "text": [
      "model params:  {'max_depth': 7, 'max_features': 7, 'min_samples_leaf': 2, 'min_samples_split': 6, 'n_estimators': 300}\n",
      "roc_auc для модели Random Forest на кросс валидации: 0.855\n"
     ]
    }
   ],
   "source": [
    "print('model params: ', grid_search_rf.best_params_)\n",
    "print(f\"roc_auc для модели Random Forest на кросс валидации: {grid_search_rf.best_score_:.3f}\")"
   ]
  },
  {
   "cell_type": "code",
   "execution_count": 102,
   "id": "6ab6b5f8",
   "metadata": {
    "scrolled": true
   },
   "outputs": [
    {
     "name": "stdout",
     "output_type": "stream",
     "text": [
      "accuracy для модели Random Forest на кросс-валидации: 0.805\n"
     ]
    }
   ],
   "source": [
    "accuracy_rf = cross_val_score(model_rf, X_train_merged, y_train, cv=5, scoring='accuracy').mean()\n",
    "print(f\"accuracy для модели Random Forest на кросс-валидации: {accuracy_lr:.3f}\")"
   ]
  },
  {
   "cell_type": "markdown",
   "id": "51e39fd8",
   "metadata": {},
   "source": [
    "### CatBoost Model\n",
    "\n",
    "<!-- ####  Создание валидационной выборки-->\n",
    "Параметры для модели Random Forest подберём с помощью GridSearchCV"
   ]
  },
  {
   "cell_type": "code",
   "execution_count": 103,
   "id": "435beaa0",
   "metadata": {
    "scrolled": true
   },
   "outputs": [],
   "source": [
    "param_grid = {\n",
    "    'learning_rate': [0.1, 0.3, 0.5],\n",
    "    'iterations': [100, 500, 1000],\n",
    "    'l2_leaf_reg': [1, 2, 3],\n",
    "    'depth' : [1, 2, 3],\n",
    "    'loss_function' :['CrossEntropy'],\n",
    "    'eval_metric' : ['AUC']\n",
    "             }\n",
    "\n",
    "model_cb = CatBoostClassifier(random_state=171022, verbose=0)\n",
    "search_cb = GridSearchCV(estimator = model_cb,\n",
    "                      param_grid = param_grid,\n",
    "                      cv=5,\n",
    "                      scoring='roc_auc')"
   ]
  },
  {
   "cell_type": "code",
   "execution_count": 104,
   "id": "8c548612",
   "metadata": {},
   "outputs": [
    {
     "name": "stdout",
     "output_type": "stream",
     "text": [
      "Wall time: 4min 18s\n"
     ]
    },
    {
     "data": {
      "text/html": [
       "<style>#sk-container-id-2 {color: black;background-color: white;}#sk-container-id-2 pre{padding: 0;}#sk-container-id-2 div.sk-toggleable {background-color: white;}#sk-container-id-2 label.sk-toggleable__label {cursor: pointer;display: block;width: 100%;margin-bottom: 0;padding: 0.3em;box-sizing: border-box;text-align: center;}#sk-container-id-2 label.sk-toggleable__label-arrow:before {content: \"▸\";float: left;margin-right: 0.25em;color: #696969;}#sk-container-id-2 label.sk-toggleable__label-arrow:hover:before {color: black;}#sk-container-id-2 div.sk-estimator:hover label.sk-toggleable__label-arrow:before {color: black;}#sk-container-id-2 div.sk-toggleable__content {max-height: 0;max-width: 0;overflow: hidden;text-align: left;background-color: #f0f8ff;}#sk-container-id-2 div.sk-toggleable__content pre {margin: 0.2em;color: black;border-radius: 0.25em;background-color: #f0f8ff;}#sk-container-id-2 input.sk-toggleable__control:checked~div.sk-toggleable__content {max-height: 200px;max-width: 100%;overflow: auto;}#sk-container-id-2 input.sk-toggleable__control:checked~label.sk-toggleable__label-arrow:before {content: \"▾\";}#sk-container-id-2 div.sk-estimator input.sk-toggleable__control:checked~label.sk-toggleable__label {background-color: #d4ebff;}#sk-container-id-2 div.sk-label input.sk-toggleable__control:checked~label.sk-toggleable__label {background-color: #d4ebff;}#sk-container-id-2 input.sk-hidden--visually {border: 0;clip: rect(1px 1px 1px 1px);clip: rect(1px, 1px, 1px, 1px);height: 1px;margin: -1px;overflow: hidden;padding: 0;position: absolute;width: 1px;}#sk-container-id-2 div.sk-estimator {font-family: monospace;background-color: #f0f8ff;border: 1px dotted black;border-radius: 0.25em;box-sizing: border-box;margin-bottom: 0.5em;}#sk-container-id-2 div.sk-estimator:hover {background-color: #d4ebff;}#sk-container-id-2 div.sk-parallel-item::after {content: \"\";width: 100%;border-bottom: 1px solid gray;flex-grow: 1;}#sk-container-id-2 div.sk-label:hover label.sk-toggleable__label {background-color: #d4ebff;}#sk-container-id-2 div.sk-serial::before {content: \"\";position: absolute;border-left: 1px solid gray;box-sizing: border-box;top: 0;bottom: 0;left: 50%;z-index: 0;}#sk-container-id-2 div.sk-serial {display: flex;flex-direction: column;align-items: center;background-color: white;padding-right: 0.2em;padding-left: 0.2em;position: relative;}#sk-container-id-2 div.sk-item {position: relative;z-index: 1;}#sk-container-id-2 div.sk-parallel {display: flex;align-items: stretch;justify-content: center;background-color: white;position: relative;}#sk-container-id-2 div.sk-item::before, #sk-container-id-2 div.sk-parallel-item::before {content: \"\";position: absolute;border-left: 1px solid gray;box-sizing: border-box;top: 0;bottom: 0;left: 50%;z-index: -1;}#sk-container-id-2 div.sk-parallel-item {display: flex;flex-direction: column;z-index: 1;position: relative;background-color: white;}#sk-container-id-2 div.sk-parallel-item:first-child::after {align-self: flex-end;width: 50%;}#sk-container-id-2 div.sk-parallel-item:last-child::after {align-self: flex-start;width: 50%;}#sk-container-id-2 div.sk-parallel-item:only-child::after {width: 0;}#sk-container-id-2 div.sk-dashed-wrapped {border: 1px dashed gray;margin: 0 0.4em 0.5em 0.4em;box-sizing: border-box;padding-bottom: 0.4em;background-color: white;}#sk-container-id-2 div.sk-label label {font-family: monospace;font-weight: bold;display: inline-block;line-height: 1.2em;}#sk-container-id-2 div.sk-label-container {text-align: center;}#sk-container-id-2 div.sk-container {/* jupyter's `normalize.less` sets `[hidden] { display: none; }` but bootstrap.min.css set `[hidden] { display: none !important; }` so we also need the `!important` here to be able to override the default hidden behavior on the sphinx rendered scikit-learn.org. See: https://github.com/scikit-learn/scikit-learn/issues/21755 */display: inline-block !important;position: relative;}#sk-container-id-2 div.sk-text-repr-fallback {display: none;}</style><div id=\"sk-container-id-2\" class=\"sk-top-container\"><div class=\"sk-text-repr-fallback\"><pre>GridSearchCV(cv=5,\n",
       "             estimator=&lt;catboost.core.CatBoostClassifier object at 0x000001C07508C640&gt;,\n",
       "             param_grid={&#x27;depth&#x27;: [1, 2, 3], &#x27;eval_metric&#x27;: [&#x27;AUC&#x27;],\n",
       "                         &#x27;iterations&#x27;: [100, 500, 1000],\n",
       "                         &#x27;l2_leaf_reg&#x27;: [1, 2, 3],\n",
       "                         &#x27;learning_rate&#x27;: [0.1, 0.3, 0.5],\n",
       "                         &#x27;loss_function&#x27;: [&#x27;CrossEntropy&#x27;]},\n",
       "             scoring=&#x27;roc_auc&#x27;)</pre><b>In a Jupyter environment, please rerun this cell to show the HTML representation or trust the notebook. <br />On GitHub, the HTML representation is unable to render, please try loading this page with nbviewer.org.</b></div><div class=\"sk-container\" hidden><div class=\"sk-item sk-dashed-wrapped\"><div class=\"sk-label-container\"><div class=\"sk-label sk-toggleable\"><input class=\"sk-toggleable__control sk-hidden--visually\" id=\"sk-estimator-id-4\" type=\"checkbox\" ><label for=\"sk-estimator-id-4\" class=\"sk-toggleable__label sk-toggleable__label-arrow\">GridSearchCV</label><div class=\"sk-toggleable__content\"><pre>GridSearchCV(cv=5,\n",
       "             estimator=&lt;catboost.core.CatBoostClassifier object at 0x000001C07508C640&gt;,\n",
       "             param_grid={&#x27;depth&#x27;: [1, 2, 3], &#x27;eval_metric&#x27;: [&#x27;AUC&#x27;],\n",
       "                         &#x27;iterations&#x27;: [100, 500, 1000],\n",
       "                         &#x27;l2_leaf_reg&#x27;: [1, 2, 3],\n",
       "                         &#x27;learning_rate&#x27;: [0.1, 0.3, 0.5],\n",
       "                         &#x27;loss_function&#x27;: [&#x27;CrossEntropy&#x27;]},\n",
       "             scoring=&#x27;roc_auc&#x27;)</pre></div></div></div><div class=\"sk-parallel\"><div class=\"sk-parallel-item\"><div class=\"sk-item\"><div class=\"sk-label-container\"><div class=\"sk-label sk-toggleable\"><input class=\"sk-toggleable__control sk-hidden--visually\" id=\"sk-estimator-id-5\" type=\"checkbox\" ><label for=\"sk-estimator-id-5\" class=\"sk-toggleable__label sk-toggleable__label-arrow\">estimator: CatBoostClassifier</label><div class=\"sk-toggleable__content\"><pre>&lt;catboost.core.CatBoostClassifier object at 0x000001C07508C640&gt;</pre></div></div></div><div class=\"sk-serial\"><div class=\"sk-item\"><div class=\"sk-estimator sk-toggleable\"><input class=\"sk-toggleable__control sk-hidden--visually\" id=\"sk-estimator-id-6\" type=\"checkbox\" ><label for=\"sk-estimator-id-6\" class=\"sk-toggleable__label sk-toggleable__label-arrow\">CatBoostClassifier</label><div class=\"sk-toggleable__content\"><pre>&lt;catboost.core.CatBoostClassifier object at 0x000001C07508C640&gt;</pre></div></div></div></div></div></div></div></div></div></div>"
      ],
      "text/plain": [
       "GridSearchCV(cv=5,\n",
       "             estimator=<catboost.core.CatBoostClassifier object at 0x000001C07508C640>,\n",
       "             param_grid={'depth': [1, 2, 3], 'eval_metric': ['AUC'],\n",
       "                         'iterations': [100, 500, 1000],\n",
       "                         'l2_leaf_reg': [1, 2, 3],\n",
       "                         'learning_rate': [0.1, 0.3, 0.5],\n",
       "                         'loss_function': ['CrossEntropy']},\n",
       "             scoring='roc_auc')"
      ]
     },
     "execution_count": 104,
     "metadata": {},
     "output_type": "execute_result"
    }
   ],
   "source": [
    "%%time\n",
    "search_cb.fit(X_train_merged, y_train)"
   ]
  },
  {
   "cell_type": "code",
   "execution_count": 105,
   "id": "93d987cd",
   "metadata": {},
   "outputs": [
    {
     "name": "stdout",
     "output_type": "stream",
     "text": [
      "model params:  {'depth': 2, 'eval_metric': 'AUC', 'iterations': 500, 'l2_leaf_reg': 1, 'learning_rate': 0.5, 'loss_function': 'CrossEntropy'}\n",
      "roc_auc для модели CatBoost на кросс валидации: 0.927\n"
     ]
    }
   ],
   "source": [
    "print('model params: ', search_cb.best_params_)\n",
    "print(f\"roc_auc для модели CatBoost на кросс валидации: {search_cb.best_score_:.3f}\")"
   ]
  },
  {
   "cell_type": "code",
   "execution_count": 106,
   "id": "2da0727c",
   "metadata": {},
   "outputs": [
    {
     "name": "stdout",
     "output_type": "stream",
     "text": [
      "accuracy для модели Random Forest на кросс-валидации: 0.805\n"
     ]
    }
   ],
   "source": [
    "accuracy_cb = cross_val_score(model_cb, X_train_merged, y_train, cv=5, scoring='accuracy').mean()\n",
    "print(f\"accuracy для модели Random Forest на кросс-валидации: {accuracy_lr:.3f}\")"
   ]
  },
  {
   "cell_type": "markdown",
   "id": "7b3ab06a",
   "metadata": {},
   "source": [
    "## CatBoost Model на тестовой выборке"
   ]
  },
  {
   "cell_type": "code",
   "execution_count": 107,
   "id": "a988f087",
   "metadata": {},
   "outputs": [
    {
     "name": "stdout",
     "output_type": "stream",
     "text": [
      "roc_auc для модели CatBoost на тестовой выборке: 0.944\n"
     ]
    }
   ],
   "source": [
    "roc_auc_cb_t = roc_auc_score(y_test, search_cb.predict_proba(X_test_merged)[:, 1])\n",
    "print(f\"roc_auc для модели CatBoost на тестовой выборке: {roc_auc_cb_t:.3f}\")"
   ]
  },
  {
   "cell_type": "code",
   "execution_count": 108,
   "id": "3f20c051",
   "metadata": {},
   "outputs": [
    {
     "name": "stdout",
     "output_type": "stream",
     "text": [
      "accuracy для модели CatBoost на валидационной выборке: 0.899\n"
     ]
    }
   ],
   "source": [
    "accuracy_cb_t = accuracy_score(y_test, search_cb.predict(X_test_merged))\n",
    "print(f\"accuracy для модели CatBoost на валидационной выборке: {accuracy_cb_t:.3f}\")"
   ]
  },
  {
   "cell_type": "markdown",
   "id": "b14f1c59",
   "metadata": {},
   "source": [
    "### График ROC-кривой"
   ]
  },
  {
   "cell_type": "code",
   "execution_count": 109,
   "id": "706b67c3",
   "metadata": {},
   "outputs": [],
   "source": [
    "pred_test = search_cb.predict_proba(X_test_merged)[:, 1]"
   ]
  },
  {
   "cell_type": "code",
   "execution_count": 110,
   "id": "30ddf196",
   "metadata": {},
   "outputs": [
    {
     "data": {
      "image/png": "[encoded data removed]",
      "text/plain": [
       "<Figure size 432x288 with 1 Axes>"
      ]
     },
     "metadata": {
      "needs_background": "light"
     },
     "output_type": "display_data"
    }
   ],
   "source": [
    "fpr, tpr, thresholds = roc_curve(y_test, pred_test)\n",
    "\n",
    "plt.figure()\n",
    "plt.plot(fpr, tpr)\n",
    "plt.plot([0, 1], [0, 1], linestyle='--')\n",
    "plt.xlim([0.0, 1.0])\n",
    "plt.ylim([0.0, 1.0])\n",
    "plt.xlabel('False Positive Rate')\n",
    "plt.ylabel('True Positive Rate')\n",
    "plt.title('ROC-curve')\n",
    "plt.show()"
   ]
  },
  {
   "cell_type": "markdown",
   "id": "1d657c41",
   "metadata": {},
   "source": [
    "Рассмотрим долю вклада каждого признака в итоговое предсказание."
   ]
  },
  {
   "cell_type": "code",
   "execution_count": 111,
   "id": "28720846",
   "metadata": {},
   "outputs": [
    {
     "data": {
      "text/html": [
       "<style type=\"text/css\">\n",
       "#T_5b00b_row0_col1 {\n",
       "  width: 10em;\n",
       "  height: 80%;\n",
       "  background: linear-gradient(90deg,#d65f5f 100.0%, transparent 100.0%);\n",
       "}\n",
       "#T_5b00b_row1_col1 {\n",
       "  width: 10em;\n",
       "  height: 80%;\n",
       "  background: linear-gradient(90deg,#d65f5f 10.0%, transparent 10.0%);\n",
       "}\n",
       "#T_5b00b_row2_col1 {\n",
       "  width: 10em;\n",
       "  height: 80%;\n",
       "  background: linear-gradient(90deg,#d65f5f 6.4%, transparent 6.4%);\n",
       "}\n",
       "#T_5b00b_row3_col1 {\n",
       "  width: 10em;\n",
       "  height: 80%;\n",
       "  background: linear-gradient(90deg,#d65f5f 3.4%, transparent 3.4%);\n",
       "}\n",
       "#T_5b00b_row4_col1 {\n",
       "  width: 10em;\n",
       "  height: 80%;\n",
       "  background: linear-gradient(90deg,#d65f5f 3.3%, transparent 3.3%);\n",
       "}\n",
       "#T_5b00b_row5_col1 {\n",
       "  width: 10em;\n",
       "  height: 80%;\n",
       "  background: linear-gradient(90deg,#d65f5f 2.6%, transparent 2.6%);\n",
       "}\n",
       "#T_5b00b_row6_col1 {\n",
       "  width: 10em;\n",
       "  height: 80%;\n",
       "  background: linear-gradient(90deg,#d65f5f 1.3%, transparent 1.3%);\n",
       "}\n",
       "#T_5b00b_row7_col1 {\n",
       "  width: 10em;\n",
       "  height: 80%;\n",
       "  background: linear-gradient(90deg,#d65f5f 1.0%, transparent 1.0%);\n",
       "}\n",
       "#T_5b00b_row8_col1, #T_5b00b_row9_col1, #T_5b00b_row10_col1, #T_5b00b_row11_col1 {\n",
       "  width: 10em;\n",
       "  height: 80%;\n",
       "  background: linear-gradient(90deg,#d65f5f 0.5%, transparent 0.5%);\n",
       "}\n",
       "#T_5b00b_row12_col1, #T_5b00b_row13_col1 {\n",
       "  width: 10em;\n",
       "  height: 80%;\n",
       "  background: linear-gradient(90deg,#d65f5f 0.4%, transparent 0.4%);\n",
       "}\n",
       "#T_5b00b_row14_col1, #T_5b00b_row15_col1, #T_5b00b_row16_col1, #T_5b00b_row17_col1 {\n",
       "  width: 10em;\n",
       "  height: 80%;\n",
       "  background: linear-gradient(90deg,#d65f5f 0.3%, transparent 0.3%);\n",
       "}\n",
       "#T_5b00b_row18_col1 {\n",
       "  width: 10em;\n",
       "  height: 80%;\n",
       "  background: linear-gradient(90deg,#d65f5f 0.2%, transparent 0.2%);\n",
       "}\n",
       "#T_5b00b_row19_col1, #T_5b00b_row20_col1, #T_5b00b_row21_col1, #T_5b00b_row22_col1, #T_5b00b_row23_col1, #T_5b00b_row24_col1 {\n",
       "  width: 10em;\n",
       "  height: 80%;\n",
       "  background: linear-gradient(90deg,#d65f5f 0.1%, transparent 0.1%);\n",
       "}\n",
       "#T_5b00b_row25_col1, #T_5b00b_row26_col1 {\n",
       "  width: 10em;\n",
       "  height: 80%;\n",
       "  background: linear-gradient(90deg,#d65f5f 0.0%, transparent 0.0%);\n",
       "}\n",
       "#T_5b00b_row27_col1 {\n",
       "  width: 10em;\n",
       "  height: 80%;\n",
       "}\n",
       "</style>\n",
       "<table id=\"T_5b00b_\">\n",
       "  <thead>\n",
       "    <tr>\n",
       "      <th class=\"blank level0\" >&nbsp;</th>\n",
       "      <th class=\"col_heading level0 col0\" >feature</th>\n",
       "      <th class=\"col_heading level0 col1\" >percent</th>\n",
       "    </tr>\n",
       "  </thead>\n",
       "  <tbody>\n",
       "    <tr>\n",
       "      <th id=\"T_5b00b_level0_row0\" class=\"row_heading level0 row0\" >0</th>\n",
       "      <td id=\"T_5b00b_row0_col0\" class=\"data row0 col0\" >valid_period</td>\n",
       "      <td id=\"T_5b00b_row0_col1\" class=\"data row0 col1\" >75.014937</td>\n",
       "    </tr>\n",
       "    <tr>\n",
       "      <th id=\"T_5b00b_level0_row1\" class=\"row_heading level0 row1\" >1</th>\n",
       "      <td id=\"T_5b00b_row1_col0\" class=\"data row1 col0\" >TotalCharges</td>\n",
       "      <td id=\"T_5b00b_row1_col1\" class=\"data row1 col1\" >7.485918</td>\n",
       "    </tr>\n",
       "    <tr>\n",
       "      <th id=\"T_5b00b_level0_row2\" class=\"row_heading level0 row2\" >2</th>\n",
       "      <td id=\"T_5b00b_row2_col0\" class=\"data row2 col0\" >MonthlyCharges</td>\n",
       "      <td id=\"T_5b00b_row2_col1\" class=\"data row2 col1\" >4.803077</td>\n",
       "    </tr>\n",
       "    <tr>\n",
       "      <th id=\"T_5b00b_level0_row3\" class=\"row_heading level0 row3\" >3</th>\n",
       "      <td id=\"T_5b00b_row3_col0\" class=\"data row3 col0\" >fiber_optic_1</td>\n",
       "      <td id=\"T_5b00b_row3_col1\" class=\"data row3 col1\" >2.598741</td>\n",
       "    </tr>\n",
       "    <tr>\n",
       "      <th id=\"T_5b00b_level0_row4\" class=\"row_heading level0 row4\" >4</th>\n",
       "      <td id=\"T_5b00b_row4_col0\" class=\"data row4 col0\" >OnlineSecurity_0</td>\n",
       "      <td id=\"T_5b00b_row4_col1\" class=\"data row4 col1\" >2.509480</td>\n",
       "    </tr>\n",
       "    <tr>\n",
       "      <th id=\"T_5b00b_level0_row5\" class=\"row_heading level0 row5\" >5</th>\n",
       "      <td id=\"T_5b00b_row5_col0\" class=\"data row5 col0\" >Type_Two year</td>\n",
       "      <td id=\"T_5b00b_row5_col1\" class=\"data row5 col1\" >1.990497</td>\n",
       "    </tr>\n",
       "    <tr>\n",
       "      <th id=\"T_5b00b_level0_row6\" class=\"row_heading level0 row6\" >6</th>\n",
       "      <td id=\"T_5b00b_row6_col0\" class=\"data row6 col0\" >TechSupport_0</td>\n",
       "      <td id=\"T_5b00b_row6_col1\" class=\"data row6 col1\" >0.955537</td>\n",
       "    </tr>\n",
       "    <tr>\n",
       "      <th id=\"T_5b00b_level0_row7\" class=\"row_heading level0 row7\" >7</th>\n",
       "      <td id=\"T_5b00b_row7_col0\" class=\"data row7 col0\" >Type_One year</td>\n",
       "      <td id=\"T_5b00b_row7_col1\" class=\"data row7 col1\" >0.769813</td>\n",
       "    </tr>\n",
       "    <tr>\n",
       "      <th id=\"T_5b00b_level0_row8\" class=\"row_heading level0 row8\" >8</th>\n",
       "      <td id=\"T_5b00b_row8_col0\" class=\"data row8 col0\" >PaymentMethod_Mailed check</td>\n",
       "      <td id=\"T_5b00b_row8_col1\" class=\"data row8 col1\" >0.427039</td>\n",
       "    </tr>\n",
       "    <tr>\n",
       "      <th id=\"T_5b00b_level0_row9\" class=\"row_heading level0 row9\" >9</th>\n",
       "      <td id=\"T_5b00b_row9_col0\" class=\"data row9 col0\" >PaymentMethod_Electronic check</td>\n",
       "      <td id=\"T_5b00b_row9_col1\" class=\"data row9 col1\" >0.425245</td>\n",
       "    </tr>\n",
       "    <tr>\n",
       "      <th id=\"T_5b00b_level0_row10\" class=\"row_heading level0 row10\" >10</th>\n",
       "      <td id=\"T_5b00b_row10_col0\" class=\"data row10 col0\" >SeniorCitizen_1</td>\n",
       "      <td id=\"T_5b00b_row10_col1\" class=\"data row10 col1\" >0.414857</td>\n",
       "    </tr>\n",
       "    <tr>\n",
       "      <th id=\"T_5b00b_level0_row11\" class=\"row_heading level0 row11\" >11</th>\n",
       "      <td id=\"T_5b00b_row11_col0\" class=\"data row11 col0\" >StreamingTV_1</td>\n",
       "      <td id=\"T_5b00b_row11_col1\" class=\"data row11 col1\" >0.355281</td>\n",
       "    </tr>\n",
       "    <tr>\n",
       "      <th id=\"T_5b00b_level0_row12\" class=\"row_heading level0 row12\" >12</th>\n",
       "      <td id=\"T_5b00b_row12_col0\" class=\"data row12 col0\" >PaymentMethod_Credit card (automatic)</td>\n",
       "      <td id=\"T_5b00b_row12_col1\" class=\"data row12 col1\" >0.337325</td>\n",
       "    </tr>\n",
       "    <tr>\n",
       "      <th id=\"T_5b00b_level0_row13\" class=\"row_heading level0 row13\" >13</th>\n",
       "      <td id=\"T_5b00b_row13_col0\" class=\"data row13 col0\" >PaperlessBilling_1</td>\n",
       "      <td id=\"T_5b00b_row13_col1\" class=\"data row13 col1\" >0.316938</td>\n",
       "    </tr>\n",
       "    <tr>\n",
       "      <th id=\"T_5b00b_level0_row14\" class=\"row_heading level0 row14\" >14</th>\n",
       "      <td id=\"T_5b00b_row14_col0\" class=\"data row14 col0\" >OnlineSecurity_1</td>\n",
       "      <td id=\"T_5b00b_row14_col1\" class=\"data row14 col1\" >0.228249</td>\n",
       "    </tr>\n",
       "    <tr>\n",
       "      <th id=\"T_5b00b_level0_row15\" class=\"row_heading level0 row15\" >15</th>\n",
       "      <td id=\"T_5b00b_row15_col0\" class=\"data row15 col0\" >Partner_1</td>\n",
       "      <td id=\"T_5b00b_row15_col1\" class=\"data row15 col1\" >0.210675</td>\n",
       "    </tr>\n",
       "    <tr>\n",
       "      <th id=\"T_5b00b_level0_row16\" class=\"row_heading level0 row16\" >16</th>\n",
       "      <td id=\"T_5b00b_row16_col0\" class=\"data row16 col0\" >Dependents_1</td>\n",
       "      <td id=\"T_5b00b_row16_col1\" class=\"data row16 col1\" >0.204606</td>\n",
       "    </tr>\n",
       "    <tr>\n",
       "      <th id=\"T_5b00b_level0_row17\" class=\"row_heading level0 row17\" >17</th>\n",
       "      <td id=\"T_5b00b_row17_col0\" class=\"data row17 col0\" >StreamingMovies_1</td>\n",
       "      <td id=\"T_5b00b_row17_col1\" class=\"data row17 col1\" >0.203708</td>\n",
       "    </tr>\n",
       "    <tr>\n",
       "      <th id=\"T_5b00b_level0_row18\" class=\"row_heading level0 row18\" >18</th>\n",
       "      <td id=\"T_5b00b_row18_col0\" class=\"data row18 col0\" >MultipleLines_0</td>\n",
       "      <td id=\"T_5b00b_row18_col1\" class=\"data row18 col1\" >0.137173</td>\n",
       "    </tr>\n",
       "    <tr>\n",
       "      <th id=\"T_5b00b_level0_row19\" class=\"row_heading level0 row19\" >19</th>\n",
       "      <td id=\"T_5b00b_row19_col0\" class=\"data row19 col0\" >StreamingTV_0</td>\n",
       "      <td id=\"T_5b00b_row19_col1\" class=\"data row19 col1\" >0.117693</td>\n",
       "    </tr>\n",
       "    <tr>\n",
       "      <th id=\"T_5b00b_level0_row20\" class=\"row_heading level0 row20\" >20</th>\n",
       "      <td id=\"T_5b00b_row20_col0\" class=\"data row20 col0\" >MultipleLines_1</td>\n",
       "      <td id=\"T_5b00b_row20_col1\" class=\"data row20 col1\" >0.089814</td>\n",
       "    </tr>\n",
       "    <tr>\n",
       "      <th id=\"T_5b00b_level0_row21\" class=\"row_heading level0 row21\" >21</th>\n",
       "      <td id=\"T_5b00b_row21_col0\" class=\"data row21 col0\" >DeviceProtection_1</td>\n",
       "      <td id=\"T_5b00b_row21_col1\" class=\"data row21 col1\" >0.084141</td>\n",
       "    </tr>\n",
       "    <tr>\n",
       "      <th id=\"T_5b00b_level0_row22\" class=\"row_heading level0 row22\" >22</th>\n",
       "      <td id=\"T_5b00b_row22_col0\" class=\"data row22 col0\" >TechSupport_1</td>\n",
       "      <td id=\"T_5b00b_row22_col1\" class=\"data row22 col1\" >0.080092</td>\n",
       "    </tr>\n",
       "    <tr>\n",
       "      <th id=\"T_5b00b_level0_row23\" class=\"row_heading level0 row23\" >23</th>\n",
       "      <td id=\"T_5b00b_row23_col0\" class=\"data row23 col0\" >StreamingMovies_0</td>\n",
       "      <td id=\"T_5b00b_row23_col1\" class=\"data row23 col1\" >0.077935</td>\n",
       "    </tr>\n",
       "    <tr>\n",
       "      <th id=\"T_5b00b_level0_row24\" class=\"row_heading level0 row24\" >24</th>\n",
       "      <td id=\"T_5b00b_row24_col0\" class=\"data row24 col0\" >OnlineBackup_1</td>\n",
       "      <td id=\"T_5b00b_row24_col1\" class=\"data row24 col1\" >0.072236</td>\n",
       "    </tr>\n",
       "    <tr>\n",
       "      <th id=\"T_5b00b_level0_row25\" class=\"row_heading level0 row25\" >25</th>\n",
       "      <td id=\"T_5b00b_row25_col0\" class=\"data row25 col0\" >fiber_optic_0</td>\n",
       "      <td id=\"T_5b00b_row25_col1\" class=\"data row25 col1\" >0.050017</td>\n",
       "    </tr>\n",
       "    <tr>\n",
       "      <th id=\"T_5b00b_level0_row26\" class=\"row_heading level0 row26\" >26</th>\n",
       "      <td id=\"T_5b00b_row26_col0\" class=\"data row26 col0\" >DeviceProtection_0</td>\n",
       "      <td id=\"T_5b00b_row26_col1\" class=\"data row26 col1\" >0.022773</td>\n",
       "    </tr>\n",
       "    <tr>\n",
       "      <th id=\"T_5b00b_level0_row27\" class=\"row_heading level0 row27\" >27</th>\n",
       "      <td id=\"T_5b00b_row27_col0\" class=\"data row27 col0\" >OnlineBackup_0</td>\n",
       "      <td id=\"T_5b00b_row27_col1\" class=\"data row27 col1\" >0.016202</td>\n",
       "    </tr>\n",
       "  </tbody>\n",
       "</table>\n"
      ],
      "text/plain": [
       "<pandas.io.formats.style.Styler at 0x1c075204280>"
      ]
     },
     "execution_count": 111,
     "metadata": {},
     "output_type": "execute_result"
    }
   ],
   "source": [
    "feat_import = pd.DataFrame(data = {'feature': X_train_merged.columns, 'percent': search_cb.best_estimator_.feature_importances_})\n",
    "feat_import.sort_values('percent', ascending=False).reset_index(drop=True).style.bar()"
   ]
  },
  {
   "cell_type": "markdown",
   "id": "3e6260f1",
   "metadata": {},
   "source": [
    "## Общий вывод"
   ]
  },
  {
   "cell_type": "markdown",
   "id": "5fb326a2",
   "metadata": {},
   "source": [
    "* Проведён анализ признаков. Можно сказать, что основное удорожание происходит при подключении интернета, и доп. услуг, которые открываются при подключении интернета, также услуга телефонии мультиканальной линии. Также в значительной мере на стоимость оплаты влияет тип оплаты, ежемесячный самый невыгодный (оптом дешевле). Самый невыгодный сценарий для клиента, это ежемесячная оплата, пользование и телефонией, и интернетом и большое количество подключенных дополнительный функций.\n",
    "* Построена матрица корреляции и отобраны наиболее релевантные для модели признаки.\n",
    "* Выполнено кодирование признаков методом One-Hot Encoding.\n",
    "* Для модели Логистической регрессии выполнено масштабирование количественных данных.\n",
    "- Обучены различные модели бинарной классификации для предсказания оттока клиентов. Использовались метрики roc_auc и accuracy.  \n",
    " \n",
    "| модель | roc_auc | accuracy |  \n",
    "|:------|:----------:|:--------:|  \n",
    "| base-line | 0.5 | 0.735 |  \n",
    "| Логистическая регрессия | 0.843| 0.805 |  \n",
    "| Random Forest |0.855 | 0.805 |  \n",
    "| CatBoost | 0.927 | 0.805 |  \n",
    "| CatBoost test | **0.944** | 0.899 | \n",
    "  \n",
    "- Наилучшее качество предсказания показала модель градиентного бустинга (CatBoost). **roc_auc = 0.944** на тестовой выборке, accuracy = 0.899  \n",
    "- Наибольший вклад в предсказание модели вносят признаки:\n",
    "    - `valid_period` - количество дней действия договора\n",
    "    - `TotalCharges` - общая сумма платежей за всё время услуг\n",
    "    - `MonthlyCharges` - ежемесячный платёж за услуги.    \n",
    "    - `fiber_optic` - использование оптоволокна при подключении к интернету\n",
    "    - `OnlineSecurity` - использование доп. услуги по блокировке небезопасных сайтов\n",
    "    - `Type_Two year` - тип платежа: раз в два года\n",
    "    - `TechSupport` - использование доп. услуги выделенной линия технической поддержки\n",
    "    - `Type_One year` - тип платежа: раз в год "
   ]
  },
  {
   "cell_type": "markdown",
   "id": "24f28c66",
   "metadata": {},
   "source": [
    "## Отчёт по финальному проекту."
   ]
  },
  {
   "cell_type": "markdown",
   "id": "2fe3afc8",
   "metadata": {},
   "source": [
    "Было выполнено: \n",
    "* **Загрузка данных**.\n",
    "* **Предобработка данных**: \n",
    "    * Поменянные типы данных у признаков `BeginDate`, `EndDate` - на `datetime64` и `MonthlyCharges`, `TotalCharges` на `float`, пропуски в признаке `TotalCharges` в виде значений `‘ ’` были заменены на значения признака `MonthlyCharges`, т.к. дата заключения договора, у таких клиентов, совпадает с датой выгрузки данных, и скорее всего они оплатили услуги за месяц вперед. Доля таких пользователей 0,16 %. \n",
    "    * Сгенерированы дополнительные признаки `begin_days` и ` end_days` с количеством дней от даты выгрузки (1 февраля 2020 года) до даты начала контракта и до даты окончания контракта, соответственно, признаки `BeginDate`, `EndDate` удалены. На основе признака ` end_days` сгенерирован целевой признак `churn`, означающий факт ухода клиента: 1 - клиент ушел, 0 - остался.\n",
    "    * Заменен столбец `InternetService` со значениями `Fiber optic/DSL` на столбец `fiber_optic` со значениями `1/0`.\n",
    "    * Добавлен вспомогательные признака ` Internet ` и `Phone` для выделения клиентов пользующимися услугами интернета и телефонии соответственно. На основе этих признаков выведен еще один вспомогательный признак `type_service` показывающий, чем пользуется клиент: только телефония, только интернет, обе услуги.\n",
    "    * В признаках всех начальных датафреймов с бинарными значениями `Yes/No`, значения заменены на `1/0`.\n",
    "    * Начальные датафреймы объединены в один, из-за разного количества строк, в объединенном датафрейме образовались пропуски. Пропуски были заполнены значением `(-1)`. Была произведена оптимизация типов данных `int` методом `pd.to_numeric(df[columnn], downcast='integer')`.\n",
    "* **Анализ данных**:\n",
    "    * выполнен графический анализ влияния признаков на отток:\n",
    "        * построены графики методом `sns.violinplot(x='churn', y='MonthlyCharges', data=df)`; y= 'TotalCharges'; y= ' begin_days';\n",
    "        * построены графики методом `sns.countplot(x='PaymentMethod', hue='churn', data=df)`; x= 'Type'; x= 'fiber_optic'; x= 'StreamingTV'; x= 'StreamingMovies'; x= 'MultipleLines'; x= 'gender'; x= 'type_service'.\n",
    "        * построены гистограммы: \n",
    "            * ежемесячных траты ушедших и оставшихся клиентов (в одних осях)\n",
    "            * количество пользователей интернета и количество пользователей телефонии (в одних осях)\n",
    "            * количество пользователей интернета и количество пользователей телефонии (в одних осях) при ежемесячных затратах < 30 у.е.         \n",
    "    * Построена матрица корреляции количественных признаков `'MonthlyCharges', 'TotalCharges', 'begin_days'`.\n",
    "    * Был добавлен признак `valid_period` = `begin_days` - `end_days`, количество дней пользования сервисами.\n",
    "    * Удалены признаки, которые могут негативно повлиять на процесс обучения моделей. `'begin_days', 'end_days', 'gender', 'Internet', 'Phone','type_service'`.\n",
    "    * Обозначены количественные и категориальные признаки `num_columns` и `cat_columns`.\n",
    "\n",
    "* **Подготовка данных к обучению моделей**:\n",
    "    * Признаки для обучения моделей: 'Type', 'PaperlessBilling', 'PaymentMethod', 'MonthlyCharges',\n",
    "       'TotalCharges', 'SeniorCitizen', 'Partner', 'Dependents',\n",
    "       'OnlineSecurity', 'OnlineBackup', 'DeviceProtection', 'TechSupport',\n",
    "       'StreamingTV', 'StreamingMovies', 'fiber_optic', 'MultipleLines',\n",
    "       'valid_period'\n",
    "    * Целевой признак: 'churn'\n",
    "    * Для всех моделей мамашиного обучения задан парметр random_state=171022 \n",
    "\n",
    "    * Установлен баланс классов. Выполнено разделение на обучающую и тестовую выборки в соотношении 3:1. При разделении учтем баланс классов целевого признака. Применена техника One-Hot Encoding для кодирования признаков. Обучен кодировщик на выборке train на категориальных признаках `cat_columns`, затем преобразованы выборки train и test и объединены с количественными признаками.\n",
    "\n",
    "* **Обучение моделей**:\n",
    "     * В качестве **base-line** моделей используем константную модель (все объекты класса 0, соответствующего оставшимся клиентам). Найдены метрики roc_auc и accuracy для константной модели.\n",
    "     * **Логистическая регрессия**, выполнено масштабирование признаков инструментом RobustScaler() на копиях выборок train и test. Найдены метрики roc_auc и accuracy на кросс-валидации.\n",
    "     * **Модель RandomForest**. Лучшие параметры для модели Random Forest подобраны с помощью GridSearchCV. Найдены метрики roc_auc и accuracy на кросс-валидации. Параметры, задаваемые вручную: \n",
    "         * param_grid = { \n",
    "                          'n_estimators': [300],\n",
    "                          'max_depth': [5, 7, 9],\n",
    "                          'max_features': [3, 5, 7],\n",
    "                          'min_samples_split': [2, 4, 6],\n",
    "                          'min_samples_leaf': [2, 4, 6],\n",
    "                         }\n",
    "         * model_rf = RandomForestClassifier(random_state=171022)\n",
    "         * grid_search_rf = GridSearchCV(estimator = model_rf,\n",
    "                                         param_grid = param_grid,\n",
    "                                         cv = 3,\n",
    "                                         n_jobs = -1,\n",
    "                                         verbose = 2,\n",
    "                                         scoring = 'roc_auc',\n",
    "                                         )\n",
    "     * **Модель CatBoost**. Лучшие параметры для модели CatBoost подобраны с помощью GridSearchCV. Найдены метрики roc_auc и accuracy на кросс-валидации. Параметры, задаваемые вручную:\n",
    "         * param_grid =  {\n",
    "                         'learning_rate': [0.1, 0.3, 0.5],\n",
    "                         'iterations': [100, 500, 1000],\n",
    "                         'l2_leaf_reg': [1, 2, 3],\n",
    "                         'depth': [1, 2, 3]\n",
    "                         'loss_function' :['CrossEntropy'],\n",
    "                         'eval_metric' : ['AUC']\n",
    "                         }\n",
    "         * model_cb = CatBoostClassifier(random_state=171022, verbose=0)\n",
    "         * search_cb = GridSearchCV(estimator = model_cb,\n",
    "                                         param_grid = param_grid,\n",
    "                                         cv=5,\n",
    "                                         scoring='roc_auc'\n",
    "                                         )\n",
    "\n",
    "* **CatBoost Model на тестовой выборке**. Найдены метрики roc_auc и accuracy на тестовой выборке.\n",
    "* Построен **график ROC-кривой** для модели **CatBoost на тестовой выборке**. Рассмотрены доли вклада каждого признака в итоговое предсказание. Для наглядности данные отображены методом style.bar()   "
   ]
  }
 ],
 "metadata": {
  "ExecuteTimeLog": [
   {
    "duration": 2022,
    "start_time": "2022-10-27T12:39:18.679Z"
   },
   {
    "duration": 476,
    "start_time": "2022-10-27T12:39:20.703Z"
   },
   {
    "duration": 13,
    "start_time": "2022-10-27T12:39:22.210Z"
   },
   {
    "duration": 20,
    "start_time": "2022-10-27T12:39:22.532Z"
   },
   {
    "duration": 5,
    "start_time": "2022-10-27T12:39:22.692Z"
   },
   {
    "duration": 9,
    "start_time": "2022-10-27T12:39:22.986Z"
   },
   {
    "duration": 11,
    "start_time": "2022-10-27T12:39:23.135Z"
   },
   {
    "duration": 4,
    "start_time": "2022-10-27T12:39:23.428Z"
   },
   {
    "duration": 2,
    "start_time": "2022-10-27T12:39:23.713Z"
   },
   {
    "duration": 14,
    "start_time": "2022-10-27T12:39:24.290Z"
   },
   {
    "duration": 5,
    "start_time": "2022-10-27T12:39:24.460Z"
   },
   {
    "duration": 5,
    "start_time": "2022-10-27T12:39:24.753Z"
   },
   {
    "duration": 5,
    "start_time": "2022-10-27T12:39:25.673Z"
   },
   {
    "duration": 6,
    "start_time": "2022-10-27T12:39:25.978Z"
   },
   {
    "duration": 17,
    "start_time": "2022-10-27T12:39:26.138Z"
   },
   {
    "duration": 6,
    "start_time": "2022-10-27T12:39:26.737Z"
   },
   {
    "duration": 2,
    "start_time": "2022-10-27T12:39:27.231Z"
   },
   {
    "duration": 5,
    "start_time": "2022-10-27T12:39:27.377Z"
   },
   {
    "duration": 2,
    "start_time": "2022-10-27T12:39:28.034Z"
   },
   {
    "duration": 5,
    "start_time": "2022-10-27T12:39:28.186Z"
   },
   {
    "duration": 5,
    "start_time": "2022-10-27T12:39:28.506Z"
   },
   {
    "duration": 7,
    "start_time": "2022-10-27T12:39:28.834Z"
   },
   {
    "duration": 6,
    "start_time": "2022-10-27T12:39:29.163Z"
   },
   {
    "duration": 6,
    "start_time": "2022-10-27T12:39:29.481Z"
   },
   {
    "duration": 5,
    "start_time": "2022-10-27T12:39:29.649Z"
   },
   {
    "duration": 9,
    "start_time": "2022-10-27T12:39:30.138Z"
   },
   {
    "duration": 21,
    "start_time": "2022-10-27T12:39:30.474Z"
   },
   {
    "duration": 11,
    "start_time": "2022-10-27T12:39:30.769Z"
   },
   {
    "duration": 8,
    "start_time": "2022-10-27T12:39:31.089Z"
   },
   {
    "duration": 5,
    "start_time": "2022-10-27T12:39:31.880Z"
   },
   {
    "duration": 34,
    "start_time": "2022-10-27T12:39:31.886Z"
   },
   {
    "duration": 18,
    "start_time": "2022-10-27T12:39:31.922Z"
   },
   {
    "duration": 7,
    "start_time": "2022-10-27T12:39:32.231Z"
   },
   {
    "duration": 7,
    "start_time": "2022-10-27T12:39:32.436Z"
   },
   {
    "duration": 15,
    "start_time": "2022-10-27T12:39:32.753Z"
   },
   {
    "duration": 10,
    "start_time": "2022-10-27T12:39:33.097Z"
   },
   {
    "duration": 23,
    "start_time": "2022-10-27T12:39:33.266Z"
   },
   {
    "duration": 5,
    "start_time": "2022-10-27T12:39:33.578Z"
   },
   {
    "duration": 7,
    "start_time": "2022-10-27T12:39:33.938Z"
   },
   {
    "duration": 13,
    "start_time": "2022-10-27T12:39:34.258Z"
   },
   {
    "duration": 9,
    "start_time": "2022-10-27T12:39:34.438Z"
   },
   {
    "duration": 5,
    "start_time": "2022-10-27T12:39:34.609Z"
   },
   {
    "duration": 3,
    "start_time": "2022-10-27T12:39:34.931Z"
   },
   {
    "duration": 12,
    "start_time": "2022-10-27T12:39:35.105Z"
   },
   {
    "duration": 9,
    "start_time": "2022-10-27T12:39:35.442Z"
   },
   {
    "duration": 6,
    "start_time": "2022-10-27T12:39:35.786Z"
   },
   {
    "duration": 4,
    "start_time": "2022-10-27T12:39:35.946Z"
   },
   {
    "duration": 10,
    "start_time": "2022-10-27T12:39:36.131Z"
   },
   {
    "duration": 4,
    "start_time": "2022-10-27T12:39:36.457Z"
   },
   {
    "duration": 3,
    "start_time": "2022-10-27T12:39:37.049Z"
   },
   {
    "duration": 6,
    "start_time": "2022-10-27T12:39:37.229Z"
   },
   {
    "duration": 16,
    "start_time": "2022-10-27T12:39:44.147Z"
   },
   {
    "duration": 15,
    "start_time": "2022-10-27T12:39:44.355Z"
   },
   {
    "duration": 9,
    "start_time": "2022-10-27T12:39:45.090Z"
   },
   {
    "duration": 6,
    "start_time": "2022-10-27T12:39:50.298Z"
   },
   {
    "duration": 8,
    "start_time": "2022-10-27T12:39:50.538Z"
   },
   {
    "duration": 33,
    "start_time": "2022-10-27T12:39:51.315Z"
   },
   {
    "duration": 9,
    "start_time": "2022-10-27T12:39:51.762Z"
   },
   {
    "duration": 13,
    "start_time": "2022-10-27T12:39:51.935Z"
   },
   {
    "duration": 53,
    "start_time": "2022-10-27T12:39:52.290Z"
   },
   {
    "duration": 166,
    "start_time": "2022-10-27T12:39:52.490Z"
   },
   {
    "duration": 145,
    "start_time": "2022-10-27T12:39:53.674Z"
   },
   {
    "duration": 169,
    "start_time": "2022-10-27T12:39:54.066Z"
   },
   {
    "duration": 187,
    "start_time": "2022-10-27T12:39:54.458Z"
   },
   {
    "duration": 148,
    "start_time": "2022-10-27T12:39:54.809Z"
   },
   {
    "duration": 135,
    "start_time": "2022-10-27T12:39:55.753Z"
   },
   {
    "duration": 129,
    "start_time": "2022-10-27T12:39:56.650Z"
   },
   {
    "duration": 148,
    "start_time": "2022-10-27T12:39:57.170Z"
   },
   {
    "duration": 161,
    "start_time": "2022-10-27T12:39:57.970Z"
   },
   {
    "duration": 118,
    "start_time": "2022-10-27T12:39:58.507Z"
   },
   {
    "duration": 11,
    "start_time": "2022-10-27T12:39:58.907Z"
   },
   {
    "duration": 163,
    "start_time": "2022-10-27T12:40:02.314Z"
   },
   {
    "duration": 163,
    "start_time": "2022-10-27T12:40:03.250Z"
   },
   {
    "duration": 6,
    "start_time": "2022-10-27T12:40:04.498Z"
   },
   {
    "duration": 21,
    "start_time": "2022-10-27T12:40:05.978Z"
   },
   {
    "duration": 163,
    "start_time": "2022-10-27T12:40:08.803Z"
   },
   {
    "duration": 8,
    "start_time": "2022-10-27T12:40:09.938Z"
   },
   {
    "duration": 155,
    "start_time": "2022-10-27T12:40:10.098Z"
   },
   {
    "duration": 386,
    "start_time": "2022-10-27T12:40:10.987Z"
   },
   {
    "duration": 9,
    "start_time": "2022-10-27T12:40:12.698Z"
   },
   {
    "duration": 5,
    "start_time": "2022-10-27T12:40:13.538Z"
   },
   {
    "duration": 13,
    "start_time": "2022-10-27T12:40:14.059Z"
   },
   {
    "duration": 3,
    "start_time": "2022-10-27T12:40:15.138Z"
   },
   {
    "duration": 6,
    "start_time": "2022-10-27T12:40:17.858Z"
   },
   {
    "duration": 4,
    "start_time": "2022-10-27T12:40:21.033Z"
   },
   {
    "duration": 11,
    "start_time": "2022-10-27T12:40:22.275Z"
   },
   {
    "duration": 5,
    "start_time": "2022-10-27T12:40:23.155Z"
   },
   {
    "duration": 125,
    "start_time": "2022-10-27T12:40:30.939Z"
   },
   {
    "duration": 8,
    "start_time": "2022-10-27T12:40:48.645Z"
   },
   {
    "duration": 23,
    "start_time": "2022-10-27T12:40:49.556Z"
   },
   {
    "duration": 30,
    "start_time": "2022-10-27T12:40:53.660Z"
   },
   {
    "duration": 18,
    "start_time": "2022-10-27T12:41:18.174Z"
   },
   {
    "duration": 42,
    "start_time": "2022-10-27T12:41:26.358Z"
   },
   {
    "duration": 4,
    "start_time": "2022-10-27T12:42:13.329Z"
   },
   {
    "duration": 13,
    "start_time": "2022-10-27T12:42:14.248Z"
   },
   {
    "duration": 22,
    "start_time": "2022-10-27T12:42:19.088Z"
   },
   {
    "duration": 6,
    "start_time": "2022-10-27T12:42:25.519Z"
   },
   {
    "duration": 21,
    "start_time": "2022-10-27T12:42:26.543Z"
   },
   {
    "duration": 1574,
    "start_time": "2022-10-27T13:21:08.681Z"
   },
   {
    "duration": 325,
    "start_time": "2022-10-27T13:21:10.257Z"
   },
   {
    "duration": 12,
    "start_time": "2022-10-27T13:21:10.584Z"
   },
   {
    "duration": 15,
    "start_time": "2022-10-27T13:21:10.598Z"
   },
   {
    "duration": 6,
    "start_time": "2022-10-27T13:21:10.614Z"
   },
   {
    "duration": 9,
    "start_time": "2022-10-27T13:21:10.621Z"
   },
   {
    "duration": 8,
    "start_time": "2022-10-27T13:21:10.631Z"
   },
   {
    "duration": 8,
    "start_time": "2022-10-27T13:21:10.640Z"
   },
   {
    "duration": 5,
    "start_time": "2022-10-27T13:21:10.649Z"
   },
   {
    "duration": 14,
    "start_time": "2022-10-27T13:21:10.656Z"
   },
   {
    "duration": 4,
    "start_time": "2022-10-27T13:21:10.671Z"
   },
   {
    "duration": 11,
    "start_time": "2022-10-27T13:21:10.677Z"
   },
   {
    "duration": 8,
    "start_time": "2022-10-27T13:21:10.689Z"
   },
   {
    "duration": 7,
    "start_time": "2022-10-27T13:21:10.698Z"
   },
   {
    "duration": 26,
    "start_time": "2022-10-27T13:21:10.706Z"
   },
   {
    "duration": 8,
    "start_time": "2022-10-27T13:21:10.733Z"
   },
   {
    "duration": 7,
    "start_time": "2022-10-27T13:21:10.743Z"
   },
   {
    "duration": 8,
    "start_time": "2022-10-27T13:21:10.752Z"
   },
   {
    "duration": 5,
    "start_time": "2022-10-27T13:21:10.761Z"
   },
   {
    "duration": 7,
    "start_time": "2022-10-27T13:21:10.767Z"
   },
   {
    "duration": 6,
    "start_time": "2022-10-27T13:21:10.775Z"
   },
   {
    "duration": 8,
    "start_time": "2022-10-27T13:21:10.782Z"
   },
   {
    "duration": 7,
    "start_time": "2022-10-27T13:21:10.791Z"
   },
   {
    "duration": 23,
    "start_time": "2022-10-27T13:21:10.799Z"
   },
   {
    "duration": 5,
    "start_time": "2022-10-27T13:21:10.823Z"
   },
   {
    "duration": 13,
    "start_time": "2022-10-27T13:21:10.829Z"
   },
   {
    "duration": 19,
    "start_time": "2022-10-27T13:21:10.844Z"
   },
   {
    "duration": 9,
    "start_time": "2022-10-27T13:21:10.866Z"
   },
   {
    "duration": 8,
    "start_time": "2022-10-27T13:21:10.877Z"
   },
   {
    "duration": 37,
    "start_time": "2022-10-27T13:21:10.886Z"
   },
   {
    "duration": 19,
    "start_time": "2022-10-27T13:21:10.924Z"
   },
   {
    "duration": 6,
    "start_time": "2022-10-27T13:21:10.945Z"
   },
   {
    "duration": 8,
    "start_time": "2022-10-27T13:21:10.952Z"
   },
   {
    "duration": 11,
    "start_time": "2022-10-27T13:21:10.961Z"
   },
   {
    "duration": 13,
    "start_time": "2022-10-27T13:21:10.974Z"
   },
   {
    "duration": 37,
    "start_time": "2022-10-27T13:21:10.988Z"
   },
   {
    "duration": 34,
    "start_time": "2022-10-27T13:21:11.027Z"
   },
   {
    "duration": 10,
    "start_time": "2022-10-27T13:21:11.063Z"
   },
   {
    "duration": 11,
    "start_time": "2022-10-27T13:21:11.074Z"
   },
   {
    "duration": 15,
    "start_time": "2022-10-27T13:21:11.087Z"
   },
   {
    "duration": 7,
    "start_time": "2022-10-27T13:21:11.104Z"
   },
   {
    "duration": 27,
    "start_time": "2022-10-27T13:21:11.112Z"
   },
   {
    "duration": 9,
    "start_time": "2022-10-27T13:21:11.140Z"
   },
   {
    "duration": 12,
    "start_time": "2022-10-27T13:21:11.151Z"
   },
   {
    "duration": 9,
    "start_time": "2022-10-27T13:21:11.164Z"
   },
   {
    "duration": 7,
    "start_time": "2022-10-27T13:21:11.174Z"
   },
   {
    "duration": 5,
    "start_time": "2022-10-27T13:21:11.183Z"
   },
   {
    "duration": 11,
    "start_time": "2022-10-27T13:21:11.190Z"
   },
   {
    "duration": 7,
    "start_time": "2022-10-27T13:21:11.203Z"
   },
   {
    "duration": 11,
    "start_time": "2022-10-27T13:21:11.211Z"
   },
   {
    "duration": 11,
    "start_time": "2022-10-27T13:21:11.223Z"
   },
   {
    "duration": 12,
    "start_time": "2022-10-27T13:21:11.236Z"
   },
   {
    "duration": 13,
    "start_time": "2022-10-27T13:21:11.249Z"
   },
   {
    "duration": 8,
    "start_time": "2022-10-27T13:21:11.263Z"
   },
   {
    "duration": 5,
    "start_time": "2022-10-27T13:21:11.273Z"
   },
   {
    "duration": 7,
    "start_time": "2022-10-27T13:21:11.279Z"
   },
   {
    "duration": 80,
    "start_time": "2022-10-27T13:21:11.287Z"
   },
   {
    "duration": 11,
    "start_time": "2022-10-27T13:21:11.369Z"
   },
   {
    "duration": 13,
    "start_time": "2022-10-27T13:21:11.381Z"
   },
   {
    "duration": 70,
    "start_time": "2022-10-27T13:21:11.396Z"
   },
   {
    "duration": 150,
    "start_time": "2022-10-27T13:21:11.467Z"
   },
   {
    "duration": 154,
    "start_time": "2022-10-27T13:21:11.618Z"
   },
   {
    "duration": 240,
    "start_time": "2022-10-27T13:21:11.773Z"
   },
   {
    "duration": 138,
    "start_time": "2022-10-27T13:21:12.015Z"
   },
   {
    "duration": 124,
    "start_time": "2022-10-27T13:21:12.155Z"
   },
   {
    "duration": 146,
    "start_time": "2022-10-27T13:21:12.280Z"
   },
   {
    "duration": 160,
    "start_time": "2022-10-27T13:21:12.428Z"
   },
   {
    "duration": 159,
    "start_time": "2022-10-27T13:21:12.590Z"
   },
   {
    "duration": 139,
    "start_time": "2022-10-27T13:21:12.751Z"
   },
   {
    "duration": 132,
    "start_time": "2022-10-27T13:21:12.892Z"
   },
   {
    "duration": 12,
    "start_time": "2022-10-27T13:21:13.026Z"
   },
   {
    "duration": 176,
    "start_time": "2022-10-27T13:21:13.039Z"
   },
   {
    "duration": 153,
    "start_time": "2022-10-27T13:21:13.223Z"
   },
   {
    "duration": 6,
    "start_time": "2022-10-27T13:21:13.378Z"
   },
   {
    "duration": 18,
    "start_time": "2022-10-27T13:21:13.385Z"
   },
   {
    "duration": 164,
    "start_time": "2022-10-27T13:21:13.405Z"
   },
   {
    "duration": 8,
    "start_time": "2022-10-27T13:21:13.570Z"
   },
   {
    "duration": 146,
    "start_time": "2022-10-27T13:21:13.580Z"
   },
   {
    "duration": 426,
    "start_time": "2022-10-27T13:21:13.728Z"
   },
   {
    "duration": 6,
    "start_time": "2022-10-27T13:21:14.158Z"
   },
   {
    "duration": 17,
    "start_time": "2022-10-27T13:21:14.165Z"
   },
   {
    "duration": 14,
    "start_time": "2022-10-27T13:21:14.187Z"
   },
   {
    "duration": 7,
    "start_time": "2022-10-27T13:21:14.202Z"
   },
   {
    "duration": 11,
    "start_time": "2022-10-27T13:21:14.211Z"
   },
   {
    "duration": 3,
    "start_time": "2022-10-27T13:21:14.223Z"
   },
   {
    "duration": 10,
    "start_time": "2022-10-27T13:21:14.228Z"
   },
   {
    "duration": 4,
    "start_time": "2022-10-27T13:21:14.239Z"
   },
   {
    "duration": 9,
    "start_time": "2022-10-27T13:21:14.245Z"
   },
   {
    "duration": 27,
    "start_time": "2022-10-27T13:21:14.256Z"
   },
   {
    "duration": 4,
    "start_time": "2022-10-27T13:21:14.284Z"
   },
   {
    "duration": 34,
    "start_time": "2022-10-27T13:21:14.289Z"
   },
   {
    "duration": 24,
    "start_time": "2022-10-27T13:21:14.324Z"
   },
   {
    "duration": 9,
    "start_time": "2022-10-27T13:21:14.349Z"
   },
   {
    "duration": 24,
    "start_time": "2022-10-27T13:21:14.359Z"
   },
   {
    "duration": 17,
    "start_time": "2022-10-27T13:21:14.385Z"
   },
   {
    "duration": 36,
    "start_time": "2022-10-27T13:21:14.403Z"
   },
   {
    "duration": 4,
    "start_time": "2022-10-27T13:21:14.441Z"
   },
   {
    "duration": 25,
    "start_time": "2022-10-27T13:21:14.446Z"
   },
   {
    "duration": 25,
    "start_time": "2022-10-27T13:21:14.472Z"
   },
   {
    "duration": 6,
    "start_time": "2022-10-27T13:21:14.499Z"
   },
   {
    "duration": 26,
    "start_time": "2022-10-27T13:21:14.506Z"
   },
   {
    "duration": 7,
    "start_time": "2022-10-27T13:21:14.534Z"
   },
   {
    "duration": 24,
    "start_time": "2022-10-27T13:21:14.543Z"
   },
   {
    "duration": 15,
    "start_time": "2022-10-27T13:21:14.568Z"
   },
   {
    "duration": 4,
    "start_time": "2022-10-27T13:21:14.584Z"
   },
   {
    "duration": 50,
    "start_time": "2022-10-27T13:21:14.590Z"
   },
   {
    "duration": 12,
    "start_time": "2022-10-27T13:21:14.642Z"
   },
   {
    "duration": 3,
    "start_time": "2022-10-27T13:21:14.655Z"
   },
   {
    "duration": 18,
    "start_time": "2022-10-27T13:21:14.659Z"
   },
   {
    "duration": 44,
    "start_time": "2022-10-27T13:21:14.679Z"
   },
   {
    "duration": 5107,
    "start_time": "2022-10-27T13:21:14.724Z"
   },
   {
    "duration": 89,
    "start_time": "2022-10-27T13:21:19.834Z"
   },
   {
    "duration": 198001,
    "start_time": "2022-10-27T13:21:19.925Z"
   },
   {
    "duration": 3,
    "start_time": "2022-10-27T13:24:37.927Z"
   },
   {
    "duration": 192,
    "start_time": "2022-10-27T13:24:37.932Z"
   },
   {
    "duration": 110,
    "start_time": "2022-10-27T13:24:38.126Z"
   },
   {
    "duration": 0,
    "start_time": "2022-10-27T13:24:38.238Z"
   },
   {
    "duration": 0,
    "start_time": "2022-10-27T13:24:38.239Z"
   },
   {
    "duration": 0,
    "start_time": "2022-10-27T13:24:38.240Z"
   },
   {
    "duration": 0,
    "start_time": "2022-10-27T13:24:38.240Z"
   },
   {
    "duration": 0,
    "start_time": "2022-10-27T13:24:38.241Z"
   },
   {
    "duration": 0,
    "start_time": "2022-10-27T13:24:38.242Z"
   },
   {
    "duration": 0,
    "start_time": "2022-10-27T13:24:38.244Z"
   },
   {
    "duration": 0,
    "start_time": "2022-10-27T13:24:38.245Z"
   },
   {
    "duration": 0,
    "start_time": "2022-10-27T13:24:38.249Z"
   },
   {
    "duration": 0,
    "start_time": "2022-10-27T13:24:38.251Z"
   },
   {
    "duration": 0,
    "start_time": "2022-10-27T13:24:38.252Z"
   },
   {
    "duration": 0,
    "start_time": "2022-10-27T13:24:38.254Z"
   },
   {
    "duration": 0,
    "start_time": "2022-10-27T13:24:38.257Z"
   },
   {
    "duration": 0,
    "start_time": "2022-10-27T13:24:38.259Z"
   },
   {
    "duration": 0,
    "start_time": "2022-10-27T13:24:38.260Z"
   },
   {
    "duration": 0,
    "start_time": "2022-10-27T13:24:38.262Z"
   },
   {
    "duration": 2042,
    "start_time": "2022-10-27T13:36:21.906Z"
   },
   {
    "duration": 1534,
    "start_time": "2022-10-27T13:36:55.612Z"
   },
   {
    "duration": 133,
    "start_time": "2022-10-27T13:36:57.148Z"
   },
   {
    "duration": 13,
    "start_time": "2022-10-27T13:36:57.282Z"
   },
   {
    "duration": 36,
    "start_time": "2022-10-27T13:36:57.297Z"
   },
   {
    "duration": 19,
    "start_time": "2022-10-27T13:36:57.335Z"
   },
   {
    "duration": 40,
    "start_time": "2022-10-27T13:36:57.356Z"
   },
   {
    "duration": 25,
    "start_time": "2022-10-27T13:36:57.397Z"
   },
   {
    "duration": 25,
    "start_time": "2022-10-27T13:36:57.423Z"
   },
   {
    "duration": 45,
    "start_time": "2022-10-27T13:36:57.450Z"
   },
   {
    "duration": 38,
    "start_time": "2022-10-27T13:36:57.497Z"
   },
   {
    "duration": 31,
    "start_time": "2022-10-27T13:36:57.536Z"
   },
   {
    "duration": 39,
    "start_time": "2022-10-27T13:36:57.568Z"
   },
   {
    "duration": 24,
    "start_time": "2022-10-27T13:36:57.609Z"
   },
   {
    "duration": 34,
    "start_time": "2022-10-27T13:36:57.635Z"
   },
   {
    "duration": 59,
    "start_time": "2022-10-27T13:36:57.670Z"
   },
   {
    "duration": 60,
    "start_time": "2022-10-27T13:36:57.730Z"
   },
   {
    "duration": 17,
    "start_time": "2022-10-27T13:36:57.792Z"
   },
   {
    "duration": 24,
    "start_time": "2022-10-27T13:36:57.810Z"
   },
   {
    "duration": 33,
    "start_time": "2022-10-27T13:36:57.837Z"
   },
   {
    "duration": 28,
    "start_time": "2022-10-27T13:36:57.872Z"
   },
   {
    "duration": 17,
    "start_time": "2022-10-27T13:36:57.901Z"
   },
   {
    "duration": 42,
    "start_time": "2022-10-27T13:36:57.919Z"
   },
   {
    "duration": 28,
    "start_time": "2022-10-27T13:36:57.962Z"
   },
   {
    "duration": 25,
    "start_time": "2022-10-27T13:36:57.992Z"
   },
   {
    "duration": 32,
    "start_time": "2022-10-27T13:36:58.018Z"
   },
   {
    "duration": 38,
    "start_time": "2022-10-27T13:36:58.052Z"
   },
   {
    "duration": 57,
    "start_time": "2022-10-27T13:36:58.092Z"
   },
   {
    "duration": 9,
    "start_time": "2022-10-27T13:36:58.153Z"
   },
   {
    "duration": 19,
    "start_time": "2022-10-27T13:36:58.163Z"
   },
   {
    "duration": 39,
    "start_time": "2022-10-27T13:36:58.183Z"
   },
   {
    "duration": 45,
    "start_time": "2022-10-27T13:36:58.224Z"
   },
   {
    "duration": 19,
    "start_time": "2022-10-27T13:36:58.271Z"
   },
   {
    "duration": 20,
    "start_time": "2022-10-27T13:36:58.291Z"
   },
   {
    "duration": 33,
    "start_time": "2022-10-27T13:36:58.312Z"
   },
   {
    "duration": 34,
    "start_time": "2022-10-27T13:36:58.346Z"
   },
   {
    "duration": 27,
    "start_time": "2022-10-27T13:36:58.382Z"
   },
   {
    "duration": 36,
    "start_time": "2022-10-27T13:36:58.411Z"
   },
   {
    "duration": 13,
    "start_time": "2022-10-27T13:36:58.449Z"
   },
   {
    "duration": 24,
    "start_time": "2022-10-27T13:36:58.463Z"
   },
   {
    "duration": 48,
    "start_time": "2022-10-27T13:36:58.489Z"
   },
   {
    "duration": 29,
    "start_time": "2022-10-27T13:36:58.538Z"
   },
   {
    "duration": 34,
    "start_time": "2022-10-27T13:36:58.569Z"
   },
   {
    "duration": 19,
    "start_time": "2022-10-27T13:36:58.605Z"
   },
   {
    "duration": 24,
    "start_time": "2022-10-27T13:36:58.625Z"
   },
   {
    "duration": 41,
    "start_time": "2022-10-27T13:36:58.650Z"
   },
   {
    "duration": 27,
    "start_time": "2022-10-27T13:36:58.692Z"
   },
   {
    "duration": 37,
    "start_time": "2022-10-27T13:36:58.721Z"
   },
   {
    "duration": 39,
    "start_time": "2022-10-27T13:36:58.760Z"
   },
   {
    "duration": 18,
    "start_time": "2022-10-27T13:36:58.801Z"
   },
   {
    "duration": 38,
    "start_time": "2022-10-27T13:36:58.820Z"
   },
   {
    "duration": 20,
    "start_time": "2022-10-27T13:36:58.860Z"
   },
   {
    "duration": 38,
    "start_time": "2022-10-27T13:36:58.882Z"
   },
   {
    "duration": 31,
    "start_time": "2022-10-27T13:36:58.922Z"
   },
   {
    "duration": 40,
    "start_time": "2022-10-27T13:36:58.955Z"
   },
   {
    "duration": 26,
    "start_time": "2022-10-27T13:36:58.997Z"
   },
   {
    "duration": 28,
    "start_time": "2022-10-27T13:36:59.025Z"
   },
   {
    "duration": 51,
    "start_time": "2022-10-27T13:36:59.055Z"
   },
   {
    "duration": 19,
    "start_time": "2022-10-27T13:36:59.107Z"
   },
   {
    "duration": 38,
    "start_time": "2022-10-27T13:36:59.128Z"
   },
   {
    "duration": 53,
    "start_time": "2022-10-27T13:36:59.167Z"
   },
   {
    "duration": 128,
    "start_time": "2022-10-27T13:36:59.222Z"
   },
   {
    "duration": 133,
    "start_time": "2022-10-27T13:36:59.352Z"
   },
   {
    "duration": 149,
    "start_time": "2022-10-27T13:36:59.487Z"
   },
   {
    "duration": 187,
    "start_time": "2022-10-27T13:36:59.637Z"
   },
   {
    "duration": 132,
    "start_time": "2022-10-27T13:36:59.825Z"
   },
   {
    "duration": 138,
    "start_time": "2022-10-27T13:36:59.958Z"
   },
   {
    "duration": 146,
    "start_time": "2022-10-27T13:37:00.098Z"
   },
   {
    "duration": 139,
    "start_time": "2022-10-27T13:37:00.246Z"
   },
   {
    "duration": 121,
    "start_time": "2022-10-27T13:37:00.387Z"
   },
   {
    "duration": 121,
    "start_time": "2022-10-27T13:37:00.510Z"
   },
   {
    "duration": 11,
    "start_time": "2022-10-27T13:37:00.633Z"
   },
   {
    "duration": 154,
    "start_time": "2022-10-27T13:37:00.645Z"
   },
   {
    "duration": 151,
    "start_time": "2022-10-27T13:37:00.800Z"
   },
   {
    "duration": 6,
    "start_time": "2022-10-27T13:37:00.953Z"
   },
   {
    "duration": 18,
    "start_time": "2022-10-27T13:37:00.961Z"
   },
   {
    "duration": 165,
    "start_time": "2022-10-27T13:37:00.981Z"
   },
   {
    "duration": 7,
    "start_time": "2022-10-27T13:37:01.147Z"
   },
   {
    "duration": 146,
    "start_time": "2022-10-27T13:37:01.156Z"
   },
   {
    "duration": 306,
    "start_time": "2022-10-27T13:37:01.304Z"
   },
   {
    "duration": 12,
    "start_time": "2022-10-27T13:37:01.612Z"
   },
   {
    "duration": 36,
    "start_time": "2022-10-27T13:37:01.626Z"
   },
   {
    "duration": 36,
    "start_time": "2022-10-27T13:37:01.668Z"
   },
   {
    "duration": 25,
    "start_time": "2022-10-27T13:37:01.705Z"
   },
   {
    "duration": 69,
    "start_time": "2022-10-27T13:37:01.732Z"
   },
   {
    "duration": 60,
    "start_time": "2022-10-27T13:37:01.803Z"
   },
   {
    "duration": 25,
    "start_time": "2022-10-27T13:37:01.865Z"
   },
   {
    "duration": 34,
    "start_time": "2022-10-27T13:37:01.892Z"
   },
   {
    "duration": 51,
    "start_time": "2022-10-27T13:37:01.928Z"
   },
   {
    "duration": 51,
    "start_time": "2022-10-27T13:37:01.981Z"
   },
   {
    "duration": 12,
    "start_time": "2022-10-27T13:37:02.034Z"
   },
   {
    "duration": 101,
    "start_time": "2022-10-27T13:37:02.047Z"
   },
   {
    "duration": 48,
    "start_time": "2022-10-27T13:37:02.150Z"
   },
   {
    "duration": 24,
    "start_time": "2022-10-27T13:37:02.200Z"
   },
   {
    "duration": 48,
    "start_time": "2022-10-27T13:37:02.226Z"
   },
   {
    "duration": 26,
    "start_time": "2022-10-27T13:37:02.276Z"
   },
   {
    "duration": 40,
    "start_time": "2022-10-27T13:37:02.304Z"
   },
   {
    "duration": 30,
    "start_time": "2022-10-27T13:37:02.346Z"
   },
   {
    "duration": 38,
    "start_time": "2022-10-27T13:37:02.378Z"
   },
   {
    "duration": 53,
    "start_time": "2022-10-27T13:37:02.417Z"
   },
   {
    "duration": 30,
    "start_time": "2022-10-27T13:37:02.472Z"
   },
   {
    "duration": 40,
    "start_time": "2022-10-27T13:37:02.504Z"
   },
   {
    "duration": 28,
    "start_time": "2022-10-27T13:37:02.546Z"
   },
   {
    "duration": 58,
    "start_time": "2022-10-27T13:37:02.576Z"
   },
   {
    "duration": 24,
    "start_time": "2022-10-27T13:37:02.636Z"
   },
   {
    "duration": 25,
    "start_time": "2022-10-27T13:37:02.661Z"
   },
   {
    "duration": 48,
    "start_time": "2022-10-27T13:37:02.687Z"
   },
   {
    "duration": 22,
    "start_time": "2022-10-27T13:37:02.738Z"
   },
   {
    "duration": 21,
    "start_time": "2022-10-27T13:37:02.762Z"
   },
   {
    "duration": 19,
    "start_time": "2022-10-27T13:37:02.784Z"
   },
   {
    "duration": 26,
    "start_time": "2022-10-27T13:37:02.804Z"
   },
   {
    "duration": 5194,
    "start_time": "2022-10-27T13:37:02.831Z"
   },
   {
    "duration": 95,
    "start_time": "2022-10-27T13:37:08.027Z"
   },
   {
    "duration": 194601,
    "start_time": "2022-10-27T13:37:08.124Z"
   },
   {
    "duration": 3,
    "start_time": "2022-10-27T13:40:22.726Z"
   },
   {
    "duration": 192,
    "start_time": "2022-10-27T13:40:22.731Z"
   },
   {
    "duration": 2070,
    "start_time": "2022-10-27T13:40:22.924Z"
   },
   {
    "duration": 112,
    "start_time": "2022-10-27T13:40:24.996Z"
   },
   {
    "duration": 0,
    "start_time": "2022-10-27T13:40:25.110Z"
   },
   {
    "duration": 0,
    "start_time": "2022-10-27T13:40:25.112Z"
   },
   {
    "duration": 0,
    "start_time": "2022-10-27T13:40:25.113Z"
   },
   {
    "duration": 0,
    "start_time": "2022-10-27T13:40:25.114Z"
   },
   {
    "duration": 0,
    "start_time": "2022-10-27T13:40:25.122Z"
   },
   {
    "duration": 0,
    "start_time": "2022-10-27T13:40:25.123Z"
   },
   {
    "duration": 0,
    "start_time": "2022-10-27T13:40:25.124Z"
   },
   {
    "duration": 0,
    "start_time": "2022-10-27T13:40:25.125Z"
   },
   {
    "duration": 1,
    "start_time": "2022-10-27T13:40:25.126Z"
   },
   {
    "duration": 0,
    "start_time": "2022-10-27T13:40:25.128Z"
   },
   {
    "duration": 0,
    "start_time": "2022-10-27T13:40:25.129Z"
   },
   {
    "duration": 0,
    "start_time": "2022-10-27T13:40:25.130Z"
   },
   {
    "duration": 0,
    "start_time": "2022-10-27T13:40:25.131Z"
   },
   {
    "duration": 0,
    "start_time": "2022-10-27T13:40:25.132Z"
   },
   {
    "duration": 0,
    "start_time": "2022-10-27T13:40:25.133Z"
   },
   {
    "duration": 0,
    "start_time": "2022-10-27T13:40:25.134Z"
   },
   {
    "duration": 1368,
    "start_time": "2022-10-27T13:48:01.779Z"
   },
   {
    "duration": 125,
    "start_time": "2022-10-27T13:48:03.150Z"
   },
   {
    "duration": 12,
    "start_time": "2022-10-27T13:48:03.277Z"
   },
   {
    "duration": 33,
    "start_time": "2022-10-27T13:48:03.292Z"
   },
   {
    "duration": 28,
    "start_time": "2022-10-27T13:48:03.327Z"
   },
   {
    "duration": 11,
    "start_time": "2022-10-27T13:48:03.357Z"
   },
   {
    "duration": 25,
    "start_time": "2022-10-27T13:48:03.369Z"
   },
   {
    "duration": 21,
    "start_time": "2022-10-27T13:48:03.395Z"
   },
   {
    "duration": 23,
    "start_time": "2022-10-27T13:48:03.417Z"
   },
   {
    "duration": 19,
    "start_time": "2022-10-27T13:48:03.442Z"
   },
   {
    "duration": 14,
    "start_time": "2022-10-27T13:48:03.462Z"
   },
   {
    "duration": 9,
    "start_time": "2022-10-27T13:48:03.477Z"
   },
   {
    "duration": 19,
    "start_time": "2022-10-27T13:48:03.488Z"
   },
   {
    "duration": 23,
    "start_time": "2022-10-27T13:48:03.509Z"
   },
   {
    "duration": 17,
    "start_time": "2022-10-27T13:48:03.534Z"
   },
   {
    "duration": 23,
    "start_time": "2022-10-27T13:48:03.552Z"
   },
   {
    "duration": 23,
    "start_time": "2022-10-27T13:48:03.577Z"
   },
   {
    "duration": 29,
    "start_time": "2022-10-27T13:48:03.602Z"
   },
   {
    "duration": 22,
    "start_time": "2022-10-27T13:48:03.632Z"
   },
   {
    "duration": 28,
    "start_time": "2022-10-27T13:48:03.655Z"
   },
   {
    "duration": 19,
    "start_time": "2022-10-27T13:48:03.685Z"
   },
   {
    "duration": 31,
    "start_time": "2022-10-27T13:48:03.705Z"
   },
   {
    "duration": 18,
    "start_time": "2022-10-27T13:48:03.737Z"
   },
   {
    "duration": 25,
    "start_time": "2022-10-27T13:48:03.756Z"
   },
   {
    "duration": 20,
    "start_time": "2022-10-27T13:48:03.783Z"
   },
   {
    "duration": 29,
    "start_time": "2022-10-27T13:48:03.805Z"
   },
   {
    "duration": 31,
    "start_time": "2022-10-27T13:48:03.836Z"
   },
   {
    "duration": 19,
    "start_time": "2022-10-27T13:48:03.872Z"
   },
   {
    "duration": 14,
    "start_time": "2022-10-27T13:48:03.893Z"
   },
   {
    "duration": 30,
    "start_time": "2022-10-27T13:48:03.908Z"
   },
   {
    "duration": 25,
    "start_time": "2022-10-27T13:48:03.939Z"
   },
   {
    "duration": 20,
    "start_time": "2022-10-27T13:48:03.965Z"
   },
   {
    "duration": 15,
    "start_time": "2022-10-27T13:48:03.986Z"
   },
   {
    "duration": 25,
    "start_time": "2022-10-27T13:48:04.002Z"
   },
   {
    "duration": 22,
    "start_time": "2022-10-27T13:48:04.028Z"
   },
   {
    "duration": 40,
    "start_time": "2022-10-27T13:48:04.052Z"
   },
   {
    "duration": 43,
    "start_time": "2022-10-27T13:48:04.094Z"
   },
   {
    "duration": 32,
    "start_time": "2022-10-27T13:48:04.139Z"
   },
   {
    "duration": 17,
    "start_time": "2022-10-27T13:48:04.173Z"
   },
   {
    "duration": 40,
    "start_time": "2022-10-27T13:48:04.191Z"
   },
   {
    "duration": 43,
    "start_time": "2022-10-27T13:48:04.233Z"
   },
   {
    "duration": 14,
    "start_time": "2022-10-27T13:48:04.278Z"
   },
   {
    "duration": 37,
    "start_time": "2022-10-27T13:48:04.294Z"
   },
   {
    "duration": 29,
    "start_time": "2022-10-27T13:48:04.333Z"
   },
   {
    "duration": 29,
    "start_time": "2022-10-27T13:48:04.364Z"
   },
   {
    "duration": 27,
    "start_time": "2022-10-27T13:48:04.395Z"
   },
   {
    "duration": 28,
    "start_time": "2022-10-27T13:48:04.423Z"
   },
   {
    "duration": 40,
    "start_time": "2022-10-27T13:48:04.453Z"
   },
   {
    "duration": 17,
    "start_time": "2022-10-27T13:48:04.494Z"
   },
   {
    "duration": 14,
    "start_time": "2022-10-27T13:48:04.512Z"
   },
   {
    "duration": 29,
    "start_time": "2022-10-27T13:48:04.527Z"
   },
   {
    "duration": 30,
    "start_time": "2022-10-27T13:48:04.558Z"
   },
   {
    "duration": 29,
    "start_time": "2022-10-27T13:48:04.589Z"
   },
   {
    "duration": 30,
    "start_time": "2022-10-27T13:48:04.619Z"
   },
   {
    "duration": 18,
    "start_time": "2022-10-27T13:48:04.650Z"
   },
   {
    "duration": 33,
    "start_time": "2022-10-27T13:48:04.669Z"
   },
   {
    "duration": 53,
    "start_time": "2022-10-27T13:48:04.704Z"
   },
   {
    "duration": 10,
    "start_time": "2022-10-27T13:48:04.758Z"
   },
   {
    "duration": 25,
    "start_time": "2022-10-27T13:48:04.769Z"
   },
   {
    "duration": 60,
    "start_time": "2022-10-27T13:48:04.795Z"
   },
   {
    "duration": 139,
    "start_time": "2022-10-27T13:48:04.857Z"
   },
   {
    "duration": 148,
    "start_time": "2022-10-27T13:48:04.997Z"
   },
   {
    "duration": 159,
    "start_time": "2022-10-27T13:48:05.147Z"
   },
   {
    "duration": 199,
    "start_time": "2022-10-27T13:48:05.307Z"
   },
   {
    "duration": 127,
    "start_time": "2022-10-27T13:48:05.508Z"
   },
   {
    "duration": 149,
    "start_time": "2022-10-27T13:48:05.637Z"
   },
   {
    "duration": 138,
    "start_time": "2022-10-27T13:48:05.788Z"
   },
   {
    "duration": 138,
    "start_time": "2022-10-27T13:48:05.927Z"
   },
   {
    "duration": 135,
    "start_time": "2022-10-27T13:48:06.066Z"
   },
   {
    "duration": 125,
    "start_time": "2022-10-27T13:48:06.203Z"
   },
   {
    "duration": 11,
    "start_time": "2022-10-27T13:48:06.330Z"
   },
   {
    "duration": 173,
    "start_time": "2022-10-27T13:48:06.342Z"
   },
   {
    "duration": 149,
    "start_time": "2022-10-27T13:48:06.521Z"
   },
   {
    "duration": 6,
    "start_time": "2022-10-27T13:48:06.672Z"
   },
   {
    "duration": 42,
    "start_time": "2022-10-27T13:48:06.680Z"
   },
   {
    "duration": 173,
    "start_time": "2022-10-27T13:48:06.724Z"
   },
   {
    "duration": 8,
    "start_time": "2022-10-27T13:48:06.898Z"
   },
   {
    "duration": 143,
    "start_time": "2022-10-27T13:48:06.907Z"
   },
   {
    "duration": 304,
    "start_time": "2022-10-27T13:48:07.051Z"
   },
   {
    "duration": 5,
    "start_time": "2022-10-27T13:48:07.357Z"
   },
   {
    "duration": 31,
    "start_time": "2022-10-27T13:48:07.363Z"
   },
   {
    "duration": 47,
    "start_time": "2022-10-27T13:48:07.400Z"
   },
   {
    "duration": 22,
    "start_time": "2022-10-27T13:48:07.448Z"
   },
   {
    "duration": 44,
    "start_time": "2022-10-27T13:48:07.472Z"
   },
   {
    "duration": 45,
    "start_time": "2022-10-27T13:48:07.517Z"
   },
   {
    "duration": 33,
    "start_time": "2022-10-27T13:48:07.564Z"
   },
   {
    "duration": 25,
    "start_time": "2022-10-27T13:48:07.598Z"
   },
   {
    "duration": 43,
    "start_time": "2022-10-27T13:48:07.625Z"
   },
   {
    "duration": 129,
    "start_time": "2022-10-27T13:48:07.669Z"
   },
   {
    "duration": 4,
    "start_time": "2022-10-27T13:48:07.800Z"
   },
   {
    "duration": 44,
    "start_time": "2022-10-27T13:48:07.805Z"
   },
   {
    "duration": 41,
    "start_time": "2022-10-27T13:48:07.851Z"
   },
   {
    "duration": 39,
    "start_time": "2022-10-27T13:48:07.893Z"
   },
   {
    "duration": 38,
    "start_time": "2022-10-27T13:48:07.933Z"
   },
   {
    "duration": 34,
    "start_time": "2022-10-27T13:48:07.973Z"
   },
   {
    "duration": 39,
    "start_time": "2022-10-27T13:48:08.009Z"
   },
   {
    "duration": 7,
    "start_time": "2022-10-27T13:48:08.050Z"
   },
   {
    "duration": 70,
    "start_time": "2022-10-27T13:48:08.058Z"
   },
   {
    "duration": 55,
    "start_time": "2022-10-27T13:48:08.130Z"
   },
   {
    "duration": 21,
    "start_time": "2022-10-27T13:48:08.187Z"
   },
   {
    "duration": 51,
    "start_time": "2022-10-27T13:48:08.210Z"
   },
   {
    "duration": 35,
    "start_time": "2022-10-27T13:48:08.262Z"
   },
   {
    "duration": 54,
    "start_time": "2022-10-27T13:48:08.299Z"
   },
   {
    "duration": 20,
    "start_time": "2022-10-27T13:48:08.355Z"
   },
   {
    "duration": 24,
    "start_time": "2022-10-27T13:48:08.377Z"
   },
   {
    "duration": 66,
    "start_time": "2022-10-27T13:48:08.403Z"
   },
   {
    "duration": 17,
    "start_time": "2022-10-27T13:48:08.471Z"
   },
   {
    "duration": 15,
    "start_time": "2022-10-27T13:48:08.490Z"
   },
   {
    "duration": 58,
    "start_time": "2022-10-27T13:48:08.507Z"
   },
   {
    "duration": 41,
    "start_time": "2022-10-27T13:48:08.567Z"
   },
   {
    "duration": 3514,
    "start_time": "2022-10-27T13:48:08.610Z"
   },
   {
    "duration": 6,
    "start_time": "2022-10-27T13:48:12.126Z"
   },
   {
    "duration": 195677,
    "start_time": "2022-10-27T13:48:12.134Z"
   },
   {
    "duration": 9,
    "start_time": "2022-10-27T13:51:27.813Z"
   },
   {
    "duration": 2095,
    "start_time": "2022-10-27T13:51:27.823Z"
   },
   {
    "duration": 865090,
    "start_time": "2022-10-27T13:51:29.919Z"
   },
   {
    "duration": 113,
    "start_time": "2022-10-27T14:05:55.010Z"
   },
   {
    "duration": 0,
    "start_time": "2022-10-27T14:05:55.124Z"
   },
   {
    "duration": 0,
    "start_time": "2022-10-27T14:05:55.125Z"
   },
   {
    "duration": 0,
    "start_time": "2022-10-27T14:05:55.126Z"
   },
   {
    "duration": 0,
    "start_time": "2022-10-27T14:05:55.127Z"
   },
   {
    "duration": 0,
    "start_time": "2022-10-27T14:05:55.128Z"
   },
   {
    "duration": 0,
    "start_time": "2022-10-27T14:05:55.130Z"
   },
   {
    "duration": 0,
    "start_time": "2022-10-27T14:05:55.131Z"
   },
   {
    "duration": 0,
    "start_time": "2022-10-27T14:05:55.132Z"
   },
   {
    "duration": 0,
    "start_time": "2022-10-27T14:05:55.133Z"
   },
   {
    "duration": 0,
    "start_time": "2022-10-27T14:05:55.134Z"
   },
   {
    "duration": 0,
    "start_time": "2022-10-27T14:05:55.135Z"
   },
   {
    "duration": 0,
    "start_time": "2022-10-27T14:05:55.137Z"
   },
   {
    "duration": 0,
    "start_time": "2022-10-27T14:05:55.138Z"
   },
   {
    "duration": 0,
    "start_time": "2022-10-27T14:05:55.139Z"
   },
   {
    "duration": 0,
    "start_time": "2022-10-27T14:05:55.140Z"
   },
   {
    "duration": 0,
    "start_time": "2022-10-27T14:05:55.141Z"
   },
   {
    "duration": 0,
    "start_time": "2022-10-27T14:05:55.142Z"
   },
   {
    "duration": 9,
    "start_time": "2022-10-27T14:09:17.621Z"
   },
   {
    "duration": 8,
    "start_time": "2022-10-27T14:09:18.059Z"
   },
   {
    "duration": 3,
    "start_time": "2022-10-27T14:09:22.706Z"
   },
   {
    "duration": 2,
    "start_time": "2022-10-27T14:09:23.178Z"
   },
   {
    "duration": 2,
    "start_time": "2022-10-27T14:09:23.668Z"
   },
   {
    "duration": 2,
    "start_time": "2022-10-27T14:09:24.181Z"
   },
   {
    "duration": 2,
    "start_time": "2022-10-27T14:09:25.331Z"
   },
   {
    "duration": 2,
    "start_time": "2022-10-27T14:09:26.226Z"
   },
   {
    "duration": 3,
    "start_time": "2022-10-27T14:09:27.207Z"
   },
   {
    "duration": 53943,
    "start_time": "2022-10-27T14:09:28.094Z"
   },
   {
    "duration": 3,
    "start_time": "2022-10-27T14:10:22.039Z"
   },
   {
    "duration": 32,
    "start_time": "2022-10-27T14:10:22.044Z"
   },
   {
    "duration": 17421,
    "start_time": "2022-10-27T14:10:22.078Z"
   },
   {
    "duration": 268474,
    "start_time": "2022-10-27T14:11:48.376Z"
   },
   {
    "duration": 7,
    "start_time": "2022-10-27T14:16:16.852Z"
   },
   {
    "duration": 12,
    "start_time": "2022-10-27T14:16:16.860Z"
   },
   {
    "duration": 11,
    "start_time": "2022-10-27T14:16:16.874Z"
   },
   {
    "duration": 111,
    "start_time": "2022-10-27T14:16:16.887Z"
   },
   {
    "duration": 48,
    "start_time": "2022-10-27T14:16:16.999Z"
   },
   {
    "duration": 1396,
    "start_time": "2022-10-27T14:19:58.433Z"
   },
   {
    "duration": 130,
    "start_time": "2022-10-27T14:19:59.831Z"
   },
   {
    "duration": 13,
    "start_time": "2022-10-27T14:19:59.962Z"
   },
   {
    "duration": 13,
    "start_time": "2022-10-27T14:19:59.977Z"
   },
   {
    "duration": 4,
    "start_time": "2022-10-27T14:19:59.992Z"
   },
   {
    "duration": 7,
    "start_time": "2022-10-27T14:19:59.998Z"
   },
   {
    "duration": 16,
    "start_time": "2022-10-27T14:20:00.007Z"
   },
   {
    "duration": 3,
    "start_time": "2022-10-27T14:20:00.025Z"
   },
   {
    "duration": 8,
    "start_time": "2022-10-27T14:20:00.030Z"
   },
   {
    "duration": 23,
    "start_time": "2022-10-27T14:20:00.039Z"
   },
   {
    "duration": 8,
    "start_time": "2022-10-27T14:20:00.063Z"
   },
   {
    "duration": 8,
    "start_time": "2022-10-27T14:20:00.072Z"
   },
   {
    "duration": 10,
    "start_time": "2022-10-27T14:20:00.082Z"
   },
   {
    "duration": 15,
    "start_time": "2022-10-27T14:20:00.095Z"
   },
   {
    "duration": 16,
    "start_time": "2022-10-27T14:20:00.111Z"
   },
   {
    "duration": 17,
    "start_time": "2022-10-27T14:20:00.128Z"
   },
   {
    "duration": 11,
    "start_time": "2022-10-27T14:20:00.147Z"
   },
   {
    "duration": 18,
    "start_time": "2022-10-27T14:20:00.159Z"
   },
   {
    "duration": 22,
    "start_time": "2022-10-27T14:20:00.178Z"
   },
   {
    "duration": 23,
    "start_time": "2022-10-27T14:20:00.202Z"
   },
   {
    "duration": 16,
    "start_time": "2022-10-27T14:20:00.226Z"
   },
   {
    "duration": 14,
    "start_time": "2022-10-27T14:20:00.243Z"
   },
   {
    "duration": 20,
    "start_time": "2022-10-27T14:20:00.258Z"
   },
   {
    "duration": 6,
    "start_time": "2022-10-27T14:20:00.279Z"
   },
   {
    "duration": 24,
    "start_time": "2022-10-27T14:20:00.286Z"
   },
   {
    "duration": 21,
    "start_time": "2022-10-27T14:20:00.312Z"
   },
   {
    "duration": 41,
    "start_time": "2022-10-27T14:20:00.335Z"
   },
   {
    "duration": 13,
    "start_time": "2022-10-27T14:20:00.377Z"
   },
   {
    "duration": 7,
    "start_time": "2022-10-27T14:20:00.391Z"
   },
   {
    "duration": 15,
    "start_time": "2022-10-27T14:20:00.399Z"
   },
   {
    "duration": 22,
    "start_time": "2022-10-27T14:20:00.415Z"
   },
   {
    "duration": 4,
    "start_time": "2022-10-27T14:20:00.439Z"
   },
   {
    "duration": 9,
    "start_time": "2022-10-27T14:20:00.444Z"
   },
   {
    "duration": 18,
    "start_time": "2022-10-27T14:20:00.454Z"
   },
   {
    "duration": 19,
    "start_time": "2022-10-27T14:20:00.474Z"
   },
   {
    "duration": 14,
    "start_time": "2022-10-27T14:20:00.495Z"
   },
   {
    "duration": 36,
    "start_time": "2022-10-27T14:20:00.510Z"
   },
   {
    "duration": 13,
    "start_time": "2022-10-27T14:20:00.548Z"
   },
   {
    "duration": 22,
    "start_time": "2022-10-27T14:20:00.562Z"
   },
   {
    "duration": 11,
    "start_time": "2022-10-27T14:20:00.585Z"
   },
   {
    "duration": 20,
    "start_time": "2022-10-27T14:20:00.602Z"
   },
   {
    "duration": 20,
    "start_time": "2022-10-27T14:20:00.624Z"
   },
   {
    "duration": 8,
    "start_time": "2022-10-27T14:20:00.646Z"
   },
   {
    "duration": 33,
    "start_time": "2022-10-27T14:20:00.656Z"
   },
   {
    "duration": 10,
    "start_time": "2022-10-27T14:20:00.690Z"
   },
   {
    "duration": 10,
    "start_time": "2022-10-27T14:20:00.702Z"
   },
   {
    "duration": 17,
    "start_time": "2022-10-27T14:20:00.713Z"
   },
   {
    "duration": 43,
    "start_time": "2022-10-27T14:20:00.732Z"
   },
   {
    "duration": 11,
    "start_time": "2022-10-27T14:20:00.776Z"
   },
   {
    "duration": 8,
    "start_time": "2022-10-27T14:20:00.788Z"
   },
   {
    "duration": 39,
    "start_time": "2022-10-27T14:20:00.798Z"
   },
   {
    "duration": 17,
    "start_time": "2022-10-27T14:20:00.839Z"
   },
   {
    "duration": 13,
    "start_time": "2022-10-27T14:20:00.857Z"
   },
   {
    "duration": 9,
    "start_time": "2022-10-27T14:20:00.872Z"
   },
   {
    "duration": 8,
    "start_time": "2022-10-27T14:20:00.882Z"
   },
   {
    "duration": 16,
    "start_time": "2022-10-27T14:20:00.891Z"
   },
   {
    "duration": 40,
    "start_time": "2022-10-27T14:20:00.909Z"
   },
   {
    "duration": 11,
    "start_time": "2022-10-27T14:20:00.951Z"
   },
   {
    "duration": 14,
    "start_time": "2022-10-27T14:20:00.963Z"
   },
   {
    "duration": 72,
    "start_time": "2022-10-27T14:20:00.979Z"
   },
   {
    "duration": 152,
    "start_time": "2022-10-27T14:20:01.053Z"
   },
   {
    "duration": 152,
    "start_time": "2022-10-27T14:20:01.207Z"
   },
   {
    "duration": 238,
    "start_time": "2022-10-27T14:20:01.360Z"
   },
   {
    "duration": 141,
    "start_time": "2022-10-27T14:20:01.599Z"
   },
   {
    "duration": 140,
    "start_time": "2022-10-27T14:20:01.742Z"
   },
   {
    "duration": 149,
    "start_time": "2022-10-27T14:20:01.884Z"
   },
   {
    "duration": 142,
    "start_time": "2022-10-27T14:20:02.034Z"
   },
   {
    "duration": 145,
    "start_time": "2022-10-27T14:20:02.178Z"
   },
   {
    "duration": 135,
    "start_time": "2022-10-27T14:20:02.325Z"
   },
   {
    "duration": 126,
    "start_time": "2022-10-27T14:20:02.461Z"
   },
   {
    "duration": 11,
    "start_time": "2022-10-27T14:20:02.588Z"
   },
   {
    "duration": 164,
    "start_time": "2022-10-27T14:20:02.601Z"
   },
   {
    "duration": 158,
    "start_time": "2022-10-27T14:20:02.766Z"
   },
   {
    "duration": 6,
    "start_time": "2022-10-27T14:20:02.925Z"
   },
   {
    "duration": 21,
    "start_time": "2022-10-27T14:20:02.933Z"
   },
   {
    "duration": 175,
    "start_time": "2022-10-27T14:20:02.956Z"
   },
   {
    "duration": 8,
    "start_time": "2022-10-27T14:20:03.132Z"
   },
   {
    "duration": 148,
    "start_time": "2022-10-27T14:20:03.141Z"
   },
   {
    "duration": 412,
    "start_time": "2022-10-27T14:20:03.290Z"
   },
   {
    "duration": 6,
    "start_time": "2022-10-27T14:20:03.703Z"
   },
   {
    "duration": 12,
    "start_time": "2022-10-27T14:20:03.711Z"
   },
   {
    "duration": 13,
    "start_time": "2022-10-27T14:20:03.724Z"
   },
   {
    "duration": 8,
    "start_time": "2022-10-27T14:20:03.739Z"
   },
   {
    "duration": 10,
    "start_time": "2022-10-27T14:20:03.748Z"
   },
   {
    "duration": 6,
    "start_time": "2022-10-27T14:20:03.760Z"
   },
   {
    "duration": 11,
    "start_time": "2022-10-27T14:20:03.768Z"
   },
   {
    "duration": 4,
    "start_time": "2022-10-27T14:20:03.780Z"
   },
   {
    "duration": 11,
    "start_time": "2022-10-27T14:20:03.786Z"
   },
   {
    "duration": 41,
    "start_time": "2022-10-27T14:20:03.799Z"
   },
   {
    "duration": 4,
    "start_time": "2022-10-27T14:20:03.841Z"
   },
   {
    "duration": 20,
    "start_time": "2022-10-27T14:20:03.847Z"
   },
   {
    "duration": 26,
    "start_time": "2022-10-27T14:20:03.868Z"
   },
   {
    "duration": 8,
    "start_time": "2022-10-27T14:20:03.896Z"
   },
   {
    "duration": 31,
    "start_time": "2022-10-27T14:20:03.906Z"
   },
   {
    "duration": 17,
    "start_time": "2022-10-27T14:20:03.938Z"
   },
   {
    "duration": 22,
    "start_time": "2022-10-27T14:20:03.956Z"
   },
   {
    "duration": 10,
    "start_time": "2022-10-27T14:20:03.979Z"
   },
   {
    "duration": 41,
    "start_time": "2022-10-27T14:20:03.991Z"
   },
   {
    "duration": 23,
    "start_time": "2022-10-27T14:20:04.033Z"
   },
   {
    "duration": 18,
    "start_time": "2022-10-27T14:20:04.058Z"
   },
   {
    "duration": 17,
    "start_time": "2022-10-27T14:20:04.077Z"
   },
   {
    "duration": 7,
    "start_time": "2022-10-27T14:20:04.096Z"
   },
   {
    "duration": 29,
    "start_time": "2022-10-27T14:20:04.104Z"
   },
   {
    "duration": 13,
    "start_time": "2022-10-27T14:20:04.134Z"
   },
   {
    "duration": 4,
    "start_time": "2022-10-27T14:20:04.149Z"
   },
   {
    "duration": 29,
    "start_time": "2022-10-27T14:20:04.154Z"
   },
   {
    "duration": 20,
    "start_time": "2022-10-27T14:20:04.185Z"
   },
   {
    "duration": 3,
    "start_time": "2022-10-27T14:20:04.206Z"
   },
   {
    "duration": 24,
    "start_time": "2022-10-27T14:20:04.210Z"
   },
   {
    "duration": 23,
    "start_time": "2022-10-27T14:20:04.236Z"
   },
   {
    "duration": 6263,
    "start_time": "2022-10-27T14:20:04.260Z"
   },
   {
    "duration": 96,
    "start_time": "2022-10-27T14:20:10.526Z"
   },
   {
    "duration": 195550,
    "start_time": "2022-10-27T14:20:10.624Z"
   },
   {
    "duration": 4,
    "start_time": "2022-10-27T14:23:26.176Z"
   },
   {
    "duration": 2108,
    "start_time": "2022-10-27T14:23:26.181Z"
   },
   {
    "duration": 3,
    "start_time": "2022-10-27T14:23:28.290Z"
   },
   {
    "duration": 7,
    "start_time": "2022-10-27T14:23:28.294Z"
   },
   {
    "duration": 10,
    "start_time": "2022-10-27T14:23:28.302Z"
   },
   {
    "duration": 9,
    "start_time": "2022-10-27T14:23:28.313Z"
   },
   {
    "duration": 18,
    "start_time": "2022-10-27T14:23:28.323Z"
   },
   {
    "duration": 6,
    "start_time": "2022-10-27T14:23:28.342Z"
   },
   {
    "duration": 4,
    "start_time": "2022-10-27T14:23:28.355Z"
   },
   {
    "duration": 52066,
    "start_time": "2022-10-27T14:23:28.360Z"
   },
   {
    "duration": 3,
    "start_time": "2022-10-27T14:24:20.427Z"
   },
   {
    "duration": 16519,
    "start_time": "2022-10-27T14:24:20.432Z"
   },
   {
    "duration": 7,
    "start_time": "2022-10-27T14:24:36.952Z"
   },
   {
    "duration": 20,
    "start_time": "2022-10-27T14:24:36.960Z"
   },
   {
    "duration": 27,
    "start_time": "2022-10-27T14:24:36.981Z"
   },
   {
    "duration": 132,
    "start_time": "2022-10-27T14:24:37.009Z"
   },
   {
    "duration": 47,
    "start_time": "2022-10-27T14:24:37.143Z"
   }
  ],
  "kernelspec": {
   "display_name": "Python 3 (ipykernel)",
   "language": "python",
   "name": "python3"
  },
  "language_info": {
   "codemirror_mode": {
    "name": "ipython",
    "version": 3
   },
   "file_extension": ".py",
   "mimetype": "text/x-python",
   "name": "python",
   "nbconvert_exporter": "python",
   "pygments_lexer": "ipython3",
   "version": "3.9.7"
  },
  "toc": {
   "base_numbering": 1,
   "nav_menu": {},
   "number_sections": true,
   "sideBar": true,
   "skip_h1_title": true,
   "title_cell": "Содержание",
   "title_sidebar": "Contents",
   "toc_cell": true,
   "toc_position": {
    "height": "calc(100% - 180px)",
    "left": "10px",
    "top": "150px",
    "width": "307.188px"
   },
   "toc_section_display": true,
   "toc_window_display": true
  }
 },
 "nbformat": 4,
 "nbformat_minor": 5
}
