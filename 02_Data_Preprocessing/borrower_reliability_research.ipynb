{
 "cells": [
  {
   "cell_type": "markdown",
   "id": "394bacd4",
   "metadata": {
    "toc": true
   },
   "source": [
    "<h1>Содержание <span class=\"tocSkip\"></span></h1>\n",
    "<div class=\"toc\"><ul class=\"toc-item\"><li><span><a href=\"#Обзор-данных\" data-toc-modified-id=\"Обзор-данных-1\"><span class=\"toc-item-num\">1&nbsp;&nbsp;</span>Обзор данных</a></span></li><li><span><a href=\"#Заполнение-пропусков\" data-toc-modified-id=\"Заполнение-пропусков-2\"><span class=\"toc-item-num\">2&nbsp;&nbsp;</span>Заполнение пропусков</a></span></li><li><span><a href=\"#Проверка-данных-на-аномалии-и-исправления.\" data-toc-modified-id=\"Проверка-данных-на-аномалии-и-исправления.-3\"><span class=\"toc-item-num\">3&nbsp;&nbsp;</span>Проверка данных на аномалии и исправления.</a></span></li><li><span><a href=\"#Изменение-типов-данных.\" data-toc-modified-id=\"Изменение-типов-данных.-4\"><span class=\"toc-item-num\">4&nbsp;&nbsp;</span>Изменение типов данных.</a></span></li><li><span><a href=\"#Удаление-дубликатов.\" data-toc-modified-id=\"Удаление-дубликатов.-5\"><span class=\"toc-item-num\">5&nbsp;&nbsp;</span>Удаление дубликатов.</a></span></li><li><span><a href=\"#Формирование-дополнительных-датафреймов-словарей,-декомпозиция-исходного-датафрейма.\" data-toc-modified-id=\"Формирование-дополнительных-датафреймов-словарей,-декомпозиция-исходного-датафрейма.-6\"><span class=\"toc-item-num\">6&nbsp;&nbsp;</span>Формирование дополнительных датафреймов словарей, декомпозиция исходного датафрейма.</a></span></li><li><span><a href=\"#Категоризация-дохода.\" data-toc-modified-id=\"Категоризация-дохода.-7\"><span class=\"toc-item-num\">7&nbsp;&nbsp;</span>Категоризация дохода.</a></span></li><li><span><a href=\"#Категоризация-целей-кредита.\" data-toc-modified-id=\"Категоризация-целей-кредита.-8\"><span class=\"toc-item-num\">8&nbsp;&nbsp;</span>Категоризация целей кредита.</a></span></li><li><span><a href=\"#Ответы-на-вопросы.\" data-toc-modified-id=\"Ответы-на-вопросы.-9\"><span class=\"toc-item-num\">9&nbsp;&nbsp;</span>Ответы на вопросы.</a></span><ul class=\"toc-item\"><li><span><a href=\"#Вопрос-1:-Есть-ли-зависимость-между-наличием-детей-и-возвратом-кредита-в-срок?\" data-toc-modified-id=\"Вопрос-1:-Есть-ли-зависимость-между-наличием-детей-и-возвратом-кредита-в-срок?-9.1\"><span class=\"toc-item-num\">9.1&nbsp;&nbsp;</span>Вопрос 1: Есть ли зависимость между наличием детей и возвратом кредита в срок?</a></span><ul class=\"toc-item\"><li><span><a href=\"#Вывод-1:-Да,-зависимость-есть,-и-она-почти-прямо-пропорциональная.-В-семьях-без-детей-самая-низкая-вероятность-стать-должником-и-самая-высокая-в-семьях-с-четырьмя-детьми.-Но-почему-то-в-семьях-с-тремя-детьми-вероятность-ниже,-чем-в-семьях-с-одним-ребенком.\" data-toc-modified-id=\"Вывод-1:-Да,-зависимость-есть,-и-она-почти-прямо-пропорциональная.-В-семьях-без-детей-самая-низкая-вероятность-стать-должником-и-самая-высокая-в-семьях-с-четырьмя-детьми.-Но-почему-то-в-семьях-с-тремя-детьми-вероятность-ниже,-чем-в-семьях-с-одним-ребенком.-9.1.1\"><span class=\"toc-item-num\">9.1.1&nbsp;&nbsp;</span>Вывод 1: Да, зависимость есть, и она почти прямо пропорциональная. В семьях без детей самая низкая вероятность стать должником и самая высокая в семьях с четырьмя детьми. Но почему-то в семьях с тремя детьми вероятность ниже, чем в семьях с одним ребенком.</a></span></li></ul></li><li><span><a href=\"#Вопрос-2:-Есть-ли-зависимость-между-семейным-положением-и-возвратом-кредита-в-срок?\" data-toc-modified-id=\"Вопрос-2:-Есть-ли-зависимость-между-семейным-положением-и-возвратом-кредита-в-срок?-9.2\"><span class=\"toc-item-num\">9.2&nbsp;&nbsp;</span>Вопрос 2: Есть ли зависимость между семейным положением и возвратом кредита в срок?</a></span><ul class=\"toc-item\"><li><span><a href=\"#Вывод-2:-Да,-зависимость-есть.-Самая-низкая-вероятность-стать-должником-у-категории-вдовец-/-вдова-и-самая-высокая-у-категории-не-женат-/-не-замужем.\" data-toc-modified-id=\"Вывод-2:-Да,-зависимость-есть.-Самая-низкая-вероятность-стать-должником-у-категории-вдовец-/-вдова-и-самая-высокая-у-категории-не-женат-/-не-замужем.-9.2.1\"><span class=\"toc-item-num\">9.2.1&nbsp;&nbsp;</span>Вывод 2: Да, зависимость есть. Самая низкая вероятность стать должником у категории вдовец / вдова и самая высокая у категории не женат / не замужем.</a></span></li></ul></li><li><span><a href=\"#Вопрос-3:-Есть-ли-зависимость-между-уровнем-дохода-и-возвратом-кредита-в-срок?\" data-toc-modified-id=\"Вопрос-3:-Есть-ли-зависимость-между-уровнем-дохода-и-возвратом-кредита-в-срок?-9.3\"><span class=\"toc-item-num\">9.3&nbsp;&nbsp;</span>Вопрос 3: Есть ли зависимость между уровнем дохода и возвратом кредита в срок?</a></span><ul class=\"toc-item\"><li><span><a href=\"#Вывод-3:-Да,-зависимость-есть.-Самая-низкая-вероятность-стать-должником-у-заёмщиков-с-доходом-D-30001–50000-и-самая-высокая-у-заёмщиков-с-доходом-E-0–30000.\" data-toc-modified-id=\"Вывод-3:-Да,-зависимость-есть.-Самая-низкая-вероятность-стать-должником-у-заёмщиков-с-доходом-D-30001–50000-и-самая-высокая-у-заёмщиков-с-доходом-E-0–30000.-9.3.1\"><span class=\"toc-item-num\">9.3.1&nbsp;&nbsp;</span>Вывод 3: Да, зависимость есть. Самая низкая вероятность стать должником у заёмщиков с доходом D 30001–50000 и самая высокая у заёмщиков с доходом E 0–30000.</a></span></li></ul></li><li><span><a href=\"#Вопрос-4:-Как-разные-цели-кредита-влияют-на-его-возврат-в-срок?\" data-toc-modified-id=\"Вопрос-4:-Как-разные-цели-кредита-влияют-на-его-возврат-в-срок?-9.4\"><span class=\"toc-item-num\">9.4&nbsp;&nbsp;</span>Вопрос 4: Как разные цели кредита влияют на его возврат в срок?</a></span><ul class=\"toc-item\"><li><span><a href=\"#Вывод-4:-Да,-зависимость-есть.-Самая-низкая-вероятность-стать-должником-у-заёмщиков-с-целью-кредита-на-операции-с-недвижимостью--и-самая-высокая-с-целью-кредита-на-операции-с-автомобилем.\" data-toc-modified-id=\"Вывод-4:-Да,-зависимость-есть.-Самая-низкая-вероятность-стать-должником-у-заёмщиков-с-целью-кредита-на-операции-с-недвижимостью--и-самая-высокая-с-целью-кредита-на-операции-с-автомобилем.-9.4.1\"><span class=\"toc-item-num\">9.4.1&nbsp;&nbsp;</span>Вывод 4: Да, зависимость есть. Самая низкая вероятность стать должником у заёмщиков с целью кредита на операции с недвижимостью  и самая высокая с целью кредита на операции с автомобилем.</a></span></li></ul></li></ul></li><li><span><a href=\"#Общий-вывод:\" data-toc-modified-id=\"Общий-вывод:-10\"><span class=\"toc-item-num\">10&nbsp;&nbsp;</span>Общий вывод:</a></span></li></ul></div>"
   ]
  },
  {
   "cell_type": "markdown",
   "id": "385afe57",
   "metadata": {},
   "source": [
    "# Тема: Предобработка данных\n",
    "# Проект: Исследование надежности заемщиков.\n",
    "# Описание проекта\n",
    "\n",
    "* Заказчик — кредитный отдел банка.\n",
    "* Нужно разобраться, влияет ли семейное положение и количество детей клиента на факт погашения кредита в срок.\n",
    "* Входные данные от банка — статистика о платёжеспособности клиентов.\n",
    "* Результаты исследования будут учтены при построении модели кредитного скоринга — специальной системы, которая оценивает способность потенциального заёмщика вернуть кредит банку.\n",
    "\n",
    "В ходе выполнения проекта нужно ответить на **4 вопроса**: \n",
    "* Есть ли зависимость между наличием детей и возвратом кредита в срок?\n",
    "* Есть ли зависимость между семейным положением и возвратом кредита в срок?\n",
    "* Есть ли зависимость между уровнем дохода и возвратом кредита в срок?\n",
    "* Как разные цели кредита влияют на его возврат в срок?"
   ]
  },
  {
   "cell_type": "markdown",
   "id": "838cca4a",
   "metadata": {},
   "source": [
    "## Обзор данных"
   ]
  },
  {
   "cell_type": "markdown",
   "id": "23912626",
   "metadata": {},
   "source": [
    "Импортируем библиотеку `pandas`."
   ]
  },
  {
   "cell_type": "code",
   "execution_count": 1,
   "id": "75bbe208",
   "metadata": {},
   "outputs": [],
   "source": [
    "import pandas as pd"
   ]
  },
  {
   "cell_type": "markdown",
   "id": "6e024b20",
   "metadata": {},
   "source": [
    "Прочтем файл `data.csv` из папки `/datasets` и сохраните его в переменной `df`:"
   ]
  },
  {
   "cell_type": "code",
   "execution_count": 2,
   "id": "5a5eece4",
   "metadata": {
    "scrolled": true
   },
   "outputs": [],
   "source": [
    "try:    \n",
    "    df = pd.read_csv('D:/notebook/project_2/data.csv')   \n",
    "except:\n",
    "    df = pd.read_csv('/datasets/data.csv')"
   ]
  },
  {
   "cell_type": "markdown",
   "id": "b51af715",
   "metadata": {},
   "source": [
    "Выведем на экран первые пятнадцать строк таблицы:"
   ]
  },
  {
   "cell_type": "code",
   "execution_count": 3,
   "id": "b2f3020c",
   "metadata": {},
   "outputs": [
    {
     "data": {
      "text/html": [
       "<div>\n",
       "<style scoped>\n",
       "    .dataframe tbody tr th:only-of-type {\n",
       "        vertical-align: middle;\n",
       "    }\n",
       "\n",
       "    .dataframe tbody tr th {\n",
       "        vertical-align: top;\n",
       "    }\n",
       "\n",
       "    .dataframe thead th {\n",
       "        text-align: right;\n",
       "    }\n",
       "</style>\n",
       "<table border=\"1\" class=\"dataframe\">\n",
       "  <thead>\n",
       "    <tr style=\"text-align: right;\">\n",
       "      <th></th>\n",
       "      <th>children</th>\n",
       "      <th>days_employed</th>\n",
       "      <th>dob_years</th>\n",
       "      <th>education</th>\n",
       "      <th>education_id</th>\n",
       "      <th>family_status</th>\n",
       "      <th>family_status_id</th>\n",
       "      <th>gender</th>\n",
       "      <th>income_type</th>\n",
       "      <th>debt</th>\n",
       "      <th>total_income</th>\n",
       "      <th>purpose</th>\n",
       "    </tr>\n",
       "  </thead>\n",
       "  <tbody>\n",
       "    <tr>\n",
       "      <th>0</th>\n",
       "      <td>1</td>\n",
       "      <td>-8437.673028</td>\n",
       "      <td>42</td>\n",
       "      <td>высшее</td>\n",
       "      <td>0</td>\n",
       "      <td>женат / замужем</td>\n",
       "      <td>0</td>\n",
       "      <td>F</td>\n",
       "      <td>сотрудник</td>\n",
       "      <td>0</td>\n",
       "      <td>253875.639453</td>\n",
       "      <td>покупка жилья</td>\n",
       "    </tr>\n",
       "    <tr>\n",
       "      <th>1</th>\n",
       "      <td>1</td>\n",
       "      <td>-4024.803754</td>\n",
       "      <td>36</td>\n",
       "      <td>среднее</td>\n",
       "      <td>1</td>\n",
       "      <td>женат / замужем</td>\n",
       "      <td>0</td>\n",
       "      <td>F</td>\n",
       "      <td>сотрудник</td>\n",
       "      <td>0</td>\n",
       "      <td>112080.014102</td>\n",
       "      <td>приобретение автомобиля</td>\n",
       "    </tr>\n",
       "    <tr>\n",
       "      <th>2</th>\n",
       "      <td>0</td>\n",
       "      <td>-5623.422610</td>\n",
       "      <td>33</td>\n",
       "      <td>Среднее</td>\n",
       "      <td>1</td>\n",
       "      <td>женат / замужем</td>\n",
       "      <td>0</td>\n",
       "      <td>M</td>\n",
       "      <td>сотрудник</td>\n",
       "      <td>0</td>\n",
       "      <td>145885.952297</td>\n",
       "      <td>покупка жилья</td>\n",
       "    </tr>\n",
       "    <tr>\n",
       "      <th>3</th>\n",
       "      <td>3</td>\n",
       "      <td>-4124.747207</td>\n",
       "      <td>32</td>\n",
       "      <td>среднее</td>\n",
       "      <td>1</td>\n",
       "      <td>женат / замужем</td>\n",
       "      <td>0</td>\n",
       "      <td>M</td>\n",
       "      <td>сотрудник</td>\n",
       "      <td>0</td>\n",
       "      <td>267628.550329</td>\n",
       "      <td>дополнительное образование</td>\n",
       "    </tr>\n",
       "    <tr>\n",
       "      <th>4</th>\n",
       "      <td>0</td>\n",
       "      <td>340266.072047</td>\n",
       "      <td>53</td>\n",
       "      <td>среднее</td>\n",
       "      <td>1</td>\n",
       "      <td>гражданский брак</td>\n",
       "      <td>1</td>\n",
       "      <td>F</td>\n",
       "      <td>пенсионер</td>\n",
       "      <td>0</td>\n",
       "      <td>158616.077870</td>\n",
       "      <td>сыграть свадьбу</td>\n",
       "    </tr>\n",
       "    <tr>\n",
       "      <th>5</th>\n",
       "      <td>0</td>\n",
       "      <td>-926.185831</td>\n",
       "      <td>27</td>\n",
       "      <td>высшее</td>\n",
       "      <td>0</td>\n",
       "      <td>гражданский брак</td>\n",
       "      <td>1</td>\n",
       "      <td>M</td>\n",
       "      <td>компаньон</td>\n",
       "      <td>0</td>\n",
       "      <td>255763.565419</td>\n",
       "      <td>покупка жилья</td>\n",
       "    </tr>\n",
       "    <tr>\n",
       "      <th>6</th>\n",
       "      <td>0</td>\n",
       "      <td>-2879.202052</td>\n",
       "      <td>43</td>\n",
       "      <td>высшее</td>\n",
       "      <td>0</td>\n",
       "      <td>женат / замужем</td>\n",
       "      <td>0</td>\n",
       "      <td>F</td>\n",
       "      <td>компаньон</td>\n",
       "      <td>0</td>\n",
       "      <td>240525.971920</td>\n",
       "      <td>операции с жильем</td>\n",
       "    </tr>\n",
       "    <tr>\n",
       "      <th>7</th>\n",
       "      <td>0</td>\n",
       "      <td>-152.779569</td>\n",
       "      <td>50</td>\n",
       "      <td>СРЕДНЕЕ</td>\n",
       "      <td>1</td>\n",
       "      <td>женат / замужем</td>\n",
       "      <td>0</td>\n",
       "      <td>M</td>\n",
       "      <td>сотрудник</td>\n",
       "      <td>0</td>\n",
       "      <td>135823.934197</td>\n",
       "      <td>образование</td>\n",
       "    </tr>\n",
       "    <tr>\n",
       "      <th>8</th>\n",
       "      <td>2</td>\n",
       "      <td>-6929.865299</td>\n",
       "      <td>35</td>\n",
       "      <td>ВЫСШЕЕ</td>\n",
       "      <td>0</td>\n",
       "      <td>гражданский брак</td>\n",
       "      <td>1</td>\n",
       "      <td>F</td>\n",
       "      <td>сотрудник</td>\n",
       "      <td>0</td>\n",
       "      <td>95856.832424</td>\n",
       "      <td>на проведение свадьбы</td>\n",
       "    </tr>\n",
       "    <tr>\n",
       "      <th>9</th>\n",
       "      <td>0</td>\n",
       "      <td>-2188.756445</td>\n",
       "      <td>41</td>\n",
       "      <td>среднее</td>\n",
       "      <td>1</td>\n",
       "      <td>женат / замужем</td>\n",
       "      <td>0</td>\n",
       "      <td>M</td>\n",
       "      <td>сотрудник</td>\n",
       "      <td>0</td>\n",
       "      <td>144425.938277</td>\n",
       "      <td>покупка жилья для семьи</td>\n",
       "    </tr>\n",
       "    <tr>\n",
       "      <th>10</th>\n",
       "      <td>2</td>\n",
       "      <td>-4171.483647</td>\n",
       "      <td>36</td>\n",
       "      <td>высшее</td>\n",
       "      <td>0</td>\n",
       "      <td>женат / замужем</td>\n",
       "      <td>0</td>\n",
       "      <td>M</td>\n",
       "      <td>компаньон</td>\n",
       "      <td>0</td>\n",
       "      <td>113943.491460</td>\n",
       "      <td>покупка недвижимости</td>\n",
       "    </tr>\n",
       "    <tr>\n",
       "      <th>11</th>\n",
       "      <td>0</td>\n",
       "      <td>-792.701887</td>\n",
       "      <td>40</td>\n",
       "      <td>среднее</td>\n",
       "      <td>1</td>\n",
       "      <td>женат / замужем</td>\n",
       "      <td>0</td>\n",
       "      <td>F</td>\n",
       "      <td>сотрудник</td>\n",
       "      <td>0</td>\n",
       "      <td>77069.234271</td>\n",
       "      <td>покупка коммерческой недвижимости</td>\n",
       "    </tr>\n",
       "    <tr>\n",
       "      <th>12</th>\n",
       "      <td>0</td>\n",
       "      <td>NaN</td>\n",
       "      <td>65</td>\n",
       "      <td>среднее</td>\n",
       "      <td>1</td>\n",
       "      <td>гражданский брак</td>\n",
       "      <td>1</td>\n",
       "      <td>M</td>\n",
       "      <td>пенсионер</td>\n",
       "      <td>0</td>\n",
       "      <td>NaN</td>\n",
       "      <td>сыграть свадьбу</td>\n",
       "    </tr>\n",
       "    <tr>\n",
       "      <th>13</th>\n",
       "      <td>0</td>\n",
       "      <td>-1846.641941</td>\n",
       "      <td>54</td>\n",
       "      <td>неоконченное высшее</td>\n",
       "      <td>2</td>\n",
       "      <td>женат / замужем</td>\n",
       "      <td>0</td>\n",
       "      <td>F</td>\n",
       "      <td>сотрудник</td>\n",
       "      <td>0</td>\n",
       "      <td>130458.228857</td>\n",
       "      <td>приобретение автомобиля</td>\n",
       "    </tr>\n",
       "    <tr>\n",
       "      <th>14</th>\n",
       "      <td>0</td>\n",
       "      <td>-1844.956182</td>\n",
       "      <td>56</td>\n",
       "      <td>высшее</td>\n",
       "      <td>0</td>\n",
       "      <td>гражданский брак</td>\n",
       "      <td>1</td>\n",
       "      <td>F</td>\n",
       "      <td>компаньон</td>\n",
       "      <td>1</td>\n",
       "      <td>165127.911772</td>\n",
       "      <td>покупка жилой недвижимости</td>\n",
       "    </tr>\n",
       "  </tbody>\n",
       "</table>\n",
       "</div>"
      ],
      "text/plain": [
       "    children  days_employed  dob_years            education  education_id  \\\n",
       "0          1   -8437.673028         42               высшее             0   \n",
       "1          1   -4024.803754         36              среднее             1   \n",
       "2          0   -5623.422610         33              Среднее             1   \n",
       "3          3   -4124.747207         32              среднее             1   \n",
       "4          0  340266.072047         53              среднее             1   \n",
       "5          0    -926.185831         27               высшее             0   \n",
       "6          0   -2879.202052         43               высшее             0   \n",
       "7          0    -152.779569         50              СРЕДНЕЕ             1   \n",
       "8          2   -6929.865299         35               ВЫСШЕЕ             0   \n",
       "9          0   -2188.756445         41              среднее             1   \n",
       "10         2   -4171.483647         36               высшее             0   \n",
       "11         0    -792.701887         40              среднее             1   \n",
       "12         0            NaN         65              среднее             1   \n",
       "13         0   -1846.641941         54  неоконченное высшее             2   \n",
       "14         0   -1844.956182         56               высшее             0   \n",
       "\n",
       "       family_status  family_status_id gender income_type  debt  \\\n",
       "0    женат / замужем                 0      F   сотрудник     0   \n",
       "1    женат / замужем                 0      F   сотрудник     0   \n",
       "2    женат / замужем                 0      M   сотрудник     0   \n",
       "3    женат / замужем                 0      M   сотрудник     0   \n",
       "4   гражданский брак                 1      F   пенсионер     0   \n",
       "5   гражданский брак                 1      M   компаньон     0   \n",
       "6    женат / замужем                 0      F   компаньон     0   \n",
       "7    женат / замужем                 0      M   сотрудник     0   \n",
       "8   гражданский брак                 1      F   сотрудник     0   \n",
       "9    женат / замужем                 0      M   сотрудник     0   \n",
       "10   женат / замужем                 0      M   компаньон     0   \n",
       "11   женат / замужем                 0      F   сотрудник     0   \n",
       "12  гражданский брак                 1      M   пенсионер     0   \n",
       "13   женат / замужем                 0      F   сотрудник     0   \n",
       "14  гражданский брак                 1      F   компаньон     1   \n",
       "\n",
       "     total_income                            purpose  \n",
       "0   253875.639453                      покупка жилья  \n",
       "1   112080.014102            приобретение автомобиля  \n",
       "2   145885.952297                      покупка жилья  \n",
       "3   267628.550329         дополнительное образование  \n",
       "4   158616.077870                    сыграть свадьбу  \n",
       "5   255763.565419                      покупка жилья  \n",
       "6   240525.971920                  операции с жильем  \n",
       "7   135823.934197                        образование  \n",
       "8    95856.832424              на проведение свадьбы  \n",
       "9   144425.938277            покупка жилья для семьи  \n",
       "10  113943.491460               покупка недвижимости  \n",
       "11   77069.234271  покупка коммерческой недвижимости  \n",
       "12            NaN                    сыграть свадьбу  \n",
       "13  130458.228857            приобретение автомобиля  \n",
       "14  165127.911772         покупка жилой недвижимости  "
      ]
     },
     "execution_count": 3,
     "metadata": {},
     "output_type": "execute_result"
    }
   ],
   "source": [
    "df.head(15)"
   ]
  },
  {
   "cell_type": "markdown",
   "id": "212f843a",
   "metadata": {},
   "source": [
    "Согласно документации к данным:\n",
    "* `children` — количество детей в семье;\n",
    "* `days_employed` — общий трудовой стаж в днях;\n",
    "* `dob_years` — возраст клиента в годах;\n",
    "* `education` — уровень образования клиента;\n",
    "* `education_id` — идентификатор уровня образования;\n",
    "* `family_status` — семейное положение;\n",
    "* `family_status_id` — идентификатор семейного положения;\n",
    "* `gender` — пол клиента;\n",
    "* `income_type` — тип занятости;\n",
    "* `debt` — имел ли задолженность по возврату кредитов;\n",
    "* `total_income` — ежемесячный доход;\n",
    "* `purpose` — цель получения кредита;"
   ]
  },
  {
   "cell_type": "markdown",
   "id": "cd46a320",
   "metadata": {},
   "source": [
    "Получим общую информацию о таблице:"
   ]
  },
  {
   "cell_type": "code",
   "execution_count": 4,
   "id": "3c924887",
   "metadata": {
    "scrolled": false
   },
   "outputs": [
    {
     "name": "stdout",
     "output_type": "stream",
     "text": [
      "<class 'pandas.core.frame.DataFrame'>\n",
      "RangeIndex: 21525 entries, 0 to 21524\n",
      "Data columns (total 12 columns):\n",
      " #   Column            Non-Null Count  Dtype  \n",
      "---  ------            --------------  -----  \n",
      " 0   children          21525 non-null  int64  \n",
      " 1   days_employed     19351 non-null  float64\n",
      " 2   dob_years         21525 non-null  int64  \n",
      " 3   education         21525 non-null  object \n",
      " 4   education_id      21525 non-null  int64  \n",
      " 5   family_status     21525 non-null  object \n",
      " 6   family_status_id  21525 non-null  int64  \n",
      " 7   gender            21525 non-null  object \n",
      " 8   income_type       21525 non-null  object \n",
      " 9   debt              21525 non-null  int64  \n",
      " 10  total_income      19351 non-null  float64\n",
      " 11  purpose           21525 non-null  object \n",
      "dtypes: float64(2), int64(5), object(5)\n",
      "memory usage: 2.0+ MB\n"
     ]
    }
   ],
   "source": [
    "df.info()"
   ]
  },
  {
   "cell_type": "markdown",
   "id": "6a747fe3",
   "metadata": {},
   "source": [
    "Итак, в таблице двенадцать столбцов, три типа данных: `int64`, `float64`, `object`. Количество значений в столбцах различается. Значит, в данных есть пропущенные значения.\n",
    "\n",
    "Посмотрим основные статистические характеристики данных по каждому числовому признаку."
   ]
  },
  {
   "cell_type": "code",
   "execution_count": 5,
   "id": "f21bc5cf",
   "metadata": {
    "scrolled": true
   },
   "outputs": [
    {
     "data": {
      "text/html": [
       "<div>\n",
       "<style scoped>\n",
       "    .dataframe tbody tr th:only-of-type {\n",
       "        vertical-align: middle;\n",
       "    }\n",
       "\n",
       "    .dataframe tbody tr th {\n",
       "        vertical-align: top;\n",
       "    }\n",
       "\n",
       "    .dataframe thead th {\n",
       "        text-align: right;\n",
       "    }\n",
       "</style>\n",
       "<table border=\"1\" class=\"dataframe\">\n",
       "  <thead>\n",
       "    <tr style=\"text-align: right;\">\n",
       "      <th></th>\n",
       "      <th>children</th>\n",
       "      <th>days_employed</th>\n",
       "      <th>dob_years</th>\n",
       "      <th>education_id</th>\n",
       "      <th>family_status_id</th>\n",
       "      <th>debt</th>\n",
       "      <th>total_income</th>\n",
       "    </tr>\n",
       "  </thead>\n",
       "  <tbody>\n",
       "    <tr>\n",
       "      <th>count</th>\n",
       "      <td>21525.000000</td>\n",
       "      <td>19351.000000</td>\n",
       "      <td>21525.000000</td>\n",
       "      <td>21525.000000</td>\n",
       "      <td>21525.000000</td>\n",
       "      <td>21525.000000</td>\n",
       "      <td>1.935100e+04</td>\n",
       "    </tr>\n",
       "    <tr>\n",
       "      <th>mean</th>\n",
       "      <td>0.538908</td>\n",
       "      <td>63046.497661</td>\n",
       "      <td>43.293380</td>\n",
       "      <td>0.817236</td>\n",
       "      <td>0.972544</td>\n",
       "      <td>0.080883</td>\n",
       "      <td>1.674223e+05</td>\n",
       "    </tr>\n",
       "    <tr>\n",
       "      <th>std</th>\n",
       "      <td>1.381587</td>\n",
       "      <td>140827.311974</td>\n",
       "      <td>12.574584</td>\n",
       "      <td>0.548138</td>\n",
       "      <td>1.420324</td>\n",
       "      <td>0.272661</td>\n",
       "      <td>1.029716e+05</td>\n",
       "    </tr>\n",
       "    <tr>\n",
       "      <th>min</th>\n",
       "      <td>-1.000000</td>\n",
       "      <td>-18388.949901</td>\n",
       "      <td>0.000000</td>\n",
       "      <td>0.000000</td>\n",
       "      <td>0.000000</td>\n",
       "      <td>0.000000</td>\n",
       "      <td>2.066726e+04</td>\n",
       "    </tr>\n",
       "    <tr>\n",
       "      <th>25%</th>\n",
       "      <td>0.000000</td>\n",
       "      <td>-2747.423625</td>\n",
       "      <td>33.000000</td>\n",
       "      <td>1.000000</td>\n",
       "      <td>0.000000</td>\n",
       "      <td>0.000000</td>\n",
       "      <td>1.030532e+05</td>\n",
       "    </tr>\n",
       "    <tr>\n",
       "      <th>50%</th>\n",
       "      <td>0.000000</td>\n",
       "      <td>-1203.369529</td>\n",
       "      <td>42.000000</td>\n",
       "      <td>1.000000</td>\n",
       "      <td>0.000000</td>\n",
       "      <td>0.000000</td>\n",
       "      <td>1.450179e+05</td>\n",
       "    </tr>\n",
       "    <tr>\n",
       "      <th>75%</th>\n",
       "      <td>1.000000</td>\n",
       "      <td>-291.095954</td>\n",
       "      <td>53.000000</td>\n",
       "      <td>1.000000</td>\n",
       "      <td>1.000000</td>\n",
       "      <td>0.000000</td>\n",
       "      <td>2.034351e+05</td>\n",
       "    </tr>\n",
       "    <tr>\n",
       "      <th>max</th>\n",
       "      <td>20.000000</td>\n",
       "      <td>401755.400475</td>\n",
       "      <td>75.000000</td>\n",
       "      <td>4.000000</td>\n",
       "      <td>4.000000</td>\n",
       "      <td>1.000000</td>\n",
       "      <td>2.265604e+06</td>\n",
       "    </tr>\n",
       "  </tbody>\n",
       "</table>\n",
       "</div>"
      ],
      "text/plain": [
       "           children  days_employed     dob_years  education_id  \\\n",
       "count  21525.000000   19351.000000  21525.000000  21525.000000   \n",
       "mean       0.538908   63046.497661     43.293380      0.817236   \n",
       "std        1.381587  140827.311974     12.574584      0.548138   \n",
       "min       -1.000000  -18388.949901      0.000000      0.000000   \n",
       "25%        0.000000   -2747.423625     33.000000      1.000000   \n",
       "50%        0.000000   -1203.369529     42.000000      1.000000   \n",
       "75%        1.000000    -291.095954     53.000000      1.000000   \n",
       "max       20.000000  401755.400475     75.000000      4.000000   \n",
       "\n",
       "       family_status_id          debt  total_income  \n",
       "count      21525.000000  21525.000000  1.935100e+04  \n",
       "mean           0.972544      0.080883  1.674223e+05  \n",
       "std            1.420324      0.272661  1.029716e+05  \n",
       "min            0.000000      0.000000  2.066726e+04  \n",
       "25%            0.000000      0.000000  1.030532e+05  \n",
       "50%            0.000000      0.000000  1.450179e+05  \n",
       "75%            1.000000      0.000000  2.034351e+05  \n",
       "max            4.000000      1.000000  2.265604e+06  "
      ]
     },
     "execution_count": 5,
     "metadata": {},
     "output_type": "execute_result"
    }
   ],
   "source": [
    "df.describe()"
   ]
  },
  {
   "cell_type": "markdown",
   "id": "c4c12a71",
   "metadata": {},
   "source": [
    "В столбцах `children`, `days_employed`, `dob_years` имеются аномальные значения."
   ]
  },
  {
   "cell_type": "markdown",
   "id": "1d1f1dc0",
   "metadata": {},
   "source": [
    "**Выводы**\n",
    "\n",
    "В каждой строке таблицы — данные о потенциальном заёмщике и цель получения кредита. \n",
    "\n",
    "Предварительно можно утверждать, что, данных достаточно для проверки гипотез. Встречаются пропуски в данных и аномальные значения. Значения в столбце `education` используют разный регист.\n",
    "\n",
    "Чтобы двигаться дальше, нужно устранить проблемы в данных."
   ]
  },
  {
   "cell_type": "markdown",
   "id": "78ce6e73",
   "metadata": {},
   "source": [
    "## Заполнение пропусков\n",
    "\n",
    "Проверим количество пропущенных значений в столбцах таблицы при помощи последовательного использования методов `isna()` и `sum()`."
   ]
  },
  {
   "cell_type": "code",
   "execution_count": 6,
   "id": "f8a82313",
   "metadata": {
    "scrolled": true
   },
   "outputs": [
    {
     "data": {
      "text/plain": [
       "children               0\n",
       "days_employed       2174\n",
       "dob_years              0\n",
       "education              0\n",
       "education_id           0\n",
       "family_status          0\n",
       "family_status_id       0\n",
       "gender                 0\n",
       "income_type            0\n",
       "debt                   0\n",
       "total_income        2174\n",
       "purpose                0\n",
       "dtype: int64"
      ]
     },
     "execution_count": 6,
     "metadata": {},
     "output_type": "execute_result"
    }
   ],
   "source": [
    "df.isna().sum()"
   ]
  },
  {
   "cell_type": "markdown",
   "id": "cbc27d11",
   "metadata": {},
   "source": [
    "Подозрительное совпадение количества пропусков в столбцах `days_employed` и `total_income`, закрадывается ощущение, что пропуски в данных столбцах находятся в одних и тех же строках, проверим это."
   ]
  },
  {
   "cell_type": "code",
   "execution_count": 7,
   "id": "df1eb238",
   "metadata": {},
   "outputs": [
    {
     "data": {
      "text/plain": [
       "2174"
      ]
     },
     "metadata": {},
     "output_type": "display_data"
    }
   ],
   "source": [
    "nan_employed_income = df.loc[(df['days_employed'].isna()==True) & (df['total_income'].isna()==True)]\n",
    "# Создадим переменную, в которой будут храниться строчки с пропусками в обоих столбцах.\n",
    "nan_employed_income_count = nan_employed_income['income_type'].count()\n",
    "# Создадим переменную с количеством таких строк\n",
    "display(nan_employed_income_count)"
   ]
  },
  {
   "cell_type": "markdown",
   "id": "20635ce7",
   "metadata": {},
   "source": [
    "Гипотеза подтвердилась."
   ]
  },
  {
   "cell_type": "markdown",
   "id": "105d3792",
   "metadata": {},
   "source": [
    "Вычислим долю пропущенных значений в столбцах `days_employed` и `total_income`, результат вычислений сохраним в переменной `share_nan_employed_income`."
   ]
  },
  {
   "cell_type": "code",
   "execution_count": 8,
   "id": "ad0fa00d",
   "metadata": {},
   "outputs": [
    {
     "data": {
      "text/plain": [
       "children            0.000000\n",
       "days_employed       0.100999\n",
       "dob_years           0.000000\n",
       "education           0.000000\n",
       "education_id        0.000000\n",
       "family_status       0.000000\n",
       "family_status_id    0.000000\n",
       "gender              0.000000\n",
       "income_type         0.000000\n",
       "debt                0.000000\n",
       "total_income        0.100999\n",
       "purpose             0.000000\n",
       "dtype: float64"
      ]
     },
     "execution_count": 8,
     "metadata": {},
     "output_type": "execute_result"
    }
   ],
   "source": [
    "df.isna().mean()"
   ]
  },
  {
   "cell_type": "markdown",
   "id": "00e5d33f",
   "metadata": {},
   "source": [
    "Доля пропущенных значений в столбцах `days_employed` и `total_income` составляет более 10 %.\n",
    "\n",
    "Посмотрим, как распределены пропуски в зависимости от типа занятости заёмщиков, то есть от значений столбца `income_type`."
   ]
  },
  {
   "cell_type": "code",
   "execution_count": 9,
   "id": "b6e71597",
   "metadata": {},
   "outputs": [
    {
     "data": {
      "text/plain": [
       "income_type\n",
       "сотрудник          1105\n",
       "компаньон           508\n",
       "пенсионер           413\n",
       "госслужащий         147\n",
       "предприниматель       1\n",
       "Name: income_type, dtype: int64"
      ]
     },
     "execution_count": 9,
     "metadata": {},
     "output_type": "execute_result"
    }
   ],
   "source": [
    "nan_employed_income.groupby('income_type')['income_type'].count().sort_values(ascending=False)"
   ]
  },
  {
   "cell_type": "markdown",
   "id": "17214886",
   "metadata": {},
   "source": [
    "Посмотрим общее количество заёмщиков по типу занятости."
   ]
  },
  {
   "cell_type": "code",
   "execution_count": 10,
   "id": "7beaef6f",
   "metadata": {},
   "outputs": [
    {
     "data": {
      "text/plain": [
       "сотрудник          11119\n",
       "компаньон           5085\n",
       "пенсионер           3856\n",
       "госслужащий         1459\n",
       "безработный            2\n",
       "предприниматель        2\n",
       "студент                1\n",
       "в декрете              1\n",
       "Name: income_type, dtype: int64"
      ]
     },
     "execution_count": 10,
     "metadata": {},
     "output_type": "execute_result"
    }
   ],
   "source": [
    "df['income_type'].value_counts()"
   ]
  },
  {
   "cell_type": "markdown",
   "id": "087a7ffa",
   "metadata": {},
   "source": [
    "Пропуски распределены практически равномерно по типам занятости, в каждом типе, который насчитывает более 1400 потенциальных заёмщиков, примерно по 10% пропусков. Для групп \"безработный\", \"предприниматель\", \"студент\", \"в декрете\" доля пропусков не так важна ввиду, того, что суммарное количество заёмщиков в этих группах ничтожно мало относительно всего датафрейма, 6 человек из 21-ой тысячи человек.\n",
    "\n",
    "При таком распределении пропуски лучше заполнить медианой, т.к. максимальные значения стажа и дохода у некоторых заёмщиков могут быть в разы выше средних, и в случае заполнения пропусков средним, значения данных показателей у заемщиков низкого и среднего сегмента окажутся сильно завышены."
   ]
  },
  {
   "cell_type": "markdown",
   "id": "eae5d3bd",
   "metadata": {},
   "source": [
    "Заполним пропуски в столбце `total_income`."
   ]
  },
  {
   "cell_type": "code",
   "execution_count": 11,
   "id": "ac072602",
   "metadata": {},
   "outputs": [],
   "source": [
    "df['total_income'] = df['total_income'].fillna(df.groupby('income_type')['total_income'].transform(\"median\"))"
   ]
  },
  {
   "cell_type": "markdown",
   "id": "40725e44",
   "metadata": {},
   "source": [
    "Заполним пропуски в столбце `days_employed` по такому же принципу."
   ]
  },
  {
   "cell_type": "code",
   "execution_count": 12,
   "id": "314eda40",
   "metadata": {},
   "outputs": [],
   "source": [
    "df['days_employed'] = df['days_employed'].fillna(df.groupby('income_type')['days_employed'].transform(\"median\"))"
   ]
  },
  {
   "cell_type": "markdown",
   "id": "fe2500b3",
   "metadata": {},
   "source": [
    "Проверим наличие пропусков. Получим общую информацию о таблице:"
   ]
  },
  {
   "cell_type": "code",
   "execution_count": 13,
   "id": "122ff05c",
   "metadata": {
    "scrolled": true
   },
   "outputs": [
    {
     "name": "stdout",
     "output_type": "stream",
     "text": [
      "<class 'pandas.core.frame.DataFrame'>\n",
      "RangeIndex: 21525 entries, 0 to 21524\n",
      "Data columns (total 12 columns):\n",
      " #   Column            Non-Null Count  Dtype  \n",
      "---  ------            --------------  -----  \n",
      " 0   children          21525 non-null  int64  \n",
      " 1   days_employed     21525 non-null  float64\n",
      " 2   dob_years         21525 non-null  int64  \n",
      " 3   education         21525 non-null  object \n",
      " 4   education_id      21525 non-null  int64  \n",
      " 5   family_status     21525 non-null  object \n",
      " 6   family_status_id  21525 non-null  int64  \n",
      " 7   gender            21525 non-null  object \n",
      " 8   income_type       21525 non-null  object \n",
      " 9   debt              21525 non-null  int64  \n",
      " 10  total_income      21525 non-null  float64\n",
      " 11  purpose           21525 non-null  object \n",
      "dtypes: float64(2), int64(5), object(5)\n",
      "memory usage: 2.0+ MB\n"
     ]
    }
   ],
   "source": [
    "df.info()"
   ]
  },
  {
   "cell_type": "markdown",
   "id": "40c4d524",
   "metadata": {},
   "source": [
    "Пропуски отсутствуют."
   ]
  },
  {
   "cell_type": "code",
   "execution_count": 14,
   "id": "cb6724fe",
   "metadata": {},
   "outputs": [
    {
     "data": {
      "text/html": [
       "<div>\n",
       "<style scoped>\n",
       "    .dataframe tbody tr th:only-of-type {\n",
       "        vertical-align: middle;\n",
       "    }\n",
       "\n",
       "    .dataframe tbody tr th {\n",
       "        vertical-align: top;\n",
       "    }\n",
       "\n",
       "    .dataframe thead th {\n",
       "        text-align: right;\n",
       "    }\n",
       "</style>\n",
       "<table border=\"1\" class=\"dataframe\">\n",
       "  <thead>\n",
       "    <tr style=\"text-align: right;\">\n",
       "      <th></th>\n",
       "      <th>children</th>\n",
       "      <th>days_employed</th>\n",
       "      <th>dob_years</th>\n",
       "      <th>education</th>\n",
       "      <th>education_id</th>\n",
       "      <th>family_status</th>\n",
       "      <th>family_status_id</th>\n",
       "      <th>gender</th>\n",
       "      <th>income_type</th>\n",
       "      <th>debt</th>\n",
       "      <th>total_income</th>\n",
       "      <th>purpose</th>\n",
       "    </tr>\n",
       "  </thead>\n",
       "  <tbody>\n",
       "    <tr>\n",
       "      <th>0</th>\n",
       "      <td>1</td>\n",
       "      <td>-8437.673028</td>\n",
       "      <td>42</td>\n",
       "      <td>высшее</td>\n",
       "      <td>0</td>\n",
       "      <td>женат / замужем</td>\n",
       "      <td>0</td>\n",
       "      <td>F</td>\n",
       "      <td>сотрудник</td>\n",
       "      <td>0</td>\n",
       "      <td>253875.639453</td>\n",
       "      <td>покупка жилья</td>\n",
       "    </tr>\n",
       "    <tr>\n",
       "      <th>1</th>\n",
       "      <td>1</td>\n",
       "      <td>-4024.803754</td>\n",
       "      <td>36</td>\n",
       "      <td>среднее</td>\n",
       "      <td>1</td>\n",
       "      <td>женат / замужем</td>\n",
       "      <td>0</td>\n",
       "      <td>F</td>\n",
       "      <td>сотрудник</td>\n",
       "      <td>0</td>\n",
       "      <td>112080.014102</td>\n",
       "      <td>приобретение автомобиля</td>\n",
       "    </tr>\n",
       "    <tr>\n",
       "      <th>2</th>\n",
       "      <td>0</td>\n",
       "      <td>-5623.422610</td>\n",
       "      <td>33</td>\n",
       "      <td>Среднее</td>\n",
       "      <td>1</td>\n",
       "      <td>женат / замужем</td>\n",
       "      <td>0</td>\n",
       "      <td>M</td>\n",
       "      <td>сотрудник</td>\n",
       "      <td>0</td>\n",
       "      <td>145885.952297</td>\n",
       "      <td>покупка жилья</td>\n",
       "    </tr>\n",
       "    <tr>\n",
       "      <th>3</th>\n",
       "      <td>3</td>\n",
       "      <td>-4124.747207</td>\n",
       "      <td>32</td>\n",
       "      <td>среднее</td>\n",
       "      <td>1</td>\n",
       "      <td>женат / замужем</td>\n",
       "      <td>0</td>\n",
       "      <td>M</td>\n",
       "      <td>сотрудник</td>\n",
       "      <td>0</td>\n",
       "      <td>267628.550329</td>\n",
       "      <td>дополнительное образование</td>\n",
       "    </tr>\n",
       "    <tr>\n",
       "      <th>4</th>\n",
       "      <td>0</td>\n",
       "      <td>340266.072047</td>\n",
       "      <td>53</td>\n",
       "      <td>среднее</td>\n",
       "      <td>1</td>\n",
       "      <td>гражданский брак</td>\n",
       "      <td>1</td>\n",
       "      <td>F</td>\n",
       "      <td>пенсионер</td>\n",
       "      <td>0</td>\n",
       "      <td>158616.077870</td>\n",
       "      <td>сыграть свадьбу</td>\n",
       "    </tr>\n",
       "    <tr>\n",
       "      <th>5</th>\n",
       "      <td>0</td>\n",
       "      <td>-926.185831</td>\n",
       "      <td>27</td>\n",
       "      <td>высшее</td>\n",
       "      <td>0</td>\n",
       "      <td>гражданский брак</td>\n",
       "      <td>1</td>\n",
       "      <td>M</td>\n",
       "      <td>компаньон</td>\n",
       "      <td>0</td>\n",
       "      <td>255763.565419</td>\n",
       "      <td>покупка жилья</td>\n",
       "    </tr>\n",
       "    <tr>\n",
       "      <th>6</th>\n",
       "      <td>0</td>\n",
       "      <td>-2879.202052</td>\n",
       "      <td>43</td>\n",
       "      <td>высшее</td>\n",
       "      <td>0</td>\n",
       "      <td>женат / замужем</td>\n",
       "      <td>0</td>\n",
       "      <td>F</td>\n",
       "      <td>компаньон</td>\n",
       "      <td>0</td>\n",
       "      <td>240525.971920</td>\n",
       "      <td>операции с жильем</td>\n",
       "    </tr>\n",
       "    <tr>\n",
       "      <th>7</th>\n",
       "      <td>0</td>\n",
       "      <td>-152.779569</td>\n",
       "      <td>50</td>\n",
       "      <td>СРЕДНЕЕ</td>\n",
       "      <td>1</td>\n",
       "      <td>женат / замужем</td>\n",
       "      <td>0</td>\n",
       "      <td>M</td>\n",
       "      <td>сотрудник</td>\n",
       "      <td>0</td>\n",
       "      <td>135823.934197</td>\n",
       "      <td>образование</td>\n",
       "    </tr>\n",
       "    <tr>\n",
       "      <th>8</th>\n",
       "      <td>2</td>\n",
       "      <td>-6929.865299</td>\n",
       "      <td>35</td>\n",
       "      <td>ВЫСШЕЕ</td>\n",
       "      <td>0</td>\n",
       "      <td>гражданский брак</td>\n",
       "      <td>1</td>\n",
       "      <td>F</td>\n",
       "      <td>сотрудник</td>\n",
       "      <td>0</td>\n",
       "      <td>95856.832424</td>\n",
       "      <td>на проведение свадьбы</td>\n",
       "    </tr>\n",
       "    <tr>\n",
       "      <th>9</th>\n",
       "      <td>0</td>\n",
       "      <td>-2188.756445</td>\n",
       "      <td>41</td>\n",
       "      <td>среднее</td>\n",
       "      <td>1</td>\n",
       "      <td>женат / замужем</td>\n",
       "      <td>0</td>\n",
       "      <td>M</td>\n",
       "      <td>сотрудник</td>\n",
       "      <td>0</td>\n",
       "      <td>144425.938277</td>\n",
       "      <td>покупка жилья для семьи</td>\n",
       "    </tr>\n",
       "    <tr>\n",
       "      <th>10</th>\n",
       "      <td>2</td>\n",
       "      <td>-4171.483647</td>\n",
       "      <td>36</td>\n",
       "      <td>высшее</td>\n",
       "      <td>0</td>\n",
       "      <td>женат / замужем</td>\n",
       "      <td>0</td>\n",
       "      <td>M</td>\n",
       "      <td>компаньон</td>\n",
       "      <td>0</td>\n",
       "      <td>113943.491460</td>\n",
       "      <td>покупка недвижимости</td>\n",
       "    </tr>\n",
       "    <tr>\n",
       "      <th>11</th>\n",
       "      <td>0</td>\n",
       "      <td>-792.701887</td>\n",
       "      <td>40</td>\n",
       "      <td>среднее</td>\n",
       "      <td>1</td>\n",
       "      <td>женат / замужем</td>\n",
       "      <td>0</td>\n",
       "      <td>F</td>\n",
       "      <td>сотрудник</td>\n",
       "      <td>0</td>\n",
       "      <td>77069.234271</td>\n",
       "      <td>покупка коммерческой недвижимости</td>\n",
       "    </tr>\n",
       "    <tr>\n",
       "      <th>12</th>\n",
       "      <td>0</td>\n",
       "      <td>365213.306266</td>\n",
       "      <td>65</td>\n",
       "      <td>среднее</td>\n",
       "      <td>1</td>\n",
       "      <td>гражданский брак</td>\n",
       "      <td>1</td>\n",
       "      <td>M</td>\n",
       "      <td>пенсионер</td>\n",
       "      <td>0</td>\n",
       "      <td>118514.486412</td>\n",
       "      <td>сыграть свадьбу</td>\n",
       "    </tr>\n",
       "    <tr>\n",
       "      <th>13</th>\n",
       "      <td>0</td>\n",
       "      <td>-1846.641941</td>\n",
       "      <td>54</td>\n",
       "      <td>неоконченное высшее</td>\n",
       "      <td>2</td>\n",
       "      <td>женат / замужем</td>\n",
       "      <td>0</td>\n",
       "      <td>F</td>\n",
       "      <td>сотрудник</td>\n",
       "      <td>0</td>\n",
       "      <td>130458.228857</td>\n",
       "      <td>приобретение автомобиля</td>\n",
       "    </tr>\n",
       "    <tr>\n",
       "      <th>14</th>\n",
       "      <td>0</td>\n",
       "      <td>-1844.956182</td>\n",
       "      <td>56</td>\n",
       "      <td>высшее</td>\n",
       "      <td>0</td>\n",
       "      <td>гражданский брак</td>\n",
       "      <td>1</td>\n",
       "      <td>F</td>\n",
       "      <td>компаньон</td>\n",
       "      <td>1</td>\n",
       "      <td>165127.911772</td>\n",
       "      <td>покупка жилой недвижимости</td>\n",
       "    </tr>\n",
       "  </tbody>\n",
       "</table>\n",
       "</div>"
      ],
      "text/plain": [
       "    children  days_employed  dob_years            education  education_id  \\\n",
       "0          1   -8437.673028         42               высшее             0   \n",
       "1          1   -4024.803754         36              среднее             1   \n",
       "2          0   -5623.422610         33              Среднее             1   \n",
       "3          3   -4124.747207         32              среднее             1   \n",
       "4          0  340266.072047         53              среднее             1   \n",
       "5          0    -926.185831         27               высшее             0   \n",
       "6          0   -2879.202052         43               высшее             0   \n",
       "7          0    -152.779569         50              СРЕДНЕЕ             1   \n",
       "8          2   -6929.865299         35               ВЫСШЕЕ             0   \n",
       "9          0   -2188.756445         41              среднее             1   \n",
       "10         2   -4171.483647         36               высшее             0   \n",
       "11         0    -792.701887         40              среднее             1   \n",
       "12         0  365213.306266         65              среднее             1   \n",
       "13         0   -1846.641941         54  неоконченное высшее             2   \n",
       "14         0   -1844.956182         56               высшее             0   \n",
       "\n",
       "       family_status  family_status_id gender income_type  debt  \\\n",
       "0    женат / замужем                 0      F   сотрудник     0   \n",
       "1    женат / замужем                 0      F   сотрудник     0   \n",
       "2    женат / замужем                 0      M   сотрудник     0   \n",
       "3    женат / замужем                 0      M   сотрудник     0   \n",
       "4   гражданский брак                 1      F   пенсионер     0   \n",
       "5   гражданский брак                 1      M   компаньон     0   \n",
       "6    женат / замужем                 0      F   компаньон     0   \n",
       "7    женат / замужем                 0      M   сотрудник     0   \n",
       "8   гражданский брак                 1      F   сотрудник     0   \n",
       "9    женат / замужем                 0      M   сотрудник     0   \n",
       "10   женат / замужем                 0      M   компаньон     0   \n",
       "11   женат / замужем                 0      F   сотрудник     0   \n",
       "12  гражданский брак                 1      M   пенсионер     0   \n",
       "13   женат / замужем                 0      F   сотрудник     0   \n",
       "14  гражданский брак                 1      F   компаньон     1   \n",
       "\n",
       "     total_income                            purpose  \n",
       "0   253875.639453                      покупка жилья  \n",
       "1   112080.014102            приобретение автомобиля  \n",
       "2   145885.952297                      покупка жилья  \n",
       "3   267628.550329         дополнительное образование  \n",
       "4   158616.077870                    сыграть свадьбу  \n",
       "5   255763.565419                      покупка жилья  \n",
       "6   240525.971920                  операции с жильем  \n",
       "7   135823.934197                        образование  \n",
       "8    95856.832424              на проведение свадьбы  \n",
       "9   144425.938277            покупка жилья для семьи  \n",
       "10  113943.491460               покупка недвижимости  \n",
       "11   77069.234271  покупка коммерческой недвижимости  \n",
       "12  118514.486412                    сыграть свадьбу  \n",
       "13  130458.228857            приобретение автомобиля  \n",
       "14  165127.911772         покупка жилой недвижимости  "
      ]
     },
     "execution_count": 14,
     "metadata": {},
     "output_type": "execute_result"
    }
   ],
   "source": [
    "df.head(15)"
   ]
  },
  {
   "cell_type": "markdown",
   "id": "48608381",
   "metadata": {},
   "source": [
    "В 13-ой строчке (порядковый номер 12) раньше был потенциальный заёмщик с пропусками, теперь значение заменено на медиану.\n",
    "\n",
    "**Вывод**\n",
    "\n",
    "Ввиду равномерного распределения пропусков по типам занятости (примерно 10%) и общего количества пропусков 10%, скорее всего 10 % данных были добавлены к датафрему из другого источника, в котором отсутствовали столбцы \"общий трудовой стаж в днях\" и \"ежемесячный доход\".\n"
   ]
  },
  {
   "cell_type": "markdown",
   "id": "6fde9cc4",
   "metadata": {},
   "source": [
    "## Проверка данных на аномалии и исправления."
   ]
  },
  {
   "cell_type": "markdown",
   "id": "3277808c",
   "metadata": {},
   "source": [
    "Посмотрим основные статистические характеристики данных по каждому числовому признаку."
   ]
  },
  {
   "cell_type": "code",
   "execution_count": 15,
   "id": "9989f31c",
   "metadata": {
    "scrolled": true
   },
   "outputs": [
    {
     "data": {
      "text/html": [
       "<div>\n",
       "<style scoped>\n",
       "    .dataframe tbody tr th:only-of-type {\n",
       "        vertical-align: middle;\n",
       "    }\n",
       "\n",
       "    .dataframe tbody tr th {\n",
       "        vertical-align: top;\n",
       "    }\n",
       "\n",
       "    .dataframe thead th {\n",
       "        text-align: right;\n",
       "    }\n",
       "</style>\n",
       "<table border=\"1\" class=\"dataframe\">\n",
       "  <thead>\n",
       "    <tr style=\"text-align: right;\">\n",
       "      <th></th>\n",
       "      <th>children</th>\n",
       "      <th>days_employed</th>\n",
       "      <th>dob_years</th>\n",
       "      <th>education_id</th>\n",
       "      <th>family_status_id</th>\n",
       "      <th>debt</th>\n",
       "      <th>total_income</th>\n",
       "    </tr>\n",
       "  </thead>\n",
       "  <tbody>\n",
       "    <tr>\n",
       "      <th>count</th>\n",
       "      <td>21525.000000</td>\n",
       "      <td>21525.000000</td>\n",
       "      <td>21525.000000</td>\n",
       "      <td>21525.000000</td>\n",
       "      <td>21525.000000</td>\n",
       "      <td>21525.000000</td>\n",
       "      <td>2.152500e+04</td>\n",
       "    </tr>\n",
       "    <tr>\n",
       "      <th>mean</th>\n",
       "      <td>0.538908</td>\n",
       "      <td>63550.497071</td>\n",
       "      <td>43.293380</td>\n",
       "      <td>0.817236</td>\n",
       "      <td>0.972544</td>\n",
       "      <td>0.080883</td>\n",
       "      <td>1.652253e+05</td>\n",
       "    </tr>\n",
       "    <tr>\n",
       "      <th>std</th>\n",
       "      <td>1.381587</td>\n",
       "      <td>141150.420058</td>\n",
       "      <td>12.574584</td>\n",
       "      <td>0.548138</td>\n",
       "      <td>1.420324</td>\n",
       "      <td>0.272661</td>\n",
       "      <td>9.804367e+04</td>\n",
       "    </tr>\n",
       "    <tr>\n",
       "      <th>min</th>\n",
       "      <td>-1.000000</td>\n",
       "      <td>-18388.949901</td>\n",
       "      <td>0.000000</td>\n",
       "      <td>0.000000</td>\n",
       "      <td>0.000000</td>\n",
       "      <td>0.000000</td>\n",
       "      <td>2.066726e+04</td>\n",
       "    </tr>\n",
       "    <tr>\n",
       "      <th>25%</th>\n",
       "      <td>0.000000</td>\n",
       "      <td>-2570.047544</td>\n",
       "      <td>33.000000</td>\n",
       "      <td>1.000000</td>\n",
       "      <td>0.000000</td>\n",
       "      <td>0.000000</td>\n",
       "      <td>1.077982e+05</td>\n",
       "    </tr>\n",
       "    <tr>\n",
       "      <th>50%</th>\n",
       "      <td>0.000000</td>\n",
       "      <td>-1355.683356</td>\n",
       "      <td>42.000000</td>\n",
       "      <td>1.000000</td>\n",
       "      <td>0.000000</td>\n",
       "      <td>0.000000</td>\n",
       "      <td>1.425944e+05</td>\n",
       "    </tr>\n",
       "    <tr>\n",
       "      <th>75%</th>\n",
       "      <td>1.000000</td>\n",
       "      <td>-316.240646</td>\n",
       "      <td>53.000000</td>\n",
       "      <td>1.000000</td>\n",
       "      <td>1.000000</td>\n",
       "      <td>0.000000</td>\n",
       "      <td>1.955499e+05</td>\n",
       "    </tr>\n",
       "    <tr>\n",
       "      <th>max</th>\n",
       "      <td>20.000000</td>\n",
       "      <td>401755.400475</td>\n",
       "      <td>75.000000</td>\n",
       "      <td>4.000000</td>\n",
       "      <td>4.000000</td>\n",
       "      <td>1.000000</td>\n",
       "      <td>2.265604e+06</td>\n",
       "    </tr>\n",
       "  </tbody>\n",
       "</table>\n",
       "</div>"
      ],
      "text/plain": [
       "           children  days_employed     dob_years  education_id  \\\n",
       "count  21525.000000   21525.000000  21525.000000  21525.000000   \n",
       "mean       0.538908   63550.497071     43.293380      0.817236   \n",
       "std        1.381587  141150.420058     12.574584      0.548138   \n",
       "min       -1.000000  -18388.949901      0.000000      0.000000   \n",
       "25%        0.000000   -2570.047544     33.000000      1.000000   \n",
       "50%        0.000000   -1355.683356     42.000000      1.000000   \n",
       "75%        1.000000    -316.240646     53.000000      1.000000   \n",
       "max       20.000000  401755.400475     75.000000      4.000000   \n",
       "\n",
       "       family_status_id          debt  total_income  \n",
       "count      21525.000000  21525.000000  2.152500e+04  \n",
       "mean           0.972544      0.080883  1.652253e+05  \n",
       "std            1.420324      0.272661  9.804367e+04  \n",
       "min            0.000000      0.000000  2.066726e+04  \n",
       "25%            0.000000      0.000000  1.077982e+05  \n",
       "50%            0.000000      0.000000  1.425944e+05  \n",
       "75%            1.000000      0.000000  1.955499e+05  \n",
       "max            4.000000      1.000000  2.265604e+06  "
      ]
     },
     "execution_count": 15,
     "metadata": {},
     "output_type": "execute_result"
    }
   ],
   "source": [
    "df.describe()"
   ]
  },
  {
   "cell_type": "markdown",
   "id": "54c11838",
   "metadata": {},
   "source": [
    "Обработаем столбец `children`."
   ]
  },
  {
   "cell_type": "code",
   "execution_count": 16,
   "id": "df6fb921",
   "metadata": {},
   "outputs": [
    {
     "data": {
      "text/plain": [
       " 0     14149\n",
       " 1      4818\n",
       " 2      2055\n",
       " 3       330\n",
       " 20       76\n",
       "-1        47\n",
       " 4        41\n",
       " 5         9\n",
       "Name: children, dtype: int64"
      ]
     },
     "execution_count": 16,
     "metadata": {},
     "output_type": "execute_result"
    }
   ],
   "source": [
    "df['children'].value_counts()"
   ]
  },
  {
   "cell_type": "markdown",
   "id": "281ef626",
   "metadata": {},
   "source": [
    "Значения 20 и -1 скорее всего технические ошибки, доля таких значений мала относительно всего датафрейма. Заменим 20 на 2, а -1 на 1."
   ]
  },
  {
   "cell_type": "code",
   "execution_count": 17,
   "id": "c78800ca",
   "metadata": {},
   "outputs": [
    {
     "data": {
      "text/plain": [
       "0    14149\n",
       "1     4865\n",
       "2     2131\n",
       "3      330\n",
       "4       41\n",
       "5        9\n",
       "Name: children, dtype: int64"
      ]
     },
     "execution_count": 17,
     "metadata": {},
     "output_type": "execute_result"
    }
   ],
   "source": [
    "df['children'].replace(20,2,inplace = True)\n",
    "df['children'].replace(-1,1,inplace = True)\n",
    "df['children'].value_counts()"
   ]
  },
  {
   "cell_type": "markdown",
   "id": "af917ceb",
   "metadata": {},
   "source": [
    "Аномальное количество детей устранено.\n",
    "\n",
    "Изучим, столбец `days_employed` подробнее."
   ]
  },
  {
   "cell_type": "markdown",
   "id": "eb966c53",
   "metadata": {},
   "source": [
    "В столбце имеются адекватные значения по величине, но отрицательные, а также неадекватные по величине, но положительные, например 401755.400475 день это 1100 лет.\n",
    "\n",
    "Посмотрим в каких типах занятости отрицательные и положительные значения стажа."
   ]
  },
  {
   "cell_type": "code",
   "execution_count": 18,
   "id": "e2d24ee1",
   "metadata": {},
   "outputs": [
    {
     "data": {
      "text/plain": [
       "пенсионер      3856\n",
       "безработный       2\n",
       "Name: income_type, dtype: int64"
      ]
     },
     "execution_count": 18,
     "metadata": {},
     "output_type": "execute_result"
    }
   ],
   "source": [
    "df[df['days_employed'] > 0] ['income_type'].value_counts()"
   ]
  },
  {
   "cell_type": "code",
   "execution_count": 19,
   "id": "188f9a24",
   "metadata": {},
   "outputs": [
    {
     "data": {
      "text/plain": [
       "сотрудник          11119\n",
       "компаньон           5085\n",
       "госслужащий         1459\n",
       "предприниматель        2\n",
       "студент                1\n",
       "в декрете              1\n",
       "Name: income_type, dtype: int64"
      ]
     },
     "execution_count": 19,
     "metadata": {},
     "output_type": "execute_result"
    }
   ],
   "source": [
    "df[df['days_employed'] < 0] ['income_type'].value_counts()"
   ]
  },
  {
   "cell_type": "markdown",
   "id": "695607f0",
   "metadata": {},
   "source": [
    "Изучим стаж группы пенсионеры детальнее."
   ]
  },
  {
   "cell_type": "code",
   "execution_count": 20,
   "id": "2214d5b5",
   "metadata": {},
   "outputs": [
    {
     "data": {
      "text/plain": [
       "count      3856.000000\n",
       "mean     365025.963652\n",
       "std       19909.115430\n",
       "min      328728.720605\n",
       "25%      348802.360364\n",
       "50%      365213.306266\n",
       "75%      380751.301140\n",
       "max      401755.400475\n",
       "Name: days_employed, dtype: float64"
      ]
     },
     "execution_count": 20,
     "metadata": {},
     "output_type": "execute_result"
    }
   ],
   "source": [
    "df.loc[(df['income_type'] == 'пенсионер')]['days_employed'].describe()"
   ]
  },
  {
   "cell_type": "markdown",
   "id": "7278ca4c",
   "metadata": {},
   "source": [
    "Изучим стаж группы безработные детальнее."
   ]
  },
  {
   "cell_type": "code",
   "execution_count": 21,
   "id": "5bfc864b",
   "metadata": {},
   "outputs": [
    {
     "data": {
      "text/plain": [
       "3133     337524.466835\n",
       "14798    395302.838654\n",
       "Name: days_employed, dtype: float64"
      ]
     },
     "execution_count": 21,
     "metadata": {},
     "output_type": "execute_result"
    }
   ],
   "source": [
    "df.loc[(df['income_type'] == 'безработный')]['days_employed']"
   ]
  },
  {
   "cell_type": "markdown",
   "id": "54f1544b",
   "metadata": {},
   "source": [
    "Порядок значений в группах пенсионеры и безработные ('days_employed' > 0) одинаковый (шестизначные значения).\n",
    "Скорее всего эти значения получились из-за того, что стаж указан в часах, а не в днях.\n",
    "Соответственно к данным группам можем применить одинаковое решения по обработке: разделим на 24 часа. "
   ]
  },
  {
   "cell_type": "code",
   "execution_count": 22,
   "id": "a49a44a1",
   "metadata": {
    "scrolled": true
   },
   "outputs": [
    {
     "data": {
      "text/plain": [
       "count    21525.000000\n",
       "mean       851.546834\n",
       "std       7007.842448\n",
       "min     -18388.949901\n",
       "25%      -2570.047544\n",
       "50%      -1355.683356\n",
       "75%       -316.240646\n",
       "max      16739.808353\n",
       "Name: days_employed, dtype: float64"
      ]
     },
     "execution_count": 22,
     "metadata": {},
     "output_type": "execute_result"
    }
   ],
   "source": [
    "df.loc[(df['days_employed'] > 0), 'days_employed'] = (df['days_employed'])/24\n",
    "df.days_employed.describe()"
   ]
  },
  {
   "cell_type": "markdown",
   "id": "38a332fa",
   "metadata": {},
   "source": [
    "Избавимся от отрицательных значений дней стажа в столбце `days_employed`."
   ]
  },
  {
   "cell_type": "code",
   "execution_count": 23,
   "id": "6870f062",
   "metadata": {},
   "outputs": [
    {
     "data": {
      "text/html": [
       "<div>\n",
       "<style scoped>\n",
       "    .dataframe tbody tr th:only-of-type {\n",
       "        vertical-align: middle;\n",
       "    }\n",
       "\n",
       "    .dataframe tbody tr th {\n",
       "        vertical-align: top;\n",
       "    }\n",
       "\n",
       "    .dataframe thead th {\n",
       "        text-align: right;\n",
       "    }\n",
       "</style>\n",
       "<table border=\"1\" class=\"dataframe\">\n",
       "  <thead>\n",
       "    <tr style=\"text-align: right;\">\n",
       "      <th></th>\n",
       "      <th>children</th>\n",
       "      <th>days_employed</th>\n",
       "      <th>dob_years</th>\n",
       "      <th>education_id</th>\n",
       "      <th>family_status_id</th>\n",
       "      <th>debt</th>\n",
       "      <th>total_income</th>\n",
       "    </tr>\n",
       "  </thead>\n",
       "  <tbody>\n",
       "    <tr>\n",
       "      <th>count</th>\n",
       "      <td>21525.000000</td>\n",
       "      <td>21525.000000</td>\n",
       "      <td>21525.000000</td>\n",
       "      <td>21525.000000</td>\n",
       "      <td>21525.000000</td>\n",
       "      <td>21525.000000</td>\n",
       "      <td>2.152500e+04</td>\n",
       "    </tr>\n",
       "    <tr>\n",
       "      <th>mean</th>\n",
       "      <td>0.479721</td>\n",
       "      <td>4600.535795</td>\n",
       "      <td>43.293380</td>\n",
       "      <td>0.817236</td>\n",
       "      <td>0.972544</td>\n",
       "      <td>0.080883</td>\n",
       "      <td>1.652253e+05</td>\n",
       "    </tr>\n",
       "    <tr>\n",
       "      <th>std</th>\n",
       "      <td>0.755528</td>\n",
       "      <td>5354.354167</td>\n",
       "      <td>12.574584</td>\n",
       "      <td>0.548138</td>\n",
       "      <td>1.420324</td>\n",
       "      <td>0.272661</td>\n",
       "      <td>9.804367e+04</td>\n",
       "    </tr>\n",
       "    <tr>\n",
       "      <th>min</th>\n",
       "      <td>0.000000</td>\n",
       "      <td>24.141633</td>\n",
       "      <td>0.000000</td>\n",
       "      <td>0.000000</td>\n",
       "      <td>0.000000</td>\n",
       "      <td>0.000000</td>\n",
       "      <td>2.066726e+04</td>\n",
       "    </tr>\n",
       "    <tr>\n",
       "      <th>25%</th>\n",
       "      <td>0.000000</td>\n",
       "      <td>1025.549623</td>\n",
       "      <td>33.000000</td>\n",
       "      <td>1.000000</td>\n",
       "      <td>0.000000</td>\n",
       "      <td>0.000000</td>\n",
       "      <td>1.077982e+05</td>\n",
       "    </tr>\n",
       "    <tr>\n",
       "      <th>50%</th>\n",
       "      <td>0.000000</td>\n",
       "      <td>1993.522017</td>\n",
       "      <td>42.000000</td>\n",
       "      <td>1.000000</td>\n",
       "      <td>0.000000</td>\n",
       "      <td>0.000000</td>\n",
       "      <td>1.425944e+05</td>\n",
       "    </tr>\n",
       "    <tr>\n",
       "      <th>75%</th>\n",
       "      <td>1.000000</td>\n",
       "      <td>5347.024506</td>\n",
       "      <td>53.000000</td>\n",
       "      <td>1.000000</td>\n",
       "      <td>1.000000</td>\n",
       "      <td>0.000000</td>\n",
       "      <td>1.955499e+05</td>\n",
       "    </tr>\n",
       "    <tr>\n",
       "      <th>max</th>\n",
       "      <td>5.000000</td>\n",
       "      <td>18388.949901</td>\n",
       "      <td>75.000000</td>\n",
       "      <td>4.000000</td>\n",
       "      <td>4.000000</td>\n",
       "      <td>1.000000</td>\n",
       "      <td>2.265604e+06</td>\n",
       "    </tr>\n",
       "  </tbody>\n",
       "</table>\n",
       "</div>"
      ],
      "text/plain": [
       "           children  days_employed     dob_years  education_id  \\\n",
       "count  21525.000000   21525.000000  21525.000000  21525.000000   \n",
       "mean       0.479721    4600.535795     43.293380      0.817236   \n",
       "std        0.755528    5354.354167     12.574584      0.548138   \n",
       "min        0.000000      24.141633      0.000000      0.000000   \n",
       "25%        0.000000    1025.549623     33.000000      1.000000   \n",
       "50%        0.000000    1993.522017     42.000000      1.000000   \n",
       "75%        1.000000    5347.024506     53.000000      1.000000   \n",
       "max        5.000000   18388.949901     75.000000      4.000000   \n",
       "\n",
       "       family_status_id          debt  total_income  \n",
       "count      21525.000000  21525.000000  2.152500e+04  \n",
       "mean           0.972544      0.080883  1.652253e+05  \n",
       "std            1.420324      0.272661  9.804367e+04  \n",
       "min            0.000000      0.000000  2.066726e+04  \n",
       "25%            0.000000      0.000000  1.077982e+05  \n",
       "50%            0.000000      0.000000  1.425944e+05  \n",
       "75%            1.000000      0.000000  1.955499e+05  \n",
       "max            4.000000      1.000000  2.265604e+06  "
      ]
     },
     "execution_count": 23,
     "metadata": {},
     "output_type": "execute_result"
    }
   ],
   "source": [
    "df.loc[(df['days_employed'] < 0), 'days_employed'] = df['days_employed'].abs() \n",
    "df.describe()"
   ]
  },
  {
   "cell_type": "markdown",
   "id": "e562d769",
   "metadata": {},
   "source": [
    "Отрицательных и аномальных значений больше нет.\n",
    "\n",
    "**Вывод:** \n",
    "\n",
    "В таблице присутствовали отрицательные значения и технические ошибки, которые мы устранили."
   ]
  },
  {
   "cell_type": "markdown",
   "id": "27c071ef",
   "metadata": {},
   "source": [
    "## Изменение типов данных."
   ]
  },
  {
   "cell_type": "markdown",
   "id": "481a0005",
   "metadata": {},
   "source": [
    "Изменим тип данных для столбца `total_income`"
   ]
  },
  {
   "cell_type": "code",
   "execution_count": 24,
   "id": "8c0815ac",
   "metadata": {},
   "outputs": [
    {
     "name": "stdout",
     "output_type": "stream",
     "text": [
      "<class 'pandas.core.frame.DataFrame'>\n",
      "RangeIndex: 21525 entries, 0 to 21524\n",
      "Data columns (total 12 columns):\n",
      " #   Column            Non-Null Count  Dtype  \n",
      "---  ------            --------------  -----  \n",
      " 0   children          21525 non-null  int64  \n",
      " 1   days_employed     21525 non-null  float64\n",
      " 2   dob_years         21525 non-null  int64  \n",
      " 3   education         21525 non-null  object \n",
      " 4   education_id      21525 non-null  int64  \n",
      " 5   family_status     21525 non-null  object \n",
      " 6   family_status_id  21525 non-null  int64  \n",
      " 7   gender            21525 non-null  object \n",
      " 8   income_type       21525 non-null  object \n",
      " 9   debt              21525 non-null  int64  \n",
      " 10  total_income      21525 non-null  int64  \n",
      " 11  purpose           21525 non-null  object \n",
      "dtypes: float64(1), int64(6), object(5)\n",
      "memory usage: 2.0+ MB\n"
     ]
    },
    {
     "data": {
      "text/html": [
       "<div>\n",
       "<style scoped>\n",
       "    .dataframe tbody tr th:only-of-type {\n",
       "        vertical-align: middle;\n",
       "    }\n",
       "\n",
       "    .dataframe tbody tr th {\n",
       "        vertical-align: top;\n",
       "    }\n",
       "\n",
       "    .dataframe thead th {\n",
       "        text-align: right;\n",
       "    }\n",
       "</style>\n",
       "<table border=\"1\" class=\"dataframe\">\n",
       "  <thead>\n",
       "    <tr style=\"text-align: right;\">\n",
       "      <th></th>\n",
       "      <th>children</th>\n",
       "      <th>days_employed</th>\n",
       "      <th>dob_years</th>\n",
       "      <th>education</th>\n",
       "      <th>education_id</th>\n",
       "      <th>family_status</th>\n",
       "      <th>family_status_id</th>\n",
       "      <th>gender</th>\n",
       "      <th>income_type</th>\n",
       "      <th>debt</th>\n",
       "      <th>total_income</th>\n",
       "      <th>purpose</th>\n",
       "    </tr>\n",
       "  </thead>\n",
       "  <tbody>\n",
       "    <tr>\n",
       "      <th>0</th>\n",
       "      <td>1</td>\n",
       "      <td>8437.673028</td>\n",
       "      <td>42</td>\n",
       "      <td>высшее</td>\n",
       "      <td>0</td>\n",
       "      <td>женат / замужем</td>\n",
       "      <td>0</td>\n",
       "      <td>F</td>\n",
       "      <td>сотрудник</td>\n",
       "      <td>0</td>\n",
       "      <td>253875</td>\n",
       "      <td>покупка жилья</td>\n",
       "    </tr>\n",
       "    <tr>\n",
       "      <th>1</th>\n",
       "      <td>1</td>\n",
       "      <td>4024.803754</td>\n",
       "      <td>36</td>\n",
       "      <td>среднее</td>\n",
       "      <td>1</td>\n",
       "      <td>женат / замужем</td>\n",
       "      <td>0</td>\n",
       "      <td>F</td>\n",
       "      <td>сотрудник</td>\n",
       "      <td>0</td>\n",
       "      <td>112080</td>\n",
       "      <td>приобретение автомобиля</td>\n",
       "    </tr>\n",
       "    <tr>\n",
       "      <th>2</th>\n",
       "      <td>0</td>\n",
       "      <td>5623.422610</td>\n",
       "      <td>33</td>\n",
       "      <td>Среднее</td>\n",
       "      <td>1</td>\n",
       "      <td>женат / замужем</td>\n",
       "      <td>0</td>\n",
       "      <td>M</td>\n",
       "      <td>сотрудник</td>\n",
       "      <td>0</td>\n",
       "      <td>145885</td>\n",
       "      <td>покупка жилья</td>\n",
       "    </tr>\n",
       "    <tr>\n",
       "      <th>3</th>\n",
       "      <td>3</td>\n",
       "      <td>4124.747207</td>\n",
       "      <td>32</td>\n",
       "      <td>среднее</td>\n",
       "      <td>1</td>\n",
       "      <td>женат / замужем</td>\n",
       "      <td>0</td>\n",
       "      <td>M</td>\n",
       "      <td>сотрудник</td>\n",
       "      <td>0</td>\n",
       "      <td>267628</td>\n",
       "      <td>дополнительное образование</td>\n",
       "    </tr>\n",
       "    <tr>\n",
       "      <th>4</th>\n",
       "      <td>0</td>\n",
       "      <td>14177.753002</td>\n",
       "      <td>53</td>\n",
       "      <td>среднее</td>\n",
       "      <td>1</td>\n",
       "      <td>гражданский брак</td>\n",
       "      <td>1</td>\n",
       "      <td>F</td>\n",
       "      <td>пенсионер</td>\n",
       "      <td>0</td>\n",
       "      <td>158616</td>\n",
       "      <td>сыграть свадьбу</td>\n",
       "    </tr>\n",
       "  </tbody>\n",
       "</table>\n",
       "</div>"
      ],
      "text/plain": [
       "   children  days_employed  dob_years education  education_id  \\\n",
       "0         1    8437.673028         42    высшее             0   \n",
       "1         1    4024.803754         36   среднее             1   \n",
       "2         0    5623.422610         33   Среднее             1   \n",
       "3         3    4124.747207         32   среднее             1   \n",
       "4         0   14177.753002         53   среднее             1   \n",
       "\n",
       "      family_status  family_status_id gender income_type  debt  total_income  \\\n",
       "0   женат / замужем                 0      F   сотрудник     0        253875   \n",
       "1   женат / замужем                 0      F   сотрудник     0        112080   \n",
       "2   женат / замужем                 0      M   сотрудник     0        145885   \n",
       "3   женат / замужем                 0      M   сотрудник     0        267628   \n",
       "4  гражданский брак                 1      F   пенсионер     0        158616   \n",
       "\n",
       "                      purpose  \n",
       "0               покупка жилья  \n",
       "1     приобретение автомобиля  \n",
       "2               покупка жилья  \n",
       "3  дополнительное образование  \n",
       "4             сыграть свадьбу  "
      ]
     },
     "metadata": {},
     "output_type": "display_data"
    }
   ],
   "source": [
    "df['total_income'] = df['total_income'].astype('int64')\n",
    "df.info()\n",
    "display(df.head(5))"
   ]
  },
  {
   "cell_type": "markdown",
   "id": "8acd0860",
   "metadata": {},
   "source": [
    "Тип данных изменен."
   ]
  },
  {
   "cell_type": "markdown",
   "id": "864b88d3",
   "metadata": {},
   "source": [
    "## Удаление дубликатов."
   ]
  },
  {
   "cell_type": "markdown",
   "id": "cc594bce",
   "metadata": {},
   "source": [
    "Посмотрим, как записаны значения в столбце `education`."
   ]
  },
  {
   "cell_type": "code",
   "execution_count": 25,
   "id": "7ea32cce",
   "metadata": {},
   "outputs": [
    {
     "data": {
      "text/plain": [
       "array(['высшее', 'среднее', 'Среднее', 'СРЕДНЕЕ', 'ВЫСШЕЕ',\n",
       "       'неоконченное высшее', 'начальное', 'Высшее',\n",
       "       'НЕОКОНЧЕННОЕ ВЫСШЕЕ', 'Неоконченное высшее', 'НАЧАЛЬНОЕ',\n",
       "       'Начальное', 'Ученая степень', 'УЧЕНАЯ СТЕПЕНЬ', 'ученая степень'],\n",
       "      dtype=object)"
      ]
     },
     "execution_count": 25,
     "metadata": {},
     "output_type": "execute_result"
    }
   ],
   "source": [
    "df['education'].unique()"
   ]
  },
  {
   "cell_type": "markdown",
   "id": "3679f58f",
   "metadata": {},
   "source": [
    "Приведем значения к общему регистру."
   ]
  },
  {
   "cell_type": "code",
   "execution_count": 26,
   "id": "9496f835",
   "metadata": {},
   "outputs": [
    {
     "data": {
      "text/plain": [
       "array(['высшее', 'среднее', 'неоконченное высшее', 'начальное',\n",
       "       'ученая степень'], dtype=object)"
      ]
     },
     "execution_count": 26,
     "metadata": {},
     "output_type": "execute_result"
    }
   ],
   "source": [
    "df['education'] = df['education'].str.lower()\n",
    "df['education'].unique()"
   ]
  },
  {
   "cell_type": "markdown",
   "id": "37dcf13a",
   "metadata": {},
   "source": [
    "Избавились от большей части дубликатов в данных.\n",
    "\n",
    "Отформатируем нужные нам столбцы таким же методом."
   ]
  },
  {
   "cell_type": "code",
   "execution_count": 27,
   "id": "fea76e3e",
   "metadata": {},
   "outputs": [
    {
     "data": {
      "text/plain": [
       "array(['женат / замужем', 'гражданский брак', 'вдовец / вдова',\n",
       "       'в разводе', 'Не женат / не замужем'], dtype=object)"
      ]
     },
     "execution_count": 27,
     "metadata": {},
     "output_type": "execute_result"
    }
   ],
   "source": [
    "df['family_status'].unique()"
   ]
  },
  {
   "cell_type": "code",
   "execution_count": 28,
   "id": "41b340e7",
   "metadata": {},
   "outputs": [
    {
     "data": {
      "text/plain": [
       "array(['женат / замужем', 'гражданский брак', 'вдовец / вдова',\n",
       "       'в разводе', 'не женат / не замужем'], dtype=object)"
      ]
     },
     "execution_count": 28,
     "metadata": {},
     "output_type": "execute_result"
    }
   ],
   "source": [
    "df['family_status'] = df['family_status'].str.lower()\n",
    "df['family_status'].unique()"
   ]
  },
  {
   "cell_type": "code",
   "execution_count": 29,
   "id": "bdde034e",
   "metadata": {},
   "outputs": [
    {
     "data": {
      "text/plain": [
       "array(['сотрудник', 'пенсионер', 'компаньон', 'госслужащий',\n",
       "       'безработный', 'предприниматель', 'студент', 'в декрете'],\n",
       "      dtype=object)"
      ]
     },
     "execution_count": 29,
     "metadata": {},
     "output_type": "execute_result"
    }
   ],
   "source": [
    "df['income_type'].unique()"
   ]
  },
  {
   "cell_type": "markdown",
   "id": "3d10e658",
   "metadata": {},
   "source": [
    "В данном столбце регистр везде одинаковый.\n",
    "\n",
    "Выясним количество дубликатов."
   ]
  },
  {
   "cell_type": "code",
   "execution_count": 30,
   "id": "1246e585",
   "metadata": {},
   "outputs": [
    {
     "data": {
      "text/plain": [
       "71"
      ]
     },
     "execution_count": 30,
     "metadata": {},
     "output_type": "execute_result"
    }
   ],
   "source": [
    "df.duplicated().sum()"
   ]
  },
  {
   "cell_type": "markdown",
   "id": "b640055f",
   "metadata": {},
   "source": [
    "Удалим дубликаты и назначим новую нумерацию."
   ]
  },
  {
   "cell_type": "code",
   "execution_count": 31,
   "id": "056b1dc3",
   "metadata": {},
   "outputs": [
    {
     "data": {
      "text/plain": [
       "0"
      ]
     },
     "execution_count": 31,
     "metadata": {},
     "output_type": "execute_result"
    }
   ],
   "source": [
    "df = df.drop_duplicates().reset_index(drop = True)\n",
    "df.duplicated().sum()"
   ]
  },
  {
   "cell_type": "markdown",
   "id": "b0dd4e6e",
   "metadata": {},
   "source": [
    "**Вывод:** \n",
    "1. Исправлен регистр в значениях интересующих нас столбцов, теперь подсчеты по данным столбцам станут точнее, для устранения таких дубликатов использовался метод `unique`.\n",
    "2. Удалены явные дубликаты, для их обнаружения использовалось последовательное применение методов `duplicated` и `sum`, а для удаления `drop_duplicates`, нумерация была задана новая функцией `reset_index`."
   ]
  },
  {
   "cell_type": "markdown",
   "id": "d7a7fcbc",
   "metadata": {},
   "source": [
    "## Формирование дополнительных датафреймов словарей, декомпозиция исходного датафрейма."
   ]
  },
  {
   "cell_type": "markdown",
   "id": "abcf386f",
   "metadata": {},
   "source": [
    "Создадим новый датафрейм для уровня образования и его идентификатора."
   ]
  },
  {
   "cell_type": "code",
   "execution_count": 32,
   "id": "ce9dfaa6",
   "metadata": {
    "scrolled": false
   },
   "outputs": [
    {
     "data": {
      "text/plain": [
       "education            education_id\n",
       "среднее              1               15172\n",
       "высшее               0                5250\n",
       "неоконченное высшее  2                 744\n",
       "начальное            3                 282\n",
       "ученая степень       4                   6\n",
       "dtype: int64"
      ]
     },
     "metadata": {},
     "output_type": "display_data"
    }
   ],
   "source": [
    "df_education = df[['education','education_id']]\n",
    "display(df_education.value_counts()) # Посмотрим какое количество заёмщиков соответствуют каждому уровню образования"
   ]
  },
  {
   "cell_type": "markdown",
   "id": "46e60f54",
   "metadata": {},
   "source": [
    "Создадим новый датафрейм для семейного статуса и его идентификатора."
   ]
  },
  {
   "cell_type": "code",
   "execution_count": 33,
   "id": "92a817ff",
   "metadata": {},
   "outputs": [
    {
     "data": {
      "text/plain": [
       "family_status          family_status_id\n",
       "женат / замужем        0                   12339\n",
       "гражданский брак       1                    4151\n",
       "не женат / не замужем  4                    2810\n",
       "в разводе              3                    1195\n",
       "вдовец / вдова         2                     959\n",
       "dtype: int64"
      ]
     },
     "metadata": {},
     "output_type": "display_data"
    }
   ],
   "source": [
    "df_family_status = df[['family_status','family_status_id']]\n",
    "display(df_family_status.value_counts()) # Посмотрим какое количество заёмщиков соответствуют каждому семейному статусу"
   ]
  },
  {
   "cell_type": "markdown",
   "id": "4065492b",
   "metadata": {},
   "source": [
    "Удалим из исходного датафрейма столбцы `education` и `family_status`, оставив только их идентификаторы: `education_id` и `family_status_id`."
   ]
  },
  {
   "cell_type": "code",
   "execution_count": 34,
   "id": "047bc687",
   "metadata": {},
   "outputs": [],
   "source": [
    "df = df.drop(['education', 'family_status'], axis=1)"
   ]
  },
  {
   "cell_type": "code",
   "execution_count": 35,
   "id": "95af8ebb",
   "metadata": {},
   "outputs": [
    {
     "name": "stdout",
     "output_type": "stream",
     "text": [
      "<class 'pandas.core.frame.DataFrame'>\n",
      "RangeIndex: 21454 entries, 0 to 21453\n",
      "Data columns (total 10 columns):\n",
      " #   Column            Non-Null Count  Dtype  \n",
      "---  ------            --------------  -----  \n",
      " 0   children          21454 non-null  int64  \n",
      " 1   days_employed     21454 non-null  float64\n",
      " 2   dob_years         21454 non-null  int64  \n",
      " 3   education_id      21454 non-null  int64  \n",
      " 4   family_status_id  21454 non-null  int64  \n",
      " 5   gender            21454 non-null  object \n",
      " 6   income_type       21454 non-null  object \n",
      " 7   debt              21454 non-null  int64  \n",
      " 8   total_income      21454 non-null  int64  \n",
      " 9   purpose           21454 non-null  object \n",
      "dtypes: float64(1), int64(6), object(3)\n",
      "memory usage: 1.6+ MB\n"
     ]
    },
    {
     "data": {
      "text/html": [
       "<div>\n",
       "<style scoped>\n",
       "    .dataframe tbody tr th:only-of-type {\n",
       "        vertical-align: middle;\n",
       "    }\n",
       "\n",
       "    .dataframe tbody tr th {\n",
       "        vertical-align: top;\n",
       "    }\n",
       "\n",
       "    .dataframe thead th {\n",
       "        text-align: right;\n",
       "    }\n",
       "</style>\n",
       "<table border=\"1\" class=\"dataframe\">\n",
       "  <thead>\n",
       "    <tr style=\"text-align: right;\">\n",
       "      <th></th>\n",
       "      <th>children</th>\n",
       "      <th>days_employed</th>\n",
       "      <th>dob_years</th>\n",
       "      <th>education_id</th>\n",
       "      <th>family_status_id</th>\n",
       "      <th>gender</th>\n",
       "      <th>income_type</th>\n",
       "      <th>debt</th>\n",
       "      <th>total_income</th>\n",
       "      <th>purpose</th>\n",
       "    </tr>\n",
       "  </thead>\n",
       "  <tbody>\n",
       "    <tr>\n",
       "      <th>0</th>\n",
       "      <td>1</td>\n",
       "      <td>8437.673028</td>\n",
       "      <td>42</td>\n",
       "      <td>0</td>\n",
       "      <td>0</td>\n",
       "      <td>F</td>\n",
       "      <td>сотрудник</td>\n",
       "      <td>0</td>\n",
       "      <td>253875</td>\n",
       "      <td>покупка жилья</td>\n",
       "    </tr>\n",
       "    <tr>\n",
       "      <th>1</th>\n",
       "      <td>1</td>\n",
       "      <td>4024.803754</td>\n",
       "      <td>36</td>\n",
       "      <td>1</td>\n",
       "      <td>0</td>\n",
       "      <td>F</td>\n",
       "      <td>сотрудник</td>\n",
       "      <td>0</td>\n",
       "      <td>112080</td>\n",
       "      <td>приобретение автомобиля</td>\n",
       "    </tr>\n",
       "    <tr>\n",
       "      <th>2</th>\n",
       "      <td>0</td>\n",
       "      <td>5623.422610</td>\n",
       "      <td>33</td>\n",
       "      <td>1</td>\n",
       "      <td>0</td>\n",
       "      <td>M</td>\n",
       "      <td>сотрудник</td>\n",
       "      <td>0</td>\n",
       "      <td>145885</td>\n",
       "      <td>покупка жилья</td>\n",
       "    </tr>\n",
       "    <tr>\n",
       "      <th>3</th>\n",
       "      <td>3</td>\n",
       "      <td>4124.747207</td>\n",
       "      <td>32</td>\n",
       "      <td>1</td>\n",
       "      <td>0</td>\n",
       "      <td>M</td>\n",
       "      <td>сотрудник</td>\n",
       "      <td>0</td>\n",
       "      <td>267628</td>\n",
       "      <td>дополнительное образование</td>\n",
       "    </tr>\n",
       "    <tr>\n",
       "      <th>4</th>\n",
       "      <td>0</td>\n",
       "      <td>14177.753002</td>\n",
       "      <td>53</td>\n",
       "      <td>1</td>\n",
       "      <td>1</td>\n",
       "      <td>F</td>\n",
       "      <td>пенсионер</td>\n",
       "      <td>0</td>\n",
       "      <td>158616</td>\n",
       "      <td>сыграть свадьбу</td>\n",
       "    </tr>\n",
       "    <tr>\n",
       "      <th>...</th>\n",
       "      <td>...</td>\n",
       "      <td>...</td>\n",
       "      <td>...</td>\n",
       "      <td>...</td>\n",
       "      <td>...</td>\n",
       "      <td>...</td>\n",
       "      <td>...</td>\n",
       "      <td>...</td>\n",
       "      <td>...</td>\n",
       "      <td>...</td>\n",
       "    </tr>\n",
       "    <tr>\n",
       "      <th>21449</th>\n",
       "      <td>1</td>\n",
       "      <td>4529.316663</td>\n",
       "      <td>43</td>\n",
       "      <td>1</td>\n",
       "      <td>1</td>\n",
       "      <td>F</td>\n",
       "      <td>компаньон</td>\n",
       "      <td>0</td>\n",
       "      <td>224791</td>\n",
       "      <td>операции с жильем</td>\n",
       "    </tr>\n",
       "    <tr>\n",
       "      <th>21450</th>\n",
       "      <td>0</td>\n",
       "      <td>14330.725172</td>\n",
       "      <td>67</td>\n",
       "      <td>1</td>\n",
       "      <td>0</td>\n",
       "      <td>F</td>\n",
       "      <td>пенсионер</td>\n",
       "      <td>0</td>\n",
       "      <td>155999</td>\n",
       "      <td>сделка с автомобилем</td>\n",
       "    </tr>\n",
       "    <tr>\n",
       "      <th>21451</th>\n",
       "      <td>1</td>\n",
       "      <td>2113.346888</td>\n",
       "      <td>38</td>\n",
       "      <td>1</td>\n",
       "      <td>1</td>\n",
       "      <td>M</td>\n",
       "      <td>сотрудник</td>\n",
       "      <td>1</td>\n",
       "      <td>89672</td>\n",
       "      <td>недвижимость</td>\n",
       "    </tr>\n",
       "    <tr>\n",
       "      <th>21452</th>\n",
       "      <td>3</td>\n",
       "      <td>3112.481705</td>\n",
       "      <td>38</td>\n",
       "      <td>1</td>\n",
       "      <td>0</td>\n",
       "      <td>M</td>\n",
       "      <td>сотрудник</td>\n",
       "      <td>1</td>\n",
       "      <td>244093</td>\n",
       "      <td>на покупку своего автомобиля</td>\n",
       "    </tr>\n",
       "    <tr>\n",
       "      <th>21453</th>\n",
       "      <td>2</td>\n",
       "      <td>1984.507589</td>\n",
       "      <td>40</td>\n",
       "      <td>1</td>\n",
       "      <td>0</td>\n",
       "      <td>F</td>\n",
       "      <td>сотрудник</td>\n",
       "      <td>0</td>\n",
       "      <td>82047</td>\n",
       "      <td>на покупку автомобиля</td>\n",
       "    </tr>\n",
       "  </tbody>\n",
       "</table>\n",
       "<p>21454 rows × 10 columns</p>\n",
       "</div>"
      ],
      "text/plain": [
       "       children  days_employed  dob_years  education_id  family_status_id  \\\n",
       "0             1    8437.673028         42             0                 0   \n",
       "1             1    4024.803754         36             1                 0   \n",
       "2             0    5623.422610         33             1                 0   \n",
       "3             3    4124.747207         32             1                 0   \n",
       "4             0   14177.753002         53             1                 1   \n",
       "...         ...            ...        ...           ...               ...   \n",
       "21449         1    4529.316663         43             1                 1   \n",
       "21450         0   14330.725172         67             1                 0   \n",
       "21451         1    2113.346888         38             1                 1   \n",
       "21452         3    3112.481705         38             1                 0   \n",
       "21453         2    1984.507589         40             1                 0   \n",
       "\n",
       "      gender income_type  debt  total_income                       purpose  \n",
       "0          F   сотрудник     0        253875                 покупка жилья  \n",
       "1          F   сотрудник     0        112080       приобретение автомобиля  \n",
       "2          M   сотрудник     0        145885                 покупка жилья  \n",
       "3          M   сотрудник     0        267628    дополнительное образование  \n",
       "4          F   пенсионер     0        158616               сыграть свадьбу  \n",
       "...      ...         ...   ...           ...                           ...  \n",
       "21449      F   компаньон     0        224791             операции с жильем  \n",
       "21450      F   пенсионер     0        155999          сделка с автомобилем  \n",
       "21451      M   сотрудник     1         89672                  недвижимость  \n",
       "21452      M   сотрудник     1        244093  на покупку своего автомобиля  \n",
       "21453      F   сотрудник     0         82047         на покупку автомобиля  \n",
       "\n",
       "[21454 rows x 10 columns]"
      ]
     },
     "metadata": {},
     "output_type": "display_data"
    }
   ],
   "source": [
    "df.info()\n",
    "display(df)"
   ]
  },
  {
   "cell_type": "markdown",
   "id": "164a860a",
   "metadata": {},
   "source": [
    "Разгрузили таблицу от лишней информации."
   ]
  },
  {
   "cell_type": "markdown",
   "id": "47a7a296",
   "metadata": {},
   "source": [
    "## Категоризация дохода."
   ]
  },
  {
   "cell_type": "code",
   "execution_count": 36,
   "id": "0be7eb44",
   "metadata": {},
   "outputs": [
    {
     "data": {
      "text/html": [
       "<div>\n",
       "<style scoped>\n",
       "    .dataframe tbody tr th:only-of-type {\n",
       "        vertical-align: middle;\n",
       "    }\n",
       "\n",
       "    .dataframe tbody tr th {\n",
       "        vertical-align: top;\n",
       "    }\n",
       "\n",
       "    .dataframe thead th {\n",
       "        text-align: right;\n",
       "    }\n",
       "</style>\n",
       "<table border=\"1\" class=\"dataframe\">\n",
       "  <thead>\n",
       "    <tr style=\"text-align: right;\">\n",
       "      <th></th>\n",
       "      <th>children</th>\n",
       "      <th>days_employed</th>\n",
       "      <th>dob_years</th>\n",
       "      <th>education_id</th>\n",
       "      <th>family_status_id</th>\n",
       "      <th>gender</th>\n",
       "      <th>income_type</th>\n",
       "      <th>debt</th>\n",
       "      <th>total_income</th>\n",
       "      <th>purpose</th>\n",
       "      <th>total_income_category</th>\n",
       "    </tr>\n",
       "  </thead>\n",
       "  <tbody>\n",
       "    <tr>\n",
       "      <th>0</th>\n",
       "      <td>1</td>\n",
       "      <td>8437.673028</td>\n",
       "      <td>42</td>\n",
       "      <td>0</td>\n",
       "      <td>0</td>\n",
       "      <td>F</td>\n",
       "      <td>сотрудник</td>\n",
       "      <td>0</td>\n",
       "      <td>253875</td>\n",
       "      <td>покупка жилья</td>\n",
       "      <td>B</td>\n",
       "    </tr>\n",
       "    <tr>\n",
       "      <th>1</th>\n",
       "      <td>1</td>\n",
       "      <td>4024.803754</td>\n",
       "      <td>36</td>\n",
       "      <td>1</td>\n",
       "      <td>0</td>\n",
       "      <td>F</td>\n",
       "      <td>сотрудник</td>\n",
       "      <td>0</td>\n",
       "      <td>112080</td>\n",
       "      <td>приобретение автомобиля</td>\n",
       "      <td>C</td>\n",
       "    </tr>\n",
       "    <tr>\n",
       "      <th>2</th>\n",
       "      <td>0</td>\n",
       "      <td>5623.422610</td>\n",
       "      <td>33</td>\n",
       "      <td>1</td>\n",
       "      <td>0</td>\n",
       "      <td>M</td>\n",
       "      <td>сотрудник</td>\n",
       "      <td>0</td>\n",
       "      <td>145885</td>\n",
       "      <td>покупка жилья</td>\n",
       "      <td>C</td>\n",
       "    </tr>\n",
       "    <tr>\n",
       "      <th>3</th>\n",
       "      <td>3</td>\n",
       "      <td>4124.747207</td>\n",
       "      <td>32</td>\n",
       "      <td>1</td>\n",
       "      <td>0</td>\n",
       "      <td>M</td>\n",
       "      <td>сотрудник</td>\n",
       "      <td>0</td>\n",
       "      <td>267628</td>\n",
       "      <td>дополнительное образование</td>\n",
       "      <td>B</td>\n",
       "    </tr>\n",
       "    <tr>\n",
       "      <th>4</th>\n",
       "      <td>0</td>\n",
       "      <td>14177.753002</td>\n",
       "      <td>53</td>\n",
       "      <td>1</td>\n",
       "      <td>1</td>\n",
       "      <td>F</td>\n",
       "      <td>пенсионер</td>\n",
       "      <td>0</td>\n",
       "      <td>158616</td>\n",
       "      <td>сыграть свадьбу</td>\n",
       "      <td>C</td>\n",
       "    </tr>\n",
       "  </tbody>\n",
       "</table>\n",
       "</div>"
      ],
      "text/plain": [
       "   children  days_employed  dob_years  education_id  family_status_id gender  \\\n",
       "0         1    8437.673028         42             0                 0      F   \n",
       "1         1    4024.803754         36             1                 0      F   \n",
       "2         0    5623.422610         33             1                 0      M   \n",
       "3         3    4124.747207         32             1                 0      M   \n",
       "4         0   14177.753002         53             1                 1      F   \n",
       "\n",
       "  income_type  debt  total_income                     purpose  \\\n",
       "0   сотрудник     0        253875               покупка жилья   \n",
       "1   сотрудник     0        112080     приобретение автомобиля   \n",
       "2   сотрудник     0        145885               покупка жилья   \n",
       "3   сотрудник     0        267628  дополнительное образование   \n",
       "4   пенсионер     0        158616             сыграть свадьбу   \n",
       "\n",
       "  total_income_category  \n",
       "0                     B  \n",
       "1                     C  \n",
       "2                     C  \n",
       "3                     B  \n",
       "4                     C  "
      ]
     },
     "metadata": {},
     "output_type": "display_data"
    }
   ],
   "source": [
    "def total_income_category (income):\n",
    "    \"\"\"\n",
    "    Возвращает группу по значению дохода total_income, используя правила:\n",
    "    0–30000 — 'E';\n",
    "    30001–50000 — 'D';\n",
    "    50001–200000 — 'C';\n",
    "    200001–1000000 — 'B';\n",
    "    1000001 и выше — 'A'.\n",
    "    \"\"\"\n",
    "    if income <= 30000:\n",
    "        return 'E'\n",
    "    if income <= 50000:\n",
    "        return 'D'\n",
    "    if income <= 200000:\n",
    "        return 'C'\n",
    "    if income <= 1000000:\n",
    "        return 'B'\n",
    "    return 'A'\n",
    "df['total_income_category'] = df['total_income'].apply(total_income_category)\n",
    "display(df.head())"
   ]
  },
  {
   "cell_type": "markdown",
   "id": "c5b94349",
   "metadata": {},
   "source": [
    "## Категоризация целей кредита."
   ]
  },
  {
   "cell_type": "code",
   "execution_count": 37,
   "id": "18a4898c",
   "metadata": {},
   "outputs": [
    {
     "data": {
      "text/html": [
       "<div>\n",
       "<style scoped>\n",
       "    .dataframe tbody tr th:only-of-type {\n",
       "        vertical-align: middle;\n",
       "    }\n",
       "\n",
       "    .dataframe tbody tr th {\n",
       "        vertical-align: top;\n",
       "    }\n",
       "\n",
       "    .dataframe thead th {\n",
       "        text-align: right;\n",
       "    }\n",
       "</style>\n",
       "<table border=\"1\" class=\"dataframe\">\n",
       "  <thead>\n",
       "    <tr style=\"text-align: right;\">\n",
       "      <th></th>\n",
       "      <th>children</th>\n",
       "      <th>days_employed</th>\n",
       "      <th>dob_years</th>\n",
       "      <th>education_id</th>\n",
       "      <th>family_status_id</th>\n",
       "      <th>gender</th>\n",
       "      <th>income_type</th>\n",
       "      <th>debt</th>\n",
       "      <th>total_income</th>\n",
       "      <th>purpose</th>\n",
       "      <th>total_income_category</th>\n",
       "      <th>purpose_category</th>\n",
       "    </tr>\n",
       "  </thead>\n",
       "  <tbody>\n",
       "    <tr>\n",
       "      <th>0</th>\n",
       "      <td>1</td>\n",
       "      <td>8437.673028</td>\n",
       "      <td>42</td>\n",
       "      <td>0</td>\n",
       "      <td>0</td>\n",
       "      <td>F</td>\n",
       "      <td>сотрудник</td>\n",
       "      <td>0</td>\n",
       "      <td>253875</td>\n",
       "      <td>покупка жилья</td>\n",
       "      <td>B</td>\n",
       "      <td>операции с недвижимостью</td>\n",
       "    </tr>\n",
       "    <tr>\n",
       "      <th>1</th>\n",
       "      <td>1</td>\n",
       "      <td>4024.803754</td>\n",
       "      <td>36</td>\n",
       "      <td>1</td>\n",
       "      <td>0</td>\n",
       "      <td>F</td>\n",
       "      <td>сотрудник</td>\n",
       "      <td>0</td>\n",
       "      <td>112080</td>\n",
       "      <td>приобретение автомобиля</td>\n",
       "      <td>C</td>\n",
       "      <td>операции с автомобилем</td>\n",
       "    </tr>\n",
       "    <tr>\n",
       "      <th>2</th>\n",
       "      <td>0</td>\n",
       "      <td>5623.422610</td>\n",
       "      <td>33</td>\n",
       "      <td>1</td>\n",
       "      <td>0</td>\n",
       "      <td>M</td>\n",
       "      <td>сотрудник</td>\n",
       "      <td>0</td>\n",
       "      <td>145885</td>\n",
       "      <td>покупка жилья</td>\n",
       "      <td>C</td>\n",
       "      <td>операции с недвижимостью</td>\n",
       "    </tr>\n",
       "    <tr>\n",
       "      <th>3</th>\n",
       "      <td>3</td>\n",
       "      <td>4124.747207</td>\n",
       "      <td>32</td>\n",
       "      <td>1</td>\n",
       "      <td>0</td>\n",
       "      <td>M</td>\n",
       "      <td>сотрудник</td>\n",
       "      <td>0</td>\n",
       "      <td>267628</td>\n",
       "      <td>дополнительное образование</td>\n",
       "      <td>B</td>\n",
       "      <td>получение образования</td>\n",
       "    </tr>\n",
       "    <tr>\n",
       "      <th>4</th>\n",
       "      <td>0</td>\n",
       "      <td>14177.753002</td>\n",
       "      <td>53</td>\n",
       "      <td>1</td>\n",
       "      <td>1</td>\n",
       "      <td>F</td>\n",
       "      <td>пенсионер</td>\n",
       "      <td>0</td>\n",
       "      <td>158616</td>\n",
       "      <td>сыграть свадьбу</td>\n",
       "      <td>C</td>\n",
       "      <td>проведение свадьбы</td>\n",
       "    </tr>\n",
       "    <tr>\n",
       "      <th>5</th>\n",
       "      <td>0</td>\n",
       "      <td>926.185831</td>\n",
       "      <td>27</td>\n",
       "      <td>0</td>\n",
       "      <td>1</td>\n",
       "      <td>M</td>\n",
       "      <td>компаньон</td>\n",
       "      <td>0</td>\n",
       "      <td>255763</td>\n",
       "      <td>покупка жилья</td>\n",
       "      <td>B</td>\n",
       "      <td>операции с недвижимостью</td>\n",
       "    </tr>\n",
       "    <tr>\n",
       "      <th>6</th>\n",
       "      <td>0</td>\n",
       "      <td>2879.202052</td>\n",
       "      <td>43</td>\n",
       "      <td>0</td>\n",
       "      <td>0</td>\n",
       "      <td>F</td>\n",
       "      <td>компаньон</td>\n",
       "      <td>0</td>\n",
       "      <td>240525</td>\n",
       "      <td>операции с жильем</td>\n",
       "      <td>B</td>\n",
       "      <td>операции с недвижимостью</td>\n",
       "    </tr>\n",
       "    <tr>\n",
       "      <th>7</th>\n",
       "      <td>0</td>\n",
       "      <td>152.779569</td>\n",
       "      <td>50</td>\n",
       "      <td>1</td>\n",
       "      <td>0</td>\n",
       "      <td>M</td>\n",
       "      <td>сотрудник</td>\n",
       "      <td>0</td>\n",
       "      <td>135823</td>\n",
       "      <td>образование</td>\n",
       "      <td>C</td>\n",
       "      <td>получение образования</td>\n",
       "    </tr>\n",
       "    <tr>\n",
       "      <th>8</th>\n",
       "      <td>2</td>\n",
       "      <td>6929.865299</td>\n",
       "      <td>35</td>\n",
       "      <td>0</td>\n",
       "      <td>1</td>\n",
       "      <td>F</td>\n",
       "      <td>сотрудник</td>\n",
       "      <td>0</td>\n",
       "      <td>95856</td>\n",
       "      <td>на проведение свадьбы</td>\n",
       "      <td>C</td>\n",
       "      <td>проведение свадьбы</td>\n",
       "    </tr>\n",
       "    <tr>\n",
       "      <th>9</th>\n",
       "      <td>0</td>\n",
       "      <td>2188.756445</td>\n",
       "      <td>41</td>\n",
       "      <td>1</td>\n",
       "      <td>0</td>\n",
       "      <td>M</td>\n",
       "      <td>сотрудник</td>\n",
       "      <td>0</td>\n",
       "      <td>144425</td>\n",
       "      <td>покупка жилья для семьи</td>\n",
       "      <td>C</td>\n",
       "      <td>операции с недвижимостью</td>\n",
       "    </tr>\n",
       "    <tr>\n",
       "      <th>10</th>\n",
       "      <td>2</td>\n",
       "      <td>4171.483647</td>\n",
       "      <td>36</td>\n",
       "      <td>0</td>\n",
       "      <td>0</td>\n",
       "      <td>M</td>\n",
       "      <td>компаньон</td>\n",
       "      <td>0</td>\n",
       "      <td>113943</td>\n",
       "      <td>покупка недвижимости</td>\n",
       "      <td>C</td>\n",
       "      <td>операции с недвижимостью</td>\n",
       "    </tr>\n",
       "    <tr>\n",
       "      <th>11</th>\n",
       "      <td>0</td>\n",
       "      <td>792.701887</td>\n",
       "      <td>40</td>\n",
       "      <td>1</td>\n",
       "      <td>0</td>\n",
       "      <td>F</td>\n",
       "      <td>сотрудник</td>\n",
       "      <td>0</td>\n",
       "      <td>77069</td>\n",
       "      <td>покупка коммерческой недвижимости</td>\n",
       "      <td>C</td>\n",
       "      <td>операции с недвижимостью</td>\n",
       "    </tr>\n",
       "    <tr>\n",
       "      <th>12</th>\n",
       "      <td>0</td>\n",
       "      <td>15217.221094</td>\n",
       "      <td>65</td>\n",
       "      <td>1</td>\n",
       "      <td>1</td>\n",
       "      <td>M</td>\n",
       "      <td>пенсионер</td>\n",
       "      <td>0</td>\n",
       "      <td>118514</td>\n",
       "      <td>сыграть свадьбу</td>\n",
       "      <td>C</td>\n",
       "      <td>проведение свадьбы</td>\n",
       "    </tr>\n",
       "    <tr>\n",
       "      <th>13</th>\n",
       "      <td>0</td>\n",
       "      <td>1846.641941</td>\n",
       "      <td>54</td>\n",
       "      <td>2</td>\n",
       "      <td>0</td>\n",
       "      <td>F</td>\n",
       "      <td>сотрудник</td>\n",
       "      <td>0</td>\n",
       "      <td>130458</td>\n",
       "      <td>приобретение автомобиля</td>\n",
       "      <td>C</td>\n",
       "      <td>операции с автомобилем</td>\n",
       "    </tr>\n",
       "    <tr>\n",
       "      <th>14</th>\n",
       "      <td>0</td>\n",
       "      <td>1844.956182</td>\n",
       "      <td>56</td>\n",
       "      <td>0</td>\n",
       "      <td>1</td>\n",
       "      <td>F</td>\n",
       "      <td>компаньон</td>\n",
       "      <td>1</td>\n",
       "      <td>165127</td>\n",
       "      <td>покупка жилой недвижимости</td>\n",
       "      <td>C</td>\n",
       "      <td>операции с недвижимостью</td>\n",
       "    </tr>\n",
       "    <tr>\n",
       "      <th>15</th>\n",
       "      <td>1</td>\n",
       "      <td>972.364419</td>\n",
       "      <td>26</td>\n",
       "      <td>1</td>\n",
       "      <td>0</td>\n",
       "      <td>F</td>\n",
       "      <td>сотрудник</td>\n",
       "      <td>0</td>\n",
       "      <td>116820</td>\n",
       "      <td>строительство собственной недвижимости</td>\n",
       "      <td>C</td>\n",
       "      <td>операции с недвижимостью</td>\n",
       "    </tr>\n",
       "    <tr>\n",
       "      <th>16</th>\n",
       "      <td>0</td>\n",
       "      <td>1719.934226</td>\n",
       "      <td>35</td>\n",
       "      <td>1</td>\n",
       "      <td>0</td>\n",
       "      <td>F</td>\n",
       "      <td>сотрудник</td>\n",
       "      <td>0</td>\n",
       "      <td>289202</td>\n",
       "      <td>недвижимость</td>\n",
       "      <td>B</td>\n",
       "      <td>операции с недвижимостью</td>\n",
       "    </tr>\n",
       "    <tr>\n",
       "      <th>17</th>\n",
       "      <td>0</td>\n",
       "      <td>2369.999720</td>\n",
       "      <td>33</td>\n",
       "      <td>0</td>\n",
       "      <td>1</td>\n",
       "      <td>M</td>\n",
       "      <td>сотрудник</td>\n",
       "      <td>0</td>\n",
       "      <td>90410</td>\n",
       "      <td>строительство недвижимости</td>\n",
       "      <td>C</td>\n",
       "      <td>операции с недвижимостью</td>\n",
       "    </tr>\n",
       "    <tr>\n",
       "      <th>18</th>\n",
       "      <td>0</td>\n",
       "      <td>16678.380705</td>\n",
       "      <td>53</td>\n",
       "      <td>1</td>\n",
       "      <td>2</td>\n",
       "      <td>F</td>\n",
       "      <td>пенсионер</td>\n",
       "      <td>0</td>\n",
       "      <td>56823</td>\n",
       "      <td>на покупку подержанного автомобиля</td>\n",
       "      <td>C</td>\n",
       "      <td>операции с автомобилем</td>\n",
       "    </tr>\n",
       "    <tr>\n",
       "      <th>19</th>\n",
       "      <td>0</td>\n",
       "      <td>10038.818549</td>\n",
       "      <td>48</td>\n",
       "      <td>1</td>\n",
       "      <td>3</td>\n",
       "      <td>F</td>\n",
       "      <td>сотрудник</td>\n",
       "      <td>0</td>\n",
       "      <td>242831</td>\n",
       "      <td>на покупку своего автомобиля</td>\n",
       "      <td>B</td>\n",
       "      <td>операции с автомобилем</td>\n",
       "    </tr>\n",
       "    <tr>\n",
       "      <th>20</th>\n",
       "      <td>1</td>\n",
       "      <td>1311.604166</td>\n",
       "      <td>36</td>\n",
       "      <td>1</td>\n",
       "      <td>0</td>\n",
       "      <td>M</td>\n",
       "      <td>сотрудник</td>\n",
       "      <td>0</td>\n",
       "      <td>209552</td>\n",
       "      <td>недвижимость</td>\n",
       "      <td>B</td>\n",
       "      <td>операции с недвижимостью</td>\n",
       "    </tr>\n",
       "    <tr>\n",
       "      <th>21</th>\n",
       "      <td>1</td>\n",
       "      <td>253.685166</td>\n",
       "      <td>33</td>\n",
       "      <td>1</td>\n",
       "      <td>1</td>\n",
       "      <td>F</td>\n",
       "      <td>сотрудник</td>\n",
       "      <td>0</td>\n",
       "      <td>131812</td>\n",
       "      <td>приобретение автомобиля</td>\n",
       "      <td>C</td>\n",
       "      <td>операции с автомобилем</td>\n",
       "    </tr>\n",
       "    <tr>\n",
       "      <th>22</th>\n",
       "      <td>1</td>\n",
       "      <td>1766.644138</td>\n",
       "      <td>24</td>\n",
       "      <td>1</td>\n",
       "      <td>1</td>\n",
       "      <td>F</td>\n",
       "      <td>сотрудник</td>\n",
       "      <td>0</td>\n",
       "      <td>149681</td>\n",
       "      <td>на покупку подержанного автомобиля</td>\n",
       "      <td>C</td>\n",
       "      <td>операции с автомобилем</td>\n",
       "    </tr>\n",
       "    <tr>\n",
       "      <th>23</th>\n",
       "      <td>0</td>\n",
       "      <td>272.981385</td>\n",
       "      <td>21</td>\n",
       "      <td>0</td>\n",
       "      <td>1</td>\n",
       "      <td>M</td>\n",
       "      <td>сотрудник</td>\n",
       "      <td>0</td>\n",
       "      <td>128265</td>\n",
       "      <td>сыграть свадьбу</td>\n",
       "      <td>C</td>\n",
       "      <td>проведение свадьбы</td>\n",
       "    </tr>\n",
       "    <tr>\n",
       "      <th>24</th>\n",
       "      <td>1</td>\n",
       "      <td>14106.331371</td>\n",
       "      <td>57</td>\n",
       "      <td>1</td>\n",
       "      <td>4</td>\n",
       "      <td>F</td>\n",
       "      <td>пенсионер</td>\n",
       "      <td>0</td>\n",
       "      <td>290547</td>\n",
       "      <td>операции с коммерческой недвижимостью</td>\n",
       "      <td>B</td>\n",
       "      <td>операции с недвижимостью</td>\n",
       "    </tr>\n",
       "    <tr>\n",
       "      <th>25</th>\n",
       "      <td>0</td>\n",
       "      <td>15147.853723</td>\n",
       "      <td>67</td>\n",
       "      <td>1</td>\n",
       "      <td>0</td>\n",
       "      <td>M</td>\n",
       "      <td>пенсионер</td>\n",
       "      <td>0</td>\n",
       "      <td>55112</td>\n",
       "      <td>покупка недвижимости</td>\n",
       "      <td>C</td>\n",
       "      <td>операции с недвижимостью</td>\n",
       "    </tr>\n",
       "    <tr>\n",
       "      <th>26</th>\n",
       "      <td>0</td>\n",
       "      <td>2689.368353</td>\n",
       "      <td>41</td>\n",
       "      <td>1</td>\n",
       "      <td>0</td>\n",
       "      <td>M</td>\n",
       "      <td>госслужащий</td>\n",
       "      <td>0</td>\n",
       "      <td>150447</td>\n",
       "      <td>образование</td>\n",
       "      <td>C</td>\n",
       "      <td>получение образования</td>\n",
       "    </tr>\n",
       "    <tr>\n",
       "      <th>27</th>\n",
       "      <td>0</td>\n",
       "      <td>529.191635</td>\n",
       "      <td>28</td>\n",
       "      <td>0</td>\n",
       "      <td>0</td>\n",
       "      <td>M</td>\n",
       "      <td>сотрудник</td>\n",
       "      <td>0</td>\n",
       "      <td>308848</td>\n",
       "      <td>строительство собственной недвижимости</td>\n",
       "      <td>B</td>\n",
       "      <td>операции с недвижимостью</td>\n",
       "    </tr>\n",
       "    <tr>\n",
       "      <th>28</th>\n",
       "      <td>1</td>\n",
       "      <td>717.274324</td>\n",
       "      <td>26</td>\n",
       "      <td>0</td>\n",
       "      <td>0</td>\n",
       "      <td>F</td>\n",
       "      <td>сотрудник</td>\n",
       "      <td>0</td>\n",
       "      <td>187863</td>\n",
       "      <td>строительство собственной недвижимости</td>\n",
       "      <td>C</td>\n",
       "      <td>операции с недвижимостью</td>\n",
       "    </tr>\n",
       "    <tr>\n",
       "      <th>29</th>\n",
       "      <td>0</td>\n",
       "      <td>15217.221094</td>\n",
       "      <td>63</td>\n",
       "      <td>1</td>\n",
       "      <td>4</td>\n",
       "      <td>F</td>\n",
       "      <td>пенсионер</td>\n",
       "      <td>0</td>\n",
       "      <td>118514</td>\n",
       "      <td>строительство жилой недвижимости</td>\n",
       "      <td>C</td>\n",
       "      <td>операции с недвижимостью</td>\n",
       "    </tr>\n",
       "    <tr>\n",
       "      <th>30</th>\n",
       "      <td>1</td>\n",
       "      <td>13982.569521</td>\n",
       "      <td>62</td>\n",
       "      <td>1</td>\n",
       "      <td>0</td>\n",
       "      <td>F</td>\n",
       "      <td>пенсионер</td>\n",
       "      <td>0</td>\n",
       "      <td>171456</td>\n",
       "      <td>операции с коммерческой недвижимостью</td>\n",
       "      <td>C</td>\n",
       "      <td>операции с недвижимостью</td>\n",
       "    </tr>\n",
       "    <tr>\n",
       "      <th>31</th>\n",
       "      <td>0</td>\n",
       "      <td>1682.083438</td>\n",
       "      <td>47</td>\n",
       "      <td>3</td>\n",
       "      <td>0</td>\n",
       "      <td>F</td>\n",
       "      <td>сотрудник</td>\n",
       "      <td>0</td>\n",
       "      <td>275485</td>\n",
       "      <td>жилье</td>\n",
       "      <td>B</td>\n",
       "      <td>операции с недвижимостью</td>\n",
       "    </tr>\n",
       "    <tr>\n",
       "      <th>32</th>\n",
       "      <td>0</td>\n",
       "      <td>4649.910832</td>\n",
       "      <td>34</td>\n",
       "      <td>1</td>\n",
       "      <td>1</td>\n",
       "      <td>F</td>\n",
       "      <td>сотрудник</td>\n",
       "      <td>1</td>\n",
       "      <td>139057</td>\n",
       "      <td>на проведение свадьбы</td>\n",
       "      <td>C</td>\n",
       "      <td>проведение свадьбы</td>\n",
       "    </tr>\n",
       "    <tr>\n",
       "      <th>33</th>\n",
       "      <td>0</td>\n",
       "      <td>1548.637544</td>\n",
       "      <td>48</td>\n",
       "      <td>1</td>\n",
       "      <td>0</td>\n",
       "      <td>F</td>\n",
       "      <td>компаньон</td>\n",
       "      <td>0</td>\n",
       "      <td>157245</td>\n",
       "      <td>покупка жилья</td>\n",
       "      <td>C</td>\n",
       "      <td>операции с недвижимостью</td>\n",
       "    </tr>\n",
       "    <tr>\n",
       "      <th>34</th>\n",
       "      <td>0</td>\n",
       "      <td>4488.067031</td>\n",
       "      <td>35</td>\n",
       "      <td>1</td>\n",
       "      <td>0</td>\n",
       "      <td>F</td>\n",
       "      <td>сотрудник</td>\n",
       "      <td>0</td>\n",
       "      <td>104660</td>\n",
       "      <td>операции со своей недвижимостью</td>\n",
       "      <td>C</td>\n",
       "      <td>операции с недвижимостью</td>\n",
       "    </tr>\n",
       "    <tr>\n",
       "      <th>35</th>\n",
       "      <td>0</td>\n",
       "      <td>16417.544674</td>\n",
       "      <td>68</td>\n",
       "      <td>1</td>\n",
       "      <td>1</td>\n",
       "      <td>M</td>\n",
       "      <td>пенсионер</td>\n",
       "      <td>0</td>\n",
       "      <td>77805</td>\n",
       "      <td>на проведение свадьбы</td>\n",
       "      <td>C</td>\n",
       "      <td>проведение свадьбы</td>\n",
       "    </tr>\n",
       "    <tr>\n",
       "      <th>36</th>\n",
       "      <td>0</td>\n",
       "      <td>176.216688</td>\n",
       "      <td>33</td>\n",
       "      <td>1</td>\n",
       "      <td>4</td>\n",
       "      <td>M</td>\n",
       "      <td>сотрудник</td>\n",
       "      <td>0</td>\n",
       "      <td>138830</td>\n",
       "      <td>автомобили</td>\n",
       "      <td>C</td>\n",
       "      <td>операции с автомобилем</td>\n",
       "    </tr>\n",
       "    <tr>\n",
       "      <th>37</th>\n",
       "      <td>0</td>\n",
       "      <td>6448.810860</td>\n",
       "      <td>43</td>\n",
       "      <td>0</td>\n",
       "      <td>1</td>\n",
       "      <td>F</td>\n",
       "      <td>компаньон</td>\n",
       "      <td>0</td>\n",
       "      <td>154128</td>\n",
       "      <td>приобретение автомобиля</td>\n",
       "      <td>C</td>\n",
       "      <td>операции с автомобилем</td>\n",
       "    </tr>\n",
       "    <tr>\n",
       "      <th>38</th>\n",
       "      <td>0</td>\n",
       "      <td>597.881827</td>\n",
       "      <td>25</td>\n",
       "      <td>0</td>\n",
       "      <td>4</td>\n",
       "      <td>M</td>\n",
       "      <td>сотрудник</td>\n",
       "      <td>1</td>\n",
       "      <td>192247</td>\n",
       "      <td>образование</td>\n",
       "      <td>C</td>\n",
       "      <td>получение образования</td>\n",
       "    </tr>\n",
       "    <tr>\n",
       "      <th>39</th>\n",
       "      <td>0</td>\n",
       "      <td>650.587796</td>\n",
       "      <td>31</td>\n",
       "      <td>0</td>\n",
       "      <td>1</td>\n",
       "      <td>F</td>\n",
       "      <td>компаньон</td>\n",
       "      <td>0</td>\n",
       "      <td>754240</td>\n",
       "      <td>заняться образованием</td>\n",
       "      <td>B</td>\n",
       "      <td>получение образования</td>\n",
       "    </tr>\n",
       "    <tr>\n",
       "      <th>40</th>\n",
       "      <td>0</td>\n",
       "      <td>1030.362606</td>\n",
       "      <td>30</td>\n",
       "      <td>1</td>\n",
       "      <td>4</td>\n",
       "      <td>M</td>\n",
       "      <td>компаньон</td>\n",
       "      <td>0</td>\n",
       "      <td>142865</td>\n",
       "      <td>покупка недвижимости</td>\n",
       "      <td>C</td>\n",
       "      <td>операции с недвижимостью</td>\n",
       "    </tr>\n",
       "    <tr>\n",
       "      <th>41</th>\n",
       "      <td>0</td>\n",
       "      <td>2689.368353</td>\n",
       "      <td>50</td>\n",
       "      <td>1</td>\n",
       "      <td>0</td>\n",
       "      <td>F</td>\n",
       "      <td>госслужащий</td>\n",
       "      <td>0</td>\n",
       "      <td>150447</td>\n",
       "      <td>сделка с подержанным автомобилем</td>\n",
       "      <td>C</td>\n",
       "      <td>операции с автомобилем</td>\n",
       "    </tr>\n",
       "    <tr>\n",
       "      <th>42</th>\n",
       "      <td>0</td>\n",
       "      <td>1257.496190</td>\n",
       "      <td>20</td>\n",
       "      <td>2</td>\n",
       "      <td>4</td>\n",
       "      <td>F</td>\n",
       "      <td>сотрудник</td>\n",
       "      <td>0</td>\n",
       "      <td>82065</td>\n",
       "      <td>получение образования</td>\n",
       "      <td>C</td>\n",
       "      <td>получение образования</td>\n",
       "    </tr>\n",
       "    <tr>\n",
       "      <th>43</th>\n",
       "      <td>0</td>\n",
       "      <td>4375.681384</td>\n",
       "      <td>43</td>\n",
       "      <td>2</td>\n",
       "      <td>3</td>\n",
       "      <td>F</td>\n",
       "      <td>компаньон</td>\n",
       "      <td>0</td>\n",
       "      <td>272957</td>\n",
       "      <td>приобретение автомобиля</td>\n",
       "      <td>B</td>\n",
       "      <td>операции с автомобилем</td>\n",
       "    </tr>\n",
       "    <tr>\n",
       "      <th>44</th>\n",
       "      <td>1</td>\n",
       "      <td>1362.041728</td>\n",
       "      <td>26</td>\n",
       "      <td>1</td>\n",
       "      <td>0</td>\n",
       "      <td>F</td>\n",
       "      <td>сотрудник</td>\n",
       "      <td>0</td>\n",
       "      <td>100780</td>\n",
       "      <td>на покупку своего автомобиля</td>\n",
       "      <td>C</td>\n",
       "      <td>операции с автомобилем</td>\n",
       "    </tr>\n",
       "    <tr>\n",
       "      <th>45</th>\n",
       "      <td>1</td>\n",
       "      <td>1039.451741</td>\n",
       "      <td>49</td>\n",
       "      <td>1</td>\n",
       "      <td>4</td>\n",
       "      <td>F</td>\n",
       "      <td>сотрудник</td>\n",
       "      <td>0</td>\n",
       "      <td>106385</td>\n",
       "      <td>заняться образованием</td>\n",
       "      <td>C</td>\n",
       "      <td>получение образования</td>\n",
       "    </tr>\n",
       "    <tr>\n",
       "      <th>46</th>\n",
       "      <td>2</td>\n",
       "      <td>2262.712304</td>\n",
       "      <td>37</td>\n",
       "      <td>1</td>\n",
       "      <td>0</td>\n",
       "      <td>F</td>\n",
       "      <td>компаньон</td>\n",
       "      <td>0</td>\n",
       "      <td>182682</td>\n",
       "      <td>сделка с подержанным автомобилем</td>\n",
       "      <td>C</td>\n",
       "      <td>операции с автомобилем</td>\n",
       "    </tr>\n",
       "    <tr>\n",
       "      <th>47</th>\n",
       "      <td>1</td>\n",
       "      <td>2689.137274</td>\n",
       "      <td>33</td>\n",
       "      <td>0</td>\n",
       "      <td>1</td>\n",
       "      <td>M</td>\n",
       "      <td>госслужащий</td>\n",
       "      <td>0</td>\n",
       "      <td>356277</td>\n",
       "      <td>на проведение свадьбы</td>\n",
       "      <td>B</td>\n",
       "      <td>проведение свадьбы</td>\n",
       "    </tr>\n",
       "    <tr>\n",
       "      <th>48</th>\n",
       "      <td>0</td>\n",
       "      <td>3341.067886</td>\n",
       "      <td>45</td>\n",
       "      <td>1</td>\n",
       "      <td>0</td>\n",
       "      <td>F</td>\n",
       "      <td>сотрудник</td>\n",
       "      <td>0</td>\n",
       "      <td>162065</td>\n",
       "      <td>строительство собственной недвижимости</td>\n",
       "      <td>C</td>\n",
       "      <td>операции с недвижимостью</td>\n",
       "    </tr>\n",
       "    <tr>\n",
       "      <th>49</th>\n",
       "      <td>0</td>\n",
       "      <td>1181.443228</td>\n",
       "      <td>54</td>\n",
       "      <td>1</td>\n",
       "      <td>0</td>\n",
       "      <td>F</td>\n",
       "      <td>сотрудник</td>\n",
       "      <td>0</td>\n",
       "      <td>44591</td>\n",
       "      <td>автомобиль</td>\n",
       "      <td>D</td>\n",
       "      <td>операции с автомобилем</td>\n",
       "    </tr>\n",
       "  </tbody>\n",
       "</table>\n",
       "</div>"
      ],
      "text/plain": [
       "    children  days_employed  dob_years  education_id  family_status_id gender  \\\n",
       "0          1    8437.673028         42             0                 0      F   \n",
       "1          1    4024.803754         36             1                 0      F   \n",
       "2          0    5623.422610         33             1                 0      M   \n",
       "3          3    4124.747207         32             1                 0      M   \n",
       "4          0   14177.753002         53             1                 1      F   \n",
       "5          0     926.185831         27             0                 1      M   \n",
       "6          0    2879.202052         43             0                 0      F   \n",
       "7          0     152.779569         50             1                 0      M   \n",
       "8          2    6929.865299         35             0                 1      F   \n",
       "9          0    2188.756445         41             1                 0      M   \n",
       "10         2    4171.483647         36             0                 0      M   \n",
       "11         0     792.701887         40             1                 0      F   \n",
       "12         0   15217.221094         65             1                 1      M   \n",
       "13         0    1846.641941         54             2                 0      F   \n",
       "14         0    1844.956182         56             0                 1      F   \n",
       "15         1     972.364419         26             1                 0      F   \n",
       "16         0    1719.934226         35             1                 0      F   \n",
       "17         0    2369.999720         33             0                 1      M   \n",
       "18         0   16678.380705         53             1                 2      F   \n",
       "19         0   10038.818549         48             1                 3      F   \n",
       "20         1    1311.604166         36             1                 0      M   \n",
       "21         1     253.685166         33             1                 1      F   \n",
       "22         1    1766.644138         24             1                 1      F   \n",
       "23         0     272.981385         21             0                 1      M   \n",
       "24         1   14106.331371         57             1                 4      F   \n",
       "25         0   15147.853723         67             1                 0      M   \n",
       "26         0    2689.368353         41             1                 0      M   \n",
       "27         0     529.191635         28             0                 0      M   \n",
       "28         1     717.274324         26             0                 0      F   \n",
       "29         0   15217.221094         63             1                 4      F   \n",
       "30         1   13982.569521         62             1                 0      F   \n",
       "31         0    1682.083438         47             3                 0      F   \n",
       "32         0    4649.910832         34             1                 1      F   \n",
       "33         0    1548.637544         48             1                 0      F   \n",
       "34         0    4488.067031         35             1                 0      F   \n",
       "35         0   16417.544674         68             1                 1      M   \n",
       "36         0     176.216688         33             1                 4      M   \n",
       "37         0    6448.810860         43             0                 1      F   \n",
       "38         0     597.881827         25             0                 4      M   \n",
       "39         0     650.587796         31             0                 1      F   \n",
       "40         0    1030.362606         30             1                 4      M   \n",
       "41         0    2689.368353         50             1                 0      F   \n",
       "42         0    1257.496190         20             2                 4      F   \n",
       "43         0    4375.681384         43             2                 3      F   \n",
       "44         1    1362.041728         26             1                 0      F   \n",
       "45         1    1039.451741         49             1                 4      F   \n",
       "46         2    2262.712304         37             1                 0      F   \n",
       "47         1    2689.137274         33             0                 1      M   \n",
       "48         0    3341.067886         45             1                 0      F   \n",
       "49         0    1181.443228         54             1                 0      F   \n",
       "\n",
       "    income_type  debt  total_income                                 purpose  \\\n",
       "0     сотрудник     0        253875                           покупка жилья   \n",
       "1     сотрудник     0        112080                 приобретение автомобиля   \n",
       "2     сотрудник     0        145885                           покупка жилья   \n",
       "3     сотрудник     0        267628              дополнительное образование   \n",
       "4     пенсионер     0        158616                         сыграть свадьбу   \n",
       "5     компаньон     0        255763                           покупка жилья   \n",
       "6     компаньон     0        240525                       операции с жильем   \n",
       "7     сотрудник     0        135823                             образование   \n",
       "8     сотрудник     0         95856                   на проведение свадьбы   \n",
       "9     сотрудник     0        144425                 покупка жилья для семьи   \n",
       "10    компаньон     0        113943                    покупка недвижимости   \n",
       "11    сотрудник     0         77069       покупка коммерческой недвижимости   \n",
       "12    пенсионер     0        118514                         сыграть свадьбу   \n",
       "13    сотрудник     0        130458                 приобретение автомобиля   \n",
       "14    компаньон     1        165127              покупка жилой недвижимости   \n",
       "15    сотрудник     0        116820  строительство собственной недвижимости   \n",
       "16    сотрудник     0        289202                            недвижимость   \n",
       "17    сотрудник     0         90410              строительство недвижимости   \n",
       "18    пенсионер     0         56823      на покупку подержанного автомобиля   \n",
       "19    сотрудник     0        242831            на покупку своего автомобиля   \n",
       "20    сотрудник     0        209552                            недвижимость   \n",
       "21    сотрудник     0        131812                 приобретение автомобиля   \n",
       "22    сотрудник     0        149681      на покупку подержанного автомобиля   \n",
       "23    сотрудник     0        128265                         сыграть свадьбу   \n",
       "24    пенсионер     0        290547   операции с коммерческой недвижимостью   \n",
       "25    пенсионер     0         55112                    покупка недвижимости   \n",
       "26  госслужащий     0        150447                             образование   \n",
       "27    сотрудник     0        308848  строительство собственной недвижимости   \n",
       "28    сотрудник     0        187863  строительство собственной недвижимости   \n",
       "29    пенсионер     0        118514        строительство жилой недвижимости   \n",
       "30    пенсионер     0        171456   операции с коммерческой недвижимостью   \n",
       "31    сотрудник     0        275485                                   жилье   \n",
       "32    сотрудник     1        139057                   на проведение свадьбы   \n",
       "33    компаньон     0        157245                           покупка жилья   \n",
       "34    сотрудник     0        104660         операции со своей недвижимостью   \n",
       "35    пенсионер     0         77805                   на проведение свадьбы   \n",
       "36    сотрудник     0        138830                              автомобили   \n",
       "37    компаньон     0        154128                 приобретение автомобиля   \n",
       "38    сотрудник     1        192247                             образование   \n",
       "39    компаньон     0        754240                   заняться образованием   \n",
       "40    компаньон     0        142865                    покупка недвижимости   \n",
       "41  госслужащий     0        150447        сделка с подержанным автомобилем   \n",
       "42    сотрудник     0         82065                   получение образования   \n",
       "43    компаньон     0        272957                 приобретение автомобиля   \n",
       "44    сотрудник     0        100780            на покупку своего автомобиля   \n",
       "45    сотрудник     0        106385                   заняться образованием   \n",
       "46    компаньон     0        182682        сделка с подержанным автомобилем   \n",
       "47  госслужащий     0        356277                   на проведение свадьбы   \n",
       "48    сотрудник     0        162065  строительство собственной недвижимости   \n",
       "49    сотрудник     0         44591                              автомобиль   \n",
       "\n",
       "   total_income_category          purpose_category  \n",
       "0                      B  операции с недвижимостью  \n",
       "1                      C    операции с автомобилем  \n",
       "2                      C  операции с недвижимостью  \n",
       "3                      B     получение образования  \n",
       "4                      C        проведение свадьбы  \n",
       "5                      B  операции с недвижимостью  \n",
       "6                      B  операции с недвижимостью  \n",
       "7                      C     получение образования  \n",
       "8                      C        проведение свадьбы  \n",
       "9                      C  операции с недвижимостью  \n",
       "10                     C  операции с недвижимостью  \n",
       "11                     C  операции с недвижимостью  \n",
       "12                     C        проведение свадьбы  \n",
       "13                     C    операции с автомобилем  \n",
       "14                     C  операции с недвижимостью  \n",
       "15                     C  операции с недвижимостью  \n",
       "16                     B  операции с недвижимостью  \n",
       "17                     C  операции с недвижимостью  \n",
       "18                     C    операции с автомобилем  \n",
       "19                     B    операции с автомобилем  \n",
       "20                     B  операции с недвижимостью  \n",
       "21                     C    операции с автомобилем  \n",
       "22                     C    операции с автомобилем  \n",
       "23                     C        проведение свадьбы  \n",
       "24                     B  операции с недвижимостью  \n",
       "25                     C  операции с недвижимостью  \n",
       "26                     C     получение образования  \n",
       "27                     B  операции с недвижимостью  \n",
       "28                     C  операции с недвижимостью  \n",
       "29                     C  операции с недвижимостью  \n",
       "30                     C  операции с недвижимостью  \n",
       "31                     B  операции с недвижимостью  \n",
       "32                     C        проведение свадьбы  \n",
       "33                     C  операции с недвижимостью  \n",
       "34                     C  операции с недвижимостью  \n",
       "35                     C        проведение свадьбы  \n",
       "36                     C    операции с автомобилем  \n",
       "37                     C    операции с автомобилем  \n",
       "38                     C     получение образования  \n",
       "39                     B     получение образования  \n",
       "40                     C  операции с недвижимостью  \n",
       "41                     C    операции с автомобилем  \n",
       "42                     C     получение образования  \n",
       "43                     B    операции с автомобилем  \n",
       "44                     C    операции с автомобилем  \n",
       "45                     C     получение образования  \n",
       "46                     C    операции с автомобилем  \n",
       "47                     B        проведение свадьбы  \n",
       "48                     C  операции с недвижимостью  \n",
       "49                     D    операции с автомобилем  "
      ]
     },
     "metadata": {},
     "output_type": "display_data"
    }
   ],
   "source": [
    "def purpose_category (purpose):\n",
    "    if 'автомобил' in purpose:\n",
    "        return 'операции с автомобилем'\n",
    "    if 'недвижимост' in purpose or 'жиль' in purpose:\n",
    "        return 'операции с недвижимостью'\n",
    "    if 'свадьб' in purpose:\n",
    "        return 'проведение свадьбы'\n",
    "    if 'образовани' in purpose:\n",
    "        return 'получение образования'    \n",
    "df['purpose_category'] = df['purpose'].apply(purpose_category)\n",
    "display(df.head(50))        \n",
    "        "
   ]
  },
  {
   "cell_type": "markdown",
   "id": "cab8063a",
   "metadata": {},
   "source": [
    "## Ответы на вопросы."
   ]
  },
  {
   "cell_type": "markdown",
   "id": "30947816",
   "metadata": {},
   "source": [
    "### Вопрос 1: Есть ли зависимость между наличием детей и возвратом кредита в срок?"
   ]
  },
  {
   "cell_type": "code",
   "execution_count": 38,
   "id": "db513fab",
   "metadata": {},
   "outputs": [
    {
     "data": {
      "text/html": [
       "<div>\n",
       "<style scoped>\n",
       "    .dataframe tbody tr th:only-of-type {\n",
       "        vertical-align: middle;\n",
       "    }\n",
       "\n",
       "    .dataframe tbody tr th {\n",
       "        vertical-align: top;\n",
       "    }\n",
       "\n",
       "    .dataframe thead th {\n",
       "        text-align: right;\n",
       "    }\n",
       "</style>\n",
       "<table border=\"1\" class=\"dataframe\">\n",
       "  <thead>\n",
       "    <tr style=\"text-align: right;\">\n",
       "      <th></th>\n",
       "      <th>debt</th>\n",
       "    </tr>\n",
       "    <tr>\n",
       "      <th>children</th>\n",
       "      <th></th>\n",
       "    </tr>\n",
       "  </thead>\n",
       "  <tbody>\n",
       "    <tr>\n",
       "      <th>5</th>\n",
       "      <td>0.000000</td>\n",
       "    </tr>\n",
       "    <tr>\n",
       "      <th>0</th>\n",
       "      <td>0.075438</td>\n",
       "    </tr>\n",
       "    <tr>\n",
       "      <th>3</th>\n",
       "      <td>0.081818</td>\n",
       "    </tr>\n",
       "    <tr>\n",
       "      <th>1</th>\n",
       "      <td>0.091658</td>\n",
       "    </tr>\n",
       "    <tr>\n",
       "      <th>2</th>\n",
       "      <td>0.094925</td>\n",
       "    </tr>\n",
       "    <tr>\n",
       "      <th>4</th>\n",
       "      <td>0.097561</td>\n",
       "    </tr>\n",
       "  </tbody>\n",
       "</table>\n",
       "</div>"
      ],
      "text/plain": [
       "              debt\n",
       "children          \n",
       "5         0.000000\n",
       "0         0.075438\n",
       "3         0.081818\n",
       "1         0.091658\n",
       "2         0.094925\n",
       "4         0.097561"
      ]
     },
     "metadata": {},
     "output_type": "display_data"
    }
   ],
   "source": [
    "pivot_table_one = df.pivot_table(index=['children'],\n",
    "                                values = 'debt',\n",
    "                                aggfunc='mean').sort_values(by='debt')\n",
    "display(pivot_table_one)"
   ]
  },
  {
   "cell_type": "markdown",
   "id": "f5a393bf",
   "metadata": {},
   "source": [
    "#### Вывод 1: Да, зависимость есть, и она почти прямо пропорциональная. В семьях без детей самая низкая вероятность стать должником и самая высокая в семьях с четырьмя детьми. Но почему-то в семьях с тремя детьми вероятность ниже, чем в семьях с одним ребенком."
   ]
  },
  {
   "cell_type": "markdown",
   "id": "40e69757",
   "metadata": {},
   "source": [
    "###  Вопрос 2: Есть ли зависимость между семейным положением и возвратом кредита в срок?"
   ]
  },
  {
   "cell_type": "code",
   "execution_count": 39,
   "id": "5d01e4fe",
   "metadata": {},
   "outputs": [
    {
     "data": {
      "text/html": [
       "<div>\n",
       "<style scoped>\n",
       "    .dataframe tbody tr th:only-of-type {\n",
       "        vertical-align: middle;\n",
       "    }\n",
       "\n",
       "    .dataframe tbody tr th {\n",
       "        vertical-align: top;\n",
       "    }\n",
       "\n",
       "    .dataframe thead th {\n",
       "        text-align: right;\n",
       "    }\n",
       "</style>\n",
       "<table border=\"1\" class=\"dataframe\">\n",
       "  <thead>\n",
       "    <tr style=\"text-align: right;\">\n",
       "      <th></th>\n",
       "      <th>debt</th>\n",
       "    </tr>\n",
       "    <tr>\n",
       "      <th>family_status_id</th>\n",
       "      <th></th>\n",
       "    </tr>\n",
       "  </thead>\n",
       "  <tbody>\n",
       "    <tr>\n",
       "      <th>2</th>\n",
       "      <td>0.065693</td>\n",
       "    </tr>\n",
       "    <tr>\n",
       "      <th>3</th>\n",
       "      <td>0.071130</td>\n",
       "    </tr>\n",
       "    <tr>\n",
       "      <th>0</th>\n",
       "      <td>0.075452</td>\n",
       "    </tr>\n",
       "    <tr>\n",
       "      <th>1</th>\n",
       "      <td>0.093471</td>\n",
       "    </tr>\n",
       "    <tr>\n",
       "      <th>4</th>\n",
       "      <td>0.097509</td>\n",
       "    </tr>\n",
       "  </tbody>\n",
       "</table>\n",
       "</div>"
      ],
      "text/plain": [
       "                      debt\n",
       "family_status_id          \n",
       "2                 0.065693\n",
       "3                 0.071130\n",
       "0                 0.075452\n",
       "1                 0.093471\n",
       "4                 0.097509"
      ]
     },
     "metadata": {},
     "output_type": "display_data"
    }
   ],
   "source": [
    "pivot_table_two = df.pivot_table(index=['family_status_id'],\n",
    "                                values = 'debt',\n",
    "                                aggfunc='mean').sort_values(by='debt')\n",
    "display(pivot_table_two)"
   ]
  },
  {
   "cell_type": "code",
   "execution_count": 40,
   "id": "6f5207f5",
   "metadata": {
    "scrolled": true
   },
   "outputs": [
    {
     "data": {
      "text/plain": [
       "family_status          family_status_id\n",
       "женат / замужем        0                   12339\n",
       "гражданский брак       1                    4151\n",
       "не женат / не замужем  4                    2810\n",
       "в разводе              3                    1195\n",
       "вдовец / вдова         2                     959\n",
       "dtype: int64"
      ]
     },
     "execution_count": 40,
     "metadata": {},
     "output_type": "execute_result"
    }
   ],
   "source": [
    "df_family_status.value_counts()"
   ]
  },
  {
   "cell_type": "markdown",
   "id": "f8b231c8",
   "metadata": {},
   "source": [
    "#### Вывод 2: Да, зависимость есть. Самая низкая вероятность стать должником у категории вдовец / вдова и самая высокая у категории не женат / не замужем."
   ]
  },
  {
   "cell_type": "markdown",
   "id": "c926524e",
   "metadata": {},
   "source": [
    "### Вопрос 3: Есть ли зависимость между уровнем дохода и возвратом кредита в срок?"
   ]
  },
  {
   "cell_type": "code",
   "execution_count": 41,
   "id": "03b20944",
   "metadata": {
    "scrolled": true
   },
   "outputs": [
    {
     "data": {
      "text/html": [
       "<div>\n",
       "<style scoped>\n",
       "    .dataframe tbody tr th:only-of-type {\n",
       "        vertical-align: middle;\n",
       "    }\n",
       "\n",
       "    .dataframe tbody tr th {\n",
       "        vertical-align: top;\n",
       "    }\n",
       "\n",
       "    .dataframe thead th {\n",
       "        text-align: right;\n",
       "    }\n",
       "</style>\n",
       "<table border=\"1\" class=\"dataframe\">\n",
       "  <thead>\n",
       "    <tr style=\"text-align: right;\">\n",
       "      <th></th>\n",
       "      <th>debt</th>\n",
       "    </tr>\n",
       "    <tr>\n",
       "      <th>total_income_category</th>\n",
       "      <th></th>\n",
       "    </tr>\n",
       "  </thead>\n",
       "  <tbody>\n",
       "    <tr>\n",
       "      <th>D</th>\n",
       "      <td>0.060000</td>\n",
       "    </tr>\n",
       "    <tr>\n",
       "      <th>B</th>\n",
       "      <td>0.070607</td>\n",
       "    </tr>\n",
       "    <tr>\n",
       "      <th>A</th>\n",
       "      <td>0.080000</td>\n",
       "    </tr>\n",
       "    <tr>\n",
       "      <th>C</th>\n",
       "      <td>0.084920</td>\n",
       "    </tr>\n",
       "    <tr>\n",
       "      <th>E</th>\n",
       "      <td>0.090909</td>\n",
       "    </tr>\n",
       "  </tbody>\n",
       "</table>\n",
       "</div>"
      ],
      "text/plain": [
       "                           debt\n",
       "total_income_category          \n",
       "D                      0.060000\n",
       "B                      0.070607\n",
       "A                      0.080000\n",
       "C                      0.084920\n",
       "E                      0.090909"
      ]
     },
     "metadata": {},
     "output_type": "display_data"
    }
   ],
   "source": [
    "pivot_table_three = df.pivot_table(index=['total_income_category'],\n",
    "                                values = 'debt',\n",
    "                                aggfunc='mean').sort_values(by='debt')\n",
    "display(pivot_table_three)"
   ]
  },
  {
   "cell_type": "code",
   "execution_count": 42,
   "id": "0bb589a8",
   "metadata": {},
   "outputs": [
    {
     "data": {
      "text/plain": [
       "C    16015\n",
       "B     5042\n",
       "D      350\n",
       "A       25\n",
       "E       22\n",
       "Name: total_income_category, dtype: int64"
      ]
     },
     "execution_count": 42,
     "metadata": {},
     "output_type": "execute_result"
    }
   ],
   "source": [
    "df['total_income_category'].value_counts()"
   ]
  },
  {
   "cell_type": "markdown",
   "id": "ef87ee5a",
   "metadata": {},
   "source": [
    "1. A 1000001 и выше\n",
    "2. B 200001–1000000\n",
    "3. C 50001–200000\n",
    "4. D 30001–50000\n",
    "5. E 0–30000"
   ]
  },
  {
   "cell_type": "markdown",
   "id": "1acdf959",
   "metadata": {},
   "source": [
    "#### Вывод 3: Да, зависимость есть. Самая низкая вероятность стать должником у заёмщиков с доходом D 30001–50000 и самая высокая у заёмщиков с доходом E 0–30000."
   ]
  },
  {
   "cell_type": "markdown",
   "id": "fca2dd58",
   "metadata": {},
   "source": [
    "### Вопрос 4: Как разные цели кредита влияют на его возврат в срок?"
   ]
  },
  {
   "cell_type": "code",
   "execution_count": 43,
   "id": "640f5f6f",
   "metadata": {},
   "outputs": [
    {
     "data": {
      "text/html": [
       "<div>\n",
       "<style scoped>\n",
       "    .dataframe tbody tr th:only-of-type {\n",
       "        vertical-align: middle;\n",
       "    }\n",
       "\n",
       "    .dataframe tbody tr th {\n",
       "        vertical-align: top;\n",
       "    }\n",
       "\n",
       "    .dataframe thead th {\n",
       "        text-align: right;\n",
       "    }\n",
       "</style>\n",
       "<table border=\"1\" class=\"dataframe\">\n",
       "  <thead>\n",
       "    <tr style=\"text-align: right;\">\n",
       "      <th></th>\n",
       "      <th>debt</th>\n",
       "    </tr>\n",
       "    <tr>\n",
       "      <th>purpose_category</th>\n",
       "      <th></th>\n",
       "    </tr>\n",
       "  </thead>\n",
       "  <tbody>\n",
       "    <tr>\n",
       "      <th>операции с недвижимостью</th>\n",
       "      <td>0.072334</td>\n",
       "    </tr>\n",
       "    <tr>\n",
       "      <th>проведение свадьбы</th>\n",
       "      <td>0.080034</td>\n",
       "    </tr>\n",
       "    <tr>\n",
       "      <th>получение образования</th>\n",
       "      <td>0.092200</td>\n",
       "    </tr>\n",
       "    <tr>\n",
       "      <th>операции с автомобилем</th>\n",
       "      <td>0.093590</td>\n",
       "    </tr>\n",
       "  </tbody>\n",
       "</table>\n",
       "</div>"
      ],
      "text/plain": [
       "                              debt\n",
       "purpose_category                  \n",
       "операции с недвижимостью  0.072334\n",
       "проведение свадьбы        0.080034\n",
       "получение образования     0.092200\n",
       "операции с автомобилем    0.093590"
      ]
     },
     "metadata": {},
     "output_type": "display_data"
    }
   ],
   "source": [
    "pivot_table_four = df.pivot_table(index=['purpose_category'],\n",
    "                                values = 'debt',\n",
    "                                aggfunc='mean').sort_values(by='debt')\n",
    "display(pivot_table_four)"
   ]
  },
  {
   "cell_type": "markdown",
   "id": "62cb701d",
   "metadata": {},
   "source": [
    "#### Вывод 4: Да, зависимость есть. Самая низкая вероятность стать должником у заёмщиков с целью кредита на операции с недвижимостью  и самая высокая с целью кредита на операции с автомобилем."
   ]
  },
  {
   "cell_type": "markdown",
   "id": "3dd00628",
   "metadata": {},
   "source": [
    "## Общий вывод:\n",
    "Семейное положение и наличие детей в семье сильно влияют на погашение кредита. Для банка наибольший риск просрочки оплаты по кредиту при выдаче кредита клиентам имеющим 4х детей, не женатых/не замужем, с доходом от 0 до 30000, с целью кредита на операции с автомобилем, наименьший риск для банка при выдаче кредита клиентам без детей, вдовцам/вдовам, с доходом от 30000-50000, с целью кредита на операции с недвижимостью."
   ]
  }
 ],
 "metadata": {
  "ExecuteTimeLog": [
   {
    "duration": 560,
    "start_time": "2022-03-23T17:07:28.557Z"
   },
   {
    "duration": 88,
    "start_time": "2022-03-23T17:07:29.120Z"
   },
   {
    "duration": 46,
    "start_time": "2022-03-23T17:07:29.211Z"
   },
   {
    "duration": 25,
    "start_time": "2022-03-23T17:07:29.259Z"
   },
   {
    "duration": 74,
    "start_time": "2022-03-23T17:07:29.287Z"
   },
   {
    "duration": 14,
    "start_time": "2022-03-23T17:07:29.363Z"
   },
   {
    "duration": 16,
    "start_time": "2022-03-23T17:07:29.379Z"
   },
   {
    "duration": 7,
    "start_time": "2022-03-23T17:07:29.397Z"
   },
   {
    "duration": 6,
    "start_time": "2022-03-23T17:07:29.442Z"
   },
   {
    "duration": 12,
    "start_time": "2022-03-23T17:07:29.451Z"
   },
   {
    "duration": 13,
    "start_time": "2022-03-23T17:07:29.466Z"
   },
   {
    "duration": 65,
    "start_time": "2022-03-23T17:07:29.482Z"
   },
   {
    "duration": 35,
    "start_time": "2022-03-23T17:07:29.550Z"
   },
   {
    "duration": 58,
    "start_time": "2022-03-23T17:07:29.590Z"
   },
   {
    "duration": 56,
    "start_time": "2022-03-23T17:07:29.650Z"
   },
   {
    "duration": 41,
    "start_time": "2022-03-23T17:07:29.708Z"
   },
   {
    "duration": 22,
    "start_time": "2022-03-23T17:07:29.752Z"
   },
   {
    "duration": 84,
    "start_time": "2022-03-23T17:07:29.776Z"
   },
   {
    "duration": 8,
    "start_time": "2022-03-23T17:07:29.863Z"
   },
   {
    "duration": 13,
    "start_time": "2022-03-23T17:07:29.874Z"
   },
   {
    "duration": 9,
    "start_time": "2022-03-23T17:07:29.889Z"
   },
   {
    "duration": 14,
    "start_time": "2022-03-23T17:07:29.944Z"
   },
   {
    "duration": 17,
    "start_time": "2022-03-23T17:07:29.961Z"
   },
   {
    "duration": 100,
    "start_time": "2022-03-23T17:07:29.980Z"
   },
   {
    "duration": 37,
    "start_time": "2022-03-23T17:07:30.082Z"
   },
   {
    "duration": 7,
    "start_time": "2022-03-23T17:07:30.143Z"
   },
   {
    "duration": 34,
    "start_time": "2022-03-23T17:07:30.153Z"
   },
   {
    "duration": 8,
    "start_time": "2022-03-23T17:07:30.190Z"
   },
   {
    "duration": 59,
    "start_time": "2022-03-23T17:07:30.200Z"
   },
   {
    "duration": 17,
    "start_time": "2022-03-23T17:07:30.261Z"
   },
   {
    "duration": 43,
    "start_time": "2022-03-23T17:07:30.280Z"
   },
   {
    "duration": 68,
    "start_time": "2022-03-23T17:07:30.325Z"
   },
   {
    "duration": 15,
    "start_time": "2022-03-23T17:07:30.396Z"
   },
   {
    "duration": 43,
    "start_time": "2022-03-23T17:07:30.413Z"
   },
   {
    "duration": 8,
    "start_time": "2022-03-23T17:07:30.459Z"
   },
   {
    "duration": 74,
    "start_time": "2022-03-23T17:07:30.469Z"
   },
   {
    "duration": 31,
    "start_time": "2022-03-23T17:07:30.545Z"
   },
   {
    "duration": 71,
    "start_time": "2022-03-23T17:07:30.578Z"
   },
   {
    "duration": 37,
    "start_time": "2022-03-23T17:07:30.652Z"
   },
   {
    "duration": 55,
    "start_time": "2022-03-23T17:07:30.691Z"
   },
   {
    "duration": 15,
    "start_time": "2022-03-23T17:07:30.751Z"
   },
   {
    "duration": 26,
    "start_time": "2022-03-23T17:07:30.768Z"
   },
   {
    "duration": 47,
    "start_time": "2022-03-23T17:07:30.796Z"
   },
   {
    "duration": 27,
    "start_time": "2022-03-23T17:07:30.845Z"
   },
   {
    "duration": 22,
    "start_time": "2022-03-23T17:09:13.719Z"
   },
   {
    "duration": 13,
    "start_time": "2022-03-23T17:11:00.492Z"
   },
   {
    "duration": 14,
    "start_time": "2022-03-23T17:11:10.209Z"
   },
   {
    "duration": 67,
    "start_time": "2022-03-24T03:49:48.579Z"
   },
   {
    "duration": 520,
    "start_time": "2022-03-24T03:50:28.335Z"
   },
   {
    "duration": 74,
    "start_time": "2022-03-24T03:50:28.858Z"
   },
   {
    "duration": 38,
    "start_time": "2022-03-24T03:50:28.934Z"
   },
   {
    "duration": 20,
    "start_time": "2022-03-24T03:50:28.975Z"
   },
   {
    "duration": 41,
    "start_time": "2022-03-24T03:50:28.997Z"
   },
   {
    "duration": 38,
    "start_time": "2022-03-24T03:50:29.040Z"
   },
   {
    "duration": 10,
    "start_time": "2022-03-24T03:50:29.080Z"
   },
   {
    "duration": 5,
    "start_time": "2022-03-24T03:50:29.092Z"
   },
   {
    "duration": 6,
    "start_time": "2022-03-24T03:50:29.099Z"
   },
   {
    "duration": 57,
    "start_time": "2022-03-24T03:50:29.109Z"
   },
   {
    "duration": 10,
    "start_time": "2022-03-24T03:50:29.169Z"
   },
   {
    "duration": 10,
    "start_time": "2022-03-24T03:50:29.181Z"
   },
   {
    "duration": 9,
    "start_time": "2022-03-24T03:50:29.193Z"
   },
   {
    "duration": 72,
    "start_time": "2022-03-24T03:50:29.205Z"
   },
   {
    "duration": 29,
    "start_time": "2022-03-24T03:50:29.279Z"
   },
   {
    "duration": 74,
    "start_time": "2022-03-24T03:50:29.310Z"
   },
   {
    "duration": 21,
    "start_time": "2022-03-24T03:50:29.386Z"
   },
   {
    "duration": 20,
    "start_time": "2022-03-24T03:50:29.409Z"
   },
   {
    "duration": 71,
    "start_time": "2022-03-24T03:50:29.431Z"
   },
   {
    "duration": 8,
    "start_time": "2022-03-24T03:50:29.505Z"
   },
   {
    "duration": 10,
    "start_time": "2022-03-24T03:50:29.516Z"
   },
   {
    "duration": 7,
    "start_time": "2022-03-24T03:50:29.528Z"
   },
   {
    "duration": 10,
    "start_time": "2022-03-24T03:50:29.569Z"
   },
   {
    "duration": 13,
    "start_time": "2022-03-24T03:50:29.581Z"
   },
   {
    "duration": 73,
    "start_time": "2022-03-24T03:50:29.596Z"
   },
   {
    "duration": 42,
    "start_time": "2022-03-24T03:50:29.671Z"
   },
   {
    "duration": 7,
    "start_time": "2022-03-24T03:50:29.716Z"
   },
   {
    "duration": 62,
    "start_time": "2022-03-24T03:50:29.729Z"
   },
   {
    "duration": 9,
    "start_time": "2022-03-24T03:50:29.794Z"
   },
   {
    "duration": 25,
    "start_time": "2022-03-24T03:50:29.806Z"
   },
   {
    "duration": 37,
    "start_time": "2022-03-24T03:50:29.834Z"
   },
   {
    "duration": 28,
    "start_time": "2022-03-24T03:50:29.873Z"
   },
   {
    "duration": 73,
    "start_time": "2022-03-24T03:50:29.903Z"
   },
   {
    "duration": 15,
    "start_time": "2022-03-24T03:50:29.979Z"
   },
   {
    "duration": 15,
    "start_time": "2022-03-24T03:50:29.996Z"
   },
   {
    "duration": 8,
    "start_time": "2022-03-24T03:50:30.014Z"
   },
   {
    "duration": 75,
    "start_time": "2022-03-24T03:50:30.025Z"
   },
   {
    "duration": 27,
    "start_time": "2022-03-24T03:50:30.103Z"
   },
   {
    "duration": 76,
    "start_time": "2022-03-24T03:50:30.133Z"
   },
   {
    "duration": 27,
    "start_time": "2022-03-24T03:50:30.212Z"
   },
   {
    "duration": 46,
    "start_time": "2022-03-24T03:50:30.242Z"
   },
   {
    "duration": 11,
    "start_time": "2022-03-24T03:50:30.291Z"
   },
   {
    "duration": 26,
    "start_time": "2022-03-24T03:50:30.305Z"
   },
   {
    "duration": 43,
    "start_time": "2022-03-24T03:50:30.333Z"
   },
   {
    "duration": 27,
    "start_time": "2022-03-24T03:50:30.378Z"
   },
   {
    "duration": 82,
    "start_time": "2022-03-24T03:57:27.690Z"
   },
   {
    "duration": 9,
    "start_time": "2022-03-24T03:58:10.156Z"
   },
   {
    "duration": 20,
    "start_time": "2022-03-24T04:03:03.537Z"
   },
   {
    "duration": 519,
    "start_time": "2022-03-24T04:03:59.391Z"
   },
   {
    "duration": 73,
    "start_time": "2022-03-24T04:03:59.913Z"
   },
   {
    "duration": 31,
    "start_time": "2022-03-24T04:03:59.989Z"
   },
   {
    "duration": 23,
    "start_time": "2022-03-24T04:04:00.023Z"
   },
   {
    "duration": 45,
    "start_time": "2022-03-24T04:04:00.068Z"
   },
   {
    "duration": 13,
    "start_time": "2022-03-24T04:04:00.115Z"
   },
   {
    "duration": 39,
    "start_time": "2022-03-24T04:04:00.130Z"
   },
   {
    "duration": 5,
    "start_time": "2022-03-24T04:04:00.171Z"
   },
   {
    "duration": 7,
    "start_time": "2022-03-24T04:04:00.178Z"
   },
   {
    "duration": 16,
    "start_time": "2022-03-24T04:04:00.189Z"
   },
   {
    "duration": 8,
    "start_time": "2022-03-24T04:04:00.207Z"
   },
   {
    "duration": 21,
    "start_time": "2022-03-24T04:04:00.217Z"
   },
   {
    "duration": 7,
    "start_time": "2022-03-24T04:04:00.268Z"
   },
   {
    "duration": 33,
    "start_time": "2022-03-24T04:04:00.277Z"
   },
   {
    "duration": 55,
    "start_time": "2022-03-24T04:04:00.312Z"
   },
   {
    "duration": 52,
    "start_time": "2022-03-24T04:04:00.370Z"
   },
   {
    "duration": 3,
    "start_time": "2022-03-24T04:04:00.424Z"
   },
   {
    "duration": 44,
    "start_time": "2022-03-24T04:04:00.429Z"
   },
   {
    "duration": 22,
    "start_time": "2022-03-24T04:04:00.476Z"
   },
   {
    "duration": 67,
    "start_time": "2022-03-24T04:04:00.500Z"
   },
   {
    "duration": 9,
    "start_time": "2022-03-24T04:04:00.570Z"
   },
   {
    "duration": 13,
    "start_time": "2022-03-24T04:04:00.582Z"
   },
   {
    "duration": 11,
    "start_time": "2022-03-24T04:04:00.597Z"
   },
   {
    "duration": 15,
    "start_time": "2022-03-24T04:04:00.611Z"
   },
   {
    "duration": 49,
    "start_time": "2022-03-24T04:04:00.628Z"
   },
   {
    "duration": 42,
    "start_time": "2022-03-24T04:04:00.679Z"
   },
   {
    "duration": 59,
    "start_time": "2022-03-24T04:04:00.723Z"
   },
   {
    "duration": 7,
    "start_time": "2022-03-24T04:04:00.786Z"
   },
   {
    "duration": 36,
    "start_time": "2022-03-24T04:04:00.796Z"
   },
   {
    "duration": 8,
    "start_time": "2022-03-24T04:04:00.834Z"
   },
   {
    "duration": 25,
    "start_time": "2022-03-24T04:04:00.869Z"
   },
   {
    "duration": 13,
    "start_time": "2022-03-24T04:04:00.896Z"
   },
   {
    "duration": 34,
    "start_time": "2022-03-24T04:04:00.911Z"
   },
   {
    "duration": 55,
    "start_time": "2022-03-24T04:04:00.967Z"
   },
   {
    "duration": 13,
    "start_time": "2022-03-24T04:04:01.024Z"
   },
   {
    "duration": 45,
    "start_time": "2022-03-24T04:04:01.039Z"
   },
   {
    "duration": 35,
    "start_time": "2022-03-24T04:04:01.086Z"
   },
   {
    "duration": 51,
    "start_time": "2022-03-24T04:04:01.123Z"
   },
   {
    "duration": 37,
    "start_time": "2022-03-24T04:04:01.177Z"
   },
   {
    "duration": 67,
    "start_time": "2022-03-24T04:04:01.217Z"
   },
   {
    "duration": 53,
    "start_time": "2022-03-24T04:04:01.286Z"
   },
   {
    "duration": 35,
    "start_time": "2022-03-24T04:04:01.341Z"
   },
   {
    "duration": 15,
    "start_time": "2022-03-24T04:04:01.378Z"
   },
   {
    "duration": 31,
    "start_time": "2022-03-24T04:04:01.395Z"
   },
   {
    "duration": 25,
    "start_time": "2022-03-24T04:04:01.429Z"
   },
   {
    "duration": 48,
    "start_time": "2022-03-24T04:04:01.456Z"
   },
   {
    "duration": 452,
    "start_time": "2022-03-24T04:06:55.708Z"
   },
   {
    "duration": 73,
    "start_time": "2022-03-24T04:06:56.167Z"
   },
   {
    "duration": 37,
    "start_time": "2022-03-24T04:06:56.246Z"
   },
   {
    "duration": 23,
    "start_time": "2022-03-24T04:06:56.286Z"
   },
   {
    "duration": 73,
    "start_time": "2022-03-24T04:06:56.311Z"
   },
   {
    "duration": 14,
    "start_time": "2022-03-24T04:06:56.387Z"
   },
   {
    "duration": 17,
    "start_time": "2022-03-24T04:06:56.403Z"
   },
   {
    "duration": 8,
    "start_time": "2022-03-24T04:06:56.422Z"
   },
   {
    "duration": 5,
    "start_time": "2022-03-24T04:06:56.468Z"
   },
   {
    "duration": 20,
    "start_time": "2022-03-24T04:06:56.475Z"
   },
   {
    "duration": 11,
    "start_time": "2022-03-24T04:06:56.497Z"
   },
   {
    "duration": 16,
    "start_time": "2022-03-24T04:06:56.510Z"
   },
   {
    "duration": 12,
    "start_time": "2022-03-24T04:06:56.528Z"
   },
   {
    "duration": 4,
    "start_time": "2022-03-24T04:06:56.567Z"
   },
   {
    "duration": 20,
    "start_time": "2022-03-24T04:06:56.573Z"
   },
   {
    "duration": 23,
    "start_time": "2022-03-24T04:06:56.596Z"
   },
   {
    "duration": 15,
    "start_time": "2022-03-24T04:06:56.621Z"
   },
   {
    "duration": 30,
    "start_time": "2022-03-24T04:06:56.638Z"
   },
   {
    "duration": 20,
    "start_time": "2022-03-24T04:06:56.670Z"
   },
   {
    "duration": 48,
    "start_time": "2022-03-24T04:06:56.692Z"
   },
   {
    "duration": 7,
    "start_time": "2022-03-24T04:06:56.742Z"
   },
   {
    "duration": 15,
    "start_time": "2022-03-24T04:06:56.768Z"
   },
   {
    "duration": 12,
    "start_time": "2022-03-24T04:06:56.785Z"
   },
   {
    "duration": 12,
    "start_time": "2022-03-24T04:06:56.799Z"
   },
   {
    "duration": 14,
    "start_time": "2022-03-24T04:06:56.813Z"
   },
   {
    "duration": 65,
    "start_time": "2022-03-24T04:06:56.829Z"
   },
   {
    "duration": 103,
    "start_time": "2022-03-24T04:06:56.899Z"
   },
   {
    "duration": 0,
    "start_time": "2022-03-24T04:06:57.004Z"
   },
   {
    "duration": 0,
    "start_time": "2022-03-24T04:06:57.006Z"
   },
   {
    "duration": 0,
    "start_time": "2022-03-24T04:06:57.007Z"
   },
   {
    "duration": 0,
    "start_time": "2022-03-24T04:06:57.008Z"
   },
   {
    "duration": 0,
    "start_time": "2022-03-24T04:06:57.010Z"
   },
   {
    "duration": 0,
    "start_time": "2022-03-24T04:06:57.011Z"
   },
   {
    "duration": 0,
    "start_time": "2022-03-24T04:06:57.013Z"
   },
   {
    "duration": 0,
    "start_time": "2022-03-24T04:06:57.014Z"
   },
   {
    "duration": 0,
    "start_time": "2022-03-24T04:06:57.016Z"
   },
   {
    "duration": 0,
    "start_time": "2022-03-24T04:06:57.017Z"
   },
   {
    "duration": 0,
    "start_time": "2022-03-24T04:06:57.018Z"
   },
   {
    "duration": 0,
    "start_time": "2022-03-24T04:06:57.020Z"
   },
   {
    "duration": 0,
    "start_time": "2022-03-24T04:06:57.021Z"
   },
   {
    "duration": 0,
    "start_time": "2022-03-24T04:06:57.023Z"
   },
   {
    "duration": 0,
    "start_time": "2022-03-24T04:06:57.024Z"
   },
   {
    "duration": 0,
    "start_time": "2022-03-24T04:06:57.026Z"
   },
   {
    "duration": 1,
    "start_time": "2022-03-24T04:06:57.067Z"
   },
   {
    "duration": 0,
    "start_time": "2022-03-24T04:06:57.069Z"
   },
   {
    "duration": 0,
    "start_time": "2022-03-24T04:06:57.071Z"
   },
   {
    "duration": 518,
    "start_time": "2022-03-24T04:07:29.861Z"
   },
   {
    "duration": 75,
    "start_time": "2022-03-24T04:07:30.381Z"
   },
   {
    "duration": 36,
    "start_time": "2022-03-24T04:07:30.458Z"
   },
   {
    "duration": 23,
    "start_time": "2022-03-24T04:07:30.496Z"
   },
   {
    "duration": 72,
    "start_time": "2022-03-24T04:07:30.521Z"
   },
   {
    "duration": 14,
    "start_time": "2022-03-24T04:07:30.596Z"
   },
   {
    "duration": 12,
    "start_time": "2022-03-24T04:07:30.612Z"
   },
   {
    "duration": 6,
    "start_time": "2022-03-24T04:07:30.627Z"
   },
   {
    "duration": 6,
    "start_time": "2022-03-24T04:07:30.667Z"
   },
   {
    "duration": 20,
    "start_time": "2022-03-24T04:07:30.677Z"
   },
   {
    "duration": 15,
    "start_time": "2022-03-24T04:07:30.700Z"
   },
   {
    "duration": 25,
    "start_time": "2022-03-24T04:07:30.717Z"
   },
   {
    "duration": 23,
    "start_time": "2022-03-24T04:07:30.744Z"
   },
   {
    "duration": 16,
    "start_time": "2022-03-24T04:07:30.770Z"
   },
   {
    "duration": 19,
    "start_time": "2022-03-24T04:07:30.789Z"
   },
   {
    "duration": 28,
    "start_time": "2022-03-24T04:07:30.810Z"
   },
   {
    "duration": 29,
    "start_time": "2022-03-24T04:07:30.841Z"
   },
   {
    "duration": 30,
    "start_time": "2022-03-24T04:07:30.872Z"
   },
   {
    "duration": 27,
    "start_time": "2022-03-24T04:07:30.905Z"
   },
   {
    "duration": 69,
    "start_time": "2022-03-24T04:07:30.934Z"
   },
   {
    "duration": 7,
    "start_time": "2022-03-24T04:07:31.005Z"
   },
   {
    "duration": 21,
    "start_time": "2022-03-24T04:07:31.014Z"
   },
   {
    "duration": 18,
    "start_time": "2022-03-24T04:07:31.037Z"
   },
   {
    "duration": 23,
    "start_time": "2022-03-24T04:07:31.058Z"
   },
   {
    "duration": 24,
    "start_time": "2022-03-24T04:07:31.083Z"
   },
   {
    "duration": 57,
    "start_time": "2022-03-24T04:07:31.109Z"
   },
   {
    "duration": 34,
    "start_time": "2022-03-24T04:07:31.168Z"
   },
   {
    "duration": 7,
    "start_time": "2022-03-24T04:07:31.207Z"
   },
   {
    "duration": 32,
    "start_time": "2022-03-24T04:07:31.216Z"
   },
   {
    "duration": 22,
    "start_time": "2022-03-24T04:07:31.251Z"
   },
   {
    "duration": 31,
    "start_time": "2022-03-24T04:07:31.276Z"
   },
   {
    "duration": 15,
    "start_time": "2022-03-24T04:07:31.310Z"
   },
   {
    "duration": 48,
    "start_time": "2022-03-24T04:07:31.328Z"
   },
   {
    "duration": 52,
    "start_time": "2022-03-24T04:07:31.378Z"
   },
   {
    "duration": 35,
    "start_time": "2022-03-24T04:07:31.432Z"
   },
   {
    "duration": 15,
    "start_time": "2022-03-24T04:07:31.470Z"
   },
   {
    "duration": 7,
    "start_time": "2022-03-24T04:07:31.487Z"
   },
   {
    "duration": 40,
    "start_time": "2022-03-24T04:07:31.496Z"
   },
   {
    "duration": 56,
    "start_time": "2022-03-24T04:07:31.538Z"
   },
   {
    "duration": 43,
    "start_time": "2022-03-24T04:07:31.597Z"
   },
   {
    "duration": 27,
    "start_time": "2022-03-24T04:07:31.667Z"
   },
   {
    "duration": 21,
    "start_time": "2022-03-24T04:07:31.697Z"
   },
   {
    "duration": 13,
    "start_time": "2022-03-24T04:07:31.721Z"
   },
   {
    "duration": 54,
    "start_time": "2022-03-24T04:07:31.736Z"
   },
   {
    "duration": 13,
    "start_time": "2022-03-24T04:07:31.793Z"
   },
   {
    "duration": 34,
    "start_time": "2022-03-24T04:07:31.808Z"
   },
   {
    "duration": 503,
    "start_time": "2022-03-24T04:26:41.562Z"
   },
   {
    "duration": 68,
    "start_time": "2022-03-24T04:26:42.067Z"
   },
   {
    "duration": 38,
    "start_time": "2022-03-24T04:26:42.137Z"
   },
   {
    "duration": 21,
    "start_time": "2022-03-24T04:26:42.178Z"
   },
   {
    "duration": 41,
    "start_time": "2022-03-24T04:26:42.201Z"
   },
   {
    "duration": 13,
    "start_time": "2022-03-24T04:26:42.266Z"
   },
   {
    "duration": 10,
    "start_time": "2022-03-24T04:26:42.281Z"
   },
   {
    "duration": 5,
    "start_time": "2022-03-24T04:26:42.293Z"
   },
   {
    "duration": 5,
    "start_time": "2022-03-24T04:26:42.300Z"
   },
   {
    "duration": 12,
    "start_time": "2022-03-24T04:26:42.309Z"
   },
   {
    "duration": 9,
    "start_time": "2022-03-24T04:26:42.368Z"
   },
   {
    "duration": 9,
    "start_time": "2022-03-24T04:26:42.380Z"
   },
   {
    "duration": 8,
    "start_time": "2022-03-24T04:26:42.391Z"
   },
   {
    "duration": 3,
    "start_time": "2022-03-24T04:26:42.401Z"
   },
   {
    "duration": 6,
    "start_time": "2022-03-24T04:26:42.406Z"
   },
   {
    "duration": 4,
    "start_time": "2022-03-24T04:26:42.414Z"
   },
   {
    "duration": 10,
    "start_time": "2022-03-24T04:26:42.468Z"
   },
   {
    "duration": 12,
    "start_time": "2022-03-24T04:26:42.480Z"
   },
   {
    "duration": 20,
    "start_time": "2022-03-24T04:26:42.494Z"
   },
   {
    "duration": 54,
    "start_time": "2022-03-24T04:26:42.516Z"
   },
   {
    "duration": 43,
    "start_time": "2022-03-24T04:26:42.573Z"
   },
   {
    "duration": 7,
    "start_time": "2022-03-24T04:26:42.618Z"
   },
   {
    "duration": 11,
    "start_time": "2022-03-24T04:26:42.627Z"
   },
   {
    "duration": 8,
    "start_time": "2022-03-24T04:26:42.668Z"
   },
   {
    "duration": 9,
    "start_time": "2022-03-24T04:26:42.678Z"
   },
   {
    "duration": 11,
    "start_time": "2022-03-24T04:26:42.689Z"
   },
   {
    "duration": 77,
    "start_time": "2022-03-24T04:26:42.702Z"
   },
   {
    "duration": 34,
    "start_time": "2022-03-24T04:26:42.784Z"
   },
   {
    "duration": 6,
    "start_time": "2022-03-24T04:26:42.820Z"
   },
   {
    "duration": 50,
    "start_time": "2022-03-24T04:26:42.828Z"
   },
   {
    "duration": 14,
    "start_time": "2022-03-24T04:26:42.880Z"
   },
   {
    "duration": 25,
    "start_time": "2022-03-24T04:26:42.896Z"
   },
   {
    "duration": 7,
    "start_time": "2022-03-24T04:26:42.924Z"
   },
   {
    "duration": 58,
    "start_time": "2022-03-24T04:26:42.933Z"
   },
   {
    "duration": 48,
    "start_time": "2022-03-24T04:26:42.993Z"
   },
   {
    "duration": 33,
    "start_time": "2022-03-24T04:26:43.044Z"
   },
   {
    "duration": 14,
    "start_time": "2022-03-24T04:26:43.079Z"
   },
   {
    "duration": 6,
    "start_time": "2022-03-24T04:26:43.096Z"
   },
   {
    "duration": 70,
    "start_time": "2022-03-24T04:26:43.105Z"
   },
   {
    "duration": 26,
    "start_time": "2022-03-24T04:26:43.177Z"
   },
   {
    "duration": 68,
    "start_time": "2022-03-24T04:26:43.206Z"
   },
   {
    "duration": 27,
    "start_time": "2022-03-24T04:26:43.276Z"
   },
   {
    "duration": 23,
    "start_time": "2022-03-24T04:26:43.306Z"
   },
   {
    "duration": 47,
    "start_time": "2022-03-24T04:26:43.331Z"
   },
   {
    "duration": 23,
    "start_time": "2022-03-24T04:26:43.380Z"
   },
   {
    "duration": 10,
    "start_time": "2022-03-24T04:26:43.405Z"
   },
   {
    "duration": 56,
    "start_time": "2022-03-24T04:26:43.417Z"
   },
   {
    "duration": 524,
    "start_time": "2022-03-24T04:29:01.847Z"
   },
   {
    "duration": 70,
    "start_time": "2022-03-24T04:29:02.373Z"
   },
   {
    "duration": 38,
    "start_time": "2022-03-24T04:29:02.446Z"
   },
   {
    "duration": 20,
    "start_time": "2022-03-24T04:29:02.488Z"
   },
   {
    "duration": 68,
    "start_time": "2022-03-24T04:29:02.510Z"
   },
   {
    "duration": 12,
    "start_time": "2022-03-24T04:29:02.580Z"
   },
   {
    "duration": 10,
    "start_time": "2022-03-24T04:29:02.594Z"
   },
   {
    "duration": 4,
    "start_time": "2022-03-24T04:29:02.607Z"
   },
   {
    "duration": 5,
    "start_time": "2022-03-24T04:29:02.614Z"
   },
   {
    "duration": 14,
    "start_time": "2022-03-24T04:29:02.668Z"
   },
   {
    "duration": 8,
    "start_time": "2022-03-24T04:29:02.684Z"
   },
   {
    "duration": 11,
    "start_time": "2022-03-24T04:29:02.695Z"
   },
   {
    "duration": 10,
    "start_time": "2022-03-24T04:29:02.709Z"
   },
   {
    "duration": 47,
    "start_time": "2022-03-24T04:29:02.721Z"
   },
   {
    "duration": 3,
    "start_time": "2022-03-24T04:29:02.770Z"
   },
   {
    "duration": 10,
    "start_time": "2022-03-24T04:29:02.775Z"
   },
   {
    "duration": 11,
    "start_time": "2022-03-24T04:29:02.788Z"
   },
   {
    "duration": 9,
    "start_time": "2022-03-24T04:29:02.801Z"
   },
   {
    "duration": 22,
    "start_time": "2022-03-24T04:29:02.812Z"
   },
   {
    "duration": 21,
    "start_time": "2022-03-24T04:29:02.869Z"
   },
   {
    "duration": 44,
    "start_time": "2022-03-24T04:29:02.892Z"
   },
   {
    "duration": 34,
    "start_time": "2022-03-24T04:29:02.938Z"
   },
   {
    "duration": 11,
    "start_time": "2022-03-24T04:29:02.974Z"
   },
   {
    "duration": 8,
    "start_time": "2022-03-24T04:29:02.988Z"
   },
   {
    "duration": 11,
    "start_time": "2022-03-24T04:29:02.999Z"
   },
   {
    "duration": 57,
    "start_time": "2022-03-24T04:29:03.013Z"
   },
   {
    "duration": 42,
    "start_time": "2022-03-24T04:29:03.072Z"
   },
   {
    "duration": 59,
    "start_time": "2022-03-24T04:29:03.119Z"
   },
   {
    "duration": 7,
    "start_time": "2022-03-24T04:29:03.181Z"
   },
   {
    "duration": 21,
    "start_time": "2022-03-24T04:29:03.190Z"
   },
   {
    "duration": 7,
    "start_time": "2022-03-24T04:29:03.213Z"
   },
   {
    "duration": 64,
    "start_time": "2022-03-24T04:29:03.222Z"
   },
   {
    "duration": 7,
    "start_time": "2022-03-24T04:29:03.288Z"
   },
   {
    "duration": 27,
    "start_time": "2022-03-24T04:29:03.298Z"
   },
   {
    "duration": 83,
    "start_time": "2022-03-24T04:29:03.328Z"
   },
   {
    "duration": 16,
    "start_time": "2022-03-24T04:29:03.413Z"
   },
   {
    "duration": 37,
    "start_time": "2022-03-24T04:29:03.432Z"
   },
   {
    "duration": 8,
    "start_time": "2022-03-24T04:29:03.471Z"
   },
   {
    "duration": 43,
    "start_time": "2022-03-24T04:29:03.482Z"
   },
   {
    "duration": 60,
    "start_time": "2022-03-24T04:29:03.528Z"
   },
   {
    "duration": 43,
    "start_time": "2022-03-24T04:29:03.591Z"
   },
   {
    "duration": 52,
    "start_time": "2022-03-24T04:29:03.637Z"
   },
   {
    "duration": 23,
    "start_time": "2022-03-24T04:29:03.692Z"
   },
   {
    "duration": 50,
    "start_time": "2022-03-24T04:29:03.718Z"
   },
   {
    "duration": 25,
    "start_time": "2022-03-24T04:29:03.771Z"
   },
   {
    "duration": 10,
    "start_time": "2022-03-24T04:29:03.799Z"
   },
   {
    "duration": 64,
    "start_time": "2022-03-24T04:29:03.812Z"
   },
   {
    "duration": 533,
    "start_time": "2022-03-24T04:35:37.130Z"
   },
   {
    "duration": 72,
    "start_time": "2022-03-24T04:35:37.668Z"
   },
   {
    "duration": 37,
    "start_time": "2022-03-24T04:35:37.742Z"
   },
   {
    "duration": 20,
    "start_time": "2022-03-24T04:35:37.781Z"
   },
   {
    "duration": 69,
    "start_time": "2022-03-24T04:35:37.804Z"
   },
   {
    "duration": 14,
    "start_time": "2022-03-24T04:35:37.876Z"
   },
   {
    "duration": 15,
    "start_time": "2022-03-24T04:35:37.893Z"
   },
   {
    "duration": 18,
    "start_time": "2022-03-24T04:35:37.910Z"
   },
   {
    "duration": 38,
    "start_time": "2022-03-24T04:35:37.930Z"
   },
   {
    "duration": 17,
    "start_time": "2022-03-24T04:35:37.970Z"
   },
   {
    "duration": 14,
    "start_time": "2022-03-24T04:35:37.989Z"
   },
   {
    "duration": 15,
    "start_time": "2022-03-24T04:35:38.006Z"
   },
   {
    "duration": 15,
    "start_time": "2022-03-24T04:35:38.024Z"
   },
   {
    "duration": 4,
    "start_time": "2022-03-24T04:35:38.071Z"
   },
   {
    "duration": 9,
    "start_time": "2022-03-24T04:35:38.078Z"
   },
   {
    "duration": 19,
    "start_time": "2022-03-24T04:35:38.090Z"
   },
   {
    "duration": 13,
    "start_time": "2022-03-24T04:35:38.112Z"
   },
   {
    "duration": 11,
    "start_time": "2022-03-24T04:35:38.128Z"
   },
   {
    "duration": 42,
    "start_time": "2022-03-24T04:35:38.141Z"
   },
   {
    "duration": 20,
    "start_time": "2022-03-24T04:35:38.185Z"
   },
   {
    "duration": 66,
    "start_time": "2022-03-24T04:35:38.207Z"
   },
   {
    "duration": 9,
    "start_time": "2022-03-24T04:35:38.276Z"
   },
   {
    "duration": 12,
    "start_time": "2022-03-24T04:35:38.287Z"
   },
   {
    "duration": 12,
    "start_time": "2022-03-24T04:35:38.301Z"
   },
   {
    "duration": 21,
    "start_time": "2022-03-24T04:35:38.315Z"
   },
   {
    "duration": 40,
    "start_time": "2022-03-24T04:35:38.338Z"
   },
   {
    "duration": 86,
    "start_time": "2022-03-24T04:35:38.380Z"
   },
   {
    "duration": 0,
    "start_time": "2022-03-24T04:35:38.470Z"
   },
   {
    "duration": 0,
    "start_time": "2022-03-24T04:35:38.472Z"
   },
   {
    "duration": 0,
    "start_time": "2022-03-24T04:35:38.475Z"
   },
   {
    "duration": 0,
    "start_time": "2022-03-24T04:35:38.476Z"
   },
   {
    "duration": 0,
    "start_time": "2022-03-24T04:35:38.477Z"
   },
   {
    "duration": 0,
    "start_time": "2022-03-24T04:35:38.479Z"
   },
   {
    "duration": 0,
    "start_time": "2022-03-24T04:35:38.481Z"
   },
   {
    "duration": 0,
    "start_time": "2022-03-24T04:35:38.482Z"
   },
   {
    "duration": 0,
    "start_time": "2022-03-24T04:35:38.484Z"
   },
   {
    "duration": 0,
    "start_time": "2022-03-24T04:35:38.485Z"
   },
   {
    "duration": 0,
    "start_time": "2022-03-24T04:35:38.487Z"
   },
   {
    "duration": 0,
    "start_time": "2022-03-24T04:35:38.489Z"
   },
   {
    "duration": 0,
    "start_time": "2022-03-24T04:35:38.491Z"
   },
   {
    "duration": 0,
    "start_time": "2022-03-24T04:35:38.493Z"
   },
   {
    "duration": 0,
    "start_time": "2022-03-24T04:35:38.496Z"
   },
   {
    "duration": 0,
    "start_time": "2022-03-24T04:35:38.498Z"
   },
   {
    "duration": 0,
    "start_time": "2022-03-24T04:35:38.500Z"
   },
   {
    "duration": 0,
    "start_time": "2022-03-24T04:35:38.502Z"
   },
   {
    "duration": 0,
    "start_time": "2022-03-24T04:35:38.504Z"
   },
   {
    "duration": 0,
    "start_time": "2022-03-24T04:35:38.507Z"
   },
   {
    "duration": 494,
    "start_time": "2022-03-24T04:36:17.170Z"
   },
   {
    "duration": 71,
    "start_time": "2022-03-24T04:36:17.668Z"
   },
   {
    "duration": 39,
    "start_time": "2022-03-24T04:36:17.741Z"
   },
   {
    "duration": 21,
    "start_time": "2022-03-24T04:36:17.783Z"
   },
   {
    "duration": 67,
    "start_time": "2022-03-24T04:36:17.806Z"
   },
   {
    "duration": 14,
    "start_time": "2022-03-24T04:36:17.875Z"
   },
   {
    "duration": 12,
    "start_time": "2022-03-24T04:36:17.892Z"
   },
   {
    "duration": 6,
    "start_time": "2022-03-24T04:36:17.907Z"
   },
   {
    "duration": 6,
    "start_time": "2022-03-24T04:36:17.916Z"
   },
   {
    "duration": 17,
    "start_time": "2022-03-24T04:36:17.970Z"
   },
   {
    "duration": 10,
    "start_time": "2022-03-24T04:36:17.989Z"
   },
   {
    "duration": 10,
    "start_time": "2022-03-24T04:36:18.002Z"
   },
   {
    "duration": 54,
    "start_time": "2022-03-24T04:36:18.015Z"
   },
   {
    "duration": 5,
    "start_time": "2022-03-24T04:36:18.072Z"
   },
   {
    "duration": 10,
    "start_time": "2022-03-24T04:36:18.079Z"
   },
   {
    "duration": 6,
    "start_time": "2022-03-24T04:36:18.091Z"
   },
   {
    "duration": 10,
    "start_time": "2022-03-24T04:36:18.099Z"
   },
   {
    "duration": 8,
    "start_time": "2022-03-24T04:36:18.111Z"
   },
   {
    "duration": 58,
    "start_time": "2022-03-24T04:36:18.121Z"
   },
   {
    "duration": 23,
    "start_time": "2022-03-24T04:36:18.181Z"
   },
   {
    "duration": 66,
    "start_time": "2022-03-24T04:36:18.206Z"
   },
   {
    "duration": 8,
    "start_time": "2022-03-24T04:36:18.274Z"
   },
   {
    "duration": 9,
    "start_time": "2022-03-24T04:36:18.284Z"
   },
   {
    "duration": 8,
    "start_time": "2022-03-24T04:36:18.295Z"
   },
   {
    "duration": 9,
    "start_time": "2022-03-24T04:36:18.305Z"
   },
   {
    "duration": 57,
    "start_time": "2022-03-24T04:36:18.316Z"
   },
   {
    "duration": 42,
    "start_time": "2022-03-24T04:36:18.375Z"
   },
   {
    "duration": 62,
    "start_time": "2022-03-24T04:36:18.422Z"
   },
   {
    "duration": 7,
    "start_time": "2022-03-24T04:36:18.487Z"
   },
   {
    "duration": 21,
    "start_time": "2022-03-24T04:36:18.496Z"
   },
   {
    "duration": 7,
    "start_time": "2022-03-24T04:36:18.519Z"
   },
   {
    "duration": 60,
    "start_time": "2022-03-24T04:36:18.529Z"
   },
   {
    "duration": 7,
    "start_time": "2022-03-24T04:36:18.591Z"
   },
   {
    "duration": 27,
    "start_time": "2022-03-24T04:36:18.600Z"
   },
   {
    "duration": 77,
    "start_time": "2022-03-24T04:36:18.629Z"
   },
   {
    "duration": 14,
    "start_time": "2022-03-24T04:36:18.709Z"
   },
   {
    "duration": 13,
    "start_time": "2022-03-24T04:36:18.725Z"
   },
   {
    "duration": 7,
    "start_time": "2022-03-24T04:36:18.768Z"
   },
   {
    "duration": 36,
    "start_time": "2022-03-24T04:36:18.777Z"
   },
   {
    "duration": 26,
    "start_time": "2022-03-24T04:36:18.816Z"
   },
   {
    "duration": 41,
    "start_time": "2022-03-24T04:36:18.869Z"
   },
   {
    "duration": 26,
    "start_time": "2022-03-24T04:36:18.912Z"
   },
   {
    "duration": 22,
    "start_time": "2022-03-24T04:36:18.968Z"
   },
   {
    "duration": 12,
    "start_time": "2022-03-24T04:36:18.992Z"
   },
   {
    "duration": 24,
    "start_time": "2022-03-24T04:36:19.006Z"
   },
   {
    "duration": 10,
    "start_time": "2022-03-24T04:36:19.068Z"
   },
   {
    "duration": 26,
    "start_time": "2022-03-24T04:36:19.080Z"
   },
   {
    "duration": 488,
    "start_time": "2022-03-24T04:54:42.887Z"
   },
   {
    "duration": 75,
    "start_time": "2022-03-24T04:54:43.381Z"
   },
   {
    "duration": 35,
    "start_time": "2022-03-24T04:54:43.458Z"
   },
   {
    "duration": 22,
    "start_time": "2022-03-24T04:54:43.497Z"
   },
   {
    "duration": 68,
    "start_time": "2022-03-24T04:54:43.526Z"
   },
   {
    "duration": 13,
    "start_time": "2022-03-24T04:54:43.597Z"
   },
   {
    "duration": 13,
    "start_time": "2022-03-24T04:54:43.613Z"
   },
   {
    "duration": 5,
    "start_time": "2022-03-24T04:54:43.628Z"
   },
   {
    "duration": 6,
    "start_time": "2022-03-24T04:54:43.667Z"
   },
   {
    "duration": 13,
    "start_time": "2022-03-24T04:54:43.676Z"
   },
   {
    "duration": 9,
    "start_time": "2022-03-24T04:54:43.691Z"
   },
   {
    "duration": 9,
    "start_time": "2022-03-24T04:54:43.702Z"
   },
   {
    "duration": 7,
    "start_time": "2022-03-24T04:54:43.715Z"
   },
   {
    "duration": 4,
    "start_time": "2022-03-24T04:54:43.768Z"
   },
   {
    "duration": 6,
    "start_time": "2022-03-24T04:54:43.774Z"
   },
   {
    "duration": 7,
    "start_time": "2022-03-24T04:54:43.782Z"
   },
   {
    "duration": 10,
    "start_time": "2022-03-24T04:54:43.791Z"
   },
   {
    "duration": 8,
    "start_time": "2022-03-24T04:54:43.803Z"
   },
   {
    "duration": 57,
    "start_time": "2022-03-24T04:54:43.814Z"
   },
   {
    "duration": 21,
    "start_time": "2022-03-24T04:54:43.873Z"
   },
   {
    "duration": 40,
    "start_time": "2022-03-24T04:54:43.896Z"
   },
   {
    "duration": 34,
    "start_time": "2022-03-24T04:54:43.938Z"
   },
   {
    "duration": 9,
    "start_time": "2022-03-24T04:54:43.974Z"
   },
   {
    "duration": 6,
    "start_time": "2022-03-24T04:54:43.985Z"
   },
   {
    "duration": 9,
    "start_time": "2022-03-24T04:54:43.993Z"
   },
   {
    "duration": 13,
    "start_time": "2022-03-24T04:54:44.004Z"
   },
   {
    "duration": 90,
    "start_time": "2022-03-24T04:54:44.019Z"
   },
   {
    "duration": 56,
    "start_time": "2022-03-24T04:54:44.111Z"
   },
   {
    "duration": 8,
    "start_time": "2022-03-24T04:54:44.169Z"
   },
   {
    "duration": 23,
    "start_time": "2022-03-24T04:54:44.179Z"
   },
   {
    "duration": 8,
    "start_time": "2022-03-24T04:54:44.205Z"
   },
   {
    "duration": 64,
    "start_time": "2022-03-24T04:54:44.216Z"
   },
   {
    "duration": 7,
    "start_time": "2022-03-24T04:54:44.282Z"
   },
   {
    "duration": 28,
    "start_time": "2022-03-24T04:54:44.291Z"
   },
   {
    "duration": 74,
    "start_time": "2022-03-24T04:54:44.321Z"
   },
   {
    "duration": 14,
    "start_time": "2022-03-24T04:54:44.397Z"
   },
   {
    "duration": 14,
    "start_time": "2022-03-24T04:54:44.412Z"
   },
   {
    "duration": 6,
    "start_time": "2022-03-24T04:54:44.428Z"
   },
   {
    "duration": 39,
    "start_time": "2022-03-24T04:54:44.468Z"
   },
   {
    "duration": 26,
    "start_time": "2022-03-24T04:54:44.512Z"
   },
   {
    "duration": 66,
    "start_time": "2022-03-24T04:54:44.540Z"
   },
   {
    "duration": 28,
    "start_time": "2022-03-24T04:54:44.608Z"
   },
   {
    "duration": 49,
    "start_time": "2022-03-24T04:54:44.638Z"
   },
   {
    "duration": 19,
    "start_time": "2022-03-24T04:54:44.690Z"
   },
   {
    "duration": 57,
    "start_time": "2022-03-24T04:54:44.712Z"
   },
   {
    "duration": 11,
    "start_time": "2022-03-24T04:54:44.771Z"
   },
   {
    "duration": 26,
    "start_time": "2022-03-24T04:54:44.784Z"
   },
   {
    "duration": 490,
    "start_time": "2022-03-24T04:55:47.818Z"
   },
   {
    "duration": 69,
    "start_time": "2022-03-24T04:55:48.310Z"
   },
   {
    "duration": 31,
    "start_time": "2022-03-24T04:55:48.381Z"
   },
   {
    "duration": 20,
    "start_time": "2022-03-24T04:55:48.415Z"
   },
   {
    "duration": 67,
    "start_time": "2022-03-24T04:55:48.437Z"
   },
   {
    "duration": 13,
    "start_time": "2022-03-24T04:55:48.506Z"
   },
   {
    "duration": 11,
    "start_time": "2022-03-24T04:55:48.521Z"
   },
   {
    "duration": 36,
    "start_time": "2022-03-24T04:55:48.534Z"
   },
   {
    "duration": 6,
    "start_time": "2022-03-24T04:55:48.573Z"
   },
   {
    "duration": 15,
    "start_time": "2022-03-24T04:55:48.585Z"
   },
   {
    "duration": 10,
    "start_time": "2022-03-24T04:55:48.602Z"
   },
   {
    "duration": 55,
    "start_time": "2022-03-24T04:55:48.615Z"
   },
   {
    "duration": 9,
    "start_time": "2022-03-24T04:55:48.673Z"
   },
   {
    "duration": 4,
    "start_time": "2022-03-24T04:55:48.684Z"
   },
   {
    "duration": 5,
    "start_time": "2022-03-24T04:55:48.690Z"
   },
   {
    "duration": 7,
    "start_time": "2022-03-24T04:55:48.697Z"
   },
   {
    "duration": 9,
    "start_time": "2022-03-24T04:55:48.707Z"
   },
   {
    "duration": 7,
    "start_time": "2022-03-24T04:55:48.719Z"
   },
   {
    "duration": 22,
    "start_time": "2022-03-24T04:55:48.768Z"
   },
   {
    "duration": 21,
    "start_time": "2022-03-24T04:55:48.792Z"
   },
   {
    "duration": 74,
    "start_time": "2022-03-24T04:55:48.815Z"
   },
   {
    "duration": 7,
    "start_time": "2022-03-24T04:55:48.891Z"
   },
   {
    "duration": 11,
    "start_time": "2022-03-24T04:55:48.900Z"
   },
   {
    "duration": 7,
    "start_time": "2022-03-24T04:55:48.913Z"
   },
   {
    "duration": 8,
    "start_time": "2022-03-24T04:55:48.922Z"
   },
   {
    "duration": 12,
    "start_time": "2022-03-24T04:55:48.968Z"
   },
   {
    "duration": 42,
    "start_time": "2022-03-24T04:55:48.983Z"
   },
   {
    "duration": 63,
    "start_time": "2022-03-24T04:55:49.030Z"
   },
   {
    "duration": 6,
    "start_time": "2022-03-24T04:55:49.095Z"
   },
   {
    "duration": 22,
    "start_time": "2022-03-24T04:55:49.103Z"
   },
   {
    "duration": 39,
    "start_time": "2022-03-24T04:55:49.128Z"
   },
   {
    "duration": 24,
    "start_time": "2022-03-24T04:55:49.169Z"
   },
   {
    "duration": 7,
    "start_time": "2022-03-24T04:55:49.196Z"
   },
   {
    "duration": 63,
    "start_time": "2022-03-24T04:55:49.206Z"
   },
   {
    "duration": 52,
    "start_time": "2022-03-24T04:55:49.271Z"
   },
   {
    "duration": 15,
    "start_time": "2022-03-24T04:55:49.325Z"
   },
   {
    "duration": 14,
    "start_time": "2022-03-24T04:55:49.368Z"
   },
   {
    "duration": 7,
    "start_time": "2022-03-24T04:55:49.385Z"
   },
   {
    "duration": 37,
    "start_time": "2022-03-24T04:55:49.394Z"
   },
   {
    "duration": 49,
    "start_time": "2022-03-24T04:55:49.433Z"
   },
   {
    "duration": 40,
    "start_time": "2022-03-24T04:55:49.484Z"
   },
   {
    "duration": 55,
    "start_time": "2022-03-24T04:55:49.527Z"
   },
   {
    "duration": 21,
    "start_time": "2022-03-24T04:55:49.584Z"
   },
   {
    "duration": 13,
    "start_time": "2022-03-24T04:55:49.607Z"
   },
   {
    "duration": 59,
    "start_time": "2022-03-24T04:55:49.622Z"
   },
   {
    "duration": 10,
    "start_time": "2022-03-24T04:55:49.683Z"
   },
   {
    "duration": 23,
    "start_time": "2022-03-24T04:55:49.695Z"
   },
   {
    "duration": 513,
    "start_time": "2022-03-24T04:57:01.418Z"
   },
   {
    "duration": 74,
    "start_time": "2022-03-24T04:57:01.934Z"
   },
   {
    "duration": 31,
    "start_time": "2022-03-24T04:57:02.011Z"
   },
   {
    "duration": 38,
    "start_time": "2022-03-24T04:57:02.045Z"
   },
   {
    "duration": 43,
    "start_time": "2022-03-24T04:57:02.085Z"
   },
   {
    "duration": 38,
    "start_time": "2022-03-24T04:57:02.130Z"
   },
   {
    "duration": 10,
    "start_time": "2022-03-24T04:57:02.170Z"
   },
   {
    "duration": 5,
    "start_time": "2022-03-24T04:57:02.183Z"
   },
   {
    "duration": 6,
    "start_time": "2022-03-24T04:57:02.190Z"
   },
   {
    "duration": 14,
    "start_time": "2022-03-24T04:57:02.200Z"
   },
   {
    "duration": 53,
    "start_time": "2022-03-24T04:57:02.216Z"
   },
   {
    "duration": 10,
    "start_time": "2022-03-24T04:57:02.272Z"
   },
   {
    "duration": 9,
    "start_time": "2022-03-24T04:57:02.284Z"
   },
   {
    "duration": 3,
    "start_time": "2022-03-24T04:57:02.295Z"
   },
   {
    "duration": 5,
    "start_time": "2022-03-24T04:57:02.300Z"
   },
   {
    "duration": 7,
    "start_time": "2022-03-24T04:57:02.307Z"
   },
   {
    "duration": 51,
    "start_time": "2022-03-24T04:57:02.316Z"
   },
   {
    "duration": 9,
    "start_time": "2022-03-24T04:57:02.370Z"
   },
   {
    "duration": 19,
    "start_time": "2022-03-24T04:57:02.381Z"
   },
   {
    "duration": 21,
    "start_time": "2022-03-24T04:57:02.402Z"
   },
   {
    "duration": 79,
    "start_time": "2022-03-24T04:57:02.425Z"
   },
   {
    "duration": 7,
    "start_time": "2022-03-24T04:57:02.506Z"
   },
   {
    "duration": 10,
    "start_time": "2022-03-24T04:57:02.515Z"
   },
   {
    "duration": 7,
    "start_time": "2022-03-24T04:57:02.527Z"
   },
   {
    "duration": 38,
    "start_time": "2022-03-24T04:57:02.536Z"
   },
   {
    "duration": 12,
    "start_time": "2022-03-24T04:57:02.576Z"
   },
   {
    "duration": 5,
    "start_time": "2022-03-24T04:57:02.590Z"
   },
   {
    "duration": 0,
    "start_time": "2022-03-24T04:57:02.598Z"
   },
   {
    "duration": 0,
    "start_time": "2022-03-24T04:57:02.601Z"
   },
   {
    "duration": 0,
    "start_time": "2022-03-24T04:57:02.602Z"
   },
   {
    "duration": 0,
    "start_time": "2022-03-24T04:57:02.603Z"
   },
   {
    "duration": 0,
    "start_time": "2022-03-24T04:57:02.606Z"
   },
   {
    "duration": 0,
    "start_time": "2022-03-24T04:57:02.609Z"
   },
   {
    "duration": 0,
    "start_time": "2022-03-24T04:57:02.610Z"
   },
   {
    "duration": 0,
    "start_time": "2022-03-24T04:57:02.612Z"
   },
   {
    "duration": 0,
    "start_time": "2022-03-24T04:57:02.613Z"
   },
   {
    "duration": 0,
    "start_time": "2022-03-24T04:57:02.615Z"
   },
   {
    "duration": 0,
    "start_time": "2022-03-24T04:57:02.669Z"
   },
   {
    "duration": 0,
    "start_time": "2022-03-24T04:57:02.671Z"
   },
   {
    "duration": 0,
    "start_time": "2022-03-24T04:57:02.673Z"
   },
   {
    "duration": 0,
    "start_time": "2022-03-24T04:57:02.674Z"
   },
   {
    "duration": 0,
    "start_time": "2022-03-24T04:57:02.676Z"
   },
   {
    "duration": 1,
    "start_time": "2022-03-24T04:57:02.677Z"
   },
   {
    "duration": 0,
    "start_time": "2022-03-24T04:57:02.679Z"
   },
   {
    "duration": 0,
    "start_time": "2022-03-24T04:57:02.681Z"
   },
   {
    "duration": 0,
    "start_time": "2022-03-24T04:57:02.683Z"
   },
   {
    "duration": 0,
    "start_time": "2022-03-24T04:57:02.685Z"
   },
   {
    "duration": 5,
    "start_time": "2022-03-24T04:57:25.346Z"
   },
   {
    "duration": 41,
    "start_time": "2022-03-24T04:57:54.346Z"
   },
   {
    "duration": 42,
    "start_time": "2022-03-24T04:58:07.534Z"
   },
   {
    "duration": 528,
    "start_time": "2022-03-24T04:58:33.923Z"
   },
   {
    "duration": 69,
    "start_time": "2022-03-24T04:58:34.454Z"
   },
   {
    "duration": 45,
    "start_time": "2022-03-24T04:58:34.525Z"
   },
   {
    "duration": 22,
    "start_time": "2022-03-24T04:58:34.573Z"
   },
   {
    "duration": 44,
    "start_time": "2022-03-24T04:58:34.597Z"
   },
   {
    "duration": 36,
    "start_time": "2022-03-24T04:58:34.643Z"
   },
   {
    "duration": 14,
    "start_time": "2022-03-24T04:58:34.681Z"
   },
   {
    "duration": 5,
    "start_time": "2022-03-24T04:58:34.697Z"
   },
   {
    "duration": 6,
    "start_time": "2022-03-24T04:58:34.704Z"
   },
   {
    "duration": 54,
    "start_time": "2022-03-24T04:58:34.714Z"
   },
   {
    "duration": 8,
    "start_time": "2022-03-24T04:58:34.771Z"
   },
   {
    "duration": 10,
    "start_time": "2022-03-24T04:58:34.781Z"
   },
   {
    "duration": 8,
    "start_time": "2022-03-24T04:58:34.793Z"
   },
   {
    "duration": 4,
    "start_time": "2022-03-24T04:58:34.803Z"
   },
   {
    "duration": 8,
    "start_time": "2022-03-24T04:58:34.809Z"
   },
   {
    "duration": 49,
    "start_time": "2022-03-24T04:58:34.819Z"
   },
   {
    "duration": 12,
    "start_time": "2022-03-24T04:58:34.870Z"
   },
   {
    "duration": 8,
    "start_time": "2022-03-24T04:58:34.884Z"
   },
   {
    "duration": 19,
    "start_time": "2022-03-24T04:58:34.894Z"
   },
   {
    "duration": 53,
    "start_time": "2022-03-24T04:58:34.915Z"
   },
   {
    "duration": 41,
    "start_time": "2022-03-24T04:58:34.970Z"
   },
   {
    "duration": 8,
    "start_time": "2022-03-24T04:58:35.013Z"
   },
   {
    "duration": 45,
    "start_time": "2022-03-24T04:58:35.023Z"
   },
   {
    "duration": 8,
    "start_time": "2022-03-24T04:58:35.071Z"
   },
   {
    "duration": 9,
    "start_time": "2022-03-24T04:58:35.081Z"
   },
   {
    "duration": 13,
    "start_time": "2022-03-24T04:58:35.092Z"
   },
   {
    "duration": 77,
    "start_time": "2022-03-24T04:58:35.107Z"
   },
   {
    "duration": 33,
    "start_time": "2022-03-24T04:58:35.189Z"
   },
   {
    "duration": 7,
    "start_time": "2022-03-24T04:58:35.224Z"
   },
   {
    "duration": 49,
    "start_time": "2022-03-24T04:58:35.233Z"
   },
   {
    "duration": 8,
    "start_time": "2022-03-24T04:58:35.284Z"
   },
   {
    "duration": 23,
    "start_time": "2022-03-24T04:58:35.294Z"
   },
   {
    "duration": 8,
    "start_time": "2022-03-24T04:58:35.319Z"
   },
   {
    "duration": 58,
    "start_time": "2022-03-24T04:58:35.329Z"
   },
   {
    "duration": 48,
    "start_time": "2022-03-24T04:58:35.389Z"
   },
   {
    "duration": 40,
    "start_time": "2022-03-24T04:58:35.439Z"
   },
   {
    "duration": 14,
    "start_time": "2022-03-24T04:58:35.482Z"
   },
   {
    "duration": 7,
    "start_time": "2022-03-24T04:58:35.498Z"
   },
   {
    "duration": 64,
    "start_time": "2022-03-24T04:58:35.507Z"
   },
   {
    "duration": 26,
    "start_time": "2022-03-24T04:58:35.573Z"
   },
   {
    "duration": 66,
    "start_time": "2022-03-24T04:58:35.601Z"
   },
   {
    "duration": 25,
    "start_time": "2022-03-24T04:58:35.670Z"
   },
   {
    "duration": 23,
    "start_time": "2022-03-24T04:58:35.697Z"
   },
   {
    "duration": 48,
    "start_time": "2022-03-24T04:58:35.722Z"
   },
   {
    "duration": 24,
    "start_time": "2022-03-24T04:58:35.772Z"
   },
   {
    "duration": 9,
    "start_time": "2022-03-24T04:58:35.798Z"
   },
   {
    "duration": 24,
    "start_time": "2022-03-24T04:58:35.809Z"
   },
   {
    "duration": 549,
    "start_time": "2022-03-24T04:58:51.429Z"
   },
   {
    "duration": 73,
    "start_time": "2022-03-24T04:58:51.981Z"
   },
   {
    "duration": 43,
    "start_time": "2022-03-24T04:58:52.057Z"
   },
   {
    "duration": 22,
    "start_time": "2022-03-24T04:58:52.102Z"
   },
   {
    "duration": 78,
    "start_time": "2022-03-24T04:58:52.126Z"
   },
   {
    "duration": 16,
    "start_time": "2022-03-24T04:58:52.207Z"
   },
   {
    "duration": 12,
    "start_time": "2022-03-24T04:58:52.226Z"
   },
   {
    "duration": 7,
    "start_time": "2022-03-24T04:58:52.268Z"
   },
   {
    "duration": 7,
    "start_time": "2022-03-24T04:58:52.277Z"
   },
   {
    "duration": 15,
    "start_time": "2022-03-24T04:58:52.289Z"
   },
   {
    "duration": 9,
    "start_time": "2022-03-24T04:58:52.307Z"
   },
   {
    "duration": 51,
    "start_time": "2022-03-24T04:58:52.318Z"
   },
   {
    "duration": 11,
    "start_time": "2022-03-24T04:58:52.372Z"
   },
   {
    "duration": 4,
    "start_time": "2022-03-24T04:58:52.385Z"
   },
   {
    "duration": 9,
    "start_time": "2022-03-24T04:58:52.391Z"
   },
   {
    "duration": 9,
    "start_time": "2022-03-24T04:58:52.402Z"
   },
   {
    "duration": 10,
    "start_time": "2022-03-24T04:58:52.414Z"
   },
   {
    "duration": 9,
    "start_time": "2022-03-24T04:58:52.468Z"
   },
   {
    "duration": 30,
    "start_time": "2022-03-24T04:58:52.480Z"
   },
   {
    "duration": 54,
    "start_time": "2022-03-24T04:58:52.513Z"
   },
   {
    "duration": 45,
    "start_time": "2022-03-24T04:58:52.570Z"
   },
   {
    "duration": 8,
    "start_time": "2022-03-24T04:58:52.617Z"
   },
   {
    "duration": 43,
    "start_time": "2022-03-24T04:58:52.626Z"
   },
   {
    "duration": 8,
    "start_time": "2022-03-24T04:58:52.671Z"
   },
   {
    "duration": 19,
    "start_time": "2022-03-24T04:58:52.682Z"
   },
   {
    "duration": 16,
    "start_time": "2022-03-24T04:58:52.703Z"
   },
   {
    "duration": 72,
    "start_time": "2022-03-24T04:58:52.721Z"
   },
   {
    "duration": 35,
    "start_time": "2022-03-24T04:58:52.798Z"
   },
   {
    "duration": 7,
    "start_time": "2022-03-24T04:58:52.835Z"
   },
   {
    "duration": 21,
    "start_time": "2022-03-24T04:58:52.868Z"
   },
   {
    "duration": 10,
    "start_time": "2022-03-24T04:58:52.891Z"
   },
   {
    "duration": 25,
    "start_time": "2022-03-24T04:58:52.904Z"
   },
   {
    "duration": 9,
    "start_time": "2022-03-24T04:58:52.968Z"
   },
   {
    "duration": 29,
    "start_time": "2022-03-24T04:58:52.979Z"
   },
   {
    "duration": 82,
    "start_time": "2022-03-24T04:58:53.010Z"
   },
   {
    "duration": 14,
    "start_time": "2022-03-24T04:58:53.094Z"
   },
   {
    "duration": 17,
    "start_time": "2022-03-24T04:58:53.111Z"
   },
   {
    "duration": 37,
    "start_time": "2022-03-24T04:58:53.131Z"
   },
   {
    "duration": 40,
    "start_time": "2022-03-24T04:58:53.171Z"
   },
   {
    "duration": 68,
    "start_time": "2022-03-24T04:58:53.214Z"
   },
   {
    "duration": 43,
    "start_time": "2022-03-24T04:58:53.285Z"
   },
   {
    "duration": 58,
    "start_time": "2022-03-24T04:58:53.331Z"
   },
   {
    "duration": 23,
    "start_time": "2022-03-24T04:58:53.392Z"
   },
   {
    "duration": 14,
    "start_time": "2022-03-24T04:58:53.419Z"
   },
   {
    "duration": 55,
    "start_time": "2022-03-24T04:58:53.435Z"
   },
   {
    "duration": 12,
    "start_time": "2022-03-24T04:58:53.493Z"
   },
   {
    "duration": 29,
    "start_time": "2022-03-24T04:58:53.507Z"
   },
   {
    "duration": 525,
    "start_time": "2022-03-24T04:59:38.433Z"
   },
   {
    "duration": 71,
    "start_time": "2022-03-24T04:59:38.961Z"
   },
   {
    "duration": 42,
    "start_time": "2022-03-24T04:59:39.034Z"
   },
   {
    "duration": 22,
    "start_time": "2022-03-24T04:59:39.079Z"
   },
   {
    "duration": 64,
    "start_time": "2022-03-24T04:59:39.103Z"
   },
   {
    "duration": 13,
    "start_time": "2022-03-24T04:59:39.170Z"
   },
   {
    "duration": 10,
    "start_time": "2022-03-24T04:59:39.185Z"
   },
   {
    "duration": 6,
    "start_time": "2022-03-24T04:59:39.197Z"
   },
   {
    "duration": 7,
    "start_time": "2022-03-24T04:59:39.204Z"
   },
   {
    "duration": 60,
    "start_time": "2022-03-24T04:59:39.215Z"
   },
   {
    "duration": 11,
    "start_time": "2022-03-24T04:59:39.277Z"
   },
   {
    "duration": 9,
    "start_time": "2022-03-24T04:59:39.291Z"
   },
   {
    "duration": 10,
    "start_time": "2022-03-24T04:59:39.303Z"
   },
   {
    "duration": 53,
    "start_time": "2022-03-24T04:59:39.315Z"
   },
   {
    "duration": 6,
    "start_time": "2022-03-24T04:59:39.371Z"
   },
   {
    "duration": 8,
    "start_time": "2022-03-24T04:59:39.379Z"
   },
   {
    "duration": 12,
    "start_time": "2022-03-24T04:59:39.389Z"
   },
   {
    "duration": 10,
    "start_time": "2022-03-24T04:59:39.403Z"
   },
   {
    "duration": 60,
    "start_time": "2022-03-24T04:59:39.416Z"
   },
   {
    "duration": 20,
    "start_time": "2022-03-24T04:59:39.478Z"
   },
   {
    "duration": 40,
    "start_time": "2022-03-24T04:59:39.500Z"
   },
   {
    "duration": 29,
    "start_time": "2022-03-24T04:59:39.543Z"
   },
   {
    "duration": 10,
    "start_time": "2022-03-24T04:59:39.575Z"
   },
   {
    "duration": 7,
    "start_time": "2022-03-24T04:59:39.588Z"
   },
   {
    "duration": 12,
    "start_time": "2022-03-24T04:59:39.597Z"
   },
   {
    "duration": 61,
    "start_time": "2022-03-24T04:59:39.611Z"
   },
   {
    "duration": 42,
    "start_time": "2022-03-24T04:59:39.674Z"
   },
   {
    "duration": 58,
    "start_time": "2022-03-24T04:59:39.722Z"
   },
   {
    "duration": 7,
    "start_time": "2022-03-24T04:59:39.783Z"
   },
   {
    "duration": 23,
    "start_time": "2022-03-24T04:59:39.792Z"
   },
   {
    "duration": 8,
    "start_time": "2022-03-24T04:59:39.818Z"
   },
   {
    "duration": 60,
    "start_time": "2022-03-24T04:59:39.828Z"
   },
   {
    "duration": 7,
    "start_time": "2022-03-24T04:59:39.890Z"
   },
   {
    "duration": 27,
    "start_time": "2022-03-24T04:59:39.900Z"
   },
   {
    "duration": 89,
    "start_time": "2022-03-24T04:59:39.929Z"
   },
   {
    "duration": 14,
    "start_time": "2022-03-24T04:59:40.020Z"
   },
   {
    "duration": 39,
    "start_time": "2022-03-24T04:59:40.036Z"
   },
   {
    "duration": 7,
    "start_time": "2022-03-24T04:59:40.078Z"
   },
   {
    "duration": 37,
    "start_time": "2022-03-24T04:59:40.087Z"
   },
   {
    "duration": 59,
    "start_time": "2022-03-24T04:59:40.127Z"
   },
   {
    "duration": 41,
    "start_time": "2022-03-24T04:59:40.188Z"
   },
   {
    "duration": 49,
    "start_time": "2022-03-24T04:59:40.231Z"
   },
   {
    "duration": 22,
    "start_time": "2022-03-24T04:59:40.283Z"
   },
   {
    "duration": 14,
    "start_time": "2022-03-24T04:59:40.307Z"
   },
   {
    "duration": 58,
    "start_time": "2022-03-24T04:59:40.323Z"
   },
   {
    "duration": 9,
    "start_time": "2022-03-24T04:59:40.383Z"
   },
   {
    "duration": 30,
    "start_time": "2022-03-24T04:59:40.394Z"
   },
   {
    "duration": 43,
    "start_time": "2022-03-24T05:01:11.628Z"
   },
   {
    "duration": 450,
    "start_time": "2022-03-24T16:52:46.310Z"
   },
   {
    "duration": 536,
    "start_time": "2022-03-24T16:52:46.762Z"
   },
   {
    "duration": 22,
    "start_time": "2022-03-24T16:52:47.300Z"
   },
   {
    "duration": 16,
    "start_time": "2022-03-24T16:52:47.325Z"
   },
   {
    "duration": 42,
    "start_time": "2022-03-24T16:52:47.342Z"
   },
   {
    "duration": 12,
    "start_time": "2022-03-24T16:52:47.385Z"
   },
   {
    "duration": 10,
    "start_time": "2022-03-24T16:52:47.398Z"
   },
   {
    "duration": 6,
    "start_time": "2022-03-24T16:52:47.410Z"
   },
   {
    "duration": 17,
    "start_time": "2022-03-24T16:52:47.417Z"
   },
   {
    "duration": 14,
    "start_time": "2022-03-24T16:52:47.437Z"
   },
   {
    "duration": 6,
    "start_time": "2022-03-24T16:52:47.453Z"
   },
   {
    "duration": 11,
    "start_time": "2022-03-24T16:52:47.461Z"
   },
   {
    "duration": 10,
    "start_time": "2022-03-24T16:52:47.473Z"
   },
   {
    "duration": 8,
    "start_time": "2022-03-24T16:52:47.484Z"
   },
   {
    "duration": 5,
    "start_time": "2022-03-24T16:52:47.493Z"
   },
   {
    "duration": 32,
    "start_time": "2022-03-24T16:52:47.500Z"
   },
   {
    "duration": 11,
    "start_time": "2022-03-24T16:52:47.534Z"
   },
   {
    "duration": 7,
    "start_time": "2022-03-24T16:52:47.546Z"
   },
   {
    "duration": 18,
    "start_time": "2022-03-24T16:52:47.554Z"
   },
   {
    "duration": 15,
    "start_time": "2022-03-24T16:52:47.573Z"
   },
   {
    "duration": 71,
    "start_time": "2022-03-24T16:52:47.590Z"
   },
   {
    "duration": 6,
    "start_time": "2022-03-24T16:52:47.662Z"
   },
   {
    "duration": 11,
    "start_time": "2022-03-24T16:52:47.669Z"
   },
   {
    "duration": 7,
    "start_time": "2022-03-24T16:52:47.681Z"
   },
   {
    "duration": 16,
    "start_time": "2022-03-24T16:52:47.690Z"
   },
   {
    "duration": 25,
    "start_time": "2022-03-24T16:52:47.708Z"
   },
   {
    "duration": 36,
    "start_time": "2022-03-24T16:52:47.736Z"
   },
   {
    "duration": 28,
    "start_time": "2022-03-24T16:52:47.777Z"
   },
   {
    "duration": 7,
    "start_time": "2022-03-24T16:52:47.831Z"
   },
   {
    "duration": 21,
    "start_time": "2022-03-24T16:52:47.840Z"
   },
   {
    "duration": 8,
    "start_time": "2022-03-24T16:52:47.863Z"
   },
   {
    "duration": 23,
    "start_time": "2022-03-24T16:52:47.873Z"
   },
   {
    "duration": 39,
    "start_time": "2022-03-24T16:52:47.898Z"
   },
   {
    "duration": 20,
    "start_time": "2022-03-24T16:52:47.939Z"
   },
   {
    "duration": 37,
    "start_time": "2022-03-24T16:52:47.961Z"
   },
   {
    "duration": 36,
    "start_time": "2022-03-24T16:52:47.999Z"
   },
   {
    "duration": 13,
    "start_time": "2022-03-24T16:52:48.037Z"
   },
   {
    "duration": 6,
    "start_time": "2022-03-24T16:52:48.052Z"
   },
   {
    "duration": 40,
    "start_time": "2022-03-24T16:52:48.060Z"
   },
   {
    "duration": 41,
    "start_time": "2022-03-24T16:52:48.102Z"
   },
   {
    "duration": 35,
    "start_time": "2022-03-24T16:52:48.145Z"
   },
   {
    "duration": 43,
    "start_time": "2022-03-24T16:52:48.182Z"
   },
   {
    "duration": 16,
    "start_time": "2022-03-24T16:52:48.227Z"
   },
   {
    "duration": 8,
    "start_time": "2022-03-24T16:52:48.245Z"
   },
   {
    "duration": 18,
    "start_time": "2022-03-24T16:52:48.255Z"
   },
   {
    "duration": 8,
    "start_time": "2022-03-24T16:52:48.274Z"
   },
   {
    "duration": 48,
    "start_time": "2022-03-24T16:52:48.284Z"
   },
   {
    "duration": 92,
    "start_time": "2022-03-24T16:54:28.560Z"
   },
   {
    "duration": 6,
    "start_time": "2022-03-24T16:55:08.993Z"
   },
   {
    "duration": 194,
    "start_time": "2022-03-24T16:56:22.472Z"
   },
   {
    "duration": 15,
    "start_time": "2022-03-24T16:56:29.253Z"
   },
   {
    "duration": 7,
    "start_time": "2022-03-24T17:05:35.641Z"
   },
   {
    "duration": 230,
    "start_time": "2022-03-24T17:07:02.363Z"
   },
   {
    "duration": 14,
    "start_time": "2022-03-24T17:07:18.558Z"
   },
   {
    "duration": 22,
    "start_time": "2022-03-24T17:07:49.657Z"
   },
   {
    "duration": 13,
    "start_time": "2022-03-24T17:08:41.119Z"
   },
   {
    "duration": 8,
    "start_time": "2022-03-24T17:09:46.116Z"
   },
   {
    "duration": 430,
    "start_time": "2022-03-24T17:10:25.493Z"
   },
   {
    "duration": 69,
    "start_time": "2022-03-24T17:10:25.925Z"
   },
   {
    "duration": 23,
    "start_time": "2022-03-24T17:10:25.996Z"
   },
   {
    "duration": 25,
    "start_time": "2022-03-24T17:10:26.021Z"
   },
   {
    "duration": 35,
    "start_time": "2022-03-24T17:10:26.048Z"
   },
   {
    "duration": 10,
    "start_time": "2022-03-24T17:10:26.085Z"
   },
   {
    "duration": 7,
    "start_time": "2022-03-24T17:10:26.097Z"
   },
   {
    "duration": 5,
    "start_time": "2022-03-24T17:10:26.132Z"
   },
   {
    "duration": 6,
    "start_time": "2022-03-24T17:10:26.139Z"
   },
   {
    "duration": 14,
    "start_time": "2022-03-24T17:10:26.148Z"
   },
   {
    "duration": 6,
    "start_time": "2022-03-24T17:10:26.164Z"
   },
   {
    "duration": 11,
    "start_time": "2022-03-24T17:10:26.171Z"
   },
   {
    "duration": 10,
    "start_time": "2022-03-24T17:10:26.184Z"
   },
   {
    "duration": 3,
    "start_time": "2022-03-24T17:10:26.196Z"
   },
   {
    "duration": 3,
    "start_time": "2022-03-24T17:10:26.232Z"
   },
   {
    "duration": 8,
    "start_time": "2022-03-24T17:10:26.237Z"
   },
   {
    "duration": 11,
    "start_time": "2022-03-24T17:10:26.247Z"
   },
   {
    "duration": 7,
    "start_time": "2022-03-24T17:10:26.260Z"
   },
   {
    "duration": 16,
    "start_time": "2022-03-24T17:10:26.269Z"
   },
   {
    "duration": 44,
    "start_time": "2022-03-24T17:10:26.287Z"
   },
   {
    "duration": 34,
    "start_time": "2022-03-24T17:10:26.333Z"
   },
   {
    "duration": 5,
    "start_time": "2022-03-24T17:10:26.369Z"
   },
   {
    "duration": 16,
    "start_time": "2022-03-24T17:10:26.376Z"
   },
   {
    "duration": 11,
    "start_time": "2022-03-24T17:10:26.393Z"
   },
   {
    "duration": 32,
    "start_time": "2022-03-24T17:10:26.405Z"
   },
   {
    "duration": 42,
    "start_time": "2022-03-24T17:10:26.439Z"
   },
   {
    "duration": 6,
    "start_time": "2022-03-24T17:10:26.483Z"
   },
   {
    "duration": 54,
    "start_time": "2022-03-24T17:10:26.493Z"
   },
   {
    "duration": 5,
    "start_time": "2022-03-24T17:10:26.549Z"
   },
   {
    "duration": 20,
    "start_time": "2022-03-24T17:10:26.556Z"
   },
   {
    "duration": 11,
    "start_time": "2022-03-24T17:10:26.578Z"
   },
   {
    "duration": 47,
    "start_time": "2022-03-24T17:10:26.591Z"
   },
   {
    "duration": 7,
    "start_time": "2022-03-24T17:10:26.640Z"
   },
   {
    "duration": 22,
    "start_time": "2022-03-24T17:10:26.649Z"
   },
   {
    "duration": 71,
    "start_time": "2022-03-24T17:10:26.673Z"
   },
   {
    "duration": 12,
    "start_time": "2022-03-24T17:10:26.746Z"
   },
   {
    "duration": 14,
    "start_time": "2022-03-24T17:10:26.760Z"
   },
   {
    "duration": 7,
    "start_time": "2022-03-24T17:10:26.776Z"
   },
   {
    "duration": 60,
    "start_time": "2022-03-24T17:10:26.784Z"
   },
   {
    "duration": 19,
    "start_time": "2022-03-24T17:10:26.847Z"
   },
   {
    "duration": 32,
    "start_time": "2022-03-24T17:10:26.869Z"
   },
   {
    "duration": 46,
    "start_time": "2022-03-24T17:10:26.903Z"
   },
   {
    "duration": 17,
    "start_time": "2022-03-24T17:10:26.951Z"
   },
   {
    "duration": 11,
    "start_time": "2022-03-24T17:10:26.970Z"
   },
   {
    "duration": 49,
    "start_time": "2022-03-24T17:10:26.983Z"
   },
   {
    "duration": 10,
    "start_time": "2022-03-24T17:10:27.033Z"
   },
   {
    "duration": 20,
    "start_time": "2022-03-24T17:10:27.044Z"
   },
   {
    "duration": 456,
    "start_time": "2022-03-24T17:10:47.300Z"
   },
   {
    "duration": 70,
    "start_time": "2022-03-24T17:10:47.758Z"
   },
   {
    "duration": 24,
    "start_time": "2022-03-24T17:10:47.830Z"
   },
   {
    "duration": 17,
    "start_time": "2022-03-24T17:10:47.856Z"
   },
   {
    "duration": 57,
    "start_time": "2022-03-24T17:10:47.875Z"
   },
   {
    "duration": 11,
    "start_time": "2022-03-24T17:10:47.934Z"
   },
   {
    "duration": 13,
    "start_time": "2022-03-24T17:10:47.947Z"
   },
   {
    "duration": 5,
    "start_time": "2022-03-24T17:10:47.962Z"
   },
   {
    "duration": 8,
    "start_time": "2022-03-24T17:10:47.969Z"
   },
   {
    "duration": 15,
    "start_time": "2022-03-24T17:10:47.978Z"
   },
   {
    "duration": 7,
    "start_time": "2022-03-24T17:10:47.995Z"
   },
   {
    "duration": 8,
    "start_time": "2022-03-24T17:10:48.032Z"
   },
   {
    "duration": 9,
    "start_time": "2022-03-24T17:10:48.041Z"
   },
   {
    "duration": 2,
    "start_time": "2022-03-24T17:10:48.054Z"
   },
   {
    "duration": 10,
    "start_time": "2022-03-24T17:10:48.058Z"
   },
   {
    "duration": 11,
    "start_time": "2022-03-24T17:10:48.070Z"
   },
   {
    "duration": 13,
    "start_time": "2022-03-24T17:10:48.082Z"
   },
   {
    "duration": 13,
    "start_time": "2022-03-24T17:10:48.097Z"
   },
   {
    "duration": 29,
    "start_time": "2022-03-24T17:10:48.112Z"
   },
   {
    "duration": 17,
    "start_time": "2022-03-24T17:10:48.143Z"
   },
   {
    "duration": 37,
    "start_time": "2022-03-24T17:10:48.161Z"
   },
   {
    "duration": 5,
    "start_time": "2022-03-24T17:10:48.199Z"
   },
   {
    "duration": 31,
    "start_time": "2022-03-24T17:10:48.206Z"
   },
   {
    "duration": 9,
    "start_time": "2022-03-24T17:10:48.239Z"
   },
   {
    "duration": 11,
    "start_time": "2022-03-24T17:10:48.249Z"
   },
   {
    "duration": 42,
    "start_time": "2022-03-24T17:10:48.262Z"
   },
   {
    "duration": 27,
    "start_time": "2022-03-24T17:10:48.306Z"
   },
   {
    "duration": 31,
    "start_time": "2022-03-24T17:10:48.335Z"
   },
   {
    "duration": 6,
    "start_time": "2022-03-24T17:10:48.368Z"
   },
   {
    "duration": 19,
    "start_time": "2022-03-24T17:10:48.375Z"
   },
   {
    "duration": 8,
    "start_time": "2022-03-24T17:10:48.396Z"
   },
   {
    "duration": 21,
    "start_time": "2022-03-24T17:10:48.432Z"
   },
   {
    "duration": 6,
    "start_time": "2022-03-24T17:10:48.454Z"
   },
   {
    "duration": 25,
    "start_time": "2022-03-24T17:10:48.462Z"
   },
   {
    "duration": 67,
    "start_time": "2022-03-24T17:10:48.489Z"
   },
   {
    "duration": 10,
    "start_time": "2022-03-24T17:10:48.558Z"
   },
   {
    "duration": 13,
    "start_time": "2022-03-24T17:10:48.570Z"
   },
   {
    "duration": 5,
    "start_time": "2022-03-24T17:10:48.585Z"
   },
   {
    "duration": 53,
    "start_time": "2022-03-24T17:10:48.592Z"
   },
   {
    "duration": 19,
    "start_time": "2022-03-24T17:10:48.647Z"
   },
   {
    "duration": 33,
    "start_time": "2022-03-24T17:10:48.670Z"
   },
   {
    "duration": 43,
    "start_time": "2022-03-24T17:10:48.705Z"
   },
   {
    "duration": 15,
    "start_time": "2022-03-24T17:10:48.749Z"
   },
   {
    "duration": 14,
    "start_time": "2022-03-24T17:10:48.766Z"
   },
   {
    "duration": 17,
    "start_time": "2022-03-24T17:10:48.782Z"
   },
   {
    "duration": 32,
    "start_time": "2022-03-24T17:10:48.801Z"
   },
   {
    "duration": 19,
    "start_time": "2022-03-24T17:10:48.835Z"
   },
   {
    "duration": 400,
    "start_time": "2022-03-24T17:12:52.373Z"
   },
   {
    "duration": 68,
    "start_time": "2022-03-24T17:12:52.776Z"
   },
   {
    "duration": 25,
    "start_time": "2022-03-24T17:12:52.846Z"
   },
   {
    "duration": 26,
    "start_time": "2022-03-24T17:12:52.873Z"
   },
   {
    "duration": 46,
    "start_time": "2022-03-24T17:12:52.901Z"
   },
   {
    "duration": 11,
    "start_time": "2022-03-24T17:12:52.949Z"
   },
   {
    "duration": 14,
    "start_time": "2022-03-24T17:12:52.962Z"
   },
   {
    "duration": 23,
    "start_time": "2022-03-24T17:12:52.978Z"
   },
   {
    "duration": 12,
    "start_time": "2022-03-24T17:12:53.004Z"
   },
   {
    "duration": 22,
    "start_time": "2022-03-24T17:12:53.021Z"
   },
   {
    "duration": 29,
    "start_time": "2022-03-24T17:12:53.045Z"
   },
   {
    "duration": 26,
    "start_time": "2022-03-24T17:12:53.076Z"
   },
   {
    "duration": 13,
    "start_time": "2022-03-24T17:12:53.104Z"
   },
   {
    "duration": 11,
    "start_time": "2022-03-24T17:12:53.119Z"
   },
   {
    "duration": 23,
    "start_time": "2022-03-24T17:12:53.132Z"
   },
   {
    "duration": 15,
    "start_time": "2022-03-24T17:12:53.157Z"
   },
   {
    "duration": 17,
    "start_time": "2022-03-24T17:12:53.174Z"
   },
   {
    "duration": 26,
    "start_time": "2022-03-24T17:12:53.193Z"
   },
   {
    "duration": 33,
    "start_time": "2022-03-24T17:12:53.221Z"
   },
   {
    "duration": 20,
    "start_time": "2022-03-24T17:12:53.256Z"
   },
   {
    "duration": 52,
    "start_time": "2022-03-24T17:12:53.278Z"
   },
   {
    "duration": 6,
    "start_time": "2022-03-24T17:12:53.332Z"
   },
   {
    "duration": 19,
    "start_time": "2022-03-24T17:12:53.340Z"
   },
   {
    "duration": 17,
    "start_time": "2022-03-24T17:12:53.361Z"
   },
   {
    "duration": 24,
    "start_time": "2022-03-24T17:12:53.381Z"
   },
   {
    "duration": 48,
    "start_time": "2022-03-24T17:12:53.407Z"
   },
   {
    "duration": 7,
    "start_time": "2022-03-24T17:12:53.457Z"
   },
   {
    "duration": 44,
    "start_time": "2022-03-24T17:12:53.467Z"
   },
   {
    "duration": 5,
    "start_time": "2022-03-24T17:12:53.513Z"
   },
   {
    "duration": 40,
    "start_time": "2022-03-24T17:12:53.519Z"
   },
   {
    "duration": 25,
    "start_time": "2022-03-24T17:12:53.561Z"
   },
   {
    "duration": 28,
    "start_time": "2022-03-24T17:12:53.587Z"
   },
   {
    "duration": 14,
    "start_time": "2022-03-24T17:12:53.617Z"
   },
   {
    "duration": 37,
    "start_time": "2022-03-24T17:12:53.632Z"
   },
   {
    "duration": 46,
    "start_time": "2022-03-24T17:12:53.671Z"
   },
   {
    "duration": 11,
    "start_time": "2022-03-24T17:12:53.719Z"
   },
   {
    "duration": 22,
    "start_time": "2022-03-24T17:12:53.732Z"
   },
   {
    "duration": 35,
    "start_time": "2022-03-24T17:12:53.756Z"
   },
   {
    "duration": 33,
    "start_time": "2022-03-24T17:12:53.793Z"
   },
   {
    "duration": 21,
    "start_time": "2022-03-24T17:12:53.828Z"
   },
   {
    "duration": 54,
    "start_time": "2022-03-24T17:12:53.851Z"
   },
   {
    "duration": 36,
    "start_time": "2022-03-24T17:12:53.907Z"
   },
   {
    "duration": 27,
    "start_time": "2022-03-24T17:12:53.945Z"
   },
   {
    "duration": 10,
    "start_time": "2022-03-24T17:12:53.973Z"
   },
   {
    "duration": 26,
    "start_time": "2022-03-24T17:12:53.985Z"
   },
   {
    "duration": 11,
    "start_time": "2022-03-24T17:12:54.012Z"
   },
   {
    "duration": 24,
    "start_time": "2022-03-24T17:12:54.025Z"
   },
   {
    "duration": 422,
    "start_time": "2022-03-24T17:13:55.852Z"
   },
   {
    "duration": 78,
    "start_time": "2022-03-24T17:13:56.276Z"
   },
   {
    "duration": 23,
    "start_time": "2022-03-24T17:13:56.355Z"
   },
   {
    "duration": 16,
    "start_time": "2022-03-24T17:13:56.380Z"
   },
   {
    "duration": 57,
    "start_time": "2022-03-24T17:13:56.398Z"
   },
   {
    "duration": 11,
    "start_time": "2022-03-24T17:13:56.457Z"
   },
   {
    "duration": 10,
    "start_time": "2022-03-24T17:13:56.470Z"
   },
   {
    "duration": 3,
    "start_time": "2022-03-24T17:13:56.482Z"
   },
   {
    "duration": 6,
    "start_time": "2022-03-24T17:13:56.487Z"
   },
   {
    "duration": 39,
    "start_time": "2022-03-24T17:13:56.495Z"
   },
   {
    "duration": 7,
    "start_time": "2022-03-24T17:13:56.536Z"
   },
   {
    "duration": 11,
    "start_time": "2022-03-24T17:13:56.545Z"
   },
   {
    "duration": 10,
    "start_time": "2022-03-24T17:13:56.558Z"
   },
   {
    "duration": 3,
    "start_time": "2022-03-24T17:13:56.572Z"
   },
   {
    "duration": 7,
    "start_time": "2022-03-24T17:13:56.576Z"
   },
   {
    "duration": 7,
    "start_time": "2022-03-24T17:13:56.585Z"
   },
   {
    "duration": 10,
    "start_time": "2022-03-24T17:13:56.594Z"
   },
   {
    "duration": 8,
    "start_time": "2022-03-24T17:13:56.632Z"
   },
   {
    "duration": 20,
    "start_time": "2022-03-24T17:13:56.642Z"
   },
   {
    "duration": 15,
    "start_time": "2022-03-24T17:13:56.664Z"
   },
   {
    "duration": 63,
    "start_time": "2022-03-24T17:13:56.680Z"
   },
   {
    "duration": 5,
    "start_time": "2022-03-24T17:13:56.744Z"
   },
   {
    "duration": 13,
    "start_time": "2022-03-24T17:13:56.751Z"
   },
   {
    "duration": 10,
    "start_time": "2022-03-24T17:13:56.766Z"
   },
   {
    "duration": 10,
    "start_time": "2022-03-24T17:13:56.778Z"
   },
   {
    "duration": 14,
    "start_time": "2022-03-24T17:13:56.789Z"
   },
   {
    "duration": 44,
    "start_time": "2022-03-24T17:13:56.832Z"
   },
   {
    "duration": 5,
    "start_time": "2022-03-24T17:13:56.878Z"
   },
   {
    "duration": 48,
    "start_time": "2022-03-24T17:13:56.885Z"
   },
   {
    "duration": 5,
    "start_time": "2022-03-24T17:13:56.935Z"
   },
   {
    "duration": 22,
    "start_time": "2022-03-24T17:13:56.941Z"
   },
   {
    "duration": 6,
    "start_time": "2022-03-24T17:13:56.965Z"
   },
   {
    "duration": 20,
    "start_time": "2022-03-24T17:13:56.973Z"
   },
   {
    "duration": 37,
    "start_time": "2022-03-24T17:13:56.995Z"
   },
   {
    "duration": 20,
    "start_time": "2022-03-24T17:13:57.034Z"
   },
   {
    "duration": 40,
    "start_time": "2022-03-24T17:13:57.055Z"
   },
   {
    "duration": 35,
    "start_time": "2022-03-24T17:13:57.097Z"
   },
   {
    "duration": 12,
    "start_time": "2022-03-24T17:13:57.133Z"
   },
   {
    "duration": 5,
    "start_time": "2022-03-24T17:13:57.148Z"
   },
   {
    "duration": 34,
    "start_time": "2022-03-24T17:13:57.155Z"
   },
   {
    "duration": 44,
    "start_time": "2022-03-24T17:13:57.194Z"
   },
   {
    "duration": 33,
    "start_time": "2022-03-24T17:13:57.240Z"
   },
   {
    "duration": 22,
    "start_time": "2022-03-24T17:13:57.275Z"
   },
   {
    "duration": 45,
    "start_time": "2022-03-24T17:13:57.299Z"
   },
   {
    "duration": 11,
    "start_time": "2022-03-24T17:13:57.346Z"
   },
   {
    "duration": 20,
    "start_time": "2022-03-24T17:13:57.359Z"
   },
   {
    "duration": 8,
    "start_time": "2022-03-24T17:13:57.381Z"
   },
   {
    "duration": 52,
    "start_time": "2022-03-24T17:13:57.390Z"
   },
   {
    "duration": 77,
    "start_time": "2022-03-24T17:14:59.288Z"
   },
   {
    "duration": 8,
    "start_time": "2022-03-24T17:15:18.726Z"
   },
   {
    "duration": 21,
    "start_time": "2022-03-24T17:20:41.242Z"
   },
   {
    "duration": 33,
    "start_time": "2022-03-24T17:21:00.205Z"
   },
   {
    "duration": 398,
    "start_time": "2022-03-24T17:21:13.378Z"
   },
   {
    "duration": 69,
    "start_time": "2022-03-24T17:21:13.778Z"
   },
   {
    "duration": 24,
    "start_time": "2022-03-24T17:21:13.849Z"
   },
   {
    "duration": 20,
    "start_time": "2022-03-24T17:21:13.876Z"
   },
   {
    "duration": 53,
    "start_time": "2022-03-24T17:21:13.898Z"
   },
   {
    "duration": 11,
    "start_time": "2022-03-24T17:21:13.953Z"
   },
   {
    "duration": 17,
    "start_time": "2022-03-24T17:21:13.966Z"
   },
   {
    "duration": 26,
    "start_time": "2022-03-24T17:21:13.984Z"
   },
   {
    "duration": 13,
    "start_time": "2022-03-24T17:21:14.012Z"
   },
   {
    "duration": 27,
    "start_time": "2022-03-24T17:21:14.028Z"
   },
   {
    "duration": 7,
    "start_time": "2022-03-24T17:21:14.057Z"
   },
   {
    "duration": 11,
    "start_time": "2022-03-24T17:21:14.066Z"
   },
   {
    "duration": 9,
    "start_time": "2022-03-24T17:21:14.079Z"
   },
   {
    "duration": 4,
    "start_time": "2022-03-24T17:21:14.089Z"
   },
   {
    "duration": 8,
    "start_time": "2022-03-24T17:21:14.095Z"
   },
   {
    "duration": 6,
    "start_time": "2022-03-24T17:21:14.105Z"
   },
   {
    "duration": 18,
    "start_time": "2022-03-24T17:21:14.113Z"
   },
   {
    "duration": 8,
    "start_time": "2022-03-24T17:21:14.133Z"
   },
   {
    "duration": 17,
    "start_time": "2022-03-24T17:21:14.142Z"
   },
   {
    "duration": 15,
    "start_time": "2022-03-24T17:21:14.161Z"
   },
   {
    "duration": 61,
    "start_time": "2022-03-24T17:21:14.178Z"
   },
   {
    "duration": 5,
    "start_time": "2022-03-24T17:21:14.241Z"
   },
   {
    "duration": 12,
    "start_time": "2022-03-24T17:21:14.247Z"
   },
   {
    "duration": 10,
    "start_time": "2022-03-24T17:21:14.260Z"
   },
   {
    "duration": 9,
    "start_time": "2022-03-24T17:21:14.271Z"
   },
   {
    "duration": 63,
    "start_time": "2022-03-24T17:21:14.282Z"
   },
   {
    "duration": 43,
    "start_time": "2022-03-24T17:21:14.347Z"
   },
   {
    "duration": 5,
    "start_time": "2022-03-24T17:21:14.394Z"
   },
   {
    "duration": 46,
    "start_time": "2022-03-24T17:21:14.401Z"
   },
   {
    "duration": 5,
    "start_time": "2022-03-24T17:21:14.449Z"
   },
   {
    "duration": 20,
    "start_time": "2022-03-24T17:21:14.456Z"
   },
   {
    "duration": 10,
    "start_time": "2022-03-24T17:21:14.477Z"
   },
   {
    "duration": 44,
    "start_time": "2022-03-24T17:21:14.489Z"
   },
   {
    "duration": 6,
    "start_time": "2022-03-24T17:21:14.535Z"
   },
   {
    "duration": 23,
    "start_time": "2022-03-24T17:21:14.543Z"
   },
   {
    "duration": 39,
    "start_time": "2022-03-24T17:21:14.568Z"
   },
   {
    "duration": 11,
    "start_time": "2022-03-24T17:21:14.631Z"
   },
   {
    "duration": 12,
    "start_time": "2022-03-24T17:21:14.644Z"
   },
   {
    "duration": 6,
    "start_time": "2022-03-24T17:21:14.657Z"
   },
   {
    "duration": 30,
    "start_time": "2022-03-24T17:21:14.665Z"
   },
   {
    "duration": 49,
    "start_time": "2022-03-24T17:21:14.697Z"
   },
   {
    "duration": 33,
    "start_time": "2022-03-24T17:21:14.748Z"
   },
   {
    "duration": 24,
    "start_time": "2022-03-24T17:21:14.783Z"
   },
   {
    "duration": 36,
    "start_time": "2022-03-24T17:21:14.809Z"
   },
   {
    "duration": 10,
    "start_time": "2022-03-24T17:21:14.846Z"
   },
   {
    "duration": 17,
    "start_time": "2022-03-24T17:21:14.857Z"
   },
   {
    "duration": 7,
    "start_time": "2022-03-24T17:21:14.876Z"
   },
   {
    "duration": 49,
    "start_time": "2022-03-24T17:21:14.885Z"
   },
   {
    "duration": 13,
    "start_time": "2022-03-24T17:28:24.549Z"
   },
   {
    "duration": 432,
    "start_time": "2022-03-24T17:28:36.745Z"
   },
   {
    "duration": 71,
    "start_time": "2022-03-24T17:28:37.180Z"
   },
   {
    "duration": 22,
    "start_time": "2022-03-24T17:28:37.253Z"
   },
   {
    "duration": 17,
    "start_time": "2022-03-24T17:28:37.277Z"
   },
   {
    "duration": 61,
    "start_time": "2022-03-24T17:28:37.297Z"
   },
   {
    "duration": 13,
    "start_time": "2022-03-24T17:28:37.360Z"
   },
   {
    "duration": 9,
    "start_time": "2022-03-24T17:28:37.375Z"
   },
   {
    "duration": 5,
    "start_time": "2022-03-24T17:28:37.386Z"
   },
   {
    "duration": 6,
    "start_time": "2022-03-24T17:28:37.393Z"
   },
   {
    "duration": 14,
    "start_time": "2022-03-24T17:28:37.431Z"
   },
   {
    "duration": 9,
    "start_time": "2022-03-24T17:28:37.446Z"
   },
   {
    "duration": 11,
    "start_time": "2022-03-24T17:28:37.457Z"
   },
   {
    "duration": 10,
    "start_time": "2022-03-24T17:28:37.469Z"
   },
   {
    "duration": 2,
    "start_time": "2022-03-24T17:28:37.483Z"
   },
   {
    "duration": 5,
    "start_time": "2022-03-24T17:28:37.487Z"
   },
   {
    "duration": 39,
    "start_time": "2022-03-24T17:28:37.494Z"
   },
   {
    "duration": 10,
    "start_time": "2022-03-24T17:28:37.535Z"
   },
   {
    "duration": 7,
    "start_time": "2022-03-24T17:28:37.547Z"
   },
   {
    "duration": 15,
    "start_time": "2022-03-24T17:28:37.556Z"
   },
   {
    "duration": 15,
    "start_time": "2022-03-24T17:28:37.573Z"
   },
   {
    "duration": 68,
    "start_time": "2022-03-24T17:28:37.590Z"
   },
   {
    "duration": 5,
    "start_time": "2022-03-24T17:28:37.660Z"
   },
   {
    "duration": 16,
    "start_time": "2022-03-24T17:28:37.667Z"
   },
   {
    "duration": 8,
    "start_time": "2022-03-24T17:28:37.684Z"
   },
   {
    "duration": 9,
    "start_time": "2022-03-24T17:28:37.694Z"
   },
   {
    "duration": 54,
    "start_time": "2022-03-24T17:28:37.705Z"
   },
   {
    "duration": 13,
    "start_time": "2022-03-24T17:28:37.761Z"
   },
   {
    "duration": 60,
    "start_time": "2022-03-24T17:28:37.775Z"
   },
   {
    "duration": 7,
    "start_time": "2022-03-24T17:28:37.836Z"
   },
   {
    "duration": 28,
    "start_time": "2022-03-24T17:28:37.845Z"
   },
   {
    "duration": 7,
    "start_time": "2022-03-24T17:28:37.875Z"
   },
   {
    "duration": 52,
    "start_time": "2022-03-24T17:28:37.884Z"
   },
   {
    "duration": 6,
    "start_time": "2022-03-24T17:28:37.938Z"
   },
   {
    "duration": 22,
    "start_time": "2022-03-24T17:28:37.946Z"
   },
   {
    "duration": 6,
    "start_time": "2022-03-24T17:28:37.969Z"
   },
   {
    "duration": 21,
    "start_time": "2022-03-24T17:28:37.977Z"
   },
   {
    "duration": 69,
    "start_time": "2022-03-24T17:28:38.000Z"
   },
   {
    "duration": 13,
    "start_time": "2022-03-24T17:28:38.071Z"
   },
   {
    "duration": 13,
    "start_time": "2022-03-24T17:28:38.086Z"
   },
   {
    "duration": 7,
    "start_time": "2022-03-24T17:28:38.131Z"
   },
   {
    "duration": 27,
    "start_time": "2022-03-24T17:28:38.142Z"
   },
   {
    "duration": 20,
    "start_time": "2022-03-24T17:28:38.170Z"
   },
   {
    "duration": 58,
    "start_time": "2022-03-24T17:28:38.192Z"
   },
   {
    "duration": 26,
    "start_time": "2022-03-24T17:28:38.252Z"
   },
   {
    "duration": 16,
    "start_time": "2022-03-24T17:28:38.280Z"
   },
   {
    "duration": 10,
    "start_time": "2022-03-24T17:28:38.298Z"
   },
   {
    "duration": 39,
    "start_time": "2022-03-24T17:28:38.309Z"
   },
   {
    "duration": 7,
    "start_time": "2022-03-24T17:28:38.350Z"
   },
   {
    "duration": 20,
    "start_time": "2022-03-24T17:28:38.359Z"
   },
   {
    "duration": 415,
    "start_time": "2022-03-24T17:59:03.990Z"
   },
   {
    "duration": 70,
    "start_time": "2022-03-24T17:59:04.408Z"
   },
   {
    "duration": 24,
    "start_time": "2022-03-24T17:59:04.480Z"
   },
   {
    "duration": 27,
    "start_time": "2022-03-24T17:59:04.506Z"
   },
   {
    "duration": 36,
    "start_time": "2022-03-24T17:59:04.535Z"
   },
   {
    "duration": 12,
    "start_time": "2022-03-24T17:59:04.573Z"
   },
   {
    "duration": 11,
    "start_time": "2022-03-24T17:59:04.586Z"
   },
   {
    "duration": 34,
    "start_time": "2022-03-24T17:59:04.599Z"
   },
   {
    "duration": 8,
    "start_time": "2022-03-24T17:59:04.635Z"
   },
   {
    "duration": 15,
    "start_time": "2022-03-24T17:59:04.646Z"
   },
   {
    "duration": 7,
    "start_time": "2022-03-24T17:59:04.663Z"
   },
   {
    "duration": 15,
    "start_time": "2022-03-24T17:59:04.671Z"
   },
   {
    "duration": 7,
    "start_time": "2022-03-24T17:59:04.688Z"
   },
   {
    "duration": 4,
    "start_time": "2022-03-24T17:59:04.696Z"
   },
   {
    "duration": 31,
    "start_time": "2022-03-24T17:59:04.701Z"
   },
   {
    "duration": 5,
    "start_time": "2022-03-24T17:59:04.734Z"
   },
   {
    "duration": 10,
    "start_time": "2022-03-24T17:59:04.740Z"
   },
   {
    "duration": 7,
    "start_time": "2022-03-24T17:59:04.752Z"
   },
   {
    "duration": 15,
    "start_time": "2022-03-24T17:59:04.761Z"
   },
   {
    "duration": 15,
    "start_time": "2022-03-24T17:59:04.778Z"
   },
   {
    "duration": 65,
    "start_time": "2022-03-24T17:59:04.795Z"
   },
   {
    "duration": 6,
    "start_time": "2022-03-24T17:59:04.862Z"
   },
   {
    "duration": 9,
    "start_time": "2022-03-24T17:59:04.870Z"
   },
   {
    "duration": 17,
    "start_time": "2022-03-24T17:59:04.880Z"
   },
   {
    "duration": 14,
    "start_time": "2022-03-24T17:59:04.899Z"
   },
   {
    "duration": 34,
    "start_time": "2022-03-24T17:59:04.932Z"
   },
   {
    "duration": 14,
    "start_time": "2022-03-24T17:59:04.967Z"
   },
   {
    "duration": 63,
    "start_time": "2022-03-24T17:59:04.985Z"
   },
   {
    "duration": 10,
    "start_time": "2022-03-24T17:59:05.050Z"
   },
   {
    "duration": 31,
    "start_time": "2022-03-24T17:59:05.062Z"
   },
   {
    "duration": 5,
    "start_time": "2022-03-24T17:59:05.095Z"
   },
   {
    "duration": 48,
    "start_time": "2022-03-24T17:59:05.102Z"
   },
   {
    "duration": 11,
    "start_time": "2022-03-24T17:59:05.151Z"
   },
   {
    "duration": 25,
    "start_time": "2022-03-24T17:59:05.164Z"
   },
   {
    "duration": 7,
    "start_time": "2022-03-24T17:59:05.191Z"
   },
   {
    "duration": 41,
    "start_time": "2022-03-24T17:59:05.199Z"
   },
   {
    "duration": 40,
    "start_time": "2022-03-24T17:59:05.241Z"
   },
   {
    "duration": 11,
    "start_time": "2022-03-24T17:59:05.283Z"
   },
   {
    "duration": 35,
    "start_time": "2022-03-24T17:59:05.296Z"
   },
   {
    "duration": 6,
    "start_time": "2022-03-24T17:59:05.332Z"
   },
   {
    "duration": 29,
    "start_time": "2022-03-24T17:59:05.340Z"
   },
   {
    "duration": 19,
    "start_time": "2022-03-24T17:59:05.371Z"
   },
   {
    "duration": 55,
    "start_time": "2022-03-24T17:59:05.392Z"
   },
   {
    "duration": 20,
    "start_time": "2022-03-24T17:59:05.448Z"
   },
   {
    "duration": 16,
    "start_time": "2022-03-24T17:59:05.470Z"
   },
   {
    "duration": 17,
    "start_time": "2022-03-24T17:59:05.487Z"
   },
   {
    "duration": 46,
    "start_time": "2022-03-24T17:59:05.505Z"
   },
   {
    "duration": 12,
    "start_time": "2022-03-24T17:59:05.553Z"
   },
   {
    "duration": 40,
    "start_time": "2022-03-24T17:59:05.567Z"
   },
   {
    "duration": 34,
    "start_time": "2022-03-24T18:01:27.957Z"
   },
   {
    "duration": 429,
    "start_time": "2022-03-24T18:01:35.947Z"
   },
   {
    "duration": 80,
    "start_time": "2022-03-24T18:01:36.378Z"
   },
   {
    "duration": 22,
    "start_time": "2022-03-24T18:01:36.460Z"
   },
   {
    "duration": 16,
    "start_time": "2022-03-24T18:01:36.484Z"
   },
   {
    "duration": 52,
    "start_time": "2022-03-24T18:01:36.502Z"
   },
   {
    "duration": 10,
    "start_time": "2022-03-24T18:01:36.556Z"
   },
   {
    "duration": 14,
    "start_time": "2022-03-24T18:01:36.567Z"
   },
   {
    "duration": 3,
    "start_time": "2022-03-24T18:01:36.583Z"
   },
   {
    "duration": 13,
    "start_time": "2022-03-24T18:01:36.588Z"
   },
   {
    "duration": 31,
    "start_time": "2022-03-24T18:01:36.603Z"
   },
   {
    "duration": 7,
    "start_time": "2022-03-24T18:01:36.635Z"
   },
   {
    "duration": 9,
    "start_time": "2022-03-24T18:01:36.644Z"
   },
   {
    "duration": 8,
    "start_time": "2022-03-24T18:01:36.655Z"
   },
   {
    "duration": 4,
    "start_time": "2022-03-24T18:01:36.664Z"
   },
   {
    "duration": 6,
    "start_time": "2022-03-24T18:01:36.670Z"
   },
   {
    "duration": 12,
    "start_time": "2022-03-24T18:01:36.678Z"
   },
   {
    "duration": 10,
    "start_time": "2022-03-24T18:01:36.692Z"
   },
   {
    "duration": 32,
    "start_time": "2022-03-24T18:01:36.704Z"
   },
   {
    "duration": 19,
    "start_time": "2022-03-24T18:01:36.738Z"
   },
   {
    "duration": 14,
    "start_time": "2022-03-24T18:01:36.759Z"
   },
   {
    "duration": 35,
    "start_time": "2022-03-24T18:01:36.775Z"
   },
   {
    "duration": 6,
    "start_time": "2022-03-24T18:01:36.832Z"
   },
   {
    "duration": 8,
    "start_time": "2022-03-24T18:01:36.840Z"
   },
   {
    "duration": 8,
    "start_time": "2022-03-24T18:01:36.850Z"
   },
   {
    "duration": 10,
    "start_time": "2022-03-24T18:01:36.860Z"
   },
   {
    "duration": 65,
    "start_time": "2022-03-24T18:01:36.872Z"
   },
   {
    "duration": 17,
    "start_time": "2022-03-24T18:01:36.938Z"
   },
   {
    "duration": 34,
    "start_time": "2022-03-24T18:01:36.959Z"
   },
   {
    "duration": 6,
    "start_time": "2022-03-24T18:01:36.995Z"
   },
   {
    "duration": 49,
    "start_time": "2022-03-24T18:01:37.002Z"
   },
   {
    "duration": 5,
    "start_time": "2022-03-24T18:01:37.053Z"
   },
   {
    "duration": 19,
    "start_time": "2022-03-24T18:01:37.060Z"
   },
   {
    "duration": 8,
    "start_time": "2022-03-24T18:01:37.080Z"
   },
   {
    "duration": 44,
    "start_time": "2022-03-24T18:01:37.089Z"
   },
   {
    "duration": 8,
    "start_time": "2022-03-24T18:01:37.134Z"
   },
   {
    "duration": 24,
    "start_time": "2022-03-24T18:01:37.144Z"
   },
   {
    "duration": 40,
    "start_time": "2022-03-24T18:01:37.170Z"
   },
   {
    "duration": 12,
    "start_time": "2022-03-24T18:01:37.231Z"
   },
   {
    "duration": 11,
    "start_time": "2022-03-24T18:01:37.245Z"
   },
   {
    "duration": 6,
    "start_time": "2022-03-24T18:01:37.258Z"
   },
   {
    "duration": 39,
    "start_time": "2022-03-24T18:01:37.265Z"
   },
   {
    "duration": 37,
    "start_time": "2022-03-24T18:01:37.306Z"
   },
   {
    "duration": 29,
    "start_time": "2022-03-24T18:01:37.344Z"
   },
   {
    "duration": 25,
    "start_time": "2022-03-24T18:01:37.375Z"
   },
   {
    "duration": 44,
    "start_time": "2022-03-24T18:01:37.402Z"
   },
   {
    "duration": 11,
    "start_time": "2022-03-24T18:01:37.448Z"
   },
   {
    "duration": 19,
    "start_time": "2022-03-24T18:01:37.461Z"
   },
   {
    "duration": 8,
    "start_time": "2022-03-24T18:01:37.482Z"
   },
   {
    "duration": 58,
    "start_time": "2022-03-24T18:01:37.492Z"
   },
   {
    "duration": 450,
    "start_time": "2022-03-24T18:02:50.618Z"
   },
   {
    "duration": 72,
    "start_time": "2022-03-24T18:02:51.070Z"
   },
   {
    "duration": 25,
    "start_time": "2022-03-24T18:02:51.144Z"
   },
   {
    "duration": 17,
    "start_time": "2022-03-24T18:02:51.171Z"
   },
   {
    "duration": 58,
    "start_time": "2022-03-24T18:02:51.190Z"
   },
   {
    "duration": 11,
    "start_time": "2022-03-24T18:02:51.250Z"
   },
   {
    "duration": 8,
    "start_time": "2022-03-24T18:02:51.263Z"
   },
   {
    "duration": 8,
    "start_time": "2022-03-24T18:02:51.273Z"
   },
   {
    "duration": 6,
    "start_time": "2022-03-24T18:02:51.283Z"
   },
   {
    "duration": 41,
    "start_time": "2022-03-24T18:02:51.292Z"
   },
   {
    "duration": 7,
    "start_time": "2022-03-24T18:02:51.334Z"
   },
   {
    "duration": 14,
    "start_time": "2022-03-24T18:02:51.343Z"
   },
   {
    "duration": 7,
    "start_time": "2022-03-24T18:02:51.359Z"
   },
   {
    "duration": 4,
    "start_time": "2022-03-24T18:02:51.368Z"
   },
   {
    "duration": 5,
    "start_time": "2022-03-24T18:02:51.374Z"
   },
   {
    "duration": 7,
    "start_time": "2022-03-24T18:02:51.381Z"
   },
   {
    "duration": 10,
    "start_time": "2022-03-24T18:02:51.390Z"
   },
   {
    "duration": 35,
    "start_time": "2022-03-24T18:02:51.402Z"
   },
   {
    "duration": 16,
    "start_time": "2022-03-24T18:02:51.439Z"
   },
   {
    "duration": 16,
    "start_time": "2022-03-24T18:02:51.457Z"
   },
   {
    "duration": 59,
    "start_time": "2022-03-24T18:02:51.474Z"
   },
   {
    "duration": 6,
    "start_time": "2022-03-24T18:02:51.534Z"
   },
   {
    "duration": 10,
    "start_time": "2022-03-24T18:02:51.542Z"
   },
   {
    "duration": 11,
    "start_time": "2022-03-24T18:02:51.554Z"
   },
   {
    "duration": 23,
    "start_time": "2022-03-24T18:02:51.568Z"
   },
   {
    "duration": 55,
    "start_time": "2022-03-24T18:02:51.593Z"
   },
   {
    "duration": 13,
    "start_time": "2022-03-24T18:02:51.650Z"
   },
   {
    "duration": 35,
    "start_time": "2022-03-24T18:02:51.667Z"
   },
   {
    "duration": 6,
    "start_time": "2022-03-24T18:02:51.704Z"
   },
   {
    "duration": 26,
    "start_time": "2022-03-24T18:02:51.732Z"
   },
   {
    "duration": 6,
    "start_time": "2022-03-24T18:02:51.760Z"
   },
   {
    "duration": 18,
    "start_time": "2022-03-24T18:02:51.767Z"
   },
   {
    "duration": 6,
    "start_time": "2022-03-24T18:02:51.786Z"
   },
   {
    "duration": 55,
    "start_time": "2022-03-24T18:02:51.794Z"
   },
   {
    "duration": 6,
    "start_time": "2022-03-24T18:02:51.850Z"
   },
   {
    "duration": 21,
    "start_time": "2022-03-24T18:02:51.857Z"
   },
   {
    "duration": 68,
    "start_time": "2022-03-24T18:02:51.880Z"
   },
   {
    "duration": 13,
    "start_time": "2022-03-24T18:02:51.949Z"
   },
   {
    "duration": 13,
    "start_time": "2022-03-24T18:02:51.964Z"
   },
   {
    "duration": 5,
    "start_time": "2022-03-24T18:02:51.979Z"
   },
   {
    "duration": 58,
    "start_time": "2022-03-24T18:02:51.986Z"
   },
   {
    "duration": 21,
    "start_time": "2022-03-24T18:02:52.045Z"
   },
   {
    "duration": 34,
    "start_time": "2022-03-24T18:02:52.068Z"
   },
   {
    "duration": 43,
    "start_time": "2022-03-24T18:02:52.104Z"
   },
   {
    "duration": 17,
    "start_time": "2022-03-24T18:02:52.149Z"
   },
   {
    "duration": 10,
    "start_time": "2022-03-24T18:02:52.167Z"
   },
   {
    "duration": 17,
    "start_time": "2022-03-24T18:02:52.179Z"
   },
   {
    "duration": 37,
    "start_time": "2022-03-24T18:02:52.198Z"
   },
   {
    "duration": 20,
    "start_time": "2022-03-24T18:02:52.236Z"
   },
   {
    "duration": 3,
    "start_time": "2022-03-24T18:03:05.734Z"
   },
   {
    "duration": 3,
    "start_time": "2022-03-24T18:03:11.052Z"
   },
   {
    "duration": 424,
    "start_time": "2022-03-24T18:03:30.255Z"
   },
   {
    "duration": 71,
    "start_time": "2022-03-24T18:03:31.675Z"
   },
   {
    "duration": 25,
    "start_time": "2022-03-24T18:03:32.273Z"
   },
   {
    "duration": 18,
    "start_time": "2022-03-24T18:03:33.606Z"
   },
   {
    "duration": 50,
    "start_time": "2022-03-24T18:03:34.142Z"
   },
   {
    "duration": 12,
    "start_time": "2022-03-24T18:03:35.111Z"
   },
   {
    "duration": 9,
    "start_time": "2022-03-24T18:03:35.524Z"
   },
   {
    "duration": 4,
    "start_time": "2022-03-24T18:03:35.937Z"
   },
   {
    "duration": 4,
    "start_time": "2022-03-24T18:03:36.362Z"
   },
   {
    "duration": 15,
    "start_time": "2022-03-24T18:03:36.939Z"
   },
   {
    "duration": 7,
    "start_time": "2022-03-24T18:03:37.599Z"
   },
   {
    "duration": 8,
    "start_time": "2022-03-24T18:03:37.999Z"
   },
   {
    "duration": 6,
    "start_time": "2022-03-24T18:03:38.474Z"
   },
   {
    "duration": 2,
    "start_time": "2022-03-24T18:03:38.903Z"
   },
   {
    "duration": 3,
    "start_time": "2022-03-24T18:03:39.366Z"
   },
   {
    "duration": 3,
    "start_time": "2022-03-24T18:03:39.803Z"
   },
   {
    "duration": 7,
    "start_time": "2022-03-24T18:03:40.516Z"
   },
   {
    "duration": 8,
    "start_time": "2022-03-24T18:03:40.743Z"
   },
   {
    "duration": 16,
    "start_time": "2022-03-24T18:03:41.144Z"
   },
   {
    "duration": 15,
    "start_time": "2022-03-24T18:03:42.000Z"
   },
   {
    "duration": 35,
    "start_time": "2022-03-24T18:03:44.973Z"
   },
   {
    "duration": 5,
    "start_time": "2022-03-24T18:03:46.530Z"
   },
   {
    "duration": 8,
    "start_time": "2022-03-24T18:03:47.534Z"
   },
   {
    "duration": 8,
    "start_time": "2022-03-24T18:03:54.344Z"
   },
   {
    "duration": 10,
    "start_time": "2022-03-24T18:03:55.037Z"
   },
   {
    "duration": 33,
    "start_time": "2022-03-24T18:03:57.288Z"
   },
   {
    "duration": 14,
    "start_time": "2022-03-24T18:03:59.329Z"
   },
   {
    "duration": 38,
    "start_time": "2022-03-24T18:04:22.058Z"
   },
   {
    "duration": 38,
    "start_time": "2022-03-24T18:05:13.490Z"
   },
   {
    "duration": 37,
    "start_time": "2022-03-24T18:06:38.422Z"
   },
   {
    "duration": 416,
    "start_time": "2022-03-24T18:06:45.458Z"
   },
   {
    "duration": 70,
    "start_time": "2022-03-24T18:06:45.876Z"
   },
   {
    "duration": 24,
    "start_time": "2022-03-24T18:06:45.947Z"
   },
   {
    "duration": 18,
    "start_time": "2022-03-24T18:06:45.974Z"
   },
   {
    "duration": 60,
    "start_time": "2022-03-24T18:06:45.994Z"
   },
   {
    "duration": 13,
    "start_time": "2022-03-24T18:06:46.056Z"
   },
   {
    "duration": 12,
    "start_time": "2022-03-24T18:06:46.071Z"
   },
   {
    "duration": 8,
    "start_time": "2022-03-24T18:06:46.085Z"
   },
   {
    "duration": 7,
    "start_time": "2022-03-24T18:06:46.096Z"
   },
   {
    "duration": 14,
    "start_time": "2022-03-24T18:06:46.132Z"
   },
   {
    "duration": 8,
    "start_time": "2022-03-24T18:06:46.148Z"
   },
   {
    "duration": 11,
    "start_time": "2022-03-24T18:06:46.158Z"
   },
   {
    "duration": 9,
    "start_time": "2022-03-24T18:06:46.171Z"
   },
   {
    "duration": 5,
    "start_time": "2022-03-24T18:06:46.181Z"
   },
   {
    "duration": 6,
    "start_time": "2022-03-24T18:06:46.188Z"
   },
   {
    "duration": 36,
    "start_time": "2022-03-24T18:06:46.196Z"
   },
   {
    "duration": 10,
    "start_time": "2022-03-24T18:06:46.234Z"
   },
   {
    "duration": 7,
    "start_time": "2022-03-24T18:06:46.246Z"
   },
   {
    "duration": 18,
    "start_time": "2022-03-24T18:06:46.255Z"
   },
   {
    "duration": 16,
    "start_time": "2022-03-24T18:06:46.275Z"
   },
   {
    "duration": 68,
    "start_time": "2022-03-24T18:06:46.293Z"
   },
   {
    "duration": 5,
    "start_time": "2022-03-24T18:06:46.363Z"
   },
   {
    "duration": 9,
    "start_time": "2022-03-24T18:06:46.370Z"
   },
   {
    "duration": 8,
    "start_time": "2022-03-24T18:06:46.381Z"
   },
   {
    "duration": 11,
    "start_time": "2022-03-24T18:06:46.391Z"
   },
   {
    "duration": 32,
    "start_time": "2022-03-24T18:06:46.433Z"
   },
   {
    "duration": 14,
    "start_time": "2022-03-24T18:06:46.467Z"
   },
   {
    "duration": 55,
    "start_time": "2022-03-24T18:06:46.485Z"
   },
   {
    "duration": 6,
    "start_time": "2022-03-24T18:06:46.542Z"
   },
   {
    "duration": 27,
    "start_time": "2022-03-24T18:06:46.550Z"
   },
   {
    "duration": 6,
    "start_time": "2022-03-24T18:06:46.578Z"
   },
   {
    "duration": 47,
    "start_time": "2022-03-24T18:06:46.586Z"
   },
   {
    "duration": 5,
    "start_time": "2022-03-24T18:06:46.635Z"
   },
   {
    "duration": 22,
    "start_time": "2022-03-24T18:06:46.642Z"
   },
   {
    "duration": 5,
    "start_time": "2022-03-24T18:06:46.667Z"
   },
   {
    "duration": 21,
    "start_time": "2022-03-24T18:06:46.674Z"
   },
   {
    "duration": 68,
    "start_time": "2022-03-24T18:06:46.697Z"
   },
   {
    "duration": 12,
    "start_time": "2022-03-24T18:06:46.767Z"
   },
   {
    "duration": 18,
    "start_time": "2022-03-24T18:06:46.781Z"
   },
   {
    "duration": 6,
    "start_time": "2022-03-24T18:06:46.812Z"
   },
   {
    "duration": 29,
    "start_time": "2022-03-24T18:06:46.833Z"
   },
   {
    "duration": 20,
    "start_time": "2022-03-24T18:06:46.864Z"
   },
   {
    "duration": 64,
    "start_time": "2022-03-24T18:06:46.886Z"
   },
   {
    "duration": 20,
    "start_time": "2022-03-24T18:06:46.952Z"
   },
   {
    "duration": 16,
    "start_time": "2022-03-24T18:06:46.974Z"
   },
   {
    "duration": 40,
    "start_time": "2022-03-24T18:06:46.992Z"
   },
   {
    "duration": 20,
    "start_time": "2022-03-24T18:06:47.034Z"
   },
   {
    "duration": 16,
    "start_time": "2022-03-24T18:06:47.056Z"
   },
   {
    "duration": 23,
    "start_time": "2022-03-24T18:06:47.074Z"
   },
   {
    "duration": 34,
    "start_time": "2022-03-24T18:07:47.404Z"
   },
   {
    "duration": 399,
    "start_time": "2022-03-24T18:08:46.061Z"
   },
   {
    "duration": 78,
    "start_time": "2022-03-24T18:08:46.497Z"
   },
   {
    "duration": 23,
    "start_time": "2022-03-24T18:08:46.891Z"
   },
   {
    "duration": 16,
    "start_time": "2022-03-24T18:08:48.626Z"
   },
   {
    "duration": 33,
    "start_time": "2022-03-24T18:08:48.644Z"
   },
   {
    "duration": 10,
    "start_time": "2022-03-24T18:08:50.686Z"
   },
   {
    "duration": 8,
    "start_time": "2022-03-24T18:08:51.870Z"
   },
   {
    "duration": 4,
    "start_time": "2022-03-24T18:08:53.109Z"
   },
   {
    "duration": 4,
    "start_time": "2022-03-24T18:08:55.064Z"
   },
   {
    "duration": 12,
    "start_time": "2022-03-24T18:08:59.488Z"
   },
   {
    "duration": 8,
    "start_time": "2022-03-24T18:09:01.895Z"
   },
   {
    "duration": 8,
    "start_time": "2022-03-24T18:09:03.524Z"
   },
   {
    "duration": 6,
    "start_time": "2022-03-24T18:09:09.306Z"
   },
   {
    "duration": 2,
    "start_time": "2022-03-24T18:09:11.597Z"
   },
   {
    "duration": 3,
    "start_time": "2022-03-24T18:09:12.426Z"
   },
   {
    "duration": 3,
    "start_time": "2022-03-24T18:09:13.304Z"
   },
   {
    "duration": 8,
    "start_time": "2022-03-24T18:09:14.646Z"
   },
   {
    "duration": 8,
    "start_time": "2022-03-24T18:09:15.067Z"
   },
   {
    "duration": 16,
    "start_time": "2022-03-24T18:09:19.886Z"
   },
   {
    "duration": 15,
    "start_time": "2022-03-24T18:09:32.496Z"
   },
   {
    "duration": 34,
    "start_time": "2022-03-24T18:09:51.146Z"
   },
   {
    "duration": 7,
    "start_time": "2022-03-24T18:10:05.412Z"
   },
   {
    "duration": 8,
    "start_time": "2022-03-24T18:10:09.262Z"
   },
   {
    "duration": 8,
    "start_time": "2022-03-24T18:10:12.229Z"
   },
   {
    "duration": 9,
    "start_time": "2022-03-24T18:10:13.555Z"
   },
   {
    "duration": 31,
    "start_time": "2022-03-24T18:10:17.425Z"
   },
   {
    "duration": 15,
    "start_time": "2022-03-24T18:10:24.352Z"
   },
   {
    "duration": 39,
    "start_time": "2022-03-24T18:10:28.937Z"
   },
   {
    "duration": 36,
    "start_time": "2022-03-24T18:10:56.757Z"
   },
   {
    "duration": 440,
    "start_time": "2022-03-24T18:11:07.132Z"
   },
   {
    "duration": 68,
    "start_time": "2022-03-24T18:11:07.574Z"
   },
   {
    "duration": 26,
    "start_time": "2022-03-24T18:11:07.643Z"
   },
   {
    "duration": 17,
    "start_time": "2022-03-24T18:11:07.671Z"
   },
   {
    "duration": 54,
    "start_time": "2022-03-24T18:11:07.689Z"
   },
   {
    "duration": 11,
    "start_time": "2022-03-24T18:11:07.744Z"
   },
   {
    "duration": 9,
    "start_time": "2022-03-24T18:11:07.757Z"
   },
   {
    "duration": 3,
    "start_time": "2022-03-24T18:11:07.768Z"
   },
   {
    "duration": 7,
    "start_time": "2022-03-24T18:11:07.773Z"
   },
   {
    "duration": 13,
    "start_time": "2022-03-24T18:11:07.783Z"
   },
   {
    "duration": 8,
    "start_time": "2022-03-24T18:11:07.831Z"
   },
   {
    "duration": 10,
    "start_time": "2022-03-24T18:11:07.840Z"
   },
   {
    "duration": 9,
    "start_time": "2022-03-24T18:11:07.852Z"
   },
   {
    "duration": 4,
    "start_time": "2022-03-24T18:11:07.862Z"
   },
   {
    "duration": 6,
    "start_time": "2022-03-24T18:11:07.867Z"
   },
   {
    "duration": 8,
    "start_time": "2022-03-24T18:11:07.875Z"
   },
   {
    "duration": 10,
    "start_time": "2022-03-24T18:11:07.885Z"
   },
   {
    "duration": 39,
    "start_time": "2022-03-24T18:11:07.897Z"
   },
   {
    "duration": 16,
    "start_time": "2022-03-24T18:11:07.938Z"
   },
   {
    "duration": 16,
    "start_time": "2022-03-24T18:11:07.956Z"
   },
   {
    "duration": 59,
    "start_time": "2022-03-24T18:11:07.973Z"
   },
   {
    "duration": 6,
    "start_time": "2022-03-24T18:11:08.034Z"
   },
   {
    "duration": 9,
    "start_time": "2022-03-24T18:11:08.042Z"
   },
   {
    "duration": 9,
    "start_time": "2022-03-24T18:11:08.053Z"
   },
   {
    "duration": 11,
    "start_time": "2022-03-24T18:11:08.065Z"
   },
   {
    "duration": 72,
    "start_time": "2022-03-24T18:11:08.077Z"
   },
   {
    "duration": 15,
    "start_time": "2022-03-24T18:11:08.150Z"
   },
   {
    "duration": 37,
    "start_time": "2022-03-24T18:11:08.168Z"
   },
   {
    "duration": 26,
    "start_time": "2022-03-24T18:11:08.207Z"
   },
   {
    "duration": 30,
    "start_time": "2022-03-24T18:11:08.236Z"
   },
   {
    "duration": 6,
    "start_time": "2022-03-24T18:11:08.268Z"
   },
   {
    "duration": 22,
    "start_time": "2022-03-24T18:11:08.275Z"
   },
   {
    "duration": 5,
    "start_time": "2022-03-24T18:11:08.299Z"
   },
   {
    "duration": 20,
    "start_time": "2022-03-24T18:11:08.332Z"
   },
   {
    "duration": 9,
    "start_time": "2022-03-24T18:11:08.354Z"
   },
   {
    "duration": 21,
    "start_time": "2022-03-24T18:11:08.365Z"
   },
   {
    "duration": 68,
    "start_time": "2022-03-24T18:11:08.387Z"
   },
   {
    "duration": 11,
    "start_time": "2022-03-24T18:11:08.457Z"
   },
   {
    "duration": 13,
    "start_time": "2022-03-24T18:11:08.469Z"
   },
   {
    "duration": 5,
    "start_time": "2022-03-24T18:11:08.484Z"
   },
   {
    "duration": 55,
    "start_time": "2022-03-24T18:11:08.490Z"
   },
   {
    "duration": 21,
    "start_time": "2022-03-24T18:11:08.547Z"
   },
   {
    "duration": 36,
    "start_time": "2022-03-24T18:11:08.570Z"
   },
   {
    "duration": 39,
    "start_time": "2022-03-24T18:11:08.608Z"
   },
   {
    "duration": 18,
    "start_time": "2022-03-24T18:11:08.649Z"
   },
   {
    "duration": 11,
    "start_time": "2022-03-24T18:11:08.670Z"
   },
   {
    "duration": 56,
    "start_time": "2022-03-24T18:11:08.684Z"
   },
   {
    "duration": 8,
    "start_time": "2022-03-24T18:11:08.742Z"
   },
   {
    "duration": 20,
    "start_time": "2022-03-24T18:11:08.752Z"
   },
   {
    "duration": 441,
    "start_time": "2022-03-24T18:13:33.602Z"
   },
   {
    "duration": 66,
    "start_time": "2022-03-24T18:13:34.045Z"
   },
   {
    "duration": 23,
    "start_time": "2022-03-24T18:13:34.113Z"
   },
   {
    "duration": 15,
    "start_time": "2022-03-24T18:13:34.138Z"
   },
   {
    "duration": 34,
    "start_time": "2022-03-24T18:13:34.155Z"
   },
   {
    "duration": 11,
    "start_time": "2022-03-24T18:13:34.191Z"
   },
   {
    "duration": 37,
    "start_time": "2022-03-24T18:13:34.203Z"
   },
   {
    "duration": 4,
    "start_time": "2022-03-24T18:13:34.241Z"
   },
   {
    "duration": 7,
    "start_time": "2022-03-24T18:13:34.247Z"
   },
   {
    "duration": 15,
    "start_time": "2022-03-24T18:13:34.257Z"
   },
   {
    "duration": 7,
    "start_time": "2022-03-24T18:13:34.273Z"
   },
   {
    "duration": 9,
    "start_time": "2022-03-24T18:13:34.282Z"
   },
   {
    "duration": 7,
    "start_time": "2022-03-24T18:13:34.293Z"
   },
   {
    "duration": 30,
    "start_time": "2022-03-24T18:13:34.302Z"
   },
   {
    "duration": 6,
    "start_time": "2022-03-24T18:13:34.334Z"
   },
   {
    "duration": 10,
    "start_time": "2022-03-24T18:13:34.342Z"
   },
   {
    "duration": 10,
    "start_time": "2022-03-24T18:13:34.354Z"
   },
   {
    "duration": 10,
    "start_time": "2022-03-24T18:13:34.365Z"
   },
   {
    "duration": 15,
    "start_time": "2022-03-24T18:13:34.377Z"
   },
   {
    "duration": 14,
    "start_time": "2022-03-24T18:13:34.394Z"
   },
   {
    "duration": 54,
    "start_time": "2022-03-24T18:13:34.410Z"
   },
   {
    "duration": 5,
    "start_time": "2022-03-24T18:13:34.465Z"
   },
   {
    "duration": 11,
    "start_time": "2022-03-24T18:13:34.472Z"
   },
   {
    "duration": 7,
    "start_time": "2022-03-24T18:13:34.485Z"
   },
   {
    "duration": 40,
    "start_time": "2022-03-24T18:13:34.494Z"
   },
   {
    "duration": 32,
    "start_time": "2022-03-24T18:13:34.536Z"
   },
   {
    "duration": 14,
    "start_time": "2022-03-24T18:13:34.570Z"
   },
   {
    "duration": 59,
    "start_time": "2022-03-24T18:13:34.588Z"
   },
   {
    "duration": 6,
    "start_time": "2022-03-24T18:13:34.649Z"
   },
   {
    "duration": 31,
    "start_time": "2022-03-24T18:13:34.657Z"
   },
   {
    "duration": 6,
    "start_time": "2022-03-24T18:13:34.690Z"
   },
   {
    "duration": 43,
    "start_time": "2022-03-24T18:13:34.697Z"
   },
   {
    "duration": 5,
    "start_time": "2022-03-24T18:13:34.742Z"
   },
   {
    "duration": 22,
    "start_time": "2022-03-24T18:13:34.749Z"
   },
   {
    "duration": 6,
    "start_time": "2022-03-24T18:13:34.773Z"
   },
   {
    "duration": 53,
    "start_time": "2022-03-24T18:13:34.780Z"
   },
   {
    "duration": 37,
    "start_time": "2022-03-24T18:13:34.835Z"
   },
   {
    "duration": 11,
    "start_time": "2022-03-24T18:13:34.874Z"
   },
   {
    "duration": 12,
    "start_time": "2022-03-24T18:13:34.886Z"
   },
   {
    "duration": 5,
    "start_time": "2022-03-24T18:13:34.899Z"
   },
   {
    "duration": 25,
    "start_time": "2022-03-24T18:13:34.931Z"
   },
   {
    "duration": 19,
    "start_time": "2022-03-24T18:13:34.958Z"
   },
   {
    "duration": 54,
    "start_time": "2022-03-24T18:13:34.978Z"
   },
   {
    "duration": 20,
    "start_time": "2022-03-24T18:13:35.034Z"
   },
   {
    "duration": 16,
    "start_time": "2022-03-24T18:13:35.056Z"
   },
   {
    "duration": 10,
    "start_time": "2022-03-24T18:13:35.074Z"
   },
   {
    "duration": 50,
    "start_time": "2022-03-24T18:13:35.086Z"
   },
   {
    "duration": 7,
    "start_time": "2022-03-24T18:13:35.138Z"
   },
   {
    "duration": 21,
    "start_time": "2022-03-24T18:13:35.147Z"
   },
   {
    "duration": 10,
    "start_time": "2022-03-24T18:17:10.061Z"
   },
   {
    "duration": 13,
    "start_time": "2022-03-24T18:18:12.088Z"
   },
   {
    "duration": 455,
    "start_time": "2022-03-24T18:19:25.304Z"
   },
   {
    "duration": 68,
    "start_time": "2022-03-24T18:19:25.761Z"
   },
   {
    "duration": 23,
    "start_time": "2022-03-24T18:19:26.105Z"
   },
   {
    "duration": 16,
    "start_time": "2022-03-24T18:19:26.653Z"
   },
   {
    "duration": 34,
    "start_time": "2022-03-24T18:19:27.022Z"
   },
   {
    "duration": 10,
    "start_time": "2022-03-24T18:19:27.967Z"
   },
   {
    "duration": 9,
    "start_time": "2022-03-24T18:19:28.354Z"
   },
   {
    "duration": 4,
    "start_time": "2022-03-24T18:19:28.710Z"
   },
   {
    "duration": 3,
    "start_time": "2022-03-24T18:19:29.090Z"
   },
   {
    "duration": 11,
    "start_time": "2022-03-24T18:19:29.908Z"
   },
   {
    "duration": 6,
    "start_time": "2022-03-24T18:19:30.354Z"
   },
   {
    "duration": 8,
    "start_time": "2022-03-24T18:19:30.874Z"
   },
   {
    "duration": 6,
    "start_time": "2022-03-24T18:19:31.324Z"
   },
   {
    "duration": 2,
    "start_time": "2022-03-24T18:19:32.141Z"
   },
   {
    "duration": 3,
    "start_time": "2022-03-24T18:19:32.581Z"
   },
   {
    "duration": 2,
    "start_time": "2022-03-24T18:19:33.374Z"
   },
   {
    "duration": 23,
    "start_time": "2022-03-24T18:19:44.258Z"
   },
   {
    "duration": 10,
    "start_time": "2022-03-24T18:20:33.237Z"
   },
   {
    "duration": 10,
    "start_time": "2022-03-24T18:20:49.159Z"
   },
   {
    "duration": 4,
    "start_time": "2022-03-24T18:21:36.782Z"
   },
   {
    "duration": 10,
    "start_time": "2022-03-24T18:21:57.140Z"
   },
   {
    "duration": 23,
    "start_time": "2022-03-24T18:22:14.172Z"
   },
   {
    "duration": 71,
    "start_time": "2022-03-24T18:22:36.977Z"
   },
   {
    "duration": 24,
    "start_time": "2022-03-24T18:22:55.786Z"
   },
   {
    "duration": 8,
    "start_time": "2022-03-24T18:23:28.187Z"
   },
   {
    "duration": 25,
    "start_time": "2022-03-24T18:23:45.033Z"
   },
   {
    "duration": 25,
    "start_time": "2022-03-24T18:25:18.722Z"
   },
   {
    "duration": 407,
    "start_time": "2022-03-24T18:26:18.371Z"
   },
   {
    "duration": 80,
    "start_time": "2022-03-24T18:26:19.489Z"
   },
   {
    "duration": 24,
    "start_time": "2022-03-24T18:26:19.891Z"
   },
   {
    "duration": 18,
    "start_time": "2022-03-24T18:26:20.388Z"
   },
   {
    "duration": 37,
    "start_time": "2022-03-24T18:26:20.744Z"
   },
   {
    "duration": 12,
    "start_time": "2022-03-24T18:26:21.775Z"
   },
   {
    "duration": 10,
    "start_time": "2022-03-24T18:26:22.118Z"
   },
   {
    "duration": 4,
    "start_time": "2022-03-24T18:26:22.474Z"
   },
   {
    "duration": 4,
    "start_time": "2022-03-24T18:26:22.840Z"
   },
   {
    "duration": 12,
    "start_time": "2022-03-24T18:26:23.360Z"
   },
   {
    "duration": 7,
    "start_time": "2022-03-24T18:26:23.732Z"
   },
   {
    "duration": 8,
    "start_time": "2022-03-24T18:26:24.097Z"
   },
   {
    "duration": 7,
    "start_time": "2022-03-24T18:26:24.423Z"
   },
   {
    "duration": 3,
    "start_time": "2022-03-24T18:26:24.772Z"
   },
   {
    "duration": 3,
    "start_time": "2022-03-24T18:26:25.145Z"
   },
   {
    "duration": 3,
    "start_time": "2022-03-24T18:26:25.491Z"
   },
   {
    "duration": 6,
    "start_time": "2022-03-24T18:26:26.131Z"
   },
   {
    "duration": 8,
    "start_time": "2022-03-24T18:26:26.515Z"
   },
   {
    "duration": 17,
    "start_time": "2022-03-24T18:26:26.973Z"
   },
   {
    "duration": 16,
    "start_time": "2022-03-24T18:26:27.324Z"
   },
   {
    "duration": 37,
    "start_time": "2022-03-24T18:26:28.752Z"
   },
   {
    "duration": 6,
    "start_time": "2022-03-24T18:26:29.946Z"
   },
   {
    "duration": 8,
    "start_time": "2022-03-24T18:26:30.791Z"
   },
   {
    "duration": 9,
    "start_time": "2022-03-24T18:26:35.819Z"
   },
   {
    "duration": 10,
    "start_time": "2022-03-24T18:26:37.024Z"
   },
   {
    "duration": 34,
    "start_time": "2022-03-24T18:26:40.477Z"
   },
   {
    "duration": 17,
    "start_time": "2022-03-24T18:26:42.554Z"
   },
   {
    "duration": 35,
    "start_time": "2022-03-24T18:27:10.085Z"
   },
   {
    "duration": 24,
    "start_time": "2022-03-24T18:27:30.152Z"
   },
   {
    "duration": 439,
    "start_time": "2022-03-24T18:28:44.335Z"
   },
   {
    "duration": 719,
    "start_time": "2022-03-24T18:28:44.776Z"
   },
   {
    "duration": 24,
    "start_time": "2022-03-24T18:28:45.497Z"
   },
   {
    "duration": 18,
    "start_time": "2022-03-24T18:28:45.523Z"
   },
   {
    "duration": 36,
    "start_time": "2022-03-24T18:28:45.543Z"
   },
   {
    "duration": 12,
    "start_time": "2022-03-24T18:28:45.581Z"
   },
   {
    "duration": 37,
    "start_time": "2022-03-24T18:28:45.595Z"
   },
   {
    "duration": 4,
    "start_time": "2022-03-24T18:28:45.634Z"
   },
   {
    "duration": 8,
    "start_time": "2022-03-24T18:28:45.640Z"
   },
   {
    "duration": 17,
    "start_time": "2022-03-24T18:28:45.651Z"
   },
   {
    "duration": 8,
    "start_time": "2022-03-24T18:28:45.669Z"
   },
   {
    "duration": 8,
    "start_time": "2022-03-24T18:28:45.679Z"
   },
   {
    "duration": 9,
    "start_time": "2022-03-24T18:28:45.689Z"
   },
   {
    "duration": 34,
    "start_time": "2022-03-24T18:28:45.699Z"
   },
   {
    "duration": 12,
    "start_time": "2022-03-24T18:28:45.734Z"
   },
   {
    "duration": 9,
    "start_time": "2022-03-24T18:28:45.748Z"
   },
   {
    "duration": 13,
    "start_time": "2022-03-24T18:28:45.758Z"
   },
   {
    "duration": 10,
    "start_time": "2022-03-24T18:28:45.773Z"
   },
   {
    "duration": 17,
    "start_time": "2022-03-24T18:28:45.785Z"
   },
   {
    "duration": 15,
    "start_time": "2022-03-24T18:28:45.804Z"
   },
   {
    "duration": 34,
    "start_time": "2022-03-24T18:28:45.832Z"
   },
   {
    "duration": 6,
    "start_time": "2022-03-24T18:28:45.868Z"
   },
   {
    "duration": 17,
    "start_time": "2022-03-24T18:28:45.876Z"
   },
   {
    "duration": 17,
    "start_time": "2022-03-24T18:28:45.895Z"
   },
   {
    "duration": 12,
    "start_time": "2022-03-24T18:28:45.931Z"
   },
   {
    "duration": 32,
    "start_time": "2022-03-24T18:28:45.945Z"
   },
   {
    "duration": 15,
    "start_time": "2022-03-24T18:28:45.979Z"
   },
   {
    "duration": 43,
    "start_time": "2022-03-24T18:28:46.000Z"
   },
   {
    "duration": 42,
    "start_time": "2022-03-24T18:28:46.045Z"
   },
   {
    "duration": 44,
    "start_time": "2022-03-24T18:28:46.090Z"
   },
   {
    "duration": 29,
    "start_time": "2022-03-24T18:28:46.135Z"
   },
   {
    "duration": 6,
    "start_time": "2022-03-24T18:28:46.166Z"
   },
   {
    "duration": 23,
    "start_time": "2022-03-24T18:28:46.173Z"
   },
   {
    "duration": 34,
    "start_time": "2022-03-24T18:28:46.198Z"
   },
   {
    "duration": 23,
    "start_time": "2022-03-24T18:28:46.234Z"
   },
   {
    "duration": 6,
    "start_time": "2022-03-24T18:28:46.259Z"
   },
   {
    "duration": 29,
    "start_time": "2022-03-24T18:28:46.267Z"
   },
   {
    "duration": 71,
    "start_time": "2022-03-24T18:28:46.298Z"
   },
   {
    "duration": 13,
    "start_time": "2022-03-24T18:28:46.371Z"
   },
   {
    "duration": 14,
    "start_time": "2022-03-24T18:28:46.386Z"
   },
   {
    "duration": 6,
    "start_time": "2022-03-24T18:28:46.402Z"
   },
   {
    "duration": 32,
    "start_time": "2022-03-24T18:28:46.431Z"
   },
   {
    "duration": 24,
    "start_time": "2022-03-24T18:28:46.465Z"
   },
   {
    "duration": 58,
    "start_time": "2022-03-24T18:28:46.491Z"
   },
   {
    "duration": 31,
    "start_time": "2022-03-24T18:28:46.551Z"
   },
   {
    "duration": 17,
    "start_time": "2022-03-24T18:28:46.584Z"
   },
   {
    "duration": 34,
    "start_time": "2022-03-24T18:28:46.603Z"
   },
   {
    "duration": 18,
    "start_time": "2022-03-24T18:28:46.639Z"
   },
   {
    "duration": 7,
    "start_time": "2022-03-24T18:28:46.659Z"
   },
   {
    "duration": 21,
    "start_time": "2022-03-24T18:28:46.668Z"
   },
   {
    "duration": 10,
    "start_time": "2022-03-24T18:29:25.245Z"
   },
   {
    "duration": 10,
    "start_time": "2022-03-24T18:29:33.367Z"
   },
   {
    "duration": 11,
    "start_time": "2022-03-24T18:29:58.970Z"
   },
   {
    "duration": 441,
    "start_time": "2022-03-24T18:30:18.127Z"
   },
   {
    "duration": 69,
    "start_time": "2022-03-24T18:30:18.570Z"
   },
   {
    "duration": 24,
    "start_time": "2022-03-24T18:30:18.873Z"
   },
   {
    "duration": 17,
    "start_time": "2022-03-24T18:30:19.355Z"
   },
   {
    "duration": 34,
    "start_time": "2022-03-24T18:30:19.762Z"
   },
   {
    "duration": 11,
    "start_time": "2022-03-24T18:30:20.640Z"
   },
   {
    "duration": 9,
    "start_time": "2022-03-24T18:30:21.201Z"
   },
   {
    "duration": 5,
    "start_time": "2022-03-24T18:30:21.562Z"
   },
   {
    "duration": 4,
    "start_time": "2022-03-24T18:30:21.938Z"
   },
   {
    "duration": 11,
    "start_time": "2022-03-24T18:30:22.504Z"
   },
   {
    "duration": 7,
    "start_time": "2022-03-24T18:30:22.847Z"
   },
   {
    "duration": 8,
    "start_time": "2022-03-24T18:30:23.211Z"
   },
   {
    "duration": 6,
    "start_time": "2022-03-24T18:30:23.574Z"
   },
   {
    "duration": 3,
    "start_time": "2022-03-24T18:30:23.963Z"
   },
   {
    "duration": 3,
    "start_time": "2022-03-24T18:30:24.334Z"
   },
   {
    "duration": 3,
    "start_time": "2022-03-24T18:30:24.754Z"
   },
   {
    "duration": 7,
    "start_time": "2022-03-24T18:30:25.275Z"
   },
   {
    "duration": 7,
    "start_time": "2022-03-24T18:30:25.460Z"
   },
   {
    "duration": 16,
    "start_time": "2022-03-24T18:30:25.809Z"
   },
   {
    "duration": 18,
    "start_time": "2022-03-24T18:30:26.144Z"
   },
   {
    "duration": 36,
    "start_time": "2022-03-24T18:30:27.494Z"
   },
   {
    "duration": 7,
    "start_time": "2022-03-24T18:30:28.028Z"
   },
   {
    "duration": 8,
    "start_time": "2022-03-24T18:30:28.626Z"
   },
   {
    "duration": 10,
    "start_time": "2022-03-24T18:30:30.053Z"
   },
   {
    "duration": 10,
    "start_time": "2022-03-24T18:30:30.488Z"
   },
   {
    "duration": 33,
    "start_time": "2022-03-24T18:30:32.412Z"
   },
   {
    "duration": 15,
    "start_time": "2022-03-24T18:30:36.649Z"
   },
   {
    "duration": 19,
    "start_time": "2022-03-24T18:30:40.086Z"
   },
   {
    "duration": 14,
    "start_time": "2022-03-24T18:30:49.376Z"
   },
   {
    "duration": 14,
    "start_time": "2022-03-24T18:30:54.263Z"
   },
   {
    "duration": 16,
    "start_time": "2022-03-24T18:31:02.551Z"
   },
   {
    "duration": 0,
    "start_time": "2022-03-24T18:31:49.054Z"
   },
   {
    "duration": 472,
    "start_time": "2022-03-24T18:31:55.047Z"
   },
   {
    "duration": 69,
    "start_time": "2022-03-24T18:31:55.521Z"
   },
   {
    "duration": 23,
    "start_time": "2022-03-24T18:31:55.592Z"
   },
   {
    "duration": 26,
    "start_time": "2022-03-24T18:31:55.618Z"
   },
   {
    "duration": 56,
    "start_time": "2022-03-24T18:31:55.646Z"
   },
   {
    "duration": 12,
    "start_time": "2022-03-24T18:31:55.703Z"
   },
   {
    "duration": 11,
    "start_time": "2022-03-24T18:31:55.732Z"
   },
   {
    "duration": 20,
    "start_time": "2022-03-24T18:31:55.745Z"
   },
   {
    "duration": 15,
    "start_time": "2022-03-24T18:31:55.767Z"
   },
   {
    "duration": 33,
    "start_time": "2022-03-24T18:31:55.785Z"
   },
   {
    "duration": 11,
    "start_time": "2022-03-24T18:31:55.820Z"
   },
   {
    "duration": 18,
    "start_time": "2022-03-24T18:31:55.832Z"
   },
   {
    "duration": 17,
    "start_time": "2022-03-24T18:31:55.852Z"
   },
   {
    "duration": 5,
    "start_time": "2022-03-24T18:31:55.871Z"
   },
   {
    "duration": 19,
    "start_time": "2022-03-24T18:31:55.878Z"
   },
   {
    "duration": 19,
    "start_time": "2022-03-24T18:31:55.899Z"
   },
   {
    "duration": 26,
    "start_time": "2022-03-24T18:31:55.920Z"
   },
   {
    "duration": 16,
    "start_time": "2022-03-24T18:31:55.948Z"
   },
   {
    "duration": 32,
    "start_time": "2022-03-24T18:31:55.966Z"
   },
   {
    "duration": 21,
    "start_time": "2022-03-24T18:31:56.000Z"
   },
   {
    "duration": 51,
    "start_time": "2022-03-24T18:31:56.023Z"
   },
   {
    "duration": 6,
    "start_time": "2022-03-24T18:31:56.076Z"
   },
   {
    "duration": 21,
    "start_time": "2022-03-24T18:31:56.084Z"
   },
   {
    "duration": 28,
    "start_time": "2022-03-24T18:31:56.107Z"
   },
   {
    "duration": 18,
    "start_time": "2022-03-24T18:31:56.138Z"
   },
   {
    "duration": 48,
    "start_time": "2022-03-24T18:31:56.158Z"
   },
   {
    "duration": 15,
    "start_time": "2022-03-24T18:31:56.209Z"
   },
   {
    "duration": 2844,
    "start_time": "2022-03-24T18:31:56.232Z"
   },
   {
    "duration": 0,
    "start_time": "2022-03-24T18:31:59.078Z"
   },
   {
    "duration": 0,
    "start_time": "2022-03-24T18:31:59.079Z"
   },
   {
    "duration": 0,
    "start_time": "2022-03-24T18:31:59.080Z"
   },
   {
    "duration": 0,
    "start_time": "2022-03-24T18:31:59.081Z"
   },
   {
    "duration": 0,
    "start_time": "2022-03-24T18:31:59.083Z"
   },
   {
    "duration": 0,
    "start_time": "2022-03-24T18:31:59.084Z"
   },
   {
    "duration": 0,
    "start_time": "2022-03-24T18:31:59.085Z"
   },
   {
    "duration": 0,
    "start_time": "2022-03-24T18:31:59.086Z"
   },
   {
    "duration": 0,
    "start_time": "2022-03-24T18:31:59.087Z"
   },
   {
    "duration": 0,
    "start_time": "2022-03-24T18:31:59.088Z"
   },
   {
    "duration": 0,
    "start_time": "2022-03-24T18:31:59.089Z"
   },
   {
    "duration": 0,
    "start_time": "2022-03-24T18:31:59.090Z"
   },
   {
    "duration": 0,
    "start_time": "2022-03-24T18:31:59.091Z"
   },
   {
    "duration": 0,
    "start_time": "2022-03-24T18:31:59.092Z"
   },
   {
    "duration": 0,
    "start_time": "2022-03-24T18:31:59.093Z"
   },
   {
    "duration": 0,
    "start_time": "2022-03-24T18:31:59.095Z"
   },
   {
    "duration": 0,
    "start_time": "2022-03-24T18:31:59.095Z"
   },
   {
    "duration": 0,
    "start_time": "2022-03-24T18:31:59.097Z"
   },
   {
    "duration": 0,
    "start_time": "2022-03-24T18:31:59.098Z"
   },
   {
    "duration": 0,
    "start_time": "2022-03-24T18:31:59.099Z"
   },
   {
    "duration": 0,
    "start_time": "2022-03-24T18:31:59.100Z"
   },
   {
    "duration": 0,
    "start_time": "2022-03-24T18:31:59.101Z"
   },
   {
    "duration": 0,
    "start_time": "2022-03-24T18:31:59.102Z"
   },
   {
    "duration": 5,
    "start_time": "2022-03-24T18:34:19.259Z"
   },
   {
    "duration": 391,
    "start_time": "2022-03-24T18:34:56.868Z"
   },
   {
    "duration": 80,
    "start_time": "2022-03-24T18:34:57.707Z"
   },
   {
    "duration": 12,
    "start_time": "2022-03-24T18:34:58.569Z"
   },
   {
    "duration": 44,
    "start_time": "2022-03-24T18:39:23.637Z"
   },
   {
    "duration": 414,
    "start_time": "2022-03-24T18:51:08.654Z"
   },
   {
    "duration": 67,
    "start_time": "2022-03-24T18:51:09.071Z"
   },
   {
    "duration": 23,
    "start_time": "2022-03-24T18:51:09.140Z"
   },
   {
    "duration": 17,
    "start_time": "2022-03-24T18:51:09.165Z"
   },
   {
    "duration": 56,
    "start_time": "2022-03-24T18:51:09.184Z"
   },
   {
    "duration": 11,
    "start_time": "2022-03-24T18:51:09.242Z"
   },
   {
    "duration": 10,
    "start_time": "2022-03-24T18:51:09.255Z"
   },
   {
    "duration": 4,
    "start_time": "2022-03-24T18:51:09.267Z"
   },
   {
    "duration": 6,
    "start_time": "2022-03-24T18:51:09.273Z"
   },
   {
    "duration": 12,
    "start_time": "2022-03-24T18:51:09.282Z"
   },
   {
    "duration": 41,
    "start_time": "2022-03-24T18:51:09.296Z"
   },
   {
    "duration": 11,
    "start_time": "2022-03-24T18:51:09.339Z"
   },
   {
    "duration": 11,
    "start_time": "2022-03-24T18:51:09.352Z"
   },
   {
    "duration": 3,
    "start_time": "2022-03-24T18:51:09.365Z"
   },
   {
    "duration": 9,
    "start_time": "2022-03-24T18:51:09.370Z"
   },
   {
    "duration": 7,
    "start_time": "2022-03-24T18:51:09.381Z"
   },
   {
    "duration": 22,
    "start_time": "2022-03-24T18:51:09.389Z"
   },
   {
    "duration": 22,
    "start_time": "2022-03-24T18:51:09.413Z"
   },
   {
    "duration": 17,
    "start_time": "2022-03-24T18:51:09.437Z"
   },
   {
    "duration": 15,
    "start_time": "2022-03-24T18:51:09.456Z"
   },
   {
    "duration": 60,
    "start_time": "2022-03-24T18:51:09.473Z"
   },
   {
    "duration": 6,
    "start_time": "2022-03-24T18:51:09.534Z"
   },
   {
    "duration": 14,
    "start_time": "2022-03-24T18:51:09.542Z"
   },
   {
    "duration": 14,
    "start_time": "2022-03-24T18:51:09.559Z"
   },
   {
    "duration": 14,
    "start_time": "2022-03-24T18:51:09.575Z"
   },
   {
    "duration": 52,
    "start_time": "2022-03-24T18:51:09.591Z"
   },
   {
    "duration": 14,
    "start_time": "2022-03-24T18:51:09.645Z"
   },
   {
    "duration": 36,
    "start_time": "2022-03-24T18:51:09.663Z"
   },
   {
    "duration": 60,
    "start_time": "2022-03-24T18:51:09.701Z"
   },
   {
    "duration": 27,
    "start_time": "2022-03-24T18:51:09.763Z"
   },
   {
    "duration": 5,
    "start_time": "2022-03-24T18:51:09.792Z"
   },
   {
    "duration": 41,
    "start_time": "2022-03-24T18:51:09.799Z"
   },
   {
    "duration": 6,
    "start_time": "2022-03-24T18:51:09.842Z"
   },
   {
    "duration": 72,
    "start_time": "2022-03-24T18:51:09.850Z"
   },
   {
    "duration": 6,
    "start_time": "2022-03-24T18:51:09.924Z"
   },
   {
    "duration": 22,
    "start_time": "2022-03-24T18:51:09.931Z"
   },
   {
    "duration": 38,
    "start_time": "2022-03-24T18:51:09.955Z"
   },
   {
    "duration": 12,
    "start_time": "2022-03-24T18:51:09.995Z"
   },
   {
    "duration": 34,
    "start_time": "2022-03-24T18:51:10.009Z"
   },
   {
    "duration": 6,
    "start_time": "2022-03-24T18:51:10.045Z"
   },
   {
    "duration": 33,
    "start_time": "2022-03-24T18:51:10.053Z"
   },
   {
    "duration": 46,
    "start_time": "2022-03-24T18:51:10.087Z"
   },
   {
    "duration": 35,
    "start_time": "2022-03-24T18:51:10.135Z"
   },
   {
    "duration": 22,
    "start_time": "2022-03-24T18:51:10.171Z"
   },
   {
    "duration": 48,
    "start_time": "2022-03-24T18:51:10.195Z"
   },
   {
    "duration": 10,
    "start_time": "2022-03-24T18:51:10.245Z"
   },
   {
    "duration": 19,
    "start_time": "2022-03-24T18:51:10.257Z"
   },
   {
    "duration": 8,
    "start_time": "2022-03-24T18:51:10.277Z"
   },
   {
    "duration": 56,
    "start_time": "2022-03-24T18:51:10.287Z"
   },
   {
    "duration": 18,
    "start_time": "2022-03-24T19:05:58.703Z"
   },
   {
    "duration": 161,
    "start_time": "2022-03-24T19:07:32.080Z"
   },
   {
    "duration": 74,
    "start_time": "2022-03-24T19:07:57.543Z"
   },
   {
    "duration": 24,
    "start_time": "2022-03-24T19:11:01.782Z"
   },
   {
    "duration": 32,
    "start_time": "2022-03-24T19:13:08.777Z"
   },
   {
    "duration": 64,
    "start_time": "2022-03-24T19:13:58.540Z"
   },
   {
    "duration": 18,
    "start_time": "2022-03-24T19:15:10.707Z"
   },
   {
    "duration": 18,
    "start_time": "2022-03-24T19:20:23.986Z"
   },
   {
    "duration": 17,
    "start_time": "2022-03-24T19:21:40.790Z"
   },
   {
    "duration": 21,
    "start_time": "2022-03-24T19:21:52.171Z"
   },
   {
    "duration": 12,
    "start_time": "2022-03-24T19:27:00.543Z"
   },
   {
    "duration": 14,
    "start_time": "2022-03-24T19:27:32.008Z"
   },
   {
    "duration": 14,
    "start_time": "2022-03-24T19:28:13.289Z"
   },
   {
    "duration": 19,
    "start_time": "2022-03-24T19:38:18.027Z"
   },
   {
    "duration": 12,
    "start_time": "2022-03-24T19:44:38.353Z"
   },
   {
    "duration": 184,
    "start_time": "2022-03-24T19:44:44.598Z"
   },
   {
    "duration": 15,
    "start_time": "2022-03-24T19:44:56.669Z"
   },
   {
    "duration": 11,
    "start_time": "2022-03-24T19:52:09.487Z"
   },
   {
    "duration": 16,
    "start_time": "2022-03-24T19:52:27.235Z"
   },
   {
    "duration": 10,
    "start_time": "2022-03-24T19:55:33.147Z"
   },
   {
    "duration": 13,
    "start_time": "2022-03-24T20:02:53.017Z"
   },
   {
    "duration": 15,
    "start_time": "2022-03-24T20:03:24.616Z"
   },
   {
    "duration": 15,
    "start_time": "2022-03-24T20:04:04.236Z"
   },
   {
    "duration": 15,
    "start_time": "2022-03-24T20:08:01.533Z"
   },
   {
    "duration": 18,
    "start_time": "2022-03-24T20:08:24.699Z"
   },
   {
    "duration": 71,
    "start_time": "2022-03-25T03:57:58.311Z"
   },
   {
    "duration": 553,
    "start_time": "2022-03-25T03:58:19.463Z"
   },
   {
    "duration": 82,
    "start_time": "2022-03-25T03:58:20.019Z"
   },
   {
    "duration": 32,
    "start_time": "2022-03-25T03:58:20.104Z"
   },
   {
    "duration": 20,
    "start_time": "2022-03-25T03:58:20.139Z"
   },
   {
    "duration": 66,
    "start_time": "2022-03-25T03:58:20.161Z"
   },
   {
    "duration": 14,
    "start_time": "2022-03-25T03:58:20.229Z"
   },
   {
    "duration": 44,
    "start_time": "2022-03-25T03:58:20.245Z"
   },
   {
    "duration": 10,
    "start_time": "2022-03-25T03:58:20.291Z"
   },
   {
    "duration": 24,
    "start_time": "2022-03-25T03:58:20.303Z"
   },
   {
    "duration": 26,
    "start_time": "2022-03-25T03:58:20.332Z"
   },
   {
    "duration": 22,
    "start_time": "2022-03-25T03:58:20.360Z"
   },
   {
    "duration": 10,
    "start_time": "2022-03-25T03:58:20.385Z"
   },
   {
    "duration": 11,
    "start_time": "2022-03-25T03:58:20.398Z"
   },
   {
    "duration": 9,
    "start_time": "2022-03-25T03:58:20.411Z"
   },
   {
    "duration": 12,
    "start_time": "2022-03-25T03:58:20.423Z"
   },
   {
    "duration": 23,
    "start_time": "2022-03-25T03:58:20.437Z"
   },
   {
    "duration": 27,
    "start_time": "2022-03-25T03:58:20.462Z"
   },
   {
    "duration": 11,
    "start_time": "2022-03-25T03:58:20.492Z"
   },
   {
    "duration": 25,
    "start_time": "2022-03-25T03:58:20.505Z"
   },
   {
    "duration": 20,
    "start_time": "2022-03-25T03:58:20.532Z"
   },
   {
    "duration": 82,
    "start_time": "2022-03-25T03:58:20.555Z"
   },
   {
    "duration": 9,
    "start_time": "2022-03-25T03:58:20.640Z"
   },
   {
    "duration": 32,
    "start_time": "2022-03-25T03:58:20.651Z"
   },
   {
    "duration": 13,
    "start_time": "2022-03-25T03:58:20.686Z"
   },
   {
    "duration": 16,
    "start_time": "2022-03-25T03:58:20.702Z"
   },
   {
    "duration": 67,
    "start_time": "2022-03-25T03:58:20.720Z"
   },
   {
    "duration": 19,
    "start_time": "2022-03-25T03:58:20.790Z"
   },
   {
    "duration": 48,
    "start_time": "2022-03-25T03:58:20.815Z"
   },
   {
    "duration": 44,
    "start_time": "2022-03-25T03:58:20.883Z"
   },
   {
    "duration": 60,
    "start_time": "2022-03-25T03:58:20.929Z"
   },
   {
    "duration": 7,
    "start_time": "2022-03-25T03:58:20.992Z"
   },
   {
    "duration": 28,
    "start_time": "2022-03-25T03:58:21.001Z"
   },
   {
    "duration": 8,
    "start_time": "2022-03-25T03:58:21.031Z"
   },
   {
    "duration": 60,
    "start_time": "2022-03-25T03:58:21.041Z"
   },
   {
    "duration": 10,
    "start_time": "2022-03-25T03:58:21.103Z"
   },
   {
    "duration": 42,
    "start_time": "2022-03-25T03:58:21.115Z"
   },
   {
    "duration": 74,
    "start_time": "2022-03-25T03:58:21.182Z"
   },
   {
    "duration": 33,
    "start_time": "2022-03-25T03:58:21.259Z"
   },
   {
    "duration": 16,
    "start_time": "2022-03-25T03:58:21.296Z"
   },
   {
    "duration": 19,
    "start_time": "2022-03-25T03:58:21.314Z"
   },
   {
    "duration": 71,
    "start_time": "2022-03-25T03:58:21.335Z"
   },
   {
    "duration": 37,
    "start_time": "2022-03-25T03:58:21.409Z"
   },
   {
    "duration": 86,
    "start_time": "2022-03-25T03:58:21.448Z"
   },
   {
    "duration": 45,
    "start_time": "2022-03-25T03:58:21.537Z"
   },
   {
    "duration": 18,
    "start_time": "2022-03-25T03:58:21.585Z"
   },
   {
    "duration": 19,
    "start_time": "2022-03-25T03:58:21.605Z"
   },
   {
    "duration": 57,
    "start_time": "2022-03-25T03:58:21.626Z"
   },
   {
    "duration": 12,
    "start_time": "2022-03-25T03:58:21.685Z"
   },
   {
    "duration": 26,
    "start_time": "2022-03-25T03:58:21.699Z"
   },
   {
    "duration": 18,
    "start_time": "2022-03-25T03:58:21.727Z"
   },
   {
    "duration": 39,
    "start_time": "2022-03-25T03:58:21.747Z"
   },
   {
    "duration": 30,
    "start_time": "2022-03-25T03:58:21.788Z"
   },
   {
    "duration": 66,
    "start_time": "2022-03-25T04:25:57.187Z"
   },
   {
    "duration": 150,
    "start_time": "2022-03-25T04:29:28.853Z"
   },
   {
    "duration": 25,
    "start_time": "2022-03-25T04:29:40.756Z"
   },
   {
    "duration": 49,
    "start_time": "2022-03-26T08:21:43.677Z"
   },
   {
    "duration": 423,
    "start_time": "2022-03-26T08:22:13.733Z"
   },
   {
    "duration": 60,
    "start_time": "2022-03-26T08:22:14.158Z"
   },
   {
    "duration": 23,
    "start_time": "2022-03-26T08:22:14.219Z"
   },
   {
    "duration": 17,
    "start_time": "2022-03-26T08:22:14.244Z"
   },
   {
    "duration": 64,
    "start_time": "2022-03-26T08:22:14.262Z"
   },
   {
    "duration": 11,
    "start_time": "2022-03-26T08:22:14.328Z"
   },
   {
    "duration": 9,
    "start_time": "2022-03-26T08:22:14.340Z"
   },
   {
    "duration": 4,
    "start_time": "2022-03-26T08:22:14.351Z"
   },
   {
    "duration": 6,
    "start_time": "2022-03-26T08:22:14.356Z"
   },
   {
    "duration": 48,
    "start_time": "2022-03-26T08:22:14.365Z"
   },
   {
    "duration": 7,
    "start_time": "2022-03-26T08:22:14.414Z"
   },
   {
    "duration": 9,
    "start_time": "2022-03-26T08:22:14.423Z"
   },
   {
    "duration": 7,
    "start_time": "2022-03-26T08:22:14.433Z"
   },
   {
    "duration": 2,
    "start_time": "2022-03-26T08:22:14.442Z"
   },
   {
    "duration": 6,
    "start_time": "2022-03-26T08:22:14.446Z"
   },
   {
    "duration": 6,
    "start_time": "2022-03-26T08:22:14.454Z"
   },
   {
    "duration": 51,
    "start_time": "2022-03-26T08:22:14.462Z"
   },
   {
    "duration": 6,
    "start_time": "2022-03-26T08:22:14.515Z"
   },
   {
    "duration": 15,
    "start_time": "2022-03-26T08:22:14.523Z"
   },
   {
    "duration": 14,
    "start_time": "2022-03-26T08:22:14.540Z"
   },
   {
    "duration": 73,
    "start_time": "2022-03-26T08:22:14.556Z"
   },
   {
    "duration": 5,
    "start_time": "2022-03-26T08:22:14.630Z"
   },
   {
    "duration": 10,
    "start_time": "2022-03-26T08:22:14.637Z"
   },
   {
    "duration": 8,
    "start_time": "2022-03-26T08:22:14.648Z"
   },
   {
    "duration": 10,
    "start_time": "2022-03-26T08:22:14.658Z"
   },
   {
    "duration": 60,
    "start_time": "2022-03-26T08:22:14.669Z"
   },
   {
    "duration": 15,
    "start_time": "2022-03-26T08:22:14.730Z"
   },
   {
    "duration": 51,
    "start_time": "2022-03-26T08:22:14.748Z"
   },
   {
    "duration": 39,
    "start_time": "2022-03-26T08:22:14.801Z"
   },
   {
    "duration": 25,
    "start_time": "2022-03-26T08:22:14.842Z"
   },
   {
    "duration": 6,
    "start_time": "2022-03-26T08:22:14.868Z"
   },
   {
    "duration": 44,
    "start_time": "2022-03-26T08:22:14.875Z"
   },
   {
    "duration": 10,
    "start_time": "2022-03-26T08:22:14.921Z"
   },
   {
    "duration": 26,
    "start_time": "2022-03-26T08:22:14.932Z"
   },
   {
    "duration": 6,
    "start_time": "2022-03-26T08:22:14.959Z"
   },
   {
    "duration": 43,
    "start_time": "2022-03-26T08:22:14.966Z"
   },
   {
    "duration": 38,
    "start_time": "2022-03-26T08:22:15.011Z"
   },
   {
    "duration": 11,
    "start_time": "2022-03-26T08:22:15.051Z"
   },
   {
    "duration": 11,
    "start_time": "2022-03-26T08:22:15.064Z"
   },
   {
    "duration": 33,
    "start_time": "2022-03-26T08:22:15.076Z"
   },
   {
    "duration": 27,
    "start_time": "2022-03-26T08:22:15.111Z"
   },
   {
    "duration": 18,
    "start_time": "2022-03-26T08:22:15.140Z"
   },
   {
    "duration": 50,
    "start_time": "2022-03-26T08:22:15.160Z"
   },
   {
    "duration": 21,
    "start_time": "2022-03-26T08:22:15.212Z"
   },
   {
    "duration": 14,
    "start_time": "2022-03-26T08:22:15.236Z"
   },
   {
    "duration": 16,
    "start_time": "2022-03-26T08:22:15.252Z"
   },
   {
    "duration": 52,
    "start_time": "2022-03-26T08:22:15.270Z"
   },
   {
    "duration": 10,
    "start_time": "2022-03-26T08:22:15.324Z"
   },
   {
    "duration": 16,
    "start_time": "2022-03-26T08:22:15.336Z"
   },
   {
    "duration": 13,
    "start_time": "2022-03-26T08:22:15.354Z"
   },
   {
    "duration": 47,
    "start_time": "2022-03-26T08:22:15.369Z"
   },
   {
    "duration": 19,
    "start_time": "2022-03-26T08:22:15.418Z"
   },
   {
    "duration": 9,
    "start_time": "2022-03-26T08:22:28.922Z"
   },
   {
    "duration": 10,
    "start_time": "2022-03-26T08:22:44.617Z"
   },
   {
    "duration": 72,
    "start_time": "2022-03-26T08:48:19.745Z"
   },
   {
    "duration": 7,
    "start_time": "2022-03-26T08:49:34.356Z"
   },
   {
    "duration": 11,
    "start_time": "2022-03-26T08:50:00.914Z"
   },
   {
    "duration": 8,
    "start_time": "2022-03-26T08:50:20.505Z"
   },
   {
    "duration": 2,
    "start_time": "2022-03-26T08:51:09.442Z"
   },
   {
    "duration": 2,
    "start_time": "2022-03-26T08:51:12.300Z"
   },
   {
    "duration": 3,
    "start_time": "2022-03-26T08:51:50.483Z"
   },
   {
    "duration": 20,
    "start_time": "2022-03-26T08:58:53.234Z"
   },
   {
    "duration": 14,
    "start_time": "2022-03-26T08:58:58.096Z"
   },
   {
    "duration": 15,
    "start_time": "2022-03-26T09:02:25.854Z"
   },
   {
    "duration": 7,
    "start_time": "2022-03-26T09:03:11.422Z"
   },
   {
    "duration": 7,
    "start_time": "2022-03-26T09:07:04.581Z"
   },
   {
    "duration": 39,
    "start_time": "2022-03-26T11:22:51.440Z"
   },
   {
    "duration": 6,
    "start_time": "2022-03-26T11:23:15.716Z"
   },
   {
    "duration": 7,
    "start_time": "2022-03-26T11:23:41.410Z"
   },
   {
    "duration": 6,
    "start_time": "2022-03-26T11:23:45.872Z"
   },
   {
    "duration": 461,
    "start_time": "2022-03-26T11:23:53.396Z"
   },
   {
    "duration": 68,
    "start_time": "2022-03-26T11:23:53.859Z"
   },
   {
    "duration": 19,
    "start_time": "2022-03-26T11:23:53.929Z"
   },
   {
    "duration": 14,
    "start_time": "2022-03-26T11:23:53.949Z"
   },
   {
    "duration": 53,
    "start_time": "2022-03-26T11:23:53.966Z"
   },
   {
    "duration": 9,
    "start_time": "2022-03-26T11:23:54.021Z"
   },
   {
    "duration": 6,
    "start_time": "2022-03-26T11:23:54.031Z"
   },
   {
    "duration": 3,
    "start_time": "2022-03-26T11:23:54.039Z"
   },
   {
    "duration": 5,
    "start_time": "2022-03-26T11:23:54.043Z"
   },
   {
    "duration": 10,
    "start_time": "2022-03-26T11:23:54.049Z"
   },
   {
    "duration": 5,
    "start_time": "2022-03-26T11:23:54.061Z"
   },
   {
    "duration": 40,
    "start_time": "2022-03-26T11:23:54.067Z"
   },
   {
    "duration": 6,
    "start_time": "2022-03-26T11:23:54.108Z"
   },
   {
    "duration": 2,
    "start_time": "2022-03-26T11:23:54.117Z"
   },
   {
    "duration": 8,
    "start_time": "2022-03-26T11:23:54.121Z"
   },
   {
    "duration": 8,
    "start_time": "2022-03-26T11:23:54.130Z"
   },
   {
    "duration": 13,
    "start_time": "2022-03-26T11:23:54.139Z"
   },
   {
    "duration": 13,
    "start_time": "2022-03-26T11:23:54.154Z"
   },
   {
    "duration": 15,
    "start_time": "2022-03-26T11:23:54.169Z"
   },
   {
    "duration": 21,
    "start_time": "2022-03-26T11:23:54.185Z"
   },
   {
    "duration": 27,
    "start_time": "2022-03-26T11:23:54.207Z"
   },
   {
    "duration": 5,
    "start_time": "2022-03-26T11:23:54.235Z"
   },
   {
    "duration": 7,
    "start_time": "2022-03-26T11:23:54.241Z"
   },
   {
    "duration": 14,
    "start_time": "2022-03-26T11:23:54.249Z"
   },
   {
    "duration": 37,
    "start_time": "2022-03-26T11:23:54.265Z"
   },
   {
    "duration": 26,
    "start_time": "2022-03-26T11:23:54.304Z"
   },
   {
    "duration": 12,
    "start_time": "2022-03-26T11:23:54.332Z"
   },
   {
    "duration": 67,
    "start_time": "2022-03-26T11:23:54.346Z"
   },
   {
    "duration": 28,
    "start_time": "2022-03-26T11:23:54.414Z"
   },
   {
    "duration": 23,
    "start_time": "2022-03-26T11:23:54.443Z"
   },
   {
    "duration": 6,
    "start_time": "2022-03-26T11:23:54.467Z"
   },
   {
    "duration": 41,
    "start_time": "2022-03-26T11:23:54.474Z"
   },
   {
    "duration": 8,
    "start_time": "2022-03-26T11:23:54.517Z"
   },
   {
    "duration": 21,
    "start_time": "2022-03-26T11:23:54.526Z"
   },
   {
    "duration": 5,
    "start_time": "2022-03-26T11:23:54.548Z"
   },
   {
    "duration": 20,
    "start_time": "2022-03-26T11:23:54.554Z"
   },
   {
    "duration": 54,
    "start_time": "2022-03-26T11:23:54.575Z"
   },
   {
    "duration": 9,
    "start_time": "2022-03-26T11:23:54.631Z"
   },
   {
    "duration": 9,
    "start_time": "2022-03-26T11:23:54.642Z"
   },
   {
    "duration": 5,
    "start_time": "2022-03-26T11:23:54.653Z"
   },
   {
    "duration": 54,
    "start_time": "2022-03-26T11:23:54.661Z"
   },
   {
    "duration": 17,
    "start_time": "2022-03-26T11:23:54.717Z"
   },
   {
    "duration": 30,
    "start_time": "2022-03-26T11:23:54.735Z"
   },
   {
    "duration": 39,
    "start_time": "2022-03-26T11:23:54.766Z"
   },
   {
    "duration": 13,
    "start_time": "2022-03-26T11:23:54.806Z"
   },
   {
    "duration": 14,
    "start_time": "2022-03-26T11:23:54.821Z"
   },
   {
    "duration": 11,
    "start_time": "2022-03-26T11:23:54.837Z"
   },
   {
    "duration": 7,
    "start_time": "2022-03-26T11:23:54.849Z"
   },
   {
    "duration": 45,
    "start_time": "2022-03-26T11:23:54.857Z"
   },
   {
    "duration": 13,
    "start_time": "2022-03-26T11:23:54.904Z"
   },
   {
    "duration": 12,
    "start_time": "2022-03-26T11:23:54.919Z"
   },
   {
    "duration": 5,
    "start_time": "2022-03-26T11:23:54.933Z"
   },
   {
    "duration": 12,
    "start_time": "2022-03-26T11:23:54.940Z"
   },
   {
    "duration": 25,
    "start_time": "2022-03-26T11:23:54.953Z"
   },
   {
    "duration": 413,
    "start_time": "2022-03-26T11:30:47.883Z"
   },
   {
    "duration": 58,
    "start_time": "2022-03-26T11:30:48.301Z"
   },
   {
    "duration": 20,
    "start_time": "2022-03-26T11:30:48.360Z"
   },
   {
    "duration": 21,
    "start_time": "2022-03-26T11:30:48.382Z"
   },
   {
    "duration": 42,
    "start_time": "2022-03-26T11:30:48.405Z"
   },
   {
    "duration": 14,
    "start_time": "2022-03-26T11:30:48.449Z"
   },
   {
    "duration": 9,
    "start_time": "2022-03-26T11:30:48.466Z"
   },
   {
    "duration": 4,
    "start_time": "2022-03-26T11:30:48.502Z"
   },
   {
    "duration": 7,
    "start_time": "2022-03-26T11:30:48.508Z"
   },
   {
    "duration": 18,
    "start_time": "2022-03-26T11:30:48.518Z"
   },
   {
    "duration": 7,
    "start_time": "2022-03-26T11:30:48.538Z"
   },
   {
    "duration": 6,
    "start_time": "2022-03-26T11:30:48.546Z"
   },
   {
    "duration": 5,
    "start_time": "2022-03-26T11:30:48.554Z"
   },
   {
    "duration": 6,
    "start_time": "2022-03-26T11:30:48.560Z"
   },
   {
    "duration": 2,
    "start_time": "2022-03-26T11:30:48.601Z"
   },
   {
    "duration": 4,
    "start_time": "2022-03-26T11:30:48.605Z"
   },
   {
    "duration": 10,
    "start_time": "2022-03-26T11:30:48.610Z"
   },
   {
    "duration": 9,
    "start_time": "2022-03-26T11:30:48.621Z"
   },
   {
    "duration": 18,
    "start_time": "2022-03-26T11:30:48.632Z"
   },
   {
    "duration": 19,
    "start_time": "2022-03-26T11:30:48.651Z"
   },
   {
    "duration": 63,
    "start_time": "2022-03-26T11:30:48.673Z"
   },
   {
    "duration": 7,
    "start_time": "2022-03-26T11:30:48.738Z"
   },
   {
    "duration": 8,
    "start_time": "2022-03-26T11:30:48.746Z"
   },
   {
    "duration": 6,
    "start_time": "2022-03-26T11:30:48.756Z"
   },
   {
    "duration": 9,
    "start_time": "2022-03-26T11:30:48.763Z"
   },
   {
    "duration": 26,
    "start_time": "2022-03-26T11:30:48.801Z"
   },
   {
    "duration": 11,
    "start_time": "2022-03-26T11:30:48.829Z"
   },
   {
    "duration": 68,
    "start_time": "2022-03-26T11:30:48.844Z"
   },
   {
    "duration": 42,
    "start_time": "2022-03-26T11:30:48.914Z"
   },
   {
    "duration": 49,
    "start_time": "2022-03-26T11:30:48.959Z"
   },
   {
    "duration": 6,
    "start_time": "2022-03-26T11:30:49.010Z"
   },
   {
    "duration": 25,
    "start_time": "2022-03-26T11:30:49.018Z"
   },
   {
    "duration": 7,
    "start_time": "2022-03-26T11:30:49.044Z"
   },
   {
    "duration": 51,
    "start_time": "2022-03-26T11:30:49.054Z"
   },
   {
    "duration": 6,
    "start_time": "2022-03-26T11:30:49.107Z"
   },
   {
    "duration": 18,
    "start_time": "2022-03-26T11:30:49.115Z"
   },
   {
    "duration": 66,
    "start_time": "2022-03-26T11:30:49.135Z"
   },
   {
    "duration": 10,
    "start_time": "2022-03-26T11:30:49.203Z"
   },
   {
    "duration": 9,
    "start_time": "2022-03-26T11:30:49.215Z"
   },
   {
    "duration": 5,
    "start_time": "2022-03-26T11:30:49.225Z"
   },
   {
    "duration": 22,
    "start_time": "2022-03-26T11:30:49.231Z"
   },
   {
    "duration": 48,
    "start_time": "2022-03-26T11:30:49.255Z"
   },
   {
    "duration": 25,
    "start_time": "2022-03-26T11:30:49.304Z"
   },
   {
    "duration": 15,
    "start_time": "2022-03-26T11:30:49.331Z"
   },
   {
    "duration": 10,
    "start_time": "2022-03-26T11:30:49.348Z"
   },
   {
    "duration": 49,
    "start_time": "2022-03-26T11:30:49.360Z"
   },
   {
    "duration": 11,
    "start_time": "2022-03-26T11:30:49.410Z"
   },
   {
    "duration": 6,
    "start_time": "2022-03-26T11:30:49.423Z"
   },
   {
    "duration": 12,
    "start_time": "2022-03-26T11:30:49.430Z"
   },
   {
    "duration": 13,
    "start_time": "2022-03-26T11:30:49.444Z"
   },
   {
    "duration": 50,
    "start_time": "2022-03-26T11:30:49.458Z"
   },
   {
    "duration": 7,
    "start_time": "2022-03-26T11:30:49.509Z"
   },
   {
    "duration": 9,
    "start_time": "2022-03-26T11:30:49.518Z"
   },
   {
    "duration": 24,
    "start_time": "2022-03-26T11:30:49.529Z"
   },
   {
    "duration": 24,
    "start_time": "2022-03-26T11:33:38.679Z"
   },
   {
    "duration": 14,
    "start_time": "2022-03-26T11:36:56.055Z"
   },
   {
    "duration": 65,
    "start_time": "2022-03-26T11:37:05.911Z"
   },
   {
    "duration": 15,
    "start_time": "2022-03-26T11:37:10.622Z"
   },
   {
    "duration": 18,
    "start_time": "2022-03-26T11:37:31.831Z"
   },
   {
    "duration": 4,
    "start_time": "2022-03-26T11:52:49.878Z"
   },
   {
    "duration": 9,
    "start_time": "2022-03-26T11:59:55.161Z"
   },
   {
    "duration": 7,
    "start_time": "2022-03-26T12:00:30.232Z"
   },
   {
    "duration": 8,
    "start_time": "2022-03-26T12:00:35.157Z"
   },
   {
    "duration": 8,
    "start_time": "2022-03-26T12:00:59.594Z"
   },
   {
    "duration": 14,
    "start_time": "2022-03-26T12:01:09.488Z"
   },
   {
    "duration": 391,
    "start_time": "2022-03-26T12:01:26.101Z"
   },
   {
    "duration": 70,
    "start_time": "2022-03-26T12:01:26.494Z"
   },
   {
    "duration": 18,
    "start_time": "2022-03-26T12:01:26.566Z"
   },
   {
    "duration": 19,
    "start_time": "2022-03-26T12:01:26.586Z"
   },
   {
    "duration": 35,
    "start_time": "2022-03-26T12:01:26.607Z"
   },
   {
    "duration": 10,
    "start_time": "2022-03-26T12:01:26.644Z"
   },
   {
    "duration": 14,
    "start_time": "2022-03-26T12:01:26.655Z"
   },
   {
    "duration": 13,
    "start_time": "2022-03-26T12:01:26.670Z"
   },
   {
    "duration": 13,
    "start_time": "2022-03-26T12:01:26.684Z"
   },
   {
    "duration": 26,
    "start_time": "2022-03-26T12:01:26.699Z"
   },
   {
    "duration": 13,
    "start_time": "2022-03-26T12:01:26.727Z"
   },
   {
    "duration": 19,
    "start_time": "2022-03-26T12:01:26.741Z"
   },
   {
    "duration": 27,
    "start_time": "2022-03-26T12:01:26.761Z"
   },
   {
    "duration": 20,
    "start_time": "2022-03-26T12:01:26.789Z"
   },
   {
    "duration": 18,
    "start_time": "2022-03-26T12:01:26.810Z"
   },
   {
    "duration": 24,
    "start_time": "2022-03-26T12:01:26.829Z"
   },
   {
    "duration": 16,
    "start_time": "2022-03-26T12:01:26.854Z"
   },
   {
    "duration": 24,
    "start_time": "2022-03-26T12:01:26.871Z"
   },
   {
    "duration": 19,
    "start_time": "2022-03-26T12:01:26.896Z"
   },
   {
    "duration": 21,
    "start_time": "2022-03-26T12:01:26.917Z"
   },
   {
    "duration": 51,
    "start_time": "2022-03-26T12:01:26.940Z"
   },
   {
    "duration": 5,
    "start_time": "2022-03-26T12:01:26.993Z"
   },
   {
    "duration": 14,
    "start_time": "2022-03-26T12:01:27.000Z"
   },
   {
    "duration": 9,
    "start_time": "2022-03-26T12:01:27.016Z"
   },
   {
    "duration": 14,
    "start_time": "2022-03-26T12:01:27.027Z"
   },
   {
    "duration": 38,
    "start_time": "2022-03-26T12:01:27.043Z"
   },
   {
    "duration": 12,
    "start_time": "2022-03-26T12:01:27.083Z"
   },
   {
    "duration": 32,
    "start_time": "2022-03-26T12:01:27.100Z"
   },
   {
    "duration": 28,
    "start_time": "2022-03-26T12:01:27.133Z"
   },
   {
    "duration": 21,
    "start_time": "2022-03-26T12:01:27.163Z"
   },
   {
    "duration": 6,
    "start_time": "2022-03-26T12:01:27.201Z"
   },
   {
    "duration": 26,
    "start_time": "2022-03-26T12:01:27.209Z"
   },
   {
    "duration": 11,
    "start_time": "2022-03-26T12:01:27.237Z"
   },
   {
    "duration": 37,
    "start_time": "2022-03-26T12:01:27.249Z"
   },
   {
    "duration": 17,
    "start_time": "2022-03-26T12:01:27.288Z"
   },
   {
    "duration": 27,
    "start_time": "2022-03-26T12:01:27.306Z"
   },
   {
    "duration": 32,
    "start_time": "2022-03-26T12:01:27.335Z"
   },
   {
    "duration": 10,
    "start_time": "2022-03-26T12:01:27.368Z"
   },
   {
    "duration": 20,
    "start_time": "2022-03-26T12:01:27.379Z"
   },
   {
    "duration": 29,
    "start_time": "2022-03-26T12:01:27.401Z"
   },
   {
    "duration": 50,
    "start_time": "2022-03-26T12:01:27.431Z"
   },
   {
    "duration": 18,
    "start_time": "2022-03-26T12:01:27.482Z"
   },
   {
    "duration": 38,
    "start_time": "2022-03-26T12:01:27.502Z"
   },
   {
    "duration": 16,
    "start_time": "2022-03-26T12:01:27.542Z"
   },
   {
    "duration": 20,
    "start_time": "2022-03-26T12:01:27.560Z"
   },
   {
    "duration": 13,
    "start_time": "2022-03-26T12:01:27.581Z"
   },
   {
    "duration": 18,
    "start_time": "2022-03-26T12:01:27.595Z"
   },
   {
    "duration": 73,
    "start_time": "2022-03-26T12:01:27.614Z"
   },
   {
    "duration": 0,
    "start_time": "2022-03-26T12:01:27.689Z"
   },
   {
    "duration": 0,
    "start_time": "2022-03-26T12:01:27.690Z"
   },
   {
    "duration": 0,
    "start_time": "2022-03-26T12:01:27.691Z"
   },
   {
    "duration": 0,
    "start_time": "2022-03-26T12:01:27.692Z"
   },
   {
    "duration": 9,
    "start_time": "2022-03-26T12:02:04.632Z"
   },
   {
    "duration": 16,
    "start_time": "2022-03-26T12:02:29.947Z"
   },
   {
    "duration": 15,
    "start_time": "2022-03-26T12:02:31.951Z"
   },
   {
    "duration": 7,
    "start_time": "2022-03-26T12:02:32.400Z"
   },
   {
    "duration": 10,
    "start_time": "2022-03-26T12:06:27.984Z"
   },
   {
    "duration": 17,
    "start_time": "2022-03-26T12:18:17.022Z"
   },
   {
    "duration": 13,
    "start_time": "2022-03-26T12:19:00.241Z"
   },
   {
    "duration": 18,
    "start_time": "2022-03-26T12:19:36.156Z"
   },
   {
    "duration": 20,
    "start_time": "2022-03-26T12:20:35.420Z"
   },
   {
    "duration": 12,
    "start_time": "2022-03-26T12:25:03.682Z"
   },
   {
    "duration": 479,
    "start_time": "2022-03-26T12:49:55.802Z"
   },
   {
    "duration": 81,
    "start_time": "2022-03-26T12:49:56.283Z"
   },
   {
    "duration": 20,
    "start_time": "2022-03-26T12:49:56.366Z"
   },
   {
    "duration": 38,
    "start_time": "2022-03-26T12:49:56.389Z"
   },
   {
    "duration": 45,
    "start_time": "2022-03-26T12:49:56.429Z"
   },
   {
    "duration": 36,
    "start_time": "2022-03-26T12:49:56.476Z"
   },
   {
    "duration": 37,
    "start_time": "2022-03-26T12:49:56.514Z"
   },
   {
    "duration": 19,
    "start_time": "2022-03-26T12:49:56.552Z"
   },
   {
    "duration": 26,
    "start_time": "2022-03-26T12:49:56.573Z"
   },
   {
    "duration": 33,
    "start_time": "2022-03-26T12:49:56.602Z"
   },
   {
    "duration": 30,
    "start_time": "2022-03-26T12:49:56.637Z"
   },
   {
    "duration": 35,
    "start_time": "2022-03-26T12:49:56.668Z"
   },
   {
    "duration": 41,
    "start_time": "2022-03-26T12:49:56.705Z"
   },
   {
    "duration": 29,
    "start_time": "2022-03-26T12:49:56.748Z"
   },
   {
    "duration": 28,
    "start_time": "2022-03-26T12:49:56.779Z"
   },
   {
    "duration": 27,
    "start_time": "2022-03-26T12:49:56.808Z"
   },
   {
    "duration": 42,
    "start_time": "2022-03-26T12:49:56.837Z"
   },
   {
    "duration": 27,
    "start_time": "2022-03-26T12:49:56.881Z"
   },
   {
    "duration": 45,
    "start_time": "2022-03-26T12:49:56.909Z"
   },
   {
    "duration": 36,
    "start_time": "2022-03-26T12:49:56.956Z"
   },
   {
    "duration": 50,
    "start_time": "2022-03-26T12:49:56.994Z"
   },
   {
    "duration": 21,
    "start_time": "2022-03-26T12:49:57.046Z"
   },
   {
    "duration": 16,
    "start_time": "2022-03-26T12:49:57.069Z"
   },
   {
    "duration": 27,
    "start_time": "2022-03-26T12:49:57.086Z"
   },
   {
    "duration": 38,
    "start_time": "2022-03-26T12:49:57.115Z"
   },
   {
    "duration": 54,
    "start_time": "2022-03-26T12:49:57.154Z"
   },
   {
    "duration": 24,
    "start_time": "2022-03-26T12:49:57.210Z"
   },
   {
    "duration": 45,
    "start_time": "2022-03-26T12:49:57.238Z"
   },
   {
    "duration": 29,
    "start_time": "2022-03-26T12:49:57.285Z"
   },
   {
    "duration": 25,
    "start_time": "2022-03-26T12:49:57.316Z"
   },
   {
    "duration": 13,
    "start_time": "2022-03-26T12:49:57.342Z"
   },
   {
    "duration": 33,
    "start_time": "2022-03-26T12:49:57.356Z"
   },
   {
    "duration": 34,
    "start_time": "2022-03-26T12:49:57.390Z"
   },
   {
    "duration": 37,
    "start_time": "2022-03-26T12:49:57.425Z"
   },
   {
    "duration": 29,
    "start_time": "2022-03-26T12:49:57.463Z"
   },
   {
    "duration": 29,
    "start_time": "2022-03-26T12:49:57.493Z"
   },
   {
    "duration": 49,
    "start_time": "2022-03-26T12:49:57.524Z"
   },
   {
    "duration": 10,
    "start_time": "2022-03-26T12:49:57.575Z"
   },
   {
    "duration": 35,
    "start_time": "2022-03-26T12:49:57.587Z"
   },
   {
    "duration": 22,
    "start_time": "2022-03-26T12:49:57.624Z"
   },
   {
    "duration": 50,
    "start_time": "2022-03-26T12:49:57.648Z"
   },
   {
    "duration": 18,
    "start_time": "2022-03-26T12:49:57.700Z"
   },
   {
    "duration": 66,
    "start_time": "2022-03-26T12:49:57.720Z"
   },
   {
    "duration": 40,
    "start_time": "2022-03-26T12:49:57.788Z"
   },
   {
    "duration": 22,
    "start_time": "2022-03-26T12:49:57.830Z"
   },
   {
    "duration": 23,
    "start_time": "2022-03-26T12:49:57.853Z"
   },
   {
    "duration": 30,
    "start_time": "2022-03-26T12:49:57.878Z"
   },
   {
    "duration": 33,
    "start_time": "2022-03-26T12:49:57.910Z"
   },
   {
    "duration": 38,
    "start_time": "2022-03-26T12:49:57.945Z"
   },
   {
    "duration": 33,
    "start_time": "2022-03-26T12:49:57.985Z"
   },
   {
    "duration": 30,
    "start_time": "2022-03-26T12:49:58.020Z"
   },
   {
    "duration": 38,
    "start_time": "2022-03-26T12:49:58.052Z"
   },
   {
    "duration": 30,
    "start_time": "2022-03-26T12:49:58.091Z"
   },
   {
    "duration": 421,
    "start_time": "2022-03-26T13:01:59.957Z"
   },
   {
    "duration": 72,
    "start_time": "2022-03-26T13:02:00.380Z"
   },
   {
    "duration": 21,
    "start_time": "2022-03-26T13:02:00.454Z"
   },
   {
    "duration": 24,
    "start_time": "2022-03-26T13:02:00.477Z"
   },
   {
    "duration": 52,
    "start_time": "2022-03-26T13:02:00.503Z"
   },
   {
    "duration": 10,
    "start_time": "2022-03-26T13:02:00.557Z"
   },
   {
    "duration": 18,
    "start_time": "2022-03-26T13:02:00.569Z"
   },
   {
    "duration": 11,
    "start_time": "2022-03-26T13:02:00.589Z"
   },
   {
    "duration": 37,
    "start_time": "2022-03-26T13:02:00.602Z"
   },
   {
    "duration": 24,
    "start_time": "2022-03-26T13:02:00.642Z"
   },
   {
    "duration": 18,
    "start_time": "2022-03-26T13:02:00.668Z"
   },
   {
    "duration": 51,
    "start_time": "2022-03-26T13:02:00.688Z"
   },
   {
    "duration": 38,
    "start_time": "2022-03-26T13:02:00.741Z"
   },
   {
    "duration": 13,
    "start_time": "2022-03-26T13:02:00.780Z"
   },
   {
    "duration": 20,
    "start_time": "2022-03-26T13:02:00.795Z"
   },
   {
    "duration": 10,
    "start_time": "2022-03-26T13:02:00.816Z"
   },
   {
    "duration": 19,
    "start_time": "2022-03-26T13:02:00.827Z"
   },
   {
    "duration": 22,
    "start_time": "2022-03-26T13:02:00.847Z"
   },
   {
    "duration": 32,
    "start_time": "2022-03-26T13:02:00.871Z"
   },
   {
    "duration": 16,
    "start_time": "2022-03-26T13:02:00.905Z"
   },
   {
    "duration": 55,
    "start_time": "2022-03-26T13:02:00.923Z"
   },
   {
    "duration": 6,
    "start_time": "2022-03-26T13:02:00.980Z"
   },
   {
    "duration": 29,
    "start_time": "2022-03-26T13:02:00.988Z"
   },
   {
    "duration": 18,
    "start_time": "2022-03-26T13:02:01.019Z"
   },
   {
    "duration": 21,
    "start_time": "2022-03-26T13:02:01.040Z"
   },
   {
    "duration": 40,
    "start_time": "2022-03-26T13:02:01.063Z"
   },
   {
    "duration": 33,
    "start_time": "2022-03-26T13:02:01.106Z"
   },
   {
    "duration": 40,
    "start_time": "2022-03-26T13:02:01.143Z"
   },
   {
    "duration": 29,
    "start_time": "2022-03-26T13:02:01.185Z"
   },
   {
    "duration": 24,
    "start_time": "2022-03-26T13:02:01.216Z"
   },
   {
    "duration": 5,
    "start_time": "2022-03-26T13:02:01.241Z"
   },
   {
    "duration": 24,
    "start_time": "2022-03-26T13:02:01.248Z"
   },
   {
    "duration": 28,
    "start_time": "2022-03-26T13:02:01.274Z"
   },
   {
    "duration": 25,
    "start_time": "2022-03-26T13:02:01.304Z"
   },
   {
    "duration": 13,
    "start_time": "2022-03-26T13:02:01.331Z"
   },
   {
    "duration": 32,
    "start_time": "2022-03-26T13:02:01.345Z"
   },
   {
    "duration": 40,
    "start_time": "2022-03-26T13:02:01.379Z"
   },
   {
    "duration": 11,
    "start_time": "2022-03-26T13:02:01.421Z"
   },
   {
    "duration": 25,
    "start_time": "2022-03-26T13:02:01.434Z"
   },
   {
    "duration": 10,
    "start_time": "2022-03-26T13:02:01.461Z"
   },
   {
    "duration": 44,
    "start_time": "2022-03-26T13:02:01.473Z"
   },
   {
    "duration": 19,
    "start_time": "2022-03-26T13:02:01.519Z"
   },
   {
    "duration": 43,
    "start_time": "2022-03-26T13:02:01.540Z"
   },
   {
    "duration": 26,
    "start_time": "2022-03-26T13:02:01.585Z"
   },
   {
    "duration": 13,
    "start_time": "2022-03-26T13:02:01.612Z"
   },
   {
    "duration": 21,
    "start_time": "2022-03-26T13:02:01.627Z"
   },
   {
    "duration": 17,
    "start_time": "2022-03-26T13:02:01.649Z"
   },
   {
    "duration": 12,
    "start_time": "2022-03-26T13:02:01.668Z"
   },
   {
    "duration": 32,
    "start_time": "2022-03-26T13:02:01.682Z"
   },
   {
    "duration": 14,
    "start_time": "2022-03-26T13:02:01.715Z"
   },
   {
    "duration": 16,
    "start_time": "2022-03-26T13:02:01.731Z"
   },
   {
    "duration": 22,
    "start_time": "2022-03-26T13:02:01.749Z"
   },
   {
    "duration": 32,
    "start_time": "2022-03-26T13:02:01.773Z"
   },
   {
    "duration": 521,
    "start_time": "2022-03-27T12:51:39.756Z"
   },
   {
    "duration": 73,
    "start_time": "2022-03-27T12:51:40.279Z"
   },
   {
    "duration": 33,
    "start_time": "2022-03-27T12:51:40.355Z"
   },
   {
    "duration": 20,
    "start_time": "2022-03-27T12:51:40.390Z"
   },
   {
    "duration": 40,
    "start_time": "2022-03-27T12:51:40.413Z"
   },
   {
    "duration": 37,
    "start_time": "2022-03-27T12:51:40.455Z"
   },
   {
    "duration": 10,
    "start_time": "2022-03-27T12:51:40.494Z"
   },
   {
    "duration": 7,
    "start_time": "2022-03-27T12:51:40.507Z"
   },
   {
    "duration": 12,
    "start_time": "2022-03-27T12:51:40.517Z"
   },
   {
    "duration": 55,
    "start_time": "2022-03-27T12:51:40.532Z"
   },
   {
    "duration": 11,
    "start_time": "2022-03-27T12:51:40.590Z"
   },
   {
    "duration": 12,
    "start_time": "2022-03-27T12:51:40.603Z"
   },
   {
    "duration": 9,
    "start_time": "2022-03-27T12:51:40.618Z"
   },
   {
    "duration": 3,
    "start_time": "2022-03-27T12:51:40.633Z"
   },
   {
    "duration": 6,
    "start_time": "2022-03-27T12:51:40.638Z"
   },
   {
    "duration": 3,
    "start_time": "2022-03-27T12:51:40.683Z"
   },
   {
    "duration": 9,
    "start_time": "2022-03-27T12:51:40.705Z"
   },
   {
    "duration": 19,
    "start_time": "2022-03-27T12:51:40.716Z"
   },
   {
    "duration": 66,
    "start_time": "2022-03-27T12:51:40.737Z"
   },
   {
    "duration": 80,
    "start_time": "2022-03-27T12:51:40.806Z"
   },
   {
    "duration": 7,
    "start_time": "2022-03-27T12:51:40.888Z"
   },
   {
    "duration": 25,
    "start_time": "2022-03-27T12:51:40.898Z"
   },
   {
    "duration": 17,
    "start_time": "2022-03-27T12:51:40.925Z"
   },
   {
    "duration": 32,
    "start_time": "2022-03-27T12:51:40.944Z"
   },
   {
    "duration": 47,
    "start_time": "2022-03-27T12:51:40.979Z"
   },
   {
    "duration": 18,
    "start_time": "2022-03-27T12:51:41.029Z"
   },
   {
    "duration": 62,
    "start_time": "2022-03-27T12:51:41.048Z"
   },
   {
    "duration": 40,
    "start_time": "2022-03-27T12:51:41.112Z"
   },
   {
    "duration": 46,
    "start_time": "2022-03-27T12:51:41.154Z"
   },
   {
    "duration": 7,
    "start_time": "2022-03-27T12:51:41.202Z"
   },
   {
    "duration": 34,
    "start_time": "2022-03-27T12:51:41.210Z"
   },
   {
    "duration": 38,
    "start_time": "2022-03-27T12:51:41.246Z"
   },
   {
    "duration": 37,
    "start_time": "2022-03-27T12:51:41.286Z"
   },
   {
    "duration": 32,
    "start_time": "2022-03-27T12:51:41.325Z"
   },
   {
    "duration": 49,
    "start_time": "2022-03-27T12:51:41.360Z"
   },
   {
    "duration": 45,
    "start_time": "2022-03-27T12:51:41.411Z"
   },
   {
    "duration": 25,
    "start_time": "2022-03-27T12:51:41.458Z"
   },
   {
    "duration": 14,
    "start_time": "2022-03-27T12:51:41.485Z"
   },
   {
    "duration": 15,
    "start_time": "2022-03-27T12:51:41.501Z"
   },
   {
    "duration": 52,
    "start_time": "2022-03-27T12:51:41.521Z"
   },
   {
    "duration": 40,
    "start_time": "2022-03-27T12:51:41.579Z"
   },
   {
    "duration": 172,
    "start_time": "2022-03-27T12:51:41.625Z"
   },
   {
    "duration": 96,
    "start_time": "2022-03-27T12:51:41.799Z"
   },
   {
    "duration": 20,
    "start_time": "2022-03-27T12:51:41.897Z"
   },
   {
    "duration": 23,
    "start_time": "2022-03-27T12:51:41.920Z"
   },
   {
    "duration": 52,
    "start_time": "2022-03-27T12:51:41.945Z"
   },
   {
    "duration": 11,
    "start_time": "2022-03-27T12:51:42.000Z"
   },
   {
    "duration": 27,
    "start_time": "2022-03-27T12:51:42.013Z"
   },
   {
    "duration": 51,
    "start_time": "2022-03-27T12:51:42.042Z"
   },
   {
    "duration": 9,
    "start_time": "2022-03-27T12:51:42.095Z"
   },
   {
    "duration": 24,
    "start_time": "2022-03-27T12:51:42.106Z"
   },
   {
    "duration": 54,
    "start_time": "2022-03-27T12:51:42.132Z"
   },
   {
    "duration": 528,
    "start_time": "2022-03-27T12:54:39.541Z"
   },
   {
    "duration": 75,
    "start_time": "2022-03-27T12:54:40.072Z"
   },
   {
    "duration": 35,
    "start_time": "2022-03-27T12:54:40.150Z"
   },
   {
    "duration": 20,
    "start_time": "2022-03-27T12:54:40.188Z"
   },
   {
    "duration": 46,
    "start_time": "2022-03-27T12:54:40.210Z"
   },
   {
    "duration": 12,
    "start_time": "2022-03-27T12:54:40.282Z"
   },
   {
    "duration": 10,
    "start_time": "2022-03-27T12:54:40.296Z"
   },
   {
    "duration": 5,
    "start_time": "2022-03-27T12:54:40.308Z"
   },
   {
    "duration": 12,
    "start_time": "2022-03-27T12:54:40.315Z"
   },
   {
    "duration": 25,
    "start_time": "2022-03-27T12:54:40.331Z"
   },
   {
    "duration": 9,
    "start_time": "2022-03-27T12:54:40.382Z"
   },
   {
    "duration": 19,
    "start_time": "2022-03-27T12:54:40.393Z"
   },
   {
    "duration": 8,
    "start_time": "2022-03-27T12:54:40.414Z"
   },
   {
    "duration": 5,
    "start_time": "2022-03-27T12:54:40.424Z"
   },
   {
    "duration": 12,
    "start_time": "2022-03-27T12:54:40.431Z"
   },
   {
    "duration": 13,
    "start_time": "2022-03-27T12:54:40.445Z"
   },
   {
    "duration": 31,
    "start_time": "2022-03-27T12:54:40.460Z"
   },
   {
    "duration": 8,
    "start_time": "2022-03-27T12:54:40.493Z"
   },
   {
    "duration": 19,
    "start_time": "2022-03-27T12:54:40.504Z"
   },
   {
    "duration": 20,
    "start_time": "2022-03-27T12:54:40.526Z"
   },
   {
    "duration": 71,
    "start_time": "2022-03-27T12:54:40.548Z"
   },
   {
    "duration": 7,
    "start_time": "2022-03-27T12:54:40.622Z"
   },
   {
    "duration": 28,
    "start_time": "2022-03-27T12:54:40.631Z"
   },
   {
    "duration": 25,
    "start_time": "2022-03-27T12:54:40.661Z"
   },
   {
    "duration": 14,
    "start_time": "2022-03-27T12:54:40.688Z"
   },
   {
    "duration": 41,
    "start_time": "2022-03-27T12:54:40.705Z"
   },
   {
    "duration": 44,
    "start_time": "2022-03-27T12:54:40.748Z"
   },
   {
    "duration": 43,
    "start_time": "2022-03-27T12:54:40.800Z"
   },
   {
    "duration": 70,
    "start_time": "2022-03-27T12:54:40.846Z"
   },
   {
    "duration": 32,
    "start_time": "2022-03-27T12:54:40.918Z"
   },
   {
    "duration": 30,
    "start_time": "2022-03-27T12:54:40.952Z"
   },
   {
    "duration": 20,
    "start_time": "2022-03-27T12:54:40.984Z"
   },
   {
    "duration": 15,
    "start_time": "2022-03-27T12:54:41.006Z"
   },
   {
    "duration": 26,
    "start_time": "2022-03-27T12:54:41.023Z"
   },
   {
    "duration": 34,
    "start_time": "2022-03-27T12:54:41.051Z"
   },
   {
    "duration": 29,
    "start_time": "2022-03-27T12:54:41.087Z"
   },
   {
    "duration": 65,
    "start_time": "2022-03-27T12:54:41.118Z"
   },
   {
    "duration": 14,
    "start_time": "2022-03-27T12:54:41.185Z"
   },
   {
    "duration": 13,
    "start_time": "2022-03-27T12:54:41.201Z"
   },
   {
    "duration": 7,
    "start_time": "2022-03-27T12:54:41.216Z"
   },
   {
    "duration": 72,
    "start_time": "2022-03-27T12:54:41.224Z"
   },
   {
    "duration": 26,
    "start_time": "2022-03-27T12:54:41.298Z"
   },
   {
    "duration": 59,
    "start_time": "2022-03-27T12:54:41.326Z"
   },
   {
    "duration": 34,
    "start_time": "2022-03-27T12:54:41.387Z"
   },
   {
    "duration": 18,
    "start_time": "2022-03-27T12:54:41.423Z"
   },
   {
    "duration": 42,
    "start_time": "2022-03-27T12:54:41.444Z"
   },
   {
    "duration": 22,
    "start_time": "2022-03-27T12:54:41.490Z"
   },
   {
    "duration": 20,
    "start_time": "2022-03-27T12:54:41.514Z"
   },
   {
    "duration": 55,
    "start_time": "2022-03-27T12:54:41.537Z"
   },
   {
    "duration": 23,
    "start_time": "2022-03-27T12:54:41.595Z"
   },
   {
    "duration": 20,
    "start_time": "2022-03-27T12:54:41.620Z"
   },
   {
    "duration": 42,
    "start_time": "2022-03-27T12:54:41.642Z"
   },
   {
    "duration": 24,
    "start_time": "2022-03-27T12:54:41.686Z"
   },
   {
    "duration": 19,
    "start_time": "2022-03-27T12:54:41.713Z"
   },
   {
    "duration": 30,
    "start_time": "2022-03-27T12:54:53.157Z"
   },
   {
    "duration": 19,
    "start_time": "2022-03-27T12:54:58.328Z"
   },
   {
    "duration": 17,
    "start_time": "2022-03-27T12:55:02.431Z"
   },
   {
    "duration": 11,
    "start_time": "2022-03-27T12:56:21.063Z"
   },
   {
    "duration": 70,
    "start_time": "2022-03-27T13:26:13.389Z"
   },
   {
    "duration": 536,
    "start_time": "2022-03-27T13:26:28.484Z"
   },
   {
    "duration": 90,
    "start_time": "2022-03-27T13:26:29.023Z"
   },
   {
    "duration": 34,
    "start_time": "2022-03-27T13:26:29.116Z"
   },
   {
    "duration": 42,
    "start_time": "2022-03-27T13:26:29.154Z"
   },
   {
    "duration": 49,
    "start_time": "2022-03-27T13:26:29.199Z"
   },
   {
    "duration": 43,
    "start_time": "2022-03-27T13:26:29.250Z"
   },
   {
    "duration": 15,
    "start_time": "2022-03-27T13:26:29.295Z"
   },
   {
    "duration": 7,
    "start_time": "2022-03-27T13:26:29.312Z"
   },
   {
    "duration": 8,
    "start_time": "2022-03-27T13:26:29.322Z"
   },
   {
    "duration": 56,
    "start_time": "2022-03-27T13:26:29.335Z"
   },
   {
    "duration": 10,
    "start_time": "2022-03-27T13:26:29.394Z"
   },
   {
    "duration": 10,
    "start_time": "2022-03-27T13:26:29.406Z"
   },
   {
    "duration": 9,
    "start_time": "2022-03-27T13:26:29.418Z"
   },
   {
    "duration": 5,
    "start_time": "2022-03-27T13:26:29.429Z"
   },
   {
    "duration": 37,
    "start_time": "2022-03-27T13:26:29.436Z"
   },
   {
    "duration": 18,
    "start_time": "2022-03-27T13:26:29.476Z"
   },
   {
    "duration": 11,
    "start_time": "2022-03-27T13:26:29.497Z"
   },
   {
    "duration": 9,
    "start_time": "2022-03-27T13:26:29.510Z"
   },
   {
    "duration": 20,
    "start_time": "2022-03-27T13:26:29.521Z"
   },
   {
    "duration": 21,
    "start_time": "2022-03-27T13:26:29.588Z"
   },
   {
    "duration": 43,
    "start_time": "2022-03-27T13:26:29.612Z"
   },
   {
    "duration": 26,
    "start_time": "2022-03-27T13:26:29.657Z"
   },
   {
    "duration": 9,
    "start_time": "2022-03-27T13:26:29.687Z"
   },
   {
    "duration": 19,
    "start_time": "2022-03-27T13:26:29.699Z"
   },
   {
    "duration": 17,
    "start_time": "2022-03-27T13:26:29.721Z"
   },
   {
    "duration": 62,
    "start_time": "2022-03-27T13:26:29.768Z"
   },
   {
    "duration": 49,
    "start_time": "2022-03-27T13:26:29.833Z"
   },
   {
    "duration": 45,
    "start_time": "2022-03-27T13:26:29.890Z"
   },
   {
    "duration": 66,
    "start_time": "2022-03-27T13:26:29.937Z"
   },
   {
    "duration": 47,
    "start_time": "2022-03-27T13:26:30.006Z"
   },
   {
    "duration": 22,
    "start_time": "2022-03-27T13:26:30.055Z"
   },
   {
    "duration": 28,
    "start_time": "2022-03-27T13:26:30.081Z"
   },
   {
    "duration": 7,
    "start_time": "2022-03-27T13:26:30.111Z"
   },
   {
    "duration": 74,
    "start_time": "2022-03-27T13:26:30.121Z"
   },
   {
    "duration": 10,
    "start_time": "2022-03-27T13:26:30.198Z"
   },
   {
    "duration": 40,
    "start_time": "2022-03-27T13:26:30.210Z"
   },
   {
    "duration": 86,
    "start_time": "2022-03-27T13:26:30.253Z"
   },
   {
    "duration": 37,
    "start_time": "2022-03-27T13:26:30.342Z"
   },
   {
    "duration": 16,
    "start_time": "2022-03-27T13:26:30.382Z"
   },
   {
    "duration": 7,
    "start_time": "2022-03-27T13:26:30.400Z"
   },
   {
    "duration": 74,
    "start_time": "2022-03-27T13:26:30.409Z"
   },
   {
    "duration": 27,
    "start_time": "2022-03-27T13:26:30.488Z"
   },
   {
    "duration": 91,
    "start_time": "2022-03-27T13:26:30.518Z"
   },
   {
    "duration": 28,
    "start_time": "2022-03-27T13:26:30.611Z"
   },
   {
    "duration": 40,
    "start_time": "2022-03-27T13:26:30.642Z"
   },
   {
    "duration": 19,
    "start_time": "2022-03-27T13:26:30.685Z"
   },
   {
    "duration": 35,
    "start_time": "2022-03-27T13:26:30.706Z"
   },
   {
    "duration": 38,
    "start_time": "2022-03-27T13:26:30.744Z"
   },
   {
    "duration": 15,
    "start_time": "2022-03-27T13:26:30.785Z"
   },
   {
    "duration": 26,
    "start_time": "2022-03-27T13:26:30.802Z"
   },
   {
    "duration": 54,
    "start_time": "2022-03-27T13:26:30.830Z"
   },
   {
    "duration": 11,
    "start_time": "2022-03-27T13:26:30.887Z"
   },
   {
    "duration": 35,
    "start_time": "2022-03-27T13:26:30.901Z"
   },
   {
    "duration": 58,
    "start_time": "2022-03-27T13:26:30.938Z"
   }
  ],
  "kernelspec": {
   "display_name": "Python 3 (ipykernel)",
   "language": "python",
   "name": "python3"
  },
  "language_info": {
   "codemirror_mode": {
    "name": "ipython",
    "version": 3
   },
   "file_extension": ".py",
   "mimetype": "text/x-python",
   "name": "python",
   "nbconvert_exporter": "python",
   "pygments_lexer": "ipython3",
   "version": "3.9.7"
  },
  "toc": {
   "base_numbering": 1,
   "nav_menu": {},
   "number_sections": true,
   "sideBar": true,
   "skip_h1_title": true,
   "title_cell": "Содержание ",
   "title_sidebar": "Contents",
   "toc_cell": true,
   "toc_position": {
    "height": "calc(100% - 180px)",
    "left": "10px",
    "top": "150px",
    "width": "303.825px"
   },
   "toc_section_display": true,
   "toc_window_display": true
  }
 },
 "nbformat": 4,
 "nbformat_minor": 5
}
