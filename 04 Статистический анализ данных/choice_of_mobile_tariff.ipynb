{
 "cells": [
  {
   "cell_type": "markdown",
   "id": "191d5154",
   "metadata": {
    "toc": true
   },
   "source": [
    "<h1>Содержание<span class=\"tocSkip\"></span></h1>\n",
    "<div class=\"toc\"><ul class=\"toc-item\"><li><span><a href=\"#Изучение-данных\" data-toc-modified-id=\"Изучение-данных-1\"><span class=\"toc-item-num\">1&nbsp;&nbsp;</span>Изучение данных</a></span><ul class=\"toc-item\"><li><span><a href=\"#Выводы\" data-toc-modified-id=\"Выводы-1.1\"><span class=\"toc-item-num\">1.1&nbsp;&nbsp;</span>Выводы</a></span></li></ul></li><li><span><a href=\"#Предобработка-данных\" data-toc-modified-id=\"Предобработка-данных-2\"><span class=\"toc-item-num\">2&nbsp;&nbsp;</span>Предобработка данных</a></span><ul class=\"toc-item\"><li><span><a href=\"#Заменим-тип-данных-на-datetime-в-интересующих-нас-столбцах.\" data-toc-modified-id=\"Заменим-тип-данных-на-datetime-в-интересующих-нас-столбцах.-2.1\"><span class=\"toc-item-num\">2.1&nbsp;&nbsp;</span>Заменим тип данных на <code>datetime</code> в интересующих нас столбцах.</a></span></li><li><span><a href=\"#Округлим-значения-по-условиям.\" data-toc-modified-id=\"Округлим-значения-по-условиям.-2.2\"><span class=\"toc-item-num\">2.2&nbsp;&nbsp;</span>Округлим значения по условиям.</a></span></li><li><span><a href=\"#Добавим-в-соответствующие-таблицы-столбцы-со-значением-месяца.\" data-toc-modified-id=\"Добавим-в-соответствующие-таблицы-столбцы-со-значением-месяца.-2.3\"><span class=\"toc-item-num\">2.3&nbsp;&nbsp;</span>Добавим в соответствующие таблицы столбцы со значением месяца.</a></span></li><li><span><a href=\"#Расчет-помесячной-выручки-с-каждого-пользователя.\" data-toc-modified-id=\"Расчет-помесячной-выручки-с-каждого-пользователя.-2.4\"><span class=\"toc-item-num\">2.4&nbsp;&nbsp;</span>Расчет помесячной выручки с каждого пользователя.</a></span></li><li><span><a href=\"#Выводы\" data-toc-modified-id=\"Выводы-2.5\"><span class=\"toc-item-num\">2.5&nbsp;&nbsp;</span>Выводы</a></span></li></ul></li><li><span><a href=\"#Анализ-данных\" data-toc-modified-id=\"Анализ-данных-3\"><span class=\"toc-item-num\">3&nbsp;&nbsp;</span>Анализ данных</a></span><ul class=\"toc-item\"><li><span><a href=\"#Определение-статистических-характеристик-использования-тарифов.\" data-toc-modified-id=\"Определение-статистических-характеристик-использования-тарифов.-3.1\"><span class=\"toc-item-num\">3.1&nbsp;&nbsp;</span>Определение статистических характеристик использования тарифов.</a></span></li><li><span><a href=\"#Построение-гистограмм.\" data-toc-modified-id=\"Построение-гистограмм.-3.2\"><span class=\"toc-item-num\">3.2&nbsp;&nbsp;</span>Построение гистограмм.</a></span><ul class=\"toc-item\"><li><span><a href=\"#Распределение-данных-по-графикам:\" data-toc-modified-id=\"Распределение-данных-по-графикам:-3.2.1\"><span class=\"toc-item-num\">3.2.1&nbsp;&nbsp;</span>Распределение данных по графикам:</a></span><ul class=\"toc-item\"><li><span><a href=\"#Проверка-данных-на-аномалии.\" data-toc-modified-id=\"Проверка-данных-на-аномалии.-3.2.1.1\"><span class=\"toc-item-num\">3.2.1.1&nbsp;&nbsp;</span>Проверка данных на аномалии.</a></span></li></ul></li></ul></li><li><span><a href=\"#Выводы\" data-toc-modified-id=\"Выводы-3.3\"><span class=\"toc-item-num\">3.3&nbsp;&nbsp;</span>Выводы</a></span></li></ul></li><li><span><a href=\"#Проверка-гипотез\" data-toc-modified-id=\"Проверка-гипотез-4\"><span class=\"toc-item-num\">4&nbsp;&nbsp;</span>Проверка гипотез</a></span><ul class=\"toc-item\"><li><span><a href=\"#Первая-гипотеза\" data-toc-modified-id=\"Первая-гипотеза-4.1\"><span class=\"toc-item-num\">4.1&nbsp;&nbsp;</span>Первая гипотеза</a></span><ul class=\"toc-item\"><li><span><a href=\"#Вывод\" data-toc-modified-id=\"Вывод-4.1.1\"><span class=\"toc-item-num\">4.1.1&nbsp;&nbsp;</span>Вывод</a></span></li></ul></li><li><span><a href=\"#Вторая-гипотеза\" data-toc-modified-id=\"Вторая-гипотеза-4.2\"><span class=\"toc-item-num\">4.2&nbsp;&nbsp;</span>Вторая гипотеза</a></span><ul class=\"toc-item\"><li><span><a href=\"#Вывод\" data-toc-modified-id=\"Вывод-4.2.1\"><span class=\"toc-item-num\">4.2.1&nbsp;&nbsp;</span>Вывод</a></span></li></ul></li></ul></li><li><span><a href=\"#Общий-вывод\" data-toc-modified-id=\"Общий-вывод-5\"><span class=\"toc-item-num\">5&nbsp;&nbsp;</span>Общий вывод</a></span></li></ul></div>"
   ]
  },
  {
   "cell_type": "markdown",
   "id": "8720e939",
   "metadata": {},
   "source": [
    "\n",
    "# Тема: Статистический анализ данных\n",
    "# Проект: Определение перспективного тарифа для телеком-компании\n",
    "# Описание проекта\n",
    "\n",
    "Заказчик компания «Мегалайн» — федеральный оператор сотовой связи. Клиентам предлагают два тарифных плана: «Смарт» и «Ультра». Чтобы скорректировать рекламный бюджет, коммерческий департамент хочет понять, какой тариф приносит больше денег.\n",
    "\n",
    "Предстоит сделать предварительный анализ тарифов на небольшой выборке клиентов. В распоряжении данные 500 пользователей «Мегалайна»: кто они, откуда, каким тарифом пользуются, сколько звонков и сообщений каждый отправил за 2018 год. Нужно проанализировать поведение клиентов и сделать вывод — какой тариф лучше.\n",
    "\n",
    "Примечание: В данных имеются звонки с нулевой продолжительностью. Это не ошибка: нулями обозначены пропущенные звонки, поэтому их не нужно удалять.\n",
    "\n",
    "\n",
    "# Описание тарифов\n",
    "* **Тариф «Смарт»** \n",
    "1. Ежемесячная плата: 550 рублей\n",
    "2. Включено 500 минут разговора, 50 сообщений и 15 Гб интернет-трафика\n",
    "3. Стоимость услуг сверх тарифного пакета:\n",
    "* минута разговора: 3 рубля\n",
    "* сообщение: 3 рубля\n",
    "* 1 Гб интернет-трафика: 200 рублей\n",
    "\n",
    "\n",
    "* **Тариф «Ультра»** \n",
    "1. Ежемесячная плата: 1950 рублей\n",
    "2. Включено 3000 минут разговора, 1000 сообщений и 30 Гб интернет-трафика\n",
    "3. Стоимость услуг сверх тарифного пакета:\n",
    "* минута разговора: 1 рубль\n",
    "* сообщение: 1 рубль\n",
    "* 1 Гб интернет-трафика: 150 рублей"
   ]
  },
  {
   "cell_type": "markdown",
   "id": "fa9e1359",
   "metadata": {},
   "source": [
    "Согласно документации к данным:\n",
    "\n",
    " **Таблица users (информация о пользователях)**:\n",
    "* `user_id` — уникальный идентификатор пользователя\n",
    "* `first_name` — имя пользователя\n",
    "* `last_name` — фамилия пользователя\n",
    "* `age` — возраст пользователя (годы)\n",
    "* `reg_date` — дата подключения тарифа (день, месяц, год)\n",
    "* `churn_date` — дата прекращения пользования тарифом (если значение пропущено, то тариф ещё действовал на момент выгрузки данных)\n",
    "* `city` — город проживания пользователя\n",
    "* `tariff` — название тарифного плана\n",
    "\n",
    "**Таблица calls (информация о звонках)**:\n",
    "* `id` — уникальный номер звонка\n",
    "* `call_date` — дата звонка\n",
    "* `duration` — длительность звонка в минутах\n",
    "* `user_id` — идентификатор пользователя, сделавшего звонок\n",
    "\n",
    "**Таблица messages (информация о сообщениях)**:\n",
    "* `id` — уникальный номер сообщения\n",
    "* `message_date` — дата сообщения\n",
    "* `user_id` — идентификатор пользователя, отправившего сообщение\n",
    "**Таблица internet (информация об интернет-сессиях)**:\n",
    "* `id` — уникальный номер сессии\n",
    "* `mb_used` — объём потраченного за сессию интернет-трафика (в мегабайтах)\n",
    "* `session_date` — дата интернет-сессии\n",
    "* `user_id` — идентификатор пользователя\n",
    "\n",
    "**Таблица tariffs (информация о тарифах)**:\n",
    "* `tariff_name` — название тарифа\n",
    "* `rub_monthly_fee` — ежемесячная абонентская плата в рублях\n",
    "* `minutes_included` — количество минут разговора в месяц, включённых в абонентскую плату\n",
    "* `messages_included` — количество сообщений в месяц, включённых в абонентскую плату\n",
    "* `mb_per_month_included` — объём интернет-трафика, включённого в абонентскую плату (в мегабайтах)\n",
    "* `rub_per_minute` — стоимость минуты разговора сверх тарифного пакета (например, если в тарифе 100 минут разговора в месяц, то со 101 минуты будет взиматься плата)\n",
    "* `rub_per_message` — стоимость отправки сообщения сверх тарифного пакета\n",
    "* `rub_per_gb` — стоимость дополнительного гигабайта интернет-трафика сверх тарифного пакета (1 гигабайт = 1024 мегабайта)"
   ]
  },
  {
   "cell_type": "markdown",
   "id": "bed3d64c",
   "metadata": {},
   "source": [
    "## Изучение данных\n",
    "\n",
    "Импортируем нужные библиотеки и функции"
   ]
  },
  {
   "cell_type": "code",
   "execution_count": 1,
   "id": "97d00463",
   "metadata": {},
   "outputs": [],
   "source": [
    "import numpy as np\n",
    "import pandas as pd\n",
    "import matplotlib.pyplot as plt \n",
    "import seaborn as sns\n",
    "from scipy import stats as st"
   ]
  },
  {
   "cell_type": "markdown",
   "id": "c1dd30a0",
   "metadata": {},
   "source": [
    "Загрузим датасеты `.csv` и сохраним их в соответствующих переменных."
   ]
  },
  {
   "cell_type": "code",
   "execution_count": 2,
   "id": "da713ade",
   "metadata": {},
   "outputs": [],
   "source": [
    "try:    \n",
    "    users = pd.read_csv('D:/notebook/project_4/users.csv')\n",
    "    calls = pd.read_csv('D:/notebook/project_4/calls.csv')\n",
    "    internet = pd.read_csv('D:/notebook/project_4/internet.csv', index_col=0)\n",
    "    messages = pd.read_csv('D:/notebook/project_4/messages.csv')\n",
    "    tariffs = pd.read_csv('D:/notebook/project_4/tariffs.csv')\n",
    "except:\n",
    "    users = pd.read_csv('/datasets/users.csv')\n",
    "    calls = pd.read_csv('/datasets/calls.csv')\n",
    "    internet = pd.read_csv('/datasets/internet.csv', index_col=0)\n",
    "    messages = pd.read_csv('/datasets/messages.csv')\n",
    "    tariffs = pd.read_csv('/datasets/tariffs.csv')"
   ]
  },
  {
   "cell_type": "markdown",
   "id": "8f97298b",
   "metadata": {},
   "source": [
    "Посмотрим содержание таблиц и общую информацию по ним: "
   ]
  },
  {
   "cell_type": "code",
   "execution_count": 3,
   "id": "8cee3a02",
   "metadata": {
    "scrolled": false
   },
   "outputs": [
    {
     "data": {
      "text/html": [
       "<div>\n",
       "<style scoped>\n",
       "    .dataframe tbody tr th:only-of-type {\n",
       "        vertical-align: middle;\n",
       "    }\n",
       "\n",
       "    .dataframe tbody tr th {\n",
       "        vertical-align: top;\n",
       "    }\n",
       "\n",
       "    .dataframe thead th {\n",
       "        text-align: right;\n",
       "    }\n",
       "</style>\n",
       "<table border=\"1\" class=\"dataframe\">\n",
       "  <thead>\n",
       "    <tr style=\"text-align: right;\">\n",
       "      <th></th>\n",
       "      <th>user_id</th>\n",
       "      <th>age</th>\n",
       "      <th>churn_date</th>\n",
       "      <th>city</th>\n",
       "      <th>first_name</th>\n",
       "      <th>last_name</th>\n",
       "      <th>reg_date</th>\n",
       "      <th>tariff</th>\n",
       "    </tr>\n",
       "  </thead>\n",
       "  <tbody>\n",
       "    <tr>\n",
       "      <th>0</th>\n",
       "      <td>1000</td>\n",
       "      <td>52</td>\n",
       "      <td>NaN</td>\n",
       "      <td>Краснодар</td>\n",
       "      <td>Рафаил</td>\n",
       "      <td>Верещагин</td>\n",
       "      <td>2018-05-25</td>\n",
       "      <td>ultra</td>\n",
       "    </tr>\n",
       "    <tr>\n",
       "      <th>1</th>\n",
       "      <td>1001</td>\n",
       "      <td>41</td>\n",
       "      <td>NaN</td>\n",
       "      <td>Москва</td>\n",
       "      <td>Иван</td>\n",
       "      <td>Ежов</td>\n",
       "      <td>2018-11-01</td>\n",
       "      <td>smart</td>\n",
       "    </tr>\n",
       "    <tr>\n",
       "      <th>2</th>\n",
       "      <td>1002</td>\n",
       "      <td>59</td>\n",
       "      <td>NaN</td>\n",
       "      <td>Стерлитамак</td>\n",
       "      <td>Евгений</td>\n",
       "      <td>Абрамович</td>\n",
       "      <td>2018-06-17</td>\n",
       "      <td>smart</td>\n",
       "    </tr>\n",
       "    <tr>\n",
       "      <th>3</th>\n",
       "      <td>1003</td>\n",
       "      <td>23</td>\n",
       "      <td>NaN</td>\n",
       "      <td>Москва</td>\n",
       "      <td>Белла</td>\n",
       "      <td>Белякова</td>\n",
       "      <td>2018-08-17</td>\n",
       "      <td>ultra</td>\n",
       "    </tr>\n",
       "    <tr>\n",
       "      <th>4</th>\n",
       "      <td>1004</td>\n",
       "      <td>68</td>\n",
       "      <td>NaN</td>\n",
       "      <td>Новокузнецк</td>\n",
       "      <td>Татьяна</td>\n",
       "      <td>Авдеенко</td>\n",
       "      <td>2018-05-14</td>\n",
       "      <td>ultra</td>\n",
       "    </tr>\n",
       "    <tr>\n",
       "      <th>...</th>\n",
       "      <td>...</td>\n",
       "      <td>...</td>\n",
       "      <td>...</td>\n",
       "      <td>...</td>\n",
       "      <td>...</td>\n",
       "      <td>...</td>\n",
       "      <td>...</td>\n",
       "      <td>...</td>\n",
       "    </tr>\n",
       "    <tr>\n",
       "      <th>495</th>\n",
       "      <td>1495</td>\n",
       "      <td>65</td>\n",
       "      <td>NaN</td>\n",
       "      <td>Иркутск</td>\n",
       "      <td>Авксентий</td>\n",
       "      <td>Фокин</td>\n",
       "      <td>2018-08-28</td>\n",
       "      <td>ultra</td>\n",
       "    </tr>\n",
       "    <tr>\n",
       "      <th>496</th>\n",
       "      <td>1496</td>\n",
       "      <td>36</td>\n",
       "      <td>NaN</td>\n",
       "      <td>Вологда</td>\n",
       "      <td>Трифон</td>\n",
       "      <td>Блохин</td>\n",
       "      <td>2018-01-27</td>\n",
       "      <td>smart</td>\n",
       "    </tr>\n",
       "    <tr>\n",
       "      <th>497</th>\n",
       "      <td>1497</td>\n",
       "      <td>32</td>\n",
       "      <td>NaN</td>\n",
       "      <td>Челябинск</td>\n",
       "      <td>Каролина</td>\n",
       "      <td>Агеева</td>\n",
       "      <td>2018-10-09</td>\n",
       "      <td>smart</td>\n",
       "    </tr>\n",
       "    <tr>\n",
       "      <th>498</th>\n",
       "      <td>1498</td>\n",
       "      <td>68</td>\n",
       "      <td>2018-10-25</td>\n",
       "      <td>Владикавказ</td>\n",
       "      <td>Всеволод</td>\n",
       "      <td>Акимчин</td>\n",
       "      <td>2018-07-19</td>\n",
       "      <td>smart</td>\n",
       "    </tr>\n",
       "    <tr>\n",
       "      <th>499</th>\n",
       "      <td>1499</td>\n",
       "      <td>35</td>\n",
       "      <td>NaN</td>\n",
       "      <td>Пермь</td>\n",
       "      <td>Гектор</td>\n",
       "      <td>Корнилов</td>\n",
       "      <td>2018-09-27</td>\n",
       "      <td>smart</td>\n",
       "    </tr>\n",
       "  </tbody>\n",
       "</table>\n",
       "<p>500 rows × 8 columns</p>\n",
       "</div>"
      ],
      "text/plain": [
       "     user_id  age  churn_date         city first_name  last_name    reg_date  \\\n",
       "0       1000   52         NaN    Краснодар     Рафаил  Верещагин  2018-05-25   \n",
       "1       1001   41         NaN       Москва       Иван       Ежов  2018-11-01   \n",
       "2       1002   59         NaN  Стерлитамак    Евгений  Абрамович  2018-06-17   \n",
       "3       1003   23         NaN       Москва      Белла   Белякова  2018-08-17   \n",
       "4       1004   68         NaN  Новокузнецк    Татьяна   Авдеенко  2018-05-14   \n",
       "..       ...  ...         ...          ...        ...        ...         ...   \n",
       "495     1495   65         NaN      Иркутск  Авксентий      Фокин  2018-08-28   \n",
       "496     1496   36         NaN      Вологда     Трифон     Блохин  2018-01-27   \n",
       "497     1497   32         NaN    Челябинск   Каролина     Агеева  2018-10-09   \n",
       "498     1498   68  2018-10-25  Владикавказ   Всеволод    Акимчин  2018-07-19   \n",
       "499     1499   35         NaN        Пермь     Гектор   Корнилов  2018-09-27   \n",
       "\n",
       "    tariff  \n",
       "0    ultra  \n",
       "1    smart  \n",
       "2    smart  \n",
       "3    ultra  \n",
       "4    ultra  \n",
       "..     ...  \n",
       "495  ultra  \n",
       "496  smart  \n",
       "497  smart  \n",
       "498  smart  \n",
       "499  smart  \n",
       "\n",
       "[500 rows x 8 columns]"
      ]
     },
     "execution_count": 3,
     "metadata": {},
     "output_type": "execute_result"
    }
   ],
   "source": [
    "users"
   ]
  },
  {
   "cell_type": "code",
   "execution_count": 4,
   "id": "4abf1526",
   "metadata": {
    "scrolled": true
   },
   "outputs": [
    {
     "name": "stdout",
     "output_type": "stream",
     "text": [
      "<class 'pandas.core.frame.DataFrame'>\n",
      "RangeIndex: 500 entries, 0 to 499\n",
      "Data columns (total 8 columns):\n",
      " #   Column      Non-Null Count  Dtype \n",
      "---  ------      --------------  ----- \n",
      " 0   user_id     500 non-null    int64 \n",
      " 1   age         500 non-null    int64 \n",
      " 2   churn_date  38 non-null     object\n",
      " 3   city        500 non-null    object\n",
      " 4   first_name  500 non-null    object\n",
      " 5   last_name   500 non-null    object\n",
      " 6   reg_date    500 non-null    object\n",
      " 7   tariff      500 non-null    object\n",
      "dtypes: int64(2), object(6)\n",
      "memory usage: 31.4+ KB\n"
     ]
    }
   ],
   "source": [
    "users.info()"
   ]
  },
  {
   "cell_type": "code",
   "execution_count": 5,
   "id": "48201836",
   "metadata": {
    "scrolled": true
   },
   "outputs": [
    {
     "data": {
      "text/plain": [
       "0"
      ]
     },
     "execution_count": 5,
     "metadata": {},
     "output_type": "execute_result"
    }
   ],
   "source": [
    "users.duplicated().sum() "
   ]
  },
  {
   "cell_type": "code",
   "execution_count": 6,
   "id": "8aab2bdc",
   "metadata": {
    "scrolled": false
   },
   "outputs": [
    {
     "data": {
      "text/html": [
       "<div>\n",
       "<style scoped>\n",
       "    .dataframe tbody tr th:only-of-type {\n",
       "        vertical-align: middle;\n",
       "    }\n",
       "\n",
       "    .dataframe tbody tr th {\n",
       "        vertical-align: top;\n",
       "    }\n",
       "\n",
       "    .dataframe thead th {\n",
       "        text-align: right;\n",
       "    }\n",
       "</style>\n",
       "<table border=\"1\" class=\"dataframe\">\n",
       "  <thead>\n",
       "    <tr style=\"text-align: right;\">\n",
       "      <th></th>\n",
       "      <th>id</th>\n",
       "      <th>call_date</th>\n",
       "      <th>duration</th>\n",
       "      <th>user_id</th>\n",
       "    </tr>\n",
       "  </thead>\n",
       "  <tbody>\n",
       "    <tr>\n",
       "      <th>0</th>\n",
       "      <td>1000_0</td>\n",
       "      <td>2018-07-25</td>\n",
       "      <td>0.00</td>\n",
       "      <td>1000</td>\n",
       "    </tr>\n",
       "    <tr>\n",
       "      <th>1</th>\n",
       "      <td>1000_1</td>\n",
       "      <td>2018-08-17</td>\n",
       "      <td>0.00</td>\n",
       "      <td>1000</td>\n",
       "    </tr>\n",
       "    <tr>\n",
       "      <th>2</th>\n",
       "      <td>1000_2</td>\n",
       "      <td>2018-06-11</td>\n",
       "      <td>2.85</td>\n",
       "      <td>1000</td>\n",
       "    </tr>\n",
       "    <tr>\n",
       "      <th>3</th>\n",
       "      <td>1000_3</td>\n",
       "      <td>2018-09-21</td>\n",
       "      <td>13.80</td>\n",
       "      <td>1000</td>\n",
       "    </tr>\n",
       "    <tr>\n",
       "      <th>4</th>\n",
       "      <td>1000_4</td>\n",
       "      <td>2018-12-15</td>\n",
       "      <td>5.18</td>\n",
       "      <td>1000</td>\n",
       "    </tr>\n",
       "    <tr>\n",
       "      <th>...</th>\n",
       "      <td>...</td>\n",
       "      <td>...</td>\n",
       "      <td>...</td>\n",
       "      <td>...</td>\n",
       "    </tr>\n",
       "    <tr>\n",
       "      <th>202602</th>\n",
       "      <td>1499_215</td>\n",
       "      <td>2018-12-26</td>\n",
       "      <td>0.76</td>\n",
       "      <td>1499</td>\n",
       "    </tr>\n",
       "    <tr>\n",
       "      <th>202603</th>\n",
       "      <td>1499_216</td>\n",
       "      <td>2018-10-18</td>\n",
       "      <td>18.83</td>\n",
       "      <td>1499</td>\n",
       "    </tr>\n",
       "    <tr>\n",
       "      <th>202604</th>\n",
       "      <td>1499_217</td>\n",
       "      <td>2018-11-10</td>\n",
       "      <td>10.81</td>\n",
       "      <td>1499</td>\n",
       "    </tr>\n",
       "    <tr>\n",
       "      <th>202605</th>\n",
       "      <td>1499_218</td>\n",
       "      <td>2018-10-06</td>\n",
       "      <td>4.27</td>\n",
       "      <td>1499</td>\n",
       "    </tr>\n",
       "    <tr>\n",
       "      <th>202606</th>\n",
       "      <td>1499_219</td>\n",
       "      <td>2018-12-14</td>\n",
       "      <td>19.62</td>\n",
       "      <td>1499</td>\n",
       "    </tr>\n",
       "  </tbody>\n",
       "</table>\n",
       "<p>202607 rows × 4 columns</p>\n",
       "</div>"
      ],
      "text/plain": [
       "              id   call_date  duration  user_id\n",
       "0         1000_0  2018-07-25      0.00     1000\n",
       "1         1000_1  2018-08-17      0.00     1000\n",
       "2         1000_2  2018-06-11      2.85     1000\n",
       "3         1000_3  2018-09-21     13.80     1000\n",
       "4         1000_4  2018-12-15      5.18     1000\n",
       "...          ...         ...       ...      ...\n",
       "202602  1499_215  2018-12-26      0.76     1499\n",
       "202603  1499_216  2018-10-18     18.83     1499\n",
       "202604  1499_217  2018-11-10     10.81     1499\n",
       "202605  1499_218  2018-10-06      4.27     1499\n",
       "202606  1499_219  2018-12-14     19.62     1499\n",
       "\n",
       "[202607 rows x 4 columns]"
      ]
     },
     "execution_count": 6,
     "metadata": {},
     "output_type": "execute_result"
    }
   ],
   "source": [
    "calls"
   ]
  },
  {
   "cell_type": "code",
   "execution_count": 7,
   "id": "9580c4e5",
   "metadata": {
    "scrolled": false
   },
   "outputs": [
    {
     "name": "stdout",
     "output_type": "stream",
     "text": [
      "<class 'pandas.core.frame.DataFrame'>\n",
      "RangeIndex: 202607 entries, 0 to 202606\n",
      "Data columns (total 4 columns):\n",
      " #   Column     Non-Null Count   Dtype  \n",
      "---  ------     --------------   -----  \n",
      " 0   id         202607 non-null  object \n",
      " 1   call_date  202607 non-null  object \n",
      " 2   duration   202607 non-null  float64\n",
      " 3   user_id    202607 non-null  int64  \n",
      "dtypes: float64(1), int64(1), object(2)\n",
      "memory usage: 6.2+ MB\n"
     ]
    }
   ],
   "source": [
    "calls.info()"
   ]
  },
  {
   "cell_type": "code",
   "execution_count": 8,
   "id": "82b71e46",
   "metadata": {
    "scrolled": true
   },
   "outputs": [
    {
     "data": {
      "text/plain": [
       "0"
      ]
     },
     "execution_count": 8,
     "metadata": {},
     "output_type": "execute_result"
    }
   ],
   "source": [
    "calls.duplicated().sum()"
   ]
  },
  {
   "cell_type": "code",
   "execution_count": 9,
   "id": "caac765c",
   "metadata": {},
   "outputs": [
    {
     "data": {
      "text/plain": [
       "1368790.0399999998"
      ]
     },
     "execution_count": 9,
     "metadata": {},
     "output_type": "execute_result"
    }
   ],
   "source": [
    "calls['duration'].sum() # понадобится в дальнейшем для сравнения показателей после объединения таблиц"
   ]
  },
  {
   "cell_type": "code",
   "execution_count": 10,
   "id": "5eeff107",
   "metadata": {
    "scrolled": true
   },
   "outputs": [
    {
     "data": {
      "text/html": [
       "<div>\n",
       "<style scoped>\n",
       "    .dataframe tbody tr th:only-of-type {\n",
       "        vertical-align: middle;\n",
       "    }\n",
       "\n",
       "    .dataframe tbody tr th {\n",
       "        vertical-align: top;\n",
       "    }\n",
       "\n",
       "    .dataframe thead th {\n",
       "        text-align: right;\n",
       "    }\n",
       "</style>\n",
       "<table border=\"1\" class=\"dataframe\">\n",
       "  <thead>\n",
       "    <tr style=\"text-align: right;\">\n",
       "      <th></th>\n",
       "      <th>id</th>\n",
       "      <th>mb_used</th>\n",
       "      <th>session_date</th>\n",
       "      <th>user_id</th>\n",
       "    </tr>\n",
       "  </thead>\n",
       "  <tbody>\n",
       "    <tr>\n",
       "      <th>0</th>\n",
       "      <td>1000_0</td>\n",
       "      <td>112.95</td>\n",
       "      <td>2018-11-25</td>\n",
       "      <td>1000</td>\n",
       "    </tr>\n",
       "    <tr>\n",
       "      <th>1</th>\n",
       "      <td>1000_1</td>\n",
       "      <td>1052.81</td>\n",
       "      <td>2018-09-07</td>\n",
       "      <td>1000</td>\n",
       "    </tr>\n",
       "    <tr>\n",
       "      <th>2</th>\n",
       "      <td>1000_2</td>\n",
       "      <td>1197.26</td>\n",
       "      <td>2018-06-25</td>\n",
       "      <td>1000</td>\n",
       "    </tr>\n",
       "    <tr>\n",
       "      <th>3</th>\n",
       "      <td>1000_3</td>\n",
       "      <td>550.27</td>\n",
       "      <td>2018-08-22</td>\n",
       "      <td>1000</td>\n",
       "    </tr>\n",
       "    <tr>\n",
       "      <th>4</th>\n",
       "      <td>1000_4</td>\n",
       "      <td>302.56</td>\n",
       "      <td>2018-09-24</td>\n",
       "      <td>1000</td>\n",
       "    </tr>\n",
       "    <tr>\n",
       "      <th>...</th>\n",
       "      <td>...</td>\n",
       "      <td>...</td>\n",
       "      <td>...</td>\n",
       "      <td>...</td>\n",
       "    </tr>\n",
       "    <tr>\n",
       "      <th>149391</th>\n",
       "      <td>1499_152</td>\n",
       "      <td>318.90</td>\n",
       "      <td>2018-10-03</td>\n",
       "      <td>1499</td>\n",
       "    </tr>\n",
       "    <tr>\n",
       "      <th>149392</th>\n",
       "      <td>1499_153</td>\n",
       "      <td>490.13</td>\n",
       "      <td>2018-12-14</td>\n",
       "      <td>1499</td>\n",
       "    </tr>\n",
       "    <tr>\n",
       "      <th>149393</th>\n",
       "      <td>1499_154</td>\n",
       "      <td>0.00</td>\n",
       "      <td>2018-10-27</td>\n",
       "      <td>1499</td>\n",
       "    </tr>\n",
       "    <tr>\n",
       "      <th>149394</th>\n",
       "      <td>1499_155</td>\n",
       "      <td>1246.32</td>\n",
       "      <td>2018-11-26</td>\n",
       "      <td>1499</td>\n",
       "    </tr>\n",
       "    <tr>\n",
       "      <th>149395</th>\n",
       "      <td>1499_156</td>\n",
       "      <td>544.37</td>\n",
       "      <td>2018-10-26</td>\n",
       "      <td>1499</td>\n",
       "    </tr>\n",
       "  </tbody>\n",
       "</table>\n",
       "<p>149396 rows × 4 columns</p>\n",
       "</div>"
      ],
      "text/plain": [
       "              id  mb_used session_date  user_id\n",
       "0         1000_0   112.95   2018-11-25     1000\n",
       "1         1000_1  1052.81   2018-09-07     1000\n",
       "2         1000_2  1197.26   2018-06-25     1000\n",
       "3         1000_3   550.27   2018-08-22     1000\n",
       "4         1000_4   302.56   2018-09-24     1000\n",
       "...          ...      ...          ...      ...\n",
       "149391  1499_152   318.90   2018-10-03     1499\n",
       "149392  1499_153   490.13   2018-12-14     1499\n",
       "149393  1499_154     0.00   2018-10-27     1499\n",
       "149394  1499_155  1246.32   2018-11-26     1499\n",
       "149395  1499_156   544.37   2018-10-26     1499\n",
       "\n",
       "[149396 rows x 4 columns]"
      ]
     },
     "execution_count": 10,
     "metadata": {},
     "output_type": "execute_result"
    }
   ],
   "source": [
    "internet"
   ]
  },
  {
   "cell_type": "code",
   "execution_count": 11,
   "id": "fe18e2b4",
   "metadata": {
    "scrolled": true
   },
   "outputs": [
    {
     "name": "stdout",
     "output_type": "stream",
     "text": [
      "<class 'pandas.core.frame.DataFrame'>\n",
      "Int64Index: 149396 entries, 0 to 149395\n",
      "Data columns (total 4 columns):\n",
      " #   Column        Non-Null Count   Dtype  \n",
      "---  ------        --------------   -----  \n",
      " 0   id            149396 non-null  object \n",
      " 1   mb_used       149396 non-null  float64\n",
      " 2   session_date  149396 non-null  object \n",
      " 3   user_id       149396 non-null  int64  \n",
      "dtypes: float64(1), int64(1), object(2)\n",
      "memory usage: 5.7+ MB\n"
     ]
    }
   ],
   "source": [
    "internet.info()"
   ]
  },
  {
   "cell_type": "code",
   "execution_count": 12,
   "id": "d2012268",
   "metadata": {
    "scrolled": true
   },
   "outputs": [
    {
     "data": {
      "text/plain": [
       "0"
      ]
     },
     "execution_count": 12,
     "metadata": {},
     "output_type": "execute_result"
    }
   ],
   "source": [
    "internet.duplicated().sum()"
   ]
  },
  {
   "cell_type": "code",
   "execution_count": 13,
   "id": "7e280b78",
   "metadata": {
    "scrolled": true
   },
   "outputs": [
    {
     "data": {
      "text/plain": [
       "55305267.73"
      ]
     },
     "execution_count": 13,
     "metadata": {},
     "output_type": "execute_result"
    }
   ],
   "source": [
    "internet['mb_used'].sum() # понадобится в дальнейшем для сравнения показателей после объединения таблиц"
   ]
  },
  {
   "cell_type": "code",
   "execution_count": 14,
   "id": "b5c347fd",
   "metadata": {
    "scrolled": false
   },
   "outputs": [
    {
     "data": {
      "text/html": [
       "<div>\n",
       "<style scoped>\n",
       "    .dataframe tbody tr th:only-of-type {\n",
       "        vertical-align: middle;\n",
       "    }\n",
       "\n",
       "    .dataframe tbody tr th {\n",
       "        vertical-align: top;\n",
       "    }\n",
       "\n",
       "    .dataframe thead th {\n",
       "        text-align: right;\n",
       "    }\n",
       "</style>\n",
       "<table border=\"1\" class=\"dataframe\">\n",
       "  <thead>\n",
       "    <tr style=\"text-align: right;\">\n",
       "      <th></th>\n",
       "      <th>id</th>\n",
       "      <th>message_date</th>\n",
       "      <th>user_id</th>\n",
       "    </tr>\n",
       "  </thead>\n",
       "  <tbody>\n",
       "    <tr>\n",
       "      <th>0</th>\n",
       "      <td>1000_0</td>\n",
       "      <td>2018-06-27</td>\n",
       "      <td>1000</td>\n",
       "    </tr>\n",
       "    <tr>\n",
       "      <th>1</th>\n",
       "      <td>1000_1</td>\n",
       "      <td>2018-10-08</td>\n",
       "      <td>1000</td>\n",
       "    </tr>\n",
       "    <tr>\n",
       "      <th>2</th>\n",
       "      <td>1000_2</td>\n",
       "      <td>2018-08-04</td>\n",
       "      <td>1000</td>\n",
       "    </tr>\n",
       "    <tr>\n",
       "      <th>3</th>\n",
       "      <td>1000_3</td>\n",
       "      <td>2018-06-16</td>\n",
       "      <td>1000</td>\n",
       "    </tr>\n",
       "    <tr>\n",
       "      <th>4</th>\n",
       "      <td>1000_4</td>\n",
       "      <td>2018-12-05</td>\n",
       "      <td>1000</td>\n",
       "    </tr>\n",
       "    <tr>\n",
       "      <th>...</th>\n",
       "      <td>...</td>\n",
       "      <td>...</td>\n",
       "      <td>...</td>\n",
       "    </tr>\n",
       "    <tr>\n",
       "      <th>123031</th>\n",
       "      <td>1499_179</td>\n",
       "      <td>2018-12-12</td>\n",
       "      <td>1499</td>\n",
       "    </tr>\n",
       "    <tr>\n",
       "      <th>123032</th>\n",
       "      <td>1499_180</td>\n",
       "      <td>2018-09-28</td>\n",
       "      <td>1499</td>\n",
       "    </tr>\n",
       "    <tr>\n",
       "      <th>123033</th>\n",
       "      <td>1499_181</td>\n",
       "      <td>2018-09-27</td>\n",
       "      <td>1499</td>\n",
       "    </tr>\n",
       "    <tr>\n",
       "      <th>123034</th>\n",
       "      <td>1499_182</td>\n",
       "      <td>2018-11-15</td>\n",
       "      <td>1499</td>\n",
       "    </tr>\n",
       "    <tr>\n",
       "      <th>123035</th>\n",
       "      <td>1499_183</td>\n",
       "      <td>2018-11-16</td>\n",
       "      <td>1499</td>\n",
       "    </tr>\n",
       "  </tbody>\n",
       "</table>\n",
       "<p>123036 rows × 3 columns</p>\n",
       "</div>"
      ],
      "text/plain": [
       "              id message_date  user_id\n",
       "0         1000_0   2018-06-27     1000\n",
       "1         1000_1   2018-10-08     1000\n",
       "2         1000_2   2018-08-04     1000\n",
       "3         1000_3   2018-06-16     1000\n",
       "4         1000_4   2018-12-05     1000\n",
       "...          ...          ...      ...\n",
       "123031  1499_179   2018-12-12     1499\n",
       "123032  1499_180   2018-09-28     1499\n",
       "123033  1499_181   2018-09-27     1499\n",
       "123034  1499_182   2018-11-15     1499\n",
       "123035  1499_183   2018-11-16     1499\n",
       "\n",
       "[123036 rows x 3 columns]"
      ]
     },
     "execution_count": 14,
     "metadata": {},
     "output_type": "execute_result"
    }
   ],
   "source": [
    "messages"
   ]
  },
  {
   "cell_type": "code",
   "execution_count": 15,
   "id": "2187c499",
   "metadata": {
    "scrolled": false
   },
   "outputs": [
    {
     "name": "stdout",
     "output_type": "stream",
     "text": [
      "<class 'pandas.core.frame.DataFrame'>\n",
      "RangeIndex: 123036 entries, 0 to 123035\n",
      "Data columns (total 3 columns):\n",
      " #   Column        Non-Null Count   Dtype \n",
      "---  ------        --------------   ----- \n",
      " 0   id            123036 non-null  object\n",
      " 1   message_date  123036 non-null  object\n",
      " 2   user_id       123036 non-null  int64 \n",
      "dtypes: int64(1), object(2)\n",
      "memory usage: 2.8+ MB\n"
     ]
    }
   ],
   "source": [
    "messages.info()"
   ]
  },
  {
   "cell_type": "code",
   "execution_count": 16,
   "id": "82b8e459",
   "metadata": {
    "scrolled": false
   },
   "outputs": [
    {
     "data": {
      "text/plain": [
       "0"
      ]
     },
     "execution_count": 16,
     "metadata": {},
     "output_type": "execute_result"
    }
   ],
   "source": [
    "messages.duplicated().sum()"
   ]
  },
  {
   "cell_type": "code",
   "execution_count": 17,
   "id": "cf41ee74",
   "metadata": {},
   "outputs": [
    {
     "data": {
      "text/html": [
       "<div>\n",
       "<style scoped>\n",
       "    .dataframe tbody tr th:only-of-type {\n",
       "        vertical-align: middle;\n",
       "    }\n",
       "\n",
       "    .dataframe tbody tr th {\n",
       "        vertical-align: top;\n",
       "    }\n",
       "\n",
       "    .dataframe thead th {\n",
       "        text-align: right;\n",
       "    }\n",
       "</style>\n",
       "<table border=\"1\" class=\"dataframe\">\n",
       "  <thead>\n",
       "    <tr style=\"text-align: right;\">\n",
       "      <th></th>\n",
       "      <th>messages_included</th>\n",
       "      <th>mb_per_month_included</th>\n",
       "      <th>minutes_included</th>\n",
       "      <th>rub_monthly_fee</th>\n",
       "      <th>rub_per_gb</th>\n",
       "      <th>rub_per_message</th>\n",
       "      <th>rub_per_minute</th>\n",
       "      <th>tariff_name</th>\n",
       "    </tr>\n",
       "  </thead>\n",
       "  <tbody>\n",
       "    <tr>\n",
       "      <th>0</th>\n",
       "      <td>50</td>\n",
       "      <td>15360</td>\n",
       "      <td>500</td>\n",
       "      <td>550</td>\n",
       "      <td>200</td>\n",
       "      <td>3</td>\n",
       "      <td>3</td>\n",
       "      <td>smart</td>\n",
       "    </tr>\n",
       "    <tr>\n",
       "      <th>1</th>\n",
       "      <td>1000</td>\n",
       "      <td>30720</td>\n",
       "      <td>3000</td>\n",
       "      <td>1950</td>\n",
       "      <td>150</td>\n",
       "      <td>1</td>\n",
       "      <td>1</td>\n",
       "      <td>ultra</td>\n",
       "    </tr>\n",
       "  </tbody>\n",
       "</table>\n",
       "</div>"
      ],
      "text/plain": [
       "   messages_included  mb_per_month_included  minutes_included  \\\n",
       "0                 50                  15360               500   \n",
       "1               1000                  30720              3000   \n",
       "\n",
       "   rub_monthly_fee  rub_per_gb  rub_per_message  rub_per_minute tariff_name  \n",
       "0              550         200                3               3       smart  \n",
       "1             1950         150                1               1       ultra  "
      ]
     },
     "execution_count": 17,
     "metadata": {},
     "output_type": "execute_result"
    }
   ],
   "source": [
    "tariffs"
   ]
  },
  {
   "cell_type": "code",
   "execution_count": 18,
   "id": "8a88c24d",
   "metadata": {},
   "outputs": [
    {
     "name": "stdout",
     "output_type": "stream",
     "text": [
      "<class 'pandas.core.frame.DataFrame'>\n",
      "RangeIndex: 2 entries, 0 to 1\n",
      "Data columns (total 8 columns):\n",
      " #   Column                 Non-Null Count  Dtype \n",
      "---  ------                 --------------  ----- \n",
      " 0   messages_included      2 non-null      int64 \n",
      " 1   mb_per_month_included  2 non-null      int64 \n",
      " 2   minutes_included       2 non-null      int64 \n",
      " 3   rub_monthly_fee        2 non-null      int64 \n",
      " 4   rub_per_gb             2 non-null      int64 \n",
      " 5   rub_per_message        2 non-null      int64 \n",
      " 6   rub_per_minute         2 non-null      int64 \n",
      " 7   tariff_name            2 non-null      object\n",
      "dtypes: int64(7), object(1)\n",
      "memory usage: 256.0+ bytes\n"
     ]
    }
   ],
   "source": [
    "tariffs.info()"
   ]
  },
  {
   "cell_type": "markdown",
   "id": "45f6fa8b",
   "metadata": {},
   "source": [
    "### Выводы\n",
    "\n",
    "* Итак, во всех таблицах кроме `users` отсутствуют пропуски. Пропуски в `users` находятся в столбце `churn_date` - дата прекращения пользования тарифом, что означает, что тариф действующий на момент выгрузки данных.\n",
    "* В таблицах встречаются следующие типа данных: `int64`, `float64`, `object`.\n",
    "* Необходимы преобразования типа данных в некоторых столбцах.\n",
    "* Данные довольно чистые, понадобится незначительная предобработка данных."
   ]
  },
  {
   "cell_type": "markdown",
   "id": "1a067da2",
   "metadata": {},
   "source": [
    "## Предобработка данных\n",
    "\n",
    "### Заменим тип данных на `datetime` в интересующих нас столбцах."
   ]
  },
  {
   "cell_type": "code",
   "execution_count": 19,
   "id": "c954599f",
   "metadata": {},
   "outputs": [],
   "source": [
    "keys_datetime = {'reg_date':users,'churn_date':users, 'message_date':messages, 'session_date':internet, 'call_date':calls}\n",
    "\n",
    "for column, frame in keys_datetime.items():\n",
    "    frame[column] = pd.to_datetime(frame[column],format = '%Y-%m-%d')"
   ]
  },
  {
   "cell_type": "markdown",
   "id": "c2d6ec3f",
   "metadata": {},
   "source": [
    "### Округлим значения по условиям.\n",
    "**Согласно условиям проекта** \n",
    "* «Мегалайн» всегда округляет секунды до минут, а мегабайты — до гигабайт. Каждый звонок округляется отдельно: даже если он длился всего 1 секунду, будет засчитан как 1 минута.\n",
    "* Для веб-трафика отдельные сессии не считаются. Вместо этого общая сумма за месяц округляется в бо́льшую сторону. Если абонент использует 1025 мегабайт в этом месяце, с него возьмут плату за 2 гигабайта. Неиспользованные за предыдущий месяц звонки, смс, интернет на следующий месяц не переносятся."
   ]
  },
  {
   "cell_type": "markdown",
   "id": "9826ad7e",
   "metadata": {},
   "source": [
    "Посмотрим основные статистические характеристики данных по столбцу `duration`."
   ]
  },
  {
   "cell_type": "code",
   "execution_count": 20,
   "id": "b1b2d1ca",
   "metadata": {
    "scrolled": false
   },
   "outputs": [
    {
     "data": {
      "text/plain": [
       "count    202607.000000\n",
       "mean          6.755887\n",
       "std           5.843365\n",
       "min           0.000000\n",
       "25%           1.300000\n",
       "50%           6.000000\n",
       "75%          10.700000\n",
       "max          38.000000\n",
       "Name: duration, dtype: float64"
      ]
     },
     "execution_count": 20,
     "metadata": {},
     "output_type": "execute_result"
    }
   ],
   "source": [
    "calls['duration'].describe()"
   ]
  },
  {
   "cell_type": "markdown",
   "id": "21b93a76",
   "metadata": {},
   "source": [
    "Округлим значения до целых чисел и изменим тип на int8"
   ]
  },
  {
   "cell_type": "code",
   "execution_count": 21,
   "id": "dbc54518",
   "metadata": {},
   "outputs": [],
   "source": [
    "calls['duration'] = np.ceil(calls['duration']).astype('int8')"
   ]
  },
  {
   "cell_type": "code",
   "execution_count": 22,
   "id": "6fed3d7b",
   "metadata": {},
   "outputs": [
    {
     "data": {
      "text/html": [
       "<div>\n",
       "<style scoped>\n",
       "    .dataframe tbody tr th:only-of-type {\n",
       "        vertical-align: middle;\n",
       "    }\n",
       "\n",
       "    .dataframe tbody tr th {\n",
       "        vertical-align: top;\n",
       "    }\n",
       "\n",
       "    .dataframe thead th {\n",
       "        text-align: right;\n",
       "    }\n",
       "</style>\n",
       "<table border=\"1\" class=\"dataframe\">\n",
       "  <thead>\n",
       "    <tr style=\"text-align: right;\">\n",
       "      <th></th>\n",
       "      <th>id</th>\n",
       "      <th>call_date</th>\n",
       "      <th>duration</th>\n",
       "      <th>user_id</th>\n",
       "    </tr>\n",
       "  </thead>\n",
       "  <tbody>\n",
       "    <tr>\n",
       "      <th>0</th>\n",
       "      <td>1000_0</td>\n",
       "      <td>2018-07-25</td>\n",
       "      <td>0</td>\n",
       "      <td>1000</td>\n",
       "    </tr>\n",
       "    <tr>\n",
       "      <th>1</th>\n",
       "      <td>1000_1</td>\n",
       "      <td>2018-08-17</td>\n",
       "      <td>0</td>\n",
       "      <td>1000</td>\n",
       "    </tr>\n",
       "    <tr>\n",
       "      <th>2</th>\n",
       "      <td>1000_2</td>\n",
       "      <td>2018-06-11</td>\n",
       "      <td>3</td>\n",
       "      <td>1000</td>\n",
       "    </tr>\n",
       "    <tr>\n",
       "      <th>3</th>\n",
       "      <td>1000_3</td>\n",
       "      <td>2018-09-21</td>\n",
       "      <td>14</td>\n",
       "      <td>1000</td>\n",
       "    </tr>\n",
       "    <tr>\n",
       "      <th>4</th>\n",
       "      <td>1000_4</td>\n",
       "      <td>2018-12-15</td>\n",
       "      <td>6</td>\n",
       "      <td>1000</td>\n",
       "    </tr>\n",
       "  </tbody>\n",
       "</table>\n",
       "</div>"
      ],
      "text/plain": [
       "       id  call_date  duration  user_id\n",
       "0  1000_0 2018-07-25         0     1000\n",
       "1  1000_1 2018-08-17         0     1000\n",
       "2  1000_2 2018-06-11         3     1000\n",
       "3  1000_3 2018-09-21        14     1000\n",
       "4  1000_4 2018-12-15         6     1000"
      ]
     },
     "execution_count": 22,
     "metadata": {},
     "output_type": "execute_result"
    }
   ],
   "source": [
    "calls.head()"
   ]
  },
  {
   "cell_type": "code",
   "execution_count": 23,
   "id": "bff223cd",
   "metadata": {},
   "outputs": [
    {
     "data": {
      "text/plain": [
       "1450301"
      ]
     },
     "execution_count": 23,
     "metadata": {},
     "output_type": "execute_result"
    }
   ],
   "source": [
    "calls['duration'].sum() # понадобится в дальнейшем для сравнения показателей после объединения таблиц"
   ]
  },
  {
   "cell_type": "code",
   "execution_count": 24,
   "id": "a26500a2",
   "metadata": {},
   "outputs": [
    {
     "name": "stdout",
     "output_type": "stream",
     "text": [
      "<class 'pandas.core.frame.DataFrame'>\n",
      "RangeIndex: 202607 entries, 0 to 202606\n",
      "Data columns (total 4 columns):\n",
      " #   Column     Non-Null Count   Dtype         \n",
      "---  ------     --------------   -----         \n",
      " 0   id         202607 non-null  object        \n",
      " 1   call_date  202607 non-null  datetime64[ns]\n",
      " 2   duration   202607 non-null  int8          \n",
      " 3   user_id    202607 non-null  int64         \n",
      "dtypes: datetime64[ns](1), int64(1), int8(1), object(1)\n",
      "memory usage: 4.8+ MB\n"
     ]
    }
   ],
   "source": [
    "calls.info()"
   ]
  },
  {
   "cell_type": "markdown",
   "id": "ee1ffa2d",
   "metadata": {},
   "source": [
    "Данные округлены, `float64` заменены на `int8`.\n",
    "\n",
    "### Добавим в соответствующие таблицы столбцы со значением месяца."
   ]
  },
  {
   "cell_type": "code",
   "execution_count": 25,
   "id": "cf6eab78",
   "metadata": {},
   "outputs": [],
   "source": [
    "calls['month'] = calls['call_date'].astype('datetime64[M]')\n",
    "internet['month'] = internet['session_date'].astype('datetime64[M]')\n",
    "messages['month'] = messages['message_date'].astype('datetime64[M]')"
   ]
  },
  {
   "cell_type": "code",
   "execution_count": 26,
   "id": "856ec16e",
   "metadata": {
    "scrolled": false
   },
   "outputs": [
    {
     "data": {
      "text/html": [
       "<div>\n",
       "<style scoped>\n",
       "    .dataframe tbody tr th:only-of-type {\n",
       "        vertical-align: middle;\n",
       "    }\n",
       "\n",
       "    .dataframe tbody tr th {\n",
       "        vertical-align: top;\n",
       "    }\n",
       "\n",
       "    .dataframe thead th {\n",
       "        text-align: right;\n",
       "    }\n",
       "</style>\n",
       "<table border=\"1\" class=\"dataframe\">\n",
       "  <thead>\n",
       "    <tr style=\"text-align: right;\">\n",
       "      <th></th>\n",
       "      <th>id</th>\n",
       "      <th>call_date</th>\n",
       "      <th>duration</th>\n",
       "      <th>user_id</th>\n",
       "      <th>month</th>\n",
       "    </tr>\n",
       "  </thead>\n",
       "  <tbody>\n",
       "    <tr>\n",
       "      <th>0</th>\n",
       "      <td>1000_0</td>\n",
       "      <td>2018-07-25</td>\n",
       "      <td>0</td>\n",
       "      <td>1000</td>\n",
       "      <td>2018-07-01</td>\n",
       "    </tr>\n",
       "    <tr>\n",
       "      <th>1</th>\n",
       "      <td>1000_1</td>\n",
       "      <td>2018-08-17</td>\n",
       "      <td>0</td>\n",
       "      <td>1000</td>\n",
       "      <td>2018-08-01</td>\n",
       "    </tr>\n",
       "    <tr>\n",
       "      <th>2</th>\n",
       "      <td>1000_2</td>\n",
       "      <td>2018-06-11</td>\n",
       "      <td>3</td>\n",
       "      <td>1000</td>\n",
       "      <td>2018-06-01</td>\n",
       "    </tr>\n",
       "    <tr>\n",
       "      <th>3</th>\n",
       "      <td>1000_3</td>\n",
       "      <td>2018-09-21</td>\n",
       "      <td>14</td>\n",
       "      <td>1000</td>\n",
       "      <td>2018-09-01</td>\n",
       "    </tr>\n",
       "    <tr>\n",
       "      <th>4</th>\n",
       "      <td>1000_4</td>\n",
       "      <td>2018-12-15</td>\n",
       "      <td>6</td>\n",
       "      <td>1000</td>\n",
       "      <td>2018-12-01</td>\n",
       "    </tr>\n",
       "    <tr>\n",
       "      <th>...</th>\n",
       "      <td>...</td>\n",
       "      <td>...</td>\n",
       "      <td>...</td>\n",
       "      <td>...</td>\n",
       "      <td>...</td>\n",
       "    </tr>\n",
       "    <tr>\n",
       "      <th>202602</th>\n",
       "      <td>1499_215</td>\n",
       "      <td>2018-12-26</td>\n",
       "      <td>1</td>\n",
       "      <td>1499</td>\n",
       "      <td>2018-12-01</td>\n",
       "    </tr>\n",
       "    <tr>\n",
       "      <th>202603</th>\n",
       "      <td>1499_216</td>\n",
       "      <td>2018-10-18</td>\n",
       "      <td>19</td>\n",
       "      <td>1499</td>\n",
       "      <td>2018-10-01</td>\n",
       "    </tr>\n",
       "    <tr>\n",
       "      <th>202604</th>\n",
       "      <td>1499_217</td>\n",
       "      <td>2018-11-10</td>\n",
       "      <td>11</td>\n",
       "      <td>1499</td>\n",
       "      <td>2018-11-01</td>\n",
       "    </tr>\n",
       "    <tr>\n",
       "      <th>202605</th>\n",
       "      <td>1499_218</td>\n",
       "      <td>2018-10-06</td>\n",
       "      <td>5</td>\n",
       "      <td>1499</td>\n",
       "      <td>2018-10-01</td>\n",
       "    </tr>\n",
       "    <tr>\n",
       "      <th>202606</th>\n",
       "      <td>1499_219</td>\n",
       "      <td>2018-12-14</td>\n",
       "      <td>20</td>\n",
       "      <td>1499</td>\n",
       "      <td>2018-12-01</td>\n",
       "    </tr>\n",
       "  </tbody>\n",
       "</table>\n",
       "<p>202607 rows × 5 columns</p>\n",
       "</div>"
      ],
      "text/plain": [
       "              id  call_date  duration  user_id      month\n",
       "0         1000_0 2018-07-25         0     1000 2018-07-01\n",
       "1         1000_1 2018-08-17         0     1000 2018-08-01\n",
       "2         1000_2 2018-06-11         3     1000 2018-06-01\n",
       "3         1000_3 2018-09-21        14     1000 2018-09-01\n",
       "4         1000_4 2018-12-15         6     1000 2018-12-01\n",
       "...          ...        ...       ...      ...        ...\n",
       "202602  1499_215 2018-12-26         1     1499 2018-12-01\n",
       "202603  1499_216 2018-10-18        19     1499 2018-10-01\n",
       "202604  1499_217 2018-11-10        11     1499 2018-11-01\n",
       "202605  1499_218 2018-10-06         5     1499 2018-10-01\n",
       "202606  1499_219 2018-12-14        20     1499 2018-12-01\n",
       "\n",
       "[202607 rows x 5 columns]"
      ]
     },
     "execution_count": 26,
     "metadata": {},
     "output_type": "execute_result"
    }
   ],
   "source": [
    "calls"
   ]
  },
  {
   "cell_type": "markdown",
   "id": "53cb12ee",
   "metadata": {},
   "source": [
    "### Расчет помесячной выручки с каждого пользователя.\n",
    "\n",
    "Создадим сводную таблицу для подсчета количества сделанных звонков и израсходованных минут разговора по месяцам."
   ]
  },
  {
   "cell_type": "code",
   "execution_count": 27,
   "id": "da769a30",
   "metadata": {},
   "outputs": [
    {
     "data": {
      "text/html": [
       "<div>\n",
       "<style scoped>\n",
       "    .dataframe tbody tr th:only-of-type {\n",
       "        vertical-align: middle;\n",
       "    }\n",
       "\n",
       "    .dataframe tbody tr th {\n",
       "        vertical-align: top;\n",
       "    }\n",
       "\n",
       "    .dataframe thead th {\n",
       "        text-align: right;\n",
       "    }\n",
       "</style>\n",
       "<table border=\"1\" class=\"dataframe\">\n",
       "  <thead>\n",
       "    <tr style=\"text-align: right;\">\n",
       "      <th></th>\n",
       "      <th></th>\n",
       "      <th>calls_count</th>\n",
       "      <th>calls_duration_sum</th>\n",
       "    </tr>\n",
       "    <tr>\n",
       "      <th>user_id</th>\n",
       "      <th>month</th>\n",
       "      <th></th>\n",
       "      <th></th>\n",
       "    </tr>\n",
       "  </thead>\n",
       "  <tbody>\n",
       "    <tr>\n",
       "      <th rowspan=\"5\" valign=\"top\">1000</th>\n",
       "      <th>2018-05-01</th>\n",
       "      <td>22</td>\n",
       "      <td>159.0</td>\n",
       "    </tr>\n",
       "    <tr>\n",
       "      <th>2018-06-01</th>\n",
       "      <td>43</td>\n",
       "      <td>172.0</td>\n",
       "    </tr>\n",
       "    <tr>\n",
       "      <th>2018-07-01</th>\n",
       "      <td>47</td>\n",
       "      <td>340.0</td>\n",
       "    </tr>\n",
       "    <tr>\n",
       "      <th>2018-08-01</th>\n",
       "      <td>52</td>\n",
       "      <td>408.0</td>\n",
       "    </tr>\n",
       "    <tr>\n",
       "      <th>2018-09-01</th>\n",
       "      <td>58</td>\n",
       "      <td>466.0</td>\n",
       "    </tr>\n",
       "    <tr>\n",
       "      <th>...</th>\n",
       "      <th>...</th>\n",
       "      <td>...</td>\n",
       "      <td>...</td>\n",
       "    </tr>\n",
       "    <tr>\n",
       "      <th>1498</th>\n",
       "      <th>2018-10-01</th>\n",
       "      <td>41</td>\n",
       "      <td>247.0</td>\n",
       "    </tr>\n",
       "    <tr>\n",
       "      <th rowspan=\"4\" valign=\"top\">1499</th>\n",
       "      <th>2018-09-01</th>\n",
       "      <td>9</td>\n",
       "      <td>70.0</td>\n",
       "    </tr>\n",
       "    <tr>\n",
       "      <th>2018-10-01</th>\n",
       "      <td>68</td>\n",
       "      <td>449.0</td>\n",
       "    </tr>\n",
       "    <tr>\n",
       "      <th>2018-11-01</th>\n",
       "      <td>74</td>\n",
       "      <td>612.0</td>\n",
       "    </tr>\n",
       "    <tr>\n",
       "      <th>2018-12-01</th>\n",
       "      <td>69</td>\n",
       "      <td>492.0</td>\n",
       "    </tr>\n",
       "  </tbody>\n",
       "</table>\n",
       "<p>3174 rows × 2 columns</p>\n",
       "</div>"
      ],
      "text/plain": [
       "                    calls_count  calls_duration_sum\n",
       "user_id month                                      \n",
       "1000    2018-05-01           22               159.0\n",
       "        2018-06-01           43               172.0\n",
       "        2018-07-01           47               340.0\n",
       "        2018-08-01           52               408.0\n",
       "        2018-09-01           58               466.0\n",
       "...                         ...                 ...\n",
       "1498    2018-10-01           41               247.0\n",
       "1499    2018-09-01            9                70.0\n",
       "        2018-10-01           68               449.0\n",
       "        2018-11-01           74               612.0\n",
       "        2018-12-01           69               492.0\n",
       "\n",
       "[3174 rows x 2 columns]"
      ]
     },
     "execution_count": 27,
     "metadata": {},
     "output_type": "execute_result"
    }
   ],
   "source": [
    "calls_month = calls.pivot_table(index=['user_id', 'month'], values='duration', aggfunc=['count', 'sum'])\n",
    "calls_month.columns=['calls_count', 'calls_duration_sum']    \n",
    "calls_month"
   ]
  },
  {
   "cell_type": "markdown",
   "id": "7d5d2c86",
   "metadata": {},
   "source": [
    "Создадим сводную таблицу для подсчета количества отправленных сообщений по месяцам."
   ]
  },
  {
   "cell_type": "code",
   "execution_count": 28,
   "id": "275198a1",
   "metadata": {},
   "outputs": [
    {
     "data": {
      "text/html": [
       "<div>\n",
       "<style scoped>\n",
       "    .dataframe tbody tr th:only-of-type {\n",
       "        vertical-align: middle;\n",
       "    }\n",
       "\n",
       "    .dataframe tbody tr th {\n",
       "        vertical-align: top;\n",
       "    }\n",
       "\n",
       "    .dataframe thead th {\n",
       "        text-align: right;\n",
       "    }\n",
       "</style>\n",
       "<table border=\"1\" class=\"dataframe\">\n",
       "  <thead>\n",
       "    <tr style=\"text-align: right;\">\n",
       "      <th></th>\n",
       "      <th></th>\n",
       "      <th>messages_count</th>\n",
       "    </tr>\n",
       "    <tr>\n",
       "      <th>user_id</th>\n",
       "      <th>month</th>\n",
       "      <th></th>\n",
       "    </tr>\n",
       "  </thead>\n",
       "  <tbody>\n",
       "    <tr>\n",
       "      <th rowspan=\"5\" valign=\"top\">1000</th>\n",
       "      <th>2018-05-01</th>\n",
       "      <td>22</td>\n",
       "    </tr>\n",
       "    <tr>\n",
       "      <th>2018-06-01</th>\n",
       "      <td>60</td>\n",
       "    </tr>\n",
       "    <tr>\n",
       "      <th>2018-07-01</th>\n",
       "      <td>75</td>\n",
       "    </tr>\n",
       "    <tr>\n",
       "      <th>2018-08-01</th>\n",
       "      <td>81</td>\n",
       "    </tr>\n",
       "    <tr>\n",
       "      <th>2018-09-01</th>\n",
       "      <td>57</td>\n",
       "    </tr>\n",
       "    <tr>\n",
       "      <th>...</th>\n",
       "      <th>...</th>\n",
       "      <td>...</td>\n",
       "    </tr>\n",
       "    <tr>\n",
       "      <th>1498</th>\n",
       "      <th>2018-10-01</th>\n",
       "      <td>42</td>\n",
       "    </tr>\n",
       "    <tr>\n",
       "      <th rowspan=\"4\" valign=\"top\">1499</th>\n",
       "      <th>2018-09-01</th>\n",
       "      <td>11</td>\n",
       "    </tr>\n",
       "    <tr>\n",
       "      <th>2018-10-01</th>\n",
       "      <td>48</td>\n",
       "    </tr>\n",
       "    <tr>\n",
       "      <th>2018-11-01</th>\n",
       "      <td>59</td>\n",
       "    </tr>\n",
       "    <tr>\n",
       "      <th>2018-12-01</th>\n",
       "      <td>66</td>\n",
       "    </tr>\n",
       "  </tbody>\n",
       "</table>\n",
       "<p>2717 rows × 1 columns</p>\n",
       "</div>"
      ],
      "text/plain": [
       "                    messages_count\n",
       "user_id month                     \n",
       "1000    2018-05-01              22\n",
       "        2018-06-01              60\n",
       "        2018-07-01              75\n",
       "        2018-08-01              81\n",
       "        2018-09-01              57\n",
       "...                            ...\n",
       "1498    2018-10-01              42\n",
       "1499    2018-09-01              11\n",
       "        2018-10-01              48\n",
       "        2018-11-01              59\n",
       "        2018-12-01              66\n",
       "\n",
       "[2717 rows x 1 columns]"
      ]
     },
     "execution_count": 28,
     "metadata": {},
     "output_type": "execute_result"
    }
   ],
   "source": [
    "messages_month = messages.pivot_table(index=['user_id', 'month'], values='message_date', aggfunc='count')\n",
    "messages_month.columns=['messages_count']\n",
    "messages_month"
   ]
  },
  {
   "cell_type": "markdown",
   "id": "6a250c8f",
   "metadata": {},
   "source": [
    "Создадим сводную таблицу для подсчета объема использованного интернет-трафика по месяцам."
   ]
  },
  {
   "cell_type": "code",
   "execution_count": 29,
   "id": "f03683fc",
   "metadata": {},
   "outputs": [
    {
     "data": {
      "text/html": [
       "<div>\n",
       "<style scoped>\n",
       "    .dataframe tbody tr th:only-of-type {\n",
       "        vertical-align: middle;\n",
       "    }\n",
       "\n",
       "    .dataframe tbody tr th {\n",
       "        vertical-align: top;\n",
       "    }\n",
       "\n",
       "    .dataframe thead th {\n",
       "        text-align: right;\n",
       "    }\n",
       "</style>\n",
       "<table border=\"1\" class=\"dataframe\">\n",
       "  <thead>\n",
       "    <tr style=\"text-align: right;\">\n",
       "      <th></th>\n",
       "      <th></th>\n",
       "      <th>mb_used_sum</th>\n",
       "    </tr>\n",
       "    <tr>\n",
       "      <th>user_id</th>\n",
       "      <th>month</th>\n",
       "      <th></th>\n",
       "    </tr>\n",
       "  </thead>\n",
       "  <tbody>\n",
       "    <tr>\n",
       "      <th rowspan=\"5\" valign=\"top\">1000</th>\n",
       "      <th>2018-05-01</th>\n",
       "      <td>2253.49</td>\n",
       "    </tr>\n",
       "    <tr>\n",
       "      <th>2018-06-01</th>\n",
       "      <td>23233.77</td>\n",
       "    </tr>\n",
       "    <tr>\n",
       "      <th>2018-07-01</th>\n",
       "      <td>14003.64</td>\n",
       "    </tr>\n",
       "    <tr>\n",
       "      <th>2018-08-01</th>\n",
       "      <td>14055.93</td>\n",
       "    </tr>\n",
       "    <tr>\n",
       "      <th>2018-09-01</th>\n",
       "      <td>14568.91</td>\n",
       "    </tr>\n",
       "    <tr>\n",
       "      <th>...</th>\n",
       "      <th>...</th>\n",
       "      <td>...</td>\n",
       "    </tr>\n",
       "    <tr>\n",
       "      <th>1498</th>\n",
       "      <th>2018-10-01</th>\n",
       "      <td>20579.36</td>\n",
       "    </tr>\n",
       "    <tr>\n",
       "      <th rowspan=\"4\" valign=\"top\">1499</th>\n",
       "      <th>2018-09-01</th>\n",
       "      <td>1845.75</td>\n",
       "    </tr>\n",
       "    <tr>\n",
       "      <th>2018-10-01</th>\n",
       "      <td>17788.51</td>\n",
       "    </tr>\n",
       "    <tr>\n",
       "      <th>2018-11-01</th>\n",
       "      <td>17963.31</td>\n",
       "    </tr>\n",
       "    <tr>\n",
       "      <th>2018-12-01</th>\n",
       "      <td>13055.58</td>\n",
       "    </tr>\n",
       "  </tbody>\n",
       "</table>\n",
       "<p>3203 rows × 1 columns</p>\n",
       "</div>"
      ],
      "text/plain": [
       "                    mb_used_sum\n",
       "user_id month                  \n",
       "1000    2018-05-01      2253.49\n",
       "        2018-06-01     23233.77\n",
       "        2018-07-01     14003.64\n",
       "        2018-08-01     14055.93\n",
       "        2018-09-01     14568.91\n",
       "...                         ...\n",
       "1498    2018-10-01     20579.36\n",
       "1499    2018-09-01      1845.75\n",
       "        2018-10-01     17788.51\n",
       "        2018-11-01     17963.31\n",
       "        2018-12-01     13055.58\n",
       "\n",
       "[3203 rows x 1 columns]"
      ]
     },
     "execution_count": 29,
     "metadata": {},
     "output_type": "execute_result"
    }
   ],
   "source": [
    "mb_used_month = internet.pivot_table(index=['user_id', 'month'], values='mb_used', aggfunc='sum')\n",
    "mb_used_month.columns=['mb_used_sum']    \n",
    "mb_used_month"
   ]
  },
  {
   "cell_type": "markdown",
   "id": "d8d25afd",
   "metadata": {},
   "source": [
    "**Создадим сводную таблицу для расчета помесячной выручки с каждого пользователя.**\n",
    "\n",
    "Объединим ранее полученные таблицы."
   ]
  },
  {
   "cell_type": "code",
   "execution_count": 30,
   "id": "d692b417",
   "metadata": {
    "scrolled": false
   },
   "outputs": [
    {
     "data": {
      "text/html": [
       "<div>\n",
       "<style scoped>\n",
       "    .dataframe tbody tr th:only-of-type {\n",
       "        vertical-align: middle;\n",
       "    }\n",
       "\n",
       "    .dataframe tbody tr th {\n",
       "        vertical-align: top;\n",
       "    }\n",
       "\n",
       "    .dataframe thead th {\n",
       "        text-align: right;\n",
       "    }\n",
       "</style>\n",
       "<table border=\"1\" class=\"dataframe\">\n",
       "  <thead>\n",
       "    <tr style=\"text-align: right;\">\n",
       "      <th></th>\n",
       "      <th></th>\n",
       "      <th>calls_count</th>\n",
       "      <th>calls_duration_sum</th>\n",
       "      <th>messages_count</th>\n",
       "      <th>mb_used_sum</th>\n",
       "      <th>gb_used_sum</th>\n",
       "      <th>gb_used_sum_ceil</th>\n",
       "      <th>city</th>\n",
       "      <th>tariff</th>\n",
       "    </tr>\n",
       "    <tr>\n",
       "      <th>user_id</th>\n",
       "      <th>month</th>\n",
       "      <th></th>\n",
       "      <th></th>\n",
       "      <th></th>\n",
       "      <th></th>\n",
       "      <th></th>\n",
       "      <th></th>\n",
       "      <th></th>\n",
       "      <th></th>\n",
       "    </tr>\n",
       "  </thead>\n",
       "  <tbody>\n",
       "    <tr>\n",
       "      <th rowspan=\"5\" valign=\"top\">1000</th>\n",
       "      <th>2018-05-01</th>\n",
       "      <td>22.0</td>\n",
       "      <td>159.0</td>\n",
       "      <td>22.0</td>\n",
       "      <td>2253.49</td>\n",
       "      <td>2.200674</td>\n",
       "      <td>3.0</td>\n",
       "      <td>Краснодар</td>\n",
       "      <td>ultra</td>\n",
       "    </tr>\n",
       "    <tr>\n",
       "      <th>2018-06-01</th>\n",
       "      <td>43.0</td>\n",
       "      <td>172.0</td>\n",
       "      <td>60.0</td>\n",
       "      <td>23233.77</td>\n",
       "      <td>22.689229</td>\n",
       "      <td>23.0</td>\n",
       "      <td>Краснодар</td>\n",
       "      <td>ultra</td>\n",
       "    </tr>\n",
       "    <tr>\n",
       "      <th>2018-07-01</th>\n",
       "      <td>47.0</td>\n",
       "      <td>340.0</td>\n",
       "      <td>75.0</td>\n",
       "      <td>14003.64</td>\n",
       "      <td>13.675430</td>\n",
       "      <td>14.0</td>\n",
       "      <td>Краснодар</td>\n",
       "      <td>ultra</td>\n",
       "    </tr>\n",
       "    <tr>\n",
       "      <th>2018-08-01</th>\n",
       "      <td>52.0</td>\n",
       "      <td>408.0</td>\n",
       "      <td>81.0</td>\n",
       "      <td>14055.93</td>\n",
       "      <td>13.726494</td>\n",
       "      <td>14.0</td>\n",
       "      <td>Краснодар</td>\n",
       "      <td>ultra</td>\n",
       "    </tr>\n",
       "    <tr>\n",
       "      <th>2018-09-01</th>\n",
       "      <td>58.0</td>\n",
       "      <td>466.0</td>\n",
       "      <td>57.0</td>\n",
       "      <td>14568.91</td>\n",
       "      <td>14.227451</td>\n",
       "      <td>15.0</td>\n",
       "      <td>Краснодар</td>\n",
       "      <td>ultra</td>\n",
       "    </tr>\n",
       "    <tr>\n",
       "      <th>...</th>\n",
       "      <th>...</th>\n",
       "      <td>...</td>\n",
       "      <td>...</td>\n",
       "      <td>...</td>\n",
       "      <td>...</td>\n",
       "      <td>...</td>\n",
       "      <td>...</td>\n",
       "      <td>...</td>\n",
       "      <td>...</td>\n",
       "    </tr>\n",
       "    <tr>\n",
       "      <th>1498</th>\n",
       "      <th>2018-10-01</th>\n",
       "      <td>41.0</td>\n",
       "      <td>247.0</td>\n",
       "      <td>42.0</td>\n",
       "      <td>20579.36</td>\n",
       "      <td>20.097031</td>\n",
       "      <td>21.0</td>\n",
       "      <td>Владикавказ</td>\n",
       "      <td>smart</td>\n",
       "    </tr>\n",
       "    <tr>\n",
       "      <th rowspan=\"4\" valign=\"top\">1499</th>\n",
       "      <th>2018-09-01</th>\n",
       "      <td>9.0</td>\n",
       "      <td>70.0</td>\n",
       "      <td>11.0</td>\n",
       "      <td>1845.75</td>\n",
       "      <td>1.802490</td>\n",
       "      <td>2.0</td>\n",
       "      <td>Пермь</td>\n",
       "      <td>smart</td>\n",
       "    </tr>\n",
       "    <tr>\n",
       "      <th>2018-10-01</th>\n",
       "      <td>68.0</td>\n",
       "      <td>449.0</td>\n",
       "      <td>48.0</td>\n",
       "      <td>17788.51</td>\n",
       "      <td>17.371592</td>\n",
       "      <td>18.0</td>\n",
       "      <td>Пермь</td>\n",
       "      <td>smart</td>\n",
       "    </tr>\n",
       "    <tr>\n",
       "      <th>2018-11-01</th>\n",
       "      <td>74.0</td>\n",
       "      <td>612.0</td>\n",
       "      <td>59.0</td>\n",
       "      <td>17963.31</td>\n",
       "      <td>17.542295</td>\n",
       "      <td>18.0</td>\n",
       "      <td>Пермь</td>\n",
       "      <td>smart</td>\n",
       "    </tr>\n",
       "    <tr>\n",
       "      <th>2018-12-01</th>\n",
       "      <td>69.0</td>\n",
       "      <td>492.0</td>\n",
       "      <td>66.0</td>\n",
       "      <td>13055.58</td>\n",
       "      <td>12.749590</td>\n",
       "      <td>13.0</td>\n",
       "      <td>Пермь</td>\n",
       "      <td>smart</td>\n",
       "    </tr>\n",
       "  </tbody>\n",
       "</table>\n",
       "<p>3214 rows × 8 columns</p>\n",
       "</div>"
      ],
      "text/plain": [
       "                    calls_count  calls_duration_sum  messages_count  \\\n",
       "user_id month                                                         \n",
       "1000    2018-05-01         22.0               159.0            22.0   \n",
       "        2018-06-01         43.0               172.0            60.0   \n",
       "        2018-07-01         47.0               340.0            75.0   \n",
       "        2018-08-01         52.0               408.0            81.0   \n",
       "        2018-09-01         58.0               466.0            57.0   \n",
       "...                         ...                 ...             ...   \n",
       "1498    2018-10-01         41.0               247.0            42.0   \n",
       "1499    2018-09-01          9.0                70.0            11.0   \n",
       "        2018-10-01         68.0               449.0            48.0   \n",
       "        2018-11-01         74.0               612.0            59.0   \n",
       "        2018-12-01         69.0               492.0            66.0   \n",
       "\n",
       "                    mb_used_sum  gb_used_sum  gb_used_sum_ceil         city  \\\n",
       "user_id month                                                                 \n",
       "1000    2018-05-01      2253.49     2.200674               3.0    Краснодар   \n",
       "        2018-06-01     23233.77    22.689229              23.0    Краснодар   \n",
       "        2018-07-01     14003.64    13.675430              14.0    Краснодар   \n",
       "        2018-08-01     14055.93    13.726494              14.0    Краснодар   \n",
       "        2018-09-01     14568.91    14.227451              15.0    Краснодар   \n",
       "...                         ...          ...               ...          ...   \n",
       "1498    2018-10-01     20579.36    20.097031              21.0  Владикавказ   \n",
       "1499    2018-09-01      1845.75     1.802490               2.0        Пермь   \n",
       "        2018-10-01     17788.51    17.371592              18.0        Пермь   \n",
       "        2018-11-01     17963.31    17.542295              18.0        Пермь   \n",
       "        2018-12-01     13055.58    12.749590              13.0        Пермь   \n",
       "\n",
       "                   tariff  \n",
       "user_id month              \n",
       "1000    2018-05-01  ultra  \n",
       "        2018-06-01  ultra  \n",
       "        2018-07-01  ultra  \n",
       "        2018-08-01  ultra  \n",
       "        2018-09-01  ultra  \n",
       "...                   ...  \n",
       "1498    2018-10-01  smart  \n",
       "1499    2018-09-01  smart  \n",
       "        2018-10-01  smart  \n",
       "        2018-11-01  smart  \n",
       "        2018-12-01  smart  \n",
       "\n",
       "[3214 rows x 8 columns]"
      ]
     },
     "execution_count": 30,
     "metadata": {},
     "output_type": "execute_result"
    }
   ],
   "source": [
    "join_df = calls_month.join([messages_month, mb_used_month], how='outer') \n",
    "# объединим с таблицей о звонках, с таблицей о сообщениях и трафике\n",
    "join_df['gb_used_sum']= join_df['mb_used_sum']/1024\n",
    "# добавим столбец использованного трафика в гигабайтах \n",
    "join_df['gb_used_sum_ceil'] = np.ceil(join_df['gb_used_sum'])\n",
    "# добавим столбец использованного трафика в гигабайтах с учетом округления оператора\n",
    "join_df = join_df.join(users.loc[:,['user_id','city', 'tariff']].set_index('user_id'), how='outer')\n",
    "# добавим к таблице значения города и тариф, зададим индекс из таблицы users по значению user_id\n",
    "join_df"
   ]
  },
  {
   "cell_type": "markdown",
   "id": "212de705",
   "metadata": {},
   "source": [
    "Выполним проверку объединения."
   ]
  },
  {
   "cell_type": "code",
   "execution_count": 31,
   "id": "91000c74",
   "metadata": {},
   "outputs": [
    {
     "data": {
      "text/plain": [
       "1450301.0"
      ]
     },
     "execution_count": 31,
     "metadata": {},
     "output_type": "execute_result"
    }
   ],
   "source": [
    "join_df['calls_duration_sum'].sum() # количество совпадает до и после объединения"
   ]
  },
  {
   "cell_type": "code",
   "execution_count": 32,
   "id": "c2e73b1f",
   "metadata": {},
   "outputs": [
    {
     "data": {
      "text/plain": [
       "123036.0"
      ]
     },
     "execution_count": 32,
     "metadata": {},
     "output_type": "execute_result"
    }
   ],
   "source": [
    "join_df['messages_count'].sum() # количество совпадает до и после объединения"
   ]
  },
  {
   "cell_type": "code",
   "execution_count": 33,
   "id": "42f41344",
   "metadata": {
    "scrolled": true
   },
   "outputs": [
    {
     "data": {
      "text/plain": [
       "55305267.730000004"
      ]
     },
     "execution_count": 33,
     "metadata": {},
     "output_type": "execute_result"
    }
   ],
   "source": [
    "join_df['mb_used_sum'].sum() # количество совпадает до и после объединения"
   ]
  },
  {
   "cell_type": "code",
   "execution_count": 34,
   "id": "53c5682e",
   "metadata": {},
   "outputs": [],
   "source": [
    "join_df = join_df.reset_index()"
   ]
  },
  {
   "cell_type": "code",
   "execution_count": 35,
   "id": "611fb8bd",
   "metadata": {
    "scrolled": true
   },
   "outputs": [
    {
     "data": {
      "text/plain": [
       "1395    12\n",
       "1219    12\n",
       "1433    12\n",
       "1429    12\n",
       "1227    12\n",
       "        ..\n",
       "1434     1\n",
       "1252     1\n",
       "1445     1\n",
       "1236     1\n",
       "1190     1\n",
       "Name: user_id, Length: 498, dtype: int64"
      ]
     },
     "execution_count": 35,
     "metadata": {},
     "output_type": "execute_result"
    }
   ],
   "source": [
    "join_df.user_id.value_counts()"
   ]
  },
  {
   "cell_type": "markdown",
   "id": "6215e2e0",
   "metadata": {},
   "source": [
    "Количество абонентов не превышает первоначальное количество в 500 абонентов.\n",
    "\n",
    "Объединение выполнено корректно.\n",
    "\n",
    "Посмотрим долю пропусков в сводной таблице"
   ]
  },
  {
   "cell_type": "code",
   "execution_count": 36,
   "id": "06dd26e0",
   "metadata": {},
   "outputs": [
    {
     "data": {
      "text/plain": [
       "user_id               0.000000\n",
       "month                 0.000000\n",
       "calls_count           0.012446\n",
       "calls_duration_sum    0.012446\n",
       "messages_count        0.154636\n",
       "mb_used_sum           0.003423\n",
       "gb_used_sum           0.003423\n",
       "gb_used_sum_ceil      0.003423\n",
       "city                  0.000000\n",
       "tariff                0.000000\n",
       "dtype: float64"
      ]
     },
     "execution_count": 36,
     "metadata": {},
     "output_type": "execute_result"
    }
   ],
   "source": [
    "join_df.isna().mean()"
   ]
  },
  {
   "cell_type": "markdown",
   "id": "57e7a822",
   "metadata": {},
   "source": [
    "Пропуски обусловлены тем, что кто-то не совершает gsm звонки, кто-то не использует смс, кто-то не пользуется интернетом, таких совсем мало. Заполним пропуски нулями."
   ]
  },
  {
   "cell_type": "code",
   "execution_count": 37,
   "id": "e8263976",
   "metadata": {},
   "outputs": [
    {
     "data": {
      "text/plain": [
       "user_id               0.0\n",
       "month                 0.0\n",
       "calls_count           0.0\n",
       "calls_duration_sum    0.0\n",
       "messages_count        0.0\n",
       "mb_used_sum           0.0\n",
       "gb_used_sum           0.0\n",
       "gb_used_sum_ceil      0.0\n",
       "city                  0.0\n",
       "tariff                0.0\n",
       "dtype: float64"
      ]
     },
     "execution_count": 37,
     "metadata": {},
     "output_type": "execute_result"
    }
   ],
   "source": [
    "join_df.fillna(0, inplace=True)\n",
    "join_df.isnull().isna().mean()"
   ]
  },
  {
   "cell_type": "markdown",
   "id": "0911a06d",
   "metadata": {},
   "source": [
    "Пропуски устранены.\n",
    "\n",
    "Cводная таблица готова к расчету помесячной выручки. Для расчета выручки необходимо для каждого пользователя вычесть бесплатный лимит из суммарного количества звонков, сообщений и интернет-трафика, а остаток умножить на значение из тарифного плана. Так же нужно добавить к сумме абонентскую плату за месяц."
   ]
  },
  {
   "cell_type": "code",
   "execution_count": 38,
   "id": "780edaf2",
   "metadata": {
    "scrolled": false
   },
   "outputs": [
    {
     "data": {
      "text/html": [
       "<div>\n",
       "<style scoped>\n",
       "    .dataframe tbody tr th:only-of-type {\n",
       "        vertical-align: middle;\n",
       "    }\n",
       "\n",
       "    .dataframe tbody tr th {\n",
       "        vertical-align: top;\n",
       "    }\n",
       "\n",
       "    .dataframe thead th {\n",
       "        text-align: right;\n",
       "    }\n",
       "</style>\n",
       "<table border=\"1\" class=\"dataframe\">\n",
       "  <thead>\n",
       "    <tr style=\"text-align: right;\">\n",
       "      <th></th>\n",
       "      <th>user_id</th>\n",
       "      <th>month</th>\n",
       "      <th>calls_count</th>\n",
       "      <th>calls_duration_sum</th>\n",
       "      <th>messages_count</th>\n",
       "      <th>mb_used_sum</th>\n",
       "      <th>gb_used_sum</th>\n",
       "      <th>gb_used_sum_ceil</th>\n",
       "      <th>city</th>\n",
       "      <th>tariff</th>\n",
       "    </tr>\n",
       "  </thead>\n",
       "  <tbody>\n",
       "    <tr>\n",
       "      <th>0</th>\n",
       "      <td>1000</td>\n",
       "      <td>2018-05-01</td>\n",
       "      <td>22.0</td>\n",
       "      <td>159.0</td>\n",
       "      <td>22.0</td>\n",
       "      <td>2253.49</td>\n",
       "      <td>2.200674</td>\n",
       "      <td>3.0</td>\n",
       "      <td>Краснодар</td>\n",
       "      <td>ultra</td>\n",
       "    </tr>\n",
       "    <tr>\n",
       "      <th>1</th>\n",
       "      <td>1000</td>\n",
       "      <td>2018-06-01</td>\n",
       "      <td>43.0</td>\n",
       "      <td>172.0</td>\n",
       "      <td>60.0</td>\n",
       "      <td>23233.77</td>\n",
       "      <td>22.689229</td>\n",
       "      <td>23.0</td>\n",
       "      <td>Краснодар</td>\n",
       "      <td>ultra</td>\n",
       "    </tr>\n",
       "    <tr>\n",
       "      <th>2</th>\n",
       "      <td>1000</td>\n",
       "      <td>2018-07-01</td>\n",
       "      <td>47.0</td>\n",
       "      <td>340.0</td>\n",
       "      <td>75.0</td>\n",
       "      <td>14003.64</td>\n",
       "      <td>13.675430</td>\n",
       "      <td>14.0</td>\n",
       "      <td>Краснодар</td>\n",
       "      <td>ultra</td>\n",
       "    </tr>\n",
       "    <tr>\n",
       "      <th>3</th>\n",
       "      <td>1000</td>\n",
       "      <td>2018-08-01</td>\n",
       "      <td>52.0</td>\n",
       "      <td>408.0</td>\n",
       "      <td>81.0</td>\n",
       "      <td>14055.93</td>\n",
       "      <td>13.726494</td>\n",
       "      <td>14.0</td>\n",
       "      <td>Краснодар</td>\n",
       "      <td>ultra</td>\n",
       "    </tr>\n",
       "    <tr>\n",
       "      <th>4</th>\n",
       "      <td>1000</td>\n",
       "      <td>2018-09-01</td>\n",
       "      <td>58.0</td>\n",
       "      <td>466.0</td>\n",
       "      <td>57.0</td>\n",
       "      <td>14568.91</td>\n",
       "      <td>14.227451</td>\n",
       "      <td>15.0</td>\n",
       "      <td>Краснодар</td>\n",
       "      <td>ultra</td>\n",
       "    </tr>\n",
       "    <tr>\n",
       "      <th>...</th>\n",
       "      <td>...</td>\n",
       "      <td>...</td>\n",
       "      <td>...</td>\n",
       "      <td>...</td>\n",
       "      <td>...</td>\n",
       "      <td>...</td>\n",
       "      <td>...</td>\n",
       "      <td>...</td>\n",
       "      <td>...</td>\n",
       "      <td>...</td>\n",
       "    </tr>\n",
       "    <tr>\n",
       "      <th>3209</th>\n",
       "      <td>1498</td>\n",
       "      <td>2018-10-01</td>\n",
       "      <td>41.0</td>\n",
       "      <td>247.0</td>\n",
       "      <td>42.0</td>\n",
       "      <td>20579.36</td>\n",
       "      <td>20.097031</td>\n",
       "      <td>21.0</td>\n",
       "      <td>Владикавказ</td>\n",
       "      <td>smart</td>\n",
       "    </tr>\n",
       "    <tr>\n",
       "      <th>3210</th>\n",
       "      <td>1499</td>\n",
       "      <td>2018-09-01</td>\n",
       "      <td>9.0</td>\n",
       "      <td>70.0</td>\n",
       "      <td>11.0</td>\n",
       "      <td>1845.75</td>\n",
       "      <td>1.802490</td>\n",
       "      <td>2.0</td>\n",
       "      <td>Пермь</td>\n",
       "      <td>smart</td>\n",
       "    </tr>\n",
       "    <tr>\n",
       "      <th>3211</th>\n",
       "      <td>1499</td>\n",
       "      <td>2018-10-01</td>\n",
       "      <td>68.0</td>\n",
       "      <td>449.0</td>\n",
       "      <td>48.0</td>\n",
       "      <td>17788.51</td>\n",
       "      <td>17.371592</td>\n",
       "      <td>18.0</td>\n",
       "      <td>Пермь</td>\n",
       "      <td>smart</td>\n",
       "    </tr>\n",
       "    <tr>\n",
       "      <th>3212</th>\n",
       "      <td>1499</td>\n",
       "      <td>2018-11-01</td>\n",
       "      <td>74.0</td>\n",
       "      <td>612.0</td>\n",
       "      <td>59.0</td>\n",
       "      <td>17963.31</td>\n",
       "      <td>17.542295</td>\n",
       "      <td>18.0</td>\n",
       "      <td>Пермь</td>\n",
       "      <td>smart</td>\n",
       "    </tr>\n",
       "    <tr>\n",
       "      <th>3213</th>\n",
       "      <td>1499</td>\n",
       "      <td>2018-12-01</td>\n",
       "      <td>69.0</td>\n",
       "      <td>492.0</td>\n",
       "      <td>66.0</td>\n",
       "      <td>13055.58</td>\n",
       "      <td>12.749590</td>\n",
       "      <td>13.0</td>\n",
       "      <td>Пермь</td>\n",
       "      <td>smart</td>\n",
       "    </tr>\n",
       "  </tbody>\n",
       "</table>\n",
       "<p>3214 rows × 10 columns</p>\n",
       "</div>"
      ],
      "text/plain": [
       "      user_id      month  calls_count  calls_duration_sum  messages_count  \\\n",
       "0        1000 2018-05-01         22.0               159.0            22.0   \n",
       "1        1000 2018-06-01         43.0               172.0            60.0   \n",
       "2        1000 2018-07-01         47.0               340.0            75.0   \n",
       "3        1000 2018-08-01         52.0               408.0            81.0   \n",
       "4        1000 2018-09-01         58.0               466.0            57.0   \n",
       "...       ...        ...          ...                 ...             ...   \n",
       "3209     1498 2018-10-01         41.0               247.0            42.0   \n",
       "3210     1499 2018-09-01          9.0                70.0            11.0   \n",
       "3211     1499 2018-10-01         68.0               449.0            48.0   \n",
       "3212     1499 2018-11-01         74.0               612.0            59.0   \n",
       "3213     1499 2018-12-01         69.0               492.0            66.0   \n",
       "\n",
       "      mb_used_sum  gb_used_sum  gb_used_sum_ceil         city tariff  \n",
       "0         2253.49     2.200674               3.0    Краснодар  ultra  \n",
       "1        23233.77    22.689229              23.0    Краснодар  ultra  \n",
       "2        14003.64    13.675430              14.0    Краснодар  ultra  \n",
       "3        14055.93    13.726494              14.0    Краснодар  ultra  \n",
       "4        14568.91    14.227451              15.0    Краснодар  ultra  \n",
       "...           ...          ...               ...          ...    ...  \n",
       "3209     20579.36    20.097031              21.0  Владикавказ  smart  \n",
       "3210      1845.75     1.802490               2.0        Пермь  smart  \n",
       "3211     17788.51    17.371592              18.0        Пермь  smart  \n",
       "3212     17963.31    17.542295              18.0        Пермь  smart  \n",
       "3213     13055.58    12.749590              13.0        Пермь  smart  \n",
       "\n",
       "[3214 rows x 10 columns]"
      ]
     },
     "execution_count": 38,
     "metadata": {},
     "output_type": "execute_result"
    }
   ],
   "source": [
    "join_df"
   ]
  },
  {
   "cell_type": "code",
   "execution_count": 39,
   "id": "d90ddcd0",
   "metadata": {},
   "outputs": [
    {
     "data": {
      "text/html": [
       "<div>\n",
       "<style scoped>\n",
       "    .dataframe tbody tr th:only-of-type {\n",
       "        vertical-align: middle;\n",
       "    }\n",
       "\n",
       "    .dataframe tbody tr th {\n",
       "        vertical-align: top;\n",
       "    }\n",
       "\n",
       "    .dataframe thead th {\n",
       "        text-align: right;\n",
       "    }\n",
       "</style>\n",
       "<table border=\"1\" class=\"dataframe\">\n",
       "  <thead>\n",
       "    <tr style=\"text-align: right;\">\n",
       "      <th></th>\n",
       "      <th>messages_included</th>\n",
       "      <th>mb_per_month_included</th>\n",
       "      <th>minutes_included</th>\n",
       "      <th>rub_monthly_fee</th>\n",
       "      <th>rub_per_gb</th>\n",
       "      <th>rub_per_message</th>\n",
       "      <th>rub_per_minute</th>\n",
       "      <th>tariff_name</th>\n",
       "    </tr>\n",
       "  </thead>\n",
       "  <tbody>\n",
       "    <tr>\n",
       "      <th>0</th>\n",
       "      <td>50</td>\n",
       "      <td>15360</td>\n",
       "      <td>500</td>\n",
       "      <td>550</td>\n",
       "      <td>200</td>\n",
       "      <td>3</td>\n",
       "      <td>3</td>\n",
       "      <td>smart</td>\n",
       "    </tr>\n",
       "    <tr>\n",
       "      <th>1</th>\n",
       "      <td>1000</td>\n",
       "      <td>30720</td>\n",
       "      <td>3000</td>\n",
       "      <td>1950</td>\n",
       "      <td>150</td>\n",
       "      <td>1</td>\n",
       "      <td>1</td>\n",
       "      <td>ultra</td>\n",
       "    </tr>\n",
       "  </tbody>\n",
       "</table>\n",
       "</div>"
      ],
      "text/plain": [
       "   messages_included  mb_per_month_included  minutes_included  \\\n",
       "0                 50                  15360               500   \n",
       "1               1000                  30720              3000   \n",
       "\n",
       "   rub_monthly_fee  rub_per_gb  rub_per_message  rub_per_minute tariff_name  \n",
       "0              550         200                3               3       smart  \n",
       "1             1950         150                1               1       ultra  "
      ]
     },
     "execution_count": 39,
     "metadata": {},
     "output_type": "execute_result"
    }
   ],
   "source": [
    "tariffs"
   ]
  },
  {
   "cell_type": "code",
   "execution_count": 40,
   "id": "22b7842e",
   "metadata": {
    "scrolled": false
   },
   "outputs": [
    {
     "data": {
      "text/html": [
       "<div>\n",
       "<style scoped>\n",
       "    .dataframe tbody tr th:only-of-type {\n",
       "        vertical-align: middle;\n",
       "    }\n",
       "\n",
       "    .dataframe tbody tr th {\n",
       "        vertical-align: top;\n",
       "    }\n",
       "\n",
       "    .dataframe thead th {\n",
       "        text-align: right;\n",
       "    }\n",
       "</style>\n",
       "<table border=\"1\" class=\"dataframe\">\n",
       "  <thead>\n",
       "    <tr style=\"text-align: right;\">\n",
       "      <th></th>\n",
       "      <th>user_id</th>\n",
       "      <th>month</th>\n",
       "      <th>calls_count</th>\n",
       "      <th>calls_duration_sum</th>\n",
       "      <th>messages_count</th>\n",
       "      <th>mb_used_sum</th>\n",
       "      <th>gb_used_sum</th>\n",
       "      <th>gb_used_sum_ceil</th>\n",
       "      <th>city</th>\n",
       "      <th>tariff</th>\n",
       "      <th>income</th>\n",
       "    </tr>\n",
       "  </thead>\n",
       "  <tbody>\n",
       "    <tr>\n",
       "      <th>468</th>\n",
       "      <td>1073</td>\n",
       "      <td>2018-10-01</td>\n",
       "      <td>70.0</td>\n",
       "      <td>461.0</td>\n",
       "      <td>34.0</td>\n",
       "      <td>16848.90</td>\n",
       "      <td>16.454004</td>\n",
       "      <td>17.0</td>\n",
       "      <td>Владикавказ</td>\n",
       "      <td>smart</td>\n",
       "      <td>950.0</td>\n",
       "    </tr>\n",
       "    <tr>\n",
       "      <th>2429</th>\n",
       "      <td>1381</td>\n",
       "      <td>2018-07-01</td>\n",
       "      <td>93.0</td>\n",
       "      <td>673.0</td>\n",
       "      <td>29.0</td>\n",
       "      <td>26770.59</td>\n",
       "      <td>26.143154</td>\n",
       "      <td>27.0</td>\n",
       "      <td>Москва</td>\n",
       "      <td>ultra</td>\n",
       "      <td>1950.0</td>\n",
       "    </tr>\n",
       "    <tr>\n",
       "      <th>651</th>\n",
       "      <td>1102</td>\n",
       "      <td>2018-09-01</td>\n",
       "      <td>77.0</td>\n",
       "      <td>568.0</td>\n",
       "      <td>34.0</td>\n",
       "      <td>21324.07</td>\n",
       "      <td>20.824287</td>\n",
       "      <td>21.0</td>\n",
       "      <td>Москва</td>\n",
       "      <td>smart</td>\n",
       "      <td>1954.0</td>\n",
       "    </tr>\n",
       "    <tr>\n",
       "      <th>1898</th>\n",
       "      <td>1299</td>\n",
       "      <td>2018-06-01</td>\n",
       "      <td>52.0</td>\n",
       "      <td>395.0</td>\n",
       "      <td>46.0</td>\n",
       "      <td>20741.56</td>\n",
       "      <td>20.255430</td>\n",
       "      <td>21.0</td>\n",
       "      <td>Уфа</td>\n",
       "      <td>smart</td>\n",
       "      <td>1750.0</td>\n",
       "    </tr>\n",
       "    <tr>\n",
       "      <th>518</th>\n",
       "      <td>1082</td>\n",
       "      <td>2018-11-01</td>\n",
       "      <td>24.0</td>\n",
       "      <td>108.0</td>\n",
       "      <td>72.0</td>\n",
       "      <td>16765.36</td>\n",
       "      <td>16.372422</td>\n",
       "      <td>17.0</td>\n",
       "      <td>Москва</td>\n",
       "      <td>smart</td>\n",
       "      <td>1016.0</td>\n",
       "    </tr>\n",
       "    <tr>\n",
       "      <th>1263</th>\n",
       "      <td>1197</td>\n",
       "      <td>2018-08-01</td>\n",
       "      <td>78.0</td>\n",
       "      <td>497.0</td>\n",
       "      <td>21.0</td>\n",
       "      <td>23076.56</td>\n",
       "      <td>22.535703</td>\n",
       "      <td>23.0</td>\n",
       "      <td>Красноярск</td>\n",
       "      <td>smart</td>\n",
       "      <td>2150.0</td>\n",
       "    </tr>\n",
       "    <tr>\n",
       "      <th>655</th>\n",
       "      <td>1103</td>\n",
       "      <td>2018-12-01</td>\n",
       "      <td>56.0</td>\n",
       "      <td>448.0</td>\n",
       "      <td>25.0</td>\n",
       "      <td>13947.37</td>\n",
       "      <td>13.620479</td>\n",
       "      <td>14.0</td>\n",
       "      <td>Екатеринбург</td>\n",
       "      <td>smart</td>\n",
       "      <td>550.0</td>\n",
       "    </tr>\n",
       "    <tr>\n",
       "      <th>2828</th>\n",
       "      <td>1437</td>\n",
       "      <td>2018-12-01</td>\n",
       "      <td>49.0</td>\n",
       "      <td>335.0</td>\n",
       "      <td>11.0</td>\n",
       "      <td>22846.46</td>\n",
       "      <td>22.310996</td>\n",
       "      <td>23.0</td>\n",
       "      <td>Казань</td>\n",
       "      <td>smart</td>\n",
       "      <td>2150.0</td>\n",
       "    </tr>\n",
       "    <tr>\n",
       "      <th>3168</th>\n",
       "      <td>1491</td>\n",
       "      <td>2018-09-01</td>\n",
       "      <td>77.0</td>\n",
       "      <td>531.0</td>\n",
       "      <td>52.0</td>\n",
       "      <td>15118.83</td>\n",
       "      <td>14.764482</td>\n",
       "      <td>15.0</td>\n",
       "      <td>Челябинск</td>\n",
       "      <td>ultra</td>\n",
       "      <td>1950.0</td>\n",
       "    </tr>\n",
       "    <tr>\n",
       "      <th>2936</th>\n",
       "      <td>1457</td>\n",
       "      <td>2018-10-01</td>\n",
       "      <td>86.0</td>\n",
       "      <td>515.0</td>\n",
       "      <td>34.0</td>\n",
       "      <td>18459.25</td>\n",
       "      <td>18.026611</td>\n",
       "      <td>19.0</td>\n",
       "      <td>Саратов</td>\n",
       "      <td>smart</td>\n",
       "      <td>1395.0</td>\n",
       "    </tr>\n",
       "  </tbody>\n",
       "</table>\n",
       "</div>"
      ],
      "text/plain": [
       "      user_id      month  calls_count  calls_duration_sum  messages_count  \\\n",
       "468      1073 2018-10-01         70.0               461.0            34.0   \n",
       "2429     1381 2018-07-01         93.0               673.0            29.0   \n",
       "651      1102 2018-09-01         77.0               568.0            34.0   \n",
       "1898     1299 2018-06-01         52.0               395.0            46.0   \n",
       "518      1082 2018-11-01         24.0               108.0            72.0   \n",
       "1263     1197 2018-08-01         78.0               497.0            21.0   \n",
       "655      1103 2018-12-01         56.0               448.0            25.0   \n",
       "2828     1437 2018-12-01         49.0               335.0            11.0   \n",
       "3168     1491 2018-09-01         77.0               531.0            52.0   \n",
       "2936     1457 2018-10-01         86.0               515.0            34.0   \n",
       "\n",
       "      mb_used_sum  gb_used_sum  gb_used_sum_ceil          city tariff  income  \n",
       "468      16848.90    16.454004              17.0   Владикавказ  smart   950.0  \n",
       "2429     26770.59    26.143154              27.0        Москва  ultra  1950.0  \n",
       "651      21324.07    20.824287              21.0        Москва  smart  1954.0  \n",
       "1898     20741.56    20.255430              21.0           Уфа  smart  1750.0  \n",
       "518      16765.36    16.372422              17.0        Москва  smart  1016.0  \n",
       "1263     23076.56    22.535703              23.0    Красноярск  smart  2150.0  \n",
       "655      13947.37    13.620479              14.0  Екатеринбург  smart   550.0  \n",
       "2828     22846.46    22.310996              23.0        Казань  smart  2150.0  \n",
       "3168     15118.83    14.764482              15.0     Челябинск  ultra  1950.0  \n",
       "2936     18459.25    18.026611              19.0       Саратов  smart  1395.0  "
      ]
     },
     "execution_count": 40,
     "metadata": {},
     "output_type": "execute_result"
    }
   ],
   "source": [
    "def income(row):  # Функция рассчитывающая доход от каждого абонента по строке датафрейма \n",
    "    \n",
    "    # Создадим переменные из значений сводной таблицы\n",
    "    calls_duration_sum = row['calls_duration_sum']\n",
    "    messages_count = row['messages_count']\n",
    "    mb_used_sum = row['mb_used_sum']    \n",
    "    tariff = row['tariff']   \n",
    "   \n",
    "    if tariff == 'smart': # если тариф smart\n",
    "        per_call_duration = calls_duration_sum - tariffs.loc[0, 'minutes_included'] # количество минут сверх тарифа\n",
    "        per_messages_count = messages_count - tariffs.loc[0, 'messages_included']   # количество смс сверх тарифа\n",
    "        per_mb_used_sum = mb_used_sum - tariffs.loc[0, 'mb_per_month_included']     # количество мегабайт сверх тарифа\n",
    "        \n",
    "        \n",
    "        if per_call_duration < 0: per_call_duration = 0   # если количество минут < 0, переменную принимаем равной 0\n",
    "        if per_messages_count < 0: per_messages_count = 0 # если количество смс < 0, переменную принимаем равной 0\n",
    "        if per_mb_used_sum < 0: per_mb_used_sum = 0       # если количество mb < 0, переменную принимаем равной 0\n",
    "     \n",
    "        return (tariffs.loc[0, 'rub_monthly_fee'] +                          # функция возвращает сумму абонентской платы, \n",
    "                tariffs.loc[0, 'rub_per_minute'] * per_call_duration +       # произведения суммы сверх минут и стоимости одной минуты,\n",
    "                tariffs.loc[0, 'rub_per_message'] * per_messages_count +     # произведения суммы сверх смс и стоимости одной смс,\n",
    "                tariffs.loc[0, 'rub_per_gb'] * np.ceil(per_mb_used_sum/1024) # и произведения стоимости одного gb трафика и использованных gb               \n",
    "                )                                                            # с учетом округления mb до целых gb.\n",
    "    \n",
    "    else:                                                                    # в остальных случаях, т.е. если тариф ultra\n",
    "        per_call_duration = calls_duration_sum - tariffs.loc[1, 'minutes_included']\n",
    "        per_mb_used_sum = mb_used_sum - tariffs.loc[1, 'mb_per_month_included']\n",
    "        per_messages_count = messages_count - tariffs.loc[1, 'messages_included']\n",
    "        \n",
    "        if per_call_duration < 0: per_call_duration = 0\n",
    "        if per_messages_count < 0: per_messages_count = 0\n",
    "        if per_mb_used_sum < 0: per_mb_used_sum = 0\n",
    "        \n",
    "        return (tariffs.loc[1, 'rub_monthly_fee'] +\n",
    "                tariffs.loc[1, 'rub_per_minute'] * per_call_duration +\n",
    "                tariffs.loc[1, 'rub_per_message'] * per_messages_count + \n",
    "                tariffs.loc[1, 'rub_per_gb'] * np.ceil(per_mb_used_sum/1024)                \n",
    "                )\n",
    "\n",
    "join_df['income'] = join_df.apply(income, axis=1) # добавим столбец income, применив метод apply к каждой строке сводного датафрейма.\n",
    "join_df.sample(10) # выведем 10 случайных строк для проверки корректности работы функции"
   ]
  },
  {
   "cell_type": "markdown",
   "id": "e3d64e92",
   "metadata": {},
   "source": [
    "Функция работает корректно.\n",
    "\n",
    "### Выводы\n",
    "\n",
    "На этапе предобработки выполнены следующие преобразования:\n",
    "\n",
    "* Изменен тип данных с object на datetime64 для всех столбцов, содержащих дату.\n",
    "* Произведено округление значений минут разговора до целых значений.\n",
    "* Добавлены столбцы со значением месяца в датафреймы calls, internet, messages.\n",
    "* Создан сводный датафрейм, в котором учтены общее количество звонков, суммы продолжительности разговоров, отправленных сообщений, использованного трафика и ежемесячная выручка с каждого абонента.\n",
    "* Заменены пропуски в сводном датафрейме, образовавшиеся при объединении нескольких датафреймов."
   ]
  },
  {
   "cell_type": "markdown",
   "id": "da4665b0",
   "metadata": {},
   "source": [
    "## Анализ данных\n",
    "### Определение статистических характеристик использования тарифов.\n",
    "\n",
    "Опишем поведение клиентов оператора, исходя из выборки. Сколько минут разговора, сколько сообщений и какой объём интернет-трафика требуется пользователям каждого тарифа в месяц? Посчитаем среднее количество, дисперсию и стандартное отклонение. Построим гистограммы. Опишем распределения."
   ]
  },
  {
   "cell_type": "code",
   "execution_count": 41,
   "id": "c8f3e0b5",
   "metadata": {
    "scrolled": false
   },
   "outputs": [
    {
     "data": {
      "text/html": [
       "<div>\n",
       "<style scoped>\n",
       "    .dataframe tbody tr th:only-of-type {\n",
       "        vertical-align: middle;\n",
       "    }\n",
       "\n",
       "    .dataframe tbody tr th {\n",
       "        vertical-align: top;\n",
       "    }\n",
       "\n",
       "    .dataframe thead tr th {\n",
       "        text-align: left;\n",
       "    }\n",
       "\n",
       "    .dataframe thead tr:last-of-type th {\n",
       "        text-align: right;\n",
       "    }\n",
       "</style>\n",
       "<table border=\"1\" class=\"dataframe\">\n",
       "  <thead>\n",
       "    <tr>\n",
       "      <th></th>\n",
       "      <th colspan=\"4\" halign=\"left\">median</th>\n",
       "      <th colspan=\"4\" halign=\"left\">mean</th>\n",
       "      <th colspan=\"4\" halign=\"left\">var</th>\n",
       "      <th colspan=\"4\" halign=\"left\">std</th>\n",
       "    </tr>\n",
       "    <tr>\n",
       "      <th></th>\n",
       "      <th>calls_duration_sum</th>\n",
       "      <th>gb_used_sum_ceil</th>\n",
       "      <th>income</th>\n",
       "      <th>messages_count</th>\n",
       "      <th>calls_duration_sum</th>\n",
       "      <th>gb_used_sum_ceil</th>\n",
       "      <th>income</th>\n",
       "      <th>messages_count</th>\n",
       "      <th>calls_duration_sum</th>\n",
       "      <th>gb_used_sum_ceil</th>\n",
       "      <th>income</th>\n",
       "      <th>messages_count</th>\n",
       "      <th>calls_duration_sum</th>\n",
       "      <th>gb_used_sum_ceil</th>\n",
       "      <th>income</th>\n",
       "      <th>messages_count</th>\n",
       "    </tr>\n",
       "    <tr>\n",
       "      <th>tariff</th>\n",
       "      <th></th>\n",
       "      <th></th>\n",
       "      <th></th>\n",
       "      <th></th>\n",
       "      <th></th>\n",
       "      <th></th>\n",
       "      <th></th>\n",
       "      <th></th>\n",
       "      <th></th>\n",
       "      <th></th>\n",
       "      <th></th>\n",
       "      <th></th>\n",
       "      <th></th>\n",
       "      <th></th>\n",
       "      <th></th>\n",
       "      <th></th>\n",
       "    </tr>\n",
       "  </thead>\n",
       "  <tbody>\n",
       "    <tr>\n",
       "      <th>smart</th>\n",
       "      <td>422.0</td>\n",
       "      <td>17.0</td>\n",
       "      <td>1023.0</td>\n",
       "      <td>28.0</td>\n",
       "      <td>417.934948</td>\n",
       "      <td>16.328847</td>\n",
       "      <td>1289.973531</td>\n",
       "      <td>33.384029</td>\n",
       "      <td>36219.315784</td>\n",
       "      <td>33.028705</td>\n",
       "      <td>669785.708006</td>\n",
       "      <td>796.812958</td>\n",
       "      <td>190.313730</td>\n",
       "      <td>5.747061</td>\n",
       "      <td>818.404367</td>\n",
       "      <td>28.227876</td>\n",
       "    </tr>\n",
       "    <tr>\n",
       "      <th>ultra</th>\n",
       "      <td>518.0</td>\n",
       "      <td>19.0</td>\n",
       "      <td>1950.0</td>\n",
       "      <td>38.0</td>\n",
       "      <td>526.623350</td>\n",
       "      <td>19.494416</td>\n",
       "      <td>2070.152284</td>\n",
       "      <td>49.363452</td>\n",
       "      <td>100873.633397</td>\n",
       "      <td>97.091686</td>\n",
       "      <td>141516.745079</td>\n",
       "      <td>2285.266143</td>\n",
       "      <td>317.606098</td>\n",
       "      <td>9.853511</td>\n",
       "      <td>376.187114</td>\n",
       "      <td>47.804457</td>\n",
       "    </tr>\n",
       "  </tbody>\n",
       "</table>\n",
       "</div>"
      ],
      "text/plain": [
       "                   median                                          \\\n",
       "       calls_duration_sum gb_used_sum_ceil  income messages_count   \n",
       "tariff                                                              \n",
       "smart               422.0             17.0  1023.0           28.0   \n",
       "ultra               518.0             19.0  1950.0           38.0   \n",
       "\n",
       "                     mean                                               \\\n",
       "       calls_duration_sum gb_used_sum_ceil       income messages_count   \n",
       "tariff                                                                   \n",
       "smart          417.934948        16.328847  1289.973531      33.384029   \n",
       "ultra          526.623350        19.494416  2070.152284      49.363452   \n",
       "\n",
       "                      var                                                 \\\n",
       "       calls_duration_sum gb_used_sum_ceil         income messages_count   \n",
       "tariff                                                                     \n",
       "smart        36219.315784        33.028705  669785.708006     796.812958   \n",
       "ultra       100873.633397        97.091686  141516.745079    2285.266143   \n",
       "\n",
       "                      std                                              \n",
       "       calls_duration_sum gb_used_sum_ceil      income messages_count  \n",
       "tariff                                                                 \n",
       "smart          190.313730         5.747061  818.404367      28.227876  \n",
       "ultra          317.606098         9.853511  376.187114      47.804457  "
      ]
     },
     "execution_count": 41,
     "metadata": {},
     "output_type": "execute_result"
    }
   ],
   "source": [
    "join_df.pivot_table(index = 'tariff',\n",
    "                    values = ['calls_duration_sum', 'messages_count','gb_used_sum_ceil','income'], \n",
    "                    aggfunc = ['median', 'mean', 'var','std'])\n",
    "# Создадим сводную таблицу для расчета математических величин интересующих столбцов, сгруппировав по тарифам."
   ]
  },
  {
   "cell_type": "markdown",
   "id": "d074e37a",
   "metadata": {},
   "source": [
    "Абонентам ежемесячно требуется (медиана):\n",
    "* С тарифом smart  422 минуты, с тарифом ultra  - 518 минут.\n",
    "* С тарифом smart  17 gb трафика, с тарифом ultra  - 19 gb.\n",
    "* С тарифом smart  28 сообщений, с тарифом ultra  - 38.\n",
    "* С тарифом smart  1023 рубля, с тарифом ultra  - 1950.\n",
    "\n",
    "Абонентам ежемесячно требуется (среднее):\n",
    "\n",
    "* С тарифом smart  418 минуты, с тарифом ultra  - 526 минут.\n",
    "* С тарифом smart  17 gb трафика, с тарифом ultra  - 20 gb.\n",
    "* С тарифом smart  34 сообщений, с тарифом ultra  - 50.\n",
    "* С тарифом smart  1290 рубля, с тарифом ultra  - 2070.\n",
    "\n",
    "У тарифа smart  дисперсия и стандартное отклонение ниже по лимитированным показателям (звонки, смс, трафик), чем у тарифа ultra, что логично, учитывая объемы звонков, смс и трафика, включенных в абонентскую стоимость тарифов. Абоненты тарифа ultra реже выходят за пределы лимитов, и т.к. сами лимиты значительно выше, они совершают больше звонков, используют больше трафика без дополнительных трат. Абоненты тарифа smart часто превышают лимиты, особенно по интернет-трафику, и по среднему, и по медиане, что приводит к дополнительным тратам."
   ]
  },
  {
   "cell_type": "markdown",
   "id": "da9324e6",
   "metadata": {},
   "source": [
    "### Построение гистограмм."
   ]
  },
  {
   "cell_type": "code",
   "execution_count": 42,
   "id": "7018eb66",
   "metadata": {
    "scrolled": false
   },
   "outputs": [
    {
     "data": {
      "image/png": "[encoded data removed]",
      "text/plain": [
       "<Figure size 1080x360 with 1 Axes>"
      ]
     },
     "metadata": {
      "needs_background": "light"
     },
     "output_type": "display_data"
    },
    {
     "data": {
      "image/png": "[encoded data removed]",
      "text/plain": [
       "<Figure size 1080x360 with 1 Axes>"
      ]
     },
     "metadata": {
      "needs_background": "light"
     },
     "output_type": "display_data"
    },
    {
     "data": {
      "image/png": "[encoded data removed]",
      "text/plain": [
       "<Figure size 1080x360 with 1 Axes>"
      ]
     },
     "metadata": {
      "needs_background": "light"
     },
     "output_type": "display_data"
    },
    {
     "data": {
      "image/png": "[encoded data removed]",
      "text/plain": [
       "<Figure size 1080x360 with 1 Axes>"
      ]
     },
     "metadata": {
      "needs_background": "light"
     },
     "output_type": "display_data"
    }
   ],
   "source": [
    "hist_list=['calls_duration_sum','messages_count','mb_used_sum','income']\n",
    "tariffs = ['ultra','smart']\n",
    "for column in hist_list:    \n",
    "    join_df.loc[join_df.loc[:,'tariff'] == 'smart'][column].plot(kind = 'hist', bins = 100, label = 'smart', figsize = (15,5), grid=True)                                                                           \n",
    "    join_df.loc[join_df.loc[:,'tariff'] == \"ultra\"][column].plot(kind = 'hist', bins = 100, alpha =0.7, label = 'ultra',figsize = (15,5), grid=True)\n",
    "                                                                    \n",
    "    plt.title(column)\n",
    "    plt.legend()\n",
    "    plt.show()"
   ]
  },
  {
   "cell_type": "markdown",
   "id": "c1006136",
   "metadata": {},
   "source": [
    "#### Распределение данных по графикам:\n",
    "\n",
    "По количеству потраченных минут:\n",
    "* Для тарифа смарт: нормальное с отрицательной скошенностью (**влево**)\n",
    "* Для тарифа ультра: нормальное с положительной скошенностью (**вправо**)\n",
    "\n",
    "По количеству потраченных смс:\n",
    "* Для тарифа смарт: распределение отличается от нормального с положительной скошенностью (**вправо**)\n",
    "* Для тарифа ультра: распределение отличается от нормального с положительной скошенностью (**вправо**)\n",
    "\n",
    "По количеству потраченных mb:\n",
    "* Для тарифа смарт: нормальное с отрицательной скошенностью (**влево**)\n",
    "* Для тарифа ультра: нормальное с положительной скошенностью (**вправо**)\n",
    "\n",
    "По выручке:\n",
    "* Для тарифа смарт: распределение отличается от нормального с положительной скошенностью (**вправо**)\n",
    "* Для тарифа ультра: распределение отличается от нормального с положительной скошенностью (**вправо**)"
   ]
  },
  {
   "cell_type": "markdown",
   "id": "f99d3f0b",
   "metadata": {},
   "source": [
    "##### Проверка данных на аномалии.\n",
    "Больше всего нас интересуют столбцы по количеству минут и интернет-трафику и то, как изменится распределение данных в них после удаления нулевых значений.\n",
    "\n",
    "Посмотрим основные статистические характеристики данных по каждому числовому признаку сводной таблицы."
   ]
  },
  {
   "cell_type": "code",
   "execution_count": 43,
   "id": "535d8dbc",
   "metadata": {
    "scrolled": false
   },
   "outputs": [
    {
     "data": {
      "text/html": [
       "<div>\n",
       "<style scoped>\n",
       "    .dataframe tbody tr th:only-of-type {\n",
       "        vertical-align: middle;\n",
       "    }\n",
       "\n",
       "    .dataframe tbody tr th {\n",
       "        vertical-align: top;\n",
       "    }\n",
       "\n",
       "    .dataframe thead th {\n",
       "        text-align: right;\n",
       "    }\n",
       "</style>\n",
       "<table border=\"1\" class=\"dataframe\">\n",
       "  <thead>\n",
       "    <tr style=\"text-align: right;\">\n",
       "      <th></th>\n",
       "      <th>user_id</th>\n",
       "      <th>calls_count</th>\n",
       "      <th>calls_duration_sum</th>\n",
       "      <th>messages_count</th>\n",
       "      <th>mb_used_sum</th>\n",
       "      <th>gb_used_sum</th>\n",
       "      <th>gb_used_sum_ceil</th>\n",
       "      <th>income</th>\n",
       "    </tr>\n",
       "  </thead>\n",
       "  <tbody>\n",
       "    <tr>\n",
       "      <th>count</th>\n",
       "      <td>3214.000000</td>\n",
       "      <td>3214.000000</td>\n",
       "      <td>3214.000000</td>\n",
       "      <td>3214.000000</td>\n",
       "      <td>3214.000000</td>\n",
       "      <td>3214.000000</td>\n",
       "      <td>3214.000000</td>\n",
       "      <td>3214.000000</td>\n",
       "    </tr>\n",
       "    <tr>\n",
       "      <th>mean</th>\n",
       "      <td>1251.590230</td>\n",
       "      <td>63.038892</td>\n",
       "      <td>451.244866</td>\n",
       "      <td>38.281269</td>\n",
       "      <td>17207.612859</td>\n",
       "      <td>16.804309</td>\n",
       "      <td>17.299004</td>\n",
       "      <td>1529.076229</td>\n",
       "    </tr>\n",
       "    <tr>\n",
       "      <th>std</th>\n",
       "      <td>144.659172</td>\n",
       "      <td>33.236368</td>\n",
       "      <td>241.909978</td>\n",
       "      <td>36.148326</td>\n",
       "      <td>7570.958771</td>\n",
       "      <td>7.393514</td>\n",
       "      <td>7.400584</td>\n",
       "      <td>798.251091</td>\n",
       "    </tr>\n",
       "    <tr>\n",
       "      <th>min</th>\n",
       "      <td>1000.000000</td>\n",
       "      <td>0.000000</td>\n",
       "      <td>0.000000</td>\n",
       "      <td>0.000000</td>\n",
       "      <td>0.000000</td>\n",
       "      <td>0.000000</td>\n",
       "      <td>0.000000</td>\n",
       "      <td>550.000000</td>\n",
       "    </tr>\n",
       "    <tr>\n",
       "      <th>25%</th>\n",
       "      <td>1125.000000</td>\n",
       "      <td>40.000000</td>\n",
       "      <td>282.000000</td>\n",
       "      <td>9.000000</td>\n",
       "      <td>12491.890000</td>\n",
       "      <td>12.199111</td>\n",
       "      <td>13.000000</td>\n",
       "      <td>750.000000</td>\n",
       "    </tr>\n",
       "    <tr>\n",
       "      <th>50%</th>\n",
       "      <td>1253.000000</td>\n",
       "      <td>62.000000</td>\n",
       "      <td>443.000000</td>\n",
       "      <td>30.000000</td>\n",
       "      <td>16943.175000</td>\n",
       "      <td>16.546069</td>\n",
       "      <td>17.000000</td>\n",
       "      <td>1653.500000</td>\n",
       "    </tr>\n",
       "    <tr>\n",
       "      <th>75%</th>\n",
       "      <td>1378.750000</td>\n",
       "      <td>82.000000</td>\n",
       "      <td>589.000000</td>\n",
       "      <td>57.000000</td>\n",
       "      <td>21424.625000</td>\n",
       "      <td>20.922485</td>\n",
       "      <td>21.000000</td>\n",
       "      <td>1950.000000</td>\n",
       "    </tr>\n",
       "    <tr>\n",
       "      <th>max</th>\n",
       "      <td>1499.000000</td>\n",
       "      <td>244.000000</td>\n",
       "      <td>1673.000000</td>\n",
       "      <td>224.000000</td>\n",
       "      <td>49745.690000</td>\n",
       "      <td>48.579775</td>\n",
       "      <td>49.000000</td>\n",
       "      <td>6770.000000</td>\n",
       "    </tr>\n",
       "  </tbody>\n",
       "</table>\n",
       "</div>"
      ],
      "text/plain": [
       "           user_id  calls_count  calls_duration_sum  messages_count  \\\n",
       "count  3214.000000  3214.000000         3214.000000     3214.000000   \n",
       "mean   1251.590230    63.038892          451.244866       38.281269   \n",
       "std     144.659172    33.236368          241.909978       36.148326   \n",
       "min    1000.000000     0.000000            0.000000        0.000000   \n",
       "25%    1125.000000    40.000000          282.000000        9.000000   \n",
       "50%    1253.000000    62.000000          443.000000       30.000000   \n",
       "75%    1378.750000    82.000000          589.000000       57.000000   \n",
       "max    1499.000000   244.000000         1673.000000      224.000000   \n",
       "\n",
       "        mb_used_sum  gb_used_sum  gb_used_sum_ceil       income  \n",
       "count   3214.000000  3214.000000       3214.000000  3214.000000  \n",
       "mean   17207.612859    16.804309         17.299004  1529.076229  \n",
       "std     7570.958771     7.393514          7.400584   798.251091  \n",
       "min        0.000000     0.000000          0.000000   550.000000  \n",
       "25%    12491.890000    12.199111         13.000000   750.000000  \n",
       "50%    16943.175000    16.546069         17.000000  1653.500000  \n",
       "75%    21424.625000    20.922485         21.000000  1950.000000  \n",
       "max    49745.690000    48.579775         49.000000  6770.000000  "
      ]
     },
     "execution_count": 43,
     "metadata": {},
     "output_type": "execute_result"
    }
   ],
   "source": [
    "join_df.describe()"
   ]
  },
  {
   "cell_type": "markdown",
   "id": "60a414e9",
   "metadata": {},
   "source": [
    "Скопируем сводный датафрейм и сделаем срез без нулевых значения в столбцах общей продолжительности звонков и интернет-трафика. "
   ]
  },
  {
   "cell_type": "code",
   "execution_count": 44,
   "id": "ddb03f87",
   "metadata": {},
   "outputs": [],
   "source": [
    "join_df_without_nulls = join_df.query('calls_duration_sum != 0 and mb_used_sum != 0')"
   ]
  },
  {
   "cell_type": "markdown",
   "id": "374abfbf",
   "metadata": {},
   "source": [
    "Посмотрим статистические характеристики данных."
   ]
  },
  {
   "cell_type": "code",
   "execution_count": 45,
   "id": "c5256880",
   "metadata": {
    "scrolled": true
   },
   "outputs": [
    {
     "data": {
      "text/html": [
       "<div>\n",
       "<style scoped>\n",
       "    .dataframe tbody tr th:only-of-type {\n",
       "        vertical-align: middle;\n",
       "    }\n",
       "\n",
       "    .dataframe tbody tr th {\n",
       "        vertical-align: top;\n",
       "    }\n",
       "\n",
       "    .dataframe thead th {\n",
       "        text-align: right;\n",
       "    }\n",
       "</style>\n",
       "<table border=\"1\" class=\"dataframe\">\n",
       "  <thead>\n",
       "    <tr style=\"text-align: right;\">\n",
       "      <th></th>\n",
       "      <th>user_id</th>\n",
       "      <th>calls_count</th>\n",
       "      <th>calls_duration_sum</th>\n",
       "      <th>messages_count</th>\n",
       "      <th>mb_used_sum</th>\n",
       "      <th>gb_used_sum</th>\n",
       "      <th>gb_used_sum_ceil</th>\n",
       "      <th>income</th>\n",
       "    </tr>\n",
       "  </thead>\n",
       "  <tbody>\n",
       "    <tr>\n",
       "      <th>count</th>\n",
       "      <td>3155.000000</td>\n",
       "      <td>3155.000000</td>\n",
       "      <td>3155.000000</td>\n",
       "      <td>3155.000000</td>\n",
       "      <td>3155.000000</td>\n",
       "      <td>3155.000000</td>\n",
       "      <td>3155.000000</td>\n",
       "      <td>3155.000000</td>\n",
       "    </tr>\n",
       "    <tr>\n",
       "      <th>mean</th>\n",
       "      <td>1251.290967</td>\n",
       "      <td>64.097623</td>\n",
       "      <td>458.916957</td>\n",
       "      <td>38.052932</td>\n",
       "      <td>17256.246811</td>\n",
       "      <td>16.851804</td>\n",
       "      <td>17.348970</td>\n",
       "      <td>1523.518542</td>\n",
       "    </tr>\n",
       "    <tr>\n",
       "      <th>std</th>\n",
       "      <td>144.746866</td>\n",
       "      <td>32.565655</td>\n",
       "      <td>237.189955</td>\n",
       "      <td>35.516633</td>\n",
       "      <td>7489.145453</td>\n",
       "      <td>7.313619</td>\n",
       "      <td>7.314972</td>\n",
       "      <td>801.746595</td>\n",
       "    </tr>\n",
       "    <tr>\n",
       "      <th>min</th>\n",
       "      <td>1000.000000</td>\n",
       "      <td>1.000000</td>\n",
       "      <td>1.000000</td>\n",
       "      <td>0.000000</td>\n",
       "      <td>201.070000</td>\n",
       "      <td>0.196357</td>\n",
       "      <td>1.000000</td>\n",
       "      <td>550.000000</td>\n",
       "    </tr>\n",
       "    <tr>\n",
       "      <th>25%</th>\n",
       "      <td>1126.000000</td>\n",
       "      <td>41.000000</td>\n",
       "      <td>291.000000</td>\n",
       "      <td>9.000000</td>\n",
       "      <td>12526.905000</td>\n",
       "      <td>12.233306</td>\n",
       "      <td>13.000000</td>\n",
       "      <td>750.000000</td>\n",
       "    </tr>\n",
       "    <tr>\n",
       "      <th>50%</th>\n",
       "      <td>1253.000000</td>\n",
       "      <td>63.000000</td>\n",
       "      <td>448.000000</td>\n",
       "      <td>30.000000</td>\n",
       "      <td>16951.640000</td>\n",
       "      <td>16.554336</td>\n",
       "      <td>17.000000</td>\n",
       "      <td>1608.000000</td>\n",
       "    </tr>\n",
       "    <tr>\n",
       "      <th>75%</th>\n",
       "      <td>1379.000000</td>\n",
       "      <td>83.000000</td>\n",
       "      <td>594.500000</td>\n",
       "      <td>57.000000</td>\n",
       "      <td>21423.500000</td>\n",
       "      <td>20.921387</td>\n",
       "      <td>21.000000</td>\n",
       "      <td>1950.000000</td>\n",
       "    </tr>\n",
       "    <tr>\n",
       "      <th>max</th>\n",
       "      <td>1499.000000</td>\n",
       "      <td>244.000000</td>\n",
       "      <td>1673.000000</td>\n",
       "      <td>224.000000</td>\n",
       "      <td>49745.690000</td>\n",
       "      <td>48.579775</td>\n",
       "      <td>49.000000</td>\n",
       "      <td>6770.000000</td>\n",
       "    </tr>\n",
       "  </tbody>\n",
       "</table>\n",
       "</div>"
      ],
      "text/plain": [
       "           user_id  calls_count  calls_duration_sum  messages_count  \\\n",
       "count  3155.000000  3155.000000         3155.000000     3155.000000   \n",
       "mean   1251.290967    64.097623          458.916957       38.052932   \n",
       "std     144.746866    32.565655          237.189955       35.516633   \n",
       "min    1000.000000     1.000000            1.000000        0.000000   \n",
       "25%    1126.000000    41.000000          291.000000        9.000000   \n",
       "50%    1253.000000    63.000000          448.000000       30.000000   \n",
       "75%    1379.000000    83.000000          594.500000       57.000000   \n",
       "max    1499.000000   244.000000         1673.000000      224.000000   \n",
       "\n",
       "        mb_used_sum  gb_used_sum  gb_used_sum_ceil       income  \n",
       "count   3155.000000  3155.000000       3155.000000  3155.000000  \n",
       "mean   17256.246811    16.851804         17.348970  1523.518542  \n",
       "std     7489.145453     7.313619          7.314972   801.746595  \n",
       "min      201.070000     0.196357          1.000000   550.000000  \n",
       "25%    12526.905000    12.233306         13.000000   750.000000  \n",
       "50%    16951.640000    16.554336         17.000000  1608.000000  \n",
       "75%    21423.500000    20.921387         21.000000  1950.000000  \n",
       "max    49745.690000    48.579775         49.000000  6770.000000  "
      ]
     },
     "execution_count": 45,
     "metadata": {},
     "output_type": "execute_result"
    }
   ],
   "source": [
    "join_df_without_nulls.describe()"
   ]
  },
  {
   "cell_type": "markdown",
   "id": "fecc2b75",
   "metadata": {},
   "source": [
    "Построим гистограммы."
   ]
  },
  {
   "cell_type": "code",
   "execution_count": 46,
   "id": "b7c54e81",
   "metadata": {
    "scrolled": false
   },
   "outputs": [
    {
     "data": {
      "image/png": "[encoded data removed]",
      "text/plain": [
       "<Figure size 1080x360 with 1 Axes>"
      ]
     },
     "metadata": {
      "needs_background": "light"
     },
     "output_type": "display_data"
    },
    {
     "data": {
      "image/png": "[encoded data removed]",
      "text/plain": [
       "<Figure size 1080x360 with 1 Axes>"
      ]
     },
     "metadata": {
      "needs_background": "light"
     },
     "output_type": "display_data"
    }
   ],
   "source": [
    "hist_list=['calls_duration_sum','mb_used_sum']\n",
    "tariffs = ['ultra','smart']\n",
    "for column in hist_list:    \n",
    "    join_df_without_nulls.loc[join_df_without_nulls.loc[:,'tariff'] == 'smart'][column].plot(kind = 'hist', bins = 100, label = 'smart', figsize = (15,5), grid=True)                                                                           \n",
    "    join_df_without_nulls.loc[join_df_without_nulls.loc[:,'tariff'] == \"ultra\"][column].plot(kind = 'hist', bins = 100, alpha =0.7, label = 'ultra',figsize = (15,5), grid=True)\n",
    "                                                                    \n",
    "    plt.title(column)\n",
    "    plt.legend()\n",
    "    plt.show()"
   ]
  },
  {
   "cell_type": "markdown",
   "id": "b76db31b",
   "metadata": {},
   "source": [
    "После удаления нулевых значений мы потеряли всего 59 строк, что сильно не повлияло на анализ данных.\n",
    "\n",
    "При сравнении статистические характеристики данных датафреймов до и после удаления нулевых значений, заметно, что по столбцу продолжительности звонков медиана и среднее значение увеличились, по столбцу интернет-трафика тоже заметно увеличение, но в меньшей степени.\n",
    "\n",
    "Как видно по гистограммам у нас исчезли пики при нулевых значениях, графики стали чище и плавнее, но само распределение значительно не изменилось.\n",
    "\n",
    "Как следуют из примечания к проекту, звонки с нулевой продолжительностью — это не ошибка: нулями обозначены пропущенные звонки. В связи с чем данные не будут удалены.\n",
    "\n",
    "Появление сессий с нулевым объёмом трафика может быть связан с отсутствием интернет-соединения, или отменой сессии до начала передачи трафика. В связи с чем данные не будут удалены."
   ]
  },
  {
   "cell_type": "markdown",
   "id": "c9ca8c6b",
   "metadata": {},
   "source": [
    "### Выводы\n",
    "* **По количеству минут**:\n",
    "Значительная часть абонентов тарифа smart превышают включенный в стоимость лимит 500 минут, возможно им стоит рассмотреть переход на тариф ultra и наоборот значительная часть абонентов тарифа ultra даже не выговаривают 500 минут, возможно им стоит рассмотреть переход на тариф smart.\n",
    "* **По СМС**: \n",
    "Бо̀льша доля абонентов не используют смс, о чем свидетельствуют пики на графике в районе нуля у обоих тарифов, что логично, СМС становится пережитком прошлого и чаще нужны только при двухфакторной аутентификации, в остальных случаях удобней использовать мессенджеры.\n",
    "* **По количеству трафика**:\n",
    "Значительная часть абонентов тарифа smart превышают включенный в стоимость лимит в 15 gb, возможно им стоит рассмотреть переход на тариф ultra и наоборот значительная часть абонентов тарифа ultra не тратят 15 gb, возможно им стоит рассмотреть переход на тариф smart.    \n",
    "* **По выручке**:\n",
    "Отчетливо видны два пика равные размеру абонентской платы. Величина пика тарифа ultra выше несмотря на то, что количество таких абонентов почти 2,5 раза меньше, это наглядно демонстрирует, что абонентам тарифа ultra значительно реже приходится оплачивать дополнительные расходы вследствие превышения лимитов гигабайт, минут и смс, в отличии от абонентов тарифа smart. Размер самих дополнительных трат значительно ниже у абонентов тарифа ultra ввиду самих условий тарифа (минута звонка 1р. против 3р., одно смс 1р. против 3. gb трафика 150р. против 200р.)."
   ]
  },
  {
   "cell_type": "markdown",
   "id": "adc58bc2",
   "metadata": {},
   "source": [
    "## Проверка гипотез\n",
    "### Первая гипотеза\n",
    "* Средняя выручка пользователей тарифов «Ультра» и «Смарт» различаются.\n",
    "\n",
    "Нулевая гипотеза H0  - средняя выручка пользователей тарифов «Ультра» и «Смарт» равны.\n",
    "\n",
    "Альтернативная гипотеза H1  - средняя выручка пользователей тарифов «Ультра» и «Смарт» различается.\n",
    "\n",
    "α=0.5%  - уровень значимости.\n",
    "\n",
    "Выборки по клиентам тарифов «Ультра» и «Смарт» не связаны друг с другом. Для расчёта статистики разности и p-value будем использовать функцию st.ttest_ind"
   ]
  },
  {
   "cell_type": "code",
   "execution_count": 47,
   "id": "4a2c6a60",
   "metadata": {},
   "outputs": [
    {
     "name": "stdout",
     "output_type": "stream",
     "text": [
      "p-значение: 4.2606313931076085e-250\n",
      "Отвергаем нулевую гипотезу\n"
     ]
    }
   ],
   "source": [
    "smart = join_df.query('tariff == \"smart\"')['income']\n",
    "ultra = join_df.query('tariff == \"ultra\"')['income'] \n",
    "\n",
    "alpha = .05\n",
    "\n",
    "results = st.ttest_ind(smart, ultra, equal_var=False) # проверим гипотезу о равенстве средних двух независимых совокупностей\n",
    "\n",
    "print('p-значение:', results.pvalue)\n",
    "\n",
    "if (results.pvalue < alpha):\n",
    "    print(\"Отвергаем нулевую гипотезу\")\n",
    "else:\n",
    "    print(\"Не получилось отвергнуть нулевую гипотезу\")"
   ]
  },
  {
   "cell_type": "markdown",
   "id": "8c77267c",
   "metadata": {},
   "source": [
    "#### Вывод\n",
    "\n",
    "p-value гораздо меньше alpha, в связи с чем признаём нулевую гипотезу H0 мало вероятной. Полученные данные позволяют отвергнуть нулевую гипотезу в пользу альтернативной H1:\n",
    "\"средняя выручка пользователей тарифов «Ультра» и «Смарт» различается\""
   ]
  },
  {
   "cell_type": "markdown",
   "id": "ae7d0502",
   "metadata": {},
   "source": [
    "### Вторая гипотеза\n",
    "* Средняя выручка пользователей из Москвы отличается от выручки пользователей из других регионов.\n",
    "\n",
    "Нулевая гипотеза H0  - Средняя выручка пользователей из Москвы равна выручке пользователей из других регионов.\n",
    "\n",
    "Альтернативная гипотеза H1  - Средняя выручка пользователей из Москвы отличается от выручки пользователей из других регионов.\n",
    "\n",
    "α=0.5%  - уровень значимости.\n",
    "\n",
    "Выборки по клиентам из Москвы и других регионов не связаны друг с другом. Для расчёта статистики разности и p-value будем использовать функцию st.ttest_ind"
   ]
  },
  {
   "cell_type": "code",
   "execution_count": 48,
   "id": "71014b05",
   "metadata": {
    "scrolled": true
   },
   "outputs": [
    {
     "name": "stdout",
     "output_type": "stream",
     "text": [
      "p-значение: 0.5257376663729298\n",
      "Не получилось отвергнуть нулевую гипотезу\n"
     ]
    }
   ],
   "source": [
    "moscow = join_df.query('city == \"Москва\"')['income']\n",
    "others = join_df.query('city != \"Москва\"')['income']\n",
    "\n",
    "alpha = .05\n",
    "\n",
    "results = st.ttest_ind(moscow, others, equal_var=False)\n",
    "\n",
    "print('p-значение:', results.pvalue)\n",
    "\n",
    "if (results.pvalue < alpha):\n",
    "    print(\"Отвергаем нулевую гипотезу\")\n",
    "else:\n",
    "    print(\"Не получилось отвергнуть нулевую гипотезу\")"
   ]
  },
  {
   "cell_type": "markdown",
   "id": "6b7bc91c",
   "metadata": {},
   "source": [
    "#### Вывод\n",
    "\n",
    "p-value равен 0.52 и больше alpha, в связи с чем нет оснований отвергать нулевую гипотезу. Полученные данные не противоречат гипотезе H0:\n",
    "\"Средняя выручка пользователей из Москвы равна выручке пользователей из других регионов\""
   ]
  },
  {
   "cell_type": "markdown",
   "id": "6f465e8b",
   "metadata": {},
   "source": [
    "## Общий вывод"
   ]
  },
  {
   "cell_type": "markdown",
   "id": "86fccc47",
   "metadata": {},
   "source": [
    "Посмотрим доходы от тарифов и медианное и среднее значение выручки с одного абонента."
   ]
  },
  {
   "cell_type": "code",
   "execution_count": 49,
   "id": "9f35b234",
   "metadata": {
    "scrolled": false
   },
   "outputs": [
    {
     "data": {
      "text/html": [
       "<div>\n",
       "<style scoped>\n",
       "    .dataframe tbody tr th:only-of-type {\n",
       "        vertical-align: middle;\n",
       "    }\n",
       "\n",
       "    .dataframe tbody tr th {\n",
       "        vertical-align: top;\n",
       "    }\n",
       "\n",
       "    .dataframe thead th {\n",
       "        text-align: right;\n",
       "    }\n",
       "</style>\n",
       "<table border=\"1\" class=\"dataframe\">\n",
       "  <thead>\n",
       "    <tr style=\"text-align: right;\">\n",
       "      <th></th>\n",
       "      <th>sum</th>\n",
       "      <th>median</th>\n",
       "      <th>mean</th>\n",
       "    </tr>\n",
       "    <tr>\n",
       "      <th>tariff</th>\n",
       "      <th></th>\n",
       "      <th></th>\n",
       "      <th></th>\n",
       "    </tr>\n",
       "  </thead>\n",
       "  <tbody>\n",
       "    <tr>\n",
       "      <th>smart</th>\n",
       "      <td>2875351.0</td>\n",
       "      <td>1023.0</td>\n",
       "      <td>1289.973531</td>\n",
       "    </tr>\n",
       "    <tr>\n",
       "      <th>ultra</th>\n",
       "      <td>2039100.0</td>\n",
       "      <td>1950.0</td>\n",
       "      <td>2070.152284</td>\n",
       "    </tr>\n",
       "  </tbody>\n",
       "</table>\n",
       "</div>"
      ],
      "text/plain": [
       "              sum  median         mean\n",
       "tariff                                \n",
       "smart   2875351.0  1023.0  1289.973531\n",
       "ultra   2039100.0  1950.0  2070.152284"
      ]
     },
     "execution_count": 49,
     "metadata": {},
     "output_type": "execute_result"
    }
   ],
   "source": [
    "income = join_df.pivot_table(index='tariff', values='income', aggfunc=['sum','median', 'mean'])\n",
    "income.columns = ['sum','median', 'mean']\n",
    "income"
   ]
  },
  {
   "cell_type": "markdown",
   "id": "6ca8a839",
   "metadata": {},
   "source": [
    "Посмотрим количество абонентов на каждом тарифе."
   ]
  },
  {
   "cell_type": "code",
   "execution_count": 50,
   "id": "453497a7",
   "metadata": {},
   "outputs": [
    {
     "data": {
      "text/plain": [
       "smart    351\n",
       "ultra    149\n",
       "Name: tariff, dtype: int64"
      ]
     },
     "execution_count": 50,
     "metadata": {},
     "output_type": "execute_result"
    }
   ],
   "source": [
    "users['tariff'].value_counts()"
   ]
  },
  {
   "cell_type": "markdown",
   "id": "12b32745",
   "metadata": {},
   "source": [
    "В ходе проекта выполнено: \n",
    "1) Загружены и изучены данные абонентов компании «Мегалайн» за 2018 год состоящие из 5 датасетов содержащих общую информацию о клиентах, информацию о датах и продолжительности звонков, отправленных сообщениях, интернет-сессиях и использованном трафике, а также общую информацию о тарифах компании.\n",
    "\n",
    "2) Выполнена предобработка данных. Заменен тип данных для столбцов с датами на тип datetime64. Округлены значения минут разговора до целых минут и изменен тип данных на целочисленный. Добавлены столбцы со значением месяца в датафреймы calls, internet, messages. Созданы помесячные сводные таблицы для каждого пользователя, отражающее количество сделанных звонков, израсходованных минут разговора, количество отправленных сообщений и использованного интернет-трафика. Создана сводная таблица для расчета помесячной выручки с каждого пользователя. Пропуски в сводной таблице заменены на нули. Выполнен помесячный расчет выручки для каждого пользователя, добавлен соответствующий столбец в сводный датафрейм.\n",
    "\n",
    "3) Выполнен анализ статистических данных тарифов ultra и smart (минуты разговора, сообщения, интернет-трафик, доход с каждого пользователя). Создана сводная таблица для расчета статистических характеристик интересующих столбцов, сгруппированная по тарифам. Рассчитаны средние значения, дисперсии, стандартные отклонения. Описано поведение клиентов оператора. Построены гистограммы (минуты разговора, сообщения, интернет-трафик, доход с каждого пользователя). Сделаны выводы по распределению потраченных минут, смс и интернет-трафика. Сделан вывод по гистограмме выручки: на тарифе ultra значительно реже приходится оплачивать дополнительные расходы. Проверены данные для звонков и интернет-трафика на наличие аномалий в виде нулевых значений. Создан дополнительный датафрейм без нулевых значения в столбцах общей продолжительности звонков и использования интернет-трафика. Для дополнительного датафрейма построены гистограммы для звонков и интернет-трафика. Сформулировано объяснение появление нулевых значений в интернет-сессиях.\n",
    "\n",
    "4) Проверены две гипотезы. **Первая**: \"Средняя выручка пользователей тарифов «Ультра» и «Смарт» различаются\". Полученные данные позволяют отвергнуть нулевую гипотезу H0 в пользу альтернативной H1: \"Средняя выручка пользователей тарифа «Ультра» не равна средней выручке пользователей тарифа «Смарт»\". **Вторая**: \"Средняя выручка пользователей из Москвы отличается от выручки пользователей из других регионов\". Полученные данные не противоречат гипотезе H0: \"Средняя выручка пользователей из Москвы равна выручке пользователей из других регионов\".\n",
    "\n",
    "Выводы по проделанной работе:\n",
    "* Тариф Smart пользуется большей популярностью (351 абонент против 149) ввиду низкой абонентской платы (практически в 4 раза дешевле тарифа Ultra).\n",
    "* Тариф Ultra значительно комфортней и более прогнозируемый в части расходов.\n",
    "* Тариф Smart приносит большую часть общих доходов и дополнительных, в основном за счет доп. трафика за интернет.\n",
    "* Абоненты тарифа Ultra практически не превышают лимиты сверх тарифа.\n",
    "* Абоненты тарифа Smart часто превышают лимиты сверх тарифа, особенно интернет-трафика.\n",
    "* У тарифа Ultra средний (1023 против 1950) и медианный доход (1290 против 2070) выше примерно в 2 раза.\n",
    "\n",
    "Рекомендация для оператора:\n",
    "* Несмотря на то, что больший вклад в доходы оператора вносит тариф Smart, средний доход у тарифа Ultra выше, следовательно продвижение тарифа Ultra предпочтительнее, а тариф Smart популярен сам по себе.\n"
   ]
  }
 ],
 "metadata": {
  "ExecuteTimeLog": [
   {
    "duration": 73,
    "start_time": "2022-05-03T20:43:00.442Z"
   },
   {
    "duration": 1738,
    "start_time": "2022-05-03T20:45:17.915Z"
   },
   {
    "duration": 3,
    "start_time": "2022-05-03T20:45:19.656Z"
   },
   {
    "duration": 493,
    "start_time": "2022-05-03T20:45:19.661Z"
   },
   {
    "duration": 24,
    "start_time": "2022-05-03T20:45:20.157Z"
   },
   {
    "duration": 17,
    "start_time": "2022-05-03T20:45:20.183Z"
   },
   {
    "duration": 17,
    "start_time": "2022-05-03T20:45:20.202Z"
   },
   {
    "duration": 32,
    "start_time": "2022-05-03T20:45:20.251Z"
   },
   {
    "duration": 19,
    "start_time": "2022-05-03T20:45:20.286Z"
   },
   {
    "duration": 58,
    "start_time": "2022-05-03T20:45:20.307Z"
   },
   {
    "duration": 16,
    "start_time": "2022-05-03T20:45:20.369Z"
   },
   {
    "duration": 26,
    "start_time": "2022-05-03T20:45:20.388Z"
   },
   {
    "duration": 37,
    "start_time": "2022-05-03T20:45:20.416Z"
   },
   {
    "duration": 15,
    "start_time": "2022-05-03T20:45:20.455Z"
   },
   {
    "duration": 131,
    "start_time": "2022-05-03T20:45:20.472Z"
   },
   {
    "duration": 19,
    "start_time": "2022-05-03T20:45:20.605Z"
   },
   {
    "duration": 5,
    "start_time": "2022-05-03T20:45:20.626Z"
   },
   {
    "duration": 12,
    "start_time": "2022-05-03T20:45:20.652Z"
   },
   {
    "duration": 28,
    "start_time": "2022-05-03T20:45:20.666Z"
   },
   {
    "duration": 93,
    "start_time": "2022-05-03T20:45:20.696Z"
   },
   {
    "duration": 19,
    "start_time": "2022-05-03T20:45:20.792Z"
   },
   {
    "duration": 108,
    "start_time": "2022-05-03T20:45:20.813Z"
   },
   {
    "duration": 43,
    "start_time": "2022-05-03T20:45:20.923Z"
   },
   {
    "duration": 41,
    "start_time": "2022-05-03T20:45:20.968Z"
   },
   {
    "duration": 78,
    "start_time": "2022-05-03T20:45:21.011Z"
   },
   {
    "duration": 10,
    "start_time": "2022-05-03T20:45:21.091Z"
   },
   {
    "duration": 13,
    "start_time": "2022-05-03T20:45:21.103Z"
   },
   {
    "duration": 52,
    "start_time": "2022-05-03T20:45:21.118Z"
   },
   {
    "duration": 10,
    "start_time": "2022-05-03T20:45:21.175Z"
   },
   {
    "duration": 513,
    "start_time": "2022-05-03T20:45:21.187Z"
   },
   {
    "duration": 72,
    "start_time": "2022-05-03T20:45:21.703Z"
   },
   {
    "duration": 2206,
    "start_time": "2022-05-03T20:45:21.777Z"
   },
   {
    "duration": 16,
    "start_time": "2022-05-03T20:45:23.986Z"
   },
   {
    "duration": 15,
    "start_time": "2022-05-03T20:45:24.005Z"
   },
   {
    "duration": 19,
    "start_time": "2022-05-03T20:45:24.051Z"
   },
   {
    "duration": 9,
    "start_time": "2022-05-03T20:45:24.072Z"
   },
   {
    "duration": 1961,
    "start_time": "2022-05-05T18:10:06.876Z"
   },
   {
    "duration": 783,
    "start_time": "2022-05-05T18:10:08.840Z"
   },
   {
    "duration": 4,
    "start_time": "2022-05-05T18:10:09.627Z"
   },
   {
    "duration": 252,
    "start_time": "2022-05-05T18:10:09.634Z"
   },
   {
    "duration": 0,
    "start_time": "2022-05-05T18:10:09.896Z"
   },
   {
    "duration": 0,
    "start_time": "2022-05-05T18:10:09.898Z"
   },
   {
    "duration": 0,
    "start_time": "2022-05-05T18:10:09.900Z"
   },
   {
    "duration": 0,
    "start_time": "2022-05-05T18:10:09.903Z"
   },
   {
    "duration": 0,
    "start_time": "2022-05-05T18:10:09.906Z"
   },
   {
    "duration": 0,
    "start_time": "2022-05-05T18:10:09.908Z"
   },
   {
    "duration": 0,
    "start_time": "2022-05-05T18:10:09.910Z"
   },
   {
    "duration": 0,
    "start_time": "2022-05-05T18:10:09.913Z"
   },
   {
    "duration": 0,
    "start_time": "2022-05-05T18:10:09.915Z"
   },
   {
    "duration": 0,
    "start_time": "2022-05-05T18:10:09.919Z"
   },
   {
    "duration": 0,
    "start_time": "2022-05-05T18:10:09.922Z"
   },
   {
    "duration": 0,
    "start_time": "2022-05-05T18:10:09.924Z"
   },
   {
    "duration": 0,
    "start_time": "2022-05-05T18:10:09.926Z"
   },
   {
    "duration": 0,
    "start_time": "2022-05-05T18:10:09.928Z"
   },
   {
    "duration": 0,
    "start_time": "2022-05-05T18:10:09.930Z"
   },
   {
    "duration": 0,
    "start_time": "2022-05-05T18:10:09.932Z"
   },
   {
    "duration": 0,
    "start_time": "2022-05-05T18:10:09.934Z"
   },
   {
    "duration": 0,
    "start_time": "2022-05-05T18:10:09.935Z"
   },
   {
    "duration": 0,
    "start_time": "2022-05-05T18:10:09.936Z"
   },
   {
    "duration": 0,
    "start_time": "2022-05-05T18:10:09.937Z"
   },
   {
    "duration": 0,
    "start_time": "2022-05-05T18:10:09.940Z"
   },
   {
    "duration": 0,
    "start_time": "2022-05-05T18:10:09.993Z"
   },
   {
    "duration": 0,
    "start_time": "2022-05-05T18:10:09.993Z"
   },
   {
    "duration": 0,
    "start_time": "2022-05-05T18:10:09.995Z"
   },
   {
    "duration": 0,
    "start_time": "2022-05-05T18:10:10.001Z"
   },
   {
    "duration": 0,
    "start_time": "2022-05-05T18:10:10.004Z"
   },
   {
    "duration": 0,
    "start_time": "2022-05-05T18:10:10.006Z"
   },
   {
    "duration": 0,
    "start_time": "2022-05-05T18:10:10.008Z"
   },
   {
    "duration": 0,
    "start_time": "2022-05-05T18:10:10.009Z"
   },
   {
    "duration": 0,
    "start_time": "2022-05-05T18:10:10.011Z"
   },
   {
    "duration": 0,
    "start_time": "2022-05-05T18:10:10.013Z"
   },
   {
    "duration": 1,
    "start_time": "2022-05-05T18:10:10.014Z"
   },
   {
    "duration": 2083,
    "start_time": "2022-05-05T18:10:47.230Z"
   },
   {
    "duration": 853,
    "start_time": "2022-05-05T18:10:49.319Z"
   },
   {
    "duration": 4,
    "start_time": "2022-05-05T18:10:50.175Z"
   },
   {
    "duration": 38,
    "start_time": "2022-05-05T18:10:50.182Z"
   },
   {
    "duration": 20,
    "start_time": "2022-05-05T18:10:50.224Z"
   },
   {
    "duration": 21,
    "start_time": "2022-05-05T18:10:50.246Z"
   },
   {
    "duration": 62,
    "start_time": "2022-05-05T18:10:50.293Z"
   },
   {
    "duration": 53,
    "start_time": "2022-05-05T18:10:50.359Z"
   },
   {
    "duration": 40,
    "start_time": "2022-05-05T18:10:50.420Z"
   },
   {
    "duration": 41,
    "start_time": "2022-05-05T18:10:50.464Z"
   },
   {
    "duration": 62,
    "start_time": "2022-05-05T18:10:50.508Z"
   },
   {
    "duration": 17,
    "start_time": "2022-05-05T18:10:50.574Z"
   },
   {
    "duration": 51,
    "start_time": "2022-05-05T18:10:50.602Z"
   },
   {
    "duration": 131,
    "start_time": "2022-05-05T18:10:50.658Z"
   },
   {
    "duration": 26,
    "start_time": "2022-05-05T18:10:50.796Z"
   },
   {
    "duration": 21,
    "start_time": "2022-05-05T18:10:50.828Z"
   },
   {
    "duration": 18,
    "start_time": "2022-05-05T18:10:50.853Z"
   },
   {
    "duration": 64,
    "start_time": "2022-05-05T18:10:50.874Z"
   },
   {
    "duration": 108,
    "start_time": "2022-05-05T18:10:50.941Z"
   },
   {
    "duration": 39,
    "start_time": "2022-05-05T18:10:51.052Z"
   },
   {
    "duration": 156,
    "start_time": "2022-05-05T18:10:51.094Z"
   },
   {
    "duration": 49,
    "start_time": "2022-05-05T18:10:51.261Z"
   },
   {
    "duration": 64,
    "start_time": "2022-05-05T18:10:51.313Z"
   },
   {
    "duration": 114,
    "start_time": "2022-05-05T18:10:51.381Z"
   },
   {
    "duration": 17,
    "start_time": "2022-05-05T18:10:51.498Z"
   },
   {
    "duration": 45,
    "start_time": "2022-05-05T18:10:51.519Z"
   },
   {
    "duration": 75,
    "start_time": "2022-05-05T18:10:51.569Z"
   },
   {
    "duration": 21,
    "start_time": "2022-05-05T18:10:51.647Z"
   },
   {
    "duration": 974,
    "start_time": "2022-05-05T18:10:51.672Z"
   },
   {
    "duration": 110,
    "start_time": "2022-05-05T18:10:52.649Z"
   },
   {
    "duration": 2923,
    "start_time": "2022-05-05T18:10:52.762Z"
   },
   {
    "duration": 18,
    "start_time": "2022-05-05T18:10:55.692Z"
   },
   {
    "duration": 48,
    "start_time": "2022-05-05T18:10:55.712Z"
   },
   {
    "duration": 21,
    "start_time": "2022-05-05T18:10:55.763Z"
   },
   {
    "duration": 38,
    "start_time": "2022-05-05T18:10:55.786Z"
   },
   {
    "duration": 218,
    "start_time": "2022-05-05T18:14:01.126Z"
   },
   {
    "duration": 214,
    "start_time": "2022-05-05T18:14:04.697Z"
   },
   {
    "duration": 1889,
    "start_time": "2022-05-05T18:16:51.644Z"
   },
   {
    "duration": 688,
    "start_time": "2022-05-05T18:16:53.536Z"
   },
   {
    "duration": 34,
    "start_time": "2022-05-05T18:16:54.227Z"
   },
   {
    "duration": 37,
    "start_time": "2022-05-05T18:16:54.265Z"
   },
   {
    "duration": 38,
    "start_time": "2022-05-05T18:16:54.306Z"
   },
   {
    "duration": 147,
    "start_time": "2022-05-05T18:16:54.347Z"
   },
   {
    "duration": 24,
    "start_time": "2022-05-05T18:16:54.500Z"
   },
   {
    "duration": 105,
    "start_time": "2022-05-05T18:16:54.527Z"
   },
   {
    "duration": 74,
    "start_time": "2022-05-05T18:16:54.635Z"
   },
   {
    "duration": 78,
    "start_time": "2022-05-05T18:16:54.716Z"
   },
   {
    "duration": 23,
    "start_time": "2022-05-05T18:16:54.797Z"
   },
   {
    "duration": 77,
    "start_time": "2022-05-05T18:16:54.823Z"
   },
   {
    "duration": 290,
    "start_time": "2022-05-05T18:16:54.905Z"
   },
   {
    "duration": 22,
    "start_time": "2022-05-05T18:16:55.198Z"
   },
   {
    "duration": 15,
    "start_time": "2022-05-05T18:16:55.223Z"
   },
   {
    "duration": 64,
    "start_time": "2022-05-05T18:16:55.240Z"
   },
   {
    "duration": 106,
    "start_time": "2022-05-05T18:16:55.306Z"
   },
   {
    "duration": 181,
    "start_time": "2022-05-05T18:16:55.415Z"
   },
   {
    "duration": 28,
    "start_time": "2022-05-05T18:16:55.601Z"
   },
   {
    "duration": 268,
    "start_time": "2022-05-05T18:16:55.632Z"
   },
   {
    "duration": 87,
    "start_time": "2022-05-05T18:16:55.906Z"
   },
   {
    "duration": 101,
    "start_time": "2022-05-05T18:16:55.996Z"
   },
   {
    "duration": 125,
    "start_time": "2022-05-05T18:16:56.103Z"
   },
   {
    "duration": 71,
    "start_time": "2022-05-05T18:16:56.231Z"
   },
   {
    "duration": 43,
    "start_time": "2022-05-05T18:16:56.305Z"
   },
   {
    "duration": 77,
    "start_time": "2022-05-05T18:16:56.350Z"
   },
   {
    "duration": 11,
    "start_time": "2022-05-05T18:16:56.430Z"
   },
   {
    "duration": 1313,
    "start_time": "2022-05-05T18:16:56.503Z"
   },
   {
    "duration": 85,
    "start_time": "2022-05-05T18:16:57.818Z"
   },
   {
    "duration": 2235,
    "start_time": "2022-05-05T18:16:57.905Z"
   },
   {
    "duration": 15,
    "start_time": "2022-05-05T18:17:00.143Z"
   },
   {
    "duration": 47,
    "start_time": "2022-05-05T18:17:00.162Z"
   },
   {
    "duration": 20,
    "start_time": "2022-05-05T18:17:00.213Z"
   },
   {
    "duration": 8,
    "start_time": "2022-05-05T18:17:00.236Z"
   },
   {
    "duration": 6,
    "start_time": "2022-05-05T18:21:25.166Z"
   },
   {
    "duration": 10,
    "start_time": "2022-05-05T18:21:28.566Z"
   },
   {
    "duration": 11,
    "start_time": "2022-05-05T18:21:52.947Z"
   },
   {
    "duration": 13,
    "start_time": "2022-05-05T18:21:59.318Z"
   },
   {
    "duration": 152,
    "start_time": "2022-05-05T18:22:14.686Z"
   },
   {
    "duration": 1893,
    "start_time": "2022-05-05T18:23:17.079Z"
   },
   {
    "duration": 728,
    "start_time": "2022-05-05T18:23:18.974Z"
   },
   {
    "duration": 34,
    "start_time": "2022-05-05T18:23:19.704Z"
   },
   {
    "duration": 17,
    "start_time": "2022-05-05T18:23:19.743Z"
   },
   {
    "duration": 214,
    "start_time": "2022-05-05T18:23:19.764Z"
   },
   {
    "duration": 0,
    "start_time": "2022-05-05T18:23:19.982Z"
   },
   {
    "duration": 0,
    "start_time": "2022-05-05T18:23:19.983Z"
   },
   {
    "duration": 0,
    "start_time": "2022-05-05T18:23:19.985Z"
   },
   {
    "duration": 0,
    "start_time": "2022-05-05T18:23:19.986Z"
   },
   {
    "duration": 0,
    "start_time": "2022-05-05T18:23:19.988Z"
   },
   {
    "duration": 0,
    "start_time": "2022-05-05T18:23:19.990Z"
   },
   {
    "duration": 0,
    "start_time": "2022-05-05T18:23:19.991Z"
   },
   {
    "duration": 0,
    "start_time": "2022-05-05T18:23:20.001Z"
   },
   {
    "duration": 0,
    "start_time": "2022-05-05T18:23:20.002Z"
   },
   {
    "duration": 0,
    "start_time": "2022-05-05T18:23:20.004Z"
   },
   {
    "duration": 0,
    "start_time": "2022-05-05T18:23:20.005Z"
   },
   {
    "duration": 0,
    "start_time": "2022-05-05T18:23:20.007Z"
   },
   {
    "duration": 0,
    "start_time": "2022-05-05T18:23:20.009Z"
   },
   {
    "duration": 0,
    "start_time": "2022-05-05T18:23:20.011Z"
   },
   {
    "duration": 0,
    "start_time": "2022-05-05T18:23:20.012Z"
   },
   {
    "duration": 0,
    "start_time": "2022-05-05T18:23:20.013Z"
   },
   {
    "duration": 0,
    "start_time": "2022-05-05T18:23:20.014Z"
   },
   {
    "duration": 0,
    "start_time": "2022-05-05T18:23:20.017Z"
   },
   {
    "duration": 0,
    "start_time": "2022-05-05T18:23:20.018Z"
   },
   {
    "duration": 0,
    "start_time": "2022-05-05T18:23:20.019Z"
   },
   {
    "duration": 0,
    "start_time": "2022-05-05T18:23:20.021Z"
   },
   {
    "duration": 0,
    "start_time": "2022-05-05T18:23:20.023Z"
   },
   {
    "duration": 0,
    "start_time": "2022-05-05T18:23:20.025Z"
   },
   {
    "duration": 0,
    "start_time": "2022-05-05T18:23:20.026Z"
   },
   {
    "duration": 0,
    "start_time": "2022-05-05T18:23:20.027Z"
   },
   {
    "duration": 0,
    "start_time": "2022-05-05T18:23:20.029Z"
   },
   {
    "duration": 0,
    "start_time": "2022-05-05T18:23:20.030Z"
   },
   {
    "duration": 0,
    "start_time": "2022-05-05T18:23:20.031Z"
   },
   {
    "duration": 0,
    "start_time": "2022-05-05T18:23:20.033Z"
   },
   {
    "duration": 0,
    "start_time": "2022-05-05T18:23:20.035Z"
   },
   {
    "duration": 0,
    "start_time": "2022-05-05T18:23:20.036Z"
   },
   {
    "duration": 0,
    "start_time": "2022-05-05T18:23:20.038Z"
   },
   {
    "duration": 1,
    "start_time": "2022-05-05T18:23:20.039Z"
   },
   {
    "duration": 1583,
    "start_time": "2022-05-05T18:24:36.859Z"
   },
   {
    "duration": 778,
    "start_time": "2022-05-05T18:24:38.445Z"
   },
   {
    "duration": 36,
    "start_time": "2022-05-05T18:24:39.226Z"
   },
   {
    "duration": 24,
    "start_time": "2022-05-05T18:24:39.266Z"
   },
   {
    "duration": 34,
    "start_time": "2022-05-05T18:24:39.299Z"
   },
   {
    "duration": 28,
    "start_time": "2022-05-05T18:24:39.336Z"
   },
   {
    "duration": 51,
    "start_time": "2022-05-05T18:24:39.366Z"
   },
   {
    "duration": 156,
    "start_time": "2022-05-05T18:24:39.422Z"
   },
   {
    "duration": 29,
    "start_time": "2022-05-05T18:24:39.580Z"
   },
   {
    "duration": 44,
    "start_time": "2022-05-05T18:24:39.613Z"
   },
   {
    "duration": 90,
    "start_time": "2022-05-05T18:24:39.659Z"
   },
   {
    "duration": 15,
    "start_time": "2022-05-05T18:24:39.752Z"
   },
   {
    "duration": 39,
    "start_time": "2022-05-05T18:24:39.796Z"
   },
   {
    "duration": 83,
    "start_time": "2022-05-05T18:24:39.838Z"
   },
   {
    "duration": 13,
    "start_time": "2022-05-05T18:24:39.925Z"
   },
   {
    "duration": 24,
    "start_time": "2022-05-05T18:24:39.940Z"
   },
   {
    "duration": 142,
    "start_time": "2022-05-05T18:24:39.966Z"
   },
   {
    "duration": 24,
    "start_time": "2022-05-05T18:24:40.110Z"
   },
   {
    "duration": 6,
    "start_time": "2022-05-05T18:24:40.136Z"
   },
   {
    "duration": 14,
    "start_time": "2022-05-05T18:24:40.144Z"
   },
   {
    "duration": 65,
    "start_time": "2022-05-05T18:24:40.161Z"
   },
   {
    "duration": 85,
    "start_time": "2022-05-05T18:24:40.229Z"
   },
   {
    "duration": 27,
    "start_time": "2022-05-05T18:24:40.320Z"
   },
   {
    "duration": 122,
    "start_time": "2022-05-05T18:24:40.349Z"
   },
   {
    "duration": 56,
    "start_time": "2022-05-05T18:24:40.473Z"
   },
   {
    "duration": 41,
    "start_time": "2022-05-05T18:24:40.531Z"
   },
   {
    "duration": 99,
    "start_time": "2022-05-05T18:24:40.574Z"
   },
   {
    "duration": 16,
    "start_time": "2022-05-05T18:24:40.697Z"
   },
   {
    "duration": 32,
    "start_time": "2022-05-05T18:24:40.715Z"
   },
   {
    "duration": 30,
    "start_time": "2022-05-05T18:24:40.750Z"
   },
   {
    "duration": 25,
    "start_time": "2022-05-05T18:24:40.782Z"
   },
   {
    "duration": 661,
    "start_time": "2022-05-05T18:24:40.809Z"
   },
   {
    "duration": 73,
    "start_time": "2022-05-05T18:24:41.473Z"
   },
   {
    "duration": 2469,
    "start_time": "2022-05-05T18:24:41.548Z"
   },
   {
    "duration": 16,
    "start_time": "2022-05-05T18:24:44.020Z"
   },
   {
    "duration": 14,
    "start_time": "2022-05-05T18:24:44.038Z"
   },
   {
    "duration": 49,
    "start_time": "2022-05-05T18:24:44.054Z"
   },
   {
    "duration": 26,
    "start_time": "2022-05-05T18:24:44.109Z"
   },
   {
    "duration": 1855,
    "start_time": "2022-05-05T18:31:32.076Z"
   },
   {
    "duration": 738,
    "start_time": "2022-05-05T18:31:33.935Z"
   },
   {
    "duration": 27,
    "start_time": "2022-05-05T18:31:34.675Z"
   },
   {
    "duration": 46,
    "start_time": "2022-05-05T18:31:34.706Z"
   },
   {
    "duration": 18,
    "start_time": "2022-05-05T18:31:34.755Z"
   },
   {
    "duration": 26,
    "start_time": "2022-05-05T18:31:34.775Z"
   },
   {
    "duration": 66,
    "start_time": "2022-05-05T18:31:34.803Z"
   },
   {
    "duration": 171,
    "start_time": "2022-05-05T18:31:34.872Z"
   },
   {
    "duration": 18,
    "start_time": "2022-05-05T18:31:35.045Z"
   },
   {
    "duration": 72,
    "start_time": "2022-05-05T18:31:35.068Z"
   },
   {
    "duration": 114,
    "start_time": "2022-05-05T18:31:35.143Z"
   },
   {
    "duration": 15,
    "start_time": "2022-05-05T18:31:35.260Z"
   },
   {
    "duration": 60,
    "start_time": "2022-05-05T18:31:35.292Z"
   },
   {
    "duration": 82,
    "start_time": "2022-05-05T18:31:35.354Z"
   },
   {
    "duration": 16,
    "start_time": "2022-05-05T18:31:35.440Z"
   },
   {
    "duration": 17,
    "start_time": "2022-05-05T18:31:35.458Z"
   },
   {
    "duration": 175,
    "start_time": "2022-05-05T18:31:35.477Z"
   },
   {
    "duration": 20,
    "start_time": "2022-05-05T18:31:35.655Z"
   },
   {
    "duration": 34,
    "start_time": "2022-05-05T18:31:35.677Z"
   },
   {
    "duration": 35,
    "start_time": "2022-05-05T18:31:35.714Z"
   },
   {
    "duration": 47,
    "start_time": "2022-05-05T18:31:35.752Z"
   },
   {
    "duration": 90,
    "start_time": "2022-05-05T18:31:35.807Z"
   },
   {
    "duration": 21,
    "start_time": "2022-05-05T18:31:35.903Z"
   },
   {
    "duration": 135,
    "start_time": "2022-05-05T18:31:35.928Z"
   },
   {
    "duration": 58,
    "start_time": "2022-05-05T18:31:36.065Z"
   },
   {
    "duration": 41,
    "start_time": "2022-05-05T18:31:36.126Z"
   },
   {
    "duration": 90,
    "start_time": "2022-05-05T18:31:36.170Z"
   },
   {
    "duration": 27,
    "start_time": "2022-05-05T18:31:36.266Z"
   },
   {
    "duration": 21,
    "start_time": "2022-05-05T18:31:36.295Z"
   },
   {
    "duration": 48,
    "start_time": "2022-05-05T18:31:36.319Z"
   },
   {
    "duration": 11,
    "start_time": "2022-05-05T18:31:36.370Z"
   },
   {
    "duration": 554,
    "start_time": "2022-05-05T18:31:36.398Z"
   },
   {
    "duration": 86,
    "start_time": "2022-05-05T18:31:36.954Z"
   },
   {
    "duration": 5507,
    "start_time": "2022-05-05T18:31:37.043Z"
   },
   {
    "duration": 72,
    "start_time": "2022-05-05T18:31:42.553Z"
   },
   {
    "duration": 89,
    "start_time": "2022-05-05T18:31:42.628Z"
   },
   {
    "duration": 101,
    "start_time": "2022-05-05T18:31:42.721Z"
   },
   {
    "duration": 18,
    "start_time": "2022-05-05T18:31:42.827Z"
   },
   {
    "duration": 1890,
    "start_time": "2022-05-05T18:33:13.577Z"
   },
   {
    "duration": 934,
    "start_time": "2022-05-05T18:33:15.470Z"
   },
   {
    "duration": 37,
    "start_time": "2022-05-05T18:33:16.409Z"
   },
   {
    "duration": 20,
    "start_time": "2022-05-05T18:33:16.450Z"
   },
   {
    "duration": 29,
    "start_time": "2022-05-05T18:33:16.474Z"
   },
   {
    "duration": 51,
    "start_time": "2022-05-05T18:33:16.506Z"
   },
   {
    "duration": 38,
    "start_time": "2022-05-05T18:33:16.559Z"
   },
   {
    "duration": 172,
    "start_time": "2022-05-05T18:33:16.599Z"
   },
   {
    "duration": 28,
    "start_time": "2022-05-05T18:33:16.773Z"
   },
   {
    "duration": 56,
    "start_time": "2022-05-05T18:33:16.808Z"
   },
   {
    "duration": 93,
    "start_time": "2022-05-05T18:33:16.867Z"
   },
   {
    "duration": 14,
    "start_time": "2022-05-05T18:33:16.963Z"
   },
   {
    "duration": 51,
    "start_time": "2022-05-05T18:33:16.979Z"
   },
   {
    "duration": 97,
    "start_time": "2022-05-05T18:33:17.033Z"
   },
   {
    "duration": 12,
    "start_time": "2022-05-05T18:33:17.132Z"
   },
   {
    "duration": 21,
    "start_time": "2022-05-05T18:33:17.147Z"
   },
   {
    "duration": 238,
    "start_time": "2022-05-05T18:33:17.170Z"
   },
   {
    "duration": 26,
    "start_time": "2022-05-05T18:33:17.410Z"
   },
   {
    "duration": 7,
    "start_time": "2022-05-05T18:33:17.439Z"
   },
   {
    "duration": 15,
    "start_time": "2022-05-05T18:33:17.449Z"
   },
   {
    "duration": 68,
    "start_time": "2022-05-05T18:33:17.466Z"
   },
   {
    "duration": 114,
    "start_time": "2022-05-05T18:33:17.537Z"
   },
   {
    "duration": 43,
    "start_time": "2022-05-05T18:33:17.654Z"
   },
   {
    "duration": 263,
    "start_time": "2022-05-05T18:33:17.702Z"
   },
   {
    "duration": 0,
    "start_time": "2022-05-05T18:33:17.968Z"
   },
   {
    "duration": 0,
    "start_time": "2022-05-05T18:33:17.971Z"
   },
   {
    "duration": 0,
    "start_time": "2022-05-05T18:33:17.973Z"
   },
   {
    "duration": 0,
    "start_time": "2022-05-05T18:33:17.992Z"
   },
   {
    "duration": 0,
    "start_time": "2022-05-05T18:33:17.996Z"
   },
   {
    "duration": 0,
    "start_time": "2022-05-05T18:33:17.998Z"
   },
   {
    "duration": 0,
    "start_time": "2022-05-05T18:33:18.004Z"
   },
   {
    "duration": 0,
    "start_time": "2022-05-05T18:33:18.006Z"
   },
   {
    "duration": 0,
    "start_time": "2022-05-05T18:33:18.008Z"
   },
   {
    "duration": 0,
    "start_time": "2022-05-05T18:33:18.009Z"
   },
   {
    "duration": 0,
    "start_time": "2022-05-05T18:33:18.010Z"
   },
   {
    "duration": 0,
    "start_time": "2022-05-05T18:33:18.018Z"
   },
   {
    "duration": 0,
    "start_time": "2022-05-05T18:33:18.020Z"
   },
   {
    "duration": 0,
    "start_time": "2022-05-05T18:33:18.021Z"
   },
   {
    "duration": 0,
    "start_time": "2022-05-05T18:33:18.024Z"
   },
   {
    "duration": 12,
    "start_time": "2022-05-05T18:34:53.953Z"
   },
   {
    "duration": 91,
    "start_time": "2022-05-05T18:35:29.277Z"
   },
   {
    "duration": 48,
    "start_time": "2022-05-05T18:38:08.158Z"
   },
   {
    "duration": 35,
    "start_time": "2022-05-05T18:38:11.789Z"
   },
   {
    "duration": 86,
    "start_time": "2022-05-05T18:38:21.119Z"
   },
   {
    "duration": 28,
    "start_time": "2022-05-05T18:38:23.782Z"
   },
   {
    "duration": 90,
    "start_time": "2022-05-05T18:41:09.161Z"
   },
   {
    "duration": 27,
    "start_time": "2022-05-05T18:41:11.164Z"
   },
   {
    "duration": 1762,
    "start_time": "2022-05-05T18:47:38.551Z"
   },
   {
    "duration": 808,
    "start_time": "2022-05-05T18:47:40.320Z"
   },
   {
    "duration": 25,
    "start_time": "2022-05-05T18:47:41.131Z"
   },
   {
    "duration": 15,
    "start_time": "2022-05-05T18:47:41.159Z"
   },
   {
    "duration": 35,
    "start_time": "2022-05-05T18:47:41.177Z"
   },
   {
    "duration": 22,
    "start_time": "2022-05-05T18:47:41.214Z"
   },
   {
    "duration": 75,
    "start_time": "2022-05-05T18:47:41.239Z"
   },
   {
    "duration": 215,
    "start_time": "2022-05-05T18:47:41.317Z"
   },
   {
    "duration": 26,
    "start_time": "2022-05-05T18:47:41.536Z"
   },
   {
    "duration": 58,
    "start_time": "2022-05-05T18:47:41.566Z"
   },
   {
    "duration": 86,
    "start_time": "2022-05-05T18:47:41.626Z"
   },
   {
    "duration": 19,
    "start_time": "2022-05-05T18:47:41.714Z"
   },
   {
    "duration": 39,
    "start_time": "2022-05-05T18:47:41.736Z"
   },
   {
    "duration": 86,
    "start_time": "2022-05-05T18:47:41.777Z"
   },
   {
    "duration": 11,
    "start_time": "2022-05-05T18:47:41.865Z"
   },
   {
    "duration": 23,
    "start_time": "2022-05-05T18:47:41.904Z"
   },
   {
    "duration": 133,
    "start_time": "2022-05-05T18:47:41.929Z"
   },
   {
    "duration": 20,
    "start_time": "2022-05-05T18:47:42.065Z"
   },
   {
    "duration": 14,
    "start_time": "2022-05-05T18:47:42.094Z"
   },
   {
    "duration": 29,
    "start_time": "2022-05-05T18:47:42.111Z"
   },
   {
    "duration": 26,
    "start_time": "2022-05-05T18:47:42.143Z"
   },
   {
    "duration": 80,
    "start_time": "2022-05-05T18:47:42.171Z"
   },
   {
    "duration": 20,
    "start_time": "2022-05-05T18:47:42.254Z"
   },
   {
    "duration": 131,
    "start_time": "2022-05-05T18:47:42.277Z"
   },
   {
    "duration": 47,
    "start_time": "2022-05-05T18:47:42.410Z"
   },
   {
    "duration": 74,
    "start_time": "2022-05-05T18:47:42.459Z"
   },
   {
    "duration": 236,
    "start_time": "2022-05-05T18:47:42.536Z"
   },
   {
    "duration": 28,
    "start_time": "2022-05-05T18:47:42.779Z"
   },
   {
    "duration": 39,
    "start_time": "2022-05-05T18:47:42.810Z"
   },
   {
    "duration": 31,
    "start_time": "2022-05-05T18:47:42.851Z"
   },
   {
    "duration": 22,
    "start_time": "2022-05-05T18:47:42.885Z"
   },
   {
    "duration": 1019,
    "start_time": "2022-05-05T18:47:42.910Z"
   },
   {
    "duration": 85,
    "start_time": "2022-05-05T18:47:43.934Z"
   },
   {
    "duration": 2641,
    "start_time": "2022-05-05T18:47:44.026Z"
   },
   {
    "duration": 32,
    "start_time": "2022-05-05T18:47:46.669Z"
   },
   {
    "duration": 21,
    "start_time": "2022-05-05T18:47:46.703Z"
   },
   {
    "duration": 31,
    "start_time": "2022-05-05T18:47:46.726Z"
   },
   {
    "duration": 7,
    "start_time": "2022-05-05T18:47:46.759Z"
   },
   {
    "duration": 3668,
    "start_time": "2022-05-05T19:00:05.225Z"
   },
   {
    "duration": 3494,
    "start_time": "2022-05-05T19:00:38.115Z"
   },
   {
    "duration": 10,
    "start_time": "2022-05-05T19:00:48.001Z"
   },
   {
    "duration": 7,
    "start_time": "2022-05-05T19:01:29.550Z"
   },
   {
    "duration": 6,
    "start_time": "2022-05-05T19:01:45.106Z"
   },
   {
    "duration": 7,
    "start_time": "2022-05-05T19:02:06.790Z"
   },
   {
    "duration": 4886,
    "start_time": "2022-05-05T19:02:25.263Z"
   },
   {
    "duration": 1776,
    "start_time": "2022-05-05T19:08:19.530Z"
   },
   {
    "duration": 671,
    "start_time": "2022-05-05T19:08:21.309Z"
   },
   {
    "duration": 31,
    "start_time": "2022-05-05T19:08:21.983Z"
   },
   {
    "duration": 16,
    "start_time": "2022-05-05T19:08:22.017Z"
   },
   {
    "duration": 12,
    "start_time": "2022-05-05T19:08:22.035Z"
   },
   {
    "duration": 46,
    "start_time": "2022-05-05T19:08:22.049Z"
   },
   {
    "duration": 43,
    "start_time": "2022-05-05T19:08:22.101Z"
   },
   {
    "duration": 176,
    "start_time": "2022-05-05T19:08:22.146Z"
   },
   {
    "duration": 19,
    "start_time": "2022-05-05T19:08:22.325Z"
   },
   {
    "duration": 59,
    "start_time": "2022-05-05T19:08:22.348Z"
   },
   {
    "duration": 99,
    "start_time": "2022-05-05T19:08:22.409Z"
   },
   {
    "duration": 15,
    "start_time": "2022-05-05T19:08:22.510Z"
   },
   {
    "duration": 31,
    "start_time": "2022-05-05T19:08:22.527Z"
   },
   {
    "duration": 93,
    "start_time": "2022-05-05T19:08:22.561Z"
   },
   {
    "duration": 10,
    "start_time": "2022-05-05T19:08:22.656Z"
   },
   {
    "duration": 35,
    "start_time": "2022-05-05T19:08:22.668Z"
   },
   {
    "duration": 126,
    "start_time": "2022-05-05T19:08:22.706Z"
   },
   {
    "duration": 26,
    "start_time": "2022-05-05T19:08:22.835Z"
   },
   {
    "duration": 7,
    "start_time": "2022-05-05T19:08:22.864Z"
   },
   {
    "duration": 21,
    "start_time": "2022-05-05T19:08:22.907Z"
   },
   {
    "duration": 29,
    "start_time": "2022-05-05T19:08:22.932Z"
   },
   {
    "duration": 97,
    "start_time": "2022-05-05T19:08:22.963Z"
   },
   {
    "duration": 22,
    "start_time": "2022-05-05T19:08:23.062Z"
   },
   {
    "duration": 105,
    "start_time": "2022-05-05T19:08:23.086Z"
   },
   {
    "duration": 42,
    "start_time": "2022-05-05T19:08:23.196Z"
   },
   {
    "duration": 70,
    "start_time": "2022-05-05T19:08:23.240Z"
   },
   {
    "duration": 233,
    "start_time": "2022-05-05T19:08:23.312Z"
   },
   {
    "duration": 3590,
    "start_time": "2022-05-05T19:08:23.552Z"
   },
   {
    "duration": 0,
    "start_time": "2022-05-05T19:08:27.145Z"
   },
   {
    "duration": 0,
    "start_time": "2022-05-05T19:08:27.147Z"
   },
   {
    "duration": 0,
    "start_time": "2022-05-05T19:08:27.150Z"
   },
   {
    "duration": 0,
    "start_time": "2022-05-05T19:08:27.152Z"
   },
   {
    "duration": 0,
    "start_time": "2022-05-05T19:08:27.155Z"
   },
   {
    "duration": 0,
    "start_time": "2022-05-05T19:08:27.157Z"
   },
   {
    "duration": 0,
    "start_time": "2022-05-05T19:08:27.159Z"
   },
   {
    "duration": 0,
    "start_time": "2022-05-05T19:08:27.161Z"
   },
   {
    "duration": 0,
    "start_time": "2022-05-05T19:08:27.201Z"
   },
   {
    "duration": 0,
    "start_time": "2022-05-05T19:08:27.202Z"
   },
   {
    "duration": 0,
    "start_time": "2022-05-05T19:08:27.205Z"
   },
   {
    "duration": 7,
    "start_time": "2022-05-05T19:10:19.337Z"
   },
   {
    "duration": 6,
    "start_time": "2022-05-05T19:11:33.233Z"
   },
   {
    "duration": 225,
    "start_time": "2022-05-05T19:11:53.517Z"
   },
   {
    "duration": 198,
    "start_time": "2022-05-05T19:11:57.985Z"
   },
   {
    "duration": 14,
    "start_time": "2022-05-05T19:12:02.691Z"
   },
   {
    "duration": 6,
    "start_time": "2022-05-05T19:12:19.515Z"
   },
   {
    "duration": 1667,
    "start_time": "2022-05-05T19:13:03.299Z"
   },
   {
    "duration": 676,
    "start_time": "2022-05-05T19:13:04.969Z"
   },
   {
    "duration": 26,
    "start_time": "2022-05-05T19:13:05.647Z"
   },
   {
    "duration": 26,
    "start_time": "2022-05-05T19:13:05.675Z"
   },
   {
    "duration": 16,
    "start_time": "2022-05-05T19:13:05.704Z"
   },
   {
    "duration": 16,
    "start_time": "2022-05-05T19:13:05.722Z"
   },
   {
    "duration": 9,
    "start_time": "2022-05-05T19:13:05.740Z"
   },
   {
    "duration": 71,
    "start_time": "2022-05-05T19:13:05.751Z"
   },
   {
    "duration": 169,
    "start_time": "2022-05-05T19:13:05.824Z"
   },
   {
    "duration": 19,
    "start_time": "2022-05-05T19:13:05.998Z"
   },
   {
    "duration": 33,
    "start_time": "2022-05-05T19:13:06.020Z"
   },
   {
    "duration": 102,
    "start_time": "2022-05-05T19:13:06.055Z"
   },
   {
    "duration": 38,
    "start_time": "2022-05-05T19:13:06.159Z"
   },
   {
    "duration": 27,
    "start_time": "2022-05-05T19:13:06.200Z"
   },
   {
    "duration": 100,
    "start_time": "2022-05-05T19:13:06.230Z"
   },
   {
    "duration": 11,
    "start_time": "2022-05-05T19:13:06.333Z"
   },
   {
    "duration": 19,
    "start_time": "2022-05-05T19:13:06.346Z"
   },
   {
    "duration": 135,
    "start_time": "2022-05-05T19:13:06.367Z"
   },
   {
    "duration": 21,
    "start_time": "2022-05-05T19:13:06.507Z"
   },
   {
    "duration": 6,
    "start_time": "2022-05-05T19:13:06.530Z"
   },
   {
    "duration": 13,
    "start_time": "2022-05-05T19:13:06.538Z"
   },
   {
    "duration": 47,
    "start_time": "2022-05-05T19:13:06.553Z"
   },
   {
    "duration": 34,
    "start_time": "2022-05-05T19:13:06.602Z"
   },
   {
    "duration": 77,
    "start_time": "2022-05-05T19:13:06.639Z"
   },
   {
    "duration": 20,
    "start_time": "2022-05-05T19:13:06.718Z"
   },
   {
    "duration": 117,
    "start_time": "2022-05-05T19:13:06.740Z"
   },
   {
    "duration": 51,
    "start_time": "2022-05-05T19:13:06.859Z"
   },
   {
    "duration": 42,
    "start_time": "2022-05-05T19:13:06.915Z"
   },
   {
    "duration": 173,
    "start_time": "2022-05-05T19:13:06.959Z"
   },
   {
    "duration": 3373,
    "start_time": "2022-05-05T19:13:07.135Z"
   },
   {
    "duration": 0,
    "start_time": "2022-05-05T19:13:10.510Z"
   },
   {
    "duration": 0,
    "start_time": "2022-05-05T19:13:10.513Z"
   },
   {
    "duration": 1,
    "start_time": "2022-05-05T19:13:10.515Z"
   },
   {
    "duration": 0,
    "start_time": "2022-05-05T19:13:10.518Z"
   },
   {
    "duration": 0,
    "start_time": "2022-05-05T19:13:10.519Z"
   },
   {
    "duration": 0,
    "start_time": "2022-05-05T19:13:10.521Z"
   },
   {
    "duration": 0,
    "start_time": "2022-05-05T19:13:10.523Z"
   },
   {
    "duration": 0,
    "start_time": "2022-05-05T19:13:10.524Z"
   },
   {
    "duration": 0,
    "start_time": "2022-05-05T19:13:10.526Z"
   },
   {
    "duration": 0,
    "start_time": "2022-05-05T19:13:10.527Z"
   },
   {
    "duration": 0,
    "start_time": "2022-05-05T19:13:10.529Z"
   },
   {
    "duration": 1612,
    "start_time": "2022-05-05T19:15:02.871Z"
   },
   {
    "duration": 653,
    "start_time": "2022-05-05T19:15:04.486Z"
   },
   {
    "duration": 25,
    "start_time": "2022-05-05T19:15:05.142Z"
   },
   {
    "duration": 26,
    "start_time": "2022-05-05T19:15:05.170Z"
   },
   {
    "duration": 11,
    "start_time": "2022-05-05T19:15:05.206Z"
   },
   {
    "duration": 17,
    "start_time": "2022-05-05T19:15:05.219Z"
   },
   {
    "duration": 11,
    "start_time": "2022-05-05T19:15:05.238Z"
   },
   {
    "duration": 66,
    "start_time": "2022-05-05T19:15:05.252Z"
   },
   {
    "duration": 174,
    "start_time": "2022-05-05T19:15:05.321Z"
   },
   {
    "duration": 22,
    "start_time": "2022-05-05T19:15:05.500Z"
   },
   {
    "duration": 29,
    "start_time": "2022-05-05T19:15:05.525Z"
   },
   {
    "duration": 111,
    "start_time": "2022-05-05T19:15:05.557Z"
   },
   {
    "duration": 33,
    "start_time": "2022-05-05T19:15:05.671Z"
   },
   {
    "duration": 31,
    "start_time": "2022-05-05T19:15:05.708Z"
   },
   {
    "duration": 94,
    "start_time": "2022-05-05T19:15:05.741Z"
   },
   {
    "duration": 12,
    "start_time": "2022-05-05T19:15:05.837Z"
   },
   {
    "duration": 18,
    "start_time": "2022-05-05T19:15:05.852Z"
   },
   {
    "duration": 139,
    "start_time": "2022-05-05T19:15:05.892Z"
   },
   {
    "duration": 20,
    "start_time": "2022-05-05T19:15:06.034Z"
   },
   {
    "duration": 6,
    "start_time": "2022-05-05T19:15:06.056Z"
   },
   {
    "duration": 35,
    "start_time": "2022-05-05T19:15:06.064Z"
   },
   {
    "duration": 12,
    "start_time": "2022-05-05T19:15:06.102Z"
   },
   {
    "duration": 31,
    "start_time": "2022-05-05T19:15:06.116Z"
   },
   {
    "duration": 99,
    "start_time": "2022-05-05T19:15:06.149Z"
   },
   {
    "duration": 19,
    "start_time": "2022-05-05T19:15:06.250Z"
   },
   {
    "duration": 123,
    "start_time": "2022-05-05T19:15:06.271Z"
   },
   {
    "duration": 40,
    "start_time": "2022-05-05T19:15:06.397Z"
   },
   {
    "duration": 70,
    "start_time": "2022-05-05T19:15:06.442Z"
   },
   {
    "duration": 159,
    "start_time": "2022-05-05T19:15:06.514Z"
   },
   {
    "duration": 3552,
    "start_time": "2022-05-05T19:15:06.676Z"
   },
   {
    "duration": 0,
    "start_time": "2022-05-05T19:15:10.232Z"
   },
   {
    "duration": 0,
    "start_time": "2022-05-05T19:15:10.234Z"
   },
   {
    "duration": 1,
    "start_time": "2022-05-05T19:15:10.235Z"
   },
   {
    "duration": 0,
    "start_time": "2022-05-05T19:15:10.238Z"
   },
   {
    "duration": 1,
    "start_time": "2022-05-05T19:15:10.240Z"
   },
   {
    "duration": 0,
    "start_time": "2022-05-05T19:15:10.242Z"
   },
   {
    "duration": 0,
    "start_time": "2022-05-05T19:15:10.245Z"
   },
   {
    "duration": 0,
    "start_time": "2022-05-05T19:15:10.246Z"
   },
   {
    "duration": 0,
    "start_time": "2022-05-05T19:15:10.248Z"
   },
   {
    "duration": 0,
    "start_time": "2022-05-05T19:15:10.250Z"
   },
   {
    "duration": 0,
    "start_time": "2022-05-05T19:15:10.252Z"
   },
   {
    "duration": 6,
    "start_time": "2022-05-05T19:15:36.290Z"
   },
   {
    "duration": 7,
    "start_time": "2022-05-05T19:16:17.536Z"
   },
   {
    "duration": 6,
    "start_time": "2022-05-05T19:18:48.609Z"
   },
   {
    "duration": 7,
    "start_time": "2022-05-05T19:19:31.654Z"
   },
   {
    "duration": 6,
    "start_time": "2022-05-05T19:21:08.085Z"
   },
   {
    "duration": 1544,
    "start_time": "2022-05-05T19:30:09.694Z"
   },
   {
    "duration": 616,
    "start_time": "2022-05-05T19:30:11.241Z"
   },
   {
    "duration": 23,
    "start_time": "2022-05-05T19:30:11.859Z"
   },
   {
    "duration": 18,
    "start_time": "2022-05-05T19:30:11.885Z"
   },
   {
    "duration": 10,
    "start_time": "2022-05-05T19:30:11.905Z"
   },
   {
    "duration": 18,
    "start_time": "2022-05-05T19:30:11.917Z"
   },
   {
    "duration": 12,
    "start_time": "2022-05-05T19:30:11.937Z"
   },
   {
    "duration": 69,
    "start_time": "2022-05-05T19:30:11.951Z"
   },
   {
    "duration": 173,
    "start_time": "2022-05-05T19:30:12.022Z"
   },
   {
    "duration": 17,
    "start_time": "2022-05-05T19:30:12.199Z"
   },
   {
    "duration": 33,
    "start_time": "2022-05-05T19:30:12.218Z"
   },
   {
    "duration": 100,
    "start_time": "2022-05-05T19:30:12.253Z"
   },
   {
    "duration": 6,
    "start_time": "2022-05-05T19:30:12.356Z"
   },
   {
    "duration": 38,
    "start_time": "2022-05-05T19:30:12.364Z"
   },
   {
    "duration": 26,
    "start_time": "2022-05-05T19:30:12.404Z"
   },
   {
    "duration": 95,
    "start_time": "2022-05-05T19:30:12.432Z"
   },
   {
    "duration": 10,
    "start_time": "2022-05-05T19:30:12.529Z"
   },
   {
    "duration": 16,
    "start_time": "2022-05-05T19:30:12.541Z"
   },
   {
    "duration": 142,
    "start_time": "2022-05-05T19:30:12.559Z"
   },
   {
    "duration": 20,
    "start_time": "2022-05-05T19:30:12.703Z"
   },
   {
    "duration": 5,
    "start_time": "2022-05-05T19:30:12.725Z"
   },
   {
    "duration": 11,
    "start_time": "2022-05-05T19:30:12.732Z"
   },
   {
    "duration": 47,
    "start_time": "2022-05-05T19:30:12.746Z"
   },
   {
    "duration": 24,
    "start_time": "2022-05-05T19:30:12.795Z"
   },
   {
    "duration": 76,
    "start_time": "2022-05-05T19:30:12.821Z"
   },
   {
    "duration": 19,
    "start_time": "2022-05-05T19:30:12.899Z"
   },
   {
    "duration": 109,
    "start_time": "2022-05-05T19:30:12.920Z"
   },
   {
    "duration": 36,
    "start_time": "2022-05-05T19:30:13.034Z"
   },
   {
    "duration": 58,
    "start_time": "2022-05-05T19:30:13.072Z"
   },
   {
    "duration": 153,
    "start_time": "2022-05-05T19:30:13.132Z"
   },
   {
    "duration": 10,
    "start_time": "2022-05-05T19:30:13.287Z"
   },
   {
    "duration": 10,
    "start_time": "2022-05-05T19:30:13.299Z"
   },
   {
    "duration": 9,
    "start_time": "2022-05-05T19:30:13.311Z"
   },
   {
    "duration": 10,
    "start_time": "2022-05-05T19:30:13.322Z"
   },
   {
    "duration": 11,
    "start_time": "2022-05-05T19:30:13.334Z"
   },
   {
    "duration": 51,
    "start_time": "2022-05-05T19:30:13.347Z"
   },
   {
    "duration": 30,
    "start_time": "2022-05-05T19:30:13.401Z"
   },
   {
    "duration": 11,
    "start_time": "2022-05-05T19:30:13.434Z"
   },
   {
    "duration": 1046,
    "start_time": "2022-05-05T19:30:13.447Z"
   },
   {
    "duration": 59,
    "start_time": "2022-05-05T19:30:14.496Z"
   },
   {
    "duration": 2112,
    "start_time": "2022-05-05T19:30:14.558Z"
   },
   {
    "duration": 24,
    "start_time": "2022-05-05T19:30:16.672Z"
   },
   {
    "duration": 14,
    "start_time": "2022-05-05T19:30:16.698Z"
   },
   {
    "duration": 19,
    "start_time": "2022-05-05T19:30:16.715Z"
   },
   {
    "duration": 14,
    "start_time": "2022-05-05T19:30:16.737Z"
   },
   {
    "duration": 165,
    "start_time": "2022-05-05T19:37:25.285Z"
   },
   {
    "duration": 1939,
    "start_time": "2022-05-05T19:37:55.054Z"
   },
   {
    "duration": 14,
    "start_time": "2022-05-05T19:43:29.255Z"
   },
   {
    "duration": 1554,
    "start_time": "2022-05-05T19:43:34.788Z"
   },
   {
    "duration": 650,
    "start_time": "2022-05-05T19:43:36.345Z"
   },
   {
    "duration": 25,
    "start_time": "2022-05-05T19:43:36.998Z"
   },
   {
    "duration": 16,
    "start_time": "2022-05-05T19:43:37.026Z"
   },
   {
    "duration": 9,
    "start_time": "2022-05-05T19:43:37.046Z"
   },
   {
    "duration": 51,
    "start_time": "2022-05-05T19:43:37.057Z"
   },
   {
    "duration": 10,
    "start_time": "2022-05-05T19:43:37.111Z"
   },
   {
    "duration": 34,
    "start_time": "2022-05-05T19:43:37.124Z"
   },
   {
    "duration": 194,
    "start_time": "2022-05-05T19:43:37.161Z"
   },
   {
    "duration": 19,
    "start_time": "2022-05-05T19:43:37.358Z"
   },
   {
    "duration": 29,
    "start_time": "2022-05-05T19:43:37.393Z"
   },
   {
    "duration": 106,
    "start_time": "2022-05-05T19:43:37.424Z"
   },
   {
    "duration": 6,
    "start_time": "2022-05-05T19:43:37.532Z"
   },
   {
    "duration": 17,
    "start_time": "2022-05-05T19:43:37.542Z"
   },
   {
    "duration": 57,
    "start_time": "2022-05-05T19:43:37.562Z"
   },
   {
    "duration": 83,
    "start_time": "2022-05-05T19:43:37.621Z"
   },
   {
    "duration": 12,
    "start_time": "2022-05-05T19:43:37.706Z"
   },
   {
    "duration": 16,
    "start_time": "2022-05-05T19:43:37.720Z"
   },
   {
    "duration": 136,
    "start_time": "2022-05-05T19:43:37.738Z"
   },
   {
    "duration": 27,
    "start_time": "2022-05-05T19:43:37.876Z"
   },
   {
    "duration": 5,
    "start_time": "2022-05-05T19:43:37.906Z"
   },
   {
    "duration": 10,
    "start_time": "2022-05-05T19:43:37.914Z"
   },
   {
    "duration": 13,
    "start_time": "2022-05-05T19:43:37.927Z"
   },
   {
    "duration": 64,
    "start_time": "2022-05-05T19:43:37.942Z"
   },
   {
    "duration": 64,
    "start_time": "2022-05-05T19:43:38.009Z"
   },
   {
    "duration": 37,
    "start_time": "2022-05-05T19:43:38.075Z"
   },
   {
    "duration": 117,
    "start_time": "2022-05-05T19:43:38.115Z"
   },
   {
    "duration": 40,
    "start_time": "2022-05-05T19:43:38.234Z"
   },
   {
    "duration": 45,
    "start_time": "2022-05-05T19:43:38.292Z"
   },
   {
    "duration": 257,
    "start_time": "2022-05-05T19:43:38.340Z"
   },
   {
    "duration": 7,
    "start_time": "2022-05-05T19:43:38.600Z"
   },
   {
    "duration": 11,
    "start_time": "2022-05-05T19:43:38.611Z"
   },
   {
    "duration": 7,
    "start_time": "2022-05-05T19:43:38.625Z"
   },
   {
    "duration": 12,
    "start_time": "2022-05-05T19:43:38.635Z"
   },
   {
    "duration": 50,
    "start_time": "2022-05-05T19:43:38.649Z"
   },
   {
    "duration": 11,
    "start_time": "2022-05-05T19:43:38.702Z"
   },
   {
    "duration": 29,
    "start_time": "2022-05-05T19:43:38.716Z"
   },
   {
    "duration": 47,
    "start_time": "2022-05-05T19:43:38.748Z"
   },
   {
    "duration": 497,
    "start_time": "2022-05-05T19:43:38.797Z"
   },
   {
    "duration": 63,
    "start_time": "2022-05-05T19:43:39.296Z"
   },
   {
    "duration": 3034,
    "start_time": "2022-05-05T19:43:39.366Z"
   },
   {
    "duration": 1412,
    "start_time": "2022-05-05T19:43:42.402Z"
   },
   {
    "duration": 9,
    "start_time": "2022-05-05T19:43:43.817Z"
   },
   {
    "duration": 152,
    "start_time": "2022-05-05T19:43:43.828Z"
   },
   {
    "duration": 0,
    "start_time": "2022-05-05T19:43:43.983Z"
   },
   {
    "duration": 0,
    "start_time": "2022-05-05T19:43:43.992Z"
   },
   {
    "duration": 0,
    "start_time": "2022-05-05T19:43:43.994Z"
   },
   {
    "duration": 0,
    "start_time": "2022-05-05T19:43:43.996Z"
   },
   {
    "duration": 2958,
    "start_time": "2022-05-05T19:44:11.993Z"
   },
   {
    "duration": 1563,
    "start_time": "2022-05-05T19:44:55.663Z"
   },
   {
    "duration": 666,
    "start_time": "2022-05-05T19:44:57.228Z"
   },
   {
    "duration": 27,
    "start_time": "2022-05-05T19:44:57.896Z"
   },
   {
    "duration": 18,
    "start_time": "2022-05-05T19:44:57.926Z"
   },
   {
    "duration": 11,
    "start_time": "2022-05-05T19:44:57.947Z"
   },
   {
    "duration": 42,
    "start_time": "2022-05-05T19:44:57.961Z"
   },
   {
    "duration": 8,
    "start_time": "2022-05-05T19:44:58.005Z"
   },
   {
    "duration": 33,
    "start_time": "2022-05-05T19:44:58.016Z"
   },
   {
    "duration": 198,
    "start_time": "2022-05-05T19:44:58.052Z"
   },
   {
    "duration": 18,
    "start_time": "2022-05-05T19:44:58.254Z"
   },
   {
    "duration": 30,
    "start_time": "2022-05-05T19:44:58.294Z"
   },
   {
    "duration": 113,
    "start_time": "2022-05-05T19:44:58.326Z"
   },
   {
    "duration": 6,
    "start_time": "2022-05-05T19:44:58.441Z"
   },
   {
    "duration": 19,
    "start_time": "2022-05-05T19:44:58.449Z"
   },
   {
    "duration": 47,
    "start_time": "2022-05-05T19:44:58.470Z"
   },
   {
    "duration": 101,
    "start_time": "2022-05-05T19:44:58.520Z"
   },
   {
    "duration": 13,
    "start_time": "2022-05-05T19:44:58.624Z"
   },
   {
    "duration": 22,
    "start_time": "2022-05-05T19:44:58.640Z"
   },
   {
    "duration": 207,
    "start_time": "2022-05-05T19:44:58.665Z"
   },
   {
    "duration": 35,
    "start_time": "2022-05-05T19:44:58.875Z"
   },
   {
    "duration": 7,
    "start_time": "2022-05-05T19:44:58.913Z"
   },
   {
    "duration": 9,
    "start_time": "2022-05-05T19:44:58.923Z"
   },
   {
    "duration": 19,
    "start_time": "2022-05-05T19:44:58.935Z"
   },
   {
    "duration": 78,
    "start_time": "2022-05-05T19:44:58.957Z"
   },
   {
    "duration": 80,
    "start_time": "2022-05-05T19:44:59.037Z"
   },
   {
    "duration": 23,
    "start_time": "2022-05-05T19:44:59.119Z"
   },
   {
    "duration": 122,
    "start_time": "2022-05-05T19:44:59.144Z"
   },
   {
    "duration": 48,
    "start_time": "2022-05-05T19:44:59.271Z"
   },
   {
    "duration": 44,
    "start_time": "2022-05-05T19:44:59.321Z"
   },
   {
    "duration": 162,
    "start_time": "2022-05-05T19:44:59.367Z"
   },
   {
    "duration": 6,
    "start_time": "2022-05-05T19:44:59.532Z"
   },
   {
    "duration": 13,
    "start_time": "2022-05-05T19:44:59.540Z"
   },
   {
    "duration": 38,
    "start_time": "2022-05-05T19:44:59.556Z"
   },
   {
    "duration": 6,
    "start_time": "2022-05-05T19:44:59.597Z"
   },
   {
    "duration": 14,
    "start_time": "2022-05-05T19:44:59.606Z"
   },
   {
    "duration": 14,
    "start_time": "2022-05-05T19:44:59.623Z"
   },
   {
    "duration": 71,
    "start_time": "2022-05-05T19:44:59.639Z"
   },
   {
    "duration": 14,
    "start_time": "2022-05-05T19:44:59.713Z"
   },
   {
    "duration": 520,
    "start_time": "2022-05-05T19:44:59.730Z"
   },
   {
    "duration": 83,
    "start_time": "2022-05-05T19:45:00.253Z"
   },
   {
    "duration": 2300,
    "start_time": "2022-05-05T19:45:00.339Z"
   },
   {
    "duration": 1469,
    "start_time": "2022-05-05T19:45:02.642Z"
   },
   {
    "duration": 10,
    "start_time": "2022-05-05T19:45:04.114Z"
   },
   {
    "duration": 29,
    "start_time": "2022-05-05T19:45:04.126Z"
   },
   {
    "duration": 3484,
    "start_time": "2022-05-05T19:45:04.159Z"
   },
   {
    "duration": 190,
    "start_time": "2022-05-05T19:45:07.647Z"
   },
   {
    "duration": 0,
    "start_time": "2022-05-05T19:45:07.839Z"
   },
   {
    "duration": 0,
    "start_time": "2022-05-05T19:45:07.841Z"
   },
   {
    "duration": 0,
    "start_time": "2022-05-05T19:45:07.843Z"
   },
   {
    "duration": 0,
    "start_time": "2022-05-05T19:45:07.844Z"
   },
   {
    "duration": 1099,
    "start_time": "2022-05-05T19:52:58.978Z"
   },
   {
    "duration": 3452,
    "start_time": "2022-05-05T19:53:44.074Z"
   },
   {
    "duration": 2088,
    "start_time": "2022-05-05T19:54:20.906Z"
   },
   {
    "duration": 919,
    "start_time": "2022-05-05T19:54:22.998Z"
   },
   {
    "duration": 35,
    "start_time": "2022-05-05T19:54:23.920Z"
   },
   {
    "duration": 35,
    "start_time": "2022-05-05T19:54:23.959Z"
   },
   {
    "duration": 14,
    "start_time": "2022-05-05T19:54:23.997Z"
   },
   {
    "duration": 16,
    "start_time": "2022-05-05T19:54:24.013Z"
   },
   {
    "duration": 9,
    "start_time": "2022-05-05T19:54:24.031Z"
   },
   {
    "duration": 65,
    "start_time": "2022-05-05T19:54:24.042Z"
   },
   {
    "duration": 173,
    "start_time": "2022-05-05T19:54:24.109Z"
   },
   {
    "duration": 23,
    "start_time": "2022-05-05T19:54:24.286Z"
   },
   {
    "duration": 31,
    "start_time": "2022-05-05T19:54:24.311Z"
   },
   {
    "duration": 101,
    "start_time": "2022-05-05T19:54:24.344Z"
   },
   {
    "duration": 6,
    "start_time": "2022-05-05T19:54:24.447Z"
   },
   {
    "duration": 16,
    "start_time": "2022-05-05T19:54:24.455Z"
   },
   {
    "duration": 42,
    "start_time": "2022-05-05T19:54:24.473Z"
   },
   {
    "duration": 110,
    "start_time": "2022-05-05T19:54:24.518Z"
   },
   {
    "duration": 16,
    "start_time": "2022-05-05T19:54:24.631Z"
   },
   {
    "duration": 17,
    "start_time": "2022-05-05T19:54:24.650Z"
   },
   {
    "duration": 118,
    "start_time": "2022-05-05T19:54:24.694Z"
   },
   {
    "duration": 20,
    "start_time": "2022-05-05T19:54:24.814Z"
   },
   {
    "duration": 6,
    "start_time": "2022-05-05T19:54:24.836Z"
   },
   {
    "duration": 9,
    "start_time": "2022-05-05T19:54:24.844Z"
   },
   {
    "duration": 47,
    "start_time": "2022-05-05T19:54:24.855Z"
   },
   {
    "duration": 28,
    "start_time": "2022-05-05T19:54:24.904Z"
   },
   {
    "duration": 91,
    "start_time": "2022-05-05T19:54:24.934Z"
   },
   {
    "duration": 21,
    "start_time": "2022-05-05T19:54:25.028Z"
   },
   {
    "duration": 122,
    "start_time": "2022-05-05T19:54:25.051Z"
   },
   {
    "duration": 35,
    "start_time": "2022-05-05T19:54:25.179Z"
   },
   {
    "duration": 42,
    "start_time": "2022-05-05T19:54:25.216Z"
   },
   {
    "duration": 170,
    "start_time": "2022-05-05T19:54:25.260Z"
   },
   {
    "duration": 6,
    "start_time": "2022-05-05T19:54:25.432Z"
   },
   {
    "duration": 9,
    "start_time": "2022-05-05T19:54:25.440Z"
   },
   {
    "duration": 43,
    "start_time": "2022-05-05T19:54:25.451Z"
   },
   {
    "duration": 6,
    "start_time": "2022-05-05T19:54:25.496Z"
   },
   {
    "duration": 14,
    "start_time": "2022-05-05T19:54:25.504Z"
   },
   {
    "duration": 20,
    "start_time": "2022-05-05T19:54:25.520Z"
   },
   {
    "duration": 64,
    "start_time": "2022-05-05T19:54:25.543Z"
   },
   {
    "duration": 15,
    "start_time": "2022-05-05T19:54:25.609Z"
   },
   {
    "duration": 497,
    "start_time": "2022-05-05T19:54:25.626Z"
   },
   {
    "duration": 73,
    "start_time": "2022-05-05T19:54:26.125Z"
   },
   {
    "duration": 2095,
    "start_time": "2022-05-05T19:54:26.200Z"
   },
   {
    "duration": 9,
    "start_time": "2022-05-05T19:54:28.298Z"
   },
   {
    "duration": 13,
    "start_time": "2022-05-05T19:54:28.309Z"
   },
   {
    "duration": 2564,
    "start_time": "2022-05-05T19:54:28.324Z"
   },
   {
    "duration": 159,
    "start_time": "2022-05-05T19:54:30.893Z"
   },
   {
    "duration": 0,
    "start_time": "2022-05-05T19:54:31.055Z"
   },
   {
    "duration": 0,
    "start_time": "2022-05-05T19:54:31.057Z"
   },
   {
    "duration": 0,
    "start_time": "2022-05-05T19:54:31.059Z"
   },
   {
    "duration": 0,
    "start_time": "2022-05-05T19:54:31.061Z"
   },
   {
    "duration": 4508,
    "start_time": "2022-05-05T20:04:25.533Z"
   },
   {
    "duration": 0,
    "start_time": "2022-05-05T20:04:30.044Z"
   },
   {
    "duration": 0,
    "start_time": "2022-05-05T20:04:30.046Z"
   },
   {
    "duration": 0,
    "start_time": "2022-05-05T20:04:30.047Z"
   },
   {
    "duration": 2659,
    "start_time": "2022-05-05T20:04:42.461Z"
   },
   {
    "duration": 1747,
    "start_time": "2022-05-05T20:04:48.354Z"
   },
   {
    "duration": 731,
    "start_time": "2022-05-05T20:04:50.104Z"
   },
   {
    "duration": 29,
    "start_time": "2022-05-05T20:04:50.838Z"
   },
   {
    "duration": 41,
    "start_time": "2022-05-05T20:04:50.871Z"
   },
   {
    "duration": 21,
    "start_time": "2022-05-05T20:04:50.915Z"
   },
   {
    "duration": 38,
    "start_time": "2022-05-05T20:04:50.939Z"
   },
   {
    "duration": 52,
    "start_time": "2022-05-05T20:04:50.979Z"
   },
   {
    "duration": 52,
    "start_time": "2022-05-05T20:04:51.034Z"
   },
   {
    "duration": 178,
    "start_time": "2022-05-05T20:04:51.089Z"
   },
   {
    "duration": 32,
    "start_time": "2022-05-05T20:04:51.272Z"
   },
   {
    "duration": 59,
    "start_time": "2022-05-05T20:04:51.307Z"
   },
   {
    "duration": 118,
    "start_time": "2022-05-05T20:04:51.369Z"
   },
   {
    "duration": 12,
    "start_time": "2022-05-05T20:04:51.490Z"
   },
   {
    "duration": 58,
    "start_time": "2022-05-05T20:04:51.505Z"
   },
   {
    "duration": 62,
    "start_time": "2022-05-05T20:04:51.566Z"
   },
   {
    "duration": 90,
    "start_time": "2022-05-05T20:04:51.630Z"
   },
   {
    "duration": 13,
    "start_time": "2022-05-05T20:04:51.722Z"
   },
   {
    "duration": 42,
    "start_time": "2022-05-05T20:04:51.738Z"
   },
   {
    "duration": 150,
    "start_time": "2022-05-05T20:04:51.783Z"
   },
   {
    "duration": 26,
    "start_time": "2022-05-05T20:04:51.936Z"
   },
   {
    "duration": 27,
    "start_time": "2022-05-05T20:04:51.966Z"
   },
   {
    "duration": 8,
    "start_time": "2022-05-05T20:04:51.996Z"
   },
   {
    "duration": 34,
    "start_time": "2022-05-05T20:04:52.007Z"
   },
   {
    "duration": 54,
    "start_time": "2022-05-05T20:04:52.044Z"
   },
   {
    "duration": 69,
    "start_time": "2022-05-05T20:04:52.101Z"
   },
   {
    "duration": 49,
    "start_time": "2022-05-05T20:04:52.172Z"
   },
   {
    "duration": 115,
    "start_time": "2022-05-05T20:04:52.223Z"
   },
   {
    "duration": 36,
    "start_time": "2022-05-05T20:04:52.345Z"
   },
   {
    "duration": 58,
    "start_time": "2022-05-05T20:04:52.384Z"
   },
   {
    "duration": 213,
    "start_time": "2022-05-05T20:04:52.444Z"
   },
   {
    "duration": 8,
    "start_time": "2022-05-05T20:04:52.660Z"
   },
   {
    "duration": 29,
    "start_time": "2022-05-05T20:04:52.670Z"
   },
   {
    "duration": 17,
    "start_time": "2022-05-05T20:04:52.703Z"
   },
   {
    "duration": 10,
    "start_time": "2022-05-05T20:04:52.722Z"
   },
   {
    "duration": 16,
    "start_time": "2022-05-05T20:04:52.735Z"
   },
   {
    "duration": 47,
    "start_time": "2022-05-05T20:04:52.753Z"
   },
   {
    "duration": 33,
    "start_time": "2022-05-05T20:04:52.804Z"
   },
   {
    "duration": 12,
    "start_time": "2022-05-05T20:04:52.839Z"
   },
   {
    "duration": 642,
    "start_time": "2022-05-05T20:04:52.853Z"
   },
   {
    "duration": 68,
    "start_time": "2022-05-05T20:04:53.501Z"
   },
   {
    "duration": 2638,
    "start_time": "2022-05-05T20:04:53.572Z"
   },
   {
    "duration": 10,
    "start_time": "2022-05-05T20:04:56.213Z"
   },
   {
    "duration": 82,
    "start_time": "2022-05-05T20:04:56.226Z"
   },
   {
    "duration": 3980,
    "start_time": "2022-05-05T20:04:56.318Z"
   },
   {
    "duration": 177,
    "start_time": "2022-05-05T20:05:00.301Z"
   },
   {
    "duration": 0,
    "start_time": "2022-05-05T20:05:00.481Z"
   },
   {
    "duration": 0,
    "start_time": "2022-05-05T20:05:00.498Z"
   },
   {
    "duration": 0,
    "start_time": "2022-05-05T20:05:00.500Z"
   },
   {
    "duration": 0,
    "start_time": "2022-05-05T20:05:00.503Z"
   },
   {
    "duration": 1739,
    "start_time": "2022-05-05T20:05:46.111Z"
   },
   {
    "duration": 735,
    "start_time": "2022-05-05T20:05:47.853Z"
   },
   {
    "duration": 30,
    "start_time": "2022-05-05T20:05:48.590Z"
   },
   {
    "duration": 18,
    "start_time": "2022-05-05T20:05:48.623Z"
   },
   {
    "duration": 15,
    "start_time": "2022-05-05T20:05:48.645Z"
   },
   {
    "duration": 26,
    "start_time": "2022-05-05T20:05:48.692Z"
   },
   {
    "duration": 7,
    "start_time": "2022-05-05T20:05:48.721Z"
   },
   {
    "duration": 93,
    "start_time": "2022-05-05T20:05:48.731Z"
   },
   {
    "duration": 172,
    "start_time": "2022-05-05T20:05:48.827Z"
   },
   {
    "duration": 20,
    "start_time": "2022-05-05T20:05:49.002Z"
   },
   {
    "duration": 29,
    "start_time": "2022-05-05T20:05:49.025Z"
   },
   {
    "duration": 119,
    "start_time": "2022-05-05T20:05:49.056Z"
   },
   {
    "duration": 6,
    "start_time": "2022-05-05T20:05:49.178Z"
   },
   {
    "duration": 23,
    "start_time": "2022-05-05T20:05:49.196Z"
   },
   {
    "duration": 27,
    "start_time": "2022-05-05T20:05:49.223Z"
   },
   {
    "duration": 111,
    "start_time": "2022-05-05T20:05:49.254Z"
   },
   {
    "duration": 12,
    "start_time": "2022-05-05T20:05:49.367Z"
   },
   {
    "duration": 16,
    "start_time": "2022-05-05T20:05:49.392Z"
   },
   {
    "duration": 148,
    "start_time": "2022-05-05T20:05:49.411Z"
   },
   {
    "duration": 36,
    "start_time": "2022-05-05T20:05:49.561Z"
   },
   {
    "duration": 7,
    "start_time": "2022-05-05T20:05:49.600Z"
   },
   {
    "duration": 14,
    "start_time": "2022-05-05T20:05:49.610Z"
   },
   {
    "duration": 11,
    "start_time": "2022-05-05T20:05:49.626Z"
   },
   {
    "duration": 65,
    "start_time": "2022-05-05T20:05:49.640Z"
   },
   {
    "duration": 82,
    "start_time": "2022-05-05T20:05:49.707Z"
   },
   {
    "duration": 29,
    "start_time": "2022-05-05T20:05:49.793Z"
   },
   {
    "duration": 148,
    "start_time": "2022-05-05T20:05:49.826Z"
   },
   {
    "duration": 57,
    "start_time": "2022-05-05T20:05:49.978Z"
   },
   {
    "duration": 88,
    "start_time": "2022-05-05T20:05:50.038Z"
   },
   {
    "duration": 260,
    "start_time": "2022-05-05T20:05:50.129Z"
   },
   {
    "duration": 8,
    "start_time": "2022-05-05T20:05:50.392Z"
   },
   {
    "duration": 12,
    "start_time": "2022-05-05T20:05:50.403Z"
   },
   {
    "duration": 7,
    "start_time": "2022-05-05T20:05:50.419Z"
   },
   {
    "duration": 11,
    "start_time": "2022-05-05T20:05:50.429Z"
   },
   {
    "duration": 49,
    "start_time": "2022-05-05T20:05:50.443Z"
   },
   {
    "duration": 24,
    "start_time": "2022-05-05T20:05:50.497Z"
   },
   {
    "duration": 33,
    "start_time": "2022-05-05T20:05:50.524Z"
   },
   {
    "duration": 15,
    "start_time": "2022-05-05T20:05:50.559Z"
   },
   {
    "duration": 837,
    "start_time": "2022-05-05T20:05:50.607Z"
   },
   {
    "duration": 94,
    "start_time": "2022-05-05T20:05:51.446Z"
   },
   {
    "duration": 2343,
    "start_time": "2022-05-05T20:05:51.550Z"
   },
   {
    "duration": 15,
    "start_time": "2022-05-05T20:05:53.896Z"
   },
   {
    "duration": 13,
    "start_time": "2022-05-05T20:05:53.915Z"
   },
   {
    "duration": 15,
    "start_time": "2022-05-05T20:05:53.931Z"
   },
   {
    "duration": 2512,
    "start_time": "2022-05-05T20:05:53.949Z"
   },
   {
    "duration": 179,
    "start_time": "2022-05-05T20:05:56.464Z"
   },
   {
    "duration": 0,
    "start_time": "2022-05-05T20:05:56.645Z"
   },
   {
    "duration": 0,
    "start_time": "2022-05-05T20:05:56.647Z"
   },
   {
    "duration": 0,
    "start_time": "2022-05-05T20:05:56.648Z"
   },
   {
    "duration": 0,
    "start_time": "2022-05-05T20:05:56.650Z"
   },
   {
    "duration": 16,
    "start_time": "2022-05-05T20:46:03.071Z"
   },
   {
    "duration": 1808,
    "start_time": "2022-05-05T20:47:29.968Z"
   },
   {
    "duration": 753,
    "start_time": "2022-05-05T20:47:31.778Z"
   },
   {
    "duration": 29,
    "start_time": "2022-05-05T20:47:32.534Z"
   },
   {
    "duration": 17,
    "start_time": "2022-05-05T20:47:32.567Z"
   },
   {
    "duration": 11,
    "start_time": "2022-05-05T20:47:32.594Z"
   },
   {
    "duration": 27,
    "start_time": "2022-05-05T20:47:32.608Z"
   },
   {
    "duration": 14,
    "start_time": "2022-05-05T20:47:32.637Z"
   },
   {
    "duration": 66,
    "start_time": "2022-05-05T20:47:32.654Z"
   },
   {
    "duration": 178,
    "start_time": "2022-05-05T20:47:32.722Z"
   },
   {
    "duration": 23,
    "start_time": "2022-05-05T20:47:32.906Z"
   },
   {
    "duration": 46,
    "start_time": "2022-05-05T20:47:32.932Z"
   },
   {
    "duration": 85,
    "start_time": "2022-05-05T20:47:32.996Z"
   },
   {
    "duration": 19,
    "start_time": "2022-05-05T20:47:33.084Z"
   },
   {
    "duration": 30,
    "start_time": "2022-05-05T20:47:33.106Z"
   },
   {
    "duration": 28,
    "start_time": "2022-05-05T20:47:33.139Z"
   },
   {
    "duration": 170,
    "start_time": "2022-05-05T20:47:33.170Z"
   },
   {
    "duration": 77,
    "start_time": "2022-05-05T20:47:33.342Z"
   },
   {
    "duration": 16,
    "start_time": "2022-05-05T20:47:33.421Z"
   },
   {
    "duration": 362,
    "start_time": "2022-05-05T20:47:33.439Z"
   },
   {
    "duration": 29,
    "start_time": "2022-05-05T20:47:33.804Z"
   },
   {
    "duration": 61,
    "start_time": "2022-05-05T20:47:33.836Z"
   },
   {
    "duration": 10,
    "start_time": "2022-05-05T20:47:33.902Z"
   },
   {
    "duration": 24,
    "start_time": "2022-05-05T20:47:33.915Z"
   },
   {
    "duration": 100,
    "start_time": "2022-05-05T20:47:33.942Z"
   },
   {
    "duration": 261,
    "start_time": "2022-05-05T20:47:34.045Z"
   },
   {
    "duration": 31,
    "start_time": "2022-05-05T20:47:34.309Z"
   },
   {
    "duration": 282,
    "start_time": "2022-05-05T20:47:34.342Z"
   },
   {
    "duration": 99,
    "start_time": "2022-05-05T20:47:34.633Z"
   },
   {
    "duration": 114,
    "start_time": "2022-05-05T20:47:34.734Z"
   },
   {
    "duration": 545,
    "start_time": "2022-05-05T20:47:34.850Z"
   },
   {
    "duration": 7,
    "start_time": "2022-05-05T20:47:35.397Z"
   },
   {
    "duration": 31,
    "start_time": "2022-05-05T20:47:35.407Z"
   },
   {
    "duration": 72,
    "start_time": "2022-05-05T20:47:35.441Z"
   },
   {
    "duration": 13,
    "start_time": "2022-05-05T20:47:35.516Z"
   },
   {
    "duration": 16,
    "start_time": "2022-05-05T20:47:35.532Z"
   },
   {
    "duration": 69,
    "start_time": "2022-05-05T20:47:35.551Z"
   },
   {
    "duration": 106,
    "start_time": "2022-05-05T20:47:35.623Z"
   },
   {
    "duration": 11,
    "start_time": "2022-05-05T20:47:35.731Z"
   },
   {
    "duration": 1451,
    "start_time": "2022-05-05T20:47:35.744Z"
   },
   {
    "duration": 107,
    "start_time": "2022-05-05T20:47:37.198Z"
   },
   {
    "duration": 2837,
    "start_time": "2022-05-05T20:47:37.308Z"
   },
   {
    "duration": 191,
    "start_time": "2022-05-05T20:47:40.147Z"
   },
   {
    "duration": 0,
    "start_time": "2022-05-05T20:47:40.340Z"
   },
   {
    "duration": 0,
    "start_time": "2022-05-05T20:47:40.342Z"
   },
   {
    "duration": 0,
    "start_time": "2022-05-05T20:47:40.343Z"
   },
   {
    "duration": 0,
    "start_time": "2022-05-05T20:47:40.344Z"
   },
   {
    "duration": 0,
    "start_time": "2022-05-05T20:47:40.346Z"
   },
   {
    "duration": 0,
    "start_time": "2022-05-05T20:47:40.348Z"
   },
   {
    "duration": 0,
    "start_time": "2022-05-05T20:47:40.349Z"
   },
   {
    "duration": 0,
    "start_time": "2022-05-05T20:47:40.350Z"
   },
   {
    "duration": 0,
    "start_time": "2022-05-05T20:47:40.352Z"
   },
   {
    "duration": 11,
    "start_time": "2022-05-05T20:48:45.311Z"
   },
   {
    "duration": 27,
    "start_time": "2022-05-05T20:49:25.111Z"
   },
   {
    "duration": 10,
    "start_time": "2022-05-05T20:51:29.462Z"
   },
   {
    "duration": 17,
    "start_time": "2022-05-05T20:51:30.403Z"
   },
   {
    "duration": 4,
    "start_time": "2022-05-05T20:51:30.787Z"
   },
   {
    "duration": 3,
    "start_time": "2022-05-05T20:51:31.417Z"
   },
   {
    "duration": 15,
    "start_time": "2022-05-05T20:51:32.070Z"
   },
   {
    "duration": 1847,
    "start_time": "2022-05-05T20:53:22.379Z"
   },
   {
    "duration": 1005,
    "start_time": "2022-05-05T20:53:24.229Z"
   },
   {
    "duration": 66,
    "start_time": "2022-05-05T20:53:25.237Z"
   },
   {
    "duration": 20,
    "start_time": "2022-05-05T20:53:25.306Z"
   },
   {
    "duration": 13,
    "start_time": "2022-05-05T20:53:25.331Z"
   },
   {
    "duration": 20,
    "start_time": "2022-05-05T20:53:25.347Z"
   },
   {
    "duration": 38,
    "start_time": "2022-05-05T20:53:25.370Z"
   },
   {
    "duration": 57,
    "start_time": "2022-05-05T20:53:25.410Z"
   },
   {
    "duration": 195,
    "start_time": "2022-05-05T20:53:25.469Z"
   },
   {
    "duration": 34,
    "start_time": "2022-05-05T20:53:25.667Z"
   },
   {
    "duration": 39,
    "start_time": "2022-05-05T20:53:25.714Z"
   },
   {
    "duration": 98,
    "start_time": "2022-05-05T20:53:25.755Z"
   },
   {
    "duration": 7,
    "start_time": "2022-05-05T20:53:25.855Z"
   },
   {
    "duration": 45,
    "start_time": "2022-05-05T20:53:25.864Z"
   },
   {
    "duration": 39,
    "start_time": "2022-05-05T20:53:25.916Z"
   },
   {
    "duration": 73,
    "start_time": "2022-05-05T20:53:25.958Z"
   },
   {
    "duration": 11,
    "start_time": "2022-05-05T20:53:26.034Z"
   },
   {
    "duration": 21,
    "start_time": "2022-05-05T20:53:26.048Z"
   },
   {
    "duration": 203,
    "start_time": "2022-05-05T20:53:26.109Z"
   },
   {
    "duration": 31,
    "start_time": "2022-05-05T20:53:26.314Z"
   },
   {
    "duration": 57,
    "start_time": "2022-05-05T20:53:26.347Z"
   },
   {
    "duration": 9,
    "start_time": "2022-05-05T20:53:26.409Z"
   },
   {
    "duration": 21,
    "start_time": "2022-05-05T20:53:26.424Z"
   },
   {
    "duration": 80,
    "start_time": "2022-05-05T20:53:26.448Z"
   },
   {
    "duration": 185,
    "start_time": "2022-05-05T20:53:26.530Z"
   },
   {
    "duration": 84,
    "start_time": "2022-05-05T20:53:26.718Z"
   },
   {
    "duration": 220,
    "start_time": "2022-05-05T20:53:26.805Z"
   },
   {
    "duration": 101,
    "start_time": "2022-05-05T20:53:27.033Z"
   },
   {
    "duration": 111,
    "start_time": "2022-05-05T20:53:27.138Z"
   },
   {
    "duration": 392,
    "start_time": "2022-05-05T20:53:27.252Z"
   },
   {
    "duration": 75,
    "start_time": "2022-05-05T20:53:27.646Z"
   },
   {
    "duration": 19,
    "start_time": "2022-05-05T20:53:27.725Z"
   },
   {
    "duration": 8,
    "start_time": "2022-05-05T20:53:27.746Z"
   },
   {
    "duration": 14,
    "start_time": "2022-05-05T20:53:27.809Z"
   },
   {
    "duration": 17,
    "start_time": "2022-05-05T20:53:27.829Z"
   },
   {
    "duration": 68,
    "start_time": "2022-05-05T20:53:27.848Z"
   },
   {
    "duration": 90,
    "start_time": "2022-05-05T20:53:27.920Z"
   },
   {
    "duration": 23,
    "start_time": "2022-05-05T20:53:28.012Z"
   },
   {
    "duration": 1627,
    "start_time": "2022-05-05T20:53:28.038Z"
   },
   {
    "duration": 158,
    "start_time": "2022-05-05T20:53:29.667Z"
   },
   {
    "duration": 2776,
    "start_time": "2022-05-05T20:53:29.828Z"
   },
   {
    "duration": 184,
    "start_time": "2022-05-05T20:53:32.608Z"
   },
   {
    "duration": 0,
    "start_time": "2022-05-05T20:53:32.799Z"
   },
   {
    "duration": 0,
    "start_time": "2022-05-05T20:53:32.801Z"
   },
   {
    "duration": 0,
    "start_time": "2022-05-05T20:53:32.803Z"
   },
   {
    "duration": 0,
    "start_time": "2022-05-05T20:53:32.805Z"
   },
   {
    "duration": 0,
    "start_time": "2022-05-05T20:53:32.808Z"
   },
   {
    "duration": 0,
    "start_time": "2022-05-05T20:53:32.813Z"
   },
   {
    "duration": 0,
    "start_time": "2022-05-05T20:53:32.814Z"
   },
   {
    "duration": 0,
    "start_time": "2022-05-05T20:53:32.817Z"
   },
   {
    "duration": 0,
    "start_time": "2022-05-05T20:53:32.819Z"
   },
   {
    "duration": 16,
    "start_time": "2022-05-05T20:53:59.622Z"
   },
   {
    "duration": 16,
    "start_time": "2022-05-05T20:54:29.087Z"
   },
   {
    "duration": 4,
    "start_time": "2022-05-05T20:54:39.174Z"
   },
   {
    "duration": 4,
    "start_time": "2022-05-05T20:54:39.559Z"
   },
   {
    "duration": 4,
    "start_time": "2022-05-05T20:54:39.970Z"
   },
   {
    "duration": 3252,
    "start_time": "2022-05-05T20:54:54.621Z"
   },
   {
    "duration": 33,
    "start_time": "2022-05-05T20:55:19.228Z"
   },
   {
    "duration": 10,
    "start_time": "2022-05-05T20:57:30.838Z"
   },
   {
    "duration": 25,
    "start_time": "2022-05-05T20:57:32.761Z"
   },
   {
    "duration": 1863,
    "start_time": "2022-05-05T20:57:40.725Z"
   },
   {
    "duration": 764,
    "start_time": "2022-05-05T20:57:42.593Z"
   },
   {
    "duration": 24,
    "start_time": "2022-05-05T20:57:43.359Z"
   },
   {
    "duration": 23,
    "start_time": "2022-05-05T20:57:43.386Z"
   },
   {
    "duration": 33,
    "start_time": "2022-05-05T20:57:43.412Z"
   },
   {
    "duration": 27,
    "start_time": "2022-05-05T20:57:43.447Z"
   },
   {
    "duration": 28,
    "start_time": "2022-05-05T20:57:43.477Z"
   },
   {
    "duration": 48,
    "start_time": "2022-05-05T20:57:43.507Z"
   },
   {
    "duration": 181,
    "start_time": "2022-05-05T20:57:43.558Z"
   },
   {
    "duration": 17,
    "start_time": "2022-05-05T20:57:43.743Z"
   },
   {
    "duration": 58,
    "start_time": "2022-05-05T20:57:43.762Z"
   },
   {
    "duration": 105,
    "start_time": "2022-05-05T20:57:43.824Z"
   },
   {
    "duration": 7,
    "start_time": "2022-05-05T20:57:43.932Z"
   },
   {
    "duration": 18,
    "start_time": "2022-05-05T20:57:43.941Z"
   },
   {
    "duration": 72,
    "start_time": "2022-05-05T20:57:43.961Z"
   },
   {
    "duration": 98,
    "start_time": "2022-05-05T20:57:44.035Z"
   },
   {
    "duration": 12,
    "start_time": "2022-05-05T20:57:44.135Z"
   },
   {
    "duration": 16,
    "start_time": "2022-05-05T20:57:44.149Z"
   },
   {
    "duration": 159,
    "start_time": "2022-05-05T20:57:44.167Z"
   },
   {
    "duration": 21,
    "start_time": "2022-05-05T20:57:44.329Z"
   },
   {
    "duration": 7,
    "start_time": "2022-05-05T20:57:44.352Z"
   },
   {
    "duration": 39,
    "start_time": "2022-05-05T20:57:44.361Z"
   },
   {
    "duration": 15,
    "start_time": "2022-05-05T20:57:44.403Z"
   },
   {
    "duration": 37,
    "start_time": "2022-05-05T20:57:44.421Z"
   },
   {
    "duration": 94,
    "start_time": "2022-05-05T20:57:44.461Z"
   },
   {
    "duration": 20,
    "start_time": "2022-05-05T20:57:44.557Z"
   },
   {
    "duration": 101,
    "start_time": "2022-05-05T20:57:44.600Z"
   },
   {
    "duration": 44,
    "start_time": "2022-05-05T20:57:44.711Z"
   },
   {
    "duration": 80,
    "start_time": "2022-05-05T20:57:44.757Z"
   },
   {
    "duration": 219,
    "start_time": "2022-05-05T20:57:44.840Z"
   },
   {
    "duration": 6,
    "start_time": "2022-05-05T20:57:45.061Z"
   },
   {
    "duration": 8,
    "start_time": "2022-05-05T20:57:45.070Z"
   },
   {
    "duration": 21,
    "start_time": "2022-05-05T20:57:45.080Z"
   },
   {
    "duration": 35,
    "start_time": "2022-05-05T20:57:45.104Z"
   },
   {
    "duration": 15,
    "start_time": "2022-05-05T20:57:45.142Z"
   },
   {
    "duration": 10,
    "start_time": "2022-05-05T20:57:45.160Z"
   },
   {
    "duration": 55,
    "start_time": "2022-05-05T20:57:45.173Z"
   },
   {
    "duration": 12,
    "start_time": "2022-05-05T20:57:45.231Z"
   },
   {
    "duration": 785,
    "start_time": "2022-05-05T20:57:45.246Z"
   },
   {
    "duration": 166,
    "start_time": "2022-05-05T20:57:46.042Z"
   },
   {
    "duration": 2396,
    "start_time": "2022-05-05T20:57:46.220Z"
   },
   {
    "duration": 11,
    "start_time": "2022-05-05T20:57:48.620Z"
   },
   {
    "duration": 33,
    "start_time": "2022-05-05T20:57:48.634Z"
   },
   {
    "duration": 9,
    "start_time": "2022-05-05T20:57:48.669Z"
   },
   {
    "duration": 6,
    "start_time": "2022-05-05T20:57:48.695Z"
   },
   {
    "duration": 33,
    "start_time": "2022-05-05T20:57:48.704Z"
   },
   {
    "duration": 3484,
    "start_time": "2022-05-05T20:57:48.740Z"
   },
   {
    "duration": 381,
    "start_time": "2022-05-05T20:57:52.232Z"
   },
   {
    "duration": 1,
    "start_time": "2022-05-05T20:57:52.615Z"
   },
   {
    "duration": 0,
    "start_time": "2022-05-05T20:57:52.620Z"
   },
   {
    "duration": 0,
    "start_time": "2022-05-05T20:57:52.627Z"
   },
   {
    "duration": 0,
    "start_time": "2022-05-05T20:57:52.630Z"
   },
   {
    "duration": 12,
    "start_time": "2022-05-05T20:58:25.091Z"
   },
   {
    "duration": 39,
    "start_time": "2022-05-05T20:58:26.130Z"
   },
   {
    "duration": 1850,
    "start_time": "2022-05-05T20:59:03.185Z"
   },
   {
    "duration": 735,
    "start_time": "2022-05-05T20:59:05.039Z"
   },
   {
    "duration": 26,
    "start_time": "2022-05-05T20:59:05.776Z"
   },
   {
    "duration": 20,
    "start_time": "2022-05-05T20:59:05.805Z"
   },
   {
    "duration": 15,
    "start_time": "2022-05-05T20:59:05.828Z"
   },
   {
    "duration": 51,
    "start_time": "2022-05-05T20:59:05.846Z"
   },
   {
    "duration": 8,
    "start_time": "2022-05-05T20:59:05.902Z"
   },
   {
    "duration": 64,
    "start_time": "2022-05-05T20:59:05.912Z"
   },
   {
    "duration": 225,
    "start_time": "2022-05-05T20:59:05.979Z"
   },
   {
    "duration": 25,
    "start_time": "2022-05-05T20:59:06.209Z"
   },
   {
    "duration": 31,
    "start_time": "2022-05-05T20:59:06.237Z"
   },
   {
    "duration": 102,
    "start_time": "2022-05-05T20:59:06.293Z"
   },
   {
    "duration": 8,
    "start_time": "2022-05-05T20:59:06.400Z"
   },
   {
    "duration": 45,
    "start_time": "2022-05-05T20:59:06.410Z"
   },
   {
    "duration": 26,
    "start_time": "2022-05-05T20:59:06.457Z"
   },
   {
    "duration": 80,
    "start_time": "2022-05-05T20:59:06.485Z"
   },
   {
    "duration": 12,
    "start_time": "2022-05-05T20:59:06.567Z"
   },
   {
    "duration": 19,
    "start_time": "2022-05-05T20:59:06.603Z"
   },
   {
    "duration": 142,
    "start_time": "2022-05-05T20:59:06.624Z"
   },
   {
    "duration": 30,
    "start_time": "2022-05-05T20:59:06.768Z"
   },
   {
    "duration": 6,
    "start_time": "2022-05-05T20:59:06.800Z"
   },
   {
    "duration": 30,
    "start_time": "2022-05-05T20:59:06.809Z"
   },
   {
    "duration": 15,
    "start_time": "2022-05-05T20:59:06.842Z"
   },
   {
    "duration": 57,
    "start_time": "2022-05-05T20:59:06.860Z"
   },
   {
    "duration": 67,
    "start_time": "2022-05-05T20:59:06.919Z"
   },
   {
    "duration": 42,
    "start_time": "2022-05-05T20:59:06.989Z"
   },
   {
    "duration": 111,
    "start_time": "2022-05-05T20:59:07.034Z"
   },
   {
    "duration": 70,
    "start_time": "2022-05-05T20:59:07.151Z"
   },
   {
    "duration": 44,
    "start_time": "2022-05-05T20:59:07.223Z"
   },
   {
    "duration": 199,
    "start_time": "2022-05-05T20:59:07.269Z"
   },
   {
    "duration": 8,
    "start_time": "2022-05-05T20:59:07.471Z"
   },
   {
    "duration": 20,
    "start_time": "2022-05-05T20:59:07.482Z"
   },
   {
    "duration": 27,
    "start_time": "2022-05-05T20:59:07.508Z"
   },
   {
    "duration": 7,
    "start_time": "2022-05-05T20:59:07.537Z"
   },
   {
    "duration": 12,
    "start_time": "2022-05-05T20:59:07.546Z"
   },
   {
    "duration": 41,
    "start_time": "2022-05-05T20:59:07.561Z"
   },
   {
    "duration": 35,
    "start_time": "2022-05-05T20:59:07.604Z"
   },
   {
    "duration": 11,
    "start_time": "2022-05-05T20:59:07.641Z"
   },
   {
    "duration": 589,
    "start_time": "2022-05-05T20:59:07.654Z"
   },
   {
    "duration": 102,
    "start_time": "2022-05-05T20:59:08.245Z"
   },
   {
    "duration": 2376,
    "start_time": "2022-05-05T20:59:08.349Z"
   },
   {
    "duration": 13,
    "start_time": "2022-05-05T20:59:10.727Z"
   },
   {
    "duration": 67,
    "start_time": "2022-05-05T20:59:10.743Z"
   },
   {
    "duration": 23,
    "start_time": "2022-05-05T20:59:10.813Z"
   },
   {
    "duration": 8,
    "start_time": "2022-05-05T20:59:10.838Z"
   },
   {
    "duration": 7,
    "start_time": "2022-05-05T20:59:10.848Z"
   },
   {
    "duration": 2494,
    "start_time": "2022-05-05T20:59:10.857Z"
   },
   {
    "duration": 214,
    "start_time": "2022-05-05T20:59:13.354Z"
   },
   {
    "duration": 0,
    "start_time": "2022-05-05T20:59:13.571Z"
   },
   {
    "duration": 0,
    "start_time": "2022-05-05T20:59:13.573Z"
   },
   {
    "duration": 0,
    "start_time": "2022-05-05T20:59:13.576Z"
   },
   {
    "duration": 0,
    "start_time": "2022-05-05T20:59:13.578Z"
   },
   {
    "duration": 1935,
    "start_time": "2022-05-05T20:59:56.829Z"
   },
   {
    "duration": 814,
    "start_time": "2022-05-05T20:59:58.767Z"
   },
   {
    "duration": 32,
    "start_time": "2022-05-05T20:59:59.584Z"
   },
   {
    "duration": 26,
    "start_time": "2022-05-05T20:59:59.619Z"
   },
   {
    "duration": 12,
    "start_time": "2022-05-05T20:59:59.648Z"
   },
   {
    "duration": 66,
    "start_time": "2022-05-05T20:59:59.663Z"
   },
   {
    "duration": 18,
    "start_time": "2022-05-05T20:59:59.731Z"
   },
   {
    "duration": 33,
    "start_time": "2022-05-05T20:59:59.752Z"
   },
   {
    "duration": 187,
    "start_time": "2022-05-05T20:59:59.787Z"
   },
   {
    "duration": 43,
    "start_time": "2022-05-05T20:59:59.978Z"
   },
   {
    "duration": 47,
    "start_time": "2022-05-05T21:00:00.024Z"
   },
   {
    "duration": 97,
    "start_time": "2022-05-05T21:00:00.074Z"
   },
   {
    "duration": 7,
    "start_time": "2022-05-05T21:00:00.173Z"
   },
   {
    "duration": 27,
    "start_time": "2022-05-05T21:00:00.201Z"
   },
   {
    "duration": 38,
    "start_time": "2022-05-05T21:00:00.231Z"
   },
   {
    "duration": 118,
    "start_time": "2022-05-05T21:00:00.271Z"
   },
   {
    "duration": 20,
    "start_time": "2022-05-05T21:00:00.391Z"
   },
   {
    "duration": 46,
    "start_time": "2022-05-05T21:00:00.414Z"
   },
   {
    "duration": 176,
    "start_time": "2022-05-05T21:00:00.462Z"
   },
   {
    "duration": 20,
    "start_time": "2022-05-05T21:00:00.640Z"
   },
   {
    "duration": 13,
    "start_time": "2022-05-05T21:00:00.663Z"
   },
   {
    "duration": 27,
    "start_time": "2022-05-05T21:00:00.678Z"
   },
   {
    "duration": 41,
    "start_time": "2022-05-05T21:00:00.709Z"
   },
   {
    "duration": 34,
    "start_time": "2022-05-05T21:00:00.753Z"
   },
   {
    "duration": 88,
    "start_time": "2022-05-05T21:00:00.790Z"
   },
   {
    "duration": 43,
    "start_time": "2022-05-05T21:00:00.881Z"
   },
   {
    "duration": 145,
    "start_time": "2022-05-05T21:00:00.927Z"
   },
   {
    "duration": 56,
    "start_time": "2022-05-05T21:00:01.077Z"
   },
   {
    "duration": 85,
    "start_time": "2022-05-05T21:00:01.136Z"
   },
   {
    "duration": 248,
    "start_time": "2022-05-05T21:00:01.223Z"
   },
   {
    "duration": 8,
    "start_time": "2022-05-05T21:00:01.473Z"
   },
   {
    "duration": 232,
    "start_time": "2022-05-05T21:00:01.499Z"
   },
   {
    "duration": 46,
    "start_time": "2022-05-05T21:00:01.734Z"
   },
   {
    "duration": 85,
    "start_time": "2022-05-05T21:00:01.783Z"
   },
   {
    "duration": 133,
    "start_time": "2022-05-05T21:00:01.870Z"
   },
   {
    "duration": 55,
    "start_time": "2022-05-05T21:00:02.006Z"
   },
   {
    "duration": 65,
    "start_time": "2022-05-05T21:00:02.064Z"
   },
   {
    "duration": 36,
    "start_time": "2022-05-05T21:00:02.132Z"
   },
   {
    "duration": 1069,
    "start_time": "2022-05-05T21:00:02.171Z"
   },
   {
    "duration": 93,
    "start_time": "2022-05-05T21:00:03.243Z"
   },
   {
    "duration": 2708,
    "start_time": "2022-05-05T21:00:03.338Z"
   },
   {
    "duration": 12,
    "start_time": "2022-05-05T21:00:06.049Z"
   },
   {
    "duration": 88,
    "start_time": "2022-05-05T21:00:06.063Z"
   },
   {
    "duration": 18,
    "start_time": "2022-05-05T21:00:06.154Z"
   },
   {
    "duration": 16,
    "start_time": "2022-05-05T21:00:06.174Z"
   },
   {
    "duration": 68,
    "start_time": "2022-05-05T21:00:06.197Z"
   },
   {
    "duration": 2529,
    "start_time": "2022-05-05T21:00:06.268Z"
   },
   {
    "duration": 189,
    "start_time": "2022-05-05T21:00:08.800Z"
   },
   {
    "duration": 1,
    "start_time": "2022-05-05T21:00:08.991Z"
   },
   {
    "duration": 0,
    "start_time": "2022-05-05T21:00:08.993Z"
   },
   {
    "duration": 0,
    "start_time": "2022-05-05T21:00:08.995Z"
   },
   {
    "duration": 1,
    "start_time": "2022-05-05T21:00:08.997Z"
   },
   {
    "duration": 1634,
    "start_time": "2022-05-05T21:02:53.561Z"
   },
   {
    "duration": 770,
    "start_time": "2022-05-05T21:02:55.199Z"
   },
   {
    "duration": 34,
    "start_time": "2022-05-05T21:02:55.971Z"
   },
   {
    "duration": 35,
    "start_time": "2022-05-05T21:02:56.008Z"
   },
   {
    "duration": 12,
    "start_time": "2022-05-05T21:02:56.045Z"
   },
   {
    "duration": 18,
    "start_time": "2022-05-05T21:02:56.059Z"
   },
   {
    "duration": 19,
    "start_time": "2022-05-05T21:02:56.080Z"
   },
   {
    "duration": 47,
    "start_time": "2022-05-05T21:02:56.104Z"
   },
   {
    "duration": 184,
    "start_time": "2022-05-05T21:02:56.154Z"
   },
   {
    "duration": 20,
    "start_time": "2022-05-05T21:02:56.342Z"
   },
   {
    "duration": 53,
    "start_time": "2022-05-05T21:02:56.364Z"
   },
   {
    "duration": 114,
    "start_time": "2022-05-05T21:02:56.421Z"
   },
   {
    "duration": 6,
    "start_time": "2022-05-05T21:02:56.537Z"
   },
   {
    "duration": 20,
    "start_time": "2022-05-05T21:02:56.546Z"
   },
   {
    "duration": 71,
    "start_time": "2022-05-05T21:02:56.568Z"
   },
   {
    "duration": 91,
    "start_time": "2022-05-05T21:02:56.642Z"
   },
   {
    "duration": 11,
    "start_time": "2022-05-05T21:02:56.735Z"
   },
   {
    "duration": 18,
    "start_time": "2022-05-05T21:02:56.748Z"
   },
   {
    "duration": 169,
    "start_time": "2022-05-05T21:02:56.768Z"
   },
   {
    "duration": 19,
    "start_time": "2022-05-05T21:02:56.939Z"
   },
   {
    "duration": 5,
    "start_time": "2022-05-05T21:02:56.961Z"
   },
   {
    "duration": 29,
    "start_time": "2022-05-05T21:02:56.968Z"
   },
   {
    "duration": 16,
    "start_time": "2022-05-05T21:02:57.008Z"
   },
   {
    "duration": 34,
    "start_time": "2022-05-05T21:02:57.026Z"
   },
   {
    "duration": 91,
    "start_time": "2022-05-05T21:02:57.062Z"
   },
   {
    "duration": 19,
    "start_time": "2022-05-05T21:02:57.155Z"
   },
   {
    "duration": 108,
    "start_time": "2022-05-05T21:02:57.176Z"
   },
   {
    "duration": 46,
    "start_time": "2022-05-05T21:02:57.300Z"
   },
   {
    "duration": 65,
    "start_time": "2022-05-05T21:02:57.350Z"
   },
   {
    "duration": 171,
    "start_time": "2022-05-05T21:02:57.418Z"
   },
   {
    "duration": 10,
    "start_time": "2022-05-05T21:02:57.593Z"
   },
   {
    "duration": 40,
    "start_time": "2022-05-05T21:02:57.606Z"
   },
   {
    "duration": 9,
    "start_time": "2022-05-05T21:02:57.648Z"
   },
   {
    "duration": 11,
    "start_time": "2022-05-05T21:02:57.659Z"
   },
   {
    "duration": 33,
    "start_time": "2022-05-05T21:02:57.673Z"
   },
   {
    "duration": 26,
    "start_time": "2022-05-05T21:02:57.709Z"
   },
   {
    "duration": 31,
    "start_time": "2022-05-05T21:02:57.738Z"
   },
   {
    "duration": 41,
    "start_time": "2022-05-05T21:02:57.771Z"
   },
   {
    "duration": 629,
    "start_time": "2022-05-05T21:02:57.819Z"
   },
   {
    "duration": 99,
    "start_time": "2022-05-05T21:02:58.450Z"
   },
   {
    "duration": 2458,
    "start_time": "2022-05-05T21:02:58.552Z"
   },
   {
    "duration": 13,
    "start_time": "2022-05-05T21:03:01.013Z"
   },
   {
    "duration": 77,
    "start_time": "2022-05-05T21:03:01.030Z"
   },
   {
    "duration": 35,
    "start_time": "2022-05-05T21:03:01.110Z"
   },
   {
    "duration": 14,
    "start_time": "2022-05-05T21:03:01.147Z"
   },
   {
    "duration": 12,
    "start_time": "2022-05-05T21:03:01.163Z"
   },
   {
    "duration": 1624,
    "start_time": "2022-05-05T21:03:01.178Z"
   },
   {
    "duration": 274,
    "start_time": "2022-05-05T21:03:02.806Z"
   },
   {
    "duration": 0,
    "start_time": "2022-05-05T21:03:03.083Z"
   },
   {
    "duration": 0,
    "start_time": "2022-05-05T21:03:03.100Z"
   },
   {
    "duration": 0,
    "start_time": "2022-05-05T21:03:03.103Z"
   },
   {
    "duration": 0,
    "start_time": "2022-05-05T21:03:03.105Z"
   },
   {
    "duration": 1554,
    "start_time": "2022-05-05T21:07:02.295Z"
   },
   {
    "duration": 693,
    "start_time": "2022-05-05T21:07:03.851Z"
   },
   {
    "duration": 23,
    "start_time": "2022-05-05T21:07:04.546Z"
   },
   {
    "duration": 22,
    "start_time": "2022-05-05T21:07:04.572Z"
   },
   {
    "duration": 10,
    "start_time": "2022-05-05T21:07:04.597Z"
   },
   {
    "duration": 37,
    "start_time": "2022-05-05T21:07:04.609Z"
   },
   {
    "duration": 7,
    "start_time": "2022-05-05T21:07:04.648Z"
   },
   {
    "duration": 3720,
    "start_time": "2022-05-05T21:07:04.657Z"
   },
   {
    "duration": 0,
    "start_time": "2022-05-05T21:07:08.381Z"
   },
   {
    "duration": 0,
    "start_time": "2022-05-05T21:07:08.383Z"
   },
   {
    "duration": 0,
    "start_time": "2022-05-05T21:07:08.385Z"
   },
   {
    "duration": 0,
    "start_time": "2022-05-05T21:07:08.386Z"
   },
   {
    "duration": 0,
    "start_time": "2022-05-05T21:07:08.388Z"
   },
   {
    "duration": 0,
    "start_time": "2022-05-05T21:07:08.390Z"
   },
   {
    "duration": 0,
    "start_time": "2022-05-05T21:07:08.391Z"
   },
   {
    "duration": 0,
    "start_time": "2022-05-05T21:07:08.404Z"
   },
   {
    "duration": 0,
    "start_time": "2022-05-05T21:07:08.406Z"
   },
   {
    "duration": 0,
    "start_time": "2022-05-05T21:07:08.408Z"
   },
   {
    "duration": 0,
    "start_time": "2022-05-05T21:07:08.412Z"
   },
   {
    "duration": 0,
    "start_time": "2022-05-05T21:07:08.416Z"
   },
   {
    "duration": 0,
    "start_time": "2022-05-05T21:07:08.418Z"
   },
   {
    "duration": 0,
    "start_time": "2022-05-05T21:07:08.420Z"
   },
   {
    "duration": 0,
    "start_time": "2022-05-05T21:07:08.422Z"
   },
   {
    "duration": 0,
    "start_time": "2022-05-05T21:07:08.424Z"
   },
   {
    "duration": 0,
    "start_time": "2022-05-05T21:07:08.425Z"
   },
   {
    "duration": 0,
    "start_time": "2022-05-05T21:07:08.427Z"
   },
   {
    "duration": 0,
    "start_time": "2022-05-05T21:07:08.428Z"
   },
   {
    "duration": 0,
    "start_time": "2022-05-05T21:07:08.430Z"
   },
   {
    "duration": 0,
    "start_time": "2022-05-05T21:07:08.431Z"
   },
   {
    "duration": 0,
    "start_time": "2022-05-05T21:07:08.433Z"
   },
   {
    "duration": 0,
    "start_time": "2022-05-05T21:07:08.434Z"
   },
   {
    "duration": 0,
    "start_time": "2022-05-05T21:07:08.435Z"
   },
   {
    "duration": 0,
    "start_time": "2022-05-05T21:07:08.437Z"
   },
   {
    "duration": 0,
    "start_time": "2022-05-05T21:07:08.438Z"
   },
   {
    "duration": 0,
    "start_time": "2022-05-05T21:07:08.440Z"
   },
   {
    "duration": 0,
    "start_time": "2022-05-05T21:07:08.442Z"
   },
   {
    "duration": 0,
    "start_time": "2022-05-05T21:07:08.497Z"
   },
   {
    "duration": 1,
    "start_time": "2022-05-05T21:07:08.499Z"
   },
   {
    "duration": 0,
    "start_time": "2022-05-05T21:07:08.502Z"
   },
   {
    "duration": 0,
    "start_time": "2022-05-05T21:07:08.504Z"
   },
   {
    "duration": 0,
    "start_time": "2022-05-05T21:07:08.512Z"
   },
   {
    "duration": 0,
    "start_time": "2022-05-05T21:07:08.514Z"
   },
   {
    "duration": 0,
    "start_time": "2022-05-05T21:07:08.516Z"
   },
   {
    "duration": 0,
    "start_time": "2022-05-05T21:07:08.518Z"
   },
   {
    "duration": 0,
    "start_time": "2022-05-05T21:07:08.520Z"
   },
   {
    "duration": 0,
    "start_time": "2022-05-05T21:07:08.522Z"
   },
   {
    "duration": 0,
    "start_time": "2022-05-05T21:07:08.523Z"
   },
   {
    "duration": 0,
    "start_time": "2022-05-05T21:07:08.524Z"
   },
   {
    "duration": 0,
    "start_time": "2022-05-05T21:07:08.525Z"
   },
   {
    "duration": 0,
    "start_time": "2022-05-05T21:07:08.528Z"
   },
   {
    "duration": 0,
    "start_time": "2022-05-05T21:07:08.534Z"
   },
   {
    "duration": 0,
    "start_time": "2022-05-05T21:07:08.536Z"
   },
   {
    "duration": 0,
    "start_time": "2022-05-05T21:07:08.538Z"
   },
   {
    "duration": 0,
    "start_time": "2022-05-05T21:07:08.539Z"
   },
   {
    "duration": 420,
    "start_time": "2022-05-05T21:07:57.636Z"
   },
   {
    "duration": 1343,
    "start_time": "2022-05-05T21:08:35.128Z"
   },
   {
    "duration": 455,
    "start_time": "2022-05-05T21:08:44.470Z"
   },
   {
    "duration": 72,
    "start_time": "2022-05-05T21:11:57.681Z"
   },
   {
    "duration": 27,
    "start_time": "2022-05-05T21:12:05.601Z"
   },
   {
    "duration": 412,
    "start_time": "2022-05-05T21:12:17.585Z"
   },
   {
    "duration": 560,
    "start_time": "2022-05-05T21:12:28.926Z"
   },
   {
    "duration": 1694,
    "start_time": "2022-05-05T21:14:58.019Z"
   },
   {
    "duration": 801,
    "start_time": "2022-05-05T21:14:59.717Z"
   },
   {
    "duration": 24,
    "start_time": "2022-05-05T21:15:00.521Z"
   },
   {
    "duration": 29,
    "start_time": "2022-05-05T21:15:00.547Z"
   },
   {
    "duration": 63,
    "start_time": "2022-05-05T21:15:00.579Z"
   },
   {
    "duration": 34,
    "start_time": "2022-05-05T21:15:00.644Z"
   },
   {
    "duration": 27,
    "start_time": "2022-05-05T21:15:00.680Z"
   },
   {
    "duration": 460,
    "start_time": "2022-05-05T21:15:00.710Z"
   },
   {
    "duration": 31,
    "start_time": "2022-05-05T21:15:01.173Z"
   },
   {
    "duration": 415,
    "start_time": "2022-05-05T21:15:01.207Z"
   },
   {
    "duration": 31,
    "start_time": "2022-05-05T21:15:01.625Z"
   },
   {
    "duration": 114,
    "start_time": "2022-05-05T21:15:01.658Z"
   },
   {
    "duration": 34,
    "start_time": "2022-05-05T21:15:01.774Z"
   },
   {
    "duration": 41,
    "start_time": "2022-05-05T21:15:01.816Z"
   },
   {
    "duration": 102,
    "start_time": "2022-05-05T21:15:01.859Z"
   },
   {
    "duration": 7,
    "start_time": "2022-05-05T21:15:01.963Z"
   },
   {
    "duration": 3999,
    "start_time": "2022-05-05T21:15:01.972Z"
   },
   {
    "duration": 0,
    "start_time": "2022-05-05T21:15:05.974Z"
   },
   {
    "duration": 0,
    "start_time": "2022-05-05T21:15:05.976Z"
   },
   {
    "duration": 0,
    "start_time": "2022-05-05T21:15:05.977Z"
   },
   {
    "duration": 0,
    "start_time": "2022-05-05T21:15:05.979Z"
   },
   {
    "duration": 0,
    "start_time": "2022-05-05T21:15:05.980Z"
   },
   {
    "duration": 0,
    "start_time": "2022-05-05T21:15:05.997Z"
   },
   {
    "duration": 0,
    "start_time": "2022-05-05T21:15:05.999Z"
   },
   {
    "duration": 0,
    "start_time": "2022-05-05T21:15:06.000Z"
   },
   {
    "duration": 0,
    "start_time": "2022-05-05T21:15:06.001Z"
   },
   {
    "duration": 0,
    "start_time": "2022-05-05T21:15:06.009Z"
   },
   {
    "duration": 0,
    "start_time": "2022-05-05T21:15:06.010Z"
   },
   {
    "duration": 0,
    "start_time": "2022-05-05T21:15:06.011Z"
   },
   {
    "duration": 0,
    "start_time": "2022-05-05T21:15:06.013Z"
   },
   {
    "duration": 0,
    "start_time": "2022-05-05T21:15:06.015Z"
   },
   {
    "duration": 0,
    "start_time": "2022-05-05T21:15:06.016Z"
   },
   {
    "duration": 0,
    "start_time": "2022-05-05T21:15:06.017Z"
   },
   {
    "duration": 0,
    "start_time": "2022-05-05T21:15:06.019Z"
   },
   {
    "duration": 0,
    "start_time": "2022-05-05T21:15:06.021Z"
   },
   {
    "duration": 0,
    "start_time": "2022-05-05T21:15:06.022Z"
   },
   {
    "duration": 0,
    "start_time": "2022-05-05T21:15:06.025Z"
   },
   {
    "duration": 0,
    "start_time": "2022-05-05T21:15:06.026Z"
   },
   {
    "duration": 0,
    "start_time": "2022-05-05T21:15:06.029Z"
   },
   {
    "duration": 0,
    "start_time": "2022-05-05T21:15:06.030Z"
   },
   {
    "duration": 0,
    "start_time": "2022-05-05T21:15:06.031Z"
   },
   {
    "duration": 0,
    "start_time": "2022-05-05T21:15:06.032Z"
   },
   {
    "duration": 0,
    "start_time": "2022-05-05T21:15:06.033Z"
   },
   {
    "duration": 0,
    "start_time": "2022-05-05T21:15:06.035Z"
   },
   {
    "duration": 0,
    "start_time": "2022-05-05T21:15:06.036Z"
   },
   {
    "duration": 0,
    "start_time": "2022-05-05T21:15:06.037Z"
   },
   {
    "duration": 0,
    "start_time": "2022-05-05T21:15:06.039Z"
   },
   {
    "duration": 0,
    "start_time": "2022-05-05T21:15:06.040Z"
   },
   {
    "duration": 0,
    "start_time": "2022-05-05T21:15:06.097Z"
   },
   {
    "duration": 0,
    "start_time": "2022-05-05T21:15:06.098Z"
   },
   {
    "duration": 0,
    "start_time": "2022-05-05T21:15:06.102Z"
   },
   {
    "duration": 0,
    "start_time": "2022-05-05T21:15:06.103Z"
   },
   {
    "duration": 0,
    "start_time": "2022-05-05T21:15:06.104Z"
   },
   {
    "duration": 0,
    "start_time": "2022-05-05T21:15:06.106Z"
   },
   {
    "duration": 0,
    "start_time": "2022-05-05T21:15:06.108Z"
   },
   {
    "duration": 0,
    "start_time": "2022-05-05T21:15:06.109Z"
   },
   {
    "duration": 0,
    "start_time": "2022-05-05T21:15:06.111Z"
   },
   {
    "duration": 0,
    "start_time": "2022-05-05T21:15:06.117Z"
   },
   {
    "duration": 0,
    "start_time": "2022-05-05T21:15:06.118Z"
   },
   {
    "duration": 363,
    "start_time": "2022-05-05T21:15:33.517Z"
   },
   {
    "duration": 42,
    "start_time": "2022-05-05T21:15:39.041Z"
   },
   {
    "duration": 16,
    "start_time": "2022-05-05T21:15:43.718Z"
   },
   {
    "duration": 396,
    "start_time": "2022-05-05T21:15:47.728Z"
   },
   {
    "duration": 340,
    "start_time": "2022-05-05T21:16:32.600Z"
   },
   {
    "duration": 404,
    "start_time": "2022-05-05T21:16:42.252Z"
   },
   {
    "duration": 624,
    "start_time": "2022-05-05T21:16:50.560Z"
   },
   {
    "duration": 392,
    "start_time": "2022-05-05T21:16:55.684Z"
   },
   {
    "duration": 378,
    "start_time": "2022-05-05T21:17:12.556Z"
   },
   {
    "duration": 1588,
    "start_time": "2022-05-05T21:17:26.917Z"
   },
   {
    "duration": 657,
    "start_time": "2022-05-05T21:17:28.508Z"
   },
   {
    "duration": 23,
    "start_time": "2022-05-05T21:17:29.168Z"
   },
   {
    "duration": 33,
    "start_time": "2022-05-05T21:17:29.196Z"
   },
   {
    "duration": 12,
    "start_time": "2022-05-05T21:17:29.232Z"
   },
   {
    "duration": 16,
    "start_time": "2022-05-05T21:17:29.246Z"
   },
   {
    "duration": 12,
    "start_time": "2022-05-05T21:17:29.264Z"
   },
   {
    "duration": 440,
    "start_time": "2022-05-05T21:17:29.278Z"
   },
   {
    "duration": 23,
    "start_time": "2022-05-05T21:17:29.722Z"
   },
   {
    "duration": 504,
    "start_time": "2022-05-05T21:17:29.750Z"
   },
   {
    "duration": 62,
    "start_time": "2022-05-05T21:17:30.256Z"
   },
   {
    "duration": 89,
    "start_time": "2022-05-05T21:17:30.320Z"
   },
   {
    "duration": 24,
    "start_time": "2022-05-05T21:17:30.411Z"
   },
   {
    "duration": 69,
    "start_time": "2022-05-05T21:17:30.438Z"
   },
   {
    "duration": 97,
    "start_time": "2022-05-05T21:17:30.514Z"
   },
   {
    "duration": 8,
    "start_time": "2022-05-05T21:17:30.614Z"
   },
   {
    "duration": 436,
    "start_time": "2022-05-05T21:17:30.624Z"
   },
   {
    "duration": 15,
    "start_time": "2022-05-05T21:17:31.062Z"
   },
   {
    "duration": 438,
    "start_time": "2022-05-05T21:17:31.079Z"
   },
   {
    "duration": 150,
    "start_time": "2022-05-05T21:17:31.519Z"
   },
   {
    "duration": 0,
    "start_time": "2022-05-05T21:17:31.673Z"
   },
   {
    "duration": 0,
    "start_time": "2022-05-05T21:17:31.675Z"
   },
   {
    "duration": 0,
    "start_time": "2022-05-05T21:17:31.676Z"
   },
   {
    "duration": 0,
    "start_time": "2022-05-05T21:17:31.677Z"
   },
   {
    "duration": 0,
    "start_time": "2022-05-05T21:17:31.679Z"
   },
   {
    "duration": 0,
    "start_time": "2022-05-05T21:17:31.680Z"
   },
   {
    "duration": 0,
    "start_time": "2022-05-05T21:17:31.681Z"
   },
   {
    "duration": 0,
    "start_time": "2022-05-05T21:17:31.683Z"
   },
   {
    "duration": 0,
    "start_time": "2022-05-05T21:17:31.684Z"
   },
   {
    "duration": 0,
    "start_time": "2022-05-05T21:17:31.715Z"
   },
   {
    "duration": 0,
    "start_time": "2022-05-05T21:17:31.716Z"
   },
   {
    "duration": 0,
    "start_time": "2022-05-05T21:17:31.718Z"
   },
   {
    "duration": 0,
    "start_time": "2022-05-05T21:17:31.720Z"
   },
   {
    "duration": 0,
    "start_time": "2022-05-05T21:17:31.722Z"
   },
   {
    "duration": 0,
    "start_time": "2022-05-05T21:17:31.723Z"
   },
   {
    "duration": 0,
    "start_time": "2022-05-05T21:17:31.725Z"
   },
   {
    "duration": 0,
    "start_time": "2022-05-05T21:17:31.727Z"
   },
   {
    "duration": 0,
    "start_time": "2022-05-05T21:17:31.728Z"
   },
   {
    "duration": 0,
    "start_time": "2022-05-05T21:17:31.730Z"
   },
   {
    "duration": 0,
    "start_time": "2022-05-05T21:17:31.731Z"
   },
   {
    "duration": 0,
    "start_time": "2022-05-05T21:17:31.733Z"
   },
   {
    "duration": 0,
    "start_time": "2022-05-05T21:17:31.734Z"
   },
   {
    "duration": 0,
    "start_time": "2022-05-05T21:17:31.736Z"
   },
   {
    "duration": 0,
    "start_time": "2022-05-05T21:17:31.738Z"
   },
   {
    "duration": 0,
    "start_time": "2022-05-05T21:17:31.739Z"
   },
   {
    "duration": 1,
    "start_time": "2022-05-05T21:17:31.741Z"
   },
   {
    "duration": 0,
    "start_time": "2022-05-05T21:17:31.743Z"
   },
   {
    "duration": 0,
    "start_time": "2022-05-05T21:17:31.744Z"
   },
   {
    "duration": 0,
    "start_time": "2022-05-05T21:17:31.798Z"
   },
   {
    "duration": 0,
    "start_time": "2022-05-05T21:17:31.805Z"
   },
   {
    "duration": 0,
    "start_time": "2022-05-05T21:17:31.807Z"
   },
   {
    "duration": 0,
    "start_time": "2022-05-05T21:17:31.808Z"
   },
   {
    "duration": 0,
    "start_time": "2022-05-05T21:17:31.809Z"
   },
   {
    "duration": 0,
    "start_time": "2022-05-05T21:17:31.816Z"
   },
   {
    "duration": 0,
    "start_time": "2022-05-05T21:17:31.818Z"
   },
   {
    "duration": 0,
    "start_time": "2022-05-05T21:17:31.819Z"
   },
   {
    "duration": 0,
    "start_time": "2022-05-05T21:17:31.821Z"
   },
   {
    "duration": 0,
    "start_time": "2022-05-05T21:17:31.822Z"
   },
   {
    "duration": 0,
    "start_time": "2022-05-05T21:17:31.823Z"
   },
   {
    "duration": 1711,
    "start_time": "2022-05-07T06:35:35.361Z"
   },
   {
    "duration": 539,
    "start_time": "2022-05-07T06:35:37.075Z"
   },
   {
    "duration": 26,
    "start_time": "2022-05-07T06:35:37.617Z"
   },
   {
    "duration": 18,
    "start_time": "2022-05-07T06:35:37.653Z"
   },
   {
    "duration": 9,
    "start_time": "2022-05-07T06:35:37.673Z"
   },
   {
    "duration": 16,
    "start_time": "2022-05-07T06:35:37.685Z"
   },
   {
    "duration": 11,
    "start_time": "2022-05-07T06:35:37.703Z"
   },
   {
    "duration": 399,
    "start_time": "2022-05-07T06:35:37.754Z"
   },
   {
    "duration": 24,
    "start_time": "2022-05-07T06:35:38.156Z"
   },
   {
    "duration": 382,
    "start_time": "2022-05-07T06:35:38.185Z"
   },
   {
    "duration": 33,
    "start_time": "2022-05-07T06:35:38.569Z"
   },
   {
    "duration": 172,
    "start_time": "2022-05-07T06:35:38.605Z"
   },
   {
    "duration": 0,
    "start_time": "2022-05-07T06:35:38.781Z"
   },
   {
    "duration": 0,
    "start_time": "2022-05-07T06:35:38.783Z"
   },
   {
    "duration": 0,
    "start_time": "2022-05-07T06:35:38.786Z"
   },
   {
    "duration": 0,
    "start_time": "2022-05-07T06:35:38.788Z"
   },
   {
    "duration": 0,
    "start_time": "2022-05-07T06:35:38.790Z"
   },
   {
    "duration": 0,
    "start_time": "2022-05-07T06:35:38.792Z"
   },
   {
    "duration": 0,
    "start_time": "2022-05-07T06:35:38.794Z"
   },
   {
    "duration": 0,
    "start_time": "2022-05-07T06:35:38.796Z"
   },
   {
    "duration": 0,
    "start_time": "2022-05-07T06:35:38.798Z"
   },
   {
    "duration": 0,
    "start_time": "2022-05-07T06:35:38.801Z"
   },
   {
    "duration": 0,
    "start_time": "2022-05-07T06:35:38.802Z"
   },
   {
    "duration": 0,
    "start_time": "2022-05-07T06:35:38.804Z"
   },
   {
    "duration": 0,
    "start_time": "2022-05-07T06:35:38.807Z"
   },
   {
    "duration": 0,
    "start_time": "2022-05-07T06:35:38.808Z"
   },
   {
    "duration": 0,
    "start_time": "2022-05-07T06:35:38.853Z"
   },
   {
    "duration": 0,
    "start_time": "2022-05-07T06:35:38.855Z"
   },
   {
    "duration": 0,
    "start_time": "2022-05-07T06:35:38.857Z"
   },
   {
    "duration": 0,
    "start_time": "2022-05-07T06:35:38.859Z"
   },
   {
    "duration": 0,
    "start_time": "2022-05-07T06:35:38.861Z"
   },
   {
    "duration": 0,
    "start_time": "2022-05-07T06:35:38.864Z"
   },
   {
    "duration": 0,
    "start_time": "2022-05-07T06:35:38.866Z"
   },
   {
    "duration": 0,
    "start_time": "2022-05-07T06:35:38.868Z"
   },
   {
    "duration": 0,
    "start_time": "2022-05-07T06:35:38.870Z"
   },
   {
    "duration": 0,
    "start_time": "2022-05-07T06:35:38.871Z"
   },
   {
    "duration": 0,
    "start_time": "2022-05-07T06:35:38.873Z"
   },
   {
    "duration": 0,
    "start_time": "2022-05-07T06:35:38.874Z"
   },
   {
    "duration": 0,
    "start_time": "2022-05-07T06:35:38.876Z"
   },
   {
    "duration": 0,
    "start_time": "2022-05-07T06:35:38.877Z"
   },
   {
    "duration": 0,
    "start_time": "2022-05-07T06:35:38.879Z"
   },
   {
    "duration": 0,
    "start_time": "2022-05-07T06:35:38.880Z"
   },
   {
    "duration": 0,
    "start_time": "2022-05-07T06:35:38.882Z"
   },
   {
    "duration": 0,
    "start_time": "2022-05-07T06:35:38.883Z"
   },
   {
    "duration": 1,
    "start_time": "2022-05-07T06:35:38.884Z"
   },
   {
    "duration": 0,
    "start_time": "2022-05-07T06:35:38.886Z"
   },
   {
    "duration": 0,
    "start_time": "2022-05-07T06:35:38.888Z"
   },
   {
    "duration": 0,
    "start_time": "2022-05-07T06:35:38.889Z"
   },
   {
    "duration": 0,
    "start_time": "2022-05-07T06:35:38.951Z"
   },
   {
    "duration": 0,
    "start_time": "2022-05-07T06:35:38.953Z"
   },
   {
    "duration": 0,
    "start_time": "2022-05-07T06:35:38.955Z"
   },
   {
    "duration": 0,
    "start_time": "2022-05-07T06:35:38.957Z"
   },
   {
    "duration": 0,
    "start_time": "2022-05-07T06:35:38.958Z"
   },
   {
    "duration": 0,
    "start_time": "2022-05-07T06:35:38.960Z"
   },
   {
    "duration": 0,
    "start_time": "2022-05-07T06:35:38.961Z"
   },
   {
    "duration": 0,
    "start_time": "2022-05-07T06:35:38.963Z"
   },
   {
    "duration": 0,
    "start_time": "2022-05-07T06:35:38.964Z"
   },
   {
    "duration": 0,
    "start_time": "2022-05-07T06:35:38.966Z"
   },
   {
    "duration": 0,
    "start_time": "2022-05-07T06:35:38.967Z"
   },
   {
    "duration": 0,
    "start_time": "2022-05-07T06:35:38.968Z"
   },
   {
    "duration": 487,
    "start_time": "2022-05-07T06:37:02.112Z"
   },
   {
    "duration": 484,
    "start_time": "2022-05-07T06:37:13.837Z"
   },
   {
    "duration": 1388,
    "start_time": "2022-05-07T06:37:24.486Z"
   },
   {
    "duration": 538,
    "start_time": "2022-05-07T06:37:25.877Z"
   },
   {
    "duration": 25,
    "start_time": "2022-05-07T06:37:26.417Z"
   },
   {
    "duration": 16,
    "start_time": "2022-05-07T06:37:26.454Z"
   },
   {
    "duration": 13,
    "start_time": "2022-05-07T06:37:26.473Z"
   },
   {
    "duration": 31,
    "start_time": "2022-05-07T06:37:26.488Z"
   },
   {
    "duration": 32,
    "start_time": "2022-05-07T06:37:26.522Z"
   },
   {
    "duration": 538,
    "start_time": "2022-05-07T06:37:26.556Z"
   },
   {
    "duration": 22,
    "start_time": "2022-05-07T06:37:27.096Z"
   },
   {
    "duration": 509,
    "start_time": "2022-05-07T06:37:27.122Z"
   },
   {
    "duration": 39,
    "start_time": "2022-05-07T06:37:27.633Z"
   },
   {
    "duration": 158,
    "start_time": "2022-05-07T06:37:27.674Z"
   },
   {
    "duration": 0,
    "start_time": "2022-05-07T06:37:27.836Z"
   },
   {
    "duration": 0,
    "start_time": "2022-05-07T06:37:27.837Z"
   },
   {
    "duration": 0,
    "start_time": "2022-05-07T06:37:27.839Z"
   },
   {
    "duration": 0,
    "start_time": "2022-05-07T06:37:27.851Z"
   },
   {
    "duration": 0,
    "start_time": "2022-05-07T06:37:27.852Z"
   },
   {
    "duration": 0,
    "start_time": "2022-05-07T06:37:27.854Z"
   },
   {
    "duration": 0,
    "start_time": "2022-05-07T06:37:27.856Z"
   },
   {
    "duration": 0,
    "start_time": "2022-05-07T06:37:27.857Z"
   },
   {
    "duration": 0,
    "start_time": "2022-05-07T06:37:27.858Z"
   },
   {
    "duration": 0,
    "start_time": "2022-05-07T06:37:27.859Z"
   },
   {
    "duration": 0,
    "start_time": "2022-05-07T06:37:27.860Z"
   },
   {
    "duration": 0,
    "start_time": "2022-05-07T06:37:27.862Z"
   },
   {
    "duration": 0,
    "start_time": "2022-05-07T06:37:27.863Z"
   },
   {
    "duration": 0,
    "start_time": "2022-05-07T06:37:27.865Z"
   },
   {
    "duration": 0,
    "start_time": "2022-05-07T06:37:27.866Z"
   },
   {
    "duration": 0,
    "start_time": "2022-05-07T06:37:27.867Z"
   },
   {
    "duration": 0,
    "start_time": "2022-05-07T06:37:27.869Z"
   },
   {
    "duration": 0,
    "start_time": "2022-05-07T06:37:27.871Z"
   },
   {
    "duration": 0,
    "start_time": "2022-05-07T06:37:27.872Z"
   },
   {
    "duration": 0,
    "start_time": "2022-05-07T06:37:27.873Z"
   },
   {
    "duration": 0,
    "start_time": "2022-05-07T06:37:27.875Z"
   },
   {
    "duration": 0,
    "start_time": "2022-05-07T06:37:27.876Z"
   },
   {
    "duration": 0,
    "start_time": "2022-05-07T06:37:27.878Z"
   },
   {
    "duration": 0,
    "start_time": "2022-05-07T06:37:27.879Z"
   },
   {
    "duration": 0,
    "start_time": "2022-05-07T06:37:27.881Z"
   },
   {
    "duration": 0,
    "start_time": "2022-05-07T06:37:27.883Z"
   },
   {
    "duration": 0,
    "start_time": "2022-05-07T06:37:27.884Z"
   },
   {
    "duration": 0,
    "start_time": "2022-05-07T06:37:27.886Z"
   },
   {
    "duration": 0,
    "start_time": "2022-05-07T06:37:27.887Z"
   },
   {
    "duration": 0,
    "start_time": "2022-05-07T06:37:27.889Z"
   },
   {
    "duration": 0,
    "start_time": "2022-05-07T06:37:27.890Z"
   },
   {
    "duration": 0,
    "start_time": "2022-05-07T06:37:27.891Z"
   },
   {
    "duration": 0,
    "start_time": "2022-05-07T06:37:27.952Z"
   },
   {
    "duration": 0,
    "start_time": "2022-05-07T06:37:27.954Z"
   },
   {
    "duration": 0,
    "start_time": "2022-05-07T06:37:27.955Z"
   },
   {
    "duration": 0,
    "start_time": "2022-05-07T06:37:27.957Z"
   },
   {
    "duration": 0,
    "start_time": "2022-05-07T06:37:27.959Z"
   },
   {
    "duration": 0,
    "start_time": "2022-05-07T06:37:27.960Z"
   },
   {
    "duration": 0,
    "start_time": "2022-05-07T06:37:27.962Z"
   },
   {
    "duration": 0,
    "start_time": "2022-05-07T06:37:27.963Z"
   },
   {
    "duration": 0,
    "start_time": "2022-05-07T06:37:27.964Z"
   },
   {
    "duration": 0,
    "start_time": "2022-05-07T06:37:27.966Z"
   },
   {
    "duration": 0,
    "start_time": "2022-05-07T06:37:27.967Z"
   },
   {
    "duration": 0,
    "start_time": "2022-05-07T06:37:27.968Z"
   },
   {
    "duration": 0,
    "start_time": "2022-05-07T06:37:27.970Z"
   },
   {
    "duration": 0,
    "start_time": "2022-05-07T06:37:27.972Z"
   },
   {
    "duration": 0,
    "start_time": "2022-05-07T06:37:27.973Z"
   },
   {
    "duration": 0,
    "start_time": "2022-05-07T06:37:27.974Z"
   },
   {
    "duration": 1552,
    "start_time": "2022-05-07T06:38:30.912Z"
   },
   {
    "duration": 674,
    "start_time": "2022-05-07T06:38:32.467Z"
   },
   {
    "duration": 24,
    "start_time": "2022-05-07T06:38:33.147Z"
   },
   {
    "duration": 15,
    "start_time": "2022-05-07T06:38:33.174Z"
   },
   {
    "duration": 11,
    "start_time": "2022-05-07T06:38:33.191Z"
   },
   {
    "duration": 48,
    "start_time": "2022-05-07T06:38:33.205Z"
   },
   {
    "duration": 7,
    "start_time": "2022-05-07T06:38:33.255Z"
   },
   {
    "duration": 532,
    "start_time": "2022-05-07T06:38:33.264Z"
   },
   {
    "duration": 3,
    "start_time": "2022-05-07T06:38:33.800Z"
   },
   {
    "duration": 11,
    "start_time": "2022-05-07T06:38:33.805Z"
   },
   {
    "duration": 49,
    "start_time": "2022-05-07T06:38:33.819Z"
   },
   {
    "duration": 153,
    "start_time": "2022-05-07T06:38:33.871Z"
   },
   {
    "duration": 27,
    "start_time": "2022-05-07T06:38:34.026Z"
   },
   {
    "duration": 28,
    "start_time": "2022-05-07T06:38:34.055Z"
   },
   {
    "duration": 99,
    "start_time": "2022-05-07T06:38:34.086Z"
   },
   {
    "duration": 7,
    "start_time": "2022-05-07T06:38:34.187Z"
   },
   {
    "duration": 387,
    "start_time": "2022-05-07T06:38:34.196Z"
   },
   {
    "duration": 17,
    "start_time": "2022-05-07T06:38:34.586Z"
   },
   {
    "duration": 378,
    "start_time": "2022-05-07T06:38:34.605Z"
   },
   {
    "duration": 151,
    "start_time": "2022-05-07T06:38:34.985Z"
   },
   {
    "duration": 0,
    "start_time": "2022-05-07T06:38:35.140Z"
   },
   {
    "duration": 0,
    "start_time": "2022-05-07T06:38:35.142Z"
   },
   {
    "duration": 0,
    "start_time": "2022-05-07T06:38:35.151Z"
   },
   {
    "duration": 0,
    "start_time": "2022-05-07T06:38:35.153Z"
   },
   {
    "duration": 0,
    "start_time": "2022-05-07T06:38:35.154Z"
   },
   {
    "duration": 0,
    "start_time": "2022-05-07T06:38:35.156Z"
   },
   {
    "duration": 0,
    "start_time": "2022-05-07T06:38:35.158Z"
   },
   {
    "duration": 0,
    "start_time": "2022-05-07T06:38:35.159Z"
   },
   {
    "duration": 0,
    "start_time": "2022-05-07T06:38:35.161Z"
   },
   {
    "duration": 0,
    "start_time": "2022-05-07T06:38:35.162Z"
   },
   {
    "duration": 0,
    "start_time": "2022-05-07T06:38:35.164Z"
   },
   {
    "duration": 0,
    "start_time": "2022-05-07T06:38:35.165Z"
   },
   {
    "duration": 0,
    "start_time": "2022-05-07T06:38:35.167Z"
   },
   {
    "duration": 0,
    "start_time": "2022-05-07T06:38:35.168Z"
   },
   {
    "duration": 0,
    "start_time": "2022-05-07T06:38:35.170Z"
   },
   {
    "duration": 0,
    "start_time": "2022-05-07T06:38:35.171Z"
   },
   {
    "duration": 0,
    "start_time": "2022-05-07T06:38:35.173Z"
   },
   {
    "duration": 0,
    "start_time": "2022-05-07T06:38:35.175Z"
   },
   {
    "duration": 0,
    "start_time": "2022-05-07T06:38:35.177Z"
   },
   {
    "duration": 0,
    "start_time": "2022-05-07T06:38:35.179Z"
   },
   {
    "duration": 0,
    "start_time": "2022-05-07T06:38:35.181Z"
   },
   {
    "duration": 0,
    "start_time": "2022-05-07T06:38:35.183Z"
   },
   {
    "duration": 0,
    "start_time": "2022-05-07T06:38:35.186Z"
   },
   {
    "duration": 0,
    "start_time": "2022-05-07T06:38:35.187Z"
   },
   {
    "duration": 0,
    "start_time": "2022-05-07T06:38:35.189Z"
   },
   {
    "duration": 1,
    "start_time": "2022-05-07T06:38:35.251Z"
   },
   {
    "duration": 0,
    "start_time": "2022-05-07T06:38:35.254Z"
   },
   {
    "duration": 0,
    "start_time": "2022-05-07T06:38:35.256Z"
   },
   {
    "duration": 0,
    "start_time": "2022-05-07T06:38:35.258Z"
   },
   {
    "duration": 0,
    "start_time": "2022-05-07T06:38:35.260Z"
   },
   {
    "duration": 0,
    "start_time": "2022-05-07T06:38:35.263Z"
   },
   {
    "duration": 1,
    "start_time": "2022-05-07T06:38:35.264Z"
   },
   {
    "duration": 0,
    "start_time": "2022-05-07T06:38:35.267Z"
   },
   {
    "duration": 0,
    "start_time": "2022-05-07T06:38:35.268Z"
   },
   {
    "duration": 0,
    "start_time": "2022-05-07T06:38:35.271Z"
   },
   {
    "duration": 0,
    "start_time": "2022-05-07T06:38:35.273Z"
   },
   {
    "duration": 0,
    "start_time": "2022-05-07T06:38:35.276Z"
   },
   {
    "duration": 1,
    "start_time": "2022-05-07T06:38:35.277Z"
   },
   {
    "duration": 0,
    "start_time": "2022-05-07T06:38:35.280Z"
   },
   {
    "duration": 1530,
    "start_time": "2022-05-07T06:39:05.233Z"
   },
   {
    "duration": 545,
    "start_time": "2022-05-07T06:39:06.768Z"
   },
   {
    "duration": 24,
    "start_time": "2022-05-07T06:39:07.315Z"
   },
   {
    "duration": 23,
    "start_time": "2022-05-07T06:39:07.342Z"
   },
   {
    "duration": 26,
    "start_time": "2022-05-07T06:39:07.368Z"
   },
   {
    "duration": 17,
    "start_time": "2022-05-07T06:39:07.397Z"
   },
   {
    "duration": 8,
    "start_time": "2022-05-07T06:39:07.417Z"
   },
   {
    "duration": 586,
    "start_time": "2022-05-07T06:39:07.451Z"
   },
   {
    "duration": 4,
    "start_time": "2022-05-07T06:39:08.040Z"
   },
   {
    "duration": 11,
    "start_time": "2022-05-07T06:39:08.048Z"
   },
   {
    "duration": 42,
    "start_time": "2022-05-07T06:39:08.062Z"
   },
   {
    "duration": 175,
    "start_time": "2022-05-07T06:39:08.106Z"
   },
   {
    "duration": 25,
    "start_time": "2022-05-07T06:39:08.284Z"
   },
   {
    "duration": 72,
    "start_time": "2022-05-07T06:39:08.312Z"
   },
   {
    "duration": 101,
    "start_time": "2022-05-07T06:39:08.388Z"
   },
   {
    "duration": 6,
    "start_time": "2022-05-07T06:39:08.491Z"
   },
   {
    "duration": 421,
    "start_time": "2022-05-07T06:39:08.501Z"
   },
   {
    "duration": 31,
    "start_time": "2022-05-07T06:39:08.925Z"
   },
   {
    "duration": 431,
    "start_time": "2022-05-07T06:39:08.959Z"
   },
   {
    "duration": 15,
    "start_time": "2022-05-07T06:39:09.392Z"
   },
   {
    "duration": 50,
    "start_time": "2022-05-07T06:39:09.409Z"
   },
   {
    "duration": 74,
    "start_time": "2022-05-07T06:39:09.461Z"
   },
   {
    "duration": 27,
    "start_time": "2022-05-07T06:39:09.537Z"
   },
   {
    "duration": 24,
    "start_time": "2022-05-07T06:39:09.567Z"
   },
   {
    "duration": 130,
    "start_time": "2022-05-07T06:39:09.594Z"
   },
   {
    "duration": 29,
    "start_time": "2022-05-07T06:39:09.727Z"
   },
   {
    "duration": 7,
    "start_time": "2022-05-07T06:39:09.759Z"
   },
   {
    "duration": 11,
    "start_time": "2022-05-07T06:39:09.774Z"
   },
   {
    "duration": 23,
    "start_time": "2022-05-07T06:39:09.788Z"
   },
   {
    "duration": 52,
    "start_time": "2022-05-07T06:39:09.813Z"
   },
   {
    "duration": 59,
    "start_time": "2022-05-07T06:39:09.867Z"
   },
   {
    "duration": 39,
    "start_time": "2022-05-07T06:39:09.928Z"
   },
   {
    "duration": 108,
    "start_time": "2022-05-07T06:39:09.970Z"
   },
   {
    "duration": 38,
    "start_time": "2022-05-07T06:39:10.080Z"
   },
   {
    "duration": 64,
    "start_time": "2022-05-07T06:39:10.120Z"
   },
   {
    "duration": 254,
    "start_time": "2022-05-07T06:39:10.186Z"
   },
   {
    "duration": 7,
    "start_time": "2022-05-07T06:39:10.455Z"
   },
   {
    "duration": 13,
    "start_time": "2022-05-07T06:39:10.465Z"
   },
   {
    "duration": 20,
    "start_time": "2022-05-07T06:39:10.480Z"
   },
   {
    "duration": 14,
    "start_time": "2022-05-07T06:39:10.503Z"
   },
   {
    "duration": 32,
    "start_time": "2022-05-07T06:39:10.520Z"
   },
   {
    "duration": 14,
    "start_time": "2022-05-07T06:39:10.555Z"
   },
   {
    "duration": 43,
    "start_time": "2022-05-07T06:39:10.572Z"
   },
   {
    "duration": 40,
    "start_time": "2022-05-07T06:39:10.617Z"
   },
   {
    "duration": 595,
    "start_time": "2022-05-07T06:39:10.660Z"
   },
   {
    "duration": 63,
    "start_time": "2022-05-07T06:39:11.258Z"
   },
   {
    "duration": 2327,
    "start_time": "2022-05-07T06:39:11.324Z"
   },
   {
    "duration": 11,
    "start_time": "2022-05-07T06:39:13.653Z"
   },
   {
    "duration": 42,
    "start_time": "2022-05-07T06:39:13.666Z"
   },
   {
    "duration": 18,
    "start_time": "2022-05-07T06:39:13.711Z"
   },
   {
    "duration": 40,
    "start_time": "2022-05-07T06:39:13.733Z"
   },
   {
    "duration": 14,
    "start_time": "2022-05-07T06:39:13.776Z"
   },
   {
    "duration": 1809,
    "start_time": "2022-05-07T06:39:13.793Z"
   },
   {
    "duration": 162,
    "start_time": "2022-05-07T06:39:15.604Z"
   },
   {
    "duration": 0,
    "start_time": "2022-05-07T06:39:15.768Z"
   },
   {
    "duration": 0,
    "start_time": "2022-05-07T06:39:15.771Z"
   },
   {
    "duration": 0,
    "start_time": "2022-05-07T06:39:15.773Z"
   },
   {
    "duration": 0,
    "start_time": "2022-05-07T06:39:15.775Z"
   },
   {
    "duration": 1608,
    "start_time": "2022-05-07T06:40:14.899Z"
   },
   {
    "duration": 562,
    "start_time": "2022-05-07T06:40:16.510Z"
   },
   {
    "duration": 25,
    "start_time": "2022-05-07T06:40:17.074Z"
   },
   {
    "duration": 17,
    "start_time": "2022-05-07T06:40:17.103Z"
   },
   {
    "duration": 35,
    "start_time": "2022-05-07T06:40:17.122Z"
   },
   {
    "duration": 16,
    "start_time": "2022-05-07T06:40:17.159Z"
   },
   {
    "duration": 7,
    "start_time": "2022-05-07T06:40:17.177Z"
   },
   {
    "duration": 589,
    "start_time": "2022-05-07T06:40:17.186Z"
   },
   {
    "duration": 3,
    "start_time": "2022-05-07T06:40:17.777Z"
   },
   {
    "duration": 4,
    "start_time": "2022-05-07T06:40:17.785Z"
   },
   {
    "duration": 61,
    "start_time": "2022-05-07T06:40:17.791Z"
   },
   {
    "duration": 170,
    "start_time": "2022-05-07T06:40:17.854Z"
   },
   {
    "duration": 27,
    "start_time": "2022-05-07T06:40:18.026Z"
   },
   {
    "duration": 31,
    "start_time": "2022-05-07T06:40:18.055Z"
   },
   {
    "duration": 120,
    "start_time": "2022-05-07T06:40:18.088Z"
   },
   {
    "duration": 6,
    "start_time": "2022-05-07T06:40:18.211Z"
   },
   {
    "duration": 417,
    "start_time": "2022-05-07T06:40:18.219Z"
   },
   {
    "duration": 3,
    "start_time": "2022-05-07T06:40:18.638Z"
   },
   {
    "duration": 3,
    "start_time": "2022-05-07T06:40:18.651Z"
   },
   {
    "duration": 17,
    "start_time": "2022-05-07T06:40:18.657Z"
   },
   {
    "duration": 27,
    "start_time": "2022-05-07T06:40:18.676Z"
   },
   {
    "duration": 104,
    "start_time": "2022-05-07T06:40:18.705Z"
   },
   {
    "duration": 11,
    "start_time": "2022-05-07T06:40:18.812Z"
   },
   {
    "duration": 16,
    "start_time": "2022-05-07T06:40:18.853Z"
   },
   {
    "duration": 133,
    "start_time": "2022-05-07T06:40:18.871Z"
   },
   {
    "duration": 21,
    "start_time": "2022-05-07T06:40:19.006Z"
   },
   {
    "duration": 6,
    "start_time": "2022-05-07T06:40:19.029Z"
   },
   {
    "duration": 23,
    "start_time": "2022-05-07T06:40:19.057Z"
   },
   {
    "duration": 26,
    "start_time": "2022-05-07T06:40:19.082Z"
   },
   {
    "duration": 44,
    "start_time": "2022-05-07T06:40:19.110Z"
   },
   {
    "duration": 65,
    "start_time": "2022-05-07T06:40:19.156Z"
   },
   {
    "duration": 41,
    "start_time": "2022-05-07T06:40:19.224Z"
   },
   {
    "duration": 115,
    "start_time": "2022-05-07T06:40:19.267Z"
   },
   {
    "duration": 39,
    "start_time": "2022-05-07T06:40:19.384Z"
   },
   {
    "duration": 66,
    "start_time": "2022-05-07T06:40:19.425Z"
   },
   {
    "duration": 247,
    "start_time": "2022-05-07T06:40:19.494Z"
   },
   {
    "duration": 7,
    "start_time": "2022-05-07T06:40:19.751Z"
   },
   {
    "duration": 27,
    "start_time": "2022-05-07T06:40:19.760Z"
   },
   {
    "duration": 19,
    "start_time": "2022-05-07T06:40:19.790Z"
   },
   {
    "duration": 28,
    "start_time": "2022-05-07T06:40:19.812Z"
   },
   {
    "duration": 13,
    "start_time": "2022-05-07T06:40:19.843Z"
   },
   {
    "duration": 31,
    "start_time": "2022-05-07T06:40:19.858Z"
   },
   {
    "duration": 35,
    "start_time": "2022-05-07T06:40:19.892Z"
   },
   {
    "duration": 30,
    "start_time": "2022-05-07T06:40:19.930Z"
   },
   {
    "duration": 528,
    "start_time": "2022-05-07T06:40:19.964Z"
   },
   {
    "duration": 79,
    "start_time": "2022-05-07T06:40:20.495Z"
   },
   {
    "duration": 2228,
    "start_time": "2022-05-07T06:40:20.576Z"
   },
   {
    "duration": 11,
    "start_time": "2022-05-07T06:40:22.807Z"
   },
   {
    "duration": 47,
    "start_time": "2022-05-07T06:40:22.820Z"
   },
   {
    "duration": 3,
    "start_time": "2022-05-07T06:40:22.870Z"
   },
   {
    "duration": 8,
    "start_time": "2022-05-07T06:40:22.875Z"
   },
   {
    "duration": 6,
    "start_time": "2022-05-07T06:40:22.886Z"
   },
   {
    "duration": 1278,
    "start_time": "2022-05-07T06:40:22.894Z"
   },
   {
    "duration": 155,
    "start_time": "2022-05-07T06:40:24.174Z"
   },
   {
    "duration": 0,
    "start_time": "2022-05-07T06:40:24.332Z"
   },
   {
    "duration": 0,
    "start_time": "2022-05-07T06:40:24.334Z"
   },
   {
    "duration": 0,
    "start_time": "2022-05-07T06:40:24.335Z"
   },
   {
    "duration": 0,
    "start_time": "2022-05-07T06:40:24.337Z"
   },
   {
    "duration": 1476,
    "start_time": "2022-05-07T06:41:11.789Z"
   },
   {
    "duration": 571,
    "start_time": "2022-05-07T06:41:13.268Z"
   },
   {
    "duration": 23,
    "start_time": "2022-05-07T06:41:13.841Z"
   },
   {
    "duration": 15,
    "start_time": "2022-05-07T06:41:13.867Z"
   },
   {
    "duration": 15,
    "start_time": "2022-05-07T06:41:13.884Z"
   },
   {
    "duration": 52,
    "start_time": "2022-05-07T06:41:13.901Z"
   },
   {
    "duration": 6,
    "start_time": "2022-05-07T06:41:13.955Z"
   },
   {
    "duration": 568,
    "start_time": "2022-05-07T06:41:13.963Z"
   },
   {
    "duration": 3,
    "start_time": "2022-05-07T06:41:14.534Z"
   },
   {
    "duration": 12,
    "start_time": "2022-05-07T06:41:14.541Z"
   },
   {
    "duration": 38,
    "start_time": "2022-05-07T06:41:14.555Z"
   },
   {
    "duration": 168,
    "start_time": "2022-05-07T06:41:14.596Z"
   },
   {
    "duration": 18,
    "start_time": "2022-05-07T06:41:14.766Z"
   },
   {
    "duration": 28,
    "start_time": "2022-05-07T06:41:14.786Z"
   },
   {
    "duration": 97,
    "start_time": "2022-05-07T06:41:14.816Z"
   },
   {
    "duration": 6,
    "start_time": "2022-05-07T06:41:14.916Z"
   },
   {
    "duration": 552,
    "start_time": "2022-05-07T06:41:14.924Z"
   },
   {
    "duration": 4,
    "start_time": "2022-05-07T06:41:15.478Z"
   },
   {
    "duration": 15,
    "start_time": "2022-05-07T06:41:15.484Z"
   },
   {
    "duration": 24,
    "start_time": "2022-05-07T06:41:15.501Z"
   },
   {
    "duration": 51,
    "start_time": "2022-05-07T06:41:15.527Z"
   },
   {
    "duration": 73,
    "start_time": "2022-05-07T06:41:15.580Z"
   },
   {
    "duration": 11,
    "start_time": "2022-05-07T06:41:15.655Z"
   },
   {
    "duration": 16,
    "start_time": "2022-05-07T06:41:15.668Z"
   },
   {
    "duration": 132,
    "start_time": "2022-05-07T06:41:15.686Z"
   },
   {
    "duration": 33,
    "start_time": "2022-05-07T06:41:15.820Z"
   },
   {
    "duration": 7,
    "start_time": "2022-05-07T06:41:15.856Z"
   },
   {
    "duration": 11,
    "start_time": "2022-05-07T06:41:15.869Z"
   },
   {
    "duration": 14,
    "start_time": "2022-05-07T06:41:15.882Z"
   },
   {
    "duration": 58,
    "start_time": "2022-05-07T06:41:15.898Z"
   },
   {
    "duration": 66,
    "start_time": "2022-05-07T06:41:15.959Z"
   },
   {
    "duration": 42,
    "start_time": "2022-05-07T06:41:16.027Z"
   },
   {
    "duration": 110,
    "start_time": "2022-05-07T06:41:16.071Z"
   },
   {
    "duration": 40,
    "start_time": "2022-05-07T06:41:16.183Z"
   },
   {
    "duration": 64,
    "start_time": "2022-05-07T06:41:16.225Z"
   },
   {
    "duration": 260,
    "start_time": "2022-05-07T06:41:16.291Z"
   },
   {
    "duration": 6,
    "start_time": "2022-05-07T06:41:16.554Z"
   },
   {
    "duration": 19,
    "start_time": "2022-05-07T06:41:16.563Z"
   },
   {
    "duration": 25,
    "start_time": "2022-05-07T06:41:16.585Z"
   },
   {
    "duration": 25,
    "start_time": "2022-05-07T06:41:16.612Z"
   },
   {
    "duration": 20,
    "start_time": "2022-05-07T06:41:16.639Z"
   },
   {
    "duration": 19,
    "start_time": "2022-05-07T06:41:16.661Z"
   },
   {
    "duration": 32,
    "start_time": "2022-05-07T06:41:16.683Z"
   },
   {
    "duration": 35,
    "start_time": "2022-05-07T06:41:16.717Z"
   },
   {
    "duration": 524,
    "start_time": "2022-05-07T06:41:16.755Z"
   },
   {
    "duration": 78,
    "start_time": "2022-05-07T06:41:17.282Z"
   },
   {
    "duration": 2157,
    "start_time": "2022-05-07T06:41:17.362Z"
   },
   {
    "duration": 11,
    "start_time": "2022-05-07T06:41:19.521Z"
   },
   {
    "duration": 36,
    "start_time": "2022-05-07T06:41:19.534Z"
   },
   {
    "duration": 4,
    "start_time": "2022-05-07T06:41:19.572Z"
   },
   {
    "duration": 8,
    "start_time": "2022-05-07T06:41:19.578Z"
   },
   {
    "duration": 8,
    "start_time": "2022-05-07T06:41:19.588Z"
   },
   {
    "duration": 1156,
    "start_time": "2022-05-07T06:41:19.599Z"
   },
   {
    "duration": 156,
    "start_time": "2022-05-07T06:41:20.757Z"
   },
   {
    "duration": 0,
    "start_time": "2022-05-07T06:41:20.915Z"
   },
   {
    "duration": 0,
    "start_time": "2022-05-07T06:41:20.917Z"
   },
   {
    "duration": 1,
    "start_time": "2022-05-07T06:41:20.918Z"
   },
   {
    "duration": 0,
    "start_time": "2022-05-07T06:41:20.920Z"
   },
   {
    "duration": 1390,
    "start_time": "2022-05-07T06:42:28.070Z"
   },
   {
    "duration": 535,
    "start_time": "2022-05-07T06:42:29.463Z"
   },
   {
    "duration": 27,
    "start_time": "2022-05-07T06:42:30.001Z"
   },
   {
    "duration": 31,
    "start_time": "2022-05-07T06:42:30.032Z"
   },
   {
    "duration": 18,
    "start_time": "2022-05-07T06:42:30.066Z"
   },
   {
    "duration": 19,
    "start_time": "2022-05-07T06:42:30.087Z"
   },
   {
    "duration": 8,
    "start_time": "2022-05-07T06:42:30.108Z"
   },
   {
    "duration": 546,
    "start_time": "2022-05-07T06:42:30.119Z"
   },
   {
    "duration": 3,
    "start_time": "2022-05-07T06:42:30.668Z"
   },
   {
    "duration": 16,
    "start_time": "2022-05-07T06:42:30.675Z"
   },
   {
    "duration": 41,
    "start_time": "2022-05-07T06:42:30.693Z"
   },
   {
    "duration": 156,
    "start_time": "2022-05-07T06:42:30.737Z"
   },
   {
    "duration": 18,
    "start_time": "2022-05-07T06:42:30.895Z"
   },
   {
    "duration": 52,
    "start_time": "2022-05-07T06:42:30.916Z"
   },
   {
    "duration": 87,
    "start_time": "2022-05-07T06:42:30.971Z"
   },
   {
    "duration": 7,
    "start_time": "2022-05-07T06:42:31.060Z"
   },
   {
    "duration": 483,
    "start_time": "2022-05-07T06:42:31.069Z"
   },
   {
    "duration": 3,
    "start_time": "2022-05-07T06:42:31.554Z"
   },
   {
    "duration": 21,
    "start_time": "2022-05-07T06:42:31.559Z"
   },
   {
    "duration": 17,
    "start_time": "2022-05-07T06:42:31.583Z"
   },
   {
    "duration": 30,
    "start_time": "2022-05-07T06:42:31.603Z"
   },
   {
    "duration": 77,
    "start_time": "2022-05-07T06:42:31.635Z"
   },
   {
    "duration": 11,
    "start_time": "2022-05-07T06:42:31.714Z"
   },
   {
    "duration": 32,
    "start_time": "2022-05-07T06:42:31.727Z"
   },
   {
    "duration": 121,
    "start_time": "2022-05-07T06:42:31.762Z"
   },
   {
    "duration": 21,
    "start_time": "2022-05-07T06:42:31.886Z"
   },
   {
    "duration": 6,
    "start_time": "2022-05-07T06:42:31.910Z"
   },
   {
    "duration": 6,
    "start_time": "2022-05-07T06:42:31.953Z"
   },
   {
    "duration": 15,
    "start_time": "2022-05-07T06:42:31.962Z"
   },
   {
    "duration": 27,
    "start_time": "2022-05-07T06:42:31.979Z"
   },
   {
    "duration": 94,
    "start_time": "2022-05-07T06:42:32.009Z"
   },
   {
    "duration": 22,
    "start_time": "2022-05-07T06:42:32.106Z"
   },
   {
    "duration": 107,
    "start_time": "2022-05-07T06:42:32.130Z"
   },
   {
    "duration": 37,
    "start_time": "2022-05-07T06:42:32.252Z"
   },
   {
    "duration": 61,
    "start_time": "2022-05-07T06:42:32.292Z"
   },
   {
    "duration": 210,
    "start_time": "2022-05-07T06:42:32.355Z"
   },
   {
    "duration": 6,
    "start_time": "2022-05-07T06:42:32.567Z"
   },
   {
    "duration": 7,
    "start_time": "2022-05-07T06:42:32.575Z"
   },
   {
    "duration": 7,
    "start_time": "2022-05-07T06:42:32.584Z"
   },
   {
    "duration": 16,
    "start_time": "2022-05-07T06:42:32.594Z"
   },
   {
    "duration": 44,
    "start_time": "2022-05-07T06:42:32.612Z"
   },
   {
    "duration": 13,
    "start_time": "2022-05-07T06:42:32.659Z"
   },
   {
    "duration": 31,
    "start_time": "2022-05-07T06:42:32.675Z"
   },
   {
    "duration": 45,
    "start_time": "2022-05-07T06:42:32.708Z"
   },
   {
    "duration": 606,
    "start_time": "2022-05-07T06:42:32.756Z"
   },
   {
    "duration": 61,
    "start_time": "2022-05-07T06:42:33.365Z"
   },
   {
    "duration": 2013,
    "start_time": "2022-05-07T06:42:33.428Z"
   },
   {
    "duration": 10,
    "start_time": "2022-05-07T06:42:35.452Z"
   },
   {
    "duration": 28,
    "start_time": "2022-05-07T06:42:35.464Z"
   },
   {
    "duration": 4,
    "start_time": "2022-05-07T06:42:35.494Z"
   },
   {
    "duration": 5,
    "start_time": "2022-05-07T06:42:35.501Z"
   },
   {
    "duration": 6,
    "start_time": "2022-05-07T06:42:35.508Z"
   },
   {
    "duration": 1120,
    "start_time": "2022-05-07T06:42:35.516Z"
   },
   {
    "duration": 150,
    "start_time": "2022-05-07T06:42:36.639Z"
   },
   {
    "duration": 1,
    "start_time": "2022-05-07T06:42:36.791Z"
   },
   {
    "duration": 0,
    "start_time": "2022-05-07T06:42:36.793Z"
   },
   {
    "duration": 0,
    "start_time": "2022-05-07T06:42:36.795Z"
   },
   {
    "duration": 0,
    "start_time": "2022-05-07T06:42:36.797Z"
   },
   {
    "duration": 36,
    "start_time": "2022-05-07T06:45:48.844Z"
   },
   {
    "duration": 1530,
    "start_time": "2022-05-07T06:46:07.749Z"
   },
   {
    "duration": 547,
    "start_time": "2022-05-07T06:46:09.282Z"
   },
   {
    "duration": 24,
    "start_time": "2022-05-07T06:46:09.831Z"
   },
   {
    "duration": 16,
    "start_time": "2022-05-07T06:46:09.858Z"
   },
   {
    "duration": 17,
    "start_time": "2022-05-07T06:46:09.877Z"
   },
   {
    "duration": 23,
    "start_time": "2022-05-07T06:46:09.896Z"
   },
   {
    "duration": 11,
    "start_time": "2022-05-07T06:46:09.921Z"
   },
   {
    "duration": 531,
    "start_time": "2022-05-07T06:46:09.952Z"
   },
   {
    "duration": 3,
    "start_time": "2022-05-07T06:46:10.486Z"
   },
   {
    "duration": 11,
    "start_time": "2022-05-07T06:46:10.493Z"
   },
   {
    "duration": 53,
    "start_time": "2022-05-07T06:46:10.506Z"
   },
   {
    "duration": 157,
    "start_time": "2022-05-07T06:46:10.561Z"
   },
   {
    "duration": 31,
    "start_time": "2022-05-07T06:46:10.721Z"
   },
   {
    "duration": 30,
    "start_time": "2022-05-07T06:46:10.755Z"
   },
   {
    "duration": 100,
    "start_time": "2022-05-07T06:46:10.787Z"
   },
   {
    "duration": 6,
    "start_time": "2022-05-07T06:46:10.890Z"
   },
   {
    "duration": 499,
    "start_time": "2022-05-07T06:46:10.899Z"
   },
   {
    "duration": 4,
    "start_time": "2022-05-07T06:46:11.401Z"
   },
   {
    "duration": 7,
    "start_time": "2022-05-07T06:46:11.408Z"
   },
   {
    "duration": 43,
    "start_time": "2022-05-07T06:46:11.417Z"
   },
   {
    "duration": 37,
    "start_time": "2022-05-07T06:46:11.462Z"
   },
   {
    "duration": 72,
    "start_time": "2022-05-07T06:46:11.502Z"
   },
   {
    "duration": 11,
    "start_time": "2022-05-07T06:46:11.577Z"
   },
   {
    "duration": 24,
    "start_time": "2022-05-07T06:46:11.590Z"
   },
   {
    "duration": 128,
    "start_time": "2022-05-07T06:46:11.616Z"
   },
   {
    "duration": 20,
    "start_time": "2022-05-07T06:46:11.747Z"
   },
   {
    "duration": 8,
    "start_time": "2022-05-07T06:46:11.769Z"
   },
   {
    "duration": 12,
    "start_time": "2022-05-07T06:46:11.783Z"
   },
   {
    "duration": 18,
    "start_time": "2022-05-07T06:46:11.797Z"
   },
   {
    "duration": 52,
    "start_time": "2022-05-07T06:46:11.817Z"
   },
   {
    "duration": 61,
    "start_time": "2022-05-07T06:46:11.871Z"
   },
   {
    "duration": 33,
    "start_time": "2022-05-07T06:46:11.935Z"
   },
   {
    "duration": 108,
    "start_time": "2022-05-07T06:46:11.970Z"
   },
   {
    "duration": 37,
    "start_time": "2022-05-07T06:46:12.080Z"
   },
   {
    "duration": 63,
    "start_time": "2022-05-07T06:46:12.119Z"
   },
   {
    "duration": 221,
    "start_time": "2022-05-07T06:46:12.184Z"
   },
   {
    "duration": 6,
    "start_time": "2022-05-07T06:46:12.407Z"
   },
   {
    "duration": 15,
    "start_time": "2022-05-07T06:46:12.415Z"
   },
   {
    "duration": 21,
    "start_time": "2022-05-07T06:46:12.432Z"
   },
   {
    "duration": 7,
    "start_time": "2022-05-07T06:46:12.455Z"
   },
   {
    "duration": 13,
    "start_time": "2022-05-07T06:46:12.464Z"
   },
   {
    "duration": 13,
    "start_time": "2022-05-07T06:46:12.479Z"
   },
   {
    "duration": 69,
    "start_time": "2022-05-07T06:46:12.494Z"
   },
   {
    "duration": 12,
    "start_time": "2022-05-07T06:46:12.566Z"
   },
   {
    "duration": 516,
    "start_time": "2022-05-07T06:46:12.580Z"
   },
   {
    "duration": 73,
    "start_time": "2022-05-07T06:46:13.098Z"
   },
   {
    "duration": 2082,
    "start_time": "2022-05-07T06:46:13.173Z"
   },
   {
    "duration": 156,
    "start_time": "2022-05-07T06:46:15.257Z"
   },
   {
    "duration": 0,
    "start_time": "2022-05-07T06:46:15.416Z"
   },
   {
    "duration": 0,
    "start_time": "2022-05-07T06:46:15.418Z"
   },
   {
    "duration": 0,
    "start_time": "2022-05-07T06:46:15.419Z"
   },
   {
    "duration": 0,
    "start_time": "2022-05-07T06:46:15.421Z"
   },
   {
    "duration": 0,
    "start_time": "2022-05-07T06:46:15.423Z"
   },
   {
    "duration": 0,
    "start_time": "2022-05-07T06:46:15.425Z"
   },
   {
    "duration": 0,
    "start_time": "2022-05-07T06:46:15.427Z"
   },
   {
    "duration": 0,
    "start_time": "2022-05-07T06:46:15.451Z"
   },
   {
    "duration": 0,
    "start_time": "2022-05-07T06:46:15.453Z"
   },
   {
    "duration": 0,
    "start_time": "2022-05-07T06:46:15.454Z"
   },
   {
    "duration": 0,
    "start_time": "2022-05-07T06:46:15.456Z"
   },
   {
    "duration": 0,
    "start_time": "2022-05-07T06:46:15.457Z"
   },
   {
    "duration": 37,
    "start_time": "2022-05-07T06:46:57.124Z"
   },
   {
    "duration": 11,
    "start_time": "2022-05-07T06:46:57.946Z"
   },
   {
    "duration": 36,
    "start_time": "2022-05-07T06:46:58.188Z"
   },
   {
    "duration": 1381,
    "start_time": "2022-05-07T06:46:58.381Z"
   },
   {
    "duration": 0,
    "start_time": "2022-05-07T06:46:59.765Z"
   },
   {
    "duration": 0,
    "start_time": "2022-05-07T06:46:59.767Z"
   },
   {
    "duration": 0,
    "start_time": "2022-05-07T06:46:59.768Z"
   },
   {
    "duration": 0,
    "start_time": "2022-05-07T06:46:59.770Z"
   },
   {
    "duration": 0,
    "start_time": "2022-05-07T06:46:59.771Z"
   },
   {
    "duration": 1765,
    "start_time": "2022-05-07T06:48:38.854Z"
   },
   {
    "duration": 531,
    "start_time": "2022-05-07T06:48:40.622Z"
   },
   {
    "duration": 23,
    "start_time": "2022-05-07T06:48:41.156Z"
   },
   {
    "duration": 16,
    "start_time": "2022-05-07T06:48:41.182Z"
   },
   {
    "duration": 13,
    "start_time": "2022-05-07T06:48:41.200Z"
   },
   {
    "duration": 47,
    "start_time": "2022-05-07T06:48:41.215Z"
   },
   {
    "duration": 6,
    "start_time": "2022-05-07T06:48:41.264Z"
   },
   {
    "duration": 537,
    "start_time": "2022-05-07T06:48:41.272Z"
   },
   {
    "duration": 4,
    "start_time": "2022-05-07T06:48:41.811Z"
   },
   {
    "duration": 6,
    "start_time": "2022-05-07T06:48:41.819Z"
   },
   {
    "duration": 53,
    "start_time": "2022-05-07T06:48:41.827Z"
   },
   {
    "duration": 151,
    "start_time": "2022-05-07T06:48:41.882Z"
   },
   {
    "duration": 24,
    "start_time": "2022-05-07T06:48:42.035Z"
   },
   {
    "duration": 32,
    "start_time": "2022-05-07T06:48:42.061Z"
   },
   {
    "duration": 93,
    "start_time": "2022-05-07T06:48:42.095Z"
   },
   {
    "duration": 6,
    "start_time": "2022-05-07T06:48:42.190Z"
   },
   {
    "duration": 481,
    "start_time": "2022-05-07T06:48:42.198Z"
   },
   {
    "duration": 3,
    "start_time": "2022-05-07T06:48:42.681Z"
   },
   {
    "duration": 8,
    "start_time": "2022-05-07T06:48:42.686Z"
   },
   {
    "duration": 16,
    "start_time": "2022-05-07T06:48:42.696Z"
   },
   {
    "duration": 51,
    "start_time": "2022-05-07T06:48:42.714Z"
   },
   {
    "duration": 62,
    "start_time": "2022-05-07T06:48:42.767Z"
   },
   {
    "duration": 28,
    "start_time": "2022-05-07T06:48:42.831Z"
   },
   {
    "duration": 14,
    "start_time": "2022-05-07T06:48:42.861Z"
   },
   {
    "duration": 128,
    "start_time": "2022-05-07T06:48:42.877Z"
   },
   {
    "duration": 19,
    "start_time": "2022-05-07T06:48:43.007Z"
   },
   {
    "duration": 5,
    "start_time": "2022-05-07T06:48:43.028Z"
   },
   {
    "duration": 6,
    "start_time": "2022-05-07T06:48:43.056Z"
   },
   {
    "duration": 15,
    "start_time": "2022-05-07T06:48:43.064Z"
   },
   {
    "duration": 28,
    "start_time": "2022-05-07T06:48:43.081Z"
   },
   {
    "duration": 88,
    "start_time": "2022-05-07T06:48:43.111Z"
   },
   {
    "duration": 20,
    "start_time": "2022-05-07T06:48:43.201Z"
   },
   {
    "duration": 114,
    "start_time": "2022-05-07T06:48:43.223Z"
   },
   {
    "duration": 42,
    "start_time": "2022-05-07T06:48:43.340Z"
   },
   {
    "duration": 41,
    "start_time": "2022-05-07T06:48:43.383Z"
   },
   {
    "duration": 234,
    "start_time": "2022-05-07T06:48:43.426Z"
   },
   {
    "duration": 6,
    "start_time": "2022-05-07T06:48:43.662Z"
   },
   {
    "duration": 7,
    "start_time": "2022-05-07T06:48:43.670Z"
   },
   {
    "duration": 6,
    "start_time": "2022-05-07T06:48:43.679Z"
   },
   {
    "duration": 7,
    "start_time": "2022-05-07T06:48:43.687Z"
   },
   {
    "duration": 10,
    "start_time": "2022-05-07T06:48:43.696Z"
   },
   {
    "duration": 12,
    "start_time": "2022-05-07T06:48:43.752Z"
   },
   {
    "duration": 31,
    "start_time": "2022-05-07T06:48:43.767Z"
   },
   {
    "duration": 14,
    "start_time": "2022-05-07T06:48:43.800Z"
   },
   {
    "duration": 537,
    "start_time": "2022-05-07T06:48:43.816Z"
   },
   {
    "duration": 60,
    "start_time": "2022-05-07T06:48:44.355Z"
   },
   {
    "duration": 2063,
    "start_time": "2022-05-07T06:48:44.417Z"
   },
   {
    "duration": 36,
    "start_time": "2022-05-07T06:48:46.483Z"
   },
   {
    "duration": 31,
    "start_time": "2022-05-07T06:48:46.521Z"
   },
   {
    "duration": 36,
    "start_time": "2022-05-07T06:48:46.554Z"
   },
   {
    "duration": 1625,
    "start_time": "2022-05-07T06:48:46.593Z"
   },
   {
    "duration": 0,
    "start_time": "2022-05-07T06:48:48.220Z"
   },
   {
    "duration": 0,
    "start_time": "2022-05-07T06:48:48.222Z"
   },
   {
    "duration": 0,
    "start_time": "2022-05-07T06:48:48.224Z"
   },
   {
    "duration": 0,
    "start_time": "2022-05-07T06:48:48.225Z"
   },
   {
    "duration": 0,
    "start_time": "2022-05-07T06:48:48.227Z"
   },
   {
    "duration": 0,
    "start_time": "2022-05-07T06:48:48.228Z"
   },
   {
    "duration": 0,
    "start_time": "2022-05-07T06:48:48.230Z"
   },
   {
    "duration": 0,
    "start_time": "2022-05-07T06:48:48.231Z"
   },
   {
    "duration": 0,
    "start_time": "2022-05-07T06:48:48.232Z"
   },
   {
    "duration": 1464,
    "start_time": "2022-05-07T06:49:06.900Z"
   },
   {
    "duration": 529,
    "start_time": "2022-05-07T06:49:08.367Z"
   },
   {
    "duration": 24,
    "start_time": "2022-05-07T06:49:08.898Z"
   },
   {
    "duration": 27,
    "start_time": "2022-05-07T06:49:08.925Z"
   },
   {
    "duration": 12,
    "start_time": "2022-05-07T06:49:08.954Z"
   },
   {
    "duration": 17,
    "start_time": "2022-05-07T06:49:08.968Z"
   },
   {
    "duration": 7,
    "start_time": "2022-05-07T06:49:08.988Z"
   },
   {
    "duration": 560,
    "start_time": "2022-05-07T06:49:08.998Z"
   },
   {
    "duration": 3,
    "start_time": "2022-05-07T06:49:09.561Z"
   },
   {
    "duration": 4,
    "start_time": "2022-05-07T06:49:09.570Z"
   },
   {
    "duration": 37,
    "start_time": "2022-05-07T06:49:09.576Z"
   },
   {
    "duration": 182,
    "start_time": "2022-05-07T06:49:09.616Z"
   },
   {
    "duration": 20,
    "start_time": "2022-05-07T06:49:09.800Z"
   },
   {
    "duration": 50,
    "start_time": "2022-05-07T06:49:09.823Z"
   },
   {
    "duration": 96,
    "start_time": "2022-05-07T06:49:09.876Z"
   },
   {
    "duration": 7,
    "start_time": "2022-05-07T06:49:09.974Z"
   },
   {
    "duration": 504,
    "start_time": "2022-05-07T06:49:09.983Z"
   },
   {
    "duration": 4,
    "start_time": "2022-05-07T06:49:10.490Z"
   },
   {
    "duration": 6,
    "start_time": "2022-05-07T06:49:10.496Z"
   },
   {
    "duration": 17,
    "start_time": "2022-05-07T06:49:10.505Z"
   },
   {
    "duration": 28,
    "start_time": "2022-05-07T06:49:10.551Z"
   },
   {
    "duration": 90,
    "start_time": "2022-05-07T06:49:10.581Z"
   },
   {
    "duration": 12,
    "start_time": "2022-05-07T06:49:10.674Z"
   },
   {
    "duration": 17,
    "start_time": "2022-05-07T06:49:10.689Z"
   },
   {
    "duration": 137,
    "start_time": "2022-05-07T06:49:10.708Z"
   },
   {
    "duration": 21,
    "start_time": "2022-05-07T06:49:10.848Z"
   },
   {
    "duration": 6,
    "start_time": "2022-05-07T06:49:10.872Z"
   },
   {
    "duration": 6,
    "start_time": "2022-05-07T06:49:10.886Z"
   },
   {
    "duration": 58,
    "start_time": "2022-05-07T06:49:10.895Z"
   },
   {
    "duration": 27,
    "start_time": "2022-05-07T06:49:10.957Z"
   },
   {
    "duration": 87,
    "start_time": "2022-05-07T06:49:10.986Z"
   },
   {
    "duration": 22,
    "start_time": "2022-05-07T06:49:11.075Z"
   },
   {
    "duration": 119,
    "start_time": "2022-05-07T06:49:11.100Z"
   },
   {
    "duration": 52,
    "start_time": "2022-05-07T06:49:11.222Z"
   },
   {
    "duration": 46,
    "start_time": "2022-05-07T06:49:11.276Z"
   },
   {
    "duration": 243,
    "start_time": "2022-05-07T06:49:11.324Z"
   },
   {
    "duration": 6,
    "start_time": "2022-05-07T06:49:11.569Z"
   },
   {
    "duration": 7,
    "start_time": "2022-05-07T06:49:11.577Z"
   },
   {
    "duration": 6,
    "start_time": "2022-05-07T06:49:11.586Z"
   },
   {
    "duration": 8,
    "start_time": "2022-05-07T06:49:11.594Z"
   },
   {
    "duration": 52,
    "start_time": "2022-05-07T06:49:11.605Z"
   },
   {
    "duration": 11,
    "start_time": "2022-05-07T06:49:11.659Z"
   },
   {
    "duration": 29,
    "start_time": "2022-05-07T06:49:11.673Z"
   },
   {
    "duration": 11,
    "start_time": "2022-05-07T06:49:11.704Z"
   },
   {
    "duration": 527,
    "start_time": "2022-05-07T06:49:11.717Z"
   },
   {
    "duration": 59,
    "start_time": "2022-05-07T06:49:12.251Z"
   },
   {
    "duration": 2025,
    "start_time": "2022-05-07T06:49:12.312Z"
   },
   {
    "duration": 43,
    "start_time": "2022-05-07T06:49:14.339Z"
   },
   {
    "duration": 10,
    "start_time": "2022-05-07T06:49:14.384Z"
   },
   {
    "duration": 57,
    "start_time": "2022-05-07T06:49:14.396Z"
   },
   {
    "duration": 1808,
    "start_time": "2022-05-07T06:49:14.455Z"
   },
   {
    "duration": 0,
    "start_time": "2022-05-07T06:49:16.266Z"
   },
   {
    "duration": 0,
    "start_time": "2022-05-07T06:49:16.267Z"
   },
   {
    "duration": 0,
    "start_time": "2022-05-07T06:49:16.269Z"
   },
   {
    "duration": 0,
    "start_time": "2022-05-07T06:49:16.270Z"
   },
   {
    "duration": 0,
    "start_time": "2022-05-07T06:49:16.271Z"
   },
   {
    "duration": 0,
    "start_time": "2022-05-07T06:49:16.273Z"
   },
   {
    "duration": 0,
    "start_time": "2022-05-07T06:49:16.274Z"
   },
   {
    "duration": 0,
    "start_time": "2022-05-07T06:49:16.276Z"
   },
   {
    "duration": 0,
    "start_time": "2022-05-07T06:49:16.277Z"
   },
   {
    "duration": 1486,
    "start_time": "2022-05-07T06:50:29.766Z"
   },
   {
    "duration": 544,
    "start_time": "2022-05-07T06:50:31.255Z"
   },
   {
    "duration": 23,
    "start_time": "2022-05-07T06:50:31.801Z"
   },
   {
    "duration": 30,
    "start_time": "2022-05-07T06:50:31.828Z"
   },
   {
    "duration": 26,
    "start_time": "2022-05-07T06:50:31.860Z"
   },
   {
    "duration": 33,
    "start_time": "2022-05-07T06:50:31.888Z"
   },
   {
    "duration": 22,
    "start_time": "2022-05-07T06:50:31.924Z"
   },
   {
    "duration": 505,
    "start_time": "2022-05-07T06:50:31.949Z"
   },
   {
    "duration": 3,
    "start_time": "2022-05-07T06:50:32.457Z"
   },
   {
    "duration": 12,
    "start_time": "2022-05-07T06:50:32.464Z"
   },
   {
    "duration": 61,
    "start_time": "2022-05-07T06:50:32.478Z"
   },
   {
    "duration": 143,
    "start_time": "2022-05-07T06:50:32.542Z"
   },
   {
    "duration": 17,
    "start_time": "2022-05-07T06:50:32.687Z"
   },
   {
    "duration": 45,
    "start_time": "2022-05-07T06:50:32.706Z"
   },
   {
    "duration": 83,
    "start_time": "2022-05-07T06:50:32.753Z"
   },
   {
    "duration": 13,
    "start_time": "2022-05-07T06:50:32.838Z"
   },
   {
    "duration": 466,
    "start_time": "2022-05-07T06:50:32.853Z"
   },
   {
    "duration": 4,
    "start_time": "2022-05-07T06:50:33.321Z"
   },
   {
    "duration": 21,
    "start_time": "2022-05-07T06:50:33.327Z"
   },
   {
    "duration": 24,
    "start_time": "2022-05-07T06:50:33.349Z"
   },
   {
    "duration": 37,
    "start_time": "2022-05-07T06:50:33.375Z"
   },
   {
    "duration": 76,
    "start_time": "2022-05-07T06:50:33.415Z"
   },
   {
    "duration": 11,
    "start_time": "2022-05-07T06:50:33.493Z"
   },
   {
    "duration": 38,
    "start_time": "2022-05-07T06:50:33.506Z"
   },
   {
    "duration": 124,
    "start_time": "2022-05-07T06:50:33.546Z"
   },
   {
    "duration": 19,
    "start_time": "2022-05-07T06:50:33.672Z"
   },
   {
    "duration": 12,
    "start_time": "2022-05-07T06:50:33.692Z"
   },
   {
    "duration": 8,
    "start_time": "2022-05-07T06:50:33.709Z"
   },
   {
    "duration": 37,
    "start_time": "2022-05-07T06:50:33.719Z"
   },
   {
    "duration": 40,
    "start_time": "2022-05-07T06:50:33.758Z"
   },
   {
    "duration": 69,
    "start_time": "2022-05-07T06:50:33.801Z"
   },
   {
    "duration": 19,
    "start_time": "2022-05-07T06:50:33.872Z"
   },
   {
    "duration": 102,
    "start_time": "2022-05-07T06:50:33.893Z"
   },
   {
    "duration": 55,
    "start_time": "2022-05-07T06:50:33.998Z"
   },
   {
    "duration": 45,
    "start_time": "2022-05-07T06:50:34.055Z"
   },
   {
    "duration": 243,
    "start_time": "2022-05-07T06:50:34.103Z"
   },
   {
    "duration": 8,
    "start_time": "2022-05-07T06:50:34.348Z"
   },
   {
    "duration": 8,
    "start_time": "2022-05-07T06:50:34.358Z"
   },
   {
    "duration": 8,
    "start_time": "2022-05-07T06:50:34.369Z"
   },
   {
    "duration": 8,
    "start_time": "2022-05-07T06:50:34.380Z"
   },
   {
    "duration": 63,
    "start_time": "2022-05-07T06:50:34.390Z"
   },
   {
    "duration": 14,
    "start_time": "2022-05-07T06:50:34.456Z"
   },
   {
    "duration": 30,
    "start_time": "2022-05-07T06:50:34.472Z"
   },
   {
    "duration": 48,
    "start_time": "2022-05-07T06:50:34.505Z"
   },
   {
    "duration": 597,
    "start_time": "2022-05-07T06:50:34.556Z"
   },
   {
    "duration": 62,
    "start_time": "2022-05-07T06:50:35.156Z"
   },
   {
    "duration": 2138,
    "start_time": "2022-05-07T06:50:35.221Z"
   },
   {
    "duration": 38,
    "start_time": "2022-05-07T06:50:37.362Z"
   },
   {
    "duration": 12,
    "start_time": "2022-05-07T06:50:37.403Z"
   },
   {
    "duration": 71,
    "start_time": "2022-05-07T06:50:37.417Z"
   },
   {
    "duration": 5,
    "start_time": "2022-05-07T06:50:37.491Z"
   },
   {
    "duration": 8,
    "start_time": "2022-05-07T06:50:37.498Z"
   },
   {
    "duration": 9,
    "start_time": "2022-05-07T06:50:37.509Z"
   },
   {
    "duration": 1127,
    "start_time": "2022-05-07T06:50:37.520Z"
   },
   {
    "duration": 148,
    "start_time": "2022-05-07T06:50:38.652Z"
   },
   {
    "duration": 0,
    "start_time": "2022-05-07T06:50:38.803Z"
   },
   {
    "duration": 0,
    "start_time": "2022-05-07T06:50:38.805Z"
   },
   {
    "duration": 0,
    "start_time": "2022-05-07T06:50:38.806Z"
   },
   {
    "duration": 0,
    "start_time": "2022-05-07T06:50:38.808Z"
   },
   {
    "duration": 1421,
    "start_time": "2022-05-07T06:53:51.440Z"
   },
   {
    "duration": 532,
    "start_time": "2022-05-07T06:53:52.864Z"
   },
   {
    "duration": 25,
    "start_time": "2022-05-07T06:53:53.398Z"
   },
   {
    "duration": 27,
    "start_time": "2022-05-07T06:53:53.425Z"
   },
   {
    "duration": 20,
    "start_time": "2022-05-07T06:53:53.454Z"
   },
   {
    "duration": 18,
    "start_time": "2022-05-07T06:53:53.476Z"
   },
   {
    "duration": 7,
    "start_time": "2022-05-07T06:53:53.496Z"
   },
   {
    "duration": 524,
    "start_time": "2022-05-07T06:53:53.505Z"
   },
   {
    "duration": 7,
    "start_time": "2022-05-07T06:53:54.032Z"
   },
   {
    "duration": 3,
    "start_time": "2022-05-07T06:53:54.051Z"
   },
   {
    "duration": 34,
    "start_time": "2022-05-07T06:53:54.056Z"
   },
   {
    "duration": 154,
    "start_time": "2022-05-07T06:53:54.092Z"
   },
   {
    "duration": 18,
    "start_time": "2022-05-07T06:53:54.247Z"
   },
   {
    "duration": 30,
    "start_time": "2022-05-07T06:53:54.267Z"
   },
   {
    "duration": 94,
    "start_time": "2022-05-07T06:53:54.299Z"
   },
   {
    "duration": 6,
    "start_time": "2022-05-07T06:53:54.395Z"
   },
   {
    "duration": 488,
    "start_time": "2022-05-07T06:53:54.403Z"
   },
   {
    "duration": 4,
    "start_time": "2022-05-07T06:53:54.893Z"
   },
   {
    "duration": 8,
    "start_time": "2022-05-07T06:53:54.899Z"
   },
   {
    "duration": 17,
    "start_time": "2022-05-07T06:53:54.909Z"
   },
   {
    "duration": 45,
    "start_time": "2022-05-07T06:53:54.928Z"
   },
   {
    "duration": 79,
    "start_time": "2022-05-07T06:53:54.975Z"
   },
   {
    "duration": 11,
    "start_time": "2022-05-07T06:53:55.056Z"
   },
   {
    "duration": 18,
    "start_time": "2022-05-07T06:53:55.069Z"
   },
   {
    "duration": 126,
    "start_time": "2022-05-07T06:53:55.089Z"
   },
   {
    "duration": 18,
    "start_time": "2022-05-07T06:53:55.218Z"
   },
   {
    "duration": 16,
    "start_time": "2022-05-07T06:53:55.238Z"
   },
   {
    "duration": 6,
    "start_time": "2022-05-07T06:53:55.260Z"
   },
   {
    "duration": 12,
    "start_time": "2022-05-07T06:53:55.268Z"
   },
   {
    "duration": 30,
    "start_time": "2022-05-07T06:53:55.282Z"
   },
   {
    "duration": 93,
    "start_time": "2022-05-07T06:53:55.314Z"
   },
   {
    "duration": 53,
    "start_time": "2022-05-07T06:53:55.410Z"
   },
   {
    "duration": 199,
    "start_time": "2022-05-07T06:53:55.465Z"
   },
   {
    "duration": 92,
    "start_time": "2022-05-07T06:53:55.667Z"
   },
   {
    "duration": 96,
    "start_time": "2022-05-07T06:53:55.761Z"
   },
   {
    "duration": 433,
    "start_time": "2022-05-07T06:53:55.860Z"
   },
   {
    "duration": 61,
    "start_time": "2022-05-07T06:53:56.295Z"
   },
   {
    "duration": 10,
    "start_time": "2022-05-07T06:53:56.358Z"
   },
   {
    "duration": 8,
    "start_time": "2022-05-07T06:53:56.371Z"
   },
   {
    "duration": 8,
    "start_time": "2022-05-07T06:53:56.380Z"
   },
   {
    "duration": 64,
    "start_time": "2022-05-07T06:53:56.390Z"
   },
   {
    "duration": 11,
    "start_time": "2022-05-07T06:53:56.456Z"
   },
   {
    "duration": 83,
    "start_time": "2022-05-07T06:53:56.469Z"
   },
   {
    "duration": 11,
    "start_time": "2022-05-07T06:53:56.554Z"
   },
   {
    "duration": 1013,
    "start_time": "2022-05-07T06:53:56.567Z"
   },
   {
    "duration": 169,
    "start_time": "2022-05-07T06:53:57.583Z"
   },
   {
    "duration": 2284,
    "start_time": "2022-05-07T06:53:57.754Z"
   },
   {
    "duration": 42,
    "start_time": "2022-05-07T06:54:00.040Z"
   },
   {
    "duration": 9,
    "start_time": "2022-05-07T06:54:00.084Z"
   },
   {
    "duration": 57,
    "start_time": "2022-05-07T06:54:00.096Z"
   },
   {
    "duration": 156,
    "start_time": "2022-05-07T06:54:00.155Z"
   },
   {
    "duration": 0,
    "start_time": "2022-05-07T06:54:00.313Z"
   },
   {
    "duration": 0,
    "start_time": "2022-05-07T06:54:00.315Z"
   },
   {
    "duration": 0,
    "start_time": "2022-05-07T06:54:00.317Z"
   },
   {
    "duration": 0,
    "start_time": "2022-05-07T06:54:00.318Z"
   },
   {
    "duration": 0,
    "start_time": "2022-05-07T06:54:00.319Z"
   },
   {
    "duration": 0,
    "start_time": "2022-05-07T06:54:00.321Z"
   },
   {
    "duration": 0,
    "start_time": "2022-05-07T06:54:00.322Z"
   },
   {
    "duration": 0,
    "start_time": "2022-05-07T06:54:00.323Z"
   },
   {
    "duration": 0,
    "start_time": "2022-05-07T06:54:00.325Z"
   },
   {
    "duration": 1372,
    "start_time": "2022-05-07T06:54:41.987Z"
   },
   {
    "duration": 546,
    "start_time": "2022-05-07T06:54:43.362Z"
   },
   {
    "duration": 25,
    "start_time": "2022-05-07T06:54:43.910Z"
   },
   {
    "duration": 22,
    "start_time": "2022-05-07T06:54:43.938Z"
   },
   {
    "duration": 15,
    "start_time": "2022-05-07T06:54:43.962Z"
   },
   {
    "duration": 19,
    "start_time": "2022-05-07T06:54:43.979Z"
   },
   {
    "duration": 13,
    "start_time": "2022-05-07T06:54:44.000Z"
   },
   {
    "duration": 537,
    "start_time": "2022-05-07T06:54:44.015Z"
   },
   {
    "duration": 4,
    "start_time": "2022-05-07T06:54:44.554Z"
   },
   {
    "duration": 3,
    "start_time": "2022-05-07T06:54:44.564Z"
   },
   {
    "duration": 36,
    "start_time": "2022-05-07T06:54:44.569Z"
   },
   {
    "duration": 181,
    "start_time": "2022-05-07T06:54:44.608Z"
   },
   {
    "duration": 19,
    "start_time": "2022-05-07T06:54:44.792Z"
   },
   {
    "duration": 55,
    "start_time": "2022-05-07T06:54:44.813Z"
   },
   {
    "duration": 82,
    "start_time": "2022-05-07T06:54:44.871Z"
   },
   {
    "duration": 7,
    "start_time": "2022-05-07T06:54:44.955Z"
   },
   {
    "duration": 506,
    "start_time": "2022-05-07T06:54:44.965Z"
   },
   {
    "duration": 4,
    "start_time": "2022-05-07T06:54:45.474Z"
   },
   {
    "duration": 8,
    "start_time": "2022-05-07T06:54:45.481Z"
   },
   {
    "duration": 17,
    "start_time": "2022-05-07T06:54:45.491Z"
   },
   {
    "duration": 55,
    "start_time": "2022-05-07T06:54:45.510Z"
   },
   {
    "duration": 83,
    "start_time": "2022-05-07T06:54:45.568Z"
   },
   {
    "duration": 11,
    "start_time": "2022-05-07T06:54:45.654Z"
   },
   {
    "duration": 16,
    "start_time": "2022-05-07T06:54:45.668Z"
   },
   {
    "duration": 196,
    "start_time": "2022-05-07T06:54:45.687Z"
   },
   {
    "duration": 71,
    "start_time": "2022-05-07T06:54:45.885Z"
   },
   {
    "duration": 6,
    "start_time": "2022-05-07T06:54:45.958Z"
   },
   {
    "duration": 12,
    "start_time": "2022-05-07T06:54:45.970Z"
   },
   {
    "duration": 14,
    "start_time": "2022-05-07T06:54:45.984Z"
   },
   {
    "duration": 74,
    "start_time": "2022-05-07T06:54:46.000Z"
   },
   {
    "duration": 123,
    "start_time": "2022-05-07T06:54:46.076Z"
   },
   {
    "duration": 69,
    "start_time": "2022-05-07T06:54:46.201Z"
   },
   {
    "duration": 210,
    "start_time": "2022-05-07T06:54:46.272Z"
   },
   {
    "duration": 91,
    "start_time": "2022-05-07T06:54:46.484Z"
   },
   {
    "duration": 93,
    "start_time": "2022-05-07T06:54:46.577Z"
   },
   {
    "duration": 421,
    "start_time": "2022-05-07T06:54:46.672Z"
   },
   {
    "duration": 61,
    "start_time": "2022-05-07T06:54:47.095Z"
   },
   {
    "duration": 10,
    "start_time": "2022-05-07T06:54:47.158Z"
   },
   {
    "duration": 8,
    "start_time": "2022-05-07T06:54:47.169Z"
   },
   {
    "duration": 8,
    "start_time": "2022-05-07T06:54:47.179Z"
   },
   {
    "duration": 64,
    "start_time": "2022-05-07T06:54:47.189Z"
   },
   {
    "duration": 14,
    "start_time": "2022-05-07T06:54:47.256Z"
   },
   {
    "duration": 92,
    "start_time": "2022-05-07T06:54:47.273Z"
   },
   {
    "duration": 11,
    "start_time": "2022-05-07T06:54:47.367Z"
   },
   {
    "duration": 999,
    "start_time": "2022-05-07T06:54:47.380Z"
   },
   {
    "duration": 113,
    "start_time": "2022-05-07T06:54:48.381Z"
   },
   {
    "duration": 2051,
    "start_time": "2022-05-07T06:54:48.552Z"
   },
   {
    "duration": 48,
    "start_time": "2022-05-07T06:54:50.605Z"
   },
   {
    "duration": 10,
    "start_time": "2022-05-07T06:54:50.655Z"
   },
   {
    "duration": 37,
    "start_time": "2022-05-07T06:54:50.667Z"
   },
   {
    "duration": 168,
    "start_time": "2022-05-07T06:54:50.707Z"
   },
   {
    "duration": 0,
    "start_time": "2022-05-07T06:54:50.878Z"
   },
   {
    "duration": 0,
    "start_time": "2022-05-07T06:54:50.880Z"
   },
   {
    "duration": 0,
    "start_time": "2022-05-07T06:54:50.882Z"
   },
   {
    "duration": 0,
    "start_time": "2022-05-07T06:54:50.884Z"
   },
   {
    "duration": 0,
    "start_time": "2022-05-07T06:54:50.886Z"
   },
   {
    "duration": 0,
    "start_time": "2022-05-07T06:54:50.887Z"
   },
   {
    "duration": 0,
    "start_time": "2022-05-07T06:54:50.888Z"
   },
   {
    "duration": 0,
    "start_time": "2022-05-07T06:54:50.890Z"
   },
   {
    "duration": 0,
    "start_time": "2022-05-07T06:54:50.892Z"
   },
   {
    "duration": 2025,
    "start_time": "2022-05-07T06:56:22.753Z"
   },
   {
    "duration": 556,
    "start_time": "2022-05-07T06:56:24.780Z"
   },
   {
    "duration": 25,
    "start_time": "2022-05-07T06:56:25.338Z"
   },
   {
    "duration": 15,
    "start_time": "2022-05-07T06:56:25.366Z"
   },
   {
    "duration": 10,
    "start_time": "2022-05-07T06:56:25.383Z"
   },
   {
    "duration": 17,
    "start_time": "2022-05-07T06:56:25.396Z"
   },
   {
    "duration": 9,
    "start_time": "2022-05-07T06:56:25.451Z"
   },
   {
    "duration": 541,
    "start_time": "2022-05-07T06:56:25.462Z"
   },
   {
    "duration": 4,
    "start_time": "2022-05-07T06:56:26.005Z"
   },
   {
    "duration": 8,
    "start_time": "2022-05-07T06:56:26.013Z"
   },
   {
    "duration": 50,
    "start_time": "2022-05-07T06:56:26.023Z"
   },
   {
    "duration": 153,
    "start_time": "2022-05-07T06:56:26.075Z"
   },
   {
    "duration": 23,
    "start_time": "2022-05-07T06:56:26.230Z"
   },
   {
    "duration": 28,
    "start_time": "2022-05-07T06:56:26.255Z"
   },
   {
    "duration": 91,
    "start_time": "2022-05-07T06:56:26.285Z"
   },
   {
    "duration": 5,
    "start_time": "2022-05-07T06:56:26.379Z"
   },
   {
    "duration": 517,
    "start_time": "2022-05-07T06:56:26.386Z"
   },
   {
    "duration": 4,
    "start_time": "2022-05-07T06:56:26.905Z"
   },
   {
    "duration": 7,
    "start_time": "2022-05-07T06:56:26.911Z"
   },
   {
    "duration": 34,
    "start_time": "2022-05-07T06:56:26.920Z"
   },
   {
    "duration": 28,
    "start_time": "2022-05-07T06:56:26.956Z"
   },
   {
    "duration": 83,
    "start_time": "2022-05-07T06:56:26.986Z"
   },
   {
    "duration": 12,
    "start_time": "2022-05-07T06:56:27.071Z"
   },
   {
    "duration": 21,
    "start_time": "2022-05-07T06:56:27.086Z"
   },
   {
    "duration": 129,
    "start_time": "2022-05-07T06:56:27.110Z"
   },
   {
    "duration": 23,
    "start_time": "2022-05-07T06:56:27.241Z"
   },
   {
    "duration": 6,
    "start_time": "2022-05-07T06:56:27.266Z"
   },
   {
    "duration": 5,
    "start_time": "2022-05-07T06:56:27.278Z"
   },
   {
    "duration": 13,
    "start_time": "2022-05-07T06:56:27.285Z"
   },
   {
    "duration": 63,
    "start_time": "2022-05-07T06:56:27.300Z"
   },
   {
    "duration": 61,
    "start_time": "2022-05-07T06:56:27.365Z"
   },
   {
    "duration": 35,
    "start_time": "2022-05-07T06:56:27.429Z"
   },
   {
    "duration": 97,
    "start_time": "2022-05-07T06:56:27.466Z"
   },
   {
    "duration": 37,
    "start_time": "2022-05-07T06:56:27.565Z"
   },
   {
    "duration": 60,
    "start_time": "2022-05-07T06:56:27.604Z"
   },
   {
    "duration": 405,
    "start_time": "2022-05-07T06:56:27.666Z"
   },
   {
    "duration": 6,
    "start_time": "2022-05-07T06:56:28.073Z"
   },
   {
    "duration": 22,
    "start_time": "2022-05-07T06:56:28.081Z"
   },
   {
    "duration": 71,
    "start_time": "2022-05-07T06:56:28.105Z"
   },
   {
    "duration": 11,
    "start_time": "2022-05-07T06:56:28.179Z"
   },
   {
    "duration": 63,
    "start_time": "2022-05-07T06:56:28.193Z"
   },
   {
    "duration": 12,
    "start_time": "2022-05-07T06:56:28.258Z"
   },
   {
    "duration": 85,
    "start_time": "2022-05-07T06:56:28.272Z"
   },
   {
    "duration": 17,
    "start_time": "2022-05-07T06:56:28.359Z"
   },
   {
    "duration": 991,
    "start_time": "2022-05-07T06:56:28.379Z"
   },
   {
    "duration": 113,
    "start_time": "2022-05-07T06:56:29.372Z"
   },
   {
    "duration": 3692,
    "start_time": "2022-05-07T06:56:29.487Z"
   },
   {
    "duration": 36,
    "start_time": "2022-05-07T06:56:33.181Z"
   },
   {
    "duration": 33,
    "start_time": "2022-05-07T06:56:33.219Z"
   },
   {
    "duration": 38,
    "start_time": "2022-05-07T06:56:33.254Z"
   },
   {
    "duration": 4,
    "start_time": "2022-05-07T06:56:33.294Z"
   },
   {
    "duration": 6,
    "start_time": "2022-05-07T06:56:33.300Z"
   },
   {
    "duration": 7,
    "start_time": "2022-05-07T06:56:33.308Z"
   },
   {
    "duration": 1479,
    "start_time": "2022-05-07T06:56:33.317Z"
   },
   {
    "duration": 155,
    "start_time": "2022-05-07T06:56:34.798Z"
   },
   {
    "duration": 0,
    "start_time": "2022-05-07T06:56:34.955Z"
   },
   {
    "duration": 0,
    "start_time": "2022-05-07T06:56:34.956Z"
   },
   {
    "duration": 0,
    "start_time": "2022-05-07T06:56:34.958Z"
   },
   {
    "duration": 0,
    "start_time": "2022-05-07T06:56:34.960Z"
   },
   {
    "duration": 128,
    "start_time": "2022-05-08T13:21:23.961Z"
   },
   {
    "duration": 1517,
    "start_time": "2022-05-08T13:24:34.485Z"
   },
   {
    "duration": 492,
    "start_time": "2022-05-08T13:24:36.004Z"
   },
   {
    "duration": 16,
    "start_time": "2022-05-08T13:24:36.497Z"
   },
   {
    "duration": 13,
    "start_time": "2022-05-08T13:24:36.530Z"
   },
   {
    "duration": 13,
    "start_time": "2022-05-08T13:24:36.547Z"
   },
   {
    "duration": 21,
    "start_time": "2022-05-08T13:24:36.561Z"
   },
   {
    "duration": 5,
    "start_time": "2022-05-08T13:24:36.584Z"
   },
   {
    "duration": 369,
    "start_time": "2022-05-08T13:24:36.590Z"
   },
   {
    "duration": 6,
    "start_time": "2022-05-08T13:24:36.962Z"
   },
   {
    "duration": 20,
    "start_time": "2022-05-08T13:24:36.972Z"
   },
   {
    "duration": 41,
    "start_time": "2022-05-08T13:24:36.994Z"
   },
   {
    "duration": 136,
    "start_time": "2022-05-08T13:24:37.037Z"
   },
   {
    "duration": 17,
    "start_time": "2022-05-08T13:24:37.175Z"
   },
   {
    "duration": 39,
    "start_time": "2022-05-08T13:24:37.194Z"
   },
   {
    "duration": 53,
    "start_time": "2022-05-08T13:24:37.237Z"
   },
   {
    "duration": 5,
    "start_time": "2022-05-08T13:24:37.291Z"
   },
   {
    "duration": 427,
    "start_time": "2022-05-08T13:24:37.297Z"
   },
   {
    "duration": 3,
    "start_time": "2022-05-08T13:24:37.730Z"
   },
   {
    "duration": 30,
    "start_time": "2022-05-08T13:24:37.734Z"
   },
   {
    "duration": 19,
    "start_time": "2022-05-08T13:24:37.768Z"
   },
   {
    "duration": 19,
    "start_time": "2022-05-08T13:24:37.789Z"
   },
   {
    "duration": 61,
    "start_time": "2022-05-08T13:24:37.810Z"
   },
   {
    "duration": 10,
    "start_time": "2022-05-08T13:24:37.872Z"
   },
   {
    "duration": 12,
    "start_time": "2022-05-08T13:24:37.883Z"
   },
   {
    "duration": 104,
    "start_time": "2022-05-08T13:24:37.898Z"
   },
   {
    "duration": 15,
    "start_time": "2022-05-08T13:24:38.004Z"
   },
   {
    "duration": 7,
    "start_time": "2022-05-08T13:24:38.027Z"
   },
   {
    "duration": 32,
    "start_time": "2022-05-08T13:24:38.039Z"
   },
   {
    "duration": 22,
    "start_time": "2022-05-08T13:24:38.073Z"
   },
   {
    "duration": 17,
    "start_time": "2022-05-08T13:24:38.097Z"
   },
   {
    "duration": 58,
    "start_time": "2022-05-08T13:24:38.116Z"
   },
   {
    "duration": 14,
    "start_time": "2022-05-08T13:24:38.176Z"
   },
   {
    "duration": 86,
    "start_time": "2022-05-08T13:24:38.193Z"
   },
   {
    "duration": 35,
    "start_time": "2022-05-08T13:24:38.281Z"
   },
   {
    "duration": 45,
    "start_time": "2022-05-08T13:24:38.318Z"
   },
   {
    "duration": 231,
    "start_time": "2022-05-08T13:24:38.365Z"
   },
   {
    "duration": 4,
    "start_time": "2022-05-08T13:24:38.599Z"
   },
   {
    "duration": 22,
    "start_time": "2022-05-08T13:24:38.606Z"
   },
   {
    "duration": 16,
    "start_time": "2022-05-08T13:24:38.632Z"
   },
   {
    "duration": 21,
    "start_time": "2022-05-08T13:24:38.653Z"
   },
   {
    "duration": 14,
    "start_time": "2022-05-08T13:24:38.675Z"
   },
   {
    "duration": 14,
    "start_time": "2022-05-08T13:24:38.691Z"
   },
   {
    "duration": 38,
    "start_time": "2022-05-08T13:24:38.707Z"
   },
   {
    "duration": 19,
    "start_time": "2022-05-08T13:24:38.749Z"
   },
   {
    "duration": 312,
    "start_time": "2022-05-08T13:24:38.770Z"
   },
   {
    "duration": 47,
    "start_time": "2022-05-08T13:24:39.083Z"
   },
   {
    "duration": 1984,
    "start_time": "2022-05-08T13:24:39.132Z"
   },
   {
    "duration": 29,
    "start_time": "2022-05-08T13:24:41.118Z"
   },
   {
    "duration": 18,
    "start_time": "2022-05-08T13:24:41.148Z"
   },
   {
    "duration": 118,
    "start_time": "2022-05-08T13:24:41.168Z"
   },
   {
    "duration": 0,
    "start_time": "2022-05-08T13:24:41.287Z"
   },
   {
    "duration": 0,
    "start_time": "2022-05-08T13:24:41.288Z"
   },
   {
    "duration": 0,
    "start_time": "2022-05-08T13:24:41.289Z"
   },
   {
    "duration": 0,
    "start_time": "2022-05-08T13:24:41.291Z"
   },
   {
    "duration": 0,
    "start_time": "2022-05-08T13:24:41.292Z"
   },
   {
    "duration": 0,
    "start_time": "2022-05-08T13:24:41.294Z"
   },
   {
    "duration": 0,
    "start_time": "2022-05-08T13:24:41.294Z"
   },
   {
    "duration": 0,
    "start_time": "2022-05-08T13:24:41.295Z"
   },
   {
    "duration": 0,
    "start_time": "2022-05-08T13:24:41.296Z"
   },
   {
    "duration": 0,
    "start_time": "2022-05-08T13:24:41.297Z"
   },
   {
    "duration": 35,
    "start_time": "2022-05-08T13:25:01.639Z"
   },
   {
    "duration": 3,
    "start_time": "2022-05-08T13:25:03.461Z"
   },
   {
    "duration": 2,
    "start_time": "2022-05-08T13:25:03.884Z"
   },
   {
    "duration": 3,
    "start_time": "2022-05-08T13:25:04.474Z"
   },
   {
    "duration": 112,
    "start_time": "2022-05-08T13:25:05.168Z"
   },
   {
    "duration": 1574,
    "start_time": "2022-05-08T13:25:17.174Z"
   },
   {
    "duration": 1201,
    "start_time": "2022-05-08T13:56:06.677Z"
   },
   {
    "duration": 506,
    "start_time": "2022-05-08T13:56:07.880Z"
   },
   {
    "duration": 17,
    "start_time": "2022-05-08T13:56:08.387Z"
   },
   {
    "duration": 31,
    "start_time": "2022-05-08T13:56:08.407Z"
   },
   {
    "duration": 26,
    "start_time": "2022-05-08T13:56:08.439Z"
   },
   {
    "duration": 22,
    "start_time": "2022-05-08T13:56:08.468Z"
   },
   {
    "duration": 13,
    "start_time": "2022-05-08T13:56:08.492Z"
   },
   {
    "duration": 367,
    "start_time": "2022-05-08T13:56:08.507Z"
   },
   {
    "duration": 3,
    "start_time": "2022-05-08T13:56:08.875Z"
   },
   {
    "duration": 6,
    "start_time": "2022-05-08T13:56:08.881Z"
   },
   {
    "duration": 35,
    "start_time": "2022-05-08T13:56:08.889Z"
   },
   {
    "duration": 132,
    "start_time": "2022-05-08T13:56:08.926Z"
   },
   {
    "duration": 15,
    "start_time": "2022-05-08T13:56:09.060Z"
   },
   {
    "duration": 19,
    "start_time": "2022-05-08T13:56:09.077Z"
   },
   {
    "duration": 66,
    "start_time": "2022-05-08T13:56:09.097Z"
   },
   {
    "duration": 5,
    "start_time": "2022-05-08T13:56:09.167Z"
   },
   {
    "duration": 332,
    "start_time": "2022-05-08T13:56:09.173Z"
   },
   {
    "duration": 3,
    "start_time": "2022-05-08T13:56:09.506Z"
   },
   {
    "duration": 23,
    "start_time": "2022-05-08T13:56:09.510Z"
   },
   {
    "duration": 45,
    "start_time": "2022-05-08T13:56:09.535Z"
   },
   {
    "duration": 20,
    "start_time": "2022-05-08T13:56:09.581Z"
   },
   {
    "duration": 62,
    "start_time": "2022-05-08T13:56:09.602Z"
   },
   {
    "duration": 2535,
    "start_time": "2022-05-08T13:56:09.666Z"
   },
   {
    "duration": 0,
    "start_time": "2022-05-08T13:56:12.206Z"
   },
   {
    "duration": 0,
    "start_time": "2022-05-08T13:56:12.207Z"
   },
   {
    "duration": 0,
    "start_time": "2022-05-08T13:56:12.208Z"
   },
   {
    "duration": 0,
    "start_time": "2022-05-08T13:56:12.209Z"
   },
   {
    "duration": 1,
    "start_time": "2022-05-08T13:56:12.210Z"
   },
   {
    "duration": 0,
    "start_time": "2022-05-08T13:56:12.211Z"
   },
   {
    "duration": 0,
    "start_time": "2022-05-08T13:56:12.212Z"
   },
   {
    "duration": 0,
    "start_time": "2022-05-08T13:56:12.214Z"
   },
   {
    "duration": 0,
    "start_time": "2022-05-08T13:56:12.215Z"
   },
   {
    "duration": 0,
    "start_time": "2022-05-08T13:56:12.216Z"
   },
   {
    "duration": 0,
    "start_time": "2022-05-08T13:56:12.217Z"
   },
   {
    "duration": 0,
    "start_time": "2022-05-08T13:56:12.218Z"
   },
   {
    "duration": 0,
    "start_time": "2022-05-08T13:56:12.220Z"
   },
   {
    "duration": 0,
    "start_time": "2022-05-08T13:56:12.221Z"
   },
   {
    "duration": 0,
    "start_time": "2022-05-08T13:56:12.222Z"
   },
   {
    "duration": 0,
    "start_time": "2022-05-08T13:56:12.223Z"
   },
   {
    "duration": 0,
    "start_time": "2022-05-08T13:56:12.224Z"
   },
   {
    "duration": 0,
    "start_time": "2022-05-08T13:56:12.224Z"
   },
   {
    "duration": 0,
    "start_time": "2022-05-08T13:56:12.225Z"
   },
   {
    "duration": 0,
    "start_time": "2022-05-08T13:56:12.227Z"
   },
   {
    "duration": 0,
    "start_time": "2022-05-08T13:56:12.228Z"
   },
   {
    "duration": 0,
    "start_time": "2022-05-08T13:56:12.229Z"
   },
   {
    "duration": 0,
    "start_time": "2022-05-08T13:56:12.230Z"
   },
   {
    "duration": 0,
    "start_time": "2022-05-08T13:56:12.231Z"
   },
   {
    "duration": 0,
    "start_time": "2022-05-08T13:56:12.232Z"
   },
   {
    "duration": 0,
    "start_time": "2022-05-08T13:56:12.233Z"
   },
   {
    "duration": 0,
    "start_time": "2022-05-08T13:56:12.234Z"
   },
   {
    "duration": 0,
    "start_time": "2022-05-08T13:56:12.235Z"
   },
   {
    "duration": 0,
    "start_time": "2022-05-08T13:56:12.236Z"
   },
   {
    "duration": 0,
    "start_time": "2022-05-08T13:56:12.237Z"
   },
   {
    "duration": 0,
    "start_time": "2022-05-08T13:56:12.238Z"
   },
   {
    "duration": 0,
    "start_time": "2022-05-08T13:56:12.239Z"
   },
   {
    "duration": 0,
    "start_time": "2022-05-08T13:56:12.240Z"
   },
   {
    "duration": 0,
    "start_time": "2022-05-08T13:56:12.241Z"
   },
   {
    "duration": 0,
    "start_time": "2022-05-08T13:56:12.242Z"
   },
   {
    "duration": 0,
    "start_time": "2022-05-08T13:56:12.243Z"
   },
   {
    "duration": 24,
    "start_time": "2022-05-08T13:56:46.960Z"
   },
   {
    "duration": 434,
    "start_time": "2022-05-08T13:57:07.727Z"
   },
   {
    "duration": 24,
    "start_time": "2022-05-08T13:57:36.377Z"
   },
   {
    "duration": 28,
    "start_time": "2022-05-08T13:57:45.979Z"
   },
   {
    "duration": 160,
    "start_time": "2022-05-08T13:58:20.898Z"
   },
   {
    "duration": 1461,
    "start_time": "2022-05-08T14:01:22.093Z"
   },
   {
    "duration": 617,
    "start_time": "2022-05-08T14:01:23.557Z"
   },
   {
    "duration": 24,
    "start_time": "2022-05-08T14:01:24.176Z"
   },
   {
    "duration": 16,
    "start_time": "2022-05-08T14:01:24.202Z"
   },
   {
    "duration": 25,
    "start_time": "2022-05-08T14:01:24.226Z"
   },
   {
    "duration": 31,
    "start_time": "2022-05-08T14:01:24.253Z"
   },
   {
    "duration": 6,
    "start_time": "2022-05-08T14:01:24.286Z"
   },
   {
    "duration": 368,
    "start_time": "2022-05-08T14:01:24.295Z"
   },
   {
    "duration": 6,
    "start_time": "2022-05-08T14:01:24.665Z"
   },
   {
    "duration": 3,
    "start_time": "2022-05-08T14:01:24.675Z"
   },
   {
    "duration": 50,
    "start_time": "2022-05-08T14:01:24.680Z"
   },
   {
    "duration": 147,
    "start_time": "2022-05-08T14:01:24.732Z"
   },
   {
    "duration": 16,
    "start_time": "2022-05-08T14:01:24.881Z"
   },
   {
    "duration": 60,
    "start_time": "2022-05-08T14:01:24.899Z"
   },
   {
    "duration": 60,
    "start_time": "2022-05-08T14:01:24.961Z"
   },
   {
    "duration": 5,
    "start_time": "2022-05-08T14:01:25.023Z"
   },
   {
    "duration": 378,
    "start_time": "2022-05-08T14:01:25.029Z"
   },
   {
    "duration": 3,
    "start_time": "2022-05-08T14:01:25.409Z"
   },
   {
    "duration": 52,
    "start_time": "2022-05-08T14:01:25.414Z"
   },
   {
    "duration": 12,
    "start_time": "2022-05-08T14:01:25.469Z"
   },
   {
    "duration": 32,
    "start_time": "2022-05-08T14:01:25.483Z"
   },
   {
    "duration": 64,
    "start_time": "2022-05-08T14:01:25.518Z"
   },
   {
    "duration": 9,
    "start_time": "2022-05-08T14:01:25.584Z"
   },
   {
    "duration": 32,
    "start_time": "2022-05-08T14:01:25.594Z"
   },
   {
    "duration": 122,
    "start_time": "2022-05-08T14:01:25.632Z"
   },
   {
    "duration": 20,
    "start_time": "2022-05-08T14:01:25.756Z"
   },
   {
    "duration": 7,
    "start_time": "2022-05-08T14:01:25.778Z"
   },
   {
    "duration": 5,
    "start_time": "2022-05-08T14:01:25.790Z"
   },
   {
    "duration": 40,
    "start_time": "2022-05-08T14:01:25.798Z"
   },
   {
    "duration": 52,
    "start_time": "2022-05-08T14:01:25.840Z"
   },
   {
    "duration": 55,
    "start_time": "2022-05-08T14:01:25.893Z"
   },
   {
    "duration": 15,
    "start_time": "2022-05-08T14:01:25.953Z"
   },
   {
    "duration": 97,
    "start_time": "2022-05-08T14:01:25.970Z"
   },
   {
    "duration": 30,
    "start_time": "2022-05-08T14:01:26.068Z"
   },
   {
    "duration": 47,
    "start_time": "2022-05-08T14:01:26.100Z"
   },
   {
    "duration": 185,
    "start_time": "2022-05-08T14:01:26.150Z"
   },
   {
    "duration": 8,
    "start_time": "2022-05-08T14:01:26.337Z"
   },
   {
    "duration": 25,
    "start_time": "2022-05-08T14:01:26.347Z"
   },
   {
    "duration": 5,
    "start_time": "2022-05-08T14:01:26.374Z"
   },
   {
    "duration": 7,
    "start_time": "2022-05-08T14:01:26.381Z"
   },
   {
    "duration": 10,
    "start_time": "2022-05-08T14:01:26.390Z"
   },
   {
    "duration": 9,
    "start_time": "2022-05-08T14:01:26.402Z"
   },
   {
    "duration": 37,
    "start_time": "2022-05-08T14:01:26.434Z"
   },
   {
    "duration": 15,
    "start_time": "2022-05-08T14:01:26.473Z"
   },
   {
    "duration": 462,
    "start_time": "2022-05-08T14:01:26.490Z"
   },
   {
    "duration": 48,
    "start_time": "2022-05-08T14:01:26.954Z"
   },
   {
    "duration": 4236,
    "start_time": "2022-05-08T14:01:27.005Z"
   },
   {
    "duration": 34,
    "start_time": "2022-05-08T14:01:31.243Z"
   },
   {
    "duration": 7,
    "start_time": "2022-05-08T14:01:31.279Z"
   },
   {
    "duration": 64,
    "start_time": "2022-05-08T14:01:31.288Z"
   },
   {
    "duration": 8,
    "start_time": "2022-05-08T14:01:31.355Z"
   },
   {
    "duration": 14,
    "start_time": "2022-05-08T14:01:31.368Z"
   },
   {
    "duration": 16,
    "start_time": "2022-05-08T14:01:31.383Z"
   },
   {
    "duration": 1041,
    "start_time": "2022-05-08T14:01:31.400Z"
   },
   {
    "duration": 11,
    "start_time": "2022-05-08T14:01:32.443Z"
   },
   {
    "duration": 29,
    "start_time": "2022-05-08T14:01:32.456Z"
   },
   {
    "duration": 15,
    "start_time": "2022-05-08T14:01:32.486Z"
   },
   {
    "duration": 10,
    "start_time": "2022-05-08T14:01:32.503Z"
   },
   {
    "duration": 1376,
    "start_time": "2022-05-08T14:04:06.758Z"
   },
   {
    "duration": 469,
    "start_time": "2022-05-08T14:04:08.140Z"
   },
   {
    "duration": 19,
    "start_time": "2022-05-08T14:04:08.610Z"
   },
   {
    "duration": 31,
    "start_time": "2022-05-08T14:04:08.633Z"
   },
   {
    "duration": 8,
    "start_time": "2022-05-08T14:04:08.666Z"
   },
   {
    "duration": 16,
    "start_time": "2022-05-08T14:04:08.675Z"
   },
   {
    "duration": 7,
    "start_time": "2022-05-08T14:04:08.693Z"
   },
   {
    "duration": 539,
    "start_time": "2022-05-08T14:04:08.702Z"
   },
   {
    "duration": 7,
    "start_time": "2022-05-08T14:04:09.243Z"
   },
   {
    "duration": 11,
    "start_time": "2022-05-08T14:04:09.256Z"
   },
   {
    "duration": 23,
    "start_time": "2022-05-08T14:04:09.268Z"
   },
   {
    "duration": 134,
    "start_time": "2022-05-08T14:04:09.293Z"
   },
   {
    "duration": 28,
    "start_time": "2022-05-08T14:04:09.428Z"
   },
   {
    "duration": 20,
    "start_time": "2022-05-08T14:04:09.461Z"
   },
   {
    "duration": 52,
    "start_time": "2022-05-08T14:04:09.483Z"
   },
   {
    "duration": 8,
    "start_time": "2022-05-08T14:04:09.537Z"
   },
   {
    "duration": 327,
    "start_time": "2022-05-08T14:04:09.546Z"
   },
   {
    "duration": 2,
    "start_time": "2022-05-08T14:04:09.875Z"
   },
   {
    "duration": 5,
    "start_time": "2022-05-08T14:04:09.879Z"
   },
   {
    "duration": 12,
    "start_time": "2022-05-08T14:04:09.885Z"
   },
   {
    "duration": 72,
    "start_time": "2022-05-08T14:04:09.899Z"
   },
   {
    "duration": 44,
    "start_time": "2022-05-08T14:04:09.973Z"
   },
   {
    "duration": 21,
    "start_time": "2022-05-08T14:04:10.019Z"
   },
   {
    "duration": 32,
    "start_time": "2022-05-08T14:04:10.042Z"
   },
   {
    "duration": 116,
    "start_time": "2022-05-08T14:04:10.075Z"
   },
   {
    "duration": 18,
    "start_time": "2022-05-08T14:04:10.192Z"
   },
   {
    "duration": 22,
    "start_time": "2022-05-08T14:04:10.212Z"
   },
   {
    "duration": 30,
    "start_time": "2022-05-08T14:04:10.236Z"
   },
   {
    "duration": 11,
    "start_time": "2022-05-08T14:04:10.268Z"
   },
   {
    "duration": 30,
    "start_time": "2022-05-08T14:04:10.281Z"
   },
   {
    "duration": 69,
    "start_time": "2022-05-08T14:04:10.313Z"
   },
   {
    "duration": 20,
    "start_time": "2022-05-08T14:04:10.384Z"
   },
   {
    "duration": 95,
    "start_time": "2022-05-08T14:04:10.407Z"
   },
   {
    "duration": 55,
    "start_time": "2022-05-08T14:04:10.504Z"
   },
   {
    "duration": 42,
    "start_time": "2022-05-08T14:04:10.561Z"
   },
   {
    "duration": 264,
    "start_time": "2022-05-08T14:04:10.605Z"
   },
   {
    "duration": 6,
    "start_time": "2022-05-08T14:04:10.870Z"
   },
   {
    "duration": 11,
    "start_time": "2022-05-08T14:04:10.877Z"
   },
   {
    "duration": 7,
    "start_time": "2022-05-08T14:04:10.889Z"
   },
   {
    "duration": 32,
    "start_time": "2022-05-08T14:04:10.898Z"
   },
   {
    "duration": 10,
    "start_time": "2022-05-08T14:04:10.935Z"
   },
   {
    "duration": 27,
    "start_time": "2022-05-08T14:04:10.946Z"
   },
   {
    "duration": 21,
    "start_time": "2022-05-08T14:04:10.975Z"
   },
   {
    "duration": 8,
    "start_time": "2022-05-08T14:04:10.998Z"
   },
   {
    "duration": 337,
    "start_time": "2022-05-08T14:04:11.008Z"
   },
   {
    "duration": 41,
    "start_time": "2022-05-08T14:04:11.348Z"
   },
   {
    "duration": 3161,
    "start_time": "2022-05-08T14:04:11.391Z"
   },
   {
    "duration": 71,
    "start_time": "2022-05-08T14:04:14.554Z"
   },
   {
    "duration": 10,
    "start_time": "2022-05-08T14:04:14.628Z"
   },
   {
    "duration": 91,
    "start_time": "2022-05-08T14:04:14.639Z"
   },
   {
    "duration": 4,
    "start_time": "2022-05-08T14:04:14.732Z"
   },
   {
    "duration": 39,
    "start_time": "2022-05-08T14:04:14.737Z"
   },
   {
    "duration": 6,
    "start_time": "2022-05-08T14:04:14.778Z"
   },
   {
    "duration": 1941,
    "start_time": "2022-05-08T14:04:14.785Z"
   },
   {
    "duration": 18,
    "start_time": "2022-05-08T14:04:16.729Z"
   },
   {
    "duration": 26,
    "start_time": "2022-05-08T14:04:16.752Z"
   },
   {
    "duration": 13,
    "start_time": "2022-05-08T14:04:16.780Z"
   },
   {
    "duration": 6,
    "start_time": "2022-05-08T14:04:16.794Z"
   },
   {
    "duration": 1511,
    "start_time": "2022-05-08T14:06:12.425Z"
   },
   {
    "duration": 1406,
    "start_time": "2022-05-08T14:09:49.933Z"
   },
   {
    "duration": 531,
    "start_time": "2022-05-08T14:09:51.342Z"
   },
   {
    "duration": 20,
    "start_time": "2022-05-08T14:09:51.875Z"
   },
   {
    "duration": 12,
    "start_time": "2022-05-08T14:09:51.897Z"
   },
   {
    "duration": 34,
    "start_time": "2022-05-08T14:09:51.912Z"
   },
   {
    "duration": 40,
    "start_time": "2022-05-08T14:09:51.947Z"
   },
   {
    "duration": 12,
    "start_time": "2022-05-08T14:09:51.992Z"
   },
   {
    "duration": 413,
    "start_time": "2022-05-08T14:09:52.006Z"
   },
   {
    "duration": 6,
    "start_time": "2022-05-08T14:09:52.420Z"
   },
   {
    "duration": 44,
    "start_time": "2022-05-08T14:09:52.428Z"
   },
   {
    "duration": 37,
    "start_time": "2022-05-08T14:09:52.474Z"
   },
   {
    "duration": 150,
    "start_time": "2022-05-08T14:09:52.513Z"
   },
   {
    "duration": 17,
    "start_time": "2022-05-08T14:09:52.668Z"
   },
   {
    "duration": 28,
    "start_time": "2022-05-08T14:09:52.691Z"
   },
   {
    "duration": 73,
    "start_time": "2022-05-08T14:09:52.722Z"
   },
   {
    "duration": 9,
    "start_time": "2022-05-08T14:09:52.797Z"
   },
   {
    "duration": 411,
    "start_time": "2022-05-08T14:09:52.807Z"
   },
   {
    "duration": 6,
    "start_time": "2022-05-08T14:09:53.223Z"
   },
   {
    "duration": 43,
    "start_time": "2022-05-08T14:09:53.234Z"
   },
   {
    "duration": 21,
    "start_time": "2022-05-08T14:09:53.279Z"
   },
   {
    "duration": 46,
    "start_time": "2022-05-08T14:09:53.302Z"
   },
   {
    "duration": 86,
    "start_time": "2022-05-08T14:09:53.350Z"
   },
   {
    "duration": 12,
    "start_time": "2022-05-08T14:09:53.440Z"
   },
   {
    "duration": 35,
    "start_time": "2022-05-08T14:09:53.453Z"
   },
   {
    "duration": 101,
    "start_time": "2022-05-08T14:09:53.491Z"
   },
   {
    "duration": 18,
    "start_time": "2022-05-08T14:09:53.594Z"
   },
   {
    "duration": 5,
    "start_time": "2022-05-08T14:09:53.614Z"
   },
   {
    "duration": 46,
    "start_time": "2022-05-08T14:09:53.625Z"
   },
   {
    "duration": 19,
    "start_time": "2022-05-08T14:09:53.673Z"
   },
   {
    "duration": 23,
    "start_time": "2022-05-08T14:09:53.694Z"
   },
   {
    "duration": 59,
    "start_time": "2022-05-08T14:09:53.719Z"
   },
   {
    "duration": 20,
    "start_time": "2022-05-08T14:09:53.781Z"
   },
   {
    "duration": 88,
    "start_time": "2022-05-08T14:09:53.803Z"
   },
   {
    "duration": 46,
    "start_time": "2022-05-08T14:09:53.892Z"
   },
   {
    "duration": 37,
    "start_time": "2022-05-08T14:09:53.940Z"
   },
   {
    "duration": 210,
    "start_time": "2022-05-08T14:09:53.980Z"
   },
   {
    "duration": 5,
    "start_time": "2022-05-08T14:09:54.192Z"
   },
   {
    "duration": 7,
    "start_time": "2022-05-08T14:09:54.199Z"
   },
   {
    "duration": 28,
    "start_time": "2022-05-08T14:09:54.208Z"
   },
   {
    "duration": 30,
    "start_time": "2022-05-08T14:09:54.237Z"
   },
   {
    "duration": 10,
    "start_time": "2022-05-08T14:09:54.271Z"
   },
   {
    "duration": 9,
    "start_time": "2022-05-08T14:09:54.283Z"
   },
   {
    "duration": 36,
    "start_time": "2022-05-08T14:09:54.295Z"
   },
   {
    "duration": 56,
    "start_time": "2022-05-08T14:09:54.335Z"
   },
   {
    "duration": 449,
    "start_time": "2022-05-08T14:09:54.393Z"
   },
   {
    "duration": 45,
    "start_time": "2022-05-08T14:09:54.844Z"
   },
   {
    "duration": 3303,
    "start_time": "2022-05-08T14:09:54.891Z"
   },
   {
    "duration": 37,
    "start_time": "2022-05-08T14:09:58.196Z"
   },
   {
    "duration": 11,
    "start_time": "2022-05-08T14:09:58.235Z"
   },
   {
    "duration": 27,
    "start_time": "2022-05-08T14:09:58.248Z"
   },
   {
    "duration": 3,
    "start_time": "2022-05-08T14:09:58.276Z"
   },
   {
    "duration": 4,
    "start_time": "2022-05-08T14:09:58.281Z"
   },
   {
    "duration": 5,
    "start_time": "2022-05-08T14:09:58.286Z"
   },
   {
    "duration": 1621,
    "start_time": "2022-05-08T14:09:58.293Z"
   },
   {
    "duration": 19,
    "start_time": "2022-05-08T14:09:59.916Z"
   },
   {
    "duration": 35,
    "start_time": "2022-05-08T14:09:59.937Z"
   },
   {
    "duration": 16,
    "start_time": "2022-05-08T14:09:59.974Z"
   },
   {
    "duration": 6,
    "start_time": "2022-05-08T14:09:59.992Z"
   },
   {
    "duration": 1217,
    "start_time": "2022-05-08T14:12:58.304Z"
   },
   {
    "duration": 451,
    "start_time": "2022-05-08T14:12:59.523Z"
   },
   {
    "duration": 17,
    "start_time": "2022-05-08T14:12:59.975Z"
   },
   {
    "duration": 11,
    "start_time": "2022-05-08T14:12:59.994Z"
   },
   {
    "duration": 27,
    "start_time": "2022-05-08T14:13:00.007Z"
   },
   {
    "duration": 24,
    "start_time": "2022-05-08T14:13:00.036Z"
   },
   {
    "duration": 5,
    "start_time": "2022-05-08T14:13:00.062Z"
   },
   {
    "duration": 375,
    "start_time": "2022-05-08T14:13:00.069Z"
   },
   {
    "duration": 4,
    "start_time": "2022-05-08T14:13:00.448Z"
   },
   {
    "duration": 31,
    "start_time": "2022-05-08T14:13:00.455Z"
   },
   {
    "duration": 47,
    "start_time": "2022-05-08T14:13:00.488Z"
   },
   {
    "duration": 121,
    "start_time": "2022-05-08T14:13:00.540Z"
   },
   {
    "duration": 13,
    "start_time": "2022-05-08T14:13:00.662Z"
   },
   {
    "duration": 31,
    "start_time": "2022-05-08T14:13:00.676Z"
   },
   {
    "duration": 67,
    "start_time": "2022-05-08T14:13:00.709Z"
   },
   {
    "duration": 5,
    "start_time": "2022-05-08T14:13:00.778Z"
   },
   {
    "duration": 322,
    "start_time": "2022-05-08T14:13:00.784Z"
   },
   {
    "duration": 2,
    "start_time": "2022-05-08T14:13:01.108Z"
   },
   {
    "duration": 18,
    "start_time": "2022-05-08T14:13:01.112Z"
   },
   {
    "duration": 15,
    "start_time": "2022-05-08T14:13:01.131Z"
   },
   {
    "duration": 39,
    "start_time": "2022-05-08T14:13:01.148Z"
   },
   {
    "duration": 62,
    "start_time": "2022-05-08T14:13:01.188Z"
   },
   {
    "duration": 11,
    "start_time": "2022-05-08T14:13:01.252Z"
   },
   {
    "duration": 21,
    "start_time": "2022-05-08T14:13:01.265Z"
   },
   {
    "duration": 89,
    "start_time": "2022-05-08T14:13:01.288Z"
   },
   {
    "duration": 17,
    "start_time": "2022-05-08T14:13:01.378Z"
   },
   {
    "duration": 6,
    "start_time": "2022-05-08T14:13:01.397Z"
   },
   {
    "duration": 12,
    "start_time": "2022-05-08T14:13:01.429Z"
   },
   {
    "duration": 24,
    "start_time": "2022-05-08T14:13:01.444Z"
   },
   {
    "duration": 23,
    "start_time": "2022-05-08T14:13:01.470Z"
   },
   {
    "duration": 58,
    "start_time": "2022-05-08T14:13:01.495Z"
   },
   {
    "duration": 15,
    "start_time": "2022-05-08T14:13:01.555Z"
   },
   {
    "duration": 83,
    "start_time": "2022-05-08T14:13:01.572Z"
   },
   {
    "duration": 26,
    "start_time": "2022-05-08T14:13:01.658Z"
   },
   {
    "duration": 46,
    "start_time": "2022-05-08T14:13:01.685Z"
   },
   {
    "duration": 242,
    "start_time": "2022-05-08T14:13:01.733Z"
   },
   {
    "duration": 5,
    "start_time": "2022-05-08T14:13:01.977Z"
   },
   {
    "duration": 9,
    "start_time": "2022-05-08T14:13:01.984Z"
   },
   {
    "duration": 15,
    "start_time": "2022-05-08T14:13:01.995Z"
   },
   {
    "duration": 16,
    "start_time": "2022-05-08T14:13:02.011Z"
   },
   {
    "duration": 32,
    "start_time": "2022-05-08T14:13:02.029Z"
   },
   {
    "duration": 11,
    "start_time": "2022-05-08T14:13:02.062Z"
   },
   {
    "duration": 19,
    "start_time": "2022-05-08T14:13:02.075Z"
   },
   {
    "duration": 12,
    "start_time": "2022-05-08T14:13:02.096Z"
   },
   {
    "duration": 303,
    "start_time": "2022-05-08T14:13:02.110Z"
   },
   {
    "duration": 56,
    "start_time": "2022-05-08T14:13:02.416Z"
   },
   {
    "duration": 3209,
    "start_time": "2022-05-08T14:13:02.474Z"
   },
   {
    "duration": 25,
    "start_time": "2022-05-08T14:13:05.685Z"
   },
   {
    "duration": 7,
    "start_time": "2022-05-08T14:13:05.728Z"
   },
   {
    "duration": 34,
    "start_time": "2022-05-08T14:13:05.746Z"
   },
   {
    "duration": 2,
    "start_time": "2022-05-08T14:13:05.782Z"
   },
   {
    "duration": 4,
    "start_time": "2022-05-08T14:13:05.786Z"
   },
   {
    "duration": 5,
    "start_time": "2022-05-08T14:13:05.792Z"
   },
   {
    "duration": 1437,
    "start_time": "2022-05-08T14:13:05.799Z"
   },
   {
    "duration": 14,
    "start_time": "2022-05-08T14:13:07.240Z"
   },
   {
    "duration": 14,
    "start_time": "2022-05-08T14:13:07.257Z"
   },
   {
    "duration": 12,
    "start_time": "2022-05-08T14:13:07.272Z"
   },
   {
    "duration": 7,
    "start_time": "2022-05-08T14:13:07.286Z"
   },
   {
    "duration": 1617,
    "start_time": "2022-05-08T14:34:28.034Z"
   },
   {
    "duration": 610,
    "start_time": "2022-05-08T14:34:29.658Z"
   },
   {
    "duration": 22,
    "start_time": "2022-05-08T14:34:30.270Z"
   },
   {
    "duration": 12,
    "start_time": "2022-05-08T14:34:30.294Z"
   },
   {
    "duration": 28,
    "start_time": "2022-05-08T14:34:30.308Z"
   },
   {
    "duration": 47,
    "start_time": "2022-05-08T14:34:30.338Z"
   },
   {
    "duration": 18,
    "start_time": "2022-05-08T14:34:30.386Z"
   },
   {
    "duration": 372,
    "start_time": "2022-05-08T14:34:30.406Z"
   },
   {
    "duration": 3,
    "start_time": "2022-05-08T14:34:30.780Z"
   },
   {
    "duration": 23,
    "start_time": "2022-05-08T14:34:30.786Z"
   },
   {
    "duration": 54,
    "start_time": "2022-05-08T14:34:30.811Z"
   },
   {
    "duration": 120,
    "start_time": "2022-05-08T14:34:30.870Z"
   },
   {
    "duration": 15,
    "start_time": "2022-05-08T14:34:30.992Z"
   },
   {
    "duration": 58,
    "start_time": "2022-05-08T14:34:31.009Z"
   },
   {
    "duration": 76,
    "start_time": "2022-05-08T14:34:31.068Z"
   },
   {
    "duration": 13,
    "start_time": "2022-05-08T14:34:31.145Z"
   },
   {
    "duration": 783,
    "start_time": "2022-05-08T14:34:31.164Z"
   },
   {
    "duration": 5,
    "start_time": "2022-05-08T14:34:31.949Z"
   },
   {
    "duration": 32,
    "start_time": "2022-05-08T14:34:31.959Z"
   },
   {
    "duration": 43,
    "start_time": "2022-05-08T14:34:31.993Z"
   },
   {
    "duration": 29,
    "start_time": "2022-05-08T14:34:32.037Z"
   },
   {
    "duration": 177,
    "start_time": "2022-05-08T14:34:32.075Z"
   },
   {
    "duration": 12,
    "start_time": "2022-05-08T14:34:32.255Z"
   },
   {
    "duration": 16,
    "start_time": "2022-05-08T14:34:32.268Z"
   },
   {
    "duration": 238,
    "start_time": "2022-05-08T14:34:32.286Z"
   },
   {
    "duration": 23,
    "start_time": "2022-05-08T14:34:32.526Z"
   },
   {
    "duration": 27,
    "start_time": "2022-05-08T14:34:32.551Z"
   },
   {
    "duration": 53,
    "start_time": "2022-05-08T14:34:32.584Z"
   },
   {
    "duration": 16,
    "start_time": "2022-05-08T14:34:32.639Z"
   },
   {
    "duration": 103,
    "start_time": "2022-05-08T14:34:32.657Z"
   },
   {
    "duration": 181,
    "start_time": "2022-05-08T14:34:32.761Z"
   },
   {
    "duration": 22,
    "start_time": "2022-05-08T14:34:32.947Z"
   },
   {
    "duration": 181,
    "start_time": "2022-05-08T14:34:32.971Z"
   },
   {
    "duration": 73,
    "start_time": "2022-05-08T14:34:33.155Z"
   },
   {
    "duration": 60,
    "start_time": "2022-05-08T14:34:33.230Z"
   },
   {
    "duration": 308,
    "start_time": "2022-05-08T14:34:33.334Z"
   },
   {
    "duration": 8,
    "start_time": "2022-05-08T14:34:33.649Z"
   },
   {
    "duration": 20,
    "start_time": "2022-05-08T14:34:33.662Z"
   },
   {
    "duration": 7,
    "start_time": "2022-05-08T14:34:33.683Z"
   },
   {
    "duration": 5,
    "start_time": "2022-05-08T14:34:33.692Z"
   },
   {
    "duration": 9,
    "start_time": "2022-05-08T14:34:33.699Z"
   },
   {
    "duration": 31,
    "start_time": "2022-05-08T14:34:33.710Z"
   },
   {
    "duration": 58,
    "start_time": "2022-05-08T14:34:33.745Z"
   },
   {
    "duration": 11,
    "start_time": "2022-05-08T14:34:33.805Z"
   },
   {
    "duration": 363,
    "start_time": "2022-05-08T14:34:33.818Z"
   },
   {
    "duration": 63,
    "start_time": "2022-05-08T14:34:34.183Z"
   },
   {
    "duration": 1903,
    "start_time": "2022-05-08T14:34:34.248Z"
   },
   {
    "duration": 36,
    "start_time": "2022-05-08T14:34:36.153Z"
   },
   {
    "duration": 8,
    "start_time": "2022-05-08T14:34:36.191Z"
   },
   {
    "duration": 52,
    "start_time": "2022-05-08T14:34:36.201Z"
   },
   {
    "duration": 4,
    "start_time": "2022-05-08T14:34:36.256Z"
   },
   {
    "duration": 18,
    "start_time": "2022-05-08T14:34:36.262Z"
   },
   {
    "duration": 6,
    "start_time": "2022-05-08T14:34:36.282Z"
   },
   {
    "duration": 1823,
    "start_time": "2022-05-08T14:34:36.290Z"
   },
   {
    "duration": 18,
    "start_time": "2022-05-08T14:34:38.115Z"
   },
   {
    "duration": 60,
    "start_time": "2022-05-08T14:34:38.135Z"
   },
   {
    "duration": 19,
    "start_time": "2022-05-08T14:34:38.197Z"
   },
   {
    "duration": 21,
    "start_time": "2022-05-08T14:34:38.218Z"
   },
   {
    "duration": 1238,
    "start_time": "2022-05-08T15:33:30.484Z"
   },
   {
    "duration": 447,
    "start_time": "2022-05-08T15:33:31.724Z"
   },
   {
    "duration": 21,
    "start_time": "2022-05-08T15:33:32.173Z"
   },
   {
    "duration": 12,
    "start_time": "2022-05-08T15:33:32.196Z"
   },
   {
    "duration": 36,
    "start_time": "2022-05-08T15:33:32.210Z"
   },
   {
    "duration": 12,
    "start_time": "2022-05-08T15:33:32.248Z"
   },
   {
    "duration": 14,
    "start_time": "2022-05-08T15:33:32.263Z"
   },
   {
    "duration": 463,
    "start_time": "2022-05-08T15:33:32.279Z"
   },
   {
    "duration": 3,
    "start_time": "2022-05-08T15:33:32.745Z"
   },
   {
    "duration": 9,
    "start_time": "2022-05-08T15:33:32.751Z"
   },
   {
    "duration": 26,
    "start_time": "2022-05-08T15:33:32.762Z"
   },
   {
    "duration": 144,
    "start_time": "2022-05-08T15:33:32.790Z"
   },
   {
    "duration": 18,
    "start_time": "2022-05-08T15:33:32.935Z"
   },
   {
    "duration": 20,
    "start_time": "2022-05-08T15:33:32.955Z"
   },
   {
    "duration": 74,
    "start_time": "2022-05-08T15:33:32.977Z"
   },
   {
    "duration": 5,
    "start_time": "2022-05-08T15:33:33.052Z"
   },
   {
    "duration": 318,
    "start_time": "2022-05-08T15:33:33.059Z"
   },
   {
    "duration": 3,
    "start_time": "2022-05-08T15:33:33.378Z"
   },
   {
    "duration": 5,
    "start_time": "2022-05-08T15:33:33.382Z"
   },
   {
    "duration": 13,
    "start_time": "2022-05-08T15:33:33.388Z"
   },
   {
    "duration": 35,
    "start_time": "2022-05-08T15:33:33.403Z"
   },
   {
    "duration": 46,
    "start_time": "2022-05-08T15:33:33.440Z"
   },
   {
    "duration": 8,
    "start_time": "2022-05-08T15:33:33.488Z"
   },
   {
    "duration": 32,
    "start_time": "2022-05-08T15:33:33.497Z"
   },
   {
    "duration": 73,
    "start_time": "2022-05-08T15:33:33.531Z"
   },
   {
    "duration": 23,
    "start_time": "2022-05-08T15:33:33.606Z"
   },
   {
    "duration": 6,
    "start_time": "2022-05-08T15:33:33.632Z"
   },
   {
    "duration": 111,
    "start_time": "2022-05-08T15:33:33.643Z"
   },
   {
    "duration": 0,
    "start_time": "2022-05-08T15:33:33.756Z"
   },
   {
    "duration": 0,
    "start_time": "2022-05-08T15:33:33.757Z"
   },
   {
    "duration": 0,
    "start_time": "2022-05-08T15:33:33.759Z"
   },
   {
    "duration": 0,
    "start_time": "2022-05-08T15:33:33.760Z"
   },
   {
    "duration": 0,
    "start_time": "2022-05-08T15:33:33.761Z"
   },
   {
    "duration": 0,
    "start_time": "2022-05-08T15:33:33.763Z"
   },
   {
    "duration": 0,
    "start_time": "2022-05-08T15:33:33.764Z"
   },
   {
    "duration": 0,
    "start_time": "2022-05-08T15:33:33.766Z"
   },
   {
    "duration": 0,
    "start_time": "2022-05-08T15:33:33.767Z"
   },
   {
    "duration": 0,
    "start_time": "2022-05-08T15:33:33.768Z"
   },
   {
    "duration": 0,
    "start_time": "2022-05-08T15:33:33.769Z"
   },
   {
    "duration": 0,
    "start_time": "2022-05-08T15:33:33.770Z"
   },
   {
    "duration": 0,
    "start_time": "2022-05-08T15:33:33.772Z"
   },
   {
    "duration": 0,
    "start_time": "2022-05-08T15:33:33.773Z"
   },
   {
    "duration": 0,
    "start_time": "2022-05-08T15:33:33.774Z"
   },
   {
    "duration": 0,
    "start_time": "2022-05-08T15:33:33.775Z"
   },
   {
    "duration": 0,
    "start_time": "2022-05-08T15:33:33.776Z"
   },
   {
    "duration": 0,
    "start_time": "2022-05-08T15:33:33.778Z"
   },
   {
    "duration": 0,
    "start_time": "2022-05-08T15:33:33.779Z"
   },
   {
    "duration": 0,
    "start_time": "2022-05-08T15:33:33.780Z"
   },
   {
    "duration": 0,
    "start_time": "2022-05-08T15:33:33.781Z"
   },
   {
    "duration": 0,
    "start_time": "2022-05-08T15:33:33.782Z"
   },
   {
    "duration": 0,
    "start_time": "2022-05-08T15:33:33.783Z"
   },
   {
    "duration": 0,
    "start_time": "2022-05-08T15:33:33.784Z"
   },
   {
    "duration": 0,
    "start_time": "2022-05-08T15:33:33.784Z"
   },
   {
    "duration": 0,
    "start_time": "2022-05-08T15:33:33.786Z"
   },
   {
    "duration": 0,
    "start_time": "2022-05-08T15:33:33.825Z"
   },
   {
    "duration": 0,
    "start_time": "2022-05-08T15:33:33.826Z"
   },
   {
    "duration": 0,
    "start_time": "2022-05-08T15:33:33.832Z"
   },
   {
    "duration": 0,
    "start_time": "2022-05-08T15:33:33.834Z"
   },
   {
    "duration": 0,
    "start_time": "2022-05-08T15:33:33.835Z"
   },
   {
    "duration": 10,
    "start_time": "2022-05-08T15:36:56.782Z"
   },
   {
    "duration": 10,
    "start_time": "2022-05-08T15:38:20.564Z"
   },
   {
    "duration": 4,
    "start_time": "2022-05-08T15:38:36.293Z"
   },
   {
    "duration": 6,
    "start_time": "2022-05-08T15:38:42.749Z"
   },
   {
    "duration": 8,
    "start_time": "2022-05-08T15:38:47.658Z"
   },
   {
    "duration": 21,
    "start_time": "2022-05-08T15:38:51.405Z"
   },
   {
    "duration": 1192,
    "start_time": "2022-05-08T15:44:04.356Z"
   },
   {
    "duration": 460,
    "start_time": "2022-05-08T15:44:05.551Z"
   },
   {
    "duration": 22,
    "start_time": "2022-05-08T15:44:06.013Z"
   },
   {
    "duration": 23,
    "start_time": "2022-05-08T15:44:06.039Z"
   },
   {
    "duration": 12,
    "start_time": "2022-05-08T15:44:06.065Z"
   },
   {
    "duration": 16,
    "start_time": "2022-05-08T15:44:06.080Z"
   },
   {
    "duration": 8,
    "start_time": "2022-05-08T15:44:06.098Z"
   },
   {
    "duration": 538,
    "start_time": "2022-05-08T15:44:06.108Z"
   },
   {
    "duration": 3,
    "start_time": "2022-05-08T15:44:06.649Z"
   },
   {
    "duration": 6,
    "start_time": "2022-05-08T15:44:06.655Z"
   },
   {
    "duration": 30,
    "start_time": "2022-05-08T15:44:06.662Z"
   },
   {
    "duration": 156,
    "start_time": "2022-05-08T15:44:06.694Z"
   },
   {
    "duration": 18,
    "start_time": "2022-05-08T15:44:06.855Z"
   },
   {
    "duration": 51,
    "start_time": "2022-05-08T15:44:06.875Z"
   },
   {
    "duration": 88,
    "start_time": "2022-05-08T15:44:06.928Z"
   },
   {
    "duration": 8,
    "start_time": "2022-05-08T15:44:07.023Z"
   },
   {
    "duration": 793,
    "start_time": "2022-05-08T15:44:07.034Z"
   },
   {
    "duration": 3,
    "start_time": "2022-05-08T15:44:07.829Z"
   },
   {
    "duration": 56,
    "start_time": "2022-05-08T15:44:07.835Z"
   },
   {
    "duration": 35,
    "start_time": "2022-05-08T15:44:07.893Z"
   },
   {
    "duration": 54,
    "start_time": "2022-05-08T15:44:07.931Z"
   },
   {
    "duration": 156,
    "start_time": "2022-05-08T15:44:07.987Z"
   },
   {
    "duration": 8,
    "start_time": "2022-05-08T15:44:08.145Z"
   },
   {
    "duration": 14,
    "start_time": "2022-05-08T15:44:08.155Z"
   },
   {
    "duration": 201,
    "start_time": "2022-05-08T15:44:08.171Z"
   },
   {
    "duration": 68,
    "start_time": "2022-05-08T15:44:08.374Z"
   },
   {
    "duration": 14,
    "start_time": "2022-05-08T15:44:08.443Z"
   },
   {
    "duration": 6,
    "start_time": "2022-05-08T15:44:08.463Z"
   },
   {
    "duration": 59,
    "start_time": "2022-05-08T15:44:08.471Z"
   },
   {
    "duration": 26,
    "start_time": "2022-05-08T15:44:08.535Z"
   },
   {
    "duration": 104,
    "start_time": "2022-05-08T15:44:08.564Z"
   },
   {
    "duration": 71,
    "start_time": "2022-05-08T15:44:08.671Z"
   },
   {
    "duration": 195,
    "start_time": "2022-05-08T15:44:08.744Z"
   },
   {
    "duration": 91,
    "start_time": "2022-05-08T15:44:08.941Z"
   },
   {
    "duration": 94,
    "start_time": "2022-05-08T15:44:09.034Z"
   },
   {
    "duration": 491,
    "start_time": "2022-05-08T15:44:09.132Z"
   },
   {
    "duration": 8,
    "start_time": "2022-05-08T15:44:09.628Z"
   },
   {
    "duration": 19,
    "start_time": "2022-05-08T15:44:09.641Z"
   },
   {
    "duration": 5,
    "start_time": "2022-05-08T15:44:09.663Z"
   },
   {
    "duration": 7,
    "start_time": "2022-05-08T15:44:09.670Z"
   },
   {
    "duration": 7,
    "start_time": "2022-05-08T15:44:09.678Z"
   },
   {
    "duration": 47,
    "start_time": "2022-05-08T15:44:09.687Z"
   },
   {
    "duration": 28,
    "start_time": "2022-05-08T15:44:09.736Z"
   },
   {
    "duration": 12,
    "start_time": "2022-05-08T15:44:09.766Z"
   },
   {
    "duration": 465,
    "start_time": "2022-05-08T15:44:09.780Z"
   },
   {
    "duration": 37,
    "start_time": "2022-05-08T15:44:10.247Z"
   },
   {
    "duration": 2022,
    "start_time": "2022-05-08T15:44:10.286Z"
   },
   {
    "duration": 38,
    "start_time": "2022-05-08T15:44:12.310Z"
   },
   {
    "duration": 10,
    "start_time": "2022-05-08T15:44:12.350Z"
   },
   {
    "duration": 32,
    "start_time": "2022-05-08T15:44:12.362Z"
   },
   {
    "duration": 3,
    "start_time": "2022-05-08T15:44:12.396Z"
   },
   {
    "duration": 28,
    "start_time": "2022-05-08T15:44:12.401Z"
   },
   {
    "duration": 27,
    "start_time": "2022-05-08T15:44:12.432Z"
   },
   {
    "duration": 1014,
    "start_time": "2022-05-08T15:44:12.465Z"
   },
   {
    "duration": 15,
    "start_time": "2022-05-08T15:44:13.482Z"
   },
   {
    "duration": 31,
    "start_time": "2022-05-08T15:44:13.500Z"
   },
   {
    "duration": 20,
    "start_time": "2022-05-08T15:44:13.533Z"
   },
   {
    "duration": 9,
    "start_time": "2022-05-08T15:44:13.554Z"
   },
   {
    "duration": 1530,
    "start_time": "2022-05-08T15:44:37.819Z"
   },
   {
    "duration": 638,
    "start_time": "2022-05-08T15:44:39.352Z"
   },
   {
    "duration": 21,
    "start_time": "2022-05-08T15:44:39.993Z"
   },
   {
    "duration": 26,
    "start_time": "2022-05-08T15:44:40.016Z"
   },
   {
    "duration": 15,
    "start_time": "2022-05-08T15:44:40.044Z"
   },
   {
    "duration": 22,
    "start_time": "2022-05-08T15:44:40.061Z"
   },
   {
    "duration": 12,
    "start_time": "2022-05-08T15:44:40.084Z"
   },
   {
    "duration": 366,
    "start_time": "2022-05-08T15:44:40.098Z"
   },
   {
    "duration": 3,
    "start_time": "2022-05-08T15:44:40.466Z"
   },
   {
    "duration": 6,
    "start_time": "2022-05-08T15:44:40.472Z"
   },
   {
    "duration": 56,
    "start_time": "2022-05-08T15:44:40.479Z"
   },
   {
    "duration": 118,
    "start_time": "2022-05-08T15:44:40.537Z"
   },
   {
    "duration": 13,
    "start_time": "2022-05-08T15:44:40.656Z"
   },
   {
    "duration": 34,
    "start_time": "2022-05-08T15:44:40.671Z"
   },
   {
    "duration": 84,
    "start_time": "2022-05-08T15:44:40.707Z"
   },
   {
    "duration": 5,
    "start_time": "2022-05-08T15:44:40.793Z"
   },
   {
    "duration": 474,
    "start_time": "2022-05-08T15:44:40.800Z"
   },
   {
    "duration": 3,
    "start_time": "2022-05-08T15:44:41.277Z"
   },
   {
    "duration": 6,
    "start_time": "2022-05-08T15:44:41.281Z"
   },
   {
    "duration": 13,
    "start_time": "2022-05-08T15:44:41.289Z"
   },
   {
    "duration": 50,
    "start_time": "2022-05-08T15:44:41.305Z"
   },
   {
    "duration": 50,
    "start_time": "2022-05-08T15:44:41.357Z"
   },
   {
    "duration": 15,
    "start_time": "2022-05-08T15:44:41.425Z"
   },
   {
    "duration": 24,
    "start_time": "2022-05-08T15:44:41.441Z"
   },
   {
    "duration": 112,
    "start_time": "2022-05-08T15:44:41.467Z"
   },
   {
    "duration": 16,
    "start_time": "2022-05-08T15:44:41.581Z"
   },
   {
    "duration": 3,
    "start_time": "2022-05-08T15:44:41.599Z"
   },
   {
    "duration": 23,
    "start_time": "2022-05-08T15:44:41.608Z"
   },
   {
    "duration": 8,
    "start_time": "2022-05-08T15:44:41.634Z"
   },
   {
    "duration": 23,
    "start_time": "2022-05-08T15:44:41.644Z"
   },
   {
    "duration": 24,
    "start_time": "2022-05-08T15:44:41.669Z"
   },
   {
    "duration": 61,
    "start_time": "2022-05-08T15:44:41.694Z"
   },
   {
    "duration": 16,
    "start_time": "2022-05-08T15:44:41.757Z"
   },
   {
    "duration": 77,
    "start_time": "2022-05-08T15:44:41.776Z"
   },
   {
    "duration": 28,
    "start_time": "2022-05-08T15:44:41.855Z"
   },
   {
    "duration": 58,
    "start_time": "2022-05-08T15:44:41.885Z"
   },
   {
    "duration": 185,
    "start_time": "2022-05-08T15:44:41.944Z"
   },
   {
    "duration": 5,
    "start_time": "2022-05-08T15:44:42.135Z"
   },
   {
    "duration": 19,
    "start_time": "2022-05-08T15:44:42.142Z"
   },
   {
    "duration": 8,
    "start_time": "2022-05-08T15:44:42.163Z"
   },
   {
    "duration": 8,
    "start_time": "2022-05-08T15:44:42.173Z"
   },
   {
    "duration": 9,
    "start_time": "2022-05-08T15:44:42.183Z"
   },
   {
    "duration": 10,
    "start_time": "2022-05-08T15:44:42.193Z"
   },
   {
    "duration": 50,
    "start_time": "2022-05-08T15:44:42.205Z"
   },
   {
    "duration": 8,
    "start_time": "2022-05-08T15:44:42.257Z"
   },
   {
    "duration": 703,
    "start_time": "2022-05-08T15:44:42.267Z"
   },
   {
    "duration": 116,
    "start_time": "2022-05-08T15:44:43.026Z"
   },
   {
    "duration": 2196,
    "start_time": "2022-05-08T15:44:43.144Z"
   },
   {
    "duration": 26,
    "start_time": "2022-05-08T15:44:45.342Z"
   },
   {
    "duration": 6,
    "start_time": "2022-05-08T15:44:45.370Z"
   },
   {
    "duration": 47,
    "start_time": "2022-05-08T15:44:45.378Z"
   },
   {
    "duration": 3,
    "start_time": "2022-05-08T15:44:45.427Z"
   },
   {
    "duration": 22,
    "start_time": "2022-05-08T15:44:45.432Z"
   },
   {
    "duration": 5,
    "start_time": "2022-05-08T15:44:45.456Z"
   },
   {
    "duration": 1491,
    "start_time": "2022-05-08T15:44:45.463Z"
   },
   {
    "duration": 14,
    "start_time": "2022-05-08T15:44:46.957Z"
   },
   {
    "duration": 14,
    "start_time": "2022-05-08T15:44:46.973Z"
   },
   {
    "duration": 40,
    "start_time": "2022-05-08T15:44:46.989Z"
   },
   {
    "duration": 6,
    "start_time": "2022-05-08T15:44:47.032Z"
   },
   {
    "duration": 1439,
    "start_time": "2022-05-08T16:41:38.636Z"
   },
   {
    "duration": 470,
    "start_time": "2022-05-08T16:41:40.077Z"
   },
   {
    "duration": 23,
    "start_time": "2022-05-08T16:41:40.549Z"
   },
   {
    "duration": 10,
    "start_time": "2022-05-08T16:41:40.574Z"
   },
   {
    "duration": 10,
    "start_time": "2022-05-08T16:41:40.586Z"
   },
   {
    "duration": 15,
    "start_time": "2022-05-08T16:41:40.598Z"
   },
   {
    "duration": 16,
    "start_time": "2022-05-08T16:41:40.615Z"
   },
   {
    "duration": 368,
    "start_time": "2022-05-08T16:41:40.632Z"
   },
   {
    "duration": 3,
    "start_time": "2022-05-08T16:41:41.001Z"
   },
   {
    "duration": 5,
    "start_time": "2022-05-08T16:41:41.008Z"
   },
   {
    "duration": 37,
    "start_time": "2022-05-08T16:41:41.015Z"
   },
   {
    "duration": 129,
    "start_time": "2022-05-08T16:41:41.054Z"
   },
   {
    "duration": 12,
    "start_time": "2022-05-08T16:41:41.184Z"
   },
   {
    "duration": 33,
    "start_time": "2022-05-08T16:41:41.197Z"
   },
   {
    "duration": 115,
    "start_time": "2022-05-08T16:41:41.234Z"
   },
   {
    "duration": 6,
    "start_time": "2022-05-08T16:41:41.351Z"
   },
   {
    "duration": 990,
    "start_time": "2022-05-08T16:41:41.360Z"
   },
   {
    "duration": 4,
    "start_time": "2022-05-08T16:41:42.352Z"
   },
   {
    "duration": 13,
    "start_time": "2022-05-08T16:41:42.359Z"
   },
   {
    "duration": 62,
    "start_time": "2022-05-08T16:41:42.374Z"
   },
   {
    "duration": 35,
    "start_time": "2022-05-08T16:41:42.444Z"
   },
   {
    "duration": 165,
    "start_time": "2022-05-08T16:41:42.481Z"
   },
   {
    "duration": 13,
    "start_time": "2022-05-08T16:41:42.649Z"
   },
   {
    "duration": 9,
    "start_time": "2022-05-08T16:41:42.664Z"
   },
   {
    "duration": 200,
    "start_time": "2022-05-08T16:41:42.724Z"
   },
   {
    "duration": 15,
    "start_time": "2022-05-08T16:41:42.926Z"
   },
   {
    "duration": 5,
    "start_time": "2022-05-08T16:41:42.943Z"
   },
   {
    "duration": 12,
    "start_time": "2022-05-08T16:41:42.953Z"
   },
   {
    "duration": 59,
    "start_time": "2022-05-08T16:41:42.967Z"
   },
   {
    "duration": 30,
    "start_time": "2022-05-08T16:41:43.028Z"
   },
   {
    "duration": 72,
    "start_time": "2022-05-08T16:41:43.060Z"
   },
   {
    "duration": 107,
    "start_time": "2022-05-08T16:41:43.134Z"
   },
   {
    "duration": 18,
    "start_time": "2022-05-08T16:41:43.243Z"
   },
   {
    "duration": 196,
    "start_time": "2022-05-08T16:41:43.263Z"
   },
   {
    "duration": 87,
    "start_time": "2022-05-08T16:41:43.461Z"
   },
   {
    "duration": 89,
    "start_time": "2022-05-08T16:41:43.550Z"
   },
   {
    "duration": 279,
    "start_time": "2022-05-08T16:41:43.640Z"
   },
   {
    "duration": 5,
    "start_time": "2022-05-08T16:41:43.924Z"
   },
   {
    "duration": 21,
    "start_time": "2022-05-08T16:41:43.931Z"
   },
   {
    "duration": 9,
    "start_time": "2022-05-08T16:41:43.954Z"
   },
   {
    "duration": 12,
    "start_time": "2022-05-08T16:41:43.965Z"
   },
   {
    "duration": 8,
    "start_time": "2022-05-08T16:41:43.978Z"
   },
   {
    "duration": 23,
    "start_time": "2022-05-08T16:41:43.987Z"
   },
   {
    "duration": 20,
    "start_time": "2022-05-08T16:41:44.012Z"
   },
   {
    "duration": 295,
    "start_time": "2022-05-08T16:41:44.034Z"
   },
   {
    "duration": 49,
    "start_time": "2022-05-08T16:41:44.333Z"
   },
   {
    "duration": 1235,
    "start_time": "2022-05-08T16:41:44.383Z"
   },
   {
    "duration": 27,
    "start_time": "2022-05-08T16:41:45.619Z"
   },
   {
    "duration": 14,
    "start_time": "2022-05-08T16:41:45.648Z"
   },
   {
    "duration": 26,
    "start_time": "2022-05-08T16:41:45.664Z"
   },
   {
    "duration": 2,
    "start_time": "2022-05-08T16:41:45.692Z"
   },
   {
    "duration": 6,
    "start_time": "2022-05-08T16:41:45.696Z"
   },
   {
    "duration": 25,
    "start_time": "2022-05-08T16:41:45.703Z"
   },
   {
    "duration": 1109,
    "start_time": "2022-05-08T16:41:45.730Z"
   },
   {
    "duration": 14,
    "start_time": "2022-05-08T16:41:46.841Z"
   },
   {
    "duration": 13,
    "start_time": "2022-05-08T16:41:46.857Z"
   },
   {
    "duration": 12,
    "start_time": "2022-05-08T16:41:46.872Z"
   },
   {
    "duration": 7,
    "start_time": "2022-05-08T16:41:46.885Z"
   },
   {
    "duration": 5,
    "start_time": "2022-05-08T17:06:58.740Z"
   },
   {
    "duration": 68,
    "start_time": "2022-05-09T22:35:48.273Z"
   },
   {
    "duration": 69,
    "start_time": "2022-05-09T22:36:03.986Z"
   },
   {
    "duration": 0,
    "start_time": "2022-05-09T22:36:04.057Z"
   },
   {
    "duration": 0,
    "start_time": "2022-05-09T22:36:04.058Z"
   },
   {
    "duration": 0,
    "start_time": "2022-05-09T22:36:04.059Z"
   },
   {
    "duration": 0,
    "start_time": "2022-05-09T22:36:04.061Z"
   },
   {
    "duration": 0,
    "start_time": "2022-05-09T22:36:04.062Z"
   },
   {
    "duration": 0,
    "start_time": "2022-05-09T22:36:04.063Z"
   },
   {
    "duration": 0,
    "start_time": "2022-05-09T22:36:04.064Z"
   },
   {
    "duration": 0,
    "start_time": "2022-05-09T22:36:04.065Z"
   },
   {
    "duration": 0,
    "start_time": "2022-05-09T22:36:04.066Z"
   },
   {
    "duration": 0,
    "start_time": "2022-05-09T22:36:04.067Z"
   },
   {
    "duration": 0,
    "start_time": "2022-05-09T22:36:04.069Z"
   },
   {
    "duration": 0,
    "start_time": "2022-05-09T22:36:04.070Z"
   },
   {
    "duration": 0,
    "start_time": "2022-05-09T22:36:04.071Z"
   },
   {
    "duration": 0,
    "start_time": "2022-05-09T22:36:04.071Z"
   },
   {
    "duration": 64,
    "start_time": "2022-05-09T22:36:04.075Z"
   },
   {
    "duration": 0,
    "start_time": "2022-05-09T22:36:04.141Z"
   },
   {
    "duration": 0,
    "start_time": "2022-05-09T22:36:04.142Z"
   },
   {
    "duration": 0,
    "start_time": "2022-05-09T22:36:04.144Z"
   },
   {
    "duration": 0,
    "start_time": "2022-05-09T22:36:04.145Z"
   },
   {
    "duration": 0,
    "start_time": "2022-05-09T22:36:04.145Z"
   },
   {
    "duration": 0,
    "start_time": "2022-05-09T22:36:04.147Z"
   },
   {
    "duration": 0,
    "start_time": "2022-05-09T22:36:04.148Z"
   },
   {
    "duration": 0,
    "start_time": "2022-05-09T22:36:04.149Z"
   },
   {
    "duration": 0,
    "start_time": "2022-05-09T22:36:04.150Z"
   },
   {
    "duration": 0,
    "start_time": "2022-05-09T22:36:04.152Z"
   },
   {
    "duration": 0,
    "start_time": "2022-05-09T22:36:04.153Z"
   },
   {
    "duration": 0,
    "start_time": "2022-05-09T22:36:04.153Z"
   },
   {
    "duration": 0,
    "start_time": "2022-05-09T22:36:04.155Z"
   },
   {
    "duration": 0,
    "start_time": "2022-05-09T22:36:04.156Z"
   },
   {
    "duration": 0,
    "start_time": "2022-05-09T22:36:04.207Z"
   },
   {
    "duration": 0,
    "start_time": "2022-05-09T22:36:04.209Z"
   },
   {
    "duration": 0,
    "start_time": "2022-05-09T22:36:04.210Z"
   },
   {
    "duration": 0,
    "start_time": "2022-05-09T22:36:04.211Z"
   },
   {
    "duration": 0,
    "start_time": "2022-05-09T22:36:04.212Z"
   },
   {
    "duration": 0,
    "start_time": "2022-05-09T22:36:04.213Z"
   },
   {
    "duration": 0,
    "start_time": "2022-05-09T22:36:04.214Z"
   },
   {
    "duration": 0,
    "start_time": "2022-05-09T22:36:04.216Z"
   },
   {
    "duration": 1,
    "start_time": "2022-05-09T22:36:04.216Z"
   },
   {
    "duration": 0,
    "start_time": "2022-05-09T22:36:04.218Z"
   },
   {
    "duration": 0,
    "start_time": "2022-05-09T22:36:04.219Z"
   },
   {
    "duration": 0,
    "start_time": "2022-05-09T22:36:04.220Z"
   },
   {
    "duration": 0,
    "start_time": "2022-05-09T22:36:04.221Z"
   },
   {
    "duration": 0,
    "start_time": "2022-05-09T22:36:04.222Z"
   },
   {
    "duration": 0,
    "start_time": "2022-05-09T22:36:04.223Z"
   },
   {
    "duration": 0,
    "start_time": "2022-05-09T22:36:04.224Z"
   },
   {
    "duration": 12,
    "start_time": "2022-05-09T22:36:04.227Z"
   },
   {
    "duration": 0,
    "start_time": "2022-05-09T22:36:04.241Z"
   },
   {
    "duration": 0,
    "start_time": "2022-05-09T22:36:04.242Z"
   },
   {
    "duration": 0,
    "start_time": "2022-05-09T22:36:04.244Z"
   },
   {
    "duration": 1217,
    "start_time": "2022-05-09T22:38:21.706Z"
   },
   {
    "duration": 456,
    "start_time": "2022-05-09T22:38:22.925Z"
   },
   {
    "duration": 17,
    "start_time": "2022-05-09T22:38:23.383Z"
   },
   {
    "duration": 13,
    "start_time": "2022-05-09T22:38:23.402Z"
   },
   {
    "duration": 6,
    "start_time": "2022-05-09T22:38:23.417Z"
   },
   {
    "duration": 13,
    "start_time": "2022-05-09T22:38:23.424Z"
   },
   {
    "duration": 27,
    "start_time": "2022-05-09T22:38:23.438Z"
   },
   {
    "duration": 148,
    "start_time": "2022-05-09T22:38:23.467Z"
   },
   {
    "duration": 6,
    "start_time": "2022-05-09T22:38:23.616Z"
   },
   {
    "duration": 14,
    "start_time": "2022-05-09T22:38:23.624Z"
   },
   {
    "duration": 23,
    "start_time": "2022-05-09T22:38:23.639Z"
   },
   {
    "duration": 83,
    "start_time": "2022-05-09T22:38:23.664Z"
   },
   {
    "duration": 5,
    "start_time": "2022-05-09T22:38:23.749Z"
   },
   {
    "duration": 13,
    "start_time": "2022-05-09T22:38:23.756Z"
   },
   {
    "duration": 42,
    "start_time": "2022-05-09T22:38:23.770Z"
   },
   {
    "duration": 54,
    "start_time": "2022-05-09T22:38:23.813Z"
   },
   {
    "duration": 9,
    "start_time": "2022-05-09T22:38:23.869Z"
   },
   {
    "duration": 35,
    "start_time": "2022-05-09T22:38:23.879Z"
   },
   {
    "duration": 77,
    "start_time": "2022-05-09T22:38:23.916Z"
   },
   {
    "duration": 28,
    "start_time": "2022-05-09T22:38:23.995Z"
   },
   {
    "duration": 2,
    "start_time": "2022-05-09T22:38:24.025Z"
   },
   {
    "duration": 6,
    "start_time": "2022-05-09T22:38:24.029Z"
   },
   {
    "duration": 9,
    "start_time": "2022-05-09T22:38:24.037Z"
   },
   {
    "duration": 7,
    "start_time": "2022-05-09T22:38:24.047Z"
   },
   {
    "duration": 52,
    "start_time": "2022-05-09T22:38:24.056Z"
   },
   {
    "duration": 50,
    "start_time": "2022-05-09T22:38:24.110Z"
   },
   {
    "duration": 14,
    "start_time": "2022-05-09T22:38:24.162Z"
   },
   {
    "duration": 89,
    "start_time": "2022-05-09T22:38:24.179Z"
   },
   {
    "duration": 38,
    "start_time": "2022-05-09T22:38:24.270Z"
   },
   {
    "duration": 31,
    "start_time": "2022-05-09T22:38:24.310Z"
   },
   {
    "duration": 113,
    "start_time": "2022-05-09T22:38:24.342Z"
   },
   {
    "duration": 5,
    "start_time": "2022-05-09T22:38:24.456Z"
   },
   {
    "duration": 6,
    "start_time": "2022-05-09T22:38:24.462Z"
   },
   {
    "duration": 6,
    "start_time": "2022-05-09T22:38:24.469Z"
   },
   {
    "duration": 8,
    "start_time": "2022-05-09T22:38:24.476Z"
   },
   {
    "duration": 8,
    "start_time": "2022-05-09T22:38:24.507Z"
   },
   {
    "duration": 20,
    "start_time": "2022-05-09T22:38:24.517Z"
   },
   {
    "duration": 8,
    "start_time": "2022-05-09T22:38:24.539Z"
   },
   {
    "duration": 361,
    "start_time": "2022-05-09T22:38:24.549Z"
   },
   {
    "duration": 96,
    "start_time": "2022-05-09T22:38:24.912Z"
   },
   {
    "duration": 2070,
    "start_time": "2022-05-09T22:38:25.009Z"
   },
   {
    "duration": 35,
    "start_time": "2022-05-09T22:38:27.080Z"
   },
   {
    "duration": 6,
    "start_time": "2022-05-09T22:38:27.117Z"
   },
   {
    "duration": 27,
    "start_time": "2022-05-09T22:38:27.124Z"
   },
   {
    "duration": 1046,
    "start_time": "2022-05-09T22:38:27.152Z"
   },
   {
    "duration": 13,
    "start_time": "2022-05-09T22:38:28.200Z"
   },
   {
    "duration": 10,
    "start_time": "2022-05-09T22:38:28.215Z"
   },
   {
    "duration": 15,
    "start_time": "2022-05-09T22:38:28.226Z"
   },
   {
    "duration": 6,
    "start_time": "2022-05-09T22:38:28.242Z"
   },
   {
    "duration": 1108,
    "start_time": "2022-05-09T22:38:44.051Z"
   },
   {
    "duration": 416,
    "start_time": "2022-05-09T22:38:45.161Z"
   },
   {
    "duration": 15,
    "start_time": "2022-05-09T22:38:45.579Z"
   },
   {
    "duration": 13,
    "start_time": "2022-05-09T22:38:45.596Z"
   },
   {
    "duration": 7,
    "start_time": "2022-05-09T22:38:45.610Z"
   },
   {
    "duration": 11,
    "start_time": "2022-05-09T22:38:45.619Z"
   },
   {
    "duration": 26,
    "start_time": "2022-05-09T22:38:45.632Z"
   },
   {
    "duration": 150,
    "start_time": "2022-05-09T22:38:45.660Z"
   },
   {
    "duration": 6,
    "start_time": "2022-05-09T22:38:45.811Z"
   },
   {
    "duration": 13,
    "start_time": "2022-05-09T22:38:45.821Z"
   },
   {
    "duration": 23,
    "start_time": "2022-05-09T22:38:45.836Z"
   },
   {
    "duration": 85,
    "start_time": "2022-05-09T22:38:45.860Z"
   },
   {
    "duration": 6,
    "start_time": "2022-05-09T22:38:45.947Z"
   },
   {
    "duration": 12,
    "start_time": "2022-05-09T22:38:45.954Z"
   },
   {
    "duration": 40,
    "start_time": "2022-05-09T22:38:45.968Z"
   },
   {
    "duration": 49,
    "start_time": "2022-05-09T22:38:46.010Z"
   },
   {
    "duration": 9,
    "start_time": "2022-05-09T22:38:46.061Z"
   },
   {
    "duration": 40,
    "start_time": "2022-05-09T22:38:46.072Z"
   },
   {
    "duration": 74,
    "start_time": "2022-05-09T22:38:46.114Z"
   },
   {
    "duration": 25,
    "start_time": "2022-05-09T22:38:46.190Z"
   },
   {
    "duration": 3,
    "start_time": "2022-05-09T22:38:46.217Z"
   },
   {
    "duration": 5,
    "start_time": "2022-05-09T22:38:46.222Z"
   },
   {
    "duration": 8,
    "start_time": "2022-05-09T22:38:46.229Z"
   },
   {
    "duration": 5,
    "start_time": "2022-05-09T22:38:46.239Z"
   },
   {
    "duration": 18,
    "start_time": "2022-05-09T22:38:46.246Z"
   },
   {
    "duration": 109,
    "start_time": "2022-05-09T22:38:46.307Z"
   },
   {
    "duration": 13,
    "start_time": "2022-05-09T22:38:46.418Z"
   },
   {
    "duration": 119,
    "start_time": "2022-05-09T22:38:46.435Z"
   },
   {
    "duration": 27,
    "start_time": "2022-05-09T22:38:46.608Z"
   },
   {
    "duration": 88,
    "start_time": "2022-05-09T22:38:46.637Z"
   },
   {
    "duration": 199,
    "start_time": "2022-05-09T22:38:46.727Z"
   },
   {
    "duration": 5,
    "start_time": "2022-05-09T22:38:46.927Z"
   },
   {
    "duration": 5,
    "start_time": "2022-05-09T22:38:46.934Z"
   },
   {
    "duration": 8,
    "start_time": "2022-05-09T22:38:46.941Z"
   },
   {
    "duration": 60,
    "start_time": "2022-05-09T22:38:46.951Z"
   },
   {
    "duration": 9,
    "start_time": "2022-05-09T22:38:47.013Z"
   },
   {
    "duration": 20,
    "start_time": "2022-05-09T22:38:47.024Z"
   },
   {
    "duration": 67,
    "start_time": "2022-05-09T22:38:47.045Z"
   },
   {
    "duration": 606,
    "start_time": "2022-05-09T22:38:47.114Z"
   },
   {
    "duration": 93,
    "start_time": "2022-05-09T22:38:47.721Z"
   },
   {
    "duration": 2280,
    "start_time": "2022-05-09T22:38:47.816Z"
   },
   {
    "duration": 28,
    "start_time": "2022-05-09T22:38:50.098Z"
   },
   {
    "duration": 6,
    "start_time": "2022-05-09T22:38:50.128Z"
   },
   {
    "duration": 28,
    "start_time": "2022-05-09T22:38:50.135Z"
   },
   {
    "duration": 1077,
    "start_time": "2022-05-09T22:38:50.165Z"
   },
   {
    "duration": 11,
    "start_time": "2022-05-09T22:38:51.244Z"
   },
   {
    "duration": 10,
    "start_time": "2022-05-09T22:38:51.257Z"
   },
   {
    "duration": 13,
    "start_time": "2022-05-09T22:38:51.268Z"
   },
   {
    "duration": 6,
    "start_time": "2022-05-09T22:38:51.307Z"
   },
   {
    "duration": 1199,
    "start_time": "2022-05-09T22:39:22.321Z"
   },
   {
    "duration": 434,
    "start_time": "2022-05-09T22:39:23.522Z"
   },
   {
    "duration": 17,
    "start_time": "2022-05-09T22:39:23.957Z"
   },
   {
    "duration": 12,
    "start_time": "2022-05-09T22:39:23.976Z"
   },
   {
    "duration": 19,
    "start_time": "2022-05-09T22:39:23.989Z"
   },
   {
    "duration": 12,
    "start_time": "2022-05-09T22:39:24.009Z"
   },
   {
    "duration": 27,
    "start_time": "2022-05-09T22:39:24.022Z"
   },
   {
    "duration": 135,
    "start_time": "2022-05-09T22:39:24.050Z"
   },
   {
    "duration": 5,
    "start_time": "2022-05-09T22:39:24.186Z"
   },
   {
    "duration": 24,
    "start_time": "2022-05-09T22:39:24.194Z"
   },
   {
    "duration": 24,
    "start_time": "2022-05-09T22:39:24.220Z"
   },
   {
    "duration": 69,
    "start_time": "2022-05-09T22:39:24.245Z"
   },
   {
    "duration": 5,
    "start_time": "2022-05-09T22:39:24.316Z"
   },
   {
    "duration": 12,
    "start_time": "2022-05-09T22:39:24.323Z"
   },
   {
    "duration": 20,
    "start_time": "2022-05-09T22:39:24.337Z"
   },
   {
    "duration": 77,
    "start_time": "2022-05-09T22:39:24.358Z"
   },
   {
    "duration": 8,
    "start_time": "2022-05-09T22:39:24.437Z"
   },
   {
    "duration": 10,
    "start_time": "2022-05-09T22:39:24.447Z"
   },
   {
    "duration": 103,
    "start_time": "2022-05-09T22:39:24.459Z"
   },
   {
    "duration": 17,
    "start_time": "2022-05-09T22:39:24.565Z"
   },
   {
    "duration": 3,
    "start_time": "2022-05-09T22:39:24.584Z"
   },
   {
    "duration": 19,
    "start_time": "2022-05-09T22:39:24.588Z"
   },
   {
    "duration": 8,
    "start_time": "2022-05-09T22:39:24.609Z"
   },
   {
    "duration": 4,
    "start_time": "2022-05-09T22:39:24.619Z"
   },
   {
    "duration": 17,
    "start_time": "2022-05-09T22:39:24.625Z"
   },
   {
    "duration": 70,
    "start_time": "2022-05-09T22:39:24.644Z"
   },
   {
    "duration": 14,
    "start_time": "2022-05-09T22:39:24.716Z"
   },
   {
    "duration": 84,
    "start_time": "2022-05-09T22:39:24.733Z"
   },
   {
    "duration": 26,
    "start_time": "2022-05-09T22:39:24.819Z"
   },
   {
    "duration": 29,
    "start_time": "2022-05-09T22:39:24.847Z"
   },
   {
    "duration": 116,
    "start_time": "2022-05-09T22:39:24.878Z"
   },
   {
    "duration": 11,
    "start_time": "2022-05-09T22:39:24.996Z"
   },
   {
    "duration": 4,
    "start_time": "2022-05-09T22:39:25.009Z"
   },
   {
    "duration": 6,
    "start_time": "2022-05-09T22:39:25.014Z"
   },
   {
    "duration": 9,
    "start_time": "2022-05-09T22:39:25.022Z"
   },
   {
    "duration": 9,
    "start_time": "2022-05-09T22:39:25.032Z"
   },
   {
    "duration": 21,
    "start_time": "2022-05-09T22:39:25.042Z"
   },
   {
    "duration": 7,
    "start_time": "2022-05-09T22:39:25.065Z"
   },
   {
    "duration": 328,
    "start_time": "2022-05-09T22:39:25.108Z"
   },
   {
    "duration": 40,
    "start_time": "2022-05-09T22:39:25.437Z"
   },
   {
    "duration": 1396,
    "start_time": "2022-05-09T22:39:25.479Z"
   },
   {
    "duration": 36,
    "start_time": "2022-05-09T22:39:26.877Z"
   },
   {
    "duration": 6,
    "start_time": "2022-05-09T22:39:26.914Z"
   },
   {
    "duration": 27,
    "start_time": "2022-05-09T22:39:26.922Z"
   },
   {
    "duration": 1068,
    "start_time": "2022-05-09T22:39:26.951Z"
   },
   {
    "duration": 11,
    "start_time": "2022-05-09T22:39:28.021Z"
   },
   {
    "duration": 11,
    "start_time": "2022-05-09T22:39:28.033Z"
   },
   {
    "duration": 16,
    "start_time": "2022-05-09T22:39:28.045Z"
   },
   {
    "duration": 11,
    "start_time": "2022-05-09T22:39:28.063Z"
   },
   {
    "duration": 1878,
    "start_time": "2022-05-10T06:46:52.864Z"
   },
   {
    "duration": 638,
    "start_time": "2022-05-10T06:46:54.745Z"
   },
   {
    "duration": 25,
    "start_time": "2022-05-10T06:46:55.385Z"
   },
   {
    "duration": 17,
    "start_time": "2022-05-10T06:46:55.413Z"
   },
   {
    "duration": 12,
    "start_time": "2022-05-10T06:46:55.432Z"
   },
   {
    "duration": 15,
    "start_time": "2022-05-10T06:46:55.446Z"
   },
   {
    "duration": 62,
    "start_time": "2022-05-10T06:46:55.463Z"
   },
   {
    "duration": 171,
    "start_time": "2022-05-10T06:46:55.527Z"
   },
   {
    "duration": 6,
    "start_time": "2022-05-10T06:46:55.700Z"
   },
   {
    "duration": 18,
    "start_time": "2022-05-10T06:46:55.710Z"
   },
   {
    "duration": 28,
    "start_time": "2022-05-10T06:46:55.730Z"
   },
   {
    "duration": 107,
    "start_time": "2022-05-10T06:46:55.760Z"
   },
   {
    "duration": 6,
    "start_time": "2022-05-10T06:46:55.869Z"
   },
   {
    "duration": 16,
    "start_time": "2022-05-10T06:46:55.893Z"
   },
   {
    "duration": 26,
    "start_time": "2022-05-10T06:46:55.911Z"
   },
   {
    "duration": 106,
    "start_time": "2022-05-10T06:46:55.939Z"
   },
   {
    "duration": 12,
    "start_time": "2022-05-10T06:46:56.047Z"
   },
   {
    "duration": 34,
    "start_time": "2022-05-10T06:46:56.061Z"
   },
   {
    "duration": 117,
    "start_time": "2022-05-10T06:46:56.098Z"
   },
   {
    "duration": 20,
    "start_time": "2022-05-10T06:46:56.217Z"
   },
   {
    "duration": 4,
    "start_time": "2022-05-10T06:46:56.239Z"
   },
   {
    "duration": 7,
    "start_time": "2022-05-10T06:46:56.245Z"
   },
   {
    "duration": 44,
    "start_time": "2022-05-10T06:46:56.254Z"
   },
   {
    "duration": 7,
    "start_time": "2022-05-10T06:46:56.301Z"
   },
   {
    "duration": 25,
    "start_time": "2022-05-10T06:46:56.310Z"
   },
   {
    "duration": 88,
    "start_time": "2022-05-10T06:46:56.338Z"
   },
   {
    "duration": 21,
    "start_time": "2022-05-10T06:46:56.428Z"
   },
   {
    "duration": 115,
    "start_time": "2022-05-10T06:46:56.454Z"
   },
   {
    "duration": 44,
    "start_time": "2022-05-10T06:46:56.571Z"
   },
   {
    "duration": 41,
    "start_time": "2022-05-10T06:46:56.617Z"
   },
   {
    "duration": 158,
    "start_time": "2022-05-10T06:46:56.660Z"
   },
   {
    "duration": 5,
    "start_time": "2022-05-10T06:46:56.820Z"
   },
   {
    "duration": 15,
    "start_time": "2022-05-10T06:46:56.827Z"
   },
   {
    "duration": 12,
    "start_time": "2022-05-10T06:46:56.844Z"
   },
   {
    "duration": 36,
    "start_time": "2022-05-10T06:46:56.858Z"
   },
   {
    "duration": 14,
    "start_time": "2022-05-10T06:46:56.897Z"
   },
   {
    "duration": 31,
    "start_time": "2022-05-10T06:46:56.913Z"
   },
   {
    "duration": 14,
    "start_time": "2022-05-10T06:46:56.946Z"
   },
   {
    "duration": 473,
    "start_time": "2022-05-10T06:46:56.995Z"
   },
   {
    "duration": 69,
    "start_time": "2022-05-10T06:46:57.470Z"
   },
   {
    "duration": 2031,
    "start_time": "2022-05-10T06:46:57.541Z"
   },
   {
    "duration": 45,
    "start_time": "2022-05-10T06:46:59.574Z"
   },
   {
    "duration": 8,
    "start_time": "2022-05-10T06:46:59.622Z"
   },
   {
    "duration": 34,
    "start_time": "2022-05-10T06:46:59.633Z"
   },
   {
    "duration": 1557,
    "start_time": "2022-05-10T06:46:59.669Z"
   },
   {
    "duration": 16,
    "start_time": "2022-05-10T06:47:01.228Z"
   },
   {
    "duration": 23,
    "start_time": "2022-05-10T06:47:01.246Z"
   },
   {
    "duration": 38,
    "start_time": "2022-05-10T06:47:01.272Z"
   },
   {
    "duration": 11,
    "start_time": "2022-05-10T06:47:01.312Z"
   },
   {
    "duration": 3764,
    "start_time": "2022-05-10T06:49:26.243Z"
   },
   {
    "duration": 3151,
    "start_time": "2022-05-10T06:49:45.944Z"
   },
   {
    "duration": 7,
    "start_time": "2022-05-10T06:50:16.931Z"
   },
   {
    "duration": 94,
    "start_time": "2022-05-10T06:58:51.541Z"
   },
   {
    "duration": 13,
    "start_time": "2022-05-10T07:00:10.597Z"
   },
   {
    "duration": 14,
    "start_time": "2022-05-10T07:00:18.828Z"
   },
   {
    "duration": 108,
    "start_time": "2022-05-10T07:01:43.508Z"
   },
   {
    "duration": 13,
    "start_time": "2022-05-10T07:01:49.923Z"
   },
   {
    "duration": 97,
    "start_time": "2022-05-10T07:01:58.259Z"
   },
   {
    "duration": 15,
    "start_time": "2022-05-10T07:04:35.715Z"
   },
   {
    "duration": 17,
    "start_time": "2022-05-10T07:04:50.129Z"
   },
   {
    "duration": 269,
    "start_time": "2022-05-10T07:14:08.964Z"
   },
   {
    "duration": 109,
    "start_time": "2022-05-10T07:14:16.307Z"
   },
   {
    "duration": 14,
    "start_time": "2022-05-10T07:15:10.075Z"
   },
   {
    "duration": 92,
    "start_time": "2022-05-10T07:16:39.268Z"
   },
   {
    "duration": 97,
    "start_time": "2022-05-10T07:16:51.979Z"
   },
   {
    "duration": 141,
    "start_time": "2022-05-10T07:17:46.370Z"
   },
   {
    "duration": 82,
    "start_time": "2022-05-10T07:18:14.417Z"
   }
  ],
  "kernelspec": {
   "display_name": "Python 3 (ipykernel)",
   "language": "python",
   "name": "python3"
  },
  "language_info": {
   "codemirror_mode": {
    "name": "ipython",
    "version": 3
   },
   "file_extension": ".py",
   "mimetype": "text/x-python",
   "name": "python",
   "nbconvert_exporter": "python",
   "pygments_lexer": "ipython3",
   "version": "3.9.7"
  },
  "toc": {
   "base_numbering": 1,
   "nav_menu": {
    "height": "209px",
    "width": "512px"
   },
   "number_sections": true,
   "sideBar": true,
   "skip_h1_title": true,
   "title_cell": "Содержание",
   "title_sidebar": "Contents",
   "toc_cell": true,
   "toc_position": {
    "height": "618.4px",
    "left": "132px",
    "top": "151.125px",
    "width": "376.806px"
   },
   "toc_section_display": true,
   "toc_window_display": true
  }
 },
 "nbformat": 4,
 "nbformat_minor": 5
}
